{
 "cells": [
  {
   "cell_type": "code",
   "execution_count": 2,
   "metadata": {},
   "outputs": [],
   "source": [
    "import pandas as pd\n",
    "\n",
    "from deepl_translator import translate_text"
   ]
  },
  {
   "cell_type": "code",
   "execution_count": null,
   "metadata": {},
   "outputs": [],
   "source": [
    "excel_file_path = r\"D:\\OneDrive - SİVİL HUKUK DERNEĞi\\Documents\\IRM\\Impact Evaluation\\Survey Data and Reports\\IRM_Final_Evaluation_Data_Sep24.xlsx\""
   ]
  },
  {
   "cell_type": "code",
   "execution_count": null,
   "metadata": {},
   "outputs": [],
   "source": [
    "open_questions = pd.read_excel(excel_file_path, sheet_name=\"open_questions\")"
   ]
  },
  {
   "cell_type": "code",
   "execution_count": null,
   "metadata": {},
   "outputs": [],
   "source": [
    "column_rename_mapping = {\n",
    "    \"today\": \"date\",\n",
    "    \"Is this a real interview, or are you just practicing?\": \"interview_type\",\n",
    "    \"Researcher's name.\": \"dc_name\",\n",
    "    \"Can you explain a bit more about this? (for the data collector: related to questions on gossip, exclusion and respect from community)\": \"gossip_exclusion_exp\",\n",
    "    \"Please explain.\": \"exp_1\",\n",
    "    \"Please explain.2\": \"exp_2\",\n",
    "    \"Please explain.3\": \"exp_3\",\n",
    "    \"Please explain.4\": \"exp_4\",\n",
    "    \"What challenges did you face participating in the project?\": \"participation_challenges\",\n",
    "    \"Please explain.5\": \"exp_5\",\n",
    "    \"Would you like to provide any feedback on the people involved in this process? Remember this survey is anonymous.\": \"feedback_on_team\",\n",
    "    \"What would make you feel safer?\": \"safety_suggestions\",\n",
    "    \"Can you explain? How did the project improved your physical wellbeing? Or why did it not?\": \"physical_wellbeing_exp\",\n",
    "    \"Can you explain? How did the project improved your mental wellbeing? Or why did it not?\": \"mental_wellbeing_exp\",\n",
    "    \"Can you explain? How did the project improved your financial wellbeing? Or why did it not?\": \"financial_wellbeing_exp\",\n",
    "    \"Can you explain? How did the project improved your family wellbeing? Or why did it not?\": \"family_wellbeing_exp\",\n",
    "    \"Can you explain? How did the project made you feel recognized? Or why did it not?\": \"recognition_exp\",\n",
    "    \"Can you explain? How did the project gave you a sense of justice or why did it not?\": \"sense_of_justice_exp\",\n",
    "    \"Can you explain? How has your sense of dignity increased or why did it not?\": \"dignity_exp\",\n",
    "    \"What has been the most significant impact of the IRM project on your life? [Note to researchers: please take the time to properly write down what the survivor says.]\": \"most_significant_impact\",\n",
    "    \"Is there anything else that you think it is important for me to know about your participation in this process?\": \"additional_participation_info\",\n",
    "    \"How has the support provided through this project impacted your self-worth or self-esteem?\": \"self_worth_impact\",\n",
    "}"
   ]
  },
  {
   "cell_type": "code",
   "execution_count": null,
   "metadata": {},
   "outputs": [],
   "source": [
    "open_questions.rename(columns=column_rename_mapping, inplace=True)"
   ]
  },
  {
   "cell_type": "code",
   "execution_count": null,
   "metadata": {},
   "outputs": [],
   "source": [
    "open_questions.head(1)"
   ]
  },
  {
   "cell_type": "code",
   "execution_count": null,
   "metadata": {},
   "outputs": [],
   "source": [
    "# open_questions.columns.get_loc('exp_1')"
   ]
  },
  {
   "cell_type": "code",
   "execution_count": null,
   "metadata": {},
   "outputs": [],
   "source": []
  },
  {
   "cell_type": "code",
   "execution_count": null,
   "metadata": {},
   "outputs": [],
   "source": [
    "open_questions[\"gossip_exc_exp_en\"] = open_questions[\"gossip_exclusion_exp\"].apply(\n",
    "    translate_text\n",
    ")"
   ]
  },
  {
   "cell_type": "code",
   "execution_count": null,
   "metadata": {},
   "outputs": [],
   "source": [
    "open_questions.head(1)"
   ]
  },
  {
   "cell_type": "code",
   "execution_count": null,
   "metadata": {},
   "outputs": [],
   "source": [
    "df.insert(1, new_column_name, new_column_value)"
   ]
  },
  {
   "cell_type": "code",
   "execution_count": null,
   "metadata": {},
   "outputs": [],
   "source": [
    "open_questions[\"gossip_exclusion_exp\"].apply(translate_text)"
   ]
  },
  {
   "cell_type": "code",
   "execution_count": null,
   "metadata": {},
   "outputs": [],
   "source": [
    "open_questions[\"gossip_exc_exp_en\"].to_clipboard()"
   ]
  },
  {
   "cell_type": "code",
   "execution_count": null,
   "metadata": {},
   "outputs": [],
   "source": [
    "open_questions[\"gossip_exclusion_exp\"].to_clipboard()"
   ]
  },
  {
   "cell_type": "markdown",
   "metadata": {},
   "source": [
    "# "
   ]
  }
 ],
 "metadata": {
  "kernelspec": {
   "display_name": "Python 3 (ipykernel)",
   "language": "python",
   "name": "python3"
  },
  "language_info": {
   "codemirror_mode": {
    "name": "ipython",
    "version": 3
   },
   "file_extension": ".py",
   "mimetype": "text/x-python",
   "name": "python",
   "nbconvert_exporter": "python",
   "pygments_lexer": "ipython3",
   "version": "3.12.2"
  }
 },
 "nbformat": 4,
 "nbformat_minor": 4
}
