{
 "cells": [
  {
   "cell_type": "code",
   "id": "initial_id",
   "metadata": {
    "collapsed": true,
    "ExecuteTime": {
     "end_time": "2024-08-16T13:45:24.473814Z",
     "start_time": "2024-08-16T13:45:23.570628Z"
    }
   },
   "source": "from src.all_in_one import *",
   "outputs": [],
   "execution_count": 1
  },
  {
   "metadata": {
    "ExecuteTime": {
     "end_time": "2024-08-16T13:45:24.974951Z",
     "start_time": "2024-08-16T13:45:24.475825Z"
    }
   },
   "cell_type": "code",
   "source": "ref = pd.read_excel(r'D:\\fc-performeter\\notebooks\\referrals.xlsx', engine='openpyxl')",
   "id": "f554bd2dca6e0e11",
   "outputs": [
    {
     "name": "stderr",
     "output_type": "stream",
     "text": [
      "C:\\Users\\myagh\\AppData\\Local\\Programs\\Python\\Python312\\Lib\\site-packages\\openpyxl\\worksheet\\_reader.py:329: UserWarning: Data Validation extension is not supported and will be removed\n",
      "  warn(msg)\n"
     ]
    }
   ],
   "execution_count": 2
  },
  {
   "metadata": {
    "ExecuteTime": {
     "end_time": "2024-08-16T13:45:24.984556Z",
     "start_time": "2024-08-16T13:45:24.976954Z"
    }
   },
   "cell_type": "code",
   "source": [
    "# Mapping referral directions\n",
    "ref.insert(6, 'ext_ref', ref['OutgoingInternalIngoing'].apply(lambda x: 'Yes' if x == 'outgoing' else 'No' )) # cases referred from ADMSP to Others\n",
    "ref.insert(7, 'int_ref', ref['OutgoingInternalIngoing'].apply(lambda x: 'Yes' if x == 'internal' else 'No' )) # cases internally referred\n",
    "ref.insert(8, 'rec_ref', ref['OutgoingInternalIngoing'].apply(lambda x: 'Yes' if x == 'ingoing' else 'No' ))  # cases received from others"
   ],
   "id": "afd59eee30b1e80f",
   "outputs": [],
   "execution_count": 3
  },
  {
   "metadata": {
    "ExecuteTime": {
     "end_time": "2024-08-16T13:45:24.992455Z",
     "start_time": "2024-08-16T13:45:24.986521Z"
    }
   },
   "cell_type": "code",
   "source": [
    "# Choose what columns are not needed here\n",
    "ref = ref.drop(columns=['age', 'country', 'personal/familyMember', 'familyMemberNumber', 'group/individual', 'OutgoingInternalIngoing', 'note'])"
   ],
   "id": "8395375f51ac5c5f",
   "outputs": [],
   "execution_count": 4
  },
  {
   "metadata": {
    "ExecuteTime": {
     "end_time": "2024-08-16T13:45:25.001456Z",
     "start_time": "2024-08-16T13:45:24.995458Z"
    }
   },
   "cell_type": "code",
   "source": [
    "# columns renaming\n",
    "ref.rename(columns={\n",
    "    'referral_ID': 'rid',\n",
    "    'FC_ID': 'fcid',\n",
    "    'beneficiaryName': 'ben_name',\n",
    "    'gender': 'sex',\n",
    "    'socialAssessmentDate': 'social_ass_date',\n",
    "    'referralDate': 'ref_date',\n",
    "    'referredToFromEntity': 'entity',\n",
    "}, inplace=True)"
   ],
   "id": "bd827cca2418675e",
   "outputs": [],
   "execution_count": 5
  },
  {
   "metadata": {
    "ExecuteTime": {
     "end_time": "2024-08-16T13:45:25.013982Z",
     "start_time": "2024-08-16T13:45:25.003468Z"
    }
   },
   "cell_type": "code",
   "source": [
    "# Type transformation\n",
    "ref['fcid'] = ref['fcid'].astype(\"Int64\")\n",
    "ref['ref_date'] = pd.to_datetime(ref['ref_date'])"
   ],
   "id": "f74bfc9d3f2dc789",
   "outputs": [],
   "execution_count": 6
  },
  {
   "metadata": {
    "ExecuteTime": {
     "end_time": "2024-08-16T13:45:25.034458Z",
     "start_time": "2024-08-16T13:45:25.014983Z"
    }
   },
   "cell_type": "code",
   "source": "ref.head()",
   "id": "70e0160b49c5f747",
   "outputs": [
    {
     "data": {
      "text/plain": [
       "   #    rid        fcid      ben_name     sex ext_ref int_ref rec_ref   need  \\\n",
       "0  1  R0007  8110020016      نور أشقر  Female      No      No      No  Other   \n",
       "1  2  R0007  8110020016      نور أشقر  Female      No      No      No  Other   \n",
       "2  3    NaN  8110030014     سهام حمام  Female      No      No      No  MHPSS   \n",
       "3  4  R0001  8110020026  كوثر العيسى   Female      No      No      No  Other   \n",
       "4  5  R0019  8110020031   دينا حياني   Female      No      No      No  MHPSS   \n",
       "\n",
       "  social_ass_date   ref_date entity  \n",
       "0             NaT 2020-01-13  UOSSM  \n",
       "1             NaT 2020-02-19    IDA  \n",
       "2             NaT 2020-01-31   SAMS  \n",
       "3             NaT 2020-02-04    IDA  \n",
       "4             NaT 2020-02-19   SAMS  "
      ],
      "text/html": [
       "<div>\n",
       "<style scoped>\n",
       "    .dataframe tbody tr th:only-of-type {\n",
       "        vertical-align: middle;\n",
       "    }\n",
       "\n",
       "    .dataframe tbody tr th {\n",
       "        vertical-align: top;\n",
       "    }\n",
       "\n",
       "    .dataframe thead th {\n",
       "        text-align: right;\n",
       "    }\n",
       "</style>\n",
       "<table border=\"1\" class=\"dataframe\">\n",
       "  <thead>\n",
       "    <tr style=\"text-align: right;\">\n",
       "      <th></th>\n",
       "      <th>#</th>\n",
       "      <th>rid</th>\n",
       "      <th>fcid</th>\n",
       "      <th>ben_name</th>\n",
       "      <th>sex</th>\n",
       "      <th>ext_ref</th>\n",
       "      <th>int_ref</th>\n",
       "      <th>rec_ref</th>\n",
       "      <th>need</th>\n",
       "      <th>social_ass_date</th>\n",
       "      <th>ref_date</th>\n",
       "      <th>entity</th>\n",
       "    </tr>\n",
       "  </thead>\n",
       "  <tbody>\n",
       "    <tr>\n",
       "      <th>0</th>\n",
       "      <td>1</td>\n",
       "      <td>R0007</td>\n",
       "      <td>8110020016</td>\n",
       "      <td>نور أشقر</td>\n",
       "      <td>Female</td>\n",
       "      <td>No</td>\n",
       "      <td>No</td>\n",
       "      <td>No</td>\n",
       "      <td>Other</td>\n",
       "      <td>NaT</td>\n",
       "      <td>2020-01-13</td>\n",
       "      <td>UOSSM</td>\n",
       "    </tr>\n",
       "    <tr>\n",
       "      <th>1</th>\n",
       "      <td>2</td>\n",
       "      <td>R0007</td>\n",
       "      <td>8110020016</td>\n",
       "      <td>نور أشقر</td>\n",
       "      <td>Female</td>\n",
       "      <td>No</td>\n",
       "      <td>No</td>\n",
       "      <td>No</td>\n",
       "      <td>Other</td>\n",
       "      <td>NaT</td>\n",
       "      <td>2020-02-19</td>\n",
       "      <td>IDA</td>\n",
       "    </tr>\n",
       "    <tr>\n",
       "      <th>2</th>\n",
       "      <td>3</td>\n",
       "      <td>NaN</td>\n",
       "      <td>8110030014</td>\n",
       "      <td>سهام حمام</td>\n",
       "      <td>Female</td>\n",
       "      <td>No</td>\n",
       "      <td>No</td>\n",
       "      <td>No</td>\n",
       "      <td>MHPSS</td>\n",
       "      <td>NaT</td>\n",
       "      <td>2020-01-31</td>\n",
       "      <td>SAMS</td>\n",
       "    </tr>\n",
       "    <tr>\n",
       "      <th>3</th>\n",
       "      <td>4</td>\n",
       "      <td>R0001</td>\n",
       "      <td>8110020026</td>\n",
       "      <td>كوثر العيسى</td>\n",
       "      <td>Female</td>\n",
       "      <td>No</td>\n",
       "      <td>No</td>\n",
       "      <td>No</td>\n",
       "      <td>Other</td>\n",
       "      <td>NaT</td>\n",
       "      <td>2020-02-04</td>\n",
       "      <td>IDA</td>\n",
       "    </tr>\n",
       "    <tr>\n",
       "      <th>4</th>\n",
       "      <td>5</td>\n",
       "      <td>R0019</td>\n",
       "      <td>8110020031</td>\n",
       "      <td>دينا حياني</td>\n",
       "      <td>Female</td>\n",
       "      <td>No</td>\n",
       "      <td>No</td>\n",
       "      <td>No</td>\n",
       "      <td>MHPSS</td>\n",
       "      <td>NaT</td>\n",
       "      <td>2020-02-19</td>\n",
       "      <td>SAMS</td>\n",
       "    </tr>\n",
       "  </tbody>\n",
       "</table>\n",
       "</div>"
      ]
     },
     "execution_count": 7,
     "metadata": {},
     "output_type": "execute_result"
    }
   ],
   "execution_count": 7
  },
  {
   "metadata": {
    "ExecuteTime": {
     "end_time": "2024-08-16T13:45:25.045053Z",
     "start_time": "2024-08-16T13:45:25.036460Z"
    }
   },
   "cell_type": "code",
   "source": "ref['entity'].value_counts()",
   "id": "3ec2b0917c386d1d",
   "outputs": [
    {
     "data": {
      "text/plain": [
       "entity\n",
       "TMH                          143\n",
       "Medenıyet köprüsü derneğı    117\n",
       "WHH                          110\n",
       "ADMSP                        104\n",
       "Orange                       102\n",
       "SAMS                          96\n",
       "TKV                           31\n",
       "CARE                          30\n",
       "women support                 28\n",
       "Qatar Charity                 28\n",
       "IDA                           21\n",
       "SJAC                          10\n",
       "Mercy without limits          10\n",
       "TAAFI                          8\n",
       "HUMAN APPEAL                   7\n",
       "UOSSM                          6\n",
       "Önder                          5\n",
       "ATAA                           5\n",
       "LD                             4\n",
       "EMHRF                          3\n",
       "Syrian Community               3\n",
       "FC_LD                          3\n",
       "Enaraa                         3\n",
       "ÖNDER                          2\n",
       "UNHCR                          2\n",
       "Onsor                          2\n",
       "Care                           2\n",
       "bonyan                         1\n",
       "bülbülzada                     1\n",
       "Legal Clinic                   1\n",
       "Aarjaban                       1\n",
       "Rahma                          1\n",
       "SANAD                          1\n",
       "CFA                            1\n",
       "IRM                            1\n",
       "pozitif yaşam                  1\n",
       "whh                            1\n",
       "Masrrat                        1\n",
       "TDA                            1\n",
       "Name: count, dtype: int64"
      ]
     },
     "execution_count": 8,
     "metadata": {},
     "output_type": "execute_result"
    }
   ],
   "execution_count": 8
  },
  {
   "metadata": {
    "ExecuteTime": {
     "end_time": "2024-08-16T13:45:25.054881Z",
     "start_time": "2024-08-16T13:45:25.047038Z"
    }
   },
   "cell_type": "code",
   "source": [
    "# separating dataframe upon referral types\n",
    "ext_ref = ref[ref['ext_ref'] == 'Yes'] "
   ],
   "id": "e3fa82fd651fce4b",
   "outputs": [],
   "execution_count": 9
  },
  {
   "metadata": {
    "ExecuteTime": {
     "end_time": "2024-08-16T13:45:25.062948Z",
     "start_time": "2024-08-16T13:45:25.056810Z"
    }
   },
   "cell_type": "code",
   "source": "ext_ref = ext_ref.drop(columns=['int_ref', 'rec_ref'])",
   "id": "6f5dfd023196a911",
   "outputs": [],
   "execution_count": 10
  },
  {
   "metadata": {
    "ExecuteTime": {
     "end_time": "2024-08-16T13:47:37.276522Z",
     "start_time": "2024-08-16T13:47:37.268323Z"
    }
   },
   "cell_type": "code",
   "source": "ext_ref['ref_date'] = pd.to_datetime(ext_ref['ref_date'], errors='coerce')",
   "id": "b03ebf7ef8cc6858",
   "outputs": [],
   "execution_count": 13
  },
  {
   "metadata": {
    "ExecuteTime": {
     "end_time": "2024-08-16T13:52:09.633738Z",
     "start_time": "2024-08-16T13:52:09.621257Z"
    }
   },
   "cell_type": "code",
   "source": [
    "# Define the date range\n",
    "start_date = pd.to_datetime('2024-01-01')\n",
    "end_date = pd.to_datetime('2024-06-30')\n",
    "\n",
    "filtered_ext_ref = filter_dataframe_on_date(ext_ref, ['ref_date'], start_date, end_date, filter_type=FilterType.IN)\n",
    "# Create a mask to filter rows on dates required\n",
    "# mask = ext_ref['ref_date'].apply(lambda row: any(start_date <= date <= end_date for date in row if pd.notnull(date)), axis=1)\n",
    "\n",
    "# Filter the DataFrame using the mask\n",
    "# filtered_ext_ref = ext_ref[mask]"
   ],
   "id": "237dfdeb6049f8d8",
   "outputs": [],
   "execution_count": 16
  },
  {
   "metadata": {},
   "cell_type": "code",
   "source": "# ext_ref[ext_ref.duplicated(subset=['rid'], keep=False)]",
   "id": "3c168d9a58f7f3d1",
   "outputs": [],
   "execution_count": null
  },
  {
   "metadata": {},
   "cell_type": "code",
   "source": [
    "# int_ref = ref[ref['int_ref'] == 'Yes']\n",
    "# int_ref = int_ref.drop(columns=['ext_ref', 'rec_ref'])"
   ],
   "id": "1e167d709d4a6ad8",
   "outputs": [],
   "execution_count": null
  },
  {
   "metadata": {},
   "cell_type": "code",
   "source": [
    "# rec_ref = ref[ref['rec_ref'] == 'Yes']\n",
    "# rec_ref = rec_ref.drop(columns=['ext_ref', 'int_ref'])"
   ],
   "id": "10dcbcc5c40fdd4d",
   "outputs": [],
   "execution_count": null
  },
  {
   "metadata": {
    "ExecuteTime": {
     "end_time": "2024-08-16T13:52:20.214235Z",
     "start_time": "2024-08-16T13:52:20.192827Z"
    }
   },
   "cell_type": "code",
   "source": "filtered_ext_ref",
   "id": "9921fb64bd55931e",
   "outputs": [
    {
     "data": {
      "text/plain": [
       "       #    rid        fcid        ben_name     sex ext_ref              need  \\\n",
       "684  685  R1174        <NA>     غياث الأمين    Male     Yes             MHPSS   \n",
       "685  686  R0406  8110050045     ابتسام غزال  Female     Yes  Physical Therapy   \n",
       "686  687  R1125        <NA>    سهام الصيرفي  Female     Yes             MHPSS   \n",
       "687  688  R1161        <NA>      عماد بكداش    Male     Yes             MHPSS   \n",
       "688  689  R1162        <NA>     محمد المحلي    Male     Yes             MHPSS   \n",
       "..   ...    ...         ...             ...     ...     ...               ...   \n",
       "853  854  R0353  8110020099      دلال الشيخ  Female     Yes   Cash assistance   \n",
       "854  855  R0518  8110090004  عائشة المصطفى   Female     Yes   Cash assistance   \n",
       "855  856  R0298  8110020089     يسرى الحويل  Female     Yes   Cash assistance   \n",
       "856  857  R0460  8110090003       سها الحسن  Female     Yes   Cash assistance   \n",
       "857  858  R0082        <NA>       أمجد عبود    Male     Yes             MHPSS   \n",
       "\n",
       "    social_ass_date   ref_date         entity  \n",
       "684             NaT 2024-01-05           SAMS  \n",
       "685      2023-07-12 2024-01-05           SAMS  \n",
       "686             NaT 2024-01-08            TMH  \n",
       "687             NaT 2024-01-08            TMH  \n",
       "688             NaT 2024-01-08            TMH  \n",
       "..              ...        ...            ...  \n",
       "853             NaT 2024-05-24  Qatar Charity  \n",
       "854             NaT 2024-05-24  Qatar Charity  \n",
       "855             NaT 2024-05-24  Qatar Charity  \n",
       "856             NaT 2024-05-24  Qatar Charity  \n",
       "857             NaT 2024-05-31           SAMS  \n",
       "\n",
       "[168 rows x 10 columns]"
      ],
      "text/html": [
       "<div>\n",
       "<style scoped>\n",
       "    .dataframe tbody tr th:only-of-type {\n",
       "        vertical-align: middle;\n",
       "    }\n",
       "\n",
       "    .dataframe tbody tr th {\n",
       "        vertical-align: top;\n",
       "    }\n",
       "\n",
       "    .dataframe thead th {\n",
       "        text-align: right;\n",
       "    }\n",
       "</style>\n",
       "<table border=\"1\" class=\"dataframe\">\n",
       "  <thead>\n",
       "    <tr style=\"text-align: right;\">\n",
       "      <th></th>\n",
       "      <th>#</th>\n",
       "      <th>rid</th>\n",
       "      <th>fcid</th>\n",
       "      <th>ben_name</th>\n",
       "      <th>sex</th>\n",
       "      <th>ext_ref</th>\n",
       "      <th>need</th>\n",
       "      <th>social_ass_date</th>\n",
       "      <th>ref_date</th>\n",
       "      <th>entity</th>\n",
       "    </tr>\n",
       "  </thead>\n",
       "  <tbody>\n",
       "    <tr>\n",
       "      <th>684</th>\n",
       "      <td>685</td>\n",
       "      <td>R1174</td>\n",
       "      <td>&lt;NA&gt;</td>\n",
       "      <td>غياث الأمين</td>\n",
       "      <td>Male</td>\n",
       "      <td>Yes</td>\n",
       "      <td>MHPSS</td>\n",
       "      <td>NaT</td>\n",
       "      <td>2024-01-05</td>\n",
       "      <td>SAMS</td>\n",
       "    </tr>\n",
       "    <tr>\n",
       "      <th>685</th>\n",
       "      <td>686</td>\n",
       "      <td>R0406</td>\n",
       "      <td>8110050045</td>\n",
       "      <td>ابتسام غزال</td>\n",
       "      <td>Female</td>\n",
       "      <td>Yes</td>\n",
       "      <td>Physical Therapy</td>\n",
       "      <td>2023-07-12</td>\n",
       "      <td>2024-01-05</td>\n",
       "      <td>SAMS</td>\n",
       "    </tr>\n",
       "    <tr>\n",
       "      <th>686</th>\n",
       "      <td>687</td>\n",
       "      <td>R1125</td>\n",
       "      <td>&lt;NA&gt;</td>\n",
       "      <td>سهام الصيرفي</td>\n",
       "      <td>Female</td>\n",
       "      <td>Yes</td>\n",
       "      <td>MHPSS</td>\n",
       "      <td>NaT</td>\n",
       "      <td>2024-01-08</td>\n",
       "      <td>TMH</td>\n",
       "    </tr>\n",
       "    <tr>\n",
       "      <th>687</th>\n",
       "      <td>688</td>\n",
       "      <td>R1161</td>\n",
       "      <td>&lt;NA&gt;</td>\n",
       "      <td>عماد بكداش</td>\n",
       "      <td>Male</td>\n",
       "      <td>Yes</td>\n",
       "      <td>MHPSS</td>\n",
       "      <td>NaT</td>\n",
       "      <td>2024-01-08</td>\n",
       "      <td>TMH</td>\n",
       "    </tr>\n",
       "    <tr>\n",
       "      <th>688</th>\n",
       "      <td>689</td>\n",
       "      <td>R1162</td>\n",
       "      <td>&lt;NA&gt;</td>\n",
       "      <td>محمد المحلي</td>\n",
       "      <td>Male</td>\n",
       "      <td>Yes</td>\n",
       "      <td>MHPSS</td>\n",
       "      <td>NaT</td>\n",
       "      <td>2024-01-08</td>\n",
       "      <td>TMH</td>\n",
       "    </tr>\n",
       "    <tr>\n",
       "      <th>...</th>\n",
       "      <td>...</td>\n",
       "      <td>...</td>\n",
       "      <td>...</td>\n",
       "      <td>...</td>\n",
       "      <td>...</td>\n",
       "      <td>...</td>\n",
       "      <td>...</td>\n",
       "      <td>...</td>\n",
       "      <td>...</td>\n",
       "      <td>...</td>\n",
       "    </tr>\n",
       "    <tr>\n",
       "      <th>853</th>\n",
       "      <td>854</td>\n",
       "      <td>R0353</td>\n",
       "      <td>8110020099</td>\n",
       "      <td>دلال الشيخ</td>\n",
       "      <td>Female</td>\n",
       "      <td>Yes</td>\n",
       "      <td>Cash assistance</td>\n",
       "      <td>NaT</td>\n",
       "      <td>2024-05-24</td>\n",
       "      <td>Qatar Charity</td>\n",
       "    </tr>\n",
       "    <tr>\n",
       "      <th>854</th>\n",
       "      <td>855</td>\n",
       "      <td>R0518</td>\n",
       "      <td>8110090004</td>\n",
       "      <td>عائشة المصطفى</td>\n",
       "      <td>Female</td>\n",
       "      <td>Yes</td>\n",
       "      <td>Cash assistance</td>\n",
       "      <td>NaT</td>\n",
       "      <td>2024-05-24</td>\n",
       "      <td>Qatar Charity</td>\n",
       "    </tr>\n",
       "    <tr>\n",
       "      <th>855</th>\n",
       "      <td>856</td>\n",
       "      <td>R0298</td>\n",
       "      <td>8110020089</td>\n",
       "      <td>يسرى الحويل</td>\n",
       "      <td>Female</td>\n",
       "      <td>Yes</td>\n",
       "      <td>Cash assistance</td>\n",
       "      <td>NaT</td>\n",
       "      <td>2024-05-24</td>\n",
       "      <td>Qatar Charity</td>\n",
       "    </tr>\n",
       "    <tr>\n",
       "      <th>856</th>\n",
       "      <td>857</td>\n",
       "      <td>R0460</td>\n",
       "      <td>8110090003</td>\n",
       "      <td>سها الحسن</td>\n",
       "      <td>Female</td>\n",
       "      <td>Yes</td>\n",
       "      <td>Cash assistance</td>\n",
       "      <td>NaT</td>\n",
       "      <td>2024-05-24</td>\n",
       "      <td>Qatar Charity</td>\n",
       "    </tr>\n",
       "    <tr>\n",
       "      <th>857</th>\n",
       "      <td>858</td>\n",
       "      <td>R0082</td>\n",
       "      <td>&lt;NA&gt;</td>\n",
       "      <td>أمجد عبود</td>\n",
       "      <td>Male</td>\n",
       "      <td>Yes</td>\n",
       "      <td>MHPSS</td>\n",
       "      <td>NaT</td>\n",
       "      <td>2024-05-31</td>\n",
       "      <td>SAMS</td>\n",
       "    </tr>\n",
       "  </tbody>\n",
       "</table>\n",
       "<p>168 rows × 10 columns</p>\n",
       "</div>"
      ]
     },
     "execution_count": 17,
     "metadata": {},
     "output_type": "execute_result"
    }
   ],
   "execution_count": 17
  },
  {
   "metadata": {
    "ExecuteTime": {
     "end_time": "2024-08-16T13:58:48.969069Z",
     "start_time": "2024-08-16T13:58:48.962929Z"
    }
   },
   "cell_type": "code",
   "source": [
    "total_number_of_ref = len(filtered_ext_ref)\n",
    "total_number_of_ref"
   ],
   "id": "4b9289413beab4b4",
   "outputs": [
    {
     "data": {
      "text/plain": [
       "168"
      ]
     },
     "execution_count": 22,
     "metadata": {},
     "output_type": "execute_result"
    }
   ],
   "execution_count": 22
  },
  {
   "metadata": {
    "ExecuteTime": {
     "end_time": "2024-08-16T14:01:37.949810Z",
     "start_time": "2024-08-16T14:01:37.943080Z"
    }
   },
   "cell_type": "code",
   "source": [
    "unique_ref_beneficiaries = filtered_ext_ref.drop_duplicates(subset=['rid'])\n",
    "total_number_ref_beneficiaries = len(unique_ref_beneficiaries)"
   ],
   "id": "8354bf97b4c24d8d",
   "outputs": [],
   "execution_count": 25
  },
  {
   "metadata": {
    "ExecuteTime": {
     "end_time": "2024-08-16T14:01:38.638758Z",
     "start_time": "2024-08-16T14:01:38.633420Z"
    }
   },
   "cell_type": "code",
   "source": "total_number_ref_beneficiaries",
   "id": "139aa7743458e883",
   "outputs": [
    {
     "data": {
      "text/plain": [
       "142"
      ]
     },
     "execution_count": 26,
     "metadata": {},
     "output_type": "execute_result"
    }
   ],
   "execution_count": 26
  },
  {
   "metadata": {
    "ExecuteTime": {
     "end_time": "2024-08-16T14:03:51.683826Z",
     "start_time": "2024-08-16T14:03:51.673957Z"
    }
   },
   "cell_type": "code",
   "source": "unique_ref_beneficiaries['sex'].value_counts()",
   "id": "57a1c520ae2204ee",
   "outputs": [
    {
     "data": {
      "text/plain": [
       "sex\n",
       "Female    103\n",
       "Male       39\n",
       "Name: count, dtype: int64"
      ]
     },
     "execution_count": 27,
     "metadata": {},
     "output_type": "execute_result"
    }
   ],
   "execution_count": 27
  },
  {
   "metadata": {
    "ExecuteTime": {
     "end_time": "2024-08-16T14:06:01.347503Z",
     "start_time": "2024-08-16T14:06:01.339148Z"
    }
   },
   "cell_type": "code",
   "source": "filtered_ext_ref['need'].value_counts()\n",
   "id": "68eeb25a7c6dee70",
   "outputs": [
    {
     "data": {
      "text/plain": [
       "need\n",
       "Cash assistance        118\n",
       "MHPSS                   43\n",
       "Legal documentation      5\n",
       "Physical Therapy         1\n",
       "Legal assistance         1\n",
       "Name: count, dtype: int64"
      ]
     },
     "execution_count": 29,
     "metadata": {},
     "output_type": "execute_result"
    }
   ],
   "execution_count": 29
  },
  {
   "metadata": {
    "ExecuteTime": {
     "end_time": "2024-08-16T14:12:37.466383Z",
     "start_time": "2024-08-16T14:12:37.457095Z"
    }
   },
   "cell_type": "code",
   "source": "filtered_ext_ref['entity'].value_counts()",
   "id": "6438d829cff90fc2",
   "outputs": [
    {
     "data": {
      "text/plain": [
       "entity\n",
       "Orange           60\n",
       "TMH              33\n",
       "WHH              30\n",
       "Qatar Charity    28\n",
       "SAMS             11\n",
       "SJAC              5\n",
       "whh               1\n",
       "Name: count, dtype: int64"
      ]
     },
     "execution_count": 30,
     "metadata": {},
     "output_type": "execute_result"
    }
   ],
   "execution_count": 30
  },
  {
   "metadata": {
    "ExecuteTime": {
     "end_time": "2024-08-16T14:40:37.530554Z",
     "start_time": "2024-08-16T14:40:37.522461Z"
    }
   },
   "cell_type": "code",
   "source": "unique_ref_beneficiaries.to_csv('unique_ref_beneficiaries.csv', index=False)",
   "id": "a01bb3ba1fb8cd4b",
   "outputs": [],
   "execution_count": 33
  },
  {
   "metadata": {},
   "cell_type": "code",
   "outputs": [],
   "execution_count": null,
   "source": "",
   "id": "68c6eddb6f859dbe"
  }
 ],
 "metadata": {
  "kernelspec": {
   "display_name": "Python 3",
   "language": "python",
   "name": "python3"
  },
  "language_info": {
   "codemirror_mode": {
    "name": "ipython",
    "version": 2
   },
   "file_extension": ".py",
   "mimetype": "text/x-python",
   "name": "python",
   "nbconvert_exporter": "python",
   "pygments_lexer": "ipython2",
   "version": "2.7.6"
  }
 },
 "nbformat": 4,
 "nbformat_minor": 5
}
