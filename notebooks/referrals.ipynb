{
 "cells": [
  {
   "cell_type": "code",
   "id": "initial_id",
   "metadata": {
    "collapsed": true
   },
   "source": "from src.all_in_one import *",
   "outputs": [],
   "execution_count": null
  },
  {
   "metadata": {},
   "cell_type": "code",
   "source": "ref = pd.read_excel(r'D:\\fc-performeter\\notebooks\\referrals.xlsx', engine='openpyxl')",
   "id": "f554bd2dca6e0e11",
   "outputs": [],
   "execution_count": null
  },
  {
   "metadata": {},
   "cell_type": "code",
   "source": [
    "# Mapping referral directions\n",
    "ref.insert(6, 'ext_ref', ref['OutgoingInternalIngoing'].apply(lambda x: 'Yes' if x == 'outgoing' else 'No' )) # cases referred from ADMSP to Others\n",
    "ref.insert(7, 'int_ref', ref['OutgoingInternalIngoing'].apply(lambda x: 'Yes' if x == 'internal' else 'No' )) # cases internally referred\n",
    "ref.insert(8, 'rec_ref', ref['OutgoingInternalIngoing'].apply(lambda x: 'Yes' if x == 'ingoing' else 'No' ))  # cases received from others"
   ],
   "id": "afd59eee30b1e80f",
   "outputs": [],
   "execution_count": null
  },
  {
   "metadata": {},
   "cell_type": "code",
   "source": [
    "# Choose what columns are not needed here\n",
    "ref = ref.drop(columns=['age', 'country', 'personal/familyMember', 'familyMemberNumber', 'group/individual', 'OutgoingInternalIngoing', 'note'])"
   ],
   "id": "8395375f51ac5c5f",
   "outputs": [],
   "execution_count": null
  },
  {
   "metadata": {},
   "cell_type": "code",
   "source": [
    "# columns renaming\n",
    "ref.rename(columns={\n",
    "    'referral_ID': 'rid',\n",
    "    'FC_ID': 'fcid',\n",
    "    'beneficiaryName': 'ben_name',\n",
    "    'gender': 'sex',\n",
    "    'socialAssessmentDate': 'social_ass_date',\n",
    "    'referralDate': 'ref_date',\n",
    "    'referredToFromEntity': 'entity',\n",
    "}, inplace=True)"
   ],
   "id": "bd827cca2418675e",
   "outputs": [],
   "execution_count": null
  },
  {
   "metadata": {},
   "cell_type": "code",
   "source": [
    "# Type transformation\n",
    "ref['fcid'] = ref['fcid'].astype(\"Int64\")\n",
    "ref['ref_date'] = pd.to_datetime(ref['ref_date'])"
   ],
   "id": "f74bfc9d3f2dc789",
   "outputs": [],
   "execution_count": null
  },
  {
   "metadata": {},
   "cell_type": "code",
   "source": "ref.head()",
   "id": "70e0160b49c5f747",
   "outputs": [],
   "execution_count": null
  },
  {
   "metadata": {},
   "cell_type": "code",
   "source": "ref['entity'].value_counts()",
   "id": "3ec2b0917c386d1d",
   "outputs": [],
   "execution_count": null
  },
  {
   "metadata": {},
   "cell_type": "code",
   "source": [
    "# separating dataframe upon referral types\n",
    "ext_ref = ref[ref['ext_ref'] == 'Yes'] "
   ],
   "id": "e3fa82fd651fce4b",
   "outputs": [],
   "execution_count": null
  },
  {
   "metadata": {},
   "cell_type": "code",
   "source": "ext_ref = ext_ref.drop(columns=['int_ref', 'rec_ref'])",
   "id": "6f5dfd023196a911",
   "outputs": [],
   "execution_count": null
  },
  {
   "metadata": {},
   "cell_type": "code",
   "source": "ext_ref",
   "id": "3c168d9a58f7f3d1",
   "outputs": [],
   "execution_count": null
  }
 ],
 "metadata": {
  "kernelspec": {
   "display_name": "Python 3",
   "language": "python",
   "name": "python3"
  },
  "language_info": {
   "codemirror_mode": {
    "name": "ipython",
    "version": 2
   },
   "file_extension": ".py",
   "mimetype": "text/x-python",
   "name": "python",
   "nbconvert_exporter": "python",
   "pygments_lexer": "ipython2",
   "version": "2.7.6"
  }
 },
 "nbformat": 4,
 "nbformat_minor": 5
}
