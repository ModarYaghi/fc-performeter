{
 "cells": [
  {
   "cell_type": "code",
   "id": "initial_id",
   "metadata": {
    "collapsed": true
   },
   "source": "from src.all_in_one import *",
   "outputs": [],
   "execution_count": null
  },
  {
   "metadata": {},
   "cell_type": "code",
   "source": "ref = pd.read_excel(r'D:\\fc-performeter\\notebooks\\referrals.xlsx', engine='openpyxl')",
   "id": "f554bd2dca6e0e11",
   "outputs": [],
   "execution_count": null
  },
  {
   "metadata": {},
   "cell_type": "code",
   "source": [
    "# Mapping referral directions\n",
    "ref.insert(6, 'ext_ref', ref['OutgoingInternalIngoing'].apply(lambda x: 'Yes' if x == 'outgoing' else 'No' )) # cases referred from ADMSP to Others\n",
    "ref.insert(7, 'int_ref', ref['OutgoingInternalIngoing'].apply(lambda x: 'Yes' if x == 'internal' else 'No' )) # cases internally referred\n",
    "ref.insert(8, 'rec_ref', ref['OutgoingInternalIngoing'].apply(lambda x: 'Yes' if x == 'ingoing' else 'No' ))  # cases received from others"
   ],
   "id": "afd59eee30b1e80f",
   "outputs": [],
   "execution_count": null
  },
  {
   "metadata": {},
   "cell_type": "code",
   "source": [
    "# Choose what columns are not needed here\n",
    "ref = ref.drop(columns=['age', 'country', 'personal/familyMember', 'familyMemberNumber', 'group/individual', 'OutgoingInternalIngoing', 'note'])"
   ],
   "id": "8395375f51ac5c5f",
   "outputs": [],
   "execution_count": null
  },
  {
   "metadata": {},
   "cell_type": "code",
   "source": [
    "# columns renaming\n",
    "ref.rename(columns={\n",
    "    'referral_ID': 'rid',\n",
    "    'FC_ID': 'fcid',\n",
    "    'beneficiaryName': 'ben_name',\n",
    "    'gender': 'sex',\n",
    "    'socialAssessmentDate': 'social_ass_date',\n",
    "    'referralDate': 'ref_date',\n",
    "    'referredToFromEntity': 'entity',\n",
    "}, inplace=True)"
   ],
   "id": "bd827cca2418675e",
   "outputs": [],
   "execution_count": null
  },
  {
   "metadata": {},
   "cell_type": "code",
   "source": [
    "# Type transformation\n",
    "ref['fcid'] = ref['fcid'].astype(\"Int64\")\n",
    "ref['ref_date'] = pd.to_datetime(ref['ref_date'])"
   ],
   "id": "f74bfc9d3f2dc789",
   "outputs": [],
   "execution_count": null
  },
  {
   "metadata": {},
   "cell_type": "code",
   "source": "ref.head()",
   "id": "70e0160b49c5f747",
   "outputs": [],
   "execution_count": null
  },
  {
   "metadata": {},
   "cell_type": "code",
   "source": "ref['entity'].value_counts()",
   "id": "3ec2b0917c386d1d",
   "outputs": [],
   "execution_count": null
  },
  {
   "metadata": {},
   "cell_type": "code",
   "source": [
    "# separating dataframe upon referral types\n",
    "ext_ref = ref[ref['ext_ref'] == 'Yes'] "
   ],
   "id": "e3fa82fd651fce4b",
   "outputs": [],
   "execution_count": null
  },
  {
   "metadata": {},
   "cell_type": "code",
   "source": "ext_ref = ext_ref.drop(columns=['int_ref', 'rec_ref'])",
   "id": "6f5dfd023196a911",
   "outputs": [],
   "execution_count": null
  },
  {
   "metadata": {},
   "cell_type": "code",
   "source": "ext_ref['ref_date'] = pd.to_datetime(ext_ref['ref_date'], errors='coerce')",
   "id": "b03ebf7ef8cc6858",
   "outputs": [],
   "execution_count": null
  },
  {
   "metadata": {},
   "cell_type": "code",
   "source": [
    "# Define the date range\n",
    "start_date = pd.to_datetime('2024-01-01')\n",
    "end_date = pd.to_datetime('2024-06-30')\n",
    "\n",
    "filtered_ext_ref = filter_dataframe_on_date(ext_ref, ['ref_date'], start_date, end_date, filter_type=FilterType.IN)\n",
    "# Create a mask to filter rows on dates required\n",
    "# mask = ext_ref['ref_date'].apply(lambda row: any(start_date <= date <= end_date for date in row if pd.notnull(date)), axis=1)\n",
    "\n",
    "# Filter the DataFrame using the mask\n",
    "# filtered_ext_ref = ext_ref[mask]"
   ],
   "id": "237dfdeb6049f8d8",
   "outputs": [],
   "execution_count": null
  },
  {
   "metadata": {},
   "cell_type": "code",
   "source": "# ext_ref[ext_ref.duplicated(subset=['rid'], keep=False)]",
   "id": "3c168d9a58f7f3d1",
   "outputs": [],
   "execution_count": null
  },
  {
   "metadata": {},
   "cell_type": "code",
   "source": [
    "# int_ref = ref[ref['int_ref'] == 'Yes']\n",
    "# int_ref = int_ref.drop(columns=['ext_ref', 'rec_ref'])"
   ],
   "id": "1e167d709d4a6ad8",
   "outputs": [],
   "execution_count": null
  },
  {
   "metadata": {},
   "cell_type": "code",
   "source": [
    "# rec_ref = ref[ref['rec_ref'] == 'Yes']\n",
    "# rec_ref = rec_ref.drop(columns=['ext_ref', 'int_ref'])"
   ],
   "id": "10dcbcc5c40fdd4d",
   "outputs": [],
   "execution_count": null
  },
  {
   "metadata": {},
   "cell_type": "code",
   "source": "filtered_ext_ref",
   "id": "9921fb64bd55931e",
   "outputs": [],
   "execution_count": null
  },
  {
   "metadata": {},
   "cell_type": "code",
   "source": [
    "total_number_of_ref = len(filtered_ext_ref)\n",
    "total_number_of_ref"
   ],
   "id": "4b9289413beab4b4",
   "outputs": [],
   "execution_count": null
  },
  {
   "metadata": {},
   "cell_type": "code",
   "source": [
    "unique_ref_beneficiaries = filtered_ext_ref.drop_duplicates(subset=['rid'])\n",
    "total_number_ref_beneficiaries = len(unique_ref_beneficiaries)"
   ],
   "id": "8354bf97b4c24d8d",
   "outputs": [],
   "execution_count": null
  },
  {
   "metadata": {},
   "cell_type": "code",
   "source": "total_number_ref_beneficiaries",
   "id": "139aa7743458e883",
   "outputs": [],
   "execution_count": null
  },
  {
   "metadata": {},
   "cell_type": "code",
   "source": "unique_ref_beneficiaries['sex'].value_counts()",
   "id": "57a1c520ae2204ee",
   "outputs": [],
   "execution_count": null
  },
  {
   "metadata": {},
   "cell_type": "code",
   "source": "filtered_ext_ref['need'].value_counts()\n",
   "id": "68eeb25a7c6dee70",
   "outputs": [],
   "execution_count": null
  },
  {
   "metadata": {},
   "cell_type": "code",
   "source": "filtered_ext_ref['entity'].value_counts()",
   "id": "6438d829cff90fc2",
   "outputs": [],
   "execution_count": null
  },
  {
   "metadata": {},
   "cell_type": "code",
   "source": "unique_ref_beneficiaries.to_csv('unique_ref_beneficiaries.csv', index=False)",
   "id": "a01bb3ba1fb8cd4b",
   "outputs": [],
   "execution_count": null
  },
  {
   "metadata": {},
   "cell_type": "code",
   "source": "",
   "id": "68c6eddb6f859dbe",
   "outputs": [],
   "execution_count": null
  }
 ],
 "metadata": {
  "kernelspec": {
   "display_name": "Python 3",
   "language": "python",
   "name": "python3"
  },
  "language_info": {
   "codemirror_mode": {
    "name": "ipython",
    "version": 2
   },
   "file_extension": ".py",
   "mimetype": "text/x-python",
   "name": "python",
   "nbconvert_exporter": "python",
   "pygments_lexer": "ipython2",
   "version": "2.7.6"
  }
 },
 "nbformat": 4,
 "nbformat_minor": 5
}
