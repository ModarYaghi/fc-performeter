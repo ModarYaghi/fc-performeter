{
 "cells": [
  {
   "cell_type": "code",
   "execution_count": null,
   "id": "initial_id",
   "metadata": {
    "collapsed": true
   },
   "outputs": [],
   "source": [
    "import pandas as pd\n",
    "from src.all_in_one import *\n",
    "from src.analysis_functions import *"
   ]
  },
  {
   "cell_type": "code",
   "outputs": [],
   "source": [
    "path = os.path.join(processed_data, 'scr_1223.csv')\n",
    "sheet_name = 'Scr'\n",
    "df_dataset = Dataset(config_file, sheet_name)\n",
    "scr = pd.read_csv(path)\n",
    "scr = dtype_trans(scr, df_dataset)"
   ],
   "metadata": {
    "collapsed": false
   },
   "id": "7e597d2bbea95cc7",
   "execution_count": null
  },
  {
   "cell_type": "code",
   "outputs": [],
   "source": [
    "threshold = '2023-09-30'"
   ],
   "metadata": {
    "collapsed": false
   },
   "id": "877d310ce3d8bf1d",
   "execution_count": null
  },
  {
   "cell_type": "code",
   "outputs": [],
   "source": [
    "scr_q4 = filter_df_by_date(scr, df_dataset.dvars, threshold, comparison_type='a')"
   ],
   "metadata": {
    "collapsed": false
   },
   "id": "42f995c03dd1af07",
   "execution_count": null
  },
  {
   "cell_type": "code",
   "outputs": [],
   "source": [
    "scr_q4"
   ],
   "metadata": {
    "collapsed": false
   },
   "id": "ed03ecab056996ee",
   "execution_count": null
  },
  {
   "cell_type": "code",
   "outputs": [],
   "source": [
    "scr_new = filter_df_by_date(scr, ['sc_s1'], threshold, comparison_type='a')"
   ],
   "metadata": {
    "collapsed": false
   },
   "id": "729e6334ac9a08f6",
   "execution_count": null
  },
  {
   "cell_type": "code",
   "outputs": [],
   "source": [
    "scr_new"
   ],
   "metadata": {
    "collapsed": false
   },
   "id": "bf8523517d73b1d5",
   "execution_count": null
  },
  {
   "cell_type": "code",
   "outputs": [],
   "source": [
    "scr_new['sex'].value_counts()"
   ],
   "metadata": {
    "collapsed": false
   },
   "id": "c79952b528191323",
   "execution_count": null
  },
  {
   "cell_type": "code",
   "outputs": [],
   "source": [
    "age_group = categorize_and_count_ages(scr_new['age'])"
   ],
   "metadata": {
    "collapsed": false
   },
   "id": "bb15e668e58cc73c",
   "execution_count": null
  },
  {
   "cell_type": "code",
   "outputs": [],
   "source": [
    "normalized_value_counts(age_group)"
   ],
   "metadata": {
    "collapsed": false
   },
   "id": "8eec67e6bc5ba408",
   "execution_count": null
  },
  {
   "cell_type": "code",
   "outputs": [],
   "source": [
    "scr_new['source'].value_counts()"
   ],
   "metadata": {
    "collapsed": false
   },
   "id": "50897a6154850b6b",
   "execution_count": null
  },
  {
   "cell_type": "code",
   "outputs": [],
   "source": [
    "scr_q4['need_pei'].value_counts()"
   ],
   "metadata": {
    "collapsed": false
   },
   "id": "285bf0aacef5649b",
   "execution_count": null
  }
 ],
 "metadata": {
  "kernelspec": {
   "display_name": "Python 3",
   "language": "python",
   "name": "python3"
  },
  "language_info": {
   "codemirror_mode": {
    "name": "ipython",
    "version": 2
   },
   "file_extension": ".py",
   "mimetype": "text/x-python",
   "name": "python",
   "nbconvert_exporter": "python",
   "pygments_lexer": "ipython2",
   "version": "2.7.6"
  }
 },
 "nbformat": 4,
 "nbformat_minor": 5
}
