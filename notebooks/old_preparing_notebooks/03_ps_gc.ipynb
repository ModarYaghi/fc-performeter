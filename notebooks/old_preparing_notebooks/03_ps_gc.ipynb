{
 "cells": [
  {
   "cell_type": "code",
   "execution_count": null,
   "id": "initial_id",
   "metadata": {
    "collapsed": true
   },
   "outputs": [],
   "source": [
    "import numpy as np\n",
    "import pandas as pd\n",
    "import warnings\n",
    "from my_analysis_toolkit import read_encrypted_excels, indexing_groups, generate_binary_sequence, repeated_client_indicator\n",
    "from my_static_data import tt_passwords, group_counseling_columns, group_counseling_date_columns, group_counseling_basic_date_columns, group_counseling_basic_columns"
   ]
  },
  {
   "cell_type": "code",
   "execution_count": null,
   "outputs": [],
   "source": [
    "# Avoid representing large numbers in scientific form. To reset, use the commented line.\n",
    "pd.set_option('display.float_format', '{:.1f}'.format)\n",
    "# pd.reset_option('display.float_format')\n",
    "\n",
    "# Display maximum column width:\n",
    "pd.set_option('display.max_colwidth', None)\n",
    "\n",
    "# Suppress openpyxl data validation warning\n",
    "warnings.filterwarnings(\"ignore\", category=UserWarning, module=\"openpyxl\")"
   ],
   "metadata": {
    "collapsed": false
   },
   "id": "8c80f1a5316103cf"
  },
  {
   "cell_type": "code",
   "execution_count": null,
   "outputs": [],
   "source": [
    "# Static Code Variables\n",
    "sheet = 'GC'\n",
    "sp = 'gcsp'\n",
    "int_columns = ['gcspi', 'fcid', 'gcindx', 'gct']\n",
    "columns_names = group_counseling_columns\n",
    "basic_columns = group_counseling_basic_columns\n",
    "all_date_columns = group_counseling_date_columns\n",
    "date_columns = group_counseling_basic_date_columns\n",
    "passwords = tt_passwords"
   ],
   "metadata": {
    "collapsed": false
   },
   "id": "f58ca7579d8ad976"
  },
  {
   "cell_type": "code",
   "execution_count": null,
   "outputs": [],
   "source": [
    "tracking_tools = read_encrypted_excels(r'000', passwords)"
   ],
   "metadata": {
    "collapsed": false
   },
   "id": "e8c9bfef1912ab73"
  },
  {
   "cell_type": "markdown",
   "source": [
    "# Process Group Counseling Sheets"
   ],
   "metadata": {
    "collapsed": false
   },
   "id": "8c639615038c5e90"
  },
  {
   "cell_type": "code",
   "execution_count": null,
   "outputs": [],
   "source": [
    "yq = tracking_tools['tt_psc_YQ-v04.xlsx'][sheet]"
   ],
   "metadata": {
    "collapsed": false
   },
   "id": "8f8dc7451d6c34fe"
  },
  {
   "cell_type": "markdown",
   "source": [
    "Record no. 26? All data are NaN except for note."
   ],
   "metadata": {
    "collapsed": false
   },
   "id": "b6cbd1dc8288081a"
  },
  {
   "cell_type": "code",
   "execution_count": null,
   "outputs": [],
   "source": [
    "yq.columns = columns_names\n",
    "yq = yq.drop(yq.index[0]).reset_index(drop=True)\n",
    "yq.dropna(subset=basic_columns, how='all', inplace=True)\n",
    "yq.insert(0, sp, 'YQ')"
   ],
   "metadata": {
    "collapsed": false
   },
   "id": "4ee93170aebccde1"
  },
  {
   "cell_type": "code",
   "execution_count": null,
   "outputs": [],
   "source": [
    "sa = tracking_tools['tt_psc_SA_v04.xlsx'][sheet]"
   ],
   "metadata": {
    "collapsed": false
   },
   "id": "68dd5131a61a1ded"
  },
  {
   "cell_type": "code",
   "execution_count": null,
   "outputs": [],
   "source": [
    "sa.columns = columns_names\n",
    "sa = sa.drop(sa.index[0]).reset_index(drop=True)\n",
    "sa.dropna(subset=basic_columns, how='all', inplace=True)\n",
    "sa.insert(0, sp, 'SA')"
   ],
   "metadata": {
    "collapsed": false
   },
   "id": "5a3b4eec53bb9174"
  },
  {
   "cell_type": "code",
   "execution_count": null,
   "outputs": [],
   "source": [
    "ij = tracking_tools['tt_psc_IJ_v04.xlsx'][sheet]"
   ],
   "metadata": {
    "collapsed": false
   },
   "id": "1e8595d18482f1f3"
  },
  {
   "cell_type": "code",
   "execution_count": null,
   "outputs": [],
   "source": [
    "ij.columns = columns_names\n",
    "ij = ij.drop(ij.index[0]).reset_index(drop=True)\n",
    "ij.dropna(subset=basic_columns, how='all', inplace=True)\n",
    "ij.insert(0, sp, 'IJ')"
   ],
   "metadata": {
    "collapsed": false
   },
   "id": "3bd96196e3d6822c"
  },
  {
   "cell_type": "code",
   "execution_count": null,
   "outputs": [],
   "source": [
    "la = tracking_tools['tt_psc_LA_v04.xlsx'][sheet]"
   ],
   "metadata": {
    "collapsed": false
   },
   "id": "d41df84c770894a3"
  },
  {
   "cell_type": "code",
   "execution_count": null,
   "outputs": [],
   "source": [
    "la.columns = columns_names\n",
    "la = la.drop(la.index[0]).reset_index(drop=True)\n",
    "la.dropna(subset=basic_columns, how='all', inplace=True)\n",
    "la.insert(0, sp, 'LA')"
   ],
   "metadata": {
    "collapsed": false
   },
   "id": "63c0162eacbb8144"
  },
  {
   "cell_type": "code",
   "execution_count": null,
   "outputs": [],
   "source": [
    "mt = tracking_tools['tt_psc_MT_v04.xlsx'][sheet]"
   ],
   "metadata": {
    "collapsed": false
   },
   "id": "6a01e4a0f45ca910"
  },
  {
   "cell_type": "code",
   "execution_count": null,
   "outputs": [],
   "source": [
    "mt.columns = columns_names\n",
    "mt = mt.drop(mt.index[0]).reset_index(drop=True)\n",
    "mt.dropna(subset=basic_columns, how='all', inplace=True)\n",
    "mt.insert(0, sp, 'MT')"
   ],
   "metadata": {
    "collapsed": false
   },
   "id": "ae7aae6c017ac6ed"
  },
  {
   "cell_type": "code",
   "execution_count": null,
   "outputs": [],
   "source": [
    "gc_rows = mt.shape[0] + yq.shape[0] + sa.shape[0] + ij.shape[0] + la.shape[0]\n",
    "gc_rows"
   ],
   "metadata": {
    "collapsed": false
   },
   "id": "a81d63c63660ed15"
  },
  {
   "cell_type": "code",
   "execution_count": null,
   "outputs": [],
   "source": [
    "group_counseling = pd.concat([yq, sa, ij, la, mt], ignore_index=True)"
   ],
   "metadata": {
    "collapsed": false
   },
   "id": "3d29102e95f7a7c1"
  },
  {
   "cell_type": "code",
   "execution_count": null,
   "outputs": [],
   "source": [
    "group_counseling"
   ],
   "metadata": {
    "collapsed": false
   },
   "id": "447f141f2caa0d44"
  },
  {
   "cell_type": "code",
   "execution_count": null,
   "outputs": [],
   "source": [
    "# All group counseling csv file\n",
    "group_counseling.to_csv(r'001/0010_ps_gc_092300.csv', index=False)"
   ],
   "metadata": {
    "collapsed": false
   },
   "id": "7dd95e1f50aec0b0"
  },
  {
   "cell_type": "markdown",
   "source": [
    "# Group Counseling Dataframe"
   ],
   "metadata": {
    "collapsed": false
   },
   "id": "fedb3ff0b3100080"
  },
  {
   "cell_type": "code",
   "execution_count": null,
   "outputs": [],
   "source": [
    "gc = pd.read_csv(r'001/0010_ps_gc_092300.csv')\n",
    "gc[all_date_columns] = gc[all_date_columns].apply(pd.to_datetime)\n",
    "gc = gc.applymap(lambda x: x.strip() if isinstance(x, str) else x)"
   ],
   "metadata": {
    "collapsed": false
   },
   "id": "612836ac6634ed4c"
  },
  {
   "cell_type": "code",
   "execution_count": null,
   "outputs": [],
   "source": [
    "gc[int_columns] = gc[int_columns].astype('Int64')"
   ],
   "metadata": {
    "collapsed": false
   },
   "id": "e983481fe1ada811"
  },
  {
   "cell_type": "code",
   "execution_count": null,
   "outputs": [],
   "source": [
    "gc.shape"
   ],
   "metadata": {
    "collapsed": false
   },
   "id": "e951ed3443bd832a"
  },
  {
   "cell_type": "code",
   "execution_count": null,
   "outputs": [],
   "source": [
    "gc.info()"
   ],
   "metadata": {
    "collapsed": false
   },
   "id": "5fcd942a6a2fd4e4"
  },
  {
   "cell_type": "code",
   "execution_count": null,
   "outputs": [],
   "source": [
    "gc"
   ],
   "metadata": {
    "collapsed": false
   },
   "id": "4fda9620e8240f11"
  },
  {
   "cell_type": "code",
   "execution_count": null,
   "outputs": [],
   "source": [
    "# First cleaned csv file\n",
    "gc.to_csv(r'010/0010_ps_gc_092301.csv', index=False)"
   ],
   "metadata": {
    "collapsed": false
   },
   "id": "34082293d52604f"
  },
  {
   "cell_type": "markdown",
   "source": [
    "# Group Counseling Analysis Version"
   ],
   "metadata": {
    "collapsed": false
   },
   "id": "c92fab732b5bb432"
  },
  {
   "cell_type": "code",
   "execution_count": null,
   "outputs": [],
   "source": [
    "gcl = pd.read_csv(r'010/0010_ps_gc_092301.csv')\n",
    "gcl[all_date_columns] = gcl[all_date_columns].apply(pd.to_datetime)\n",
    "gcl[int_columns] = gcl[int_columns].astype('Int64')"
   ],
   "metadata": {
    "collapsed": false
   },
   "id": "a20bd72d35ca8328"
  },
  {
   "cell_type": "code",
   "execution_count": null,
   "outputs": [],
   "source": [
    "# Deleting mistakenly added records \n",
    "R0187 = gcl[(gcl['gcsp'] == 'SA') & (gcl['fcid'] == 8110050030)].index\n",
    "gcl = gcl.drop(R0187)"
   ],
   "metadata": {
    "collapsed": false
   },
   "id": "f0271a6caed3fd37"
  },
  {
   "cell_type": "code",
   "execution_count": null,
   "outputs": [],
   "source": [
    "gcl.info()"
   ],
   "metadata": {
    "collapsed": false
   },
   "id": "5257a018824b0abe"
  },
  {
   "cell_type": "code",
   "execution_count": null,
   "outputs": [],
   "source": [
    "gcl"
   ],
   "metadata": {
    "collapsed": false
   },
   "id": "e0de03f8b3affc05"
  },
  {
   "cell_type": "code",
   "execution_count": null,
   "outputs": [],
   "source": [
    "# Encoding binary variables - PT Need\n",
    "gcl['ptn'] = gcl['ptn'].replace({\n",
    "    'No PT': 0,\n",
    "    'GPT': 1,\n",
    "    'IPT': 2\n",
    "}).astype('Int64')"
   ],
   "metadata": {
    "collapsed": false
   },
   "id": "42a110f67868dcc5"
  },
  {
   "cell_type": "code",
   "execution_count": null,
   "outputs": [],
   "source": [
    "# Index GC Groups\n",
    "gcl['gcindx'] = indexing_groups(gcl.copy(), group_counseling_basic_date_columns)"
   ],
   "metadata": {
    "collapsed": false
   },
   "id": "b8ac8f80b103cc90"
  },
  {
   "cell_type": "code",
   "execution_count": null,
   "outputs": [],
   "source": [
    "gcl[gcl['fcid'].duplicated(keep=False)]"
   ],
   "metadata": {
    "collapsed": false
   },
   "id": "750cb03047eb9d1f"
  },
  {
   "cell_type": "code",
   "execution_count": null,
   "outputs": [],
   "source": [
    "# Indicating the duplicated records in the data, using repeated_client_indicator function. \n",
    "if 'dupind' not in gcl.columns:\n",
    "    gcl.insert(6, 'dupind', np.nan)\n",
    "gcl['dupind'] = repeated_client_indicator(gcl.copy(), 'fcid', 'gcindx')"
   ],
   "metadata": {
    "collapsed": false
   },
   "id": "cd941292749600e7"
  },
  {
   "cell_type": "code",
   "execution_count": null,
   "outputs": [],
   "source": [
    "# Group Counseling Analysis Complete Dataframe\n",
    "gcl.to_csv(r'010/0010_ps_gc_092302.csv', index=False)"
   ],
   "metadata": {
    "collapsed": false
   },
   "id": "ec24a60331f53d0e"
  },
  {
   "cell_type": "code",
   "execution_count": null,
   "outputs": [],
   "source": [
    "# Intake Analysis Basic Dataframe\n",
    "basic_gcl = gcl.copy()\n",
    "basic_gcl = basic_gcl.drop(columns=['firstname', 'lastname', 'note'])\n",
    "basic_gcl.to_csv(r'011/0010_ps_gc_092310.csv', index=False)"
   ],
   "metadata": {
    "collapsed": false
   },
   "id": "b06fed494e4d4410"
  },
  {
   "cell_type": "code",
   "execution_count": null,
   "outputs": [],
   "source": [],
   "metadata": {
    "collapsed": false
   },
   "id": "fa049ede236c9019"
  }
 ],
 "metadata": {
  "kernelspec": {
   "display_name": "Python 3",
   "language": "python",
   "name": "python3"
  },
  "language_info": {
   "codemirror_mode": {
    "name": "ipython",
    "version": 2
   },
   "file_extension": ".py",
   "mimetype": "text/x-python",
   "name": "python",
   "nbconvert_exporter": "python",
   "pygments_lexer": "ipython2",
   "version": "2.7.6"
  }
 },
 "nbformat": 4,
 "nbformat_minor": 5
}
