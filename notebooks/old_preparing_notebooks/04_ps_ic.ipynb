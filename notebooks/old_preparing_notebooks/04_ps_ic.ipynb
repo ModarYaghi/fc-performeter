{
 "cells": [
  {
   "cell_type": "code",
   "execution_count": null,
   "id": "initial_id",
   "metadata": {
    "collapsed": true
   },
   "source": [
    "import numpy as np\n",
    "import pandas as pd\n",
    "import warnings\n",
    "# from my_analysis_toolkit import read_encrypted_excels, indexing_groups, generate_binary_sequence, repeated_client_indicator\n",
    "# from my_static_data import tt_passwords, individual_counseling_columns, individual_counseling_date_columns, individual_counseling_basic_columns"
   ],
   "outputs": []
  },
  {
   "cell_type": "code",
   "execution_count": null,
   "source": [
    "# Avoid representing large numbers in scientific form. To reset, use the commented line.\n",
    "pd.set_option('display.float_format', '{:.1f}'.format)\n",
    "# pd.reset_option('display.float_format')\n",
    "\n",
    "# Display maximum column width:\n",
    "pd.set_option('display.max_colwidth', None)\n",
    "\n",
    "# Suppress openpyxl data validation warning\n",
    "warnings.filterwarnings(\"ignore\", category=UserWarning, module=\"openpyxl\")"
   ],
   "metadata": {
    "collapsed": false
   },
   "id": "8c80f1a5316103cf",
   "outputs": []
  },
  {
   "cell_type": "code",
   "execution_count": null,
   "source": [
    "# Static Code Variables\n",
    "sheet = 'IC'\n",
    "sp = 'icsp'\n",
    "int_columns = ['icspi', 'fcid', 'ict']\n",
    "columns_names = individual_counseling_columns\n",
    "basic_columns = individual_counseling_basic_columns\n",
    "date_columns = individual_counseling_date_columns\n",
    "passwords = tt_passwords"
   ],
   "metadata": {
    "collapsed": false
   },
   "id": "f58ca7579d8ad976",
   "outputs": []
  },
  {
   "cell_type": "code",
   "execution_count": null,
   "source": [
    "tracking_tools = read_encrypted_excels(r'000', passwords)"
   ],
   "metadata": {
    "collapsed": false
   },
   "id": "e8c9bfef1912ab73",
   "outputs": []
  },
  {
   "cell_type": "markdown",
   "source": [
    "# Process Individual Counseling Sheets"
   ],
   "metadata": {
    "collapsed": false
   },
   "id": "8c639615038c5e90"
  },
  {
   "cell_type": "code",
   "execution_count": null,
   "source": [
    "yq = tracking_tools['tt_psc_YQ-v04.xlsx'][sheet]"
   ],
   "metadata": {
    "collapsed": false
   },
   "id": "8f8dc7451d6c34fe",
   "outputs": []
  },
  {
   "cell_type": "code",
   "execution_count": null,
   "source": [
    "yq"
   ],
   "metadata": {
    "collapsed": false
   },
   "id": "c6feda190eebd12",
   "outputs": []
  },
  {
   "cell_type": "code",
   "execution_count": null,
   "source": [
    "yq.columns = columns_names\n",
    "yq = yq.drop(yq.index[0]).reset_index(drop=True)\n",
    "yq.dropna(subset=basic_columns, how='all', inplace=True)\n",
    "yq.insert(0, sp, 'YQ')"
   ],
   "metadata": {
    "collapsed": false
   },
   "id": "4ee93170aebccde1",
   "outputs": []
  },
  {
   "cell_type": "code",
   "execution_count": null,
   "source": [
    "sa = tracking_tools['tt_psc_SA_v04.xlsx'][sheet]"
   ],
   "metadata": {
    "collapsed": false
   },
   "id": "68dd5131a61a1ded",
   "outputs": []
  },
  {
   "cell_type": "code",
   "execution_count": null,
   "source": [
    "sa.columns = columns_names\n",
    "sa = sa.drop(sa.index[0]).reset_index(drop=True)\n",
    "sa.dropna(subset=basic_columns, how='all', inplace=True)\n",
    "sa.insert(0, sp, 'SA')"
   ],
   "metadata": {
    "collapsed": false
   },
   "id": "5a3b4eec53bb9174",
   "outputs": []
  },
  {
   "cell_type": "code",
   "execution_count": null,
   "source": [
    "ij = tracking_tools['tt_psc_IJ_v04.xlsx'][sheet]"
   ],
   "metadata": {
    "collapsed": false
   },
   "id": "1e8595d18482f1f3",
   "outputs": []
  },
  {
   "cell_type": "code",
   "execution_count": null,
   "source": [
    "ij.columns = columns_names\n",
    "ij = ij.drop(ij.index[0]).reset_index(drop=True)\n",
    "ij.dropna(subset=basic_columns, how='all', inplace=True)\n",
    "ij.insert(0, sp, 'IJ')"
   ],
   "metadata": {
    "collapsed": false
   },
   "id": "3bd96196e3d6822c",
   "outputs": []
  },
  {
   "cell_type": "code",
   "execution_count": null,
   "source": [
    "la = tracking_tools['tt_psc_LA_v04.xlsx'][sheet]"
   ],
   "metadata": {
    "collapsed": false
   },
   "id": "d41df84c770894a3",
   "outputs": []
  },
  {
   "cell_type": "code",
   "execution_count": null,
   "source": [
    "la.columns = columns_names\n",
    "la = la.drop(la.index[0]).reset_index(drop=True)\n",
    "la.dropna(subset=basic_columns, how='all', inplace=True)\n",
    "la.insert(0, sp, 'LA')"
   ],
   "metadata": {
    "collapsed": false
   },
   "id": "63c0162eacbb8144",
   "outputs": []
  },
  {
   "cell_type": "code",
   "execution_count": null,
   "source": [
    "mt = tracking_tools['tt_psc_MT_v04.xlsx'][sheet]"
   ],
   "metadata": {
    "collapsed": false
   },
   "id": "6a01e4a0f45ca910",
   "outputs": []
  },
  {
   "cell_type": "code",
   "execution_count": null,
   "source": [
    "mt.columns = columns_names\n",
    "mt = mt.drop(mt.index[0]).reset_index(drop=True)\n",
    "mt.dropna(subset=basic_columns, how='all', inplace=True)\n",
    "mt.insert(0, sp, 'MT')"
   ],
   "metadata": {
    "collapsed": false
   },
   "id": "ae7aae6c017ac6ed",
   "outputs": []
  },
  {
   "cell_type": "code",
   "execution_count": null,
   "source": [
    "gc_rows = mt.shape[0] + yq.shape[0] + sa.shape[0] + ij.shape[0] + la.shape[0]\n",
    "gc_rows"
   ],
   "metadata": {
    "collapsed": false
   },
   "id": "a81d63c63660ed15",
   "outputs": []
  },
  {
   "cell_type": "code",
   "execution_count": null,
   "source": [
    "individual_counseling = pd.concat([yq, sa, ij, la, mt], ignore_index=True)"
   ],
   "metadata": {
    "collapsed": false
   },
   "id": "3d29102e95f7a7c1",
   "outputs": []
  },
  {
   "cell_type": "code",
   "execution_count": null,
   "source": [
    "individual_counseling"
   ],
   "metadata": {
    "collapsed": false
   },
   "id": "447f141f2caa0d44",
   "outputs": []
  },
  {
   "cell_type": "code",
   "execution_count": null,
   "source": [
    "# All individual counseling csv file\n",
    "individual_counseling.to_csv(r'001/0011_ps_ic_092300.csv', index=False)"
   ],
   "metadata": {
    "collapsed": false
   },
   "id": "7dd95e1f50aec0b0",
   "outputs": []
  },
  {
   "cell_type": "markdown",
   "source": [
    "# Individual Counseling Dataframe"
   ],
   "metadata": {
    "collapsed": false
   },
   "id": "fedb3ff0b3100080"
  },
  {
   "cell_type": "code",
   "execution_count": null,
   "source": [
    "ic = pd.read_csv(r'001/0011_ps_ic_092300.csv')\n",
    "ic[date_columns] = ic[date_columns].apply(pd.to_datetime)\n",
    "ic = ic.applymap(lambda x: x.strip() if isinstance(x, str) else x)\n",
    "ic[int_columns] = ic[int_columns].astype('Int64')\n"
   ],
   "metadata": {
    "collapsed": false
   },
   "id": "612836ac6634ed4c",
   "outputs": []
  },
  {
   "cell_type": "code",
   "execution_count": null,
   "source": [
    "ic.shape"
   ],
   "metadata": {
    "collapsed": false
   },
   "id": "e951ed3443bd832a",
   "outputs": []
  },
  {
   "cell_type": "code",
   "execution_count": null,
   "source": [
    "ic.info()"
   ],
   "metadata": {
    "collapsed": false
   },
   "id": "5fcd942a6a2fd4e4",
   "outputs": []
  },
  {
   "cell_type": "code",
   "execution_count": null,
   "source": [
    "ic"
   ],
   "metadata": {
    "collapsed": false
   },
   "id": "4fda9620e8240f11",
   "outputs": []
  },
  {
   "cell_type": "code",
   "execution_count": null,
   "source": [
    "# Writing the total number of sessions for client R0733,8110080014\n",
    "ic.loc[ic['fcid'] == 8110080014, 'ict'] = ic[date_columns].count(axis=1)"
   ],
   "metadata": {
    "collapsed": false
   },
   "id": "fc63af46e99c4f92",
   "outputs": []
  },
  {
   "cell_type": "code",
   "execution_count": null,
   "source": [
    "# First cleaned csv file\n",
    "ic.to_csv(r'010/0011_ps_ic_092301.csv', index=False)"
   ],
   "metadata": {
    "collapsed": false
   },
   "id": "34082293d52604f",
   "outputs": []
  },
  {
   "cell_type": "markdown",
   "source": [
    "# Individual Counseling Analysis Version"
   ],
   "metadata": {
    "collapsed": false
   },
   "id": "c92fab732b5bb432"
  },
  {
   "cell_type": "code",
   "execution_count": null,
   "source": [
    "icl = pd.read_csv(r'010/0011_ps_ic_092301.csv')\n",
    "icl[date_columns] = icl[date_columns].apply(pd.to_datetime)\n",
    "icl[int_columns] = icl[int_columns].astype('Int64')"
   ],
   "metadata": {
    "collapsed": false
   },
   "id": "a20bd72d35ca8328",
   "outputs": []
  },
  {
   "cell_type": "code",
   "execution_count": null,
   "source": [
    "icl.info()"
   ],
   "metadata": {
    "collapsed": false
   },
   "id": "5257a018824b0abe",
   "outputs": []
  },
  {
   "cell_type": "code",
   "execution_count": null,
   "source": [
    "icl"
   ],
   "metadata": {
    "collapsed": false
   },
   "id": "e0de03f8b3affc05",
   "outputs": []
  },
  {
   "cell_type": "code",
   "execution_count": null,
   "source": [
    "# Encoding binary variables - PT Need\n",
    "icl['ptn'] = icl['ptn'].replace({\n",
    "    'No PT': 0,\n",
    "    'GPT': 1,\n",
    "    'IPT': 2\n",
    "}).astype('Int64')"
   ],
   "metadata": {
    "collapsed": false
   },
   "id": "42a110f67868dcc5",
   "outputs": []
  },
  {
   "cell_type": "code",
   "execution_count": null,
   "source": [
    "# No duplicated rows."
   ],
   "metadata": {
    "collapsed": false
   },
   "id": "750cb03047eb9d1f",
   "outputs": []
  },
  {
   "cell_type": "code",
   "execution_count": null,
   "source": [
    "# Group Counseling Analysis Complete Dataframe\n",
    "icl.to_csv(r'010/0011_ps_ic_092302.csv', index=False)"
   ],
   "metadata": {
    "collapsed": false
   },
   "id": "ec24a60331f53d0e",
   "outputs": []
  },
  {
   "cell_type": "code",
   "execution_count": null,
   "source": [
    "# Intake Analysis Basic Dataframe\n",
    "basic_icl = icl.copy()\n",
    "basic_icl = basic_icl.drop(columns=['firstname', 'lastname', 'note'])\n",
    "basic_icl.to_csv(r'011/0011_ps_ic_092310.csv', index=False)"
   ],
   "metadata": {
    "collapsed": false
   },
   "id": "b06fed494e4d4410",
   "outputs": []
  },
  {
   "cell_type": "code",
   "execution_count": null,
   "source": [],
   "metadata": {
    "collapsed": false
   },
   "id": "fa049ede236c9019",
   "outputs": []
  }
 ],
 "metadata": {
  "kernelspec": {
   "display_name": "Python 3",
   "language": "python",
   "name": "python3"
  },
  "language_info": {
   "codemirror_mode": {
    "name": "ipython",
    "version": 2
   },
   "file_extension": ".py",
   "mimetype": "text/x-python",
   "name": "python",
   "nbconvert_exporter": "python",
   "pygments_lexer": "ipython2",
   "version": "2.7.6"
  }
 },
 "nbformat": 4,
 "nbformat_minor": 5
}
