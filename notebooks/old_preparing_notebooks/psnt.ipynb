{
 "cells": [
  {
   "cell_type": "code",
   "execution_count": 1,
   "id": "initial_id",
   "metadata": {
    "collapsed": true,
    "ExecuteTime": {
     "end_time": "2023-10-09T02:14:04.030927Z",
     "start_time": "2023-10-09T02:14:03.307519300Z"
    }
   },
   "source": [
    "import numpy as np\n",
    "import pandas as pd\n",
    "import warnings\n",
    "from my_static_data import *"
   ],
   "outputs": []
  },
  {
   "cell_type": "code",
   "execution_count": 2,
   "source": [
    "pd.set_option('display.float_format', '{:.1f}'.format)\n",
    "# pd.reset_option('display.float_format')\n",
    "# Display maximum column width:\n",
    "pd.set_option('display.max_colwidth', None)\n",
    "# Suppress openpyxl data validation warning\n",
    "warnings.filterwarnings(\"ignore\", category=UserWarning, module=\"openpyxl\")"
   ],
   "metadata": {
    "collapsed": false,
    "ExecuteTime": {
     "end_time": "2023-10-09T02:14:08.942784500Z",
     "start_time": "2023-10-09T02:14:08.939593300Z"
    }
   },
   "id": "fb7f9de78ce01688",
   "outputs": []
  },
  {
   "cell_type": "code",
   "execution_count": 3,
   "source": [
    "threshold_date = pd.Timestamp('2023-06-30')"
   ],
   "metadata": {
    "collapsed": false,
    "ExecuteTime": {
     "end_time": "2023-10-09T02:14:10.885348500Z",
     "start_time": "2023-10-09T02:14:10.880347200Z"
    }
   },
   "id": "2f67d0a333cd9037",
   "outputs": []
  },
  {
   "cell_type": "code",
   "execution_count": 14,
   "source": [
    "intake = pd.read_csv('0001_ps_nt_092310.csv')\n",
    "intake[intake_numerical_variables] = intake[intake_numerical_variables].astype('Int64')\n",
    "intake[intake_date_columns] = intake[intake_date_columns].apply(pd.to_datetime)"
   ],
   "metadata": {
    "collapsed": false,
    "ExecuteTime": {
     "end_time": "2023-10-09T02:29:03.748579100Z",
     "start_time": "2023-10-09T02:29:03.697916Z"
    }
   },
   "id": "44662ec8810720e9",
   "outputs": []
  },
  {
   "cell_type": "code",
   "execution_count": 15,
   "source": [
    "intake = intake.drop('Unnamed: 0', axis=1)\n",
    "intake"
   ],
   "metadata": {
    "collapsed": false,
    "ExecuteTime": {
     "end_time": "2023-10-09T02:29:04.720095600Z",
     "start_time": "2023-10-09T02:29:04.661571100Z"
    }
   },
   "id": "5a0727b7e177f2d3",
   "outputs": []
  },
  {
   "cell_type": "code",
   "execution_count": 16,
   "source": [
    "nt23 = intake[(intake[['nt1', 'nt2', 'nt3', 'ntre']] > threshold_date).any(axis=1)]"
   ],
   "metadata": {
    "collapsed": false,
    "ExecuteTime": {
     "end_time": "2023-10-09T02:29:20.651725400Z",
     "start_time": "2023-10-09T02:29:20.602055700Z"
    }
   },
   "id": "c574f6cd5db97b87",
   "outputs": []
  },
  {
   "cell_type": "code",
   "execution_count": 20,
   "source": [
    "nt23 = nt23[(nt23['nt'] > 0)]\n",
    "nt23.to_clipboard()"
   ],
   "metadata": {
    "collapsed": false,
    "ExecuteTime": {
     "end_time": "2023-10-09T02:47:08.551068600Z",
     "start_time": "2023-10-09T02:47:08.467012500Z"
    }
   },
   "id": "fdaaebfd11080b31",
   "outputs": []
  },
  {
   "cell_type": "code",
   "execution_count": 21,
   "source": [
    "intake_sessions = nt23['nt'].value_counts()\n",
    "intake_sessions.to_clipboard()"
   ],
   "metadata": {
    "collapsed": false,
    "ExecuteTime": {
     "end_time": "2023-10-09T02:49:33.478273200Z",
     "start_time": "2023-10-09T02:49:33.426463700Z"
    }
   },
   "id": "4c8b48a52a2d929e",
   "outputs": []
  },
  {
   "cell_type": "code",
   "execution_count": 30,
   "source": [
    "# int_fcid = nt23[['rid', 'fcid']]\n",
    "# int_fcid = pd.DataFrame(int_fcid).reset_index(drop=True)\n",
    "# int_fcid"
   ],
   "metadata": {
    "collapsed": false,
    "ExecuteTime": {
     "end_time": "2023-10-09T03:18:11.869258300Z",
     "start_time": "2023-10-09T03:18:11.862046Z"
    }
   },
   "id": "892d85cc326f1491",
   "outputs": []
  },
  {
   "cell_type": "code",
   "execution_count": 31,
   "source": [
    "screening = pd.read_csv('0000_ps_sc_092310.csv')\n",
    "# screening"
   ],
   "metadata": {
    "collapsed": false,
    "ExecuteTime": {
     "end_time": "2023-10-09T03:18:22.177577400Z",
     "start_time": "2023-10-09T03:18:22.124710800Z"
    }
   },
   "id": "ec1abf8736fa84e5",
   "outputs": []
  },
  {
   "cell_type": "code",
   "execution_count": 29,
   "source": [
    "# merged_df = pd.merge(int_fcid, screening, on='rid', how='inner')\n",
    "# merged_df = merged_df[['rid', 'fcid', 'sex']]\n",
    "# merged_df['sex'].value_counts().to_clipboard()"
   ],
   "metadata": {
    "collapsed": false,
    "ExecuteTime": {
     "end_time": "2023-10-09T03:16:39.453443400Z",
     "start_time": "2023-10-09T03:16:39.400432Z"
    }
   },
   "id": "4dd043a760169b8f",
   "outputs": []
  },
  {
   "cell_type": "code",
   "execution_count": null,
   "source": [
    "# scr223"
   ],
   "metadata": {
    "collapsed": false
   },
   "id": "50208731ee659160",
   "outputs": []
  },
  {
   "cell_type": "code",
   "execution_count": 32,
   "source": [
    "nt23"
   ],
   "metadata": {
    "collapsed": false,
    "ExecuteTime": {
     "end_time": "2023-10-09T03:19:49.371058300Z",
     "start_time": "2023-10-09T03:19:49.336517200Z"
    }
   },
   "id": "b2f39ef1d75600c2",
   "outputs": []
  },
  {
   "cell_type": "code",
   "execution_count": 34,
   "source": [
    "nt_victimhood = pd.DataFrame({\n",
    "    'column_name': victimhood,\n",
    "    'count_1': (nt23[victimhood] == 1).sum(),\n",
    "    'count_0': (nt23[victimhood] == 0).sum(),\n",
    "    'count_nan': (nt23[victimhood].isna().sum())\n",
    "}).reset_index(drop=True)\n",
    "\n",
    "nt_victimhood"
   ],
   "metadata": {
    "collapsed": false,
    "ExecuteTime": {
     "end_time": "2023-10-09T03:22:09.138504200Z",
     "start_time": "2023-10-09T03:22:09.093400300Z"
    }
   },
   "id": "95d6ac9fde19b942",
   "outputs": []
  },
  {
   "cell_type": "code",
   "execution_count": 35,
   "source": [
    "nt_victimhood.to_clipboard()"
   ],
   "metadata": {
    "collapsed": false,
    "ExecuteTime": {
     "end_time": "2023-10-09T03:22:27.014727100Z",
     "start_time": "2023-10-09T03:22:26.951626200Z"
    }
   },
   "id": "eca2917b3c7c1c09",
   "outputs": []
  }
 ],
 "metadata": {
  "kernelspec": {
   "display_name": "Python 3",
   "language": "python",
   "name": "python3"
  },
  "language_info": {
   "codemirror_mode": {
    "name": "ipython",
    "version": 2
   },
   "file_extension": ".py",
   "mimetype": "text/x-python",
   "name": "python",
   "nbconvert_exporter": "python",
   "pygments_lexer": "ipython2",
   "version": "2.7.6"
  }
 },
 "nbformat": 4,
 "nbformat_minor": 5
}
