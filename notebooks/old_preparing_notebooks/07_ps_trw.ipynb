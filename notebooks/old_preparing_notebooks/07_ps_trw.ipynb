{
 "cells": [
  {
   "cell_type": "code",
   "execution_count": 1,
   "id": "initial_id",
   "metadata": {
    "collapsed": true,
    "ExecuteTime": {
     "end_time": "2023-10-05T13:01:38.625223700Z",
     "start_time": "2023-10-05T13:01:37.844905900Z"
    }
   },
   "outputs": [],
   "source": [
    "import numpy as np\n",
    "import pandas as pd\n",
    "import warnings\n",
    "from my_analysis_toolkit import read_encrypted_excels, indexing_groups\n",
    "from my_static_data import tt_passwords, trw_columns, trw_date_columns, trw_basic_columns, trw_int_columns"
   ]
  },
  {
   "cell_type": "code",
   "execution_count": 2,
   "outputs": [],
   "source": [
    "# Avoid representing large numbers in scientific form. To reset, use the commented line.\n",
    "pd.set_option('display.float_format', '{:.1f}'.format)\n",
    "# pd.reset_option('display.float_format')\n",
    "\n",
    "# Display maximum column width:\n",
    "pd.set_option('display.max_colwidth', None)\n",
    "\n",
    "# Suppress openpyxl data validation warning\n",
    "warnings.filterwarnings(\"ignore\", category=UserWarning, module=\"openpyxl\")"
   ],
   "metadata": {
    "collapsed": false,
    "ExecuteTime": {
     "end_time": "2023-10-05T13:01:39.244791300Z",
     "start_time": "2023-10-05T13:01:39.235706100Z"
    }
   },
   "id": "8c80f1a5316103cf"
  },
  {
   "cell_type": "code",
   "execution_count": 3,
   "outputs": [],
   "source": [
    "# Static Code Variables\n",
    "sheet = 'TRW'\n",
    "sp = 'trsp'\n",
    "passwords = tt_passwords\n",
    "columns_names = trw_columns\n",
    "basic_columns = trw_basic_columns\n",
    "date_columns = trw_date_columns\n",
    "int_columns = trw_int_columns"
   ],
   "metadata": {
    "collapsed": false,
    "ExecuteTime": {
     "end_time": "2023-10-05T13:01:39.904559800Z",
     "start_time": "2023-10-05T13:01:39.894879100Z"
    }
   },
   "id": "f58ca7579d8ad976"
  },
  {
   "cell_type": "code",
   "execution_count": null,
   "outputs": [],
   "source": [
    "tracking_tools = read_encrypted_excels(r'000', passwords)"
   ],
   "metadata": {
    "collapsed": false
   },
   "id": "e8c9bfef1912ab73"
  },
  {
   "cell_type": "markdown",
   "source": [
    "# Process TRW Sheets"
   ],
   "metadata": {
    "collapsed": false
   },
   "id": "8c639615038c5e90"
  },
  {
   "cell_type": "code",
   "execution_count": null,
   "outputs": [],
   "source": [
    "yq = tracking_tools['tt_psc_YQ-v04.xlsx'][sheet]"
   ],
   "metadata": {
    "collapsed": false
   },
   "id": "8f8dc7451d6c34fe"
  },
  {
   "cell_type": "code",
   "execution_count": null,
   "outputs": [],
   "source": [
    "yq"
   ],
   "metadata": {
    "collapsed": false
   },
   "id": "9162991bf9701e1f"
  },
  {
   "cell_type": "code",
   "execution_count": null,
   "outputs": [],
   "source": [
    "yq.columns = columns_names\n",
    "yq = yq.drop(yq.index[0]).reset_index(drop=True)\n",
    "yq.dropna(subset=basic_columns, how='all', inplace=True)\n",
    "yq.insert(0, sp, 'YQ')"
   ],
   "metadata": {
    "collapsed": false
   },
   "id": "4ee93170aebccde1"
  },
  {
   "cell_type": "code",
   "execution_count": null,
   "outputs": [],
   "source": [
    "sa = tracking_tools['tt_psc_SA_v04.xlsx'][sheet]"
   ],
   "metadata": {
    "collapsed": false
   },
   "id": "68dd5131a61a1ded"
  },
  {
   "cell_type": "code",
   "execution_count": null,
   "outputs": [],
   "source": [
    "sa.columns = columns_names\n",
    "sa = sa.drop(sa.index[0]).reset_index(drop=True)\n",
    "sa.dropna(subset=basic_columns, how='all', inplace=True)\n",
    "sa.insert(0, sp, 'SA')"
   ],
   "metadata": {
    "collapsed": false
   },
   "id": "5a3b4eec53bb9174"
  },
  {
   "cell_type": "code",
   "execution_count": null,
   "outputs": [],
   "source": [
    "ij = tracking_tools['tt_psc_IJ_v04.xlsx'][sheet]"
   ],
   "metadata": {
    "collapsed": false
   },
   "id": "1e8595d18482f1f3"
  },
  {
   "cell_type": "code",
   "execution_count": null,
   "outputs": [],
   "source": [
    "ij.columns = columns_names\n",
    "ij = ij.drop(ij.index[0]).reset_index(drop=True)\n",
    "ij.dropna(subset=basic_columns, how='all', inplace=True)\n",
    "ij.insert(0, sp, 'IJ')"
   ],
   "metadata": {
    "collapsed": false
   },
   "id": "3bd96196e3d6822c"
  },
  {
   "cell_type": "code",
   "execution_count": null,
   "outputs": [],
   "source": [
    "la = tracking_tools['tt_psc_LA_v04.xlsx'][sheet]"
   ],
   "metadata": {
    "collapsed": false
   },
   "id": "d41df84c770894a3"
  },
  {
   "cell_type": "code",
   "execution_count": null,
   "outputs": [],
   "source": [
    "la.columns = columns_names\n",
    "la = la.drop(la.index[0]).reset_index(drop=True)\n",
    "la.dropna(subset=basic_columns, how='all', inplace=True)\n",
    "la.insert(0, sp, 'LA')"
   ],
   "metadata": {
    "collapsed": false
   },
   "id": "63c0162eacbb8144"
  },
  {
   "cell_type": "code",
   "execution_count": null,
   "outputs": [],
   "source": [
    "mt = tracking_tools['tt_psc_MT_v04.xlsx'][sheet]"
   ],
   "metadata": {
    "collapsed": false
   },
   "id": "6a01e4a0f45ca910"
  },
  {
   "cell_type": "code",
   "execution_count": null,
   "outputs": [],
   "source": [
    "mt.columns = columns_names\n",
    "mt = mt.drop(mt.index[0]).reset_index(drop=True)\n",
    "mt.dropna(subset=basic_columns, how='all', inplace=True)\n",
    "mt.insert(0, sp, 'MT')"
   ],
   "metadata": {
    "collapsed": false
   },
   "id": "ae7aae6c017ac6ed"
  },
  {
   "cell_type": "code",
   "execution_count": null,
   "outputs": [],
   "source": [
    "pe_rows = mt.shape[0] + yq.shape[0] + sa.shape[0] + ij.shape[0] + la.shape[0]\n",
    "pe_rows"
   ],
   "metadata": {
    "collapsed": false
   },
   "id": "a81d63c63660ed15"
  },
  {
   "cell_type": "code",
   "execution_count": null,
   "outputs": [],
   "source": [
    "tr_workshop = pd.concat([yq, sa, ij, la, mt], ignore_index=True)"
   ],
   "metadata": {
    "collapsed": false
   },
   "id": "3d29102e95f7a7c1"
  },
  {
   "cell_type": "code",
   "execution_count": null,
   "outputs": [],
   "source": [
    "tr_workshop"
   ],
   "metadata": {
    "collapsed": false
   },
   "id": "447f141f2caa0d44"
  },
  {
   "cell_type": "code",
   "execution_count": null,
   "outputs": [],
   "source": [
    "# All TRW csv file\n",
    "tr_workshop.to_csv(r'001/0110_ps_tr_092300.csv', index=False)"
   ],
   "metadata": {
    "collapsed": false
   },
   "id": "7dd95e1f50aec0b0"
  },
  {
   "cell_type": "markdown",
   "source": [
    "#  TRW Dataframe"
   ],
   "metadata": {
    "collapsed": false
   },
   "id": "fedb3ff0b3100080"
  },
  {
   "cell_type": "code",
   "execution_count": 4,
   "outputs": [],
   "source": [
    "trw = pd.read_csv(r'001/0110_ps_tr_092300.csv')\n",
    "trw[date_columns] = trw[date_columns].apply(pd.to_datetime)\n",
    "trw = trw.applymap(lambda x: x.strip() if isinstance(x, str) else x)\n",
    "trw[int_columns] = trw[int_columns].astype('Int64')"
   ],
   "metadata": {
    "collapsed": false,
    "ExecuteTime": {
     "end_time": "2023-10-05T13:02:01.947999500Z",
     "start_time": "2023-10-05T13:02:01.924834200Z"
    }
   },
   "id": "612836ac6634ed4c"
  },
  {
   "cell_type": "code",
   "execution_count": 5,
   "outputs": [
    {
     "data": {
      "text/plain": "(80, 12)"
     },
     "execution_count": 5,
     "metadata": {},
     "output_type": "execute_result"
    }
   ],
   "source": [
    "trw.shape"
   ],
   "metadata": {
    "collapsed": false,
    "ExecuteTime": {
     "end_time": "2023-10-05T13:02:08.324828700Z",
     "start_time": "2023-10-05T13:02:08.304588500Z"
    }
   },
   "id": "e951ed3443bd832a"
  },
  {
   "cell_type": "code",
   "execution_count": 6,
   "outputs": [
    {
     "name": "stdout",
     "output_type": "stream",
     "text": [
      "<class 'pandas.core.frame.DataFrame'>\n",
      "RangeIndex: 80 entries, 0 to 79\n",
      "Data columns (total 12 columns):\n",
      " #   Column     Non-Null Count  Dtype         \n",
      "---  ------     --------------  -----         \n",
      " 0   trsp       80 non-null     object        \n",
      " 1   trspi      80 non-null     Int64         \n",
      " 2   rid        80 non-null     object        \n",
      " 3   fcid       14 non-null     Int64         \n",
      " 4   firstname  80 non-null     object        \n",
      " 5   lastname   80 non-null     object        \n",
      " 6   tr1        70 non-null     datetime64[ns]\n",
      " 7   tr2        64 non-null     datetime64[ns]\n",
      " 8   trt        80 non-null     Int64         \n",
      " 9   fac1       34 non-null     object        \n",
      " 10  fac2       34 non-null     object        \n",
      " 11  note       6 non-null      object        \n",
      "dtypes: Int64(3), datetime64[ns](2), object(7)\n",
      "memory usage: 7.9+ KB\n"
     ]
    }
   ],
   "source": [
    "trw.info()"
   ],
   "metadata": {
    "collapsed": false,
    "ExecuteTime": {
     "end_time": "2023-10-05T13:02:13.034769900Z",
     "start_time": "2023-10-05T13:02:12.994802600Z"
    }
   },
   "id": "5fcd942a6a2fd4e4"
  },
  {
   "cell_type": "code",
   "execution_count": 7,
   "outputs": [],
   "source": [
    "# First cleaned csv file\n",
    "trw.to_csv(r'010/0110_ps_tr_092301.csv', index=False)"
   ],
   "metadata": {
    "collapsed": false,
    "ExecuteTime": {
     "end_time": "2023-10-05T13:03:18.564479400Z",
     "start_time": "2023-10-05T13:03:18.534795500Z"
    }
   },
   "id": "34082293d52604f"
  },
  {
   "cell_type": "markdown",
   "source": [
    "# TRW Analysis Version"
   ],
   "metadata": {
    "collapsed": false
   },
   "id": "c92fab732b5bb432"
  },
  {
   "cell_type": "code",
   "execution_count": 8,
   "outputs": [],
   "source": [
    "tr = pd.read_csv(r'010/0110_ps_tr_092301.csv')\n",
    "tr[date_columns] = tr[date_columns].apply(pd.to_datetime)\n",
    "tr[int_columns] = tr[int_columns].astype('Int64')"
   ],
   "metadata": {
    "collapsed": false,
    "ExecuteTime": {
     "end_time": "2023-10-05T13:07:26.737848Z",
     "start_time": "2023-10-05T13:07:26.703847600Z"
    }
   },
   "id": "a20bd72d35ca8328"
  },
  {
   "cell_type": "code",
   "execution_count": 9,
   "outputs": [
    {
     "name": "stdout",
     "output_type": "stream",
     "text": [
      "<class 'pandas.core.frame.DataFrame'>\n",
      "RangeIndex: 80 entries, 0 to 79\n",
      "Data columns (total 12 columns):\n",
      " #   Column     Non-Null Count  Dtype         \n",
      "---  ------     --------------  -----         \n",
      " 0   trsp       80 non-null     object        \n",
      " 1   trspi      80 non-null     Int64         \n",
      " 2   rid        80 non-null     object        \n",
      " 3   fcid       14 non-null     Int64         \n",
      " 4   firstname  80 non-null     object        \n",
      " 5   lastname   80 non-null     object        \n",
      " 6   tr1        70 non-null     datetime64[ns]\n",
      " 7   tr2        64 non-null     datetime64[ns]\n",
      " 8   trt        80 non-null     Int64         \n",
      " 9   fac1       34 non-null     object        \n",
      " 10  fac2       34 non-null     object        \n",
      " 11  note       6 non-null      object        \n",
      "dtypes: Int64(3), datetime64[ns](2), object(7)\n",
      "memory usage: 7.9+ KB\n"
     ]
    }
   ],
   "source": [
    "tr.info()"
   ],
   "metadata": {
    "collapsed": false,
    "ExecuteTime": {
     "end_time": "2023-10-05T13:07:28.942357700Z",
     "start_time": "2023-10-05T13:07:28.903870700Z"
    }
   },
   "id": "5257a018824b0abe"
  },
  {
   "cell_type": "code",
   "execution_count": 14,
   "outputs": [
    {
     "data": {
      "text/plain": "   trsp  trspi    rid        fcid firstname      lastname  trindx        tr1  \\\n0    YQ      1  R0003  8110020015      عبير          خطيب       1 2021-10-25   \n1    YQ      2  R0005  8110020021     فاطمة         العلي       1 2021-10-25   \n2    YQ      3  R0029  8110020036     ميساء        الجمعة       1 2021-10-25   \n3    YQ      4  R0089  8110060012      حنان          جزار       1 2021-10-25   \n4    YQ      5  R0202        <NA>      وفاء         مشاعل       2 2022-03-23   \n..  ...    ...    ...         ...       ...           ...     ...        ...   \n73   IJ     28  R0327  8110020095     شريفة  احمد ابراهيم       8 2023-08-24   \n74   IJ     29  R0326        <NA>     اسماء         عزيزة       8 2023-08-24   \n75   IJ     30  R0631        <NA>      ليلى         شاهين       8        NaT   \n76   IJ     31  R0354        <NA>      الاء         الجلم       8 2023-08-24   \n78   IJ     33  R0374        <NA>      نهوى         مصطفى       8 2023-08-24   \n\n          tr2  trt   fac1  fac2                                  note  \n0  2021-11-01    2    NaN   NaN                                   NaN  \n1  2021-11-01    2    NaN   NaN                                   NaN  \n2  2021-11-01    2    NaN   NaN                                   NaN  \n3  2021-11-01    2    NaN   NaN                                   NaN  \n4  2022-03-28    2    NaN   NaN                                   NaN  \n..        ...  ...    ...   ...                                   ...  \n73 2023-08-25    2  Israa  Hiba  تم ضمها للورشة لان موعد الجلسات بعيد  \n74 2023-08-25    2  Israa  Hiba                                   NaN  \n75 2023-08-25    1  Israa  Hiba                                   NaN  \n76 2023-08-25    2  Israa  Hiba                                   NaN  \n78        NaT    1  Israa  Hiba                                   NaN  \n\n[74 rows x 13 columns]",
      "text/html": "<div>\n<style scoped>\n    .dataframe tbody tr th:only-of-type {\n        vertical-align: middle;\n    }\n\n    .dataframe tbody tr th {\n        vertical-align: top;\n    }\n\n    .dataframe thead th {\n        text-align: right;\n    }\n</style>\n<table border=\"1\" class=\"dataframe\">\n  <thead>\n    <tr style=\"text-align: right;\">\n      <th></th>\n      <th>trsp</th>\n      <th>trspi</th>\n      <th>rid</th>\n      <th>fcid</th>\n      <th>firstname</th>\n      <th>lastname</th>\n      <th>trindx</th>\n      <th>tr1</th>\n      <th>tr2</th>\n      <th>trt</th>\n      <th>fac1</th>\n      <th>fac2</th>\n      <th>note</th>\n    </tr>\n  </thead>\n  <tbody>\n    <tr>\n      <th>0</th>\n      <td>YQ</td>\n      <td>1</td>\n      <td>R0003</td>\n      <td>8110020015</td>\n      <td>عبير</td>\n      <td>خطيب</td>\n      <td>1</td>\n      <td>2021-10-25</td>\n      <td>2021-11-01</td>\n      <td>2</td>\n      <td>NaN</td>\n      <td>NaN</td>\n      <td>NaN</td>\n    </tr>\n    <tr>\n      <th>1</th>\n      <td>YQ</td>\n      <td>2</td>\n      <td>R0005</td>\n      <td>8110020021</td>\n      <td>فاطمة</td>\n      <td>العلي</td>\n      <td>1</td>\n      <td>2021-10-25</td>\n      <td>2021-11-01</td>\n      <td>2</td>\n      <td>NaN</td>\n      <td>NaN</td>\n      <td>NaN</td>\n    </tr>\n    <tr>\n      <th>2</th>\n      <td>YQ</td>\n      <td>3</td>\n      <td>R0029</td>\n      <td>8110020036</td>\n      <td>ميساء</td>\n      <td>الجمعة</td>\n      <td>1</td>\n      <td>2021-10-25</td>\n      <td>2021-11-01</td>\n      <td>2</td>\n      <td>NaN</td>\n      <td>NaN</td>\n      <td>NaN</td>\n    </tr>\n    <tr>\n      <th>3</th>\n      <td>YQ</td>\n      <td>4</td>\n      <td>R0089</td>\n      <td>8110060012</td>\n      <td>حنان</td>\n      <td>جزار</td>\n      <td>1</td>\n      <td>2021-10-25</td>\n      <td>2021-11-01</td>\n      <td>2</td>\n      <td>NaN</td>\n      <td>NaN</td>\n      <td>NaN</td>\n    </tr>\n    <tr>\n      <th>4</th>\n      <td>YQ</td>\n      <td>5</td>\n      <td>R0202</td>\n      <td>&lt;NA&gt;</td>\n      <td>وفاء</td>\n      <td>مشاعل</td>\n      <td>2</td>\n      <td>2022-03-23</td>\n      <td>2022-03-28</td>\n      <td>2</td>\n      <td>NaN</td>\n      <td>NaN</td>\n      <td>NaN</td>\n    </tr>\n    <tr>\n      <th>...</th>\n      <td>...</td>\n      <td>...</td>\n      <td>...</td>\n      <td>...</td>\n      <td>...</td>\n      <td>...</td>\n      <td>...</td>\n      <td>...</td>\n      <td>...</td>\n      <td>...</td>\n      <td>...</td>\n      <td>...</td>\n      <td>...</td>\n    </tr>\n    <tr>\n      <th>73</th>\n      <td>IJ</td>\n      <td>28</td>\n      <td>R0327</td>\n      <td>8110020095</td>\n      <td>شريفة</td>\n      <td>احمد ابراهيم</td>\n      <td>8</td>\n      <td>2023-08-24</td>\n      <td>2023-08-25</td>\n      <td>2</td>\n      <td>Israa</td>\n      <td>Hiba</td>\n      <td>تم ضمها للورشة لان موعد الجلسات بعيد</td>\n    </tr>\n    <tr>\n      <th>74</th>\n      <td>IJ</td>\n      <td>29</td>\n      <td>R0326</td>\n      <td>&lt;NA&gt;</td>\n      <td>اسماء</td>\n      <td>عزيزة</td>\n      <td>8</td>\n      <td>2023-08-24</td>\n      <td>2023-08-25</td>\n      <td>2</td>\n      <td>Israa</td>\n      <td>Hiba</td>\n      <td>NaN</td>\n    </tr>\n    <tr>\n      <th>75</th>\n      <td>IJ</td>\n      <td>30</td>\n      <td>R0631</td>\n      <td>&lt;NA&gt;</td>\n      <td>ليلى</td>\n      <td>شاهين</td>\n      <td>8</td>\n      <td>NaT</td>\n      <td>2023-08-25</td>\n      <td>1</td>\n      <td>Israa</td>\n      <td>Hiba</td>\n      <td>NaN</td>\n    </tr>\n    <tr>\n      <th>76</th>\n      <td>IJ</td>\n      <td>31</td>\n      <td>R0354</td>\n      <td>&lt;NA&gt;</td>\n      <td>الاء</td>\n      <td>الجلم</td>\n      <td>8</td>\n      <td>2023-08-24</td>\n      <td>2023-08-25</td>\n      <td>2</td>\n      <td>Israa</td>\n      <td>Hiba</td>\n      <td>NaN</td>\n    </tr>\n    <tr>\n      <th>78</th>\n      <td>IJ</td>\n      <td>33</td>\n      <td>R0374</td>\n      <td>&lt;NA&gt;</td>\n      <td>نهوى</td>\n      <td>مصطفى</td>\n      <td>8</td>\n      <td>2023-08-24</td>\n      <td>NaT</td>\n      <td>1</td>\n      <td>Israa</td>\n      <td>Hiba</td>\n      <td>NaN</td>\n    </tr>\n  </tbody>\n</table>\n<p>74 rows × 13 columns</p>\n</div>"
     },
     "execution_count": 14,
     "metadata": {},
     "output_type": "execute_result"
    }
   ],
   "source": [
    "tr"
   ],
   "metadata": {
    "collapsed": false,
    "ExecuteTime": {
     "end_time": "2023-10-05T13:39:35.710294900Z",
     "start_time": "2023-10-05T13:39:35.680808700Z"
    }
   },
   "id": "e0de03f8b3affc05"
  },
  {
   "cell_type": "code",
   "execution_count": null,
   "outputs": [],
   "source": [],
   "metadata": {
    "collapsed": false
   },
   "id": "576d610368df6a50"
  },
  {
   "cell_type": "code",
   "execution_count": 11,
   "outputs": [],
   "source": [
    "# Indexing PEI groups\n",
    "if 'trindx' not in tr.columns:\n",
    "    tr.insert(6, 'trindx', np.nan)\n",
    "    \n",
    "tr['trindx'] = indexing_groups(tr, trw_date_columns)"
   ],
   "metadata": {
    "collapsed": false,
    "ExecuteTime": {
     "end_time": "2023-10-05T13:09:39.468964500Z",
     "start_time": "2023-10-05T13:09:39.428816Z"
    }
   },
   "id": "42a110f67868dcc5"
  },
  {
   "cell_type": "code",
   "execution_count": 13,
   "outputs": [],
   "source": [
    "# Delete clients didn't appear from data\n",
    "tr = tr.drop(\n",
    "    tr[tr['trindx'] == 0].index\n",
    ")"
   ],
   "metadata": {
    "collapsed": false,
    "ExecuteTime": {
     "end_time": "2023-10-05T13:39:29.829165900Z",
     "start_time": "2023-10-05T13:39:29.812212100Z"
    }
   },
   "id": "9f5790f6ad2c15dc"
  },
  {
   "cell_type": "code",
   "execution_count": 17,
   "outputs": [],
   "source": [
    "# No TRW duplicated rows appeared."
   ],
   "metadata": {
    "collapsed": false,
    "ExecuteTime": {
     "end_time": "2023-10-05T13:42:02.795508Z",
     "start_time": "2023-10-05T13:42:02.763560700Z"
    }
   },
   "id": "750cb03047eb9d1f"
  },
  {
   "cell_type": "code",
   "execution_count": 18,
   "outputs": [],
   "source": [
    "# TRW Analysis Complete Dataframe\n",
    "tr.to_csv(r'010/0110_ps_tr_092302.csv', index=False)"
   ],
   "metadata": {
    "collapsed": false,
    "ExecuteTime": {
     "end_time": "2023-10-05T13:42:40.410213400Z",
     "start_time": "2023-10-05T13:42:40.390047500Z"
    }
   },
   "id": "ec24a60331f53d0e"
  },
  {
   "cell_type": "code",
   "execution_count": 19,
   "outputs": [],
   "source": [
    "# TRW Analysis Basic Dataframe\n",
    "basic_tr = tr.copy()\n",
    "basic_tr = basic_tr.drop(columns=['firstname', 'lastname', 'fac1', 'fac2','note'])\n",
    "basic_tr.to_csv(r'011/0110_ps_tr_092310.csv', index=False)"
   ],
   "metadata": {
    "collapsed": false,
    "ExecuteTime": {
     "end_time": "2023-10-05T13:44:51.760021500Z",
     "start_time": "2023-10-05T13:44:51.730058400Z"
    }
   },
   "id": "b06fed494e4d4410"
  },
  {
   "cell_type": "markdown",
   "source": [
    "### TRW DATA PREPARED AND READY"
   ],
   "metadata": {
    "collapsed": false
   },
   "id": "6119f9727e8bd428"
  }
 ],
 "metadata": {
  "kernelspec": {
   "display_name": "Python 3",
   "language": "python",
   "name": "python3"
  },
  "language_info": {
   "codemirror_mode": {
    "name": "ipython",
    "version": 2
   },
   "file_extension": ".py",
   "mimetype": "text/x-python",
   "name": "python",
   "nbconvert_exporter": "python",
   "pygments_lexer": "ipython2",
   "version": "2.7.6"
  }
 },
 "nbformat": 4,
 "nbformat_minor": 5
}
