{
 "cells": [
  {
   "cell_type": "code",
   "execution_count": null,
   "id": "bb97e206cc4d959c",
   "metadata": {},
   "outputs": [],
   "source": [
    "import numpy as np\n",
    "import pandas as pd\n",
    "import warnings"
   ]
  },
  {
   "cell_type": "code",
   "execution_count": null,
   "id": "979ea336f46591d6",
   "metadata": {},
   "outputs": [],
   "source": [
    "pd.set_option('display.float_format', '{:.1f}'.format)\n",
    "# pd.reset_option('display.float_format')\n",
    "# Display maximum column width:\n",
    "pd.set_option('display.max_colwidth', None)\n",
    "# Suppress openpyxl data validation warning\n",
    "warnings.filterwarnings(\"ignore\", category=UserWarning, module=\"openpyxl\")\n",
    "threshold_date = pd.Timestamp('2023-06-30')"
   ]
  },
  {
   "cell_type": "code",
   "execution_count": null,
   "id": "90e89bebf69ac2dc",
   "metadata": {},
   "outputs": [],
   "source": [
    "scr = pd.read_csv('0000_ps_sc_092310.csv')\n",
    "scrq = scr.drop_duplicates(subset='rid', keep='last')\n",
    "td = pd.read_csv('0111_ps_td_092310.csv')"
   ]
  },
  {
   "cell_type": "code",
   "execution_count": null,
   "id": "initial_id",
   "metadata": {},
   "outputs": [],
   "source": [
    "td[td_date_columns] = td[td_date_columns].apply(pd.to_datetime)\n",
    "td[td_int_columns] = td[td_int_columns].astype('Int64')\n",
    "tdq323 = td[(td[td_date_columns] > threshold_date).any(axis=1)]\n",
    "tdq323"
   ]
  },
  {
   "cell_type": "code",
   "execution_count": null,
   "id": "80d7c7d2e43817b0",
   "metadata": {},
   "outputs": [],
   "source": [
    "td[td['fcid'] == 8110020035]"
   ]
  },
  {
   "cell_type": "code",
   "execution_count": null,
   "id": "7ac0871b6a7014e2",
   "metadata": {},
   "outputs": [],
   "source": [
    "td"
   ]
  },
  {
   "cell_type": "code",
   "execution_count": null,
   "id": "96659931bca2a08b",
   "metadata": {},
   "outputs": [],
   "source": [
    "cw = pd.read_csv('1000_ps_cw_092310.csv')\n",
    "cw"
   ]
  }
 ],
 "metadata": {
  "kernelspec": {
   "display_name": "Python 3",
   "language": "python",
   "name": "python3"
  },
  "language_info": {
   "codemirror_mode": {
    "name": "ipython",
    "version": 2
   },
   "file_extension": ".py",
   "mimetype": "text/x-python",
   "name": "python",
   "nbconvert_exporter": "python",
   "pygments_lexer": "ipython2",
   "version": "2.7.6"
  }
 },
 "nbformat": 4,
 "nbformat_minor": 5
}
