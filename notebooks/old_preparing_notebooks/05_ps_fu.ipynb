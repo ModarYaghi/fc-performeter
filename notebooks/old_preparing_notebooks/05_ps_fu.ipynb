{
 "cells": [
  {
   "cell_type": "code",
   "execution_count": 1,
   "id": "initial_id",
   "metadata": {
    "collapsed": true,
    "ExecuteTime": {
     "end_time": "2023-10-04T19:26:24.895690500Z",
     "start_time": "2023-10-04T19:26:24.092292Z"
    }
   },
   "outputs": [],
   "source": [
    "import numpy as np\n",
    "import pandas as pd\n",
    "import warnings\n",
    "from my_analysis_toolkit import read_encrypted_excels, generate_binary_sequence\n",
    "from my_static_data import tt_passwords, follow_up_columns, follow_up_date_columns, follow_up_basic_columns, follow_up_int_columns"
   ]
  },
  {
   "cell_type": "code",
   "execution_count": 2,
   "outputs": [],
   "source": [
    "# Avoid representing large numbers in scientific form. To reset, use the commented line.\n",
    "pd.set_option('display.float_format', '{:.1f}'.format)\n",
    "# pd.reset_option('display.float_format')\n",
    "\n",
    "# Display maximum column width:\n",
    "pd.set_option('display.max_colwidth', None)\n",
    "\n",
    "# Suppress openpyxl data validation warning\n",
    "warnings.filterwarnings(\"ignore\", category=UserWarning, module=\"openpyxl\")"
   ],
   "metadata": {
    "collapsed": false,
    "ExecuteTime": {
     "end_time": "2023-10-04T19:26:25.940702800Z",
     "start_time": "2023-10-04T19:26:25.934185700Z"
    }
   },
   "id": "8c80f1a5316103cf"
  },
  {
   "cell_type": "code",
   "execution_count": 3,
   "outputs": [],
   "source": [
    "# Static Code Variables\n",
    "sheet = 'FUA'\n",
    "sp = 'fusp'\n",
    "int_columns = follow_up_int_columns\n",
    "columns_names = follow_up_columns\n",
    "basic_columns = follow_up_basic_columns\n",
    "date_columns = follow_up_date_columns\n",
    "passwords = tt_passwords"
   ],
   "metadata": {
    "collapsed": false,
    "ExecuteTime": {
     "end_time": "2023-10-04T19:26:41.039890200Z",
     "start_time": "2023-10-04T19:26:41.035898100Z"
    }
   },
   "id": "f58ca7579d8ad976"
  },
  {
   "cell_type": "code",
   "execution_count": 4,
   "outputs": [
    {
     "name": "stdout",
     "output_type": "stream",
     "text": [
      "Processing 83 sheets across all files:\n",
      "Processed files and sheets:                                                        \n",
      "- TS_FC_meetingOutreachReferralFollowUpAdvocacy.xlsx: Meetings, outreachAndAwareness, IngoingOutgoingInternalReferral, Follow-up, Advocacy, GZT_Service_Map, Drop-down, Glossary\n",
      "- tt_psc_IJ_v04.xlsx: Scr, Int, GC, IC, FUA, PEI, TRW, TD, CWS, AW, Drop-down\n",
      "- tt_psc_LA_v04.xlsx: Scr, Int, GC, IC, FUA, PEI, TRW, TD, CWS, AW, Drop-down\n",
      "- tt_psc_MT_v04.xlsx: Scr, Int, GC, IC, FUA, PEI, TRW, TD, CWS, AW, Drop-down\n",
      "- tt_psc_SA_v04.xlsx: Scr, Int, GC, IC, FUA, PEI, TRW, TD, CWS, AW, Drop-down\n",
      "- tt_psc_YQ-v04.xlsx: Scr, Int, GC, IC, FUA, PEI, TRW, TD, CWS, AW, Drop-down\n",
      "- tt_pt_HJ_v04.xlsx: PSFS, PT Int, PT Groups, GPT, IPT, FUA, Heba, reference, drop-down lists, drop_down\n",
      "- tt_pt_HR_v04.xlsx: PSFS, PT Int, PT Groups, GPT, IPT, FUA, Hind, reference, drop-down lists, drop_down\n"
     ]
    }
   ],
   "source": [
    "tracking_tools = read_encrypted_excels(r'000', passwords)"
   ],
   "metadata": {
    "collapsed": false,
    "ExecuteTime": {
     "end_time": "2023-10-04T13:23:56.369864400Z",
     "start_time": "2023-10-04T13:23:40.950126100Z"
    }
   },
   "id": "e8c9bfef1912ab73"
  },
  {
   "cell_type": "markdown",
   "source": [
    "# Process Follow Up Assessment Sheets"
   ],
   "metadata": {
    "collapsed": false
   },
   "id": "8c639615038c5e90"
  },
  {
   "cell_type": "code",
   "execution_count": 5,
   "outputs": [],
   "source": [
    "yq = tracking_tools['tt_psc_YQ-v04.xlsx'][sheet]"
   ],
   "metadata": {
    "collapsed": false,
    "ExecuteTime": {
     "end_time": "2023-10-04T13:24:08.769953500Z",
     "start_time": "2023-10-04T13:24:08.765872200Z"
    }
   },
   "id": "8f8dc7451d6c34fe"
  },
  {
   "cell_type": "code",
   "execution_count": 7,
   "outputs": [],
   "source": [
    "yq.columns = columns_names\n",
    "yq = yq.drop(yq.index[0]).reset_index(drop=True)\n",
    "yq.dropna(subset=basic_columns, how='all', inplace=True)\n",
    "yq.insert(0, sp, 'YQ')"
   ],
   "metadata": {
    "collapsed": false,
    "ExecuteTime": {
     "end_time": "2023-10-04T13:24:57.530028200Z",
     "start_time": "2023-10-04T13:24:57.519936300Z"
    }
   },
   "id": "4ee93170aebccde1"
  },
  {
   "cell_type": "code",
   "execution_count": 9,
   "outputs": [],
   "source": [
    "sa = tracking_tools['tt_psc_SA_v04.xlsx'][sheet]"
   ],
   "metadata": {
    "collapsed": false,
    "ExecuteTime": {
     "end_time": "2023-10-04T13:25:55.699586700Z",
     "start_time": "2023-10-04T13:25:55.676682900Z"
    }
   },
   "id": "68dd5131a61a1ded"
  },
  {
   "cell_type": "code",
   "execution_count": 10,
   "outputs": [],
   "source": [
    "sa.columns = columns_names\n",
    "sa = sa.drop(sa.index[0]).reset_index(drop=True)\n",
    "sa.dropna(subset=basic_columns, how='all', inplace=True)\n",
    "sa.insert(0, sp, 'SA')"
   ],
   "metadata": {
    "collapsed": false,
    "ExecuteTime": {
     "end_time": "2023-10-04T13:25:56.420172200Z",
     "start_time": "2023-10-04T13:25:56.389622500Z"
    }
   },
   "id": "5a3b4eec53bb9174"
  },
  {
   "cell_type": "code",
   "execution_count": 11,
   "outputs": [],
   "source": [
    "ij = tracking_tools['tt_psc_IJ_v04.xlsx'][sheet]"
   ],
   "metadata": {
    "collapsed": false,
    "ExecuteTime": {
     "end_time": "2023-10-04T13:25:57.267187900Z",
     "start_time": "2023-10-04T13:25:57.241956100Z"
    }
   },
   "id": "1e8595d18482f1f3"
  },
  {
   "cell_type": "code",
   "execution_count": 12,
   "outputs": [],
   "source": [
    "ij.columns = columns_names\n",
    "ij = ij.drop(ij.index[0]).reset_index(drop=True)\n",
    "ij.dropna(subset=basic_columns, how='all', inplace=True)\n",
    "ij.insert(0, sp, 'IJ')"
   ],
   "metadata": {
    "collapsed": false,
    "ExecuteTime": {
     "end_time": "2023-10-04T13:25:57.869759600Z",
     "start_time": "2023-10-04T13:25:57.854522200Z"
    }
   },
   "id": "3bd96196e3d6822c"
  },
  {
   "cell_type": "code",
   "execution_count": 13,
   "outputs": [],
   "source": [
    "la = tracking_tools['tt_psc_LA_v04.xlsx'][sheet]"
   ],
   "metadata": {
    "collapsed": false,
    "ExecuteTime": {
     "end_time": "2023-10-04T13:25:58.762177800Z",
     "start_time": "2023-10-04T13:25:58.760154200Z"
    }
   },
   "id": "d41df84c770894a3"
  },
  {
   "cell_type": "code",
   "execution_count": 14,
   "outputs": [],
   "source": [
    "la.columns = columns_names\n",
    "la = la.drop(la.index[0]).reset_index(drop=True)\n",
    "la.dropna(subset=basic_columns, how='all', inplace=True)\n",
    "la.insert(0, sp, 'LA')"
   ],
   "metadata": {
    "collapsed": false,
    "ExecuteTime": {
     "end_time": "2023-10-04T13:25:59.689640400Z",
     "start_time": "2023-10-04T13:25:59.659574800Z"
    }
   },
   "id": "63c0162eacbb8144"
  },
  {
   "cell_type": "code",
   "execution_count": 15,
   "outputs": [],
   "source": [
    "mt = tracking_tools['tt_psc_MT_v04.xlsx'][sheet]"
   ],
   "metadata": {
    "collapsed": false,
    "ExecuteTime": {
     "end_time": "2023-10-04T13:26:01.039470400Z",
     "start_time": "2023-10-04T13:26:01.037454700Z"
    }
   },
   "id": "6a01e4a0f45ca910"
  },
  {
   "cell_type": "code",
   "execution_count": 16,
   "outputs": [],
   "source": [
    "mt.columns = columns_names\n",
    "mt = mt.drop(mt.index[0]).reset_index(drop=True)\n",
    "mt.dropna(subset=basic_columns, how='all', inplace=True)\n",
    "mt.insert(0, sp, 'MT')"
   ],
   "metadata": {
    "collapsed": false,
    "ExecuteTime": {
     "end_time": "2023-10-04T13:26:02.039643300Z",
     "start_time": "2023-10-04T13:26:01.999973100Z"
    }
   },
   "id": "ae7aae6c017ac6ed"
  },
  {
   "cell_type": "code",
   "execution_count": 17,
   "outputs": [
    {
     "data": {
      "text/plain": "174"
     },
     "execution_count": 17,
     "metadata": {},
     "output_type": "execute_result"
    }
   ],
   "source": [
    "gc_rows = mt.shape[0] + yq.shape[0] + sa.shape[0] + ij.shape[0] + la.shape[0]\n",
    "gc_rows"
   ],
   "metadata": {
    "collapsed": false,
    "ExecuteTime": {
     "end_time": "2023-10-04T13:26:03.343901200Z",
     "start_time": "2023-10-04T13:26:03.339801500Z"
    }
   },
   "id": "a81d63c63660ed15"
  },
  {
   "cell_type": "code",
   "execution_count": 18,
   "outputs": [],
   "source": [
    "follow_up = pd.concat([yq, sa, ij, la, mt], ignore_index=True)"
   ],
   "metadata": {
    "collapsed": false,
    "ExecuteTime": {
     "end_time": "2023-10-04T13:26:25.029807300Z",
     "start_time": "2023-10-04T13:26:24.989537500Z"
    }
   },
   "id": "3d29102e95f7a7c1"
  },
  {
   "cell_type": "code",
   "execution_count": 19,
   "outputs": [
    {
     "data": {
      "text/plain": "    fusp fuspi    rid        fcid firstname   lastname                   3m  \\\n0     YQ     1  R0130  8110010011      صباح   شيخ هلال  2021-04-07 00:00:00   \n1     YQ     2  R0024  8110020012      نجوى       حصرم  2020-11-24 00:00:00   \n2     YQ     3  R0010  8110020013     فتحية  العبدالله  2020-12-04 00:00:00   \n3     YQ     4  R0007  8110020016       نور       أشقر                  NaN   \n4     YQ     5  R0006  8110020017     فاطمة       محمد  2020-11-10 00:00:00   \n..   ...   ...    ...         ...       ...        ...                  ...   \n169   IJ    11  R0574  8110080007      خولة      العلو  2023-09-27 00:00:00   \n170   IJ    12  R0573  8110080008     حسناء      بصمجي                  NaN   \n171   IJ    13  R0583  8110080011      شروف    الحميدي                  NaN   \n172   IJ    14  R0518  8110090004     عائشة      مصطفى  2023-09-27 00:00:00   \n173   IJ    15  R0591  8110050092       نور     العلبي  2023-09-29 00:00:00   \n\n                      6m                  12m  status  \\\n0                    NaN                  NaN  Closed   \n1    2021-02-15 00:00:00  2021-08-17 00:00:00  Closed   \n2    2020-02-15 00:00:00  2020-08-19 00:00:00  Closed   \n3                    NaN                  NaN  Closed   \n4    2020-03-02 00:00:00  2021-08-05 00:00:00  Closed   \n..                   ...                  ...     ...   \n169                  NaN                  NaN  Active   \n170                  NaN                  NaN  Active   \n171                  NaN                  NaN  Closed   \n172                  NaN                  NaN  Active   \n173                  NaN                  NaN  Active   \n\n                                       closure_reason  \\\n0                       Moved to another city/country   \n1    Therapy completed (received all needed services)   \n2    Therapy completed (received all needed services)   \n3                Unable to attend for family reasons    \n4    Therapy completed (received all needed services)   \n..                                                ...   \n169                                               NaN   \n170                                               NaN   \n171                                               NaN   \n172                                               NaN   \n173                                               NaN   \n\n                                                                                                              note  \n0                                                                                                              NaN  \n1                                                  تم الانقطاع عن الجروب بسبب قرارات الحكومة التركية بشان الكورونا  \n2    تم الانقطاع عن الجروب بسبب قرارات الحكومة التركية بشان الكورونا و كذلك سيستمر العمل معها ببعض الجلسات الفردية  \n3                                                                                                              NaN  \n4                                                                                                              NaN  \n..                                                                                                             ...  \n169                                                                                                            NaN  \n170                                                                                                            NaN  \n171                                                                                                            NaN  \n172                                                                                                            NaN  \n173                                                                                                            NaN  \n\n[174 rows x 12 columns]",
      "text/html": "<div>\n<style scoped>\n    .dataframe tbody tr th:only-of-type {\n        vertical-align: middle;\n    }\n\n    .dataframe tbody tr th {\n        vertical-align: top;\n    }\n\n    .dataframe thead th {\n        text-align: right;\n    }\n</style>\n<table border=\"1\" class=\"dataframe\">\n  <thead>\n    <tr style=\"text-align: right;\">\n      <th></th>\n      <th>fusp</th>\n      <th>fuspi</th>\n      <th>rid</th>\n      <th>fcid</th>\n      <th>firstname</th>\n      <th>lastname</th>\n      <th>3m</th>\n      <th>6m</th>\n      <th>12m</th>\n      <th>status</th>\n      <th>closure_reason</th>\n      <th>note</th>\n    </tr>\n  </thead>\n  <tbody>\n    <tr>\n      <th>0</th>\n      <td>YQ</td>\n      <td>1</td>\n      <td>R0130</td>\n      <td>8110010011</td>\n      <td>صباح</td>\n      <td>شيخ هلال</td>\n      <td>2021-04-07 00:00:00</td>\n      <td>NaN</td>\n      <td>NaN</td>\n      <td>Closed</td>\n      <td>Moved to another city/country</td>\n      <td>NaN</td>\n    </tr>\n    <tr>\n      <th>1</th>\n      <td>YQ</td>\n      <td>2</td>\n      <td>R0024</td>\n      <td>8110020012</td>\n      <td>نجوى</td>\n      <td>حصرم</td>\n      <td>2020-11-24 00:00:00</td>\n      <td>2021-02-15 00:00:00</td>\n      <td>2021-08-17 00:00:00</td>\n      <td>Closed</td>\n      <td>Therapy completed (received all needed services)</td>\n      <td>تم الانقطاع عن الجروب بسبب قرارات الحكومة التركية بشان الكورونا</td>\n    </tr>\n    <tr>\n      <th>2</th>\n      <td>YQ</td>\n      <td>3</td>\n      <td>R0010</td>\n      <td>8110020013</td>\n      <td>فتحية</td>\n      <td>العبدالله</td>\n      <td>2020-12-04 00:00:00</td>\n      <td>2020-02-15 00:00:00</td>\n      <td>2020-08-19 00:00:00</td>\n      <td>Closed</td>\n      <td>Therapy completed (received all needed services)</td>\n      <td>تم الانقطاع عن الجروب بسبب قرارات الحكومة التركية بشان الكورونا و كذلك سيستمر العمل معها ببعض الجلسات الفردية</td>\n    </tr>\n    <tr>\n      <th>3</th>\n      <td>YQ</td>\n      <td>4</td>\n      <td>R0007</td>\n      <td>8110020016</td>\n      <td>نور</td>\n      <td>أشقر</td>\n      <td>NaN</td>\n      <td>NaN</td>\n      <td>NaN</td>\n      <td>Closed</td>\n      <td>Unable to attend for family reasons</td>\n      <td>NaN</td>\n    </tr>\n    <tr>\n      <th>4</th>\n      <td>YQ</td>\n      <td>5</td>\n      <td>R0006</td>\n      <td>8110020017</td>\n      <td>فاطمة</td>\n      <td>محمد</td>\n      <td>2020-11-10 00:00:00</td>\n      <td>2020-03-02 00:00:00</td>\n      <td>2021-08-05 00:00:00</td>\n      <td>Closed</td>\n      <td>Therapy completed (received all needed services)</td>\n      <td>NaN</td>\n    </tr>\n    <tr>\n      <th>...</th>\n      <td>...</td>\n      <td>...</td>\n      <td>...</td>\n      <td>...</td>\n      <td>...</td>\n      <td>...</td>\n      <td>...</td>\n      <td>...</td>\n      <td>...</td>\n      <td>...</td>\n      <td>...</td>\n      <td>...</td>\n    </tr>\n    <tr>\n      <th>169</th>\n      <td>IJ</td>\n      <td>11</td>\n      <td>R0574</td>\n      <td>8110080007</td>\n      <td>خولة</td>\n      <td>العلو</td>\n      <td>2023-09-27 00:00:00</td>\n      <td>NaN</td>\n      <td>NaN</td>\n      <td>Active</td>\n      <td>NaN</td>\n      <td>NaN</td>\n    </tr>\n    <tr>\n      <th>170</th>\n      <td>IJ</td>\n      <td>12</td>\n      <td>R0573</td>\n      <td>8110080008</td>\n      <td>حسناء</td>\n      <td>بصمجي</td>\n      <td>NaN</td>\n      <td>NaN</td>\n      <td>NaN</td>\n      <td>Active</td>\n      <td>NaN</td>\n      <td>NaN</td>\n    </tr>\n    <tr>\n      <th>171</th>\n      <td>IJ</td>\n      <td>13</td>\n      <td>R0583</td>\n      <td>8110080011</td>\n      <td>شروف</td>\n      <td>الحميدي</td>\n      <td>NaN</td>\n      <td>NaN</td>\n      <td>NaN</td>\n      <td>Closed</td>\n      <td>NaN</td>\n      <td>NaN</td>\n    </tr>\n    <tr>\n      <th>172</th>\n      <td>IJ</td>\n      <td>14</td>\n      <td>R0518</td>\n      <td>8110090004</td>\n      <td>عائشة</td>\n      <td>مصطفى</td>\n      <td>2023-09-27 00:00:00</td>\n      <td>NaN</td>\n      <td>NaN</td>\n      <td>Active</td>\n      <td>NaN</td>\n      <td>NaN</td>\n    </tr>\n    <tr>\n      <th>173</th>\n      <td>IJ</td>\n      <td>15</td>\n      <td>R0591</td>\n      <td>8110050092</td>\n      <td>نور</td>\n      <td>العلبي</td>\n      <td>2023-09-29 00:00:00</td>\n      <td>NaN</td>\n      <td>NaN</td>\n      <td>Active</td>\n      <td>NaN</td>\n      <td>NaN</td>\n    </tr>\n  </tbody>\n</table>\n<p>174 rows × 12 columns</p>\n</div>"
     },
     "execution_count": 19,
     "metadata": {},
     "output_type": "execute_result"
    }
   ],
   "source": [
    "follow_up"
   ],
   "metadata": {
    "collapsed": false,
    "ExecuteTime": {
     "end_time": "2023-10-04T13:26:31.969754500Z",
     "start_time": "2023-10-04T13:26:31.939681400Z"
    }
   },
   "id": "447f141f2caa0d44"
  },
  {
   "cell_type": "code",
   "execution_count": 20,
   "outputs": [],
   "source": [
    "# All follow-up assessments csv file\n",
    "follow_up.to_csv(r'001/0100_ps_fu_092300.csv', index=False)"
   ],
   "metadata": {
    "collapsed": false,
    "ExecuteTime": {
     "end_time": "2023-10-04T13:32:06.119099800Z",
     "start_time": "2023-10-04T13:32:06.069257100Z"
    }
   },
   "id": "7dd95e1f50aec0b0"
  },
  {
   "cell_type": "markdown",
   "source": [
    "# Follow-up Assessment Dataframe"
   ],
   "metadata": {
    "collapsed": false
   },
   "id": "fedb3ff0b3100080"
  },
  {
   "cell_type": "code",
   "execution_count": 21,
   "outputs": [],
   "source": [
    "fua = pd.read_csv(r'001/0100_ps_fu_092300.csv')\n",
    "fua[date_columns] = fua[date_columns].apply(pd.to_datetime)\n",
    "fua = fua.applymap(lambda x: x.strip() if isinstance(x, str) else x)\n",
    "fua[int_columns] = fua[int_columns].astype('Int64')"
   ],
   "metadata": {
    "collapsed": false,
    "ExecuteTime": {
     "end_time": "2023-10-04T13:34:32.521348200Z",
     "start_time": "2023-10-04T13:34:32.496273800Z"
    }
   },
   "id": "612836ac6634ed4c"
  },
  {
   "cell_type": "code",
   "execution_count": 22,
   "outputs": [
    {
     "data": {
      "text/plain": "(174, 12)"
     },
     "execution_count": 22,
     "metadata": {},
     "output_type": "execute_result"
    }
   ],
   "source": [
    "fua.shape"
   ],
   "metadata": {
    "collapsed": false,
    "ExecuteTime": {
     "end_time": "2023-10-04T13:34:39.231553400Z",
     "start_time": "2023-10-04T13:34:39.228810300Z"
    }
   },
   "id": "e951ed3443bd832a"
  },
  {
   "cell_type": "code",
   "execution_count": 23,
   "outputs": [
    {
     "name": "stdout",
     "output_type": "stream",
     "text": [
      "<class 'pandas.core.frame.DataFrame'>\n",
      "RangeIndex: 174 entries, 0 to 173\n",
      "Data columns (total 12 columns):\n",
      " #   Column          Non-Null Count  Dtype         \n",
      "---  ------          --------------  -----         \n",
      " 0   fusp            174 non-null    object        \n",
      " 1   fuspi           174 non-null    Int64         \n",
      " 2   rid             174 non-null    object        \n",
      " 3   fcid            174 non-null    Int64         \n",
      " 4   firstname       174 non-null    object        \n",
      " 5   lastname        174 non-null    object        \n",
      " 6   3m              138 non-null    datetime64[ns]\n",
      " 7   6m              111 non-null    datetime64[ns]\n",
      " 8   12m             69 non-null     datetime64[ns]\n",
      " 9   status          174 non-null    object        \n",
      " 10  closure_reason  116 non-null    object        \n",
      " 11  note            56 non-null     object        \n",
      "dtypes: Int64(2), datetime64[ns](3), object(7)\n",
      "memory usage: 16.8+ KB\n"
     ]
    }
   ],
   "source": [
    "fua.info()"
   ],
   "metadata": {
    "collapsed": false,
    "ExecuteTime": {
     "end_time": "2023-10-04T13:34:46.219406500Z",
     "start_time": "2023-10-04T13:34:46.198984500Z"
    }
   },
   "id": "5fcd942a6a2fd4e4"
  },
  {
   "cell_type": "code",
   "execution_count": 24,
   "outputs": [],
   "source": [],
   "metadata": {
    "collapsed": false,
    "ExecuteTime": {
     "end_time": "2023-10-04T13:36:15.898673300Z",
     "start_time": "2023-10-04T13:36:15.847584Z"
    }
   },
   "id": "fc63af46e99c4f92"
  },
  {
   "cell_type": "code",
   "execution_count": 25,
   "outputs": [],
   "source": [
    "# First cleaned csv file\n",
    "fua.to_csv(r'010/0100_ps_fu_092301.csv', index=False)"
   ],
   "metadata": {
    "collapsed": false,
    "ExecuteTime": {
     "end_time": "2023-10-04T13:40:26.668238100Z",
     "start_time": "2023-10-04T13:40:26.648270600Z"
    }
   },
   "id": "34082293d52604f"
  },
  {
   "cell_type": "markdown",
   "source": [
    "# Follow-up Assessment Analysis Version"
   ],
   "metadata": {
    "collapsed": false
   },
   "id": "c92fab732b5bb432"
  },
  {
   "cell_type": "code",
   "execution_count": 4,
   "outputs": [],
   "source": [
    "fu = pd.read_csv(r'010/0100_ps_fu_092301.csv')\n",
    "fu[date_columns] = fu[date_columns].apply(pd.to_datetime)\n",
    "fu[int_columns] = fu[int_columns].astype('Int64')"
   ],
   "metadata": {
    "collapsed": false,
    "ExecuteTime": {
     "end_time": "2023-10-04T19:27:36.962134100Z",
     "start_time": "2023-10-04T19:27:36.918680Z"
    }
   },
   "id": "a20bd72d35ca8328"
  },
  {
   "cell_type": "code",
   "execution_count": 5,
   "outputs": [
    {
     "name": "stdout",
     "output_type": "stream",
     "text": [
      "<class 'pandas.core.frame.DataFrame'>\n",
      "RangeIndex: 174 entries, 0 to 173\n",
      "Data columns (total 12 columns):\n",
      " #   Column          Non-Null Count  Dtype         \n",
      "---  ------          --------------  -----         \n",
      " 0   fusp            174 non-null    object        \n",
      " 1   fuspi           174 non-null    Int64         \n",
      " 2   rid             174 non-null    object        \n",
      " 3   fcid            174 non-null    Int64         \n",
      " 4   firstname       174 non-null    object        \n",
      " 5   lastname        174 non-null    object        \n",
      " 6   3m              138 non-null    datetime64[ns]\n",
      " 7   6m              111 non-null    datetime64[ns]\n",
      " 8   12m             69 non-null     datetime64[ns]\n",
      " 9   status          174 non-null    object        \n",
      " 10  closure_reason  116 non-null    object        \n",
      " 11  note            56 non-null     object        \n",
      "dtypes: Int64(2), datetime64[ns](3), object(7)\n",
      "memory usage: 16.8+ KB\n"
     ]
    }
   ],
   "source": [
    "fu.info()"
   ],
   "metadata": {
    "collapsed": false,
    "ExecuteTime": {
     "end_time": "2023-10-04T19:27:38.288748900Z",
     "start_time": "2023-10-04T19:27:38.251529900Z"
    }
   },
   "id": "5257a018824b0abe"
  },
  {
   "cell_type": "code",
   "execution_count": 31,
   "outputs": [
    {
     "data": {
      "text/plain": "    fusp  fuspi    rid        fcid firstname   lastname         3m         6m  \\\n0     YQ      1  R0130  8110010011      صباح   شيخ هلال 2021-04-07        NaT   \n1     YQ      2  R0024  8110020012      نجوى       حصرم 2020-11-24 2021-02-15   \n2     YQ      3  R0010  8110020013     فتحية  العبدالله 2020-12-04 2020-02-15   \n3     YQ      4  R0007  8110020016       نور       أشقر        NaT        NaT   \n4     YQ      5  R0006  8110020017     فاطمة       محمد 2020-11-10 2020-03-02   \n..   ...    ...    ...         ...       ...        ...        ...        ...   \n168   IJ     10  R0567  8110090007      عطاء     الزعبي        NaT        NaT   \n169   IJ     11  R0574  8110080007      خولة      العلو 2023-09-27        NaT   \n171   IJ     13  R0583  8110080011      شروف    الحميدي        NaT        NaT   \n172   IJ     14  R0518  8110090004     عائشة      مصطفى 2023-09-27        NaT   \n173   IJ     15  R0591  8110050092       نور     العلبي 2023-09-29        NaT   \n\n           12m  status  closure_reason  \\\n0          NaT       1              -2   \n1   2021-08-17       1               1   \n2   2020-08-19       1               1   \n3          NaT       1              -4   \n4   2021-08-05       1               1   \n..         ...     ...             ...   \n168        NaT       1            <NA>   \n169        NaT       0            <NA>   \n171        NaT       1            <NA>   \n172        NaT       0            <NA>   \n173        NaT       0            <NA>   \n\n                                                                                                              note  \n0                                                                                                              NaN  \n1                                                  تم الانقطاع عن الجروب بسبب قرارات الحكومة التركية بشان الكورونا  \n2    تم الانقطاع عن الجروب بسبب قرارات الحكومة التركية بشان الكورونا و كذلك سيستمر العمل معها ببعض الجلسات الفردية  \n3                                                                                                              NaN  \n4                                                                                                              NaN  \n..                                                                                                             ...  \n168                                                                                                            NaN  \n169                                                                                                            NaN  \n171                                                                                                            NaN  \n172                                                                                                            NaN  \n173                                                                                                            NaN  \n\n[166 rows x 12 columns]",
      "text/html": "<div>\n<style scoped>\n    .dataframe tbody tr th:only-of-type {\n        vertical-align: middle;\n    }\n\n    .dataframe tbody tr th {\n        vertical-align: top;\n    }\n\n    .dataframe thead th {\n        text-align: right;\n    }\n</style>\n<table border=\"1\" class=\"dataframe\">\n  <thead>\n    <tr style=\"text-align: right;\">\n      <th></th>\n      <th>fusp</th>\n      <th>fuspi</th>\n      <th>rid</th>\n      <th>fcid</th>\n      <th>firstname</th>\n      <th>lastname</th>\n      <th>3m</th>\n      <th>6m</th>\n      <th>12m</th>\n      <th>status</th>\n      <th>closure_reason</th>\n      <th>note</th>\n    </tr>\n  </thead>\n  <tbody>\n    <tr>\n      <th>0</th>\n      <td>YQ</td>\n      <td>1</td>\n      <td>R0130</td>\n      <td>8110010011</td>\n      <td>صباح</td>\n      <td>شيخ هلال</td>\n      <td>2021-04-07</td>\n      <td>NaT</td>\n      <td>NaT</td>\n      <td>1</td>\n      <td>-2</td>\n      <td>NaN</td>\n    </tr>\n    <tr>\n      <th>1</th>\n      <td>YQ</td>\n      <td>2</td>\n      <td>R0024</td>\n      <td>8110020012</td>\n      <td>نجوى</td>\n      <td>حصرم</td>\n      <td>2020-11-24</td>\n      <td>2021-02-15</td>\n      <td>2021-08-17</td>\n      <td>1</td>\n      <td>1</td>\n      <td>تم الانقطاع عن الجروب بسبب قرارات الحكومة التركية بشان الكورونا</td>\n    </tr>\n    <tr>\n      <th>2</th>\n      <td>YQ</td>\n      <td>3</td>\n      <td>R0010</td>\n      <td>8110020013</td>\n      <td>فتحية</td>\n      <td>العبدالله</td>\n      <td>2020-12-04</td>\n      <td>2020-02-15</td>\n      <td>2020-08-19</td>\n      <td>1</td>\n      <td>1</td>\n      <td>تم الانقطاع عن الجروب بسبب قرارات الحكومة التركية بشان الكورونا و كذلك سيستمر العمل معها ببعض الجلسات الفردية</td>\n    </tr>\n    <tr>\n      <th>3</th>\n      <td>YQ</td>\n      <td>4</td>\n      <td>R0007</td>\n      <td>8110020016</td>\n      <td>نور</td>\n      <td>أشقر</td>\n      <td>NaT</td>\n      <td>NaT</td>\n      <td>NaT</td>\n      <td>1</td>\n      <td>-4</td>\n      <td>NaN</td>\n    </tr>\n    <tr>\n      <th>4</th>\n      <td>YQ</td>\n      <td>5</td>\n      <td>R0006</td>\n      <td>8110020017</td>\n      <td>فاطمة</td>\n      <td>محمد</td>\n      <td>2020-11-10</td>\n      <td>2020-03-02</td>\n      <td>2021-08-05</td>\n      <td>1</td>\n      <td>1</td>\n      <td>NaN</td>\n    </tr>\n    <tr>\n      <th>...</th>\n      <td>...</td>\n      <td>...</td>\n      <td>...</td>\n      <td>...</td>\n      <td>...</td>\n      <td>...</td>\n      <td>...</td>\n      <td>...</td>\n      <td>...</td>\n      <td>...</td>\n      <td>...</td>\n      <td>...</td>\n    </tr>\n    <tr>\n      <th>168</th>\n      <td>IJ</td>\n      <td>10</td>\n      <td>R0567</td>\n      <td>8110090007</td>\n      <td>عطاء</td>\n      <td>الزعبي</td>\n      <td>NaT</td>\n      <td>NaT</td>\n      <td>NaT</td>\n      <td>1</td>\n      <td>&lt;NA&gt;</td>\n      <td>NaN</td>\n    </tr>\n    <tr>\n      <th>169</th>\n      <td>IJ</td>\n      <td>11</td>\n      <td>R0574</td>\n      <td>8110080007</td>\n      <td>خولة</td>\n      <td>العلو</td>\n      <td>2023-09-27</td>\n      <td>NaT</td>\n      <td>NaT</td>\n      <td>0</td>\n      <td>&lt;NA&gt;</td>\n      <td>NaN</td>\n    </tr>\n    <tr>\n      <th>171</th>\n      <td>IJ</td>\n      <td>13</td>\n      <td>R0583</td>\n      <td>8110080011</td>\n      <td>شروف</td>\n      <td>الحميدي</td>\n      <td>NaT</td>\n      <td>NaT</td>\n      <td>NaT</td>\n      <td>1</td>\n      <td>&lt;NA&gt;</td>\n      <td>NaN</td>\n    </tr>\n    <tr>\n      <th>172</th>\n      <td>IJ</td>\n      <td>14</td>\n      <td>R0518</td>\n      <td>8110090004</td>\n      <td>عائشة</td>\n      <td>مصطفى</td>\n      <td>2023-09-27</td>\n      <td>NaT</td>\n      <td>NaT</td>\n      <td>0</td>\n      <td>&lt;NA&gt;</td>\n      <td>NaN</td>\n    </tr>\n    <tr>\n      <th>173</th>\n      <td>IJ</td>\n      <td>15</td>\n      <td>R0591</td>\n      <td>8110050092</td>\n      <td>نور</td>\n      <td>العلبي</td>\n      <td>2023-09-29</td>\n      <td>NaT</td>\n      <td>NaT</td>\n      <td>0</td>\n      <td>&lt;NA&gt;</td>\n      <td>NaN</td>\n    </tr>\n  </tbody>\n</table>\n<p>166 rows × 12 columns</p>\n</div>"
     },
     "execution_count": 31,
     "metadata": {},
     "output_type": "execute_result"
    }
   ],
   "source": [
    "fu"
   ],
   "metadata": {
    "collapsed": false,
    "ExecuteTime": {
     "end_time": "2023-10-04T20:39:15.166375900Z",
     "start_time": "2023-10-04T20:39:15.131847300Z"
    }
   },
   "id": "e0de03f8b3affc05"
  },
  {
   "cell_type": "code",
   "execution_count": 7,
   "outputs": [],
   "source": [
    "# Encoding binary variables - PT Need\n",
    "fu['status'] = fu['status'].replace({\n",
    "    'Active': 0,\n",
    "    'Closed': 1\n",
    "}).astype('Int64')"
   ],
   "metadata": {
    "collapsed": false,
    "ExecuteTime": {
     "end_time": "2023-10-04T19:28:50.108619700Z",
     "start_time": "2023-10-04T19:28:50.104036300Z"
    }
   },
   "id": "42a110f67868dcc5"
  },
  {
   "cell_type": "code",
   "execution_count": 12,
   "outputs": [],
   "source": [
    "# Encoding closure reason values\n",
    "fu['closure_reason'] = fu['closure_reason'].replace({\n",
    "    'Therapy completed (received all needed services)': 1,\n",
    "    'Cannot travel to ADMSP for safety/security reasons': -1,\n",
    "    'Moved to another city/country': -2,\n",
    "    'Schedule conflict: has a daytime job': -3,\n",
    "    'Unable to attend for family reasons': -4,\n",
    "    'Unable to attend for health reasons': -5,\n",
    "    'Unknown (beneficiary cannot be reached)': -6,\n",
    "    'Other': -7\n",
    "}).astype('Int64')"
   ],
   "metadata": {
    "collapsed": false,
    "ExecuteTime": {
     "end_time": "2023-10-04T19:44:35.920446800Z",
     "start_time": "2023-10-04T19:44:35.911876200Z"
    }
   },
   "id": "b20c871ff9e2fd93"
  },
  {
   "cell_type": "code",
   "execution_count": 14,
   "outputs": [
    {
     "data": {
      "text/plain": "    fusp  fuspi    rid        fcid firstname  lastname  3m  6m 12m  status  \\\n88    YQ     89  R0183  8110020101      رفيق      خنوس NaT NaT NaT       0   \n146   SA     53  R0599  8110050093      بسام      محمد NaT NaT NaT       0   \n147   SA     54  R0487  8110080005      رياض      أسعد NaT NaT NaT       0   \n148   SA     55  R0203  8110050095       أنس  عبد الله NaT NaT NaT       0   \n149   SA     56  R0274  8110020090      محمد     نديوي NaT NaT NaT       0   \n150   SA     57  R0473  8110050083      منال      محمد NaT NaT NaT       0   \n151   SA     58  R0117  8110050055       آية       حمد NaT NaT NaT       0   \n170   IJ     12  R0573  8110080008     حسناء     بصمجي NaT NaT NaT       0   \n\n     closure_reason note  \n88             <NA>  NaN  \n146            <NA>  NaN  \n147            <NA>  NaN  \n148            <NA>  NaN  \n149            <NA>  NaN  \n150            <NA>  NaN  \n151            <NA>  NaN  \n170            <NA>  NaN  ",
      "text/html": "<div>\n<style scoped>\n    .dataframe tbody tr th:only-of-type {\n        vertical-align: middle;\n    }\n\n    .dataframe tbody tr th {\n        vertical-align: top;\n    }\n\n    .dataframe thead th {\n        text-align: right;\n    }\n</style>\n<table border=\"1\" class=\"dataframe\">\n  <thead>\n    <tr style=\"text-align: right;\">\n      <th></th>\n      <th>fusp</th>\n      <th>fuspi</th>\n      <th>rid</th>\n      <th>fcid</th>\n      <th>firstname</th>\n      <th>lastname</th>\n      <th>3m</th>\n      <th>6m</th>\n      <th>12m</th>\n      <th>status</th>\n      <th>closure_reason</th>\n      <th>note</th>\n    </tr>\n  </thead>\n  <tbody>\n    <tr>\n      <th>88</th>\n      <td>YQ</td>\n      <td>89</td>\n      <td>R0183</td>\n      <td>8110020101</td>\n      <td>رفيق</td>\n      <td>خنوس</td>\n      <td>NaT</td>\n      <td>NaT</td>\n      <td>NaT</td>\n      <td>0</td>\n      <td>&lt;NA&gt;</td>\n      <td>NaN</td>\n    </tr>\n    <tr>\n      <th>146</th>\n      <td>SA</td>\n      <td>53</td>\n      <td>R0599</td>\n      <td>8110050093</td>\n      <td>بسام</td>\n      <td>محمد</td>\n      <td>NaT</td>\n      <td>NaT</td>\n      <td>NaT</td>\n      <td>0</td>\n      <td>&lt;NA&gt;</td>\n      <td>NaN</td>\n    </tr>\n    <tr>\n      <th>147</th>\n      <td>SA</td>\n      <td>54</td>\n      <td>R0487</td>\n      <td>8110080005</td>\n      <td>رياض</td>\n      <td>أسعد</td>\n      <td>NaT</td>\n      <td>NaT</td>\n      <td>NaT</td>\n      <td>0</td>\n      <td>&lt;NA&gt;</td>\n      <td>NaN</td>\n    </tr>\n    <tr>\n      <th>148</th>\n      <td>SA</td>\n      <td>55</td>\n      <td>R0203</td>\n      <td>8110050095</td>\n      <td>أنس</td>\n      <td>عبد الله</td>\n      <td>NaT</td>\n      <td>NaT</td>\n      <td>NaT</td>\n      <td>0</td>\n      <td>&lt;NA&gt;</td>\n      <td>NaN</td>\n    </tr>\n    <tr>\n      <th>149</th>\n      <td>SA</td>\n      <td>56</td>\n      <td>R0274</td>\n      <td>8110020090</td>\n      <td>محمد</td>\n      <td>نديوي</td>\n      <td>NaT</td>\n      <td>NaT</td>\n      <td>NaT</td>\n      <td>0</td>\n      <td>&lt;NA&gt;</td>\n      <td>NaN</td>\n    </tr>\n    <tr>\n      <th>150</th>\n      <td>SA</td>\n      <td>57</td>\n      <td>R0473</td>\n      <td>8110050083</td>\n      <td>منال</td>\n      <td>محمد</td>\n      <td>NaT</td>\n      <td>NaT</td>\n      <td>NaT</td>\n      <td>0</td>\n      <td>&lt;NA&gt;</td>\n      <td>NaN</td>\n    </tr>\n    <tr>\n      <th>151</th>\n      <td>SA</td>\n      <td>58</td>\n      <td>R0117</td>\n      <td>8110050055</td>\n      <td>آية</td>\n      <td>حمد</td>\n      <td>NaT</td>\n      <td>NaT</td>\n      <td>NaT</td>\n      <td>0</td>\n      <td>&lt;NA&gt;</td>\n      <td>NaN</td>\n    </tr>\n    <tr>\n      <th>170</th>\n      <td>IJ</td>\n      <td>12</td>\n      <td>R0573</td>\n      <td>8110080008</td>\n      <td>حسناء</td>\n      <td>بصمجي</td>\n      <td>NaT</td>\n      <td>NaT</td>\n      <td>NaT</td>\n      <td>0</td>\n      <td>&lt;NA&gt;</td>\n      <td>NaN</td>\n    </tr>\n  </tbody>\n</table>\n</div>"
     },
     "execution_count": 14,
     "metadata": {},
     "output_type": "execute_result"
    }
   ],
   "source": [
    "# Get all row of clients that are not started Follow-up Assessment yet - all dates are empty and status is 0\n",
    "fu_not_started = (fu[date_columns].isna().all(axis=1) & (fu['status'] == 0))\n",
    "fu[fu_not_started]"
   ],
   "metadata": {
    "collapsed": false,
    "ExecuteTime": {
     "end_time": "2023-10-04T19:57:30.507979Z",
     "start_time": "2023-10-04T19:57:30.468970600Z"
    }
   },
   "id": "c60eb94638b9d7c9"
  },
  {
   "cell_type": "code",
   "execution_count": 32,
   "outputs": [],
   "source": [
    "# Dropping rows of clients that are not started Follow-up Assessment. They shouldn't be in the data.\n",
    "# find indices where fu_not_started is True\n",
    "# indices_to_drop = fu.index[fu_not_started]\n",
    "# fu = fu.drop(indices_to_drop)"
   ],
   "metadata": {
    "collapsed": false,
    "ExecuteTime": {
     "end_time": "2023-10-04T21:56:10.866045900Z",
     "start_time": "2023-10-04T21:56:10.860050600Z"
    }
   },
   "id": "5bb1ee62243cc835"
  },
  {
   "cell_type": "code",
   "execution_count": null,
   "outputs": [],
   "source": [
    "# No duplicated rows."
   ],
   "metadata": {
    "collapsed": false
   },
   "id": "750cb03047eb9d1f"
  },
  {
   "cell_type": "code",
   "execution_count": 33,
   "outputs": [],
   "source": [
    "# Follow-up Assessment Analysis Complete Dataframe\n",
    "fu.to_csv(r'010/0100_ps_fu_092302.csv', index=False)"
   ],
   "metadata": {
    "collapsed": false,
    "ExecuteTime": {
     "end_time": "2023-10-04T21:57:40.746276800Z",
     "start_time": "2023-10-04T21:57:40.713917900Z"
    }
   },
   "id": "ec24a60331f53d0e"
  },
  {
   "cell_type": "code",
   "execution_count": 34,
   "outputs": [],
   "source": [
    "# Follow-up Analysis Basic Dataframe\n",
    "basic_fu = fu.copy()\n",
    "basic_fu = basic_fu.drop(columns=['firstname', 'lastname', 'note'])\n",
    "basic_fu.to_csv(r'011/0100_ps_fu_092310.csv', index=False)"
   ],
   "metadata": {
    "collapsed": false,
    "ExecuteTime": {
     "end_time": "2023-10-04T21:58:43.043285900Z",
     "start_time": "2023-10-04T21:58:43.012112100Z"
    }
   },
   "id": "b06fed494e4d4410"
  },
  {
   "cell_type": "markdown",
   "source": [
    "### FOLLOW-UP ASSESSMENT DATA PREPARED AND READY"
   ],
   "metadata": {
    "collapsed": false
   },
   "id": "31d57c56316b5665"
  }
 ],
 "metadata": {
  "kernelspec": {
   "display_name": "Python 3",
   "language": "python",
   "name": "python3"
  },
  "language_info": {
   "codemirror_mode": {
    "name": "ipython",
    "version": 2
   },
   "file_extension": ".py",
   "mimetype": "text/x-python",
   "name": "python",
   "nbconvert_exporter": "python",
   "pygments_lexer": "ipython2",
   "version": "2.7.6"
  }
 },
 "nbformat": 4,
 "nbformat_minor": 5
}
