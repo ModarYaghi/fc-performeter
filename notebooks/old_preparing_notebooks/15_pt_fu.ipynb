{
 "cells": [
  {
   "cell_type": "code",
   "execution_count": null,
   "id": "initial_id",
   "metadata": {},
   "outputs": [],
   "source": [
    "import numpy as np\n",
    "import pandas as pd\n",
    "import warnings\n",
    "from my_analysis_toolkit import read_encrypted_excels\n",
    "from my_static_data import tt_passwords, ptfua_columns, ptfua_basic_columns, ptfua_date_columns, ptfua_int_columns"
   ]
  },
  {
   "cell_type": "code",
   "execution_count": null,
   "id": "8c80f1a5316103cf",
   "metadata": {},
   "outputs": [],
   "source": [
    "# Avoid representing large numbers in scientific form. To reset, use the commented line.\n",
    "pd.set_option('display.float_format', '{:.1f}'.format)\n",
    "# pd.reset_option('display.float_format')\n",
    "\n",
    "# Display maximum column width:\n",
    "pd.set_option('display.max_colwidth', None)\n",
    "\n",
    "# Suppress openpyxl data validation warning\n",
    "warnings.filterwarnings(\"ignore\", category=UserWarning, module=\"openpyxl\")"
   ]
  },
  {
   "cell_type": "code",
   "execution_count": null,
   "id": "e8c9bfef1912ab73",
   "metadata": {},
   "outputs": [],
   "source": [
    "passwords = tt_passwords\n",
    "tracking_tools = read_encrypted_excels(r'000', passwords) "
   ]
  },
  {
   "cell_type": "code",
   "execution_count": null,
   "outputs": [],
   "source": [
    "sheet = 'FUA'\n",
    "sp = 'ptfusp'\n",
    "columns_names = ptfua_columns\n",
    "basic_columns = ptfua_basic_columns\n",
    "date_columns = ptfua_date_columns\n",
    "int_columns = ptfua_int_columns"
   ],
   "metadata": {
    "collapsed": false
   },
   "id": "768e1f6fdac62bf6"
  },
  {
   "cell_type": "markdown",
   "id": "8c639615038c5e90",
   "metadata": {},
   "source": [
    "# Process PTFUA Sheets"
   ]
  },
  {
   "cell_type": "code",
   "execution_count": null,
   "id": "8f8dc7451d6c34fe",
   "metadata": {},
   "outputs": [],
   "source": [
    "hr = tracking_tools['tt_pt_HR_v04.xlsx'][sheet]"
   ]
  },
  {
   "cell_type": "code",
   "execution_count": null,
   "id": "c8d6079c07e4db9b",
   "metadata": {},
   "outputs": [],
   "source": [
    "# hj"
   ]
  },
  {
   "cell_type": "code",
   "execution_count": null,
   "id": "4ee93170aebccde1",
   "metadata": {},
   "outputs": [],
   "source": [
    "hr.columns = columns_names\n",
    "hr = hr.drop(hr.index[0]).reset_index(drop=True)\n",
    "hr.dropna(subset=basic_columns, how='all', inplace=True)\n",
    "hr.insert(0, sp, 'HR')"
   ]
  },
  {
   "cell_type": "code",
   "execution_count": null,
   "id": "68dd5131a61a1ded",
   "metadata": {},
   "outputs": [],
   "source": [
    "hj = tracking_tools['tt_pt_HJ_v04.xlsx'][sheet]"
   ]
  },
  {
   "cell_type": "code",
   "execution_count": null,
   "outputs": [],
   "source": [
    "hj.columns = columns_names\n",
    "hj = hj.drop(hr.index[0]).reset_index(drop=True)\n",
    "hj.dropna(subset=basic_columns, how='all', inplace=True)\n",
    "hj.insert(0, sp, 'HJ')"
   ],
   "metadata": {
    "collapsed": false
   },
   "id": "bb25477fdef7a435"
  },
  {
   "cell_type": "code",
   "execution_count": null,
   "id": "a81d63c63660ed15",
   "metadata": {},
   "outputs": [],
   "source": [
    "ptfua_rows = hr.shape[0] + hj.shape[0]\n",
    "ptfua_rows"
   ]
  },
  {
   "cell_type": "code",
   "execution_count": null,
   "id": "3d29102e95f7a7c1",
   "metadata": {},
   "outputs": [],
   "source": [
    "ptfua_data = pd.concat([hr, hj], ignore_index=True)\n",
    "ptfua_data"
   ]
  },
  {
   "cell_type": "code",
   "execution_count": null,
   "id": "7dd95e1f50aec0b0",
   "metadata": {},
   "outputs": [],
   "source": [
    "ptfua_data.to_csv(r'001/1110_pt_fu_092300.csv', index=False)"
   ]
  },
  {
   "cell_type": "markdown",
   "id": "fedb3ff0b3100080",
   "metadata": {},
   "source": [
    "# PTFUA Dataframe"
   ]
  },
  {
   "cell_type": "code",
   "execution_count": null,
   "id": "612836ac6634ed4c",
   "metadata": {},
   "outputs": [],
   "source": [
    "ptfua_df = pd.read_csv(r'001/1110_pt_fu_092300.csv')\n",
    "ptfua_df = ptfua_df.applymap(lambda x: x.strip() if isinstance(x, str) else x)\n",
    "ptfua_df[int_columns] = ptfua_df[int_columns].astype('Int64')\n",
    "ptfua_df[date_columns] = ptfua_df[date_columns].apply(pd.to_datetime)"
   ]
  },
  {
   "cell_type": "code",
   "execution_count": null,
   "id": "e951ed3443bd832a",
   "metadata": {},
   "outputs": [],
   "source": [
    "ptfua_df.shape"
   ]
  },
  {
   "cell_type": "code",
   "execution_count": null,
   "id": "5fcd942a6a2fd4e4",
   "metadata": {},
   "outputs": [],
   "source": [
    "ptfua_df.info()"
   ]
  },
  {
   "cell_type": "code",
   "execution_count": null,
   "id": "1f2a13d852a4c98b",
   "metadata": {},
   "outputs": [],
   "source": [
    "ptfua_df"
   ]
  },
  {
   "cell_type": "code",
   "execution_count": null,
   "outputs": [],
   "source": [
    "# ptfua_duplicates = ptfua_df[ptfua_df['rid'].duplicated(keep=False)]\n",
    "# ptfua_duplicates"
   ],
   "metadata": {
    "collapsed": false
   },
   "id": "415d257f899b5476"
  },
  {
   "cell_type": "code",
   "execution_count": null,
   "id": "34082293d52604f",
   "metadata": {},
   "outputs": [],
   "source": [
    "ptfua_df.to_csv(r'010/1111_pt_fu_092301.csv', index=False)"
   ]
  },
  {
   "cell_type": "markdown",
   "id": "c92fab732b5bb432",
   "metadata": {},
   "source": [
    "# PTFUA Analysis Version"
   ]
  },
  {
   "cell_type": "code",
   "execution_count": null,
   "id": "a20bd72d35ca8328",
   "metadata": {},
   "outputs": [],
   "source": [
    "ptfua = pd.read_csv(r'010/1111_pt_fu_092301.csv')\n",
    "ptfua[date_columns] = ptfua[date_columns].apply(pd.to_datetime)\n",
    "ptfua[int_columns] = ptfua[int_columns].astype('Int64')"
   ]
  },
  {
   "cell_type": "code",
   "execution_count": null,
   "id": "f5c8b275f7d8a4dd",
   "metadata": {},
   "outputs": [],
   "source": [
    "ptfua"
   ]
  },
  {
   "cell_type": "markdown",
   "source": [
    "### No Duplicated Clients"
   ],
   "metadata": {
    "collapsed": false
   },
   "id": "363473bc286acfff"
  },
  {
   "cell_type": "code",
   "execution_count": null,
   "outputs": [],
   "source": [
    "# Encoding binary variables\n",
    "ptfua['ptst'] = ptfua['ptst'].replace({\n",
    "    'Active': 1,\n",
    "    'Closed': 0,\n",
    "})"
   ],
   "metadata": {
    "collapsed": false
   },
   "id": "6ed0c4d471010e5"
  },
  {
   "cell_type": "code",
   "execution_count": null,
   "id": "fa049ede236c9019",
   "metadata": {},
   "outputs": [],
   "source": [
    "# PTGC Analysis Complete Dataframes\n",
    "ptfua.to_csv(r'010/1111_pt_fu_092302.csv', index=False)"
   ]
  },
  {
   "cell_type": "code",
   "execution_count": null,
   "id": "4a2238d3f2b1c5af",
   "metadata": {},
   "outputs": [],
   "source": [
    "# PTIC Analysis Basic Dataframes (this dataframe for analysis work - without unnecessary variables)\n",
    "basic_ptfua = ptfua.copy()\n",
    "basic_ptfua = basic_ptfua.drop(columns=['firstname', 'lastname', 'note'])\n",
    "basic_ptfua.to_csv(r'011/1111_pt_fu_092310.csv', index=False)"
   ]
  },
  {
   "cell_type": "code",
   "execution_count": null,
   "outputs": [],
   "source": [
    "pd.read_csv(r'011/1111_pt_fu_092310.csv')"
   ],
   "metadata": {
    "collapsed": false
   },
   "id": "57cd0436a59518a7"
  },
  {
   "cell_type": "markdown",
   "id": "c5743db46605af9d",
   "metadata": {},
   "source": [
    "### PTFUA DATA IS PREPARED AND READY"
   ]
  }
 ],
 "metadata": {
  "kernelspec": {
   "display_name": "Python 3",
   "language": "python",
   "name": "python3"
  },
  "language_info": {
   "codemirror_mode": {
    "name": "ipython",
    "version": 2
   },
   "file_extension": ".py",
   "mimetype": "text/x-python",
   "name": "python",
   "nbconvert_exporter": "python",
   "pygments_lexer": "ipython2",
   "version": "2.7.6"
  }
 },
 "nbformat": 4,
 "nbformat_minor": 5
}
