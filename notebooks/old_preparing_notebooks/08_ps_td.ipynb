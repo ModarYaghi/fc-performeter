{
 "cells": [
  {
   "cell_type": "code",
   "execution_count": null,
   "id": "initial_id",
   "metadata": {},
   "source": [
    "import numpy as np\n",
    "import pandas as pd\n",
    "import warnings"
   ],
   "outputs": []
  },
  {
   "cell_type": "code",
   "execution_count": null,
   "source": [
    "from Scripts.data_reader import *\n",
    "from Scripts.parse_funcs import *\n",
    "from Scripts.myfunctions import *"
   ],
   "metadata": {
    "collapsed": false
   },
   "id": "f55e52fc8b74e0f5",
   "outputs": []
  },
  {
   "cell_type": "code",
   "execution_count": null,
   "id": "8c80f1a5316103cf",
   "metadata": {},
   "source": [
    "# Avoid representing large numbers in scientific form. To reset, use the commented line.\n",
    "pd.set_option('display.float_format', '{:.1f}'.format)\n",
    "# pd.reset_option('display.float_format')\n",
    "\n",
    "# Display maximum column width:\n",
    "pd.set_option('display.max_colwidth', None)\n",
    "\n",
    "# Suppress openpyxl data validation warning\n",
    "warnings.filterwarnings(\"ignore\", category=UserWarning, module=\"openpyxl\")"
   ],
   "outputs": []
  },
  {
   "cell_type": "code",
   "execution_count": null,
   "source": [
    "path_to_ingredients_file = r'../Config/ingredients.yaml'\n",
    "path_to_excels_files_directory = r'../Data/Raw/1023'"
   ],
   "metadata": {
    "collapsed": false
   },
   "id": "188457d29c4e82ec",
   "outputs": []
  },
  {
   "cell_type": "code",
   "execution_count": null,
   "source": [
    "features = YAMLDataReader(path_to_ingredients_file)\n",
    "passwords = features.get_excel_passwords_by_directory(path_to_excels_files_directory)"
   ],
   "metadata": {
    "collapsed": false
   },
   "id": "4d6f49f248e5c611",
   "outputs": []
  },
  {
   "cell_type": "code",
   "execution_count": null,
   "id": "f58ca7579d8ad976",
   "metadata": {},
   "source": [
    "sheet = 'TD'\n",
    "dataset = 'td'\n",
    "sp = 'tdsp'\n",
    "columns_names = features.get_variable_names_by_dataset(dataset)\n",
    "basic_columns = features.get_variable_names_by_dataset_and_level(dataset, 0)\n",
    "date_columns = features.get_variable_names_by_dataset_and_type(dataset, 'datetime64[ns]')\n",
    "num_columns = features.get_variable_names_by_dataset_and_type(dataset, 'Int64')"
   ],
   "outputs": []
  },
  {
   "cell_type": "code",
   "execution_count": null,
   "id": "e8c9bfef1912ab73",
   "metadata": {},
   "source": [
    "decryptor = ExcelDecryptor(path_to_excels_files_directory, passwords)\n",
    "tracking_tools = decryptor.read_encrypted_excels()"
   ],
   "outputs": []
  },
  {
   "cell_type": "code",
   "execution_count": null,
   "source": [
    "decryptor.print_data_structure"
   ],
   "metadata": {
    "collapsed": false
   },
   "id": "74fb7c45eda88374",
   "outputs": []
  },
  {
   "cell_type": "markdown",
   "id": "8c639615038c5e90",
   "metadata": {},
   "source": [
    "# Process TD Sheets"
   ]
  },
  {
   "cell_type": "code",
   "execution_count": null,
   "id": "8f8dc7451d6c34fe",
   "metadata": {},
   "source": [
    "yq = tracking_tools['tt_psc_YQ-v04.xlsx'][sheet]"
   ],
   "outputs": []
  },
  {
   "cell_type": "code",
   "execution_count": null,
   "id": "4ee93170aebccde1",
   "metadata": {},
   "source": [
    "yq.columns = columns_names\n",
    "yq = yq.drop(yq.index[0]).reset_index(drop=True)\n",
    "yq.dropna(subset=basic_columns, how='all', inplace=True)\n",
    "yq.insert(0, sp, 'YQ')"
   ],
   "outputs": []
  },
  {
   "cell_type": "code",
   "execution_count": null,
   "id": "68dd5131a61a1ded",
   "metadata": {},
   "source": [
    "sa = tracking_tools['tt_psc_SA_v04.xlsx'][sheet]"
   ],
   "outputs": []
  },
  {
   "cell_type": "code",
   "execution_count": null,
   "id": "5a3b4eec53bb9174",
   "metadata": {},
   "source": [
    "sa.columns = columns_names\n",
    "sa = sa.drop(sa.index[0]).reset_index(drop=True)\n",
    "sa.dropna(subset=basic_columns, how='all', inplace=True)\n",
    "sa.insert(0, sp, 'SA')"
   ],
   "outputs": []
  },
  {
   "cell_type": "code",
   "execution_count": null,
   "id": "1e8595d18482f1f3",
   "metadata": {},
   "source": [
    "ij = tracking_tools['tt_psc_IJ_v04.xlsx'][sheet]"
   ],
   "outputs": []
  },
  {
   "cell_type": "code",
   "execution_count": null,
   "id": "3bd96196e3d6822c",
   "metadata": {},
   "source": [
    "ij.columns = columns_names\n",
    "ij = ij.drop(ij.index[0]).reset_index(drop=True)\n",
    "ij.dropna(subset=basic_columns, how='all', inplace=True)\n",
    "ij.insert(0, sp, 'IJ')"
   ],
   "outputs": []
  },
  {
   "cell_type": "code",
   "execution_count": null,
   "id": "d41df84c770894a3",
   "metadata": {},
   "source": [
    "la = tracking_tools['tt_psc_LA_v04.xlsx'][sheet]"
   ],
   "outputs": []
  },
  {
   "cell_type": "code",
   "execution_count": null,
   "id": "63c0162eacbb8144",
   "metadata": {},
   "source": [
    "la.columns = columns_names\n",
    "la = la.drop(la.index[0]).reset_index(drop=True)\n",
    "la.dropna(subset=basic_columns, how='all', inplace=True)\n",
    "la.insert(0, sp, 'LA')"
   ],
   "outputs": []
  },
  {
   "cell_type": "code",
   "execution_count": null,
   "id": "6a01e4a0f45ca910",
   "metadata": {},
   "source": [
    "mt = tracking_tools['tt_psc_MT_v04.xlsx'][sheet]"
   ],
   "outputs": []
  },
  {
   "cell_type": "code",
   "execution_count": null,
   "id": "ae7aae6c017ac6ed",
   "metadata": {},
   "source": [
    "mt.columns = columns_names\n",
    "mt = mt.drop(mt.index[0]).reset_index(drop=True)\n",
    "mt.dropna(subset=basic_columns, how='all', inplace=True)\n",
    "mt.insert(0, sp, 'MT')"
   ],
   "outputs": []
  },
  {
   "cell_type": "code",
   "execution_count": null,
   "id": "a81d63c63660ed15",
   "metadata": {},
   "source": [
    "td_rows = mt.shape[0] + yq.shape[0] + sa.shape[0] + ij.shape[0] + la.shape[0]\n",
    "td_rows"
   ],
   "outputs": []
  },
  {
   "cell_type": "code",
   "execution_count": null,
   "id": "3d29102e95f7a7c1",
   "metadata": {},
   "source": [
    "therapeutic_documentation = pd.concat([yq, sa, ij, la, mt], ignore_index=True)"
   ],
   "outputs": []
  },
  {
   "cell_type": "code",
   "execution_count": null,
   "id": "447f141f2caa0d44",
   "metadata": {},
   "source": [
    "therapeutic_documentation"
   ],
   "outputs": []
  },
  {
   "cell_type": "code",
   "execution_count": null,
   "id": "7dd95e1f50aec0b0",
   "metadata": {},
   "source": [
    "# All TD csv file\n",
    "therapeutic_documentation.to_csv(r'../Data/Processed/1023/pstd_1023.csv', index=False)"
   ],
   "outputs": []
  },
  {
   "cell_type": "markdown",
   "id": "fedb3ff0b3100080",
   "metadata": {},
   "source": [
    "#  TD Dataframe"
   ]
  },
  {
   "cell_type": "code",
   "execution_count": null,
   "id": "612836ac6634ed4c",
   "metadata": {},
   "source": [
    "td_data = pd.read_csv(r'../Data/Processed/1023/pstd_1023.csv')\n",
    "td_data = td_data.applymap(lambda x: x.strip() if isinstance(x, str) else x)"
   ],
   "outputs": []
  },
  {
   "cell_type": "code",
   "execution_count": null,
   "id": "e951ed3443bd832a",
   "metadata": {},
   "source": [
    "td_data.shape"
   ],
   "outputs": []
  },
  {
   "cell_type": "code",
   "execution_count": null,
   "id": "5fcd942a6a2fd4e4",
   "metadata": {},
   "source": [
    "td_data.info()"
   ],
   "outputs": []
  },
  {
   "cell_type": "code",
   "execution_count": null,
   "source": [
    "td_data"
   ],
   "metadata": {
    "collapsed": false
   },
   "id": "92dc4a393748a85b",
   "outputs": []
  },
  {
   "cell_type": "markdown",
   "id": "c92fab732b5bb432",
   "metadata": {},
   "source": [
    "# TD Analysis Version"
   ]
  },
  {
   "cell_type": "code",
   "execution_count": null,
   "id": "a20bd72d35ca8328",
   "metadata": {},
   "source": [
    "td = pd.read_csv(r'010/0111_ps_td_092301.csv')\n",
    "td[date_columns] = td[date_columns].apply(pd.to_datetime)\n",
    "td[int_columns] = td[int_columns].astype('Int64')"
   ],
   "outputs": []
  },
  {
   "cell_type": "code",
   "execution_count": null,
   "id": "5257a018824b0abe",
   "metadata": {},
   "source": [
    "td.info()"
   ],
   "outputs": []
  },
  {
   "cell_type": "code",
   "execution_count": null,
   "id": "e0de03f8b3affc05",
   "metadata": {},
   "source": [
    "td"
   ],
   "outputs": []
  },
  {
   "cell_type": "code",
   "execution_count": null,
   "id": "42a110f67868dcc5",
   "metadata": {},
   "source": [
    "#  TD Basic Sessions validation and binary indication\n",
    "if 'tdcc' not in td.columns:\n",
    "    td.insert(6, 'tdcc', np.nan)\n",
    "    \n",
    "td['tdcc'] = compare_date_columns(td, 'cslt', 'csnt')"
   ],
   "outputs": []
  },
  {
   "cell_type": "code",
   "execution_count": null,
   "id": "9f5790f6ad2c15dc",
   "metadata": {},
   "source": [
    "# Encoding TD pathways\n",
    "td[td_pathways] = td[td_pathways].replace({\n",
    "    'Yes': 1,\n",
    "    'No': 0\n",
    "}).astype('Int64')"
   ],
   "outputs": []
  },
  {
   "cell_type": "code",
   "execution_count": null,
   "id": "2ab89ba0b777c9ae",
   "metadata": {},
   "source": [
    "if 'tdis' not in td.columns:\n",
    "    td.insert(14, 'tdis', np.nan)\n",
    "\n",
    "td['tdis'] = create_binary_pattern(td, 'is1', 'is3')"
   ],
   "outputs": []
  },
  {
   "cell_type": "code",
   "execution_count": null,
   "id": "750cb03047eb9d1f",
   "metadata": {},
   "source": [
    "# No TD duplicated rows appeared."
   ],
   "outputs": []
  },
  {
   "cell_type": "code",
   "execution_count": null,
   "id": "ec24a60331f53d0e",
   "metadata": {},
   "source": [
    "# TD Analysis Complete Dataframe\n",
    "td.to_csv(r'010/0111_ps_td_092302.csv', index=False)"
   ],
   "outputs": []
  },
  {
   "cell_type": "code",
   "execution_count": null,
   "id": "b06fed494e4d4410",
   "metadata": {},
   "source": [
    "# TD Analysis Basic Dataframe\n",
    "basic_td = td.copy()\n",
    "basic_td = basic_td.drop(columns=['firstname', 'lastname', 'note'])\n",
    "basic_td.to_csv(r'011/0111_ps_td_092310.csv', index=False)"
   ],
   "outputs": []
  },
  {
   "cell_type": "markdown",
   "id": "6119f9727e8bd428",
   "metadata": {},
   "source": [
    "### TD DATA PREPARED AND READY"
   ]
  }
 ],
 "metadata": {
  "kernelspec": {
   "display_name": "Python 3",
   "language": "python",
   "name": "python3"
  },
  "language_info": {
   "codemirror_mode": {
    "name": "ipython",
    "version": 2
   },
   "file_extension": ".py",
   "mimetype": "text/x-python",
   "name": "python",
   "nbconvert_exporter": "python",
   "pygments_lexer": "ipython2",
   "version": "2.7.6"
  }
 },
 "nbformat": 4,
 "nbformat_minor": 5
}
