{
 "cells": [
  {
   "cell_type": "code",
   "execution_count": null,
   "id": "23b31bcf",
   "metadata": {},
   "source": [
    "import pandas as pd\n",
    "from src.all_in_one import *"
   ],
   "outputs": []
  },
  {
   "cell_type": "markdown",
   "id": "fedb3ff0b3100080",
   "metadata": {
    "collapsed": false
   },
   "source": [
    "# Screening Dataframe"
   ]
  },
  {
   "cell_type": "code",
   "source": [
    "path = os.path.join(processed_data, 'scr_1223.csv')\n",
    "sheet_name = 'Scr'\n",
    "df_dataset = Dataset(config_file, sheet_name)"
   ],
   "metadata": {
    "collapsed": false
   },
   "id": "c5a8303093a76410",
   "execution_count": null,
   "outputs": []
  },
  {
   "cell_type": "code",
   "execution_count": null,
   "id": "612836ac6634ed4c",
   "metadata": {
    "collapsed": false
   },
   "source": [
    "scr = pd.read_csv(path)\n",
    "scr = dtype_trans(scr, df_dataset)\n",
    "# output_df"
   ],
   "outputs": []
  },
  {
   "cell_type": "code",
   "execution_count": null,
   "id": "e951ed3443bd832a",
   "metadata": {
    "collapsed": false
   },
   "source": [
    "scr"
   ],
   "outputs": []
  },
  {
   "cell_type": "code",
   "execution_count": null,
   "id": "19994b5ee52b0d3c",
   "metadata": {
    "collapsed": false
   },
   "source": [
    "# browsing 'referral_source' and 'referring_organization' unique values\n",
    "scr[['source', 'source_org']].drop_duplicates()"
   ],
   "outputs": []
  },
  {
   "cell_type": "code",
   "execution_count": null,
   "id": "b7b58c6a2984dcd9",
   "metadata": {
    "collapsed": false
   },
   "source": [
    "# mapping 'referral_source' and 'referring organization' values\n",
    "values_to_replace = {\n",
    "    'source': {\n",
    "        'ADMSP beneficiary (current or former)': 'ADMSP_Beneficiary',\n",
    "        'Social Media': 'Social_Media',\n",
    "        'I/NGO or humanitarian organization': 'NGO',\n",
    "        'Outreach session': 'Outreach_Session',\n",
    "        'Family member or friend': 'Family_or_Friend',\n",
    "        'ADMSP member': 'ADMSP_Member',\n",
    "        'outreach session': 'Outreach_Session',\n",
    "    },\n",
    "    'source_org': {\n",
    "        'تعافي': 'Taafe',\n",
    "        'عائلات من أجل الحرية': 'FFF',\n",
    "        'جمعية الحياة': 'ALHAYAT',\n",
    "        'سامز': 'SAMS',\n",
    "        'جلسة تعريفية لفريق الرابطة في الآيدا': 'IDA',\n",
    "        'جلسة توعية في مركز العائلة': 'FC'\n",
    "    }\n",
    "}\n",
    "\n",
    "scr.replace(values_to_replace, inplace=True)"
   ],
   "outputs": []
  },
  {
   "cell_type": "code",
   "execution_count": null,
   "id": "24bbf3df5120d5dd",
   "metadata": {
    "collapsed": false
   },
   "source": [
    "# fill missing values in 'referring_organization' based on values in 'referral_source'\n",
    "mapping_values = {\n",
    "    'ADMSP_Beneficiary': 'NA_',\n",
    "    'Social_Media': 'NA_',\n",
    "    'Family_or_Friend': 'NA_',\n",
    "    'ADMSP_Member': 'NA_',\n",
    "    'IRM': 'NA_',\n",
    "}\n",
    "\n",
    "# Filter values in 'srs' that are keys in mapping_values dictionary\n",
    "filter_values = scr['source'][scr['source'].isin(mapping_values.keys())]\n",
    "# Replace values in this filtered set using mapping_values dictionary\n",
    "replace_values = filter_values.replace(mapping_values)\n",
    "# Fill NaN values in the 'srsorg' column with the replaced values\n",
    "scr['source_org'] = scr['source_org'].fillna(replace_values)"
   ],
   "outputs": []
  },
  {
   "cell_type": "code",
   "execution_count": null,
   "id": "1f2a13d852a4c98b",
   "metadata": {
    "collapsed": false
   },
   "source": [
    "scr"
   ],
   "outputs": []
  },
  {
   "cell_type": "markdown",
   "id": "c92fab732b5bb432",
   "metadata": {
    "collapsed": false
   },
   "source": [
    "# Screening Analysis Version"
   ]
  },
  {
   "cell_type": "code",
   "execution_count": null,
   "id": "42a110f67868dcc5",
   "metadata": {
    "collapsed": false
   },
   "source": [
    "scr.loc[scr['sc_loc'] == 'GTZ', 'sc_loc'] = 'GZT'"
   ],
   "outputs": []
  },
  {
   "cell_type": "code",
   "execution_count": null,
   "id": "750cb03047eb9d1f",
   "metadata": {
    "collapsed": false
   },
   "source": [
    "scr"
   ],
   "outputs": []
  },
  {
   "cell_type": "code",
   "execution_count": null,
   "id": "18317ed83cf2f54d",
   "metadata": {
    "collapsed": false
   },
   "source": [
    "# Dataset before 2023 has no variable for the location of the activity, 'scloc', since all activities implemented in GZT. \n",
    "condition = (\n",
    "        ((scr['sc_s1'] < '2023-01-01') | scr['sc_s1'].isna()) &\n",
    "        ((scr['pei_pre_as'] < '2023-01-01') | scr['pei_pre_as'].isna()) &\n",
    "        ((scr['sc_re'] < '2023-01-01') | scr['sc_re'].isna())\n",
    ")\n",
    "\n",
    "scr.loc[condition & scr['sc_loc'].isna(), 'sc_loc'] = 'GZT'\n"
   ],
   "outputs": []
  },
  {
   "cell_type": "code",
   "execution_count": null,
   "id": "fa049ede236c9019",
   "metadata": {
    "collapsed": false
   },
   "source": [
    "# Screening Analysis Complete Dataframe \n",
    "scr.to_csv(path, index=False)"
   ],
   "outputs": []
  },
  {
   "cell_type": "markdown",
   "id": "c5743db46605af9d",
   "metadata": {
    "collapsed": false
   },
   "source": [
    "### SCREENING DATA IS READY"
   ]
  }
 ],
 "metadata": {
  "kernelspec": {
   "display_name": "Python 3",
   "language": "python",
   "name": "python3"
  },
  "language_info": {
   "codemirror_mode": {
    "name": "ipython",
    "version": 3
   },
   "file_extension": ".py",
   "mimetype": "text/x-python",
   "name": "python",
   "nbconvert_exporter": "python",
   "pygments_lexer": "ipython3",
   "version": "3.12.0"
  }
 },
 "nbformat": 4,
 "nbformat_minor": 5
}
