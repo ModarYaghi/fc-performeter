{
 "cells": [
  {
   "cell_type": "code",
   "execution_count": null,
   "id": "initial_id",
   "metadata": {},
   "outputs": [],
   "source": [
    "import numpy as np\n",
    "import pandas as pd\n",
    "import warnings\n",
    "from my_analysis_toolkit import read_encrypted_excels\n",
    "from my_static_data import tt_passwords, psfs_columns, psfs_basic_columns, psfs_date_columns, psfs_int_columns"
   ]
  },
  {
   "cell_type": "code",
   "execution_count": null,
   "id": "8c80f1a5316103cf",
   "metadata": {},
   "outputs": [],
   "source": [
    "# Avoid representing large numbers in scientific form. To reset, use the commented line.\n",
    "pd.set_option('display.float_format', '{:.1f}'.format)\n",
    "# pd.reset_option('display.float_format')\n",
    "\n",
    "# Display maximum column width:\n",
    "pd.set_option('display.max_colwidth', None)\n",
    "\n",
    "# Suppress openpyxl data validation warning\n",
    "warnings.filterwarnings(\"ignore\", category=UserWarning, module=\"openpyxl\")"
   ]
  },
  {
   "cell_type": "code",
   "execution_count": null,
   "id": "f58ca7579d8ad976",
   "metadata": {},
   "outputs": [],
   "source": [
    "sheet = 'PSFS'\n",
    "sp = 'pfsp'\n",
    "passwords = tt_passwords\n",
    "columns_names = psfs_columns\n",
    "basic_columns = psfs_basic_columns\n",
    "date_columns = psfs_date_columns\n",
    "int_columns = psfs_int_columns"
   ]
  },
  {
   "cell_type": "code",
   "execution_count": null,
   "id": "e8c9bfef1912ab73",
   "metadata": {},
   "outputs": [],
   "source": [
    "tracking_tools = read_encrypted_excels(r'000', passwords) "
   ]
  },
  {
   "cell_type": "markdown",
   "id": "8c639615038c5e90",
   "metadata": {},
   "source": [
    "# Process PSFS Sheets"
   ]
  },
  {
   "cell_type": "code",
   "execution_count": null,
   "id": "8f8dc7451d6c34fe",
   "metadata": {},
   "outputs": [],
   "source": [
    "hr = tracking_tools['tt_pt_HR_v04.xlsx'][sheet]"
   ]
  },
  {
   "cell_type": "code",
   "execution_count": null,
   "id": "c8d6079c07e4db9b",
   "metadata": {},
   "outputs": [],
   "source": [
    "hr"
   ]
  },
  {
   "cell_type": "code",
   "execution_count": null,
   "id": "4ee93170aebccde1",
   "metadata": {},
   "outputs": [],
   "source": [
    "hr.columns = psfs_columns\n",
    "hr = hr.drop(hr.index[0]).reset_index(drop=True)\n",
    "hr.dropna(subset=basic_columns, how='all', inplace=True)\n",
    "hr.insert(0, sp, 'HR')"
   ]
  },
  {
   "cell_type": "code",
   "execution_count": null,
   "id": "68dd5131a61a1ded",
   "metadata": {},
   "outputs": [],
   "source": [
    "hj = tracking_tools['tt_pt_HJ_v04.xlsx'][sheet]"
   ]
  },
  {
   "cell_type": "code",
   "execution_count": null,
   "outputs": [],
   "source": [
    "hj.columns = psfs_columns\n",
    "hj = hj.drop(hr.index[0]).reset_index(drop=True)\n",
    "hj.dropna(subset=basic_columns, how='all', inplace=True)\n",
    "hj.insert(0, sp, 'HJ')"
   ],
   "metadata": {
    "collapsed": false
   },
   "id": "bb25477fdef7a435"
  },
  {
   "cell_type": "code",
   "execution_count": null,
   "id": "a81d63c63660ed15",
   "metadata": {},
   "outputs": [],
   "source": [
    "psfs_rows = hr.shape[0] + hj.shape[0]\n",
    "psfs_rows"
   ]
  },
  {
   "cell_type": "code",
   "execution_count": null,
   "id": "3d29102e95f7a7c1",
   "metadata": {},
   "outputs": [],
   "source": [
    "psfs_data = pd.concat([hr, hj], ignore_index=True)\n",
    "psfs_data"
   ]
  },
  {
   "cell_type": "code",
   "execution_count": null,
   "id": "7dd95e1f50aec0b0",
   "metadata": {},
   "outputs": [],
   "source": [
    "psfs_data.to_csv(r'001/1010_pt_pf_092300.csv', index=False)"
   ]
  },
  {
   "cell_type": "markdown",
   "id": "fedb3ff0b3100080",
   "metadata": {},
   "source": [
    "# PSFS Dataframe"
   ]
  },
  {
   "cell_type": "code",
   "execution_count": null,
   "id": "612836ac6634ed4c",
   "metadata": {},
   "outputs": [],
   "source": [
    "psfs = pd.read_csv(r'001/1010_pt_pf_092300.csv')\n",
    "psfs = psfs.applymap(lambda x: x.strip() if isinstance(x, str) else x)"
   ]
  },
  {
   "cell_type": "code",
   "execution_count": null,
   "id": "e951ed3443bd832a",
   "metadata": {},
   "outputs": [],
   "source": [
    "psfs.shape"
   ]
  },
  {
   "cell_type": "code",
   "execution_count": null,
   "id": "5fcd942a6a2fd4e4",
   "metadata": {},
   "outputs": [],
   "source": [
    "psfs.info()"
   ]
  },
  {
   "cell_type": "markdown",
   "source": [],
   "metadata": {
    "collapsed": false
   },
   "id": "2e1d5370c9fe6e1"
  },
  {
   "cell_type": "code",
   "execution_count": null,
   "id": "1f2a13d852a4c98b",
   "metadata": {},
   "outputs": [],
   "source": [
    "psfs"
   ]
  },
  {
   "cell_type": "code",
   "execution_count": null,
   "id": "c519f002d0eb606a",
   "metadata": {},
   "outputs": [],
   "source": [
    "psfs[int_columns] = psfs[int_columns].astype('Int64')\n",
    "psfs[date_columns] = psfs[date_columns].apply(pd.to_datetime)"
   ]
  },
  {
   "cell_type": "code",
   "execution_count": null,
   "outputs": [],
   "source": [
    "psfs_duplicates = psfs[psfs['fcid'].duplicated(keep=False)]\n",
    "psfs_duplicates"
   ],
   "metadata": {
    "collapsed": false
   },
   "id": "415d257f899b5476"
  },
  {
   "cell_type": "markdown",
   "source": [
    "#### - HJ-pfspi: 95 = !fcid: 8110020124 | $fcid: 8110020125"
   ],
   "metadata": {
    "collapsed": false
   },
   "id": "536a3063b64dbe58"
  },
  {
   "cell_type": "markdown",
   "source": [
    "#### - HJ-pfspi: 92 = !fcid: 8110110004 | $fcid: 8110100004"
   ],
   "metadata": {
    "collapsed": false
   },
   "id": "6e84d0f7baa43485"
  },
  {
   "cell_type": "markdown",
   "source": [
    "#### - HJ-pfspi: (88,106) = &&"
   ],
   "metadata": {
    "collapsed": false
   },
   "id": "5fd2bf330b7ef615"
  },
  {
   "cell_type": "markdown",
   "source": [
    "#### - HR-pfspi: 19 = (!firstname, !lastname): &&"
   ],
   "metadata": {
    "collapsed": false
   },
   "id": "751115f109022e3a"
  },
  {
   "cell_type": "code",
   "execution_count": null,
   "outputs": [],
   "source": [
    "psfs.loc[psfs['rid'] == 'R0142', 'fcid'] = 8110020125"
   ],
   "metadata": {
    "collapsed": false
   },
   "id": "483d2b6ba2fee794"
  },
  {
   "cell_type": "code",
   "execution_count": null,
   "outputs": [],
   "source": [
    "psfs.loc[psfs['rid'] == 'R0717', 'fcid'] = 8110100004"
   ],
   "metadata": {
    "collapsed": false
   },
   "id": "1d2e34662c33c7e6"
  },
  {
   "cell_type": "code",
   "execution_count": null,
   "outputs": [],
   "source": [
    "# psfs_duplicates.to_html('psfs_duplicates.html')\n",
    "psfs_duplicates.to_clipboard()"
   ],
   "metadata": {
    "collapsed": false
   },
   "id": "c6335f268c3e5aed"
  },
  {
   "cell_type": "code",
   "execution_count": null,
   "id": "34082293d52604f",
   "metadata": {},
   "outputs": [],
   "source": [
    "psfs.to_csv(r'010/1010_pt_pf_092301.csv', index=False)"
   ]
  },
  {
   "cell_type": "markdown",
   "id": "c92fab732b5bb432",
   "metadata": {},
   "source": [
    "# PSFS Analysis Version"
   ]
  },
  {
   "cell_type": "code",
   "execution_count": null,
   "id": "a20bd72d35ca8328",
   "metadata": {},
   "outputs": [],
   "source": [
    "pf = pd.read_csv(r'010/1010_pt_pf_092301.csv')"
   ]
  },
  {
   "cell_type": "code",
   "execution_count": null,
   "id": "f5c8b275f7d8a4dd",
   "metadata": {},
   "outputs": [],
   "source": [
    "pf"
   ]
  },
  {
   "cell_type": "code",
   "execution_count": null,
   "id": "274d639c1383b381",
   "metadata": {},
   "outputs": [],
   "source": [
    "pf[date_columns] = pf[date_columns].apply(pd.to_datetime)\n",
    "pf[int_columns] = pf[int_columns].astype('Int64')\n"
   ]
  },
  {
   "cell_type": "code",
   "execution_count": null,
   "id": "5257a018824b0abe",
   "metadata": {},
   "outputs": [],
   "source": [
    "pf.info()"
   ]
  },
  {
   "cell_type": "code",
   "execution_count": null,
   "id": "93883aa274c2ba33",
   "metadata": {},
   "outputs": [],
   "source": [
    "# Encoding binary variables\n",
    "pf['sex'] = pf['sex'].replace({\n",
    "    'Female': 1,\n",
    "    'Male': 2\n",
    "}).astype('Int64')"
   ]
  },
  {
   "cell_type": "code",
   "execution_count": null,
   "id": "fa049ede236c9019",
   "metadata": {},
   "outputs": [],
   "source": [
    "# PSFS Analysis Complete Dataframe \n",
    "pf.to_csv(r'010/1010_pt_pf_092302.csv', index=False)"
   ]
  },
  {
   "cell_type": "code",
   "execution_count": null,
   "id": "4a2238d3f2b1c5af",
   "metadata": {},
   "outputs": [],
   "source": [
    "# PSFS Analysis Basic Dataframe (this dataframe for analysis work - without unnecessary variables)\n",
    "basic_pf = pf.copy()\n",
    "basic_pf = basic_pf.drop(columns=['firstname', 'lastname', 'nat', 'sco', 'vic', 'note'])\n",
    "basic_pf.to_csv(r'011/1010_pt_pf_092310.csv', index=False)"
   ]
  },
  {
   "cell_type": "markdown",
   "source": [
    "### PSFS data has a lot of NaN rows. They can't be removed before settle them with the PT service provider."
   ],
   "metadata": {
    "collapsed": false
   },
   "id": "f37d395085f60679"
  },
  {
   "cell_type": "markdown",
   "id": "c5743db46605af9d",
   "metadata": {},
   "source": [
    "### PSFS DATA IS READY"
   ]
  }
 ],
 "metadata": {
  "kernelspec": {
   "display_name": "Python 3",
   "language": "python",
   "name": "python3"
  },
  "language_info": {
   "codemirror_mode": {
    "name": "ipython",
    "version": 2
   },
   "file_extension": ".py",
   "mimetype": "text/x-python",
   "name": "python",
   "nbconvert_exporter": "python",
   "pygments_lexer": "ipython2",
   "version": "2.7.6"
  }
 },
 "nbformat": 4,
 "nbformat_minor": 5
}
