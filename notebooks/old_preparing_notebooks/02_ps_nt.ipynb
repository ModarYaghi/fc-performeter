{
 "cells": [
  {
   "cell_type": "code",
   "execution_count": null,
   "id": "initial_id",
   "metadata": {
    "collapsed": true
   },
   "source": [
    "import pandas as pd\n",
    "import warnings\n",
    "from my_analysis_toolkit import read_encrypted_excels, intake_validate\n",
    "from my_static_data import tt_passwords, intake_columns, intake_basic_columns, intake_date_columns,victimhood"
   ],
   "outputs": []
  },
  {
   "cell_type": "code",
   "execution_count": null,
   "source": [
    "# Avoid representing large numbers in scientific form. To reset, use the commented line.\n",
    "pd.set_option('display.float_format', '{:.1f}'.format)\n",
    "# pd.reset_option('display.float_format')\n",
    "\n",
    "# Display maximum column width:\n",
    "pd.set_option('display.max_colwidth', None)\n",
    "\n",
    "# Suppress openpyxl data validation warning\n",
    "warnings.filterwarnings(\"ignore\", category=UserWarning, module=\"openpyxl\")"
   ],
   "metadata": {
    "collapsed": false
   },
   "id": "8c80f1a5316103cf",
   "outputs": []
  },
  {
   "cell_type": "code",
   "execution_count": null,
   "source": [
    "passwords = tt_passwords\n",
    "tracking_tools = read_encrypted_excels(r'000', passwords)"
   ],
   "metadata": {
    "collapsed": false
   },
   "id": "e8c9bfef1912ab73",
   "outputs": []
  },
  {
   "cell_type": "markdown",
   "source": [
    "# Process Intake Sheets"
   ],
   "metadata": {
    "collapsed": false
   },
   "id": "8c639615038c5e90"
  },
  {
   "cell_type": "code",
   "execution_count": null,
   "source": [
    "sheet = 'Int'\n",
    "sp = 'ntsp'\n",
    "# columns_names = psfs_columns\n",
    "# basic_columns = psfs_basic_columns\n",
    "# date_columns = psfs_date_columns\n",
    "# int_columns = psfs_int_columns tt_passwords"
   ],
   "metadata": {
    "collapsed": false
   },
   "id": "abcb1233f81dbda1",
   "outputs": []
  },
  {
   "cell_type": "code",
   "execution_count": null,
   "source": [
    "yq = tracking_tools['tt_pt_HR_v04.xlsx'][sheet]\n",
    "yq"
   ],
   "metadata": {
    "collapsed": false
   },
   "id": "8f8dc7451d6c34fe",
   "outputs": []
  },
  {
   "cell_type": "code",
   "execution_count": null,
   "source": [
    "yq.columns = intake_columns_names\n",
    "yq = yq.drop(yq.index[0]).reset_index(drop=True)\n",
    "yq.dropna(subset=intake_basic_columns, how='all', inplace=True)\n",
    "yq.insert(0, sp, 'YQ')"
   ],
   "metadata": {
    "collapsed": false
   },
   "id": "4ee93170aebccde1",
   "outputs": []
  },
  {
   "cell_type": "code",
   "execution_count": null,
   "source": [
    "sa = tracking_tools['tt_psc_SA_v04.xlsx'][sheet]"
   ],
   "metadata": {
    "collapsed": false
   },
   "id": "68dd5131a61a1ded",
   "outputs": []
  },
  {
   "cell_type": "code",
   "execution_count": null,
   "source": [
    "sa.columns = intake_columns_names\n",
    "sa = sa.drop(sa.index[0]).reset_index(drop=True)\n",
    "sa.dropna(subset=intake_basic_columns, how='all', inplace=True)\n",
    "sa.insert(0, sp, 'SA')"
   ],
   "metadata": {
    "collapsed": false
   },
   "id": "5a3b4eec53bb9174",
   "outputs": []
  },
  {
   "cell_type": "code",
   "execution_count": null,
   "source": [
    "ij = tracking_tools['tt_psc_IJ_v04.xlsx'][sheet]"
   ],
   "metadata": {
    "collapsed": false
   },
   "id": "1e8595d18482f1f3",
   "outputs": []
  },
  {
   "cell_type": "code",
   "execution_count": null,
   "source": [
    "ij.columns = intake_columns_names\n",
    "ij = ij.drop(ij.index[0]).reset_index(drop=True)\n",
    "ij.dropna(subset=intake_basic_columns, how='all', inplace=True)\n",
    "ij.insert(0, sp, 'IJ')"
   ],
   "metadata": {
    "collapsed": false
   },
   "id": "3bd96196e3d6822c",
   "outputs": []
  },
  {
   "cell_type": "code",
   "execution_count": null,
   "source": [
    "la = tracking_tools['tt_psc_LA_v04.xlsx'][sheet]"
   ],
   "metadata": {
    "collapsed": false
   },
   "id": "d41df84c770894a3",
   "outputs": []
  },
  {
   "cell_type": "code",
   "execution_count": null,
   "source": [
    "la.columns = intake_columns_names\n",
    "la = la.drop(la.index[0]).reset_index(drop=True)\n",
    "la.dropna(subset=intake_basic_columns, how='all', inplace=True)\n",
    "la.insert(0, sp, 'LA')"
   ],
   "metadata": {
    "collapsed": false
   },
   "id": "63c0162eacbb8144",
   "outputs": []
  },
  {
   "cell_type": "code",
   "execution_count": null,
   "source": [
    "mt = tracking_tools['tt_psc_MT_v04.xlsx'][sheet]"
   ],
   "metadata": {
    "collapsed": false
   },
   "id": "6a01e4a0f45ca910",
   "outputs": []
  },
  {
   "cell_type": "code",
   "execution_count": null,
   "source": [
    "mt.columns = intake_columns_names\n",
    "mt = mt.drop(mt.index[0]).reset_index(drop=True)\n",
    "mt.dropna(subset=intake_basic_columns, how='all', inplace=True)\n",
    "mt.insert(0, sp, 'MT')"
   ],
   "metadata": {
    "collapsed": false
   },
   "id": "ae7aae6c017ac6ed",
   "outputs": []
  },
  {
   "cell_type": "code",
   "execution_count": null,
   "source": [
    "intake_rows = mt.shape[0] + yq.shape[0] + sa.shape[0] + ij.shape[0] + la.shape[0]\n",
    "intake_rows"
   ],
   "metadata": {
    "collapsed": false
   },
   "id": "a81d63c63660ed15",
   "outputs": []
  },
  {
   "cell_type": "code",
   "execution_count": null,
   "source": [
    "intake = pd.concat([yq, sa, ij, la, mt], ignore_index=True)"
   ],
   "metadata": {
    "collapsed": false
   },
   "id": "3d29102e95f7a7c1",
   "outputs": []
  },
  {
   "cell_type": "code",
   "execution_count": null,
   "source": [
    "# All intake csv file\n",
    "intake.to_csv(r'001/0001_ps_nt_092300.csv', index=False)"
   ],
   "metadata": {
    "collapsed": false
   },
   "id": "7dd95e1f50aec0b0",
   "outputs": []
  },
  {
   "cell_type": "markdown",
   "source": [
    "# Intake Dataframe"
   ],
   "metadata": {
    "collapsed": false
   },
   "id": "fedb3ff0b3100080"
  },
  {
   "cell_type": "code",
   "execution_count": null,
   "source": [
    "ntk = pd.read_csv(r'001/0001_ps_nt_092300.csv')\n",
    "ntk = ntk.applymap(lambda x: x.strip() if isinstance(x, str) else x)"
   ],
   "metadata": {
    "collapsed": false
   },
   "id": "612836ac6634ed4c",
   "outputs": []
  },
  {
   "cell_type": "code",
   "execution_count": null,
   "source": [
    "ntk.shape"
   ],
   "metadata": {
    "collapsed": false
   },
   "id": "e951ed3443bd832a",
   "outputs": []
  },
  {
   "cell_type": "code",
   "execution_count": null,
   "source": [
    "ntk.info()"
   ],
   "metadata": {
    "collapsed": false
   },
   "id": "5fcd942a6a2fd4e4",
   "outputs": []
  },
  {
   "cell_type": "code",
   "execution_count": null,
   "source": [
    "ntk"
   ],
   "metadata": {
    "collapsed": false
   },
   "id": "4fda9620e8240f11",
   "outputs": []
  },
  {
   "cell_type": "code",
   "execution_count": null,
   "source": [
    "ntk['fcid'] = ntk['fcid'].astype('Int64')\n",
    "ntk[intake_date_columns] = ntk[intake_date_columns].apply(pd.to_datetime)"
   ],
   "metadata": {
    "collapsed": false
   },
   "id": "c519f002d0eb606a",
   "outputs": []
  },
  {
   "cell_type": "code",
   "execution_count": null,
   "source": [
    "# First cleaned csv file\n",
    "ntk.to_csv(r'010/0001_ps_nt_092301.csv', index=False)"
   ],
   "metadata": {
    "collapsed": false
   },
   "id": "34082293d52604f",
   "outputs": []
  },
  {
   "cell_type": "markdown",
   "source": [
    "# Intake Analysis Version"
   ],
   "metadata": {
    "collapsed": false
   },
   "id": "c92fab732b5bb432"
  },
  {
   "cell_type": "code",
   "execution_count": null,
   "source": [
    "nt = pd.read_csv(r'010/0001_ps_nt_092301.csv')"
   ],
   "metadata": {
    "collapsed": false
   },
   "id": "a20bd72d35ca8328",
   "outputs": []
  },
  {
   "cell_type": "code",
   "execution_count": null,
   "source": [
    "nt[intake_date_columns] = nt[intake_date_columns].apply(pd.to_datetime)\n",
    "nt['fcid'] = nt['fcid'].astype('Int64')\n"
   ],
   "metadata": {
    "collapsed": false
   },
   "id": "274d639c1383b381",
   "outputs": []
  },
  {
   "cell_type": "code",
   "execution_count": null,
   "source": [
    "nt.info()"
   ],
   "metadata": {
    "collapsed": false
   },
   "id": "5257a018824b0abe",
   "outputs": []
  },
  {
   "cell_type": "code",
   "execution_count": null,
   "source": [
    "nt"
   ],
   "metadata": {
    "collapsed": false
   },
   "id": "e0de03f8b3affc05",
   "outputs": []
  },
  {
   "cell_type": "code",
   "execution_count": null,
   "source": [
    "# Encoding binary variables - victimhood\n",
    "nt[victimhood] = nt[victimhood].replace({\n",
    "    'Yes': 1,\n",
    "    'No': 0\n",
    "}).astype('Int64')"
   ],
   "metadata": {
    "collapsed": false
   },
   "id": "42a110f67868dcc5",
   "outputs": []
  },
  {
   "cell_type": "code",
   "execution_count": null,
   "source": [
    "if 'vict' not in nt.columns:\n",
    "    nt.insert(22, 'vict', nt[victimhood].sum(axis=1))\n",
    "# nt['vict'] = nt[victimhood].sum(axis=1)"
   ],
   "metadata": {
    "collapsed": false
   },
   "id": "750cb03047eb9d1f",
   "outputs": []
  },
  {
   "cell_type": "code",
   "execution_count": null,
   "source": [
    "# Checking if there are duplicated records.\n",
    "# nt[nt['fcid'].duplicated(keep=False)]\n",
    "# No duplicated records found unto September 2023 data."
   ],
   "metadata": {
    "collapsed": false
   },
   "id": "18317ed83cf2f54d",
   "outputs": []
  },
  {
   "cell_type": "markdown",
   "source": [
    "## Checking intake session validity sessions date.\n",
    "- -1: session 1 exists only.\n",
    "- 1: session 1, 2 exist and 2 > 1\n",
    "- 2: session 1, 2, exist and 3 > 2 > 1\n",
    "- 3: session 1, 2, 3 and/or 4 exist and 4 > (3 > 2) > 1\n",
    "- 0: There is and issue in the dates validity"
   ],
   "metadata": {
    "collapsed": false
   },
   "id": "eabefa5e9c3675ea"
  },
  {
   "cell_type": "code",
   "execution_count": null,
   "source": [
    "# Checking the validity of the intake sessions dates using intake_validity function.\n",
    "if 'nt' not in nt.columns:\n",
    "    nt.insert(\n",
    "        6,\n",
    "        'nt',\n",
    "        nt.apply(\n",
    "            lambda  row: intake_validate(\n",
    "                row['nt1'],\n",
    "                row['nt2'],\n",
    "                row['nt3'],\n",
    "                row['ntre']\n",
    "            ),\n",
    "            axis=1\n",
    "        )\n",
    "    )"
   ],
   "metadata": {
    "collapsed": false
   },
   "id": "ab218036fb5fbc86",
   "outputs": []
  },
  {
   "cell_type": "code",
   "execution_count": null,
   "source": [
    "# Intake Analysis Complete Dataframe\n",
    "nt.to_csv(r'010/0001_ps_nt_092302.csv', index=False)"
   ],
   "metadata": {
    "collapsed": false
   },
   "id": "ec24a60331f53d0e",
   "outputs": []
  },
  {
   "cell_type": "code",
   "execution_count": null,
   "source": [
    "# Intake Analysis Basic Dataframe\n",
    "basic_nt = nt.copy()\n",
    "basic_nt = basic_nt.drop(columns=['firstname', 'lastname', 'note'])\n",
    "basic_nt.to_csv(r'011/0001_ps_nt_092310.csv', index=False)"
   ],
   "metadata": {
    "collapsed": false
   },
   "id": "b06fed494e4d4410",
   "outputs": []
  },
  {
   "cell_type": "markdown",
   "source": [
    "### INTAKE ASSESSMENT DATA IS PREPARED AND READY"
   ],
   "metadata": {
    "collapsed": false
   },
   "id": "6afb83288b2a033f"
  },
  {
   "cell_type": "code",
   "execution_count": null,
   "source": [],
   "metadata": {
    "collapsed": false
   },
   "id": "4a2238d3f2b1c5af",
   "outputs": []
  }
 ],
 "metadata": {
  "kernelspec": {
   "display_name": "Python 3",
   "language": "python",
   "name": "python3"
  },
  "language_info": {
   "codemirror_mode": {
    "name": "ipython",
    "version": 2
   },
   "file_extension": ".py",
   "mimetype": "text/x-python",
   "name": "python",
   "nbconvert_exporter": "python",
   "pygments_lexer": "ipython2",
   "version": "2.7.6"
  }
 },
 "nbformat": 4,
 "nbformat_minor": 5
}
