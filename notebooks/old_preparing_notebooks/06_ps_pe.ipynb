{
 "cells": [
  {
   "cell_type": "code",
   "execution_count": null,
   "id": "initial_id",
   "metadata": {
    "collapsed": true
   },
   "outputs": [],
   "source": [
    "import numpy as np\n",
    "import pandas as pd\n",
    "import warnings\n",
    "from my_analysis_toolkit import read_encrypted_excels, indexing_groups\n",
    "from my_static_data import tt_passwords, pei_columns, pei_date_columns, pei_basic_columns, pei_int_columns"
   ]
  },
  {
   "cell_type": "code",
   "execution_count": null,
   "outputs": [],
   "source": [
    "# Avoid representing large numbers in scientific form. To reset, use the commented line.\n",
    "pd.set_option('display.float_format', '{:.1f}'.format)\n",
    "# pd.reset_option('display.float_format')\n",
    "\n",
    "# Display maximum column width:\n",
    "pd.set_option('display.max_colwidth', None)\n",
    "\n",
    "# Suppress openpyxl data validation warning\n",
    "warnings.filterwarnings(\"ignore\", category=UserWarning, module=\"openpyxl\")"
   ],
   "metadata": {
    "collapsed": false
   },
   "id": "8c80f1a5316103cf"
  },
  {
   "cell_type": "code",
   "execution_count": null,
   "outputs": [],
   "source": [
    "# Static Code Variables\n",
    "sheet = 'PEI'\n",
    "sp = 'pesp'\n",
    "int_columns = pei_int_columns\n",
    "columns_names = pei_columns\n",
    "basic_columns = pei_basic_columns\n",
    "date_columns = pei_date_columns\n",
    "passwords = tt_passwords"
   ],
   "metadata": {
    "collapsed": false
   },
   "id": "f58ca7579d8ad976"
  },
  {
   "cell_type": "code",
   "execution_count": null,
   "outputs": [],
   "source": [
    "tracking_tools = read_encrypted_excels(r'000', passwords)"
   ],
   "metadata": {
    "collapsed": false
   },
   "id": "e8c9bfef1912ab73"
  },
  {
   "cell_type": "markdown",
   "source": [
    "# Process PEI Sheets"
   ],
   "metadata": {
    "collapsed": false
   },
   "id": "8c639615038c5e90"
  },
  {
   "cell_type": "code",
   "execution_count": null,
   "outputs": [],
   "source": [
    "yq = tracking_tools['tt_psc_YQ-v04.xlsx'][sheet]"
   ],
   "metadata": {
    "collapsed": false
   },
   "id": "8f8dc7451d6c34fe"
  },
  {
   "cell_type": "code",
   "execution_count": null,
   "outputs": [],
   "source": [
    "yq"
   ],
   "metadata": {
    "collapsed": false
   },
   "id": "9162991bf9701e1f"
  },
  {
   "cell_type": "code",
   "execution_count": null,
   "outputs": [],
   "source": [
    "yq.columns = columns_names\n",
    "yq = yq.drop(yq.index[0]).reset_index(drop=True)\n",
    "yq.dropna(subset=basic_columns, how='all', inplace=True)\n",
    "yq.insert(0, sp, 'YQ')"
   ],
   "metadata": {
    "collapsed": false
   },
   "id": "4ee93170aebccde1"
  },
  {
   "cell_type": "code",
   "execution_count": null,
   "outputs": [],
   "source": [
    "sa = tracking_tools['tt_psc_SA_v04.xlsx'][sheet]"
   ],
   "metadata": {
    "collapsed": false
   },
   "id": "68dd5131a61a1ded"
  },
  {
   "cell_type": "code",
   "execution_count": null,
   "outputs": [],
   "source": [
    "sa.columns = columns_names\n",
    "sa = sa.drop(sa.index[0]).reset_index(drop=True)\n",
    "sa.dropna(subset=basic_columns, how='all', inplace=True)\n",
    "sa.insert(0, sp, 'SA')"
   ],
   "metadata": {
    "collapsed": false
   },
   "id": "5a3b4eec53bb9174"
  },
  {
   "cell_type": "code",
   "execution_count": null,
   "outputs": [],
   "source": [
    "ij = tracking_tools['tt_psc_IJ_v04.xlsx'][sheet]"
   ],
   "metadata": {
    "collapsed": false
   },
   "id": "1e8595d18482f1f3"
  },
  {
   "cell_type": "code",
   "execution_count": null,
   "outputs": [],
   "source": [
    "ij.columns = columns_names\n",
    "ij = ij.drop(ij.index[0]).reset_index(drop=True)\n",
    "ij.dropna(subset=basic_columns, how='all', inplace=True)\n",
    "ij.insert(0, sp, 'IJ')"
   ],
   "metadata": {
    "collapsed": false
   },
   "id": "3bd96196e3d6822c"
  },
  {
   "cell_type": "code",
   "execution_count": null,
   "outputs": [],
   "source": [
    "la = tracking_tools['tt_psc_LA_v04.xlsx'][sheet]"
   ],
   "metadata": {
    "collapsed": false
   },
   "id": "d41df84c770894a3"
  },
  {
   "cell_type": "code",
   "execution_count": null,
   "outputs": [],
   "source": [
    "la.columns = columns_names\n",
    "la = la.drop(la.index[0]).reset_index(drop=True)\n",
    "la.dropna(subset=basic_columns, how='all', inplace=True)\n",
    "la.insert(0, sp, 'LA')"
   ],
   "metadata": {
    "collapsed": false
   },
   "id": "63c0162eacbb8144"
  },
  {
   "cell_type": "code",
   "execution_count": null,
   "outputs": [],
   "source": [
    "mt = tracking_tools['tt_psc_MT_v04.xlsx'][sheet]"
   ],
   "metadata": {
    "collapsed": false
   },
   "id": "6a01e4a0f45ca910"
  },
  {
   "cell_type": "code",
   "execution_count": null,
   "outputs": [],
   "source": [
    "mt.columns = columns_names\n",
    "mt = mt.drop(mt.index[0]).reset_index(drop=True)\n",
    "mt.dropna(subset=basic_columns, how='all', inplace=True)\n",
    "mt.insert(0, sp, 'MT')"
   ],
   "metadata": {
    "collapsed": false
   },
   "id": "ae7aae6c017ac6ed"
  },
  {
   "cell_type": "code",
   "execution_count": null,
   "outputs": [],
   "source": [
    "pe_rows = mt.shape[0] + yq.shape[0] + sa.shape[0] + ij.shape[0] + la.shape[0]\n",
    "pe_rows"
   ],
   "metadata": {
    "collapsed": false
   },
   "id": "a81d63c63660ed15"
  },
  {
   "cell_type": "code",
   "execution_count": null,
   "outputs": [],
   "source": [
    "pei = pd.concat([yq, sa, ij, la, mt], ignore_index=True)"
   ],
   "metadata": {
    "collapsed": false
   },
   "id": "3d29102e95f7a7c1"
  },
  {
   "cell_type": "code",
   "execution_count": null,
   "outputs": [],
   "source": [
    "pei"
   ],
   "metadata": {
    "collapsed": false
   },
   "id": "447f141f2caa0d44"
  },
  {
   "cell_type": "code",
   "execution_count": null,
   "outputs": [],
   "source": [
    "# All PEI csv file\n",
    "pei.to_csv(r'001/0101_ps_pe_092300.csv', index=False)"
   ],
   "metadata": {
    "collapsed": false
   },
   "id": "7dd95e1f50aec0b0"
  },
  {
   "cell_type": "markdown",
   "source": [
    "#  PEI Dataframe"
   ],
   "metadata": {
    "collapsed": false
   },
   "id": "fedb3ff0b3100080"
  },
  {
   "cell_type": "code",
   "execution_count": null,
   "outputs": [],
   "source": [
    "pe = pd.read_csv(r'001/0101_ps_pe_092300.csv')\n",
    "pe[date_columns] = pe[date_columns].apply(pd.to_datetime)\n",
    "pe = pe.applymap(lambda x: x.strip() if isinstance(x, str) else x)\n",
    "pe[int_columns] = pe[int_columns].astype('Int64')"
   ],
   "metadata": {
    "collapsed": false
   },
   "id": "612836ac6634ed4c"
  },
  {
   "cell_type": "code",
   "execution_count": null,
   "outputs": [],
   "source": [
    "pe.shape"
   ],
   "metadata": {
    "collapsed": false
   },
   "id": "e951ed3443bd832a"
  },
  {
   "cell_type": "code",
   "execution_count": null,
   "outputs": [],
   "source": [
    "pe.info()"
   ],
   "metadata": {
    "collapsed": false
   },
   "id": "5fcd942a6a2fd4e4"
  },
  {
   "cell_type": "code",
   "execution_count": null,
   "outputs": [],
   "source": [
    "# First cleaned csv file\n",
    "pe.to_csv(r'010/0101_ps_pe_092301.csv', index=False)"
   ],
   "metadata": {
    "collapsed": false
   },
   "id": "34082293d52604f"
  },
  {
   "cell_type": "markdown",
   "source": [
    "# PEI Analysis Version"
   ],
   "metadata": {
    "collapsed": false
   },
   "id": "c92fab732b5bb432"
  },
  {
   "cell_type": "code",
   "execution_count": null,
   "outputs": [],
   "source": [
    "post_earthquake = pd.read_csv(r'010/0101_ps_pe_092301.csv')\n",
    "post_earthquake[date_columns] = post_earthquake[date_columns].apply(pd.to_datetime)\n",
    "post_earthquake[int_columns] = post_earthquake[int_columns].astype('Int64')"
   ],
   "metadata": {
    "collapsed": false
   },
   "id": "a20bd72d35ca8328"
  },
  {
   "cell_type": "code",
   "execution_count": null,
   "outputs": [],
   "source": [
    "post_earthquake.info()"
   ],
   "metadata": {
    "collapsed": false
   },
   "id": "5257a018824b0abe"
  },
  {
   "cell_type": "code",
   "execution_count": null,
   "outputs": [],
   "source": [
    "post_earthquake"
   ],
   "metadata": {
    "collapsed": false
   },
   "id": "e0de03f8b3affc05"
  },
  {
   "cell_type": "code",
   "execution_count": null,
   "outputs": [],
   "source": [
    "# Typo correction\n",
    "post_earthquake['peloc'] = post_earthquake['peloc'].replace({\n",
    "    'GTZ': 'GZT'\n",
    "})"
   ],
   "metadata": {
    "collapsed": false
   },
   "id": "576d610368df6a50"
  },
  {
   "cell_type": "code",
   "execution_count": null,
   "outputs": [],
   "source": [
    "# Indexing PEI groups\n",
    "if 'peindx' not in post_earthquake.columns:\n",
    "    post_earthquake.insert(7, 'peindx', np.nan)\n",
    "    \n",
    "post_earthquake['peindx'] = indexing_groups(post_earthquake, pei_date_columns[:3])"
   ],
   "metadata": {
    "collapsed": false
   },
   "id": "42a110f67868dcc5"
  },
  {
   "cell_type": "code",
   "execution_count": null,
   "outputs": [],
   "source": [
    "# Checking PEI follow-up date, and define indicator for PEI case status - 1: service complete, -1: error follow-up date, 0: not completed.\n",
    "if 'pest' not in post_earthquake.columns:\n",
    "    post_earthquake.insert(7, 'pest', 0)\n",
    "pei_status = [\n",
    "    (post_earthquake['pef'].notna()) & (post_earthquake['pef'] > post_earthquake['pe3']),\n",
    "    (post_earthquake['pef'].notna()) & (post_earthquake['pef'] <= post_earthquake['pe3']),\n",
    "]\n",
    "pei_status_values = [1, -1]\n",
    "post_earthquake['pest'] = np.select(pei_status, pei_status_values)"
   ],
   "metadata": {
    "collapsed": false
   },
   "id": "4c7ffafce04e9d35"
  },
  {
   "cell_type": "code",
   "execution_count": null,
   "outputs": [],
   "source": [
    "# No PEI duplicated rows appeared."
   ],
   "metadata": {
    "collapsed": false
   },
   "id": "750cb03047eb9d1f"
  },
  {
   "cell_type": "code",
   "execution_count": null,
   "outputs": [],
   "source": [
    "# PEI Analysis Complete Dataframe\n",
    "post_earthquake.to_csv(r'010/0101_ps_pe_092302.csv', index=False)"
   ],
   "metadata": {
    "collapsed": false
   },
   "id": "ec24a60331f53d0e"
  },
  {
   "cell_type": "code",
   "execution_count": null,
   "outputs": [],
   "source": [
    "# PEI Analysis Basic Dataframe\n",
    "basic_pe = post_earthquake.copy()\n",
    "basic_pe = basic_pe.drop(columns=['firstname', 'lastname', 'note'])\n",
    "basic_pe.to_csv(r'011/0101_ps_pe_092310.csv', index=False)"
   ],
   "metadata": {
    "collapsed": false
   },
   "id": "b06fed494e4d4410"
  },
  {
   "cell_type": "markdown",
   "source": [
    "### PEI DATA PREPARED AND READY"
   ],
   "metadata": {
    "collapsed": false
   },
   "id": "30d186c078eef932"
  }
 ],
 "metadata": {
  "kernelspec": {
   "display_name": "Python 3",
   "language": "python",
   "name": "python3"
  },
  "language_info": {
   "codemirror_mode": {
    "name": "ipython",
    "version": 2
   },
   "file_extension": ".py",
   "mimetype": "text/x-python",
   "name": "python",
   "nbconvert_exporter": "python",
   "pygments_lexer": "ipython2",
   "version": "2.7.6"
  }
 },
 "nbformat": 4,
 "nbformat_minor": 5
}
