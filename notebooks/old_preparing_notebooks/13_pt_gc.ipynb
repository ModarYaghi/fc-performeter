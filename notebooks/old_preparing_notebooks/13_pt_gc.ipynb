{
 "cells": [
  {
   "cell_type": "code",
   "execution_count": null,
   "id": "initial_id",
   "metadata": {},
   "outputs": [],
   "source": [
    "import numpy as np\n",
    "import pandas as pd\n",
    "import warnings\n",
    "from my_analysis_toolkit import read_encrypted_excels, indexing_groups, repeated_client_indicator\n",
    "from my_static_data import tt_passwords, ptgc_columns, ptgc_basic_columns, ptgc_date_columns, ptgc_int_columns"
   ]
  },
  {
   "cell_type": "code",
   "execution_count": null,
   "id": "8c80f1a5316103cf",
   "metadata": {},
   "outputs": [],
   "source": [
    "# Avoid representing large numbers in scientific form. To reset, use the commented line.\n",
    "pd.set_option('display.float_format', '{:.1f}'.format)\n",
    "# pd.reset_option('display.float_format')\n",
    "\n",
    "# Display maximum column width:\n",
    "pd.set_option('display.max_colwidth', None)\n",
    "\n",
    "# Suppress openpyxl data validation warning\n",
    "warnings.filterwarnings(\"ignore\", category=UserWarning, module=\"openpyxl\")"
   ]
  },
  {
   "cell_type": "code",
   "execution_count": null,
   "id": "e8c9bfef1912ab73",
   "metadata": {},
   "outputs": [],
   "source": [
    "passwords = tt_passwords\n",
    "tracking_tools = read_encrypted_excels(r'000', passwords) "
   ]
  },
  {
   "cell_type": "code",
   "execution_count": null,
   "outputs": [],
   "source": [
    "sheet = 'GPT'\n",
    "sp = 'ptgcsp'\n",
    "columns_names = ptgc_columns\n",
    "basic_columns = ptgc_basic_columns\n",
    "date_columns = ptgc_date_columns\n",
    "int_columns = ptgc_int_columns"
   ],
   "metadata": {
    "collapsed": false
   },
   "id": "768e1f6fdac62bf6"
  },
  {
   "cell_type": "markdown",
   "id": "8c639615038c5e90",
   "metadata": {},
   "source": [
    "# Process PTGC Sheets"
   ]
  },
  {
   "cell_type": "code",
   "execution_count": null,
   "id": "8f8dc7451d6c34fe",
   "metadata": {},
   "outputs": [],
   "source": [
    "hr = tracking_tools['tt_pt_HR_v04.xlsx'][sheet]"
   ]
  },
  {
   "cell_type": "code",
   "execution_count": null,
   "id": "c8d6079c07e4db9b",
   "metadata": {},
   "outputs": [],
   "source": [
    "hr"
   ]
  },
  {
   "cell_type": "code",
   "execution_count": null,
   "id": "4ee93170aebccde1",
   "metadata": {},
   "outputs": [],
   "source": [
    "hr.columns = columns_names\n",
    "hr = hr.drop(hr.index[0]).reset_index(drop=True)\n",
    "hr.dropna(subset=basic_columns, how='all', inplace=True)\n",
    "hr.insert(0, sp, 'HR')"
   ]
  },
  {
   "cell_type": "code",
   "execution_count": null,
   "id": "68dd5131a61a1ded",
   "metadata": {},
   "outputs": [],
   "source": [
    "hj = tracking_tools['tt_pt_HJ_v04.xlsx'][sheet]"
   ]
  },
  {
   "cell_type": "code",
   "execution_count": null,
   "outputs": [],
   "source": [
    "hj.columns = columns_names\n",
    "hj = hj.drop(hr.index[0]).reset_index(drop=True)\n",
    "hj.dropna(subset=basic_columns, how='all', inplace=True)\n",
    "hj.insert(0, sp, 'HJ')"
   ],
   "metadata": {
    "collapsed": false
   },
   "id": "bb25477fdef7a435"
  },
  {
   "cell_type": "code",
   "execution_count": null,
   "id": "a81d63c63660ed15",
   "metadata": {},
   "outputs": [],
   "source": [
    "ptgc_rows = hr.shape[0] + hj.shape[0]\n",
    "ptgc_rows"
   ]
  },
  {
   "cell_type": "code",
   "execution_count": null,
   "id": "3d29102e95f7a7c1",
   "metadata": {},
   "outputs": [],
   "source": [
    "ptgc_data = pd.concat([hr, hj], ignore_index=True)\n",
    "ptgc_data"
   ]
  },
  {
   "cell_type": "code",
   "execution_count": null,
   "id": "7dd95e1f50aec0b0",
   "metadata": {},
   "outputs": [],
   "source": [
    "ptgc_data.to_csv(r'001/1100_pt_gc_092300.csv', index=False)"
   ]
  },
  {
   "cell_type": "markdown",
   "id": "fedb3ff0b3100080",
   "metadata": {},
   "source": [
    "# PTGC Dataframe"
   ]
  },
  {
   "cell_type": "code",
   "execution_count": null,
   "id": "612836ac6634ed4c",
   "metadata": {},
   "outputs": [],
   "source": [
    "ptgc_df = pd.read_csv(r'001/1100_pt_gc_092300.csv')\n",
    "ptgc_df = ptgc_df.applymap(lambda x: x.strip() if isinstance(x, str) else x)\n",
    "ptgc_df[int_columns] = ptgc_df[int_columns].astype('Int64')\n",
    "ptgc_df[date_columns] = ptgc_df[date_columns].apply(pd.to_datetime)"
   ]
  },
  {
   "cell_type": "code",
   "execution_count": null,
   "id": "e951ed3443bd832a",
   "metadata": {},
   "outputs": [],
   "source": [
    "ptgc_df.shape"
   ]
  },
  {
   "cell_type": "code",
   "execution_count": null,
   "id": "5fcd942a6a2fd4e4",
   "metadata": {},
   "outputs": [],
   "source": [
    "ptgc_df.info()"
   ]
  },
  {
   "cell_type": "markdown",
   "source": [],
   "metadata": {
    "collapsed": false
   },
   "id": "2e1d5370c9fe6e1"
  },
  {
   "cell_type": "code",
   "execution_count": null,
   "id": "1f2a13d852a4c98b",
   "metadata": {},
   "outputs": [],
   "source": [
    "ptgc_df"
   ]
  },
  {
   "cell_type": "code",
   "execution_count": null,
   "outputs": [],
   "source": [
    "# ptnt_duplicates = ptgc_df[ptgc_df['fcid'].duplicated(keep=False)]\n",
    "# ptnt_duplicates"
   ],
   "metadata": {
    "collapsed": false
   },
   "id": "415d257f899b5476"
  },
  {
   "cell_type": "code",
   "execution_count": null,
   "id": "34082293d52604f",
   "metadata": {},
   "outputs": [],
   "source": [
    "ptgc_df.to_csv(r'010/1101_pt_gc_092301.csv', index=False)"
   ]
  },
  {
   "cell_type": "markdown",
   "id": "c92fab732b5bb432",
   "metadata": {},
   "source": [
    "# PTGC Analysis Version"
   ]
  },
  {
   "cell_type": "code",
   "execution_count": null,
   "id": "a20bd72d35ca8328",
   "metadata": {},
   "outputs": [],
   "source": [
    "ptgc = pd.read_csv(r'010/1101_pt_gc_092301.csv')\n",
    "ptgc[date_columns] = ptgc[date_columns].apply(pd.to_datetime)\n",
    "ptgc[int_columns] = ptgc[int_columns].astype('Int64')"
   ]
  },
  {
   "cell_type": "code",
   "execution_count": null,
   "id": "f5c8b275f7d8a4dd",
   "metadata": {},
   "outputs": [],
   "source": [
    "ptgc"
   ]
  },
  {
   "cell_type": "code",
   "execution_count": null,
   "id": "274d639c1383b381",
   "metadata": {},
   "outputs": [],
   "source": [
    "if 'ptgcndx' not in ptgc.columns:\n",
    "    ptgc.insert(6, 'ptgcndx', np.nan)\n",
    "\n",
    "ptgc['ptgcndx'] = indexing_groups(ptgc, date_columns)"
   ]
  },
  {
   "cell_type": "markdown",
   "source": [
    "#### - HJ-ptgci: 89 = !ptgc1: 2023-01-30 | $ptgc1: 2023-01-25"
   ],
   "metadata": {
    "collapsed": false
   },
   "id": "2f4a6bc4e693263a"
  },
  {
   "cell_type": "code",
   "execution_count": null,
   "outputs": [],
   "source": [
    "# Correcting the first pt gc session date.\n",
    "ptgc.loc[ptgc['rid'] == 'R0486', 'ptgc1'] = pd.to_datetime('2023-01-25')"
   ],
   "metadata": {
    "collapsed": false
   },
   "id": "7d9ba708882f298a"
  },
  {
   "cell_type": "code",
   "execution_count": null,
   "outputs": [],
   "source": [
    "ptgc"
   ],
   "metadata": {
    "collapsed": false
   },
   "id": "ab1d3afcc5629cfd"
  },
  {
   "cell_type": "markdown",
   "source": [
    "### No Duplicated Clients"
   ],
   "metadata": {
    "collapsed": false
   },
   "id": "363473bc286acfff"
  },
  {
   "cell_type": "code",
   "execution_count": null,
   "outputs": [],
   "source": [
    "# ptgc[ptgc['rid'].duplicated(keep=False)]"
   ],
   "metadata": {
    "collapsed": false
   },
   "id": "c5ea381aaac200df"
  },
  {
   "cell_type": "code",
   "execution_count": null,
   "outputs": [],
   "source": [
    "# Encoding binary variables\n",
    "ptgc['ptgcst'] = ptgc['ptgcst'].replace({\n",
    "    'ACTIVE': 1,\n",
    "    'DONE': 0,\n",
    "    'Drop Out': -1\n",
    "})"
   ],
   "metadata": {
    "collapsed": false
   },
   "id": "6ed0c4d471010e5"
  },
  {
   "cell_type": "code",
   "execution_count": null,
   "id": "fa049ede236c9019",
   "metadata": {},
   "outputs": [],
   "source": [
    "# PTGC Analysis Complete Dataframes\n",
    "ptgc.to_csv(r'010/1101_pt_gc_092302.csv', index=False)"
   ]
  },
  {
   "cell_type": "code",
   "execution_count": null,
   "id": "4a2238d3f2b1c5af",
   "metadata": {},
   "outputs": [],
   "source": [
    "# PTGC Analysis Basic Dataframes (this dataframe for analysis work - without unnecessary variables)\n",
    "basic_ptgc = ptgc.copy()\n",
    "basic_ptgc = basic_ptgc.drop(columns=['firstname', 'lastname', 'note'])\n",
    "basic_ptgc.to_csv(r'011/1101_pt_gc_092310.csv', index=False)"
   ]
  },
  {
   "cell_type": "code",
   "execution_count": null,
   "outputs": [],
   "source": [
    "pd.read_csv(r'011/1101_pt_gc_092310.csv')"
   ],
   "metadata": {
    "collapsed": false
   },
   "id": "57cd0436a59518a7"
  },
  {
   "cell_type": "markdown",
   "id": "c5743db46605af9d",
   "metadata": {},
   "source": [
    "### PTGC DATA IS PREPARED AND READY"
   ]
  }
 ],
 "metadata": {
  "kernelspec": {
   "display_name": "Python 3",
   "language": "python",
   "name": "python3"
  },
  "language_info": {
   "codemirror_mode": {
    "name": "ipython",
    "version": 2
   },
   "file_extension": ".py",
   "mimetype": "text/x-python",
   "name": "python",
   "nbconvert_exporter": "python",
   "pygments_lexer": "ipython2",
   "version": "2.7.6"
  }
 },
 "nbformat": 4,
 "nbformat_minor": 5
}
