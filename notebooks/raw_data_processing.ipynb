{
 "cells": [
  {
   "cell_type": "code",
   "execution_count": 1,
   "id": "initial_id",
   "metadata": {
    "collapsed": true,
    "ExecuteTime": {
     "end_time": "2024-05-01T16:23:16.603006Z",
     "start_time": "2024-05-01T16:23:15.882389Z"
    }
   },
   "outputs": [],
   "source": [
    "from src.all_in_one import *"
   ]
  },
  {
   "cell_type": "code",
   "outputs": [
    {
     "name": "stderr",
     "output_type": "stream",
     "text": [
      "Processing: 100%|██████████| 5/5 [00:10<00:00,  2.10s/it]\n"
     ]
    }
   ],
   "source": [
    "decryptor = ExcelDecryptor(ps_raw_data, pspw)\n",
    "tracking_tools = decryptor.read_encrypted_excels()"
   ],
   "metadata": {
    "collapsed": false,
    "ExecuteTime": {
     "end_time": "2024-05-01T16:23:27.121319Z",
     "start_time": "2024-05-01T16:23:16.605019Z"
    }
   },
   "id": "68d4c78a72f2cc23",
   "execution_count": 2
  },
  {
   "cell_type": "code",
   "outputs": [
    {
     "data": {
      "text/plain": "['Scr', 'Int', 'GC', 'IC', 'FUA', 'PEI', 'TRW', 'TD', 'CWS', 'AW']"
     },
     "execution_count": 3,
     "metadata": {},
     "output_type": "execute_result"
    }
   ],
   "source": [
    "config.shpss"
   ],
   "metadata": {
    "collapsed": false,
    "ExecuteTime": {
     "end_time": "2024-05-01T16:23:27.132399Z",
     "start_time": "2024-05-01T16:23:27.123403Z"
    }
   },
   "id": "cb3286b238994fa",
   "execution_count": 3
  },
  {
   "cell_type": "code",
   "outputs": [
    {
     "data": {
      "text/plain": "['tt_psc_IJ_v04.xlsx',\n 'tt_psc_LA_v04.xlsx',\n 'tt_psc_MT_v04.xlsx',\n 'tt_psc_SA_v04.xlsx',\n 'tt_psc_YQ-v04.xlsx']"
     },
     "execution_count": 4,
     "metadata": {},
     "output_type": "execute_result"
    }
   ],
   "source": [
    "config.fpss"
   ],
   "metadata": {
    "collapsed": false,
    "ExecuteTime": {
     "end_time": "2024-05-01T16:23:27.140627Z",
     "start_time": "2024-05-01T16:23:27.134936Z"
    }
   },
   "id": "344a0420a5c2a5d",
   "execution_count": 4
  },
  {
   "cell_type": "code",
   "outputs": [],
   "source": [
    "sheet_name1 = td_sheet\n",
    "sheet_name2 = cws_sheet"
   ],
   "metadata": {
    "collapsed": false,
    "ExecuteTime": {
     "end_time": "2024-05-01T16:23:27.146857Z",
     "start_time": "2024-05-01T16:23:27.142148Z"
    }
   },
   "id": "5e0892217db49e1b",
   "execution_count": 5
  },
  {
   "cell_type": "code",
   "outputs": [],
   "source": [
    "df = compiler(sheet_name2, config.fpss, config_file, tracking_tools)"
   ],
   "metadata": {
    "collapsed": false,
    "ExecuteTime": {
     "end_time": "2024-05-01T16:30:07.484986Z",
     "start_time": "2024-05-01T16:30:07.370048Z"
    }
   },
   "id": "574a8116200742e0",
   "execution_count": 12
  },
  {
   "cell_type": "code",
   "outputs": [
    {
     "data": {
      "text/plain": "   cwssp cwspi    rid        fcid firstname   lastname               cws_s1  \\\n0     LA     1  R0393  8110050086     زهراء       علوش  2023-09-20 00:00:00   \n1     LA     2  R0497  8110020115       هلا     الحلبي  2023-09-20 00:00:00   \n2     LA     3  R0367  8110020110     امينة      صباهي  2023-09-20 00:00:00   \n3     LA     4  R0391  8110050067      رقية  العبد لله  2023-09-20 00:00:00   \n4     LA     5  R0359  8110050048       رنا     العيسى  2023-09-20 00:00:00   \n..   ...   ...    ...         ...       ...        ...                  ...   \n76    YQ    33  R0591  8110050092       نور     العلبي                  NaN   \n77    YQ    34  R0183  8110020101      رفيق       خنوس  2024-04-24 00:00:00   \n78    YQ    35  R0486  8110010103     زكريا       هدلة  2024-04-24 00:00:00   \n79    YQ    36  R0337  8110020100      أيمن       دعاس  2024-04-24 00:00:00   \n80    YQ    37  R0120  8110020106       رعد       دندل  2024-04-24 00:00:00   \n\n                 cws_s2 cws_total note  \n0   2023-09-21 00:00:00         2  NaN  \n1   2023-09-21 00:00:00         2  NaN  \n2   2023-09-21 00:00:00         2  NaN  \n3   2023-09-21 00:00:00         2  NaN  \n4   2023-09-21 00:00:00         2  NaN  \n..                  ...       ...  ...  \n76  2023-11-16 00:00:00         1  NaN  \n77  2024-04-25 00:00:00         2  NaN  \n78  2024-04-25 00:00:00         2  NaN  \n79  2024-04-25 00:00:00         2  NaN  \n80  2024-04-25 00:00:00         2  NaN  \n\n[81 rows x 10 columns]",
      "text/html": "<div>\n<style scoped>\n    .dataframe tbody tr th:only-of-type {\n        vertical-align: middle;\n    }\n\n    .dataframe tbody tr th {\n        vertical-align: top;\n    }\n\n    .dataframe thead th {\n        text-align: right;\n    }\n</style>\n<table border=\"1\" class=\"dataframe\">\n  <thead>\n    <tr style=\"text-align: right;\">\n      <th></th>\n      <th>cwssp</th>\n      <th>cwspi</th>\n      <th>rid</th>\n      <th>fcid</th>\n      <th>firstname</th>\n      <th>lastname</th>\n      <th>cws_s1</th>\n      <th>cws_s2</th>\n      <th>cws_total</th>\n      <th>note</th>\n    </tr>\n  </thead>\n  <tbody>\n    <tr>\n      <th>0</th>\n      <td>LA</td>\n      <td>1</td>\n      <td>R0393</td>\n      <td>8110050086</td>\n      <td>زهراء</td>\n      <td>علوش</td>\n      <td>2023-09-20 00:00:00</td>\n      <td>2023-09-21 00:00:00</td>\n      <td>2</td>\n      <td>NaN</td>\n    </tr>\n    <tr>\n      <th>1</th>\n      <td>LA</td>\n      <td>2</td>\n      <td>R0497</td>\n      <td>8110020115</td>\n      <td>هلا</td>\n      <td>الحلبي</td>\n      <td>2023-09-20 00:00:00</td>\n      <td>2023-09-21 00:00:00</td>\n      <td>2</td>\n      <td>NaN</td>\n    </tr>\n    <tr>\n      <th>2</th>\n      <td>LA</td>\n      <td>3</td>\n      <td>R0367</td>\n      <td>8110020110</td>\n      <td>امينة</td>\n      <td>صباهي</td>\n      <td>2023-09-20 00:00:00</td>\n      <td>2023-09-21 00:00:00</td>\n      <td>2</td>\n      <td>NaN</td>\n    </tr>\n    <tr>\n      <th>3</th>\n      <td>LA</td>\n      <td>4</td>\n      <td>R0391</td>\n      <td>8110050067</td>\n      <td>رقية</td>\n      <td>العبد لله</td>\n      <td>2023-09-20 00:00:00</td>\n      <td>2023-09-21 00:00:00</td>\n      <td>2</td>\n      <td>NaN</td>\n    </tr>\n    <tr>\n      <th>4</th>\n      <td>LA</td>\n      <td>5</td>\n      <td>R0359</td>\n      <td>8110050048</td>\n      <td>رنا</td>\n      <td>العيسى</td>\n      <td>2023-09-20 00:00:00</td>\n      <td>2023-09-21 00:00:00</td>\n      <td>2</td>\n      <td>NaN</td>\n    </tr>\n    <tr>\n      <th>...</th>\n      <td>...</td>\n      <td>...</td>\n      <td>...</td>\n      <td>...</td>\n      <td>...</td>\n      <td>...</td>\n      <td>...</td>\n      <td>...</td>\n      <td>...</td>\n      <td>...</td>\n    </tr>\n    <tr>\n      <th>76</th>\n      <td>YQ</td>\n      <td>33</td>\n      <td>R0591</td>\n      <td>8110050092</td>\n      <td>نور</td>\n      <td>العلبي</td>\n      <td>NaN</td>\n      <td>2023-11-16 00:00:00</td>\n      <td>1</td>\n      <td>NaN</td>\n    </tr>\n    <tr>\n      <th>77</th>\n      <td>YQ</td>\n      <td>34</td>\n      <td>R0183</td>\n      <td>8110020101</td>\n      <td>رفيق</td>\n      <td>خنوس</td>\n      <td>2024-04-24 00:00:00</td>\n      <td>2024-04-25 00:00:00</td>\n      <td>2</td>\n      <td>NaN</td>\n    </tr>\n    <tr>\n      <th>78</th>\n      <td>YQ</td>\n      <td>35</td>\n      <td>R0486</td>\n      <td>8110010103</td>\n      <td>زكريا</td>\n      <td>هدلة</td>\n      <td>2024-04-24 00:00:00</td>\n      <td>2024-04-25 00:00:00</td>\n      <td>2</td>\n      <td>NaN</td>\n    </tr>\n    <tr>\n      <th>79</th>\n      <td>YQ</td>\n      <td>36</td>\n      <td>R0337</td>\n      <td>8110020100</td>\n      <td>أيمن</td>\n      <td>دعاس</td>\n      <td>2024-04-24 00:00:00</td>\n      <td>2024-04-25 00:00:00</td>\n      <td>2</td>\n      <td>NaN</td>\n    </tr>\n    <tr>\n      <th>80</th>\n      <td>YQ</td>\n      <td>37</td>\n      <td>R0120</td>\n      <td>8110020106</td>\n      <td>رعد</td>\n      <td>دندل</td>\n      <td>2024-04-24 00:00:00</td>\n      <td>2024-04-25 00:00:00</td>\n      <td>2</td>\n      <td>NaN</td>\n    </tr>\n  </tbody>\n</table>\n<p>81 rows × 10 columns</p>\n</div>"
     },
     "execution_count": 13,
     "metadata": {},
     "output_type": "execute_result"
    }
   ],
   "source": [
    "df"
   ],
   "metadata": {
    "collapsed": false,
    "ExecuteTime": {
     "end_time": "2024-05-01T16:30:08.472689Z",
     "start_time": "2024-05-01T16:30:08.458414Z"
    }
   },
   "id": "d6564ed91be9aa18",
   "execution_count": 13
  },
  {
   "cell_type": "code",
   "outputs": [],
   "source": [
    "df.to_csv(cws_path, index=False)"
   ],
   "metadata": {
    "collapsed": false,
    "ExecuteTime": {
     "end_time": "2024-05-01T16:30:27.553057Z",
     "start_time": "2024-05-01T16:30:27.546019Z"
    }
   },
   "id": "49cbb904af2c74db",
   "execution_count": 14
  }
 ],
 "metadata": {
  "kernelspec": {
   "display_name": "Python 3",
   "language": "python",
   "name": "python3"
  },
  "language_info": {
   "codemirror_mode": {
    "name": "ipython",
    "version": 2
   },
   "file_extension": ".py",
   "mimetype": "text/x-python",
   "name": "python",
   "nbconvert_exporter": "python",
   "pygments_lexer": "ipython2",
   "version": "2.7.6"
  }
 },
 "nbformat": 4,
 "nbformat_minor": 5
}
