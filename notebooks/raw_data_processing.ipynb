{
 "cells": [
  {
   "cell_type": "code",
   "execution_count": 1,
   "id": "initial_id",
   "metadata": {
    "ExecuteTime": {
     "end_time": "2024-10-14T23:42:43.783631Z",
     "start_time": "2024-10-14T23:42:43.779292Z"
    },
    "collapsed": true
   },
   "outputs": [
    {
     "name": "stderr",
     "output_type": "stream",
     "text": [
      "2025-01-07 16:20:38,667 - INFO - Processed 756 records so far.\n",
      "2025-01-07 16:20:39,622 - INFO - Processed 342 records so far.\n"
     ]
    }
   ],
   "source": [
    "from src.all_in_one import *\n",
    "from path_management import *\n",
    "from src.basic_variables import pss_sheet_path, pt_sheet_path"
   ]
  },
  {
   "cell_type": "code",
   "execution_count": 2,
   "id": "68d4c78a72f2cc23",
   "metadata": {
    "ExecuteTime": {
     "end_time": "2024-10-14T23:42:59.942575Z",
     "start_time": "2024-10-14T23:42:45.460899Z"
    },
    "collapsed": false
   },
   "outputs": [
    {
     "name": "stderr",
     "output_type": "stream",
     "text": [
      "Processing:   0%|          | 0/5 [00:00<?, ?it/s]"
     ]
    },
    {
     "name": "stderr",
     "output_type": "stream",
     "text": [
      "Processing: 100%|██████████| 5/5 [00:06<00:00,  1.28s/it]\n",
      "Processing: 100%|██████████| 3/3 [00:02<00:00,  1.21it/s]\n"
     ]
    }
   ],
   "source": [
    "pss_decryptor = ExcelDecryptor(ps_raw_data, pspw)\n",
    "tt_pss = pss_decryptor.read_encrypted_excels()\n",
    "pt_decryptor = ExcelDecryptor(pt_raw_data, ptpw)\n",
    "tt_pt = pt_decryptor.read_encrypted_excels()"
   ]
  },
  {
   "cell_type": "code",
   "execution_count": 3,
   "id": "574a8116200742e0",
   "metadata": {
    "collapsed": false
   },
   "outputs": [
    {
     "name": "stdout",
     "output_type": "stream",
     "text": [
      "Compiler called with sheet_name: Scr\n",
      "Processing file: tt_psc_IJ_v04.xlsx\n",
      "Available sheets in this file: ['Scr', 'Int', 'GC', 'IC', 'FUA', 'PEI', 'TRW', 'TD', 'CWS', 'AW', 'Drop-down']\n",
      "Successfully accessed sheet: Scr\n",
      "Processing file: tt_psc_LA_v04.xlsx\n",
      "Available sheets in this file: ['Scr', 'Int', 'GC', 'IC', 'FUA', 'PEI', 'TRW', 'TD', 'CWS', 'AW', 'Drop-down']\n",
      "Successfully accessed sheet: Scr\n",
      "Processing file: tt_psc_MT_v04.xlsx\n",
      "Available sheets in this file: ['Scr', 'Int', 'GC', 'IC', 'FUA', 'PEI', 'TRW', 'TD', 'CWS', 'AW', 'Drop-down']\n",
      "Successfully accessed sheet: Scr\n",
      "Processing file: tt_psc_SA_v04.xlsx\n",
      "Available sheets in this file: ['Scr', 'Int', 'GC', 'IC', 'FUA', 'PEI', 'TRW', 'TD', 'CWS', 'AW', 'Drop-down']\n",
      "Successfully accessed sheet: Scr\n",
      "Processing file: tt_psc_YQ-v04.xlsx\n",
      "Available sheets in this file: ['Scr', 'Int', 'GC', 'IC', 'FUA', 'PEI', 'TRW', 'TD', 'CWS', 'AW', 'Drop-down']\n",
      "Successfully accessed sheet: Scr\n",
      "Compiler called with sheet_name: Int\n",
      "Processing file: tt_psc_IJ_v04.xlsx\n",
      "Available sheets in this file: ['Scr', 'Int', 'GC', 'IC', 'FUA', 'PEI', 'TRW', 'TD', 'CWS', 'AW', 'Drop-down']\n",
      "Successfully accessed sheet: Int\n",
      "Processing file: tt_psc_LA_v04.xlsx\n",
      "Available sheets in this file: ['Scr', 'Int', 'GC', 'IC', 'FUA', 'PEI', 'TRW', 'TD', 'CWS', 'AW', 'Drop-down']\n",
      "Successfully accessed sheet: Int\n",
      "Processing file: tt_psc_MT_v04.xlsx\n",
      "Available sheets in this file: ['Scr', 'Int', 'GC', 'IC', 'FUA', 'PEI', 'TRW', 'TD', 'CWS', 'AW', 'Drop-down']\n",
      "Successfully accessed sheet: Int\n",
      "Processing file: tt_psc_SA_v04.xlsx\n",
      "Available sheets in this file: ['Scr', 'Int', 'GC', 'IC', 'FUA', 'PEI', 'TRW', 'TD', 'CWS', 'AW', 'Drop-down']\n",
      "Successfully accessed sheet: Int\n",
      "Processing file: tt_psc_YQ-v04.xlsx\n",
      "Available sheets in this file: ['Scr', 'Int', 'GC', 'IC', 'FUA', 'PEI', 'TRW', 'TD', 'CWS', 'AW', 'Drop-down']\n",
      "Successfully accessed sheet: Int\n",
      "Compiler called with sheet_name: GC\n",
      "Processing file: tt_psc_IJ_v04.xlsx\n",
      "Available sheets in this file: ['Scr', 'Int', 'GC', 'IC', 'FUA', 'PEI', 'TRW', 'TD', 'CWS', 'AW', 'Drop-down']\n",
      "Successfully accessed sheet: GC\n",
      "Processing file: tt_psc_LA_v04.xlsx\n",
      "Available sheets in this file: ['Scr', 'Int', 'GC', 'IC', 'FUA', 'PEI', 'TRW', 'TD', 'CWS', 'AW', 'Drop-down']\n",
      "Successfully accessed sheet: GC\n",
      "Processing file: tt_psc_MT_v04.xlsx\n",
      "Available sheets in this file: ['Scr', 'Int', 'GC', 'IC', 'FUA', 'PEI', 'TRW', 'TD', 'CWS', 'AW', 'Drop-down']\n",
      "Successfully accessed sheet: GC\n",
      "Processing file: tt_psc_SA_v04.xlsx\n",
      "Available sheets in this file: ['Scr', 'Int', 'GC', 'IC', 'FUA', 'PEI', 'TRW', 'TD', 'CWS', 'AW', 'Drop-down']\n",
      "Successfully accessed sheet: GC\n",
      "Processing file: tt_psc_YQ-v04.xlsx\n",
      "Available sheets in this file: ['Scr', 'Int', 'GC', 'IC', 'FUA', 'PEI', 'TRW', 'TD', 'CWS', 'AW', 'Drop-down']\n",
      "Successfully accessed sheet: GC\n",
      "Compiler called with sheet_name: IC\n",
      "Processing file: tt_psc_IJ_v04.xlsx\n",
      "Available sheets in this file: ['Scr', 'Int', 'GC', 'IC', 'FUA', 'PEI', 'TRW', 'TD', 'CWS', 'AW', 'Drop-down']\n",
      "Successfully accessed sheet: IC\n",
      "Processing file: tt_psc_LA_v04.xlsx\n",
      "Available sheets in this file: ['Scr', 'Int', 'GC', 'IC', 'FUA', 'PEI', 'TRW', 'TD', 'CWS', 'AW', 'Drop-down']\n",
      "Successfully accessed sheet: IC\n",
      "Processing file: tt_psc_MT_v04.xlsx\n",
      "Available sheets in this file: ['Scr', 'Int', 'GC', 'IC', 'FUA', 'PEI', 'TRW', 'TD', 'CWS', 'AW', 'Drop-down']\n",
      "Successfully accessed sheet: IC\n",
      "Processing file: tt_psc_SA_v04.xlsx\n",
      "Available sheets in this file: ['Scr', 'Int', 'GC', 'IC', 'FUA', 'PEI', 'TRW', 'TD', 'CWS', 'AW', 'Drop-down']\n",
      "Successfully accessed sheet: IC\n",
      "Processing file: tt_psc_YQ-v04.xlsx\n",
      "Available sheets in this file: ['Scr', 'Int', 'GC', 'IC', 'FUA', 'PEI', 'TRW', 'TD', 'CWS', 'AW', 'Drop-down']\n",
      "Successfully accessed sheet: IC\n",
      "Compiler called with sheet_name: FUA\n",
      "Processing file: tt_psc_IJ_v04.xlsx\n",
      "Available sheets in this file: ['Scr', 'Int', 'GC', 'IC', 'FUA', 'PEI', 'TRW', 'TD', 'CWS', 'AW', 'Drop-down']\n",
      "Successfully accessed sheet: FUA\n",
      "Processing file: tt_psc_LA_v04.xlsx\n",
      "Available sheets in this file: ['Scr', 'Int', 'GC', 'IC', 'FUA', 'PEI', 'TRW', 'TD', 'CWS', 'AW', 'Drop-down']\n",
      "Successfully accessed sheet: FUA\n",
      "Processing file: tt_psc_MT_v04.xlsx\n",
      "Available sheets in this file: ['Scr', 'Int', 'GC', 'IC', 'FUA', 'PEI', 'TRW', 'TD', 'CWS', 'AW', 'Drop-down']\n",
      "Successfully accessed sheet: FUA\n",
      "Processing file: tt_psc_SA_v04.xlsx\n",
      "Available sheets in this file: ['Scr', 'Int', 'GC', 'IC', 'FUA', 'PEI', 'TRW', 'TD', 'CWS', 'AW', 'Drop-down']\n",
      "Successfully accessed sheet: FUA\n",
      "Processing file: tt_psc_YQ-v04.xlsx\n",
      "Available sheets in this file: ['Scr', 'Int', 'GC', 'IC', 'FUA', 'PEI', 'TRW', 'TD', 'CWS', 'AW', 'Drop-down']\n",
      "Successfully accessed sheet: FUA\n",
      "Compiler called with sheet_name: PEI\n",
      "Processing file: tt_psc_IJ_v04.xlsx\n",
      "Available sheets in this file: ['Scr', 'Int', 'GC', 'IC', 'FUA', 'PEI', 'TRW', 'TD', 'CWS', 'AW', 'Drop-down']\n",
      "Successfully accessed sheet: PEI\n",
      "Processing file: tt_psc_LA_v04.xlsx\n",
      "Available sheets in this file: ['Scr', 'Int', 'GC', 'IC', 'FUA', 'PEI', 'TRW', 'TD', 'CWS', 'AW', 'Drop-down']\n",
      "Successfully accessed sheet: PEI\n",
      "Processing file: tt_psc_MT_v04.xlsx\n",
      "Available sheets in this file: ['Scr', 'Int', 'GC', 'IC', 'FUA', 'PEI', 'TRW', 'TD', 'CWS', 'AW', 'Drop-down']\n",
      "Successfully accessed sheet: PEI\n",
      "Processing file: tt_psc_SA_v04.xlsx\n",
      "Available sheets in this file: ['Scr', 'Int', 'GC', 'IC', 'FUA', 'PEI', 'TRW', 'TD', 'CWS', 'AW', 'Drop-down']\n",
      "Successfully accessed sheet: PEI\n",
      "Processing file: tt_psc_YQ-v04.xlsx\n",
      "Available sheets in this file: ['Scr', 'Int', 'GC', 'IC', 'FUA', 'PEI', 'TRW', 'TD', 'CWS', 'AW', 'Drop-down']\n",
      "Successfully accessed sheet: PEI\n",
      "Compiler called with sheet_name: TRW\n",
      "Processing file: tt_psc_IJ_v04.xlsx\n",
      "Available sheets in this file: ['Scr', 'Int', 'GC', 'IC', 'FUA', 'PEI', 'TRW', 'TD', 'CWS', 'AW', 'Drop-down']\n",
      "Successfully accessed sheet: TRW\n",
      "Processing file: tt_psc_LA_v04.xlsx\n",
      "Available sheets in this file: ['Scr', 'Int', 'GC', 'IC', 'FUA', 'PEI', 'TRW', 'TD', 'CWS', 'AW', 'Drop-down']\n",
      "Successfully accessed sheet: TRW\n",
      "Processing file: tt_psc_MT_v04.xlsx\n",
      "Available sheets in this file: ['Scr', 'Int', 'GC', 'IC', 'FUA', 'PEI', 'TRW', 'TD', 'CWS', 'AW', 'Drop-down']\n",
      "Successfully accessed sheet: TRW\n",
      "Processing file: tt_psc_SA_v04.xlsx\n",
      "Available sheets in this file: ['Scr', 'Int', 'GC', 'IC', 'FUA', 'PEI', 'TRW', 'TD', 'CWS', 'AW', 'Drop-down']\n",
      "Successfully accessed sheet: TRW\n",
      "Processing file: tt_psc_YQ-v04.xlsx\n",
      "Available sheets in this file: ['Scr', 'Int', 'GC', 'IC', 'FUA', 'PEI', 'TRW', 'TD', 'CWS', 'AW', 'Drop-down']\n",
      "Successfully accessed sheet: TRW\n",
      "Compiler called with sheet_name: TD\n",
      "Processing file: tt_psc_IJ_v04.xlsx\n",
      "Available sheets in this file: ['Scr', 'Int', 'GC', 'IC', 'FUA', 'PEI', 'TRW', 'TD', 'CWS', 'AW', 'Drop-down']\n",
      "Successfully accessed sheet: TD\n",
      "Processing file: tt_psc_LA_v04.xlsx\n",
      "Available sheets in this file: ['Scr', 'Int', 'GC', 'IC', 'FUA', 'PEI', 'TRW', 'TD', 'CWS', 'AW', 'Drop-down']\n",
      "Successfully accessed sheet: TD\n",
      "Processing file: tt_psc_MT_v04.xlsx\n",
      "Available sheets in this file: ['Scr', 'Int', 'GC', 'IC', 'FUA', 'PEI', 'TRW', 'TD', 'CWS', 'AW', 'Drop-down']\n",
      "Successfully accessed sheet: TD\n",
      "Processing file: tt_psc_SA_v04.xlsx\n",
      "Available sheets in this file: ['Scr', 'Int', 'GC', 'IC', 'FUA', 'PEI', 'TRW', 'TD', 'CWS', 'AW', 'Drop-down']\n",
      "Successfully accessed sheet: TD\n",
      "Processing file: tt_psc_YQ-v04.xlsx\n",
      "Available sheets in this file: ['Scr', 'Int', 'GC', 'IC', 'FUA', 'PEI', 'TRW', 'TD', 'CWS', 'AW', 'Drop-down']\n",
      "Successfully accessed sheet: TD\n",
      "Compiler called with sheet_name: CWS\n",
      "Processing file: tt_psc_IJ_v04.xlsx\n",
      "Available sheets in this file: ['Scr', 'Int', 'GC', 'IC', 'FUA', 'PEI', 'TRW', 'TD', 'CWS', 'AW', 'Drop-down']\n",
      "Successfully accessed sheet: CWS\n",
      "Processing file: tt_psc_LA_v04.xlsx\n",
      "Available sheets in this file: ['Scr', 'Int', 'GC', 'IC', 'FUA', 'PEI', 'TRW', 'TD', 'CWS', 'AW', 'Drop-down']\n",
      "Successfully accessed sheet: CWS\n",
      "Processing file: tt_psc_MT_v04.xlsx\n",
      "Available sheets in this file: ['Scr', 'Int', 'GC', 'IC', 'FUA', 'PEI', 'TRW', 'TD', 'CWS', 'AW', 'Drop-down']\n",
      "Successfully accessed sheet: CWS\n",
      "Processing file: tt_psc_SA_v04.xlsx\n",
      "Available sheets in this file: ['Scr', 'Int', 'GC', 'IC', 'FUA', 'PEI', 'TRW', 'TD', 'CWS', 'AW', 'Drop-down']\n",
      "Successfully accessed sheet: CWS\n",
      "Processing file: tt_psc_YQ-v04.xlsx\n",
      "Available sheets in this file: ['Scr', 'Int', 'GC', 'IC', 'FUA', 'PEI', 'TRW', 'TD', 'CWS', 'AW', 'Drop-down']\n",
      "Successfully accessed sheet: CWS\n",
      "Compiler called with sheet_name: AW\n",
      "Processing file: tt_psc_IJ_v04.xlsx\n",
      "Available sheets in this file: ['Scr', 'Int', 'GC', 'IC', 'FUA', 'PEI', 'TRW', 'TD', 'CWS', 'AW', 'Drop-down']\n",
      "Successfully accessed sheet: AW\n",
      "Processing file: tt_psc_LA_v04.xlsx\n",
      "Available sheets in this file: ['Scr', 'Int', 'GC', 'IC', 'FUA', 'PEI', 'TRW', 'TD', 'CWS', 'AW', 'Drop-down']\n",
      "Successfully accessed sheet: AW\n",
      "Processing file: tt_psc_MT_v04.xlsx\n",
      "Available sheets in this file: ['Scr', 'Int', 'GC', 'IC', 'FUA', 'PEI', 'TRW', 'TD', 'CWS', 'AW', 'Drop-down']\n",
      "Successfully accessed sheet: AW\n",
      "Processing file: tt_psc_SA_v04.xlsx\n",
      "Available sheets in this file: ['Scr', 'Int', 'GC', 'IC', 'FUA', 'PEI', 'TRW', 'TD', 'CWS', 'AW', 'Drop-down']\n",
      "Successfully accessed sheet: AW\n",
      "Processing file: tt_psc_YQ-v04.xlsx\n",
      "Available sheets in this file: ['Scr', 'Int', 'GC', 'IC', 'FUA', 'PEI', 'TRW', 'TD', 'CWS', 'AW', 'Drop-down']\n",
      "Successfully accessed sheet: AW\n"
     ]
    }
   ],
   "source": [
    "# print(\"Contents of pss_sheet_path:\")\n",
    "# for key, value in pss_sheet_path.items():\n",
    "#     print(f\"{key}: {value}\")\n",
    "\n",
    "for key, value in pss_sheet_path.items():\n",
    "    pss_dataframe = compiler(\n",
    "        value[0], path_manager.config.fpss, config_file, tt_pss, ser=\"pss\"\n",
    "    )\n",
    "    pss_dataframe.to_csv(value[1], index=False)"
   ]
  },
  {
   "cell_type": "code",
   "execution_count": 4,
   "id": "4a4d9c776c5d1066",
   "metadata": {},
   "outputs": [
    {
     "name": "stdout",
     "output_type": "stream",
     "text": [
      "Compiler called with sheet_name: PSFS\n",
      "Processing file: tt_pt_HJ_v04.1.xlsx\n",
      "Available sheets in this file: ['PSFS', 'PTInt', 'PT Groups', 'GPT', 'IPT', 'FUA', 'Heba', 'reference', 'drop-down lists', 'drop_down']\n",
      "Successfully accessed sheet: PSFS\n",
      "Processing file: tt_pt_HR_v04.11.xlsx\n",
      "Available sheets in this file: ['PSFS', 'PTInt', 'PTGroups', 'GPT', 'IPT', 'FUA', 'IOPT', 'Hind', 'reference', 'drop-down lists', 'drop_down']\n",
      "Successfully accessed sheet: PSFS\n",
      "Processing file: tt_pt_ZN_v04.11.xlsx\n",
      "Available sheets in this file: ['PSFS', 'PTGroups', 'PTInt', 'GPT', 'IPT', 'FUA', 'IOPT', 'Zaid', 'reference', 'drop-down lists', 'drop_down']\n",
      "Successfully accessed sheet: PSFS\n",
      "Compiler called with sheet_name: PTInt\n",
      "Processing file: tt_pt_HJ_v04.1.xlsx\n",
      "Available sheets in this file: ['PSFS', 'PTInt', 'PT Groups', 'GPT', 'IPT', 'FUA', 'Heba', 'reference', 'drop-down lists', 'drop_down']\n",
      "Successfully accessed sheet: PTInt\n",
      "Processing file: tt_pt_HR_v04.11.xlsx\n",
      "Available sheets in this file: ['PSFS', 'PTInt', 'PTGroups', 'GPT', 'IPT', 'FUA', 'IOPT', 'Hind', 'reference', 'drop-down lists', 'drop_down']\n",
      "Successfully accessed sheet: PTInt\n",
      "Processing file: tt_pt_ZN_v04.11.xlsx\n",
      "Available sheets in this file: ['PSFS', 'PTGroups', 'PTInt', 'GPT', 'IPT', 'FUA', 'IOPT', 'Zaid', 'reference', 'drop-down lists', 'drop_down']\n",
      "Successfully accessed sheet: PTInt\n",
      "Compiler called with sheet_name: GPT\n",
      "Processing file: tt_pt_HJ_v04.1.xlsx\n",
      "Available sheets in this file: ['PSFS', 'PTInt', 'PT Groups', 'GPT', 'IPT', 'FUA', 'Heba', 'reference', 'drop-down lists', 'drop_down']\n",
      "Successfully accessed sheet: GPT\n",
      "Processing file: tt_pt_HR_v04.11.xlsx\n",
      "Available sheets in this file: ['PSFS', 'PTInt', 'PTGroups', 'GPT', 'IPT', 'FUA', 'IOPT', 'Hind', 'reference', 'drop-down lists', 'drop_down']\n",
      "Successfully accessed sheet: GPT\n",
      "Processing file: tt_pt_ZN_v04.11.xlsx\n",
      "Available sheets in this file: ['PSFS', 'PTGroups', 'PTInt', 'GPT', 'IPT', 'FUA', 'IOPT', 'Zaid', 'reference', 'drop-down lists', 'drop_down']\n",
      "Successfully accessed sheet: GPT\n",
      "Compiler called with sheet_name: IPT\n",
      "Processing file: tt_pt_HJ_v04.1.xlsx\n",
      "Available sheets in this file: ['PSFS', 'PTInt', 'PT Groups', 'GPT', 'IPT', 'FUA', 'Heba', 'reference', 'drop-down lists', 'drop_down']\n",
      "Successfully accessed sheet: IPT\n",
      "Processing file: tt_pt_HR_v04.11.xlsx\n",
      "Available sheets in this file: ['PSFS', 'PTInt', 'PTGroups', 'GPT', 'IPT', 'FUA', 'IOPT', 'Hind', 'reference', 'drop-down lists', 'drop_down']\n",
      "Successfully accessed sheet: IPT\n",
      "Processing file: tt_pt_ZN_v04.11.xlsx\n",
      "Available sheets in this file: ['PSFS', 'PTGroups', 'PTInt', 'GPT', 'IPT', 'FUA', 'IOPT', 'Zaid', 'reference', 'drop-down lists', 'drop_down']\n",
      "Successfully accessed sheet: IPT\n",
      "Compiler called with sheet_name: FUA\n",
      "Processing file: tt_pt_HJ_v04.1.xlsx\n",
      "Available sheets in this file: ['PSFS', 'PTInt', 'PT Groups', 'GPT', 'IPT', 'FUA', 'Heba', 'reference', 'drop-down lists', 'drop_down']\n",
      "Successfully accessed sheet: FUA\n",
      "Processing file: tt_pt_HR_v04.11.xlsx\n",
      "Available sheets in this file: ['PSFS', 'PTInt', 'PTGroups', 'GPT', 'IPT', 'FUA', 'IOPT', 'Hind', 'reference', 'drop-down lists', 'drop_down']\n",
      "Successfully accessed sheet: FUA\n",
      "Processing file: tt_pt_ZN_v04.11.xlsx\n",
      "Available sheets in this file: ['PSFS', 'PTGroups', 'PTInt', 'GPT', 'IPT', 'FUA', 'IOPT', 'Zaid', 'reference', 'drop-down lists', 'drop_down']\n",
      "Successfully accessed sheet: FUA\n"
     ]
    }
   ],
   "source": [
    "for key, value in pt_sheet_path.items():\n",
    "    pt_dataframe = compiler(\n",
    "        value[0], path_manager.config.fpt, config_file, tt_pt, ser=\"pt\"\n",
    "    )\n",
    "    pt_dataframe.to_csv(value[1], index=False)"
   ]
  },
  {
   "cell_type": "code",
   "execution_count": 14,
   "id": "f4367250218093a0",
   "metadata": {
    "ExecuteTime": {
     "end_time": "2024-10-14T14:56:08.761851Z",
     "start_time": "2024-10-14T14:56:08.755504Z"
    }
   },
   "outputs": [],
   "source": [
    "def find_record(folder, variable, search_value):\n",
    "    for filename in os.listdir(folder):\n",
    "        if filename.endswith(\".csv\"):\n",
    "            file_path = os.path.join(folder, filename)\n",
    "            df = pd.read_csv(file_path)\n",
    "            if variable in df.columns:\n",
    "                if search_value in df[variable].values:\n",
    "                    record = df.loc[df[variable] == search_value]\n",
    "                    return record\n",
    "    print(f\"No records found with {variable} = {search_value}\")\n",
    "    return None"
   ]
  },
  {
   "cell_type": "code",
   "execution_count": null,
   "id": "8db467aa021891ab",
   "metadata": {
    "ExecuteTime": {
     "end_time": "2024-10-14T14:56:09.647665Z",
     "start_time": "2024-10-14T14:56:09.594446Z"
    }
   },
   "outputs": [],
   "source": [
    "folder = r\"./data/processed/1224\"\n",
    "variable = \"fcid\"\n",
    "search_value = 8110050105\n",
    "\n",
    "result = find_record(folder, variable, search_value)\n",
    "result"
   ]
  },
  {
   "cell_type": "code",
   "execution_count": null,
   "id": "79fbab01f1d3a1b4",
   "metadata": {},
   "outputs": [],
   "source": []
  },
  {
   "cell_type": "code",
   "execution_count": null,
   "id": "9d12a2c5",
   "metadata": {},
   "outputs": [],
   "source": []
  }
 ],
 "metadata": {
  "kernelspec": {
   "display_name": ".venv",
   "language": "python",
   "name": "python3"
  },
  "language_info": {
   "codemirror_mode": {
    "name": "ipython",
    "version": 3
   },
   "file_extension": ".py",
   "mimetype": "text/x-python",
   "name": "python",
   "nbconvert_exporter": "python",
   "pygments_lexer": "ipython3",
   "version": "3.12.2"
  }
 },
 "nbformat": 4,
 "nbformat_minor": 5
}
