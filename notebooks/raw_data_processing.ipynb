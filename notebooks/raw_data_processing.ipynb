{
 "cells": [
  {
   "metadata": {
    "collapsed": true,
    "ExecuteTime": {
     "end_time": "2024-10-09T23:25:11.923272Z",
     "start_time": "2024-10-09T23:25:11.090148Z"
    }
   },
   "cell_type": "code",
   "source": "from src.all_in_one import *",
   "id": "initial_id",
   "outputs": [],
   "execution_count": 1
  },
  {
   "metadata": {
    "ExecuteTime": {
     "end_time": "2024-10-09T23:29:13.062930Z",
     "start_time": "2024-10-09T23:29:13.057407Z"
    }
   },
   "cell_type": "code",
   "source": [
    "ps_raw_data = path_manager.ps_raw_data\n",
    "pspw = path_manager.pspw\n",
    "pt_raw_data = path_manager.pt_raw_data\n",
    "ptpw = path_manager.ptpw"
   ],
   "id": "da36f2ee6fe86a2f",
   "outputs": [],
   "execution_count": 2
  },
  {
   "cell_type": "code",
   "source": [
    "pss_decryptor = ExcelDecryptor(ps_raw_data, pspw)\n",
    "tt_pss = pss_decryptor.read_encrypted_excels()\n",
    "pt_decryptor = ExcelDecryptor(pt_raw_data, ptpw)\n",
    "tt_pt = pt_decryptor.read_encrypted_excels()"
   ],
   "metadata": {
    "collapsed": false,
    "ExecuteTime": {
     "end_time": "2024-10-09T23:29:30.643217Z",
     "start_time": "2024-10-09T23:29:14.763553Z"
    }
   },
   "id": "68d4c78a72f2cc23",
   "outputs": [
    {
     "name": "stderr",
     "output_type": "stream",
     "text": [
      "Processing: 100%|██████████| 5/5 [00:11<00:00,  2.27s/it]\n",
      "Processing: 100%|██████████| 3/3 [00:04<00:00,  1.49s/it]\n"
     ]
    }
   ],
   "execution_count": 3
  },
  {
   "cell_type": "code",
   "source": "path_manager.config.shpt",
   "metadata": {
    "collapsed": false,
    "ExecuteTime": {
     "end_time": "2024-10-09T23:29:48.271736Z",
     "start_time": "2024-10-09T23:29:48.260955Z"
    }
   },
   "id": "cb3286b238994fa",
   "outputs": [
    {
     "data": {
      "text/plain": [
       "['PSFS', 'PTInt', 'GPT', 'IPT', 'FUP']"
      ]
     },
     "execution_count": 4,
     "metadata": {},
     "output_type": "execute_result"
    }
   ],
   "execution_count": 4
  },
  {
   "cell_type": "code",
   "source": "path_manager.config.fpss",
   "metadata": {
    "collapsed": false,
    "ExecuteTime": {
     "end_time": "2024-10-09T23:29:55.108376Z",
     "start_time": "2024-10-09T23:29:55.100691Z"
    }
   },
   "id": "344a0420a5c2a5d",
   "outputs": [
    {
     "data": {
      "text/plain": [
       "['tt_psc_IJ_v04.xlsx',\n",
       " 'tt_psc_LA_v04.xlsx',\n",
       " 'tt_psc_MT_v04.xlsx',\n",
       " 'tt_psc_SA_v04.xlsx',\n",
       " 'tt_psc_YQ-v04.xlsx']"
      ]
     },
     "execution_count": 5,
     "metadata": {},
     "output_type": "execute_result"
    }
   ],
   "execution_count": 5
  },
  {
   "metadata": {
    "ExecuteTime": {
     "end_time": "2024-10-09T23:38:22.184740Z",
     "start_time": "2024-10-09T23:38:22.177690Z"
    }
   },
   "cell_type": "code",
   "source": "path_manager.get_data_file(Category.PS, PSFile.SCR)",
   "id": "162f549a3b519398",
   "outputs": [
    {
     "data": {
      "text/plain": [
       "DataFile(path='C:\\\\Users\\\\fmnya\\\\fc-performeter\\\\data\\\\processed\\\\0924\\\\-01_psscr_0924.csv', sheet='Scr')"
      ]
     },
     "execution_count": 8,
     "metadata": {},
     "output_type": "execute_result"
    }
   ],
   "execution_count": 8
  },
  {
   "cell_type": "code",
   "source": [
    "pss_sheet_path = {\n",
    "    'screening': (scr_sheet, scr_path),\n",
    "    'intake': (int_sheet, int_path),\n",
    "    'group_counseling': (gc_sheet, gc_path),\n",
    "    'individual_counseling': (ic_sheet, ic_path),\n",
    "    'follow_up_assessment': (psfua_sheet, psfua_path),\n",
    "    'post_earthquake_intervention': (pei_sheet, pei_path),\n",
    "    'trw': (trw_sheet, trw_path),\n",
    "    'therapeutic_documentation': (td_sheet, td_path),\n",
    "    'creative_workshop': (cws_sheet, cws_path),\n",
    "    'awareness_workshop': (aw_sheet, aw_path)\n",
    "}\n",
    "\n",
    "pt_sheet_path = {\n",
    "    'psfs': (psfs_sheet, psfs_path),\n",
    "    'pt_intake': (ptint_sheet, ptint_path),\n",
    "    'pt_group': (gpt_sheet, gpt_path),\n",
    "    'pt_individual': (ipt_sheet, ipt_path),\n",
    "    'pt_fua': (ptfua_sheet, ptfua_path),\n",
    "}"
   ],
   "metadata": {
    "collapsed": false
   },
   "id": "5e0892217db49e1b",
   "outputs": [],
   "execution_count": null
  },
  {
   "cell_type": "code",
   "source": [
    "for key, value in pss_sheet_path.items():\n",
    "    pss_dataframe = compiler(value[0], config.fpss, config_file, tt_pss, ser=\"pss\")\n",
    "    pss_dataframe.to_csv(value[1], index=False)"
   ],
   "metadata": {
    "collapsed": false
   },
   "id": "574a8116200742e0",
   "outputs": [],
   "execution_count": null
  },
  {
   "metadata": {},
   "cell_type": "code",
   "source": [
    "for key, value in pt_sheet_path.items():\n",
    "    pt_dataframe = compiler(value[0], config.fpt, config_file, tt_pt, ser=\"pt\")\n",
    "    pt_dataframe.to_csv(value[1], index=False)"
   ],
   "id": "4a4d9c776c5d1066",
   "outputs": [],
   "execution_count": null
  },
  {
   "metadata": {},
   "cell_type": "code",
   "source": "psfs = get_df(psfs_path, psfs_sheet)",
   "id": "274ed34ce430a982",
   "outputs": [],
   "execution_count": null
  },
  {
   "metadata": {},
   "cell_type": "code",
   "source": "psfs",
   "id": "f4367250218093a0",
   "outputs": [],
   "execution_count": null
  }
 ],
 "metadata": {
  "kernelspec": {
   "display_name": "Python 3",
   "language": "python",
   "name": "python3"
  },
  "language_info": {
   "codemirror_mode": {
    "name": "ipython",
    "version": 2
   },
   "file_extension": ".py",
   "mimetype": "text/x-python",
   "name": "python",
   "nbconvert_exporter": "python",
   "pygments_lexer": "ipython2",
   "version": "2.7.6"
  }
 },
 "nbformat": 4,
 "nbformat_minor": 5
}
