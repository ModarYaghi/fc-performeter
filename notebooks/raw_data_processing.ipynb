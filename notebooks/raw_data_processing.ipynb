{
 "cells": [
  {
   "cell_type": "code",
   "execution_count": 8,
   "id": "initial_id",
   "metadata": {
    "ExecuteTime": {
     "end_time": "2024-10-14T23:42:43.783631Z",
     "start_time": "2024-10-14T23:42:43.779292Z"
    },
    "collapsed": true
   },
   "outputs": [],
   "source": [
    "from src.all_in_one import *\n",
    "from path_management import *\n",
    "from src.basic_variables import pss_sheet_path, pt_sheet_path"
   ]
  },
  {
   "cell_type": "code",
   "execution_count": 2,
   "id": "68d4c78a72f2cc23",
   "metadata": {
    "ExecuteTime": {
     "end_time": "2024-10-14T23:42:59.942575Z",
     "start_time": "2024-10-14T23:42:45.460899Z"
    },
    "collapsed": false
   },
   "outputs": [
    {
     "name": "stderr",
     "output_type": "stream",
     "text": [
      "Processing:   0%|          | 0/5 [00:00<?, ?it/s]"
     ]
    },
    {
     "name": "stderr",
     "output_type": "stream",
     "text": [
      "Processing: 100%|██████████| 5/5 [00:06<00:00,  1.26s/it]\n",
      "Processing: 100%|██████████| 3/3 [00:02<00:00,  1.26it/s]\n"
     ]
    }
   ],
   "source": [
    "pss_decryptor = ExcelDecryptor(ps_raw_data, pspw)\n",
    "tt_pss = pss_decryptor.read_encrypted_excels()\n",
    "pt_decryptor = ExcelDecryptor(pt_raw_data, ptpw)\n",
    "tt_pt = pt_decryptor.read_encrypted_excels()"
   ]
  },
  {
   "cell_type": "code",
   "execution_count": null,
   "id": "574a8116200742e0",
   "metadata": {
    "collapsed": false
   },
   "outputs": [],
   "source": [
    "# print(\"Contents of pss_sheet_path:\")\n",
    "# for key, value in pss_sheet_path.items():\n",
    "#     print(f\"{key}: {value}\")\n",
    "\n",
    "for key, value in pss_sheet_path.items():\n",
    "    pss_dataframe = compiler(\n",
    "        value[0], path_manager.config.fpss, config_file, tt_pss, ser=\"pss\"\n",
    "    )\n",
    "    pss_dataframe.to_csv(value[1], index=False)"
   ]
  },
  {
   "cell_type": "code",
   "execution_count": null,
   "id": "4a4d9c776c5d1066",
   "metadata": {},
   "outputs": [],
   "source": [
    "for key, value in pt_sheet_path.items():\n",
    "    pt_dataframe = compiler(\n",
    "        value[0], path_manager.config.fpt, config_file, tt_pt, ser=\"pt\"\n",
    "    )\n",
    "    pt_dataframe.to_csv(value[1], index=False)"
   ]
  },
  {
   "cell_type": "code",
   "execution_count": 14,
   "id": "f4367250218093a0",
   "metadata": {
    "ExecuteTime": {
     "end_time": "2024-10-14T14:56:08.761851Z",
     "start_time": "2024-10-14T14:56:08.755504Z"
    }
   },
   "outputs": [],
   "source": [
    "def find_record(folder, variable, search_value):\n",
    "    for filename in os.listdir(folder):\n",
    "        if filename.endswith(\".csv\"):\n",
    "            file_path = os.path.join(folder, filename)\n",
    "            df = pd.read_csv(file_path)\n",
    "            if variable in df.columns:\n",
    "                if search_value in df[variable].values:\n",
    "                    record = df.loc[df[variable] == search_value]\n",
    "                    return record\n",
    "    print(f\"No records found with {variable} = {search_value}\")\n",
    "    return None"
   ]
  },
  {
   "cell_type": "code",
   "execution_count": 19,
   "id": "8db467aa021891ab",
   "metadata": {
    "ExecuteTime": {
     "end_time": "2024-10-14T14:56:09.647665Z",
     "start_time": "2024-10-14T14:56:09.594446Z"
    }
   },
   "outputs": [
    {
     "data": {
      "text/html": [
       "<div>\n",
       "<style scoped>\n",
       "    .dataframe tbody tr th:only-of-type {\n",
       "        vertical-align: middle;\n",
       "    }\n",
       "\n",
       "    .dataframe tbody tr th {\n",
       "        vertical-align: top;\n",
       "    }\n",
       "\n",
       "    .dataframe thead th {\n",
       "        text-align: right;\n",
       "    }\n",
       "</style>\n",
       "<table border=\"1\" class=\"dataframe\">\n",
       "  <thead>\n",
       "    <tr style=\"text-align: right;\">\n",
       "      <th></th>\n",
       "      <th>intsp</th>\n",
       "      <th>ntspi</th>\n",
       "      <th>rid</th>\n",
       "      <th>fcid</th>\n",
       "      <th>firstname</th>\n",
       "      <th>lastname</th>\n",
       "      <th>nt_s1</th>\n",
       "      <th>nt_s2</th>\n",
       "      <th>nt_s3</th>\n",
       "      <th>nt_re</th>\n",
       "      <th>...</th>\n",
       "      <th>secondary_torture</th>\n",
       "      <th>sexual_violation_a</th>\n",
       "      <th>sexual_violation_p</th>\n",
       "      <th>hrd</th>\n",
       "      <th>journalist</th>\n",
       "      <th>wov</th>\n",
       "      <th>stgbv</th>\n",
       "      <th>lgbti</th>\n",
       "      <th>other</th>\n",
       "      <th>note</th>\n",
       "    </tr>\n",
       "  </thead>\n",
       "  <tbody>\n",
       "    <tr>\n",
       "      <th>36</th>\n",
       "      <td>IJ</td>\n",
       "      <td>37</td>\n",
       "      <td>R0864</td>\n",
       "      <td>8110050105</td>\n",
       "      <td>فدوى</td>\n",
       "      <td>حفيان</td>\n",
       "      <td>NaN</td>\n",
       "      <td>NaN</td>\n",
       "      <td>NaN</td>\n",
       "      <td>2024-05-10 00:00:00</td>\n",
       "      <td>...</td>\n",
       "      <td>NaN</td>\n",
       "      <td>NaN</td>\n",
       "      <td>NaN</td>\n",
       "      <td>NaN</td>\n",
       "      <td>NaN</td>\n",
       "      <td>NaN</td>\n",
       "      <td>NaN</td>\n",
       "      <td>NaN</td>\n",
       "      <td>NaN</td>\n",
       "      <td>NaN</td>\n",
       "    </tr>\n",
       "    <tr>\n",
       "      <th>204</th>\n",
       "      <td>SA</td>\n",
       "      <td>111</td>\n",
       "      <td>R0864</td>\n",
       "      <td>8110050105</td>\n",
       "      <td>فدوى</td>\n",
       "      <td>حفيان</td>\n",
       "      <td>2023-10-27 00:00:00</td>\n",
       "      <td>2023-11-09 00:00:00</td>\n",
       "      <td>NaN</td>\n",
       "      <td>NaN</td>\n",
       "      <td>...</td>\n",
       "      <td>Yes</td>\n",
       "      <td>No</td>\n",
       "      <td>No</td>\n",
       "      <td>No</td>\n",
       "      <td>No</td>\n",
       "      <td>Yes</td>\n",
       "      <td>No</td>\n",
       "      <td>No</td>\n",
       "      <td>No</td>\n",
       "      <td>NaN</td>\n",
       "    </tr>\n",
       "  </tbody>\n",
       "</table>\n",
       "<p>2 rows × 23 columns</p>\n",
       "</div>"
      ],
      "text/plain": [
       "    intsp  ntspi    rid        fcid firstname lastname                nt_s1  \\\n",
       "36     IJ     37  R0864  8110050105      فدوى    حفيان                  NaN   \n",
       "204    SA    111  R0864  8110050105      فدوى    حفيان  2023-10-27 00:00:00   \n",
       "\n",
       "                   nt_s2 nt_s3                nt_re  ... secondary_torture  \\\n",
       "36                   NaN   NaN  2024-05-10 00:00:00  ...               NaN   \n",
       "204  2023-11-09 00:00:00   NaN                  NaN  ...               Yes   \n",
       "\n",
       "    sexual_violation_a sexual_violation_p  hrd journalist  wov stgbv lgbti  \\\n",
       "36                 NaN                NaN  NaN        NaN  NaN   NaN   NaN   \n",
       "204                 No                 No   No         No  Yes    No    No   \n",
       "\n",
       "    other note  \n",
       "36    NaN  NaN  \n",
       "204    No  NaN  \n",
       "\n",
       "[2 rows x 23 columns]"
      ]
     },
     "execution_count": 19,
     "metadata": {},
     "output_type": "execute_result"
    }
   ],
   "source": [
    "folder = r\"./data/processed/1224\"\n",
    "variable = \"fcid\"\n",
    "search_value = 8110050105\n",
    "\n",
    "result = find_record(folder, variable, search_value)\n",
    "result"
   ]
  },
  {
   "cell_type": "code",
   "execution_count": null,
   "id": "79fbab01f1d3a1b4",
   "metadata": {},
   "outputs": [],
   "source": []
  },
  {
   "cell_type": "code",
   "execution_count": null,
   "id": "9d12a2c5",
   "metadata": {},
   "outputs": [],
   "source": []
  }
 ],
 "metadata": {
  "kernelspec": {
   "display_name": ".venv",
   "language": "python",
   "name": "python3"
  },
  "language_info": {
   "codemirror_mode": {
    "name": "ipython",
    "version": 3
   },
   "file_extension": ".py",
   "mimetype": "text/x-python",
   "name": "python",
   "nbconvert_exporter": "python",
   "pygments_lexer": "ipython3",
   "version": "3.12.2"
  }
 },
 "nbformat": 4,
 "nbformat_minor": 5
}
