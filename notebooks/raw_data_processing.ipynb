{
 "cells": [
  {
   "cell_type": "code",
   "id": "initial_id",
   "metadata": {
    "collapsed": true
   },
   "source": [
    "from src.all_in_one import *"
   ],
   "outputs": [],
   "execution_count": null
  },
  {
   "cell_type": "code",
   "source": [
    "decryptor = ExcelDecryptor(ps_raw_data, pspw)\n",
    "tracking_tools = decryptor.read_encrypted_excels()"
   ],
   "metadata": {
    "collapsed": false
   },
   "id": "68d4c78a72f2cc23",
   "outputs": [],
   "execution_count": null
  },
  {
   "cell_type": "code",
   "source": [
    "config.shpss"
   ],
   "metadata": {
    "collapsed": false
   },
   "id": "cb3286b238994fa",
   "outputs": [],
   "execution_count": null
  },
  {
   "cell_type": "code",
   "source": [
    "config.fpss"
   ],
   "metadata": {
    "collapsed": false
   },
   "id": "344a0420a5c2a5d",
   "outputs": [],
   "execution_count": null
  },
  {
   "cell_type": "code",
   "source": [
    "# sheet_name1 = td_sheet\n",
    "# sheet_name2 = pei_sheet\n",
    "# sheet_name3 = _sheet\n",
    "sheet_path = {\n",
    "    'screening': (scr_sheet, scr_path),\n",
    "    'intake': (int_sheet, int_path),\n",
    "    'group_counseling': (gc_sheet, gc_path),\n",
    "    'individual_counseling': (ic_sheet, ic_path),\n",
    "    'follow_up_assessment': (psfua_sheet, psfua_path),\n",
    "    'post_earthquake_intervention': (pei_sheet, pei_path),\n",
    "    'trw': (trw_sheet, trw_path),\n",
    "    'therapeutic_documentation': (td_sheet, td_path),\n",
    "    'creative_workshop': (cws_sheet, cws_path),\n",
    "    'awareness_workshop': (aw_sheet, aw_path)\n",
    "}"
   ],
   "metadata": {
    "collapsed": false
   },
   "id": "5e0892217db49e1b",
   "outputs": [],
   "execution_count": null
  },
  {
   "cell_type": "code",
   "source": [
    "for key, value in sheet_path.items():\n",
    "    df = compiler(value[0], config.fpss, config_file, tracking_tools)\n",
    "    df.to_csv(value[1], index=False)"
   ],
   "metadata": {
    "collapsed": false
   },
   "id": "574a8116200742e0",
   "outputs": [],
   "execution_count": null
  },
  {
   "cell_type": "code",
   "source": "td = get_df(td_path, td_sheet, config_file)",
   "metadata": {
    "collapsed": false
   },
   "id": "4900282432e4d6b2",
   "outputs": [],
   "execution_count": null
  },
  {
   "metadata": {},
   "cell_type": "code",
   "source": "td",
   "id": "2fadf4d7ded757d",
   "outputs": [],
   "execution_count": null
  },
  {
   "metadata": {},
   "cell_type": "code",
   "source": [
    "intake = get_df(int_path, int_sheet, config_file)\n",
    "intake"
   ],
   "id": "9c696947efeb405f",
   "outputs": [],
   "execution_count": null
  },
  {
   "metadata": {},
   "cell_type": "code",
   "source": "",
   "id": "e8daaeb8c2cd94a6",
   "outputs": [],
   "execution_count": null
  }
 ],
 "metadata": {
  "kernelspec": {
   "display_name": "Python 3",
   "language": "python",
   "name": "python3"
  },
  "language_info": {
   "codemirror_mode": {
    "name": "ipython",
    "version": 2
   },
   "file_extension": ".py",
   "mimetype": "text/x-python",
   "name": "python",
   "nbconvert_exporter": "python",
   "pygments_lexer": "ipython2",
   "version": "2.7.6"
  }
 },
 "nbformat": 4,
 "nbformat_minor": 5
}
