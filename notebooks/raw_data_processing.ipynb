{
 "cells": [
  {
   "cell_type": "code",
   "id": "initial_id",
   "metadata": {
    "collapsed": true,
    "ExecuteTime": {
     "end_time": "2024-06-07T13:45:49.580140Z",
     "start_time": "2024-06-07T13:45:48.804194Z"
    }
   },
   "source": [
    "from src.all_in_one import *"
   ],
   "outputs": [],
   "execution_count": 1
  },
  {
   "cell_type": "code",
   "source": [
    "decryptor = ExcelDecryptor(ps_raw_data, pspw)\n",
    "tracking_tools = decryptor.read_encrypted_excels()"
   ],
   "metadata": {
    "collapsed": false,
    "ExecuteTime": {
     "end_time": "2024-06-07T13:45:58.048259Z",
     "start_time": "2024-06-07T13:45:50.238233Z"
    }
   },
   "id": "68d4c78a72f2cc23",
   "outputs": [
    {
     "name": "stderr",
     "output_type": "stream",
     "text": [
      "Processing: 100%|██████████| 5/5 [00:07<00:00,  1.56s/it]\n"
     ]
    }
   ],
   "execution_count": 2
  },
  {
   "cell_type": "code",
   "source": "config.shpss",
   "metadata": {
    "collapsed": false,
    "ExecuteTime": {
     "end_time": "2024-06-07T13:46:26.787413Z",
     "start_time": "2024-06-07T13:46:26.774482Z"
    }
   },
   "id": "cb3286b238994fa",
   "outputs": [
    {
     "data": {
      "text/plain": [
       "['Scr', 'Int', 'GC', 'IC', 'FUA', 'PEI', 'TRW', 'TD', 'CWS', 'AW']"
      ]
     },
     "execution_count": 4,
     "metadata": {},
     "output_type": "execute_result"
    }
   ],
   "execution_count": 4
  },
  {
   "cell_type": "code",
   "source": "config.fpss",
   "metadata": {
    "collapsed": false,
    "ExecuteTime": {
     "end_time": "2024-06-07T13:46:27.589880Z",
     "start_time": "2024-06-07T13:46:27.584480Z"
    }
   },
   "id": "344a0420a5c2a5d",
   "outputs": [
    {
     "data": {
      "text/plain": [
       "['tt_psc_IJ_v04.xlsx',\n",
       " 'tt_psc_LA_v04.xlsx',\n",
       " 'tt_psc_MT_v04.xlsx',\n",
       " 'tt_psc_SA_v04.xlsx',\n",
       " 'tt_psc_YQ-v04.xlsx']"
      ]
     },
     "execution_count": 5,
     "metadata": {},
     "output_type": "execute_result"
    }
   ],
   "execution_count": 5
  },
  {
   "cell_type": "code",
   "source": [
    "pss_sheet_path = {\n",
    "    'screening': (scr_sheet, scr_path),\n",
    "    'intake': (int_sheet, int_path),\n",
    "    'group_counseling': (gc_sheet, gc_path),\n",
    "    'individual_counseling': (ic_sheet, ic_path),\n",
    "    'follow_up_assessment': (psfua_sheet, psfua_path),\n",
    "    'post_earthquake_intervention': (pei_sheet, pei_path),\n",
    "    'trw': (trw_sheet, trw_path),\n",
    "    'therapeutic_documentation': (td_sheet, td_path),\n",
    "    'creative_workshop': (cws_sheet, cws_path),\n",
    "    'awareness_workshop': (aw_sheet, aw_path)\n",
    "}\n",
    "\n",
    "pt_sheet_path = {\n",
    "    'psfs': (psfs_sheet, psfs_path),\n",
    "    'pt_intake': (ptint_sheet, ptint_path),\n",
    "    'pt_group': (gpt_sheet, gpt_path),\n",
    "    'pt_individual': (ipt_sheet, ipt_path),\n",
    "    'pt_fua': (ptfua_sheet, ptfua_path),\n",
    "}"
   ],
   "metadata": {
    "collapsed": false,
    "ExecuteTime": {
     "end_time": "2024-06-07T13:46:31.178118Z",
     "start_time": "2024-06-07T13:46:31.171073Z"
    }
   },
   "id": "5e0892217db49e1b",
   "outputs": [],
   "execution_count": 6
  },
  {
   "cell_type": "code",
   "source": [
    "for key, value in pss_sheet_path.items():\n",
    "    pss_dataframe = compiler(value[0], config.fpss, config_file, tracking_tools)\n",
    "    pss_dataframe.to_csv(value[1], index=False)"
   ],
   "metadata": {
    "collapsed": false,
    "ExecuteTime": {
     "end_time": "2024-06-07T13:46:38.126342Z",
     "start_time": "2024-06-07T13:46:37.174305Z"
    }
   },
   "id": "574a8116200742e0",
   "outputs": [],
   "execution_count": 7
  },
  {
   "metadata": {},
   "cell_type": "code",
   "source": [
    "for key, value in pt_sheet_path.items():\n",
    "    pt_dataframe = compiler(value[0], config.fpt, config_file, tracking_tools)\n",
    "    pt_dataframe.to_csv(value[1], index=False)"
   ],
   "id": "4a4d9c776c5d1066",
   "outputs": [],
   "execution_count": null
  },
  {
   "metadata": {},
   "cell_type": "code",
   "source": "psfs = get_df(psfs_path, psfs_sheet)",
   "id": "274ed34ce430a982",
   "outputs": [],
   "execution_count": null
  },
  {
   "metadata": {},
   "cell_type": "code",
   "source": "psfs",
   "id": "f4367250218093a0",
   "outputs": [],
   "execution_count": null
  }
 ],
 "metadata": {
  "kernelspec": {
   "display_name": "Python 3",
   "language": "python",
   "name": "python3"
  },
  "language_info": {
   "codemirror_mode": {
    "name": "ipython",
    "version": 2
   },
   "file_extension": ".py",
   "mimetype": "text/x-python",
   "name": "python",
   "nbconvert_exporter": "python",
   "pygments_lexer": "ipython2",
   "version": "2.7.6"
  }
 },
 "nbformat": 4,
 "nbformat_minor": 5
}
