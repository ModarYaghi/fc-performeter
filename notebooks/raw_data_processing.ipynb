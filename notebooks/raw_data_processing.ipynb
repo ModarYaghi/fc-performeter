{
 "cells": [
  {
   "cell_type": "code",
   "id": "initial_id",
   "metadata": {
    "collapsed": true
   },
   "source": [
    "from src.all_in_one import *"
   ],
   "outputs": [],
   "execution_count": null
  },
  {
   "cell_type": "code",
   "source": [
    "decryptor = ExcelDecryptor(ps_raw_data, pspw)\n",
    "tracking_tools = decryptor.read_encrypted_excels()"
   ],
   "metadata": {
    "collapsed": false
   },
   "id": "68d4c78a72f2cc23",
   "outputs": [],
   "execution_count": null
  },
  {
   "cell_type": "code",
   "source": [
    "config.shpss"
   ],
   "metadata": {
    "collapsed": false
   },
   "id": "cb3286b238994fa",
   "outputs": [],
   "execution_count": null
  },
  {
   "cell_type": "code",
   "source": [
    "config.fpss"
   ],
   "metadata": {
    "collapsed": false
   },
   "id": "344a0420a5c2a5d",
   "outputs": [],
   "execution_count": null
  },
  {
   "cell_type": "code",
   "source": [
    "sheet_name1 = trw_sheet\n",
    "sheet_name2 = pei_sheet\n",
    "# sheet_name3 = _sheet\n"
   ],
   "metadata": {
    "collapsed": false
   },
   "id": "5e0892217db49e1b",
   "outputs": [],
   "execution_count": null
  },
  {
   "cell_type": "code",
   "source": "df = compiler(sheet_name2, config.fpss, config_file, tracking_tools)",
   "metadata": {
    "collapsed": false
   },
   "id": "574a8116200742e0",
   "outputs": [],
   "execution_count": null
  },
  {
   "cell_type": "code",
   "source": [
    "df"
   ],
   "metadata": {
    "collapsed": false
   },
   "id": "d6564ed91be9aa18",
   "outputs": [],
   "execution_count": null
  },
  {
   "cell_type": "code",
   "source": "df.to_csv(pei_path, index=False)",
   "metadata": {
    "collapsed": false
   },
   "id": "49cbb904af2c74db",
   "outputs": [],
   "execution_count": null
  },
  {
   "cell_type": "code",
   "source": "get_df(pei_path, pei_sheet, config_file)",
   "metadata": {
    "collapsed": false
   },
   "id": "4900282432e4d6b2",
   "outputs": [],
   "execution_count": null
  },
  {
   "metadata": {},
   "cell_type": "code",
   "source": "",
   "id": "2fadf4d7ded757d",
   "outputs": [],
   "execution_count": null
  }
 ],
 "metadata": {
  "kernelspec": {
   "display_name": "Python 3",
   "language": "python",
   "name": "python3"
  },
  "language_info": {
   "codemirror_mode": {
    "name": "ipython",
    "version": 2
   },
   "file_extension": ".py",
   "mimetype": "text/x-python",
   "name": "python",
   "nbconvert_exporter": "python",
   "pygments_lexer": "ipython2",
   "version": "2.7.6"
  }
 },
 "nbformat": 4,
 "nbformat_minor": 5
}
