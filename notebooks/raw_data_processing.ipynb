{
 "cells": [
  {
   "metadata": {
    "collapsed": true,
    "ExecuteTime": {
     "end_time": "2024-10-14T01:03:56.723148Z",
     "start_time": "2024-10-14T01:03:55.928844Z"
    }
   },
   "cell_type": "code",
   "source": [
    "from src.all_in_one import *\n",
    "from path_management import *"
   ],
   "id": "initial_id",
   "outputs": [],
   "execution_count": 1
  },
  {
   "cell_type": "code",
   "source": [
    "pss_decryptor = ExcelDecryptor(ps_raw_data, pspw)\n",
    "tt_pss = pss_decryptor.read_encrypted_excels()\n",
    "pt_decryptor = ExcelDecryptor(pt_raw_data, ptpw)\n",
    "tt_pt = pt_decryptor.read_encrypted_excels()"
   ],
   "metadata": {
    "collapsed": false,
    "ExecuteTime": {
     "end_time": "2024-10-14T01:04:15.563261Z",
     "start_time": "2024-10-14T01:03:59.928154Z"
    }
   },
   "id": "68d4c78a72f2cc23",
   "outputs": [
    {
     "name": "stderr",
     "output_type": "stream",
     "text": [
      "Processing: 100%|██████████| 5/5 [00:11<00:00,  2.24s/it]\n",
      "Processing: 100%|██████████| 3/3 [00:04<00:00,  1.48s/it]\n"
     ]
    }
   ],
   "execution_count": 2
  },
  {
   "cell_type": "code",
   "source": [
    "print(\"Contents of pss_sheet_path:\")\n",
    "for key, value in pss_sheet_path.items():\n",
    "    print(f\"{key}: {value}\")\n",
    "\n",
    "for key, value in pss_sheet_path.items():\n",
    "    pss_dataframe = compiler(value[0], path_manager.config.fpss, config_file, tt_pss, ser=\"pss\")\n",
    "    pss_dataframe.to_csv(value[1], index=False)"
   ],
   "metadata": {
    "collapsed": false
   },
   "id": "574a8116200742e0",
   "outputs": [],
   "execution_count": null
  },
  {
   "metadata": {
    "ExecuteTime": {
     "end_time": "2024-10-14T01:05:14.041042Z",
     "start_time": "2024-10-14T01:05:13.448182Z"
    }
   },
   "cell_type": "code",
   "source": [
    "for key, value in pt_sheet_path.items():\n",
    "    pt_dataframe = compiler(value[0], path_manager.config.fpt, config_file, tt_pt, ser=\"pt\")\n",
    "    pt_dataframe.to_csv(value[1], index=False)"
   ],
   "id": "4a4d9c776c5d1066",
   "outputs": [
    {
     "name": "stdout",
     "output_type": "stream",
     "text": [
      "Compiler called with sheet_name: PSFS\n",
      "Processing file: tt_pt_HJ_v04.1.xlsx\n",
      "Available sheets in this file: ['PSFS', 'PT Int', 'PT Groups', 'GPT', 'IPT', 'FUA', 'Heba', 'reference', 'drop-down lists', 'drop_down']\n",
      "Successfully accessed sheet: PSFS\n",
      "Processing file: tt_pt_HR_v04.11.xlsx\n",
      "Available sheets in this file: ['PSFS', 'PTInt', 'PTGroups', 'GPT', 'IPT', 'FUA', 'IOPT', 'Hind', 'reference', 'drop-down lists', 'drop_down']\n",
      "Successfully accessed sheet: PSFS\n",
      "Processing file: tt_pt_ZN_v04.11.xlsx\n",
      "Available sheets in this file: ['PSFS', 'PTGroups', 'PTInt', 'GPT', 'IPT', 'FUA', 'IOPT', 'Zaid', 'reference', 'drop-down lists', 'drop_down']\n",
      "Successfully accessed sheet: PSFS\n",
      "Compiler called with sheet_name: IPT\n",
      "Processing file: tt_pt_HJ_v04.1.xlsx\n",
      "Available sheets in this file: ['PSFS', 'PT Int', 'PT Groups', 'GPT', 'IPT', 'FUA', 'Heba', 'reference', 'drop-down lists', 'drop_down']\n",
      "Successfully accessed sheet: IPT\n",
      "Processing file: tt_pt_HR_v04.11.xlsx\n",
      "Available sheets in this file: ['PSFS', 'PTInt', 'PTGroups', 'GPT', 'IPT', 'FUA', 'IOPT', 'Hind', 'reference', 'drop-down lists', 'drop_down']\n",
      "Successfully accessed sheet: IPT\n",
      "Processing file: tt_pt_ZN_v04.11.xlsx\n",
      "Available sheets in this file: ['PSFS', 'PTGroups', 'PTInt', 'GPT', 'IPT', 'FUA', 'IOPT', 'Zaid', 'reference', 'drop-down lists', 'drop_down']\n",
      "Successfully accessed sheet: IPT\n",
      "Compiler called with sheet_name: GPT\n",
      "Processing file: tt_pt_HJ_v04.1.xlsx\n",
      "Available sheets in this file: ['PSFS', 'PT Int', 'PT Groups', 'GPT', 'IPT', 'FUA', 'Heba', 'reference', 'drop-down lists', 'drop_down']\n",
      "Successfully accessed sheet: GPT\n",
      "Processing file: tt_pt_HR_v04.11.xlsx\n",
      "Available sheets in this file: ['PSFS', 'PTInt', 'PTGroups', 'GPT', 'IPT', 'FUA', 'IOPT', 'Hind', 'reference', 'drop-down lists', 'drop_down']\n",
      "Successfully accessed sheet: GPT\n",
      "Processing file: tt_pt_ZN_v04.11.xlsx\n",
      "Available sheets in this file: ['PSFS', 'PTGroups', 'PTInt', 'GPT', 'IPT', 'FUA', 'IOPT', 'Zaid', 'reference', 'drop-down lists', 'drop_down']\n",
      "Successfully accessed sheet: GPT\n",
      "Compiler called with sheet_name: IPT\n",
      "Processing file: tt_pt_HJ_v04.1.xlsx\n",
      "Available sheets in this file: ['PSFS', 'PT Int', 'PT Groups', 'GPT', 'IPT', 'FUA', 'Heba', 'reference', 'drop-down lists', 'drop_down']\n",
      "Successfully accessed sheet: IPT\n",
      "Processing file: tt_pt_HR_v04.11.xlsx\n",
      "Available sheets in this file: ['PSFS', 'PTInt', 'PTGroups', 'GPT', 'IPT', 'FUA', 'IOPT', 'Hind', 'reference', 'drop-down lists', 'drop_down']\n",
      "Successfully accessed sheet: IPT\n",
      "Processing file: tt_pt_ZN_v04.11.xlsx\n",
      "Available sheets in this file: ['PSFS', 'PTGroups', 'PTInt', 'GPT', 'IPT', 'FUA', 'IOPT', 'Zaid', 'reference', 'drop-down lists', 'drop_down']\n",
      "Successfully accessed sheet: IPT\n",
      "Compiler called with sheet_name: FUA\n",
      "Processing file: tt_pt_HJ_v04.1.xlsx\n",
      "Available sheets in this file: ['PSFS', 'PT Int', 'PT Groups', 'GPT', 'IPT', 'FUA', 'Heba', 'reference', 'drop-down lists', 'drop_down']\n",
      "Successfully accessed sheet: FUA\n",
      "Processing file: tt_pt_HR_v04.11.xlsx\n",
      "Available sheets in this file: ['PSFS', 'PTInt', 'PTGroups', 'GPT', 'IPT', 'FUA', 'IOPT', 'Hind', 'reference', 'drop-down lists', 'drop_down']\n",
      "Successfully accessed sheet: FUA\n",
      "Processing file: tt_pt_ZN_v04.11.xlsx\n",
      "Available sheets in this file: ['PSFS', 'PTGroups', 'PTInt', 'GPT', 'IPT', 'FUA', 'IOPT', 'Zaid', 'reference', 'drop-down lists', 'drop_down']\n",
      "Successfully accessed sheet: FUA\n"
     ]
    }
   ],
   "execution_count": 3
  },
  {
   "metadata": {},
   "cell_type": "code",
   "source": "psfs = get_df(psfs_path, psfs_sheet)",
   "id": "274ed34ce430a982",
   "outputs": [],
   "execution_count": null
  },
  {
   "metadata": {},
   "cell_type": "code",
   "source": "psfs",
   "id": "f4367250218093a0",
   "outputs": [],
   "execution_count": null
  }
 ],
 "metadata": {
  "kernelspec": {
   "display_name": "Python 3",
   "language": "python",
   "name": "python3"
  },
  "language_info": {
   "codemirror_mode": {
    "name": "ipython",
    "version": 2
   },
   "file_extension": ".py",
   "mimetype": "text/x-python",
   "name": "python",
   "nbconvert_exporter": "python",
   "pygments_lexer": "ipython2",
   "version": "2.7.6"
  }
 },
 "nbformat": 4,
 "nbformat_minor": 5
}
