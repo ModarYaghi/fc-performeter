{
 "cells": [
  {
   "cell_type": "code",
   "id": "initial_id",
   "metadata": {
    "collapsed": true
   },
   "source": [
    "from src.all_in_one import *"
   ],
   "outputs": [],
   "execution_count": null
  },
  {
   "cell_type": "code",
   "source": [
    "decryptor = ExcelDecryptor(ps_raw_data, pspw)\n",
    "tracking_tools = decryptor.read_encrypted_excels()"
   ],
   "metadata": {
    "collapsed": false
   },
   "id": "68d4c78a72f2cc23",
   "outputs": [],
   "execution_count": null
  },
  {
   "cell_type": "code",
   "source": "config.shpss",
   "metadata": {
    "collapsed": false
   },
   "id": "cb3286b238994fa",
   "outputs": [],
   "execution_count": null
  },
  {
   "cell_type": "code",
   "source": "config.fpss",
   "metadata": {
    "collapsed": false
   },
   "id": "344a0420a5c2a5d",
   "outputs": [],
   "execution_count": null
  },
  {
   "cell_type": "code",
   "source": [
    "pss_sheet_path = {\n",
    "    'screening': (scr_sheet, scr_path),\n",
    "    'intake': (int_sheet, int_path),\n",
    "    'group_counseling': (gc_sheet, gc_path),\n",
    "    'individual_counseling': (ic_sheet, ic_path),\n",
    "    'follow_up_assessment': (psfua_sheet, psfua_path),\n",
    "    'post_earthquake_intervention': (pei_sheet, pei_path),\n",
    "    'trw': (trw_sheet, trw_path),\n",
    "    'therapeutic_documentation': (td_sheet, td_path),\n",
    "    'creative_workshop': (cws_sheet, cws_path),\n",
    "    'awareness_workshop': (aw_sheet, aw_path)\n",
    "}\n",
    "\n",
    "pt_sheet_path = {\n",
    "    'psfs': (psfs_sheet, psfs_path),\n",
    "    'pt_intake': (ptint_sheet, ptint_path),\n",
    "    'pt_group': (gpt_sheet, gpt_path),\n",
    "    'pt_individual': (ipt_sheet, ipt_path),\n",
    "    'pt_fua': (ptfua_sheet, ptfua_path),\n",
    "}"
   ],
   "metadata": {
    "collapsed": false
   },
   "id": "5e0892217db49e1b",
   "outputs": [],
   "execution_count": null
  },
  {
   "cell_type": "code",
   "source": [
    "for key, value in pss_sheet_path.items():\n",
    "    pss_dataframe = compiler(value[0], config.fpss, config_file, tracking_tools)\n",
    "    pss_dataframe.to_csv(value[1], index=False)"
   ],
   "metadata": {
    "collapsed": false
   },
   "id": "574a8116200742e0",
   "outputs": [],
   "execution_count": null
  },
  {
   "metadata": {},
   "cell_type": "code",
   "source": [
    "for key, value in pt_sheet_path.items():\n",
    "    pt_dataframe = compiler(value[0], config.fpt, config_file, tracking_tools)\n",
    "    pt_dataframe.to_csv(value[1], index=False)"
   ],
   "id": "4a4d9c776c5d1066",
   "outputs": [],
   "execution_count": null
  },
  {
   "metadata": {},
   "cell_type": "code",
   "source": "psfs = get_df(psfs_path, psfs_sheet)",
   "id": "274ed34ce430a982",
   "outputs": [],
   "execution_count": null
  },
  {
   "metadata": {},
   "cell_type": "code",
   "source": "psfs",
   "id": "f4367250218093a0",
   "outputs": [],
   "execution_count": null
  }
 ],
 "metadata": {
  "kernelspec": {
   "display_name": "Python 3",
   "language": "python",
   "name": "python3"
  },
  "language_info": {
   "codemirror_mode": {
    "name": "ipython",
    "version": 2
   },
   "file_extension": ".py",
   "mimetype": "text/x-python",
   "name": "python",
   "nbconvert_exporter": "python",
   "pygments_lexer": "ipython2",
   "version": "2.7.6"
  }
 },
 "nbformat": 4,
 "nbformat_minor": 5
}
