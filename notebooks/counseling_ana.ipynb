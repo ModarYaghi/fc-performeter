{
 "cells": [
  {
   "cell_type": "code",
   "execution_count": 1,
   "id": "initial_id",
   "metadata": {
    "collapsed": true,
    "ExecuteTime": {
     "end_time": "2024-01-08T11:24:20.688351300Z",
     "start_time": "2024-01-08T11:24:19.230121500Z"
    }
   },
   "outputs": [],
   "source": [
    "import pandas as pd\n",
    "from src.all_in_one import *\n",
    "from src.utils import *\n",
    "threshold = '2023-09-30'"
   ]
  },
  {
   "cell_type": "code",
   "outputs": [],
   "source": [
    "scr_path = os.path.join(processed_data, 'scr_1223.csv')\n",
    "screening = 'Scr'\n",
    "scr_dataset = Dataset(config_file, screening)\n",
    "scr = pd.read_csv(scr_path)\n",
    "scr = dtype_trans(scr, scr_dataset)\n",
    "unique_scr = scr.drop_duplicates(subset='rid')"
   ],
   "metadata": {
    "collapsed": false,
    "ExecuteTime": {
     "end_time": "2024-01-08T11:24:21.525044200Z",
     "start_time": "2024-01-08T11:24:21.431168800Z"
    }
   },
   "id": "b4b3b1d915ae9de6",
   "execution_count": 2
  },
  {
   "cell_type": "code",
   "outputs": [],
   "source": [
    "gc_path = os.path.join(processed_data, 'gc_1223.csv')\n",
    "gc_sheet = 'GC'\n",
    "gc_dataset = Dataset(config_file, gc_sheet)\n",
    "gc = pd.read_csv(gc_path)\n",
    "gc = dtype_trans(gc, gc_dataset)"
   ],
   "metadata": {
    "collapsed": false
   },
   "id": "5b6a303e987bb825",
   "execution_count": null
  },
  {
   "cell_type": "code",
   "outputs": [],
   "source": [],
   "metadata": {
    "collapsed": false
   },
   "id": "389b8d8231072313",
   "execution_count": null
  },
  {
   "cell_type": "code",
   "outputs": [],
   "source": [
    "gc_q4 = filter_df_by_date(gc, gc_dataset.dvars, threshold, comparison_type='a')"
   ],
   "metadata": {
    "collapsed": false
   },
   "id": "c2a5d5af5341e318",
   "execution_count": null
  },
  {
   "cell_type": "code",
   "outputs": [],
   "source": [
    "# gc_q4"
   ],
   "metadata": {
    "collapsed": false
   },
   "id": "2a43d6f592473b1e",
   "execution_count": null
  },
  {
   "cell_type": "code",
   "outputs": [],
   "source": [
    "ic_path = os.path.join(processed_data, 'ic_1223.csv')\n",
    "ic_sheet = 'IC'\n",
    "ic_dataset = Dataset(config_file, ic_sheet)\n",
    "ic = pd.read_csv(ic_path)\n",
    "ic = dtype_trans(ic, ic_dataset)"
   ],
   "metadata": {
    "collapsed": false
   },
   "id": "315d94d1719b9168",
   "execution_count": null
  },
  {
   "cell_type": "code",
   "outputs": [],
   "source": [
    "ic_q4 = filter_df_by_date(ic, ic_dataset.dvars, threshold, comparison_type='a')\n",
    "# ic_q4"
   ],
   "metadata": {
    "collapsed": false
   },
   "id": "2e28ebc1ab533a29",
   "execution_count": null
  },
  {
   "cell_type": "code",
   "outputs": [],
   "source": [
    "# (ic_q4[ic_dataset.dvars] > threshold).sum().sum()"
   ],
   "metadata": {
    "collapsed": false
   },
   "id": "95cc726a0e86e85f",
   "execution_count": null
  },
  {
   "cell_type": "code",
   "outputs": [],
   "source": [
    "pei_path = os.path.join(processed_data, 'pei_1223.csv')\n",
    "pei_sheet = 'PEI'\n",
    "pei_dataset = Dataset(config_file, pei_sheet)\n",
    "pei = pd.read_csv(pei_path)\n",
    "pei = dtype_trans(pei, pei_dataset)"
   ],
   "metadata": {
    "collapsed": false
   },
   "id": "ec3eec40eeb22ec0",
   "execution_count": null
  },
  {
   "cell_type": "code",
   "outputs": [],
   "source": [
    "pei_q4 = filter_df_by_date(pei, pei_dataset.dvars, threshold, comparison_type='a')\n",
    "# pei_q4"
   ],
   "metadata": {
    "collapsed": false
   },
   "id": "cc20d0ab1e249736",
   "execution_count": null
  },
  {
   "cell_type": "code",
   "outputs": [],
   "source": [
    "pei_q4 = pd.merge(pei_q4, unique_scr[['rid', 'sex', 'age']], on='rid', how='left')\n",
    "# pei_q4"
   ],
   "metadata": {
    "collapsed": false
   },
   "id": "5ca0f5d93a6ec758",
   "execution_count": null
  },
  {
   "cell_type": "code",
   "outputs": [],
   "source": [
    "# (pei_q4[['pei_s1', 'sex']].value_counts())"
   ],
   "metadata": {
    "collapsed": false
   },
   "id": "3c2bb183e1a73718",
   "execution_count": null
  },
  {
   "cell_type": "code",
   "outputs": [],
   "source": [
    "# (pei_q4[pei_dataset.dvars] > threshold).sum().sum()"
   ],
   "metadata": {
    "collapsed": false
   },
   "id": "bd9393e5ef6278c9",
   "execution_count": null
  },
  {
   "cell_type": "code",
   "outputs": [],
   "source": [
    "trw_path = os.path.join(processed_data, 'trw_1223.csv')\n",
    "trw_sheet = 'TRW'\n",
    "trw_dataset = Dataset(config_file, trw_sheet)\n",
    "trw = pd.read_csv(trw_path)\n",
    "trw = dtype_trans(trw, trw_dataset)"
   ],
   "metadata": {
    "collapsed": false
   },
   "id": "9614b0e2ec757ffa",
   "execution_count": null
  },
  {
   "cell_type": "code",
   "outputs": [],
   "source": [
    "trw_q4 = filter_df_by_date(trw, trw_dataset.dvars, threshold, comparison_type='a')\n",
    "# trw_q4"
   ],
   "metadata": {
    "collapsed": false
   },
   "id": "fa0058fc118b4ddc",
   "execution_count": null
  },
  {
   "cell_type": "code",
   "outputs": [],
   "source": [],
   "metadata": {
    "collapsed": false
   },
   "id": "94d04cf1c4a8938a"
  },
  {
   "cell_type": "code",
   "outputs": [],
   "source": [
    "cws_path = os.path.join(processed_data, 'cws_1223.csv')\n",
    "cws_sheet = 'CWS'\n",
    "cws_dataset = Dataset(config_file, cws_sheet)\n",
    "cws = pd.read_csv(cws_path)\n",
    "cws = dtype_trans(cws, cws_dataset)"
   ],
   "metadata": {
    "collapsed": false
   },
   "id": "40520e36497e815d",
   "execution_count": null
  },
  {
   "cell_type": "code",
   "outputs": [],
   "source": [
    "cws_q4 = filter_df_by_date(cws, cws_dataset.dvars, threshold, comparison_type='a')\n",
    "# cws_q4"
   ],
   "metadata": {
    "collapsed": false
   },
   "id": "2c8ac152e58896c2",
   "execution_count": null
  },
  {
   "cell_type": "code",
   "outputs": [],
   "source": [],
   "metadata": {
    "collapsed": false
   },
   "id": "7b3762ada94797d3"
  },
  {
   "cell_type": "code",
   "outputs": [],
   "source": [
    "aw_path = os.path.join(processed_data, 'aw_1223.csv')\n",
    "aw_sheet = 'AW'\n",
    "aw_dataset = Dataset(config_file, aw_sheet)\n",
    "aw = pd.read_csv(aw_path)\n",
    "aw = dtype_trans(aw, aw_dataset)"
   ],
   "metadata": {
    "collapsed": false
   },
   "id": "9b34ce0643f353f1",
   "execution_count": null
  },
  {
   "cell_type": "code",
   "outputs": [],
   "source": [
    "aw_q4 = filter_df_by_date(aw, aw_dataset.dvars, threshold, comparison_type='a')\n",
    "# aw_q4"
   ],
   "metadata": {
    "collapsed": false
   },
   "id": "47469cf90edf0d08",
   "execution_count": null
  },
  {
   "cell_type": "code",
   "outputs": [],
   "source": [
    "# aw_q4[['aws', 'sex']].value_counts()"
   ],
   "metadata": {
    "collapsed": false
   },
   "id": "41df205e1a23ad9a",
   "execution_count": null
  },
  {
   "cell_type": "code",
   "outputs": [],
   "source": [
    "# aw_q4['aws'].value_counts()"
   ],
   "metadata": {
    "collapsed": false
   },
   "id": "712005b32905c5bd",
   "execution_count": null
  },
  {
   "cell_type": "code",
   "outputs": [],
   "source": [],
   "metadata": {
    "collapsed": false
   },
   "id": "1d932a86cea7fc3b",
   "execution_count": null
  },
  {
   "cell_type": "code",
   "outputs": [],
   "source": [
    "gpt_path = os.path.join(processed_data, 'gpt_1223.csv')\n",
    "gpt_sheet = 'GPT'\n",
    "gpt_dataset = Dataset(config_file, gpt_sheet)\n",
    "gpt = pd.read_csv(gpt_path)\n",
    "gpt = dtype_trans(gpt, gpt_dataset)"
   ],
   "metadata": {
    "collapsed": false
   },
   "id": "de7b8b650bc459d4",
   "execution_count": null
  },
  {
   "cell_type": "code",
   "outputs": [],
   "source": [
    "gpt_q4 = filter_df_by_date(gpt, gpt_dataset.dvars, threshold, comparison_type='a')\n",
    "# gpt_q4"
   ],
   "metadata": {
    "collapsed": false
   },
   "id": "209a1432d760d06b",
   "execution_count": null
  },
  {
   "cell_type": "code",
   "outputs": [],
   "source": [
    "# (gpt_q4[gpt_dataset.dvars] > threshold).sum().sum()"
   ],
   "metadata": {
    "collapsed": false
   },
   "id": "fea70e9fa38d22a9",
   "execution_count": null
  },
  {
   "cell_type": "code",
   "outputs": [],
   "source": [],
   "metadata": {
    "collapsed": false,
    "ExecuteTime": {
     "end_time": "2024-01-08T11:24:37.156547100Z",
     "start_time": "2024-01-08T11:24:37.091846800Z"
    }
   },
   "id": "6926c55f44993c78",
   "execution_count": 2
  },
  {
   "cell_type": "code",
   "outputs": [],
   "source": [
    "ipt_path = os.path.join(processed_data, 'ipt_1223.csv')\n",
    "ipt_sheet = 'IPT'\n",
    "ipt_dataset = Dataset(config_file, ipt_sheet)\n",
    "ipt = pd.read_csv(ipt_path)\n",
    "ipt = dtype_trans(ipt, ipt_dataset)"
   ],
   "metadata": {
    "collapsed": false,
    "ExecuteTime": {
     "end_time": "2024-01-08T11:25:14.950090900Z",
     "start_time": "2024-01-08T11:25:14.837347700Z"
    }
   },
   "id": "2ef5576f7da9f169",
   "execution_count": 3
  },
  {
   "cell_type": "code",
   "outputs": [
    {
     "data": {
      "text/plain": "   iptsp  ptispi    rid        fcid firstname lastname    pt_i_s1    pt_i_s2  \\\n7     HJ       8  R0441  8110050063     فاطمة   الأحمد 2023-05-05 2023-05-12   \n8     HJ       9  R0183  8110020101      رفيق     خنوس 2023-06-05 2023-06-12   \n13    HJ      14  R0725  8110050097       ربا     قطشة 2023-08-04 2023-08-11   \n14    HJ      15  R0089  8110060012      حنان     جزار 2023-09-14 2023-11-16   \n15    HJ      16  R0599  8110050093      بسام     محمد 2023-11-03 2023-11-15   \n16    HJ      17  R0733  8110080014      محمد   الطباع 2023-11-16 2023-11-22   \n20    HR       2  R0582  8110050094      حمزة    حريري 2023-06-13 2023-06-19   \n22    HR       4  R0415  8110020102       قيس  أبونقطة 2023-04-19 2023-05-09   \n25    HR       7  R0333  8110020107     راميا     مراد 2023-09-26 2023-10-04   \n26    ZN       1  R0879  8110100013      محمد     سعيد 2023-12-18        NaT   \n\n      pt_i_s3    pt_i_s4  ... pt_i_s18 pt_i_s19 pt_i_s20 pt_i_s21 pt_i_s22  \\\n7  2023-05-24 2023-06-02  ...      NaT      NaT      NaT      NaT      NaT   \n8  2023-11-02 2023-11-06  ...      NaT      NaT      NaT      NaT      NaT   \n13 2023-08-25 2023-09-01  ...      NaT      NaT      NaT      NaT      NaT   \n14 2023-11-29 2023-12-08  ...      NaT      NaT      NaT      NaT      NaT   \n15 2023-11-21        NaT  ...      NaT      NaT      NaT      NaT      NaT   \n16 2023-11-29 2023-12-08  ...      NaT      NaT      NaT      NaT      NaT   \n20 2023-07-10 2023-07-17  ...      NaT      NaT      NaT      NaT      NaT   \n22 2023-05-16 2023-05-23  ...      NaT      NaT      NaT      NaT      NaT   \n25 2023-10-12        NaT  ...      NaT      NaT      NaT      NaT      NaT   \n26        NaT        NaT  ...      NaT      NaT      NaT      NaT      NaT   \n\n   pt_i_s23 pt_i_s24 pt_i_total pt_status  \\\n7       NaT      NaT          8      DONE   \n8       NaT      NaT          8      DONE   \n13      NaT      NaT         10    ACTIVE   \n14      NaT      NaT          5    ACTIVE   \n15      NaT      NaT          3      DONE   \n16      NaT      NaT          5    ACTIVE   \n20      NaT      NaT          7      DONE   \n22      NaT      NaT         14      DONE   \n25      NaT      NaT          3      DONE   \n26      NaT      NaT          0       NaN   \n\n                                                                                                                                                            note  \n7                                                                                          16.08.2023 this session indivisual compensatory session for session 5  \n8                                                                                          compensatory session because he had bowel cancer and had an operation  \n13                                                                                                                                                           NaN  \n14                                                                                                                                                           NaN  \n15                                                                                                                                         Compensatory session   \n16                                                                                                                                                           NaN  \n20           تم انهاء الجلسات الفردية وتم تحويله الى الجلسات الجماعية بتيسير هبة,بسبب عدم حضور 3 جلسات جماعية بسبب ظروف طارئة تم تحويله الى لحضور جلسات تعويضية   \n22  تم اجراء 4 جلسات من قبل الاخصائي عيسى,جلسة  فردية رقم 11 بتاريخ  18-10-2023,جلسة فردية رقم 12 بتاريخ  24-10-2023,جلسة فردية رقم 13 للمراجع بتاريخ 25-10-2023  \n25                                                                                                جلسات تعويضية بسبب غياب 5 جلسات عن الكروب بسبب السفر الى سوريا  \n26                                                                                                                                                           NaN  \n\n[10 rows x 33 columns]",
      "text/html": "<div>\n<style scoped>\n    .dataframe tbody tr th:only-of-type {\n        vertical-align: middle;\n    }\n\n    .dataframe tbody tr th {\n        vertical-align: top;\n    }\n\n    .dataframe thead th {\n        text-align: right;\n    }\n</style>\n<table border=\"1\" class=\"dataframe\">\n  <thead>\n    <tr style=\"text-align: right;\">\n      <th></th>\n      <th>iptsp</th>\n      <th>ptispi</th>\n      <th>rid</th>\n      <th>fcid</th>\n      <th>firstname</th>\n      <th>lastname</th>\n      <th>pt_i_s1</th>\n      <th>pt_i_s2</th>\n      <th>pt_i_s3</th>\n      <th>pt_i_s4</th>\n      <th>...</th>\n      <th>pt_i_s18</th>\n      <th>pt_i_s19</th>\n      <th>pt_i_s20</th>\n      <th>pt_i_s21</th>\n      <th>pt_i_s22</th>\n      <th>pt_i_s23</th>\n      <th>pt_i_s24</th>\n      <th>pt_i_total</th>\n      <th>pt_status</th>\n      <th>note</th>\n    </tr>\n  </thead>\n  <tbody>\n    <tr>\n      <th>7</th>\n      <td>HJ</td>\n      <td>8</td>\n      <td>R0441</td>\n      <td>8110050063</td>\n      <td>فاطمة</td>\n      <td>الأحمد</td>\n      <td>2023-05-05</td>\n      <td>2023-05-12</td>\n      <td>2023-05-24</td>\n      <td>2023-06-02</td>\n      <td>...</td>\n      <td>NaT</td>\n      <td>NaT</td>\n      <td>NaT</td>\n      <td>NaT</td>\n      <td>NaT</td>\n      <td>NaT</td>\n      <td>NaT</td>\n      <td>8</td>\n      <td>DONE</td>\n      <td>16.08.2023 this session indivisual compensatory session for session 5</td>\n    </tr>\n    <tr>\n      <th>8</th>\n      <td>HJ</td>\n      <td>9</td>\n      <td>R0183</td>\n      <td>8110020101</td>\n      <td>رفيق</td>\n      <td>خنوس</td>\n      <td>2023-06-05</td>\n      <td>2023-06-12</td>\n      <td>2023-11-02</td>\n      <td>2023-11-06</td>\n      <td>...</td>\n      <td>NaT</td>\n      <td>NaT</td>\n      <td>NaT</td>\n      <td>NaT</td>\n      <td>NaT</td>\n      <td>NaT</td>\n      <td>NaT</td>\n      <td>8</td>\n      <td>DONE</td>\n      <td>compensatory session because he had bowel cancer and had an operation</td>\n    </tr>\n    <tr>\n      <th>13</th>\n      <td>HJ</td>\n      <td>14</td>\n      <td>R0725</td>\n      <td>8110050097</td>\n      <td>ربا</td>\n      <td>قطشة</td>\n      <td>2023-08-04</td>\n      <td>2023-08-11</td>\n      <td>2023-08-25</td>\n      <td>2023-09-01</td>\n      <td>...</td>\n      <td>NaT</td>\n      <td>NaT</td>\n      <td>NaT</td>\n      <td>NaT</td>\n      <td>NaT</td>\n      <td>NaT</td>\n      <td>NaT</td>\n      <td>10</td>\n      <td>ACTIVE</td>\n      <td>NaN</td>\n    </tr>\n    <tr>\n      <th>14</th>\n      <td>HJ</td>\n      <td>15</td>\n      <td>R0089</td>\n      <td>8110060012</td>\n      <td>حنان</td>\n      <td>جزار</td>\n      <td>2023-09-14</td>\n      <td>2023-11-16</td>\n      <td>2023-11-29</td>\n      <td>2023-12-08</td>\n      <td>...</td>\n      <td>NaT</td>\n      <td>NaT</td>\n      <td>NaT</td>\n      <td>NaT</td>\n      <td>NaT</td>\n      <td>NaT</td>\n      <td>NaT</td>\n      <td>5</td>\n      <td>ACTIVE</td>\n      <td>NaN</td>\n    </tr>\n    <tr>\n      <th>15</th>\n      <td>HJ</td>\n      <td>16</td>\n      <td>R0599</td>\n      <td>8110050093</td>\n      <td>بسام</td>\n      <td>محمد</td>\n      <td>2023-11-03</td>\n      <td>2023-11-15</td>\n      <td>2023-11-21</td>\n      <td>NaT</td>\n      <td>...</td>\n      <td>NaT</td>\n      <td>NaT</td>\n      <td>NaT</td>\n      <td>NaT</td>\n      <td>NaT</td>\n      <td>NaT</td>\n      <td>NaT</td>\n      <td>3</td>\n      <td>DONE</td>\n      <td>Compensatory session</td>\n    </tr>\n    <tr>\n      <th>16</th>\n      <td>HJ</td>\n      <td>17</td>\n      <td>R0733</td>\n      <td>8110080014</td>\n      <td>محمد</td>\n      <td>الطباع</td>\n      <td>2023-11-16</td>\n      <td>2023-11-22</td>\n      <td>2023-11-29</td>\n      <td>2023-12-08</td>\n      <td>...</td>\n      <td>NaT</td>\n      <td>NaT</td>\n      <td>NaT</td>\n      <td>NaT</td>\n      <td>NaT</td>\n      <td>NaT</td>\n      <td>NaT</td>\n      <td>5</td>\n      <td>ACTIVE</td>\n      <td>NaN</td>\n    </tr>\n    <tr>\n      <th>20</th>\n      <td>HR</td>\n      <td>2</td>\n      <td>R0582</td>\n      <td>8110050094</td>\n      <td>حمزة</td>\n      <td>حريري</td>\n      <td>2023-06-13</td>\n      <td>2023-06-19</td>\n      <td>2023-07-10</td>\n      <td>2023-07-17</td>\n      <td>...</td>\n      <td>NaT</td>\n      <td>NaT</td>\n      <td>NaT</td>\n      <td>NaT</td>\n      <td>NaT</td>\n      <td>NaT</td>\n      <td>NaT</td>\n      <td>7</td>\n      <td>DONE</td>\n      <td>تم انهاء الجلسات الفردية وتم تحويله الى الجلسات الجماعية بتيسير هبة,بسبب عدم حضور 3 جلسات جماعية بسبب ظروف طارئة تم تحويله الى لحضور جلسات تعويضية</td>\n    </tr>\n    <tr>\n      <th>22</th>\n      <td>HR</td>\n      <td>4</td>\n      <td>R0415</td>\n      <td>8110020102</td>\n      <td>قيس</td>\n      <td>أبونقطة</td>\n      <td>2023-04-19</td>\n      <td>2023-05-09</td>\n      <td>2023-05-16</td>\n      <td>2023-05-23</td>\n      <td>...</td>\n      <td>NaT</td>\n      <td>NaT</td>\n      <td>NaT</td>\n      <td>NaT</td>\n      <td>NaT</td>\n      <td>NaT</td>\n      <td>NaT</td>\n      <td>14</td>\n      <td>DONE</td>\n      <td>تم اجراء 4 جلسات من قبل الاخصائي عيسى,جلسة  فردية رقم 11 بتاريخ  18-10-2023,جلسة فردية رقم 12 بتاريخ  24-10-2023,جلسة فردية رقم 13 للمراجع بتاريخ 25-10-2023</td>\n    </tr>\n    <tr>\n      <th>25</th>\n      <td>HR</td>\n      <td>7</td>\n      <td>R0333</td>\n      <td>8110020107</td>\n      <td>راميا</td>\n      <td>مراد</td>\n      <td>2023-09-26</td>\n      <td>2023-10-04</td>\n      <td>2023-10-12</td>\n      <td>NaT</td>\n      <td>...</td>\n      <td>NaT</td>\n      <td>NaT</td>\n      <td>NaT</td>\n      <td>NaT</td>\n      <td>NaT</td>\n      <td>NaT</td>\n      <td>NaT</td>\n      <td>3</td>\n      <td>DONE</td>\n      <td>جلسات تعويضية بسبب غياب 5 جلسات عن الكروب بسبب السفر الى سوريا</td>\n    </tr>\n    <tr>\n      <th>26</th>\n      <td>ZN</td>\n      <td>1</td>\n      <td>R0879</td>\n      <td>8110100013</td>\n      <td>محمد</td>\n      <td>سعيد</td>\n      <td>2023-12-18</td>\n      <td>NaT</td>\n      <td>NaT</td>\n      <td>NaT</td>\n      <td>...</td>\n      <td>NaT</td>\n      <td>NaT</td>\n      <td>NaT</td>\n      <td>NaT</td>\n      <td>NaT</td>\n      <td>NaT</td>\n      <td>NaT</td>\n      <td>0</td>\n      <td>NaN</td>\n      <td>NaN</td>\n    </tr>\n  </tbody>\n</table>\n<p>10 rows × 33 columns</p>\n</div>"
     },
     "execution_count": 6,
     "metadata": {},
     "output_type": "execute_result"
    }
   ],
   "source": [
    "ipt_q4 = filter_df_by_date(ipt, ipt_dataset.dvars, threshold, comparison_type='a')\n",
    "ipt_q4"
   ],
   "metadata": {
    "collapsed": false,
    "ExecuteTime": {
     "end_time": "2024-01-08T11:25:53.684998Z",
     "start_time": "2024-01-08T11:25:53.654856900Z"
    }
   },
   "id": "b12060037260bee1",
   "execution_count": 6
  },
  {
   "cell_type": "code",
   "outputs": [
    {
     "data": {
      "text/plain": "33"
     },
     "execution_count": 7,
     "metadata": {},
     "output_type": "execute_result"
    }
   ],
   "source": [
    "(ipt_q4[ipt_dataset.dvars] > threshold).sum().sum()"
   ],
   "metadata": {
    "collapsed": false,
    "ExecuteTime": {
     "end_time": "2024-01-08T11:28:27.224625700Z",
     "start_time": "2024-01-08T11:28:27.164293900Z"
    }
   },
   "id": "d86576eac2ede6de",
   "execution_count": 7
  },
  {
   "cell_type": "code",
   "outputs": [],
   "source": [],
   "metadata": {
    "collapsed": false
   },
   "id": "bf9addf8ee8404eb"
  }
 ],
 "metadata": {
  "kernelspec": {
   "display_name": "Python 3",
   "language": "python",
   "name": "python3"
  },
  "language_info": {
   "codemirror_mode": {
    "name": "ipython",
    "version": 2
   },
   "file_extension": ".py",
   "mimetype": "text/x-python",
   "name": "python",
   "nbconvert_exporter": "python",
   "pygments_lexer": "ipython2",
   "version": "2.7.6"
  }
 },
 "nbformat": 4,
 "nbformat_minor": 5
}
