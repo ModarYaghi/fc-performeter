{
 "cells": [
  {
   "cell_type": "code",
   "id": "initial_id",
   "metadata": {
    "collapsed": true
   },
   "source": [
    "import pandas as pd\n",
    "import numpy as np\n",
    "\n",
    "from src.all_in_one import *"
   ],
   "outputs": [],
   "execution_count": null
  },
  {
   "metadata": {},
   "cell_type": "code",
   "source": "processed_data_path = path_manager.processed_data",
   "id": "528454c9601986a4",
   "outputs": [],
   "execution_count": null
  },
  {
   "metadata": {},
   "cell_type": "code",
   "source": [
    "referral_id = pd.DataFrame()\n",
    "if os.path.exists(processed_data_path) and os.path.isdir(processed_data_path):\n",
    "    for file_name in os.listdir(processed_data_path):\n",
    "        if file_name.endswith('.csv'):\n",
    "            file_path = os.path.join(processed_data_path, file_name)\n",
    "            df = pd.read_csv(file_path)\n",
    "            df_rid = df['rid']\n",
    "            referral_id = pd.concat([referral_id, df_rid])"
   ],
   "id": "5603c8e8edbaa9cb",
   "outputs": [],
   "execution_count": null
  },
  {
   "metadata": {},
   "cell_type": "code",
   "source": [
    "referral_id = referral_id.drop_duplicates(keep='first')\n",
    "referral_id = referral_id.sort_values(by='rid', ascending=True).reset_index(drop=True)"
   ],
   "id": "f9567eed5679bbf",
   "outputs": [],
   "execution_count": null
  },
  {
   "metadata": {},
   "cell_type": "code",
   "source": [
    "scr_file = path_manager.get_data_file(Category.PS, PSFile.SCR)\n",
    "scr_dataset = Dataset(config_file, scr_file.sheet)\n",
    "scr = get_df(scr_file.path, scr_file.sheet, config_file)"
   ],
   "id": "540564c72e95584c",
   "outputs": [],
   "execution_count": null
  },
  {
   "metadata": {},
   "cell_type": "code",
   "source": "service_dataset = pd.merge(referral_id, scr, on='rid', how='left')",
   "id": "d5e1cf2ebf589285",
   "outputs": [],
   "execution_count": null
  },
  {
   "metadata": {},
   "cell_type": "code",
   "source": "# service_dataset",
   "id": "ebf076cdd9bbe88e",
   "outputs": [],
   "execution_count": null
  },
  {
   "metadata": {},
   "cell_type": "code",
   "source": [
    "scr_rid = scr[['rid', 'sc_s1']]\n",
    "scr_rid['is_duplicated'] = scr_rid['rid'].duplicated(keep=False)\n",
    "scr_rid['is_NaT'] = scr_rid['sc_s1'].isna()"
   ],
   "id": "70379d53fa8f9c68",
   "outputs": [],
   "execution_count": null
  },
  {
   "metadata": {},
   "cell_type": "code",
   "source": [
    "conditions = [\n",
    "    (scr_rid['is_duplicated'] & ~scr_rid['is_NaT']),\n",
    "    (scr_rid['is_duplicated'] & scr_rid['is_NaT']),\n",
    "    (~scr_rid['is_duplicated'])\n",
    "]\n",
    "\n",
    "choices = [1, 2, 0]\n",
    "\n",
    "scr_rid['duplicated'] = np.select(conditions, choices, default=2)"
   ],
   "id": "be16ee5018dc0a9d",
   "outputs": [],
   "execution_count": null
  },
  {
   "metadata": {},
   "cell_type": "code",
   "source": "scr_rid",
   "id": "91208cc1420b5b70",
   "outputs": [],
   "execution_count": null
  },
  {
   "metadata": {},
   "cell_type": "code",
   "source": "",
   "id": "5ca81b2faae69fa4",
   "outputs": [],
   "execution_count": null
  }
 ],
 "metadata": {
  "kernelspec": {
   "display_name": "Python 3",
   "language": "python",
   "name": "python3"
  },
  "language_info": {
   "codemirror_mode": {
    "name": "ipython",
    "version": 2
   },
   "file_extension": ".py",
   "mimetype": "text/x-python",
   "name": "python",
   "nbconvert_exporter": "python",
   "pygments_lexer": "ipython2",
   "version": "2.7.6"
  }
 },
 "nbformat": 4,
 "nbformat_minor": 5
}
