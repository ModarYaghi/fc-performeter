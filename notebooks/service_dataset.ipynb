{
 "cells": [
  {
   "cell_type": "code",
   "id": "initial_id",
   "metadata": {
    "collapsed": true
   },
   "source": [
    "import pandas as pd\n",
    "import numpy as np\n",
    "\n",
    "from src.all_in_one import *"
   ],
   "outputs": [],
   "execution_count": null
  },
  {
   "metadata": {},
   "cell_type": "code",
   "source": "processed_data_path = path_manager.processed_data",
   "id": "528454c9601986a4",
   "outputs": [],
   "execution_count": null
  },
  {
   "metadata": {},
   "cell_type": "code",
   "source": [
    "rid = pd.DataFrame()\n",
    "if os.path.exists(processed_data_path) and os.path.isdir(processed_data_path):\n",
    "    for file_name in os.listdir(processed_data_path):\n",
    "        if file_name.endswith('.csv'):\n",
    "            file_path = os.path.join(processed_data_path, file_name)\n",
    "            df = pd.read_csv(file_path)\n",
    "            df_rid = df['rid']\n",
    "            rid = pd.concat([rid, df_rid])"
   ],
   "id": "5603c8e8edbaa9cb",
   "outputs": [],
   "execution_count": null
  },
  {
   "metadata": {},
   "cell_type": "code",
   "source": [
    "rid = rid.drop_duplicates(keep='first')\n",
    "rid = rid.sort_values(by='rid', ascending=True).reset_index(drop=True)"
   ],
   "id": "f9567eed5679bbf",
   "outputs": [],
   "execution_count": null
  },
  {
   "metadata": {},
   "cell_type": "code",
   "source": [
    "scr_file = path_manager.get_data_file(Category.PS, PSFile.SCR)\n",
    "scr_dataset = Dataset(config_file, scr_file.sheet)\n",
    "scr = get_df(scr_file.path, scr_file.sheet, config_file).sort_values(by='sc_s1', ascending=True).reset_index(drop=True)"
   ],
   "id": "540564c72e95584c",
   "outputs": [],
   "execution_count": null
  },
  {
   "metadata": {},
   "cell_type": "code",
   "source": [
    "scr_0 = scr.drop(columns=['scspi','nat', 'need_mhpss', 'need_trw', 'need_out_ref', 'need_tmh', 'need_pei', 'note','pei_pre_as', 'sc_re']).dropna(subset=['sc_s1']).sort_values(by='sc_s1')  # Screening basic session. Records = 705\n",
    "re_scr = scr[['rid','sc_re']].dropna()  # Screening re. Records = 41\n",
    "pei_pre_as = scr[['rid','pei_pre_as']].dropna()  # PEI Assessment. Records = 36"
   ],
   "id": "370ac39a953bf866",
   "outputs": [],
   "execution_count": null
  },
  {
   "metadata": {},
   "cell_type": "code",
   "source": "pei_pre_as",
   "id": "475c35d7cf8581f3",
   "outputs": [],
   "execution_count": null
  },
  {
   "metadata": {},
   "cell_type": "code",
   "source": "re_scr",
   "id": "e34ed96f33a2c0e5",
   "outputs": [],
   "execution_count": null
  },
  {
   "metadata": {},
   "cell_type": "code",
   "source": "scr_0",
   "id": "c25088db303b2014",
   "outputs": [],
   "execution_count": null
  },
  {
   "metadata": {},
   "cell_type": "code",
   "source": "service_dataset = pd.merge(rid, scr, on='rid', how='left')",
   "id": "d5e1cf2ebf589285",
   "outputs": [],
   "execution_count": null
  },
  {
   "metadata": {},
   "cell_type": "code",
   "source": "# service_dataset",
   "id": "ebf076cdd9bbe88e",
   "outputs": [],
   "execution_count": null
  },
  {
   "metadata": {},
   "cell_type": "code",
   "source": [
    "scr_rid = scr[['rid', 'sc_s1']]\n",
    "scr_rid['is_duplicated'] = scr_rid['rid'].duplicated(keep=False)\n",
    "scr_rid['is_NaT'] = scr_rid['sc_s1'].isna()"
   ],
   "id": "70379d53fa8f9c68",
   "outputs": [],
   "execution_count": null
  },
  {
   "metadata": {},
   "cell_type": "code",
   "source": [
    "conditions = [\n",
    "    (scr_rid['is_duplicated'] & ~scr_rid['is_NaT']),\n",
    "    (scr_rid['is_duplicated'] & scr_rid['is_NaT']),\n",
    "    (~scr_rid['is_duplicated'])\n",
    "]\n",
    "\n",
    "choices = [1, 2, 0]\n",
    "\n",
    "scr_rid['duplicated'] = np.select(conditions, choices, default=2)"
   ],
   "id": "be16ee5018dc0a9d",
   "outputs": [],
   "execution_count": null
  },
  {
   "metadata": {},
   "cell_type": "code",
   "source": "scr_rid",
   "id": "91208cc1420b5b70",
   "outputs": [],
   "execution_count": null
  },
  {
   "metadata": {},
   "cell_type": "code",
   "source": [
    "from transliterate import translit\n",
    "import arabic_reshaper\n",
    "from bidi.algorithm import get_display"
   ],
   "id": "5ca81b2faae69fa4",
   "outputs": [],
   "execution_count": null
  },
  {
   "metadata": {},
   "cell_type": "code",
   "source": [
    "# Simple transliteration dictionary\n",
    "transliteration_dict = {\n",
    "    'ا': 'a', 'ب': 'b', 'ت': 't', 'ث': 'th', 'ج': 'j', 'ح': 'h', 'خ': 'kh',\n",
    "    'د': 'd', 'ذ': 'dh', 'ر': 'r', 'ز': 'z', 'س': 's', 'ش': 'sh', 'ص': 's',\n",
    "    'ض': 'd', 'ط': 't', 'ظ': 'z', 'ع': 'a', 'غ': 'gh', 'ف': 'f', 'ق': 'q',\n",
    "    'ك': 'k', 'ل': 'l', 'م': 'm', 'ن': 'n', 'ه': 'h', 'و': 'w', 'ي': 'y',\n",
    "    'ء': \"'\", 'آ': 'a', 'أ': 'a', 'ؤ': 'u', 'ئ': 'i', 'ى': 'a', 'ة': 'h'\n",
    "}"
   ],
   "id": "f7b9ef9b0b2037d8",
   "outputs": [],
   "execution_count": null
  },
  {
   "metadata": {},
   "cell_type": "code",
   "source": [
    "data = {\n",
    "    'First Name': [\n",
    "        \"فاطمة\", \"علي\", \"محمد\"\n",
    "    ],\n",
    "    'Last Name': [\n",
    "        \"عبدالله\", \" حسين\", \"أحمد\"\n",
    "    ]\n",
    "}\n",
    "\n",
    "df = pd.DataFrame(data)\n",
    "\n",
    "\n",
    "def transliterate_arabic(name):\n",
    "    reshaped_text = arabic_reshaper.reshape(name)\n",
    "    bidi_text = get_display(reshaped_text)\n",
    "    transliterated_text = ''.join(transliteration_dict.get(char, char) for char in bidi_text)\n",
    "    return translit(name, 'ar', reversed=True)\n",
    "\n",
    "df['First Name (Latin)'] = df['First Name'].apply(transliterate_arabic)\n",
    "df['Last Name (Latin)'] = df['Last Name'].apply(transliterate_arabic)\n",
    "\n",
    "df"
   ],
   "id": "64685862aa0951c5",
   "outputs": [],
   "execution_count": null
  },
  {
   "metadata": {},
   "cell_type": "code",
   "source": "",
   "id": "3d19b018a736cd5",
   "outputs": [],
   "execution_count": null
  }
 ],
 "metadata": {
  "kernelspec": {
   "display_name": "Python 3",
   "language": "python",
   "name": "python3"
  },
  "language_info": {
   "codemirror_mode": {
    "name": "ipython",
    "version": 2
   },
   "file_extension": ".py",
   "mimetype": "text/x-python",
   "name": "python",
   "nbconvert_exporter": "python",
   "pygments_lexer": "ipython2",
   "version": "2.7.6"
  }
 },
 "nbformat": 4,
 "nbformat_minor": 5
}
