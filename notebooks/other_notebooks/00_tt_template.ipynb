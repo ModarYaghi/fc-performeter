{
 "cells": [
  {
   "cell_type": "code",
   "execution_count": 1,
   "id": "initial_id",
   "metadata": {
    "collapsed": true,
    "ExecuteTime": {
     "end_time": "2023-09-19T10:42:01.389346500Z",
     "start_time": "2023-09-19T10:42:00.732289600Z"
    }
   },
   "outputs": [],
   "source": [
    "import pandas as pd\n",
    "import numpy as np\n",
    "import sys"
   ]
  },
  {
   "cell_type": "code",
   "execution_count": 2,
   "outputs": [],
   "source": [
    "# Avoid representing large numbers in scientific form. To reset, use the commented line.\n",
    "pd.set_option('display.float_format', '{:.1f}'.format)\n",
    "\n",
    "# Display maximum column width:\n",
    "pd.set_option('display.max_colwidth', None)\n"
   ],
   "metadata": {
    "collapsed": false,
    "ExecuteTime": {
     "end_time": "2023-09-19T10:42:01.416303100Z",
     "start_time": "2023-09-19T10:42:01.389346500Z"
    }
   },
   "id": "c96be7f3b7755bd6"
  },
  {
   "cell_type": "code",
   "execution_count": 3,
   "outputs": [],
   "source": [
    "date_placeholder = pd.Timestamp('1900-01-01') # date that indicates missing and/or not applicable date value"
   ],
   "metadata": {
    "collapsed": false,
    "ExecuteTime": {
     "end_time": "2023-09-19T10:42:01.416303100Z",
     "start_time": "2023-09-19T10:42:01.401201300Z"
    }
   },
   "id": "47ec7c18d3cd554a"
  },
  {
   "cell_type": "code",
   "execution_count": 4,
   "outputs": [],
   "source": [
    "var = pd.read_csv('')\n",
    "bar = pd.read_csv('')"
   ],
   "metadata": {
    "collapsed": false,
    "ExecuteTime": {
     "end_time": "2023-09-19T10:42:01.416303100Z",
     "start_time": "2023-09-19T10:42:01.401706500Z"
    }
   },
   "id": "d0523b086f5004e0"
  },
  {
   "cell_type": "code",
   "execution_count": 5,
   "outputs": [],
   "source": [
    "# strip leading and ending spaces of string values\n",
    "var = var.applymap(lambda x: x.strip() if isinstance(x, str) else x)\n",
    "bar = bar.applymap(lambda x: x.strip() if isinstance(x, str) else x)"
   ],
   "metadata": {
    "collapsed": false,
    "ExecuteTime": {
     "end_time": "2023-09-19T10:42:01.487955400Z",
     "start_time": "2023-09-19T10:42:01.430943600Z"
    }
   },
   "id": "5dbfe5220f66b811"
  },
  {
   "cell_type": "code",
   "execution_count": 10,
   "outputs": [],
   "source": [
    "# renaming dataset variables\n",
    "gpt_col_names = {\n",
    "    'gptsp': 'gpt_service_provider',\n",
    "    '#': 'gpt_source_index',\n",
    "    'Ref #': 'referral_num',\n",
    "    'FC ID #': 'fc_id',\n",
    "    'First': 'first_name',\n",
    "    'Last': 'last_name',\n",
    "    'Group name': 'group_class',\n",
    "    'S#1': 'gpts1_date',\n",
    "    'S#2': 'gpts2_date',\n",
    "    'S#3': 'gpts3_date',\n",
    "    'S#4': 'gpts4_date',\n",
    "    'S#5': 'gpts5_date',\n",
    "    'S#6': 'gpts6_date',\n",
    "    'S#7': 'gpts7_date',\n",
    "    'S#8': 'gpts8_date',\n",
    "    'S#9': 'gpts9_date',\n",
    "    'S#10': 'gpts10_date',\n",
    "    'Tot': 'gpts_tot_num',\n",
    "    'Status': 'gpts_status',\n",
    "    'Notes': 'note'\n",
    "}"
   ],
   "metadata": {
    "collapsed": false,
    "ExecuteTime": {
     "end_time": "2023-09-19T10:42:01.570396300Z",
     "start_time": "2023-09-19T10:42:01.498704300Z"
    }
   },
   "id": "5ee1061719a57589"
  }
 ],
 "metadata": {
  "kernelspec": {
   "display_name": "Python 3",
   "language": "python",
   "name": "python3"
  },
  "language_info": {
   "codemirror_mode": {
    "name": "ipython",
    "version": 2
   },
   "file_extension": ".py",
   "mimetype": "text/x-python",
   "name": "python",
   "nbconvert_exporter": "python",
   "pygments_lexer": "ipython2",
   "version": "2.7.6"
  }
 },
 "nbformat": 4,
 "nbformat_minor": 5
}
