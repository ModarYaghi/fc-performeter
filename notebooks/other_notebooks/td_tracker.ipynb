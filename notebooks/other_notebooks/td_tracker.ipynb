{
 "cells": [
  {
   "cell_type": "code",
   "execution_count": null,
   "id": "initial_id",
   "metadata": {
    "collapsed": true
   },
   "outputs": [],
   "source": [
    "import pandas as pd\n",
    "from Scripts.comparator import DataFrameComparator\n",
    "from Scripts.data_reader import *\n",
    "from Scripts.parse_funcs import *\n",
    "import warnings"
   ]
  },
  {
   "cell_type": "code",
   "execution_count": null,
   "outputs": [],
   "source": [
    "# Avoid representing large numbers in scientific form. To reset, use the commented line.\n",
    "pd.set_option('display.float_format', '{:.1f}'.format)\n",
    "# pd.reset_option('display.float_format')\n",
    "\n",
    "# Display maximum column width:\n",
    "pd.set_option('display.max_colwidth', None)\n",
    "\n",
    "# Suppress openpyxl data validation warning\n",
    "# TODO: How to embed this purpose in the ExcelDecryptor class?\n",
    "warnings.filterwarnings(\"ignore\", category=UserWarning, module=\"openpyxl\") "
   ],
   "metadata": {
    "collapsed": false
   },
   "id": "9bb1d77a60cedcc5"
  },
  {
   "cell_type": "code",
   "execution_count": null,
   "outputs": [],
   "source": [
    "path_to_ingredients_file = r'../../Config/ingredients.yaml'\n",
    "# path_to_excels_files_directory = r'../../Data/Raw/1023/'"
   ],
   "metadata": {
    "collapsed": false
   },
   "id": "b1cd85dd65509702"
  },
  {
   "cell_type": "code",
   "execution_count": null,
   "outputs": [],
   "source": [
    "features = YAMLDataReader(path_to_ingredients_file)\n",
    "# passwords = features.get_excel_passwords_by_directory(path_to_excels_files_directory)"
   ],
   "metadata": {
    "collapsed": false
   },
   "id": "4b5fd5676194f6c6"
  },
  {
   "cell_type": "code",
   "execution_count": null,
   "outputs": [],
   "source": [
    "sheet = 'TD'\n",
    "dataset = 'td_tracker'\n",
    "sp = 'tdsp'\n",
    "columns_names = features.get_variable_names_by_dataset(dataset)\n",
    "basic_columns = features.get_variable_names_by_dataset_and_level(dataset, 0)\n",
    "category_columns = features.get_variable_names_by_dataset_and_level(dataset, 2)\n",
    "date_columns = features.get_variable_names_by_dataset_and_type(dataset, 'datetime64[ns]')\n",
    "num_columns = features.get_variable_names_by_dataset_and_type(dataset, 'Int64')"
   ],
   "metadata": {
    "collapsed": false
   },
   "id": "587dc2274f673e15"
  },
  {
   "cell_type": "code",
   "execution_count": null,
   "outputs": [],
   "source": [
    "dataset = 'td'\n",
    "td_columns_names = features.get_variable_names_by_dataset(dataset)\n",
    "td_basic_columns = features.get_variable_names_by_dataset_and_level(dataset, 0)\n",
    "td_category_columns = features.get_variable_names_by_dataset_and_level(dataset, 2)\n",
    "td_date_columns = features.get_variable_names_by_dataset_and_type(dataset, 'datetime64[ns]')\n",
    "td_num_columns = features.get_variable_names_by_dataset_and_type(dataset, 'Int64')"
   ],
   "metadata": {
    "collapsed": false
   },
   "id": "a6ccfa5a7c802463"
  },
  {
   "cell_type": "code",
   "execution_count": null,
   "outputs": [],
   "source": [
    "# decryptor = ExcelDecryptor(path_to_excels_files_directory, passwords)\n",
    "# datasets = decryptor.read_encrypted_excels()"
   ],
   "metadata": {
    "collapsed": false
   },
   "id": "bedf68b82320ffe5"
  },
  {
   "cell_type": "code",
   "execution_count": null,
   "outputs": [],
   "source": [
    "# decryptor.print_data_structure"
   ],
   "metadata": {
    "collapsed": false
   },
   "id": "112ec015f322b233"
  },
  {
   "cell_type": "code",
   "execution_count": null,
   "outputs": [],
   "source": [
    "# td_tracker = datasets['td_tracker.xlsx'][sheet]"
   ],
   "metadata": {
    "collapsed": false
   },
   "id": "b84416f34ff81c37"
  },
  {
   "cell_type": "code",
   "execution_count": null,
   "outputs": [],
   "source": [
    "# td_tracker = td_tracker.drop(columns=['Unnamed: 22', 'Unnamed: 23', 'Unnamed: 24', 'Unnamed: 25', 'Unnamed: 26'])"
   ],
   "metadata": {
    "collapsed": false
   },
   "id": "309ab16f3eaa9fb5"
  },
  {
   "cell_type": "code",
   "execution_count": null,
   "outputs": [],
   "source": [
    "# td_tracker.columns = columns_names"
   ],
   "metadata": {
    "collapsed": false
   },
   "id": "e56cc8d72622ffd3"
  },
  {
   "cell_type": "code",
   "execution_count": null,
   "outputs": [],
   "source": [
    "# td_tracker"
   ],
   "metadata": {
    "collapsed": false
   },
   "id": "492b5c00cd3331f"
  },
  {
   "cell_type": "code",
   "execution_count": null,
   "outputs": [],
   "source": [
    "# td_tracker.to_csv(r'../../Data/Processed/1023/td_tracker_1023.csv', index=False)"
   ],
   "metadata": {
    "collapsed": false
   },
   "id": "ed79f0a774402256"
  },
  {
   "cell_type": "code",
   "execution_count": null,
   "outputs": [],
   "source": [
    "columns_to_compare = basic_columns + category_columns\n",
    "columns_to_compare"
   ],
   "metadata": {
    "collapsed": false
   },
   "id": "cc4b8156a750a7a3"
  },
  {
   "cell_type": "code",
   "execution_count": null,
   "outputs": [],
   "source": [
    "td_tracker = pd.read_csv(r'../../Data/Processed/1023/td_tracker_1023.csv')\n",
    "td_tracker"
   ],
   "metadata": {
    "collapsed": false
   },
   "id": "8efe9d8cc3ff9ef7"
  },
  {
   "cell_type": "code",
   "execution_count": null,
   "outputs": [],
   "source": [
    "td = pd.read_csv(r'../../Data/Processed/1023/pstd_1023.csv')\n",
    "td"
   ],
   "metadata": {
    "collapsed": false
   },
   "id": "aa9b173e767fc046"
  },
  {
   "cell_type": "code",
   "execution_count": null,
   "outputs": [],
   "source": [
    "td_tracker2 = td_tracker[columns_to_compare]"
   ],
   "metadata": {
    "collapsed": false
   },
   "id": "7c48aa4fe091a88"
  },
  {
   "cell_type": "code",
   "execution_count": null,
   "outputs": [],
   "source": [
    "td_tracker2"
   ],
   "metadata": {
    "collapsed": false
   },
   "id": "4332db62225684aa"
  },
  {
   "cell_type": "code",
   "execution_count": null,
   "outputs": [],
   "source": [
    "td2 = td[columns_to_compare]"
   ],
   "metadata": {
    "collapsed": false
   },
   "id": "94c3757c7a16abe0"
  },
  {
   "cell_type": "code",
   "execution_count": null,
   "outputs": [],
   "source": [
    "td2"
   ],
   "metadata": {
    "collapsed": false
   },
   "id": "80572c14a572ebcb"
  },
  {
   "cell_type": "code",
   "execution_count": null,
   "outputs": [],
   "source": [
    "def compare_two_dataframes_identifiers(new_df, old_df, identifier) -> Tuple[pd.DataFrame, pd.DataFrame, pd.DataFrame]:\n",
    "    common_ids = new_df[identifier].isin(old_df[identifier])\n",
    "    unique_ids_new = new_df[~common_ids]\n",
    "    unique_ids_old = old_df[~old_df[identifier].isin(new_df[identifier])]\n",
    "    common_ids_new_df = new_df[common_ids]\n",
    "    return common_ids_new_df, unique_ids_new, unique_ids_old"
   ],
   "metadata": {
    "collapsed": false
   },
   "id": "80f35aa6fd12ea3e"
  },
  {
   "cell_type": "code",
   "execution_count": null,
   "outputs": [],
   "source": [
    "common_ids_td, unique_ids_td, unique_ids_tdt = compare_two_dataframes_identifiers(td2, td_tracker2, 'fcid')"
   ],
   "metadata": {
    "collapsed": false
   },
   "id": "81402883a35bdc08"
  },
  {
   "cell_type": "code",
   "execution_count": null,
   "outputs": [],
   "source": [
    "unique_ids_td"
   ],
   "metadata": {
    "collapsed": false
   },
   "id": "a0766c3098499998"
  },
  {
   "cell_type": "code",
   "execution_count": null,
   "outputs": [],
   "source": [
    "unique_ids_tdt"
   ],
   "metadata": {
    "collapsed": false
   },
   "id": "3a52b760c3e7b286"
  },
  {
   "cell_type": "code",
   "execution_count": null,
   "outputs": [],
   "source": [
    "common_ids_td"
   ],
   "metadata": {
    "collapsed": false
   },
   "id": "6ac9a04935b91494"
  },
  {
   "cell_type": "code",
   "execution_count": null,
   "outputs": [],
   "source": [
    "td_tracker3 = td_tracker2[~td_tracker2['fcid'].isin(unique_ids_tdt['fcid'])]"
   ],
   "metadata": {
    "collapsed": false
   },
   "id": "74417bfdb7735acc"
  },
  {
   "cell_type": "code",
   "execution_count": null,
   "outputs": [],
   "source": [
    "td_tracker3"
   ],
   "metadata": {
    "collapsed": false
   },
   "id": "a3e2b1c195ffb346"
  },
  {
   "cell_type": "code",
   "execution_count": null,
   "outputs": [],
   "source": [
    "td3 = common_ids_td.sort_values(by='rid', ignore_index=True) "
   ],
   "metadata": {
    "collapsed": false
   },
   "id": "dcc682f6d544aa0a"
  },
  {
   "cell_type": "code",
   "execution_count": null,
   "outputs": [],
   "source": [
    "td3"
   ],
   "metadata": {
    "collapsed": false
   },
   "id": "80a49e3f3d504fc8"
  },
  {
   "cell_type": "code",
   "execution_count": null,
   "outputs": [],
   "source": [
    "td3[td_date_columns] = td3[td_date_columns].apply(lambda x: pd.to_datetime(x).dt.date)"
   ],
   "metadata": {
    "collapsed": false
   },
   "id": "12efce9272cdf46c"
  },
  {
   "cell_type": "code",
   "execution_count": null,
   "outputs": [],
   "source": [
    "td3"
   ],
   "metadata": {
    "collapsed": false
   },
   "id": "71e3ded34e6864e9"
  },
  {
   "cell_type": "code",
   "execution_count": null,
   "outputs": [],
   "source": [
    "td_tracker3 = td_tracker3.sort_values(by='rid', ignore_index=True)"
   ],
   "metadata": {
    "collapsed": false
   },
   "id": "d249483497c3992"
  },
  {
   "cell_type": "code",
   "execution_count": null,
   "outputs": [],
   "source": [
    "td_tracker3[td_date_columns] = td_tracker3[td_date_columns].apply(lambda x: pd.to_datetime(x).dt.date)"
   ],
   "metadata": {
    "collapsed": false
   },
   "id": "c541b27f10f6aced"
  },
  {
   "cell_type": "code",
   "execution_count": null,
   "outputs": [],
   "source": [
    "td_tracker3"
   ],
   "metadata": {
    "collapsed": false
   },
   "id": "ba625e0215505e6b"
  },
  {
   "cell_type": "code",
   "execution_count": null,
   "outputs": [],
   "source": [
    "td3.compare(td_tracker3, align_axis=0, keep_shape=True, keep_equal=True)"
   ],
   "metadata": {
    "collapsed": false
   },
   "id": "9cba42eed3b519b4"
  },
  {
   "cell_type": "code",
   "execution_count": null,
   "outputs": [],
   "source": [
    "differences = td3.set_index('rid').compare(td_tracker3.set_index('rid'), align_axis=0, keep_shape=True, keep_equal=False)"
   ],
   "metadata": {
    "collapsed": false
   },
   "id": "ef895dd812c3b6ec"
  },
  {
   "cell_type": "code",
   "execution_count": null,
   "outputs": [],
   "source": [
    "differences"
   ],
   "metadata": {
    "collapsed": false
   },
   "id": "72e6b162c14c269d"
  },
  {
   "cell_type": "code",
   "execution_count": null,
   "outputs": [],
   "source": [
    "unique_ids_td"
   ],
   "metadata": {
    "collapsed": false
   },
   "id": "af9ab3f5d70f32d3"
  },
  {
   "cell_type": "code",
   "execution_count": null,
   "outputs": [],
   "source": [
    "unique_ids_td_rid = unique_ids_td['rid']"
   ],
   "metadata": {
    "collapsed": false
   },
   "id": "a7a3950578dbe7bc"
  },
  {
   "cell_type": "code",
   "execution_count": null,
   "outputs": [],
   "source": [
    "td[td['rid'].isin(unique_ids_td_rid)]"
   ],
   "metadata": {
    "collapsed": false
   },
   "id": "57ba0a7cef780f52"
  },
  {
   "cell_type": "code",
   "execution_count": null,
   "outputs": [],
   "source": [],
   "metadata": {
    "collapsed": false
   },
   "id": "b7a43cdd852ac207"
  },
  {
   "cell_type": "code",
   "execution_count": null,
   "outputs": [],
   "source": [],
   "metadata": {
    "collapsed": false
   },
   "id": "14ab716561987226"
  }
 ],
 "metadata": {
  "kernelspec": {
   "display_name": "Python 3",
   "language": "python",
   "name": "python3"
  },
  "language_info": {
   "codemirror_mode": {
    "name": "ipython",
    "version": 2
   },
   "file_extension": ".py",
   "mimetype": "text/x-python",
   "name": "python",
   "nbconvert_exporter": "python",
   "pygments_lexer": "ipython2",
   "version": "2.7.6"
  }
 },
 "nbformat": 4,
 "nbformat_minor": 5
}
