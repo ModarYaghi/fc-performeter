{
 "cells": [
  {
   "cell_type": "code",
   "execution_count": 1,
   "id": "initial_id",
   "metadata": {
    "collapsed": true,
    "ExecuteTime": {
     "end_time": "2024-01-24T07:13:10.076394400Z",
     "start_time": "2024-01-24T07:13:09.086947900Z"
    }
   },
   "outputs": [],
   "source": [
    "from src.append_to_xlsx import *"
   ]
  },
  {
   "cell_type": "code",
   "outputs": [],
   "source": [
    "folder = r\"C:\\Users\\myagh\\fc-performeter\\data\\processed\\_1223\""
   ],
   "metadata": {
    "collapsed": false,
    "ExecuteTime": {
     "end_time": "2024-01-24T07:14:41.815006500Z",
     "start_time": "2024-01-24T07:14:41.805511600Z"
    }
   },
   "id": "a80a9bca8fccefad",
   "execution_count": 8
  },
  {
   "cell_type": "code",
   "outputs": [
    {
     "name": "stdout",
     "output_type": "stream",
     "text": [
      "C:\\Users\\myagh\\fc-performeter\\data\\processed\\_1223\n"
     ]
    }
   ],
   "source": [
    "print(folder)"
   ],
   "metadata": {
    "collapsed": false,
    "ExecuteTime": {
     "end_time": "2024-01-24T07:14:42.415654700Z",
     "start_time": "2024-01-24T07:14:42.407977600Z"
    }
   },
   "id": "45a50b4b259802b",
   "execution_count": 9
  },
  {
   "cell_type": "code",
   "outputs": [
    {
     "name": "stdout",
     "output_type": "stream",
     "text": [
      "OK\n"
     ]
    }
   ],
   "source": [
    "if os.path.exists(folder):\n",
    "    print(\"OK\")\n",
    "else:\n",
    "    print(\"folder does not exist\")"
   ],
   "metadata": {
    "collapsed": false,
    "ExecuteTime": {
     "end_time": "2024-01-24T07:14:43.410454700Z",
     "start_time": "2024-01-24T07:14:43.402432600Z"
    }
   },
   "id": "f3f85d9dd7b54c28",
   "execution_count": 10
  },
  {
   "cell_type": "code",
   "outputs": [],
   "source": [
    "for filename in os.listdir(folder):\n",
    "    filepath = os.path.join(folder, filename)\n",
    "    \n",
    "    df = pd.read_csv(filepath)\n",
    "    \n",
    "    df.to_excel(filename + \".xlsx\", sheet_name=filename)"
   ],
   "metadata": {
    "collapsed": false,
    "ExecuteTime": {
     "end_time": "2024-01-24T07:35:36.324864700Z",
     "start_time": "2024-01-24T07:35:34.535097400Z"
    }
   },
   "id": "34d06a23e6c48f6",
   "execution_count": 11
  },
  {
   "cell_type": "code",
   "outputs": [],
   "source": [],
   "metadata": {
    "collapsed": false
   },
   "id": "bc9a9a93d2edfa8b"
  }
 ],
 "metadata": {
  "kernelspec": {
   "display_name": "Python 3",
   "language": "python",
   "name": "python3"
  },
  "language_info": {
   "codemirror_mode": {
    "name": "ipython",
    "version": 2
   },
   "file_extension": ".py",
   "mimetype": "text/x-python",
   "name": "python",
   "nbconvert_exporter": "python",
   "pygments_lexer": "ipython2",
   "version": "2.7.6"
  }
 },
 "nbformat": 4,
 "nbformat_minor": 5
}
