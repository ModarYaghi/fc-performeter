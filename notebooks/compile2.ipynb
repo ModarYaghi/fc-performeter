{
 "cells": [
  {
   "cell_type": "code",
   "execution_count": 1,
   "id": "9af057863545c3d5",
   "metadata": {
    "ExecuteTime": {
     "end_time": "2024-02-15T10:18:20.951044400Z",
     "start_time": "2024-02-15T10:18:19.576402600Z"
    },
    "collapsed": false,
    "jupyter": {
     "outputs_hidden": false
    }
   },
   "outputs": [],
   "source": [
    "import os.path\n",
    "from src.all_in_one import *"
   ]
  },
  {
   "cell_type": "code",
   "execution_count": 2,
   "id": "d6276e035f086cd",
   "metadata": {
    "ExecuteTime": {
     "end_time": "2024-02-15T10:18:21.672023300Z",
     "start_time": "2024-02-15T10:18:21.660940600Z"
    },
    "collapsed": false,
    "jupyter": {
     "outputs_hidden": false
    }
   },
   "outputs": [],
   "source": [
    "csvs = ['00_psscr_0124.csv', \n",
    "        '01_psint_0124.csv', \n",
    "        '02_psgc_0124.csv', \n",
    "        '03_psic_0124.csv', \n",
    "        '04_psfua_0124.csv', \n",
    "        '05_pspei_0124.csv', \n",
    "        '06_pstrw_0124.csv', \n",
    "        '07_pstd_0124.csv', \n",
    "        '08_pscws_0124.csv', \n",
    "        '09_psaw_0124.csv', \n",
    "        '10_ptpsfs_0124.csv', \n",
    "        '11_ptptint_0124.csv', \n",
    "        '12_ptgpt_0124.csv', \n",
    "        '13_ptipt_0124.csv', \n",
    "        '14_ptfua_0124.csv']\n",
    "\n",
    "datasets = {\n",
    "    'scr': ['Scr', csvs[0]],\n",
    "    'int': ['Int', csvs[1]],\n",
    "    'gc': ['GC', csvs[2]],\n",
    "    'ic': ['IC', csvs[3]],\n",
    "    'psfua': ['FUA', csvs[4]],\n",
    "    'pei': ['PEI', csvs[5]],\n",
    "    'trw': ['TRW', csvs[6]],\n",
    "    'td': ['TD', csvs[7]],\n",
    "    'cws': ['CWS', csvs[8]],\n",
    "    'aw': ['AW', csvs[9]],\n",
    "    'psfs': ['PSFS', csvs[10]],\n",
    "    'ptint': ['PT Int', csvs[11]],\n",
    "    'gpt': ['GPT', csvs[12]],\n",
    "    'ipt': ['IPT', csvs[13]],\n",
    "    'ptfua': ['FUA', csvs[14]]\n",
    "}"
   ]
  },
  {
   "cell_type": "code",
   "execution_count": 7,
   "id": "c278838591dd240c",
   "metadata": {
    "ExecuteTime": {
     "end_time": "2024-02-15T10:21:36.224505100Z",
     "start_time": "2024-02-15T10:21:36.211750500Z"
    },
    "collapsed": false,
    "jupyter": {
     "outputs_hidden": false
    }
   },
   "outputs": [],
   "source": [
    "def read_df(dataset_dict_value, csv_dict_value, columns_to_drop=None):\n",
    "    df_path = os.path.join(processed_data, csv_dict_value)\n",
    "    df_sheet = dataset_dict_value\n",
    "    df_dataset = Dataset(config_file, df_sheet)\n",
    "    df = pd.read_csv(df_path)\n",
    "    df = dtype_trans(df, df_dataset)\n",
    "    if columns_to_drop:\n",
    "        df.drop(columns_to_drop, axis=1, inplace=True)\n",
    "    return df"
   ]
  },
  {
   "cell_type": "code",
   "execution_count": null,
   "id": "6337ae86fec4b930",
   "metadata": {
    "collapsed": false,
    "jupyter": {
     "outputs_hidden": false
    }
   },
   "outputs": [],
   "source": [
    "# scr_path = os.path.join(processed_data, '00_psscr_0124.csv')\n",
    "# scr_sheet = 'Scr'\n",
    "# scr_dataset = Dataset(config_file, scr_sheet)\n",
    "# scr = pd.read_csv(scr_path)\n",
    "# scr = dtype_trans(scr, scr_dataset)\n",
    "# scr = scr.drop"
   ]
  },
  {
   "cell_type": "code",
   "execution_count": 12,
   "id": "c86eb9d60273dc2f",
   "metadata": {
    "ExecuteTime": {
     "end_time": "2024-02-15T10:30:32.810053400Z",
     "start_time": "2024-02-15T10:30:32.678190200Z"
    },
    "collapsed": false,
    "jupyter": {
     "outputs_hidden": false
    }
   },
   "outputs": [],
   "source": [
    "scr = read_df(datasets['scr'][0], datasets['scr'][1], columns_to_drop=['note'])\n",
    "scr.to_clipboard()"
   ]
  },
  {
   "cell_type": "code",
   "execution_count": 13,
   "id": "6a2989a8fcf1e75a",
   "metadata": {
    "ExecuteTime": {
     "end_time": "2024-02-15T10:32:16.781903600Z",
     "start_time": "2024-02-15T10:32:16.645748200Z"
    },
    "collapsed": false,
    "jupyter": {
     "outputs_hidden": false
    }
   },
   "outputs": [],
   "source": [
    "int = read_df(datasets['int'][0], datasets['int'][1], columns_to_drop=['note'])\n",
    "int.to_clipboard()"
   ]
  },
  {
   "cell_type": "code",
   "execution_count": 14,
   "id": "7e0ffb1d668a9438",
   "metadata": {
    "ExecuteTime": {
     "end_time": "2024-02-15T10:34:02.370372400Z",
     "start_time": "2024-02-15T10:34:02.228638900Z"
    },
    "collapsed": false,
    "jupyter": {
     "outputs_hidden": false
    }
   },
   "outputs": [],
   "source": [
    "gc = read_df(datasets['gc'][0], datasets['gc'][1], columns_to_drop=['note'])\n",
    "gc.to_clipboard()"
   ]
  },
  {
   "cell_type": "code",
   "execution_count": 15,
   "id": "f83903cf49cc206",
   "metadata": {
    "ExecuteTime": {
     "end_time": "2024-02-15T10:35:03.368288700Z",
     "start_time": "2024-02-15T10:35:03.254496400Z"
    },
    "collapsed": false,
    "jupyter": {
     "outputs_hidden": false
    }
   },
   "outputs": [],
   "source": [
    "ic = read_df(datasets['ic'][0], datasets['ic'][1], columns_to_drop=['note'])\n",
    "ic.to_clipboard()"
   ]
  },
  {
   "cell_type": "code",
   "execution_count": 16,
   "id": "28eff98b8fbaa435",
   "metadata": {
    "ExecuteTime": {
     "end_time": "2024-02-15T10:36:04.333293500Z",
     "start_time": "2024-02-15T10:36:04.187466400Z"
    },
    "collapsed": false,
    "jupyter": {
     "outputs_hidden": false
    }
   },
   "outputs": [],
   "source": [
    "psfua = read_df(datasets['psfua'][0], datasets['psfua'][1], columns_to_drop=['note'])\n",
    "psfua.to_clipboard()"
   ]
  },
  {
   "cell_type": "code",
   "execution_count": 17,
   "id": "ecf678033cd4dd09",
   "metadata": {
    "ExecuteTime": {
     "end_time": "2024-02-15T10:40:39.874203600Z",
     "start_time": "2024-02-15T10:40:39.749290500Z"
    },
    "collapsed": false,
    "jupyter": {
     "outputs_hidden": false
    }
   },
   "outputs": [],
   "source": [
    "pei = read_df(datasets['pei'][0], datasets['pei'][1], columns_to_drop=['note'])\n",
    "pei.to_clipboard()"
   ]
  },
  {
   "cell_type": "code",
   "execution_count": 18,
   "id": "19b6cd54be9bd5c0",
   "metadata": {
    "ExecuteTime": {
     "end_time": "2024-02-15T10:41:40.436765200Z",
     "start_time": "2024-02-15T10:41:40.321952Z"
    },
    "collapsed": false,
    "jupyter": {
     "outputs_hidden": false
    }
   },
   "outputs": [],
   "source": [
    "trw = read_df(datasets['trw'][0], datasets['trw'][1], columns_to_drop=['note'])\n",
    "trw.to_clipboard()"
   ]
  },
  {
   "cell_type": "code",
   "execution_count": 19,
   "id": "7df44475c966c41c",
   "metadata": {
    "ExecuteTime": {
     "end_time": "2024-02-15T10:43:04.170660Z",
     "start_time": "2024-02-15T10:43:04.009667600Z"
    },
    "collapsed": false,
    "jupyter": {
     "outputs_hidden": false
    }
   },
   "outputs": [],
   "source": [
    "td = read_df(datasets['td'][0], datasets['td'][1], columns_to_drop=['note'])\n",
    "td.to_clipboard()"
   ]
  },
  {
   "cell_type": "code",
   "execution_count": 20,
   "id": "1c910f67197be138",
   "metadata": {
    "ExecuteTime": {
     "end_time": "2024-02-15T10:44:22.422443400Z",
     "start_time": "2024-02-15T10:44:22.287869900Z"
    },
    "collapsed": false,
    "jupyter": {
     "outputs_hidden": false
    }
   },
   "outputs": [],
   "source": [
    "cws = read_df(datasets['cws'][0], datasets['cws'][1], columns_to_drop=['note'])\n",
    "cws.to_clipboard()"
   ]
  },
  {
   "cell_type": "code",
   "execution_count": 21,
   "id": "e9ee2db6c25c22d6",
   "metadata": {
    "ExecuteTime": {
     "end_time": "2024-02-15T10:45:10.376004400Z",
     "start_time": "2024-02-15T10:45:10.239190Z"
    },
    "collapsed": false,
    "jupyter": {
     "outputs_hidden": false
    }
   },
   "outputs": [],
   "source": [
    "aw = read_df(datasets['aw'][0], datasets['aw'][1], columns_to_drop=['note'])\n",
    "aw.to_clipboard()"
   ]
  },
  {
   "cell_type": "code",
   "execution_count": 22,
   "id": "ec7d37b42ca86f02",
   "metadata": {
    "ExecuteTime": {
     "end_time": "2024-02-15T10:46:21.057640100Z",
     "start_time": "2024-02-15T10:46:20.926617300Z"
    },
    "collapsed": false,
    "jupyter": {
     "outputs_hidden": false
    }
   },
   "outputs": [],
   "source": [
    "psfs = read_df(datasets['psfs'][0], datasets['psfs'][1], columns_to_drop=['note'])\n",
    "psfs.to_clipboard()"
   ]
  },
  {
   "cell_type": "code",
   "execution_count": 23,
   "id": "b044dedc82d52ac9",
   "metadata": {
    "ExecuteTime": {
     "end_time": "2024-02-15T10:47:07.481599500Z",
     "start_time": "2024-02-15T10:47:07.366114100Z"
    },
    "collapsed": false,
    "jupyter": {
     "outputs_hidden": false
    }
   },
   "outputs": [],
   "source": [
    "ptint = read_df(datasets['ptint'][0], datasets['ptint'][1], columns_to_drop=['note'])\n",
    "ptint.to_clipboard()"
   ]
  },
  {
   "cell_type": "code",
   "execution_count": 24,
   "id": "3943c3faa70881fd",
   "metadata": {
    "ExecuteTime": {
     "end_time": "2024-02-15T10:47:54.843145400Z",
     "start_time": "2024-02-15T10:47:54.709755500Z"
    },
    "collapsed": false,
    "jupyter": {
     "outputs_hidden": false
    }
   },
   "outputs": [],
   "source": [
    "gpt = read_df(datasets['gpt'][0], datasets['gpt'][1], columns_to_drop=['note'])\n",
    "gpt.to_clipboard()"
   ]
  },
  {
   "cell_type": "code",
   "execution_count": 25,
   "id": "f6e537f17b65bdb6",
   "metadata": {
    "ExecuteTime": {
     "end_time": "2024-02-15T10:48:45.815396Z",
     "start_time": "2024-02-15T10:48:45.697609200Z"
    },
    "collapsed": false,
    "jupyter": {
     "outputs_hidden": false
    }
   },
   "outputs": [],
   "source": [
    "ipt = read_df(datasets['ipt'][0], datasets['ipt'][1], columns_to_drop=['note'])\n",
    "ipt.to_clipboard()"
   ]
  },
  {
   "cell_type": "code",
   "execution_count": 26,
   "id": "20570c26ef774b4",
   "metadata": {
    "ExecuteTime": {
     "end_time": "2024-02-15T10:49:51.479386200Z",
     "start_time": "2024-02-15T10:49:51.236504200Z"
    },
    "collapsed": false,
    "jupyter": {
     "outputs_hidden": false
    }
   },
   "outputs": [],
   "source": [
    "ptfua = read_df(datasets['ptfua'][0], datasets['ptfua'][1], columns_to_drop=['note'])\n",
    "ptfua.to_clipboard()"
   ]
  }
 ],
 "metadata": {
  "kernelspec": {
   "display_name": "Python 3 (ipykernel)",
   "language": "python",
   "name": "python3"
  },
  "language_info": {
   "codemirror_mode": {
    "name": "ipython",
    "version": 3
   },
   "file_extension": ".py",
   "mimetype": "text/x-python",
   "name": "python",
   "nbconvert_exporter": "python",
   "pygments_lexer": "ipython3",
   "version": "3.12.2"
  }
 },
 "nbformat": 4,
 "nbformat_minor": 5
}
