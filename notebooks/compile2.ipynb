{
 "cells": [
  {
   "cell_type": "code",
   "source": [
    "import os.path\n",
    "from src.all_in_one import *"
   ],
   "metadata": {
    "collapsed": false,
    "ExecuteTime": {
     "end_time": "2024-02-15T10:18:20.951044400Z",
     "start_time": "2024-02-15T10:18:19.576402600Z"
    }
   },
   "id": "9af057863545c3d5",
   "execution_count": 1,
   "outputs": []
  },
  {
   "cell_type": "code",
   "source": [
    "csvs = ['00_psscr_0124.csv', '01_psint_0124.csv', '02_psgc_0124.csv', '03_psic_0124.csv', '04_psfua_0124.csv', '05_pspei_0124.csv', '06_pstrw_0124.csv', '07_pstd_0124.csv', '08_pscws_0124.csv', '09_psaw_0124.csv', '10_ptpsfs_0124.csv', '11_ptptint_0124.csv', '12_ptgpt_0124.csv', '13_ptipt_0124.csv', '14_ptfua_0124.csv']\n",
    "datasets = {\n",
    "    'scr': ['Scr', csvs[0]],\n",
    "    'int': ['Int', csvs[1]],\n",
    "    'gc': ['GC', csvs[2]],\n",
    "    'ic': ['IC', csvs[3]],\n",
    "    'psfua': ['FUA', csvs[4]],\n",
    "    'pei': ['PEI', csvs[5]],\n",
    "    'trw': ['TRW', csvs[6]],\n",
    "    'td': ['TD', csvs[7]],\n",
    "    'cws': ['CWS', csvs[8]],\n",
    "    'aw': ['AW', csvs[9]],\n",
    "    'psfs': ['PSFS', csvs[10]],\n",
    "    'ptint': ['PT Int', csvs[11]],\n",
    "    'gpt': ['GPT', csvs[12]],\n",
    "    'ipt': ['IPT', csvs[13]],\n",
    "    'ptfua': ['FUA', csvs[14]]\n",
    "}"
   ],
   "metadata": {
    "collapsed": false,
    "ExecuteTime": {
     "end_time": "2024-02-15T10:18:21.672023300Z",
     "start_time": "2024-02-15T10:18:21.660940600Z"
    }
   },
   "id": "d6276e035f086cd",
   "execution_count": 2,
   "outputs": []
  },
  {
   "cell_type": "code",
   "source": [
    "def read_df(dataset_dict_value, csv_dict_value, columns_to_drop=None):\n",
    "    df_path = os.path.join(processed_data, csv_dict_value)\n",
    "    df_sheet = dataset_dict_value\n",
    "    df_dataset = Dataset(config_file, df_sheet)\n",
    "    df = pd.read_csv(df_path)\n",
    "    df = dtype_trans(df, df_dataset)\n",
    "    if columns_to_drop:\n",
    "        df.drop(columns_to_drop, axis=1, inplace=True)\n",
    "    return df"
   ],
   "metadata": {
    "collapsed": false,
    "ExecuteTime": {
     "end_time": "2024-02-15T10:21:36.224505100Z",
     "start_time": "2024-02-15T10:21:36.211750500Z"
    }
   },
   "id": "c278838591dd240c",
   "execution_count": 7,
   "outputs": []
  },
  {
   "cell_type": "code",
   "source": [
    "# scr_path = os.path.join(processed_data, '00_psscr_0124.csv')\n",
    "# scr_sheet = 'Scr'\n",
    "# scr_dataset = Dataset(config_file, scr_sheet)\n",
    "# scr = pd.read_csv(scr_path)\n",
    "# scr = dtype_trans(scr, scr_dataset)\n",
    "# scr = scr.drop"
   ],
   "metadata": {
    "collapsed": false
   },
   "id": "6337ae86fec4b930",
   "execution_count": null,
   "outputs": []
  },
  {
   "cell_type": "code",
   "source": [
    "scr = read_df(datasets['scr'][0], datasets['scr'][1], columns_to_drop=['note'])\n",
    "scr.to_clipboard()"
   ],
   "metadata": {
    "collapsed": false,
    "ExecuteTime": {
     "end_time": "2024-02-15T10:30:32.810053400Z",
     "start_time": "2024-02-15T10:30:32.678190200Z"
    }
   },
   "id": "c86eb9d60273dc2f",
   "execution_count": 12,
   "outputs": []
  },
  {
   "cell_type": "code",
   "source": [
    "int = read_df(datasets['int'][0], datasets['int'][1], columns_to_drop=['note'])\n",
    "int.to_clipboard()"
   ],
   "metadata": {
    "collapsed": false,
    "ExecuteTime": {
     "end_time": "2024-02-15T10:32:16.781903600Z",
     "start_time": "2024-02-15T10:32:16.645748200Z"
    }
   },
   "id": "6a2989a8fcf1e75a",
   "execution_count": 13,
   "outputs": []
  },
  {
   "cell_type": "code",
   "source": [
    "gc = read_df(datasets['gc'][0], datasets['gc'][1], columns_to_drop=['note'])\n",
    "gc.to_clipboard()"
   ],
   "metadata": {
    "collapsed": false,
    "ExecuteTime": {
     "end_time": "2024-02-15T10:34:02.370372400Z",
     "start_time": "2024-02-15T10:34:02.228638900Z"
    }
   },
   "id": "7e0ffb1d668a9438",
   "execution_count": 14,
   "outputs": []
  },
  {
   "cell_type": "code",
   "source": [
    "ic = read_df(datasets['ic'][0], datasets['ic'][1], columns_to_drop=['note'])\n",
    "ic.to_clipboard()"
   ],
   "metadata": {
    "collapsed": false,
    "ExecuteTime": {
     "end_time": "2024-02-15T10:35:03.368288700Z",
     "start_time": "2024-02-15T10:35:03.254496400Z"
    }
   },
   "id": "f83903cf49cc206",
   "execution_count": 15,
   "outputs": []
  },
  {
   "cell_type": "code",
   "source": [
    "psfua = read_df(datasets['psfua'][0], datasets['psfua'][1], columns_to_drop=['note'])\n",
    "psfua.to_clipboard()"
   ],
   "metadata": {
    "collapsed": false,
    "ExecuteTime": {
     "end_time": "2024-02-15T10:36:04.333293500Z",
     "start_time": "2024-02-15T10:36:04.187466400Z"
    }
   },
   "id": "28eff98b8fbaa435",
   "execution_count": 16,
   "outputs": []
  },
  {
   "cell_type": "code",
   "source": [
    "pei = read_df(datasets['pei'][0], datasets['pei'][1], columns_to_drop=['note'])\n",
    "pei.to_clipboard()"
   ],
   "metadata": {
    "collapsed": false,
    "ExecuteTime": {
     "end_time": "2024-02-15T10:40:39.874203600Z",
     "start_time": "2024-02-15T10:40:39.749290500Z"
    }
   },
   "id": "ecf678033cd4dd09",
   "execution_count": 17,
   "outputs": []
  },
  {
   "cell_type": "code",
   "source": [
    "trw = read_df(datasets['trw'][0], datasets['trw'][1], columns_to_drop=['note'])\n",
    "trw.to_clipboard()"
   ],
   "metadata": {
    "collapsed": false,
    "ExecuteTime": {
     "end_time": "2024-02-15T10:41:40.436765200Z",
     "start_time": "2024-02-15T10:41:40.321952Z"
    }
   },
   "id": "19b6cd54be9bd5c0",
   "execution_count": 18,
   "outputs": []
  },
  {
   "cell_type": "code",
   "source": [
    "td = read_df(datasets['td'][0], datasets['td'][1], columns_to_drop=['note'])\n",
    "td.to_clipboard()"
   ],
   "metadata": {
    "collapsed": false,
    "ExecuteTime": {
     "end_time": "2024-02-15T10:43:04.170660Z",
     "start_time": "2024-02-15T10:43:04.009667600Z"
    }
   },
   "id": "7df44475c966c41c",
   "execution_count": 19,
   "outputs": []
  },
  {
   "cell_type": "code",
   "source": [
    "cws = read_df(datasets['cws'][0], datasets['cws'][1], columns_to_drop=['note'])\n",
    "cws.to_clipboard()"
   ],
   "metadata": {
    "collapsed": false,
    "ExecuteTime": {
     "end_time": "2024-02-15T10:44:22.422443400Z",
     "start_time": "2024-02-15T10:44:22.287869900Z"
    }
   },
   "id": "1c910f67197be138",
   "execution_count": 20,
   "outputs": []
  },
  {
   "cell_type": "code",
   "source": [
    "aw = read_df(datasets['aw'][0], datasets['aw'][1], columns_to_drop=['note'])\n",
    "aw.to_clipboard()"
   ],
   "metadata": {
    "collapsed": false,
    "ExecuteTime": {
     "end_time": "2024-02-15T10:45:10.376004400Z",
     "start_time": "2024-02-15T10:45:10.239190Z"
    }
   },
   "id": "e9ee2db6c25c22d6",
   "execution_count": 21,
   "outputs": []
  },
  {
   "cell_type": "code",
   "source": [
    "psfs = read_df(datasets['psfs'][0], datasets['psfs'][1], columns_to_drop=['note'])\n",
    "psfs.to_clipboard()"
   ],
   "metadata": {
    "collapsed": false,
    "ExecuteTime": {
     "end_time": "2024-02-15T10:46:21.057640100Z",
     "start_time": "2024-02-15T10:46:20.926617300Z"
    }
   },
   "id": "ec7d37b42ca86f02",
   "execution_count": 22,
   "outputs": []
  },
  {
   "cell_type": "code",
   "source": [
    "ptint = read_df(datasets['ptint'][0], datasets['ptint'][1], columns_to_drop=['note'])\n",
    "ptint.to_clipboard()"
   ],
   "metadata": {
    "collapsed": false,
    "ExecuteTime": {
     "end_time": "2024-02-15T10:47:07.481599500Z",
     "start_time": "2024-02-15T10:47:07.366114100Z"
    }
   },
   "id": "b044dedc82d52ac9",
   "execution_count": 23,
   "outputs": []
  },
  {
   "cell_type": "code",
   "source": [
    "gpt = read_df(datasets['gpt'][0], datasets['gpt'][1], columns_to_drop=['note'])\n",
    "gpt.to_clipboard()"
   ],
   "metadata": {
    "collapsed": false,
    "ExecuteTime": {
     "end_time": "2024-02-15T10:47:54.843145400Z",
     "start_time": "2024-02-15T10:47:54.709755500Z"
    }
   },
   "id": "3943c3faa70881fd",
   "execution_count": 24,
   "outputs": []
  },
  {
   "cell_type": "code",
   "source": [
    "ipt = read_df(datasets['ipt'][0], datasets['ipt'][1], columns_to_drop=['note'])\n",
    "ipt.to_clipboard()"
   ],
   "metadata": {
    "collapsed": false,
    "ExecuteTime": {
     "end_time": "2024-02-15T10:48:45.815396Z",
     "start_time": "2024-02-15T10:48:45.697609200Z"
    }
   },
   "id": "f6e537f17b65bdb6",
   "execution_count": 25,
   "outputs": []
  },
  {
   "cell_type": "code",
   "source": [
    "ptfua = read_df(datasets['ptfua'][0], datasets['ptfua'][1], columns_to_drop=['note'])\n",
    "ptfua.to_clipboard()"
   ],
   "metadata": {
    "collapsed": false,
    "ExecuteTime": {
     "end_time": "2024-02-15T10:49:51.479386200Z",
     "start_time": "2024-02-15T10:49:51.236504200Z"
    }
   },
   "id": "20570c26ef774b4",
   "execution_count": 26,
   "outputs": []
  }
 ],
 "metadata": {
  "kernelspec": {
   "display_name": "Python 3",
   "language": "python",
   "name": "python3"
  },
  "language_info": {
   "codemirror_mode": {
    "name": "ipython",
    "version": 2
   },
   "file_extension": ".py",
   "mimetype": "text/x-python",
   "name": "python",
   "nbconvert_exporter": "python",
   "pygments_lexer": "ipython2",
   "version": "2.7.6"
  }
 },
 "nbformat": 4,
 "nbformat_minor": 5
}
