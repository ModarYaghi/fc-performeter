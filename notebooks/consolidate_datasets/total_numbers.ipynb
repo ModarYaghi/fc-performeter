{
 "cells": [
  {
   "metadata": {},
   "cell_type": "markdown",
   "source": "### This book is for counting total numbers of beneficiaries and activities - The first use for this script was for internal reporting",
   "id": "6fab0fa5b85bd24f"
  },
  {
   "metadata": {},
   "cell_type": "code",
   "source": "from src.all_in_one import *",
   "id": "initial_id",
   "outputs": [],
   "execution_count": null
  },
  {
   "metadata": {},
   "cell_type": "code",
   "source": "cds = pd.read_csv('consolidated_dataset13.csv')",
   "id": "5316ceb5f5f18813",
   "outputs": [],
   "execution_count": null
  },
  {
   "metadata": {},
   "cell_type": "code",
   "source": "d_columns = ['sc_s1', 'sc_re', 'pei_pre_as','nt_s1', 'nt_s2', 'nt_s3', 'nt_re','gc_s1', 'gc_s2', 'gc_s3', 'gc_s4', 'gc_check', 'gc_s5', 'gc_s6', 'gc_s7', 'gc_s8', 'gc_s9', 'gc_10','ic_s1', 'ic_s2', 'ic_s3', 'ic_s4', 'ic_s5', 'ic_s6', 'ic_s7', 'ic_s8', 'ic_s9', 'ic_s10', 'fu_3m_x', 'fu_6m_x', 'fu_12m_x', 'psfs_date','pt_nt_s1', 'pt_nt_s2', 'pt_nt_re','pt_g_s1', 'pt_g_s2', 'pt_g_s3', 'pt_g_s4', 'pt_g_s5', 'pt_g_s6', 'pt_g_s7', 'pt_g_s8', 'pt_g_s9', 'pt_g_s10','pt_i_s1', 'pt_i_s2', 'pt_i_s3', 'pt_i_s4', 'pt_i_s5', 'pt_i_s6', 'pt_i_s7', 'pt_i_s8', 'pt_i_s9', 'pt_i_s10', 'pt_i_s11', 'pt_i_s12', 'pt_i_s13', 'pt_i_s14', 'fu_3m_y', 'fu_6m_y', 'fu_12m_y','cslt_session', 'csnt_session', 'ld_admsp', 'ld_sjac', 'iu_s1', 'iu_s2', 'iu_s3', 'iu_total', 'iu_del', 'cdw_s1', 'cdw_s2', 'post_date', 'adv_att', 'eva_session', 'trw_s1', 'trw_s2','pei_s1', 'pei_s2', 'pei_s3','pei_post_as','aws']",
   "id": "5d259895ef864091",
   "outputs": [],
   "execution_count": null
  },
  {
   "metadata": {},
   "cell_type": "code",
   "source": [
    "for col in d_columns:\n",
    "    cds[col] = pd.to_datetime(cds[col], errors='coerce')"
   ],
   "id": "2fd6e3510e395883",
   "outputs": [],
   "execution_count": null
  },
  {
   "metadata": {},
   "cell_type": "code",
   "source": [
    "# Define the date range\n",
    "start_date = pd.to_datetime('2024-01-01')\n",
    "end_date = pd.to_datetime('2024-06-30')"
   ],
   "id": "ff5f0ba18e566bd7",
   "outputs": [],
   "execution_count": null
  },
  {
   "metadata": {},
   "cell_type": "code",
   "source": [
    "# Create a mask that will be True for rows where any date is within the range\n",
    "mask = cds[d_columns].apply(lambda row: any(start_date <= d <= end_date for d in row if pd.notnull(d)), axis=1)\n",
    "\n",
    "# Filter the DataFrame based on the mask\n",
    "filtered_df = cds[mask]"
   ],
   "id": "8b83e3d72d105d87",
   "outputs": [],
   "execution_count": null
  },
  {
   "metadata": {},
   "cell_type": "code",
   "source": [
    "# in this case, the dataframe is already without duplicates.\n",
    "filtered_df"
   ],
   "id": "9440c3300377d5e8",
   "outputs": [],
   "execution_count": null
  },
  {
   "metadata": {},
   "cell_type": "code",
   "source": "# filtered_df['sex'].value_counts()",
   "id": "1bd3ca921c73158e",
   "outputs": [],
   "execution_count": null
  },
  {
   "metadata": {},
   "cell_type": "code",
   "source": [
    "# Getting rid and sex dataframe to merge them with referrals and get the unique number of beneficiaries\n",
    "sub_filtered_df = filtered_df[['rid', 'sex']]"
   ],
   "id": "463fc5c3d4bf0b9",
   "outputs": [],
   "execution_count": null
  },
  {
   "metadata": {},
   "cell_type": "code",
   "source": [
    "out_ref = pd.read_csv(r'../unique_ref_beneficiaries.csv')\n",
    "sub_out_ref = out_ref[['rid', 'sex']]"
   ],
   "id": "6a6ecaee96ccb7e4",
   "outputs": [],
   "execution_count": null
  },
  {
   "metadata": {},
   "cell_type": "code",
   "source": "total_beneficiaries = pd.concat([sub_filtered_df, sub_out_ref])",
   "id": "8ca172d23579a604",
   "outputs": [],
   "execution_count": null
  },
  {
   "metadata": {},
   "cell_type": "code",
   "source": [
    "unique_total_beneficiaries = total_beneficiaries.drop_duplicates(subset=['rid'], keep='first')\n",
    "# unique_total_beneficiaries"
   ],
   "id": "2fce1c098b81541b",
   "outputs": [],
   "execution_count": null
  },
  {
   "metadata": {},
   "cell_type": "code",
   "source": "# unique_total_beneficiaries['sex'].value_counts()",
   "id": "48850a25c91a2060",
   "outputs": [],
   "execution_count": null
  },
  {
   "metadata": {},
   "cell_type": "code",
   "source": "df_of_date_columns_of_filtered_df = filtered_df[d_columns]",
   "id": "71dbd8b5fe159931",
   "outputs": [],
   "execution_count": null
  },
  {
   "metadata": {},
   "cell_type": "code",
   "source": [
    "# Check if dates are in 2024 and count them\n",
    "count_2024 = (df_of_date_columns_of_filtered_df.apply(lambda x: x.dt.year == 2024)).sum().sum()"
   ],
   "id": "4b55b1b4cc848601",
   "outputs": [],
   "execution_count": null
  },
  {
   "metadata": {},
   "cell_type": "code",
   "source": "# count_2024",
   "id": "b33f156c72ba7d9d",
   "outputs": [],
   "execution_count": null
  }
 ],
 "metadata": {
  "kernelspec": {
   "display_name": "Python 3",
   "language": "python",
   "name": "python3"
  },
  "language_info": {
   "codemirror_mode": {
    "name": "ipython",
    "version": 2
   },
   "file_extension": ".py",
   "mimetype": "text/x-python",
   "name": "python",
   "nbconvert_exporter": "python",
   "pygments_lexer": "ipython2",
   "version": "2.7.6"
  }
 },
 "nbformat": 4,
 "nbformat_minor": 5
}
