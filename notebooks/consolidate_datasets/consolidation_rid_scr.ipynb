{
 "cells": [
  {
   "cell_type": "code",
   "id": "initial_id",
   "metadata": {
    "collapsed": true
   },
   "source": [
    "from src.all_in_one import *\n",
    "\n",
    "# Set the pandas option\n",
    "pd.set_option('future.no_silent_downcasting', True)"
   ],
   "outputs": [],
   "execution_count": null
  },
  {
   "metadata": {},
   "cell_type": "code",
   "source": "processed_data_path = path_manager.processed_data",
   "id": "528454c9601986a4",
   "outputs": [],
   "execution_count": null
  },
  {
   "metadata": {},
   "cell_type": "code",
   "source": [
    "# Creating a list of all rid across all datasets\n",
    "# rid = pd.DataFrame()  # An empty dataframe\n",
    "# if os.path.exists(processed_data_path) and os.path.isdir(processed_data_path):\n",
    "#     for file_name in os.listdir(processed_data_path):\n",
    "#         if file_name.endswith('.csv'):\n",
    "#             file_path = os.path.join(processed_data_path, file_name)\n",
    "#             df = pd.read_csv(file_path)\n",
    "#             df_rid = df['rid']\n",
    "#             rid = pd.concat([rid, df_rid])\n",
    "# rid = rid.drop_duplicates(keep='first')\n",
    "# rid = rid.sort_values(by='rid', ascending=True).reset_index(drop=True)\n"
   ],
   "id": "5603c8e8edbaa9cb",
   "outputs": [],
   "execution_count": null
  },
  {
   "metadata": {},
   "cell_type": "code",
   "source": [
    "# the script in this cell is for consolidating firstnames, lastnames, sex, and age, for some of the rid that don't have these values from the screening. So, i needed to collect them from other services.\n",
    "sub_id = pd.read_excel('sub_id.xlsx')\n",
    "merged_df = sub_id.copy()  # Initialize merged_df to avoid referencing before assignment\n",
    "\n",
    "for filename in os.listdir(processed_data_path):\n",
    "    if filename.endswith('.csv'):\n",
    "        file_path = os.path.join(processed_data_path, filename)\n",
    "        data = pd.read_csv(file_path)\n",
    "\n",
    "        # Check if the needed columns exist in this dataset\n",
    "        columns_needed = ['rid', 'firstname', 'lastname', 'sex', 'age']\n",
    "        common_columns = [col for col in columns_needed if col in data.columns]\n",
    "\n",
    "        # Ensure 'rid' is present before merging\n",
    "        if 'rid' in common_columns:\n",
    "            merged_df = merged_df.merge(data[common_columns], on='rid', how='left', suffixes=('', f'_from_{filename}'))\n",
    "\n",
    "# Optional: Consolidate columns, for example, firstname from different files\n",
    "for col in ['firstname', 'lastname', 'sex', 'age']:\n",
    "    columns_to_combine = [c for c in merged_df.columns if c.startswith(col)]\n",
    "    merged_df[col] = merged_df[columns_to_combine].bfill(axis=1).iloc[:, 0].infer_objects()\n",
    "    merged_df.drop(columns=columns_to_combine[1:], inplace=True)  # Drop extra columns after combining\n"
   ],
   "id": "12d7d1d84b927cc4",
   "outputs": [],
   "execution_count": null
  },
  {
   "metadata": {},
   "cell_type": "code",
   "source": "df = merged_df.drop_duplicates(subset='rid')",
   "id": "591150837c0b40e2",
   "outputs": [],
   "execution_count": null
  },
  {
   "metadata": {},
   "cell_type": "code",
   "source": "df.to_clipboard(index=False)",
   "id": "3dbadf77b48fc4a7",
   "outputs": [],
   "execution_count": null
  },
  {
   "metadata": {},
   "cell_type": "code",
   "source": [
    "# Screening Dataset\n",
    "# scr_file = path_manager.get_data_file(Category.PS, PSFile.SCR)\n",
    "# scr_dataset = Dataset(config_file, scr_file.sheet)\n",
    "# scr = get_df(scr_file.path, scr_file.sheet, config_file).sort_values(by='sc_s1', ascending=True).reset_index(drop=True)"
   ],
   "id": "540564c72e95584c",
   "outputs": [],
   "execution_count": null
  },
  {
   "metadata": {},
   "cell_type": "code",
   "source": [
    "# Get Screening basic session separated form pei_pre_as and re-screening\n",
    "# columns_to_drop = ['scspi','nat', 'need_mhpss', 'need_trw', 'need_out_ref', 'need_tmh', 'need_pei', 'note','pei_pre_as', 'sc_re']\n",
    "# columns_to_drop = ['note','pei_pre_as', 'sc_re']\n",
    "# scr_0 = scr.drop(columns=columns_to_drop).dropna(subset=['sc_s1']).sort_values(by='sc_s1')  # Screening basic session. Records = 705\n",
    "# scr_0 = scr_0.drop_duplicates(subset=['rid'], keep='first')  # There are 6 rid duplicated.\n",
    "# re_scr = scr[['rid','sc_re']].dropna()  # Screening re. Records = 41\n",
    "# pei_pre_as = scr[['rid','pei_pre_as']].dropna()  # PEI Assessment. Records = 36"
   ],
   "id": "370ac39a953bf866",
   "outputs": [],
   "execution_count": null
  },
  {
   "metadata": {},
   "cell_type": "code",
   "source": [
    "# pei_pre_as\n",
    "# re_scr\n",
    "# scr_0"
   ],
   "id": "475c35d7cf8581f3",
   "outputs": [],
   "execution_count": null
  },
  {
   "metadata": {},
   "cell_type": "markdown",
   "source": "Note: You need to rearrange the two columns to be in their positions.\n",
   "id": "d78cab7b831e0448"
  },
  {
   "metadata": {},
   "cell_type": "code",
   "source": [
    "# consolidated_dataset_scr = pd.merge(rid, scr_0, on='rid', how='left')\n",
    "# consolidated_dataset_scr = pd.merge(consolidated_dataset_scr, re_scr, on='rid', how='left')\n",
    "# consolidated_dataset_scr = pd.merge(consolidated_dataset_scr, pei_pre_as, on='rid', how='left')"
   ],
   "id": "d5e1cf2ebf589285",
   "outputs": [],
   "execution_count": null
  },
  {
   "metadata": {},
   "cell_type": "code",
   "source": "# consolidated_dataset_scr.to_csv('consolidated_dataset.csv', index=False)",
   "id": "ebf076cdd9bbe88e",
   "outputs": [],
   "execution_count": null
  },
  {
   "metadata": {},
   "cell_type": "code",
   "source": "# pd.read_csv('consolidated_dataset.csv')",
   "id": "3d19b018a736cd5",
   "outputs": [],
   "execution_count": null
  }
 ],
 "metadata": {
  "kernelspec": {
   "display_name": "Python 3",
   "language": "python",
   "name": "python3"
  },
  "language_info": {
   "codemirror_mode": {
    "name": "ipython",
    "version": 2
   },
   "file_extension": ".py",
   "mimetype": "text/x-python",
   "name": "python",
   "nbconvert_exporter": "python",
   "pygments_lexer": "ipython2",
   "version": "2.7.6"
  }
 },
 "nbformat": 4,
 "nbformat_minor": 5
}
