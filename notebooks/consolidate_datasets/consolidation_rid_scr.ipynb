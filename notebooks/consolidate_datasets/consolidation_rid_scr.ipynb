{
 "cells": [
  {
   "cell_type": "code",
   "id": "initial_id",
   "metadata": {
    "collapsed": true
   },
   "source": [
    "import pandas as pd\n",
    "import numpy as np\n",
    "\n",
    "from src.all_in_one import *"
   ],
   "outputs": [],
   "execution_count": null
  },
  {
   "metadata": {},
   "cell_type": "code",
   "source": "processed_data_path = path_manager.processed_data",
   "id": "528454c9601986a4",
   "outputs": [],
   "execution_count": null
  },
  {
   "metadata": {},
   "cell_type": "code",
   "source": [
    "# Creating a list of all rid across all datasets\n",
    "rid = pd.DataFrame()  # An empty dataframe\n",
    "if os.path.exists(processed_data_path) and os.path.isdir(processed_data_path):\n",
    "    for file_name in os.listdir(processed_data_path):\n",
    "        if file_name.endswith('.csv'):\n",
    "            file_path = os.path.join(processed_data_path, file_name)\n",
    "            df = pd.read_csv(file_path)\n",
    "            df_rid = df['rid']\n",
    "            rid = pd.concat([rid, df_rid])\n",
    "rid = rid.drop_duplicates(keep='first')\n",
    "rid = rid.sort_values(by='rid', ascending=True).reset_index(drop=True)\n"
   ],
   "id": "5603c8e8edbaa9cb",
   "outputs": [],
   "execution_count": null
  },
  {
   "metadata": {},
   "cell_type": "code",
   "source": [
    "# Screening Dataset\n",
    "scr_file = path_manager.get_data_file(Category.PS, PSFile.SCR)\n",
    "scr_dataset = Dataset(config_file, scr_file.sheet)\n",
    "scr = get_df(scr_file.path, scr_file.sheet, config_file).sort_values(by='sc_s1', ascending=True).reset_index(drop=True)"
   ],
   "id": "540564c72e95584c",
   "outputs": [],
   "execution_count": null
  },
  {
   "metadata": {},
   "cell_type": "code",
   "source": [
    "# Get Screening basic session separated form pei_pre_as and re-screening\n",
    "# columns_to_drop = ['scspi','nat', 'need_mhpss', 'need_trw', 'need_out_ref', 'need_tmh', 'need_pei', 'note','pei_pre_as', 'sc_re']\n",
    "columns_to_drop = ['note','pei_pre_as', 'sc_re']\n",
    "scr_0 = scr.drop(columns=columns_to_drop).dropna(subset=['sc_s1']).sort_values(by='sc_s1')  # Screening basic session. Records = 705\n",
    "scr_0 = scr_0.drop_duplicates(subset=['rid'], keep='first')  # There are 6 rid duplicated.\n",
    "re_scr = scr[['rid','sc_re']].dropna()  # Screening re. Records = 41\n",
    "pei_pre_as = scr[['rid','pei_pre_as']].dropna()  # PEI Assessment. Records = 36"
   ],
   "id": "370ac39a953bf866",
   "outputs": [],
   "execution_count": null
  },
  {
   "metadata": {},
   "cell_type": "code",
   "source": [
    "# pei_pre_as\n",
    "# re_scr\n",
    "# scr_0"
   ],
   "id": "475c35d7cf8581f3",
   "outputs": [],
   "execution_count": null
  },
  {
   "metadata": {},
   "cell_type": "markdown",
   "source": "Note: You need to rearrange the two columns to be in their positions.\n",
   "id": "d78cab7b831e0448"
  },
  {
   "metadata": {},
   "cell_type": "code",
   "source": [
    "consolidated_dataset_scr = pd.merge(rid, scr_0, on='rid', how='left')\n",
    "consolidated_dataset_scr = pd.merge(consolidated_dataset_scr, re_scr, on='rid', how='left')\n",
    "consolidated_dataset_scr = pd.merge(consolidated_dataset_scr, pei_pre_as, on='rid', how='left')"
   ],
   "id": "d5e1cf2ebf589285",
   "outputs": [],
   "execution_count": null
  },
  {
   "metadata": {},
   "cell_type": "code",
   "source": "consolidated_dataset_scr.to_csv('consolidated_dataset.csv', index=False)",
   "id": "ebf076cdd9bbe88e",
   "outputs": [],
   "execution_count": null
  },
  {
   "metadata": {},
   "cell_type": "code",
   "source": "# pd.read_csv('consolidated_dataset.csv')",
   "id": "3d19b018a736cd5",
   "outputs": [],
   "execution_count": null
  }
 ],
 "metadata": {
  "kernelspec": {
   "display_name": "Python 3",
   "language": "python",
   "name": "python3"
  },
  "language_info": {
   "codemirror_mode": {
    "name": "ipython",
    "version": 2
   },
   "file_extension": ".py",
   "mimetype": "text/x-python",
   "name": "python",
   "nbconvert_exporter": "python",
   "pygments_lexer": "ipython2",
   "version": "2.7.6"
  }
 },
 "nbformat": 4,
 "nbformat_minor": 5
}
