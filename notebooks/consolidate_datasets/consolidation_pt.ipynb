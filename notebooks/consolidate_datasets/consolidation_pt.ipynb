{
 "cells": [
  {
   "cell_type": "code",
   "id": "initial_id",
   "metadata": {
    "collapsed": true,
    "ExecuteTime": {
     "end_time": "2024-08-07T22:34:47.675442Z",
     "start_time": "2024-08-07T22:34:46.888666Z"
    }
   },
   "source": "from src.all_in_one import *",
   "outputs": [],
   "execution_count": 1
  },
  {
   "metadata": {
    "ExecuteTime": {
     "end_time": "2024-08-07T22:34:47.682386Z",
     "start_time": "2024-08-07T22:34:47.677452Z"
    }
   },
   "cell_type": "code",
   "source": "# cds = pd.read_csv('consolidated_dataset4.csv')",
   "id": "48543e64dbf6c5ca",
   "outputs": [],
   "execution_count": 2
  },
  {
   "metadata": {
    "ExecuteTime": {
     "end_time": "2024-08-07T22:34:47.689293Z",
     "start_time": "2024-08-07T22:34:47.684396Z"
    }
   },
   "cell_type": "code",
   "source": [
    "# PSFS Dataset\n",
    "# psfs_file = path_manager.get_data_file(Category.PT, PTFile.PSFS)\n",
    "# psfs = get_df(psfs_file.path, psfs_file.sheet, config_file).drop_duplicates(subset='rid')  # There is one duplicated case: R0203\n",
    "# psfs = psfs.drop(columns=['note', 'nat', 'score', 'vic'])\n",
    "# psfs = psfs.rename(columns={'fcid': 'psfsfcid', 'firstname': 'psfsfirstname', 'lastname': 'psfslastname', 'sex': 'psfssex', 'age': 'psfsage', 'psfs': 'psfs_date'})"
   ],
   "id": "1eb6acef21c1a7c5",
   "outputs": [],
   "execution_count": 3
  },
  {
   "metadata": {
    "ExecuteTime": {
     "end_time": "2024-08-07T22:34:47.695839Z",
     "start_time": "2024-08-07T22:34:47.690302Z"
    }
   },
   "cell_type": "code",
   "source": "# cds_psfs = pd.merge(cds, psfs, on='rid', how='left')",
   "id": "445d3ce8dd5934b6",
   "outputs": [],
   "execution_count": 4
  },
  {
   "metadata": {
    "ExecuteTime": {
     "end_time": "2024-08-07T22:34:47.701953Z",
     "start_time": "2024-08-07T22:34:47.696848Z"
    }
   },
   "cell_type": "code",
   "source": "# cds_psfs.to_csv('consolidated_dataset5.csv', index=False)",
   "id": "4a9cbd0b3b0e5f37",
   "outputs": [],
   "execution_count": 5
  },
  {
   "metadata": {
    "ExecuteTime": {
     "end_time": "2024-08-07T22:34:47.710067Z",
     "start_time": "2024-08-07T22:34:47.705961Z"
    }
   },
   "cell_type": "code",
   "source": "# cds = pd.read_csv('consolidated_dataset5.csv')",
   "id": "b57e550c3b6c1813",
   "outputs": [],
   "execution_count": 6
  },
  {
   "metadata": {
    "ExecuteTime": {
     "end_time": "2024-08-07T22:34:47.716034Z",
     "start_time": "2024-08-07T22:34:47.711788Z"
    }
   },
   "cell_type": "code",
   "source": [
    "# PT Intake Dataset\n",
    "# ptnt_file = path_manager.get_data_file(Category.PT, PTFile.PTNT)\n",
    "# ptnt = get_df(ptnt_file.path, ptnt_file.sheet, config_file)\n",
    "# ptntre = ptnt[['rid','pt_nt_re']].dropna(subset=['pt_nt_re'])\n",
    "# ptnt0 = ptnt.drop(columns=['pt_nt_re', 'psc', 'note']).dropna(subset=['pt_nt_s1'])\n",
    "# ptnt1 = pd.merge(ptnt0, ptntre, on='rid', how='left') \n",
    "# ptnt1 = ptnt1.rename(columns={'fcid': 'psntfcid', 'firstname': 'ptntfirstname', 'lastname': 'ptntlastname'})"
   ],
   "id": "7ab081f0c466542b",
   "outputs": [],
   "execution_count": 7
  },
  {
   "metadata": {
    "ExecuteTime": {
     "end_time": "2024-08-07T22:34:47.722360Z",
     "start_time": "2024-08-07T22:34:47.718078Z"
    }
   },
   "cell_type": "code",
   "source": "# cds_ptnt = pd.merge(cds, ptnt1, on='rid', how='left')",
   "id": "29f570f6fd43a364",
   "outputs": [],
   "execution_count": 8
  },
  {
   "metadata": {
    "ExecuteTime": {
     "end_time": "2024-08-07T22:34:47.728589Z",
     "start_time": "2024-08-07T22:34:47.724370Z"
    }
   },
   "cell_type": "code",
   "source": "# cds_ptnt.to_csv('consolidated_dataset6.csv', index=False)",
   "id": "9d66b1c30a8781b5",
   "outputs": [],
   "execution_count": 9
  },
  {
   "metadata": {
    "ExecuteTime": {
     "end_time": "2024-08-07T22:34:47.733371Z",
     "start_time": "2024-08-07T22:34:47.730598Z"
    }
   },
   "cell_type": "code",
   "source": "",
   "id": "fd9094ec12e18169",
   "outputs": [],
   "execution_count": 9
  },
  {
   "metadata": {
    "ExecuteTime": {
     "end_time": "2024-08-07T22:34:47.738263Z",
     "start_time": "2024-08-07T22:34:47.734379Z"
    }
   },
   "cell_type": "code",
   "source": "# cds = pd.read_csv('consolidated_dataset6.csv')",
   "id": "ff559cd42b57b0e2",
   "outputs": [],
   "execution_count": 10
  },
  {
   "metadata": {
    "ExecuteTime": {
     "end_time": "2024-08-07T22:34:47.745938Z",
     "start_time": "2024-08-07T22:34:47.740272Z"
    }
   },
   "cell_type": "code",
   "source": [
    "# PT Group Dataset\n",
    "# ptg_file = path_manager.get_data_file(Category.PT, PTFile.PTG)\n",
    "# ptg = get_df(ptg_file.path, ptg_file.sheet, config_file)\n",
    "# ptg = ptg.drop(columns=['note'])\n",
    "# ptg = ptg.rename(columns={'fcid': 'ptgfcid', 'firstname': 'ptgfirstname', 'lastname': 'ptglastname'})\n",
    "# ptg = ptg.drop([172, 90, 83], axis=0)"
   ],
   "id": "21acbe2c8da25e08",
   "outputs": [],
   "execution_count": 11
  },
  {
   "metadata": {
    "ExecuteTime": {
     "end_time": "2024-08-07T22:34:47.753026Z",
     "start_time": "2024-08-07T22:34:47.747945Z"
    }
   },
   "cell_type": "code",
   "source": "# cds_ptg = pd.merge(cds, ptg, on='rid', how='left')",
   "id": "359b6467e50a057a",
   "outputs": [],
   "execution_count": 12
  },
  {
   "metadata": {
    "ExecuteTime": {
     "end_time": "2024-08-07T22:34:47.759102Z",
     "start_time": "2024-08-07T22:34:47.754035Z"
    }
   },
   "cell_type": "code",
   "source": "# cds_ptg.to_csv('consolidated_dataset7.csv', index=False)",
   "id": "48d993f0e860e6",
   "outputs": [],
   "execution_count": 13
  },
  {
   "metadata": {
    "ExecuteTime": {
     "end_time": "2024-08-07T22:34:47.765217Z",
     "start_time": "2024-08-07T22:34:47.760112Z"
    }
   },
   "cell_type": "code",
   "source": "# cds = pd.read_csv('consolidated_dataset7.csv')",
   "id": "1885defce19d858f",
   "outputs": [],
   "execution_count": 14
  },
  {
   "metadata": {
    "ExecuteTime": {
     "end_time": "2024-08-07T22:34:47.772254Z",
     "start_time": "2024-08-07T22:34:47.767228Z"
    }
   },
   "cell_type": "code",
   "source": [
    "# PT Individual Dataset\n",
    "# pti_file = path_manager.get_data_file(Category.PT, PTFile.PTI)\n",
    "# pti = get_df(pti_file.path, pti_file.sheet, config_file)\n",
    "# pti = pti.drop(columns=['note'])\n",
    "# pti = pti.rename(columns={'fcid': 'ptifcid', 'firstname': 'ptifirstname', 'lastname': 'ptilastname'})"
   ],
   "id": "b9db853b9753442b",
   "outputs": [],
   "execution_count": 15
  },
  {
   "metadata": {
    "ExecuteTime": {
     "end_time": "2024-08-07T22:34:47.778372Z",
     "start_time": "2024-08-07T22:34:47.774264Z"
    }
   },
   "cell_type": "code",
   "source": "# cds_pti = pd.merge(cds, pti, on='rid', how='left')",
   "id": "68622b8d6899bd7b",
   "outputs": [],
   "execution_count": 16
  },
  {
   "metadata": {
    "ExecuteTime": {
     "end_time": "2024-08-07T22:34:47.786675Z",
     "start_time": "2024-08-07T22:34:47.782898Z"
    }
   },
   "cell_type": "code",
   "source": "# cds_pti.to_csv('consolidated_dataset8.csv', index=False)",
   "id": "a637b497076a8e69",
   "outputs": [],
   "execution_count": 17
  },
  {
   "metadata": {
    "ExecuteTime": {
     "end_time": "2024-08-07T22:34:47.815074Z",
     "start_time": "2024-08-07T22:34:47.788685Z"
    }
   },
   "cell_type": "code",
   "source": "# cds = pd.read_csv('consolidated_dataset8.csv')",
   "id": "c298577ac5df95d0",
   "outputs": [],
   "execution_count": 18
  },
  {
   "metadata": {
    "ExecuteTime": {
     "end_time": "2024-08-07T22:34:52.894109Z",
     "start_time": "2024-08-07T22:34:52.770182Z"
    }
   },
   "cell_type": "code",
   "source": [
    "# PT Follow-up Dataset\n",
    "# ptfu_file = path_manager.get_data_file(Category.PT, PTFile.PTFU)\n",
    "# ptfu = get_df(ptfu_file.path, ptfu_file.sheet, config_file).drop_duplicates(subset='rid', keep='first')\n",
    "# ptfu = ptfu.drop(columns=['note'])\n",
    "# ptfu = ptfu.rename(columns={'fcid': 'ptfufcid', 'firstname': 'ptfufirstname', 'lastname': 'ptfulastname'})"
   ],
   "id": "dca77ea808451607",
   "outputs": [],
   "execution_count": 19
  },
  {
   "metadata": {
    "ExecuteTime": {
     "end_time": "2024-08-07T22:35:28.953855Z",
     "start_time": "2024-08-07T22:35:28.945086Z"
    }
   },
   "cell_type": "code",
   "source": "# cds_ptfu = pd.merge(cds, ptfu, on='rid', how='left')",
   "id": "a51a5dd5ea41fdee",
   "outputs": [],
   "execution_count": 21
  },
  {
   "metadata": {
    "ExecuteTime": {
     "end_time": "2024-08-07T22:36:11.845892Z",
     "start_time": "2024-08-07T22:36:11.805595Z"
    }
   },
   "cell_type": "code",
   "source": "# cds_ptfu.to_csv('consolidated_dataset9.csv', index=False)",
   "id": "c9ac29a086a11bd8",
   "outputs": [],
   "execution_count": 23
  }
 ],
 "metadata": {
  "kernelspec": {
   "display_name": "Python 3",
   "language": "python",
   "name": "python3"
  },
  "language_info": {
   "codemirror_mode": {
    "name": "ipython",
    "version": 2
   },
   "file_extension": ".py",
   "mimetype": "text/x-python",
   "name": "python",
   "nbconvert_exporter": "python",
   "pygments_lexer": "ipython2",
   "version": "2.7.6"
  }
 },
 "nbformat": 4,
 "nbformat_minor": 5
}
