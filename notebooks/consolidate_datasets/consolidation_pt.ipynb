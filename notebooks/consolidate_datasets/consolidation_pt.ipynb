{
 "cells": [
  {
   "cell_type": "code",
   "execution_count": 1,
   "id": "initial_id",
   "metadata": {
    "ExecuteTime": {
     "end_time": "2024-08-07T22:34:47.675442Z",
     "start_time": "2024-08-07T22:34:46.888666Z"
    },
    "collapsed": true
   },
   "outputs": [
    {
     "name": "stdout",
     "output_type": "stream",
     "text": [
      "No password for tt_pt_FM_v04.11.xlsx\n"
     ]
    }
   ],
   "source": [
    "from src.all_in_one import *"
   ]
  },
  {
   "cell_type": "code",
   "execution_count": 4,
   "id": "48543e64dbf6c5ca",
   "metadata": {
    "ExecuteTime": {
     "end_time": "2024-08-07T22:34:47.682386Z",
     "start_time": "2024-08-07T22:34:47.677452Z"
    }
   },
   "outputs": [],
   "source": [
    "cds = pd.read_csv(\"notebooks/consolidate_datasets/dec24/consolidated_dataset_psfu.csv\")"
   ]
  },
  {
   "cell_type": "code",
   "execution_count": 5,
   "id": "1eb6acef21c1a7c5",
   "metadata": {
    "ExecuteTime": {
     "end_time": "2024-08-07T22:34:47.689293Z",
     "start_time": "2024-08-07T22:34:47.684396Z"
    }
   },
   "outputs": [],
   "source": [
    "# PSFS Dataset\n",
    "psfs_file = path_manager.get_data_file(Category.PT, PTFile.PSFS)\n",
    "psfs = get_df(psfs_file.path, psfs_file.sheet, config_file).drop_duplicates(\n",
    "    subset=\"rid\"\n",
    ")  # There is one duplicated case: R0203\n",
    "psfs = psfs.drop(\n",
    "    columns=[\"note\", \"nat\", \"score\", \"vic\", \"firstname\", \"lastname\", \"sex\", \"age\"]\n",
    ")\n",
    "psfs = psfs.rename(columns={\"fcid\": \"psfsfcid\", \"psfs\": \"psfs_date\"})"
   ]
  },
  {
   "cell_type": "code",
   "execution_count": 6,
   "id": "445d3ce8dd5934b6",
   "metadata": {
    "ExecuteTime": {
     "end_time": "2024-08-07T22:34:47.695839Z",
     "start_time": "2024-08-07T22:34:47.690302Z"
    }
   },
   "outputs": [],
   "source": [
    "cds_psfs = pd.merge(cds, psfs, on=\"rid\", how=\"left\")"
   ]
  },
  {
   "cell_type": "code",
   "execution_count": 7,
   "id": "4a9cbd0b3b0e5f37",
   "metadata": {
    "ExecuteTime": {
     "end_time": "2024-08-07T22:34:47.701953Z",
     "start_time": "2024-08-07T22:34:47.696848Z"
    }
   },
   "outputs": [],
   "source": [
    "cds_psfs.to_csv(\n",
    "    r\"notebooks/consolidate_datasets/dec24/consolidated_dataset_psfs.csv\", index=False\n",
    ")"
   ]
  },
  {
   "cell_type": "code",
   "execution_count": 6,
   "id": "b57e550c3b6c1813",
   "metadata": {
    "ExecuteTime": {
     "end_time": "2024-08-07T22:34:47.710067Z",
     "start_time": "2024-08-07T22:34:47.705961Z"
    }
   },
   "outputs": [],
   "source": [
    "# cds = pd.read_csv('consolidated_dataset5.csv')"
   ]
  },
  {
   "cell_type": "code",
   "execution_count": 8,
   "id": "7ab081f0c466542b",
   "metadata": {
    "ExecuteTime": {
     "end_time": "2024-08-07T22:34:47.716034Z",
     "start_time": "2024-08-07T22:34:47.711788Z"
    }
   },
   "outputs": [],
   "source": [
    "# PT Intake Dataset\n",
    "ptnt_file = path_manager.get_data_file(Category.PT, PTFile.PTNT)\n",
    "ptnt = get_df(ptnt_file.path, ptnt_file.sheet, config_file)\n",
    "ptntre = ptnt[[\"rid\", \"pt_nt_re\"]].dropna(subset=[\"pt_nt_re\"])\n",
    "ptnt0 = ptnt.drop(columns=[\"pt_nt_re\", \"psc\", \"note\"]).dropna(subset=[\"pt_nt_s1\"])\n",
    "ptnt1 = pd.merge(ptnt0, ptntre, on=\"rid\", how=\"left\")\n",
    "ptnt1 = ptnt1.rename(columns={\"fcid\": \"psntfcid\"})\n",
    "ptnt = ptnt1.drop(columns=[\"firstname\", \"lastname\"], axis=1)"
   ]
  },
  {
   "cell_type": "code",
   "execution_count": null,
   "id": "6570a2ca",
   "metadata": {},
   "outputs": [],
   "source": []
  },
  {
   "cell_type": "code",
   "execution_count": 12,
   "id": "29f570f6fd43a364",
   "metadata": {
    "ExecuteTime": {
     "end_time": "2024-08-07T22:34:47.722360Z",
     "start_time": "2024-08-07T22:34:47.718078Z"
    }
   },
   "outputs": [],
   "source": [
    "cds_ptnt = pd.merge(cds_psfs, ptnt, on=\"rid\", how=\"left\")"
   ]
  },
  {
   "cell_type": "code",
   "execution_count": null,
   "id": "9d66b1c30a8781b5",
   "metadata": {
    "ExecuteTime": {
     "end_time": "2024-08-07T22:34:47.728589Z",
     "start_time": "2024-08-07T22:34:47.724370Z"
    }
   },
   "outputs": [],
   "source": [
    "cds_ptnt.to_csv(\n",
    "    r\"notebooks/consolidate_datasets/dec24/consolidated_dataset_ptnt.csv\", index=False\n",
    ")"
   ]
  },
  {
   "cell_type": "code",
   "execution_count": 9,
   "id": "fd9094ec12e18169",
   "metadata": {
    "ExecuteTime": {
     "end_time": "2024-08-07T22:34:47.733371Z",
     "start_time": "2024-08-07T22:34:47.730598Z"
    }
   },
   "outputs": [],
   "source": []
  },
  {
   "cell_type": "code",
   "execution_count": 10,
   "id": "ff559cd42b57b0e2",
   "metadata": {
    "ExecuteTime": {
     "end_time": "2024-08-07T22:34:47.738263Z",
     "start_time": "2024-08-07T22:34:47.734379Z"
    }
   },
   "outputs": [],
   "source": [
    "# cds = pd.read_csv('consolidated_dataset6.csv')"
   ]
  },
  {
   "cell_type": "code",
   "execution_count": 16,
   "id": "21acbe2c8da25e08",
   "metadata": {
    "ExecuteTime": {
     "end_time": "2024-08-07T22:34:47.745938Z",
     "start_time": "2024-08-07T22:34:47.740272Z"
    }
   },
   "outputs": [],
   "source": [
    "# PT Group Dataset\n",
    "ptg_file = path_manager.get_data_file(Category.PT, PTFile.PTG)\n",
    "ptg = get_df(ptg_file.path, ptg_file.sheet, config_file)\n",
    "ptg = ptg.drop(columns=[\"note\", \"firstname\", \"lastname\"], axis=1)\n",
    "ptg = ptg.rename(columns={\"fcid\": \"ptgfcid\"})\n",
    "ptg = ptg.drop([172, 90, 83], axis=0)"
   ]
  },
  {
   "cell_type": "code",
   "execution_count": 17,
   "id": "359b6467e50a057a",
   "metadata": {
    "ExecuteTime": {
     "end_time": "2024-08-07T22:34:47.753026Z",
     "start_time": "2024-08-07T22:34:47.747945Z"
    }
   },
   "outputs": [],
   "source": [
    "cds_ptg = pd.merge(cds_ptnt, ptg, on=\"rid\", how=\"left\")"
   ]
  },
  {
   "cell_type": "code",
   "execution_count": 18,
   "id": "48d993f0e860e6",
   "metadata": {
    "ExecuteTime": {
     "end_time": "2024-08-07T22:34:47.759102Z",
     "start_time": "2024-08-07T22:34:47.754035Z"
    }
   },
   "outputs": [],
   "source": [
    "cds_ptg.to_csv(\n",
    "    \"notebooks/consolidate_datasets/dec24/consolidated_dataset_ptg.csv\", index=False\n",
    ")"
   ]
  },
  {
   "cell_type": "code",
   "execution_count": 14,
   "id": "1885defce19d858f",
   "metadata": {
    "ExecuteTime": {
     "end_time": "2024-08-07T22:34:47.765217Z",
     "start_time": "2024-08-07T22:34:47.760112Z"
    }
   },
   "outputs": [],
   "source": [
    "# cds = pd.read_csv('consolidated_dataset7.csv')"
   ]
  },
  {
   "cell_type": "code",
   "execution_count": 19,
   "id": "b9db853b9753442b",
   "metadata": {
    "ExecuteTime": {
     "end_time": "2024-08-07T22:34:47.772254Z",
     "start_time": "2024-08-07T22:34:47.767228Z"
    }
   },
   "outputs": [],
   "source": [
    "# PT Individual Dataset\n",
    "pti_file = path_manager.get_data_file(Category.PT, PTFile.PTI)\n",
    "pti = get_df(pti_file.path, pti_file.sheet, config_file)\n",
    "pti = pti.drop(columns=[\"note\", \"firstname\", \"lastname\"], axis=1)\n",
    "pti = pti.rename(columns={\"fcid\": \"ptifcid\"})"
   ]
  },
  {
   "cell_type": "code",
   "execution_count": 20,
   "id": "68622b8d6899bd7b",
   "metadata": {
    "ExecuteTime": {
     "end_time": "2024-08-07T22:34:47.778372Z",
     "start_time": "2024-08-07T22:34:47.774264Z"
    }
   },
   "outputs": [],
   "source": [
    "cds_pti = pd.merge(cds_ptg, pti, on=\"rid\", how=\"left\")"
   ]
  },
  {
   "cell_type": "code",
   "execution_count": 21,
   "id": "a637b497076a8e69",
   "metadata": {
    "ExecuteTime": {
     "end_time": "2024-08-07T22:34:47.786675Z",
     "start_time": "2024-08-07T22:34:47.782898Z"
    }
   },
   "outputs": [],
   "source": [
    "cds_pti.to_csv(\n",
    "    \"notebooks/consolidate_datasets/dec24/consolidated_dataset_pti.csv\", index=False\n",
    ")"
   ]
  },
  {
   "cell_type": "code",
   "execution_count": 18,
   "id": "c298577ac5df95d0",
   "metadata": {
    "ExecuteTime": {
     "end_time": "2024-08-07T22:34:47.815074Z",
     "start_time": "2024-08-07T22:34:47.788685Z"
    }
   },
   "outputs": [],
   "source": [
    "# cds = pd.read_csv('consolidated_dataset8.csv')"
   ]
  },
  {
   "cell_type": "code",
   "execution_count": 22,
   "id": "dca77ea808451607",
   "metadata": {
    "ExecuteTime": {
     "end_time": "2024-08-07T22:34:52.894109Z",
     "start_time": "2024-08-07T22:34:52.770182Z"
    }
   },
   "outputs": [],
   "source": [
    "# PT Follow-up Dataset\n",
    "ptfu_file = path_manager.get_data_file(Category.PT, PTFile.PTFU)\n",
    "ptfu = get_df(ptfu_file.path, ptfu_file.sheet, config_file).drop_duplicates(\n",
    "    subset=\"rid\", keep=\"first\"\n",
    ")\n",
    "ptfu = ptfu.drop(columns=[\"note\", \"firstname\", \"lastname\"], axis=1)\n",
    "ptfu = ptfu.rename(columns={\"fcid\": \"ptfufcid\"})"
   ]
  },
  {
   "cell_type": "code",
   "execution_count": 23,
   "id": "a51a5dd5ea41fdee",
   "metadata": {
    "ExecuteTime": {
     "end_time": "2024-08-07T22:35:28.953855Z",
     "start_time": "2024-08-07T22:35:28.945086Z"
    }
   },
   "outputs": [],
   "source": [
    "cds_ptfu = pd.merge(cds_pti, ptfu, on=\"rid\", how=\"left\")"
   ]
  },
  {
   "cell_type": "code",
   "execution_count": 24,
   "id": "c9ac29a086a11bd8",
   "metadata": {
    "ExecuteTime": {
     "end_time": "2024-08-07T22:36:11.845892Z",
     "start_time": "2024-08-07T22:36:11.805595Z"
    }
   },
   "outputs": [],
   "source": [
    "cds_ptfu.to_csv(\n",
    "    \"notebooks/consolidate_datasets/dec24/consolidated_dataset_ptfu.csv\", index=False\n",
    ")"
   ]
  }
 ],
 "metadata": {
  "kernelspec": {
   "display_name": ".venv",
   "language": "python",
   "name": "python3"
  },
  "language_info": {
   "codemirror_mode": {
    "name": "ipython",
    "version": 3
   },
   "file_extension": ".py",
   "mimetype": "text/x-python",
   "name": "python",
   "nbconvert_exporter": "python",
   "pygments_lexer": "ipython3",
   "version": "3.12.2"
  }
 },
 "nbformat": 4,
 "nbformat_minor": 5
}
