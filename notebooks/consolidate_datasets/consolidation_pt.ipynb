{
 "cells": [
  {
   "cell_type": "code",
   "id": "initial_id",
   "metadata": {
    "collapsed": true
   },
   "source": "from src.all_in_one import *",
   "outputs": [],
   "execution_count": null
  },
  {
   "metadata": {},
   "cell_type": "code",
   "source": "# cds = pd.read_csv('consolidated_dataset4.csv')",
   "id": "48543e64dbf6c5ca",
   "outputs": [],
   "execution_count": null
  },
  {
   "metadata": {},
   "cell_type": "code",
   "source": [
    "# PSFS Dataset\n",
    "# psfs_file = path_manager.get_data_file(Category.PT, PTFile.PSFS)\n",
    "# psfs = get_df(psfs_file.path, psfs_file.sheet, config_file).drop_duplicates(subset='rid')  # There is one duplicated case: R0203\n",
    "# psfs = psfs.drop(columns=['note', 'nat', 'score', 'vic'])\n",
    "# psfs = psfs.rename(columns={'fcid': 'psfsfcid', 'firstname': 'psfsfirstname', 'lastname': 'psfslastname', 'sex': 'psfssex', 'age': 'psfsage', 'psfs': 'psfs_date'})"
   ],
   "id": "1eb6acef21c1a7c5",
   "outputs": [],
   "execution_count": null
  },
  {
   "metadata": {},
   "cell_type": "code",
   "source": "# cds_psfs = pd.merge(cds, psfs, on='rid', how='left')",
   "id": "445d3ce8dd5934b6",
   "outputs": [],
   "execution_count": null
  },
  {
   "metadata": {},
   "cell_type": "code",
   "source": "# cds_psfs.to_csv('consolidated_dataset5.csv', index=False)",
   "id": "4a9cbd0b3b0e5f37",
   "outputs": [],
   "execution_count": null
  },
  {
   "metadata": {},
   "cell_type": "code",
   "source": "# cds = pd.read_csv('consolidated_dataset5.csv')",
   "id": "b57e550c3b6c1813",
   "outputs": [],
   "execution_count": null
  },
  {
   "metadata": {},
   "cell_type": "code",
   "source": [
    "# PT Intake Dataset\n",
    "# ptnt_file = path_manager.get_data_file(Category.PT, PTFile.PTNT)\n",
    "# ptnt = get_df(ptnt_file.path, ptnt_file.sheet, config_file)\n",
    "# ptntre = ptnt[['rid','pt_nt_re']].dropna(subset=['pt_nt_re'])\n",
    "# ptnt0 = ptnt.drop(columns=['pt_nt_re', 'psc', 'note']).dropna(subset=['pt_nt_s1'])\n",
    "# ptnt1 = pd.merge(ptnt0, ptntre, on='rid', how='left') \n",
    "# ptnt1 = ptnt1.rename(columns={'fcid': 'psntfcid', 'firstname': 'ptntfirstname', 'lastname': 'ptntlastname'})"
   ],
   "id": "7ab081f0c466542b",
   "outputs": [],
   "execution_count": null
  },
  {
   "metadata": {},
   "cell_type": "code",
   "source": "# cds_ptnt = pd.merge(cds, ptnt1, on='rid', how='left')",
   "id": "29f570f6fd43a364",
   "outputs": [],
   "execution_count": null
  },
  {
   "metadata": {},
   "cell_type": "code",
   "source": "# cds_ptnt.to_csv('consolidated_dataset6.csv', index=False)",
   "id": "9d66b1c30a8781b5",
   "outputs": [],
   "execution_count": null
  },
  {
   "metadata": {},
   "cell_type": "code",
   "source": "",
   "id": "fd9094ec12e18169",
   "outputs": [],
   "execution_count": null
  },
  {
   "metadata": {},
   "cell_type": "code",
   "source": "cds = pd.read_csv('consolidated_dataset6.csv')",
   "id": "ff559cd42b57b0e2",
   "outputs": [],
   "execution_count": null
  },
  {
   "metadata": {},
   "cell_type": "code",
   "source": [
    "# PT Group Dataset\n",
    "ptg_file = path_manager.get_data_file(Category.PT, PTFile.PTG)\n",
    "ptg = get_df(ptg_file.path, ptg_file.sheet, config_file)\n",
    "ptg = ptg.drop(columns=['note'])\n",
    "ptg = ptg.rename(columns={'fcid': 'ptgfcid', 'firstname': 'ptgfirstname', 'lastname': 'ptglastname'})"
   ],
   "id": "21acbe2c8da25e08",
   "outputs": [],
   "execution_count": null
  },
  {
   "metadata": {},
   "cell_type": "code",
   "source": "ptg.to_clipboard(index=False)",
   "id": "6352db18d4794926",
   "outputs": [],
   "execution_count": null
  },
  {
   "metadata": {},
   "cell_type": "code",
   "source": "ptg[ptg.duplicated(subset=['rid'], keep=False)]",
   "id": "a23871fe97d41ad5",
   "outputs": [],
   "execution_count": null
  }
 ],
 "metadata": {
  "kernelspec": {
   "display_name": "Python 3",
   "language": "python",
   "name": "python3"
  },
  "language_info": {
   "codemirror_mode": {
    "name": "ipython",
    "version": 2
   },
   "file_extension": ".py",
   "mimetype": "text/x-python",
   "name": "python",
   "nbconvert_exporter": "python",
   "pygments_lexer": "ipython2",
   "version": "2.7.6"
  }
 },
 "nbformat": 4,
 "nbformat_minor": 5
}
