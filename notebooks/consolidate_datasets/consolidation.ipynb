{
 "cells": [
  {
   "cell_type": "code",
   "id": "initial_id",
   "metadata": {
    "collapsed": true
   },
   "source": "from src.all_in_one import *",
   "outputs": [],
   "execution_count": null
  },
  {
   "metadata": {},
   "cell_type": "code",
   "source": "cds = pd.read_csv('consolidated_dataset1.csv')",
   "id": "4c783c8738d5b7da",
   "outputs": [],
   "execution_count": null
  },
  {
   "metadata": {},
   "cell_type": "code",
   "source": [
    "# Intake dataset\n",
    "# psint_file = path_manager.get_data_file(Category.PS, PSFile.PSNT)\n",
    "# psint_dataset = Dataset(config_file, psint_file.sheet)\n",
    "# psint = get_df(psint_file.path, psint_file.sheet, config_file).sort_values(by='nt_s1')"
   ],
   "id": "b9baf4454cbfa527",
   "outputs": [],
   "execution_count": null
  },
  {
   "metadata": {},
   "cell_type": "code",
   "source": [
    "# psint_0 = psint.drop(columns=['nt_re', 'note']).dropna(subset=['nt_s1'])  # Intake assessment without re intake\n",
    "# psint_0 = psint_0.drop_duplicates(subset=['rid'], keep='first')  # This will drop a beneficiary with R0062 - This rid has two beneficiaries! "
   ],
   "id": "3bd9d87873719093",
   "outputs": [],
   "execution_count": null
  },
  {
   "metadata": {},
   "cell_type": "code",
   "source": "# psreint = psint[['rid', 'nt_re']].dropna()",
   "id": "37b280fb782f4519",
   "outputs": [],
   "execution_count": null
  },
  {
   "metadata": {},
   "cell_type": "code",
   "source": [
    "# Consolidate Intake and re-intake\n",
    "# cpsint = pd.merge(psint_0, psreint, on='rid', how='left')\n",
    "# reint = cpsint['nt_re']\n",
    "# cpsint.drop(columns=['nt_re'], inplace=True)\n",
    "# cpsint.insert(9, 'nt_re', reint)\n",
    "# cpsint"
   ],
   "id": "2ed1f49334a668bb",
   "outputs": [],
   "execution_count": null
  },
  {
   "metadata": {},
   "cell_type": "code",
   "source": "# cds_int = pd.merge(cds, cpsint, on='rid', how='left') ",
   "id": "7a66f9c04b5f02ec",
   "outputs": [],
   "execution_count": null
  },
  {
   "metadata": {},
   "cell_type": "code",
   "source": "# cds_int.to_csv('consolidated_dataset1.csv', index=False)",
   "id": "c916bdeed29a47c7",
   "outputs": [],
   "execution_count": null
  },
  {
   "metadata": {},
   "cell_type": "code",
   "source": [
    "# Group Counseling dataset\n",
    "psg_file = path_manager.get_data_file(Category.PS, PSFile.PSG)\n",
    "psg_dataset = Dataset(config_file, psg_file.sheet)\n",
    "psg = get_df(psg_file.path, psg_file.sheet, config_file).drop_duplicates(subset=['rid'])  # This drop duplicates will drop a beneficiary that has rid of another one."
   ],
   "id": "d86534ab1788e4dc",
   "outputs": [],
   "execution_count": null
  },
  {
   "metadata": {},
   "cell_type": "code",
   "source": "psg = psg.drop(columns=['note'])",
   "id": "623e2b78833d9692",
   "outputs": [],
   "execution_count": null
  },
  {
   "metadata": {},
   "cell_type": "code",
   "source": "psg",
   "id": "f245d7dac1d95dd1",
   "outputs": [],
   "execution_count": null
  },
  {
   "metadata": {},
   "cell_type": "code",
   "source": "cds_g = pd.merge(cds, psg, on='rid', how='left')",
   "id": "10bd4b05811abfa6",
   "outputs": [],
   "execution_count": null
  },
  {
   "metadata": {},
   "cell_type": "code",
   "source": "cds_g.to_csv('consolidated_dataset2.csv', index=False)",
   "id": "d6bdb257d2b43365",
   "outputs": [],
   "execution_count": null
  },
  {
   "metadata": {},
   "cell_type": "code",
   "source": "",
   "id": "4db8bb6cd1efa30a",
   "outputs": [],
   "execution_count": null
  }
 ],
 "metadata": {
  "kernelspec": {
   "display_name": "Python 3",
   "language": "python",
   "name": "python3"
  },
  "language_info": {
   "codemirror_mode": {
    "name": "ipython",
    "version": 2
   },
   "file_extension": ".py",
   "mimetype": "text/x-python",
   "name": "python",
   "nbconvert_exporter": "python",
   "pygments_lexer": "ipython2",
   "version": "2.7.6"
  }
 },
 "nbformat": 4,
 "nbformat_minor": 5
}
