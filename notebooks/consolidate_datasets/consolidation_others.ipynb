{
 "cells": [
  {
   "cell_type": "code",
   "execution_count": 1,
   "id": "initial_id",
   "metadata": {
    "collapsed": true
   },
   "outputs": [
    {
     "name": "stdout",
     "output_type": "stream",
     "text": [
      "No password for tt_pt_FM_v04.11.xlsx\n"
     ]
    }
   ],
   "source": [
    "from src.all_in_one import *"
   ]
  },
  {
   "cell_type": "code",
   "execution_count": 2,
   "id": "8f416a9c15911086",
   "metadata": {},
   "outputs": [],
   "source": [
    "cds = pd.read_csv(r\"notebooks/consolidate_datasets/dec24/consolidated_dataset_ptfu.csv\")"
   ]
  },
  {
   "cell_type": "code",
   "execution_count": 3,
   "id": "aaf8a62b0003728e",
   "metadata": {},
   "outputs": [],
   "source": [
    "# Inventing new two rid as a placeholder for the dataset be able to merged with beneficiaries with no rid.\n",
    "cds.loc[cds.index.max() + 1, \"rid\"] = \"M0001\"\n",
    "cds.loc[cds.index.max() + 1, \"rid\"] = \"M0002\""
   ]
  },
  {
   "cell_type": "code",
   "execution_count": null,
   "id": "dcfa79cff704817d",
   "metadata": {},
   "outputs": [],
   "source": [
    "# TD Dataset\n",
    "td = pd.read_excel(\n",
    "    r\"data/raw/1224/other_services/TD Tracking Tools - December 2024.xlsx\"\n",
    ")\n",
    "td = td[\n",
    "    [\n",
    "        \"TDSP\",\n",
    "        \"Ref #\",\n",
    "        \"FC ID #\",\n",
    "        \"CSLT\",\n",
    "        \"CSNT\",\n",
    "        \"LD\",\n",
    "        \"IU\",\n",
    "        \"CW\",\n",
    "        \"Com\",\n",
    "        \"Adv\",\n",
    "        \"LD ADMSP\",\n",
    "        \"LD SJAC\",\n",
    "        \"IS#1\",\n",
    "        \"IS#2\",\n",
    "        \"IS#3\",\n",
    "        \"Tot\",\n",
    "        \"IU Del\",\n",
    "        \"CDW#1\",\n",
    "        \"CDW#2\",\n",
    "        \"Com Pub\",\n",
    "        \"Adv Partic\",\n",
    "        \"Eva\",\n",
    "        \"Status\",\n",
    "    ]\n",
    "]\n",
    "td = td.rename(\n",
    "    columns={\n",
    "        \"TDSP\": \"tdsp\",\n",
    "        \"Ref #\": \"rid\",\n",
    "        \"FC ID #\": \"tdfcid\",\n",
    "        \"CSLT\": \"cslt_session\",\n",
    "        \"CSNT\": \"csnt_session\",\n",
    "        \"LD\": \"ld\",\n",
    "        \"IU\": \"iu\",\n",
    "        \"CW\": \"cdw\",\n",
    "        \"Com\": \"comm\",\n",
    "        \"Adv\": \"adv\",\n",
    "        \"LD ADMSP\": \"ld_admsp\",\n",
    "        \"LD SJAC\": \"ld_sjac\",\n",
    "        \"IS#1\": \"iu_s1\",\n",
    "        \"IS#2\": \"iu_s2\",\n",
    "        \"IS#3\": \"iu_s3\",\n",
    "        \"Tot\": \"iu_total\",\n",
    "        \"IU Del\": \"iu_del\",\n",
    "        \"CDW#1\": \"cdw_s1\",\n",
    "        \"CDW#2\": \"cdw_s2\",\n",
    "        \"Com Pub\": \"post_date\",\n",
    "        \"Adv Partic\": \"adv_att\",\n",
    "        \"Eva\": \"eva_session\",\n",
    "        \"Status\": \"status\",\n",
    "    }\n",
    ")\n",
    "\n",
    "# There are two beneficiaries with no rid. I will use a placeholder value for them, just to help me merge them to the consolidated dataset.\n",
    "td.loc[0, \"rid\"] = \"M0001\"\n",
    "td.loc[3, \"rid\"] = \"M0002\""
   ]
  },
  {
   "cell_type": "code",
   "execution_count": 6,
   "id": "466ffc953c04b8ff",
   "metadata": {},
   "outputs": [],
   "source": [
    "cds_td = pd.merge(cds, td, on=\"rid\", how=\"left\")"
   ]
  },
  {
   "cell_type": "code",
   "execution_count": 7,
   "id": "40038fa669a7577c",
   "metadata": {},
   "outputs": [],
   "source": [
    "cds_td.to_csv(\n",
    "    r\"notebooks/consolidate_datasets/dec24/consolidated_dataset_td.csv\", index=False\n",
    ")"
   ]
  },
  {
   "cell_type": "code",
   "execution_count": null,
   "id": "bdd7fdb0c0b6640c",
   "metadata": {},
   "outputs": [],
   "source": [
    "# cds = pd.read_csv('consolidated_dataset10.csv')"
   ]
  },
  {
   "cell_type": "code",
   "execution_count": 12,
   "id": "e5a16efcd6c16e9c",
   "metadata": {},
   "outputs": [],
   "source": [
    "# TRW Dataset\n",
    "trw_file = path_manager.get_data_file(Category.PS, PSFile.TRW)\n",
    "trw = get_df(trw_file.path, trw_file.sheet, config_file)\n",
    "trw = trw.drop(columns=[\"fac1\", \"fac2\", \"note\", \"firstname\", \"lastname\"], axis=1)\n",
    "# Correct a beneficiary rid\n",
    "trw.loc[28, \"rid\"] = \"R0358\"\n",
    "# Decide what duplicated rows to drop\n",
    "trw = trw.drop([60, 29], axis=0)\n",
    "trw = trw.rename(columns={\"fcid\": \"trwfcid\"})"
   ]
  },
  {
   "cell_type": "code",
   "execution_count": 11,
   "id": "3282ede3",
   "metadata": {},
   "outputs": [],
   "source": [
    "# trw"
   ]
  },
  {
   "cell_type": "code",
   "execution_count": 14,
   "id": "3f75db40d382c56",
   "metadata": {},
   "outputs": [],
   "source": [
    "cds_trw = pd.merge(cds_td, trw, on=\"rid\", how=\"left\")"
   ]
  },
  {
   "cell_type": "code",
   "execution_count": null,
   "id": "600c4071b742d1c2",
   "metadata": {},
   "outputs": [],
   "source": [
    "cds_trw.to_csv(\n",
    "    r\"notebooks/consolidate_datasets/dec24/consolidated_dataset_trw.csv\", index=False\n",
    ")"
   ]
  },
  {
   "cell_type": "code",
   "execution_count": null,
   "id": "805766a1115a8f0c",
   "metadata": {},
   "outputs": [],
   "source": [
    "# cds = pd.read_csv('consolidated_dataset11.csv')"
   ]
  },
  {
   "cell_type": "code",
   "execution_count": 17,
   "id": "99fe3019d838e162",
   "metadata": {},
   "outputs": [],
   "source": [
    "pei_file = path_manager.get_data_file(Category.PS, PSFile.PEI)\n",
    "pei = get_df(pei_file.path, pei_file.sheet, config_file)\n",
    "pei = pei.drop(columns=[\"note\", \"firstname\", \"lastname\"], axis=1)\n",
    "pei = pei.rename(columns={\"fcid\": \"peifcid\"})"
   ]
  },
  {
   "cell_type": "code",
   "execution_count": 18,
   "id": "d756204e088ded73",
   "metadata": {},
   "outputs": [],
   "source": [
    "cds_pei = pd.merge(cds_trw, pei, on=\"rid\", how=\"left\")"
   ]
  },
  {
   "cell_type": "code",
   "execution_count": 19,
   "id": "984ed06c65323541",
   "metadata": {},
   "outputs": [],
   "source": [
    "cds_pei.to_csv(\n",
    "    r\"notebooks/consolidate_datasets/dec24/consolidated_dataset_pei.csv\", index=False\n",
    ")"
   ]
  },
  {
   "cell_type": "code",
   "execution_count": null,
   "id": "1e0ce5b5d9cc727a",
   "metadata": {},
   "outputs": [],
   "source": [
    "# cds = pd.read_csv('consolidated_dataset12.csv')"
   ]
  },
  {
   "cell_type": "code",
   "execution_count": 23,
   "id": "43e3eadc82e4e4d5",
   "metadata": {},
   "outputs": [],
   "source": [
    "aww_file = path_manager.get_data_file(Category.PS, PSFile.AWW)\n",
    "aww = get_df(aww_file.path, aww_file.sheet, config_file)\n",
    "aww = aww.drop(\n",
    "    columns=[\"note\", \"aws_ci\", \"fcid\", \"sex\", \"age\", \"firstname\", \"lastname\"], axis=1\n",
    ")\n",
    "# aww = aww.rename(columns={'rid': 'awwrid'})"
   ]
  },
  {
   "cell_type": "code",
   "execution_count": null,
   "id": "35023280bbbeb4e8",
   "metadata": {},
   "outputs": [],
   "source": [
    "cds_aww = pd.merge(cds_pei, aww, on=\"rid\", how=\"left\")"
   ]
  },
  {
   "cell_type": "code",
   "execution_count": 25,
   "id": "9e63d87090cdf7bd",
   "metadata": {},
   "outputs": [],
   "source": [
    "cds_aww.to_csv(\n",
    "    r\"notebooks/consolidate_datasets/dec24/consolidated_dataset_complete.csv\",\n",
    "    index=False,\n",
    ")"
   ]
  },
  {
   "cell_type": "code",
   "execution_count": 26,
   "id": "5316ceb5f5f18813",
   "metadata": {},
   "outputs": [],
   "source": [
    "# cds = pd.read_csv('consolidated_dataset13.csv')\n",
    "cds_aww.to_excel(\n",
    "    r\"notebooks/consolidate_datasets/dec24/consolidated_dataset_complete.xlsx\",\n",
    "    index=False,\n",
    ")"
   ]
  }
 ],
 "metadata": {
  "kernelspec": {
   "display_name": ".venv",
   "language": "python",
   "name": "python3"
  },
  "language_info": {
   "codemirror_mode": {
    "name": "ipython",
    "version": 3
   },
   "file_extension": ".py",
   "mimetype": "text/x-python",
   "name": "python",
   "nbconvert_exporter": "python",
   "pygments_lexer": "ipython3",
   "version": "3.12.2"
  }
 },
 "nbformat": 4,
 "nbformat_minor": 5
}
