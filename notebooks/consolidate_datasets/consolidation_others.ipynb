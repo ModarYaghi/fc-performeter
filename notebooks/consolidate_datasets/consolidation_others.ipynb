{
 "cells": [
  {
   "cell_type": "code",
   "id": "initial_id",
   "metadata": {
    "collapsed": true
   },
   "source": "from src.all_in_one import *",
   "outputs": [],
   "execution_count": null
  },
  {
   "metadata": {},
   "cell_type": "code",
   "source": "# cds = pd.read_csv('consolidated_dataset9.csv')",
   "id": "8f416a9c15911086",
   "outputs": [],
   "execution_count": null
  },
  {
   "metadata": {},
   "cell_type": "code",
   "source": [
    "# Inventing new two rid as a placeholder for the dataset be able to merged with beneficiaries with no rid.\n",
    "# cds.loc[cds.index.max() + 1, 'rid'] = 'M0001'\n",
    "# cds.loc[cds.index.max() + 1, 'rid'] = 'M0002'"
   ],
   "id": "aaf8a62b0003728e",
   "outputs": [],
   "execution_count": null
  },
  {
   "metadata": {},
   "cell_type": "code",
   "source": [
    "# TD Dataset\n",
    "# td = pd.read_excel(r'C:\\Users\\fmnya\\fc-performeter\\notebooks\\td_tracker.xlsx')\n",
    "# td = td[['TDSP', 'Ref #', 'FC ID #', 'CSLT', 'CSNT', 'LD', 'IU', 'CW', 'Com', 'Adv', 'LD ADMSP', 'LD SJAC', 'IS#1', 'IS#2', 'IS#3', 'Tot', 'IU Del', 'CDW#1', 'CDW#2', 'Com Pub', 'Adv Partic', 'Eva', 'Status']]\n",
    "# td = td.rename(columns={\n",
    "#     'TDSP': 'tdsp', 'Ref #': 'rid', 'FC ID #': 'tdfcid', 'CSLT': 'cslt_session', 'CSNT': 'csnt_session',\n",
    "#     'LD': 'ld', 'IU': 'iu', 'CW': 'cdw', 'Com': 'comm', 'Adv': 'adv',\n",
    "#     'LD ADMSP': 'ld_admsp', 'LD SJAC': 'ld_sjac', 'IS#1': 'iu_s1', 'IS#2': 'iu_s2', 'IS#3': 'iu_s3', 'Tot': 'iu_total', \n",
    "#     'IU Del': 'iu_del', 'CDW#1': 'cdw_s1', 'CDW#2': 'cdw_s2', 'Com Pub': 'post_date', 'Adv Partic': 'adv_att', \n",
    "#     'Eva': 'eva_session', 'Status': 'status'\n",
    "# })\n",
    "\n",
    "# There are two beneficiaries with no rid. I will use a placeholder value for them, just to help me merge them to the consolidated dataset.\n",
    "# td.loc[0, 'rid'] = 'M0001'\n",
    "# td.loc[3, 'rid'] = 'M0002'"
   ],
   "id": "dcfa79cff704817d",
   "outputs": [],
   "execution_count": null
  },
  {
   "metadata": {},
   "cell_type": "code",
   "source": "# cds_td = pd.merge(cds, td, on='rid', how='left')",
   "id": "466ffc953c04b8ff",
   "outputs": [],
   "execution_count": null
  },
  {
   "metadata": {},
   "cell_type": "code",
   "source": "# cds_td.to_csv('consolidated_dataset10.csv', index=False)",
   "id": "40038fa669a7577c",
   "outputs": [],
   "execution_count": null
  },
  {
   "metadata": {},
   "cell_type": "code",
   "source": "# cds = pd.read_csv('consolidated_dataset10.csv')",
   "id": "bdd7fdb0c0b6640c",
   "outputs": [],
   "execution_count": null
  },
  {
   "metadata": {},
   "cell_type": "code",
   "source": [
    "# TRW Dataset\n",
    "# trw_file = path_manager.get_data_file(Category.PS, PSFile.TRW)\n",
    "# trw = get_df(trw_file.path, trw_file.sheet, config_file)\n",
    "# trw = trw.drop(columns=['fac1','fac2','note'])\n",
    "# Correct a beneficiary rid\n",
    "# trw.loc[28, 'rid'] = 'R0358'\n",
    "# Decide what duplicated rows to drop\n",
    "# trw = trw.drop([60, 29], axis=0)\n",
    "# trw = trw.rename(columns={'fcid': 'trwfcid', 'firstname': 'trwfirstname', 'lastname': 'trwlastname'})"
   ],
   "id": "e5a16efcd6c16e9c",
   "outputs": [],
   "execution_count": null
  },
  {
   "metadata": {},
   "cell_type": "code",
   "source": "# cds_trw = pd.merge(cds, trw, on='rid', how='left')",
   "id": "3f75db40d382c56",
   "outputs": [],
   "execution_count": null
  },
  {
   "metadata": {},
   "cell_type": "code",
   "source": "# cds_trw.to_csv('consolidated_dataset11.csv', index=False)",
   "id": "600c4071b742d1c2",
   "outputs": [],
   "execution_count": null
  },
  {
   "metadata": {},
   "cell_type": "code",
   "source": "# cds = pd.read_csv('consolidated_dataset11.csv')",
   "id": "805766a1115a8f0c",
   "outputs": [],
   "execution_count": null
  },
  {
   "metadata": {},
   "cell_type": "code",
   "source": [
    "# pei_file = path_manager.get_data_file(Category.PS, PSFile.PEI)\n",
    "# pei = get_df(pei_file.path, pei_file.sheet, config_file)\n",
    "# pei = pei.drop(columns=['note'])\n",
    "# pei = pei.rename(columns={'fcid': 'peifcid', 'firstname': 'peifirstname', 'lastname': 'peilastname'})"
   ],
   "id": "99fe3019d838e162",
   "outputs": [],
   "execution_count": null
  },
  {
   "metadata": {},
   "cell_type": "code",
   "source": "# cds_pei = pd.merge(cds, pei, on='rid', how='left')",
   "id": "d756204e088ded73",
   "outputs": [],
   "execution_count": null
  },
  {
   "metadata": {},
   "cell_type": "code",
   "source": "# cds_pei.to_csv('consolidated_dataset12.csv', index=False)",
   "id": "984ed06c65323541",
   "outputs": [],
   "execution_count": null
  },
  {
   "metadata": {},
   "cell_type": "code",
   "source": "# cds = pd.read_csv('consolidated_dataset12.csv')",
   "id": "1e0ce5b5d9cc727a",
   "outputs": [],
   "execution_count": null
  },
  {
   "metadata": {},
   "cell_type": "code",
   "source": [
    "# aww_file = path_manager.get_data_file(Category.PS, PSFile.AWW)\n",
    "# aww = get_df(aww_file.path, aww_file.sheet, config_file)\n",
    "# aww = aww.drop(columns=['note', 'aws_ci', 'fcid', 'sex', 'age'])\n",
    "# aww = aww.rename(columns={'firstname': 'awwfirstname', 'lastname': 'awwlastname'})"
   ],
   "id": "43e3eadc82e4e4d5",
   "outputs": [],
   "execution_count": null
  },
  {
   "metadata": {},
   "cell_type": "code",
   "source": "# cds_aww = pd.merge(cds, aww, on='rid', how='left')",
   "id": "35023280bbbeb4e8",
   "outputs": [],
   "execution_count": null
  },
  {
   "metadata": {},
   "cell_type": "code",
   "source": "# cds_aww.to_csv('consolidated_dataset13.csv', index=False)",
   "id": "9e63d87090cdf7bd",
   "outputs": [],
   "execution_count": null
  },
  {
   "metadata": {},
   "cell_type": "code",
   "source": "cds = pd.read_csv('consolidated_dataset13.csv')",
   "id": "5316ceb5f5f18813",
   "outputs": [],
   "execution_count": null
  }
 ],
 "metadata": {
  "kernelspec": {
   "display_name": "Python 3",
   "language": "python",
   "name": "python3"
  },
  "language_info": {
   "codemirror_mode": {
    "name": "ipython",
    "version": 2
   },
   "file_extension": ".py",
   "mimetype": "text/x-python",
   "name": "python",
   "nbconvert_exporter": "python",
   "pygments_lexer": "ipython2",
   "version": "2.7.6"
  }
 },
 "nbformat": 4,
 "nbformat_minor": 5
}
