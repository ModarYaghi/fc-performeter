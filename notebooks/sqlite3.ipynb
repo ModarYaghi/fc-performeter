{
 "cells": [
  {
   "cell_type": "code",
   "execution_count": 1,
   "id": "initial_id",
   "metadata": {
    "collapsed": true,
    "ExecuteTime": {
     "end_time": "2024-02-07T09:11:05.481725900Z",
     "start_time": "2024-02-07T09:11:04.260373500Z"
    }
   },
   "outputs": [],
   "source": [
    "import sqlite3\n",
    "import pandas as pd\n",
    "import csv\n",
    "from src.all_in_one import *"
   ]
  },
  {
   "cell_type": "code",
   "outputs": [
    {
     "data": {
      "text/plain": "Index(['gcsp', 'gcspi', 'rid', 'fcid', 'firstname', 'lastname', 'need_pt',\n       'gc_index', 'gc_class', 'gc_s1', 'gc_s2', 'gc_s3', 'gc_s4', 'gc_check',\n       'gc_s5', 'gc_s6', 'gc_s7', 'gc_s8', 'gc_s9', 'gc_10', 'gc_total',\n       'note'],\n      dtype='object')"
     },
     "execution_count": 2,
     "metadata": {},
     "output_type": "execute_result"
    }
   ],
   "source": [
    "gc = pd.read_csv(gc_path)\n",
    "gc.columns"
   ],
   "metadata": {
    "collapsed": false,
    "ExecuteTime": {
     "end_time": "2024-02-07T09:11:07.576517300Z",
     "start_time": "2024-02-07T09:11:07.557921Z"
    }
   },
   "id": "2014f8f33e2abd8",
   "execution_count": 2
  },
  {
   "cell_type": "code",
   "outputs": [],
   "source": [
    "def create_table_from_csv(csv_filepath, db_connection):\n",
    "    \n",
    "    with open(csv_filepath, 'r') as csvfile:\n",
    "        reader = csv.reader(csvfile)\n",
    "        columns = next(reader)\n",
    "        \n",
    "        column_definitions = ', '.join([\n",
    "            f'\"{col}\" TEXT' for col in columns\n",
    "        ])\n",
    "        \n",
    "        table_name = 'tb_gc'\n",
    "        \n",
    "        create_table_sql = f'CREATE TABLE IF NOT EXISTS \"{table_name}\" ({column_definitions})'\n",
    "        \n",
    "        cursor = db_connection.cursor()\n",
    "        cursor.execute(create_table_sql)\n",
    "        db_connection.commit()"
   ],
   "metadata": {
    "collapsed": false,
    "ExecuteTime": {
     "end_time": "2024-02-07T09:18:50.435870600Z",
     "start_time": "2024-02-07T09:18:50.421254800Z"
    }
   },
   "id": "3e16567dd168ef22",
   "execution_count": 3
  },
  {
   "cell_type": "code",
   "outputs": [],
   "source": [
    "db_conn = sqlite3.connect('my_dataset.db')\n",
    "create_table_from_csv(gc_path, db_conn)"
   ],
   "metadata": {
    "collapsed": false,
    "ExecuteTime": {
     "end_time": "2024-02-07T09:20:13.296871700Z",
     "start_time": "2024-02-07T09:20:13.272293400Z"
    }
   },
   "id": "107e538389a5b18f",
   "execution_count": 4
  },
  {
   "cell_type": "code",
   "outputs": [],
   "source": [
    "def import_csv_data(csv_filepath, db_connection, table_name):\n",
    "    \n",
    "    with open(csv_filepath, 'r') as csvfile:\n",
    "        reader = csv.DictReader(csvfile)\n",
    "        columns = reader.fieldnames\n",
    "        placeholders = ', '.join(['?'] * len(columns))\n",
    "        insert_sql = f'INSERT INTO \"{table_name}\" ({\", \".join([f\"\\\"{col}\\\"\" for col in columns])}) VALUES ({placeholders})'\n",
    "        \n",
    "        for row in reader:\n",
    "            values = [row[col] for col in columns]\n",
    "            db_connection.execute(insert_sql, values)\n",
    "        db_connection.commit()"
   ],
   "metadata": {
    "collapsed": false,
    "ExecuteTime": {
     "end_time": "2024-02-07T09:26:36.686119Z",
     "start_time": "2024-02-07T09:26:36.664164700Z"
    }
   },
   "id": "75e75ab5838febb4",
   "execution_count": 5
  },
  {
   "cell_type": "code",
   "outputs": [],
   "source": [
    "import_csv_data(gc_path, db_conn, 'tb_gc')"
   ],
   "metadata": {
    "collapsed": false,
    "ExecuteTime": {
     "end_time": "2024-02-07T09:27:07.763847700Z",
     "start_time": "2024-02-07T09:27:07.748629400Z"
    }
   },
   "id": "c6e1768e7af1bcb4",
   "execution_count": 6
  },
  {
   "cell_type": "code",
   "outputs": [],
   "source": [
    "def display_table_data(db_connection, table_name, limit=10):\n",
    "    cursor = db_connection.cursor()\n",
    "    query_sql = f'SELECT * FROM \"{table_name}\" LIMIT {limit}'\n",
    "    cursor.execute(query_sql)\n",
    "    rows = cursor.fetchall()\n",
    "    \n",
    "    if rows:\n",
    "        for row in rows:\n",
    "            print(row)\n",
    "    else:\n",
    "        print(f\"No data found in table {table_name}.\")"
   ],
   "metadata": {
    "collapsed": false,
    "ExecuteTime": {
     "end_time": "2024-02-07T09:32:27.436201500Z",
     "start_time": "2024-02-07T09:32:27.423126100Z"
    }
   },
   "id": "75a2b74a29bdec0a",
   "execution_count": 7
  },
  {
   "cell_type": "code",
   "outputs": [
    {
     "name": "stdout",
     "output_type": "stream",
     "text": [
      "('IJ', '1', 'R0501', '8110020120', 'راميا', 'مشلح', 'GPT', '', 'Female(41-45)', '2022-11-16', '2022-11-23', '2022-11-30', '2022-12-07', '2022-12-13', '2022-12-14', '2022-12-21', '2022-12-28', '2023-01-04', '', '2023-01-18', '9', '')\n",
      "('IJ', '2', 'R0367', '8110020110', 'أمينة', 'صباحي', 'GPT', '', 'Female(41-45)', '2022-11-16', '2022-11-23', '2022-11-30', '2022-12-07', '2022-12-13', '2022-12-14', '2022-12-21', '2022-12-28', '2023-01-04', '2023-01-11', '2023-01-18', '10', '')\n",
      "('IJ', '3', 'R0441', '8110050063', 'فاطمة', 'حسن الأحمد', 'GPT', '', 'Female(41-45)', '2022-11-16', '', '2022-11-30', '2022-12-07', '2022-12-08', '2022-12-14', '', '2022-12-28', '2023-01-04', '2023-01-11', '2023-01-18', '8', '')\n",
      "('IJ', '4', 'R0391', '8110050067', 'رقية', 'عبد الله', 'GPT', '', 'Female(41-45)', '2022-11-16', '2022-11-23', '2022-11-30', '2022-12-07', '2022-12-09', '2022-12-14', '2022-12-21', '2022-12-28', '2023-01-04', '2023-01-11', '2023-01-18', '10', '')\n",
      "('IJ', '5', 'R0348', '8110020097', 'نادية', 'عبد المجيد', 'GPT', '', 'Female(41-45)', '2022-11-16', '2022-11-23', '2022-11-30', '2022-12-07', '2022-12-12', '2022-12-14', '2022-12-21', '2022-12-28', '2023-01-04', '2023-01-11', '2023-01-18', '10', 'يوجد تحديث')\n",
      "('IJ', '6', 'R0450', '8110080001', 'آية', 'فاضل', 'GPT', '', 'Female(20-30)', '', '', '2023-01-23', '', '', '', '', '', '', '', '', '1', 'تم اعلاق الملف المستفيدة لاتريد اكمال الخدمات ')\n",
      "('IJ', '7', 'R0571', '8110080004', 'سميحة', 'نجمة', 'GPT', '', 'Female(20-30)', '2023-01-09', '2023-01-16', '2023-01-23', '2023-01-30', '2023-02-02', '2023-08-09', '2023-08-16', '2023-08-23', '2023-08-31', '2023-09-06', '2023-09-13', '10', '')\n",
      "('IJ', '8', 'R0451', '8110090005', 'زينب', 'موسى', 'GPT', '', 'Female(20-30)', '2023-01-09', '2023-01-16', '2023-01-23', '2023-01-30', '2023-02-02', '2023-08-09', '2023-08-16', '2023-08-23', '2023-08-31', '2023-09-06', '2023-09-13', '10', '')\n",
      "('IJ', '9', 'R0613', '8110090006', 'هبة', 'كردي', 'GPT', '', 'Female(20-30)', '2023-01-09', '2023-01-16', '2023-01-23', '', '2023-02-02', '2023-08-09', '2023-08-16', '2023-08-23', '2023-08-31', '2023-09-06', '2023-09-13', '9', '')\n",
      "('IJ', '10', 'R0460', '8110090003', 'سهى', 'الحسن', 'GPT', '', 'Female(20-30)', '2023-01-09', '2023-01-16', '2023-01-23', '2023-01-30', '2023-02-02', '2023-08-09', '2023-08-16', '2023-08-23', '2023-08-31', '2023-09-06', '2023-09-13', '10', '')\n"
     ]
    }
   ],
   "source": [
    "display_table_data(db_conn, 'tb_gc', limit=10)"
   ],
   "metadata": {
    "collapsed": false,
    "ExecuteTime": {
     "end_time": "2024-02-07T09:33:06.441957600Z",
     "start_time": "2024-02-07T09:33:06.423467Z"
    }
   },
   "id": "846e3c1f3c8aa9d5",
   "execution_count": 8
  },
  {
   "cell_type": "code",
   "outputs": [],
   "source": [],
   "metadata": {
    "collapsed": false
   },
   "id": "43337109d9b9ad93"
  }
 ],
 "metadata": {
  "kernelspec": {
   "display_name": "Python 3",
   "language": "python",
   "name": "python3"
  },
  "language_info": {
   "codemirror_mode": {
    "name": "ipython",
    "version": 2
   },
   "file_extension": ".py",
   "mimetype": "text/x-python",
   "name": "python",
   "nbconvert_exporter": "python",
   "pygments_lexer": "ipython2",
   "version": "2.7.6"
  }
 },
 "nbformat": 4,
 "nbformat_minor": 5
}
