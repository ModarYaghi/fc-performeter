{
 "cells": [
  {
   "cell_type": "code",
   "execution_count": null,
   "id": "initial_id",
   "metadata": {
    "collapsed": true
   },
   "outputs": [],
   "source": [
    "import pandas as pd\n",
    "from src.all_in_one import *\n",
    "from src.analysis_functions import *"
   ]
  },
  {
   "cell_type": "code",
   "outputs": [],
   "source": [
    "path = os.path.join(processed_data, 'int_1223.csv')\n",
    "sheet_name = 'Int'\n",
    "df_dataset = Dataset(config_file, sheet_name)\n",
    "int = pd.read_csv(path)\n",
    "int = dtype_trans(int, df_dataset)"
   ],
   "metadata": {
    "collapsed": false
   },
   "id": "7e597d2bbea95cc7",
   "execution_count": null
  },
  {
   "cell_type": "code",
   "outputs": [],
   "source": [
    "threshold = '2023-09-30'"
   ],
   "metadata": {
    "collapsed": false
   },
   "id": "877d310ce3d8bf1d",
   "execution_count": null
  },
  {
   "cell_type": "code",
   "outputs": [],
   "source": [
    "int_q4 = filter_df_by_date(int, df_dataset.dvars, threshold, comparison_type='a')"
   ],
   "metadata": {
    "collapsed": false
   },
   "id": "42f995c03dd1af07",
   "execution_count": null
  },
  {
   "cell_type": "code",
   "outputs": [],
   "source": [
    "int_q4"
   ],
   "metadata": {
    "collapsed": false
   },
   "id": "ed03ecab056996ee",
   "execution_count": null
  },
  {
   "cell_type": "code",
   "outputs": [],
   "source": [
    "int_new = filter_df_by_date(int_q4, ['nt_s1'], threshold, comparison_type='a')"
   ],
   "metadata": {
    "collapsed": false
   },
   "id": "729e6334ac9a08f6",
   "execution_count": null
  },
  {
   "cell_type": "code",
   "outputs": [],
   "source": [
    "int_new"
   ],
   "metadata": {
    "collapsed": false
   },
   "id": "bf8523517d73b1d5",
   "execution_count": null
  },
  {
   "cell_type": "code",
   "outputs": [],
   "source": [
    "scr_path = os.path.join(processed_data, 'scr_1223.csv')\n",
    "screening = 'Scr'\n",
    "scr_dataset = Dataset(config_file, screening)\n",
    "scr = pd.read_csv(scr_path)\n",
    "scr = dtype_trans(scr, scr_dataset)\n",
    "unique_scr = scr.drop_duplicates(subset='rid')"
   ],
   "metadata": {
    "collapsed": false
   },
   "id": "2b731a566e9cd92e",
   "execution_count": null
  },
  {
   "cell_type": "code",
   "outputs": [],
   "source": [
    "int_new_sex_age = pd.merge(int_new, unique_scr[['rid', 'sex', 'age']], on='rid', how='left')"
   ],
   "metadata": {
    "collapsed": false
   },
   "id": "2713e0c93d43f4e6",
   "execution_count": null
  },
  {
   "cell_type": "code",
   "outputs": [],
   "source": [
    "int_new_sex_age"
   ],
   "metadata": {
    "collapsed": false
   },
   "id": "e6ad1ef4ff43357b",
   "execution_count": null
  },
  {
   "cell_type": "code",
   "outputs": [],
   "source": [
    "# int_new_sex_age['sex'].value_counts()"
   ],
   "metadata": {
    "collapsed": false
   },
   "id": "219f78b608fbdc3d",
   "execution_count": null
  },
  {
   "cell_type": "code",
   "outputs": [],
   "source": [
    "# age = int_new_sex_age['age']\n",
    "# age_groups = categorize_and_count_ages(age)\n",
    "# age_groups.value_counts()"
   ],
   "metadata": {
    "collapsed": false
   },
   "id": "a49e534ceb75b265",
   "execution_count": null
  },
  {
   "cell_type": "code",
   "outputs": [],
   "source": [
    "int_q4['other'].value_counts()"
   ],
   "metadata": {
    "collapsed": false
   },
   "id": "e6b72e5bf040ae2a",
   "execution_count": null
  },
  {
   "cell_type": "code",
   "outputs": [],
   "source": [
    "int_q4"
   ],
   "metadata": {
    "collapsed": false
   },
   "id": "a9bff5c56de563ce",
   "execution_count": null
  }
 ],
 "metadata": {
  "kernelspec": {
   "display_name": "Python 3",
   "language": "python",
   "name": "python3"
  },
  "language_info": {
   "codemirror_mode": {
    "name": "ipython",
    "version": 2
   },
   "file_extension": ".py",
   "mimetype": "text/x-python",
   "name": "python",
   "nbconvert_exporter": "python",
   "pygments_lexer": "ipython2",
   "version": "2.7.6"
  }
 },
 "nbformat": 4,
 "nbformat_minor": 5
}
