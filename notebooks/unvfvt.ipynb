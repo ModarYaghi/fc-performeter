{
 "cells": [
  {
   "cell_type": "code",
   "id": "initial_id",
   "metadata": {
    "collapsed": true,
    "ExecuteTime": {
     "end_time": "2024-10-14T01:45:39.583225Z",
     "start_time": "2024-10-14T01:45:38.759005Z"
    }
   },
   "source": "from src.all_in_one import *",
   "outputs": [],
   "execution_count": 1
  },
  {
   "cell_type": "markdown",
   "source": "# UNIQUE SCREENING BENEFICIARIES RECORDS",
   "metadata": {
    "collapsed": false
   },
   "id": "7dfd63881e541747"
  },
  {
   "cell_type": "code",
   "source": [
    "scr_file = path_manager.get_data_file(Category.PS, PSFile.SCR)\n",
    "scr = get_df(scr_file.path, scr_file.sheet, config_file)\n",
    "scr = scr.sort_values(by=['sc_s1'])\n",
    "unique_scr = scr.drop_duplicates(subset='rid')"
   ],
   "metadata": {
    "collapsed": false,
    "ExecuteTime": {
     "end_time": "2024-10-14T01:45:42.820486Z",
     "start_time": "2024-10-14T01:45:42.690357Z"
    }
   },
   "id": "f6ca545046cfc7b6",
   "outputs": [],
   "execution_count": 2
  },
  {
   "metadata": {
    "ExecuteTime": {
     "end_time": "2024-10-14T01:37:46.433080Z",
     "start_time": "2024-10-14T01:37:46.428260Z"
    }
   },
   "cell_type": "code",
   "source": "# unique_scr",
   "id": "f3d5c784955ff3c3",
   "outputs": [],
   "execution_count": 5
  },
  {
   "cell_type": "markdown",
   "source": "# UNIQUE INTAKE BENEFICIARIES RECORD",
   "metadata": {
    "collapsed": false
   },
   "id": "8b4ec0b857e201bf"
  },
  {
   "metadata": {
    "ExecuteTime": {
     "end_time": "2024-10-14T01:45:45.352532Z",
     "start_time": "2024-10-14T01:45:45.344687Z"
    }
   },
   "cell_type": "code",
   "source": [
    "intake_s2 = [\"rid\", \"fcid\", \"service\",\"nt_s2\", \"family_of_missing\", \"survivor_of_detention\", \"primary_torture\", \"secondary_torture\", \"sexual_violation_a\", \"sexual_violation_p\", \"hrd\", \"journalist\", \"wov\", \"stgbv\", \"lgbti\", \"other\"]\n",
    "intake_s3 = [\"rid\", \"fcid\", \"service\",\"nt_s3\", \"family_of_missing\", \"survivor_of_detention\", \"primary_torture\", \"secondary_torture\", \"sexual_violation_a\", \"sexual_violation_p\", \"hrd\", \"journalist\", \"wov\", \"stgbv\", \"lgbti\", \"other\"]\n",
    "intake_re = [\"rid\", \"fcid\", \"service\",\"nt_re\", \"family_of_missing\", \"survivor_of_detention\", \"primary_torture\", \"secondary_torture\", \"sexual_violation_a\", \"sexual_violation_p\", \"hrd\", \"journalist\", \"wov\", \"stgbv\", \"lgbti\", \"other\"]\n",
    "int_criteria = [\"rid\", \"family_of_missing\", \"survivor_of_detention\", \"primary_torture\", \"secondary_torture\", \"sexual_violation_a\", \"sexual_violation_p\", \"hrd\", \"journalist\", \"wov\", \"stgbv\", \"lgbti\", \"other\"]\n"
   ],
   "id": "ae2b05bdfa846e84",
   "outputs": [],
   "execution_count": 3
  },
  {
   "cell_type": "code",
   "source": [
    "int_file = path_manager.get_data_file(Category.PS, PSFile.PSNT)\n",
    "intake = get_df(int_file.path, int_file.sheet, config_file)\n",
    "intake.insert(4, \"service\", None)\n",
    "intake = intake.sort_values(by=['nt_s1', 'nt_s2', 'nt_s3', 'nt_re'], ascending=True)\n",
    "unique_intake = intake.drop_duplicates(subset='rid', keep='last')"
   ],
   "metadata": {
    "collapsed": false,
    "ExecuteTime": {
     "end_time": "2024-10-14T01:45:50.838594Z",
     "start_time": "2024-10-14T01:45:50.717202Z"
    }
   },
   "id": "c5e7201a5c870edb",
   "outputs": [],
   "execution_count": 4
  },
  {
   "metadata": {
    "ExecuteTime": {
     "end_time": "2024-10-14T01:57:16.323568Z",
     "start_time": "2024-10-14T01:57:16.319294Z"
    }
   },
   "cell_type": "code",
   "source": "# unique_intake",
   "id": "335de49c62e9b07d",
   "outputs": [],
   "execution_count": 17
  },
  {
   "cell_type": "code",
   "source": [
    "# path = os.path.join(unvfvt23, 'ptreintBeneficiaries23.csv')\n",
    "# ptreint = pd.read_csv(path)\n",
    "# ptreint.insert(4, 'session_num', 0)\n",
    "# ptreint = pd.merge(ptreint, unique_intake[[\"rid\", \"family_of_missing\", \"survivor_of_detention\", \"primary_torture\", \"secondary_torture\", \"sexual_violation_a\", \"sexual_violation_p\", \"hrd\", \"journalist\", \"wov\", \"stgbv\", \"lgbti\", \"other\"]], on='rid', how='left')\n",
    "# ptreint = pd.merge(ptreint, unique_scr[['rid', 'sex', 'age']], on='rid', how='left')\n",
    "# ptreint"
   ],
   "metadata": {
    "collapsed": false
   },
   "id": "b75e787de0500e07",
   "outputs": [],
   "execution_count": null
  },
  {
   "cell_type": "code",
   "source": [
    "# ptreint.to_csv(path, index=False)"
   ],
   "metadata": {
    "collapsed": false
   },
   "id": "d1c566c0d6127250",
   "outputs": [],
   "execution_count": null
  },
  {
   "cell_type": "markdown",
   "source": [
    "## PSYCHOSOCIAL INTAKE ASSESSMENT PROCESSING"
   ],
   "metadata": {
    "collapsed": false
   },
   "id": "9bd580849ff756a6"
  },
  {
   "cell_type": "code",
   "source": [
    "intake_24 = filter_dataframe_on_date(intake, 'nt_s2', START, END)\n",
    "intake_24 = intake_24[intake_s2]\n",
    "intake_24[\"service\"] = \"int\"\n",
    "intake_24.rename(columns={\"nt_s2\": \"date\"}, inplace=True)"
   ],
   "metadata": {
    "collapsed": false,
    "ExecuteTime": {
     "end_time": "2024-10-14T01:50:00.822855Z",
     "start_time": "2024-10-14T01:50:00.812140Z"
    }
   },
   "id": "3bd277f5e79c3f74",
   "outputs": [],
   "execution_count": 7
  },
  {
   "metadata": {
    "ExecuteTime": {
     "end_time": "2024-10-14T01:50:06.852482Z",
     "start_time": "2024-10-14T01:50:06.838261Z"
    }
   },
   "cell_type": "code",
   "source": "intake_24",
   "id": "433df760c576554a",
   "outputs": [
    {
     "data": {
      "text/plain": [
       "      rid        fcid service       date family_of_missing  \\\n",
       "38  R0861  8110080030     int 2024-07-12                No   \n",
       "39  R1452  8110080031     int 2024-09-09                No   \n",
       "\n",
       "   survivor_of_detention primary_torture secondary_torture sexual_violation_a  \\\n",
       "38                    No              No               Yes                 No   \n",
       "39                   Yes             Yes               Yes                 No   \n",
       "\n",
       "   sexual_violation_p  hrd journalist  wov stgbv lgbti other  \n",
       "38                 No   No         No  Yes    No    No    No  \n",
       "39                Yes  Yes         No  Yes    No    No    No  "
      ],
      "text/html": [
       "<div>\n",
       "<style scoped>\n",
       "    .dataframe tbody tr th:only-of-type {\n",
       "        vertical-align: middle;\n",
       "    }\n",
       "\n",
       "    .dataframe tbody tr th {\n",
       "        vertical-align: top;\n",
       "    }\n",
       "\n",
       "    .dataframe thead th {\n",
       "        text-align: right;\n",
       "    }\n",
       "</style>\n",
       "<table border=\"1\" class=\"dataframe\">\n",
       "  <thead>\n",
       "    <tr style=\"text-align: right;\">\n",
       "      <th></th>\n",
       "      <th>rid</th>\n",
       "      <th>fcid</th>\n",
       "      <th>service</th>\n",
       "      <th>date</th>\n",
       "      <th>family_of_missing</th>\n",
       "      <th>survivor_of_detention</th>\n",
       "      <th>primary_torture</th>\n",
       "      <th>secondary_torture</th>\n",
       "      <th>sexual_violation_a</th>\n",
       "      <th>sexual_violation_p</th>\n",
       "      <th>hrd</th>\n",
       "      <th>journalist</th>\n",
       "      <th>wov</th>\n",
       "      <th>stgbv</th>\n",
       "      <th>lgbti</th>\n",
       "      <th>other</th>\n",
       "    </tr>\n",
       "  </thead>\n",
       "  <tbody>\n",
       "    <tr>\n",
       "      <th>38</th>\n",
       "      <td>R0861</td>\n",
       "      <td>8110080030</td>\n",
       "      <td>int</td>\n",
       "      <td>2024-07-12</td>\n",
       "      <td>No</td>\n",
       "      <td>No</td>\n",
       "      <td>No</td>\n",
       "      <td>Yes</td>\n",
       "      <td>No</td>\n",
       "      <td>No</td>\n",
       "      <td>No</td>\n",
       "      <td>No</td>\n",
       "      <td>Yes</td>\n",
       "      <td>No</td>\n",
       "      <td>No</td>\n",
       "      <td>No</td>\n",
       "    </tr>\n",
       "    <tr>\n",
       "      <th>39</th>\n",
       "      <td>R1452</td>\n",
       "      <td>8110080031</td>\n",
       "      <td>int</td>\n",
       "      <td>2024-09-09</td>\n",
       "      <td>No</td>\n",
       "      <td>Yes</td>\n",
       "      <td>Yes</td>\n",
       "      <td>Yes</td>\n",
       "      <td>No</td>\n",
       "      <td>Yes</td>\n",
       "      <td>Yes</td>\n",
       "      <td>No</td>\n",
       "      <td>Yes</td>\n",
       "      <td>No</td>\n",
       "      <td>No</td>\n",
       "      <td>No</td>\n",
       "    </tr>\n",
       "  </tbody>\n",
       "</table>\n",
       "</div>"
      ]
     },
     "execution_count": 8,
     "metadata": {},
     "output_type": "execute_result"
    }
   ],
   "execution_count": 8
  },
  {
   "cell_type": "code",
   "source": [
    "intake3_24 = filter_dataframe_on_date(intake, 'nt_s3', START, END)\n",
    "intake3_24 = intake3_24[intake_s3]\n",
    "intake3_24[\"service\"] = \"int\"\n",
    "intake3_24.rename(columns={\"nt_s3\": \"date\"}, inplace=True)"
   ],
   "metadata": {
    "collapsed": false,
    "ExecuteTime": {
     "end_time": "2024-10-14T01:55:10.639590Z",
     "start_time": "2024-10-14T01:55:10.631038Z"
    }
   },
   "id": "2d5fbae3de9ac652",
   "outputs": [],
   "execution_count": 11
  },
  {
   "metadata": {
    "ExecuteTime": {
     "end_time": "2024-10-14T01:55:19.470923Z",
     "start_time": "2024-10-14T01:55:19.466813Z"
    }
   },
   "cell_type": "code",
   "source": "# intake3_24",
   "id": "3db9601ef25fd30a",
   "outputs": [],
   "execution_count": 13
  },
  {
   "cell_type": "markdown",
   "source": [
    "## PSYCHOSOCIAL RE-INTAKE ASSESSMENT PROCESSING"
   ],
   "metadata": {
    "collapsed": false
   },
   "id": "fce221b37aa3b482"
  },
  {
   "cell_type": "code",
   "source": [
    "reintake_24 = filter_dataframe_on_date(intake, 'nt_re', START, END)\n",
    "reintake_24 = reintake_24[intake_re]\n",
    "reintake_24[\"service\"] = \"re\"\n",
    "reintake_24.rename(columns={\"nt_re\": \"date\"}, inplace=True)"
   ],
   "metadata": {
    "collapsed": false,
    "ExecuteTime": {
     "end_time": "2024-10-14T01:56:04.421280Z",
     "start_time": "2024-10-14T01:56:04.411515Z"
    }
   },
   "id": "bccf37defd21eb2a",
   "outputs": [],
   "execution_count": 14
  },
  {
   "metadata": {
    "ExecuteTime": {
     "end_time": "2024-10-14T01:56:08.380964Z",
     "start_time": "2024-10-14T01:56:08.364949Z"
    }
   },
   "cell_type": "code",
   "source": "reintake_24",
   "id": "ccfe5a99670859f8",
   "outputs": [
    {
     "data": {
      "text/plain": [
       "      rid        fcid service       date family_of_missing  \\\n",
       "77  R1220  8110110015      re 2024-09-09                No   \n",
       "78  R1273  8110110016      re 2024-09-11                No   \n",
       "79  R1265  8110110017      re 2024-09-10               Yes   \n",
       "33  R1277  8110080027      re 2024-09-10               Yes   \n",
       "\n",
       "   survivor_of_detention primary_torture secondary_torture sexual_violation_a  \\\n",
       "77                   Yes              No               Yes                 No   \n",
       "78                   Yes             Yes               Yes                 No   \n",
       "79                    No              No               Yes                 No   \n",
       "33                    No             Yes               Yes                 No   \n",
       "\n",
       "   sexual_violation_p hrd journalist  wov stgbv lgbti other  \n",
       "77                 No  No         No  Yes    No    No    No  \n",
       "78                 No  No         No  Yes    No    No    No  \n",
       "79                 No  No         No  Yes    No    No    No  \n",
       "33                Yes  No         No  Yes    No    No    No  "
      ],
      "text/html": [
       "<div>\n",
       "<style scoped>\n",
       "    .dataframe tbody tr th:only-of-type {\n",
       "        vertical-align: middle;\n",
       "    }\n",
       "\n",
       "    .dataframe tbody tr th {\n",
       "        vertical-align: top;\n",
       "    }\n",
       "\n",
       "    .dataframe thead th {\n",
       "        text-align: right;\n",
       "    }\n",
       "</style>\n",
       "<table border=\"1\" class=\"dataframe\">\n",
       "  <thead>\n",
       "    <tr style=\"text-align: right;\">\n",
       "      <th></th>\n",
       "      <th>rid</th>\n",
       "      <th>fcid</th>\n",
       "      <th>service</th>\n",
       "      <th>date</th>\n",
       "      <th>family_of_missing</th>\n",
       "      <th>survivor_of_detention</th>\n",
       "      <th>primary_torture</th>\n",
       "      <th>secondary_torture</th>\n",
       "      <th>sexual_violation_a</th>\n",
       "      <th>sexual_violation_p</th>\n",
       "      <th>hrd</th>\n",
       "      <th>journalist</th>\n",
       "      <th>wov</th>\n",
       "      <th>stgbv</th>\n",
       "      <th>lgbti</th>\n",
       "      <th>other</th>\n",
       "    </tr>\n",
       "  </thead>\n",
       "  <tbody>\n",
       "    <tr>\n",
       "      <th>77</th>\n",
       "      <td>R1220</td>\n",
       "      <td>8110110015</td>\n",
       "      <td>re</td>\n",
       "      <td>2024-09-09</td>\n",
       "      <td>No</td>\n",
       "      <td>Yes</td>\n",
       "      <td>No</td>\n",
       "      <td>Yes</td>\n",
       "      <td>No</td>\n",
       "      <td>No</td>\n",
       "      <td>No</td>\n",
       "      <td>No</td>\n",
       "      <td>Yes</td>\n",
       "      <td>No</td>\n",
       "      <td>No</td>\n",
       "      <td>No</td>\n",
       "    </tr>\n",
       "    <tr>\n",
       "      <th>78</th>\n",
       "      <td>R1273</td>\n",
       "      <td>8110110016</td>\n",
       "      <td>re</td>\n",
       "      <td>2024-09-11</td>\n",
       "      <td>No</td>\n",
       "      <td>Yes</td>\n",
       "      <td>Yes</td>\n",
       "      <td>Yes</td>\n",
       "      <td>No</td>\n",
       "      <td>No</td>\n",
       "      <td>No</td>\n",
       "      <td>No</td>\n",
       "      <td>Yes</td>\n",
       "      <td>No</td>\n",
       "      <td>No</td>\n",
       "      <td>No</td>\n",
       "    </tr>\n",
       "    <tr>\n",
       "      <th>79</th>\n",
       "      <td>R1265</td>\n",
       "      <td>8110110017</td>\n",
       "      <td>re</td>\n",
       "      <td>2024-09-10</td>\n",
       "      <td>Yes</td>\n",
       "      <td>No</td>\n",
       "      <td>No</td>\n",
       "      <td>Yes</td>\n",
       "      <td>No</td>\n",
       "      <td>No</td>\n",
       "      <td>No</td>\n",
       "      <td>No</td>\n",
       "      <td>Yes</td>\n",
       "      <td>No</td>\n",
       "      <td>No</td>\n",
       "      <td>No</td>\n",
       "    </tr>\n",
       "    <tr>\n",
       "      <th>33</th>\n",
       "      <td>R1277</td>\n",
       "      <td>8110080027</td>\n",
       "      <td>re</td>\n",
       "      <td>2024-09-10</td>\n",
       "      <td>Yes</td>\n",
       "      <td>No</td>\n",
       "      <td>Yes</td>\n",
       "      <td>Yes</td>\n",
       "      <td>No</td>\n",
       "      <td>Yes</td>\n",
       "      <td>No</td>\n",
       "      <td>No</td>\n",
       "      <td>Yes</td>\n",
       "      <td>No</td>\n",
       "      <td>No</td>\n",
       "      <td>No</td>\n",
       "    </tr>\n",
       "  </tbody>\n",
       "</table>\n",
       "</div>"
      ]
     },
     "execution_count": 15,
     "metadata": {},
     "output_type": "execute_result"
    }
   ],
   "execution_count": 15
  },
  {
   "cell_type": "code",
   "source": "int24 = pd.concat([intake_24, intake3_24, reintake_24])",
   "metadata": {
    "collapsed": false,
    "ExecuteTime": {
     "end_time": "2024-10-14T01:58:22.031939Z",
     "start_time": "2024-10-14T01:58:22.025975Z"
    }
   },
   "id": "97466640bf06dbea",
   "outputs": [],
   "execution_count": 18
  },
  {
   "cell_type": "code",
   "source": "int24 = pd.merge(int24, unique_scr[['rid', 'sex', 'age']], on='rid', how='left')",
   "metadata": {
    "collapsed": false,
    "ExecuteTime": {
     "end_time": "2024-10-14T01:58:42.902208Z",
     "start_time": "2024-10-14T01:58:42.892777Z"
    }
   },
   "id": "48820c2a6757eb52",
   "outputs": [],
   "execution_count": 20
  },
  {
   "metadata": {
    "ExecuteTime": {
     "end_time": "2024-10-14T01:58:44.314585Z",
     "start_time": "2024-10-14T01:58:44.297300Z"
    }
   },
   "cell_type": "code",
   "source": "int24",
   "id": "774940bd85471cc0",
   "outputs": [
    {
     "data": {
      "text/plain": [
       "     rid        fcid service       date family_of_missing  \\\n",
       "0  R0861  8110080030     int 2024-07-12                No   \n",
       "1  R1452  8110080031     int 2024-09-09                No   \n",
       "2  R1220  8110110015      re 2024-09-09                No   \n",
       "3  R1273  8110110016      re 2024-09-11                No   \n",
       "4  R1265  8110110017      re 2024-09-10               Yes   \n",
       "5  R1277  8110080027      re 2024-09-10               Yes   \n",
       "\n",
       "  survivor_of_detention primary_torture secondary_torture sexual_violation_a  \\\n",
       "0                    No              No               Yes                 No   \n",
       "1                   Yes             Yes               Yes                 No   \n",
       "2                   Yes              No               Yes                 No   \n",
       "3                   Yes             Yes               Yes                 No   \n",
       "4                    No              No               Yes                 No   \n",
       "5                    No             Yes               Yes                 No   \n",
       "\n",
       "  sexual_violation_p  hrd journalist  wov stgbv lgbti other     sex  age  \n",
       "0                 No   No         No  Yes    No    No    No  Female   19  \n",
       "1                Yes  Yes         No  Yes    No    No    No    Male   32  \n",
       "2                 No   No         No  Yes    No    No    No  Female   36  \n",
       "3                 No   No         No  Yes    No    No    No  Female   37  \n",
       "4                 No   No         No  Yes    No    No    No  Female   37  \n",
       "5                Yes   No         No  Yes    No    No    No  Female   40  "
      ],
      "text/html": [
       "<div>\n",
       "<style scoped>\n",
       "    .dataframe tbody tr th:only-of-type {\n",
       "        vertical-align: middle;\n",
       "    }\n",
       "\n",
       "    .dataframe tbody tr th {\n",
       "        vertical-align: top;\n",
       "    }\n",
       "\n",
       "    .dataframe thead th {\n",
       "        text-align: right;\n",
       "    }\n",
       "</style>\n",
       "<table border=\"1\" class=\"dataframe\">\n",
       "  <thead>\n",
       "    <tr style=\"text-align: right;\">\n",
       "      <th></th>\n",
       "      <th>rid</th>\n",
       "      <th>fcid</th>\n",
       "      <th>service</th>\n",
       "      <th>date</th>\n",
       "      <th>family_of_missing</th>\n",
       "      <th>survivor_of_detention</th>\n",
       "      <th>primary_torture</th>\n",
       "      <th>secondary_torture</th>\n",
       "      <th>sexual_violation_a</th>\n",
       "      <th>sexual_violation_p</th>\n",
       "      <th>hrd</th>\n",
       "      <th>journalist</th>\n",
       "      <th>wov</th>\n",
       "      <th>stgbv</th>\n",
       "      <th>lgbti</th>\n",
       "      <th>other</th>\n",
       "      <th>sex</th>\n",
       "      <th>age</th>\n",
       "    </tr>\n",
       "  </thead>\n",
       "  <tbody>\n",
       "    <tr>\n",
       "      <th>0</th>\n",
       "      <td>R0861</td>\n",
       "      <td>8110080030</td>\n",
       "      <td>int</td>\n",
       "      <td>2024-07-12</td>\n",
       "      <td>No</td>\n",
       "      <td>No</td>\n",
       "      <td>No</td>\n",
       "      <td>Yes</td>\n",
       "      <td>No</td>\n",
       "      <td>No</td>\n",
       "      <td>No</td>\n",
       "      <td>No</td>\n",
       "      <td>Yes</td>\n",
       "      <td>No</td>\n",
       "      <td>No</td>\n",
       "      <td>No</td>\n",
       "      <td>Female</td>\n",
       "      <td>19</td>\n",
       "    </tr>\n",
       "    <tr>\n",
       "      <th>1</th>\n",
       "      <td>R1452</td>\n",
       "      <td>8110080031</td>\n",
       "      <td>int</td>\n",
       "      <td>2024-09-09</td>\n",
       "      <td>No</td>\n",
       "      <td>Yes</td>\n",
       "      <td>Yes</td>\n",
       "      <td>Yes</td>\n",
       "      <td>No</td>\n",
       "      <td>Yes</td>\n",
       "      <td>Yes</td>\n",
       "      <td>No</td>\n",
       "      <td>Yes</td>\n",
       "      <td>No</td>\n",
       "      <td>No</td>\n",
       "      <td>No</td>\n",
       "      <td>Male</td>\n",
       "      <td>32</td>\n",
       "    </tr>\n",
       "    <tr>\n",
       "      <th>2</th>\n",
       "      <td>R1220</td>\n",
       "      <td>8110110015</td>\n",
       "      <td>re</td>\n",
       "      <td>2024-09-09</td>\n",
       "      <td>No</td>\n",
       "      <td>Yes</td>\n",
       "      <td>No</td>\n",
       "      <td>Yes</td>\n",
       "      <td>No</td>\n",
       "      <td>No</td>\n",
       "      <td>No</td>\n",
       "      <td>No</td>\n",
       "      <td>Yes</td>\n",
       "      <td>No</td>\n",
       "      <td>No</td>\n",
       "      <td>No</td>\n",
       "      <td>Female</td>\n",
       "      <td>36</td>\n",
       "    </tr>\n",
       "    <tr>\n",
       "      <th>3</th>\n",
       "      <td>R1273</td>\n",
       "      <td>8110110016</td>\n",
       "      <td>re</td>\n",
       "      <td>2024-09-11</td>\n",
       "      <td>No</td>\n",
       "      <td>Yes</td>\n",
       "      <td>Yes</td>\n",
       "      <td>Yes</td>\n",
       "      <td>No</td>\n",
       "      <td>No</td>\n",
       "      <td>No</td>\n",
       "      <td>No</td>\n",
       "      <td>Yes</td>\n",
       "      <td>No</td>\n",
       "      <td>No</td>\n",
       "      <td>No</td>\n",
       "      <td>Female</td>\n",
       "      <td>37</td>\n",
       "    </tr>\n",
       "    <tr>\n",
       "      <th>4</th>\n",
       "      <td>R1265</td>\n",
       "      <td>8110110017</td>\n",
       "      <td>re</td>\n",
       "      <td>2024-09-10</td>\n",
       "      <td>Yes</td>\n",
       "      <td>No</td>\n",
       "      <td>No</td>\n",
       "      <td>Yes</td>\n",
       "      <td>No</td>\n",
       "      <td>No</td>\n",
       "      <td>No</td>\n",
       "      <td>No</td>\n",
       "      <td>Yes</td>\n",
       "      <td>No</td>\n",
       "      <td>No</td>\n",
       "      <td>No</td>\n",
       "      <td>Female</td>\n",
       "      <td>37</td>\n",
       "    </tr>\n",
       "    <tr>\n",
       "      <th>5</th>\n",
       "      <td>R1277</td>\n",
       "      <td>8110080027</td>\n",
       "      <td>re</td>\n",
       "      <td>2024-09-10</td>\n",
       "      <td>Yes</td>\n",
       "      <td>No</td>\n",
       "      <td>Yes</td>\n",
       "      <td>Yes</td>\n",
       "      <td>No</td>\n",
       "      <td>Yes</td>\n",
       "      <td>No</td>\n",
       "      <td>No</td>\n",
       "      <td>Yes</td>\n",
       "      <td>No</td>\n",
       "      <td>No</td>\n",
       "      <td>No</td>\n",
       "      <td>Female</td>\n",
       "      <td>40</td>\n",
       "    </tr>\n",
       "  </tbody>\n",
       "</table>\n",
       "</div>"
      ]
     },
     "execution_count": 21,
     "metadata": {},
     "output_type": "execute_result"
    }
   ],
   "execution_count": 21
  },
  {
   "cell_type": "code",
   "source": [
    "# _int24 = int24[int24['service'] == 'int']\n",
    "# reint24 = int24[int24['service'] == 're']\n",
    "# _int24_path= os.path.join(root, data, processed, \"unvfvt24\", \"intBeneficiaries24.csv\")\n",
    "# reint24_path= os.path.join(root, data, processed, \"unvfvt24\", \"reintBeneficiaries24.csv\")\n",
    "# _int24.to_csv(_int24_path, index=False)\n",
    "# reint24.to_csv(reint24_path, index=False)"
   ],
   "metadata": {
    "collapsed": false
   },
   "id": "86ab3bce1cd77002",
   "outputs": [],
   "execution_count": null
  },
  {
   "cell_type": "markdown",
   "source": [
    "## GROUP PSYCHOSOCIAL THERAPY COUNSELING PROCESSING"
   ],
   "metadata": {
    "collapsed": false
   },
   "id": "75a24c04a73bda93"
  },
  {
   "cell_type": "code",
   "source": [
    "# gc = get_df(gc_path, gc_sheet, config_file)\n",
    "# gc_dataset = Dataset(config_file, gc_sheet)\n",
    "# gc_24 = filter_dataframe_on_date(gc, gc_dataset.dvars, start, end)\n",
    "# gc_24 = gc_24[gc_24['gc_total'] >= 7]  # To be reconsidered \n",
    "# gc_24_latestdate = gc_24[gc_dataset.dvars].max(axis=1)\n",
    "# gc_24.insert(4, 'service', 'gc')\n",
    "# gc_24.insert(5, 'date', gc_24_latestdate)"
   ],
   "metadata": {
    "collapsed": false
   },
   "id": "f834e4263ce87a39",
   "outputs": [],
   "execution_count": null
  },
  {
   "cell_type": "code",
   "source": [
    "# gc_24 = gc_24[['rid', 'fcid', 'service', 'date', 'gc_total']]\n",
    "# gc_24 = pd.merge(gc_24, unique_intake[int_criteria], on='rid', how='left')\n",
    "# gc_24 = pd.merge(gc_24, unique_scr[['rid', 'sex', 'age']], on='rid', how='left')"
   ],
   "metadata": {
    "collapsed": false
   },
   "id": "54d802f358d3213a",
   "outputs": [],
   "execution_count": null
  },
  {
   "cell_type": "code",
   "source": [
    "# gc_24_path = os.path.join(root, data, processed, \"unvfvt24\", \"gcBeneficiaries24.csv\")\n",
    "# gc_24.to_csv(gc_24_path, index=False)"
   ],
   "metadata": {
    "collapsed": false
   },
   "id": "15ca971dcd356d42",
   "outputs": [],
   "execution_count": null
  },
  {
   "cell_type": "markdown",
   "source": [
    "## INDIVIDUAL PSYCHOSOCIAL THERAPY COUNSELING PROCESSING"
   ],
   "metadata": {
    "collapsed": false
   },
   "id": "7d2690e8afc8ef86"
  },
  {
   "cell_type": "code",
   "source": [
    "# ic = get_df(ic_path, ic_sheet, config_file)\n",
    "# ic_dataset = Dataset(config_file, ic_sheet)\n",
    "# ic_24 = filter_dataframe_on_date(ic, ic_dataset.dvars, start, end)\n",
    "# ic_24_latestdate = ic_24[ic_dataset.dvars].max(axis=1)\n",
    "# ic_24.insert(4, \"service\", \"ic\")\n",
    "# ic_24.insert(5, \"date\", ic_24_latestdate)\n",
    "# ic_24 = ic_24[['rid', 'fcid', 'service', 'date', 'ic_total']]\n",
    "# ic_24.rename(columns={'ic_total': 'session_num'}, inplace=True)\n",
    "# ic_24 = pd.merge(ic_24, unique_intake[int_criteria], on='rid', how='left')\n",
    "# ic_24 = pd.merge(ic_24, unique_scr[['rid', 'sex', 'age']], on='rid', how='left')"
   ],
   "metadata": {
    "collapsed": false
   },
   "id": "f489fa7e04ddff12",
   "outputs": [],
   "execution_count": null
  },
  {
   "metadata": {},
   "cell_type": "code",
   "source": "# ic_24",
   "id": "552de151ad432a4b",
   "outputs": [],
   "execution_count": null
  },
  {
   "cell_type": "code",
   "source": [
    "# ic_24_path = os.path.join(root, data, processed, \"unvfvt24\", \"icBeneficiaries24.csv\")\n",
    "# ic_24.to_csv(ic_24_path, index=False)"
   ],
   "metadata": {
    "collapsed": false
   },
   "id": "5b213831b39e847c",
   "outputs": [],
   "execution_count": null
  },
  {
   "cell_type": "markdown",
   "source": [
    "## PSYCHOSOCIAL FOLLOW-UP ASSESSMENT PROCESSING"
   ],
   "metadata": {
    "collapsed": false
   },
   "id": "1f4235cd8ab93f2d"
  },
  {
   "cell_type": "code",
   "source": [
    "# psfua = get_df(psfua_path, psfua_sheet, config_file)\n",
    "# psfua_dataset = Dataset(config_file, psfua_sheet)\n",
    "# psfua3_24 = filter_dataframe_on_date(psfua, 'fu_3m', start, end)\n",
    "# psfua3_24.insert(4, \"service\", \"psfua3\")\n",
    "# psfua3_24 = psfua3_24[['rid', 'fcid', 'service', 'fu_3m']].copy()\n",
    "# psfua3_24.rename(columns={'fu_3m': 'date'}, inplace=True)"
   ],
   "metadata": {
    "collapsed": false
   },
   "id": "dc5cf24111575d3e",
   "outputs": [],
   "execution_count": null
  },
  {
   "metadata": {},
   "cell_type": "code",
   "source": [
    "# psfua6_24 = filter_dataframe_on_date(psfua, 'fu_6m', start, end)\n",
    "# psfua6_24.insert(4, \"service\", \"psfua6\")\n",
    "# psfua6_24 = psfua6_24[['rid', 'fcid', 'service', 'fu_6m']].copy()\n",
    "# psfua6_24.rename(columns={'fu_6m': 'date'}, inplace=True)"
   ],
   "id": "32f82aa52a66609c",
   "outputs": [],
   "execution_count": null
  },
  {
   "metadata": {},
   "cell_type": "code",
   "source": [
    "# psfua12_24 = filter_dataframe_on_date(psfua, 'fu_12m', start, end)\n",
    "# psfua12_24.insert(4, \"service\", \"psfua12\")\n",
    "# psfua12_24 = psfua12_24[['rid', 'fcid', 'service', 'fu_12m']].copy()\n",
    "# psfua12_24.rename(columns={'fu_12m': 'date'}, inplace=True)"
   ],
   "id": "ba2ffb415b0bdc5b",
   "outputs": [],
   "execution_count": null
  },
  {
   "metadata": {},
   "cell_type": "code",
   "source": [
    "# psfua3_24 = pd.merge(psfua3_24, unique_intake[int_criteria], on='rid', how='left')\n",
    "# psfua3_24 = pd.merge(psfua3_24, unique_scr[['rid', 'sex', 'age']], on='rid', how='left')"
   ],
   "id": "ced917c8f8f36f25",
   "outputs": [],
   "execution_count": null
  },
  {
   "metadata": {},
   "cell_type": "code",
   "source": [
    "# psfua6_24 = pd.merge(psfua6_24, unique_intake[int_criteria], on='rid', how='left')\n",
    "# psfua6_24 = pd.merge(psfua6_24, unique_scr[['rid', 'sex', 'age']], on='rid', how='left')"
   ],
   "id": "659635f586c3fe83",
   "outputs": [],
   "execution_count": null
  },
  {
   "metadata": {},
   "cell_type": "code",
   "source": [
    "# psfua12_24 = pd.merge(psfua12_24, unique_intake[int_criteria], on='rid', how='left')\n",
    "# psfua12_24 = pd.merge(psfua12_24, unique_scr[['rid', 'sex', 'age']], on='rid', how='left')"
   ],
   "id": "ca3b8bfa21891205",
   "outputs": [],
   "execution_count": null
  },
  {
   "metadata": {},
   "cell_type": "code",
   "source": [
    "# psfua3_path = os.path.join(root, data, processed, \"unvfvt24\", \"psfua3Beneficiaries24.csv\")\n",
    "# psfua6_path = os.path.join(root, data, processed, \"unvfvt24\", \"psfua6Beneficiaries24.csv\")\n",
    "# psfua12_path = os.path.join(root, data, processed, \"unvfvt24\", \"psfua12Beneficiaries24.csv\")\n",
    "# psfua3_24.to_csv(psfua3_path, index=False)\n",
    "# psfua6_24.to_csv(psfua6_path, index=False)\n",
    "# psfua12_24.to_csv(psfua12_path, index=False)"
   ],
   "id": "7c0c1bc619cf3c16",
   "outputs": [],
   "execution_count": null
  },
  {
   "metadata": {},
   "cell_type": "code",
   "source": "",
   "id": "a456c52c0400d430",
   "outputs": [],
   "execution_count": null
  },
  {
   "cell_type": "markdown",
   "source": [
    "## THERAPUTIC DOCUMENTATION PROCESSING"
   ],
   "metadata": {
    "collapsed": false
   },
   "id": "ce2ff07984857a2b"
  },
  {
   "cell_type": "code",
   "source": [
    "# td = get_df(td_path, td_sheet, config_file)\n",
    "# td_dataset = Dataset(config_file, td_sheet)"
   ],
   "metadata": {
    "collapsed": false
   },
   "id": "78cbfa649a40b4bd",
   "outputs": [],
   "execution_count": null
  },
  {
   "metadata": {},
   "cell_type": "code",
   "source": [
    "# td_24 = filter_dataframe_on_date(td, td_dataset.dvars, start, end)\n",
    "# td_24_latestdate = td_24[td_dataset.dvars].max(axis=1)\n",
    "# td_24.insert(4, \"service\", \"td\")\n",
    "# td_24.insert(5, \"date\", td_24_latestdate)\n",
    "# td_24 = td_24[['rid', 'fcid', 'service', 'date']]\n",
    "# td_24 = pd.merge(td_24, unique_intake[int_criteria], on='rid', how='left')\n",
    "# td_24 = pd.merge(td_24, unique_scr[['rid', 'sex', 'age']], on='rid', how='left')"
   ],
   "id": "41d35d955a48df8f",
   "outputs": [],
   "execution_count": null
  },
  {
   "cell_type": "code",
   "source": [
    "# td_24_path = os.path.join(root, data, processed, \"unvfvt24\", \"tdBeneficiaries24.csv\")\n",
    "# td_24.to_csv(td_24_path, index=False)"
   ],
   "metadata": {
    "collapsed": false
   },
   "id": "67b9e5aa598b80a4",
   "outputs": [],
   "execution_count": null
  },
  {
   "metadata": {},
   "cell_type": "markdown",
   "source": [
    "### Creative Documentation Workshop\n",
    "Next time, TD should include all activities related to TD, where the output is one column contains value 1 if a beneficiary has participated in any activity of TD during the report period."
   ],
   "id": "61da0adf6f146d54"
  },
  {
   "metadata": {},
   "cell_type": "code",
   "source": [
    "# cdw = get_df(cws_path, cws_sheet, config_file)\n",
    "# cdw_dataset = Dataset(config_file, cws_sheet)"
   ],
   "id": "5f7dcb5ba5b6acda",
   "outputs": [],
   "execution_count": null
  },
  {
   "metadata": {},
   "cell_type": "code",
   "source": [
    "# cdw_24 = filter_dataframe_on_date(cdw, cdw_dataset.dvars, start, end)\n",
    "# cdw_24_latestdate = cdw_24[cdw_dataset.dvars].max(axis=1)\n",
    "# cdw_24.insert(4, \"service\", \"cdw\")\n",
    "# cdw_24.insert(5, \"date\", cdw_24_latestdate)\n",
    "# cdw_24 = cdw_24[['rid', 'fcid', 'service', 'date']]\n",
    "# cdw_24 = pd.merge(cdw_24, unique_intake[int_criteria], on='rid', how='left')\n",
    "# cdw_24 = pd.merge(cdw_24, unique_scr[['rid', 'sex', 'age']], on='rid', how='left')"
   ],
   "id": "22c03068caf6de3d",
   "outputs": [],
   "execution_count": null
  },
  {
   "metadata": {},
   "cell_type": "code",
   "source": [
    "# cdw_24_path = os.path.join(root, data, processed, \"unvfvt24\", \"cdwBeneficiaries24.csv\")\n",
    "# cdw_24.to_csv(cdw_24_path, index=False)"
   ],
   "id": "6de6f978eeaf2585",
   "outputs": [],
   "execution_count": null
  },
  {
   "metadata": {},
   "cell_type": "markdown",
   "source": "## Trauma Resilience Workshop PROCESSING",
   "id": "d5d0e3dd95a37c40"
  },
  {
   "metadata": {},
   "cell_type": "code",
   "source": [
    "# trw = get_df(trw_path, trw_sheet, config_file)\n",
    "# trw_dataset = Dataset(config_file, trw_sheet)"
   ],
   "id": "760be7bfe2e44a52",
   "outputs": [],
   "execution_count": null
  },
  {
   "metadata": {},
   "cell_type": "code",
   "source": [
    "# trw_24 = filter_dataframe_on_date(trw, trw_dataset.dvars, start, end)\n",
    "# trw_24_latestdate = trw_24[trw_dataset.dvars].max(axis=1)\n",
    "# trw_24.insert(4, \"service\", \"trw\")\n",
    "# trw_24.insert(5, \"date\", trw_24_latestdate)\n",
    "# trw_24 = trw_24[['rid', 'fcid', 'service', 'date']]\n",
    "# trw_24 = pd.merge(trw_24, unique_intake[int_criteria], on='rid', how='left')\n",
    "# trw_24 = pd.merge(trw_24, unique_scr[['rid', 'sex', 'age']], on='rid', how='left')"
   ],
   "id": "9c2769bfcccd749e",
   "outputs": [],
   "execution_count": null
  },
  {
   "metadata": {},
   "cell_type": "code",
   "source": [
    "# trw_24_path = os.path.join(root, data, processed, \"unvfvt24\", \"trwBeneficiaries24.csv\")\n",
    "# trw_24.to_csv(trw_24_path, index=False)"
   ],
   "id": "33b32272392a1f14",
   "outputs": [],
   "execution_count": null
  },
  {
   "cell_type": "markdown",
   "source": "## POST-EARTHQUAKE INTERVENTION PROCESSING",
   "metadata": {
    "collapsed": false
   },
   "id": "9dc958a7f60d7454"
  },
  {
   "cell_type": "code",
   "source": [
    "# pei = get_df(pei_path, pei_sheet, config_file)\n",
    "# pei_dataset = Dataset(config_file, pei_sheet)"
   ],
   "metadata": {
    "collapsed": false
   },
   "id": "c7e216ae03bce48a",
   "outputs": [],
   "execution_count": null
  },
  {
   "cell_type": "code",
   "source": [
    "# pei_24 = filter_dataframe_on_date(pei, pei_dataset.dvars, start, end)\n",
    "# pei_24_latestdate = pei_24[pei_dataset.dvars].max(axis=1)\n",
    "# pei_24.insert(4, \"service\", \"pei\")\n",
    "# pei_24.insert(5, \"date\", pei_24_latestdate)\n",
    "# pei_24 = pei_24[['rid', 'fcid', 'service', 'date', \"pei_total\"]]\n",
    "# pei_24 = pd.merge(pei_24, unique_intake[int_criteria], on='rid', how='left')\n",
    "# pei_24 = pd.merge(pei_24, unique_scr[['rid', 'sex', 'age']], on='rid', how='left')"
   ],
   "metadata": {
    "collapsed": false
   },
   "id": "ada4b95c5e9ba8a8",
   "outputs": [],
   "execution_count": null
  },
  {
   "metadata": {},
   "cell_type": "code",
   "source": "# pei_24",
   "id": "750e6ba5468a7acf",
   "outputs": [],
   "execution_count": null
  },
  {
   "cell_type": "code",
   "source": [
    "# pei_24_path = os.path.join(root, data, processed, \"unvfvt24\", \"peiBeneficiaries24.csv\")\n",
    "# pei_24.to_csv(pei_24_path, index=False)"
   ],
   "metadata": {
    "collapsed": false
   },
   "id": "f79d4379018978e2",
   "outputs": [],
   "execution_count": null
  },
  {
   "metadata": {},
   "cell_type": "code",
   "source": "# pd.read_csv(pei_24_path)",
   "id": "426a4c50c8b81d63",
   "outputs": [],
   "execution_count": null
  },
  {
   "cell_type": "markdown",
   "source": [
    "## GROUP PHYSIOTHERAPY PROCESSING"
   ],
   "metadata": {
    "collapsed": false
   },
   "id": "ced39018c2a6a329"
  },
  {
   "cell_type": "code",
   "source": [
    "# ptg = get_df(gpt_path, gpt_sheet, config_file)\n",
    "# ptg_dataset = Dataset(config_file, gpt_sheet)"
   ],
   "metadata": {
    "collapsed": false
   },
   "id": "69f179465a84b143",
   "outputs": [],
   "execution_count": null
  },
  {
   "cell_type": "code",
   "source": [
    "# ptg_24 = filter_dataframe_on_date(ptg, ptg_dataset.dvars, start, end)\n",
    "# ptg_24_latestdate = ptg_24[ptg_dataset.dvars].max(axis=1)\n",
    "# ptg_24 = ptg_24.copy()\n",
    "# non_nat_counts = ptg_24[ptg_dataset.dvars].notna().sum(axis=1)\n",
    "# ptg_24['pt_g_total'] = np.where(ptg_24['pt_g_total'] == 0, non_nat_counts, ptg_24['pt_g_total'])\n",
    "# ptg_24 = ptg_24[ptg_24['pt_status'] != 'Drop Out']\n",
    "# ptg_24.insert(4, \"service\", \"gpt\")\n",
    "# ptg_24.insert(5, \"date\", ptg_24_latestdate)\n",
    "# ptg_24 = ptg_24[['rid', 'fcid', 'service', 'date', 'pt_g_total']]"
   ],
   "metadata": {
    "collapsed": false
   },
   "id": "85166e0926c4a4d7",
   "outputs": [],
   "execution_count": null
  },
  {
   "cell_type": "code",
   "source": [
    "# ptg_24 = pd.merge(ptg_24, unique_intake[int_criteria], on='rid', how='left')\n",
    "# ptg_24 = pd.merge(ptg_24, unique_scr[['rid', 'sex', 'age']], on='rid', how='left')"
   ],
   "metadata": {
    "collapsed": false
   },
   "id": "f8412195883ecf84",
   "outputs": [],
   "execution_count": null
  },
  {
   "cell_type": "code",
   "source": [
    "# ptg_24_path = os.path.join(root, data, processed, \"unvfvt24\", \"ptgBeneficiaries24.csv\")\n",
    "# ptg_24.to_csv(ptg_24_path, index=False)"
   ],
   "metadata": {
    "collapsed": false
   },
   "id": "711e63d080432fcc",
   "outputs": [],
   "execution_count": null
  },
  {
   "cell_type": "markdown",
   "source": [
    "## INDIVIDUAL PHYSIOTHERAPY PROCESSING"
   ],
   "metadata": {
    "collapsed": false
   },
   "id": "69ddaa7d56fed1c3"
  },
  {
   "cell_type": "code",
   "source": [
    "# pti = get_df(ipt_path, ipt_sheet, config_file)\n",
    "# pti_dataset = Dataset(config_file, ipt_sheet)\n",
    "# non_nat_counts = ipt[ipt_dataset.dvars].notna().sum(axis=1)\n",
    "# ipt['pt_i_total'] = np.where(ipt['pt_i_total'] == 0, non_nat_counts, ipt['pt_i_total'])"
   ],
   "metadata": {
    "collapsed": false
   },
   "id": "ff12eaee81499150",
   "outputs": [],
   "execution_count": null
  },
  {
   "metadata": {},
   "cell_type": "code",
   "source": [
    "# pti_24 = filter_dataframe_on_date(pti, pti_dataset.dvars, start, end)\n",
    "# pti_24_latestdate = pti_24[pti_dataset.dvars].max(axis=1)\n",
    "# pti_24 = pti_24.copy()\n",
    "# non_nat_counts = pti_24[pti_dataset.dvars].notna().sum(axis=1)\n",
    "# pti_24['pt_i_total'] = np.where(pti_24['pt_i_total'] == 0, non_nat_counts, pti_24['pt_i_total'])\n",
    "# pti_24.insert(4, \"service\", \"ipt\")\n",
    "# pti_24.insert(5, \"date\", pti_24_latestdate)\n",
    "# pti_24 = pti_24[['rid', 'fcid', 'service', 'date', 'pt_i_total']]"
   ],
   "id": "2f6d252adf819c32",
   "outputs": [],
   "execution_count": null
  },
  {
   "metadata": {},
   "cell_type": "code",
   "source": "# pti_24",
   "id": "76d48192ea2be53",
   "outputs": [],
   "execution_count": null
  },
  {
   "cell_type": "code",
   "source": [
    "# pti_24 = pd.merge(pti_24, unique_intake[int_criteria], on='rid', how='left')\n",
    "# pti_24 = pd.merge(pti_24, unique_scr[['rid', 'sex', 'age']], on='rid', how='left')"
   ],
   "metadata": {
    "collapsed": false
   },
   "id": "e045d544b249a02b",
   "outputs": [],
   "execution_count": null
  },
  {
   "cell_type": "code",
   "source": [
    "# pti_24_path = os.path.join(root, data, processed, \"unvfvt24\", \"ptiBeneficiaries24.csv\")\n",
    "# pti_24.to_csv(pti_24_path, index=False)"
   ],
   "metadata": {
    "collapsed": false
   },
   "id": "f423b4795a975d95",
   "outputs": [],
   "execution_count": null
  },
  {
   "cell_type": "markdown",
   "source": [
    "## PHYSIOTHERAPY INTAKE ASSESSMENT PROCESSING"
   ],
   "metadata": {
    "collapsed": false
   },
   "id": "5772e6112d6ad0b5"
  },
  {
   "cell_type": "code",
   "source": [
    "# ptint = get_df(ptint_path, ptint_sheet, config_file)\n",
    "# ptint_dataset = Dataset(config_file, ptint_sheet)"
   ],
   "metadata": {
    "collapsed": false
   },
   "id": "dcbb2f76b8ed6e67",
   "outputs": [],
   "execution_count": null
  },
  {
   "cell_type": "code",
   "source": [
    "# ptint_24 = filter_dataframe_on_date(ptint, ptint_dataset.dvars, start, end)\n",
    "# ptint_24_latestdate = ptint_24[['pt_nt_s1', 'pt_nt_s2', 'pt_nt_re']].max(axis=1)\n",
    "# _ptint23 = ptint23.copy()\n",
    "# ptint_24.insert(4, 'service', 'ptint/re')\n",
    "# ptint_24.insert(5, 'date', ptint_24_latestdate)\n",
    "# ptint_24 = ptint_24[['rid', 'fcid', 'service', 'date']]"
   ],
   "metadata": {
    "collapsed": false
   },
   "id": "562169b77373d9ae",
   "outputs": [],
   "execution_count": null
  },
  {
   "metadata": {},
   "cell_type": "code",
   "source": "# ptint_24",
   "id": "e3fc6252d8db059f",
   "outputs": [],
   "execution_count": null
  },
  {
   "cell_type": "code",
   "source": [
    "# ptint_24 = pd.merge(ptint_24, unique_intake[int_criteria], on='rid', how='left')\n",
    "# ptint_24 = pd.merge(ptint_24, unique_scr[['rid', 'sex', 'age']], on='rid', how='left')"
   ],
   "metadata": {
    "collapsed": false
   },
   "id": "26cf68bbc9d7e2f3",
   "outputs": [],
   "execution_count": null
  },
  {
   "cell_type": "code",
   "source": [
    "# ptint_24_path = os.path.join(root, data, processed, \"unvfvt24\", \"ptintBeneficiaries24.csv\")\n",
    "# ptint_24.to_csv(ptint_24_path, index=False)"
   ],
   "metadata": {
    "collapsed": false
   },
   "id": "c0fbe2175c868b4c",
   "outputs": [],
   "execution_count": null
  },
  {
   "cell_type": "markdown",
   "source": [
    "## PHYSIOTHERAPY FOLLOW-UP ASSESSMENT PROCESSING"
   ],
   "metadata": {
    "collapsed": false
   },
   "id": "f81a84684cc8dcd8"
  },
  {
   "cell_type": "code",
   "source": [
    "# ptfua = get_df(ptfua_path, ptfua_sheet, config_file)\n",
    "# ptfua_dataset = Dataset(config_file, ptfua_sheet)"
   ],
   "metadata": {
    "collapsed": false
   },
   "id": "d5c0816132274c19",
   "outputs": [],
   "execution_count": null
  },
  {
   "cell_type": "code",
   "source": [
    "# ptfua3_24 = filter_dataframe_on_date(ptfua, 'fu_3m', start, end)\n",
    "# ptfua3_24.insert(4, \"service\", \"ptfua3\")\n",
    "# ptfua3_24 = ptfua3_24.rename(columns={'fu_3m': 'date'})\n",
    "# ptfua3_24 = ptfua3_24[['rid', 'fcid', 'service', 'date']]\n",
    "# ptfua3_24 = pd.merge(ptfua3_24, unique_intake[int_criteria], on='rid', how='left')\n",
    "# ptfua3_24 = pd.merge(ptfua3_24, unique_scr[['rid', 'sex', 'age']], on='rid', how='left')\n",
    "# ptfua3_24_path = os.path.join(root, data, processed, \"unvfvt24\", \"ptfua3Beneficiaries24.csv\")\n",
    "# ptfua3_24.to_csv(ptfua3_24_path, index=False)"
   ],
   "metadata": {
    "collapsed": false
   },
   "id": "13765e8923ff9e3a",
   "outputs": [],
   "execution_count": null
  },
  {
   "metadata": {},
   "cell_type": "code",
   "source": [
    "# ptfua6_24 = filter_dataframe_on_date(ptfua, 'fu_6m', start, end)\n",
    "# ptfua6_24.insert(4, \"service\", \"ptfua6\")\n",
    "# ptfua6_24 = ptfua6_24.rename(columns={'fu_6m': 'date'})\n",
    "# ptfua6_24 = ptfua6_24[['rid', 'fcid', 'service', 'date']]\n",
    "# ptfua6_24 = pd.merge(ptfua6_24, unique_intake[int_criteria], on='rid', how='left')\n",
    "# ptfua6_24 = pd.merge(ptfua6_24, unique_scr[['rid', 'sex', 'age']], on='rid', how='left')\n",
    "# ptfua6_24_path = os.path.join(root, data, processed, \"unvfvt24\", \"ptfua6Beneficiaries24.csv\")\n",
    "# ptfua6_24.to_csv(ptfua6_24_path, index=False)"
   ],
   "id": "cd511cca9f144fbc",
   "outputs": [],
   "execution_count": null
  },
  {
   "metadata": {},
   "cell_type": "code",
   "source": [
    "# ptfua12_24 = filter_dataframe_on_date(ptfua, 'fu_12m', start, end)\n",
    "# ptfua12_24.insert(4, \"service\", \"ptfua12\")\n",
    "# ptfua12_24 = ptfua12_24.rename(columns={'fu_12m': 'date'})\n",
    "# ptfua12_24 = ptfua12_24[['rid', 'fcid', 'service', 'date']]\n",
    "# ptfua12_24 = pd.merge(ptfua12_24, unique_intake[int_criteria], on='rid', how='left')\n",
    "# ptfua12_24 = pd.merge(ptfua12_24, unique_scr[['rid', 'sex', 'age']], on='rid', how='left')\n",
    "# ptfua12_24_path = os.path.join(root, data, processed, \"unvfvt24\", \"ptfua12Beneficiaries24.csv\")\n",
    "# ptfua12_24.to_csv(ptfua12_24_path, index=False)"
   ],
   "id": "1c55051d5429dbde",
   "outputs": [],
   "execution_count": null
  },
  {
   "metadata": {},
   "cell_type": "code",
   "source": "# pd.read_csv(ptfua12_24_path)",
   "id": "a46ec0ed7feddb04",
   "outputs": [],
   "execution_count": null
  },
  {
   "cell_type": "markdown",
   "source": "## Case Management",
   "metadata": {
    "collapsed": false
   },
   "id": "294e877aeaa33bbf"
  },
  {
   "cell_type": "code",
   "source": [
    "cm = pd.read_excel('referrals.xlsx')\n",
    "cm = cm[['referral_ID', 'FC_ID', 'need', 'referralDate', 'referredToFromEntity']]\n",
    "cm = cm.rename(columns={'referral_ID': 'rid', 'FC_ID': 'fcid', 'referralDate': 'date', 'referredToFromEntity': 'entity'})"
   ],
   "metadata": {
    "collapsed": false
   },
   "id": "899ed7149858aabd",
   "outputs": [],
   "execution_count": null
  },
  {
   "metadata": {},
   "cell_type": "code",
   "source": [
    "cm_24 = filter_dataframe_on_date(cm, 'date', start, end)\n",
    "cm_24.insert(4, \"service\", \"cm\")\n",
    "cm_24 = cm_24[['rid', 'fcid', 'service', 'date', 'need', 'entity']]\n",
    "# cm_24 = pd.merge(cm_24, unique_intake[int_criteria], on='rid', how='left')\n",
    "# cm_24 = pd.merge(cm_24, unique_scr[['rid', 'sex', 'age']], on='rid', how='left')"
   ],
   "id": "a4f82296c45618d5",
   "outputs": [],
   "execution_count": null
  },
  {
   "metadata": {},
   "cell_type": "code",
   "source": "cm_24['entity'].value_counts()",
   "id": "1e078a2d35aa920b",
   "outputs": [],
   "execution_count": null
  },
  {
   "metadata": {},
   "cell_type": "code",
   "source": [
    "# cm_24_path = os.path.join(root, data, processed, \"unvfvt24\", \"cmBeneficiaries24.csv\")\n",
    "# cm_24.to_csv(cm_24_path, index=False)\n"
   ],
   "id": "492c0bbb3c289dc5",
   "outputs": [],
   "execution_count": null
  },
  {
   "metadata": {},
   "cell_type": "markdown",
   "source": "### TD IU Delivery, Communication, Advocacy Workshop",
   "id": "9d8f9ce47f23e27"
  },
  {
   "metadata": {},
   "cell_type": "code",
   "source": [
    "# td_del = pd.read_excel('td_tracker.xlsx')\n",
    "# td_del = td_del[['Ref #', 'FC ID #', 'IU Del', 'Com Pub', 'Adv Partic']]\n",
    "# td_del = td_del.rename(columns={'Ref #': 'rid', 'FC ID #': 'fcid', 'IU Del': 'iu_del', 'Com Pub': 'com_pub', 'Adv Partic': 'adv_par'})"
   ],
   "id": "3b7ce1a243fcd3e",
   "outputs": [],
   "execution_count": null
  },
  {
   "metadata": {},
   "cell_type": "code",
   "source": [
    "# td_del_24 = filter_dataframe_on_date(td_del, ['iu_del', 'com_pub', 'adv_par'], start, end)\n",
    "# td_del_24_latestdate = td_del_24[['iu_del', 'com_pub', 'adv_par']].max(axis=1)\n",
    "# td_del_24.insert(4, \"service\", \"td_del\")\n",
    "# td_del_24.insert(5, 'date', td_del_24_latestdate)\n",
    "# td_del_24 = td_del_24[['rid', 'fcid', 'service', 'date']]"
   ],
   "id": "73b0326d9fc378b3",
   "outputs": [],
   "execution_count": null
  },
  {
   "metadata": {},
   "cell_type": "code",
   "source": [
    "# td_del_24 = pd.merge(td_del_24, unique_intake[int_criteria], on='rid', how='left')\n",
    "# td_del_24 = pd.merge(td_del_24, unique_scr[['rid', 'sex', 'age']], on='rid', how='left')"
   ],
   "id": "176f9864fe9f0652",
   "outputs": [],
   "execution_count": null
  },
  {
   "metadata": {},
   "cell_type": "code",
   "source": [
    "# td_del_24_path = os.path.join(root, data, processed, \"unvfvt24\", \"tdDelBeneficiaries24.csv\")\n",
    "# td_del_24.to_csv(td_del_24_path, index=False)"
   ],
   "id": "a078022b9332457a",
   "outputs": [],
   "execution_count": null
  }
 ],
 "metadata": {
  "kernelspec": {
   "display_name": "Python 3",
   "language": "python",
   "name": "python3"
  },
  "language_info": {
   "codemirror_mode": {
    "name": "ipython",
    "version": 2
   },
   "file_extension": ".py",
   "mimetype": "text/x-python",
   "name": "python",
   "nbconvert_exporter": "python",
   "pygments_lexer": "ipython2",
   "version": "2.7.6"
  }
 },
 "nbformat": 4,
 "nbformat_minor": 5
}
