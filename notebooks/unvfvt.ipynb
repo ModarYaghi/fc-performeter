{
 "cells": [
  {
   "cell_type": "code",
   "execution_count": 1,
   "id": "initial_id",
   "metadata": {
    "collapsed": true,
    "ExecuteTime": {
     "end_time": "2024-02-05T09:18:21.899903100Z",
     "start_time": "2024-02-05T09:18:19.543089700Z"
    }
   },
   "outputs": [],
   "source": [
    "import os.path\n",
    "\n",
    "import pandas as pd\n",
    "from src.all_in_one import *\n",
    "threshold = \"2022-12-31\"\n",
    "upper_threshold = \"2024-01-01\""
   ]
  },
  {
   "cell_type": "markdown",
   "source": [
    "# UNIQUE SCREENING BENEFICIARIES RECORDS"
   ],
   "metadata": {
    "collapsed": false
   },
   "id": "7dfd63881e541747"
  },
  {
   "cell_type": "code",
   "outputs": [],
   "source": [
    "scr_dataset = Dataset(config_file, scr_sheet)\n",
    "scr = pd.read_csv(scr_path)\n",
    "unique_scr = scr.drop_duplicates(subset='rid')"
   ],
   "metadata": {
    "collapsed": false,
    "ExecuteTime": {
     "end_time": "2024-02-05T09:18:22.009198Z",
     "start_time": "2024-02-05T09:18:21.900956900Z"
    }
   },
   "id": "f6ca545046cfc7b6",
   "execution_count": 2
  },
  {
   "cell_type": "markdown",
   "source": [
    "# UNIQUE INTAKE BENEFICIARIES RECORDS"
   ],
   "metadata": {
    "collapsed": false
   },
   "id": "8b4ec0b857e201bf"
  },
  {
   "cell_type": "code",
   "outputs": [],
   "source": [
    "int_dataset = Dataset(config_file, int_sheet)\n",
    "intake = pd.read_csv(int_path)\n",
    "dtype_trans(intake, int_dataset)\n",
    "intake.insert(4, \"service\", None)\n",
    "intake.sort_values(by=['nt_s1', 'nt_s2', 'nt_s3', 'nt_re'], ascending=True)\n",
    "unique_intake = intake.drop_duplicates(subset='rid', keep='last')"
   ],
   "metadata": {
    "collapsed": false,
    "ExecuteTime": {
     "end_time": "2024-02-05T09:18:22.144271700Z",
     "start_time": "2024-02-05T09:18:22.012240300Z"
    }
   },
   "id": "c5e7201a5c870edb",
   "execution_count": 3
  },
  {
   "cell_type": "code",
   "outputs": [],
   "source": [
    "# path = os.path.join(unvfvt23, 'ptreintBeneficiaries23.csv')\n",
    "# ptreint = pd.read_csv(path)\n",
    "# ptreint.insert(4, 'session_num', 0)\n",
    "# ptreint = pd.merge(ptreint, unique_intake[[\"rid\", \"family_of_missing\", \"survivor_of_detention\", \"primary_torture\", \"secondary_torture\", \"sexual_violation_a\", \"sexual_violation_p\", \"hrd\", \"journalist\", \"wov\", \"stgbv\", \"lgbti\", \"other\"]], on='rid', how='left')\n",
    "# ptreint = pd.merge(ptreint, unique_scr[['rid', 'sex', 'age']], on='rid', how='left')\n",
    "# ptreint"
   ],
   "metadata": {
    "collapsed": false,
    "ExecuteTime": {
     "end_time": "2024-02-05T09:18:22.153791400Z",
     "start_time": "2024-02-05T09:18:22.148896600Z"
    }
   },
   "id": "b75e787de0500e07",
   "execution_count": 4
  },
  {
   "cell_type": "code",
   "outputs": [],
   "source": [
    "# ptreint.to_csv(path, index=False)"
   ],
   "metadata": {
    "collapsed": false,
    "ExecuteTime": {
     "end_time": "2024-02-05T09:18:22.171613100Z",
     "start_time": "2024-02-05T09:18:22.153791400Z"
    }
   },
   "id": "d1c566c0d6127250",
   "execution_count": 5
  },
  {
   "cell_type": "code",
   "outputs": [],
   "source": [
    "# intake[intake['fcid'] == 8110020103]"
   ],
   "metadata": {
    "collapsed": false,
    "ExecuteTime": {
     "end_time": "2024-02-05T09:18:22.175614200Z",
     "start_time": "2024-02-05T09:18:22.162585800Z"
    }
   },
   "id": "cf04d2eb76df794c",
   "execution_count": 6
  },
  {
   "cell_type": "markdown",
   "source": [
    "## PSYCHOSOCIAL INTAKE ASSESSMENT PROCESSING"
   ],
   "metadata": {
    "collapsed": false
   },
   "id": "9bd580849ff756a6"
  },
  {
   "cell_type": "code",
   "outputs": [],
   "source": [
    "# intake_23 = filter_df_by_date(intake, [\"nt_s2\"], threshold=threshold)\n",
    "# intake_23 = intake_23[[\"rid\", \"fcid\", \"service\",\"nt_s2\", \"family_of_missing\", \"survivor_of_detention\", \"primary_torture\", \"secondary_torture\", \"sexual_violation_a\", \"sexual_violation_p\", \"hrd\", \"journalist\", \"wov\", \"stgbv\", \"lgbti\", \"other\"]]\n",
    "# intake_23[\"service\"] = \"int\"\n",
    "# intake_23.rename(columns={\"nt_s2\": \"date\"}, inplace=True)\n",
    "# intake_23"
   ],
   "metadata": {
    "collapsed": false,
    "ExecuteTime": {
     "end_time": "2024-02-05T09:18:22.190097400Z",
     "start_time": "2024-02-05T09:18:22.169015600Z"
    }
   },
   "id": "3bd277f5e79c3f74",
   "execution_count": 7
  },
  {
   "cell_type": "code",
   "outputs": [],
   "source": [
    "# intake3_23 = filter_df_by_date(intake, [\"nt_s3\"], threshold=threshold)\n",
    "# intake3_23 = intake3_23[[\"rid\", \"fcid\", \"service\",\"nt_s3\", \"family_of_missing\", \"survivor_of_detention\", \"primary_torture\", \"secondary_torture\", \"sexual_violation_a\", \"sexual_violation_p\", \"hrd\", \"journalist\", \"wov\", \"stgbv\", \"lgbti\", \"other\"]]\n",
    "# intake3_23[\"service\"] = \"int\"\n",
    "# intake3_23.rename(columns={\"nt_s3\": \"date\"}, inplace=True)"
   ],
   "metadata": {
    "collapsed": false,
    "ExecuteTime": {
     "end_time": "2024-02-05T09:18:22.286618700Z",
     "start_time": "2024-02-05T09:18:22.174655900Z"
    }
   },
   "id": "2d5fbae3de9ac652",
   "execution_count": 8
  },
  {
   "cell_type": "markdown",
   "source": [
    "## PSYCHOSOCIAL RE-INTAKE ASSESSMENT PROCESSING"
   ],
   "metadata": {
    "collapsed": false
   },
   "id": "fce221b37aa3b482"
  },
  {
   "cell_type": "code",
   "outputs": [],
   "source": [
    "# reintake_23 = filter_df_by_date(intake, [\"nt_re\"], threshold=threshold)\n",
    "# reintake_23 = reintake_23[[\"rid\", \"fcid\", \"service\",\"nt_re\", \"family_of_missing\", \"survivor_of_detention\", \"primary_torture\", \"secondary_torture\", \"sexual_violation_a\", \"sexual_violation_p\", \"hrd\", \"journalist\", \"wov\", \"stgbv\", \"lgbti\", \"other\"]]\n",
    "# reintake_23[\"service\"] = \"re\"\n",
    "# reintake_23.rename(columns={\"nt_re\": \"date\"}, inplace=True)"
   ],
   "metadata": {
    "collapsed": false,
    "ExecuteTime": {
     "end_time": "2024-02-05T09:18:22.291024Z",
     "start_time": "2024-02-05T09:18:22.180741700Z"
    }
   },
   "id": "bccf37defd21eb2a",
   "execution_count": 9
  },
  {
   "cell_type": "code",
   "outputs": [],
   "source": [
    "# int23 = pd.concat([intake_23, intake3_23,reintake_23])"
   ],
   "metadata": {
    "collapsed": false,
    "ExecuteTime": {
     "end_time": "2024-02-05T09:18:22.317993Z",
     "start_time": "2024-02-05T09:18:22.187061200Z"
    }
   },
   "id": "97466640bf06dbea",
   "execution_count": 10
  },
  {
   "cell_type": "code",
   "outputs": [],
   "source": [
    "# int23 = pd.merge(int23, unique_scr[['rid', 'sex', 'age']], on='rid', how='left')"
   ],
   "metadata": {
    "collapsed": false,
    "ExecuteTime": {
     "end_time": "2024-02-05T09:18:22.323379800Z",
     "start_time": "2024-02-05T09:18:22.194856400Z"
    }
   },
   "id": "48820c2a6757eb52",
   "execution_count": 11
  },
  {
   "cell_type": "code",
   "outputs": [],
   "source": [
    "# _intake23 = intake23[intake23['service'] == 'int']\n",
    "# reintake23 = intake23[intake23['service'] == 're']\n",
    "# _intake23_path= os.path.join(root, data, processed, \"unvfvt23\", \"intBeneficiaries23.csv\")\n",
    "# reintake23_path= os.path.join(root, data, processed, \"unvfvt23\", \"reintBeneficiaries23.csv\")\n",
    "# _intake23.to_csv(_intake23_path, index=False)\n",
    "# reintake23.to_csv(reintake23_path, index=False)"
   ],
   "metadata": {
    "collapsed": false,
    "ExecuteTime": {
     "end_time": "2024-02-05T09:18:22.341061400Z",
     "start_time": "2024-02-05T09:18:22.201652500Z"
    }
   },
   "id": "86ab3bce1cd77002",
   "execution_count": 12
  },
  {
   "cell_type": "markdown",
   "source": [
    "## GROUP PSYCHOSOCIAL THERAPY COUNSELING PROCESSING"
   ],
   "metadata": {
    "collapsed": false
   },
   "id": "75a24c04a73bda93"
  },
  {
   "cell_type": "code",
   "outputs": [],
   "source": [
    "# gc_dataset = Dataset(config_file, gc_sheet)\n",
    "# gc = pd.read_csv(gc_path)\n",
    "# dtype_trans(gc, gc_dataset)"
   ],
   "metadata": {
    "collapsed": false,
    "ExecuteTime": {
     "end_time": "2024-02-05T09:18:22.341061400Z",
     "start_time": "2024-02-05T09:18:22.205058600Z"
    }
   },
   "id": "f834e4263ce87a39",
   "execution_count": 13
  },
  {
   "cell_type": "code",
   "outputs": [],
   "source": [
    "# gc23 = filter_df_by_date(gc, ['gc_s1', 'gc_s2', 'gc_s3', 'gc_s4', 'gc_s5', 'gc_s6', 'gc_s7', 'gc_s8', 'gc_s9', 'gc_10'], threshold)\n",
    "# gc23 = gc23[gc23[\"gc_total\"] >= 7]\n",
    "# gc23_latestdate = gc23[['gc_s1', 'gc_s2', 'gc_s3', 'gc_s4', 'gc_s5', 'gc_s6', 'gc_s7', 'gc_s8', 'gc_s9', 'gc_10']].max(axis=1)\n",
    "# gc23.insert(4, \"service\", \"gc\")\n",
    "# gc23.insert(5, \"date\", gc23_latestdate)\n",
    "# gc23"
   ],
   "metadata": {
    "collapsed": false,
    "ExecuteTime": {
     "end_time": "2024-02-05T09:18:22.345099500Z",
     "start_time": "2024-02-05T09:18:22.213851400Z"
    }
   },
   "id": "121b24b2767697b",
   "execution_count": 14
  },
  {
   "cell_type": "code",
   "outputs": [],
   "source": [
    "# gc23 = gc23[['rid', 'fcid', 'service', 'date', 'gc_total']]\n",
    "# gc23 = pd.merge(gc23, unique_intake[[\"rid\", \"family_of_missing\", \"survivor_of_detention\", \"primary_torture\", \"secondary_torture\", \"sexual_violation_a\", \"sexual_violation_p\", \"hrd\", \"journalist\", \"wov\", \"stgbv\", \"lgbti\", \"other\"]], on='rid', how='left')\n",
    "# gc23 = pd.merge(gc23, unique_scr[['rid', 'sex', 'age']], on='rid', how='left')\n",
    "# gc23"
   ],
   "metadata": {
    "collapsed": false,
    "ExecuteTime": {
     "end_time": "2024-02-05T09:18:22.360775300Z",
     "start_time": "2024-02-05T09:18:22.218947600Z"
    }
   },
   "id": "54d802f358d3213a",
   "execution_count": 15
  },
  {
   "cell_type": "code",
   "outputs": [],
   "source": [
    "# gc23_path = os.path.join(root, data, processed, \"unvfvt23\", \"gc23\")\n",
    "# gc23 = pd.read_csv(gc23_path)\n",
    "# gc23"
   ],
   "metadata": {
    "collapsed": false,
    "ExecuteTime": {
     "end_time": "2024-02-05T09:18:22.364147100Z",
     "start_time": "2024-02-05T09:18:22.226566400Z"
    }
   },
   "id": "15ca971dcd356d42",
   "execution_count": 16
  },
  {
   "cell_type": "markdown",
   "source": [
    "## INDIVIDUAL PSYCHOSOCIAL THERAPY COUNSELING PROCESSING"
   ],
   "metadata": {
    "collapsed": false
   },
   "id": "7d2690e8afc8ef86"
  },
  {
   "cell_type": "code",
   "outputs": [],
   "source": [
    "# ic_dataset = Dataset(config_file, ic_sheet)\n",
    "# ic = pd.read_csv(ic_path)\n",
    "# dtype_trans(ic, ic_dataset)\n",
    "# ic"
   ],
   "metadata": {
    "collapsed": false,
    "ExecuteTime": {
     "end_time": "2024-02-05T09:18:22.368258700Z",
     "start_time": "2024-02-05T09:18:22.231116Z"
    }
   },
   "id": "f489fa7e04ddff12",
   "execution_count": 17
  },
  {
   "cell_type": "code",
   "outputs": [],
   "source": [
    "# ic23 = filter_df_by_date(ic, ic_dataset.dvars, threshold)\n",
    "# ic23_latestdate = ic23[ic_dataset.dvars].max(axis=1)\n",
    "# ic23.insert(4, \"service\", \"ic\")\n",
    "# ic23.insert(5, \"date\", ic23_latestdate)\n",
    "# ic23 = ic23[['rid', 'fcid', 'service', 'date', 'ic_total']]\n",
    "# ic23.rename(columns={'ic_total': 'session_num'}, inplace=True)\n",
    "# ic23 = pd.merge(ic23, unique_intake[[\"rid\", \"family_of_missing\", \"survivor_of_detention\", \"primary_torture\", \"secondary_torture\", \"sexual_violation_a\", \"sexual_violation_p\", \"hrd\", \"journalist\", \"wov\", \"stgbv\", \"lgbti\", \"other\"]], on='rid', how='left')\n",
    "# ic23 = pd.merge(ic23, unique_scr[['rid', 'sex', 'age']], on='rid', how='left')\n",
    "# ic23"
   ],
   "metadata": {
    "collapsed": false,
    "ExecuteTime": {
     "end_time": "2024-02-05T09:18:22.498733200Z",
     "start_time": "2024-02-05T09:18:22.237172100Z"
    }
   },
   "id": "2c40427084a6eb88",
   "execution_count": 18
  },
  {
   "cell_type": "code",
   "outputs": [],
   "source": [
    "# int23_path = os.path.join(root, data, processed, \"unvfvt23\", \"intBeneficiaries23.csv\")\n",
    "# int23.to_csv(path, index=False)\n",
    "# gc23_path = os.path.join(root, data, processed, \"unvfvt23\", \"gcBeneficiaries23.csv\")\n",
    "# gc23.to_csv(gc23_path, index=False)"
   ],
   "metadata": {
    "collapsed": false,
    "ExecuteTime": {
     "end_time": "2024-02-05T09:18:22.500754900Z",
     "start_time": "2024-02-05T09:18:22.244189Z"
    }
   },
   "id": "e3dcfe51fa5fa22f",
   "execution_count": 19
  },
  {
   "cell_type": "code",
   "outputs": [],
   "source": [
    "# gc23_path = os.path.join(root, data, processed, \"unvfvt23\", \"gcBeneficiaries23.csv\")\n",
    "# pd.read_csv(gc23_path)"
   ],
   "metadata": {
    "collapsed": false,
    "ExecuteTime": {
     "end_time": "2024-02-05T09:18:22.502766200Z",
     "start_time": "2024-02-05T09:18:22.250789400Z"
    }
   },
   "id": "5b213831b39e847c",
   "execution_count": 20
  },
  {
   "cell_type": "markdown",
   "source": [
    "## PSYCHOSOCIAL FOLLOW-UP ASSESSMENT PROCESSING"
   ],
   "metadata": {
    "collapsed": false
   },
   "id": "1f4235cd8ab93f2d"
  },
  {
   "cell_type": "code",
   "outputs": [],
   "source": [
    "# psfua_dataset = Dataset(config_file, ptfua_sheet)\n",
    "# psfua = pd.read_csv(psfua_path)\n",
    "# psfua = dtype_trans(psfua, psfua_dataset)"
   ],
   "metadata": {
    "collapsed": false,
    "ExecuteTime": {
     "end_time": "2024-02-05T09:18:22.518112400Z",
     "start_time": "2024-02-05T09:18:22.268048700Z"
    }
   },
   "id": "dc5cf24111575d3e",
   "execution_count": 21
  },
  {
   "cell_type": "code",
   "outputs": [],
   "source": [
    "# psfua323 = filter_df_by_date(psfua, ['fu_3m'], threshold)\n",
    "# psfua323.insert(4, \"service\", \"psfua3\")\n",
    "# psfua623 = filter_df_by_date(psfua, ['fu_6m'], threshold)\n",
    "# psfua623 = filter_df_by_date(psfua623, ['fu_6m'], upper_threshold, comparison_type='b')\n",
    "# psfua623.insert(4, \"service\", \"psfua6\")\n",
    "# psfua1223 = filter_df_by_date(psfua, ['fu_12m'], threshold)\n",
    "# psfua1223.insert(4, \"service\", \"psfua12\")"
   ],
   "metadata": {
    "collapsed": false,
    "ExecuteTime": {
     "end_time": "2024-02-05T09:18:22.522250500Z",
     "start_time": "2024-02-05T09:18:22.272135100Z"
    }
   },
   "id": "b5c0e6c16cb7d80a",
   "execution_count": 22
  },
  {
   "cell_type": "code",
   "outputs": [],
   "source": [
    "# psfua323 = psfua323[['rid', 'fcid', 'service', 'fu_3m']].copy()\n",
    "# psfua323.rename(columns={'fu_3m': 'date'}, inplace=True)\n",
    "# psfua623 = psfua623[['rid', 'fcid', 'service', 'fu_6m']].copy()\n",
    "# psfua623.rename(columns={'fu_6m': 'date'}, inplace=True)\n",
    "# psfua1223 = psfua1223[['rid', 'fcid', 'service', 'fu_12m']].copy()\n",
    "# psfua1223.rename(columns={'fu_12m': 'date'}, inplace=True)\n",
    "# psfua23 = pd.concat([psfua323, psfua623, psfua1223])"
   ],
   "metadata": {
    "collapsed": false,
    "ExecuteTime": {
     "end_time": "2024-02-05T09:18:22.523247900Z",
     "start_time": "2024-02-05T09:18:22.276984800Z"
    }
   },
   "id": "54638a068472783f",
   "execution_count": 23
  },
  {
   "cell_type": "code",
   "outputs": [],
   "source": [
    "# psfua23 = pd.merge(psfua23, unique_intake[[\"rid\", \"family_of_missing\", \"survivor_of_detention\", \"primary_torture\", \"secondary_torture\", \"sexual_violation_a\", \"sexual_violation_p\", \"hrd\", \"journalist\", \"wov\", \"stgbv\", \"lgbti\", \"other\"]], on='rid', how='left')\n",
    "# psfua23 = pd.merge(psfua23, unique_scr[['rid', 'sex', 'age']], on='rid', how='left')"
   ],
   "metadata": {
    "collapsed": false,
    "ExecuteTime": {
     "end_time": "2024-02-05T09:18:22.526378800Z",
     "start_time": "2024-02-05T09:18:22.285055800Z"
    }
   },
   "id": "8443c12462b72fc5",
   "execution_count": 24
  },
  {
   "cell_type": "code",
   "outputs": [],
   "source": [
    "# psfua23_path = os.path.join(root, data, processed, \"unvfvt23\", \"psfuaBeneficiaries23.csv\")\n",
    "# psfua23.to_csv(psfua23_path, index=False)\n",
    "# psfua23"
   ],
   "metadata": {
    "collapsed": false,
    "ExecuteTime": {
     "end_time": "2024-02-05T09:18:22.536958400Z",
     "start_time": "2024-02-05T09:18:22.291024Z"
    }
   },
   "id": "f7075bd22bbd9770",
   "execution_count": 25
  },
  {
   "cell_type": "markdown",
   "source": [
    "## THERAPUTIC DOCUMENTATION PROCESSING"
   ],
   "metadata": {
    "collapsed": false
   },
   "id": "ce2ff07984857a2b"
  },
  {
   "cell_type": "code",
   "outputs": [],
   "source": [
    "# td_dataset = Dataset(config_file, td_sheet)\n",
    "# td = pd.read_csv(td_path)\n",
    "# td = dtype_trans(td, td_dataset)"
   ],
   "metadata": {
    "collapsed": false,
    "ExecuteTime": {
     "end_time": "2024-02-05T09:18:22.540027400Z",
     "start_time": "2024-02-05T09:18:22.297109900Z"
    }
   },
   "id": "78cbfa649a40b4bd",
   "execution_count": 26
  },
  {
   "cell_type": "code",
   "outputs": [],
   "source": [
    "# td23 = filter_df_by_date(td, td_dataset.dvars, threshold)\n",
    "# td23 = filter_df_by_date(td23, td_dataset.dvars, threshold=upper_threshold, comparison_type='b')\n",
    "# td23_latestdate = td23[td_dataset.dvars].max(axis=1)\n",
    "# td23.insert(4, \"service\", \"td\")\n",
    "# td23.insert(5, \"date\", td23_latestdate)\n",
    "# td23 = td23[['rid', 'fcid', 'service', 'date']]\n",
    "# td23 = pd.merge(td23, unique_intake[[\"rid\", \"family_of_missing\", \"survivor_of_detention\", \"primary_torture\", \"secondary_torture\", \"sexual_violation_a\", \"sexual_violation_p\", \"hrd\", \"journalist\", \"wov\", \"stgbv\", \"lgbti\", \"other\"]], on='rid', how='left')\n",
    "# td23 = pd.merge(td23, unique_scr[['rid', 'sex', 'age']], on='rid', how='left')"
   ],
   "metadata": {
    "collapsed": false,
    "ExecuteTime": {
     "end_time": "2024-02-05T09:18:22.553198900Z",
     "start_time": "2024-02-05T09:18:22.302813600Z"
    }
   },
   "id": "41d35d955a48df8f",
   "execution_count": 27
  },
  {
   "cell_type": "code",
   "outputs": [],
   "source": [
    "# td23_path = os.path.join(root, data, processed, \"unvfvt23\", \"tdBeneficiaries23.csv\")\n",
    "# td23.to_csv(td23_path, index=False)"
   ],
   "metadata": {
    "collapsed": false,
    "ExecuteTime": {
     "end_time": "2024-02-05T09:18:22.555226400Z",
     "start_time": "2024-02-05T09:18:22.311883200Z"
    }
   },
   "id": "67b9e5aa598b80a4",
   "execution_count": 28
  },
  {
   "cell_type": "markdown",
   "source": [
    "## POST-EARTHQUAKE INTERVENTION PROCESSING"
   ],
   "metadata": {
    "collapsed": false
   },
   "id": "9dc958a7f60d7454"
  },
  {
   "cell_type": "code",
   "outputs": [],
   "source": [
    "# pei_dataset = Dataset(config_file, pei_sheet)\n",
    "# pei = pd.read_csv(pei_path)\n",
    "# pei = dtype_trans(pei, pei_dataset)"
   ],
   "metadata": {
    "collapsed": false,
    "ExecuteTime": {
     "end_time": "2024-02-05T09:18:22.582971800Z",
     "start_time": "2024-02-05T09:18:22.319033400Z"
    }
   },
   "id": "c7e216ae03bce48a",
   "execution_count": 29
  },
  {
   "cell_type": "code",
   "outputs": [],
   "source": [
    "# pei23 = filter_df_by_date(pei, pei_dataset.dvars, threshold)\n",
    "# pei23 = filter_df_by_date(pei23, pei_dataset.dvars, threshold=upper_threshold, comparison_type='b')\n",
    "# pei23_latestdate = pei23[pei_dataset.dvars].max(axis=1)\n",
    "# pei23.insert(4, \"service\", \"pei\")\n",
    "# pei23.insert(5, \"date\", pei23_latestdate)\n",
    "# pei23 = pei23[['rid', 'fcid', 'service', 'date', \"pei_total\"]]\n",
    "# pei23 = pd.merge(pei23, unique_intake[[\"rid\", \"family_of_missing\", \"survivor_of_detention\", \"primary_torture\", \"secondary_torture\", \"sexual_violation_a\", \"sexual_violation_p\", \"hrd\", \"journalist\", \"wov\", \"stgbv\", \"lgbti\", \"other\"]], on='rid', how='left')\n",
    "# pei23 = pd.merge(pei23, unique_scr[['rid', 'sex', 'age']], on='rid', how='left')"
   ],
   "metadata": {
    "collapsed": false,
    "ExecuteTime": {
     "end_time": "2024-02-05T09:18:22.586141800Z",
     "start_time": "2024-02-05T09:18:22.324931700Z"
    }
   },
   "id": "ada4b95c5e9ba8a8",
   "execution_count": 30
  },
  {
   "cell_type": "code",
   "outputs": [],
   "source": [
    "# pei23_path = os.path.join(root, data, processed, \"unvfvt23\", \"peiBeneficiaries23.xlsx\")\n",
    "# pei23.to_csv(pei23_path, index=False)\n",
    "# pei23.to_excel(pei23_path, index=False)"
   ],
   "metadata": {
    "collapsed": false,
    "ExecuteTime": {
     "end_time": "2024-02-05T09:18:22.594123Z",
     "start_time": "2024-02-05T09:18:22.331493100Z"
    }
   },
   "id": "f79d4379018978e2",
   "execution_count": 31
  },
  {
   "cell_type": "markdown",
   "source": [
    "## GROUP PHYSIOTHERAPY PROCESSING"
   ],
   "metadata": {
    "collapsed": false
   },
   "id": "ced39018c2a6a329"
  },
  {
   "cell_type": "code",
   "outputs": [],
   "source": [
    "# gpt_dataset = Dataset(config_file, gpt_sheet)\n",
    "# gpt = pd.read_csv(gpt_path)\n",
    "# gpt = dtype_trans(gpt, gpt_dataset)\n",
    "# non_nat_counts = gpt[gpt_dataset.dvars].notna().sum(axis=1)\n",
    "# gpt['pt_g_total'] = np.where(gpt['pt_g_total'] == 0, non_nat_counts, gpt['pt_g_total'])"
   ],
   "metadata": {
    "collapsed": false,
    "ExecuteTime": {
     "end_time": "2024-02-05T09:18:22.596263900Z",
     "start_time": "2024-02-05T09:18:22.337443500Z"
    }
   },
   "id": "69f179465a84b143",
   "execution_count": 32
  },
  {
   "cell_type": "code",
   "outputs": [],
   "source": [
    "# gpt23 = filter_df_by_date(gpt, gpt_dataset.dvars, threshold)\n",
    "# gpt23 = filter_df_by_date(gpt23, gpt_dataset.dvars, upper_threshold, comparison_type='b')\n",
    "# gpt_mask = (gpt23[gpt_dataset.dvars] > threshold) & (gpt23[gpt_dataset.dvars] < upper_threshold)\n",
    "# gpt23_latestdate = gpt23[gpt_dataset.dvars].where(gpt_mask).max(axis=1)\n",
    "# gpt23.insert(4, \"service\", \"gpt\")\n",
    "# gpt23.insert(5, \"date\", gpt23_latestdate)\n",
    "# gpt23 = gpt23[['rid', 'fcid', 'service', 'date', 'pt_g_total']]"
   ],
   "metadata": {
    "collapsed": false,
    "ExecuteTime": {
     "end_time": "2024-02-05T09:18:22.604327900Z",
     "start_time": "2024-02-05T09:18:22.343102600Z"
    }
   },
   "id": "85166e0926c4a4d7",
   "execution_count": 33
  },
  {
   "cell_type": "code",
   "outputs": [],
   "source": [
    "# gpt23 = pd.merge(gpt23, unique_intake[[\"rid\", \"family_of_missing\", \"survivor_of_detention\", \"primary_torture\", \"secondary_torture\", \"sexual_violation_a\", \"sexual_violation_p\", \"hrd\", \"journalist\", \"wov\", \"stgbv\", \"lgbti\", \"other\"]], on='rid', how='left')\n",
    "# gpt23 = pd.merge(gpt23, unique_scr[['rid', 'sex', 'age']], on='rid', how='left')"
   ],
   "metadata": {
    "collapsed": false,
    "ExecuteTime": {
     "end_time": "2024-02-05T09:18:22.612779500Z",
     "start_time": "2024-02-05T09:18:22.348159500Z"
    }
   },
   "id": "f8412195883ecf84",
   "execution_count": 34
  },
  {
   "cell_type": "code",
   "outputs": [],
   "source": [
    "# gpt23_path = os.path.join(root, data, processed, \"unvfvt23\", \"gptBeneficiaries23.csv\")\n",
    "# gpt23.to_csv(gpt23_path, index=False)"
   ],
   "metadata": {
    "collapsed": false,
    "ExecuteTime": {
     "end_time": "2024-02-05T09:18:22.614905600Z",
     "start_time": "2024-02-05T09:18:22.356223700Z"
    }
   },
   "id": "711e63d080432fcc",
   "execution_count": 35
  },
  {
   "cell_type": "markdown",
   "source": [
    "## INDIVIDUAL PHYSIOTHERAPY PROCESSING"
   ],
   "metadata": {
    "collapsed": false
   },
   "id": "69ddaa7d56fed1c3"
  },
  {
   "cell_type": "code",
   "outputs": [],
   "source": [
    "# ipt_dataset = Dataset(config_file, ipt_sheet)\n",
    "# ipt = pd.read_csv(ipt_path)\n",
    "# ipt = dtype_trans(ipt, ipt_dataset)\n",
    "# non_nat_counts = ipt[ipt_dataset.dvars].notna().sum(axis=1)\n",
    "# ipt['pt_i_total'] = np.where(ipt['pt_i_total'] == 0, non_nat_counts, ipt['pt_i_total'])"
   ],
   "metadata": {
    "collapsed": false,
    "ExecuteTime": {
     "end_time": "2024-02-05T09:18:22.626334400Z",
     "start_time": "2024-02-05T09:18:22.362590400Z"
    }
   },
   "id": "ff12eaee81499150",
   "execution_count": 36
  },
  {
   "cell_type": "code",
   "outputs": [],
   "source": [
    "# ipt23 = filter_df_by_date(ipt, ipt_dataset.dvars, threshold)\n",
    "# ipt23 = filter_df_by_date(ipt23, ipt_dataset.dvars, threshold=upper_threshold, comparison_type='b')\n",
    "# ipt_mask = (ipt23[ipt_dataset.dvars] > threshold) & (ipt23[ipt_dataset.dvars] < upper_threshold)\n",
    "# ipt23_latestdate = ipt23[ipt_dataset.dvars].where(ipt_mask).max(axis=1)\n",
    "# ipt23.insert(4, \"service\", \"ipt\")\n",
    "# ipt23.insert(5, \"date\", ipt23_latestdate)\n",
    "# ipt23 = ipt23[['rid', 'fcid', 'service', 'date', 'pt_i_total']]"
   ],
   "metadata": {
    "collapsed": false,
    "ExecuteTime": {
     "end_time": "2024-02-05T09:18:22.631180Z",
     "start_time": "2024-02-05T09:18:22.368258700Z"
    }
   },
   "id": "9b66984d8e0c0cab",
   "execution_count": 37
  },
  {
   "cell_type": "code",
   "outputs": [],
   "source": [
    "# ipt23 = pd.merge(ipt23, unique_intake[[\"rid\", \"family_of_missing\", \"survivor_of_detention\", \"primary_torture\", \"secondary_torture\", \"sexual_violation_a\", \"sexual_violation_p\", \"hrd\", \"journalist\", \"wov\", \"stgbv\", \"lgbti\", \"other\"]], on='rid', how='left')\n",
    "# ipt23 = pd.merge(ipt23, unique_scr[['rid', 'sex', 'age']], on='rid', how='left')"
   ],
   "metadata": {
    "collapsed": false,
    "ExecuteTime": {
     "end_time": "2024-02-05T09:18:22.633994100Z",
     "start_time": "2024-02-05T09:18:22.376356100Z"
    }
   },
   "id": "e045d544b249a02b",
   "execution_count": 38
  },
  {
   "cell_type": "code",
   "outputs": [],
   "source": [
    "# ipt23_path = os.path.join(root, data, processed, \"unvfvt23\", \"iptBeneficiaries23.csv\")\n",
    "# ipt23.to_csv(ipt23_path, index=False)"
   ],
   "metadata": {
    "collapsed": false,
    "ExecuteTime": {
     "end_time": "2024-02-05T09:18:22.642098400Z",
     "start_time": "2024-02-05T09:18:22.383323Z"
    }
   },
   "id": "f423b4795a975d95",
   "execution_count": 39
  },
  {
   "cell_type": "markdown",
   "source": [
    "## PHYSIOTHERAPY INTAKE ASSESSMENT PROCESSING"
   ],
   "metadata": {
    "collapsed": false
   },
   "id": "5772e6112d6ad0b5"
  },
  {
   "cell_type": "code",
   "outputs": [],
   "source": [
    "# ptint_dataset = Dataset(config_file, ptint_sheet)\n",
    "# ptint = pd.read_csv(ptint_path)\n",
    "# ptint = dtype_trans(ptint, ptint_dataset)"
   ],
   "metadata": {
    "collapsed": false,
    "ExecuteTime": {
     "end_time": "2024-02-05T09:18:22.644264300Z",
     "start_time": "2024-02-05T09:18:22.390175500Z"
    }
   },
   "id": "dcbb2f76b8ed6e67",
   "execution_count": 40
  },
  {
   "cell_type": "code",
   "outputs": [],
   "source": [
    "# ptint23 = filter_df_by_date(ptint, ptint_dataset.dvars, threshold)\n",
    "# ptint23 = filter_df_by_date(ptint23, ptint_dataset.dvars, threshold=upper_threshold, comparison_type='b')\n",
    "# ptint23_latestdate = ptint23[['pt_nt_s1', 'pt_nt_s2']].max(axis=1)\n",
    "# _ptint23 = ptint23.copy()\n",
    "# _ptint23.insert(4, 'service', 'ptint')\n",
    "# _ptint23.insert(5, 'date', ptint23_latestdate)\n",
    "# _ptint23 = _ptint23[['rid', 'fcid', 'service', 'date']]\n",
    "# _ptint23 = filter_df_by_date(_ptint23, ['date'], threshold)"
   ],
   "metadata": {
    "collapsed": false,
    "ExecuteTime": {
     "end_time": "2024-02-05T09:18:22.646339700Z",
     "start_time": "2024-02-05T09:18:22.394260600Z"
    }
   },
   "id": "562169b77373d9ae",
   "execution_count": 41
  },
  {
   "cell_type": "code",
   "outputs": [],
   "source": [
    "# _ptint23 = pd.merge(_ptint23, unique_intake[[\"rid\", \"family_of_missing\", \"survivor_of_detention\", \"primary_torture\", \"secondary_torture\", \"sexual_violation_a\", \"sexual_violation_p\", \"hrd\", \"journalist\", \"wov\", \"stgbv\", \"lgbti\", \"other\"]], on='rid', how='left')\n",
    "# _ptint23 = pd.merge(_ptint23, unique_scr[['rid', 'sex', 'age']], on='rid', how='left')"
   ],
   "metadata": {
    "collapsed": false,
    "ExecuteTime": {
     "end_time": "2024-02-05T09:18:22.655366300Z",
     "start_time": "2024-02-05T09:18:22.400387900Z"
    }
   },
   "id": "26cf68bbc9d7e2f3",
   "execution_count": 42
  },
  {
   "cell_type": "code",
   "outputs": [],
   "source": [
    "# ptint23_path = os.path.join(root, data, processed, \"unvfvt23\", \"ptintBeneficiaries23.csv\")\n",
    "# _ptint23.to_csv(ptint23_path, index=False)"
   ],
   "metadata": {
    "collapsed": false,
    "ExecuteTime": {
     "end_time": "2024-02-05T09:18:22.767392900Z",
     "start_time": "2024-02-05T09:18:22.406522200Z"
    }
   },
   "id": "c0fbe2175c868b4c",
   "execution_count": 43
  },
  {
   "cell_type": "markdown",
   "source": [
    "## PHYSIOTHERAPY RE-INTAKE ASSESSMENT PROCESSING"
   ],
   "metadata": {
    "collapsed": false
   },
   "id": "4c707f02c6a2ed35"
  },
  {
   "cell_type": "code",
   "outputs": [],
   "source": [
    "# ptreint23 = filter_df_by_date(ptint23, ['pt_nt_re'], threshold)\n",
    "# ptreint23.insert(4, 'service', 'ptreint')\n",
    "# ptreint23 = ptreint23.rename(columns={'pt_nt_re': 'date'})\n",
    "# ptreint23 = ptreint23[['rid', 'fcid', 'service', 'date']]"
   ],
   "metadata": {
    "collapsed": false,
    "ExecuteTime": {
     "end_time": "2024-02-05T09:18:22.769071700Z",
     "start_time": "2024-02-05T09:18:22.414678600Z"
    }
   },
   "id": "fb30e49b9023208e",
   "execution_count": 44
  },
  {
   "cell_type": "code",
   "outputs": [],
   "source": [
    "# ptreint23_path = os.path.join(root, data, processed, \"unvfvt23\", \"ptreintBeneficiaries23.csv\")\n",
    "# ptreint23.to_csv(ptreint23_path, index=False)"
   ],
   "metadata": {
    "collapsed": false,
    "ExecuteTime": {
     "end_time": "2024-02-05T09:18:22.771120900Z",
     "start_time": "2024-02-05T09:18:22.420779800Z"
    }
   },
   "id": "2cc27add72261051",
   "execution_count": 45
  },
  {
   "cell_type": "markdown",
   "source": [
    "## PHYSIOTHERAPY FOLLOW-UP ASSESSMENT PROCESSING"
   ],
   "metadata": {
    "collapsed": false
   },
   "id": "f81a84684cc8dcd8"
  },
  {
   "cell_type": "code",
   "outputs": [],
   "source": [
    "# ptfua_dataset = Dataset(config_file, ptfua_sheet)\n",
    "# ptfua = pd.read_csv(ptfua_path)\n",
    "# ptfua = dtype_trans(ptfua, ptfua_dataset)"
   ],
   "metadata": {
    "collapsed": false,
    "ExecuteTime": {
     "end_time": "2024-02-05T09:18:22.790406300Z",
     "start_time": "2024-02-05T09:18:22.426124900Z"
    }
   },
   "id": "d5c0816132274c19",
   "execution_count": 46
  },
  {
   "cell_type": "code",
   "outputs": [],
   "source": [
    "# ptfua323 = filter_df_by_date(ptfua, ['fu_3m'], threshold)\n",
    "# ptfua323.insert(4, \"service\", \"ptfua3\")\n",
    "# ptfua323 = ptfua323.rename(columns={'fu_3m': 'date'})\n",
    "# ptfua323 = ptfua323[['rid', 'fcid', 'service', 'date']]\n",
    "# ptfua323 = pd.merge(ptfua323, unique_intake[[\"rid\", \"family_of_missing\", \"survivor_of_detention\", \"primary_torture\", \"secondary_torture\", \"sexual_violation_a\", \"sexual_violation_p\", \"hrd\", \"journalist\", \"wov\", \"stgbv\", \"lgbti\", \"other\"]], on='rid', how='left')\n",
    "# ptfua323 = pd.merge(ptfua323, unique_scr[['rid', 'sex', 'age']], on='rid', how='left')\n",
    "# ptfua323_path = os.path.join(root, data, processed, \"unvfvt23\", \"ptfua3Beneficiaries23.csv\")\n",
    "# ptfua323.to_csv(ptfua323_path, index=False)"
   ],
   "metadata": {
    "collapsed": false,
    "ExecuteTime": {
     "end_time": "2024-02-05T09:18:22.792454500Z",
     "start_time": "2024-02-05T09:18:22.433819100Z"
    }
   },
   "id": "13765e8923ff9e3a",
   "execution_count": 47
  },
  {
   "cell_type": "code",
   "outputs": [],
   "source": [
    "# ptfua623 = filter_df_by_date(ptfua, ['fu_6m'], threshold)\n",
    "# ptfua623 = filter_df_by_date(ptfua623, ['fu_6m'], threshold=upper_threshold, comparison_type='b')\n",
    "# ptfua623.insert(4, \"service\", \"ptfua6\")\n",
    "# ptfua623 = ptfua623.rename(columns={'fu_6m': 'date'})\n",
    "# ptfua623 = ptfua623[['rid', 'fcid', 'service', 'date']]\n",
    "# ptfua623 = pd.merge(ptfua623, unique_intake[[\"rid\", \"family_of_missing\", \"survivor_of_detention\", \"primary_torture\", \"secondary_torture\", \"sexual_violation_a\", \"sexual_violation_p\", \"hrd\", \"journalist\", \"wov\", \"stgbv\", \"lgbti\", \"other\"]], on='rid', how='left')\n",
    "# ptfua623 = pd.merge(ptfua623, unique_scr[['rid', 'sex', 'age']], on='rid', how='left')\n",
    "# ptfua623_path = os.path.join(root, data, processed, \"unvfvt23\", \"ptfua6Beneficiaries23.csv\")\n",
    "# ptfua623.to_csv(ptfua623_path, index=False)"
   ],
   "metadata": {
    "collapsed": false,
    "ExecuteTime": {
     "end_time": "2024-02-05T09:18:22.794572200Z",
     "start_time": "2024-02-05T09:18:22.439919Z"
    }
   },
   "id": "649e26ea9760c362",
   "execution_count": 48
  },
  {
   "cell_type": "code",
   "outputs": [],
   "source": [
    "# ptfua1223 = filter_df_by_date(ptfua, ['fu_12m'], threshold)\n",
    "# ptfua1223 = filter_df_by_date(ptfua1223, ['fu_12m'], threshold=upper_threshold, comparison_type='b')\n",
    "# ptfua1223.insert(4, \"service\", \"ptfua12\")\n",
    "# ptfua1223 = ptfua1223.rename(columns={'fu_12m': 'date'})\n",
    "# ptfua1223 = ptfua1223[['rid', 'fcid', 'service', 'date']]\n",
    "# ptfua1223 = pd.merge(ptfua1223, unique_intake[[\"rid\", \"family_of_missing\", \"survivor_of_detention\", \"primary_torture\", \"secondary_torture\", \"sexual_violation_a\", \"sexual_violation_p\", \"hrd\", \"journalist\", \"wov\", \"stgbv\", \"lgbti\", \"other\"]], on='rid', how='left')\n",
    "# ptfua1223 = pd.merge(ptfua1223, unique_scr[['rid', 'sex', 'age']], on='rid', how='left')\n",
    "# ptfua1223_path = os.path.join(root, data, processed, \"unvfvt23\", \"ptfua12Beneficiaries23.csv\")\n",
    "# ptfua1223.to_csv(ptfua1223_path, index=False)"
   ],
   "metadata": {
    "collapsed": false,
    "ExecuteTime": {
     "end_time": "2024-02-05T09:18:22.807028800Z",
     "start_time": "2024-02-05T09:18:22.446140Z"
    }
   },
   "id": "81e1ce70ccfbf89d",
   "execution_count": 49
  },
  {
   "cell_type": "markdown",
   "source": [
    "# CONSOLIDATION"
   ],
   "metadata": {
    "collapsed": false
   },
   "id": "294e877aeaa33bbf"
  },
  {
   "cell_type": "code",
   "outputs": [
    {
     "data": {
      "text/plain": "      rid        fcid  service        date  session_num family_of_missing  \\\n0   R0092  8110050011  psfua12  2023-01-03            0               Yes   \n1   R0102  8110050015  psfua12  2023-04-12            0               Yes   \n2   R0107  8110050017  psfua12  2023-01-31            0               Yes   \n3   R0110  8110050018  psfua12  2023-01-03            0                No   \n4   R0112  8110050019  psfua12  2023-01-31            0                No   \n5   R0109  8110050020  psfua12  2023-01-31            0               Yes   \n6   R0114  8110050021  psfua12  2023-01-31            0               Yes   \n7   R0111  8110050022  psfua12  2023-04-10            0                No   \n8   R0226  8110050042  psfua12  2023-07-20            0                No   \n9   R0336  8110050059  psfua12  2023-07-20            0               Yes   \n10  R0359  8110050048  psfua12  2023-08-01            0               Yes   \n11  R0357  8110050036  psfua12  2023-08-01            0               Yes   \n12  R0184  8110050032  psfua12  2023-04-27            0                No   \n13  R0128  8110050027  psfua12  2023-04-27            0                No   \n14  R0124  8110050024  psfua12  2023-05-03            0                No   \n15  R0129  8110050029  psfua12  2023-04-11            0               Yes   \n16  R0074  8110020054  psfua12  2023-01-18            0                No   \n17  R0099  8110020055  psfua12  2023-01-23            0               Yes   \n18  R0096  8110020057  psfua12  2023-01-18            0               Yes   \n19  R0105  8110020058  psfua12  2023-01-16            0                No   \n20  R0095  8110050012  psfua12  2023-01-17            0                No   \n21  R0089  8110060012  psfua12  2023-01-18            0               Yes   \n22  R0083  8110060010  psfua12  2023-01-30            0               Yes   \n23  R0116  8110020062  psfua12  2023-01-30            0                No   \n24  R0113  8110020060  psfua12  2023-01-24            0               Yes   \n25  R0126  8110020064  psfua12  2023-01-26            0                No   \n26  R0196  8110020073  psfua12  2023-05-23            0                No   \n27  R0155  8110020067  psfua12  2023-01-24            0               Yes   \n28  R0118  8110020068  psfua12  2023-01-24            0                No   \n29  R0268  8110020077  psfua12  2023-01-27            0                No   \n30  R0185  8110020066  psfua12  2023-04-13            0               Yes   \n31  R0140  8110020070  psfua12  2023-08-25            0                No   \n32  R0157  8110020079  psfua12  2023-07-19            0               Yes   \n33  R0189  8110050033  psfua12  2023-07-19            0                No   \n34  R0400  8110050037  psfua12  2023-07-19            0               Yes   \n35  R0297  8110020087  psfua12  2023-07-20            0                No   \n36  R0314  8110020091  psfua12  2023-07-26            0                No   \n37  R0258  8110050046  psfua12  2023-08-08            0                No   \n38  R0119  8110020063  psfua12  2023-08-01            0               Yes   \n39  R0246  8110020084  psfua12  2023-08-01            0                No   \n40  R0187  8110050030  psfua12  2023-06-13            0                No   \n41  R0255  8110070004  psfua12  2023-06-13            0                No   \n42  R0267  8110070005  psfua12  2023-06-21            0                No   \n\n   survivor_of_detention primary_torture secondary_torture  \\\n0                     No              No               Yes   \n1                    Yes             Yes               Yes   \n2                     No              No               Yes   \n3                     No              No               Yes   \n4                     No              No                No   \n5                     No             Yes               Yes   \n6                     No              No               Yes   \n7                     No              No               Yes   \n8                     No              No               Yes   \n9                    Yes             Yes               Yes   \n10                    No              No               Yes   \n11                    No              No               Yes   \n12                    No              No               Yes   \n13                    No              No               Yes   \n14                    No              No               Yes   \n15                    No              No               Yes   \n16                    No              No                No   \n17                    No             Yes               Yes   \n18                    No              No               Yes   \n19                    No              No                No   \n20                    No              No               Yes   \n21                   Yes             Yes               Yes   \n22                   Yes             Yes               Yes   \n23                    No              No               Yes   \n24                    No              No               Yes   \n25                    No              No               Yes   \n26                    No             Yes               Yes   \n27                    No              No               Yes   \n28                    No              No               Yes   \n29                    No              No               Yes   \n30                   Yes             Yes               Yes   \n31                    No              No               Yes   \n32                    No              No               Yes   \n33                    No              No               Yes   \n34                    No             Yes               Yes   \n35                    No              No                No   \n36                    No              No               Yes   \n37                    No              No               Yes   \n38                    No             Yes               Yes   \n39                    No              No               Yes   \n40                    No              No               Yes   \n41                    No             Yes               Yes   \n42                    No             Yes               Yes   \n\n    sexual_violation_a  sexual_violation_p  hrd  journalist  wov stgbv lgbti  \\\n0                  NaN                 NaN  NaN         NaN  Yes    No    No   \n1                  NaN                 NaN  NaN         NaN  Yes   Yes    No   \n2                  NaN                 NaN  NaN         NaN  Yes    No    No   \n3                  NaN                 NaN  NaN         NaN  Yes    No    No   \n4                  NaN                 NaN  NaN         NaN  Yes    No    No   \n5                  NaN                 NaN  NaN         NaN  Yes    No    No   \n6                  NaN                 NaN  NaN         NaN  Yes    No    No   \n7                  NaN                 NaN  NaN         NaN  Yes    No    No   \n8                  NaN                 NaN  NaN         NaN  Yes    No    No   \n9                  NaN                 NaN  NaN         NaN  Yes    No    No   \n10                 NaN                 NaN  NaN         NaN  Yes    No    No   \n11                 NaN                 NaN  NaN         NaN  Yes    No    No   \n12                 NaN                 NaN  NaN         NaN  Yes    No    No   \n13                 NaN                 NaN  NaN         NaN  Yes    No    No   \n14                 NaN                 NaN  NaN         NaN  Yes    No    No   \n15                 NaN                 NaN  NaN         NaN  Yes    No    No   \n16                 NaN                 NaN  NaN         NaN  Yes    No    No   \n17                 NaN                 NaN  NaN         NaN  Yes    No    No   \n18                 NaN                 NaN  NaN         NaN  Yes    No    No   \n19                 NaN                 NaN  NaN         NaN  Yes    No    No   \n20                 NaN                 NaN  NaN         NaN  Yes    No    No   \n21                 NaN                 NaN  NaN         NaN  Yes   Yes    No   \n22                 NaN                 NaN  NaN         NaN  Yes   Yes    No   \n23                 NaN                 NaN  NaN         NaN  Yes   Yes    No   \n24                 NaN                 NaN  NaN         NaN  Yes    No    No   \n25                 NaN                 NaN  NaN         NaN  Yes    No    No   \n26                 NaN                 NaN  NaN         NaN  Yes    No    No   \n27                 NaN                 NaN  NaN         NaN  Yes    No    No   \n28                 NaN                 NaN  NaN         NaN  Yes    No    No   \n29                 NaN                 NaN  NaN         NaN  Yes    No    No   \n30                 NaN                 NaN  NaN         NaN  Yes    No    No   \n31                 NaN                 NaN  NaN         NaN  Yes    No    No   \n32                 NaN                 NaN  NaN         NaN  Yes    No    No   \n33                 NaN                 NaN  NaN         NaN  Yes    No    No   \n34                 NaN                 NaN  NaN         NaN  Yes    No    No   \n35                 NaN                 NaN  NaN         NaN  Yes    No    No   \n36                 NaN                 NaN  NaN         NaN  Yes    No    No   \n37                 NaN                 NaN  NaN         NaN  Yes    No    No   \n38                 NaN                 NaN  NaN         NaN  Yes    No    No   \n39                 NaN                 NaN  NaN         NaN  Yes    No    No   \n40                 NaN                 NaN  NaN         NaN  Yes    No    No   \n41                 NaN                 NaN  NaN         NaN  Yes    No    No   \n42                 NaN                 NaN  NaN         NaN  Yes    No    No   \n\n   other     sex  age  \n0     No  Female   46  \n1     No  Female   37  \n2     No  Female   31  \n3     No  Female   44  \n4     No  Female   36  \n5     No  Female   55  \n6     No  Female   34  \n7     No  Female   41  \n8     No  Female   60  \n9     No  Female   41  \n10    No  Female   39  \n11    No  Female   41  \n12   Yes  Female   42  \n13    No  Female   47  \n14    No  Female   43  \n15    No  Female   48  \n16    No  Female   38  \n17    No    Male   55  \n18    No  Female   39  \n19    No  Female   33  \n20    No  Female   43  \n21    No  Female   43  \n22    No  Female   36  \n23    No  Female   43  \n24    No  Female   42  \n25    No  Female   46  \n26    No  Female   42  \n27    No  Female   51  \n28    No  Female   43  \n29    No  Female   46  \n30    No    Male   35  \n31    No  Female   56  \n32    No  Female   56  \n33    No  Female   58  \n34    No  Female   53  \n35    No  Female   41  \n36    No  Female   41  \n37    No  Female   41  \n38    No  Female   23  \n39    No  Female   20  \n40    No  Female   40  \n41    No  Female   45  \n42    No  Female   48  ",
      "text/html": "<div>\n<style scoped>\n    .dataframe tbody tr th:only-of-type {\n        vertical-align: middle;\n    }\n\n    .dataframe tbody tr th {\n        vertical-align: top;\n    }\n\n    .dataframe thead th {\n        text-align: right;\n    }\n</style>\n<table border=\"1\" class=\"dataframe\">\n  <thead>\n    <tr style=\"text-align: right;\">\n      <th></th>\n      <th>rid</th>\n      <th>fcid</th>\n      <th>service</th>\n      <th>date</th>\n      <th>session_num</th>\n      <th>family_of_missing</th>\n      <th>survivor_of_detention</th>\n      <th>primary_torture</th>\n      <th>secondary_torture</th>\n      <th>sexual_violation_a</th>\n      <th>sexual_violation_p</th>\n      <th>hrd</th>\n      <th>journalist</th>\n      <th>wov</th>\n      <th>stgbv</th>\n      <th>lgbti</th>\n      <th>other</th>\n      <th>sex</th>\n      <th>age</th>\n    </tr>\n  </thead>\n  <tbody>\n    <tr>\n      <th>0</th>\n      <td>R0092</td>\n      <td>8110050011</td>\n      <td>psfua12</td>\n      <td>2023-01-03</td>\n      <td>0</td>\n      <td>Yes</td>\n      <td>No</td>\n      <td>No</td>\n      <td>Yes</td>\n      <td>NaN</td>\n      <td>NaN</td>\n      <td>NaN</td>\n      <td>NaN</td>\n      <td>Yes</td>\n      <td>No</td>\n      <td>No</td>\n      <td>No</td>\n      <td>Female</td>\n      <td>46</td>\n    </tr>\n    <tr>\n      <th>1</th>\n      <td>R0102</td>\n      <td>8110050015</td>\n      <td>psfua12</td>\n      <td>2023-04-12</td>\n      <td>0</td>\n      <td>Yes</td>\n      <td>Yes</td>\n      <td>Yes</td>\n      <td>Yes</td>\n      <td>NaN</td>\n      <td>NaN</td>\n      <td>NaN</td>\n      <td>NaN</td>\n      <td>Yes</td>\n      <td>Yes</td>\n      <td>No</td>\n      <td>No</td>\n      <td>Female</td>\n      <td>37</td>\n    </tr>\n    <tr>\n      <th>2</th>\n      <td>R0107</td>\n      <td>8110050017</td>\n      <td>psfua12</td>\n      <td>2023-01-31</td>\n      <td>0</td>\n      <td>Yes</td>\n      <td>No</td>\n      <td>No</td>\n      <td>Yes</td>\n      <td>NaN</td>\n      <td>NaN</td>\n      <td>NaN</td>\n      <td>NaN</td>\n      <td>Yes</td>\n      <td>No</td>\n      <td>No</td>\n      <td>No</td>\n      <td>Female</td>\n      <td>31</td>\n    </tr>\n    <tr>\n      <th>3</th>\n      <td>R0110</td>\n      <td>8110050018</td>\n      <td>psfua12</td>\n      <td>2023-01-03</td>\n      <td>0</td>\n      <td>No</td>\n      <td>No</td>\n      <td>No</td>\n      <td>Yes</td>\n      <td>NaN</td>\n      <td>NaN</td>\n      <td>NaN</td>\n      <td>NaN</td>\n      <td>Yes</td>\n      <td>No</td>\n      <td>No</td>\n      <td>No</td>\n      <td>Female</td>\n      <td>44</td>\n    </tr>\n    <tr>\n      <th>4</th>\n      <td>R0112</td>\n      <td>8110050019</td>\n      <td>psfua12</td>\n      <td>2023-01-31</td>\n      <td>0</td>\n      <td>No</td>\n      <td>No</td>\n      <td>No</td>\n      <td>No</td>\n      <td>NaN</td>\n      <td>NaN</td>\n      <td>NaN</td>\n      <td>NaN</td>\n      <td>Yes</td>\n      <td>No</td>\n      <td>No</td>\n      <td>No</td>\n      <td>Female</td>\n      <td>36</td>\n    </tr>\n    <tr>\n      <th>5</th>\n      <td>R0109</td>\n      <td>8110050020</td>\n      <td>psfua12</td>\n      <td>2023-01-31</td>\n      <td>0</td>\n      <td>Yes</td>\n      <td>No</td>\n      <td>Yes</td>\n      <td>Yes</td>\n      <td>NaN</td>\n      <td>NaN</td>\n      <td>NaN</td>\n      <td>NaN</td>\n      <td>Yes</td>\n      <td>No</td>\n      <td>No</td>\n      <td>No</td>\n      <td>Female</td>\n      <td>55</td>\n    </tr>\n    <tr>\n      <th>6</th>\n      <td>R0114</td>\n      <td>8110050021</td>\n      <td>psfua12</td>\n      <td>2023-01-31</td>\n      <td>0</td>\n      <td>Yes</td>\n      <td>No</td>\n      <td>No</td>\n      <td>Yes</td>\n      <td>NaN</td>\n      <td>NaN</td>\n      <td>NaN</td>\n      <td>NaN</td>\n      <td>Yes</td>\n      <td>No</td>\n      <td>No</td>\n      <td>No</td>\n      <td>Female</td>\n      <td>34</td>\n    </tr>\n    <tr>\n      <th>7</th>\n      <td>R0111</td>\n      <td>8110050022</td>\n      <td>psfua12</td>\n      <td>2023-04-10</td>\n      <td>0</td>\n      <td>No</td>\n      <td>No</td>\n      <td>No</td>\n      <td>Yes</td>\n      <td>NaN</td>\n      <td>NaN</td>\n      <td>NaN</td>\n      <td>NaN</td>\n      <td>Yes</td>\n      <td>No</td>\n      <td>No</td>\n      <td>No</td>\n      <td>Female</td>\n      <td>41</td>\n    </tr>\n    <tr>\n      <th>8</th>\n      <td>R0226</td>\n      <td>8110050042</td>\n      <td>psfua12</td>\n      <td>2023-07-20</td>\n      <td>0</td>\n      <td>No</td>\n      <td>No</td>\n      <td>No</td>\n      <td>Yes</td>\n      <td>NaN</td>\n      <td>NaN</td>\n      <td>NaN</td>\n      <td>NaN</td>\n      <td>Yes</td>\n      <td>No</td>\n      <td>No</td>\n      <td>No</td>\n      <td>Female</td>\n      <td>60</td>\n    </tr>\n    <tr>\n      <th>9</th>\n      <td>R0336</td>\n      <td>8110050059</td>\n      <td>psfua12</td>\n      <td>2023-07-20</td>\n      <td>0</td>\n      <td>Yes</td>\n      <td>Yes</td>\n      <td>Yes</td>\n      <td>Yes</td>\n      <td>NaN</td>\n      <td>NaN</td>\n      <td>NaN</td>\n      <td>NaN</td>\n      <td>Yes</td>\n      <td>No</td>\n      <td>No</td>\n      <td>No</td>\n      <td>Female</td>\n      <td>41</td>\n    </tr>\n    <tr>\n      <th>10</th>\n      <td>R0359</td>\n      <td>8110050048</td>\n      <td>psfua12</td>\n      <td>2023-08-01</td>\n      <td>0</td>\n      <td>Yes</td>\n      <td>No</td>\n      <td>No</td>\n      <td>Yes</td>\n      <td>NaN</td>\n      <td>NaN</td>\n      <td>NaN</td>\n      <td>NaN</td>\n      <td>Yes</td>\n      <td>No</td>\n      <td>No</td>\n      <td>No</td>\n      <td>Female</td>\n      <td>39</td>\n    </tr>\n    <tr>\n      <th>11</th>\n      <td>R0357</td>\n      <td>8110050036</td>\n      <td>psfua12</td>\n      <td>2023-08-01</td>\n      <td>0</td>\n      <td>Yes</td>\n      <td>No</td>\n      <td>No</td>\n      <td>Yes</td>\n      <td>NaN</td>\n      <td>NaN</td>\n      <td>NaN</td>\n      <td>NaN</td>\n      <td>Yes</td>\n      <td>No</td>\n      <td>No</td>\n      <td>No</td>\n      <td>Female</td>\n      <td>41</td>\n    </tr>\n    <tr>\n      <th>12</th>\n      <td>R0184</td>\n      <td>8110050032</td>\n      <td>psfua12</td>\n      <td>2023-04-27</td>\n      <td>0</td>\n      <td>No</td>\n      <td>No</td>\n      <td>No</td>\n      <td>Yes</td>\n      <td>NaN</td>\n      <td>NaN</td>\n      <td>NaN</td>\n      <td>NaN</td>\n      <td>Yes</td>\n      <td>No</td>\n      <td>No</td>\n      <td>Yes</td>\n      <td>Female</td>\n      <td>42</td>\n    </tr>\n    <tr>\n      <th>13</th>\n      <td>R0128</td>\n      <td>8110050027</td>\n      <td>psfua12</td>\n      <td>2023-04-27</td>\n      <td>0</td>\n      <td>No</td>\n      <td>No</td>\n      <td>No</td>\n      <td>Yes</td>\n      <td>NaN</td>\n      <td>NaN</td>\n      <td>NaN</td>\n      <td>NaN</td>\n      <td>Yes</td>\n      <td>No</td>\n      <td>No</td>\n      <td>No</td>\n      <td>Female</td>\n      <td>47</td>\n    </tr>\n    <tr>\n      <th>14</th>\n      <td>R0124</td>\n      <td>8110050024</td>\n      <td>psfua12</td>\n      <td>2023-05-03</td>\n      <td>0</td>\n      <td>No</td>\n      <td>No</td>\n      <td>No</td>\n      <td>Yes</td>\n      <td>NaN</td>\n      <td>NaN</td>\n      <td>NaN</td>\n      <td>NaN</td>\n      <td>Yes</td>\n      <td>No</td>\n      <td>No</td>\n      <td>No</td>\n      <td>Female</td>\n      <td>43</td>\n    </tr>\n    <tr>\n      <th>15</th>\n      <td>R0129</td>\n      <td>8110050029</td>\n      <td>psfua12</td>\n      <td>2023-04-11</td>\n      <td>0</td>\n      <td>Yes</td>\n      <td>No</td>\n      <td>No</td>\n      <td>Yes</td>\n      <td>NaN</td>\n      <td>NaN</td>\n      <td>NaN</td>\n      <td>NaN</td>\n      <td>Yes</td>\n      <td>No</td>\n      <td>No</td>\n      <td>No</td>\n      <td>Female</td>\n      <td>48</td>\n    </tr>\n    <tr>\n      <th>16</th>\n      <td>R0074</td>\n      <td>8110020054</td>\n      <td>psfua12</td>\n      <td>2023-01-18</td>\n      <td>0</td>\n      <td>No</td>\n      <td>No</td>\n      <td>No</td>\n      <td>No</td>\n      <td>NaN</td>\n      <td>NaN</td>\n      <td>NaN</td>\n      <td>NaN</td>\n      <td>Yes</td>\n      <td>No</td>\n      <td>No</td>\n      <td>No</td>\n      <td>Female</td>\n      <td>38</td>\n    </tr>\n    <tr>\n      <th>17</th>\n      <td>R0099</td>\n      <td>8110020055</td>\n      <td>psfua12</td>\n      <td>2023-01-23</td>\n      <td>0</td>\n      <td>Yes</td>\n      <td>No</td>\n      <td>Yes</td>\n      <td>Yes</td>\n      <td>NaN</td>\n      <td>NaN</td>\n      <td>NaN</td>\n      <td>NaN</td>\n      <td>Yes</td>\n      <td>No</td>\n      <td>No</td>\n      <td>No</td>\n      <td>Male</td>\n      <td>55</td>\n    </tr>\n    <tr>\n      <th>18</th>\n      <td>R0096</td>\n      <td>8110020057</td>\n      <td>psfua12</td>\n      <td>2023-01-18</td>\n      <td>0</td>\n      <td>Yes</td>\n      <td>No</td>\n      <td>No</td>\n      <td>Yes</td>\n      <td>NaN</td>\n      <td>NaN</td>\n      <td>NaN</td>\n      <td>NaN</td>\n      <td>Yes</td>\n      <td>No</td>\n      <td>No</td>\n      <td>No</td>\n      <td>Female</td>\n      <td>39</td>\n    </tr>\n    <tr>\n      <th>19</th>\n      <td>R0105</td>\n      <td>8110020058</td>\n      <td>psfua12</td>\n      <td>2023-01-16</td>\n      <td>0</td>\n      <td>No</td>\n      <td>No</td>\n      <td>No</td>\n      <td>No</td>\n      <td>NaN</td>\n      <td>NaN</td>\n      <td>NaN</td>\n      <td>NaN</td>\n      <td>Yes</td>\n      <td>No</td>\n      <td>No</td>\n      <td>No</td>\n      <td>Female</td>\n      <td>33</td>\n    </tr>\n    <tr>\n      <th>20</th>\n      <td>R0095</td>\n      <td>8110050012</td>\n      <td>psfua12</td>\n      <td>2023-01-17</td>\n      <td>0</td>\n      <td>No</td>\n      <td>No</td>\n      <td>No</td>\n      <td>Yes</td>\n      <td>NaN</td>\n      <td>NaN</td>\n      <td>NaN</td>\n      <td>NaN</td>\n      <td>Yes</td>\n      <td>No</td>\n      <td>No</td>\n      <td>No</td>\n      <td>Female</td>\n      <td>43</td>\n    </tr>\n    <tr>\n      <th>21</th>\n      <td>R0089</td>\n      <td>8110060012</td>\n      <td>psfua12</td>\n      <td>2023-01-18</td>\n      <td>0</td>\n      <td>Yes</td>\n      <td>Yes</td>\n      <td>Yes</td>\n      <td>Yes</td>\n      <td>NaN</td>\n      <td>NaN</td>\n      <td>NaN</td>\n      <td>NaN</td>\n      <td>Yes</td>\n      <td>Yes</td>\n      <td>No</td>\n      <td>No</td>\n      <td>Female</td>\n      <td>43</td>\n    </tr>\n    <tr>\n      <th>22</th>\n      <td>R0083</td>\n      <td>8110060010</td>\n      <td>psfua12</td>\n      <td>2023-01-30</td>\n      <td>0</td>\n      <td>Yes</td>\n      <td>Yes</td>\n      <td>Yes</td>\n      <td>Yes</td>\n      <td>NaN</td>\n      <td>NaN</td>\n      <td>NaN</td>\n      <td>NaN</td>\n      <td>Yes</td>\n      <td>Yes</td>\n      <td>No</td>\n      <td>No</td>\n      <td>Female</td>\n      <td>36</td>\n    </tr>\n    <tr>\n      <th>23</th>\n      <td>R0116</td>\n      <td>8110020062</td>\n      <td>psfua12</td>\n      <td>2023-01-30</td>\n      <td>0</td>\n      <td>No</td>\n      <td>No</td>\n      <td>No</td>\n      <td>Yes</td>\n      <td>NaN</td>\n      <td>NaN</td>\n      <td>NaN</td>\n      <td>NaN</td>\n      <td>Yes</td>\n      <td>Yes</td>\n      <td>No</td>\n      <td>No</td>\n      <td>Female</td>\n      <td>43</td>\n    </tr>\n    <tr>\n      <th>24</th>\n      <td>R0113</td>\n      <td>8110020060</td>\n      <td>psfua12</td>\n      <td>2023-01-24</td>\n      <td>0</td>\n      <td>Yes</td>\n      <td>No</td>\n      <td>No</td>\n      <td>Yes</td>\n      <td>NaN</td>\n      <td>NaN</td>\n      <td>NaN</td>\n      <td>NaN</td>\n      <td>Yes</td>\n      <td>No</td>\n      <td>No</td>\n      <td>No</td>\n      <td>Female</td>\n      <td>42</td>\n    </tr>\n    <tr>\n      <th>25</th>\n      <td>R0126</td>\n      <td>8110020064</td>\n      <td>psfua12</td>\n      <td>2023-01-26</td>\n      <td>0</td>\n      <td>No</td>\n      <td>No</td>\n      <td>No</td>\n      <td>Yes</td>\n      <td>NaN</td>\n      <td>NaN</td>\n      <td>NaN</td>\n      <td>NaN</td>\n      <td>Yes</td>\n      <td>No</td>\n      <td>No</td>\n      <td>No</td>\n      <td>Female</td>\n      <td>46</td>\n    </tr>\n    <tr>\n      <th>26</th>\n      <td>R0196</td>\n      <td>8110020073</td>\n      <td>psfua12</td>\n      <td>2023-05-23</td>\n      <td>0</td>\n      <td>No</td>\n      <td>No</td>\n      <td>Yes</td>\n      <td>Yes</td>\n      <td>NaN</td>\n      <td>NaN</td>\n      <td>NaN</td>\n      <td>NaN</td>\n      <td>Yes</td>\n      <td>No</td>\n      <td>No</td>\n      <td>No</td>\n      <td>Female</td>\n      <td>42</td>\n    </tr>\n    <tr>\n      <th>27</th>\n      <td>R0155</td>\n      <td>8110020067</td>\n      <td>psfua12</td>\n      <td>2023-01-24</td>\n      <td>0</td>\n      <td>Yes</td>\n      <td>No</td>\n      <td>No</td>\n      <td>Yes</td>\n      <td>NaN</td>\n      <td>NaN</td>\n      <td>NaN</td>\n      <td>NaN</td>\n      <td>Yes</td>\n      <td>No</td>\n      <td>No</td>\n      <td>No</td>\n      <td>Female</td>\n      <td>51</td>\n    </tr>\n    <tr>\n      <th>28</th>\n      <td>R0118</td>\n      <td>8110020068</td>\n      <td>psfua12</td>\n      <td>2023-01-24</td>\n      <td>0</td>\n      <td>No</td>\n      <td>No</td>\n      <td>No</td>\n      <td>Yes</td>\n      <td>NaN</td>\n      <td>NaN</td>\n      <td>NaN</td>\n      <td>NaN</td>\n      <td>Yes</td>\n      <td>No</td>\n      <td>No</td>\n      <td>No</td>\n      <td>Female</td>\n      <td>43</td>\n    </tr>\n    <tr>\n      <th>29</th>\n      <td>R0268</td>\n      <td>8110020077</td>\n      <td>psfua12</td>\n      <td>2023-01-27</td>\n      <td>0</td>\n      <td>No</td>\n      <td>No</td>\n      <td>No</td>\n      <td>Yes</td>\n      <td>NaN</td>\n      <td>NaN</td>\n      <td>NaN</td>\n      <td>NaN</td>\n      <td>Yes</td>\n      <td>No</td>\n      <td>No</td>\n      <td>No</td>\n      <td>Female</td>\n      <td>46</td>\n    </tr>\n    <tr>\n      <th>30</th>\n      <td>R0185</td>\n      <td>8110020066</td>\n      <td>psfua12</td>\n      <td>2023-04-13</td>\n      <td>0</td>\n      <td>Yes</td>\n      <td>Yes</td>\n      <td>Yes</td>\n      <td>Yes</td>\n      <td>NaN</td>\n      <td>NaN</td>\n      <td>NaN</td>\n      <td>NaN</td>\n      <td>Yes</td>\n      <td>No</td>\n      <td>No</td>\n      <td>No</td>\n      <td>Male</td>\n      <td>35</td>\n    </tr>\n    <tr>\n      <th>31</th>\n      <td>R0140</td>\n      <td>8110020070</td>\n      <td>psfua12</td>\n      <td>2023-08-25</td>\n      <td>0</td>\n      <td>No</td>\n      <td>No</td>\n      <td>No</td>\n      <td>Yes</td>\n      <td>NaN</td>\n      <td>NaN</td>\n      <td>NaN</td>\n      <td>NaN</td>\n      <td>Yes</td>\n      <td>No</td>\n      <td>No</td>\n      <td>No</td>\n      <td>Female</td>\n      <td>56</td>\n    </tr>\n    <tr>\n      <th>32</th>\n      <td>R0157</td>\n      <td>8110020079</td>\n      <td>psfua12</td>\n      <td>2023-07-19</td>\n      <td>0</td>\n      <td>Yes</td>\n      <td>No</td>\n      <td>No</td>\n      <td>Yes</td>\n      <td>NaN</td>\n      <td>NaN</td>\n      <td>NaN</td>\n      <td>NaN</td>\n      <td>Yes</td>\n      <td>No</td>\n      <td>No</td>\n      <td>No</td>\n      <td>Female</td>\n      <td>56</td>\n    </tr>\n    <tr>\n      <th>33</th>\n      <td>R0189</td>\n      <td>8110050033</td>\n      <td>psfua12</td>\n      <td>2023-07-19</td>\n      <td>0</td>\n      <td>No</td>\n      <td>No</td>\n      <td>No</td>\n      <td>Yes</td>\n      <td>NaN</td>\n      <td>NaN</td>\n      <td>NaN</td>\n      <td>NaN</td>\n      <td>Yes</td>\n      <td>No</td>\n      <td>No</td>\n      <td>No</td>\n      <td>Female</td>\n      <td>58</td>\n    </tr>\n    <tr>\n      <th>34</th>\n      <td>R0400</td>\n      <td>8110050037</td>\n      <td>psfua12</td>\n      <td>2023-07-19</td>\n      <td>0</td>\n      <td>Yes</td>\n      <td>No</td>\n      <td>Yes</td>\n      <td>Yes</td>\n      <td>NaN</td>\n      <td>NaN</td>\n      <td>NaN</td>\n      <td>NaN</td>\n      <td>Yes</td>\n      <td>No</td>\n      <td>No</td>\n      <td>No</td>\n      <td>Female</td>\n      <td>53</td>\n    </tr>\n    <tr>\n      <th>35</th>\n      <td>R0297</td>\n      <td>8110020087</td>\n      <td>psfua12</td>\n      <td>2023-07-20</td>\n      <td>0</td>\n      <td>No</td>\n      <td>No</td>\n      <td>No</td>\n      <td>No</td>\n      <td>NaN</td>\n      <td>NaN</td>\n      <td>NaN</td>\n      <td>NaN</td>\n      <td>Yes</td>\n      <td>No</td>\n      <td>No</td>\n      <td>No</td>\n      <td>Female</td>\n      <td>41</td>\n    </tr>\n    <tr>\n      <th>36</th>\n      <td>R0314</td>\n      <td>8110020091</td>\n      <td>psfua12</td>\n      <td>2023-07-26</td>\n      <td>0</td>\n      <td>No</td>\n      <td>No</td>\n      <td>No</td>\n      <td>Yes</td>\n      <td>NaN</td>\n      <td>NaN</td>\n      <td>NaN</td>\n      <td>NaN</td>\n      <td>Yes</td>\n      <td>No</td>\n      <td>No</td>\n      <td>No</td>\n      <td>Female</td>\n      <td>41</td>\n    </tr>\n    <tr>\n      <th>37</th>\n      <td>R0258</td>\n      <td>8110050046</td>\n      <td>psfua12</td>\n      <td>2023-08-08</td>\n      <td>0</td>\n      <td>No</td>\n      <td>No</td>\n      <td>No</td>\n      <td>Yes</td>\n      <td>NaN</td>\n      <td>NaN</td>\n      <td>NaN</td>\n      <td>NaN</td>\n      <td>Yes</td>\n      <td>No</td>\n      <td>No</td>\n      <td>No</td>\n      <td>Female</td>\n      <td>41</td>\n    </tr>\n    <tr>\n      <th>38</th>\n      <td>R0119</td>\n      <td>8110020063</td>\n      <td>psfua12</td>\n      <td>2023-08-01</td>\n      <td>0</td>\n      <td>Yes</td>\n      <td>No</td>\n      <td>Yes</td>\n      <td>Yes</td>\n      <td>NaN</td>\n      <td>NaN</td>\n      <td>NaN</td>\n      <td>NaN</td>\n      <td>Yes</td>\n      <td>No</td>\n      <td>No</td>\n      <td>No</td>\n      <td>Female</td>\n      <td>23</td>\n    </tr>\n    <tr>\n      <th>39</th>\n      <td>R0246</td>\n      <td>8110020084</td>\n      <td>psfua12</td>\n      <td>2023-08-01</td>\n      <td>0</td>\n      <td>No</td>\n      <td>No</td>\n      <td>No</td>\n      <td>Yes</td>\n      <td>NaN</td>\n      <td>NaN</td>\n      <td>NaN</td>\n      <td>NaN</td>\n      <td>Yes</td>\n      <td>No</td>\n      <td>No</td>\n      <td>No</td>\n      <td>Female</td>\n      <td>20</td>\n    </tr>\n    <tr>\n      <th>40</th>\n      <td>R0187</td>\n      <td>8110050030</td>\n      <td>psfua12</td>\n      <td>2023-06-13</td>\n      <td>0</td>\n      <td>No</td>\n      <td>No</td>\n      <td>No</td>\n      <td>Yes</td>\n      <td>NaN</td>\n      <td>NaN</td>\n      <td>NaN</td>\n      <td>NaN</td>\n      <td>Yes</td>\n      <td>No</td>\n      <td>No</td>\n      <td>No</td>\n      <td>Female</td>\n      <td>40</td>\n    </tr>\n    <tr>\n      <th>41</th>\n      <td>R0255</td>\n      <td>8110070004</td>\n      <td>psfua12</td>\n      <td>2023-06-13</td>\n      <td>0</td>\n      <td>No</td>\n      <td>No</td>\n      <td>Yes</td>\n      <td>Yes</td>\n      <td>NaN</td>\n      <td>NaN</td>\n      <td>NaN</td>\n      <td>NaN</td>\n      <td>Yes</td>\n      <td>No</td>\n      <td>No</td>\n      <td>No</td>\n      <td>Female</td>\n      <td>45</td>\n    </tr>\n    <tr>\n      <th>42</th>\n      <td>R0267</td>\n      <td>8110070005</td>\n      <td>psfua12</td>\n      <td>2023-06-21</td>\n      <td>0</td>\n      <td>No</td>\n      <td>No</td>\n      <td>Yes</td>\n      <td>Yes</td>\n      <td>NaN</td>\n      <td>NaN</td>\n      <td>NaN</td>\n      <td>NaN</td>\n      <td>Yes</td>\n      <td>No</td>\n      <td>No</td>\n      <td>No</td>\n      <td>Female</td>\n      <td>48</td>\n    </tr>\n  </tbody>\n</table>\n</div>"
     },
     "execution_count": 52,
     "metadata": {},
     "output_type": "execute_result"
    }
   ],
   "source": [
    "ptfua12_path = os.path.join(unvfvt23, 'psfua12Beneficiaries23.csv')\n",
    "pd.read_csv(ptfua12_path)"
   ],
   "metadata": {
    "collapsed": false,
    "ExecuteTime": {
     "end_time": "2024-02-05T09:20:37.716068900Z",
     "start_time": "2024-02-05T09:20:37.628143400Z"
    }
   },
   "id": "5b6b2314f44707aa",
   "execution_count": 52
  },
  {
   "cell_type": "code",
   "outputs": [],
   "source": [],
   "metadata": {
    "collapsed": false
   },
   "id": "a2361c23691d7daf",
   "execution_count": null
  },
  {
   "cell_type": "code",
   "outputs": [],
   "source": [],
   "metadata": {
    "collapsed": false
   },
   "id": "899ed7149858aabd",
   "execution_count": null
  }
 ],
 "metadata": {
  "kernelspec": {
   "display_name": "Python 3",
   "language": "python",
   "name": "python3"
  },
  "language_info": {
   "codemirror_mode": {
    "name": "ipython",
    "version": 2
   },
   "file_extension": ".py",
   "mimetype": "text/x-python",
   "name": "python",
   "nbconvert_exporter": "python",
   "pygments_lexer": "ipython2",
   "version": "2.7.6"
  }
 },
 "nbformat": 4,
 "nbformat_minor": 5
}
