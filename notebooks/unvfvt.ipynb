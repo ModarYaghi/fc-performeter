{
 "cells": [
  {
   "cell_type": "code",
   "id": "initial_id",
   "metadata": {
    "collapsed": true,
    "ExecuteTime": {
     "end_time": "2024-10-15T13:31:14.890866Z",
     "start_time": "2024-10-15T13:31:13.743997Z"
    }
   },
   "source": [
    "import pandas as pd\n",
    "\n",
    "from src.all_in_one import *"
   ],
   "outputs": [],
   "execution_count": 22
  },
  {
   "cell_type": "markdown",
   "source": "# UNIQUE SCREENING BENEFICIARIES RECORDS",
   "metadata": {
    "collapsed": false
   },
   "id": "7dfd63881e541747"
  },
  {
   "cell_type": "code",
   "source": [
    "scr_file = path_manager.get_data_file(Category.PS, PSFile.SCR)\n",
    "scr = get_df(scr_file.path, scr_file.sheet, config_file)\n",
    "scr = scr.sort_values(by=['sc_s1'])\n",
    "unique_scr = scr.drop_duplicates(subset='rid')"
   ],
   "metadata": {
    "collapsed": false,
    "ExecuteTime": {
     "end_time": "2024-10-15T13:31:16.716819Z",
     "start_time": "2024-10-15T13:31:16.605897Z"
    }
   },
   "id": "f6ca545046cfc7b6",
   "outputs": [],
   "execution_count": 23
  },
  {
   "metadata": {
    "ExecuteTime": {
     "end_time": "2024-10-14T10:40:45.209461Z",
     "start_time": "2024-10-14T10:40:45.205019Z"
    }
   },
   "cell_type": "code",
   "source": "# unique_scr",
   "id": "f3d5c784955ff3c3",
   "outputs": [],
   "execution_count": 3
  },
  {
   "cell_type": "markdown",
   "source": "# UNIQUE INTAKE BENEFICIARIES RECORD",
   "metadata": {
    "collapsed": false
   },
   "id": "8b4ec0b857e201bf"
  },
  {
   "metadata": {
    "ExecuteTime": {
     "end_time": "2024-10-15T13:31:20.491754Z",
     "start_time": "2024-10-15T13:31:20.484642Z"
    }
   },
   "cell_type": "code",
   "source": [
    "intake_s2 = [\"rid\", \"fcid\", \"service\",\"nt_s2\", \"family_of_missing\", \"survivor_of_detention\", \"primary_torture\", \"secondary_torture\", \"sexual_violation_a\", \"sexual_violation_p\", \"hrd\", \"journalist\", \"wov\", \"stgbv\", \"lgbti\", \"other\"]\n",
    "intake_s3 = [\"rid\", \"fcid\", \"service\",\"nt_s3\", \"family_of_missing\", \"survivor_of_detention\", \"primary_torture\", \"secondary_torture\", \"sexual_violation_a\", \"sexual_violation_p\", \"hrd\", \"journalist\", \"wov\", \"stgbv\", \"lgbti\", \"other\"]\n",
    "intake_re = [\"rid\", \"fcid\", \"service\",\"nt_re\", \"family_of_missing\", \"survivor_of_detention\", \"primary_torture\", \"secondary_torture\", \"sexual_violation_a\", \"sexual_violation_p\", \"hrd\", \"journalist\", \"wov\", \"stgbv\", \"lgbti\", \"other\"]\n",
    "int_criteria = [\"rid\", \"family_of_missing\", \"survivor_of_detention\", \"primary_torture\", \"secondary_torture\", \"sexual_violation_a\", \"sexual_violation_p\", \"hrd\", \"journalist\", \"wov\", \"stgbv\", \"lgbti\", \"other\"]\n",
    "int_criteria0 = [\"family_of_missing\", \"survivor_of_detention\", \"primary_torture\", \"secondary_torture\", \"sexual_violation_a\", \"sexual_violation_p\", \"hrd\", \"journalist\", \"wov\", \"stgbv\", \"lgbti\", \"other\"]\n",
    "\n"
   ],
   "id": "ae2b05bdfa846e84",
   "outputs": [],
   "execution_count": 24
  },
  {
   "cell_type": "code",
   "source": [
    "int_file = path_manager.get_data_file(Category.PS, PSFile.PSNT)\n",
    "intake = get_df(int_file.path, int_file.sheet, config_file)\n",
    "intake.insert(4, \"service\", None)\n",
    "intake = intake.sort_values(by=['nt_s1', 'nt_s2', 'nt_s3', 'nt_re'], ascending=True)\n",
    "unique_intake = intake.drop_duplicates(subset='rid', keep='last')"
   ],
   "metadata": {
    "collapsed": false,
    "ExecuteTime": {
     "end_time": "2024-10-15T13:31:31.106262Z",
     "start_time": "2024-10-15T13:31:31.006838Z"
    }
   },
   "id": "c5e7201a5c870edb",
   "outputs": [],
   "execution_count": 25
  },
  {
   "metadata": {
    "ExecuteTime": {
     "end_time": "2024-10-14T10:40:45.472939Z",
     "start_time": "2024-10-14T10:40:45.467906Z"
    }
   },
   "cell_type": "code",
   "source": "# unique_intake",
   "id": "335de49c62e9b07d",
   "outputs": [],
   "execution_count": 6
  },
  {
   "cell_type": "code",
   "source": [
    "# path = os.path.join(unvfvt23, 'ptreintBeneficiaries23.csv')\n",
    "# ptreint = pd.read_csv(path)\n",
    "# ptreint.insert(4, 'session_num', 0)\n",
    "# ptreint = pd.merge(ptreint, unique_intake[[\"rid\", \"family_of_missing\", \"survivor_of_detention\", \"primary_torture\", \"secondary_torture\", \"sexual_violation_a\", \"sexual_violation_p\", \"hrd\", \"journalist\", \"wov\", \"stgbv\", \"lgbti\", \"other\"]], on='rid', how='left')\n",
    "# ptreint = pd.merge(ptreint, unique_scr[['rid', 'sex', 'age']], on='rid', how='left')\n",
    "# ptreint"
   ],
   "metadata": {
    "collapsed": false,
    "ExecuteTime": {
     "end_time": "2024-10-14T10:40:45.517853Z",
     "start_time": "2024-10-14T10:40:45.513685Z"
    }
   },
   "id": "b75e787de0500e07",
   "outputs": [],
   "execution_count": 7
  },
  {
   "cell_type": "code",
   "source": [
    "# ptreint.to_csv(path, index=False)"
   ],
   "metadata": {
    "collapsed": false,
    "ExecuteTime": {
     "end_time": "2024-10-14T10:40:45.569095Z",
     "start_time": "2024-10-14T10:40:45.564686Z"
    }
   },
   "id": "d1c566c0d6127250",
   "outputs": [],
   "execution_count": 8
  },
  {
   "cell_type": "markdown",
   "source": [
    "## PSYCHOSOCIAL INTAKE ASSESSMENT PROCESSING"
   ],
   "metadata": {
    "collapsed": false
   },
   "id": "9bd580849ff756a6"
  },
  {
   "cell_type": "code",
   "source": [
    "intake_24 = filter_dataframe_on_date(intake, 'nt_s2', START, END)\n",
    "intake_24 = intake_24[intake_s2]\n",
    "intake_24[\"service\"] = \"int\"\n",
    "intake_24.rename(columns={\"nt_s2\": \"date\"}, inplace=True)"
   ],
   "metadata": {
    "collapsed": false,
    "ExecuteTime": {
     "end_time": "2024-10-14T10:40:45.619900Z",
     "start_time": "2024-10-14T10:40:45.610807Z"
    }
   },
   "id": "3bd277f5e79c3f74",
   "outputs": [],
   "execution_count": 9
  },
  {
   "metadata": {
    "ExecuteTime": {
     "end_time": "2024-10-14T10:40:45.667025Z",
     "start_time": "2024-10-14T10:40:45.663040Z"
    }
   },
   "cell_type": "code",
   "source": "# intake_24",
   "id": "433df760c576554a",
   "outputs": [],
   "execution_count": 10
  },
  {
   "cell_type": "code",
   "source": [
    "intake3_24 = filter_dataframe_on_date(intake, 'nt_s3', START, END)\n",
    "intake3_24 = intake3_24[intake_s3]\n",
    "intake3_24[\"service\"] = \"int\"\n",
    "intake3_24.rename(columns={\"nt_s3\": \"date\"}, inplace=True)"
   ],
   "metadata": {
    "collapsed": false,
    "ExecuteTime": {
     "end_time": "2024-10-14T10:40:45.720624Z",
     "start_time": "2024-10-14T10:40:45.712246Z"
    }
   },
   "id": "2d5fbae3de9ac652",
   "outputs": [],
   "execution_count": 11
  },
  {
   "metadata": {
    "ExecuteTime": {
     "end_time": "2024-10-14T10:40:45.769194Z",
     "start_time": "2024-10-14T10:40:45.765138Z"
    }
   },
   "cell_type": "code",
   "source": "# intake3_24",
   "id": "3db9601ef25fd30a",
   "outputs": [],
   "execution_count": 12
  },
  {
   "cell_type": "markdown",
   "source": [
    "## PSYCHOSOCIAL RE-INTAKE ASSESSMENT PROCESSING"
   ],
   "metadata": {
    "collapsed": false
   },
   "id": "fce221b37aa3b482"
  },
  {
   "cell_type": "code",
   "source": [
    "reintake_24 = filter_dataframe_on_date(intake, 'nt_re', START, END)\n",
    "reintake_24 = reintake_24[intake_re]\n",
    "reintake_24[\"service\"] = \"re\"\n",
    "reintake_24.rename(columns={\"nt_re\": \"date\"}, inplace=True)"
   ],
   "metadata": {
    "collapsed": false,
    "ExecuteTime": {
     "end_time": "2024-10-14T10:40:45.826345Z",
     "start_time": "2024-10-14T10:40:45.815320Z"
    }
   },
   "id": "bccf37defd21eb2a",
   "outputs": [],
   "execution_count": 13
  },
  {
   "metadata": {
    "ExecuteTime": {
     "end_time": "2024-10-14T10:40:45.878772Z",
     "start_time": "2024-10-14T10:40:45.875082Z"
    }
   },
   "cell_type": "code",
   "source": "# reintake_24",
   "id": "ccfe5a99670859f8",
   "outputs": [],
   "execution_count": 14
  },
  {
   "cell_type": "code",
   "source": [
    "int24 = pd.concat([intake_24, intake3_24, reintake_24])\n",
    "int24 = pd.merge(int24, unique_scr[['rid', 'sex', 'age']], on='rid', how='left')"
   ],
   "metadata": {
    "collapsed": false,
    "ExecuteTime": {
     "end_time": "2024-10-14T10:40:45.932478Z",
     "start_time": "2024-10-14T10:40:45.925907Z"
    }
   },
   "id": "97466640bf06dbea",
   "outputs": [],
   "execution_count": 15
  },
  {
   "metadata": {
    "ExecuteTime": {
     "end_time": "2024-10-14T10:40:46.115249Z",
     "start_time": "2024-10-14T10:40:46.106951Z"
    }
   },
   "cell_type": "code",
   "source": "int24.to_csv(r\"../data/processed/hsh_report/intake324.csv\", index=False)",
   "id": "774940bd85471cc0",
   "outputs": [],
   "execution_count": 17
  },
  {
   "metadata": {
    "ExecuteTime": {
     "end_time": "2024-10-14T12:44:30.311599Z",
     "start_time": "2024-10-14T12:44:30.306191Z"
    }
   },
   "cell_type": "code",
   "source": [
    "# intake_test = pd.read_csv(r\"../data/processed/hsh_report/intake324.csv\")\n",
    "# intake_test"
   ],
   "id": "b25910e729fdfd2",
   "outputs": [],
   "execution_count": 5
  },
  {
   "cell_type": "code",
   "source": [
    "# _int24 = int24[int24['service'] == 'int']\n",
    "# reint24 = int24[int24['service'] == 're']\n",
    "# _int24_path= os.path.join(root, data, processed, \"unvfvt24\", \"intBeneficiaries24.csv\")\n",
    "# reint24_path= os.path.join(root, data, processed, \"unvfvt24\", \"reintBeneficiaries24.csv\")\n",
    "# _int24.to_csv(_int24_path, index=False)\n",
    "# reint24.to_csv(reint24_path, index=False)"
   ],
   "metadata": {
    "collapsed": false
   },
   "id": "86ab3bce1cd77002",
   "outputs": [],
   "execution_count": null
  },
  {
   "cell_type": "markdown",
   "source": [
    "## GROUP PSYCHOSOCIAL THERAPY COUNSELING PROCESSING"
   ],
   "metadata": {
    "collapsed": false
   },
   "id": "75a24c04a73bda93"
  },
  {
   "cell_type": "code",
   "source": [
    "gc_file = path_manager.get_data_file(Category.PS, PSFile.PSG)\n",
    "gc_dataset = Dataset(config_file, gc_file.sheet)\n",
    "gc = get_df(gc_file.path, gc_file.sheet, config_file)\n",
    "gc_24 = filter_dataframe_on_date(gc, gc_dataset.dvars, START, END)\n",
    "# gc_24 = gc_24[gc_24['gc_total'] >= 7]  # To be reconsidered \n",
    "gc_24_latestdate = gc_24[gc_dataset.dvars].max(axis=1)\n",
    "gc_24.insert(4, 'service', 'gc')\n",
    "gc_24.insert(5, 'date', gc_24_latestdate)"
   ],
   "metadata": {
    "collapsed": false,
    "ExecuteTime": {
     "end_time": "2024-10-14T10:55:03.564779Z",
     "start_time": "2024-10-14T10:55:03.322723Z"
    }
   },
   "id": "f834e4263ce87a39",
   "outputs": [],
   "execution_count": 20
  },
  {
   "cell_type": "code",
   "source": [
    "gc_24 = gc_24[['rid', 'fcid', 'service', 'date']]\n",
    "gc_24 = pd.merge(gc_24, unique_intake[int_criteria], on='rid', how='left')\n",
    "gc_24 = pd.merge(gc_24, unique_scr[['rid', 'sex', 'age']], on='rid', how='left')"
   ],
   "metadata": {
    "collapsed": false,
    "ExecuteTime": {
     "end_time": "2024-10-14T11:05:20.503846Z",
     "start_time": "2024-10-14T11:05:20.491427Z"
    }
   },
   "id": "54d802f358d3213a",
   "outputs": [],
   "execution_count": 24
  },
  {
   "metadata": {
    "ExecuteTime": {
     "end_time": "2024-10-14T11:06:29.460809Z",
     "start_time": "2024-10-14T11:06:29.456147Z"
    }
   },
   "cell_type": "code",
   "source": "# gc_24",
   "id": "2a4a85bc86ab703f",
   "outputs": [],
   "execution_count": 26
  },
  {
   "cell_type": "code",
   "source": "gc_24.to_csv(r\"../data/processed/hsh_report/gc324.csv\", index=False)",
   "metadata": {
    "collapsed": false,
    "ExecuteTime": {
     "end_time": "2024-10-14T11:07:43.109177Z",
     "start_time": "2024-10-14T11:07:43.100985Z"
    }
   },
   "id": "15ca971dcd356d42",
   "outputs": [],
   "execution_count": 27
  },
  {
   "cell_type": "markdown",
   "source": [
    "## INDIVIDUAL PSYCHOSOCIAL THERAPY COUNSELING PROCESSING"
   ],
   "metadata": {
    "collapsed": false
   },
   "id": "7d2690e8afc8ef86"
  },
  {
   "cell_type": "code",
   "source": [
    "# ic = get_df(ic_path, ic_sheet, config_file)\n",
    "ic_files = path_manager.get_data_file(Category.PS, PSFile.PSI)\n",
    "ic_dataset = Dataset(config_file, ic_files.sheet)\n",
    "ic = get_df(ic_files.path, ic_files.sheet, config_file)\n",
    "ic_24 = filter_dataframe_on_date(ic, ic_dataset.dvars, START, END)\n",
    "ic_24_latestdate = ic_24[ic_dataset.dvars].max(axis=1)\n",
    "ic_24.insert(4, \"service\", \"ic\")\n",
    "ic_24.insert(5, \"date\", ic_24_latestdate)\n",
    "ic_24 = ic_24[['rid', 'fcid', 'service', 'date']]\n",
    "# ic_24.rename(columns={'ic_total': 'session_num'}, inplace=True)\n",
    "ic_24 = pd.merge(ic_24, unique_intake[int_criteria], on='rid', how='left')\n",
    "ic_24 = pd.merge(ic_24, unique_scr[['rid', 'sex', 'age']], on='rid', how='left')"
   ],
   "metadata": {
    "collapsed": false,
    "ExecuteTime": {
     "end_time": "2024-10-14T11:14:51.763956Z",
     "start_time": "2024-10-14T11:14:51.528563Z"
    }
   },
   "id": "f489fa7e04ddff12",
   "outputs": [],
   "execution_count": 29
  },
  {
   "metadata": {
    "ExecuteTime": {
     "end_time": "2024-10-14T11:19:09.607766Z",
     "start_time": "2024-10-14T11:19:09.603797Z"
    }
   },
   "cell_type": "code",
   "source": "# ic_24",
   "id": "552de151ad432a4b",
   "outputs": [],
   "execution_count": 31
  },
  {
   "cell_type": "code",
   "source": "ic_24.to_csv(r\"../data/processed/hsh_report/ic324.csv\", index=False)",
   "metadata": {
    "collapsed": false,
    "ExecuteTime": {
     "end_time": "2024-10-14T11:19:42.460652Z",
     "start_time": "2024-10-14T11:19:42.454741Z"
    }
   },
   "id": "5b213831b39e847c",
   "outputs": [],
   "execution_count": 32
  },
  {
   "cell_type": "markdown",
   "source": [
    "## PSYCHOSOCIAL FOLLOW-UP ASSESSMENT PROCESSING"
   ],
   "metadata": {
    "collapsed": false
   },
   "id": "1f4235cd8ab93f2d"
  },
  {
   "cell_type": "code",
   "source": [
    "psfua_files = path_manager.get_data_file(Category.PS, PSFile.PSFU)\n",
    "psfua_dataset = Dataset(config_file, psfua_files.sheet)\n",
    "psfua = get_df(psfua_files.path, psfua_files.sheet, config_file)"
   ],
   "metadata": {
    "collapsed": false,
    "ExecuteTime": {
     "end_time": "2024-10-14T11:39:13.193452Z",
     "start_time": "2024-10-14T11:39:12.977609Z"
    }
   },
   "id": "dc5cf24111575d3e",
   "outputs": [],
   "execution_count": 34
  },
  {
   "metadata": {
    "ExecuteTime": {
     "end_time": "2024-10-14T11:40:08.357611Z",
     "start_time": "2024-10-14T11:40:08.348654Z"
    }
   },
   "cell_type": "code",
   "source": [
    "psfua3_24 = filter_dataframe_on_date(psfua, 'fu_3m', START, END)\n",
    "psfua3_24.insert(4, \"service\", \"psfua3\")\n",
    "psfua3_24 = psfua3_24[['rid', 'fcid', 'service', 'fu_3m']].copy()\n",
    "psfua3_24.rename(columns={'fu_3m': 'date'}, inplace=True)"
   ],
   "id": "d04e1eaaa866da8d",
   "outputs": [],
   "execution_count": 36
  },
  {
   "metadata": {
    "ExecuteTime": {
     "end_time": "2024-10-14T11:41:13.168606Z",
     "start_time": "2024-10-14T11:41:13.159622Z"
    }
   },
   "cell_type": "code",
   "source": [
    "psfua6_24 = filter_dataframe_on_date(psfua, 'fu_6m', START, END)\n",
    "psfua6_24.insert(4, \"service\", \"psfua6\")\n",
    "psfua6_24 = psfua6_24[['rid', 'fcid', 'service', 'fu_6m']].copy()\n",
    "psfua6_24.rename(columns={'fu_6m': 'date'}, inplace=True)"
   ],
   "id": "32f82aa52a66609c",
   "outputs": [],
   "execution_count": 38
  },
  {
   "metadata": {
    "ExecuteTime": {
     "end_time": "2024-10-14T11:42:01.329444Z",
     "start_time": "2024-10-14T11:42:01.320197Z"
    }
   },
   "cell_type": "code",
   "source": [
    "psfua12_24 = filter_dataframe_on_date(psfua, 'fu_12m', START, END)\n",
    "psfua12_24.insert(4, \"service\", \"psfua12\")\n",
    "psfua12_24 = psfua12_24[['rid', 'fcid', 'service', 'fu_12m']].copy()\n",
    "psfua12_24.rename(columns={'fu_12m': 'date'}, inplace=True)"
   ],
   "id": "ba2ffb415b0bdc5b",
   "outputs": [],
   "execution_count": 40
  },
  {
   "metadata": {},
   "cell_type": "code",
   "source": [
    "psfua3_24 = pd.merge(psfua3_24, unique_intake[int_criteria], on='rid', how='left')\n",
    "psfua3_24 = pd.merge(psfua3_24, unique_scr[['rid', 'sex', 'age']], on='rid', how='left')\n",
    "\n",
    "psfua6_24 = pd.merge(psfua6_24, unique_intake[int_criteria], on='rid', how='left')\n",
    "psfua6_24 = pd.merge(psfua6_24, unique_scr[['rid', 'sex', 'age']], on='rid', how='left')\n",
    "\n",
    "psfua12_24 = pd.merge(psfua12_24, unique_intake[int_criteria], on='rid', how='left')\n",
    "psfua12_24 = pd.merge(psfua12_24, unique_scr[['rid', 'sex', 'age']], on='rid', how='left')"
   ],
   "id": "ced917c8f8f36f25",
   "outputs": [],
   "execution_count": null
  },
  {
   "metadata": {
    "ExecuteTime": {
     "end_time": "2024-10-14T11:47:37.691061Z",
     "start_time": "2024-10-14T11:47:37.681017Z"
    }
   },
   "cell_type": "code",
   "source": [
    "psfua3_24.to_csv(r\"../data/processed/hsh_report/psfua324.csv\", index=False)\n",
    "psfua6_24.to_csv(r\"../data/processed/hsh_report/psfua624.csv\", index=False)\n",
    "psfua12_24.to_csv(r\"../data/processed/hsh_report/psfua1224.csv\", index=False)"
   ],
   "id": "7c0c1bc619cf3c16",
   "outputs": [],
   "execution_count": 42
  },
  {
   "cell_type": "markdown",
   "source": [
    "## THERAPUTIC DOCUMENTATION PROCESSING"
   ],
   "metadata": {
    "collapsed": false
   },
   "id": "ce2ff07984857a2b"
  },
  {
   "cell_type": "code",
   "source": [
    "td_file = path_manager.get_data_file(Category.PS, PSFile.TD)\n",
    "td_dataset = Dataset(config_file, td_file.sheet)\n",
    "td = get_df(td_file.path, td_file.sheet, config_file)\n",
    "\n",
    "td_24 = filter_dataframe_on_date(td, td_dataset.dvars, START, END)\n",
    "td_24_latestdate = td_24[td_dataset.dvars].max(axis=1)\n",
    "td_24.insert(4, \"service\", \"td\")\n",
    "td_24.insert(5, \"date\", td_24_latestdate)\n",
    "td_24 = td_24[['rid', 'fcid', 'service', 'date']]\n",
    "td_24 = pd.merge(td_24, unique_intake[int_criteria], on='rid', how='left')\n",
    "td_24 = pd.merge(td_24, unique_scr[['rid', 'sex', 'age']], on='rid', how='left')"
   ],
   "metadata": {
    "collapsed": false,
    "ExecuteTime": {
     "end_time": "2024-10-14T12:46:01.425350Z",
     "start_time": "2024-10-14T12:46:01.179540Z"
    }
   },
   "id": "78cbfa649a40b4bd",
   "outputs": [],
   "execution_count": 6
  },
  {
   "metadata": {
    "ExecuteTime": {
     "end_time": "2024-10-14T12:48:31.720034Z",
     "start_time": "2024-10-14T12:48:31.707937Z"
    }
   },
   "cell_type": "code",
   "source": "td_24.to_csv(r\"../data/processed/hsh_report/td324.csv\", index=False)",
   "id": "41d35d955a48df8f",
   "outputs": [],
   "execution_count": 8
  },
  {
   "metadata": {},
   "cell_type": "markdown",
   "source": [
    "### Creative Documentation Workshop\n",
    "Next time, TD should include all activities related to TD, where the output is one column contains value 1 if a beneficiary has participated in any activity of TD during the report period."
   ],
   "id": "61da0adf6f146d54"
  },
  {
   "metadata": {
    "ExecuteTime": {
     "end_time": "2024-10-14T13:16:47.485132Z",
     "start_time": "2024-10-14T13:16:47.261151Z"
    }
   },
   "cell_type": "code",
   "source": [
    "cws_file = path_manager.get_data_file(Category.PS, PSFile.CWS)\n",
    "cws_dataset = Dataset(config_file, cws_file.sheet)\n",
    "cws = get_df(cws_file.path, cws_file.sheet, config_file)\n",
    "\n",
    "cws_24 = filter_dataframe_on_date(cws, cws_dataset.dvars, START, END)\n",
    "cws_24_latestdate = cws_24[cws_dataset.dvars].max(axis=1)\n",
    "cws_24.insert(4, \"service\", \"cdw\")\n",
    "cws_24.insert(5, \"date\", cws_24_latestdate)\n",
    "cws_24 = cws_24[['rid', 'fcid', 'service', 'date']]\n",
    "cws_24 = pd.merge(cws_24, unique_intake[int_criteria], on='rid', how='left')\n",
    "cws_24 = pd.merge(cws_24, unique_scr[['rid', 'sex', 'age']], on='rid', how='left')"
   ],
   "id": "5f7dcb5ba5b6acda",
   "outputs": [],
   "execution_count": 18
  },
  {
   "metadata": {
    "ExecuteTime": {
     "end_time": "2024-10-14T13:18:48.175843Z",
     "start_time": "2024-10-14T13:18:48.168259Z"
    }
   },
   "cell_type": "code",
   "source": "cws_24.to_csv(r\"../data/processed/hsh_report/cws324.csv\", index=False)",
   "id": "22c03068caf6de3d",
   "outputs": [],
   "execution_count": 20
  },
  {
   "metadata": {},
   "cell_type": "markdown",
   "source": "## Trauma Resilience Workshop PROCESSING",
   "id": "d5d0e3dd95a37c40"
  },
  {
   "metadata": {},
   "cell_type": "code",
   "source": "# trw = get_df(trw_path, trw_sheet, config_file)",
   "id": "760be7bfe2e44a52",
   "outputs": [],
   "execution_count": null
  },
  {
   "metadata": {
    "ExecuteTime": {
     "end_time": "2024-10-14T13:25:45.244331Z",
     "start_time": "2024-10-14T13:25:45.023679Z"
    }
   },
   "cell_type": "code",
   "source": [
    "trw_file = path_manager.get_data_file(Category.PS, PSFile.TRW)\n",
    "trw_dataset = Dataset(config_file, trw_file.sheet)\n",
    "trw = get_df(trw_file.path, trw_file.sheet, config_file)\n",
    "\n",
    "trw_24 = filter_dataframe_on_date(trw, trw_dataset.dvars, START, END)\n",
    "trw_24_latestdate = trw_24[trw_dataset.dvars].max(axis=1)\n",
    "trw_24.insert(4, \"service\", \"trw\")\n",
    "trw_24.insert(5, \"date\", trw_24_latestdate)\n",
    "trw_24 = trw_24[['rid', 'fcid', 'service', 'date']]\n",
    "trw_24 = pd.merge(trw_24, unique_intake[int_criteria], on='rid', how='left')\n",
    "trw_24 = pd.merge(trw_24, unique_scr[['rid', 'sex', 'age']], on='rid', how='left')"
   ],
   "id": "9c2769bfcccd749e",
   "outputs": [],
   "execution_count": 21
  },
  {
   "metadata": {
    "ExecuteTime": {
     "end_time": "2024-10-14T13:27:27.866916Z",
     "start_time": "2024-10-14T13:27:27.860255Z"
    }
   },
   "cell_type": "code",
   "source": "trw_24.to_csv(r\"../data/processed/hsh_report/trw324.csv\", index=False)",
   "id": "33b32272392a1f14",
   "outputs": [],
   "execution_count": 23
  },
  {
   "cell_type": "markdown",
   "source": "## POST-EARTHQUAKE INTERVENTION PROCESSING",
   "metadata": {
    "collapsed": false
   },
   "id": "9dc958a7f60d7454"
  },
  {
   "cell_type": "code",
   "source": [
    "pei_file = path_manager.get_data_file(Category.PS, PSFile.PEI)\n",
    "pei_dataset = Dataset(config_file, pei_file.sheet)\n",
    "pei = get_df(pei_file.path, pei_file.sheet, config_file)\n",
    "\n",
    "pei_24 = filter_dataframe_on_date(pei, pei_dataset.dvars, START, END)\n",
    "pei_24_latestdate = pei_24[pei_dataset.dvars].max(axis=1)\n",
    "pei_24.insert(4, \"service\", \"pei\")\n",
    "pei_24.insert(5, \"date\", pei_24_latestdate)\n",
    "pei_24 = pei_24[['rid', 'fcid', 'service', 'date']]\n",
    "pei_24 = pd.merge(pei_24, unique_intake[int_criteria], on='rid', how='left')\n",
    "pei_24 = pd.merge(pei_24, unique_scr[['rid', 'sex', 'age']], on='rid', how='left')"
   ],
   "metadata": {
    "collapsed": false,
    "ExecuteTime": {
     "end_time": "2024-10-14T14:05:41.451843Z",
     "start_time": "2024-10-14T14:05:41.225328Z"
    }
   },
   "id": "c7e216ae03bce48a",
   "outputs": [],
   "execution_count": 27
  },
  {
   "cell_type": "code",
   "source": "pei_24.to_csv(r\"../data/processed/hsh_report/pei324.csv\", index=False)",
   "metadata": {
    "collapsed": false,
    "ExecuteTime": {
     "end_time": "2024-10-14T14:05:43.278324Z",
     "start_time": "2024-10-14T14:05:43.272438Z"
    }
   },
   "id": "ada4b95c5e9ba8a8",
   "outputs": [],
   "execution_count": 28
  },
  {
   "cell_type": "markdown",
   "source": [
    "## GROUP PHYSIOTHERAPY PROCESSING"
   ],
   "metadata": {
    "collapsed": false
   },
   "id": "ced39018c2a6a329"
  },
  {
   "cell_type": "code",
   "source": [
    "ptg_file = path_manager.get_data_file(Category.PT, PTFile.PTG)\n",
    "ptg_dataset = Dataset(config_file, ptg_file.sheet)\n",
    "ptg = get_df(ptg_file.path, ptg_file.sheet, config_file)\n",
    "\n",
    "ptg_24 = filter_dataframe_on_date(ptg, ptg_dataset.dvars, START, END)\n",
    "ptg_24_latestdate = ptg_24[ptg_dataset.dvars].max(axis=1)\n",
    "# ptg_24 = ptg_24.copy()\n",
    "# non_nat_counts = ptg_24[ptg_dataset.dvars].notna().sum(axis=1)\n",
    "# ptg_24['pt_g_total'] = np.where(ptg_24['pt_g_total'] == 0, non_nat_counts, ptg_24['pt_g_total'])\n",
    "# ptg_24 = ptg_24[ptg_24['pt_status'] != 'Drop Out']\n",
    "ptg_24.insert(4, \"service\", \"gpt\")\n",
    "ptg_24.insert(5, \"date\", ptg_24_latestdate)\n",
    "ptg_24 = ptg_24[['rid', 'fcid', 'service', 'date']]\n",
    "\n",
    "ptg_24 = pd.merge(ptg_24, unique_intake[int_criteria], on='rid', how='left')\n",
    "ptg_24 = pd.merge(ptg_24, unique_scr[['rid', 'sex', 'age']], on='rid', how='left')"
   ],
   "metadata": {
    "collapsed": false,
    "ExecuteTime": {
     "end_time": "2024-10-14T23:02:04.487640Z",
     "start_time": "2024-10-14T23:02:04.238794Z"
    }
   },
   "id": "85166e0926c4a4d7",
   "outputs": [],
   "execution_count": 5
  },
  {
   "cell_type": "code",
   "source": "ptg_24.to_csv(r\"../data/processed/hsh_report/ptg324.csv\", index=False)",
   "metadata": {
    "collapsed": false,
    "ExecuteTime": {
     "end_time": "2024-10-14T23:02:11.702430Z",
     "start_time": "2024-10-14T23:02:11.689265Z"
    }
   },
   "id": "f8412195883ecf84",
   "outputs": [],
   "execution_count": 6
  },
  {
   "cell_type": "markdown",
   "source": [
    "## INDIVIDUAL PHYSIOTHERAPY PROCESSING"
   ],
   "metadata": {
    "collapsed": false
   },
   "id": "69ddaa7d56fed1c3"
  },
  {
   "cell_type": "code",
   "source": [
    "pti_file = path_manager.get_data_file(Category.PT, PTFile.PTI)\n",
    "pti_dataset = Dataset(config_file, pti_file.sheet)\n",
    "pti = get_df(pti_file.path, pti_file.sheet, config_file)\n",
    "# non_nat_counts = ipt[ipt_dataset.dvars].notna().sum(axis=1)\n",
    "# ipt['pt_i_total'] = np.where(ipt['pt_i_total'] == 0, non_nat_counts, ipt['pt_i_total'])\n",
    "pti_24 = filter_dataframe_on_date(pti, pti_dataset.dvars, START, END)\n",
    "pti_24_latestdate = pti_24[pti_dataset.dvars].max(axis=1)\n",
    "# pti_24 = pti_24.copy()\n",
    "# non_nat_counts = pti_24[pti_dataset.dvars].notna().sum(axis=1)\n",
    "# pti_24['pt_i_total'] = np.where(pti_24['pt_i_total'] == 0, non_nat_counts, pti_24['pt_i_total'])\n",
    "pti_24.insert(4, \"service\", \"ipt\")\n",
    "pti_24.insert(5, \"date\", pti_24_latestdate)\n",
    "pti_24 = pti_24[['rid', 'fcid', 'service', 'date']]\n",
    "\n",
    "pti_24 = pd.merge(pti_24, unique_intake[int_criteria], on='rid', how='left')\n",
    "pti_24 = pd.merge(pti_24, unique_scr[['rid', 'sex', 'age']], on='rid', how='left')"
   ],
   "metadata": {
    "collapsed": false,
    "ExecuteTime": {
     "end_time": "2024-10-14T23:06:59.171032Z",
     "start_time": "2024-10-14T23:06:58.933185Z"
    }
   },
   "id": "ff12eaee81499150",
   "outputs": [],
   "execution_count": 8
  },
  {
   "metadata": {
    "ExecuteTime": {
     "end_time": "2024-10-14T23:08:41.706360Z",
     "start_time": "2024-10-14T23:08:41.684944Z"
    }
   },
   "cell_type": "code",
   "source": "pti_24.to_csv(r\"../data/processed/hsh_report/pti324.csv\", index=False)",
   "id": "76d48192ea2be53",
   "outputs": [],
   "execution_count": 10
  },
  {
   "cell_type": "markdown",
   "source": [
    "## PHYSIOTHERAPY INTAKE ASSESSMENT PROCESSING"
   ],
   "metadata": {
    "collapsed": false
   },
   "id": "5772e6112d6ad0b5"
  },
  {
   "cell_type": "code",
   "source": [
    "ptint_file = path_manager.get_data_file(Category.PT, PTFile.PTNT)\n",
    "ptint_dataset = Dataset(config_file, ptint_file.sheet)\n",
    "ptint = get_df(ptint_file.path, ptint_file.sheet, config_file)\n",
    "\n",
    "ptint_24 = filter_dataframe_on_date(ptint, ptint_dataset.dvars, START, END)\n",
    "ptint_24_latestdate = ptint_24[['pt_nt_s1', 'pt_nt_s2', 'pt_nt_re']].max(axis=1)\n",
    "# _ptint23 = ptint23.copy()\n",
    "ptint_24.insert(4, 'service', 'ptint')\n",
    "ptint_24.insert(5, 'date', ptint_24_latestdate)\n",
    "ptint_24 = ptint_24[['rid', 'fcid', 'service', 'date']]\n",
    "\n",
    "ptint_24 = pd.merge(ptint_24, unique_intake[int_criteria], on='rid', how='left')\n",
    "ptint_24 = pd.merge(ptint_24, unique_scr[['rid', 'sex', 'age']], on='rid', how='left')"
   ],
   "metadata": {
    "collapsed": false,
    "ExecuteTime": {
     "end_time": "2024-10-14T23:43:35.652176Z",
     "start_time": "2024-10-14T23:43:35.431179Z"
    }
   },
   "id": "dcbb2f76b8ed6e67",
   "outputs": [],
   "execution_count": 15
  },
  {
   "metadata": {
    "ExecuteTime": {
     "end_time": "2024-10-14T23:45:58.868437Z",
     "start_time": "2024-10-14T23:45:58.848887Z"
    }
   },
   "cell_type": "code",
   "source": "ptint_24.to_csv(r\"../data/processed/hsh_report/ptint324.csv\", index=False)",
   "id": "e3fc6252d8db059f",
   "outputs": [],
   "execution_count": 19
  },
  {
   "cell_type": "markdown",
   "source": [
    "## PHYSIOTHERAPY FOLLOW-UP ASSESSMENT PROCESSING"
   ],
   "metadata": {
    "collapsed": false
   },
   "id": "f81a84684cc8dcd8"
  },
  {
   "cell_type": "code",
   "source": [
    "ptfua_file = path_manager.get_data_file(Category.PT, PTFile.PTFU)\n",
    "ptfua_dataset = Dataset(config_file, ptfua_file.sheet)\n",
    "ptfua = get_df(ptfua_file.path, ptfua_file.sheet, config_file)"
   ],
   "metadata": {
    "collapsed": false,
    "ExecuteTime": {
     "end_time": "2024-10-15T00:03:55.488574Z",
     "start_time": "2024-10-15T00:03:55.265528Z"
    }
   },
   "id": "d5c0816132274c19",
   "outputs": [],
   "execution_count": 20
  },
  {
   "cell_type": "code",
   "source": [
    "ptfua3_24 = filter_dataframe_on_date(ptfua, 'fu_3m', START, END)\n",
    "ptfua3_24.insert(4, \"service\", \"ptfua3\")\n",
    "ptfua3_24 = ptfua3_24[['rid', 'fcid', 'service', 'fu_3m']]\n",
    "ptfua3_24 = ptfua3_24.rename(columns={'fu_3m': 'date'})"
   ],
   "metadata": {
    "collapsed": false,
    "ExecuteTime": {
     "end_time": "2024-10-15T00:26:00.946216Z",
     "start_time": "2024-10-15T00:26:00.931739Z"
    }
   },
   "id": "13765e8923ff9e3a",
   "outputs": [],
   "execution_count": 32
  },
  {
   "metadata": {
    "ExecuteTime": {
     "end_time": "2024-10-15T00:03:58.481598Z",
     "start_time": "2024-10-15T00:03:58.459253Z"
    }
   },
   "cell_type": "code",
   "source": [
    "ptfua6_24 = filter_dataframe_on_date(ptfua, 'fu_6m', START, END)\n",
    "ptfua6_24.insert(4, \"service\", \"ptfua6\")\n",
    "ptfua6_24 = ptfua6_24[['rid', 'fcid', 'service', 'fu_6m']]\n",
    "ptfua6_24 = ptfua6_24.rename(columns={'fu_6m': 'date'})"
   ],
   "id": "cd511cca9f144fbc",
   "outputs": [],
   "execution_count": 22
  },
  {
   "metadata": {
    "ExecuteTime": {
     "end_time": "2024-10-15T00:03:59.415046Z",
     "start_time": "2024-10-15T00:03:59.392131Z"
    }
   },
   "cell_type": "code",
   "source": [
    "ptfua12_24 = filter_dataframe_on_date(ptfua, 'fu_12m', START, END)\n",
    "ptfua12_24.insert(4, \"service\", \"ptfua12\")\n",
    "ptfua12_24 = ptfua12_24[['rid', 'fcid', 'service', 'fu_12m']]\n",
    "ptfua12_24 = ptfua12_24.rename(columns={'fu_12m': 'date'})"
   ],
   "id": "1c55051d5429dbde",
   "outputs": [],
   "execution_count": 23
  },
  {
   "metadata": {
    "ExecuteTime": {
     "end_time": "2024-10-15T00:26:34.602320Z",
     "start_time": "2024-10-15T00:26:34.569480Z"
    }
   },
   "cell_type": "code",
   "source": [
    "ptfua3_24 = pd.merge(ptfua3_24, unique_intake[int_criteria], on='rid', how='left')\n",
    "ptfua3_24 = pd.merge(ptfua3_24, unique_scr[['rid', 'sex', 'age']], on='rid', how='left')\n",
    "\n",
    "ptfua6_24 = pd.merge(ptfua6_24, unique_intake[int_criteria], on='rid', how='left')\n",
    "ptfua6_24 = pd.merge(ptfua6_24, unique_scr[['rid', 'sex', 'age']], on='rid', how='left')\n",
    "\n",
    "ptfua12_24 = pd.merge(ptfua12_24, unique_intake[int_criteria], on='rid', how='left')\n",
    "ptfua12_24 = pd.merge(ptfua12_24, unique_scr[['rid', 'sex', 'age']], on='rid', how='left')"
   ],
   "id": "559c17ee4e8e46f7",
   "outputs": [],
   "execution_count": 35
  },
  {
   "metadata": {
    "ExecuteTime": {
     "end_time": "2024-10-15T00:26:35.902743Z",
     "start_time": "2024-10-15T00:26:35.893645Z"
    }
   },
   "cell_type": "code",
   "source": [
    "ptfua3_24.to_csv(r\"../data/processed/hsh_report/ptfua324.csv\", index=False)\n",
    "ptfua6_24.to_csv(r\"../data/processed/hsh_report/ptfua624.csv\", index=False)\n",
    "ptfua12_24.to_csv(r\"../data/processed/hsh_report/ptfua1224.csv\", index=False)"
   ],
   "id": "c80d0644bf0c320d",
   "outputs": [],
   "execution_count": 36
  },
  {
   "metadata": {
    "ExecuteTime": {
     "end_time": "2024-10-15T00:27:49.068464Z",
     "start_time": "2024-10-15T00:27:49.060250Z"
    }
   },
   "cell_type": "code",
   "source": "# pd.read_csv(r\"../data/processed/hsh_report/ptfua1224.csv\")",
   "id": "a46ec0ed7feddb04",
   "outputs": [],
   "execution_count": 40
  },
  {
   "cell_type": "markdown",
   "source": "## Case Management",
   "metadata": {
    "collapsed": false
   },
   "id": "294e877aeaa33bbf"
  },
  {
   "cell_type": "code",
   "source": [
    "cm = pd.read_excel(r\"../data/raw/0924/other_services/TS_FC_meetingOutreachReferralFollowUpAdvocacy.xlsx\", sheet_name=None)\n",
    "\n",
    "referral = cm[\"IngoingOutgoingInternalReferral\"]\n",
    "reffu = cm[\"Follow-up\"]\n",
    "adv = cm[\"Advocacy\"]\n",
    "\n",
    "referral.to_csv(r\"../data/processed/0924/16_ref_0924.csv\", index=False)\n",
    "reffu.to_csv(r\"../data/processed/0924/17_reffu_0924.csv\", index=False)\n",
    "adv.to_csv(r\"../data/processed/0924/18_adv_0924.csv\", index=False)"
   ],
   "metadata": {
    "collapsed": false,
    "ExecuteTime": {
     "end_time": "2024-10-15T09:46:52.036487Z",
     "start_time": "2024-10-15T09:46:51.065845Z"
    }
   },
   "id": "899ed7149858aabd",
   "outputs": [],
   "execution_count": 31
  },
  {
   "metadata": {
    "ExecuteTime": {
     "end_time": "2024-10-15T09:47:04.303551Z",
     "start_time": "2024-10-15T09:47:04.300340Z"
    }
   },
   "cell_type": "code",
   "source": "# adv",
   "id": "60aeb1ebc5d19fee",
   "outputs": [],
   "execution_count": 33
  },
  {
   "metadata": {
    "ExecuteTime": {
     "end_time": "2024-10-15T09:47:38.141048Z",
     "start_time": "2024-10-15T09:47:38.128291Z"
    }
   },
   "cell_type": "code",
   "source": [
    "ref = pd.read_csv(r\"../data/processed/0924/16_ref_0924.csv\", dtype={\"FC_ID\": \"Int64\"})\n",
    "ref = ref[ref[\"OutgoingInternalIngoing\"] == \"outgoing\"]"
   ],
   "id": "3f69f1aae40db258",
   "outputs": [],
   "execution_count": 34
  },
  {
   "metadata": {
    "ExecuteTime": {
     "end_time": "2024-10-15T09:47:48.759207Z",
     "start_time": "2024-10-15T09:47:48.745978Z"
    }
   },
   "cell_type": "code",
   "source": [
    "ref_24 = filter_dataframe_on_date(ref, \"referralDate\", START, END)\n",
    "ref_24.insert(4, \"service\", \"ref\")\n",
    "ref_24 = ref_24.rename(columns={\"referral_ID\": \"rid\"})\n",
    "ref_24 = ref_24.rename(columns={\"FC_ID\": \"fcid\"})\n",
    "ref_24 = ref_24.rename(columns={\"referralDate\": \"date\"})\n",
    "ref_24 = ref_24[['rid', 'fcid', 'service', 'date']]\n",
    "# ref_24[\"fcid\"] = ref_24[\"fcid\"].astype(\"Int64\")"
   ],
   "id": "65e0fa819bc58a3b",
   "outputs": [],
   "execution_count": 35
  },
  {
   "metadata": {
    "ExecuteTime": {
     "end_time": "2024-10-15T09:47:55.917974Z",
     "start_time": "2024-10-15T09:47:55.906202Z"
    }
   },
   "cell_type": "code",
   "source": [
    "ref_24 = pd.merge(ref_24, unique_intake[int_criteria], on='rid', how='left')\n",
    "ref_24 = pd.merge(ref_24, unique_scr[['rid', 'sex', 'age']], on='rid', how='left')"
   ],
   "id": "f80339d73c780f43",
   "outputs": [],
   "execution_count": 36
  },
  {
   "metadata": {},
   "cell_type": "code",
   "source": "ref_24.to_csv(r\"../data/processed/hsh_report/ref324.csv\", index=False)",
   "id": "4bf06f82f98a6ba5",
   "outputs": [],
   "execution_count": null
  },
  {
   "metadata": {
    "ExecuteTime": {
     "end_time": "2024-10-15T10:14:03.233273Z",
     "start_time": "2024-10-15T10:14:03.229909Z"
    }
   },
   "cell_type": "code",
   "source": "# pd.read_csv(r\"../data/processed/hsh_report/ref324.csv\", dtype={\"fcid\": \"Int64\"})",
   "id": "e1b373b784b40a27",
   "outputs": [],
   "execution_count": 42
  },
  {
   "metadata": {},
   "cell_type": "markdown",
   "source": "### Advocacy",
   "id": "c583896cce5ce87c"
  },
  {
   "metadata": {
    "ExecuteTime": {
     "end_time": "2024-10-15T10:15:52.043820Z",
     "start_time": "2024-10-15T10:15:52.032233Z"
    }
   },
   "cell_type": "code",
   "source": "adv = pd.read_csv(r\"../data/processed/0924/18_adv_0924.csv\", dtype={\"FC_ID\": \"Int64\"})",
   "id": "492c0bbb3c289dc5",
   "outputs": [],
   "execution_count": 43
  },
  {
   "metadata": {
    "ExecuteTime": {
     "end_time": "2024-10-15T10:19:53.653702Z",
     "start_time": "2024-10-15T10:19:53.641836Z"
    }
   },
   "cell_type": "code",
   "source": [
    "adv_24 = filter_dataframe_on_date(adv, \"eventDate\", START, END)\n",
    "adv_24.insert(4, \"service\", \"adv\")\n",
    "adv_24 = adv_24.rename(columns={\"referral_ID\": \"rid\"})\n",
    "adv_24 = adv_24.rename(columns={\"FC_ID\": \"fcid\"})\n",
    "adv_24 = adv_24.rename(columns={\"eventDate\": \"date\"})\n",
    "adv_24 = adv_24[['rid', 'fcid', 'service', 'date']]"
   ],
   "id": "85b184fd70858766",
   "outputs": [],
   "execution_count": 46
  },
  {
   "metadata": {
    "ExecuteTime": {
     "end_time": "2024-10-15T10:21:27.701474Z",
     "start_time": "2024-10-15T10:21:27.687822Z"
    }
   },
   "cell_type": "code",
   "source": [
    "adv_24 = pd.merge(adv_24, unique_intake[int_criteria], on='rid', how='left')\n",
    "adv_24 = pd.merge(adv_24, unique_scr[['rid', 'sex', 'age']], on='rid', how='left')"
   ],
   "id": "4cef2c0ef0f2bff0",
   "outputs": [],
   "execution_count": 48
  },
  {
   "metadata": {
    "ExecuteTime": {
     "end_time": "2024-10-15T10:22:23.063723Z",
     "start_time": "2024-10-15T10:22:23.057791Z"
    }
   },
   "cell_type": "code",
   "source": "adv_24.to_csv(r\"../data/processed/hsh_report/adv324.csv\", index=False)",
   "id": "93b409180b755706",
   "outputs": [],
   "execution_count": 50
  },
  {
   "metadata": {},
   "cell_type": "markdown",
   "source": "### TD IU Delivery, Communication, Advocacy Workshop",
   "id": "9d8f9ce47f23e27"
  },
  {
   "metadata": {},
   "cell_type": "code",
   "source": [
    "# td_del = pd.read_excel('td_tracker.xlsx')\n",
    "# td_del = td_del[['Ref #', 'FC ID #', 'IU Del', 'Com Pub', 'Adv Partic']]\n",
    "# td_del = td_del.rename(columns={'Ref #': 'rid', 'FC ID #': 'fcid', 'IU Del': 'iu_del', 'Com Pub': 'com_pub', 'Adv Partic': 'adv_par'})"
   ],
   "id": "3b7ce1a243fcd3e",
   "outputs": [],
   "execution_count": null
  },
  {
   "metadata": {},
   "cell_type": "code",
   "source": [
    "# td_del_24 = filter_dataframe_on_date(td_del, ['iu_del', 'com_pub', 'adv_par'], start, end)\n",
    "# td_del_24_latestdate = td_del_24[['iu_del', 'com_pub', 'adv_par']].max(axis=1)\n",
    "# td_del_24.insert(4, \"service\", \"td_del\")\n",
    "# td_del_24.insert(5, 'date', td_del_24_latestdate)\n",
    "# td_del_24 = td_del_24[['rid', 'fcid', 'service', 'date']]"
   ],
   "id": "73b0326d9fc378b3",
   "outputs": [],
   "execution_count": null
  },
  {
   "metadata": {},
   "cell_type": "code",
   "source": [
    "# td_del_24 = pd.merge(td_del_24, unique_intake[int_criteria], on='rid', how='left')\n",
    "# td_del_24 = pd.merge(td_del_24, unique_scr[['rid', 'sex', 'age']], on='rid', how='left')"
   ],
   "id": "176f9864fe9f0652",
   "outputs": [],
   "execution_count": null
  },
  {
   "metadata": {},
   "cell_type": "code",
   "source": [
    "# td_del_24_path = os.path.join(root, data, processed, \"unvfvt24\", \"tdDelBeneficiaries24.csv\")\n",
    "# td_del_24.to_csv(td_del_24_path, index=False)"
   ],
   "id": "a078022b9332457a",
   "outputs": [],
   "execution_count": null
  },
  {
   "metadata": {},
   "cell_type": "markdown",
   "source": "## CONCATENATION",
   "id": "1dec14603a6e1ed0"
  },
  {
   "metadata": {
    "ExecuteTime": {
     "end_time": "2024-10-15T12:34:21.463807Z",
     "start_time": "2024-10-15T12:34:20.211659Z"
    }
   },
   "cell_type": "code",
   "source": "from src.dataset_aggregator import *",
   "id": "7b6633c92b0264cd",
   "outputs": [],
   "execution_count": 1
  },
  {
   "metadata": {},
   "cell_type": "code",
   "source": [
    "files = r\"../data/processed/hsh_report\"\n",
    "result_df = read_and_concatenate_datasets(\n",
    "    files,\n",
    "    file_type='auto',\n",
    "    recursive='False',\n",
    "    file_pattern='*.csv',\n",
    "    read_kwargs={'encoding': 'utf8'},\n",
    "    error_handling='skip'\n",
    ")"
   ],
   "id": "11f0f896550fdd6a",
   "outputs": [],
   "execution_count": null
  },
  {
   "metadata": {
    "ExecuteTime": {
     "end_time": "2024-10-15T12:42:27.406935Z",
     "start_time": "2024-10-15T12:42:27.393732Z"
    }
   },
   "cell_type": "code",
   "source": [
    "hsh_report = result_df['data']\n",
    "hsh_report['fcid'] = hsh_report['fcid'].astype('Int64')\n",
    "hsh_report.to_csv(r\"../data/processed/hsh_report/hsh_report324.csv\", index=False)"
   ],
   "id": "faaf4d77bc24242c",
   "outputs": [],
   "execution_count": 4
  },
  {
   "metadata": {
    "ExecuteTime": {
     "end_time": "2024-10-15T12:43:30.369262Z",
     "start_time": "2024-10-15T12:43:30.347105Z"
    }
   },
   "cell_type": "code",
   "source": "hsh_report",
   "id": "48c24092917b0afe",
   "outputs": [
    {
     "data": {
      "text/plain": [
       "       rid        fcid service        date family_of_missing  \\\n",
       "0    R1471        <NA>     adv  2024-08-26               NaN   \n",
       "1    R0588  8110100010     adv  2024-08-26               Yes   \n",
       "2    R0062  8110020048     adv  2024-08-26               Yes   \n",
       "3    R0092  8110050011     adv  2024-08-26               Yes   \n",
       "4    R0063  8110050010     adv  2024-08-26               Yes   \n",
       "..     ...         ...     ...         ...               ...   \n",
       "313  R0675        <NA>     trw  2024-09-30               NaN   \n",
       "314  R1474        <NA>     trw  2024-09-27               NaN   \n",
       "315  R0440        <NA>     trw  2024-09-30               NaN   \n",
       "316  R1021        <NA>     trw  2024-09-27               Yes   \n",
       "317  R0898        <NA>     trw  2024-09-30               NaN   \n",
       "\n",
       "    survivor_of_detention primary_torture secondary_torture  \\\n",
       "0                     NaN             NaN               NaN   \n",
       "1                      No              No               Yes   \n",
       "2                     Yes             Yes               Yes   \n",
       "3                      No              No               Yes   \n",
       "4                      No              No               Yes   \n",
       "..                    ...             ...               ...   \n",
       "313                   NaN             NaN               NaN   \n",
       "314                   NaN             NaN               NaN   \n",
       "315                   NaN             NaN               NaN   \n",
       "316                   Yes             Yes               Yes   \n",
       "317                   NaN             NaN               NaN   \n",
       "\n",
       "    sexual_violation_a sexual_violation_p  hrd journalist  wov stgbv lgbti  \\\n",
       "0                  NaN                NaN  NaN        NaN  NaN   NaN   NaN   \n",
       "1                   No                 No   No         No  Yes    No    No   \n",
       "2                   No                 No  Yes        Yes  Yes    No    No   \n",
       "3                  NaN                NaN  NaN        NaN  Yes    No    No   \n",
       "4                  NaN                NaN  NaN        NaN  Yes    No    No   \n",
       "..                 ...                ...  ...        ...  ...   ...   ...   \n",
       "313                NaN                NaN  NaN        NaN  NaN   NaN   NaN   \n",
       "314                NaN                NaN  NaN        NaN  NaN   NaN   NaN   \n",
       "315                NaN                NaN  NaN        NaN  NaN   NaN   NaN   \n",
       "316                 No                 No   No         No  Yes    No    No   \n",
       "317                NaN                NaN  NaN        NaN  NaN   NaN   NaN   \n",
       "\n",
       "    other     sex   age  \n",
       "0     NaN     NaN   NaN  \n",
       "1      No  Female  37.0  \n",
       "2      No  Female  48.0  \n",
       "3      No  Female  46.0  \n",
       "4      No  Female  41.0  \n",
       "..    ...     ...   ...  \n",
       "313   NaN  Female  23.0  \n",
       "314   NaN  Female  47.0  \n",
       "315   NaN  Female  62.0  \n",
       "316    No    Male  39.0  \n",
       "317   NaN  Female  29.0  \n",
       "\n",
       "[318 rows x 18 columns]"
      ],
      "text/html": [
       "<div>\n",
       "<style scoped>\n",
       "    .dataframe tbody tr th:only-of-type {\n",
       "        vertical-align: middle;\n",
       "    }\n",
       "\n",
       "    .dataframe tbody tr th {\n",
       "        vertical-align: top;\n",
       "    }\n",
       "\n",
       "    .dataframe thead th {\n",
       "        text-align: right;\n",
       "    }\n",
       "</style>\n",
       "<table border=\"1\" class=\"dataframe\">\n",
       "  <thead>\n",
       "    <tr style=\"text-align: right;\">\n",
       "      <th></th>\n",
       "      <th>rid</th>\n",
       "      <th>fcid</th>\n",
       "      <th>service</th>\n",
       "      <th>date</th>\n",
       "      <th>family_of_missing</th>\n",
       "      <th>survivor_of_detention</th>\n",
       "      <th>primary_torture</th>\n",
       "      <th>secondary_torture</th>\n",
       "      <th>sexual_violation_a</th>\n",
       "      <th>sexual_violation_p</th>\n",
       "      <th>hrd</th>\n",
       "      <th>journalist</th>\n",
       "      <th>wov</th>\n",
       "      <th>stgbv</th>\n",
       "      <th>lgbti</th>\n",
       "      <th>other</th>\n",
       "      <th>sex</th>\n",
       "      <th>age</th>\n",
       "    </tr>\n",
       "  </thead>\n",
       "  <tbody>\n",
       "    <tr>\n",
       "      <th>0</th>\n",
       "      <td>R1471</td>\n",
       "      <td>&lt;NA&gt;</td>\n",
       "      <td>adv</td>\n",
       "      <td>2024-08-26</td>\n",
       "      <td>NaN</td>\n",
       "      <td>NaN</td>\n",
       "      <td>NaN</td>\n",
       "      <td>NaN</td>\n",
       "      <td>NaN</td>\n",
       "      <td>NaN</td>\n",
       "      <td>NaN</td>\n",
       "      <td>NaN</td>\n",
       "      <td>NaN</td>\n",
       "      <td>NaN</td>\n",
       "      <td>NaN</td>\n",
       "      <td>NaN</td>\n",
       "      <td>NaN</td>\n",
       "      <td>NaN</td>\n",
       "    </tr>\n",
       "    <tr>\n",
       "      <th>1</th>\n",
       "      <td>R0588</td>\n",
       "      <td>8110100010</td>\n",
       "      <td>adv</td>\n",
       "      <td>2024-08-26</td>\n",
       "      <td>Yes</td>\n",
       "      <td>No</td>\n",
       "      <td>No</td>\n",
       "      <td>Yes</td>\n",
       "      <td>No</td>\n",
       "      <td>No</td>\n",
       "      <td>No</td>\n",
       "      <td>No</td>\n",
       "      <td>Yes</td>\n",
       "      <td>No</td>\n",
       "      <td>No</td>\n",
       "      <td>No</td>\n",
       "      <td>Female</td>\n",
       "      <td>37.0</td>\n",
       "    </tr>\n",
       "    <tr>\n",
       "      <th>2</th>\n",
       "      <td>R0062</td>\n",
       "      <td>8110020048</td>\n",
       "      <td>adv</td>\n",
       "      <td>2024-08-26</td>\n",
       "      <td>Yes</td>\n",
       "      <td>Yes</td>\n",
       "      <td>Yes</td>\n",
       "      <td>Yes</td>\n",
       "      <td>No</td>\n",
       "      <td>No</td>\n",
       "      <td>Yes</td>\n",
       "      <td>Yes</td>\n",
       "      <td>Yes</td>\n",
       "      <td>No</td>\n",
       "      <td>No</td>\n",
       "      <td>No</td>\n",
       "      <td>Female</td>\n",
       "      <td>48.0</td>\n",
       "    </tr>\n",
       "    <tr>\n",
       "      <th>3</th>\n",
       "      <td>R0092</td>\n",
       "      <td>8110050011</td>\n",
       "      <td>adv</td>\n",
       "      <td>2024-08-26</td>\n",
       "      <td>Yes</td>\n",
       "      <td>No</td>\n",
       "      <td>No</td>\n",
       "      <td>Yes</td>\n",
       "      <td>NaN</td>\n",
       "      <td>NaN</td>\n",
       "      <td>NaN</td>\n",
       "      <td>NaN</td>\n",
       "      <td>Yes</td>\n",
       "      <td>No</td>\n",
       "      <td>No</td>\n",
       "      <td>No</td>\n",
       "      <td>Female</td>\n",
       "      <td>46.0</td>\n",
       "    </tr>\n",
       "    <tr>\n",
       "      <th>4</th>\n",
       "      <td>R0063</td>\n",
       "      <td>8110050010</td>\n",
       "      <td>adv</td>\n",
       "      <td>2024-08-26</td>\n",
       "      <td>Yes</td>\n",
       "      <td>No</td>\n",
       "      <td>No</td>\n",
       "      <td>Yes</td>\n",
       "      <td>NaN</td>\n",
       "      <td>NaN</td>\n",
       "      <td>NaN</td>\n",
       "      <td>NaN</td>\n",
       "      <td>Yes</td>\n",
       "      <td>No</td>\n",
       "      <td>No</td>\n",
       "      <td>No</td>\n",
       "      <td>Female</td>\n",
       "      <td>41.0</td>\n",
       "    </tr>\n",
       "    <tr>\n",
       "      <th>...</th>\n",
       "      <td>...</td>\n",
       "      <td>...</td>\n",
       "      <td>...</td>\n",
       "      <td>...</td>\n",
       "      <td>...</td>\n",
       "      <td>...</td>\n",
       "      <td>...</td>\n",
       "      <td>...</td>\n",
       "      <td>...</td>\n",
       "      <td>...</td>\n",
       "      <td>...</td>\n",
       "      <td>...</td>\n",
       "      <td>...</td>\n",
       "      <td>...</td>\n",
       "      <td>...</td>\n",
       "      <td>...</td>\n",
       "      <td>...</td>\n",
       "      <td>...</td>\n",
       "    </tr>\n",
       "    <tr>\n",
       "      <th>313</th>\n",
       "      <td>R0675</td>\n",
       "      <td>&lt;NA&gt;</td>\n",
       "      <td>trw</td>\n",
       "      <td>2024-09-30</td>\n",
       "      <td>NaN</td>\n",
       "      <td>NaN</td>\n",
       "      <td>NaN</td>\n",
       "      <td>NaN</td>\n",
       "      <td>NaN</td>\n",
       "      <td>NaN</td>\n",
       "      <td>NaN</td>\n",
       "      <td>NaN</td>\n",
       "      <td>NaN</td>\n",
       "      <td>NaN</td>\n",
       "      <td>NaN</td>\n",
       "      <td>NaN</td>\n",
       "      <td>Female</td>\n",
       "      <td>23.0</td>\n",
       "    </tr>\n",
       "    <tr>\n",
       "      <th>314</th>\n",
       "      <td>R1474</td>\n",
       "      <td>&lt;NA&gt;</td>\n",
       "      <td>trw</td>\n",
       "      <td>2024-09-27</td>\n",
       "      <td>NaN</td>\n",
       "      <td>NaN</td>\n",
       "      <td>NaN</td>\n",
       "      <td>NaN</td>\n",
       "      <td>NaN</td>\n",
       "      <td>NaN</td>\n",
       "      <td>NaN</td>\n",
       "      <td>NaN</td>\n",
       "      <td>NaN</td>\n",
       "      <td>NaN</td>\n",
       "      <td>NaN</td>\n",
       "      <td>NaN</td>\n",
       "      <td>Female</td>\n",
       "      <td>47.0</td>\n",
       "    </tr>\n",
       "    <tr>\n",
       "      <th>315</th>\n",
       "      <td>R0440</td>\n",
       "      <td>&lt;NA&gt;</td>\n",
       "      <td>trw</td>\n",
       "      <td>2024-09-30</td>\n",
       "      <td>NaN</td>\n",
       "      <td>NaN</td>\n",
       "      <td>NaN</td>\n",
       "      <td>NaN</td>\n",
       "      <td>NaN</td>\n",
       "      <td>NaN</td>\n",
       "      <td>NaN</td>\n",
       "      <td>NaN</td>\n",
       "      <td>NaN</td>\n",
       "      <td>NaN</td>\n",
       "      <td>NaN</td>\n",
       "      <td>NaN</td>\n",
       "      <td>Female</td>\n",
       "      <td>62.0</td>\n",
       "    </tr>\n",
       "    <tr>\n",
       "      <th>316</th>\n",
       "      <td>R1021</td>\n",
       "      <td>&lt;NA&gt;</td>\n",
       "      <td>trw</td>\n",
       "      <td>2024-09-27</td>\n",
       "      <td>Yes</td>\n",
       "      <td>Yes</td>\n",
       "      <td>Yes</td>\n",
       "      <td>Yes</td>\n",
       "      <td>No</td>\n",
       "      <td>No</td>\n",
       "      <td>No</td>\n",
       "      <td>No</td>\n",
       "      <td>Yes</td>\n",
       "      <td>No</td>\n",
       "      <td>No</td>\n",
       "      <td>No</td>\n",
       "      <td>Male</td>\n",
       "      <td>39.0</td>\n",
       "    </tr>\n",
       "    <tr>\n",
       "      <th>317</th>\n",
       "      <td>R0898</td>\n",
       "      <td>&lt;NA&gt;</td>\n",
       "      <td>trw</td>\n",
       "      <td>2024-09-30</td>\n",
       "      <td>NaN</td>\n",
       "      <td>NaN</td>\n",
       "      <td>NaN</td>\n",
       "      <td>NaN</td>\n",
       "      <td>NaN</td>\n",
       "      <td>NaN</td>\n",
       "      <td>NaN</td>\n",
       "      <td>NaN</td>\n",
       "      <td>NaN</td>\n",
       "      <td>NaN</td>\n",
       "      <td>NaN</td>\n",
       "      <td>NaN</td>\n",
       "      <td>Female</td>\n",
       "      <td>29.0</td>\n",
       "    </tr>\n",
       "  </tbody>\n",
       "</table>\n",
       "<p>318 rows × 18 columns</p>\n",
       "</div>"
      ]
     },
     "execution_count": 5,
     "metadata": {},
     "output_type": "execute_result"
    }
   ],
   "execution_count": 5
  },
  {
   "metadata": {
    "ExecuteTime": {
     "end_time": "2024-10-15T12:46:06.160914Z",
     "start_time": "2024-10-15T12:46:06.151522Z"
    }
   },
   "cell_type": "code",
   "source": "hsh_report['service'].value_counts()",
   "id": "e05d5293543b128f",
   "outputs": [
    {
     "data": {
      "text/plain": [
       "service\n",
       "ref        67\n",
       "gc         27\n",
       "gpt        26\n",
       "psfua6     25\n",
       "ptfua6     24\n",
       "psfua3     24\n",
       "ptfua12    17\n",
       "pei        17\n",
       "ptfua3     17\n",
       "cdw        16\n",
       "adv        15\n",
       "psfua12    15\n",
       "trw        10\n",
       "ipt         5\n",
       "re          4\n",
       "td          4\n",
       "int         2\n",
       "ptint       2\n",
       "ic          1\n",
       "Name: count, dtype: int64"
      ]
     },
     "execution_count": 6,
     "metadata": {},
     "output_type": "execute_result"
    }
   ],
   "execution_count": 6
  },
  {
   "metadata": {
    "ExecuteTime": {
     "end_time": "2024-10-15T13:29:12.671553Z",
     "start_time": "2024-10-15T13:29:12.653005Z"
    }
   },
   "cell_type": "code",
   "source": [
    "hsh_rep_beneficiaries = hsh_report.dropna(subset=['fcid'])\n",
    "uniq_hsh_report = hsh_rep_beneficiaries.drop_duplicates(subset=['rid'])\n",
    "uniq_hsh_report = uniq_hsh_report[['rid', 'fcid', 'service', 'date']]\n",
    "uniq_hsh_report"
   ],
   "id": "d083b5f148744327",
   "outputs": [
    {
     "data": {
      "text/plain": [
       "       rid        fcid service        date\n",
       "1    R0588  8110100010     adv  2024-08-26\n",
       "2    R0062  8110020048     adv  2024-08-26\n",
       "3    R0092  8110050011     adv  2024-08-26\n",
       "4    R0063  8110050010     adv  2024-08-26\n",
       "5    R0113  8110020060     adv  2024-08-26\n",
       "..     ...         ...     ...         ...\n",
       "300  R1474  8110060012     ref  2024-09-11\n",
       "302  R0089  8110060012     ref  2024-09-18\n",
       "304  R0393  8110050086      td  2024-08-13\n",
       "306  R0582  8110050094      td  2024-07-31\n",
       "307  R0183  8110020101      td  2024-08-09\n",
       "\n",
       "[123 rows x 4 columns]"
      ],
      "text/html": [
       "<div>\n",
       "<style scoped>\n",
       "    .dataframe tbody tr th:only-of-type {\n",
       "        vertical-align: middle;\n",
       "    }\n",
       "\n",
       "    .dataframe tbody tr th {\n",
       "        vertical-align: top;\n",
       "    }\n",
       "\n",
       "    .dataframe thead th {\n",
       "        text-align: right;\n",
       "    }\n",
       "</style>\n",
       "<table border=\"1\" class=\"dataframe\">\n",
       "  <thead>\n",
       "    <tr style=\"text-align: right;\">\n",
       "      <th></th>\n",
       "      <th>rid</th>\n",
       "      <th>fcid</th>\n",
       "      <th>service</th>\n",
       "      <th>date</th>\n",
       "    </tr>\n",
       "  </thead>\n",
       "  <tbody>\n",
       "    <tr>\n",
       "      <th>1</th>\n",
       "      <td>R0588</td>\n",
       "      <td>8110100010</td>\n",
       "      <td>adv</td>\n",
       "      <td>2024-08-26</td>\n",
       "    </tr>\n",
       "    <tr>\n",
       "      <th>2</th>\n",
       "      <td>R0062</td>\n",
       "      <td>8110020048</td>\n",
       "      <td>adv</td>\n",
       "      <td>2024-08-26</td>\n",
       "    </tr>\n",
       "    <tr>\n",
       "      <th>3</th>\n",
       "      <td>R0092</td>\n",
       "      <td>8110050011</td>\n",
       "      <td>adv</td>\n",
       "      <td>2024-08-26</td>\n",
       "    </tr>\n",
       "    <tr>\n",
       "      <th>4</th>\n",
       "      <td>R0063</td>\n",
       "      <td>8110050010</td>\n",
       "      <td>adv</td>\n",
       "      <td>2024-08-26</td>\n",
       "    </tr>\n",
       "    <tr>\n",
       "      <th>5</th>\n",
       "      <td>R0113</td>\n",
       "      <td>8110020060</td>\n",
       "      <td>adv</td>\n",
       "      <td>2024-08-26</td>\n",
       "    </tr>\n",
       "    <tr>\n",
       "      <th>...</th>\n",
       "      <td>...</td>\n",
       "      <td>...</td>\n",
       "      <td>...</td>\n",
       "      <td>...</td>\n",
       "    </tr>\n",
       "    <tr>\n",
       "      <th>300</th>\n",
       "      <td>R1474</td>\n",
       "      <td>8110060012</td>\n",
       "      <td>ref</td>\n",
       "      <td>2024-09-11</td>\n",
       "    </tr>\n",
       "    <tr>\n",
       "      <th>302</th>\n",
       "      <td>R0089</td>\n",
       "      <td>8110060012</td>\n",
       "      <td>ref</td>\n",
       "      <td>2024-09-18</td>\n",
       "    </tr>\n",
       "    <tr>\n",
       "      <th>304</th>\n",
       "      <td>R0393</td>\n",
       "      <td>8110050086</td>\n",
       "      <td>td</td>\n",
       "      <td>2024-08-13</td>\n",
       "    </tr>\n",
       "    <tr>\n",
       "      <th>306</th>\n",
       "      <td>R0582</td>\n",
       "      <td>8110050094</td>\n",
       "      <td>td</td>\n",
       "      <td>2024-07-31</td>\n",
       "    </tr>\n",
       "    <tr>\n",
       "      <th>307</th>\n",
       "      <td>R0183</td>\n",
       "      <td>8110020101</td>\n",
       "      <td>td</td>\n",
       "      <td>2024-08-09</td>\n",
       "    </tr>\n",
       "  </tbody>\n",
       "</table>\n",
       "<p>123 rows × 4 columns</p>\n",
       "</div>"
      ]
     },
     "execution_count": 19,
     "metadata": {},
     "output_type": "execute_result"
    }
   ],
   "execution_count": 19
  },
  {
   "metadata": {
    "ExecuteTime": {
     "end_time": "2024-10-15T13:29:20.829090Z",
     "start_time": "2024-10-15T13:29:20.825590Z"
    }
   },
   "cell_type": "code",
   "source": "# uniq_hsh_report[uniq_hsh_report[int_criteria0].isnull().all(axis=1)]",
   "id": "e7fe262878cd2d94",
   "outputs": [],
   "execution_count": 20
  },
  {
   "metadata": {
    "ExecuteTime": {
     "end_time": "2024-10-15T13:22:58.035672Z",
     "start_time": "2024-10-15T13:22:58.010647Z"
    }
   },
   "cell_type": "code",
   "source": "intake_dataset = pd.read_csv(r\"../data/processed/0924/02_psint_0924.csv\")",
   "id": "d6d8417e9af30c30",
   "outputs": [],
   "execution_count": 18
  },
  {
   "metadata": {
    "ExecuteTime": {
     "end_time": "2024-10-15T13:34:56.036717Z",
     "start_time": "2024-10-15T13:34:56.023068Z"
    }
   },
   "cell_type": "code",
   "source": [
    "uniq_hsh_report_reb = pd.merge(uniq_hsh_report, unique_intake[int_criteria], on='rid', how='left')\n",
    "uniq_hsh_report_reb = pd.merge(uniq_hsh_report_reb, unique_scr[['rid', 'sex', 'age']], on='rid', how='left')"
   ],
   "id": "7d623085ffd72807",
   "outputs": [],
   "execution_count": 28
  },
  {
   "metadata": {
    "ExecuteTime": {
     "end_time": "2024-10-15T13:34:57.164646Z",
     "start_time": "2024-10-15T13:34:57.147516Z"
    }
   },
   "cell_type": "code",
   "source": "uniq_hsh_report_reb",
   "id": "4d4fd828f4f8921c",
   "outputs": [
    {
     "data": {
      "text/plain": [
       "       rid        fcid service        date family_of_missing  \\\n",
       "0    R0588  8110100010     adv  2024-08-26               Yes   \n",
       "1    R0062  8110020048     adv  2024-08-26               Yes   \n",
       "2    R0092  8110050011     adv  2024-08-26               Yes   \n",
       "3    R0063  8110050010     adv  2024-08-26               Yes   \n",
       "4    R0113  8110020060     adv  2024-08-26               Yes   \n",
       "..     ...         ...     ...         ...               ...   \n",
       "118  R1474  8110060012     ref  2024-09-11               NaN   \n",
       "119  R0089  8110060012     ref  2024-09-18               Yes   \n",
       "120  R0393  8110050086      td  2024-08-13               Yes   \n",
       "121  R0582  8110050094      td  2024-07-31               Yes   \n",
       "122  R0183  8110020101      td  2024-08-09               Yes   \n",
       "\n",
       "    survivor_of_detention primary_torture secondary_torture  \\\n",
       "0                      No              No               Yes   \n",
       "1                     Yes             Yes               Yes   \n",
       "2                      No              No               Yes   \n",
       "3                      No              No               Yes   \n",
       "4                      No              No               Yes   \n",
       "..                    ...             ...               ...   \n",
       "118                   NaN             NaN               NaN   \n",
       "119                   Yes             Yes               Yes   \n",
       "120                   Yes             Yes               Yes   \n",
       "121                   Yes             Yes               Yes   \n",
       "122                    No              No               Yes   \n",
       "\n",
       "    sexual_violation_a sexual_violation_p  hrd journalist  wov stgbv lgbti  \\\n",
       "0                   No                 No   No         No  Yes    No    No   \n",
       "1                   No                 No  Yes        Yes  Yes    No    No   \n",
       "2                  NaN                NaN  NaN        NaN  Yes    No    No   \n",
       "3                  NaN                NaN  NaN        NaN  Yes    No    No   \n",
       "4                  NaN                NaN  NaN        NaN  Yes    No    No   \n",
       "..                 ...                ...  ...        ...  ...   ...   ...   \n",
       "118                NaN                NaN  NaN        NaN  NaN   NaN   NaN   \n",
       "119                NaN                NaN  NaN        NaN  Yes   Yes    No   \n",
       "120                NaN                NaN  NaN        NaN  Yes   Yes    No   \n",
       "121                Yes                 No   No         No  Yes    No    No   \n",
       "122                NaN                NaN  NaN        NaN  Yes    No    No   \n",
       "\n",
       "    other     sex  age  \n",
       "0      No  Female   37  \n",
       "1      No  Female   48  \n",
       "2      No  Female   46  \n",
       "3      No  Female   41  \n",
       "4      No  Female   42  \n",
       "..    ...     ...  ...  \n",
       "118   NaN  Female   47  \n",
       "119    No  Female   43  \n",
       "120    No  Female   48  \n",
       "121    No    Male   32  \n",
       "122    No    Male   48  \n",
       "\n",
       "[123 rows x 18 columns]"
      ],
      "text/html": [
       "<div>\n",
       "<style scoped>\n",
       "    .dataframe tbody tr th:only-of-type {\n",
       "        vertical-align: middle;\n",
       "    }\n",
       "\n",
       "    .dataframe tbody tr th {\n",
       "        vertical-align: top;\n",
       "    }\n",
       "\n",
       "    .dataframe thead th {\n",
       "        text-align: right;\n",
       "    }\n",
       "</style>\n",
       "<table border=\"1\" class=\"dataframe\">\n",
       "  <thead>\n",
       "    <tr style=\"text-align: right;\">\n",
       "      <th></th>\n",
       "      <th>rid</th>\n",
       "      <th>fcid</th>\n",
       "      <th>service</th>\n",
       "      <th>date</th>\n",
       "      <th>family_of_missing</th>\n",
       "      <th>survivor_of_detention</th>\n",
       "      <th>primary_torture</th>\n",
       "      <th>secondary_torture</th>\n",
       "      <th>sexual_violation_a</th>\n",
       "      <th>sexual_violation_p</th>\n",
       "      <th>hrd</th>\n",
       "      <th>journalist</th>\n",
       "      <th>wov</th>\n",
       "      <th>stgbv</th>\n",
       "      <th>lgbti</th>\n",
       "      <th>other</th>\n",
       "      <th>sex</th>\n",
       "      <th>age</th>\n",
       "    </tr>\n",
       "  </thead>\n",
       "  <tbody>\n",
       "    <tr>\n",
       "      <th>0</th>\n",
       "      <td>R0588</td>\n",
       "      <td>8110100010</td>\n",
       "      <td>adv</td>\n",
       "      <td>2024-08-26</td>\n",
       "      <td>Yes</td>\n",
       "      <td>No</td>\n",
       "      <td>No</td>\n",
       "      <td>Yes</td>\n",
       "      <td>No</td>\n",
       "      <td>No</td>\n",
       "      <td>No</td>\n",
       "      <td>No</td>\n",
       "      <td>Yes</td>\n",
       "      <td>No</td>\n",
       "      <td>No</td>\n",
       "      <td>No</td>\n",
       "      <td>Female</td>\n",
       "      <td>37</td>\n",
       "    </tr>\n",
       "    <tr>\n",
       "      <th>1</th>\n",
       "      <td>R0062</td>\n",
       "      <td>8110020048</td>\n",
       "      <td>adv</td>\n",
       "      <td>2024-08-26</td>\n",
       "      <td>Yes</td>\n",
       "      <td>Yes</td>\n",
       "      <td>Yes</td>\n",
       "      <td>Yes</td>\n",
       "      <td>No</td>\n",
       "      <td>No</td>\n",
       "      <td>Yes</td>\n",
       "      <td>Yes</td>\n",
       "      <td>Yes</td>\n",
       "      <td>No</td>\n",
       "      <td>No</td>\n",
       "      <td>No</td>\n",
       "      <td>Female</td>\n",
       "      <td>48</td>\n",
       "    </tr>\n",
       "    <tr>\n",
       "      <th>2</th>\n",
       "      <td>R0092</td>\n",
       "      <td>8110050011</td>\n",
       "      <td>adv</td>\n",
       "      <td>2024-08-26</td>\n",
       "      <td>Yes</td>\n",
       "      <td>No</td>\n",
       "      <td>No</td>\n",
       "      <td>Yes</td>\n",
       "      <td>NaN</td>\n",
       "      <td>NaN</td>\n",
       "      <td>NaN</td>\n",
       "      <td>NaN</td>\n",
       "      <td>Yes</td>\n",
       "      <td>No</td>\n",
       "      <td>No</td>\n",
       "      <td>No</td>\n",
       "      <td>Female</td>\n",
       "      <td>46</td>\n",
       "    </tr>\n",
       "    <tr>\n",
       "      <th>3</th>\n",
       "      <td>R0063</td>\n",
       "      <td>8110050010</td>\n",
       "      <td>adv</td>\n",
       "      <td>2024-08-26</td>\n",
       "      <td>Yes</td>\n",
       "      <td>No</td>\n",
       "      <td>No</td>\n",
       "      <td>Yes</td>\n",
       "      <td>NaN</td>\n",
       "      <td>NaN</td>\n",
       "      <td>NaN</td>\n",
       "      <td>NaN</td>\n",
       "      <td>Yes</td>\n",
       "      <td>No</td>\n",
       "      <td>No</td>\n",
       "      <td>No</td>\n",
       "      <td>Female</td>\n",
       "      <td>41</td>\n",
       "    </tr>\n",
       "    <tr>\n",
       "      <th>4</th>\n",
       "      <td>R0113</td>\n",
       "      <td>8110020060</td>\n",
       "      <td>adv</td>\n",
       "      <td>2024-08-26</td>\n",
       "      <td>Yes</td>\n",
       "      <td>No</td>\n",
       "      <td>No</td>\n",
       "      <td>Yes</td>\n",
       "      <td>NaN</td>\n",
       "      <td>NaN</td>\n",
       "      <td>NaN</td>\n",
       "      <td>NaN</td>\n",
       "      <td>Yes</td>\n",
       "      <td>No</td>\n",
       "      <td>No</td>\n",
       "      <td>No</td>\n",
       "      <td>Female</td>\n",
       "      <td>42</td>\n",
       "    </tr>\n",
       "    <tr>\n",
       "      <th>...</th>\n",
       "      <td>...</td>\n",
       "      <td>...</td>\n",
       "      <td>...</td>\n",
       "      <td>...</td>\n",
       "      <td>...</td>\n",
       "      <td>...</td>\n",
       "      <td>...</td>\n",
       "      <td>...</td>\n",
       "      <td>...</td>\n",
       "      <td>...</td>\n",
       "      <td>...</td>\n",
       "      <td>...</td>\n",
       "      <td>...</td>\n",
       "      <td>...</td>\n",
       "      <td>...</td>\n",
       "      <td>...</td>\n",
       "      <td>...</td>\n",
       "      <td>...</td>\n",
       "    </tr>\n",
       "    <tr>\n",
       "      <th>118</th>\n",
       "      <td>R1474</td>\n",
       "      <td>8110060012</td>\n",
       "      <td>ref</td>\n",
       "      <td>2024-09-11</td>\n",
       "      <td>NaN</td>\n",
       "      <td>NaN</td>\n",
       "      <td>NaN</td>\n",
       "      <td>NaN</td>\n",
       "      <td>NaN</td>\n",
       "      <td>NaN</td>\n",
       "      <td>NaN</td>\n",
       "      <td>NaN</td>\n",
       "      <td>NaN</td>\n",
       "      <td>NaN</td>\n",
       "      <td>NaN</td>\n",
       "      <td>NaN</td>\n",
       "      <td>Female</td>\n",
       "      <td>47</td>\n",
       "    </tr>\n",
       "    <tr>\n",
       "      <th>119</th>\n",
       "      <td>R0089</td>\n",
       "      <td>8110060012</td>\n",
       "      <td>ref</td>\n",
       "      <td>2024-09-18</td>\n",
       "      <td>Yes</td>\n",
       "      <td>Yes</td>\n",
       "      <td>Yes</td>\n",
       "      <td>Yes</td>\n",
       "      <td>NaN</td>\n",
       "      <td>NaN</td>\n",
       "      <td>NaN</td>\n",
       "      <td>NaN</td>\n",
       "      <td>Yes</td>\n",
       "      <td>Yes</td>\n",
       "      <td>No</td>\n",
       "      <td>No</td>\n",
       "      <td>Female</td>\n",
       "      <td>43</td>\n",
       "    </tr>\n",
       "    <tr>\n",
       "      <th>120</th>\n",
       "      <td>R0393</td>\n",
       "      <td>8110050086</td>\n",
       "      <td>td</td>\n",
       "      <td>2024-08-13</td>\n",
       "      <td>Yes</td>\n",
       "      <td>Yes</td>\n",
       "      <td>Yes</td>\n",
       "      <td>Yes</td>\n",
       "      <td>NaN</td>\n",
       "      <td>NaN</td>\n",
       "      <td>NaN</td>\n",
       "      <td>NaN</td>\n",
       "      <td>Yes</td>\n",
       "      <td>Yes</td>\n",
       "      <td>No</td>\n",
       "      <td>No</td>\n",
       "      <td>Female</td>\n",
       "      <td>48</td>\n",
       "    </tr>\n",
       "    <tr>\n",
       "      <th>121</th>\n",
       "      <td>R0582</td>\n",
       "      <td>8110050094</td>\n",
       "      <td>td</td>\n",
       "      <td>2024-07-31</td>\n",
       "      <td>Yes</td>\n",
       "      <td>Yes</td>\n",
       "      <td>Yes</td>\n",
       "      <td>Yes</td>\n",
       "      <td>Yes</td>\n",
       "      <td>No</td>\n",
       "      <td>No</td>\n",
       "      <td>No</td>\n",
       "      <td>Yes</td>\n",
       "      <td>No</td>\n",
       "      <td>No</td>\n",
       "      <td>No</td>\n",
       "      <td>Male</td>\n",
       "      <td>32</td>\n",
       "    </tr>\n",
       "    <tr>\n",
       "      <th>122</th>\n",
       "      <td>R0183</td>\n",
       "      <td>8110020101</td>\n",
       "      <td>td</td>\n",
       "      <td>2024-08-09</td>\n",
       "      <td>Yes</td>\n",
       "      <td>No</td>\n",
       "      <td>No</td>\n",
       "      <td>Yes</td>\n",
       "      <td>NaN</td>\n",
       "      <td>NaN</td>\n",
       "      <td>NaN</td>\n",
       "      <td>NaN</td>\n",
       "      <td>Yes</td>\n",
       "      <td>No</td>\n",
       "      <td>No</td>\n",
       "      <td>No</td>\n",
       "      <td>Male</td>\n",
       "      <td>48</td>\n",
       "    </tr>\n",
       "  </tbody>\n",
       "</table>\n",
       "<p>123 rows × 18 columns</p>\n",
       "</div>"
      ]
     },
     "execution_count": 29,
     "metadata": {},
     "output_type": "execute_result"
    }
   ],
   "execution_count": 29
  },
  {
   "metadata": {
    "ExecuteTime": {
     "end_time": "2024-10-15T14:11:07.960690Z",
     "start_time": "2024-10-15T14:11:07.279250Z"
    }
   },
   "cell_type": "code",
   "source": [
    "# intake rebuild test\n",
    "from src.rebuild_dataframe import *\n",
    "# rebuilt_df = rebuild_dataframe(df, 'id', merge_strategies=custom_strategies, chunk_size=2)\n",
    "rebuilt_intake = rebuild_dataframe(intake_dataset, 'rid')"
   ],
   "id": "267f7915fcb60d66",
   "outputs": [
    {
     "name": "stderr",
     "output_type": "stream",
     "text": [
      "INFO:src.rebuild_dataframe:Processed 327 records so far.\n"
     ]
    }
   ],
   "execution_count": 30
  },
  {
   "metadata": {
    "ExecuteTime": {
     "end_time": "2024-10-15T14:15:31.672232Z",
     "start_time": "2024-10-15T14:15:31.651064Z"
    }
   },
   "cell_type": "code",
   "source": "intake_dataset[intake_dataset.duplicated(subset=['rid'])]",
   "id": "958ac1dbf7b6f318",
   "outputs": [
    {
     "data": {
      "text/plain": [
       "    intsp  ntspi    rid        fcid firstname lastname                nt_s1  \\\n",
       "167    SA     84  R0489  8110050078       مجد     محمد  2022-09-08 00:00:00   \n",
       "193    SA    110  R0905  8110050104       علي    العمر  2023-10-25 00:00:00   \n",
       "194    SA    111  R0864  8110050105      فدوى    حفيان  2023-10-27 00:00:00   \n",
       "236    YQ     38  R0062  8110020048      سوسن    دومان  2021-05-25 00:00:00   \n",
       "\n",
       "                   nt_s2                nt_s3 nt_re  ... secondary_torture  \\\n",
       "167  2022-09-26 00:00:00  2022-09-28 00:00:00   NaN  ...               Yes   \n",
       "193  2023-10-30 00:00:00                  NaN   NaN  ...               Yes   \n",
       "194  2023-11-09 00:00:00                  NaN   NaN  ...               Yes   \n",
       "236  2021-06-15 00:00:00                  NaN   NaN  ...               Yes   \n",
       "\n",
       "    sexual_violation_a sexual_violation_p  hrd journalist  wov stgbv lgbti  \\\n",
       "167                NaN                NaN  NaN        NaN  Yes    No    No   \n",
       "193                 No                Yes   No         No  Yes    No    No   \n",
       "194                 No                 No   No         No  Yes    No    No   \n",
       "236                NaN                NaN  NaN        NaN  Yes    No    No   \n",
       "\n",
       "    other note  \n",
       "167    No  NaN  \n",
       "193    No  NaN  \n",
       "194    No  NaN  \n",
       "236    No  NaN  \n",
       "\n",
       "[4 rows x 23 columns]"
      ],
      "text/html": [
       "<div>\n",
       "<style scoped>\n",
       "    .dataframe tbody tr th:only-of-type {\n",
       "        vertical-align: middle;\n",
       "    }\n",
       "\n",
       "    .dataframe tbody tr th {\n",
       "        vertical-align: top;\n",
       "    }\n",
       "\n",
       "    .dataframe thead th {\n",
       "        text-align: right;\n",
       "    }\n",
       "</style>\n",
       "<table border=\"1\" class=\"dataframe\">\n",
       "  <thead>\n",
       "    <tr style=\"text-align: right;\">\n",
       "      <th></th>\n",
       "      <th>intsp</th>\n",
       "      <th>ntspi</th>\n",
       "      <th>rid</th>\n",
       "      <th>fcid</th>\n",
       "      <th>firstname</th>\n",
       "      <th>lastname</th>\n",
       "      <th>nt_s1</th>\n",
       "      <th>nt_s2</th>\n",
       "      <th>nt_s3</th>\n",
       "      <th>nt_re</th>\n",
       "      <th>...</th>\n",
       "      <th>secondary_torture</th>\n",
       "      <th>sexual_violation_a</th>\n",
       "      <th>sexual_violation_p</th>\n",
       "      <th>hrd</th>\n",
       "      <th>journalist</th>\n",
       "      <th>wov</th>\n",
       "      <th>stgbv</th>\n",
       "      <th>lgbti</th>\n",
       "      <th>other</th>\n",
       "      <th>note</th>\n",
       "    </tr>\n",
       "  </thead>\n",
       "  <tbody>\n",
       "    <tr>\n",
       "      <th>167</th>\n",
       "      <td>SA</td>\n",
       "      <td>84</td>\n",
       "      <td>R0489</td>\n",
       "      <td>8110050078</td>\n",
       "      <td>مجد</td>\n",
       "      <td>محمد</td>\n",
       "      <td>2022-09-08 00:00:00</td>\n",
       "      <td>2022-09-26 00:00:00</td>\n",
       "      <td>2022-09-28 00:00:00</td>\n",
       "      <td>NaN</td>\n",
       "      <td>...</td>\n",
       "      <td>Yes</td>\n",
       "      <td>NaN</td>\n",
       "      <td>NaN</td>\n",
       "      <td>NaN</td>\n",
       "      <td>NaN</td>\n",
       "      <td>Yes</td>\n",
       "      <td>No</td>\n",
       "      <td>No</td>\n",
       "      <td>No</td>\n",
       "      <td>NaN</td>\n",
       "    </tr>\n",
       "    <tr>\n",
       "      <th>193</th>\n",
       "      <td>SA</td>\n",
       "      <td>110</td>\n",
       "      <td>R0905</td>\n",
       "      <td>8110050104</td>\n",
       "      <td>علي</td>\n",
       "      <td>العمر</td>\n",
       "      <td>2023-10-25 00:00:00</td>\n",
       "      <td>2023-10-30 00:00:00</td>\n",
       "      <td>NaN</td>\n",
       "      <td>NaN</td>\n",
       "      <td>...</td>\n",
       "      <td>Yes</td>\n",
       "      <td>No</td>\n",
       "      <td>Yes</td>\n",
       "      <td>No</td>\n",
       "      <td>No</td>\n",
       "      <td>Yes</td>\n",
       "      <td>No</td>\n",
       "      <td>No</td>\n",
       "      <td>No</td>\n",
       "      <td>NaN</td>\n",
       "    </tr>\n",
       "    <tr>\n",
       "      <th>194</th>\n",
       "      <td>SA</td>\n",
       "      <td>111</td>\n",
       "      <td>R0864</td>\n",
       "      <td>8110050105</td>\n",
       "      <td>فدوى</td>\n",
       "      <td>حفيان</td>\n",
       "      <td>2023-10-27 00:00:00</td>\n",
       "      <td>2023-11-09 00:00:00</td>\n",
       "      <td>NaN</td>\n",
       "      <td>NaN</td>\n",
       "      <td>...</td>\n",
       "      <td>Yes</td>\n",
       "      <td>No</td>\n",
       "      <td>No</td>\n",
       "      <td>No</td>\n",
       "      <td>No</td>\n",
       "      <td>Yes</td>\n",
       "      <td>No</td>\n",
       "      <td>No</td>\n",
       "      <td>No</td>\n",
       "      <td>NaN</td>\n",
       "    </tr>\n",
       "    <tr>\n",
       "      <th>236</th>\n",
       "      <td>YQ</td>\n",
       "      <td>38</td>\n",
       "      <td>R0062</td>\n",
       "      <td>8110020048</td>\n",
       "      <td>سوسن</td>\n",
       "      <td>دومان</td>\n",
       "      <td>2021-05-25 00:00:00</td>\n",
       "      <td>2021-06-15 00:00:00</td>\n",
       "      <td>NaN</td>\n",
       "      <td>NaN</td>\n",
       "      <td>...</td>\n",
       "      <td>Yes</td>\n",
       "      <td>NaN</td>\n",
       "      <td>NaN</td>\n",
       "      <td>NaN</td>\n",
       "      <td>NaN</td>\n",
       "      <td>Yes</td>\n",
       "      <td>No</td>\n",
       "      <td>No</td>\n",
       "      <td>No</td>\n",
       "      <td>NaN</td>\n",
       "    </tr>\n",
       "  </tbody>\n",
       "</table>\n",
       "<p>4 rows × 23 columns</p>\n",
       "</div>"
      ]
     },
     "execution_count": 33,
     "metadata": {},
     "output_type": "execute_result"
    }
   ],
   "execution_count": 33
  },
  {
   "metadata": {
    "ExecuteTime": {
     "end_time": "2024-10-15T14:11:25.885088Z",
     "start_time": "2024-10-15T14:11:25.857609Z"
    }
   },
   "cell_type": "code",
   "source": "rebuilt_intake",
   "id": "97580b56f35ea587",
   "outputs": [
    {
     "data": {
      "text/plain": [
       "    intsp  ntspi    rid        fcid firstname lastname                nt_s1  \\\n",
       "0      YQ     16  R0001  8110020026      كوثر   العيسى  2020-01-02 00:00:00   \n",
       "1      YQ      8  R0002  8110020018     عائشة    مرندي  2020-01-03 00:00:00   \n",
       "2      YQ      5  R0003  8110020015      عبير     خطيب  2020-01-06 00:00:00   \n",
       "3      YQ      9  R0004  8110020019      عبير     علوش  2020-01-06 00:00:00   \n",
       "4      YQ     11  R0005  8110020021     فاطمة    العلي  2020-01-06 00:00:00   \n",
       "..    ...    ...    ...         ...       ...      ...                  ...   \n",
       "322    IJ     34  R1277  8110080027     اصالة     محمد  2024-04-25 00:00:00   \n",
       "323    MT     19  R1282  8110110019       منى   الخالد  2024-05-14 00:00:00   \n",
       "324    MT     20  R1284  8110110020      كوثر     نزال  2024-05-16 00:00:00   \n",
       "325    IJ     38  R1346  8110080029     ايمان     محمد  2024-05-23 00:00:00   \n",
       "326    IJ     40  R1452  8110080031      احمد     دعاس  2024-09-04 00:00:00   \n",
       "\n",
       "                   nt_s2                nt_s3                nt_re  ...  \\\n",
       "0    2020-01-09 00:00:00  2020-01-17 00:00:00                  NaN  ...   \n",
       "1    2020-01-20 00:00:00                  NaN  2020-10-28 00:00:00  ...   \n",
       "2    2020-01-13 00:00:00                  NaN  2021-11-23 00:00:00  ...   \n",
       "3    2020-01-31 00:00:00                  NaN                  NaN  ...   \n",
       "4    2020-01-20 00:00:00                  NaN                  NaN  ...   \n",
       "..                   ...                  ...                  ...  ...   \n",
       "322  2024-04-30 00:00:00                  NaN  2024-09-10 00:00:00  ...   \n",
       "323  2024-05-17 00:00:00                  NaN                  NaN  ...   \n",
       "324  2024-05-21 00:00:00                  NaN                  NaN  ...   \n",
       "325  2024-05-27 00:00:00                  NaN                  NaN  ...   \n",
       "326  2024-09-09 00:00:00                  NaN                  NaN  ...   \n",
       "\n",
       "    secondary_torture sexual_violation_a sexual_violation_p  hrd journalist  \\\n",
       "0                 Yes                NaN                NaN  NaN        NaN   \n",
       "1                 Yes                NaN                NaN  NaN        NaN   \n",
       "2                 Yes                NaN                NaN  NaN        NaN   \n",
       "3                  No                NaN                NaN  NaN        NaN   \n",
       "4                  No                NaN                NaN  NaN        NaN   \n",
       "..                ...                ...                ...  ...        ...   \n",
       "322               Yes                 No                Yes   No         No   \n",
       "323               Yes                 No                 No   No         No   \n",
       "324               Yes                 No                 No   No         No   \n",
       "325               Yes                 No                 No   No         No   \n",
       "326               Yes                 No                Yes  Yes         No   \n",
       "\n",
       "     wov stgbv lgbti other note  \n",
       "0    Yes    No    No    No  NaN  \n",
       "1    Yes    No    No    No  NaN  \n",
       "2    Yes   Yes    No    No  NaN  \n",
       "3    Yes    No    No    No  NaN  \n",
       "4    Yes    No    No    No  NaN  \n",
       "..   ...   ...   ...   ...  ...  \n",
       "322  Yes    No    No    No  NaN  \n",
       "323  Yes    No    No    No  NaN  \n",
       "324  Yes    No    No    No  NaN  \n",
       "325  Yes    No    No    No  NaN  \n",
       "326  Yes    No    No    No  NaN  \n",
       "\n",
       "[327 rows x 23 columns]"
      ],
      "text/html": [
       "<div>\n",
       "<style scoped>\n",
       "    .dataframe tbody tr th:only-of-type {\n",
       "        vertical-align: middle;\n",
       "    }\n",
       "\n",
       "    .dataframe tbody tr th {\n",
       "        vertical-align: top;\n",
       "    }\n",
       "\n",
       "    .dataframe thead th {\n",
       "        text-align: right;\n",
       "    }\n",
       "</style>\n",
       "<table border=\"1\" class=\"dataframe\">\n",
       "  <thead>\n",
       "    <tr style=\"text-align: right;\">\n",
       "      <th></th>\n",
       "      <th>intsp</th>\n",
       "      <th>ntspi</th>\n",
       "      <th>rid</th>\n",
       "      <th>fcid</th>\n",
       "      <th>firstname</th>\n",
       "      <th>lastname</th>\n",
       "      <th>nt_s1</th>\n",
       "      <th>nt_s2</th>\n",
       "      <th>nt_s3</th>\n",
       "      <th>nt_re</th>\n",
       "      <th>...</th>\n",
       "      <th>secondary_torture</th>\n",
       "      <th>sexual_violation_a</th>\n",
       "      <th>sexual_violation_p</th>\n",
       "      <th>hrd</th>\n",
       "      <th>journalist</th>\n",
       "      <th>wov</th>\n",
       "      <th>stgbv</th>\n",
       "      <th>lgbti</th>\n",
       "      <th>other</th>\n",
       "      <th>note</th>\n",
       "    </tr>\n",
       "  </thead>\n",
       "  <tbody>\n",
       "    <tr>\n",
       "      <th>0</th>\n",
       "      <td>YQ</td>\n",
       "      <td>16</td>\n",
       "      <td>R0001</td>\n",
       "      <td>8110020026</td>\n",
       "      <td>كوثر</td>\n",
       "      <td>العيسى</td>\n",
       "      <td>2020-01-02 00:00:00</td>\n",
       "      <td>2020-01-09 00:00:00</td>\n",
       "      <td>2020-01-17 00:00:00</td>\n",
       "      <td>NaN</td>\n",
       "      <td>...</td>\n",
       "      <td>Yes</td>\n",
       "      <td>NaN</td>\n",
       "      <td>NaN</td>\n",
       "      <td>NaN</td>\n",
       "      <td>NaN</td>\n",
       "      <td>Yes</td>\n",
       "      <td>No</td>\n",
       "      <td>No</td>\n",
       "      <td>No</td>\n",
       "      <td>NaN</td>\n",
       "    </tr>\n",
       "    <tr>\n",
       "      <th>1</th>\n",
       "      <td>YQ</td>\n",
       "      <td>8</td>\n",
       "      <td>R0002</td>\n",
       "      <td>8110020018</td>\n",
       "      <td>عائشة</td>\n",
       "      <td>مرندي</td>\n",
       "      <td>2020-01-03 00:00:00</td>\n",
       "      <td>2020-01-20 00:00:00</td>\n",
       "      <td>NaN</td>\n",
       "      <td>2020-10-28 00:00:00</td>\n",
       "      <td>...</td>\n",
       "      <td>Yes</td>\n",
       "      <td>NaN</td>\n",
       "      <td>NaN</td>\n",
       "      <td>NaN</td>\n",
       "      <td>NaN</td>\n",
       "      <td>Yes</td>\n",
       "      <td>No</td>\n",
       "      <td>No</td>\n",
       "      <td>No</td>\n",
       "      <td>NaN</td>\n",
       "    </tr>\n",
       "    <tr>\n",
       "      <th>2</th>\n",
       "      <td>YQ</td>\n",
       "      <td>5</td>\n",
       "      <td>R0003</td>\n",
       "      <td>8110020015</td>\n",
       "      <td>عبير</td>\n",
       "      <td>خطيب</td>\n",
       "      <td>2020-01-06 00:00:00</td>\n",
       "      <td>2020-01-13 00:00:00</td>\n",
       "      <td>NaN</td>\n",
       "      <td>2021-11-23 00:00:00</td>\n",
       "      <td>...</td>\n",
       "      <td>Yes</td>\n",
       "      <td>NaN</td>\n",
       "      <td>NaN</td>\n",
       "      <td>NaN</td>\n",
       "      <td>NaN</td>\n",
       "      <td>Yes</td>\n",
       "      <td>Yes</td>\n",
       "      <td>No</td>\n",
       "      <td>No</td>\n",
       "      <td>NaN</td>\n",
       "    </tr>\n",
       "    <tr>\n",
       "      <th>3</th>\n",
       "      <td>YQ</td>\n",
       "      <td>9</td>\n",
       "      <td>R0004</td>\n",
       "      <td>8110020019</td>\n",
       "      <td>عبير</td>\n",
       "      <td>علوش</td>\n",
       "      <td>2020-01-06 00:00:00</td>\n",
       "      <td>2020-01-31 00:00:00</td>\n",
       "      <td>NaN</td>\n",
       "      <td>NaN</td>\n",
       "      <td>...</td>\n",
       "      <td>No</td>\n",
       "      <td>NaN</td>\n",
       "      <td>NaN</td>\n",
       "      <td>NaN</td>\n",
       "      <td>NaN</td>\n",
       "      <td>Yes</td>\n",
       "      <td>No</td>\n",
       "      <td>No</td>\n",
       "      <td>No</td>\n",
       "      <td>NaN</td>\n",
       "    </tr>\n",
       "    <tr>\n",
       "      <th>4</th>\n",
       "      <td>YQ</td>\n",
       "      <td>11</td>\n",
       "      <td>R0005</td>\n",
       "      <td>8110020021</td>\n",
       "      <td>فاطمة</td>\n",
       "      <td>العلي</td>\n",
       "      <td>2020-01-06 00:00:00</td>\n",
       "      <td>2020-01-20 00:00:00</td>\n",
       "      <td>NaN</td>\n",
       "      <td>NaN</td>\n",
       "      <td>...</td>\n",
       "      <td>No</td>\n",
       "      <td>NaN</td>\n",
       "      <td>NaN</td>\n",
       "      <td>NaN</td>\n",
       "      <td>NaN</td>\n",
       "      <td>Yes</td>\n",
       "      <td>No</td>\n",
       "      <td>No</td>\n",
       "      <td>No</td>\n",
       "      <td>NaN</td>\n",
       "    </tr>\n",
       "    <tr>\n",
       "      <th>...</th>\n",
       "      <td>...</td>\n",
       "      <td>...</td>\n",
       "      <td>...</td>\n",
       "      <td>...</td>\n",
       "      <td>...</td>\n",
       "      <td>...</td>\n",
       "      <td>...</td>\n",
       "      <td>...</td>\n",
       "      <td>...</td>\n",
       "      <td>...</td>\n",
       "      <td>...</td>\n",
       "      <td>...</td>\n",
       "      <td>...</td>\n",
       "      <td>...</td>\n",
       "      <td>...</td>\n",
       "      <td>...</td>\n",
       "      <td>...</td>\n",
       "      <td>...</td>\n",
       "      <td>...</td>\n",
       "      <td>...</td>\n",
       "      <td>...</td>\n",
       "    </tr>\n",
       "    <tr>\n",
       "      <th>322</th>\n",
       "      <td>IJ</td>\n",
       "      <td>34</td>\n",
       "      <td>R1277</td>\n",
       "      <td>8110080027</td>\n",
       "      <td>اصالة</td>\n",
       "      <td>محمد</td>\n",
       "      <td>2024-04-25 00:00:00</td>\n",
       "      <td>2024-04-30 00:00:00</td>\n",
       "      <td>NaN</td>\n",
       "      <td>2024-09-10 00:00:00</td>\n",
       "      <td>...</td>\n",
       "      <td>Yes</td>\n",
       "      <td>No</td>\n",
       "      <td>Yes</td>\n",
       "      <td>No</td>\n",
       "      <td>No</td>\n",
       "      <td>Yes</td>\n",
       "      <td>No</td>\n",
       "      <td>No</td>\n",
       "      <td>No</td>\n",
       "      <td>NaN</td>\n",
       "    </tr>\n",
       "    <tr>\n",
       "      <th>323</th>\n",
       "      <td>MT</td>\n",
       "      <td>19</td>\n",
       "      <td>R1282</td>\n",
       "      <td>8110110019</td>\n",
       "      <td>منى</td>\n",
       "      <td>الخالد</td>\n",
       "      <td>2024-05-14 00:00:00</td>\n",
       "      <td>2024-05-17 00:00:00</td>\n",
       "      <td>NaN</td>\n",
       "      <td>NaN</td>\n",
       "      <td>...</td>\n",
       "      <td>Yes</td>\n",
       "      <td>No</td>\n",
       "      <td>No</td>\n",
       "      <td>No</td>\n",
       "      <td>No</td>\n",
       "      <td>Yes</td>\n",
       "      <td>No</td>\n",
       "      <td>No</td>\n",
       "      <td>No</td>\n",
       "      <td>NaN</td>\n",
       "    </tr>\n",
       "    <tr>\n",
       "      <th>324</th>\n",
       "      <td>MT</td>\n",
       "      <td>20</td>\n",
       "      <td>R1284</td>\n",
       "      <td>8110110020</td>\n",
       "      <td>كوثر</td>\n",
       "      <td>نزال</td>\n",
       "      <td>2024-05-16 00:00:00</td>\n",
       "      <td>2024-05-21 00:00:00</td>\n",
       "      <td>NaN</td>\n",
       "      <td>NaN</td>\n",
       "      <td>...</td>\n",
       "      <td>Yes</td>\n",
       "      <td>No</td>\n",
       "      <td>No</td>\n",
       "      <td>No</td>\n",
       "      <td>No</td>\n",
       "      <td>Yes</td>\n",
       "      <td>No</td>\n",
       "      <td>No</td>\n",
       "      <td>No</td>\n",
       "      <td>NaN</td>\n",
       "    </tr>\n",
       "    <tr>\n",
       "      <th>325</th>\n",
       "      <td>IJ</td>\n",
       "      <td>38</td>\n",
       "      <td>R1346</td>\n",
       "      <td>8110080029</td>\n",
       "      <td>ايمان</td>\n",
       "      <td>محمد</td>\n",
       "      <td>2024-05-23 00:00:00</td>\n",
       "      <td>2024-05-27 00:00:00</td>\n",
       "      <td>NaN</td>\n",
       "      <td>NaN</td>\n",
       "      <td>...</td>\n",
       "      <td>Yes</td>\n",
       "      <td>No</td>\n",
       "      <td>No</td>\n",
       "      <td>No</td>\n",
       "      <td>No</td>\n",
       "      <td>Yes</td>\n",
       "      <td>No</td>\n",
       "      <td>No</td>\n",
       "      <td>No</td>\n",
       "      <td>NaN</td>\n",
       "    </tr>\n",
       "    <tr>\n",
       "      <th>326</th>\n",
       "      <td>IJ</td>\n",
       "      <td>40</td>\n",
       "      <td>R1452</td>\n",
       "      <td>8110080031</td>\n",
       "      <td>احمد</td>\n",
       "      <td>دعاس</td>\n",
       "      <td>2024-09-04 00:00:00</td>\n",
       "      <td>2024-09-09 00:00:00</td>\n",
       "      <td>NaN</td>\n",
       "      <td>NaN</td>\n",
       "      <td>...</td>\n",
       "      <td>Yes</td>\n",
       "      <td>No</td>\n",
       "      <td>Yes</td>\n",
       "      <td>Yes</td>\n",
       "      <td>No</td>\n",
       "      <td>Yes</td>\n",
       "      <td>No</td>\n",
       "      <td>No</td>\n",
       "      <td>No</td>\n",
       "      <td>NaN</td>\n",
       "    </tr>\n",
       "  </tbody>\n",
       "</table>\n",
       "<p>327 rows × 23 columns</p>\n",
       "</div>"
      ]
     },
     "execution_count": 31,
     "metadata": {},
     "output_type": "execute_result"
    }
   ],
   "execution_count": 31
  },
  {
   "metadata": {
    "ExecuteTime": {
     "end_time": "2024-10-15T14:24:57.474298Z",
     "start_time": "2024-10-15T14:24:57.458977Z"
    }
   },
   "cell_type": "code",
   "source": [
    "uniq_hsh_report_reb = pd.merge(uniq_hsh_report, rebuilt_intake[int_criteria], on='rid', how='left')\n",
    "uniq_hsh_report_reb = pd.merge(uniq_hsh_report_reb, unique_scr[['rid', 'sex', 'age']], on='rid', how='left')"
   ],
   "id": "95e5cd591ee85d3a",
   "outputs": [],
   "execution_count": 34
  },
  {
   "metadata": {
    "ExecuteTime": {
     "end_time": "2024-10-15T14:25:01.437919Z",
     "start_time": "2024-10-15T14:25:01.421330Z"
    }
   },
   "cell_type": "code",
   "source": "uniq_hsh_report_reb",
   "id": "8c857f080f871562",
   "outputs": [
    {
     "data": {
      "text/plain": [
       "       rid        fcid service        date family_of_missing  \\\n",
       "0    R0588  8110100010     adv  2024-08-26               Yes   \n",
       "1    R0062  8110020048     adv  2024-08-26               Yes   \n",
       "2    R0092  8110050011     adv  2024-08-26               Yes   \n",
       "3    R0063  8110050010     adv  2024-08-26               Yes   \n",
       "4    R0113  8110020060     adv  2024-08-26               Yes   \n",
       "..     ...         ...     ...         ...               ...   \n",
       "118  R1474  8110060012     ref  2024-09-11               NaN   \n",
       "119  R0089  8110060012     ref  2024-09-18               Yes   \n",
       "120  R0393  8110050086      td  2024-08-13               Yes   \n",
       "121  R0582  8110050094      td  2024-07-31               Yes   \n",
       "122  R0183  8110020101      td  2024-08-09               Yes   \n",
       "\n",
       "    survivor_of_detention primary_torture secondary_torture  \\\n",
       "0                      No              No               Yes   \n",
       "1                     Yes             Yes               Yes   \n",
       "2                      No              No               Yes   \n",
       "3                      No              No               Yes   \n",
       "4                      No              No               Yes   \n",
       "..                    ...             ...               ...   \n",
       "118                   NaN             NaN               NaN   \n",
       "119                   Yes             Yes               Yes   \n",
       "120                   Yes             Yes               Yes   \n",
       "121                   Yes             Yes               Yes   \n",
       "122                    No              No               Yes   \n",
       "\n",
       "    sexual_violation_a sexual_violation_p  hrd journalist  wov stgbv lgbti  \\\n",
       "0                   No                 No   No         No  Yes    No    No   \n",
       "1                   No                 No  Yes        Yes  Yes    No    No   \n",
       "2                  NaN                NaN  NaN        NaN  Yes    No    No   \n",
       "3                  NaN                NaN  NaN        NaN  Yes    No    No   \n",
       "4                  NaN                NaN  NaN        NaN  Yes    No    No   \n",
       "..                 ...                ...  ...        ...  ...   ...   ...   \n",
       "118                NaN                NaN  NaN        NaN  NaN   NaN   NaN   \n",
       "119                NaN                NaN  NaN        NaN  Yes   Yes    No   \n",
       "120                NaN                NaN  NaN        NaN  Yes   Yes    No   \n",
       "121                Yes                 No   No         No  Yes    No    No   \n",
       "122                NaN                NaN  NaN        NaN  Yes    No    No   \n",
       "\n",
       "    other     sex  age  \n",
       "0      No  Female   37  \n",
       "1      No  Female   48  \n",
       "2      No  Female   46  \n",
       "3      No  Female   41  \n",
       "4      No  Female   42  \n",
       "..    ...     ...  ...  \n",
       "118   NaN  Female   47  \n",
       "119    No  Female   43  \n",
       "120    No  Female   48  \n",
       "121    No    Male   32  \n",
       "122    No    Male   48  \n",
       "\n",
       "[123 rows x 18 columns]"
      ],
      "text/html": [
       "<div>\n",
       "<style scoped>\n",
       "    .dataframe tbody tr th:only-of-type {\n",
       "        vertical-align: middle;\n",
       "    }\n",
       "\n",
       "    .dataframe tbody tr th {\n",
       "        vertical-align: top;\n",
       "    }\n",
       "\n",
       "    .dataframe thead th {\n",
       "        text-align: right;\n",
       "    }\n",
       "</style>\n",
       "<table border=\"1\" class=\"dataframe\">\n",
       "  <thead>\n",
       "    <tr style=\"text-align: right;\">\n",
       "      <th></th>\n",
       "      <th>rid</th>\n",
       "      <th>fcid</th>\n",
       "      <th>service</th>\n",
       "      <th>date</th>\n",
       "      <th>family_of_missing</th>\n",
       "      <th>survivor_of_detention</th>\n",
       "      <th>primary_torture</th>\n",
       "      <th>secondary_torture</th>\n",
       "      <th>sexual_violation_a</th>\n",
       "      <th>sexual_violation_p</th>\n",
       "      <th>hrd</th>\n",
       "      <th>journalist</th>\n",
       "      <th>wov</th>\n",
       "      <th>stgbv</th>\n",
       "      <th>lgbti</th>\n",
       "      <th>other</th>\n",
       "      <th>sex</th>\n",
       "      <th>age</th>\n",
       "    </tr>\n",
       "  </thead>\n",
       "  <tbody>\n",
       "    <tr>\n",
       "      <th>0</th>\n",
       "      <td>R0588</td>\n",
       "      <td>8110100010</td>\n",
       "      <td>adv</td>\n",
       "      <td>2024-08-26</td>\n",
       "      <td>Yes</td>\n",
       "      <td>No</td>\n",
       "      <td>No</td>\n",
       "      <td>Yes</td>\n",
       "      <td>No</td>\n",
       "      <td>No</td>\n",
       "      <td>No</td>\n",
       "      <td>No</td>\n",
       "      <td>Yes</td>\n",
       "      <td>No</td>\n",
       "      <td>No</td>\n",
       "      <td>No</td>\n",
       "      <td>Female</td>\n",
       "      <td>37</td>\n",
       "    </tr>\n",
       "    <tr>\n",
       "      <th>1</th>\n",
       "      <td>R0062</td>\n",
       "      <td>8110020048</td>\n",
       "      <td>adv</td>\n",
       "      <td>2024-08-26</td>\n",
       "      <td>Yes</td>\n",
       "      <td>Yes</td>\n",
       "      <td>Yes</td>\n",
       "      <td>Yes</td>\n",
       "      <td>No</td>\n",
       "      <td>No</td>\n",
       "      <td>Yes</td>\n",
       "      <td>Yes</td>\n",
       "      <td>Yes</td>\n",
       "      <td>No</td>\n",
       "      <td>No</td>\n",
       "      <td>No</td>\n",
       "      <td>Female</td>\n",
       "      <td>48</td>\n",
       "    </tr>\n",
       "    <tr>\n",
       "      <th>2</th>\n",
       "      <td>R0092</td>\n",
       "      <td>8110050011</td>\n",
       "      <td>adv</td>\n",
       "      <td>2024-08-26</td>\n",
       "      <td>Yes</td>\n",
       "      <td>No</td>\n",
       "      <td>No</td>\n",
       "      <td>Yes</td>\n",
       "      <td>NaN</td>\n",
       "      <td>NaN</td>\n",
       "      <td>NaN</td>\n",
       "      <td>NaN</td>\n",
       "      <td>Yes</td>\n",
       "      <td>No</td>\n",
       "      <td>No</td>\n",
       "      <td>No</td>\n",
       "      <td>Female</td>\n",
       "      <td>46</td>\n",
       "    </tr>\n",
       "    <tr>\n",
       "      <th>3</th>\n",
       "      <td>R0063</td>\n",
       "      <td>8110050010</td>\n",
       "      <td>adv</td>\n",
       "      <td>2024-08-26</td>\n",
       "      <td>Yes</td>\n",
       "      <td>No</td>\n",
       "      <td>No</td>\n",
       "      <td>Yes</td>\n",
       "      <td>NaN</td>\n",
       "      <td>NaN</td>\n",
       "      <td>NaN</td>\n",
       "      <td>NaN</td>\n",
       "      <td>Yes</td>\n",
       "      <td>No</td>\n",
       "      <td>No</td>\n",
       "      <td>No</td>\n",
       "      <td>Female</td>\n",
       "      <td>41</td>\n",
       "    </tr>\n",
       "    <tr>\n",
       "      <th>4</th>\n",
       "      <td>R0113</td>\n",
       "      <td>8110020060</td>\n",
       "      <td>adv</td>\n",
       "      <td>2024-08-26</td>\n",
       "      <td>Yes</td>\n",
       "      <td>No</td>\n",
       "      <td>No</td>\n",
       "      <td>Yes</td>\n",
       "      <td>NaN</td>\n",
       "      <td>NaN</td>\n",
       "      <td>NaN</td>\n",
       "      <td>NaN</td>\n",
       "      <td>Yes</td>\n",
       "      <td>No</td>\n",
       "      <td>No</td>\n",
       "      <td>No</td>\n",
       "      <td>Female</td>\n",
       "      <td>42</td>\n",
       "    </tr>\n",
       "    <tr>\n",
       "      <th>...</th>\n",
       "      <td>...</td>\n",
       "      <td>...</td>\n",
       "      <td>...</td>\n",
       "      <td>...</td>\n",
       "      <td>...</td>\n",
       "      <td>...</td>\n",
       "      <td>...</td>\n",
       "      <td>...</td>\n",
       "      <td>...</td>\n",
       "      <td>...</td>\n",
       "      <td>...</td>\n",
       "      <td>...</td>\n",
       "      <td>...</td>\n",
       "      <td>...</td>\n",
       "      <td>...</td>\n",
       "      <td>...</td>\n",
       "      <td>...</td>\n",
       "      <td>...</td>\n",
       "    </tr>\n",
       "    <tr>\n",
       "      <th>118</th>\n",
       "      <td>R1474</td>\n",
       "      <td>8110060012</td>\n",
       "      <td>ref</td>\n",
       "      <td>2024-09-11</td>\n",
       "      <td>NaN</td>\n",
       "      <td>NaN</td>\n",
       "      <td>NaN</td>\n",
       "      <td>NaN</td>\n",
       "      <td>NaN</td>\n",
       "      <td>NaN</td>\n",
       "      <td>NaN</td>\n",
       "      <td>NaN</td>\n",
       "      <td>NaN</td>\n",
       "      <td>NaN</td>\n",
       "      <td>NaN</td>\n",
       "      <td>NaN</td>\n",
       "      <td>Female</td>\n",
       "      <td>47</td>\n",
       "    </tr>\n",
       "    <tr>\n",
       "      <th>119</th>\n",
       "      <td>R0089</td>\n",
       "      <td>8110060012</td>\n",
       "      <td>ref</td>\n",
       "      <td>2024-09-18</td>\n",
       "      <td>Yes</td>\n",
       "      <td>Yes</td>\n",
       "      <td>Yes</td>\n",
       "      <td>Yes</td>\n",
       "      <td>NaN</td>\n",
       "      <td>NaN</td>\n",
       "      <td>NaN</td>\n",
       "      <td>NaN</td>\n",
       "      <td>Yes</td>\n",
       "      <td>Yes</td>\n",
       "      <td>No</td>\n",
       "      <td>No</td>\n",
       "      <td>Female</td>\n",
       "      <td>43</td>\n",
       "    </tr>\n",
       "    <tr>\n",
       "      <th>120</th>\n",
       "      <td>R0393</td>\n",
       "      <td>8110050086</td>\n",
       "      <td>td</td>\n",
       "      <td>2024-08-13</td>\n",
       "      <td>Yes</td>\n",
       "      <td>Yes</td>\n",
       "      <td>Yes</td>\n",
       "      <td>Yes</td>\n",
       "      <td>NaN</td>\n",
       "      <td>NaN</td>\n",
       "      <td>NaN</td>\n",
       "      <td>NaN</td>\n",
       "      <td>Yes</td>\n",
       "      <td>Yes</td>\n",
       "      <td>No</td>\n",
       "      <td>No</td>\n",
       "      <td>Female</td>\n",
       "      <td>48</td>\n",
       "    </tr>\n",
       "    <tr>\n",
       "      <th>121</th>\n",
       "      <td>R0582</td>\n",
       "      <td>8110050094</td>\n",
       "      <td>td</td>\n",
       "      <td>2024-07-31</td>\n",
       "      <td>Yes</td>\n",
       "      <td>Yes</td>\n",
       "      <td>Yes</td>\n",
       "      <td>Yes</td>\n",
       "      <td>Yes</td>\n",
       "      <td>No</td>\n",
       "      <td>No</td>\n",
       "      <td>No</td>\n",
       "      <td>Yes</td>\n",
       "      <td>No</td>\n",
       "      <td>No</td>\n",
       "      <td>No</td>\n",
       "      <td>Male</td>\n",
       "      <td>32</td>\n",
       "    </tr>\n",
       "    <tr>\n",
       "      <th>122</th>\n",
       "      <td>R0183</td>\n",
       "      <td>8110020101</td>\n",
       "      <td>td</td>\n",
       "      <td>2024-08-09</td>\n",
       "      <td>Yes</td>\n",
       "      <td>No</td>\n",
       "      <td>No</td>\n",
       "      <td>Yes</td>\n",
       "      <td>NaN</td>\n",
       "      <td>NaN</td>\n",
       "      <td>NaN</td>\n",
       "      <td>NaN</td>\n",
       "      <td>Yes</td>\n",
       "      <td>No</td>\n",
       "      <td>No</td>\n",
       "      <td>No</td>\n",
       "      <td>Male</td>\n",
       "      <td>48</td>\n",
       "    </tr>\n",
       "  </tbody>\n",
       "</table>\n",
       "<p>123 rows × 18 columns</p>\n",
       "</div>"
      ]
     },
     "execution_count": 35,
     "metadata": {},
     "output_type": "execute_result"
    }
   ],
   "execution_count": 35
  }
 ],
 "metadata": {
  "kernelspec": {
   "display_name": "Python 3",
   "language": "python",
   "name": "python3"
  },
  "language_info": {
   "codemirror_mode": {
    "name": "ipython",
    "version": 2
   },
   "file_extension": ".py",
   "mimetype": "text/x-python",
   "name": "python",
   "nbconvert_exporter": "python",
   "pygments_lexer": "ipython2",
   "version": "2.7.6"
  }
 },
 "nbformat": 4,
 "nbformat_minor": 5
}
