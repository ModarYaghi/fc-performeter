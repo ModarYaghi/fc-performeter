{
 "cells": [
  {
   "cell_type": "code",
   "id": "initial_id",
   "metadata": {
    "collapsed": true,
    "ExecuteTime": {
     "end_time": "2024-10-16T08:15:45.027193Z",
     "start_time": "2024-10-16T08:15:42.359552Z"
    }
   },
   "source": [
    "import pandas as pd\n",
    "\n",
    "from src.all_in_one import *\n",
    "from src.basic_variables import *"
   ],
   "outputs": [],
   "execution_count": 1
  },
  {
   "cell_type": "markdown",
   "source": [
    "## PSYCHOSOCIAL INTAKE ASSESSMENT PROCESSING"
   ],
   "metadata": {
    "collapsed": false
   },
   "id": "9bd580849ff756a6"
  },
  {
   "cell_type": "code",
   "source": [
    "int_file = path_manager.get_data_file(Category.PS, PSFile.PSNT)\n",
    "intake = get_df(int_file.path, int_file.sheet, config_file)\n",
    "intake_24 = filter_dataframe_on_date(intake, 'nt_s2', START, END)\n",
    "# intake_24 = intake_24[intake_s2]\n",
    "# intake_24[\"service\"] = \"int\"\n",
    "# intake_24.rename(columns={\"nt_s2\": \"date\"}, inplace=True)"
   ],
   "metadata": {
    "collapsed": false,
    "ExecuteTime": {
     "end_time": "2024-10-16T08:19:07.980954Z",
     "start_time": "2024-10-16T08:19:07.876673Z"
    }
   },
   "id": "3bd277f5e79c3f74",
   "outputs": [],
   "execution_count": 2
  },
  {
   "metadata": {
    "ExecuteTime": {
     "end_time": "2024-10-16T08:19:12.428074Z",
     "start_time": "2024-10-16T08:19:12.402542Z"
    }
   },
   "cell_type": "code",
   "source": "intake_24",
   "id": "433df760c576554a",
   "outputs": [
    {
     "data": {
      "text/plain": [
       "   intsp  ntspi    rid        fcid firstname lastname      nt_s1      nt_s2  \\\n",
       "38    IJ     39  R0861  8110080030      جودي  حج احمد 2024-07-08 2024-07-12   \n",
       "39    IJ     40  R1452  8110080031      احمد     دعاس 2024-09-04 2024-09-09   \n",
       "\n",
       "   nt_s3 nt_re  ... secondary_torture sexual_violation_a sexual_violation_p  \\\n",
       "38   NaT   NaT  ...               Yes                 No                 No   \n",
       "39   NaT   NaT  ...               Yes                 No                Yes   \n",
       "\n",
       "    hrd journalist  wov stgbv lgbti other note  \n",
       "38   No         No  Yes    No    No    No  NaN  \n",
       "39  Yes         No  Yes    No    No    No  NaN  \n",
       "\n",
       "[2 rows x 23 columns]"
      ],
      "text/html": [
       "<div>\n",
       "<style scoped>\n",
       "    .dataframe tbody tr th:only-of-type {\n",
       "        vertical-align: middle;\n",
       "    }\n",
       "\n",
       "    .dataframe tbody tr th {\n",
       "        vertical-align: top;\n",
       "    }\n",
       "\n",
       "    .dataframe thead th {\n",
       "        text-align: right;\n",
       "    }\n",
       "</style>\n",
       "<table border=\"1\" class=\"dataframe\">\n",
       "  <thead>\n",
       "    <tr style=\"text-align: right;\">\n",
       "      <th></th>\n",
       "      <th>intsp</th>\n",
       "      <th>ntspi</th>\n",
       "      <th>rid</th>\n",
       "      <th>fcid</th>\n",
       "      <th>firstname</th>\n",
       "      <th>lastname</th>\n",
       "      <th>nt_s1</th>\n",
       "      <th>nt_s2</th>\n",
       "      <th>nt_s3</th>\n",
       "      <th>nt_re</th>\n",
       "      <th>...</th>\n",
       "      <th>secondary_torture</th>\n",
       "      <th>sexual_violation_a</th>\n",
       "      <th>sexual_violation_p</th>\n",
       "      <th>hrd</th>\n",
       "      <th>journalist</th>\n",
       "      <th>wov</th>\n",
       "      <th>stgbv</th>\n",
       "      <th>lgbti</th>\n",
       "      <th>other</th>\n",
       "      <th>note</th>\n",
       "    </tr>\n",
       "  </thead>\n",
       "  <tbody>\n",
       "    <tr>\n",
       "      <th>38</th>\n",
       "      <td>IJ</td>\n",
       "      <td>39</td>\n",
       "      <td>R0861</td>\n",
       "      <td>8110080030</td>\n",
       "      <td>جودي</td>\n",
       "      <td>حج احمد</td>\n",
       "      <td>2024-07-08</td>\n",
       "      <td>2024-07-12</td>\n",
       "      <td>NaT</td>\n",
       "      <td>NaT</td>\n",
       "      <td>...</td>\n",
       "      <td>Yes</td>\n",
       "      <td>No</td>\n",
       "      <td>No</td>\n",
       "      <td>No</td>\n",
       "      <td>No</td>\n",
       "      <td>Yes</td>\n",
       "      <td>No</td>\n",
       "      <td>No</td>\n",
       "      <td>No</td>\n",
       "      <td>NaN</td>\n",
       "    </tr>\n",
       "    <tr>\n",
       "      <th>39</th>\n",
       "      <td>IJ</td>\n",
       "      <td>40</td>\n",
       "      <td>R1452</td>\n",
       "      <td>8110080031</td>\n",
       "      <td>احمد</td>\n",
       "      <td>دعاس</td>\n",
       "      <td>2024-09-04</td>\n",
       "      <td>2024-09-09</td>\n",
       "      <td>NaT</td>\n",
       "      <td>NaT</td>\n",
       "      <td>...</td>\n",
       "      <td>Yes</td>\n",
       "      <td>No</td>\n",
       "      <td>Yes</td>\n",
       "      <td>Yes</td>\n",
       "      <td>No</td>\n",
       "      <td>Yes</td>\n",
       "      <td>No</td>\n",
       "      <td>No</td>\n",
       "      <td>No</td>\n",
       "      <td>NaN</td>\n",
       "    </tr>\n",
       "  </tbody>\n",
       "</table>\n",
       "<p>2 rows × 23 columns</p>\n",
       "</div>"
      ]
     },
     "execution_count": 3,
     "metadata": {},
     "output_type": "execute_result"
    }
   ],
   "execution_count": 3
  },
  {
   "cell_type": "code",
   "source": [
    "intake3_24 = filter_dataframe_on_date(intake, 'nt_s3', START, END)\n",
    "intake3_24 = intake3_24[intake_s3]\n",
    "intake3_24[\"service\"] = \"int\"\n",
    "intake3_24.rename(columns={\"nt_s3\": \"date\"}, inplace=True)"
   ],
   "metadata": {
    "collapsed": false,
    "ExecuteTime": {
     "end_time": "2024-10-14T10:40:45.720624Z",
     "start_time": "2024-10-14T10:40:45.712246Z"
    }
   },
   "id": "2d5fbae3de9ac652",
   "outputs": [],
   "execution_count": 11
  },
  {
   "metadata": {
    "ExecuteTime": {
     "end_time": "2024-10-14T10:40:45.769194Z",
     "start_time": "2024-10-14T10:40:45.765138Z"
    }
   },
   "cell_type": "code",
   "source": "# intake3_24",
   "id": "3db9601ef25fd30a",
   "outputs": [],
   "execution_count": 12
  },
  {
   "cell_type": "markdown",
   "source": [
    "## PSYCHOSOCIAL RE-INTAKE ASSESSMENT PROCESSING"
   ],
   "metadata": {
    "collapsed": false
   },
   "id": "fce221b37aa3b482"
  },
  {
   "cell_type": "code",
   "source": [
    "reintake_24 = filter_dataframe_on_date(intake, 'nt_re', START, END)\n",
    "reintake_24 = reintake_24[intake_re]\n",
    "reintake_24[\"service\"] = \"re\"\n",
    "reintake_24.rename(columns={\"nt_re\": \"date\"}, inplace=True)"
   ],
   "metadata": {
    "collapsed": false,
    "ExecuteTime": {
     "end_time": "2024-10-14T10:40:45.826345Z",
     "start_time": "2024-10-14T10:40:45.815320Z"
    }
   },
   "id": "bccf37defd21eb2a",
   "outputs": [],
   "execution_count": 13
  },
  {
   "metadata": {
    "ExecuteTime": {
     "end_time": "2024-10-14T10:40:45.878772Z",
     "start_time": "2024-10-14T10:40:45.875082Z"
    }
   },
   "cell_type": "code",
   "source": "# reintake_24",
   "id": "ccfe5a99670859f8",
   "outputs": [],
   "execution_count": 14
  },
  {
   "cell_type": "code",
   "source": [
    "int24 = pd.concat([intake_24, intake3_24, reintake_24])\n",
    "int24 = pd.merge(int24, unique_scr[['rid', 'sex', 'age']], on='rid', how='left')"
   ],
   "metadata": {
    "collapsed": false,
    "ExecuteTime": {
     "end_time": "2024-10-14T10:40:45.932478Z",
     "start_time": "2024-10-14T10:40:45.925907Z"
    }
   },
   "id": "97466640bf06dbea",
   "outputs": [],
   "execution_count": 15
  },
  {
   "metadata": {
    "ExecuteTime": {
     "end_time": "2024-10-14T10:40:46.115249Z",
     "start_time": "2024-10-14T10:40:46.106951Z"
    }
   },
   "cell_type": "code",
   "source": "int24.to_csv(r\"../data/processed/hsh_report/intake324.csv\", index=False)",
   "id": "774940bd85471cc0",
   "outputs": [],
   "execution_count": 17
  },
  {
   "metadata": {
    "ExecuteTime": {
     "end_time": "2024-10-14T12:44:30.311599Z",
     "start_time": "2024-10-14T12:44:30.306191Z"
    }
   },
   "cell_type": "code",
   "source": [
    "# intake_test = pd.read_csv(r\"../data/processed/hsh_report/intake324.csv\")\n",
    "# intake_test"
   ],
   "id": "b25910e729fdfd2",
   "outputs": [],
   "execution_count": 5
  },
  {
   "cell_type": "code",
   "source": [
    "# _int24 = int24[int24['service'] == 'int']\n",
    "# reint24 = int24[int24['service'] == 're']\n",
    "# _int24_path= os.path.join(root, data, processed, \"unvfvt24\", \"intBeneficiaries24.csv\")\n",
    "# reint24_path= os.path.join(root, data, processed, \"unvfvt24\", \"reintBeneficiaries24.csv\")\n",
    "# _int24.to_csv(_int24_path, index=False)\n",
    "# reint24.to_csv(reint24_path, index=False)"
   ],
   "metadata": {
    "collapsed": false
   },
   "id": "86ab3bce1cd77002",
   "outputs": [],
   "execution_count": null
  },
  {
   "cell_type": "markdown",
   "source": [
    "## GROUP PSYCHOSOCIAL THERAPY COUNSELING PROCESSING"
   ],
   "metadata": {
    "collapsed": false
   },
   "id": "75a24c04a73bda93"
  },
  {
   "cell_type": "code",
   "source": [
    "gc_file = path_manager.get_data_file(Category.PS, PSFile.PSG)\n",
    "gc_dataset = Dataset(config_file, gc_file.sheet)\n",
    "gc = get_df(gc_file.path, gc_file.sheet, config_file)\n",
    "gc_24 = filter_dataframe_on_date(gc, gc_dataset.dvars, START, END)\n",
    "# gc_24 = gc_24[gc_24['gc_total'] >= 7]  # To be reconsidered \n",
    "gc_24_latestdate = gc_24[gc_dataset.dvars].max(axis=1)\n",
    "gc_24.insert(4, 'service', 'gc')\n",
    "gc_24.insert(5, 'date', gc_24_latestdate)"
   ],
   "metadata": {
    "collapsed": false,
    "ExecuteTime": {
     "end_time": "2024-10-14T10:55:03.564779Z",
     "start_time": "2024-10-14T10:55:03.322723Z"
    }
   },
   "id": "f834e4263ce87a39",
   "outputs": [],
   "execution_count": 20
  },
  {
   "cell_type": "code",
   "source": [
    "gc_24 = gc_24[['rid', 'fcid', 'service', 'date']]\n",
    "gc_24 = pd.merge(gc_24, unique_intake[int_criteria], on='rid', how='left')\n",
    "gc_24 = pd.merge(gc_24, unique_scr[['rid', 'sex', 'age']], on='rid', how='left')"
   ],
   "metadata": {
    "collapsed": false,
    "ExecuteTime": {
     "end_time": "2024-10-14T11:05:20.503846Z",
     "start_time": "2024-10-14T11:05:20.491427Z"
    }
   },
   "id": "54d802f358d3213a",
   "outputs": [],
   "execution_count": 24
  },
  {
   "metadata": {
    "ExecuteTime": {
     "end_time": "2024-10-14T11:06:29.460809Z",
     "start_time": "2024-10-14T11:06:29.456147Z"
    }
   },
   "cell_type": "code",
   "source": "# gc_24",
   "id": "2a4a85bc86ab703f",
   "outputs": [],
   "execution_count": 26
  },
  {
   "cell_type": "code",
   "source": "gc_24.to_csv(r\"../data/processed/hsh_report/gc324.csv\", index=False)",
   "metadata": {
    "collapsed": false,
    "ExecuteTime": {
     "end_time": "2024-10-14T11:07:43.109177Z",
     "start_time": "2024-10-14T11:07:43.100985Z"
    }
   },
   "id": "15ca971dcd356d42",
   "outputs": [],
   "execution_count": 27
  },
  {
   "cell_type": "markdown",
   "source": [
    "## INDIVIDUAL PSYCHOSOCIAL THERAPY COUNSELING PROCESSING"
   ],
   "metadata": {
    "collapsed": false
   },
   "id": "7d2690e8afc8ef86"
  },
  {
   "cell_type": "code",
   "source": [
    "# ic = get_df(ic_path, ic_sheet, config_file)\n",
    "ic_files = path_manager.get_data_file(Category.PS, PSFile.PSI)\n",
    "ic_dataset = Dataset(config_file, ic_files.sheet)\n",
    "ic = get_df(ic_files.path, ic_files.sheet, config_file)\n",
    "ic_24 = filter_dataframe_on_date(ic, ic_dataset.dvars, START, END)\n",
    "ic_24_latestdate = ic_24[ic_dataset.dvars].max(axis=1)\n",
    "ic_24.insert(4, \"service\", \"ic\")\n",
    "ic_24.insert(5, \"date\", ic_24_latestdate)\n",
    "ic_24 = ic_24[['rid', 'fcid', 'service', 'date']]\n",
    "# ic_24.rename(columns={'ic_total': 'session_num'}, inplace=True)\n",
    "ic_24 = pd.merge(ic_24, unique_intake[int_criteria], on='rid', how='left')\n",
    "ic_24 = pd.merge(ic_24, unique_scr[['rid', 'sex', 'age']], on='rid', how='left')"
   ],
   "metadata": {
    "collapsed": false,
    "ExecuteTime": {
     "end_time": "2024-10-14T11:14:51.763956Z",
     "start_time": "2024-10-14T11:14:51.528563Z"
    }
   },
   "id": "f489fa7e04ddff12",
   "outputs": [],
   "execution_count": 29
  },
  {
   "metadata": {
    "ExecuteTime": {
     "end_time": "2024-10-14T11:19:09.607766Z",
     "start_time": "2024-10-14T11:19:09.603797Z"
    }
   },
   "cell_type": "code",
   "source": "# ic_24",
   "id": "552de151ad432a4b",
   "outputs": [],
   "execution_count": 31
  },
  {
   "cell_type": "code",
   "source": "ic_24.to_csv(r\"../data/processed/hsh_report/ic324.csv\", index=False)",
   "metadata": {
    "collapsed": false,
    "ExecuteTime": {
     "end_time": "2024-10-14T11:19:42.460652Z",
     "start_time": "2024-10-14T11:19:42.454741Z"
    }
   },
   "id": "5b213831b39e847c",
   "outputs": [],
   "execution_count": 32
  },
  {
   "cell_type": "markdown",
   "source": [
    "## PSYCHOSOCIAL FOLLOW-UP ASSESSMENT PROCESSING"
   ],
   "metadata": {
    "collapsed": false
   },
   "id": "1f4235cd8ab93f2d"
  },
  {
   "cell_type": "code",
   "source": [
    "psfua_files = path_manager.get_data_file(Category.PS, PSFile.PSFU)\n",
    "psfua_dataset = Dataset(config_file, psfua_files.sheet)\n",
    "psfua = get_df(psfua_files.path, psfua_files.sheet, config_file)"
   ],
   "metadata": {
    "collapsed": false,
    "ExecuteTime": {
     "end_time": "2024-10-14T11:39:13.193452Z",
     "start_time": "2024-10-14T11:39:12.977609Z"
    }
   },
   "id": "dc5cf24111575d3e",
   "outputs": [],
   "execution_count": 34
  },
  {
   "metadata": {
    "ExecuteTime": {
     "end_time": "2024-10-14T11:40:08.357611Z",
     "start_time": "2024-10-14T11:40:08.348654Z"
    }
   },
   "cell_type": "code",
   "source": [
    "psfua3_24 = filter_dataframe_on_date(psfua, 'fu_3m', START, END)\n",
    "psfua3_24.insert(4, \"service\", \"psfua3\")\n",
    "psfua3_24 = psfua3_24[['rid', 'fcid', 'service', 'fu_3m']].copy()\n",
    "psfua3_24.rename(columns={'fu_3m': 'date'}, inplace=True)"
   ],
   "id": "d04e1eaaa866da8d",
   "outputs": [],
   "execution_count": 36
  },
  {
   "metadata": {
    "ExecuteTime": {
     "end_time": "2024-10-14T11:41:13.168606Z",
     "start_time": "2024-10-14T11:41:13.159622Z"
    }
   },
   "cell_type": "code",
   "source": [
    "psfua6_24 = filter_dataframe_on_date(psfua, 'fu_6m', START, END)\n",
    "psfua6_24.insert(4, \"service\", \"psfua6\")\n",
    "psfua6_24 = psfua6_24[['rid', 'fcid', 'service', 'fu_6m']].copy()\n",
    "psfua6_24.rename(columns={'fu_6m': 'date'}, inplace=True)"
   ],
   "id": "32f82aa52a66609c",
   "outputs": [],
   "execution_count": 38
  },
  {
   "metadata": {
    "ExecuteTime": {
     "end_time": "2024-10-14T11:42:01.329444Z",
     "start_time": "2024-10-14T11:42:01.320197Z"
    }
   },
   "cell_type": "code",
   "source": [
    "psfua12_24 = filter_dataframe_on_date(psfua, 'fu_12m', START, END)\n",
    "psfua12_24.insert(4, \"service\", \"psfua12\")\n",
    "psfua12_24 = psfua12_24[['rid', 'fcid', 'service', 'fu_12m']].copy()\n",
    "psfua12_24.rename(columns={'fu_12m': 'date'}, inplace=True)"
   ],
   "id": "ba2ffb415b0bdc5b",
   "outputs": [],
   "execution_count": 40
  },
  {
   "metadata": {},
   "cell_type": "code",
   "source": [
    "psfua3_24 = pd.merge(psfua3_24, unique_intake[int_criteria], on='rid', how='left')\n",
    "psfua3_24 = pd.merge(psfua3_24, unique_scr[['rid', 'sex', 'age']], on='rid', how='left')\n",
    "\n",
    "psfua6_24 = pd.merge(psfua6_24, unique_intake[int_criteria], on='rid', how='left')\n",
    "psfua6_24 = pd.merge(psfua6_24, unique_scr[['rid', 'sex', 'age']], on='rid', how='left')\n",
    "\n",
    "psfua12_24 = pd.merge(psfua12_24, unique_intake[int_criteria], on='rid', how='left')\n",
    "psfua12_24 = pd.merge(psfua12_24, unique_scr[['rid', 'sex', 'age']], on='rid', how='left')"
   ],
   "id": "ced917c8f8f36f25",
   "outputs": [],
   "execution_count": null
  },
  {
   "metadata": {
    "ExecuteTime": {
     "end_time": "2024-10-14T11:47:37.691061Z",
     "start_time": "2024-10-14T11:47:37.681017Z"
    }
   },
   "cell_type": "code",
   "source": [
    "psfua3_24.to_csv(r\"../data/processed/hsh_report/psfua324.csv\", index=False)\n",
    "psfua6_24.to_csv(r\"../data/processed/hsh_report/psfua624.csv\", index=False)\n",
    "psfua12_24.to_csv(r\"../data/processed/hsh_report/psfua1224.csv\", index=False)"
   ],
   "id": "7c0c1bc619cf3c16",
   "outputs": [],
   "execution_count": 42
  },
  {
   "cell_type": "markdown",
   "source": [
    "## THERAPUTIC DOCUMENTATION PROCESSING"
   ],
   "metadata": {
    "collapsed": false
   },
   "id": "ce2ff07984857a2b"
  },
  {
   "cell_type": "code",
   "source": [
    "td_file = path_manager.get_data_file(Category.PS, PSFile.TD)\n",
    "td_dataset = Dataset(config_file, td_file.sheet)\n",
    "td = get_df(td_file.path, td_file.sheet, config_file)\n",
    "\n",
    "td_24 = filter_dataframe_on_date(td, td_dataset.dvars, START, END)\n",
    "td_24_latestdate = td_24[td_dataset.dvars].max(axis=1)\n",
    "td_24.insert(4, \"service\", \"td\")\n",
    "td_24.insert(5, \"date\", td_24_latestdate)\n",
    "td_24 = td_24[['rid', 'fcid', 'service', 'date']]\n",
    "td_24 = pd.merge(td_24, unique_intake[int_criteria], on='rid', how='left')\n",
    "td_24 = pd.merge(td_24, unique_scr[['rid', 'sex', 'age']], on='rid', how='left')"
   ],
   "metadata": {
    "collapsed": false,
    "ExecuteTime": {
     "end_time": "2024-10-14T12:46:01.425350Z",
     "start_time": "2024-10-14T12:46:01.179540Z"
    }
   },
   "id": "78cbfa649a40b4bd",
   "outputs": [],
   "execution_count": 6
  },
  {
   "metadata": {
    "ExecuteTime": {
     "end_time": "2024-10-14T12:48:31.720034Z",
     "start_time": "2024-10-14T12:48:31.707937Z"
    }
   },
   "cell_type": "code",
   "source": "td_24.to_csv(r\"../data/processed/hsh_report/td324.csv\", index=False)",
   "id": "41d35d955a48df8f",
   "outputs": [],
   "execution_count": 8
  },
  {
   "metadata": {},
   "cell_type": "markdown",
   "source": [
    "### Creative Documentation Workshop\n",
    "Next time, TD should include all activities related to TD, where the output is one column contains value 1 if a beneficiary has participated in any activity of TD during the report period."
   ],
   "id": "61da0adf6f146d54"
  },
  {
   "metadata": {
    "ExecuteTime": {
     "end_time": "2024-10-14T13:16:47.485132Z",
     "start_time": "2024-10-14T13:16:47.261151Z"
    }
   },
   "cell_type": "code",
   "source": [
    "cws_file = path_manager.get_data_file(Category.PS, PSFile.CWS)\n",
    "cws_dataset = Dataset(config_file, cws_file.sheet)\n",
    "cws = get_df(cws_file.path, cws_file.sheet, config_file)\n",
    "\n",
    "cws_24 = filter_dataframe_on_date(cws, cws_dataset.dvars, START, END)\n",
    "cws_24_latestdate = cws_24[cws_dataset.dvars].max(axis=1)\n",
    "cws_24.insert(4, \"service\", \"cdw\")\n",
    "cws_24.insert(5, \"date\", cws_24_latestdate)\n",
    "cws_24 = cws_24[['rid', 'fcid', 'service', 'date']]\n",
    "cws_24 = pd.merge(cws_24, unique_intake[int_criteria], on='rid', how='left')\n",
    "cws_24 = pd.merge(cws_24, unique_scr[['rid', 'sex', 'age']], on='rid', how='left')"
   ],
   "id": "5f7dcb5ba5b6acda",
   "outputs": [],
   "execution_count": 18
  },
  {
   "metadata": {
    "ExecuteTime": {
     "end_time": "2024-10-14T13:18:48.175843Z",
     "start_time": "2024-10-14T13:18:48.168259Z"
    }
   },
   "cell_type": "code",
   "source": "cws_24.to_csv(r\"../data/processed/hsh_report/cws324.csv\", index=False)",
   "id": "22c03068caf6de3d",
   "outputs": [],
   "execution_count": 20
  },
  {
   "metadata": {},
   "cell_type": "markdown",
   "source": "## Trauma Resilience Workshop PROCESSING",
   "id": "d5d0e3dd95a37c40"
  },
  {
   "metadata": {},
   "cell_type": "code",
   "source": "# trw = get_df(trw_path, trw_sheet, config_file)",
   "id": "760be7bfe2e44a52",
   "outputs": [],
   "execution_count": null
  },
  {
   "metadata": {
    "ExecuteTime": {
     "end_time": "2024-10-14T13:25:45.244331Z",
     "start_time": "2024-10-14T13:25:45.023679Z"
    }
   },
   "cell_type": "code",
   "source": [
    "trw_file = path_manager.get_data_file(Category.PS, PSFile.TRW)\n",
    "trw_dataset = Dataset(config_file, trw_file.sheet)\n",
    "trw = get_df(trw_file.path, trw_file.sheet, config_file)\n",
    "\n",
    "trw_24 = filter_dataframe_on_date(trw, trw_dataset.dvars, START, END)\n",
    "trw_24_latestdate = trw_24[trw_dataset.dvars].max(axis=1)\n",
    "trw_24.insert(4, \"service\", \"trw\")\n",
    "trw_24.insert(5, \"date\", trw_24_latestdate)\n",
    "trw_24 = trw_24[['rid', 'fcid', 'service', 'date']]\n",
    "trw_24 = pd.merge(trw_24, unique_intake[int_criteria], on='rid', how='left')\n",
    "trw_24 = pd.merge(trw_24, unique_scr[['rid', 'sex', 'age']], on='rid', how='left')"
   ],
   "id": "9c2769bfcccd749e",
   "outputs": [],
   "execution_count": 21
  },
  {
   "metadata": {
    "ExecuteTime": {
     "end_time": "2024-10-14T13:27:27.866916Z",
     "start_time": "2024-10-14T13:27:27.860255Z"
    }
   },
   "cell_type": "code",
   "source": "trw_24.to_csv(r\"../data/processed/hsh_report/trw324.csv\", index=False)",
   "id": "33b32272392a1f14",
   "outputs": [],
   "execution_count": 23
  },
  {
   "cell_type": "markdown",
   "source": "## POST-EARTHQUAKE INTERVENTION PROCESSING",
   "metadata": {
    "collapsed": false
   },
   "id": "9dc958a7f60d7454"
  },
  {
   "cell_type": "code",
   "source": [
    "pei_file = path_manager.get_data_file(Category.PS, PSFile.PEI)\n",
    "pei_dataset = Dataset(config_file, pei_file.sheet)\n",
    "pei = get_df(pei_file.path, pei_file.sheet, config_file)\n",
    "\n",
    "pei_24 = filter_dataframe_on_date(pei, pei_dataset.dvars, START, END)\n",
    "pei_24_latestdate = pei_24[pei_dataset.dvars].max(axis=1)\n",
    "pei_24.insert(4, \"service\", \"pei\")\n",
    "pei_24.insert(5, \"date\", pei_24_latestdate)\n",
    "pei_24 = pei_24[['rid', 'fcid', 'service', 'date']]\n",
    "pei_24 = pd.merge(pei_24, unique_intake[int_criteria], on='rid', how='left')\n",
    "pei_24 = pd.merge(pei_24, unique_scr[['rid', 'sex', 'age']], on='rid', how='left')"
   ],
   "metadata": {
    "collapsed": false,
    "ExecuteTime": {
     "end_time": "2024-10-14T14:05:41.451843Z",
     "start_time": "2024-10-14T14:05:41.225328Z"
    }
   },
   "id": "c7e216ae03bce48a",
   "outputs": [],
   "execution_count": 27
  },
  {
   "cell_type": "code",
   "source": "pei_24.to_csv(r\"../data/processed/hsh_report/pei324.csv\", index=False)",
   "metadata": {
    "collapsed": false,
    "ExecuteTime": {
     "end_time": "2024-10-14T14:05:43.278324Z",
     "start_time": "2024-10-14T14:05:43.272438Z"
    }
   },
   "id": "ada4b95c5e9ba8a8",
   "outputs": [],
   "execution_count": 28
  },
  {
   "cell_type": "markdown",
   "source": [
    "## GROUP PHYSIOTHERAPY PROCESSING"
   ],
   "metadata": {
    "collapsed": false
   },
   "id": "ced39018c2a6a329"
  },
  {
   "cell_type": "code",
   "source": [
    "ptg_file = path_manager.get_data_file(Category.PT, PTFile.PTG)\n",
    "ptg_dataset = Dataset(config_file, ptg_file.sheet)\n",
    "ptg = get_df(ptg_file.path, ptg_file.sheet, config_file)\n",
    "\n",
    "ptg_24 = filter_dataframe_on_date(ptg, ptg_dataset.dvars, START, END)\n",
    "ptg_24_latestdate = ptg_24[ptg_dataset.dvars].max(axis=1)\n",
    "# ptg_24 = ptg_24.copy()\n",
    "# non_nat_counts = ptg_24[ptg_dataset.dvars].notna().sum(axis=1)\n",
    "# ptg_24['pt_g_total'] = np.where(ptg_24['pt_g_total'] == 0, non_nat_counts, ptg_24['pt_g_total'])\n",
    "# ptg_24 = ptg_24[ptg_24['pt_status'] != 'Drop Out']\n",
    "ptg_24.insert(4, \"service\", \"gpt\")\n",
    "ptg_24.insert(5, \"date\", ptg_24_latestdate)\n",
    "ptg_24 = ptg_24[['rid', 'fcid', 'service', 'date']]\n",
    "\n",
    "ptg_24 = pd.merge(ptg_24, unique_intake[int_criteria], on='rid', how='left')\n",
    "ptg_24 = pd.merge(ptg_24, unique_scr[['rid', 'sex', 'age']], on='rid', how='left')"
   ],
   "metadata": {
    "collapsed": false,
    "ExecuteTime": {
     "end_time": "2024-10-14T23:02:04.487640Z",
     "start_time": "2024-10-14T23:02:04.238794Z"
    }
   },
   "id": "85166e0926c4a4d7",
   "outputs": [],
   "execution_count": 5
  },
  {
   "cell_type": "code",
   "source": "ptg_24.to_csv(r\"../data/processed/hsh_report/ptg324.csv\", index=False)",
   "metadata": {
    "collapsed": false,
    "ExecuteTime": {
     "end_time": "2024-10-14T23:02:11.702430Z",
     "start_time": "2024-10-14T23:02:11.689265Z"
    }
   },
   "id": "f8412195883ecf84",
   "outputs": [],
   "execution_count": 6
  },
  {
   "cell_type": "markdown",
   "source": [
    "## INDIVIDUAL PHYSIOTHERAPY PROCESSING"
   ],
   "metadata": {
    "collapsed": false
   },
   "id": "69ddaa7d56fed1c3"
  },
  {
   "cell_type": "code",
   "source": [
    "pti_file = path_manager.get_data_file(Category.PT, PTFile.PTI)\n",
    "pti_dataset = Dataset(config_file, pti_file.sheet)\n",
    "pti = get_df(pti_file.path, pti_file.sheet, config_file)\n",
    "# non_nat_counts = ipt[ipt_dataset.dvars].notna().sum(axis=1)\n",
    "# ipt['pt_i_total'] = np.where(ipt['pt_i_total'] == 0, non_nat_counts, ipt['pt_i_total'])\n",
    "pti_24 = filter_dataframe_on_date(pti, pti_dataset.dvars, START, END)\n",
    "pti_24_latestdate = pti_24[pti_dataset.dvars].max(axis=1)\n",
    "# pti_24 = pti_24.copy()\n",
    "# non_nat_counts = pti_24[pti_dataset.dvars].notna().sum(axis=1)\n",
    "# pti_24['pt_i_total'] = np.where(pti_24['pt_i_total'] == 0, non_nat_counts, pti_24['pt_i_total'])\n",
    "pti_24.insert(4, \"service\", \"ipt\")\n",
    "pti_24.insert(5, \"date\", pti_24_latestdate)\n",
    "pti_24 = pti_24[['rid', 'fcid', 'service', 'date']]\n",
    "\n",
    "pti_24 = pd.merge(pti_24, unique_intake[int_criteria], on='rid', how='left')\n",
    "pti_24 = pd.merge(pti_24, unique_scr[['rid', 'sex', 'age']], on='rid', how='left')"
   ],
   "metadata": {
    "collapsed": false,
    "ExecuteTime": {
     "end_time": "2024-10-14T23:06:59.171032Z",
     "start_time": "2024-10-14T23:06:58.933185Z"
    }
   },
   "id": "ff12eaee81499150",
   "outputs": [],
   "execution_count": 8
  },
  {
   "metadata": {
    "ExecuteTime": {
     "end_time": "2024-10-14T23:08:41.706360Z",
     "start_time": "2024-10-14T23:08:41.684944Z"
    }
   },
   "cell_type": "code",
   "source": "pti_24.to_csv(r\"../data/processed/hsh_report/pti324.csv\", index=False)",
   "id": "76d48192ea2be53",
   "outputs": [],
   "execution_count": 10
  },
  {
   "cell_type": "markdown",
   "source": [
    "## PHYSIOTHERAPY INTAKE ASSESSMENT PROCESSING"
   ],
   "metadata": {
    "collapsed": false
   },
   "id": "5772e6112d6ad0b5"
  },
  {
   "cell_type": "code",
   "source": [
    "ptint_file = path_manager.get_data_file(Category.PT, PTFile.PTNT)\n",
    "ptint_dataset = Dataset(config_file, ptint_file.sheet)\n",
    "ptint = get_df(ptint_file.path, ptint_file.sheet, config_file)\n",
    "\n",
    "ptint_24 = filter_dataframe_on_date(ptint, ptint_dataset.dvars, START, END)\n",
    "ptint_24_latestdate = ptint_24[['pt_nt_s1', 'pt_nt_s2', 'pt_nt_re']].max(axis=1)\n",
    "# _ptint23 = ptint23.copy()\n",
    "ptint_24.insert(4, 'service', 'ptint')\n",
    "ptint_24.insert(5, 'date', ptint_24_latestdate)\n",
    "ptint_24 = ptint_24[['rid', 'fcid', 'service', 'date']]\n",
    "\n",
    "ptint_24 = pd.merge(ptint_24, unique_intake[int_criteria], on='rid', how='left')\n",
    "ptint_24 = pd.merge(ptint_24, unique_scr[['rid', 'sex', 'age']], on='rid', how='left')"
   ],
   "metadata": {
    "collapsed": false,
    "ExecuteTime": {
     "end_time": "2024-10-14T23:43:35.652176Z",
     "start_time": "2024-10-14T23:43:35.431179Z"
    }
   },
   "id": "dcbb2f76b8ed6e67",
   "outputs": [],
   "execution_count": 15
  },
  {
   "metadata": {
    "ExecuteTime": {
     "end_time": "2024-10-14T23:45:58.868437Z",
     "start_time": "2024-10-14T23:45:58.848887Z"
    }
   },
   "cell_type": "code",
   "source": "ptint_24.to_csv(r\"../data/processed/hsh_report/ptint324.csv\", index=False)",
   "id": "e3fc6252d8db059f",
   "outputs": [],
   "execution_count": 19
  },
  {
   "metadata": {
    "ExecuteTime": {
     "end_time": "2024-10-16T00:24:48.791597Z",
     "start_time": "2024-10-16T00:24:48.663024Z"
    }
   },
   "cell_type": "code",
   "source": [
    "pt_int = pd.read_csv(r\"../data/processed/0924/12_ptint_0924.csv\")\n",
    "ptint_dataset = Dataset(config_file, ptint_file.sheet)\n",
    "ptint_file = path_manager.get_data_file(Category.PT, PTFile.PTNT)\n",
    "ptint_24 = filter_dataframe_on_date(pt_int, ptint_dataset.dvars, START, END)\n",
    "ptint_24"
   ],
   "id": "e3255d064b9f64f7",
   "outputs": [
    {
     "data": {
      "text/plain": [
       "    ptintsp  ptntspi    rid        fcid firstname lastname  \\\n",
       "151      HJ      157  R0861  8110080030      جودي  حج أحمد   \n",
       "216      ZN       23  R1452  8110080031      احمد     دعاس   \n",
       "\n",
       "                pt_nt_s1 pt_nt_s2 pt_nt_re    psc note  \n",
       "151  2024-07-09 00:00:00      NaN      NaN    NaN  NaN  \n",
       "216  2024-09-10 00:00:00      NaN      NaN  Israa  NaN  "
      ],
      "text/html": [
       "<div>\n",
       "<style scoped>\n",
       "    .dataframe tbody tr th:only-of-type {\n",
       "        vertical-align: middle;\n",
       "    }\n",
       "\n",
       "    .dataframe tbody tr th {\n",
       "        vertical-align: top;\n",
       "    }\n",
       "\n",
       "    .dataframe thead th {\n",
       "        text-align: right;\n",
       "    }\n",
       "</style>\n",
       "<table border=\"1\" class=\"dataframe\">\n",
       "  <thead>\n",
       "    <tr style=\"text-align: right;\">\n",
       "      <th></th>\n",
       "      <th>ptintsp</th>\n",
       "      <th>ptntspi</th>\n",
       "      <th>rid</th>\n",
       "      <th>fcid</th>\n",
       "      <th>firstname</th>\n",
       "      <th>lastname</th>\n",
       "      <th>pt_nt_s1</th>\n",
       "      <th>pt_nt_s2</th>\n",
       "      <th>pt_nt_re</th>\n",
       "      <th>psc</th>\n",
       "      <th>note</th>\n",
       "    </tr>\n",
       "  </thead>\n",
       "  <tbody>\n",
       "    <tr>\n",
       "      <th>151</th>\n",
       "      <td>HJ</td>\n",
       "      <td>157</td>\n",
       "      <td>R0861</td>\n",
       "      <td>8110080030</td>\n",
       "      <td>جودي</td>\n",
       "      <td>حج أحمد</td>\n",
       "      <td>2024-07-09 00:00:00</td>\n",
       "      <td>NaN</td>\n",
       "      <td>NaN</td>\n",
       "      <td>NaN</td>\n",
       "      <td>NaN</td>\n",
       "    </tr>\n",
       "    <tr>\n",
       "      <th>216</th>\n",
       "      <td>ZN</td>\n",
       "      <td>23</td>\n",
       "      <td>R1452</td>\n",
       "      <td>8110080031</td>\n",
       "      <td>احمد</td>\n",
       "      <td>دعاس</td>\n",
       "      <td>2024-09-10 00:00:00</td>\n",
       "      <td>NaN</td>\n",
       "      <td>NaN</td>\n",
       "      <td>Israa</td>\n",
       "      <td>NaN</td>\n",
       "    </tr>\n",
       "  </tbody>\n",
       "</table>\n",
       "</div>"
      ]
     },
     "execution_count": 13,
     "metadata": {},
     "output_type": "execute_result"
    }
   ],
   "execution_count": 13
  },
  {
   "cell_type": "markdown",
   "source": [
    "## PHYSIOTHERAPY FOLLOW-UP ASSESSMENT PROCESSING"
   ],
   "metadata": {
    "collapsed": false
   },
   "id": "f81a84684cc8dcd8"
  },
  {
   "cell_type": "code",
   "source": [
    "ptfua_file = path_manager.get_data_file(Category.PT, PTFile.PTFU)\n",
    "ptfua_dataset = Dataset(config_file, ptfua_file.sheet)\n",
    "ptfua = get_df(ptfua_file.path, ptfua_file.sheet, config_file)"
   ],
   "metadata": {
    "collapsed": false,
    "ExecuteTime": {
     "end_time": "2024-10-15T00:03:55.488574Z",
     "start_time": "2024-10-15T00:03:55.265528Z"
    }
   },
   "id": "d5c0816132274c19",
   "outputs": [],
   "execution_count": 20
  },
  {
   "cell_type": "code",
   "source": [
    "ptfua3_24 = filter_dataframe_on_date(ptfua, 'fu_3m', START, END)\n",
    "ptfua3_24.insert(4, \"service\", \"ptfua3\")\n",
    "ptfua3_24 = ptfua3_24[['rid', 'fcid', 'service', 'fu_3m']]\n",
    "ptfua3_24 = ptfua3_24.rename(columns={'fu_3m': 'date'})"
   ],
   "metadata": {
    "collapsed": false,
    "ExecuteTime": {
     "end_time": "2024-10-15T00:26:00.946216Z",
     "start_time": "2024-10-15T00:26:00.931739Z"
    }
   },
   "id": "13765e8923ff9e3a",
   "outputs": [],
   "execution_count": 32
  },
  {
   "metadata": {
    "ExecuteTime": {
     "end_time": "2024-10-15T00:03:58.481598Z",
     "start_time": "2024-10-15T00:03:58.459253Z"
    }
   },
   "cell_type": "code",
   "source": [
    "ptfua6_24 = filter_dataframe_on_date(ptfua, 'fu_6m', START, END)\n",
    "ptfua6_24.insert(4, \"service\", \"ptfua6\")\n",
    "ptfua6_24 = ptfua6_24[['rid', 'fcid', 'service', 'fu_6m']]\n",
    "ptfua6_24 = ptfua6_24.rename(columns={'fu_6m': 'date'})"
   ],
   "id": "cd511cca9f144fbc",
   "outputs": [],
   "execution_count": 22
  },
  {
   "metadata": {
    "ExecuteTime": {
     "end_time": "2024-10-15T00:03:59.415046Z",
     "start_time": "2024-10-15T00:03:59.392131Z"
    }
   },
   "cell_type": "code",
   "source": [
    "ptfua12_24 = filter_dataframe_on_date(ptfua, 'fu_12m', START, END)\n",
    "ptfua12_24.insert(4, \"service\", \"ptfua12\")\n",
    "ptfua12_24 = ptfua12_24[['rid', 'fcid', 'service', 'fu_12m']]\n",
    "ptfua12_24 = ptfua12_24.rename(columns={'fu_12m': 'date'})"
   ],
   "id": "1c55051d5429dbde",
   "outputs": [],
   "execution_count": 23
  },
  {
   "metadata": {
    "ExecuteTime": {
     "end_time": "2024-10-15T00:26:34.602320Z",
     "start_time": "2024-10-15T00:26:34.569480Z"
    }
   },
   "cell_type": "code",
   "source": [
    "ptfua3_24 = pd.merge(ptfua3_24, unique_intake[int_criteria], on='rid', how='left')\n",
    "ptfua3_24 = pd.merge(ptfua3_24, unique_scr[['rid', 'sex', 'age']], on='rid', how='left')\n",
    "\n",
    "ptfua6_24 = pd.merge(ptfua6_24, unique_intake[int_criteria], on='rid', how='left')\n",
    "ptfua6_24 = pd.merge(ptfua6_24, unique_scr[['rid', 'sex', 'age']], on='rid', how='left')\n",
    "\n",
    "ptfua12_24 = pd.merge(ptfua12_24, unique_intake[int_criteria], on='rid', how='left')\n",
    "ptfua12_24 = pd.merge(ptfua12_24, unique_scr[['rid', 'sex', 'age']], on='rid', how='left')"
   ],
   "id": "559c17ee4e8e46f7",
   "outputs": [],
   "execution_count": 35
  },
  {
   "metadata": {
    "ExecuteTime": {
     "end_time": "2024-10-15T00:26:35.902743Z",
     "start_time": "2024-10-15T00:26:35.893645Z"
    }
   },
   "cell_type": "code",
   "source": [
    "ptfua3_24.to_csv(r\"../data/processed/hsh_report/ptfua324.csv\", index=False)\n",
    "ptfua6_24.to_csv(r\"../data/processed/hsh_report/ptfua624.csv\", index=False)\n",
    "ptfua12_24.to_csv(r\"../data/processed/hsh_report/ptfua1224.csv\", index=False)"
   ],
   "id": "c80d0644bf0c320d",
   "outputs": [],
   "execution_count": 36
  },
  {
   "metadata": {
    "ExecuteTime": {
     "end_time": "2024-10-15T00:27:49.068464Z",
     "start_time": "2024-10-15T00:27:49.060250Z"
    }
   },
   "cell_type": "code",
   "source": "# pd.read_csv(r\"../data/processed/hsh_report/ptfua1224.csv\")",
   "id": "a46ec0ed7feddb04",
   "outputs": [],
   "execution_count": 40
  },
  {
   "cell_type": "markdown",
   "source": "## Case Management",
   "metadata": {
    "collapsed": false
   },
   "id": "294e877aeaa33bbf"
  },
  {
   "cell_type": "code",
   "source": [
    "cm = pd.read_excel(r\"../data/raw/0924/other_services/TS_FC_meetingOutreachReferralFollowUpAdvocacy.xlsx\", sheet_name=None)\n",
    "\n",
    "referral = cm[\"IngoingOutgoingInternalReferral\"]\n",
    "reffu = cm[\"Follow-up\"]\n",
    "adv = cm[\"Advocacy\"]\n",
    "\n",
    "referral.to_csv(r\"../data/processed/0924/16_ref_0924.csv\", index=False)\n",
    "reffu.to_csv(r\"../data/processed/0924/17_reffu_0924.csv\", index=False)\n",
    "adv.to_csv(r\"../data/processed/0924/18_adv_0924.csv\", index=False)"
   ],
   "metadata": {
    "collapsed": false,
    "ExecuteTime": {
     "end_time": "2024-10-15T09:46:52.036487Z",
     "start_time": "2024-10-15T09:46:51.065845Z"
    }
   },
   "id": "899ed7149858aabd",
   "outputs": [],
   "execution_count": 31
  },
  {
   "metadata": {
    "ExecuteTime": {
     "end_time": "2024-10-15T09:47:04.303551Z",
     "start_time": "2024-10-15T09:47:04.300340Z"
    }
   },
   "cell_type": "code",
   "source": "# adv",
   "id": "60aeb1ebc5d19fee",
   "outputs": [],
   "execution_count": 33
  },
  {
   "metadata": {
    "ExecuteTime": {
     "end_time": "2024-10-15T09:47:38.141048Z",
     "start_time": "2024-10-15T09:47:38.128291Z"
    }
   },
   "cell_type": "code",
   "source": [
    "ref = pd.read_csv(r\"../data/processed/0924/16_ref_0924.csv\", dtype={\"FC_ID\": \"Int64\"})\n",
    "ref = ref[ref[\"OutgoingInternalIngoing\"] == \"outgoing\"]"
   ],
   "id": "3f69f1aae40db258",
   "outputs": [],
   "execution_count": 34
  },
  {
   "metadata": {
    "ExecuteTime": {
     "end_time": "2024-10-15T09:47:48.759207Z",
     "start_time": "2024-10-15T09:47:48.745978Z"
    }
   },
   "cell_type": "code",
   "source": [
    "ref_24 = filter_dataframe_on_date(ref, \"referralDate\", START, END)\n",
    "ref_24.insert(4, \"service\", \"ref\")\n",
    "ref_24 = ref_24.rename(columns={\"referral_ID\": \"rid\"})\n",
    "ref_24 = ref_24.rename(columns={\"FC_ID\": \"fcid\"})\n",
    "ref_24 = ref_24.rename(columns={\"referralDate\": \"date\"})\n",
    "ref_24 = ref_24[['rid', 'fcid', 'service', 'date']]\n",
    "# ref_24[\"fcid\"] = ref_24[\"fcid\"].astype(\"Int64\")"
   ],
   "id": "65e0fa819bc58a3b",
   "outputs": [],
   "execution_count": 35
  },
  {
   "metadata": {
    "ExecuteTime": {
     "end_time": "2024-10-15T09:47:55.917974Z",
     "start_time": "2024-10-15T09:47:55.906202Z"
    }
   },
   "cell_type": "code",
   "source": [
    "ref_24 = pd.merge(ref_24, unique_intake[int_criteria], on='rid', how='left')\n",
    "ref_24 = pd.merge(ref_24, unique_scr[['rid', 'sex', 'age']], on='rid', how='left')"
   ],
   "id": "f80339d73c780f43",
   "outputs": [],
   "execution_count": 36
  },
  {
   "metadata": {},
   "cell_type": "code",
   "source": "ref_24.to_csv(r\"../data/processed/hsh_report/ref324.csv\", index=False)",
   "id": "4bf06f82f98a6ba5",
   "outputs": [],
   "execution_count": null
  },
  {
   "metadata": {
    "ExecuteTime": {
     "end_time": "2024-10-15T10:14:03.233273Z",
     "start_time": "2024-10-15T10:14:03.229909Z"
    }
   },
   "cell_type": "code",
   "source": "# pd.read_csv(r\"../data/processed/hsh_report/ref324.csv\", dtype={\"fcid\": \"Int64\"})",
   "id": "e1b373b784b40a27",
   "outputs": [],
   "execution_count": 42
  },
  {
   "metadata": {},
   "cell_type": "markdown",
   "source": "### Advocacy",
   "id": "c583896cce5ce87c"
  },
  {
   "metadata": {
    "ExecuteTime": {
     "end_time": "2024-10-15T10:15:52.043820Z",
     "start_time": "2024-10-15T10:15:52.032233Z"
    }
   },
   "cell_type": "code",
   "source": "adv = pd.read_csv(r\"../data/processed/0924/18_adv_0924.csv\", dtype={\"FC_ID\": \"Int64\"})",
   "id": "492c0bbb3c289dc5",
   "outputs": [],
   "execution_count": 43
  },
  {
   "metadata": {
    "ExecuteTime": {
     "end_time": "2024-10-15T10:19:53.653702Z",
     "start_time": "2024-10-15T10:19:53.641836Z"
    }
   },
   "cell_type": "code",
   "source": [
    "adv_24 = filter_dataframe_on_date(adv, \"eventDate\", START, END)\n",
    "adv_24.insert(4, \"service\", \"adv\")\n",
    "adv_24 = adv_24.rename(columns={\"referral_ID\": \"rid\"})\n",
    "adv_24 = adv_24.rename(columns={\"FC_ID\": \"fcid\"})\n",
    "adv_24 = adv_24.rename(columns={\"eventDate\": \"date\"})\n",
    "adv_24 = adv_24[['rid', 'fcid', 'service', 'date']]"
   ],
   "id": "85b184fd70858766",
   "outputs": [],
   "execution_count": 46
  },
  {
   "metadata": {
    "ExecuteTime": {
     "end_time": "2024-10-15T10:21:27.701474Z",
     "start_time": "2024-10-15T10:21:27.687822Z"
    }
   },
   "cell_type": "code",
   "source": [
    "adv_24 = pd.merge(adv_24, unique_intake[int_criteria], on='rid', how='left')\n",
    "adv_24 = pd.merge(adv_24, unique_scr[['rid', 'sex', 'age']], on='rid', how='left')"
   ],
   "id": "4cef2c0ef0f2bff0",
   "outputs": [],
   "execution_count": 48
  },
  {
   "metadata": {
    "ExecuteTime": {
     "end_time": "2024-10-15T10:22:23.063723Z",
     "start_time": "2024-10-15T10:22:23.057791Z"
    }
   },
   "cell_type": "code",
   "source": "adv_24.to_csv(r\"../data/processed/hsh_report/adv324.csv\", index=False)",
   "id": "93b409180b755706",
   "outputs": [],
   "execution_count": 50
  },
  {
   "metadata": {},
   "cell_type": "markdown",
   "source": "### TD IU Delivery, Communication, Advocacy Workshop",
   "id": "9d8f9ce47f23e27"
  },
  {
   "metadata": {},
   "cell_type": "code",
   "source": [
    "# td_del = pd.read_excel('td_tracker.xlsx')\n",
    "# td_del = td_del[['Ref #', 'FC ID #', 'IU Del', 'Com Pub', 'Adv Partic']]\n",
    "# td_del = td_del.rename(columns={'Ref #': 'rid', 'FC ID #': 'fcid', 'IU Del': 'iu_del', 'Com Pub': 'com_pub', 'Adv Partic': 'adv_par'})"
   ],
   "id": "3b7ce1a243fcd3e",
   "outputs": [],
   "execution_count": null
  },
  {
   "metadata": {},
   "cell_type": "code",
   "source": [
    "# td_del_24 = filter_dataframe_on_date(td_del, ['iu_del', 'com_pub', 'adv_par'], start, end)\n",
    "# td_del_24_latestdate = td_del_24[['iu_del', 'com_pub', 'adv_par']].max(axis=1)\n",
    "# td_del_24.insert(4, \"service\", \"td_del\")\n",
    "# td_del_24.insert(5, 'date', td_del_24_latestdate)\n",
    "# td_del_24 = td_del_24[['rid', 'fcid', 'service', 'date']]"
   ],
   "id": "73b0326d9fc378b3",
   "outputs": [],
   "execution_count": null
  },
  {
   "metadata": {},
   "cell_type": "code",
   "source": [
    "# td_del_24 = pd.merge(td_del_24, unique_intake[int_criteria], on='rid', how='left')\n",
    "# td_del_24 = pd.merge(td_del_24, unique_scr[['rid', 'sex', 'age']], on='rid', how='left')"
   ],
   "id": "176f9864fe9f0652",
   "outputs": [],
   "execution_count": null
  },
  {
   "metadata": {},
   "cell_type": "code",
   "source": [
    "# td_del_24_path = os.path.join(root, data, processed, \"unvfvt24\", \"tdDelBeneficiaries24.csv\")\n",
    "# td_del_24.to_csv(td_del_24_path, index=False)"
   ],
   "id": "a078022b9332457a",
   "outputs": [],
   "execution_count": null
  }
 ],
 "metadata": {
  "kernelspec": {
   "display_name": "Python 3",
   "language": "python",
   "name": "python3"
  },
  "language_info": {
   "codemirror_mode": {
    "name": "ipython",
    "version": 2
   },
   "file_extension": ".py",
   "mimetype": "text/x-python",
   "name": "python",
   "nbconvert_exporter": "python",
   "pygments_lexer": "ipython2",
   "version": "2.7.6"
  }
 },
 "nbformat": 4,
 "nbformat_minor": 5
}
