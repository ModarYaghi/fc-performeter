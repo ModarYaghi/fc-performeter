{
 "cells": [
  {
   "cell_type": "code",
   "id": "initial_id",
   "metadata": {
    "collapsed": true
   },
   "source": [
    "from src.all_in_one import *\n",
    "threshold = \"2022-12-31\"\n",
    "upper_threshold = \"2024-01-01\""
   ],
   "outputs": [],
   "execution_count": null
  },
  {
   "cell_type": "markdown",
   "source": "# UNIQUE SCREENING BENEFICIARIES RECORDS",
   "metadata": {
    "collapsed": false
   },
   "id": "7dfd63881e541747"
  },
  {
   "cell_type": "code",
   "source": [
    "scr = get_df(scr_path, scr_sheet, config_file)\n",
    "scr = scr.sort_values(by=['sc_s1'])\n",
    "unique_scr = scr.drop_duplicates(subset='rid')"
   ],
   "metadata": {
    "collapsed": false
   },
   "id": "f6ca545046cfc7b6",
   "outputs": [],
   "execution_count": null
  },
  {
   "cell_type": "markdown",
   "source": [
    "# UNIQUE INTAKE BENEFICIARIES RECORDS"
   ],
   "metadata": {
    "collapsed": false
   },
   "id": "8b4ec0b857e201bf"
  },
  {
   "cell_type": "code",
   "source": [
    "intake = get_df(int_path, int_sheet, config_file)\n",
    "intake.insert(4, \"service\", None)\n",
    "intake = intake.sort_values(by=['nt_s1', 'nt_s2', 'nt_s3', 'nt_re'], ascending=True)\n",
    "unique_intake = intake.drop_duplicates(subset='rid', keep='last')"
   ],
   "metadata": {
    "collapsed": false
   },
   "id": "c5e7201a5c870edb",
   "outputs": [],
   "execution_count": null
  },
  {
   "metadata": {},
   "cell_type": "code",
   "source": "unique_intake",
   "id": "9e88ceabddd41ace",
   "outputs": [],
   "execution_count": null
  },
  {
   "cell_type": "code",
   "source": [
    "# path = os.path.join(unvfvt23, 'ptreintBeneficiaries23.csv')\n",
    "# ptreint = pd.read_csv(path)\n",
    "# ptreint.insert(4, 'session_num', 0)\n",
    "# ptreint = pd.merge(ptreint, unique_intake[[\"rid\", \"family_of_missing\", \"survivor_of_detention\", \"primary_torture\", \"secondary_torture\", \"sexual_violation_a\", \"sexual_violation_p\", \"hrd\", \"journalist\", \"wov\", \"stgbv\", \"lgbti\", \"other\"]], on='rid', how='left')\n",
    "# ptreint = pd.merge(ptreint, unique_scr[['rid', 'sex', 'age']], on='rid', how='left')\n",
    "# ptreint"
   ],
   "metadata": {
    "collapsed": false
   },
   "id": "b75e787de0500e07",
   "outputs": [],
   "execution_count": null
  },
  {
   "cell_type": "code",
   "source": [
    "# ptreint.to_csv(path, index=False)"
   ],
   "metadata": {
    "collapsed": false
   },
   "id": "d1c566c0d6127250",
   "outputs": [],
   "execution_count": null
  },
  {
   "cell_type": "markdown",
   "source": [
    "## PSYCHOSOCIAL INTAKE ASSESSMENT PROCESSING"
   ],
   "metadata": {
    "collapsed": false
   },
   "id": "9bd580849ff756a6"
  },
  {
   "cell_type": "code",
   "source": [
    "# intake_23 = filter_df_by_date(intake, [\"nt_s2\"], threshold=threshold)\n",
    "# intake_23 = intake_23[[\"rid\", \"fcid\", \"service\",\"nt_s2\", \"family_of_missing\", \"survivor_of_detention\", \"primary_torture\", \"secondary_torture\", \"sexual_violation_a\", \"sexual_violation_p\", \"hrd\", \"journalist\", \"wov\", \"stgbv\", \"lgbti\", \"other\"]]\n",
    "# intake_23[\"service\"] = \"int\"\n",
    "# intake_23.rename(columns={\"nt_s2\": \"date\"}, inplace=True)\n",
    "# intake_23"
   ],
   "metadata": {
    "collapsed": false
   },
   "id": "3bd277f5e79c3f74",
   "outputs": [],
   "execution_count": null
  },
  {
   "cell_type": "code",
   "source": [
    "# intake3_23 = filter_df_by_date(intake, [\"nt_s3\"], threshold=threshold)\n",
    "# intake3_23 = intake3_23[[\"rid\", \"fcid\", \"service\",\"nt_s3\", \"family_of_missing\", \"survivor_of_detention\", \"primary_torture\", \"secondary_torture\", \"sexual_violation_a\", \"sexual_violation_p\", \"hrd\", \"journalist\", \"wov\", \"stgbv\", \"lgbti\", \"other\"]]\n",
    "# intake3_23[\"service\"] = \"int\"\n",
    "# intake3_23.rename(columns={\"nt_s3\": \"date\"}, inplace=True)"
   ],
   "metadata": {
    "collapsed": false
   },
   "id": "2d5fbae3de9ac652",
   "outputs": [],
   "execution_count": null
  },
  {
   "cell_type": "markdown",
   "source": [
    "## PSYCHOSOCIAL RE-INTAKE ASSESSMENT PROCESSING"
   ],
   "metadata": {
    "collapsed": false
   },
   "id": "fce221b37aa3b482"
  },
  {
   "cell_type": "code",
   "source": [
    "# reintake_23 = filter_df_by_date(intake, [\"nt_re\"], threshold=threshold)\n",
    "# reintake_23 = reintake_23[[\"rid\", \"fcid\", \"service\",\"nt_re\", \"family_of_missing\", \"survivor_of_detention\", \"primary_torture\", \"secondary_torture\", \"sexual_violation_a\", \"sexual_violation_p\", \"hrd\", \"journalist\", \"wov\", \"stgbv\", \"lgbti\", \"other\"]]\n",
    "# reintake_23[\"service\"] = \"re\"\n",
    "# reintake_23.rename(columns={\"nt_re\": \"date\"}, inplace=True)"
   ],
   "metadata": {
    "collapsed": false
   },
   "id": "bccf37defd21eb2a",
   "outputs": [],
   "execution_count": null
  },
  {
   "cell_type": "code",
   "source": [
    "# int23 = pd.concat([intake_23, intake3_23,reintake_23])"
   ],
   "metadata": {
    "collapsed": false
   },
   "id": "97466640bf06dbea",
   "outputs": [],
   "execution_count": null
  },
  {
   "cell_type": "code",
   "source": [
    "# int23 = pd.merge(int23, unique_scr[['rid', 'sex', 'age']], on='rid', how='left')"
   ],
   "metadata": {
    "collapsed": false
   },
   "id": "48820c2a6757eb52",
   "outputs": [],
   "execution_count": null
  },
  {
   "cell_type": "code",
   "source": [
    "# _intake23 = intake23[intake23['service'] == 'int']\n",
    "# reintake23 = intake23[intake23['service'] == 're']\n",
    "# _intake23_path= os.path.join(root, data, processed, \"unvfvt23\", \"intBeneficiaries23.csv\")\n",
    "# reintake23_path= os.path.join(root, data, processed, \"unvfvt23\", \"reintBeneficiaries23.csv\")\n",
    "# _intake23.to_csv(_intake23_path, index=False)\n",
    "# reintake23.to_csv(reintake23_path, index=False)"
   ],
   "metadata": {
    "collapsed": false
   },
   "id": "86ab3bce1cd77002",
   "outputs": [],
   "execution_count": null
  },
  {
   "cell_type": "markdown",
   "source": [
    "## GROUP PSYCHOSOCIAL THERAPY COUNSELING PROCESSING"
   ],
   "metadata": {
    "collapsed": false
   },
   "id": "75a24c04a73bda93"
  },
  {
   "cell_type": "code",
   "source": [
    "# gc_dataset = Dataset(config_file, gc_sheet)\n",
    "# gc = pd.read_csv(gc_path)\n",
    "# dtype_trans(gc, gc_dataset)"
   ],
   "metadata": {
    "collapsed": false
   },
   "id": "f834e4263ce87a39",
   "outputs": [],
   "execution_count": null
  },
  {
   "cell_type": "code",
   "source": [
    "# gc23 = filter_df_by_date(gc, ['gc_s1', 'gc_s2', 'gc_s3', 'gc_s4', 'gc_s5', 'gc_s6', 'gc_s7', 'gc_s8', 'gc_s9', 'gc_10'], threshold)\n",
    "# gc23 = gc23[gc23[\"gc_total\"] >= 7]\n",
    "# gc23_latestdate = gc23[['gc_s1', 'gc_s2', 'gc_s3', 'gc_s4', 'gc_s5', 'gc_s6', 'gc_s7', 'gc_s8', 'gc_s9', 'gc_10']].max(axis=1)\n",
    "# gc23.insert(4, \"service\", \"gc\")\n",
    "# gc23.insert(5, \"date\", gc23_latestdate)\n",
    "# gc23"
   ],
   "metadata": {
    "collapsed": false
   },
   "id": "121b24b2767697b",
   "outputs": [],
   "execution_count": null
  },
  {
   "cell_type": "code",
   "source": [
    "# gc23 = gc23[['rid', 'fcid', 'service', 'date', 'gc_total']]\n",
    "# gc23 = pd.merge(gc23, unique_intake[[\"rid\", \"family_of_missing\", \"survivor_of_detention\", \"primary_torture\", \"secondary_torture\", \"sexual_violation_a\", \"sexual_violation_p\", \"hrd\", \"journalist\", \"wov\", \"stgbv\", \"lgbti\", \"other\"]], on='rid', how='left')\n",
    "# gc23 = pd.merge(gc23, unique_scr[['rid', 'sex', 'age']], on='rid', how='left')\n",
    "# gc23"
   ],
   "metadata": {
    "collapsed": false
   },
   "id": "54d802f358d3213a",
   "outputs": [],
   "execution_count": null
  },
  {
   "cell_type": "code",
   "source": [
    "# gc23_path = os.path.join(root, data, processed, \"unvfvt23\", \"gc23\")\n",
    "# gc23 = pd.read_csv(gc23_path)\n",
    "# gc23"
   ],
   "metadata": {
    "collapsed": false
   },
   "id": "15ca971dcd356d42",
   "outputs": [],
   "execution_count": null
  },
  {
   "cell_type": "markdown",
   "source": [
    "## INDIVIDUAL PSYCHOSOCIAL THERAPY COUNSELING PROCESSING"
   ],
   "metadata": {
    "collapsed": false
   },
   "id": "7d2690e8afc8ef86"
  },
  {
   "cell_type": "code",
   "source": [
    "# ic_dataset = Dataset(config_file, ic_sheet)\n",
    "# ic = pd.read_csv(ic_path)\n",
    "# dtype_trans(ic, ic_dataset)\n",
    "# ic"
   ],
   "metadata": {
    "collapsed": false
   },
   "id": "f489fa7e04ddff12",
   "outputs": [],
   "execution_count": null
  },
  {
   "cell_type": "code",
   "source": [
    "# ic23 = filter_df_by_date(ic, ic_dataset.dvars, threshold)\n",
    "# ic23_latestdate = ic23[ic_dataset.dvars].max(axis=1)\n",
    "# ic23.insert(4, \"service\", \"ic\")\n",
    "# ic23.insert(5, \"date\", ic23_latestdate)\n",
    "# ic23 = ic23[['rid', 'fcid', 'service', 'date', 'ic_total']]\n",
    "# ic23.rename(columns={'ic_total': 'session_num'}, inplace=True)\n",
    "# ic23 = pd.merge(ic23, unique_intake[[\"rid\", \"family_of_missing\", \"survivor_of_detention\", \"primary_torture\", \"secondary_torture\", \"sexual_violation_a\", \"sexual_violation_p\", \"hrd\", \"journalist\", \"wov\", \"stgbv\", \"lgbti\", \"other\"]], on='rid', how='left')\n",
    "# ic23 = pd.merge(ic23, unique_scr[['rid', 'sex', 'age']], on='rid', how='left')\n",
    "# ic23"
   ],
   "metadata": {
    "collapsed": false
   },
   "id": "2c40427084a6eb88",
   "outputs": [],
   "execution_count": null
  },
  {
   "cell_type": "code",
   "source": [
    "# int23_path = os.path.join(root, data, processed, \"unvfvt23\", \"intBeneficiaries23.csv\")\n",
    "# int23.to_csv(path, index=False)\n",
    "# gc23_path = os.path.join(root, data, processed, \"unvfvt23\", \"gcBeneficiaries23.csv\")\n",
    "# gc23.to_csv(gc23_path, index=False)"
   ],
   "metadata": {
    "collapsed": false
   },
   "id": "e3dcfe51fa5fa22f",
   "outputs": [],
   "execution_count": null
  },
  {
   "cell_type": "code",
   "source": [
    "# gc23_path = os.path.join(root, data, processed, \"unvfvt23\", \"gcBeneficiaries23.csv\")\n",
    "# pd.read_csv(gc23_path)"
   ],
   "metadata": {
    "collapsed": false
   },
   "id": "5b213831b39e847c",
   "outputs": [],
   "execution_count": null
  },
  {
   "cell_type": "markdown",
   "source": [
    "## PSYCHOSOCIAL FOLLOW-UP ASSESSMENT PROCESSING"
   ],
   "metadata": {
    "collapsed": false
   },
   "id": "1f4235cd8ab93f2d"
  },
  {
   "cell_type": "code",
   "source": [
    "# psfua_dataset = Dataset(config_file, ptfua_sheet)\n",
    "# psfua = pd.read_csv(psfua_path)\n",
    "# psfua = dtype_trans(psfua, psfua_dataset)"
   ],
   "metadata": {
    "collapsed": false
   },
   "id": "dc5cf24111575d3e",
   "outputs": [],
   "execution_count": null
  },
  {
   "cell_type": "code",
   "source": [
    "# psfua323 = filter_df_by_date(psfua, ['fu_3m'], threshold)\n",
    "# psfua323.insert(4, \"service\", \"psfua3\")\n",
    "# psfua623 = filter_df_by_date(psfua, ['fu_6m'], threshold)\n",
    "# psfua623 = filter_df_by_date(psfua623, ['fu_6m'], upper_threshold, comparison_type='b')\n",
    "# psfua623.insert(4, \"service\", \"psfua6\")\n",
    "# psfua1223 = filter_df_by_date(psfua, ['fu_12m'], threshold)\n",
    "# psfua1223.insert(4, \"service\", \"psfua12\")"
   ],
   "metadata": {
    "collapsed": false
   },
   "id": "b5c0e6c16cb7d80a",
   "outputs": [],
   "execution_count": null
  },
  {
   "cell_type": "code",
   "source": [
    "# psfua323 = psfua323[['rid', 'fcid', 'service', 'fu_3m']].copy()\n",
    "# psfua323.rename(columns={'fu_3m': 'date'}, inplace=True)\n",
    "# psfua623 = psfua623[['rid', 'fcid', 'service', 'fu_6m']].copy()\n",
    "# psfua623.rename(columns={'fu_6m': 'date'}, inplace=True)\n",
    "# psfua1223 = psfua1223[['rid', 'fcid', 'service', 'fu_12m']].copy()\n",
    "# psfua1223.rename(columns={'fu_12m': 'date'}, inplace=True)\n",
    "# psfua23 = pd.concat([psfua323, psfua623, psfua1223])"
   ],
   "metadata": {
    "collapsed": false
   },
   "id": "54638a068472783f",
   "outputs": [],
   "execution_count": null
  },
  {
   "cell_type": "code",
   "source": [
    "# psfua23 = pd.merge(psfua23, unique_intake[[\"rid\", \"family_of_missing\", \"survivor_of_detention\", \"primary_torture\", \"secondary_torture\", \"sexual_violation_a\", \"sexual_violation_p\", \"hrd\", \"journalist\", \"wov\", \"stgbv\", \"lgbti\", \"other\"]], on='rid', how='left')\n",
    "# psfua23 = pd.merge(psfua23, unique_scr[['rid', 'sex', 'age']], on='rid', how='left')"
   ],
   "metadata": {
    "collapsed": false
   },
   "id": "8443c12462b72fc5",
   "outputs": [],
   "execution_count": null
  },
  {
   "cell_type": "code",
   "source": [
    "# psfua23_path = os.path.join(root, data, processed, \"unvfvt23\", \"psfuaBeneficiaries23.csv\")\n",
    "# psfua23.to_csv(psfua23_path, index=False)\n",
    "# psfua23"
   ],
   "metadata": {
    "collapsed": false
   },
   "id": "f7075bd22bbd9770",
   "outputs": [],
   "execution_count": null
  },
  {
   "cell_type": "markdown",
   "source": [
    "## THERAPUTIC DOCUMENTATION PROCESSING"
   ],
   "metadata": {
    "collapsed": false
   },
   "id": "ce2ff07984857a2b"
  },
  {
   "cell_type": "code",
   "source": [
    "# td_dataset = Dataset(config_file, td_sheet)\n",
    "# td = pd.read_csv(td_path)\n",
    "# td = dtype_trans(td, td_dataset)"
   ],
   "metadata": {
    "collapsed": false
   },
   "id": "78cbfa649a40b4bd",
   "outputs": [],
   "execution_count": null
  },
  {
   "cell_type": "code",
   "source": [
    "# td23 = filter_df_by_date(td, td_dataset.dvars, threshold)\n",
    "# td23 = filter_df_by_date(td23, td_dataset.dvars, threshold=upper_threshold, comparison_type='b')\n",
    "# td23_latestdate = td23[td_dataset.dvars].max(axis=1)\n",
    "# td23.insert(4, \"service\", \"td\")\n",
    "# td23.insert(5, \"date\", td23_latestdate)\n",
    "# td23 = td23[['rid', 'fcid', 'service', 'date']]\n",
    "# td23 = pd.merge(td23, unique_intake[[\"rid\", \"family_of_missing\", \"survivor_of_detention\", \"primary_torture\", \"secondary_torture\", \"sexual_violation_a\", \"sexual_violation_p\", \"hrd\", \"journalist\", \"wov\", \"stgbv\", \"lgbti\", \"other\"]], on='rid', how='left')\n",
    "# td23 = pd.merge(td23, unique_scr[['rid', 'sex', 'age']], on='rid', how='left')"
   ],
   "metadata": {
    "collapsed": false
   },
   "id": "41d35d955a48df8f",
   "outputs": [],
   "execution_count": null
  },
  {
   "cell_type": "code",
   "source": [
    "# td23_path = os.path.join(root, data, processed, \"unvfvt23\", \"tdBeneficiaries23.csv\")\n",
    "# td23.to_csv(td23_path, index=False)"
   ],
   "metadata": {
    "collapsed": false
   },
   "id": "67b9e5aa598b80a4",
   "outputs": [],
   "execution_count": null
  },
  {
   "cell_type": "markdown",
   "source": [
    "## POST-EARTHQUAKE INTERVENTION PROCESSING"
   ],
   "metadata": {
    "collapsed": false
   },
   "id": "9dc958a7f60d7454"
  },
  {
   "cell_type": "code",
   "source": [
    "# pei_dataset = Dataset(config_file, pei_sheet)\n",
    "# pei = pd.read_csv(pei_path)\n",
    "# pei = dtype_trans(pei, pei_dataset)"
   ],
   "metadata": {
    "collapsed": false
   },
   "id": "c7e216ae03bce48a",
   "outputs": [],
   "execution_count": null
  },
  {
   "cell_type": "code",
   "source": [
    "# pei23 = filter_df_by_date(pei, pei_dataset.dvars, threshold)\n",
    "# pei23 = filter_df_by_date(pei23, pei_dataset.dvars, threshold=upper_threshold, comparison_type='b')\n",
    "# pei23_latestdate = pei23[pei_dataset.dvars].max(axis=1)\n",
    "# pei23.insert(4, \"service\", \"pei\")\n",
    "# pei23.insert(5, \"date\", pei23_latestdate)\n",
    "# pei23 = pei23[['rid', 'fcid', 'service', 'date', \"pei_total\"]]\n",
    "# pei23 = pd.merge(pei23, unique_intake[[\"rid\", \"family_of_missing\", \"survivor_of_detention\", \"primary_torture\", \"secondary_torture\", \"sexual_violation_a\", \"sexual_violation_p\", \"hrd\", \"journalist\", \"wov\", \"stgbv\", \"lgbti\", \"other\"]], on='rid', how='left')\n",
    "# pei23 = pd.merge(pei23, unique_scr[['rid', 'sex', 'age']], on='rid', how='left')"
   ],
   "metadata": {
    "collapsed": false
   },
   "id": "ada4b95c5e9ba8a8",
   "outputs": [],
   "execution_count": null
  },
  {
   "cell_type": "code",
   "source": [
    "# pei23_path = os.path.join(root, data, processed, \"unvfvt23\", \"peiBeneficiaries23.xlsx\")\n",
    "# pei23.to_csv(pei23_path, index=False)\n",
    "# pei23.to_excel(pei23_path, index=False)"
   ],
   "metadata": {
    "collapsed": false
   },
   "id": "f79d4379018978e2",
   "outputs": [],
   "execution_count": null
  },
  {
   "cell_type": "markdown",
   "source": [
    "## GROUP PHYSIOTHERAPY PROCESSING"
   ],
   "metadata": {
    "collapsed": false
   },
   "id": "ced39018c2a6a329"
  },
  {
   "cell_type": "code",
   "source": [
    "# gpt_dataset = Dataset(config_file, gpt_sheet)\n",
    "# gpt = pd.read_csv(gpt_path)\n",
    "# gpt = dtype_trans(gpt, gpt_dataset)\n",
    "# non_nat_counts = gpt[gpt_dataset.dvars].notna().sum(axis=1)\n",
    "# gpt['pt_g_total'] = np.where(gpt['pt_g_total'] == 0, non_nat_counts, gpt['pt_g_total'])"
   ],
   "metadata": {
    "collapsed": false
   },
   "id": "69f179465a84b143",
   "outputs": [],
   "execution_count": null
  },
  {
   "cell_type": "code",
   "source": [
    "# gpt23 = filter_df_by_date(gpt, gpt_dataset.dvars, threshold)\n",
    "# gpt23 = filter_df_by_date(gpt23, gpt_dataset.dvars, upper_threshold, comparison_type='b')\n",
    "# gpt_mask = (gpt23[gpt_dataset.dvars] > threshold) & (gpt23[gpt_dataset.dvars] < upper_threshold)\n",
    "# gpt23_latestdate = gpt23[gpt_dataset.dvars].where(gpt_mask).max(axis=1)\n",
    "# gpt23.insert(4, \"service\", \"gpt\")\n",
    "# gpt23.insert(5, \"date\", gpt23_latestdate)\n",
    "# gpt23 = gpt23[['rid', 'fcid', 'service', 'date', 'pt_g_total']]"
   ],
   "metadata": {
    "collapsed": false
   },
   "id": "85166e0926c4a4d7",
   "outputs": [],
   "execution_count": null
  },
  {
   "cell_type": "code",
   "source": [
    "# gpt23 = pd.merge(gpt23, unique_intake[[\"rid\", \"family_of_missing\", \"survivor_of_detention\", \"primary_torture\", \"secondary_torture\", \"sexual_violation_a\", \"sexual_violation_p\", \"hrd\", \"journalist\", \"wov\", \"stgbv\", \"lgbti\", \"other\"]], on='rid', how='left')\n",
    "# gpt23 = pd.merge(gpt23, unique_scr[['rid', 'sex', 'age']], on='rid', how='left')"
   ],
   "metadata": {
    "collapsed": false
   },
   "id": "f8412195883ecf84",
   "outputs": [],
   "execution_count": null
  },
  {
   "cell_type": "code",
   "source": [
    "# gpt23_path = os.path.join(root, data, processed, \"unvfvt23\", \"gptBeneficiaries23.csv\")\n",
    "# gpt23.to_csv(gpt23_path, index=False)"
   ],
   "metadata": {
    "collapsed": false
   },
   "id": "711e63d080432fcc",
   "outputs": [],
   "execution_count": null
  },
  {
   "cell_type": "markdown",
   "source": [
    "## INDIVIDUAL PHYSIOTHERAPY PROCESSING"
   ],
   "metadata": {
    "collapsed": false
   },
   "id": "69ddaa7d56fed1c3"
  },
  {
   "cell_type": "code",
   "source": [
    "# ipt_dataset = Dataset(config_file, ipt_sheet)\n",
    "# ipt = pd.read_csv(ipt_path)\n",
    "# ipt = dtype_trans(ipt, ipt_dataset)\n",
    "# non_nat_counts = ipt[ipt_dataset.dvars].notna().sum(axis=1)\n",
    "# ipt['pt_i_total'] = np.where(ipt['pt_i_total'] == 0, non_nat_counts, ipt['pt_i_total'])"
   ],
   "metadata": {
    "collapsed": false
   },
   "id": "ff12eaee81499150",
   "outputs": [],
   "execution_count": null
  },
  {
   "cell_type": "code",
   "source": [
    "# ipt23 = filter_df_by_date(ipt, ipt_dataset.dvars, threshold)\n",
    "# ipt23 = filter_df_by_date(ipt23, ipt_dataset.dvars, threshold=upper_threshold, comparison_type='b')\n",
    "# ipt_mask = (ipt23[ipt_dataset.dvars] > threshold) & (ipt23[ipt_dataset.dvars] < upper_threshold)\n",
    "# ipt23_latestdate = ipt23[ipt_dataset.dvars].where(ipt_mask).max(axis=1)\n",
    "# ipt23.insert(4, \"service\", \"ipt\")\n",
    "# ipt23.insert(5, \"date\", ipt23_latestdate)\n",
    "# ipt23 = ipt23[['rid', 'fcid', 'service', 'date', 'pt_i_total']]"
   ],
   "metadata": {
    "collapsed": false
   },
   "id": "9b66984d8e0c0cab",
   "outputs": [],
   "execution_count": null
  },
  {
   "cell_type": "code",
   "source": [
    "# ipt23 = pd.merge(ipt23, unique_intake[[\"rid\", \"family_of_missing\", \"survivor_of_detention\", \"primary_torture\", \"secondary_torture\", \"sexual_violation_a\", \"sexual_violation_p\", \"hrd\", \"journalist\", \"wov\", \"stgbv\", \"lgbti\", \"other\"]], on='rid', how='left')\n",
    "# ipt23 = pd.merge(ipt23, unique_scr[['rid', 'sex', 'age']], on='rid', how='left')"
   ],
   "metadata": {
    "collapsed": false
   },
   "id": "e045d544b249a02b",
   "outputs": [],
   "execution_count": null
  },
  {
   "cell_type": "code",
   "source": [
    "# ipt23_path = os.path.join(root, data, processed, \"unvfvt23\", \"iptBeneficiaries23.csv\")\n",
    "# ipt23.to_csv(ipt23_path, index=False)"
   ],
   "metadata": {
    "collapsed": false
   },
   "id": "f423b4795a975d95",
   "outputs": [],
   "execution_count": null
  },
  {
   "cell_type": "markdown",
   "source": [
    "## PHYSIOTHERAPY INTAKE ASSESSMENT PROCESSING"
   ],
   "metadata": {
    "collapsed": false
   },
   "id": "5772e6112d6ad0b5"
  },
  {
   "cell_type": "code",
   "source": [
    "# ptint_dataset = Dataset(config_file, ptint_sheet)\n",
    "# ptint = pd.read_csv(ptint_path)\n",
    "# ptint = dtype_trans(ptint, ptint_dataset)"
   ],
   "metadata": {
    "collapsed": false
   },
   "id": "dcbb2f76b8ed6e67",
   "outputs": [],
   "execution_count": null
  },
  {
   "cell_type": "code",
   "source": [
    "# ptint23 = filter_df_by_date(ptint, ptint_dataset.dvars, threshold)\n",
    "# ptint23 = filter_df_by_date(ptint23, ptint_dataset.dvars, threshold=upper_threshold, comparison_type='b')\n",
    "# ptint23_latestdate = ptint23[['pt_nt_s1', 'pt_nt_s2']].max(axis=1)\n",
    "# _ptint23 = ptint23.copy()\n",
    "# _ptint23.insert(4, 'service', 'ptint')\n",
    "# _ptint23.insert(5, 'date', ptint23_latestdate)\n",
    "# _ptint23 = _ptint23[['rid', 'fcid', 'service', 'date']]\n",
    "# _ptint23 = filter_df_by_date(_ptint23, ['date'], threshold)"
   ],
   "metadata": {
    "collapsed": false
   },
   "id": "562169b77373d9ae",
   "outputs": [],
   "execution_count": null
  },
  {
   "cell_type": "code",
   "source": [
    "# _ptint23 = pd.merge(_ptint23, unique_intake[[\"rid\", \"family_of_missing\", \"survivor_of_detention\", \"primary_torture\", \"secondary_torture\", \"sexual_violation_a\", \"sexual_violation_p\", \"hrd\", \"journalist\", \"wov\", \"stgbv\", \"lgbti\", \"other\"]], on='rid', how='left')\n",
    "# _ptint23 = pd.merge(_ptint23, unique_scr[['rid', 'sex', 'age']], on='rid', how='left')"
   ],
   "metadata": {
    "collapsed": false
   },
   "id": "26cf68bbc9d7e2f3",
   "outputs": [],
   "execution_count": null
  },
  {
   "cell_type": "code",
   "source": [
    "# ptint23_path = os.path.join(root, data, processed, \"unvfvt23\", \"ptintBeneficiaries23.csv\")\n",
    "# _ptint23.to_csv(ptint23_path, index=False)"
   ],
   "metadata": {
    "collapsed": false
   },
   "id": "c0fbe2175c868b4c",
   "outputs": [],
   "execution_count": null
  },
  {
   "cell_type": "markdown",
   "source": [
    "## PHYSIOTHERAPY RE-INTAKE ASSESSMENT PROCESSING"
   ],
   "metadata": {
    "collapsed": false
   },
   "id": "4c707f02c6a2ed35"
  },
  {
   "cell_type": "code",
   "source": [
    "# ptreint23 = filter_df_by_date(ptint23, ['pt_nt_re'], threshold)\n",
    "# ptreint23.insert(4, 'service', 'ptreint')\n",
    "# ptreint23 = ptreint23.rename(columns={'pt_nt_re': 'date'})\n",
    "# ptreint23 = ptreint23[['rid', 'fcid', 'service', 'date']]"
   ],
   "metadata": {
    "collapsed": false
   },
   "id": "fb30e49b9023208e",
   "outputs": [],
   "execution_count": null
  },
  {
   "cell_type": "code",
   "source": [
    "# ptreint23_path = os.path.join(root, data, processed, \"unvfvt23\", \"ptreintBeneficiaries23.csv\")\n",
    "# ptreint23.to_csv(ptreint23_path, index=False)"
   ],
   "metadata": {
    "collapsed": false
   },
   "id": "2cc27add72261051",
   "outputs": [],
   "execution_count": null
  },
  {
   "cell_type": "markdown",
   "source": [
    "## PHYSIOTHERAPY FOLLOW-UP ASSESSMENT PROCESSING"
   ],
   "metadata": {
    "collapsed": false
   },
   "id": "f81a84684cc8dcd8"
  },
  {
   "cell_type": "code",
   "source": [
    "# ptfua_dataset = Dataset(config_file, ptfua_sheet)\n",
    "# ptfua = pd.read_csv(ptfua_path)\n",
    "# ptfua = dtype_trans(ptfua, ptfua_dataset)"
   ],
   "metadata": {
    "collapsed": false
   },
   "id": "d5c0816132274c19",
   "outputs": [],
   "execution_count": null
  },
  {
   "cell_type": "code",
   "source": [
    "# ptfua323 = filter_df_by_date(ptfua, ['fu_3m'], threshold)\n",
    "# ptfua323.insert(4, \"service\", \"ptfua3\")\n",
    "# ptfua323 = ptfua323.rename(columns={'fu_3m': 'date'})\n",
    "# ptfua323 = ptfua323[['rid', 'fcid', 'service', 'date']]\n",
    "# ptfua323 = pd.merge(ptfua323, unique_intake[[\"rid\", \"family_of_missing\", \"survivor_of_detention\", \"primary_torture\", \"secondary_torture\", \"sexual_violation_a\", \"sexual_violation_p\", \"hrd\", \"journalist\", \"wov\", \"stgbv\", \"lgbti\", \"other\"]], on='rid', how='left')\n",
    "# ptfua323 = pd.merge(ptfua323, unique_scr[['rid', 'sex', 'age']], on='rid', how='left')\n",
    "# ptfua323_path = os.path.join(root, data, processed, \"unvfvt23\", \"ptfua3Beneficiaries23.csv\")\n",
    "# ptfua323.to_csv(ptfua323_path, index=False)"
   ],
   "metadata": {
    "collapsed": false
   },
   "id": "13765e8923ff9e3a",
   "outputs": [],
   "execution_count": null
  },
  {
   "cell_type": "code",
   "source": [
    "# ptfua623 = filter_df_by_date(ptfua, ['fu_6m'], threshold)\n",
    "# ptfua623 = filter_df_by_date(ptfua623, ['fu_6m'], threshold=upper_threshold, comparison_type='b')\n",
    "# ptfua623.insert(4, \"service\", \"ptfua6\")\n",
    "# ptfua623 = ptfua623.rename(columns={'fu_6m': 'date'})\n",
    "# ptfua623 = ptfua623[['rid', 'fcid', 'service', 'date']]\n",
    "# ptfua623 = pd.merge(ptfua623, unique_intake[[\"rid\", \"family_of_missing\", \"survivor_of_detention\", \"primary_torture\", \"secondary_torture\", \"sexual_violation_a\", \"sexual_violation_p\", \"hrd\", \"journalist\", \"wov\", \"stgbv\", \"lgbti\", \"other\"]], on='rid', how='left')\n",
    "# ptfua623 = pd.merge(ptfua623, unique_scr[['rid', 'sex', 'age']], on='rid', how='left')\n",
    "# ptfua623_path = os.path.join(root, data, processed, \"unvfvt23\", \"ptfua6Beneficiaries23.csv\")\n",
    "# ptfua623.to_csv(ptfua623_path, index=False)"
   ],
   "metadata": {
    "collapsed": false
   },
   "id": "649e26ea9760c362",
   "outputs": [],
   "execution_count": null
  },
  {
   "cell_type": "code",
   "source": [
    "# ptfua1223 = filter_df_by_date(ptfua, ['fu_12m'], threshold)\n",
    "# ptfua1223 = filter_df_by_date(ptfua1223, ['fu_12m'], threshold=upper_threshold, comparison_type='b')\n",
    "# ptfua1223.insert(4, \"service\", \"ptfua12\")\n",
    "# ptfua1223 = ptfua1223.rename(columns={'fu_12m': 'date'})\n",
    "# ptfua1223 = ptfua1223[['rid', 'fcid', 'service', 'date']]\n",
    "# ptfua1223 = pd.merge(ptfua1223, unique_intake[[\"rid\", \"family_of_missing\", \"survivor_of_detention\", \"primary_torture\", \"secondary_torture\", \"sexual_violation_a\", \"sexual_violation_p\", \"hrd\", \"journalist\", \"wov\", \"stgbv\", \"lgbti\", \"other\"]], on='rid', how='left')\n",
    "# ptfua1223 = pd.merge(ptfua1223, unique_scr[['rid', 'sex', 'age']], on='rid', how='left')\n",
    "# ptfua1223_path = os.path.join(root, data, processed, \"unvfvt23\", \"ptfua12Beneficiaries23.csv\")\n",
    "# ptfua1223.to_csv(ptfua1223_path, index=False)"
   ],
   "metadata": {
    "collapsed": false
   },
   "id": "81e1ce70ccfbf89d",
   "outputs": [],
   "execution_count": null
  },
  {
   "cell_type": "markdown",
   "source": [
    "# CONSOLIDATION"
   ],
   "metadata": {
    "collapsed": false
   },
   "id": "294e877aeaa33bbf"
  },
  {
   "cell_type": "code",
   "source": [
    "ptfua12_path = os.path.join(unvfvt23, 'psfua12Beneficiaries23.csv')\n",
    "pd.read_csv(ptfua12_path)"
   ],
   "metadata": {
    "collapsed": false
   },
   "id": "5b6b2314f44707aa",
   "outputs": [],
   "execution_count": null
  },
  {
   "cell_type": "code",
   "source": [
    "path = os.path.join(data, processed, '0124', 'pstd_0124.csv')\n",
    "df = pd.read_csv(td_path)"
   ],
   "metadata": {
    "collapsed": false
   },
   "id": "a2361c23691d7daf",
   "outputs": [],
   "execution_count": null
  },
  {
   "cell_type": "code",
   "source": [
    "df"
   ],
   "metadata": {
    "collapsed": false
   },
   "id": "899ed7149858aabd",
   "outputs": [],
   "execution_count": null
  }
 ],
 "metadata": {
  "kernelspec": {
   "display_name": "Python 3",
   "language": "python",
   "name": "python3"
  },
  "language_info": {
   "codemirror_mode": {
    "name": "ipython",
    "version": 2
   },
   "file_extension": ".py",
   "mimetype": "text/x-python",
   "name": "python",
   "nbconvert_exporter": "python",
   "pygments_lexer": "ipython2",
   "version": "2.7.6"
  }
 },
 "nbformat": 4,
 "nbformat_minor": 5
}
