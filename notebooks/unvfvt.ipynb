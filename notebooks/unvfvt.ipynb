{
 "cells": [
  {
   "cell_type": "code",
   "execution_count": 1,
   "id": "initial_id",
   "metadata": {
    "collapsed": true,
    "ExecuteTime": {
     "end_time": "2024-01-31T13:13:33.199862600Z",
     "start_time": "2024-01-31T13:13:31.904005800Z"
    }
   },
   "outputs": [],
   "source": [
    "import os.path\n",
    "\n",
    "import pandas as pd\n",
    "from src.all_in_one import *\n",
    "threshold = \"2022-12-31\"\n",
    "upper_threshold = \"2024-01-01\""
   ]
  },
  {
   "cell_type": "markdown",
   "source": [
    "# UNIQUE SCREENING BENEFICIARIES RECORDS"
   ],
   "metadata": {
    "collapsed": false
   },
   "id": "7dfd63881e541747"
  },
  {
   "cell_type": "code",
   "outputs": [],
   "source": [
    "# scr_dataset = Dataset(config_file, scr_sheet)\n",
    "# scr = pd.read_csv(scr_path)\n",
    "# unique_scr = scr.drop_duplicates(subset='rid')"
   ],
   "metadata": {
    "collapsed": false,
    "ExecuteTime": {
     "end_time": "2024-01-31T13:13:33.203972900Z",
     "start_time": "2024-01-31T13:13:33.182758800Z"
    }
   },
   "id": "f6ca545046cfc7b6",
   "execution_count": 2
  },
  {
   "cell_type": "markdown",
   "source": [
    "# UNIQUE INTAKE BENEFICIARIES RECORDS"
   ],
   "metadata": {
    "collapsed": false
   },
   "id": "8b4ec0b857e201bf"
  },
  {
   "cell_type": "code",
   "outputs": [],
   "source": [
    "# int_dataset = Dataset(config_file, int_sheet)\n",
    "# intake = pd.read_csv(int_path)\n",
    "# dtype_trans(intake, int_dataset)\n",
    "# intake.insert(4, \"service\", None)\n",
    "# intake.sort_values(by=['nt_s1', 'nt_s2', 'nt_s3', 'nt_re'], ascending=True)\n",
    "# unique_intake = intake.drop_duplicates(subset='rid', keep='last')"
   ],
   "metadata": {
    "collapsed": false,
    "ExecuteTime": {
     "end_time": "2024-01-31T13:13:33.315700600Z",
     "start_time": "2024-01-31T13:13:33.186839800Z"
    }
   },
   "id": "c5e7201a5c870edb",
   "execution_count": 3
  },
  {
   "cell_type": "markdown",
   "source": [
    "## PSYCHOSOCIAL INTAKE ASSESSMENT PROCESSING"
   ],
   "metadata": {
    "collapsed": false
   },
   "id": "9bd580849ff756a6"
  },
  {
   "cell_type": "code",
   "outputs": [],
   "source": [
    "# intake_23 = filter_df_by_date(intake, [\"nt_s2\"], threshold=threshold)\n",
    "# intake_23 = intake_23[[\"rid\", \"fcid\", \"service\",\"nt_s2\", \"family_of_missing\", \"survivor_of_detention\", \"primary_torture\", \"secondary_torture\", \"sexual_violation_a\", \"sexual_violation_p\", \"hrd\", \"journalist\", \"wov\", \"stgbv\", \"lgbti\", \"other\"]]\n",
    "# intake_23[\"service\"] = \"int\"\n",
    "# intake_23.rename(columns={\"nt_s2\": \"date\"}, inplace=True)\n",
    "# intake_23"
   ],
   "metadata": {
    "collapsed": false,
    "ExecuteTime": {
     "end_time": "2024-01-31T13:13:33.320315500Z",
     "start_time": "2024-01-31T13:13:33.199862600Z"
    }
   },
   "id": "3bd277f5e79c3f74",
   "execution_count": 4
  },
  {
   "cell_type": "code",
   "outputs": [],
   "source": [
    "# intake3_23 = filter_df_by_date(intake, [\"nt_s3\"], threshold=threshold)\n",
    "# intake3_23 = intake3_23[[\"rid\", \"fcid\", \"service\",\"nt_s3\", \"family_of_missing\", \"survivor_of_detention\", \"primary_torture\", \"secondary_torture\", \"sexual_violation_a\", \"sexual_violation_p\", \"hrd\", \"journalist\", \"wov\", \"stgbv\", \"lgbti\", \"other\"]]\n",
    "# intake3_23[\"service\"] = \"int\"\n",
    "# intake3_23.rename(columns={\"nt_s3\": \"date\"}, inplace=True)"
   ],
   "metadata": {
    "collapsed": false,
    "ExecuteTime": {
     "end_time": "2024-01-31T13:13:33.343442800Z",
     "start_time": "2024-01-31T13:13:33.203972900Z"
    }
   },
   "id": "2d5fbae3de9ac652",
   "execution_count": 5
  },
  {
   "cell_type": "markdown",
   "source": [
    "## PSYCHOSOCIAL RE-INTAKE ASSESSMENT PROCESSING"
   ],
   "metadata": {
    "collapsed": false
   },
   "id": "fce221b37aa3b482"
  },
  {
   "cell_type": "code",
   "outputs": [],
   "source": [
    "# reintake_23 = filter_df_by_date(intake, [\"nt_re\"], threshold=threshold)\n",
    "# reintake_23 = reintake_23[[\"rid\", \"fcid\", \"service\",\"nt_re\", \"family_of_missing\", \"survivor_of_detention\", \"primary_torture\", \"secondary_torture\", \"sexual_violation_a\", \"sexual_violation_p\", \"hrd\", \"journalist\", \"wov\", \"stgbv\", \"lgbti\", \"other\"]]\n",
    "# reintake_23[\"service\"] = \"re\"\n",
    "# reintake_23.rename(columns={\"nt_re\": \"date\"}, inplace=True)"
   ],
   "metadata": {
    "collapsed": false,
    "ExecuteTime": {
     "end_time": "2024-01-31T13:13:33.355890700Z",
     "start_time": "2024-01-31T13:13:33.209924300Z"
    }
   },
   "id": "bccf37defd21eb2a",
   "execution_count": 6
  },
  {
   "cell_type": "code",
   "outputs": [],
   "source": [
    "# int23 = pd.concat([intake_23, intake3_23,reintake_23])"
   ],
   "metadata": {
    "collapsed": false,
    "ExecuteTime": {
     "end_time": "2024-01-31T13:13:33.358767100Z",
     "start_time": "2024-01-31T13:13:33.218661600Z"
    }
   },
   "id": "97466640bf06dbea",
   "execution_count": 7
  },
  {
   "cell_type": "code",
   "outputs": [],
   "source": [
    "# int23 = pd.merge(int23, unique_scr[['rid', 'sex', 'age']], on='rid', how='left')"
   ],
   "metadata": {
    "collapsed": false,
    "ExecuteTime": {
     "end_time": "2024-01-31T13:13:33.365315100Z",
     "start_time": "2024-01-31T13:13:33.223326200Z"
    }
   },
   "id": "48820c2a6757eb52",
   "execution_count": 8
  },
  {
   "cell_type": "code",
   "outputs": [],
   "source": [
    "# _intake23 = intake23[intake23['service'] == 'int']\n",
    "# reintake23 = intake23[intake23['service'] == 're']\n",
    "# _intake23_path= os.path.join(root, data, processed, \"unvfvt23\", \"intBeneficiaries23.csv\")\n",
    "# reintake23_path= os.path.join(root, data, processed, \"unvfvt23\", \"reintBeneficiaries23.csv\")\n",
    "# _intake23.to_csv(_intake23_path, index=False)\n",
    "# reintake23.to_csv(reintake23_path, index=False)"
   ],
   "metadata": {
    "collapsed": false,
    "ExecuteTime": {
     "end_time": "2024-01-31T13:13:33.402031Z",
     "start_time": "2024-01-31T13:13:33.229686100Z"
    }
   },
   "id": "86ab3bce1cd77002",
   "execution_count": 9
  },
  {
   "cell_type": "markdown",
   "source": [
    "## GROUP PSYCHOSOCIAL THERAPY COUNSELING PROCESSING"
   ],
   "metadata": {
    "collapsed": false
   },
   "id": "75a24c04a73bda93"
  },
  {
   "cell_type": "code",
   "outputs": [],
   "source": [
    "# gc_dataset = Dataset(config_file, gc_sheet)\n",
    "# gc = pd.read_csv(gc_path)\n",
    "# dtype_trans(gc, gc_dataset)"
   ],
   "metadata": {
    "collapsed": false,
    "ExecuteTime": {
     "end_time": "2024-01-31T13:13:33.405994100Z",
     "start_time": "2024-01-31T13:13:33.236689600Z"
    }
   },
   "id": "f834e4263ce87a39",
   "execution_count": 10
  },
  {
   "cell_type": "code",
   "outputs": [],
   "source": [
    "# gc23 = filter_df_by_date(gc, ['gc_s1', 'gc_s2', 'gc_s3', 'gc_s4', 'gc_s5', 'gc_s6', 'gc_s7', 'gc_s8', 'gc_s9', 'gc_10'], threshold)\n",
    "# gc23 = gc23[gc23[\"gc_total\"] >= 7]\n",
    "# gc23_latestdate = gc23[['gc_s1', 'gc_s2', 'gc_s3', 'gc_s4', 'gc_s5', 'gc_s6', 'gc_s7', 'gc_s8', 'gc_s9', 'gc_10']].max(axis=1)\n",
    "# gc23.insert(4, \"service\", \"gc\")\n",
    "# gc23.insert(5, \"date\", gc23_latestdate)\n",
    "# gc23"
   ],
   "metadata": {
    "collapsed": false,
    "ExecuteTime": {
     "end_time": "2024-01-31T13:13:33.409733800Z",
     "start_time": "2024-01-31T13:13:33.240764200Z"
    }
   },
   "id": "121b24b2767697b",
   "execution_count": 11
  },
  {
   "cell_type": "code",
   "outputs": [],
   "source": [
    "# gc23 = gc23[['rid', 'fcid', 'service', 'date', 'gc_total']]\n",
    "# gc23 = pd.merge(gc23, unique_intake[[\"rid\", \"family_of_missing\", \"survivor_of_detention\", \"primary_torture\", \"secondary_torture\", \"sexual_violation_a\", \"sexual_violation_p\", \"hrd\", \"journalist\", \"wov\", \"stgbv\", \"lgbti\", \"other\"]], on='rid', how='left')\n",
    "# gc23 = pd.merge(gc23, unique_scr[['rid', 'sex', 'age']], on='rid', how='left')\n",
    "# gc23"
   ],
   "metadata": {
    "collapsed": false,
    "ExecuteTime": {
     "end_time": "2024-01-31T13:13:33.412333300Z",
     "start_time": "2024-01-31T13:13:33.247219500Z"
    }
   },
   "id": "54d802f358d3213a",
   "execution_count": 12
  },
  {
   "cell_type": "code",
   "outputs": [],
   "source": [
    "# gc23_path = os.path.join(root, data, processed, \"unvfvt23\", \"gc23\")\n",
    "# gc23 = pd.read_csv(gc23_path)\n",
    "# gc23"
   ],
   "metadata": {
    "collapsed": false,
    "ExecuteTime": {
     "end_time": "2024-01-31T13:13:33.414494200Z",
     "start_time": "2024-01-31T13:13:33.253092200Z"
    }
   },
   "id": "15ca971dcd356d42",
   "execution_count": 13
  },
  {
   "cell_type": "markdown",
   "source": [
    "## INDIVIDUAL PSYCHOSOCIAL THERAPY COUNSELING PROCESSING"
   ],
   "metadata": {
    "collapsed": false
   },
   "id": "7d2690e8afc8ef86"
  },
  {
   "cell_type": "code",
   "outputs": [],
   "source": [
    "# ic_dataset = Dataset(config_file, ic_sheet)\n",
    "# ic = pd.read_csv(ic_path)\n",
    "# dtype_trans(ic, ic_dataset)\n",
    "# ic"
   ],
   "metadata": {
    "collapsed": false,
    "ExecuteTime": {
     "end_time": "2024-01-31T13:13:33.529778400Z",
     "start_time": "2024-01-31T13:13:33.258013100Z"
    }
   },
   "id": "f489fa7e04ddff12",
   "execution_count": 14
  },
  {
   "cell_type": "code",
   "outputs": [],
   "source": [
    "# ic23 = filter_df_by_date(ic, ic_dataset.dvars, threshold)\n",
    "# ic23_latestdate = ic23[ic_dataset.dvars].max(axis=1)\n",
    "# ic23.insert(4, \"service\", \"ic\")\n",
    "# ic23.insert(5, \"date\", ic23_latestdate)\n",
    "# ic23 = ic23[['rid', 'fcid', 'service', 'date', 'ic_total']]\n",
    "# ic23 = pd.merge(ic23, unique_intake[[\"rid\", \"family_of_missing\", \"survivor_of_detention\", \"primary_torture\", \"secondary_torture\", \"sexual_violation_a\", \"sexual_violation_p\", \"hrd\", \"journalist\", \"wov\", \"stgbv\", \"lgbti\", \"other\"]], on='rid', how='left')\n",
    "# ic23 = pd.merge(ic23, unique_scr[['rid', 'sex', 'age']], on='rid', how='left')\n",
    "# ic23"
   ],
   "metadata": {
    "collapsed": false,
    "ExecuteTime": {
     "end_time": "2024-01-31T13:13:33.531902400Z",
     "start_time": "2024-01-31T13:13:33.267109800Z"
    }
   },
   "id": "2c40427084a6eb88",
   "execution_count": 15
  },
  {
   "cell_type": "code",
   "outputs": [],
   "source": [
    "# int23_path = os.path.join(root, data, processed, \"unvfvt23\", \"intBeneficiaries23.csv\")\n",
    "# int23.to_csv(path, index=False)\n",
    "# gc23_path = os.path.join(root, data, processed, \"unvfvt23\", \"gcBeneficiaries23.csv\")\n",
    "# gc23.to_csv(gc23_path, index=False)"
   ],
   "metadata": {
    "collapsed": false,
    "ExecuteTime": {
     "end_time": "2024-01-31T13:13:33.532971700Z",
     "start_time": "2024-01-31T13:13:33.274090Z"
    }
   },
   "id": "e3dcfe51fa5fa22f",
   "execution_count": 16
  },
  {
   "cell_type": "code",
   "outputs": [],
   "source": [
    "# gc23_path = os.path.join(root, data, processed, \"unvfvt23\", \"gcBeneficiaries23.csv\")\n",
    "# pd.read_csv(gc23_path)"
   ],
   "metadata": {
    "collapsed": false,
    "ExecuteTime": {
     "end_time": "2024-01-31T13:13:33.553239300Z",
     "start_time": "2024-01-31T13:13:33.277166400Z"
    }
   },
   "id": "5b213831b39e847c",
   "execution_count": 17
  },
  {
   "cell_type": "markdown",
   "source": [
    "## PSYCHOSOCIAL FOLLOW-UP ASSESSMENT PROCESSING"
   ],
   "metadata": {
    "collapsed": false
   },
   "id": "1f4235cd8ab93f2d"
  },
  {
   "cell_type": "code",
   "outputs": [],
   "source": [
    "# psfua_dataset = Dataset(config_file, ptfua_sheet)\n",
    "# psfua = pd.read_csv(psfua_path)\n",
    "# psfua = dtype_trans(psfua, psfua_dataset)"
   ],
   "metadata": {
    "collapsed": false,
    "ExecuteTime": {
     "end_time": "2024-01-31T13:13:33.555259500Z",
     "start_time": "2024-01-31T13:13:33.283738300Z"
    }
   },
   "id": "dc5cf24111575d3e",
   "execution_count": 18
  },
  {
   "cell_type": "code",
   "outputs": [],
   "source": [
    "# psfua323 = filter_df_by_date(psfua, ['fu_3m'], threshold)\n",
    "# psfua323.insert(4, \"service\", \"psfua3\")\n",
    "# psfua623 = filter_df_by_date(psfua, ['fu_6m'], threshold)\n",
    "# psfua623 = filter_df_by_date(psfua623, ['fu_6m'], upper_threshold, comparison_type='b')\n",
    "# psfua623.insert(4, \"service\", \"psfua6\")\n",
    "# psfua1223 = filter_df_by_date(psfua, ['fu_12m'], threshold)\n",
    "# psfua1223.insert(4, \"service\", \"psfua12\")"
   ],
   "metadata": {
    "collapsed": false,
    "ExecuteTime": {
     "end_time": "2024-01-31T13:13:33.558417200Z",
     "start_time": "2024-01-31T13:13:33.286931400Z"
    }
   },
   "id": "b5c0e6c16cb7d80a",
   "execution_count": 19
  },
  {
   "cell_type": "code",
   "outputs": [],
   "source": [
    "# psfua323 = psfua323[['rid', 'fcid', 'service', 'fu_3m']].copy()\n",
    "# psfua323.rename(columns={'fu_3m': 'date'}, inplace=True)\n",
    "# psfua623 = psfua623[['rid', 'fcid', 'service', 'fu_6m']].copy()\n",
    "# psfua623.rename(columns={'fu_6m': 'date'}, inplace=True)\n",
    "# psfua1223 = psfua1223[['rid', 'fcid', 'service', 'fu_12m']].copy()\n",
    "# psfua1223.rename(columns={'fu_12m': 'date'}, inplace=True)\n",
    "# psfua23 = pd.concat([psfua323, psfua623, psfua1223])"
   ],
   "metadata": {
    "collapsed": false,
    "ExecuteTime": {
     "end_time": "2024-01-31T13:13:33.567550900Z",
     "start_time": "2024-01-31T13:13:33.295150400Z"
    }
   },
   "id": "54638a068472783f",
   "execution_count": 20
  },
  {
   "cell_type": "code",
   "outputs": [],
   "source": [
    "# psfua23 = pd.merge(psfua23, unique_intake[[\"rid\", \"family_of_missing\", \"survivor_of_detention\", \"primary_torture\", \"secondary_torture\", \"sexual_violation_a\", \"sexual_violation_p\", \"hrd\", \"journalist\", \"wov\", \"stgbv\", \"lgbti\", \"other\"]], on='rid', how='left')\n",
    "# psfua23 = pd.merge(psfua23, unique_scr[['rid', 'sex', 'age']], on='rid', how='left')"
   ],
   "metadata": {
    "collapsed": false,
    "ExecuteTime": {
     "end_time": "2024-01-31T13:13:33.569656100Z",
     "start_time": "2024-01-31T13:13:33.299265Z"
    }
   },
   "id": "8443c12462b72fc5",
   "execution_count": 21
  },
  {
   "cell_type": "code",
   "outputs": [],
   "source": [
    "# psfua23_path = os.path.join(root, data, processed, \"unvfvt23\", \"psfuaBeneficiaries23.csv\")\n",
    "# psfua23.to_csv(psfua23_path, index=False)\n",
    "# psfua23"
   ],
   "metadata": {
    "collapsed": false,
    "ExecuteTime": {
     "end_time": "2024-01-31T13:13:33.572257Z",
     "start_time": "2024-01-31T13:13:33.305178100Z"
    }
   },
   "id": "f7075bd22bbd9770",
   "execution_count": 22
  },
  {
   "cell_type": "markdown",
   "source": [
    "## THERAPUTIC DOCUMENTATION PROCESSING"
   ],
   "metadata": {
    "collapsed": false
   },
   "id": "ce2ff07984857a2b"
  },
  {
   "cell_type": "code",
   "outputs": [],
   "source": [
    "# td_dataset = Dataset(config_file, td_sheet)\n",
    "# td = pd.read_csv(td_path)\n",
    "# td = dtype_trans(td, td_dataset)"
   ],
   "metadata": {
    "collapsed": false,
    "ExecuteTime": {
     "end_time": "2024-01-31T13:13:33.573348700Z",
     "start_time": "2024-01-31T13:13:33.308840900Z"
    }
   },
   "id": "78cbfa649a40b4bd",
   "execution_count": 23
  },
  {
   "cell_type": "code",
   "outputs": [],
   "source": [
    "# td23 = filter_df_by_date(td, td_dataset.dvars, threshold)\n",
    "# td23 = filter_df_by_date(td23, td_dataset.dvars, threshold=upper_threshold, comparison_type='b')\n",
    "# td23_latestdate = td23[td_dataset.dvars].max(axis=1)\n",
    "# td23.insert(4, \"service\", \"td\")\n",
    "# td23.insert(5, \"date\", td23_latestdate)\n",
    "# td23 = td23[['rid', 'fcid', 'service', 'date']]\n",
    "# td23 = pd.merge(td23, unique_intake[[\"rid\", \"family_of_missing\", \"survivor_of_detention\", \"primary_torture\", \"secondary_torture\", \"sexual_violation_a\", \"sexual_violation_p\", \"hrd\", \"journalist\", \"wov\", \"stgbv\", \"lgbti\", \"other\"]], on='rid', how='left')\n",
    "# td23 = pd.merge(td23, unique_scr[['rid', 'sex', 'age']], on='rid', how='left')"
   ],
   "metadata": {
    "collapsed": false,
    "ExecuteTime": {
     "end_time": "2024-01-31T13:13:33.577579800Z",
     "start_time": "2024-01-31T13:13:33.315104100Z"
    }
   },
   "id": "41d35d955a48df8f",
   "execution_count": 24
  },
  {
   "cell_type": "code",
   "outputs": [],
   "source": [
    "# td23_path = os.path.join(root, data, processed, \"unvfvt23\", \"tdBeneficiaries23.csv\")\n",
    "# td23.to_csv(td23_path, index=False)"
   ],
   "metadata": {
    "collapsed": false,
    "ExecuteTime": {
     "end_time": "2024-01-31T13:13:33.587862100Z",
     "start_time": "2024-01-31T13:13:33.320315500Z"
    }
   },
   "id": "67b9e5aa598b80a4",
   "execution_count": 25
  },
  {
   "cell_type": "markdown",
   "source": [
    "## POST-EARTHQUAKE INTERVENTION PROCESSING"
   ],
   "metadata": {
    "collapsed": false
   },
   "id": "9dc958a7f60d7454"
  },
  {
   "cell_type": "code",
   "outputs": [],
   "source": [
    "# pei_dataset = Dataset(config_file, pei_sheet)\n",
    "# pei = pd.read_csv(pei_path)\n",
    "# pei = dtype_trans(pei, pei_dataset)"
   ],
   "metadata": {
    "collapsed": false,
    "ExecuteTime": {
     "end_time": "2024-01-31T13:13:33.591032400Z",
     "start_time": "2024-01-31T13:13:33.324597900Z"
    }
   },
   "id": "c7e216ae03bce48a",
   "execution_count": 26
  },
  {
   "cell_type": "code",
   "outputs": [],
   "source": [
    "# pei23 = filter_df_by_date(pei, pei_dataset.dvars, threshold)\n",
    "# pei23 = filter_df_by_date(pei23, pei_dataset.dvars, threshold=upper_threshold, comparison_type='b')\n",
    "# pei23_latestdate = pei23[pei_dataset.dvars].max(axis=1)\n",
    "# pei23.insert(4, \"service\", \"pei\")\n",
    "# pei23.insert(5, \"date\", pei23_latestdate)\n",
    "# pei23 = pei23[['rid', 'fcid', 'service', 'date', \"pei_total\"]]\n",
    "# pei23 = pd.merge(pei23, unique_intake[[\"rid\", \"family_of_missing\", \"survivor_of_detention\", \"primary_torture\", \"secondary_torture\", \"sexual_violation_a\", \"sexual_violation_p\", \"hrd\", \"journalist\", \"wov\", \"stgbv\", \"lgbti\", \"other\"]], on='rid', how='left')\n",
    "# pei23 = pd.merge(pei23, unique_scr[['rid', 'sex', 'age']], on='rid', how='left')"
   ],
   "metadata": {
    "collapsed": false,
    "ExecuteTime": {
     "end_time": "2024-01-31T13:13:33.599543600Z",
     "start_time": "2024-01-31T13:13:33.333397100Z"
    }
   },
   "id": "ada4b95c5e9ba8a8",
   "execution_count": 27
  },
  {
   "cell_type": "code",
   "outputs": [],
   "source": [
    "# pei23_path = os.path.join(root, data, processed, \"unvfvt23\", \"peiBeneficiaries23.xlsx\")\n",
    "# pei23.to_csv(pei23_path, index=False)\n",
    "# pei23.to_excel(pei23_path, index=False)"
   ],
   "metadata": {
    "collapsed": false,
    "ExecuteTime": {
     "end_time": "2024-01-31T13:13:33.605349100Z",
     "start_time": "2024-01-31T13:13:33.342444400Z"
    }
   },
   "id": "f79d4379018978e2",
   "execution_count": 28
  },
  {
   "cell_type": "markdown",
   "source": [
    "## GROUP PHYSIOTHERAPY PROCESSING"
   ],
   "metadata": {
    "collapsed": false
   },
   "id": "ced39018c2a6a329"
  },
  {
   "cell_type": "code",
   "outputs": [],
   "source": [
    "# gpt_dataset = Dataset(config_file, gpt_sheet)\n",
    "# gpt = pd.read_csv(gpt_path)\n",
    "# gpt = dtype_trans(gpt, gpt_dataset)\n",
    "# non_nat_counts = gpt[gpt_dataset.dvars].notna().sum(axis=1)\n",
    "# gpt['pt_g_total'] = np.where(gpt['pt_g_total'] == 0, non_nat_counts, gpt['pt_g_total'])"
   ],
   "metadata": {
    "collapsed": false,
    "ExecuteTime": {
     "end_time": "2024-01-31T13:13:33.607423Z",
     "start_time": "2024-01-31T13:13:33.347877800Z"
    }
   },
   "id": "69f179465a84b143",
   "execution_count": 29
  },
  {
   "cell_type": "code",
   "outputs": [],
   "source": [
    "# gpt23 = filter_df_by_date(gpt, gpt_dataset.dvars, threshold)\n",
    "# gpt23 = filter_df_by_date(gpt23, gpt_dataset.dvars, upper_threshold, comparison_type='b')\n",
    "# gpt_mask = (gpt23[gpt_dataset.dvars] > threshold) & (gpt23[gpt_dataset.dvars] < upper_threshold)\n",
    "# gpt23_latestdate = gpt23[gpt_dataset.dvars].where(gpt_mask).max(axis=1)\n",
    "# gpt23.insert(4, \"service\", \"gpt\")\n",
    "# gpt23.insert(5, \"date\", gpt23_latestdate)\n",
    "# gpt23 = gpt23[['rid', 'fcid', 'service', 'date', 'pt_g_total']]"
   ],
   "metadata": {
    "collapsed": false,
    "ExecuteTime": {
     "end_time": "2024-01-31T13:13:33.621127900Z",
     "start_time": "2024-01-31T13:13:33.353283600Z"
    }
   },
   "id": "85166e0926c4a4d7",
   "execution_count": 30
  },
  {
   "cell_type": "code",
   "outputs": [],
   "source": [
    "# gpt23 = pd.merge(gpt23, unique_intake[[\"rid\", \"family_of_missing\", \"survivor_of_detention\", \"primary_torture\", \"secondary_torture\", \"sexual_violation_a\", \"sexual_violation_p\", \"hrd\", \"journalist\", \"wov\", \"stgbv\", \"lgbti\", \"other\"]], on='rid', how='left')\n",
    "# gpt23 = pd.merge(gpt23, unique_scr[['rid', 'sex', 'age']], on='rid', how='left')"
   ],
   "metadata": {
    "collapsed": false,
    "ExecuteTime": {
     "end_time": "2024-01-31T13:13:33.632326700Z",
     "start_time": "2024-01-31T13:13:33.356889300Z"
    }
   },
   "id": "f8412195883ecf84",
   "execution_count": 31
  },
  {
   "cell_type": "code",
   "outputs": [],
   "source": [
    "# gpt23_path = os.path.join(root, data, processed, \"unvfvt23\", \"gptBeneficiaries23.csv\")\n",
    "# gpt23.to_csv(gpt23_path, index=False)"
   ],
   "metadata": {
    "collapsed": false,
    "ExecuteTime": {
     "end_time": "2024-01-31T13:13:33.635481700Z",
     "start_time": "2024-01-31T13:13:33.364316800Z"
    }
   },
   "id": "711e63d080432fcc",
   "execution_count": 32
  },
  {
   "cell_type": "markdown",
   "source": [
    "## INDIVIDUAL PHYSIOTHERAPY PROCESSING"
   ],
   "metadata": {
    "collapsed": false
   },
   "id": "69ddaa7d56fed1c3"
  },
  {
   "cell_type": "code",
   "outputs": [],
   "source": [
    "# ipt_dataset = Dataset(config_file, ipt_sheet)\n",
    "# ipt = pd.read_csv(ipt_path)\n",
    "# ipt = dtype_trans(ipt, ipt_dataset)\n",
    "# non_nat_counts = ipt[ipt_dataset.dvars].notna().sum(axis=1)\n",
    "# ipt['pt_i_total'] = np.where(ipt['pt_i_total'] == 0, non_nat_counts, ipt['pt_i_total'])"
   ],
   "metadata": {
    "collapsed": false,
    "ExecuteTime": {
     "end_time": "2024-01-31T13:13:33.637581900Z",
     "start_time": "2024-01-31T13:13:33.368515Z"
    }
   },
   "id": "ff12eaee81499150",
   "execution_count": 33
  },
  {
   "cell_type": "code",
   "outputs": [],
   "source": [
    "# ipt23 = filter_df_by_date(ipt, ipt_dataset.dvars, threshold)\n",
    "# ipt23 = filter_df_by_date(ipt23, ipt_dataset.dvars, threshold=upper_threshold, comparison_type='b')\n",
    "# ipt_mask = (ipt23[ipt_dataset.dvars] > threshold) & (ipt23[ipt_dataset.dvars] < upper_threshold)\n",
    "# ipt23_latestdate = ipt23[ipt_dataset.dvars].where(ipt_mask).max(axis=1)\n",
    "# ipt23.insert(4, \"service\", \"ipt\")\n",
    "# ipt23.insert(5, \"date\", ipt23_latestdate)\n",
    "# ipt23 = ipt23[['rid', 'fcid', 'service', 'date', 'pt_i_total']]"
   ],
   "metadata": {
    "collapsed": false,
    "ExecuteTime": {
     "end_time": "2024-01-31T13:13:33.639764300Z",
     "start_time": "2024-01-31T13:13:33.374506200Z"
    }
   },
   "id": "9b66984d8e0c0cab",
   "execution_count": 34
  },
  {
   "cell_type": "code",
   "outputs": [],
   "source": [
    "# ipt23 = pd.merge(ipt23, unique_intake[[\"rid\", \"family_of_missing\", \"survivor_of_detention\", \"primary_torture\", \"secondary_torture\", \"sexual_violation_a\", \"sexual_violation_p\", \"hrd\", \"journalist\", \"wov\", \"stgbv\", \"lgbti\", \"other\"]], on='rid', how='left')\n",
    "# ipt23 = pd.merge(ipt23, unique_scr[['rid', 'sex', 'age']], on='rid', how='left')"
   ],
   "metadata": {
    "collapsed": false,
    "ExecuteTime": {
     "end_time": "2024-01-31T13:13:33.641369500Z",
     "start_time": "2024-01-31T13:13:33.379265200Z"
    }
   },
   "id": "e045d544b249a02b",
   "execution_count": 35
  },
  {
   "cell_type": "code",
   "outputs": [],
   "source": [
    "# ipt23_path = os.path.join(root, data, processed, \"unvfvt23\", \"iptBeneficiaries23.csv\")\n",
    "# ipt23.to_csv(ipt23_path, index=False)"
   ],
   "metadata": {
    "collapsed": false,
    "ExecuteTime": {
     "end_time": "2024-01-31T13:13:33.652382800Z",
     "start_time": "2024-01-31T13:13:33.383384200Z"
    }
   },
   "id": "f423b4795a975d95",
   "execution_count": 36
  },
  {
   "cell_type": "markdown",
   "source": [
    "## PHYSIOTHERAPY INTAKE ASSESSMENT PROCESSING"
   ],
   "metadata": {
    "collapsed": false
   },
   "id": "5772e6112d6ad0b5"
  },
  {
   "cell_type": "code",
   "outputs": [],
   "source": [
    "# ptint_dataset = Dataset(config_file, ptint_sheet)\n",
    "# ptint = pd.read_csv(ptint_path)\n",
    "# ptint = dtype_trans(ptint, ptint_dataset)"
   ],
   "metadata": {
    "collapsed": false,
    "ExecuteTime": {
     "end_time": "2024-01-31T13:13:33.658687600Z",
     "start_time": "2024-01-31T13:13:33.389329600Z"
    }
   },
   "id": "dcbb2f76b8ed6e67",
   "execution_count": 37
  },
  {
   "cell_type": "code",
   "outputs": [],
   "source": [
    "# ptint23 = filter_df_by_date(ptint, ptint_dataset.dvars, threshold)\n",
    "# ptint23 = filter_df_by_date(ptint23, ptint_dataset.dvars, threshold=upper_threshold, comparison_type='b')\n",
    "# ptint23_latestdate = ptint23[['pt_nt_s1', 'pt_nt_s2']].max(axis=1)\n",
    "# _ptint23 = ptint23.copy()\n",
    "# _ptint23.insert(4, 'service', 'ptint')\n",
    "# _ptint23.insert(5, 'date', ptint23_latestdate)\n",
    "# _ptint23 = _ptint23[['rid', 'fcid', 'service', 'date']]\n",
    "# _ptint23 = filter_df_by_date(_ptint23, ['date'], threshold)"
   ],
   "metadata": {
    "collapsed": false,
    "ExecuteTime": {
     "end_time": "2024-01-31T13:13:33.660763Z",
     "start_time": "2024-01-31T13:13:33.392945300Z"
    }
   },
   "id": "562169b77373d9ae",
   "execution_count": 38
  },
  {
   "cell_type": "code",
   "outputs": [],
   "source": [
    "# _ptint23 = pd.merge(_ptint23, unique_intake[[\"rid\", \"family_of_missing\", \"survivor_of_detention\", \"primary_torture\", \"secondary_torture\", \"sexual_violation_a\", \"sexual_violation_p\", \"hrd\", \"journalist\", \"wov\", \"stgbv\", \"lgbti\", \"other\"]], on='rid', how='left')\n",
    "# _ptint23 = pd.merge(_ptint23, unique_scr[['rid', 'sex', 'age']], on='rid', how='left')"
   ],
   "metadata": {
    "collapsed": false,
    "ExecuteTime": {
     "end_time": "2024-01-31T13:13:33.673425500Z",
     "start_time": "2024-01-31T13:13:33.397954600Z"
    }
   },
   "id": "26cf68bbc9d7e2f3",
   "execution_count": 39
  },
  {
   "cell_type": "code",
   "outputs": [],
   "source": [
    "# ptint23_path = os.path.join(root, data, processed, \"unvfvt23\", \"ptintBeneficiaries23.csv\")\n",
    "# _ptint23.to_csv(ptint23_path, index=False)"
   ],
   "metadata": {
    "collapsed": false,
    "ExecuteTime": {
     "end_time": "2024-01-31T13:13:33.701264800Z",
     "start_time": "2024-01-31T13:13:33.404957500Z"
    }
   },
   "id": "c0fbe2175c868b4c",
   "execution_count": 40
  },
  {
   "cell_type": "markdown",
   "source": [
    "## PHYSIOTHERAPY RE-INTAKE ASSESSMENT PROCESSING"
   ],
   "metadata": {
    "collapsed": false
   },
   "id": "4c707f02c6a2ed35"
  },
  {
   "cell_type": "code",
   "outputs": [],
   "source": [
    "# ptreint23 = filter_df_by_date(ptint23, ['pt_nt_re'], threshold)\n",
    "# ptreint23.insert(4, 'service', 'ptreint')\n",
    "# ptreint23 = ptreint23.rename(columns={'pt_nt_re': 'date'})\n",
    "# ptreint23 = ptreint23[['rid', 'fcid', 'service', 'date']]"
   ],
   "metadata": {
    "collapsed": false,
    "ExecuteTime": {
     "end_time": "2024-01-31T13:13:33.705331900Z",
     "start_time": "2024-01-31T13:13:33.408027600Z"
    }
   },
   "id": "fb30e49b9023208e",
   "execution_count": 41
  },
  {
   "cell_type": "code",
   "outputs": [],
   "source": [
    "# ptreint23_path = os.path.join(root, data, processed, \"unvfvt23\", \"ptreintBeneficiaries23.csv\")\n",
    "# ptreint23.to_csv(ptreint23_path, index=False)"
   ],
   "metadata": {
    "collapsed": false,
    "ExecuteTime": {
     "end_time": "2024-01-31T13:13:33.718567900Z",
     "start_time": "2024-01-31T13:13:33.414494200Z"
    }
   },
   "id": "2cc27add72261051",
   "execution_count": 42
  },
  {
   "cell_type": "markdown",
   "source": [
    "## PHYSIOTHERAPY FOLLOW-UP ASSESSMENT PROCESSING"
   ],
   "metadata": {
    "collapsed": false
   },
   "id": "f81a84684cc8dcd8"
  },
  {
   "cell_type": "code",
   "outputs": [],
   "source": [
    "# ptfua_dataset = Dataset(config_file, ptfua_sheet)\n",
    "# ptfua = pd.read_csv(ptfua_path)\n",
    "# ptfua = dtype_trans(ptfua, ptfua_dataset)"
   ],
   "metadata": {
    "collapsed": false,
    "ExecuteTime": {
     "end_time": "2024-01-31T13:13:33.720638500Z",
     "start_time": "2024-01-31T13:13:33.418576900Z"
    }
   },
   "id": "d5c0816132274c19",
   "execution_count": 43
  },
  {
   "cell_type": "code",
   "outputs": [],
   "source": [
    "# ptfua323 = filter_df_by_date(ptfua, ['fu_3m'], threshold)\n",
    "# ptfua323.insert(4, \"service\", \"ptfua3\")\n",
    "# ptfua323 = ptfua323.rename(columns={'fu_3m': 'date'})\n",
    "# ptfua323 = ptfua323[['rid', 'fcid', 'service', 'date']]\n",
    "# ptfua323 = pd.merge(ptfua323, unique_intake[[\"rid\", \"family_of_missing\", \"survivor_of_detention\", \"primary_torture\", \"secondary_torture\", \"sexual_violation_a\", \"sexual_violation_p\", \"hrd\", \"journalist\", \"wov\", \"stgbv\", \"lgbti\", \"other\"]], on='rid', how='left')\n",
    "# ptfua323 = pd.merge(ptfua323, unique_scr[['rid', 'sex', 'age']], on='rid', how='left')\n",
    "# ptfua323_path = os.path.join(root, data, processed, \"unvfvt23\", \"ptfua3Beneficiaries23.csv\")\n",
    "# ptfua323.to_csv(ptfua323_path, index=False)"
   ],
   "metadata": {
    "collapsed": false,
    "ExecuteTime": {
     "end_time": "2024-01-31T13:13:33.723223800Z",
     "start_time": "2024-01-31T13:13:33.425107600Z"
    }
   },
   "id": "13765e8923ff9e3a",
   "execution_count": 44
  },
  {
   "cell_type": "code",
   "outputs": [],
   "source": [
    "# ptfua623 = filter_df_by_date(ptfua, ['fu_6m'], threshold)\n",
    "# ptfua623 = filter_df_by_date(ptfua623, ['fu_6m'], threshold=upper_threshold, comparison_type='b')\n",
    "# ptfua623.insert(4, \"service\", \"ptfua6\")\n",
    "# ptfua623 = ptfua623.rename(columns={'fu_6m': 'date'})\n",
    "# ptfua623 = ptfua623[['rid', 'fcid', 'service', 'date']]\n",
    "# ptfua623 = pd.merge(ptfua623, unique_intake[[\"rid\", \"family_of_missing\", \"survivor_of_detention\", \"primary_torture\", \"secondary_torture\", \"sexual_violation_a\", \"sexual_violation_p\", \"hrd\", \"journalist\", \"wov\", \"stgbv\", \"lgbti\", \"other\"]], on='rid', how='left')\n",
    "# ptfua623 = pd.merge(ptfua623, unique_scr[['rid', 'sex', 'age']], on='rid', how='left')\n",
    "# ptfua623_path = os.path.join(root, data, processed, \"unvfvt23\", \"ptfua6Beneficiaries23.csv\")\n",
    "# ptfua623.to_csv(ptfua623_path, index=False)"
   ],
   "metadata": {
    "collapsed": false,
    "ExecuteTime": {
     "end_time": "2024-01-31T13:13:33.724299800Z",
     "start_time": "2024-01-31T13:13:33.430246Z"
    }
   },
   "id": "649e26ea9760c362",
   "execution_count": 45
  },
  {
   "cell_type": "code",
   "outputs": [],
   "source": [
    "# ptfua1223 = filter_df_by_date(ptfua, ['fu_12m'], threshold)\n",
    "# ptfua1223 = filter_df_by_date(ptfua1223, ['fu_12m'], threshold=upper_threshold, comparison_type='b')\n",
    "# ptfua1223.insert(4, \"service\", \"ptfua12\")\n",
    "# ptfua1223 = ptfua1223.rename(columns={'fu_12m': 'date'})\n",
    "# ptfua1223 = ptfua1223[['rid', 'fcid', 'service', 'date']]\n",
    "# ptfua1223 = pd.merge(ptfua1223, unique_intake[[\"rid\", \"family_of_missing\", \"survivor_of_detention\", \"primary_torture\", \"secondary_torture\", \"sexual_violation_a\", \"sexual_violation_p\", \"hrd\", \"journalist\", \"wov\", \"stgbv\", \"lgbti\", \"other\"]], on='rid', how='left')\n",
    "# ptfua1223 = pd.merge(ptfua1223, unique_scr[['rid', 'sex', 'age']], on='rid', how='left')\n",
    "# ptfua1223_path = os.path.join(root, data, processed, \"unvfvt23\", \"ptfua12Beneficiaries23.csv\")\n",
    "# ptfua1223.to_csv(ptfua1223_path, index=False)"
   ],
   "metadata": {
    "collapsed": false,
    "ExecuteTime": {
     "end_time": "2024-01-31T13:13:33.726438800Z",
     "start_time": "2024-01-31T13:13:33.433820400Z"
    }
   },
   "id": "81e1ce70ccfbf89d",
   "execution_count": 46
  },
  {
   "cell_type": "markdown",
   "source": [
    "# CONSOLIDATION"
   ],
   "metadata": {
    "collapsed": false
   },
   "id": "294e877aeaa33bbf"
  },
  {
   "cell_type": "code",
   "outputs": [],
   "source": [
    "suffix = \"Beneficiaries23.csv\""
   ],
   "metadata": {
    "collapsed": false,
    "ExecuteTime": {
     "end_time": "2024-01-31T13:13:33.873499600Z",
     "start_time": "2024-01-31T13:13:33.439644Z"
    }
   },
   "id": "a2361c23691d7daf",
   "execution_count": 47
  },
  {
   "cell_type": "code",
   "outputs": [],
   "source": [
    "prefix = \"int\""
   ],
   "metadata": {
    "collapsed": false,
    "ExecuteTime": {
     "end_time": "2024-01-31T13:13:33.875520400Z",
     "start_time": "2024-01-31T13:13:33.448995900Z"
    }
   },
   "id": "899ed7149858aabd",
   "execution_count": 48
  },
  {
   "cell_type": "code",
   "outputs": [],
   "source": [
    "filename = os.path.join(unvfvt23, prefix + suffix)"
   ],
   "metadata": {
    "collapsed": false,
    "ExecuteTime": {
     "end_time": "2024-01-31T13:13:34.004074200Z",
     "start_time": "2024-01-31T13:13:33.663470300Z"
    }
   },
   "id": "b08b69658a1d0cde",
   "execution_count": 49
  },
  {
   "cell_type": "code",
   "outputs": [
    {
     "data": {
      "text/plain": "      rid        fcid service        date family_of_missing  \\\n0   R0599  8110050093     int  2023-01-02                No   \n1   R0583  8110080011     int  2023-01-04                No   \n2   R0582  8110050094     int  2023-01-04               Yes   \n3   R0203  8110050095     int  2023-01-04               Yes   \n4   R0573  8110080008     int  2023-01-05                No   \n..    ...         ...     ...         ...               ...   \n56  R0870  8110110009     int  2023-11-08               Yes   \n57  R0864  8110050105     int  2023-11-09               Yes   \n58  R1076  8110050108     int  2023-11-13               Yes   \n59  R1023  8110050107     int  2023-11-13               Yes   \n60  R0801  8110080019     int  2023-11-14               Yes   \n\n   survivor_of_detention primary_torture secondary_torture sexual_violation_a  \\\n0                    Yes             Yes               Yes                NaN   \n1                     No              No                No                 No   \n2                    Yes             Yes               Yes                Yes   \n3                    Yes             Yes               Yes                NaN   \n4                     No             Yes               Yes                Yes   \n..                   ...             ...               ...                ...   \n56                    No              No               Yes                 No   \n57                    No              No               Yes                 No   \n58                    No              No                No                 No   \n59                   Yes             Yes                No                 No   \n60                    No             Yes               Yes                Yes   \n\n   sexual_violation_p  hrd journalist  wov stgbv lgbti other     sex  age  \n0                 NaN  NaN        NaN  Yes    No    No    No    Male   56  \n1                  No   No         No  Yes    No    No    No  Female   35  \n2                  No   No         No  Yes    No    No    No    Male   32  \n3                 NaN  NaN        NaN  Yes    No    No    No    Male   37  \n4                  No   No         No  Yes    No    No    No  Female   41  \n..                ...  ...        ...  ...   ...   ...   ...     ...  ...  \n56                 No   No         No  Yes    No    No    No  Female   47  \n57                 No   No         No  Yes    No    No    No  Female   44  \n58                 No   No         No  Yes    No    No    No  Female   27  \n59                 No  Yes         No  Yes    No    No    No    Male   41  \n60                 No   No         No  Yes    No    No    No  Female   42  \n\n[61 rows x 18 columns]",
      "text/html": "<div>\n<style scoped>\n    .dataframe tbody tr th:only-of-type {\n        vertical-align: middle;\n    }\n\n    .dataframe tbody tr th {\n        vertical-align: top;\n    }\n\n    .dataframe thead th {\n        text-align: right;\n    }\n</style>\n<table border=\"1\" class=\"dataframe\">\n  <thead>\n    <tr style=\"text-align: right;\">\n      <th></th>\n      <th>rid</th>\n      <th>fcid</th>\n      <th>service</th>\n      <th>date</th>\n      <th>family_of_missing</th>\n      <th>survivor_of_detention</th>\n      <th>primary_torture</th>\n      <th>secondary_torture</th>\n      <th>sexual_violation_a</th>\n      <th>sexual_violation_p</th>\n      <th>hrd</th>\n      <th>journalist</th>\n      <th>wov</th>\n      <th>stgbv</th>\n      <th>lgbti</th>\n      <th>other</th>\n      <th>sex</th>\n      <th>age</th>\n    </tr>\n  </thead>\n  <tbody>\n    <tr>\n      <th>0</th>\n      <td>R0599</td>\n      <td>8110050093</td>\n      <td>int</td>\n      <td>2023-01-02</td>\n      <td>No</td>\n      <td>Yes</td>\n      <td>Yes</td>\n      <td>Yes</td>\n      <td>NaN</td>\n      <td>NaN</td>\n      <td>NaN</td>\n      <td>NaN</td>\n      <td>Yes</td>\n      <td>No</td>\n      <td>No</td>\n      <td>No</td>\n      <td>Male</td>\n      <td>56</td>\n    </tr>\n    <tr>\n      <th>1</th>\n      <td>R0583</td>\n      <td>8110080011</td>\n      <td>int</td>\n      <td>2023-01-04</td>\n      <td>No</td>\n      <td>No</td>\n      <td>No</td>\n      <td>No</td>\n      <td>No</td>\n      <td>No</td>\n      <td>No</td>\n      <td>No</td>\n      <td>Yes</td>\n      <td>No</td>\n      <td>No</td>\n      <td>No</td>\n      <td>Female</td>\n      <td>35</td>\n    </tr>\n    <tr>\n      <th>2</th>\n      <td>R0582</td>\n      <td>8110050094</td>\n      <td>int</td>\n      <td>2023-01-04</td>\n      <td>Yes</td>\n      <td>Yes</td>\n      <td>Yes</td>\n      <td>Yes</td>\n      <td>Yes</td>\n      <td>No</td>\n      <td>No</td>\n      <td>No</td>\n      <td>Yes</td>\n      <td>No</td>\n      <td>No</td>\n      <td>No</td>\n      <td>Male</td>\n      <td>32</td>\n    </tr>\n    <tr>\n      <th>3</th>\n      <td>R0203</td>\n      <td>8110050095</td>\n      <td>int</td>\n      <td>2023-01-04</td>\n      <td>Yes</td>\n      <td>Yes</td>\n      <td>Yes</td>\n      <td>Yes</td>\n      <td>NaN</td>\n      <td>NaN</td>\n      <td>NaN</td>\n      <td>NaN</td>\n      <td>Yes</td>\n      <td>No</td>\n      <td>No</td>\n      <td>No</td>\n      <td>Male</td>\n      <td>37</td>\n    </tr>\n    <tr>\n      <th>4</th>\n      <td>R0573</td>\n      <td>8110080008</td>\n      <td>int</td>\n      <td>2023-01-05</td>\n      <td>No</td>\n      <td>No</td>\n      <td>Yes</td>\n      <td>Yes</td>\n      <td>Yes</td>\n      <td>No</td>\n      <td>No</td>\n      <td>No</td>\n      <td>Yes</td>\n      <td>No</td>\n      <td>No</td>\n      <td>No</td>\n      <td>Female</td>\n      <td>41</td>\n    </tr>\n    <tr>\n      <th>...</th>\n      <td>...</td>\n      <td>...</td>\n      <td>...</td>\n      <td>...</td>\n      <td>...</td>\n      <td>...</td>\n      <td>...</td>\n      <td>...</td>\n      <td>...</td>\n      <td>...</td>\n      <td>...</td>\n      <td>...</td>\n      <td>...</td>\n      <td>...</td>\n      <td>...</td>\n      <td>...</td>\n      <td>...</td>\n      <td>...</td>\n    </tr>\n    <tr>\n      <th>56</th>\n      <td>R0870</td>\n      <td>8110110009</td>\n      <td>int</td>\n      <td>2023-11-08</td>\n      <td>Yes</td>\n      <td>No</td>\n      <td>No</td>\n      <td>Yes</td>\n      <td>No</td>\n      <td>No</td>\n      <td>No</td>\n      <td>No</td>\n      <td>Yes</td>\n      <td>No</td>\n      <td>No</td>\n      <td>No</td>\n      <td>Female</td>\n      <td>47</td>\n    </tr>\n    <tr>\n      <th>57</th>\n      <td>R0864</td>\n      <td>8110050105</td>\n      <td>int</td>\n      <td>2023-11-09</td>\n      <td>Yes</td>\n      <td>No</td>\n      <td>No</td>\n      <td>Yes</td>\n      <td>No</td>\n      <td>No</td>\n      <td>No</td>\n      <td>No</td>\n      <td>Yes</td>\n      <td>No</td>\n      <td>No</td>\n      <td>No</td>\n      <td>Female</td>\n      <td>44</td>\n    </tr>\n    <tr>\n      <th>58</th>\n      <td>R1076</td>\n      <td>8110050108</td>\n      <td>int</td>\n      <td>2023-11-13</td>\n      <td>Yes</td>\n      <td>No</td>\n      <td>No</td>\n      <td>No</td>\n      <td>No</td>\n      <td>No</td>\n      <td>No</td>\n      <td>No</td>\n      <td>Yes</td>\n      <td>No</td>\n      <td>No</td>\n      <td>No</td>\n      <td>Female</td>\n      <td>27</td>\n    </tr>\n    <tr>\n      <th>59</th>\n      <td>R1023</td>\n      <td>8110050107</td>\n      <td>int</td>\n      <td>2023-11-13</td>\n      <td>Yes</td>\n      <td>Yes</td>\n      <td>Yes</td>\n      <td>No</td>\n      <td>No</td>\n      <td>No</td>\n      <td>Yes</td>\n      <td>No</td>\n      <td>Yes</td>\n      <td>No</td>\n      <td>No</td>\n      <td>No</td>\n      <td>Male</td>\n      <td>41</td>\n    </tr>\n    <tr>\n      <th>60</th>\n      <td>R0801</td>\n      <td>8110080019</td>\n      <td>int</td>\n      <td>2023-11-14</td>\n      <td>Yes</td>\n      <td>No</td>\n      <td>Yes</td>\n      <td>Yes</td>\n      <td>Yes</td>\n      <td>No</td>\n      <td>No</td>\n      <td>No</td>\n      <td>Yes</td>\n      <td>No</td>\n      <td>No</td>\n      <td>No</td>\n      <td>Female</td>\n      <td>42</td>\n    </tr>\n  </tbody>\n</table>\n<p>61 rows × 18 columns</p>\n</div>"
     },
     "execution_count": 50,
     "metadata": {},
     "output_type": "execute_result"
    }
   ],
   "source": [
    "pd.read_csv(filename)"
   ],
   "metadata": {
    "collapsed": false,
    "ExecuteTime": {
     "end_time": "2024-01-31T13:14:54.493087700Z",
     "start_time": "2024-01-31T13:14:54.436297600Z"
    }
   },
   "id": "a17fb774752c64a2",
   "execution_count": 50
  },
  {
   "cell_type": "code",
   "outputs": [],
   "source": [],
   "metadata": {
    "collapsed": false
   },
   "id": "a21e3ffc24cf5ff7"
  }
 ],
 "metadata": {
  "kernelspec": {
   "display_name": "Python 3",
   "language": "python",
   "name": "python3"
  },
  "language_info": {
   "codemirror_mode": {
    "name": "ipython",
    "version": 2
   },
   "file_extension": ".py",
   "mimetype": "text/x-python",
   "name": "python",
   "nbconvert_exporter": "python",
   "pygments_lexer": "ipython2",
   "version": "2.7.6"
  }
 },
 "nbformat": 4,
 "nbformat_minor": 5
}
