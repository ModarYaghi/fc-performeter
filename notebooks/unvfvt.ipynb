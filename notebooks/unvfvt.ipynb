{
 "cells": [
  {
   "cell_type": "code",
   "execution_count": 1,
   "id": "initial_id",
   "metadata": {
    "collapsed": true,
    "ExecuteTime": {
     "end_time": "2024-02-05T01:35:05.676341900Z",
     "start_time": "2024-02-05T01:35:04.535446600Z"
    }
   },
   "outputs": [],
   "source": [
    "import os.path\n",
    "\n",
    "import pandas as pd\n",
    "from src.all_in_one import *\n",
    "threshold = \"2022-12-31\"\n",
    "upper_threshold = \"2024-01-01\""
   ]
  },
  {
   "cell_type": "markdown",
   "source": [
    "# UNIQUE SCREENING BENEFICIARIES RECORDS"
   ],
   "metadata": {
    "collapsed": false
   },
   "id": "7dfd63881e541747"
  },
  {
   "cell_type": "code",
   "outputs": [],
   "source": [
    "scr_dataset = Dataset(config_file, scr_sheet)\n",
    "scr = pd.read_csv(scr_path)\n",
    "unique_scr = scr.drop_duplicates(subset='rid')"
   ],
   "metadata": {
    "collapsed": false,
    "ExecuteTime": {
     "end_time": "2024-02-05T01:35:05.773298Z",
     "start_time": "2024-02-05T01:35:05.593831700Z"
    }
   },
   "id": "f6ca545046cfc7b6",
   "execution_count": 2
  },
  {
   "cell_type": "markdown",
   "source": [
    "# UNIQUE INTAKE BENEFICIARIES RECORDS"
   ],
   "metadata": {
    "collapsed": false
   },
   "id": "8b4ec0b857e201bf"
  },
  {
   "cell_type": "code",
   "outputs": [],
   "source": [
    "int_dataset = Dataset(config_file, int_sheet)\n",
    "intake = pd.read_csv(int_path)\n",
    "dtype_trans(intake, int_dataset)\n",
    "intake.insert(4, \"service\", None)\n",
    "intake.sort_values(by=['nt_s1', 'nt_s2', 'nt_s3', 'nt_re'], ascending=True)\n",
    "unique_intake = intake.drop_duplicates(subset='rid', keep='last')"
   ],
   "metadata": {
    "collapsed": false,
    "ExecuteTime": {
     "end_time": "2024-02-05T01:35:05.841693200Z",
     "start_time": "2024-02-05T01:35:05.680395400Z"
    }
   },
   "id": "c5e7201a5c870edb",
   "execution_count": 3
  },
  {
   "cell_type": "code",
   "outputs": [],
   "source": [
    "# path = os.path.join(unvfvt23, 'ptreintBeneficiaries23.csv')\n",
    "# ptreint = pd.read_csv(path)\n",
    "# ptreint.insert(4, 'session_num', 0)\n",
    "# ptreint = pd.merge(ptreint, unique_intake[[\"rid\", \"family_of_missing\", \"survivor_of_detention\", \"primary_torture\", \"secondary_torture\", \"sexual_violation_a\", \"sexual_violation_p\", \"hrd\", \"journalist\", \"wov\", \"stgbv\", \"lgbti\", \"other\"]], on='rid', how='left')\n",
    "# ptreint = pd.merge(ptreint, unique_scr[['rid', 'sex', 'age']], on='rid', how='left')\n",
    "# ptreint"
   ],
   "metadata": {
    "collapsed": false,
    "ExecuteTime": {
     "end_time": "2024-02-05T01:35:05.875855300Z",
     "start_time": "2024-02-05T01:35:05.767865200Z"
    }
   },
   "id": "b75e787de0500e07",
   "execution_count": 4
  },
  {
   "cell_type": "code",
   "outputs": [],
   "source": [
    "# ptreint.to_csv(path, index=False)"
   ],
   "metadata": {
    "collapsed": false,
    "ExecuteTime": {
     "end_time": "2024-02-05T01:35:05.879528500Z",
     "start_time": "2024-02-05T01:35:05.773298Z"
    }
   },
   "id": "d1c566c0d6127250",
   "execution_count": 5
  },
  {
   "cell_type": "code",
   "outputs": [],
   "source": [
    "# intake[intake['fcid'] == 8110020103]"
   ],
   "metadata": {
    "collapsed": false,
    "ExecuteTime": {
     "end_time": "2024-02-05T01:35:05.920499300Z",
     "start_time": "2024-02-05T01:35:05.778381700Z"
    }
   },
   "id": "cf04d2eb76df794c",
   "execution_count": 6
  },
  {
   "cell_type": "markdown",
   "source": [
    "## PSYCHOSOCIAL INTAKE ASSESSMENT PROCESSING"
   ],
   "metadata": {
    "collapsed": false
   },
   "id": "9bd580849ff756a6"
  },
  {
   "cell_type": "code",
   "outputs": [],
   "source": [
    "# intake_23 = filter_df_by_date(intake, [\"nt_s2\"], threshold=threshold)\n",
    "# intake_23 = intake_23[[\"rid\", \"fcid\", \"service\",\"nt_s2\", \"family_of_missing\", \"survivor_of_detention\", \"primary_torture\", \"secondary_torture\", \"sexual_violation_a\", \"sexual_violation_p\", \"hrd\", \"journalist\", \"wov\", \"stgbv\", \"lgbti\", \"other\"]]\n",
    "# intake_23[\"service\"] = \"int\"\n",
    "# intake_23.rename(columns={\"nt_s2\": \"date\"}, inplace=True)\n",
    "# intake_23"
   ],
   "metadata": {
    "collapsed": false,
    "ExecuteTime": {
     "end_time": "2024-02-05T01:35:05.922619300Z",
     "start_time": "2024-02-05T01:35:05.784289700Z"
    }
   },
   "id": "3bd277f5e79c3f74",
   "execution_count": 7
  },
  {
   "cell_type": "code",
   "outputs": [],
   "source": [
    "# intake3_23 = filter_df_by_date(intake, [\"nt_s3\"], threshold=threshold)\n",
    "# intake3_23 = intake3_23[[\"rid\", \"fcid\", \"service\",\"nt_s3\", \"family_of_missing\", \"survivor_of_detention\", \"primary_torture\", \"secondary_torture\", \"sexual_violation_a\", \"sexual_violation_p\", \"hrd\", \"journalist\", \"wov\", \"stgbv\", \"lgbti\", \"other\"]]\n",
    "# intake3_23[\"service\"] = \"int\"\n",
    "# intake3_23.rename(columns={\"nt_s3\": \"date\"}, inplace=True)"
   ],
   "metadata": {
    "collapsed": false,
    "ExecuteTime": {
     "end_time": "2024-02-05T01:35:05.923684800Z",
     "start_time": "2024-02-05T01:35:05.788860400Z"
    }
   },
   "id": "2d5fbae3de9ac652",
   "execution_count": 8
  },
  {
   "cell_type": "markdown",
   "source": [
    "## PSYCHOSOCIAL RE-INTAKE ASSESSMENT PROCESSING"
   ],
   "metadata": {
    "collapsed": false
   },
   "id": "fce221b37aa3b482"
  },
  {
   "cell_type": "code",
   "outputs": [],
   "source": [
    "# reintake_23 = filter_df_by_date(intake, [\"nt_re\"], threshold=threshold)\n",
    "# reintake_23 = reintake_23[[\"rid\", \"fcid\", \"service\",\"nt_re\", \"family_of_missing\", \"survivor_of_detention\", \"primary_torture\", \"secondary_torture\", \"sexual_violation_a\", \"sexual_violation_p\", \"hrd\", \"journalist\", \"wov\", \"stgbv\", \"lgbti\", \"other\"]]\n",
    "# reintake_23[\"service\"] = \"re\"\n",
    "# reintake_23.rename(columns={\"nt_re\": \"date\"}, inplace=True)"
   ],
   "metadata": {
    "collapsed": false,
    "ExecuteTime": {
     "end_time": "2024-02-05T01:35:05.964193400Z",
     "start_time": "2024-02-05T01:35:05.793658200Z"
    }
   },
   "id": "bccf37defd21eb2a",
   "execution_count": 9
  },
  {
   "cell_type": "code",
   "outputs": [],
   "source": [
    "# int23 = pd.concat([intake_23, intake3_23,reintake_23])"
   ],
   "metadata": {
    "collapsed": false,
    "ExecuteTime": {
     "end_time": "2024-02-05T01:35:05.966344500Z",
     "start_time": "2024-02-05T01:35:05.799635900Z"
    }
   },
   "id": "97466640bf06dbea",
   "execution_count": 10
  },
  {
   "cell_type": "code",
   "outputs": [],
   "source": [
    "# int23 = pd.merge(int23, unique_scr[['rid', 'sex', 'age']], on='rid', how='left')"
   ],
   "metadata": {
    "collapsed": false,
    "ExecuteTime": {
     "end_time": "2024-02-05T01:35:05.968500500Z",
     "start_time": "2024-02-05T01:35:05.804026900Z"
    }
   },
   "id": "48820c2a6757eb52",
   "execution_count": 11
  },
  {
   "cell_type": "code",
   "outputs": [],
   "source": [
    "# _intake23 = intake23[intake23['service'] == 'int']\n",
    "# reintake23 = intake23[intake23['service'] == 're']\n",
    "# _intake23_path= os.path.join(root, data, processed, \"unvfvt23\", \"intBeneficiaries23.csv\")\n",
    "# reintake23_path= os.path.join(root, data, processed, \"unvfvt23\", \"reintBeneficiaries23.csv\")\n",
    "# _intake23.to_csv(_intake23_path, index=False)\n",
    "# reintake23.to_csv(reintake23_path, index=False)"
   ],
   "metadata": {
    "collapsed": false,
    "ExecuteTime": {
     "end_time": "2024-02-05T01:35:06.001732600Z",
     "start_time": "2024-02-05T01:35:05.809761700Z"
    }
   },
   "id": "86ab3bce1cd77002",
   "execution_count": 12
  },
  {
   "cell_type": "markdown",
   "source": [
    "## GROUP PSYCHOSOCIAL THERAPY COUNSELING PROCESSING"
   ],
   "metadata": {
    "collapsed": false
   },
   "id": "75a24c04a73bda93"
  },
  {
   "cell_type": "code",
   "outputs": [],
   "source": [
    "# gc_dataset = Dataset(config_file, gc_sheet)\n",
    "# gc = pd.read_csv(gc_path)\n",
    "# dtype_trans(gc, gc_dataset)"
   ],
   "metadata": {
    "collapsed": false,
    "ExecuteTime": {
     "end_time": "2024-02-05T01:35:06.003908800Z",
     "start_time": "2024-02-05T01:35:05.818640400Z"
    }
   },
   "id": "f834e4263ce87a39",
   "execution_count": 13
  },
  {
   "cell_type": "code",
   "outputs": [],
   "source": [
    "# gc23 = filter_df_by_date(gc, ['gc_s1', 'gc_s2', 'gc_s3', 'gc_s4', 'gc_s5', 'gc_s6', 'gc_s7', 'gc_s8', 'gc_s9', 'gc_10'], threshold)\n",
    "# gc23 = gc23[gc23[\"gc_total\"] >= 7]\n",
    "# gc23_latestdate = gc23[['gc_s1', 'gc_s2', 'gc_s3', 'gc_s4', 'gc_s5', 'gc_s6', 'gc_s7', 'gc_s8', 'gc_s9', 'gc_10']].max(axis=1)\n",
    "# gc23.insert(4, \"service\", \"gc\")\n",
    "# gc23.insert(5, \"date\", gc23_latestdate)\n",
    "# gc23"
   ],
   "metadata": {
    "collapsed": false,
    "ExecuteTime": {
     "end_time": "2024-02-05T01:35:06.006004400Z",
     "start_time": "2024-02-05T01:35:05.825047700Z"
    }
   },
   "id": "121b24b2767697b",
   "execution_count": 14
  },
  {
   "cell_type": "code",
   "outputs": [],
   "source": [
    "# gc23 = gc23[['rid', 'fcid', 'service', 'date', 'gc_total']]\n",
    "# gc23 = pd.merge(gc23, unique_intake[[\"rid\", \"family_of_missing\", \"survivor_of_detention\", \"primary_torture\", \"secondary_torture\", \"sexual_violation_a\", \"sexual_violation_p\", \"hrd\", \"journalist\", \"wov\", \"stgbv\", \"lgbti\", \"other\"]], on='rid', how='left')\n",
    "# gc23 = pd.merge(gc23, unique_scr[['rid', 'sex', 'age']], on='rid', how='left')\n",
    "# gc23"
   ],
   "metadata": {
    "collapsed": false,
    "ExecuteTime": {
     "end_time": "2024-02-05T01:35:06.039878Z",
     "start_time": "2024-02-05T01:35:05.829825200Z"
    }
   },
   "id": "54d802f358d3213a",
   "execution_count": 15
  },
  {
   "cell_type": "code",
   "outputs": [],
   "source": [
    "# gc23_path = os.path.join(root, data, processed, \"unvfvt23\", \"gc23\")\n",
    "# gc23 = pd.read_csv(gc23_path)\n",
    "# gc23"
   ],
   "metadata": {
    "collapsed": false,
    "ExecuteTime": {
     "end_time": "2024-02-05T01:35:06.041952900Z",
     "start_time": "2024-02-05T01:35:05.835160600Z"
    }
   },
   "id": "15ca971dcd356d42",
   "execution_count": 16
  },
  {
   "cell_type": "markdown",
   "source": [
    "## INDIVIDUAL PSYCHOSOCIAL THERAPY COUNSELING PROCESSING"
   ],
   "metadata": {
    "collapsed": false
   },
   "id": "7d2690e8afc8ef86"
  },
  {
   "cell_type": "code",
   "outputs": [
    {
     "data": {
      "text/plain": "   icsp  icspi    rid        fcid firstname      lastname need_pt      ic_s1  \\\n0    IJ      1  R0716  8110080013     مديحة          فتوح     NaN 2023-07-27   \n1    SA      1  R0057  8110050006      رحاب        المصري    IPT  2021-04-15   \n2    SA      2  R0088  8110060011   ابراهيم         العلي   No PT 2021-09-29   \n3    SA      3  R0109  8110050020     نديمة        المصري     GPT 2021-11-30   \n4    SA      4  R0008  8110020020     إيمان          ديري     GPT 2022-03-15   \n5    SA      5  R0189  8110050033      هالة          غزال   No PT 2022-01-10   \n6    SA      6  R0197  8110070006     فاطمة      حج عثمان   No PT 2022-03-29   \n7    SA      7  R0188  8110050031      سهاد          عديل   No PT 2022-04-06   \n8    SA      8  R0102  8110050015     خديجة         رمضان     GPT 2022-05-10   \n9    SA      9  R0092  8110050011     إيمان        الصالح     GPT 2022-05-10   \n10   SA     10  R0063  8110050010      آمنة          رزوق     GPT 2022-05-12   \n11   SA     11  R0065  8110060004     عروبة         دوارة     GPT 2022-05-12   \n12   SA     12  R0066  8110060006      غادة          عرجة     GPT 2022-05-12   \n13   SA     13  R0107  8110050017      بشرى            طه   No PT 2022-05-18   \n14   SA     14  R0430  8110050061     منصور        الصيني    IPT  2022-06-03   \n15   SA     15  R0237  8110050049       هدى          طالب   No PT 2022-06-20   \n16   SA     16  R0181  8110050028      أحمد          رزوق   No PT 2022-06-28   \n17   SA     17  R0481  8110080002     حميدة         مصطفى   No PT 2022-09-07   \n18   SA     18  R0196  8110020073     أسماء          بكار   No PT 2022-09-07   \n19   SA     19  R0528  8110050081      وائل          يسقي   No PT 2022-10-11   \n20   SA     20  R0582  8110050094      حمزة       الحريري    IPT  2023-04-12   \n21   SA     21  R0592  8110050096      مهند           صعب    IPT  2023-01-25   \n22   SA     22  R0391  8110050067      رقية      عبد الله     GPT 2023-07-14   \n23   SA     23  R0226  8110050042       مها        الكردي   No PT 2023-07-26   \n24   SA     24  R0378  8110050066     عائشة        الخاطر   No PT 2023-07-31   \n25   SA     25  R0725  8110050097       ربى          قطشة    IPT  2023-08-04   \n26   SA     26  R0487  8110080005      رياض          أسعد     GPT 2023-10-31   \n27   YQ      1  R0046  8110020047      منيب          نصار   No PT 2021-02-22   \n28   YQ      2  R0073  8110020051      علاء  الدين ابازيد    IPT  2021-07-30   \n29   YQ      3  R0084  8110020053      خالد         الاغا    IPT  2021-09-17   \n30   YQ      4  R0099  8110020055      أحمد         دوخان   No PT 2021-11-18   \n31   YQ      5  R0083  8110060010      منال        المصري   No PT 2021-09-14   \n32   YQ      6  R0185  8110020066      محمد         رمضان   No PT 2022-03-03   \n33   YQ      7  R0415  8110020102       قيس      أبو نقطة    IPT  2022-09-02   \n34   YQ      8  R0476  8110020117     فطومة        الحسين   No PT 2022-11-08   \n35   YQ      9  R0733  8110080014      محمد   طارق الطباع    IPT  2023-08-09   \n36   YQ     10  R0183  8110020101      رفيق          خنوس    IPT  2023-10-13   \n\n        ic_s2      ic_s3      ic_s4      ic_s5      ic_s6      ic_s7  \\\n0         NaT        NaT        NaT        NaT        NaT        NaT   \n1  2022-04-22 2022-04-29 2022-05-06 2022-05-27 2021-07-30 2021-08-10   \n2  2021-10-11        NaT        NaT        NaT        NaT        NaT   \n3  2021-12-02 2021-12-07 2022-03-09 2022-04-06        NaT        NaT   \n4  2022-03-30 2022-04-13 2022-05-09        NaT        NaT        NaT   \n5  2022-03-18 2022-04-04        NaT        NaT        NaT        NaT   \n6  2022-04-06 2022-04-13 2022-04-21 2022-04-27 2022-06-08        NaT   \n7  2022-04-21 2022-04-26 2022-08-22 2022-10-10        NaT        NaT   \n8         NaT        NaT        NaT        NaT        NaT        NaT   \n9         NaT        NaT        NaT        NaT        NaT        NaT   \n10        NaT        NaT        NaT        NaT        NaT        NaT   \n11        NaT        NaT        NaT        NaT        NaT        NaT   \n12        NaT        NaT        NaT        NaT        NaT        NaT   \n13        NaT        NaT        NaT        NaT        NaT        NaT   \n14 2022-06-23 2022-08-24 2022-10-13 2022-11-28 2022-12-05 2022-12-12   \n15        NaT        NaT        NaT        NaT        NaT        NaT   \n16 2022-07-07 2023-05-11 2023-07-12 2023-07-18        NaT        NaT   \n17 2022-09-14        NaT        NaT        NaT        NaT        NaT   \n18 2022-09-14 2022-09-28 2022-12-27 2023-01-11        NaT        NaT   \n19 2022-11-01 2022-11-16 2022-11-23 2022-12-07 2022-12-14 2023-01-05   \n20        NaT        NaT        NaT        NaT        NaT        NaT   \n21 2023-05-11 2023-05-18 2023-05-25 2023-06-01 2023-06-19 2023-06-23   \n22 2023-07-18 2023-07-26 2023-08-24        NaT        NaT        NaT   \n23 2023-08-17 2023-08-24        NaT        NaT        NaT        NaT   \n24 2023-08-10 2023-08-24        NaT        NaT        NaT        NaT   \n25 2023-08-09 2023-08-16 2023-08-23 2023-09-06 2023-09-14 2023-10-04   \n26 2023-11-08        NaT        NaT        NaT        NaT        NaT   \n27 2021-03-02 2021-03-02 2021-03-17 2021-03-31 2021-04-08 2021-04-15   \n28 2021-08-03 2021-08-10 2021-08-17 2021-08-24 2021-08-31 2021-09-07   \n29 2021-09-21 2021-09-30 2021-10-11 2021-10-15 2021-10-21 2021-10-27   \n30 2021-11-25 2021-12-02 2021-12-09 2021-12-16 2022-01-06 2022-01-13   \n31 2021-09-20 2021-10-07 2021-10-18 2021-11-04 2021-11-16 2021-11-30   \n32 2022-03-10 2022-03-17 2022-04-07 2022-04-14 2022-04-21 2022-05-12   \n33 2022-09-23 2022-09-30 2022-10-07 2022-10-19 2022-11-04 2022-11-09   \n34        NaT        NaT        NaT        NaT        NaT        NaT   \n35 2023-08-16 2023-08-23 2023-08-31 2023-09-12 2023-10-04 2023-12-13   \n36 2023-10-27 2023-11-03 2023-11-10 2023-11-15        NaT        NaT   \n\n        ic_s8      ic_s9     ic_s10  ic_total  \\\n0         NaT        NaT        NaT         1   \n1  2021-08-17 2021-09-22 2021-12-09        18   \n2         NaT        NaT 2021-10-11         2   \n3         NaT        NaT        NaT         5   \n4         NaT        NaT        NaT         4   \n5         NaT        NaT 2022-04-04         3   \n6         NaT        NaT        NaT         6   \n7         NaT        NaT        NaT         5   \n8         NaT        NaT        NaT         1   \n9         NaT        NaT        NaT         1   \n10        NaT        NaT        NaT         1   \n11        NaT        NaT        NaT         1   \n12        NaT        NaT        NaT         1   \n13        NaT        NaT        NaT         1   \n14 2023-01-11 2023-01-18 2023-07-13        10   \n15        NaT        NaT        NaT         1   \n16        NaT        NaT        NaT         5   \n17        NaT        NaT        NaT         2   \n18        NaT        NaT        NaT         5   \n19 2023-01-11 2023-01-18 2023-01-25        10   \n20        NaT        NaT        NaT         3   \n21 2023-07-06 2023-07-13 2023-07-20        10   \n22        NaT        NaT        NaT         4   \n23        NaT        NaT        NaT         3   \n24        NaT        NaT        NaT         3   \n25 2023-10-11 2023-10-19 2023-10-26        10   \n26        NaT        NaT        NaT         2   \n27 2021-04-22 2021-05-28 2022-03-04        14   \n28 2021-09-14 2021-09-21 2021-11-02        14   \n29 2021-11-03 2021-11-10 2022-05-16        20   \n30 2022-02-17 2022-03-03 2022-04-21        12   \n31 2021-12-14 2022-01-05 2022-03-15        15   \n32 2022-06-02 2022-06-16 2022-09-07        15   \n33 2022-11-15 2022-11-22 2023-08-04        23   \n34        NaT        NaT        NaT      <NA>   \n35        NaT        NaT        NaT      <NA>   \n36        NaT        NaT        NaT      <NA>   \n\n                                                                                 note  \n0                                                            تم احالتها للعلاج الجمعي  \n1                             بين الجلسة التاسعة والأخيرة 9 جلسات - المجموع الكل 18    \n2                                                                                 NaN  \n3                                                        انتهت  الفردية لتحقق الهدف    \n4                                                                                 NaN  \n5                             انتهت  الفردية لتحقق الهدف و لانضمامها للجلسات الجماعية  \n6                                                                                 NaN  \n7                                انتهت الفردية لتحقق الهدف وانضمامها للجلسات الجماعية  \n8                                                                                 NaN  \n9                                                                                 NaN  \n10                                                                                NaN  \n11                                                                                NaN  \n12                                                                                NaN  \n13                                                                                NaN  \n14                                   انتهت الجلسات الفردية سيتابع مع الجلسات الجماعية  \n15                                                                                NaN  \n16                                                                                NaN  \n17                                                                                NaN  \n18                                                                     انتهت الجلسات   \n19                                                                     انتهت الجلسات   \n20           الجلسات الثلاث الأولى حضرهم بشكل جماعي وبسبب وضعه الصحي تم تحويله للفردي  \n21   تمت 7 جلسات بعد الجلسة العاشرة - العدد الكلي 17 جلسة-أخر جلسة بتاريخ 14-Sep-2023  \n22             انتهت الجلسات الفردية لاستقرار الوضع النفسي ولا حاجة للمزيد من الجلسات  \n23             انتهت الجلسات الفردية لاستقرار الوضع النفسي ولا حاجة للمزيد من الجلسات  \n24  انتهت الجلسات الفردية لاستقرار الوضع النفسي وتم تحويلها للعلاج الطبيعي في الرابطة  \n25                                    جلسة 11 بتاريخ 9-Nov-2023 - رقم 12 ب 13 ت2 2023  \n26                                                                                NaN  \n27                                                                                NaN  \n28                                                                                NaN  \n29                                                                                NaN  \n30                                                                                NaN  \n31                                                                                NaN  \n32                                                                                NaN  \n33                                                                                NaN  \n34                                                                                NaN  \n35                                                                                NaN  \n36                 جلسات فردية تعويضية عن الجلسات التي تغيب عنها في الجلسات الجماعية   ",
      "text/html": "<div>\n<style scoped>\n    .dataframe tbody tr th:only-of-type {\n        vertical-align: middle;\n    }\n\n    .dataframe tbody tr th {\n        vertical-align: top;\n    }\n\n    .dataframe thead th {\n        text-align: right;\n    }\n</style>\n<table border=\"1\" class=\"dataframe\">\n  <thead>\n    <tr style=\"text-align: right;\">\n      <th></th>\n      <th>icsp</th>\n      <th>icspi</th>\n      <th>rid</th>\n      <th>fcid</th>\n      <th>firstname</th>\n      <th>lastname</th>\n      <th>need_pt</th>\n      <th>ic_s1</th>\n      <th>ic_s2</th>\n      <th>ic_s3</th>\n      <th>ic_s4</th>\n      <th>ic_s5</th>\n      <th>ic_s6</th>\n      <th>ic_s7</th>\n      <th>ic_s8</th>\n      <th>ic_s9</th>\n      <th>ic_s10</th>\n      <th>ic_total</th>\n      <th>note</th>\n    </tr>\n  </thead>\n  <tbody>\n    <tr>\n      <th>0</th>\n      <td>IJ</td>\n      <td>1</td>\n      <td>R0716</td>\n      <td>8110080013</td>\n      <td>مديحة</td>\n      <td>فتوح</td>\n      <td>NaN</td>\n      <td>2023-07-27</td>\n      <td>NaT</td>\n      <td>NaT</td>\n      <td>NaT</td>\n      <td>NaT</td>\n      <td>NaT</td>\n      <td>NaT</td>\n      <td>NaT</td>\n      <td>NaT</td>\n      <td>NaT</td>\n      <td>1</td>\n      <td>تم احالتها للعلاج الجمعي</td>\n    </tr>\n    <tr>\n      <th>1</th>\n      <td>SA</td>\n      <td>1</td>\n      <td>R0057</td>\n      <td>8110050006</td>\n      <td>رحاب</td>\n      <td>المصري</td>\n      <td>IPT</td>\n      <td>2021-04-15</td>\n      <td>2022-04-22</td>\n      <td>2022-04-29</td>\n      <td>2022-05-06</td>\n      <td>2022-05-27</td>\n      <td>2021-07-30</td>\n      <td>2021-08-10</td>\n      <td>2021-08-17</td>\n      <td>2021-09-22</td>\n      <td>2021-12-09</td>\n      <td>18</td>\n      <td>بين الجلسة التاسعة والأخيرة 9 جلسات - المجموع الكل 18</td>\n    </tr>\n    <tr>\n      <th>2</th>\n      <td>SA</td>\n      <td>2</td>\n      <td>R0088</td>\n      <td>8110060011</td>\n      <td>ابراهيم</td>\n      <td>العلي</td>\n      <td>No PT</td>\n      <td>2021-09-29</td>\n      <td>2021-10-11</td>\n      <td>NaT</td>\n      <td>NaT</td>\n      <td>NaT</td>\n      <td>NaT</td>\n      <td>NaT</td>\n      <td>NaT</td>\n      <td>NaT</td>\n      <td>2021-10-11</td>\n      <td>2</td>\n      <td>NaN</td>\n    </tr>\n    <tr>\n      <th>3</th>\n      <td>SA</td>\n      <td>3</td>\n      <td>R0109</td>\n      <td>8110050020</td>\n      <td>نديمة</td>\n      <td>المصري</td>\n      <td>GPT</td>\n      <td>2021-11-30</td>\n      <td>2021-12-02</td>\n      <td>2021-12-07</td>\n      <td>2022-03-09</td>\n      <td>2022-04-06</td>\n      <td>NaT</td>\n      <td>NaT</td>\n      <td>NaT</td>\n      <td>NaT</td>\n      <td>NaT</td>\n      <td>5</td>\n      <td>انتهت  الفردية لتحقق الهدف</td>\n    </tr>\n    <tr>\n      <th>4</th>\n      <td>SA</td>\n      <td>4</td>\n      <td>R0008</td>\n      <td>8110020020</td>\n      <td>إيمان</td>\n      <td>ديري</td>\n      <td>GPT</td>\n      <td>2022-03-15</td>\n      <td>2022-03-30</td>\n      <td>2022-04-13</td>\n      <td>2022-05-09</td>\n      <td>NaT</td>\n      <td>NaT</td>\n      <td>NaT</td>\n      <td>NaT</td>\n      <td>NaT</td>\n      <td>NaT</td>\n      <td>4</td>\n      <td>NaN</td>\n    </tr>\n    <tr>\n      <th>5</th>\n      <td>SA</td>\n      <td>5</td>\n      <td>R0189</td>\n      <td>8110050033</td>\n      <td>هالة</td>\n      <td>غزال</td>\n      <td>No PT</td>\n      <td>2022-01-10</td>\n      <td>2022-03-18</td>\n      <td>2022-04-04</td>\n      <td>NaT</td>\n      <td>NaT</td>\n      <td>NaT</td>\n      <td>NaT</td>\n      <td>NaT</td>\n      <td>NaT</td>\n      <td>2022-04-04</td>\n      <td>3</td>\n      <td>انتهت  الفردية لتحقق الهدف و لانضمامها للجلسات الجماعية</td>\n    </tr>\n    <tr>\n      <th>6</th>\n      <td>SA</td>\n      <td>6</td>\n      <td>R0197</td>\n      <td>8110070006</td>\n      <td>فاطمة</td>\n      <td>حج عثمان</td>\n      <td>No PT</td>\n      <td>2022-03-29</td>\n      <td>2022-04-06</td>\n      <td>2022-04-13</td>\n      <td>2022-04-21</td>\n      <td>2022-04-27</td>\n      <td>2022-06-08</td>\n      <td>NaT</td>\n      <td>NaT</td>\n      <td>NaT</td>\n      <td>NaT</td>\n      <td>6</td>\n      <td>NaN</td>\n    </tr>\n    <tr>\n      <th>7</th>\n      <td>SA</td>\n      <td>7</td>\n      <td>R0188</td>\n      <td>8110050031</td>\n      <td>سهاد</td>\n      <td>عديل</td>\n      <td>No PT</td>\n      <td>2022-04-06</td>\n      <td>2022-04-21</td>\n      <td>2022-04-26</td>\n      <td>2022-08-22</td>\n      <td>2022-10-10</td>\n      <td>NaT</td>\n      <td>NaT</td>\n      <td>NaT</td>\n      <td>NaT</td>\n      <td>NaT</td>\n      <td>5</td>\n      <td>انتهت الفردية لتحقق الهدف وانضمامها للجلسات الجماعية</td>\n    </tr>\n    <tr>\n      <th>8</th>\n      <td>SA</td>\n      <td>8</td>\n      <td>R0102</td>\n      <td>8110050015</td>\n      <td>خديجة</td>\n      <td>رمضان</td>\n      <td>GPT</td>\n      <td>2022-05-10</td>\n      <td>NaT</td>\n      <td>NaT</td>\n      <td>NaT</td>\n      <td>NaT</td>\n      <td>NaT</td>\n      <td>NaT</td>\n      <td>NaT</td>\n      <td>NaT</td>\n      <td>NaT</td>\n      <td>1</td>\n      <td>NaN</td>\n    </tr>\n    <tr>\n      <th>9</th>\n      <td>SA</td>\n      <td>9</td>\n      <td>R0092</td>\n      <td>8110050011</td>\n      <td>إيمان</td>\n      <td>الصالح</td>\n      <td>GPT</td>\n      <td>2022-05-10</td>\n      <td>NaT</td>\n      <td>NaT</td>\n      <td>NaT</td>\n      <td>NaT</td>\n      <td>NaT</td>\n      <td>NaT</td>\n      <td>NaT</td>\n      <td>NaT</td>\n      <td>NaT</td>\n      <td>1</td>\n      <td>NaN</td>\n    </tr>\n    <tr>\n      <th>10</th>\n      <td>SA</td>\n      <td>10</td>\n      <td>R0063</td>\n      <td>8110050010</td>\n      <td>آمنة</td>\n      <td>رزوق</td>\n      <td>GPT</td>\n      <td>2022-05-12</td>\n      <td>NaT</td>\n      <td>NaT</td>\n      <td>NaT</td>\n      <td>NaT</td>\n      <td>NaT</td>\n      <td>NaT</td>\n      <td>NaT</td>\n      <td>NaT</td>\n      <td>NaT</td>\n      <td>1</td>\n      <td>NaN</td>\n    </tr>\n    <tr>\n      <th>11</th>\n      <td>SA</td>\n      <td>11</td>\n      <td>R0065</td>\n      <td>8110060004</td>\n      <td>عروبة</td>\n      <td>دوارة</td>\n      <td>GPT</td>\n      <td>2022-05-12</td>\n      <td>NaT</td>\n      <td>NaT</td>\n      <td>NaT</td>\n      <td>NaT</td>\n      <td>NaT</td>\n      <td>NaT</td>\n      <td>NaT</td>\n      <td>NaT</td>\n      <td>NaT</td>\n      <td>1</td>\n      <td>NaN</td>\n    </tr>\n    <tr>\n      <th>12</th>\n      <td>SA</td>\n      <td>12</td>\n      <td>R0066</td>\n      <td>8110060006</td>\n      <td>غادة</td>\n      <td>عرجة</td>\n      <td>GPT</td>\n      <td>2022-05-12</td>\n      <td>NaT</td>\n      <td>NaT</td>\n      <td>NaT</td>\n      <td>NaT</td>\n      <td>NaT</td>\n      <td>NaT</td>\n      <td>NaT</td>\n      <td>NaT</td>\n      <td>NaT</td>\n      <td>1</td>\n      <td>NaN</td>\n    </tr>\n    <tr>\n      <th>13</th>\n      <td>SA</td>\n      <td>13</td>\n      <td>R0107</td>\n      <td>8110050017</td>\n      <td>بشرى</td>\n      <td>طه</td>\n      <td>No PT</td>\n      <td>2022-05-18</td>\n      <td>NaT</td>\n      <td>NaT</td>\n      <td>NaT</td>\n      <td>NaT</td>\n      <td>NaT</td>\n      <td>NaT</td>\n      <td>NaT</td>\n      <td>NaT</td>\n      <td>NaT</td>\n      <td>1</td>\n      <td>NaN</td>\n    </tr>\n    <tr>\n      <th>14</th>\n      <td>SA</td>\n      <td>14</td>\n      <td>R0430</td>\n      <td>8110050061</td>\n      <td>منصور</td>\n      <td>الصيني</td>\n      <td>IPT</td>\n      <td>2022-06-03</td>\n      <td>2022-06-23</td>\n      <td>2022-08-24</td>\n      <td>2022-10-13</td>\n      <td>2022-11-28</td>\n      <td>2022-12-05</td>\n      <td>2022-12-12</td>\n      <td>2023-01-11</td>\n      <td>2023-01-18</td>\n      <td>2023-07-13</td>\n      <td>10</td>\n      <td>انتهت الجلسات الفردية سيتابع مع الجلسات الجماعية</td>\n    </tr>\n    <tr>\n      <th>15</th>\n      <td>SA</td>\n      <td>15</td>\n      <td>R0237</td>\n      <td>8110050049</td>\n      <td>هدى</td>\n      <td>طالب</td>\n      <td>No PT</td>\n      <td>2022-06-20</td>\n      <td>NaT</td>\n      <td>NaT</td>\n      <td>NaT</td>\n      <td>NaT</td>\n      <td>NaT</td>\n      <td>NaT</td>\n      <td>NaT</td>\n      <td>NaT</td>\n      <td>NaT</td>\n      <td>1</td>\n      <td>NaN</td>\n    </tr>\n    <tr>\n      <th>16</th>\n      <td>SA</td>\n      <td>16</td>\n      <td>R0181</td>\n      <td>8110050028</td>\n      <td>أحمد</td>\n      <td>رزوق</td>\n      <td>No PT</td>\n      <td>2022-06-28</td>\n      <td>2022-07-07</td>\n      <td>2023-05-11</td>\n      <td>2023-07-12</td>\n      <td>2023-07-18</td>\n      <td>NaT</td>\n      <td>NaT</td>\n      <td>NaT</td>\n      <td>NaT</td>\n      <td>NaT</td>\n      <td>5</td>\n      <td>NaN</td>\n    </tr>\n    <tr>\n      <th>17</th>\n      <td>SA</td>\n      <td>17</td>\n      <td>R0481</td>\n      <td>8110080002</td>\n      <td>حميدة</td>\n      <td>مصطفى</td>\n      <td>No PT</td>\n      <td>2022-09-07</td>\n      <td>2022-09-14</td>\n      <td>NaT</td>\n      <td>NaT</td>\n      <td>NaT</td>\n      <td>NaT</td>\n      <td>NaT</td>\n      <td>NaT</td>\n      <td>NaT</td>\n      <td>NaT</td>\n      <td>2</td>\n      <td>NaN</td>\n    </tr>\n    <tr>\n      <th>18</th>\n      <td>SA</td>\n      <td>18</td>\n      <td>R0196</td>\n      <td>8110020073</td>\n      <td>أسماء</td>\n      <td>بكار</td>\n      <td>No PT</td>\n      <td>2022-09-07</td>\n      <td>2022-09-14</td>\n      <td>2022-09-28</td>\n      <td>2022-12-27</td>\n      <td>2023-01-11</td>\n      <td>NaT</td>\n      <td>NaT</td>\n      <td>NaT</td>\n      <td>NaT</td>\n      <td>NaT</td>\n      <td>5</td>\n      <td>انتهت الجلسات</td>\n    </tr>\n    <tr>\n      <th>19</th>\n      <td>SA</td>\n      <td>19</td>\n      <td>R0528</td>\n      <td>8110050081</td>\n      <td>وائل</td>\n      <td>يسقي</td>\n      <td>No PT</td>\n      <td>2022-10-11</td>\n      <td>2022-11-01</td>\n      <td>2022-11-16</td>\n      <td>2022-11-23</td>\n      <td>2022-12-07</td>\n      <td>2022-12-14</td>\n      <td>2023-01-05</td>\n      <td>2023-01-11</td>\n      <td>2023-01-18</td>\n      <td>2023-01-25</td>\n      <td>10</td>\n      <td>انتهت الجلسات</td>\n    </tr>\n    <tr>\n      <th>20</th>\n      <td>SA</td>\n      <td>20</td>\n      <td>R0582</td>\n      <td>8110050094</td>\n      <td>حمزة</td>\n      <td>الحريري</td>\n      <td>IPT</td>\n      <td>2023-04-12</td>\n      <td>NaT</td>\n      <td>NaT</td>\n      <td>NaT</td>\n      <td>NaT</td>\n      <td>NaT</td>\n      <td>NaT</td>\n      <td>NaT</td>\n      <td>NaT</td>\n      <td>NaT</td>\n      <td>3</td>\n      <td>الجلسات الثلاث الأولى حضرهم بشكل جماعي وبسبب وضعه الصحي تم تحويله للفردي</td>\n    </tr>\n    <tr>\n      <th>21</th>\n      <td>SA</td>\n      <td>21</td>\n      <td>R0592</td>\n      <td>8110050096</td>\n      <td>مهند</td>\n      <td>صعب</td>\n      <td>IPT</td>\n      <td>2023-01-25</td>\n      <td>2023-05-11</td>\n      <td>2023-05-18</td>\n      <td>2023-05-25</td>\n      <td>2023-06-01</td>\n      <td>2023-06-19</td>\n      <td>2023-06-23</td>\n      <td>2023-07-06</td>\n      <td>2023-07-13</td>\n      <td>2023-07-20</td>\n      <td>10</td>\n      <td>تمت 7 جلسات بعد الجلسة العاشرة - العدد الكلي 17 جلسة-أخر جلسة بتاريخ 14-Sep-2023</td>\n    </tr>\n    <tr>\n      <th>22</th>\n      <td>SA</td>\n      <td>22</td>\n      <td>R0391</td>\n      <td>8110050067</td>\n      <td>رقية</td>\n      <td>عبد الله</td>\n      <td>GPT</td>\n      <td>2023-07-14</td>\n      <td>2023-07-18</td>\n      <td>2023-07-26</td>\n      <td>2023-08-24</td>\n      <td>NaT</td>\n      <td>NaT</td>\n      <td>NaT</td>\n      <td>NaT</td>\n      <td>NaT</td>\n      <td>NaT</td>\n      <td>4</td>\n      <td>انتهت الجلسات الفردية لاستقرار الوضع النفسي ولا حاجة للمزيد من الجلسات</td>\n    </tr>\n    <tr>\n      <th>23</th>\n      <td>SA</td>\n      <td>23</td>\n      <td>R0226</td>\n      <td>8110050042</td>\n      <td>مها</td>\n      <td>الكردي</td>\n      <td>No PT</td>\n      <td>2023-07-26</td>\n      <td>2023-08-17</td>\n      <td>2023-08-24</td>\n      <td>NaT</td>\n      <td>NaT</td>\n      <td>NaT</td>\n      <td>NaT</td>\n      <td>NaT</td>\n      <td>NaT</td>\n      <td>NaT</td>\n      <td>3</td>\n      <td>انتهت الجلسات الفردية لاستقرار الوضع النفسي ولا حاجة للمزيد من الجلسات</td>\n    </tr>\n    <tr>\n      <th>24</th>\n      <td>SA</td>\n      <td>24</td>\n      <td>R0378</td>\n      <td>8110050066</td>\n      <td>عائشة</td>\n      <td>الخاطر</td>\n      <td>No PT</td>\n      <td>2023-07-31</td>\n      <td>2023-08-10</td>\n      <td>2023-08-24</td>\n      <td>NaT</td>\n      <td>NaT</td>\n      <td>NaT</td>\n      <td>NaT</td>\n      <td>NaT</td>\n      <td>NaT</td>\n      <td>NaT</td>\n      <td>3</td>\n      <td>انتهت الجلسات الفردية لاستقرار الوضع النفسي وتم تحويلها للعلاج الطبيعي في الرابطة</td>\n    </tr>\n    <tr>\n      <th>25</th>\n      <td>SA</td>\n      <td>25</td>\n      <td>R0725</td>\n      <td>8110050097</td>\n      <td>ربى</td>\n      <td>قطشة</td>\n      <td>IPT</td>\n      <td>2023-08-04</td>\n      <td>2023-08-09</td>\n      <td>2023-08-16</td>\n      <td>2023-08-23</td>\n      <td>2023-09-06</td>\n      <td>2023-09-14</td>\n      <td>2023-10-04</td>\n      <td>2023-10-11</td>\n      <td>2023-10-19</td>\n      <td>2023-10-26</td>\n      <td>10</td>\n      <td>جلسة 11 بتاريخ 9-Nov-2023 - رقم 12 ب 13 ت2 2023</td>\n    </tr>\n    <tr>\n      <th>26</th>\n      <td>SA</td>\n      <td>26</td>\n      <td>R0487</td>\n      <td>8110080005</td>\n      <td>رياض</td>\n      <td>أسعد</td>\n      <td>GPT</td>\n      <td>2023-10-31</td>\n      <td>2023-11-08</td>\n      <td>NaT</td>\n      <td>NaT</td>\n      <td>NaT</td>\n      <td>NaT</td>\n      <td>NaT</td>\n      <td>NaT</td>\n      <td>NaT</td>\n      <td>NaT</td>\n      <td>2</td>\n      <td>NaN</td>\n    </tr>\n    <tr>\n      <th>27</th>\n      <td>YQ</td>\n      <td>1</td>\n      <td>R0046</td>\n      <td>8110020047</td>\n      <td>منيب</td>\n      <td>نصار</td>\n      <td>No PT</td>\n      <td>2021-02-22</td>\n      <td>2021-03-02</td>\n      <td>2021-03-02</td>\n      <td>2021-03-17</td>\n      <td>2021-03-31</td>\n      <td>2021-04-08</td>\n      <td>2021-04-15</td>\n      <td>2021-04-22</td>\n      <td>2021-05-28</td>\n      <td>2022-03-04</td>\n      <td>14</td>\n      <td>NaN</td>\n    </tr>\n    <tr>\n      <th>28</th>\n      <td>YQ</td>\n      <td>2</td>\n      <td>R0073</td>\n      <td>8110020051</td>\n      <td>علاء</td>\n      <td>الدين ابازيد</td>\n      <td>IPT</td>\n      <td>2021-07-30</td>\n      <td>2021-08-03</td>\n      <td>2021-08-10</td>\n      <td>2021-08-17</td>\n      <td>2021-08-24</td>\n      <td>2021-08-31</td>\n      <td>2021-09-07</td>\n      <td>2021-09-14</td>\n      <td>2021-09-21</td>\n      <td>2021-11-02</td>\n      <td>14</td>\n      <td>NaN</td>\n    </tr>\n    <tr>\n      <th>29</th>\n      <td>YQ</td>\n      <td>3</td>\n      <td>R0084</td>\n      <td>8110020053</td>\n      <td>خالد</td>\n      <td>الاغا</td>\n      <td>IPT</td>\n      <td>2021-09-17</td>\n      <td>2021-09-21</td>\n      <td>2021-09-30</td>\n      <td>2021-10-11</td>\n      <td>2021-10-15</td>\n      <td>2021-10-21</td>\n      <td>2021-10-27</td>\n      <td>2021-11-03</td>\n      <td>2021-11-10</td>\n      <td>2022-05-16</td>\n      <td>20</td>\n      <td>NaN</td>\n    </tr>\n    <tr>\n      <th>30</th>\n      <td>YQ</td>\n      <td>4</td>\n      <td>R0099</td>\n      <td>8110020055</td>\n      <td>أحمد</td>\n      <td>دوخان</td>\n      <td>No PT</td>\n      <td>2021-11-18</td>\n      <td>2021-11-25</td>\n      <td>2021-12-02</td>\n      <td>2021-12-09</td>\n      <td>2021-12-16</td>\n      <td>2022-01-06</td>\n      <td>2022-01-13</td>\n      <td>2022-02-17</td>\n      <td>2022-03-03</td>\n      <td>2022-04-21</td>\n      <td>12</td>\n      <td>NaN</td>\n    </tr>\n    <tr>\n      <th>31</th>\n      <td>YQ</td>\n      <td>5</td>\n      <td>R0083</td>\n      <td>8110060010</td>\n      <td>منال</td>\n      <td>المصري</td>\n      <td>No PT</td>\n      <td>2021-09-14</td>\n      <td>2021-09-20</td>\n      <td>2021-10-07</td>\n      <td>2021-10-18</td>\n      <td>2021-11-04</td>\n      <td>2021-11-16</td>\n      <td>2021-11-30</td>\n      <td>2021-12-14</td>\n      <td>2022-01-05</td>\n      <td>2022-03-15</td>\n      <td>15</td>\n      <td>NaN</td>\n    </tr>\n    <tr>\n      <th>32</th>\n      <td>YQ</td>\n      <td>6</td>\n      <td>R0185</td>\n      <td>8110020066</td>\n      <td>محمد</td>\n      <td>رمضان</td>\n      <td>No PT</td>\n      <td>2022-03-03</td>\n      <td>2022-03-10</td>\n      <td>2022-03-17</td>\n      <td>2022-04-07</td>\n      <td>2022-04-14</td>\n      <td>2022-04-21</td>\n      <td>2022-05-12</td>\n      <td>2022-06-02</td>\n      <td>2022-06-16</td>\n      <td>2022-09-07</td>\n      <td>15</td>\n      <td>NaN</td>\n    </tr>\n    <tr>\n      <th>33</th>\n      <td>YQ</td>\n      <td>7</td>\n      <td>R0415</td>\n      <td>8110020102</td>\n      <td>قيس</td>\n      <td>أبو نقطة</td>\n      <td>IPT</td>\n      <td>2022-09-02</td>\n      <td>2022-09-23</td>\n      <td>2022-09-30</td>\n      <td>2022-10-07</td>\n      <td>2022-10-19</td>\n      <td>2022-11-04</td>\n      <td>2022-11-09</td>\n      <td>2022-11-15</td>\n      <td>2022-11-22</td>\n      <td>2023-08-04</td>\n      <td>23</td>\n      <td>NaN</td>\n    </tr>\n    <tr>\n      <th>34</th>\n      <td>YQ</td>\n      <td>8</td>\n      <td>R0476</td>\n      <td>8110020117</td>\n      <td>فطومة</td>\n      <td>الحسين</td>\n      <td>No PT</td>\n      <td>2022-11-08</td>\n      <td>NaT</td>\n      <td>NaT</td>\n      <td>NaT</td>\n      <td>NaT</td>\n      <td>NaT</td>\n      <td>NaT</td>\n      <td>NaT</td>\n      <td>NaT</td>\n      <td>NaT</td>\n      <td>&lt;NA&gt;</td>\n      <td>NaN</td>\n    </tr>\n    <tr>\n      <th>35</th>\n      <td>YQ</td>\n      <td>9</td>\n      <td>R0733</td>\n      <td>8110080014</td>\n      <td>محمد</td>\n      <td>طارق الطباع</td>\n      <td>IPT</td>\n      <td>2023-08-09</td>\n      <td>2023-08-16</td>\n      <td>2023-08-23</td>\n      <td>2023-08-31</td>\n      <td>2023-09-12</td>\n      <td>2023-10-04</td>\n      <td>2023-12-13</td>\n      <td>NaT</td>\n      <td>NaT</td>\n      <td>NaT</td>\n      <td>&lt;NA&gt;</td>\n      <td>NaN</td>\n    </tr>\n    <tr>\n      <th>36</th>\n      <td>YQ</td>\n      <td>10</td>\n      <td>R0183</td>\n      <td>8110020101</td>\n      <td>رفيق</td>\n      <td>خنوس</td>\n      <td>IPT</td>\n      <td>2023-10-13</td>\n      <td>2023-10-27</td>\n      <td>2023-11-03</td>\n      <td>2023-11-10</td>\n      <td>2023-11-15</td>\n      <td>NaT</td>\n      <td>NaT</td>\n      <td>NaT</td>\n      <td>NaT</td>\n      <td>NaT</td>\n      <td>&lt;NA&gt;</td>\n      <td>جلسات فردية تعويضية عن الجلسات التي تغيب عنها في الجلسات الجماعية</td>\n    </tr>\n  </tbody>\n</table>\n</div>"
     },
     "execution_count": 17,
     "metadata": {},
     "output_type": "execute_result"
    }
   ],
   "source": [
    "ic_dataset = Dataset(config_file, ic_sheet)\n",
    "ic = pd.read_csv(ic_path)\n",
    "dtype_trans(ic, ic_dataset)\n",
    "ic"
   ],
   "metadata": {
    "collapsed": false,
    "ExecuteTime": {
     "end_time": "2024-02-05T01:35:07.400641400Z",
     "start_time": "2024-02-05T01:35:07.289686900Z"
    }
   },
   "id": "f489fa7e04ddff12",
   "execution_count": 17
  },
  {
   "cell_type": "code",
   "outputs": [
    {
     "data": {
      "text/plain": "      rid        fcid service       date  session_num family_of_missing  \\\n0   R0716  8110080013      ic 2023-07-27            1               Yes   \n1   R0430  8110050061      ic 2023-07-13           10               Yes   \n2   R0181  8110050028      ic 2023-07-18            5               Yes   \n3   R0196  8110020073      ic 2023-01-11            5                No   \n4   R0528  8110050081      ic 2023-01-25           10               Yes   \n5   R0582  8110050094      ic 2023-04-12            3               Yes   \n6   R0592  8110050096      ic 2023-07-20           10               Yes   \n7   R0391  8110050067      ic 2023-08-24            4               Yes   \n8   R0226  8110050042      ic 2023-08-24            3                No   \n9   R0378  8110050066      ic 2023-08-24            3               Yes   \n10  R0725  8110050097      ic 2023-10-26           10                No   \n11  R0487  8110080005      ic 2023-11-08            2                No   \n12  R0415  8110020102      ic 2023-08-04           23                No   \n13  R0733  8110080014      ic 2023-12-13         <NA>               Yes   \n14  R0183  8110020101      ic 2023-11-15         <NA>               Yes   \n\n   survivor_of_detention primary_torture secondary_torture sexual_violation_a  \\\n0                    Yes             Yes               Yes                 No   \n1                    Yes             Yes               Yes                NaN   \n2                     No             Yes               Yes                NaN   \n3                     No             Yes               Yes                NaN   \n4                    Yes             Yes                No                NaN   \n5                    Yes             Yes               Yes                Yes   \n6                    Yes             Yes               Yes                 No   \n7                     No              No               Yes                NaN   \n8                     No              No               Yes                NaN   \n9                     No              No               Yes                NaN   \n10                   Yes             Yes                No                 No   \n11                    No              No                No                 No   \n12                   Yes             Yes               Yes                 No   \n13                   Yes             Yes               Yes                 No   \n14                    No              No               Yes                NaN   \n\n   sexual_violation_p  hrd journalist  wov stgbv lgbti other     sex  age  \n0                  No   No         No  Yes    No    No    No  Female   29  \n1                 NaN  NaN        NaN  Yes    No    No    No    Male   39  \n2                 NaN  NaN        NaN  Yes    No    No    No    Male   18  \n3                 NaN  NaN        NaN  Yes    No    No    No  Female   42  \n4                 NaN  NaN        NaN  Yes    No    No    No    Male   33  \n5                  No   No         No  Yes    No    No    No    Male   32  \n6                  No  Yes         No  Yes    No    No    No    Male   30  \n7                 NaN  NaN        NaN  Yes    No    No    No  Female   44  \n8                 NaN  NaN        NaN  Yes    No    No    No  Female   60  \n9                 NaN  NaN        NaN  Yes    No    No    No  Female   38  \n10                Yes  Yes         No  Yes    No    No    No  Female   33  \n11                 No   No         No  Yes    No    No    No    Male   59  \n12                Yes  Yes         No  Yes   Yes    No    No    Male   25  \n13                Yes  Yes         No  Yes    No    No    No    Male   42  \n14                NaN  NaN        NaN  Yes    No    No    No    Male   48  ",
      "text/html": "<div>\n<style scoped>\n    .dataframe tbody tr th:only-of-type {\n        vertical-align: middle;\n    }\n\n    .dataframe tbody tr th {\n        vertical-align: top;\n    }\n\n    .dataframe thead th {\n        text-align: right;\n    }\n</style>\n<table border=\"1\" class=\"dataframe\">\n  <thead>\n    <tr style=\"text-align: right;\">\n      <th></th>\n      <th>rid</th>\n      <th>fcid</th>\n      <th>service</th>\n      <th>date</th>\n      <th>session_num</th>\n      <th>family_of_missing</th>\n      <th>survivor_of_detention</th>\n      <th>primary_torture</th>\n      <th>secondary_torture</th>\n      <th>sexual_violation_a</th>\n      <th>sexual_violation_p</th>\n      <th>hrd</th>\n      <th>journalist</th>\n      <th>wov</th>\n      <th>stgbv</th>\n      <th>lgbti</th>\n      <th>other</th>\n      <th>sex</th>\n      <th>age</th>\n    </tr>\n  </thead>\n  <tbody>\n    <tr>\n      <th>0</th>\n      <td>R0716</td>\n      <td>8110080013</td>\n      <td>ic</td>\n      <td>2023-07-27</td>\n      <td>1</td>\n      <td>Yes</td>\n      <td>Yes</td>\n      <td>Yes</td>\n      <td>Yes</td>\n      <td>No</td>\n      <td>No</td>\n      <td>No</td>\n      <td>No</td>\n      <td>Yes</td>\n      <td>No</td>\n      <td>No</td>\n      <td>No</td>\n      <td>Female</td>\n      <td>29</td>\n    </tr>\n    <tr>\n      <th>1</th>\n      <td>R0430</td>\n      <td>8110050061</td>\n      <td>ic</td>\n      <td>2023-07-13</td>\n      <td>10</td>\n      <td>Yes</td>\n      <td>Yes</td>\n      <td>Yes</td>\n      <td>Yes</td>\n      <td>NaN</td>\n      <td>NaN</td>\n      <td>NaN</td>\n      <td>NaN</td>\n      <td>Yes</td>\n      <td>No</td>\n      <td>No</td>\n      <td>No</td>\n      <td>Male</td>\n      <td>39</td>\n    </tr>\n    <tr>\n      <th>2</th>\n      <td>R0181</td>\n      <td>8110050028</td>\n      <td>ic</td>\n      <td>2023-07-18</td>\n      <td>5</td>\n      <td>Yes</td>\n      <td>No</td>\n      <td>Yes</td>\n      <td>Yes</td>\n      <td>NaN</td>\n      <td>NaN</td>\n      <td>NaN</td>\n      <td>NaN</td>\n      <td>Yes</td>\n      <td>No</td>\n      <td>No</td>\n      <td>No</td>\n      <td>Male</td>\n      <td>18</td>\n    </tr>\n    <tr>\n      <th>3</th>\n      <td>R0196</td>\n      <td>8110020073</td>\n      <td>ic</td>\n      <td>2023-01-11</td>\n      <td>5</td>\n      <td>No</td>\n      <td>No</td>\n      <td>Yes</td>\n      <td>Yes</td>\n      <td>NaN</td>\n      <td>NaN</td>\n      <td>NaN</td>\n      <td>NaN</td>\n      <td>Yes</td>\n      <td>No</td>\n      <td>No</td>\n      <td>No</td>\n      <td>Female</td>\n      <td>42</td>\n    </tr>\n    <tr>\n      <th>4</th>\n      <td>R0528</td>\n      <td>8110050081</td>\n      <td>ic</td>\n      <td>2023-01-25</td>\n      <td>10</td>\n      <td>Yes</td>\n      <td>Yes</td>\n      <td>Yes</td>\n      <td>No</td>\n      <td>NaN</td>\n      <td>NaN</td>\n      <td>NaN</td>\n      <td>NaN</td>\n      <td>Yes</td>\n      <td>No</td>\n      <td>No</td>\n      <td>No</td>\n      <td>Male</td>\n      <td>33</td>\n    </tr>\n    <tr>\n      <th>5</th>\n      <td>R0582</td>\n      <td>8110050094</td>\n      <td>ic</td>\n      <td>2023-04-12</td>\n      <td>3</td>\n      <td>Yes</td>\n      <td>Yes</td>\n      <td>Yes</td>\n      <td>Yes</td>\n      <td>Yes</td>\n      <td>No</td>\n      <td>No</td>\n      <td>No</td>\n      <td>Yes</td>\n      <td>No</td>\n      <td>No</td>\n      <td>No</td>\n      <td>Male</td>\n      <td>32</td>\n    </tr>\n    <tr>\n      <th>6</th>\n      <td>R0592</td>\n      <td>8110050096</td>\n      <td>ic</td>\n      <td>2023-07-20</td>\n      <td>10</td>\n      <td>Yes</td>\n      <td>Yes</td>\n      <td>Yes</td>\n      <td>Yes</td>\n      <td>No</td>\n      <td>No</td>\n      <td>Yes</td>\n      <td>No</td>\n      <td>Yes</td>\n      <td>No</td>\n      <td>No</td>\n      <td>No</td>\n      <td>Male</td>\n      <td>30</td>\n    </tr>\n    <tr>\n      <th>7</th>\n      <td>R0391</td>\n      <td>8110050067</td>\n      <td>ic</td>\n      <td>2023-08-24</td>\n      <td>4</td>\n      <td>Yes</td>\n      <td>No</td>\n      <td>No</td>\n      <td>Yes</td>\n      <td>NaN</td>\n      <td>NaN</td>\n      <td>NaN</td>\n      <td>NaN</td>\n      <td>Yes</td>\n      <td>No</td>\n      <td>No</td>\n      <td>No</td>\n      <td>Female</td>\n      <td>44</td>\n    </tr>\n    <tr>\n      <th>8</th>\n      <td>R0226</td>\n      <td>8110050042</td>\n      <td>ic</td>\n      <td>2023-08-24</td>\n      <td>3</td>\n      <td>No</td>\n      <td>No</td>\n      <td>No</td>\n      <td>Yes</td>\n      <td>NaN</td>\n      <td>NaN</td>\n      <td>NaN</td>\n      <td>NaN</td>\n      <td>Yes</td>\n      <td>No</td>\n      <td>No</td>\n      <td>No</td>\n      <td>Female</td>\n      <td>60</td>\n    </tr>\n    <tr>\n      <th>9</th>\n      <td>R0378</td>\n      <td>8110050066</td>\n      <td>ic</td>\n      <td>2023-08-24</td>\n      <td>3</td>\n      <td>Yes</td>\n      <td>No</td>\n      <td>No</td>\n      <td>Yes</td>\n      <td>NaN</td>\n      <td>NaN</td>\n      <td>NaN</td>\n      <td>NaN</td>\n      <td>Yes</td>\n      <td>No</td>\n      <td>No</td>\n      <td>No</td>\n      <td>Female</td>\n      <td>38</td>\n    </tr>\n    <tr>\n      <th>10</th>\n      <td>R0725</td>\n      <td>8110050097</td>\n      <td>ic</td>\n      <td>2023-10-26</td>\n      <td>10</td>\n      <td>No</td>\n      <td>Yes</td>\n      <td>Yes</td>\n      <td>No</td>\n      <td>No</td>\n      <td>Yes</td>\n      <td>Yes</td>\n      <td>No</td>\n      <td>Yes</td>\n      <td>No</td>\n      <td>No</td>\n      <td>No</td>\n      <td>Female</td>\n      <td>33</td>\n    </tr>\n    <tr>\n      <th>11</th>\n      <td>R0487</td>\n      <td>8110080005</td>\n      <td>ic</td>\n      <td>2023-11-08</td>\n      <td>2</td>\n      <td>No</td>\n      <td>No</td>\n      <td>No</td>\n      <td>No</td>\n      <td>No</td>\n      <td>No</td>\n      <td>No</td>\n      <td>No</td>\n      <td>Yes</td>\n      <td>No</td>\n      <td>No</td>\n      <td>No</td>\n      <td>Male</td>\n      <td>59</td>\n    </tr>\n    <tr>\n      <th>12</th>\n      <td>R0415</td>\n      <td>8110020102</td>\n      <td>ic</td>\n      <td>2023-08-04</td>\n      <td>23</td>\n      <td>No</td>\n      <td>Yes</td>\n      <td>Yes</td>\n      <td>Yes</td>\n      <td>No</td>\n      <td>Yes</td>\n      <td>Yes</td>\n      <td>No</td>\n      <td>Yes</td>\n      <td>Yes</td>\n      <td>No</td>\n      <td>No</td>\n      <td>Male</td>\n      <td>25</td>\n    </tr>\n    <tr>\n      <th>13</th>\n      <td>R0733</td>\n      <td>8110080014</td>\n      <td>ic</td>\n      <td>2023-12-13</td>\n      <td>&lt;NA&gt;</td>\n      <td>Yes</td>\n      <td>Yes</td>\n      <td>Yes</td>\n      <td>Yes</td>\n      <td>No</td>\n      <td>Yes</td>\n      <td>Yes</td>\n      <td>No</td>\n      <td>Yes</td>\n      <td>No</td>\n      <td>No</td>\n      <td>No</td>\n      <td>Male</td>\n      <td>42</td>\n    </tr>\n    <tr>\n      <th>14</th>\n      <td>R0183</td>\n      <td>8110020101</td>\n      <td>ic</td>\n      <td>2023-11-15</td>\n      <td>&lt;NA&gt;</td>\n      <td>Yes</td>\n      <td>No</td>\n      <td>No</td>\n      <td>Yes</td>\n      <td>NaN</td>\n      <td>NaN</td>\n      <td>NaN</td>\n      <td>NaN</td>\n      <td>Yes</td>\n      <td>No</td>\n      <td>No</td>\n      <td>No</td>\n      <td>Male</td>\n      <td>48</td>\n    </tr>\n  </tbody>\n</table>\n</div>"
     },
     "execution_count": 20,
     "metadata": {},
     "output_type": "execute_result"
    }
   ],
   "source": [
    "ic23 = filter_df_by_date(ic, ic_dataset.dvars, threshold)\n",
    "ic23_latestdate = ic23[ic_dataset.dvars].max(axis=1)\n",
    "ic23.insert(4, \"service\", \"ic\")\n",
    "ic23.insert(5, \"date\", ic23_latestdate)\n",
    "ic23 = ic23[['rid', 'fcid', 'service', 'date', 'ic_total']]\n",
    "ic23.rename(columns={'ic_total': 'session_num'}, inplace=True)\n",
    "ic23 = pd.merge(ic23, unique_intake[[\"rid\", \"family_of_missing\", \"survivor_of_detention\", \"primary_torture\", \"secondary_torture\", \"sexual_violation_a\", \"sexual_violation_p\", \"hrd\", \"journalist\", \"wov\", \"stgbv\", \"lgbti\", \"other\"]], on='rid', how='left')\n",
    "ic23 = pd.merge(ic23, unique_scr[['rid', 'sex', 'age']], on='rid', how='left')\n",
    "ic23"
   ],
   "metadata": {
    "collapsed": false,
    "ExecuteTime": {
     "end_time": "2024-02-05T01:45:17.044603600Z",
     "start_time": "2024-02-05T01:45:16.923626800Z"
    }
   },
   "id": "2c40427084a6eb88",
   "execution_count": 20
  },
  {
   "cell_type": "code",
   "outputs": [],
   "source": [
    "# int23_path = os.path.join(root, data, processed, \"unvfvt23\", \"intBeneficiaries23.csv\")\n",
    "# int23.to_csv(path, index=False)\n",
    "# gc23_path = os.path.join(root, data, processed, \"unvfvt23\", \"gcBeneficiaries23.csv\")\n",
    "# gc23.to_csv(gc23_path, index=False)"
   ],
   "metadata": {
    "collapsed": false
   },
   "id": "e3dcfe51fa5fa22f",
   "execution_count": null
  },
  {
   "cell_type": "code",
   "outputs": [],
   "source": [
    "# gc23_path = os.path.join(root, data, processed, \"unvfvt23\", \"gcBeneficiaries23.csv\")\n",
    "# pd.read_csv(gc23_path)"
   ],
   "metadata": {
    "collapsed": false
   },
   "id": "5b213831b39e847c",
   "execution_count": null
  },
  {
   "cell_type": "markdown",
   "source": [
    "## PSYCHOSOCIAL FOLLOW-UP ASSESSMENT PROCESSING"
   ],
   "metadata": {
    "collapsed": false
   },
   "id": "1f4235cd8ab93f2d"
  },
  {
   "cell_type": "code",
   "outputs": [],
   "source": [
    "# psfua_dataset = Dataset(config_file, ptfua_sheet)\n",
    "# psfua = pd.read_csv(psfua_path)\n",
    "# psfua = dtype_trans(psfua, psfua_dataset)"
   ],
   "metadata": {
    "collapsed": false
   },
   "id": "dc5cf24111575d3e",
   "execution_count": null
  },
  {
   "cell_type": "code",
   "outputs": [],
   "source": [
    "# psfua323 = filter_df_by_date(psfua, ['fu_3m'], threshold)\n",
    "# psfua323.insert(4, \"service\", \"psfua3\")\n",
    "# psfua623 = filter_df_by_date(psfua, ['fu_6m'], threshold)\n",
    "# psfua623 = filter_df_by_date(psfua623, ['fu_6m'], upper_threshold, comparison_type='b')\n",
    "# psfua623.insert(4, \"service\", \"psfua6\")\n",
    "# psfua1223 = filter_df_by_date(psfua, ['fu_12m'], threshold)\n",
    "# psfua1223.insert(4, \"service\", \"psfua12\")"
   ],
   "metadata": {
    "collapsed": false
   },
   "id": "b5c0e6c16cb7d80a",
   "execution_count": null
  },
  {
   "cell_type": "code",
   "outputs": [],
   "source": [
    "# psfua323 = psfua323[['rid', 'fcid', 'service', 'fu_3m']].copy()\n",
    "# psfua323.rename(columns={'fu_3m': 'date'}, inplace=True)\n",
    "# psfua623 = psfua623[['rid', 'fcid', 'service', 'fu_6m']].copy()\n",
    "# psfua623.rename(columns={'fu_6m': 'date'}, inplace=True)\n",
    "# psfua1223 = psfua1223[['rid', 'fcid', 'service', 'fu_12m']].copy()\n",
    "# psfua1223.rename(columns={'fu_12m': 'date'}, inplace=True)\n",
    "# psfua23 = pd.concat([psfua323, psfua623, psfua1223])"
   ],
   "metadata": {
    "collapsed": false
   },
   "id": "54638a068472783f",
   "execution_count": null
  },
  {
   "cell_type": "code",
   "outputs": [],
   "source": [
    "# psfua23 = pd.merge(psfua23, unique_intake[[\"rid\", \"family_of_missing\", \"survivor_of_detention\", \"primary_torture\", \"secondary_torture\", \"sexual_violation_a\", \"sexual_violation_p\", \"hrd\", \"journalist\", \"wov\", \"stgbv\", \"lgbti\", \"other\"]], on='rid', how='left')\n",
    "# psfua23 = pd.merge(psfua23, unique_scr[['rid', 'sex', 'age']], on='rid', how='left')"
   ],
   "metadata": {
    "collapsed": false
   },
   "id": "8443c12462b72fc5",
   "execution_count": null
  },
  {
   "cell_type": "code",
   "outputs": [],
   "source": [
    "# psfua23_path = os.path.join(root, data, processed, \"unvfvt23\", \"psfuaBeneficiaries23.csv\")\n",
    "# psfua23.to_csv(psfua23_path, index=False)\n",
    "# psfua23"
   ],
   "metadata": {
    "collapsed": false
   },
   "id": "f7075bd22bbd9770",
   "execution_count": null
  },
  {
   "cell_type": "markdown",
   "source": [
    "## THERAPUTIC DOCUMENTATION PROCESSING"
   ],
   "metadata": {
    "collapsed": false
   },
   "id": "ce2ff07984857a2b"
  },
  {
   "cell_type": "code",
   "outputs": [],
   "source": [
    "# td_dataset = Dataset(config_file, td_sheet)\n",
    "# td = pd.read_csv(td_path)\n",
    "# td = dtype_trans(td, td_dataset)"
   ],
   "metadata": {
    "collapsed": false
   },
   "id": "78cbfa649a40b4bd",
   "execution_count": null
  },
  {
   "cell_type": "code",
   "outputs": [],
   "source": [
    "# td23 = filter_df_by_date(td, td_dataset.dvars, threshold)\n",
    "# td23 = filter_df_by_date(td23, td_dataset.dvars, threshold=upper_threshold, comparison_type='b')\n",
    "# td23_latestdate = td23[td_dataset.dvars].max(axis=1)\n",
    "# td23.insert(4, \"service\", \"td\")\n",
    "# td23.insert(5, \"date\", td23_latestdate)\n",
    "# td23 = td23[['rid', 'fcid', 'service', 'date']]\n",
    "# td23 = pd.merge(td23, unique_intake[[\"rid\", \"family_of_missing\", \"survivor_of_detention\", \"primary_torture\", \"secondary_torture\", \"sexual_violation_a\", \"sexual_violation_p\", \"hrd\", \"journalist\", \"wov\", \"stgbv\", \"lgbti\", \"other\"]], on='rid', how='left')\n",
    "# td23 = pd.merge(td23, unique_scr[['rid', 'sex', 'age']], on='rid', how='left')"
   ],
   "metadata": {
    "collapsed": false
   },
   "id": "41d35d955a48df8f",
   "execution_count": null
  },
  {
   "cell_type": "code",
   "outputs": [],
   "source": [
    "# td23_path = os.path.join(root, data, processed, \"unvfvt23\", \"tdBeneficiaries23.csv\")\n",
    "# td23.to_csv(td23_path, index=False)"
   ],
   "metadata": {
    "collapsed": false
   },
   "id": "67b9e5aa598b80a4",
   "execution_count": null
  },
  {
   "cell_type": "markdown",
   "source": [
    "## POST-EARTHQUAKE INTERVENTION PROCESSING"
   ],
   "metadata": {
    "collapsed": false
   },
   "id": "9dc958a7f60d7454"
  },
  {
   "cell_type": "code",
   "outputs": [],
   "source": [
    "# pei_dataset = Dataset(config_file, pei_sheet)\n",
    "# pei = pd.read_csv(pei_path)\n",
    "# pei = dtype_trans(pei, pei_dataset)"
   ],
   "metadata": {
    "collapsed": false
   },
   "id": "c7e216ae03bce48a",
   "execution_count": null
  },
  {
   "cell_type": "code",
   "outputs": [],
   "source": [
    "# pei23 = filter_df_by_date(pei, pei_dataset.dvars, threshold)\n",
    "# pei23 = filter_df_by_date(pei23, pei_dataset.dvars, threshold=upper_threshold, comparison_type='b')\n",
    "# pei23_latestdate = pei23[pei_dataset.dvars].max(axis=1)\n",
    "# pei23.insert(4, \"service\", \"pei\")\n",
    "# pei23.insert(5, \"date\", pei23_latestdate)\n",
    "# pei23 = pei23[['rid', 'fcid', 'service', 'date', \"pei_total\"]]\n",
    "# pei23 = pd.merge(pei23, unique_intake[[\"rid\", \"family_of_missing\", \"survivor_of_detention\", \"primary_torture\", \"secondary_torture\", \"sexual_violation_a\", \"sexual_violation_p\", \"hrd\", \"journalist\", \"wov\", \"stgbv\", \"lgbti\", \"other\"]], on='rid', how='left')\n",
    "# pei23 = pd.merge(pei23, unique_scr[['rid', 'sex', 'age']], on='rid', how='left')"
   ],
   "metadata": {
    "collapsed": false
   },
   "id": "ada4b95c5e9ba8a8",
   "execution_count": null
  },
  {
   "cell_type": "code",
   "outputs": [],
   "source": [
    "# pei23_path = os.path.join(root, data, processed, \"unvfvt23\", \"peiBeneficiaries23.xlsx\")\n",
    "# pei23.to_csv(pei23_path, index=False)\n",
    "# pei23.to_excel(pei23_path, index=False)"
   ],
   "metadata": {
    "collapsed": false
   },
   "id": "f79d4379018978e2",
   "execution_count": null
  },
  {
   "cell_type": "markdown",
   "source": [
    "## GROUP PHYSIOTHERAPY PROCESSING"
   ],
   "metadata": {
    "collapsed": false
   },
   "id": "ced39018c2a6a329"
  },
  {
   "cell_type": "code",
   "outputs": [],
   "source": [
    "# gpt_dataset = Dataset(config_file, gpt_sheet)\n",
    "# gpt = pd.read_csv(gpt_path)\n",
    "# gpt = dtype_trans(gpt, gpt_dataset)\n",
    "# non_nat_counts = gpt[gpt_dataset.dvars].notna().sum(axis=1)\n",
    "# gpt['pt_g_total'] = np.where(gpt['pt_g_total'] == 0, non_nat_counts, gpt['pt_g_total'])"
   ],
   "metadata": {
    "collapsed": false
   },
   "id": "69f179465a84b143",
   "execution_count": null
  },
  {
   "cell_type": "code",
   "outputs": [],
   "source": [
    "# gpt23 = filter_df_by_date(gpt, gpt_dataset.dvars, threshold)\n",
    "# gpt23 = filter_df_by_date(gpt23, gpt_dataset.dvars, upper_threshold, comparison_type='b')\n",
    "# gpt_mask = (gpt23[gpt_dataset.dvars] > threshold) & (gpt23[gpt_dataset.dvars] < upper_threshold)\n",
    "# gpt23_latestdate = gpt23[gpt_dataset.dvars].where(gpt_mask).max(axis=1)\n",
    "# gpt23.insert(4, \"service\", \"gpt\")\n",
    "# gpt23.insert(5, \"date\", gpt23_latestdate)\n",
    "# gpt23 = gpt23[['rid', 'fcid', 'service', 'date', 'pt_g_total']]"
   ],
   "metadata": {
    "collapsed": false
   },
   "id": "85166e0926c4a4d7",
   "execution_count": null
  },
  {
   "cell_type": "code",
   "outputs": [],
   "source": [
    "# gpt23 = pd.merge(gpt23, unique_intake[[\"rid\", \"family_of_missing\", \"survivor_of_detention\", \"primary_torture\", \"secondary_torture\", \"sexual_violation_a\", \"sexual_violation_p\", \"hrd\", \"journalist\", \"wov\", \"stgbv\", \"lgbti\", \"other\"]], on='rid', how='left')\n",
    "# gpt23 = pd.merge(gpt23, unique_scr[['rid', 'sex', 'age']], on='rid', how='left')"
   ],
   "metadata": {
    "collapsed": false
   },
   "id": "f8412195883ecf84",
   "execution_count": null
  },
  {
   "cell_type": "code",
   "outputs": [],
   "source": [
    "# gpt23_path = os.path.join(root, data, processed, \"unvfvt23\", \"gptBeneficiaries23.csv\")\n",
    "# gpt23.to_csv(gpt23_path, index=False)"
   ],
   "metadata": {
    "collapsed": false
   },
   "id": "711e63d080432fcc",
   "execution_count": null
  },
  {
   "cell_type": "markdown",
   "source": [
    "## INDIVIDUAL PHYSIOTHERAPY PROCESSING"
   ],
   "metadata": {
    "collapsed": false
   },
   "id": "69ddaa7d56fed1c3"
  },
  {
   "cell_type": "code",
   "outputs": [],
   "source": [
    "# ipt_dataset = Dataset(config_file, ipt_sheet)\n",
    "# ipt = pd.read_csv(ipt_path)\n",
    "# ipt = dtype_trans(ipt, ipt_dataset)\n",
    "# non_nat_counts = ipt[ipt_dataset.dvars].notna().sum(axis=1)\n",
    "# ipt['pt_i_total'] = np.where(ipt['pt_i_total'] == 0, non_nat_counts, ipt['pt_i_total'])"
   ],
   "metadata": {
    "collapsed": false
   },
   "id": "ff12eaee81499150",
   "execution_count": null
  },
  {
   "cell_type": "code",
   "outputs": [],
   "source": [
    "# ipt23 = filter_df_by_date(ipt, ipt_dataset.dvars, threshold)\n",
    "# ipt23 = filter_df_by_date(ipt23, ipt_dataset.dvars, threshold=upper_threshold, comparison_type='b')\n",
    "# ipt_mask = (ipt23[ipt_dataset.dvars] > threshold) & (ipt23[ipt_dataset.dvars] < upper_threshold)\n",
    "# ipt23_latestdate = ipt23[ipt_dataset.dvars].where(ipt_mask).max(axis=1)\n",
    "# ipt23.insert(4, \"service\", \"ipt\")\n",
    "# ipt23.insert(5, \"date\", ipt23_latestdate)\n",
    "# ipt23 = ipt23[['rid', 'fcid', 'service', 'date', 'pt_i_total']]"
   ],
   "metadata": {
    "collapsed": false
   },
   "id": "9b66984d8e0c0cab",
   "execution_count": null
  },
  {
   "cell_type": "code",
   "outputs": [],
   "source": [
    "# ipt23 = pd.merge(ipt23, unique_intake[[\"rid\", \"family_of_missing\", \"survivor_of_detention\", \"primary_torture\", \"secondary_torture\", \"sexual_violation_a\", \"sexual_violation_p\", \"hrd\", \"journalist\", \"wov\", \"stgbv\", \"lgbti\", \"other\"]], on='rid', how='left')\n",
    "# ipt23 = pd.merge(ipt23, unique_scr[['rid', 'sex', 'age']], on='rid', how='left')"
   ],
   "metadata": {
    "collapsed": false
   },
   "id": "e045d544b249a02b",
   "execution_count": null
  },
  {
   "cell_type": "code",
   "outputs": [],
   "source": [
    "# ipt23_path = os.path.join(root, data, processed, \"unvfvt23\", \"iptBeneficiaries23.csv\")\n",
    "# ipt23.to_csv(ipt23_path, index=False)"
   ],
   "metadata": {
    "collapsed": false
   },
   "id": "f423b4795a975d95",
   "execution_count": null
  },
  {
   "cell_type": "markdown",
   "source": [
    "## PHYSIOTHERAPY INTAKE ASSESSMENT PROCESSING"
   ],
   "metadata": {
    "collapsed": false
   },
   "id": "5772e6112d6ad0b5"
  },
  {
   "cell_type": "code",
   "outputs": [],
   "source": [
    "# ptint_dataset = Dataset(config_file, ptint_sheet)\n",
    "# ptint = pd.read_csv(ptint_path)\n",
    "# ptint = dtype_trans(ptint, ptint_dataset)"
   ],
   "metadata": {
    "collapsed": false
   },
   "id": "dcbb2f76b8ed6e67",
   "execution_count": null
  },
  {
   "cell_type": "code",
   "outputs": [],
   "source": [
    "# ptint23 = filter_df_by_date(ptint, ptint_dataset.dvars, threshold)\n",
    "# ptint23 = filter_df_by_date(ptint23, ptint_dataset.dvars, threshold=upper_threshold, comparison_type='b')\n",
    "# ptint23_latestdate = ptint23[['pt_nt_s1', 'pt_nt_s2']].max(axis=1)\n",
    "# _ptint23 = ptint23.copy()\n",
    "# _ptint23.insert(4, 'service', 'ptint')\n",
    "# _ptint23.insert(5, 'date', ptint23_latestdate)\n",
    "# _ptint23 = _ptint23[['rid', 'fcid', 'service', 'date']]\n",
    "# _ptint23 = filter_df_by_date(_ptint23, ['date'], threshold)"
   ],
   "metadata": {
    "collapsed": false
   },
   "id": "562169b77373d9ae",
   "execution_count": null
  },
  {
   "cell_type": "code",
   "outputs": [],
   "source": [
    "# _ptint23 = pd.merge(_ptint23, unique_intake[[\"rid\", \"family_of_missing\", \"survivor_of_detention\", \"primary_torture\", \"secondary_torture\", \"sexual_violation_a\", \"sexual_violation_p\", \"hrd\", \"journalist\", \"wov\", \"stgbv\", \"lgbti\", \"other\"]], on='rid', how='left')\n",
    "# _ptint23 = pd.merge(_ptint23, unique_scr[['rid', 'sex', 'age']], on='rid', how='left')"
   ],
   "metadata": {
    "collapsed": false
   },
   "id": "26cf68bbc9d7e2f3",
   "execution_count": null
  },
  {
   "cell_type": "code",
   "outputs": [],
   "source": [
    "# ptint23_path = os.path.join(root, data, processed, \"unvfvt23\", \"ptintBeneficiaries23.csv\")\n",
    "# _ptint23.to_csv(ptint23_path, index=False)"
   ],
   "metadata": {
    "collapsed": false
   },
   "id": "c0fbe2175c868b4c",
   "execution_count": null
  },
  {
   "cell_type": "markdown",
   "source": [
    "## PHYSIOTHERAPY RE-INTAKE ASSESSMENT PROCESSING"
   ],
   "metadata": {
    "collapsed": false
   },
   "id": "4c707f02c6a2ed35"
  },
  {
   "cell_type": "code",
   "outputs": [],
   "source": [
    "# ptreint23 = filter_df_by_date(ptint23, ['pt_nt_re'], threshold)\n",
    "# ptreint23.insert(4, 'service', 'ptreint')\n",
    "# ptreint23 = ptreint23.rename(columns={'pt_nt_re': 'date'})\n",
    "# ptreint23 = ptreint23[['rid', 'fcid', 'service', 'date']]"
   ],
   "metadata": {
    "collapsed": false
   },
   "id": "fb30e49b9023208e",
   "execution_count": null
  },
  {
   "cell_type": "code",
   "outputs": [],
   "source": [
    "# ptreint23_path = os.path.join(root, data, processed, \"unvfvt23\", \"ptreintBeneficiaries23.csv\")\n",
    "# ptreint23.to_csv(ptreint23_path, index=False)"
   ],
   "metadata": {
    "collapsed": false
   },
   "id": "2cc27add72261051",
   "execution_count": null
  },
  {
   "cell_type": "markdown",
   "source": [
    "## PHYSIOTHERAPY FOLLOW-UP ASSESSMENT PROCESSING"
   ],
   "metadata": {
    "collapsed": false
   },
   "id": "f81a84684cc8dcd8"
  },
  {
   "cell_type": "code",
   "outputs": [],
   "source": [
    "# ptfua_dataset = Dataset(config_file, ptfua_sheet)\n",
    "# ptfua = pd.read_csv(ptfua_path)\n",
    "# ptfua = dtype_trans(ptfua, ptfua_dataset)"
   ],
   "metadata": {
    "collapsed": false
   },
   "id": "d5c0816132274c19",
   "execution_count": null
  },
  {
   "cell_type": "code",
   "outputs": [],
   "source": [
    "# ptfua323 = filter_df_by_date(ptfua, ['fu_3m'], threshold)\n",
    "# ptfua323.insert(4, \"service\", \"ptfua3\")\n",
    "# ptfua323 = ptfua323.rename(columns={'fu_3m': 'date'})\n",
    "# ptfua323 = ptfua323[['rid', 'fcid', 'service', 'date']]\n",
    "# ptfua323 = pd.merge(ptfua323, unique_intake[[\"rid\", \"family_of_missing\", \"survivor_of_detention\", \"primary_torture\", \"secondary_torture\", \"sexual_violation_a\", \"sexual_violation_p\", \"hrd\", \"journalist\", \"wov\", \"stgbv\", \"lgbti\", \"other\"]], on='rid', how='left')\n",
    "# ptfua323 = pd.merge(ptfua323, unique_scr[['rid', 'sex', 'age']], on='rid', how='left')\n",
    "# ptfua323_path = os.path.join(root, data, processed, \"unvfvt23\", \"ptfua3Beneficiaries23.csv\")\n",
    "# ptfua323.to_csv(ptfua323_path, index=False)"
   ],
   "metadata": {
    "collapsed": false
   },
   "id": "13765e8923ff9e3a",
   "execution_count": null
  },
  {
   "cell_type": "code",
   "outputs": [],
   "source": [
    "# ptfua623 = filter_df_by_date(ptfua, ['fu_6m'], threshold)\n",
    "# ptfua623 = filter_df_by_date(ptfua623, ['fu_6m'], threshold=upper_threshold, comparison_type='b')\n",
    "# ptfua623.insert(4, \"service\", \"ptfua6\")\n",
    "# ptfua623 = ptfua623.rename(columns={'fu_6m': 'date'})\n",
    "# ptfua623 = ptfua623[['rid', 'fcid', 'service', 'date']]\n",
    "# ptfua623 = pd.merge(ptfua623, unique_intake[[\"rid\", \"family_of_missing\", \"survivor_of_detention\", \"primary_torture\", \"secondary_torture\", \"sexual_violation_a\", \"sexual_violation_p\", \"hrd\", \"journalist\", \"wov\", \"stgbv\", \"lgbti\", \"other\"]], on='rid', how='left')\n",
    "# ptfua623 = pd.merge(ptfua623, unique_scr[['rid', 'sex', 'age']], on='rid', how='left')\n",
    "# ptfua623_path = os.path.join(root, data, processed, \"unvfvt23\", \"ptfua6Beneficiaries23.csv\")\n",
    "# ptfua623.to_csv(ptfua623_path, index=False)"
   ],
   "metadata": {
    "collapsed": false
   },
   "id": "649e26ea9760c362",
   "execution_count": null
  },
  {
   "cell_type": "code",
   "outputs": [],
   "source": [
    "# ptfua1223 = filter_df_by_date(ptfua, ['fu_12m'], threshold)\n",
    "# ptfua1223 = filter_df_by_date(ptfua1223, ['fu_12m'], threshold=upper_threshold, comparison_type='b')\n",
    "# ptfua1223.insert(4, \"service\", \"ptfua12\")\n",
    "# ptfua1223 = ptfua1223.rename(columns={'fu_12m': 'date'})\n",
    "# ptfua1223 = ptfua1223[['rid', 'fcid', 'service', 'date']]\n",
    "# ptfua1223 = pd.merge(ptfua1223, unique_intake[[\"rid\", \"family_of_missing\", \"survivor_of_detention\", \"primary_torture\", \"secondary_torture\", \"sexual_violation_a\", \"sexual_violation_p\", \"hrd\", \"journalist\", \"wov\", \"stgbv\", \"lgbti\", \"other\"]], on='rid', how='left')\n",
    "# ptfua1223 = pd.merge(ptfua1223, unique_scr[['rid', 'sex', 'age']], on='rid', how='left')\n",
    "# ptfua1223_path = os.path.join(root, data, processed, \"unvfvt23\", \"ptfua12Beneficiaries23.csv\")\n",
    "# ptfua1223.to_csv(ptfua1223_path, index=False)"
   ],
   "metadata": {
    "collapsed": false
   },
   "id": "81e1ce70ccfbf89d",
   "execution_count": null
  },
  {
   "cell_type": "markdown",
   "source": [
    "# CONSOLIDATION"
   ],
   "metadata": {
    "collapsed": false
   },
   "id": "294e877aeaa33bbf"
  },
  {
   "cell_type": "code",
   "outputs": [],
   "source": [
    "for file in os.listdir(unvfvt23):\n",
    "    if file.endswith(\".csv\"):\n",
    "        lst = []\n",
    "        file_path = os.path.join(unvfvt23, file)\n",
    "        df = pd.read_csv(file_path)\n",
    "        for col in df.columns:\n",
    "            lst.append(col)\n",
    "        print(file, df.shape)\n",
    "        print(lst)"
   ],
   "metadata": {
    "collapsed": false
   },
   "id": "5b6b2314f44707aa",
   "execution_count": null
  },
  {
   "cell_type": "code",
   "outputs": [],
   "source": [],
   "metadata": {
    "collapsed": false
   },
   "id": "a2361c23691d7daf",
   "execution_count": null
  },
  {
   "cell_type": "code",
   "outputs": [],
   "source": [],
   "metadata": {
    "collapsed": false
   },
   "id": "899ed7149858aabd",
   "execution_count": null
  }
 ],
 "metadata": {
  "kernelspec": {
   "display_name": "Python 3",
   "language": "python",
   "name": "python3"
  },
  "language_info": {
   "codemirror_mode": {
    "name": "ipython",
    "version": 2
   },
   "file_extension": ".py",
   "mimetype": "text/x-python",
   "name": "python",
   "nbconvert_exporter": "python",
   "pygments_lexer": "ipython2",
   "version": "2.7.6"
  }
 },
 "nbformat": 4,
 "nbformat_minor": 5
}
