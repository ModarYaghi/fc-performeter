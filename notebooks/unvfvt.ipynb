{
 "cells": [
  {
   "cell_type": "code",
   "execution_count": null,
   "id": "initial_id",
   "metadata": {
    "collapsed": true
   },
   "outputs": [],
   "source": [
    "import pandas as pd\n",
    "from src.all_in_one import *\n",
    "threshold = \"2022-12-31\"\n",
    "upper_threshold = \"2024-01-01\""
   ]
  },
  {
   "cell_type": "code",
   "outputs": [],
   "source": [
    "scr_dataset = Dataset(config_file, scr_sheet)\n",
    "scr = pd.read_csv(scr_path)\n",
    "unique_scr = scr.drop_duplicates(subset='rid')"
   ],
   "metadata": {
    "collapsed": false
   },
   "id": "f6ca545046cfc7b6",
   "execution_count": null
  },
  {
   "cell_type": "code",
   "outputs": [],
   "source": [
    "int_dataset = Dataset(config_file, int_sheet)\n",
    "intake = pd.read_csv(int_path)\n",
    "dtype_trans(intake, int_dataset)\n",
    "# intake.insert(4, \"service\", None)\n",
    "intake.sort_values(by=['nt_s1', 'nt_s2', 'nt_s3', 'nt_re'], ascending=True)\n",
    "unique_intake = intake.drop_duplicates(subset='rid', keep='last')"
   ],
   "metadata": {
    "collapsed": false
   },
   "id": "c5e7201a5c870edb",
   "execution_count": null
  },
  {
   "cell_type": "code",
   "outputs": [],
   "source": [],
   "metadata": {
    "collapsed": false
   },
   "id": "ee5f233904f66658",
   "execution_count": null
  },
  {
   "cell_type": "code",
   "outputs": [],
   "source": [
    "# intake_23 = filter_df_by_date(intake, [\"nt_s2\"], threshold=threshold)\n",
    "# intake_23 = intake_23[[\"rid\", \"fcid\", \"service\",\"nt_s2\", \"family_of_missing\", \"survivor_of_detention\", \"primary_torture\", \"secondary_torture\", \"sexual_violation_a\", \"sexual_violation_p\", \"hrd\", \"journalist\", \"wov\", \"stgbv\", \"lgbti\", \"other\"]]\n",
    "# intake_23[\"service\"] = \"int\"\n",
    "# intake_23.rename(columns={\"nt_s2\": \"date\"}, inplace=True)\n",
    "# intake_23"
   ],
   "metadata": {
    "collapsed": false
   },
   "id": "3bd277f5e79c3f74",
   "execution_count": null
  },
  {
   "cell_type": "code",
   "outputs": [],
   "source": [
    "# intake3_23 = filter_df_by_date(intake, [\"nt_s3\"], threshold=threshold)\n",
    "# intake3_23 = intake3_23[[\"rid\", \"fcid\", \"service\",\"nt_s3\", \"family_of_missing\", \"survivor_of_detention\", \"primary_torture\", \"secondary_torture\", \"sexual_violation_a\", \"sexual_violation_p\", \"hrd\", \"journalist\", \"wov\", \"stgbv\", \"lgbti\", \"other\"]]\n",
    "# intake3_23[\"service\"] = \"int\"\n",
    "# intake3_23.rename(columns={\"nt_s3\": \"date\"}, inplace=True)\n",
    "# intake3_23"
   ],
   "metadata": {
    "collapsed": false
   },
   "id": "2d5fbae3de9ac652",
   "execution_count": null
  },
  {
   "cell_type": "code",
   "outputs": [],
   "source": [
    "# reintake_23 = filter_df_by_date(intake, [\"nt_re\"], threshold=threshold)\n",
    "# reintake_23 = reintake_23[[\"rid\", \"fcid\", \"service\",\"nt_re\", \"family_of_missing\", \"survivor_of_detention\", \"primary_torture\", \"secondary_torture\", \"sexual_violation_a\", \"sexual_violation_p\", \"hrd\", \"journalist\", \"wov\", \"stgbv\", \"lgbti\", \"other\"]]\n",
    "# reintake_23[\"service\"] = \"re\"\n",
    "# reintake_23.rename(columns={\"nt_re\": \"date\"}, inplace=True)\n",
    "# reintake_23"
   ],
   "metadata": {
    "collapsed": false
   },
   "id": "bccf37defd21eb2a",
   "execution_count": null
  },
  {
   "cell_type": "code",
   "outputs": [],
   "source": [
    "# int23 = pd.concat([intake_23, intake3_23,reintake_23])\n",
    "# int23"
   ],
   "metadata": {
    "collapsed": false
   },
   "id": "97466640bf06dbea",
   "execution_count": null
  },
  {
   "cell_type": "code",
   "outputs": [],
   "source": [
    "# int23 = int23.sort_values(by='date')\n",
    "# int23 = int23.drop_duplicates(subset=\"rid\", keep=\"last\")\n",
    "# int23"
   ],
   "metadata": {
    "collapsed": false
   },
   "id": "db9d0ca9508333eb",
   "execution_count": null
  },
  {
   "cell_type": "code",
   "outputs": [],
   "source": [
    "# int23 = pd.merge(int23, unique_scr[['rid', 'sex', 'age']], on='rid', how='left')"
   ],
   "metadata": {
    "collapsed": false
   },
   "id": "48820c2a6757eb52",
   "execution_count": null
  },
  {
   "cell_type": "code",
   "outputs": [],
   "source": [
    "# gc_dataset = Dataset(config_file, gc_sheet)\n",
    "# gc = pd.read_csv(gc_path)\n",
    "# dtype_trans(gc, gc_dataset)"
   ],
   "metadata": {
    "collapsed": false
   },
   "id": "f834e4263ce87a39",
   "execution_count": null
  },
  {
   "cell_type": "code",
   "outputs": [],
   "source": [
    "# gc23 = filter_df_by_date(gc, ['gc_s1', 'gc_s2', 'gc_s3', 'gc_s4', 'gc_s5', 'gc_s6', 'gc_s7', 'gc_s8', 'gc_s9', 'gc_10'], threshold)\n",
    "# gc23 = gc23[gc23[\"gc_total\"] >= 7]\n",
    "# gc23_latestdate = gc23[['gc_s1', 'gc_s2', 'gc_s3', 'gc_s4', 'gc_s5', 'gc_s6', 'gc_s7', 'gc_s8', 'gc_s9', 'gc_10']].max(axis=1)\n",
    "# gc23.insert(4, \"service\", \"gc\")\n",
    "# gc23.insert(5, \"date\", gc23_latestdate)\n",
    "# gc23"
   ],
   "metadata": {
    "collapsed": false
   },
   "id": "121b24b2767697b",
   "execution_count": null
  },
  {
   "cell_type": "code",
   "outputs": [],
   "source": [
    "# gc23 = gc23[['rid', 'fcid', 'service', 'date', 'gc_total']]\n",
    "# gc23"
   ],
   "metadata": {
    "collapsed": false
   },
   "id": "54d802f358d3213a",
   "execution_count": null
  },
  {
   "cell_type": "code",
   "outputs": [],
   "source": [
    "# gc23_path = os.path.join(root, data, processed, \"unvfvt23\", \"gc23\")\n",
    "# gc23 = pd.read_csv(gc23_path)\n",
    "# gc23"
   ],
   "metadata": {
    "collapsed": false
   },
   "id": "15ca971dcd356d42",
   "execution_count": null
  },
  {
   "cell_type": "code",
   "outputs": [],
   "source": [
    "# gc23 = pd.merge(gc23, unique_intake[[\"rid\", \"family_of_missing\", \"survivor_of_detention\", \"primary_torture\", \"secondary_torture\", \"sexual_violation_a\", \"sexual_violation_p\", \"hrd\", \"journalist\", \"wov\", \"stgbv\", \"lgbti\", \"other\"]], on='rid', how='left')"
   ],
   "metadata": {
    "collapsed": false
   },
   "id": "82bd1e724d530a01",
   "execution_count": null
  },
  {
   "cell_type": "code",
   "outputs": [],
   "source": [
    "# gc23 = pd.merge(gc23, unique_scr[['rid', 'sex', 'age']], on='rid', how='left')\n",
    "# gc23"
   ],
   "metadata": {
    "collapsed": false
   },
   "id": "cb6a38e8659f27a3",
   "execution_count": null
  },
  {
   "cell_type": "code",
   "outputs": [],
   "source": [
    "# ic_dataset = Dataset(config_file, ic_sheet)\n",
    "# ic = pd.read_csv(ic_path)\n",
    "# dtype_trans(ic, ic_dataset)\n",
    "# ic"
   ],
   "metadata": {
    "collapsed": false
   },
   "id": "f489fa7e04ddff12",
   "execution_count": null
  },
  {
   "cell_type": "code",
   "outputs": [],
   "source": [
    "# ic23 = filter_df_by_date(ic, ic_dataset.dvars, threshold)\n",
    "# ic23_latestdate = ic23[ic_dataset.dvars].max(axis=1)\n",
    "# ic23.insert(4, \"service\", \"ic\")\n",
    "# ic23.insert(5, \"date\", ic23_latestdate)\n",
    "# ic23 = ic23[['rid', 'fcid', 'service', 'date', 'ic_total']]\n",
    "# ic23 = pd.merge(ic23, unique_intake[[\"rid\", \"family_of_missing\", \"survivor_of_detention\", \"primary_torture\", \"secondary_torture\", \"sexual_violation_a\", \"sexual_violation_p\", \"hrd\", \"journalist\", \"wov\", \"stgbv\", \"lgbti\", \"other\"]], on='rid', how='left')\n",
    "# ic23 = pd.merge(ic23, unique_scr[['rid', 'sex', 'age']], on='rid', how='left')\n",
    "# ic23"
   ],
   "metadata": {
    "collapsed": false
   },
   "id": "2c40427084a6eb88",
   "execution_count": null
  },
  {
   "cell_type": "code",
   "outputs": [],
   "source": [
    "# int23_path = os.path.join(root, data, processed, \"unvfvt23\", \"intBeneficiaries23.csv\")\n",
    "# int23.to_csv(path, index=False)\n",
    "# gc23_path = os.path.join(root, data, processed, \"unvfvt23\", \"gcBeneficiaries23.csv\")\n",
    "# gc23.to_csv(gc23_path, index=False)"
   ],
   "metadata": {
    "collapsed": false
   },
   "id": "e3dcfe51fa5fa22f",
   "execution_count": null
  },
  {
   "cell_type": "code",
   "outputs": [],
   "source": [
    "# pd.read_csv(int23_path)"
   ],
   "metadata": {
    "collapsed": false
   },
   "id": "f329b41b71780c8b",
   "execution_count": null
  },
  {
   "cell_type": "code",
   "outputs": [],
   "source": [
    "# gc23_path = os.path.join(root, data, processed, \"unvfvt23\", \"gcBeneficiaries23.csv\")\n",
    "# pd.read_csv(gc23_path)"
   ],
   "metadata": {
    "collapsed": false
   },
   "id": "5b213831b39e847c",
   "execution_count": null
  },
  {
   "cell_type": "code",
   "outputs": [],
   "source": [
    "psfua_dataset = Dataset(config_file, ptfua_sheet)\n",
    "psfua = pd.read_csv(psfua_path)\n",
    "psfua = dtype_trans(psfua, psfua_dataset)"
   ],
   "metadata": {
    "collapsed": false
   },
   "id": "dc5cf24111575d3e",
   "execution_count": null
  },
  {
   "cell_type": "code",
   "outputs": [],
   "source": [
    "psfua323 = filter_df_by_date(psfua, ['fu_3m'], threshold)\n",
    "psfua323.insert(4, \"service\", \"psfua3\")\n",
    "# psfua323"
   ],
   "metadata": {
    "collapsed": false
   },
   "id": "b5c0e6c16cb7d80a",
   "execution_count": null
  },
  {
   "cell_type": "code",
   "outputs": [],
   "source": [
    "psfua323"
   ],
   "metadata": {
    "collapsed": false
   },
   "id": "db12a1b9282d19f5",
   "execution_count": null
  },
  {
   "cell_type": "code",
   "outputs": [],
   "source": [
    "psfua623 = filter_df_by_date(psfua, ['fu_6m'], threshold)\n",
    "psfua623 = filter_df_by_date(psfua623, ['fu_6m'], upper_threshold, comparison_type='b')\n",
    "psfua623.insert(4, \"service\", \"psfua6\")\n",
    "psfua623"
   ],
   "metadata": {
    "collapsed": false
   },
   "id": "6d6bd08d6297f246",
   "execution_count": null
  },
  {
   "cell_type": "code",
   "outputs": [],
   "source": [
    "psfua1223 = filter_df_by_date(psfua, ['fu_12m'], threshold)\n",
    "psfua1223.insert(4, \"service\", \"psfua12\")\n",
    "psfua1223"
   ],
   "metadata": {
    "collapsed": false
   },
   "id": "4779c98951c41376",
   "execution_count": null
  },
  {
   "cell_type": "code",
   "outputs": [],
   "source": [
    "psfua323 = psfua323[['rid', 'fcid', 'service', 'fu_3m']].copy()\n",
    "psfua323.rename(columns={'fu_3m': 'date'}, inplace=True)\n",
    "psfua623 = psfua623[['rid', 'fcid', 'service', 'fu_6m']].copy()\n",
    "psfua623.rename(columns={'fu_6m': 'date'}, inplace=True)\n",
    "psfua1223 = psfua1223[['rid', 'fcid', 'service', 'fu_12m']].copy()\n",
    "psfua1223.rename(columns={'fu_12m': 'date'}, inplace=True)\n",
    "psfua23 = pd.concat([psfua323, psfua623, psfua1223])"
   ],
   "metadata": {
    "collapsed": false
   },
   "id": "54638a068472783f",
   "execution_count": null
  },
  {
   "cell_type": "code",
   "outputs": [],
   "source": [
    "psfua23.tocsv()"
   ],
   "metadata": {
    "collapsed": false
   },
   "id": "f7075bd22bbd9770",
   "execution_count": null
  },
  {
   "cell_type": "code",
   "outputs": [],
   "source": [],
   "metadata": {
    "collapsed": false
   },
   "id": "23ecc0da53b41651"
  }
 ],
 "metadata": {
  "kernelspec": {
   "display_name": "Python 3",
   "language": "python",
   "name": "python3"
  },
  "language_info": {
   "codemirror_mode": {
    "name": "ipython",
    "version": 2
   },
   "file_extension": ".py",
   "mimetype": "text/x-python",
   "name": "python",
   "nbconvert_exporter": "python",
   "pygments_lexer": "ipython2",
   "version": "2.7.6"
  }
 },
 "nbformat": 4,
 "nbformat_minor": 5
}
