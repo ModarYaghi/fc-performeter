{
 "cells": [
  {
   "cell_type": "code",
   "execution_count": null,
   "id": "initial_id",
   "metadata": {
    "collapsed": true
   },
   "outputs": [],
   "source": [
    "import pandas as pd\n",
    "import os\n",
    "from src.all_in_one import *"
   ]
  },
  {
   "cell_type": "code",
   "execution_count": null,
   "outputs": [],
   "source": [
    "decryptor = ExcelDecryptor(pt_raw_data, ptpw)\n",
    "tracking_tools = decryptor.read_encrypted_excels()"
   ],
   "metadata": {
    "collapsed": false
   },
   "id": "41941daff477ee7c"
  },
  {
   "cell_type": "code",
   "outputs": [],
   "source": [
    "decryptor.display_result_structure(tracking_tools)[\"Sheet\"].unique()"
   ],
   "metadata": {
    "collapsed": false
   },
   "id": "ca070ae9f2f656af",
   "execution_count": null
  },
  {
   "cell_type": "code",
   "outputs": [],
   "source": [
    "config.shpt"
   ],
   "metadata": {
    "collapsed": false
   },
   "id": "861d4eaf9451ef7c",
   "execution_count": null
  },
  {
   "cell_type": "code",
   "outputs": [],
   "source": [
    "sheet_name = 'FUA'"
   ],
   "metadata": {
    "collapsed": false
   },
   "id": "227901ff4fa1e168",
   "execution_count": null
  },
  {
   "cell_type": "code",
   "execution_count": null,
   "outputs": [],
   "source": [
    "df = compiler(sheet_name, config.fpt, config_file, tracking_tools)\n",
    "df"
   ],
   "metadata": {
    "collapsed": false
   },
   "id": "1f54b872edd2ebf"
  },
  {
   "cell_type": "code",
   "execution_count": null,
   "outputs": [],
   "source": [
    "sp = (sheet_name + 'sp').lower().replace(' ', '')"
   ],
   "metadata": {
    "collapsed": false
   },
   "id": "b29a2afb775a358"
  },
  {
   "cell_type": "code",
   "outputs": [],
   "source": [
    "df.value_counts(sp)"
   ],
   "metadata": {
    "collapsed": false
   },
   "id": "fe53102aaf84a865",
   "execution_count": null
  },
  {
   "cell_type": "code",
   "outputs": [],
   "source": [
    "df_dataset = Dataset(config_file, sheet_name)"
   ],
   "metadata": {
    "collapsed": false
   },
   "id": "123164814aefa88c",
   "execution_count": null
  },
  {
   "cell_type": "code",
   "outputs": [],
   "source": [
    "df_dataset.dvars"
   ],
   "metadata": {
    "collapsed": false
   },
   "id": "f09bb9731e539aa0",
   "execution_count": null
  },
  {
   "cell_type": "code",
   "outputs": [],
   "source": [
    "df_dtype_transed = dtype_trans(dataframe=df ,dataset=df_dataset)\n",
    "df_dtype_transed"
   ],
   "metadata": {
    "collapsed": false
   },
   "id": "71b45ef3a29ffae0",
   "execution_count": null
  },
  {
   "cell_type": "code",
   "outputs": [],
   "source": [
    "# threshold_date = '2023-11-30' "
   ],
   "metadata": {
    "collapsed": false
   },
   "id": "3a2238789c68a97a",
   "execution_count": null
  },
  {
   "cell_type": "code",
   "outputs": [],
   "source": [
    "df_dataset.ivars"
   ],
   "metadata": {
    "collapsed": false
   },
   "id": "b29514ff2e06fb30",
   "execution_count": null
  },
  {
   "cell_type": "markdown",
   "source": [
    "## ------------------------------------------------------------------------------------------------------------------------------------------\n",
    "## ------------------------------------------------------------------------------------------------------------------------------------------"
   ],
   "metadata": {
    "collapsed": false
   },
   "id": "9ebb5b3d26a33a8a"
  },
  {
   "cell_type": "code",
   "outputs": [],
   "source": [
    "csv_file_name = ('pt' + sheet_name.lower().replace(' ', '') + '_1223.csv')\n",
    "csv_path = os.path.join(processed_data, csv_file_name)\n",
    "csv_path"
   ],
   "metadata": {
    "collapsed": false
   },
   "id": "2e343df46d8cae3e",
   "execution_count": null
  },
  {
   "cell_type": "code",
   "outputs": [],
   "source": [
    "df.to_csv(csv_path, index=False)"
   ],
   "metadata": {
    "collapsed": false
   },
   "id": "ba2908a299359b62",
   "execution_count": null
  },
  {
   "cell_type": "code",
   "outputs": [],
   "source": [
    "output_df = pd.read_csv(csv_path)\n",
    "output_df = dtype_trans(output_df, df_dataset)\n",
    "output_df"
   ],
   "metadata": {
    "collapsed": false
   },
   "id": "fa0cb615798e3f3",
   "execution_count": null
  },
  {
   "cell_type": "code",
   "outputs": [],
   "source": [],
   "metadata": {
    "collapsed": false
   },
   "id": "9a9e7ef113d19c78"
  }
 ],
 "metadata": {
  "kernelspec": {
   "display_name": "Python 3",
   "language": "python",
   "name": "python3"
  },
  "language_info": {
   "codemirror_mode": {
    "name": "ipython",
    "version": 2
   },
   "file_extension": ".py",
   "mimetype": "text/x-python",
   "name": "python",
   "nbconvert_exporter": "python",
   "pygments_lexer": "ipython2",
   "version": "2.7.6"
  }
 },
 "nbformat": 4,
 "nbformat_minor": 5
}
