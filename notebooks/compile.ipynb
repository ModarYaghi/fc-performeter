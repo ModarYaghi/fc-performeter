{
 "cells": [
  {
   "cell_type": "code",
   "execution_count": 1,
   "id": "initial_id",
   "metadata": {
    "collapsed": true,
    "ExecuteTime": {
     "end_time": "2024-01-05T15:01:53.755344400Z",
     "start_time": "2024-01-05T15:01:52.636935300Z"
    }
   },
   "outputs": [],
   "source": [
    "import pandas as pd\n",
    "\n",
    "from src.all_in_one import *"
   ]
  },
  {
   "cell_type": "code",
   "execution_count": null,
   "outputs": [],
   "source": [
    "decryptor = ExcelDecryptor(raw_data, passwords)\n",
    "tracking_tools = decryptor.read_encrypted_excels()"
   ],
   "metadata": {
    "collapsed": false
   },
   "id": "41941daff477ee7c"
  },
  {
   "cell_type": "code",
   "outputs": [],
   "source": [
    "sheet_name = 'TRW'"
   ],
   "metadata": {
    "collapsed": false
   },
   "id": "227901ff4fa1e168",
   "execution_count": null
  },
  {
   "cell_type": "code",
   "execution_count": null,
   "outputs": [],
   "source": [
    "tr = compiler(sheet_name, pss_files, config_path, tracking_tools)"
   ],
   "metadata": {
    "collapsed": false
   },
   "id": "1f54b872edd2ebf"
  },
  {
   "cell_type": "code",
   "execution_count": null,
   "outputs": [],
   "source": [
    "tr"
   ],
   "metadata": {
    "collapsed": false
   },
   "id": "b29a2afb775a358"
  },
  {
   "cell_type": "code",
   "outputs": [],
   "source": [
    "tr.value_counts('trwsp')"
   ],
   "metadata": {
    "collapsed": false
   },
   "id": "fe53102aaf84a865",
   "execution_count": null
  },
  {
   "cell_type": "code",
   "outputs": [],
   "source": [
    "pe.to_csv(processed_data + 'pspe_1223.csv', index=False)"
   ],
   "metadata": {
    "collapsed": false
   },
   "id": "95cdf3e496cc2985",
   "execution_count": null
  },
  {
   "cell_type": "code",
   "outputs": [],
   "source": [
    "# scr23 = screening[(screening[['sc1', 'sc2', 'scre']] > threshold_date).any(axis=1)]\n",
    "# screening[screening_date_columns] = screening[screening_date_columns].apply(pd.to_datetime)\n",
    "trw_dataset = Dataset(config_path, 'TRW')"
   ],
   "metadata": {
    "collapsed": false
   },
   "id": "123164814aefa88c",
   "execution_count": null
  },
  {
   "cell_type": "code",
   "outputs": [],
   "source": [
    "threshold_date = '2023-11-30'"
   ],
   "metadata": {
    "collapsed": false
   },
   "id": "3a2238789c68a97a",
   "execution_count": null
  },
  {
   "cell_type": "code",
   "outputs": [],
   "source": [
    "trw_dataset.dvars\n",
    "# pei_dates = ['pei_s1', 'pei_s2', 'pei_s3']\n",
    "# pei_dates"
   ],
   "metadata": {
    "collapsed": false
   },
   "id": "b29514ff2e06fb30",
   "execution_count": null
  },
  {
   "cell_type": "code",
   "outputs": [],
   "source": [
    "tr[trw_dataset.dvars] = tr[trw_dataset.dvars].apply(pd.to_datetime)"
   ],
   "metadata": {
    "collapsed": false
   },
   "id": "33c0654acaeb2ec3",
   "execution_count": null
  },
  {
   "cell_type": "code",
   "outputs": [],
   "source": [
    "df = tr[(tr[trw_dataset.dvars] > threshold_date).any(axis=1)]"
   ],
   "metadata": {
    "collapsed": false
   },
   "id": "148be9922cdc83a4",
   "execution_count": null
  },
  {
   "cell_type": "code",
   "outputs": [],
   "source": [
    "df"
   ],
   "metadata": {
    "collapsed": false
   },
   "id": "45ae159d213b89d7",
   "execution_count": null
  },
  {
   "cell_type": "code",
   "outputs": [],
   "source": [],
   "metadata": {
    "collapsed": false
   },
   "id": "2e343df46d8cae3e"
  }
 ],
 "metadata": {
  "kernelspec": {
   "display_name": "Python 3",
   "language": "python",
   "name": "python3"
  },
  "language_info": {
   "codemirror_mode": {
    "name": "ipython",
    "version": 2
   },
   "file_extension": ".py",
   "mimetype": "text/x-python",
   "name": "python",
   "nbconvert_exporter": "python",
   "pygments_lexer": "ipython2",
   "version": "2.7.6"
  }
 },
 "nbformat": 4,
 "nbformat_minor": 5
}
