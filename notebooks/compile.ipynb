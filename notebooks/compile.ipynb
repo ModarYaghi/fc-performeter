{
 "cells": [
  {
   "cell_type": "code",
   "execution_count": 1,
   "id": "initial_id",
   "metadata": {
    "collapsed": true,
    "ExecuteTime": {
     "end_time": "2024-01-04T13:12:08.770484800Z",
     "start_time": "2024-01-04T13:12:07.586263100Z"
    }
   },
   "outputs": [],
   "source": [
    "from src.all_in_one import *"
   ]
  },
  {
   "cell_type": "code",
   "execution_count": 2,
   "outputs": [
    {
     "name": "stderr",
     "output_type": "stream",
     "text": [
      "Processing: 100%|██████████| 10/10 [00:11<00:00,  1.14s/it]\n"
     ]
    }
   ],
   "source": [
    "decryptor = ExcelDecryptor(raw_data, passwords)\n",
    "tracking_tools = decryptor.read_encrypted_excels()"
   ],
   "metadata": {
    "collapsed": false,
    "ExecuteTime": {
     "end_time": "2024-01-04T13:12:21.566404400Z",
     "start_time": "2024-01-04T13:12:10.178550500Z"
    }
   },
   "id": "41941daff477ee7c"
  },
  {
   "cell_type": "code",
   "execution_count": 3,
   "outputs": [],
   "source": [
    "screening = compiler(\"Scr\", pss_files, config_path, tracking_tools)"
   ],
   "metadata": {
    "collapsed": false,
    "ExecuteTime": {
     "end_time": "2024-01-04T13:13:40.894832600Z",
     "start_time": "2024-01-04T13:13:40.748853600Z"
    }
   },
   "id": "1f54b872edd2ebf"
  },
  {
   "cell_type": "code",
   "execution_count": 4,
   "outputs": [
    {
     "data": {
      "text/plain": "    scrsp scspi    rid firstname lastname     sex age     nat sc_loc  \\\n0      IJ     1  R0542      بيان     فاضل  Female  20  Syrian    GTZ   \n1      IJ     2  R0239       منى   الصيني  Female  46  Syrian    GTZ   \n2      IJ     3  R0394      مرفت      علي  Female  43  Syrian    GTZ   \n3      IJ     4  R0402      عبير      عزو  Female  43  Syrian    GTZ   \n4      IJ     5  R0405       رشا    حريري  Female  37  Syrian    GTZ   \n..    ...   ...    ...       ...      ...     ...  ..     ...    ...   \n536    YQ   176  R0922      جمال   الحسين    Male  66  Syrian     SF   \n537    YQ   177  R0923   عبدالله    سلامة    Male  37  Syrian     SF   \n538    YQ   178  R1035       سمر     عبيد  Female  56  Syrian    Rey   \n539    YQ   179  R1034      خالد    زيتون    Male  52  Syrian    Rey   \n540    YQ   180  R1033       NaN      NaN  Female  47  Syrian    Rey   \n\n                   sc_s1 pei_pre_as sc_re  \\\n0    2023-01-31 00:00:00        NaN   NaN   \n1    2023-01-16 00:00:00        NaN   NaN   \n2    2022-09-08 00:00:00        NaN   NaN   \n3    2022-09-13 00:00:00        NaN   NaN   \n4    2022-08-29 00:00:00        NaN   NaN   \n..                   ...        ...   ...   \n536  2023-09-08 00:00:00        NaN   NaN   \n537  2023-09-08 00:00:00        NaN   NaN   \n538  2023-10-26 00:00:00        NaN   NaN   \n539  2023-10-26 00:00:00        NaN   NaN   \n540  2023-10-26 00:00:00        NaN   NaN   \n\n                                    source source_org need_mhpss need_trw  \\\n0    ADMSP beneficiary (current or former)        NaN        Yes       No   \n1    ADMSP beneficiary (current or former)        NaN        Yes       No   \n2                         Outreach session        NaN        Yes       No   \n3                  Family member or friend        NaN        Yes       No   \n4    ADMSP beneficiary (current or former)        NaN        Yes       No   \n..                                     ...        ...        ...      ...   \n536                                    IRM        NaN         No       No   \n537                                    IRM        NaN         No      Yes   \n538                                    IRM        NaN         No       No   \n539                                    IRM        NaN         No       No   \n540                                    IRM        NaN         No       No   \n\n    need_out_ref need_tmh need_pei                note  \n0             No       No       No              intake  \n1             No       No       No              intake  \n2             No       No       No         ملتزمة بعمل  \n3             No       No       No            intake-Y  \n4             No       No       No            intake-S  \n..           ...      ...      ...                 ...  \n536           No       No      Yes                 NaN  \n537           No      Yes      Yes                 NaN  \n538           No      Yes      Yes                 NaN  \n539           No       No       No  تحويل لجلسة توعية   \n540           No      Yes      Yes                 NaN  \n\n[541 rows x 20 columns]",
      "text/html": "<div>\n<style scoped>\n    .dataframe tbody tr th:only-of-type {\n        vertical-align: middle;\n    }\n\n    .dataframe tbody tr th {\n        vertical-align: top;\n    }\n\n    .dataframe thead th {\n        text-align: right;\n    }\n</style>\n<table border=\"1\" class=\"dataframe\">\n  <thead>\n    <tr style=\"text-align: right;\">\n      <th></th>\n      <th>scrsp</th>\n      <th>scspi</th>\n      <th>rid</th>\n      <th>firstname</th>\n      <th>lastname</th>\n      <th>sex</th>\n      <th>age</th>\n      <th>nat</th>\n      <th>sc_loc</th>\n      <th>sc_s1</th>\n      <th>pei_pre_as</th>\n      <th>sc_re</th>\n      <th>source</th>\n      <th>source_org</th>\n      <th>need_mhpss</th>\n      <th>need_trw</th>\n      <th>need_out_ref</th>\n      <th>need_tmh</th>\n      <th>need_pei</th>\n      <th>note</th>\n    </tr>\n  </thead>\n  <tbody>\n    <tr>\n      <th>0</th>\n      <td>IJ</td>\n      <td>1</td>\n      <td>R0542</td>\n      <td>بيان</td>\n      <td>فاضل</td>\n      <td>Female</td>\n      <td>20</td>\n      <td>Syrian</td>\n      <td>GTZ</td>\n      <td>2023-01-31 00:00:00</td>\n      <td>NaN</td>\n      <td>NaN</td>\n      <td>ADMSP beneficiary (current or former)</td>\n      <td>NaN</td>\n      <td>Yes</td>\n      <td>No</td>\n      <td>No</td>\n      <td>No</td>\n      <td>No</td>\n      <td>intake</td>\n    </tr>\n    <tr>\n      <th>1</th>\n      <td>IJ</td>\n      <td>2</td>\n      <td>R0239</td>\n      <td>منى</td>\n      <td>الصيني</td>\n      <td>Female</td>\n      <td>46</td>\n      <td>Syrian</td>\n      <td>GTZ</td>\n      <td>2023-01-16 00:00:00</td>\n      <td>NaN</td>\n      <td>NaN</td>\n      <td>ADMSP beneficiary (current or former)</td>\n      <td>NaN</td>\n      <td>Yes</td>\n      <td>No</td>\n      <td>No</td>\n      <td>No</td>\n      <td>No</td>\n      <td>intake</td>\n    </tr>\n    <tr>\n      <th>2</th>\n      <td>IJ</td>\n      <td>3</td>\n      <td>R0394</td>\n      <td>مرفت</td>\n      <td>علي</td>\n      <td>Female</td>\n      <td>43</td>\n      <td>Syrian</td>\n      <td>GTZ</td>\n      <td>2022-09-08 00:00:00</td>\n      <td>NaN</td>\n      <td>NaN</td>\n      <td>Outreach session</td>\n      <td>NaN</td>\n      <td>Yes</td>\n      <td>No</td>\n      <td>No</td>\n      <td>No</td>\n      <td>No</td>\n      <td>ملتزمة بعمل</td>\n    </tr>\n    <tr>\n      <th>3</th>\n      <td>IJ</td>\n      <td>4</td>\n      <td>R0402</td>\n      <td>عبير</td>\n      <td>عزو</td>\n      <td>Female</td>\n      <td>43</td>\n      <td>Syrian</td>\n      <td>GTZ</td>\n      <td>2022-09-13 00:00:00</td>\n      <td>NaN</td>\n      <td>NaN</td>\n      <td>Family member or friend</td>\n      <td>NaN</td>\n      <td>Yes</td>\n      <td>No</td>\n      <td>No</td>\n      <td>No</td>\n      <td>No</td>\n      <td>intake-Y</td>\n    </tr>\n    <tr>\n      <th>4</th>\n      <td>IJ</td>\n      <td>5</td>\n      <td>R0405</td>\n      <td>رشا</td>\n      <td>حريري</td>\n      <td>Female</td>\n      <td>37</td>\n      <td>Syrian</td>\n      <td>GTZ</td>\n      <td>2022-08-29 00:00:00</td>\n      <td>NaN</td>\n      <td>NaN</td>\n      <td>ADMSP beneficiary (current or former)</td>\n      <td>NaN</td>\n      <td>Yes</td>\n      <td>No</td>\n      <td>No</td>\n      <td>No</td>\n      <td>No</td>\n      <td>intake-S</td>\n    </tr>\n    <tr>\n      <th>...</th>\n      <td>...</td>\n      <td>...</td>\n      <td>...</td>\n      <td>...</td>\n      <td>...</td>\n      <td>...</td>\n      <td>...</td>\n      <td>...</td>\n      <td>...</td>\n      <td>...</td>\n      <td>...</td>\n      <td>...</td>\n      <td>...</td>\n      <td>...</td>\n      <td>...</td>\n      <td>...</td>\n      <td>...</td>\n      <td>...</td>\n      <td>...</td>\n      <td>...</td>\n    </tr>\n    <tr>\n      <th>536</th>\n      <td>YQ</td>\n      <td>176</td>\n      <td>R0922</td>\n      <td>جمال</td>\n      <td>الحسين</td>\n      <td>Male</td>\n      <td>66</td>\n      <td>Syrian</td>\n      <td>SF</td>\n      <td>2023-09-08 00:00:00</td>\n      <td>NaN</td>\n      <td>NaN</td>\n      <td>IRM</td>\n      <td>NaN</td>\n      <td>No</td>\n      <td>No</td>\n      <td>No</td>\n      <td>No</td>\n      <td>Yes</td>\n      <td>NaN</td>\n    </tr>\n    <tr>\n      <th>537</th>\n      <td>YQ</td>\n      <td>177</td>\n      <td>R0923</td>\n      <td>عبدالله</td>\n      <td>سلامة</td>\n      <td>Male</td>\n      <td>37</td>\n      <td>Syrian</td>\n      <td>SF</td>\n      <td>2023-09-08 00:00:00</td>\n      <td>NaN</td>\n      <td>NaN</td>\n      <td>IRM</td>\n      <td>NaN</td>\n      <td>No</td>\n      <td>Yes</td>\n      <td>No</td>\n      <td>Yes</td>\n      <td>Yes</td>\n      <td>NaN</td>\n    </tr>\n    <tr>\n      <th>538</th>\n      <td>YQ</td>\n      <td>178</td>\n      <td>R1035</td>\n      <td>سمر</td>\n      <td>عبيد</td>\n      <td>Female</td>\n      <td>56</td>\n      <td>Syrian</td>\n      <td>Rey</td>\n      <td>2023-10-26 00:00:00</td>\n      <td>NaN</td>\n      <td>NaN</td>\n      <td>IRM</td>\n      <td>NaN</td>\n      <td>No</td>\n      <td>No</td>\n      <td>No</td>\n      <td>Yes</td>\n      <td>Yes</td>\n      <td>NaN</td>\n    </tr>\n    <tr>\n      <th>539</th>\n      <td>YQ</td>\n      <td>179</td>\n      <td>R1034</td>\n      <td>خالد</td>\n      <td>زيتون</td>\n      <td>Male</td>\n      <td>52</td>\n      <td>Syrian</td>\n      <td>Rey</td>\n      <td>2023-10-26 00:00:00</td>\n      <td>NaN</td>\n      <td>NaN</td>\n      <td>IRM</td>\n      <td>NaN</td>\n      <td>No</td>\n      <td>No</td>\n      <td>No</td>\n      <td>No</td>\n      <td>No</td>\n      <td>تحويل لجلسة توعية</td>\n    </tr>\n    <tr>\n      <th>540</th>\n      <td>YQ</td>\n      <td>180</td>\n      <td>R1033</td>\n      <td>NaN</td>\n      <td>NaN</td>\n      <td>Female</td>\n      <td>47</td>\n      <td>Syrian</td>\n      <td>Rey</td>\n      <td>2023-10-26 00:00:00</td>\n      <td>NaN</td>\n      <td>NaN</td>\n      <td>IRM</td>\n      <td>NaN</td>\n      <td>No</td>\n      <td>No</td>\n      <td>No</td>\n      <td>Yes</td>\n      <td>Yes</td>\n      <td>NaN</td>\n    </tr>\n  </tbody>\n</table>\n<p>541 rows × 20 columns</p>\n</div>"
     },
     "execution_count": 4,
     "metadata": {},
     "output_type": "execute_result"
    }
   ],
   "source": [
    "screening"
   ],
   "metadata": {
    "collapsed": false,
    "ExecuteTime": {
     "end_time": "2024-01-04T13:13:45.132278400Z",
     "start_time": "2024-01-04T13:13:45.097298Z"
    }
   },
   "id": "b29a2afb775a358"
  }
 ],
 "metadata": {
  "kernelspec": {
   "display_name": "Python 3",
   "language": "python",
   "name": "python3"
  },
  "language_info": {
   "codemirror_mode": {
    "name": "ipython",
    "version": 2
   },
   "file_extension": ".py",
   "mimetype": "text/x-python",
   "name": "python",
   "nbconvert_exporter": "python",
   "pygments_lexer": "ipython2",
   "version": "2.7.6"
  }
 },
 "nbformat": 4,
 "nbformat_minor": 5
}
