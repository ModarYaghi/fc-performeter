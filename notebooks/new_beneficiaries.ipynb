{
 "cells": [
  {
   "cell_type": "code",
   "id": "initial_id",
   "metadata": {
    "collapsed": true,
    "ExecuteTime": {
     "end_time": "2024-10-16T12:31:22.757586Z",
     "start_time": "2024-10-16T12:31:22.751935Z"
    }
   },
   "source": [
    "from src.all_in_one import *\n",
    "from src.dataset_aggregator import *\n",
    "from src.basic_variables import *\n",
    "from src.rebuild_dataframe import *"
   ],
   "outputs": [],
   "execution_count": 19
  },
  {
   "metadata": {},
   "cell_type": "code",
   "outputs": [],
   "execution_count": null,
   "source": "",
   "id": "39c3c2b091c27162"
  },
  {
   "metadata": {
    "ExecuteTime": {
     "end_time": "2024-10-16T12:31:29.237398Z",
     "start_time": "2024-10-16T12:31:29.144962Z"
    }
   },
   "cell_type": "code",
   "source": [
    "int_file = path_manager.get_data_file(Category.PS, PSFile.PSNT)\n",
    "intake = get_df(int_file.path, int_file.sheet, config_file)\n",
    "intake_24 = filter_dataframe_on_date(intake, 'nt_s2', START, END)\n",
    "intake_24[\"service\"] = \"int\"\n",
    "intake_24 = intake_24[intake_s2]\n",
    "intake_24.rename(columns={\"nt_s2\": \"date\"}, inplace=True)\n",
    "intake_24 = intake_24[['rid', 'fcid', 'service', 'date']]\n",
    "intake_24 = intake_24.drop_duplicates(subset='fcid')"
   ],
   "id": "d1149aa3291ea827",
   "outputs": [],
   "execution_count": 20
  },
  {
   "metadata": {
    "ExecuteTime": {
     "end_time": "2024-10-16T08:52:18.026113Z",
     "start_time": "2024-10-16T08:52:18.022788Z"
    }
   },
   "cell_type": "code",
   "source": "# intake_24",
   "id": "e6cbc689d91c7aa6",
   "outputs": [],
   "execution_count": 9
  },
  {
   "metadata": {
    "ExecuteTime": {
     "end_time": "2024-10-16T12:31:31.718907Z",
     "start_time": "2024-10-16T12:31:31.555749Z"
    }
   },
   "cell_type": "code",
   "source": [
    "ptint_file = path_manager.get_data_file(Category.PT, PTFile.PTNT)\n",
    "ptint_dataset = Dataset(config_file, ptint_file.sheet)\n",
    "ptint = get_df(ptint_file.path, ptint_file.sheet, config_file)\n",
    "ptint_24 = filter_dataframe_on_date(ptint, ['pt_nt_s1', 'pt_nt_s2'], START, END)\n",
    "ptint_24_latestdate = ptint_24[['pt_nt_s1', 'pt_nt_s2']].max(axis=1)\n",
    "ptint_24.insert(4, 'service', 'ptint')\n",
    "ptint_24.insert(5, 'date', ptint_24_latestdate)\n",
    "ptint_24 = ptint_24[['rid', 'fcid', 'service', 'date']]\n",
    "ptint_24 = ptint_24.drop_duplicates(subset='fcid')"
   ],
   "id": "8b8693c44393116a",
   "outputs": [],
   "execution_count": 21
  },
  {
   "metadata": {
    "ExecuteTime": {
     "end_time": "2024-10-16T09:24:27.588920Z",
     "start_time": "2024-10-16T09:24:27.585396Z"
    }
   },
   "cell_type": "code",
   "source": "# ptint_24",
   "id": "47805d8982623610",
   "outputs": [],
   "execution_count": 43
  },
  {
   "metadata": {
    "ExecuteTime": {
     "end_time": "2024-10-16T12:31:33.324350Z",
     "start_time": "2024-10-16T12:31:33.156622Z"
    }
   },
   "cell_type": "code",
   "source": [
    "td_file = path_manager.get_data_file(Category.PS, PSFile.TD)\n",
    "td_dataset = Dataset(config_file, td_file.sheet)\n",
    "td = get_df(td_file.path, td_file.sheet, config_file)\n",
    "td_24 = filter_dataframe_on_date(td, 'consult', START, END)\n",
    "td_24.insert(4, \"service\", \"td\")\n",
    "td_24.insert(5, \"date\", td_24['consult'])\n",
    "td_24 = td_24[['rid', 'fcid', 'service', 'date']]\n",
    "td_24 = td_24.drop_duplicates(subset='fcid')"
   ],
   "id": "96c8e1b2cf633804",
   "outputs": [],
   "execution_count": 22
  },
  {
   "metadata": {
    "ExecuteTime": {
     "end_time": "2024-10-16T12:36:38.969273Z",
     "start_time": "2024-10-16T12:36:38.966319Z"
    }
   },
   "cell_type": "code",
   "source": "# td_24",
   "id": "ad2983a1530ab76a",
   "outputs": [],
   "execution_count": 38
  },
  {
   "metadata": {
    "ExecuteTime": {
     "end_time": "2024-10-16T12:31:34.892539Z",
     "start_time": "2024-10-16T12:31:34.699215Z"
    }
   },
   "cell_type": "code",
   "source": [
    "trw_file = path_manager.get_data_file(Category.PS, PSFile.TRW)\n",
    "trw_dataset = Dataset(config_file, trw_file.sheet)\n",
    "trw = get_df(trw_file.path, trw_file.sheet, config_file)\n",
    "trw_24 = filter_dataframe_on_date(trw, trw_dataset.dvars, START, END)\n",
    "trw_24_latestdate = trw_24[trw_dataset.dvars].max(axis=1)\n",
    "trw_24.insert(4, \"service\", \"trw\")\n",
    "trw_24.insert(5, \"date\", trw_24_latestdate)\n",
    "trw_24 = trw_24[['rid', 'fcid', 'service', 'date']]\n",
    "trw_24 = trw_24.drop_duplicates(subset='fcid')"
   ],
   "id": "683c0cd99fe5b110",
   "outputs": [],
   "execution_count": 23
  },
  {
   "metadata": {
    "ExecuteTime": {
     "end_time": "2024-10-16T09:11:45.330466Z",
     "start_time": "2024-10-16T09:11:45.325955Z"
    }
   },
   "cell_type": "code",
   "source": "# trw_24",
   "id": "8491657644f53c7c",
   "outputs": [],
   "execution_count": 32
  },
  {
   "metadata": {
    "ExecuteTime": {
     "end_time": "2024-10-16T12:31:36.074749Z",
     "start_time": "2024-10-16T12:31:35.902333Z"
    }
   },
   "cell_type": "code",
   "source": [
    "pei_file = path_manager.get_data_file(Category.PS, PSFile.PEI)\n",
    "pei_dataset = Dataset(config_file, pei_file.sheet)\n",
    "pei = get_df(pei_file.path, pei_file.sheet, config_file)\n",
    "pei_24 = filter_dataframe_on_date(pei, ['pei_s1', 'pei_s2', 'pei_s3'], START, END)\n",
    "pei_24_latestdate = pei_24[pei_dataset.dvars].max(axis=1)\n",
    "pei_24.insert(4, \"service\", \"pei\")\n",
    "pei_24.insert(5, \"date\", pei_24_latestdate)\n",
    "pei_24 = pei_24[['rid', 'fcid', 'service', 'date']]\n",
    "pei_24 = pei_24.drop_duplicates(subset='fcid')"
   ],
   "id": "a86038af4fdfc20c",
   "outputs": [],
   "execution_count": 24
  },
  {
   "metadata": {
    "ExecuteTime": {
     "end_time": "2024-10-16T09:22:56.639645Z",
     "start_time": "2024-10-16T09:22:56.635433Z"
    }
   },
   "cell_type": "code",
   "source": "# pei_24",
   "id": "d55fff59195ab73e",
   "outputs": [],
   "execution_count": 38
  },
  {
   "metadata": {
    "ExecuteTime": {
     "end_time": "2024-10-16T12:31:37.245203Z",
     "start_time": "2024-10-16T12:31:37.227141Z"
    }
   },
   "cell_type": "code",
   "source": [
    "ref = pd.read_csv(r\"../data/processed/0924/16_ref_0924.csv\", dtype={\"FC_ID\": \"Int64\"})\n",
    "ref = ref[ref[\"OutgoingInternalIngoing\"] == \"outgoing\"]\n",
    "ref_24 = filter_dataframe_on_date(ref, \"referralDate\", START, END)\n",
    "ref_24.insert(4, \"service\", \"ref\")\n",
    "ref_24 = ref_24.rename(columns={\"referral_ID\": \"rid\"})\n",
    "ref_24 = ref_24.rename(columns={\"FC_ID\": \"fcid\"})\n",
    "ref_24 = ref_24.rename(columns={\"referralDate\": \"date\"})\n",
    "ref_24 = ref_24[['rid', 'fcid', 'service', 'date']]\n",
    "ref_24 = ref_24.drop_duplicates(subset='fcid')"
   ],
   "id": "d9b14901e68a71c6",
   "outputs": [],
   "execution_count": 25
  },
  {
   "metadata": {
    "ExecuteTime": {
     "end_time": "2024-10-16T11:33:25.093264Z",
     "start_time": "2024-10-16T11:33:25.090150Z"
    }
   },
   "cell_type": "code",
   "source": "# ref_24",
   "id": "5a40f5236b7108cf",
   "outputs": [],
   "execution_count": 8
  },
  {
   "metadata": {},
   "cell_type": "code",
   "outputs": [],
   "execution_count": null,
   "source": "",
   "id": "51b261d9cf115f57"
  },
  {
   "metadata": {
    "ExecuteTime": {
     "end_time": "2024-10-16T12:31:46.403457Z",
     "start_time": "2024-10-16T12:31:46.398294Z"
    }
   },
   "cell_type": "code",
   "source": [
    "dataframes324 = [intake_24, ptint_24, td_24, trw_24, pei_24, ref_24]\n",
    "# intake_24\n",
    "# ptint_24\n",
    "# td_24\n",
    "# trw_24\n",
    "# pei_24\n",
    "# ref_24"
   ],
   "id": "dcd3e146561464f1",
   "outputs": [],
   "execution_count": 26
  },
  {
   "metadata": {
    "ExecuteTime": {
     "end_time": "2024-10-16T12:31:50.463273Z",
     "start_time": "2024-10-16T12:31:50.457470Z"
    }
   },
   "cell_type": "code",
   "source": "new_beneficiaries = pd.concat(dataframes324)",
   "id": "4e778c67082504d1",
   "outputs": [],
   "execution_count": 27
  },
  {
   "metadata": {
    "ExecuteTime": {
     "end_time": "2024-10-16T12:31:53.573316Z",
     "start_time": "2024-10-16T12:31:53.562283Z"
    }
   },
   "cell_type": "code",
   "source": "new_beneficiaries",
   "id": "9c450c8b95346146",
   "outputs": [
    {
     "data": {
      "text/plain": [
       "       rid        fcid service                 date\n",
       "38   R0861  8110080030     int  2024-07-12 00:00:00\n",
       "39   R1452  8110080031     int  2024-09-09 00:00:00\n",
       "151  R0861  8110080030   ptint  2024-07-09 00:00:00\n",
       "216  R1452  8110080031   ptint  2024-09-10 00:00:00\n",
       "123  R0681        <NA>     trw  2024-09-30 00:00:00\n",
       "..     ...         ...     ...                  ...\n",
       "917  R0459  8110080003     ref           2024-09-09\n",
       "918  R0424  8110050074     ref           2024-09-09\n",
       "922  R0719  8110100006     ref           2024-09-10\n",
       "924  R0571  8110080004     ref           2024-09-11\n",
       "925  R1474  8110060012     ref           2024-09-11\n",
       "\n",
       "[65 rows x 4 columns]"
      ],
      "text/html": [
       "<div>\n",
       "<style scoped>\n",
       "    .dataframe tbody tr th:only-of-type {\n",
       "        vertical-align: middle;\n",
       "    }\n",
       "\n",
       "    .dataframe tbody tr th {\n",
       "        vertical-align: top;\n",
       "    }\n",
       "\n",
       "    .dataframe thead th {\n",
       "        text-align: right;\n",
       "    }\n",
       "</style>\n",
       "<table border=\"1\" class=\"dataframe\">\n",
       "  <thead>\n",
       "    <tr style=\"text-align: right;\">\n",
       "      <th></th>\n",
       "      <th>rid</th>\n",
       "      <th>fcid</th>\n",
       "      <th>service</th>\n",
       "      <th>date</th>\n",
       "    </tr>\n",
       "  </thead>\n",
       "  <tbody>\n",
       "    <tr>\n",
       "      <th>38</th>\n",
       "      <td>R0861</td>\n",
       "      <td>8110080030</td>\n",
       "      <td>int</td>\n",
       "      <td>2024-07-12 00:00:00</td>\n",
       "    </tr>\n",
       "    <tr>\n",
       "      <th>39</th>\n",
       "      <td>R1452</td>\n",
       "      <td>8110080031</td>\n",
       "      <td>int</td>\n",
       "      <td>2024-09-09 00:00:00</td>\n",
       "    </tr>\n",
       "    <tr>\n",
       "      <th>151</th>\n",
       "      <td>R0861</td>\n",
       "      <td>8110080030</td>\n",
       "      <td>ptint</td>\n",
       "      <td>2024-07-09 00:00:00</td>\n",
       "    </tr>\n",
       "    <tr>\n",
       "      <th>216</th>\n",
       "      <td>R1452</td>\n",
       "      <td>8110080031</td>\n",
       "      <td>ptint</td>\n",
       "      <td>2024-09-10 00:00:00</td>\n",
       "    </tr>\n",
       "    <tr>\n",
       "      <th>123</th>\n",
       "      <td>R0681</td>\n",
       "      <td>&lt;NA&gt;</td>\n",
       "      <td>trw</td>\n",
       "      <td>2024-09-30 00:00:00</td>\n",
       "    </tr>\n",
       "    <tr>\n",
       "      <th>...</th>\n",
       "      <td>...</td>\n",
       "      <td>...</td>\n",
       "      <td>...</td>\n",
       "      <td>...</td>\n",
       "    </tr>\n",
       "    <tr>\n",
       "      <th>917</th>\n",
       "      <td>R0459</td>\n",
       "      <td>8110080003</td>\n",
       "      <td>ref</td>\n",
       "      <td>2024-09-09</td>\n",
       "    </tr>\n",
       "    <tr>\n",
       "      <th>918</th>\n",
       "      <td>R0424</td>\n",
       "      <td>8110050074</td>\n",
       "      <td>ref</td>\n",
       "      <td>2024-09-09</td>\n",
       "    </tr>\n",
       "    <tr>\n",
       "      <th>922</th>\n",
       "      <td>R0719</td>\n",
       "      <td>8110100006</td>\n",
       "      <td>ref</td>\n",
       "      <td>2024-09-10</td>\n",
       "    </tr>\n",
       "    <tr>\n",
       "      <th>924</th>\n",
       "      <td>R0571</td>\n",
       "      <td>8110080004</td>\n",
       "      <td>ref</td>\n",
       "      <td>2024-09-11</td>\n",
       "    </tr>\n",
       "    <tr>\n",
       "      <th>925</th>\n",
       "      <td>R1474</td>\n",
       "      <td>8110060012</td>\n",
       "      <td>ref</td>\n",
       "      <td>2024-09-11</td>\n",
       "    </tr>\n",
       "  </tbody>\n",
       "</table>\n",
       "<p>65 rows × 4 columns</p>\n",
       "</div>"
      ]
     },
     "execution_count": 28,
     "metadata": {},
     "output_type": "execute_result"
    }
   ],
   "execution_count": 28
  },
  {
   "metadata": {
    "ExecuteTime": {
     "end_time": "2024-10-16T12:32:01.106817Z",
     "start_time": "2024-10-16T12:32:01.099770Z"
    }
   },
   "cell_type": "code",
   "source": "new_beneficiaries = new_beneficiaries.dropna(subset='fcid')",
   "id": "79befa4c4f08df05",
   "outputs": [],
   "execution_count": 29
  },
  {
   "metadata": {
    "ExecuteTime": {
     "end_time": "2024-10-16T12:32:13.251321Z",
     "start_time": "2024-10-16T12:32:13.237590Z"
    }
   },
   "cell_type": "code",
   "source": [
    "new_beneficiaries = new_beneficiaries[['rid', 'fcid', 'service', 'date']]\n",
    "new_beneficiaries"
   ],
   "id": "d493b79a9f7810f5",
   "outputs": [
    {
     "data": {
      "text/plain": [
       "       rid        fcid service                 date\n",
       "38   R0861  8110080030     int  2024-07-12 00:00:00\n",
       "39   R1452  8110080031     int  2024-09-09 00:00:00\n",
       "151  R0861  8110080030   ptint  2024-07-09 00:00:00\n",
       "216  R1452  8110080031   ptint  2024-09-10 00:00:00\n",
       "31   R0343  8110020116     pei  2024-09-26 00:00:00\n",
       "..     ...         ...     ...                  ...\n",
       "917  R0459  8110080003     ref           2024-09-09\n",
       "918  R0424  8110050074     ref           2024-09-09\n",
       "922  R0719  8110100006     ref           2024-09-10\n",
       "924  R0571  8110080004     ref           2024-09-11\n",
       "925  R1474  8110060012     ref           2024-09-11\n",
       "\n",
       "[62 rows x 4 columns]"
      ],
      "text/html": [
       "<div>\n",
       "<style scoped>\n",
       "    .dataframe tbody tr th:only-of-type {\n",
       "        vertical-align: middle;\n",
       "    }\n",
       "\n",
       "    .dataframe tbody tr th {\n",
       "        vertical-align: top;\n",
       "    }\n",
       "\n",
       "    .dataframe thead th {\n",
       "        text-align: right;\n",
       "    }\n",
       "</style>\n",
       "<table border=\"1\" class=\"dataframe\">\n",
       "  <thead>\n",
       "    <tr style=\"text-align: right;\">\n",
       "      <th></th>\n",
       "      <th>rid</th>\n",
       "      <th>fcid</th>\n",
       "      <th>service</th>\n",
       "      <th>date</th>\n",
       "    </tr>\n",
       "  </thead>\n",
       "  <tbody>\n",
       "    <tr>\n",
       "      <th>38</th>\n",
       "      <td>R0861</td>\n",
       "      <td>8110080030</td>\n",
       "      <td>int</td>\n",
       "      <td>2024-07-12 00:00:00</td>\n",
       "    </tr>\n",
       "    <tr>\n",
       "      <th>39</th>\n",
       "      <td>R1452</td>\n",
       "      <td>8110080031</td>\n",
       "      <td>int</td>\n",
       "      <td>2024-09-09 00:00:00</td>\n",
       "    </tr>\n",
       "    <tr>\n",
       "      <th>151</th>\n",
       "      <td>R0861</td>\n",
       "      <td>8110080030</td>\n",
       "      <td>ptint</td>\n",
       "      <td>2024-07-09 00:00:00</td>\n",
       "    </tr>\n",
       "    <tr>\n",
       "      <th>216</th>\n",
       "      <td>R1452</td>\n",
       "      <td>8110080031</td>\n",
       "      <td>ptint</td>\n",
       "      <td>2024-09-10 00:00:00</td>\n",
       "    </tr>\n",
       "    <tr>\n",
       "      <th>31</th>\n",
       "      <td>R0343</td>\n",
       "      <td>8110020116</td>\n",
       "      <td>pei</td>\n",
       "      <td>2024-09-26 00:00:00</td>\n",
       "    </tr>\n",
       "    <tr>\n",
       "      <th>...</th>\n",
       "      <td>...</td>\n",
       "      <td>...</td>\n",
       "      <td>...</td>\n",
       "      <td>...</td>\n",
       "    </tr>\n",
       "    <tr>\n",
       "      <th>917</th>\n",
       "      <td>R0459</td>\n",
       "      <td>8110080003</td>\n",
       "      <td>ref</td>\n",
       "      <td>2024-09-09</td>\n",
       "    </tr>\n",
       "    <tr>\n",
       "      <th>918</th>\n",
       "      <td>R0424</td>\n",
       "      <td>8110050074</td>\n",
       "      <td>ref</td>\n",
       "      <td>2024-09-09</td>\n",
       "    </tr>\n",
       "    <tr>\n",
       "      <th>922</th>\n",
       "      <td>R0719</td>\n",
       "      <td>8110100006</td>\n",
       "      <td>ref</td>\n",
       "      <td>2024-09-10</td>\n",
       "    </tr>\n",
       "    <tr>\n",
       "      <th>924</th>\n",
       "      <td>R0571</td>\n",
       "      <td>8110080004</td>\n",
       "      <td>ref</td>\n",
       "      <td>2024-09-11</td>\n",
       "    </tr>\n",
       "    <tr>\n",
       "      <th>925</th>\n",
       "      <td>R1474</td>\n",
       "      <td>8110060012</td>\n",
       "      <td>ref</td>\n",
       "      <td>2024-09-11</td>\n",
       "    </tr>\n",
       "  </tbody>\n",
       "</table>\n",
       "<p>62 rows × 4 columns</p>\n",
       "</div>"
      ]
     },
     "execution_count": 30,
     "metadata": {},
     "output_type": "execute_result"
    }
   ],
   "execution_count": 30
  },
  {
   "metadata": {
    "ExecuteTime": {
     "end_time": "2024-10-16T12:32:24.485884Z",
     "start_time": "2024-10-16T12:32:24.473633Z"
    }
   },
   "cell_type": "code",
   "source": [
    "hsh_new_beneficiaries_reb_324 = pd.merge(new_beneficiaries, rebuilt_intake[int_criteria1], on='fcid', how='left')\n",
    "hsh_new_beneficiaries_reb_324 = pd.merge(hsh_new_beneficiaries_reb_324, rebuilt_scr[['rid', 'sex', 'age']], on='rid', how='left')"
   ],
   "id": "283e49365096ac4a",
   "outputs": [],
   "execution_count": 31
  },
  {
   "metadata": {
    "ExecuteTime": {
     "end_time": "2024-10-16T12:32:55.056685Z",
     "start_time": "2024-10-16T12:32:55.021241Z"
    }
   },
   "cell_type": "code",
   "source": "hsh_new_beneficiaries_reb_324.to_clipboard()",
   "id": "f30bb6e1777489c2",
   "outputs": [],
   "execution_count": 34
  },
  {
   "metadata": {
    "ExecuteTime": {
     "end_time": "2024-10-16T12:32:35.742622Z",
     "start_time": "2024-10-16T12:32:35.730716Z"
    }
   },
   "cell_type": "code",
   "source": [
    "duplicates = hsh_new_beneficiaries_reb_324.duplicated(subset=['fcid', 'service'],keep=False)\n",
    "duplicated_rows = hsh_new_beneficiaries_reb_324[duplicates]\n",
    "duplicated_rows"
   ],
   "id": "277b358c79ff98ff",
   "outputs": [
    {
     "data": {
      "text/plain": [
       "Empty DataFrame\n",
       "Columns: [rid, fcid, service, date, family_of_missing, survivor_of_detention, primary_torture, secondary_torture, sexual_violation_a, sexual_violation_p, hrd, journalist, wov, stgbv, lgbti, other, sex, age]\n",
       "Index: []"
      ],
      "text/html": [
       "<div>\n",
       "<style scoped>\n",
       "    .dataframe tbody tr th:only-of-type {\n",
       "        vertical-align: middle;\n",
       "    }\n",
       "\n",
       "    .dataframe tbody tr th {\n",
       "        vertical-align: top;\n",
       "    }\n",
       "\n",
       "    .dataframe thead th {\n",
       "        text-align: right;\n",
       "    }\n",
       "</style>\n",
       "<table border=\"1\" class=\"dataframe\">\n",
       "  <thead>\n",
       "    <tr style=\"text-align: right;\">\n",
       "      <th></th>\n",
       "      <th>rid</th>\n",
       "      <th>fcid</th>\n",
       "      <th>service</th>\n",
       "      <th>date</th>\n",
       "      <th>family_of_missing</th>\n",
       "      <th>survivor_of_detention</th>\n",
       "      <th>primary_torture</th>\n",
       "      <th>secondary_torture</th>\n",
       "      <th>sexual_violation_a</th>\n",
       "      <th>sexual_violation_p</th>\n",
       "      <th>hrd</th>\n",
       "      <th>journalist</th>\n",
       "      <th>wov</th>\n",
       "      <th>stgbv</th>\n",
       "      <th>lgbti</th>\n",
       "      <th>other</th>\n",
       "      <th>sex</th>\n",
       "      <th>age</th>\n",
       "    </tr>\n",
       "  </thead>\n",
       "  <tbody>\n",
       "  </tbody>\n",
       "</table>\n",
       "</div>"
      ]
     },
     "execution_count": 33,
     "metadata": {},
     "output_type": "execute_result"
    }
   ],
   "execution_count": 33
  },
  {
   "metadata": {},
   "cell_type": "code",
   "outputs": [],
   "execution_count": null,
   "source": "",
   "id": "6b5152a682a52346"
  }
 ],
 "metadata": {
  "kernelspec": {
   "display_name": "Python 3",
   "language": "python",
   "name": "python3"
  },
  "language_info": {
   "codemirror_mode": {
    "name": "ipython",
    "version": 2
   },
   "file_extension": ".py",
   "mimetype": "text/x-python",
   "name": "python",
   "nbconvert_exporter": "python",
   "pygments_lexer": "ipython2",
   "version": "2.7.6"
  }
 },
 "nbformat": 4,
 "nbformat_minor": 5
}
