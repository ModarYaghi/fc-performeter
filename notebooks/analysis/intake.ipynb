{
 "cells": [
  {
   "cell_type": "code",
   "id": "initial_id",
   "metadata": {
    "collapsed": true
   },
   "source": [
    "import pandas as pd\n",
    "from src.all_in_one import *\n",
    "from src.analysis_functions import *"
   ],
   "outputs": [],
   "execution_count": null
  },
  {
   "cell_type": "code",
   "source": [
    "threshold = '2023-12-31'\n",
    "_threshold = '2024-03-01'"
   ],
   "metadata": {
    "collapsed": false
   },
   "id": "1c1dc0a09b74e268",
   "outputs": [],
   "execution_count": null
  },
  {
   "cell_type": "code",
   "source": [
    "# Screening\n",
    "scr_dataset = Dataset(config_file, scr_sheet)\n",
    "scr = get_df(scr_path, scr_sheet)\n",
    "unique_scr = scr.drop_duplicates(subset='rid')"
   ],
   "metadata": {
    "collapsed": false
   },
   "id": "51e8445f98a3f42d",
   "outputs": [],
   "execution_count": null
  },
  {
   "cell_type": "code",
   "source": [
    "intake = get_df(int_path, int_sheet)\n",
    "intake_dataset = Dataset(config_file, int_sheet)\n",
    "# _int = filter_df_by_date(intake, intake_dataset.dvars, threshold, comparison_type='a')\n",
    "# __int = filter_df_by_date(_int, intake_dataset.dvars, _threshold, comparison_type='b')"
   ],
   "metadata": {
    "collapsed": false
   },
   "id": "9e9c8b2b5d82f1a7",
   "outputs": [],
   "execution_count": null
  },
  {
   "cell_type": "code",
   "source": [
    "intake"
   ],
   "metadata": {
    "collapsed": false
   },
   "id": "7ff7c7cd42f4175d",
   "outputs": [],
   "execution_count": null
  },
  {
   "cell_type": "code",
   "source": "# __int",
   "metadata": {
    "collapsed": false
   },
   "id": "87dca2b1926c8493",
   "outputs": [],
   "execution_count": null
  },
  {
   "cell_type": "code",
   "source": "# intake = pd.merge(__int, unique_scr[['rid', 'sex', 'age']], on='rid', how='left')",
   "metadata": {
    "collapsed": false
   },
   "id": "1e73e0a58363a508",
   "outputs": [],
   "execution_count": null
  },
  {
   "cell_type": "code",
   "source": [
    "intake"
   ],
   "metadata": {
    "collapsed": false
   },
   "id": "e203d96537165f01",
   "outputs": [],
   "execution_count": null
  },
  {
   "cell_type": "code",
   "source": [
    "missing = (intake['family_of_missing'] == 'Yes')"
   ],
   "metadata": {
    "collapsed": false
   },
   "id": "1c3a2d72fb978d66",
   "outputs": [],
   "execution_count": null
  },
  {
   "cell_type": "code",
   "source": [
    "missing.mean()"
   ],
   "metadata": {
    "collapsed": false
   },
   "id": "ba46630850a25d8",
   "outputs": [],
   "execution_count": null
  },
  {
   "cell_type": "code",
   "source": [
    "detainee = (intake['survivor_of_detention'] == 'Yes')"
   ],
   "metadata": {
    "collapsed": false
   },
   "id": "c503fe800a6ee3a2",
   "outputs": [],
   "execution_count": null
  },
  {
   "cell_type": "code",
   "source": [
    "detainee.mean()"
   ],
   "metadata": {
    "collapsed": false
   },
   "id": "4324e1dbf55aa5dc",
   "outputs": [],
   "execution_count": null
  },
  {
   "cell_type": "code",
   "source": [
    "missing_and_detained = missing & detainee"
   ],
   "metadata": {
    "collapsed": false
   },
   "id": "7369776f02ce1fd0",
   "outputs": [],
   "execution_count": null
  },
  {
   "cell_type": "code",
   "source": [
    "missing_and_detained.mean()"
   ],
   "metadata": {
    "collapsed": false
   },
   "id": "d7f50f6f352afd59",
   "outputs": [],
   "execution_count": null
  },
  {
   "cell_type": "code",
   "source": [
    "p_m_or_d = missing.mean() + detainee.mean() - missing_and_detained.mean()\n",
    "p_m_or_d"
   ],
   "metadata": {
    "collapsed": false
   },
   "id": "3082572d6e216d79",
   "outputs": [],
   "execution_count": null
  },
  {
   "cell_type": "code",
   "source": [
    "36/291"
   ],
   "metadata": {
    "collapsed": false
   },
   "id": "bf6b26d10168116",
   "outputs": [],
   "execution_count": null
  },
  {
   "cell_type": "code",
   "source": [
    "fcid = intake['fcid'].unique()\n",
    "fcid = fcid.astype(str)"
   ],
   "metadata": {
    "collapsed": false
   },
   "id": "6d24f9031e715703",
   "outputs": [],
   "execution_count": null
  },
  {
   "cell_type": "code",
   "source": [
    "unique_fcid = [id[3:6] for id in fcid]\n",
    "set(unique_fcid)"
   ],
   "metadata": {
    "collapsed": false
   },
   "id": "a42646683b48a877",
   "outputs": [],
   "execution_count": null
  },
  {
   "cell_type": "code",
   "source": [
    "# id = 'R0571'"
   ],
   "metadata": {
    "collapsed": false
   },
   "id": "2fba8c64c84ad756",
   "outputs": [],
   "execution_count": null
  },
  {
   "cell_type": "code",
   "source": [
    "# intake[intake['rid'] == id]"
   ],
   "metadata": {
    "collapsed": false
   },
   "id": "373ebc5b655a91cf",
   "outputs": [],
   "execution_count": null
  },
  {
   "cell_type": "code",
   "source": [
    "# int_q4 = filter_df_by_date(intake, intake_dataset.dvars, threshold)\n",
    "# int_q4"
   ],
   "metadata": {
    "collapsed": false
   },
   "id": "42f995c03dd1af07",
   "outputs": [],
   "execution_count": null
  },
  {
   "cell_type": "code",
   "source": "# int_q4.to_excel('intake_quarter4_2023.xlsx')",
   "metadata": {
    "collapsed": false
   },
   "id": "a67b459f4dc39318",
   "outputs": [],
   "execution_count": null
  },
  {
   "cell_type": "code",
   "source": "# (int_q4[intake_dataset.dvars] > threshold).sum().sum()",
   "metadata": {
    "collapsed": false
   },
   "id": "ed03ecab056996ee",
   "outputs": [],
   "execution_count": null
  },
  {
   "cell_type": "code",
   "source": [
    "# new_intake = filter_df_by_date(int_q4, ['nt_s1'], threshold)\n",
    "# new_intake"
   ],
   "metadata": {
    "collapsed": false
   },
   "id": "729e6334ac9a08f6",
   "outputs": [],
   "execution_count": null
  },
  {
   "cell_type": "code",
   "source": "# new_intake['sex'].value_counts()",
   "metadata": {
    "collapsed": false
   },
   "id": "bf8523517d73b1d5",
   "outputs": [],
   "execution_count": null
  },
  {
   "cell_type": "code",
   "source": [
    "# reintake = filter_df_by_date(int_q4, ['nt_re'], threshold)\n",
    "# reintake"
   ],
   "metadata": {
    "collapsed": false
   },
   "id": "2b731a566e9cd92e",
   "outputs": [],
   "execution_count": null
  },
  {
   "cell_type": "code",
   "source": [],
   "metadata": {
    "collapsed": false
   },
   "id": "2713e0c93d43f4e6",
   "outputs": [],
   "execution_count": null
  },
  {
   "cell_type": "code",
   "source": [
    "# categorize_age(new_intake)"
   ],
   "metadata": {
    "collapsed": false
   },
   "id": "e6ad1ef4ff43357b",
   "outputs": [],
   "execution_count": null
  },
  {
   "cell_type": "code",
   "source": [
    "# categorize_and_count_ages(new_intake['age'])"
   ],
   "metadata": {
    "collapsed": false
   },
   "id": "219f78b608fbdc3d",
   "outputs": [],
   "execution_count": null
  },
  {
   "cell_type": "code",
   "source": [
    "# normalized_value_counts(int_q4['family_of_missing'])"
   ],
   "metadata": {
    "collapsed": false
   },
   "id": "a49e534ceb75b265",
   "outputs": [],
   "execution_count": null
  },
  {
   "cell_type": "code",
   "source": [
    "# normalized_value_counts(int_q4['survivor_of_detention'])"
   ],
   "metadata": {
    "collapsed": false
   },
   "id": "dec456e4e102253c",
   "outputs": [],
   "execution_count": null
  },
  {
   "cell_type": "code",
   "source": [
    "# normalized_value_counts(int_q4['primary_torture'])"
   ],
   "metadata": {
    "collapsed": false
   },
   "id": "ca405df982af133e",
   "outputs": [],
   "execution_count": null
  },
  {
   "cell_type": "code",
   "source": [
    "# normalized_value_counts(int_q4['secondary_torture'])"
   ],
   "metadata": {
    "collapsed": false
   },
   "id": "9666953061828cf5",
   "outputs": [],
   "execution_count": null
  },
  {
   "cell_type": "code",
   "source": [
    "# normalized_value_counts(int_q4['sexual_violation_a'])"
   ],
   "metadata": {
    "collapsed": false
   },
   "id": "744ec917b59d1cf1",
   "outputs": [],
   "execution_count": null
  },
  {
   "cell_type": "code",
   "source": [
    "# normalized_value_counts(int_q4['sexual_violation_p'])"
   ],
   "metadata": {
    "collapsed": false
   },
   "id": "b1289ef550fd1825",
   "outputs": [],
   "execution_count": null
  },
  {
   "cell_type": "code",
   "source": [
    "# normalized_value_counts(int_q4['hrd'])"
   ],
   "metadata": {
    "collapsed": false
   },
   "id": "edd111581b32d318",
   "outputs": [],
   "execution_count": null
  },
  {
   "cell_type": "code",
   "source": [
    "# normalized_value_counts(int_q4['journalist'])"
   ],
   "metadata": {
    "collapsed": false
   },
   "id": "d179175bd7c87bc7",
   "outputs": [],
   "execution_count": null
  },
  {
   "cell_type": "code",
   "source": [
    "# normalized_value_counts(int_q4['wov'])"
   ],
   "metadata": {
    "collapsed": false
   },
   "id": "a11c51193e4055ab",
   "outputs": [],
   "execution_count": null
  },
  {
   "cell_type": "code",
   "source": [
    "# normalized_value_counts(int_q4['stgbv'])"
   ],
   "metadata": {
    "collapsed": false
   },
   "id": "77f079906738caf",
   "outputs": [],
   "execution_count": null
  },
  {
   "cell_type": "code",
   "source": [
    "# normalized_value_counts(int_q4['lgbti'])"
   ],
   "metadata": {
    "collapsed": false
   },
   "id": "4632217afe6a1ea2",
   "outputs": [],
   "execution_count": null
  },
  {
   "cell_type": "code",
   "source": [
    "# normalized_value_counts(int_q4['other'])"
   ],
   "metadata": {
    "collapsed": false
   },
   "id": "d765b3ad8c0ae82c",
   "outputs": [],
   "execution_count": null
  },
  {
   "cell_type": "code",
   "source": [
    "# new_intake['intsp'].value_counts()"
   ],
   "metadata": {
    "collapsed": false
   },
   "id": "f1b91a2c9fcb313c",
   "outputs": [],
   "execution_count": null
  },
  {
   "cell_type": "code",
   "source": "# reintake['intsp'].value_counts()",
   "metadata": {
    "collapsed": false
   },
   "id": "74a2a84a46bc5d1a",
   "outputs": [],
   "execution_count": null
  },
  {
   "cell_type": "code",
   "source": "# reintake['sex'].value_counts()",
   "metadata": {
    "collapsed": false
   },
   "id": "ace0a31d410c73e0",
   "outputs": [],
   "execution_count": null
  }
 ],
 "metadata": {
  "kernelspec": {
   "display_name": "Python 3",
   "language": "python",
   "name": "python3"
  },
  "language_info": {
   "codemirror_mode": {
    "name": "ipython",
    "version": 2
   },
   "file_extension": ".py",
   "mimetype": "text/x-python",
   "name": "python",
   "nbconvert_exporter": "python",
   "pygments_lexer": "ipython2",
   "version": "2.7.6"
  }
 },
 "nbformat": 4,
 "nbformat_minor": 5
}
