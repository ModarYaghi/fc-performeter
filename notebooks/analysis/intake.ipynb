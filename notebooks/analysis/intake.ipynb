{
 "cells": [
  {
   "cell_type": "code",
   "execution_count": 2,
   "id": "initial_id",
   "metadata": {
    "collapsed": true,
    "ExecuteTime": {
     "end_time": "2024-03-05T11:26:47.567320Z",
     "start_time": "2024-03-05T11:26:46.253992100Z"
    }
   },
   "outputs": [],
   "source": [
    "import pandas as pd\n",
    "from src.all_in_one import *\n",
    "from src.analysis_functions import *"
   ]
  },
  {
   "cell_type": "code",
   "outputs": [],
   "source": [
    "# Intake\n",
    "path = os.path.join(processed_data, '01_psint_0124.csv')\n",
    "intake_sheet = 'Int'\n",
    "intake_dataset = Dataset(config_file, intake_sheet)\n",
    "intake = pd.read_csv(path)\n",
    "intake = dtype_trans(intake, intake_dataset)\n",
    "# threshold = '2023-09-30'"
   ],
   "metadata": {
    "collapsed": false,
    "ExecuteTime": {
     "end_time": "2024-03-05T11:26:48.311131Z",
     "start_time": "2024-03-05T11:26:48.213388300Z"
    }
   },
   "id": "7e597d2bbea95cc7",
   "execution_count": 3
  },
  {
   "cell_type": "code",
   "outputs": [
    {
     "data": {
      "text/plain": "    intsp  ntspi    rid        fcid firstname    lastname      nt_s1  \\\n0      IJ      1  R0450  8110080001       آية        فاضل 2022-08-25   \n1      IJ      2  R0481  8110080002     حميدة       مصطفى 2022-08-26   \n2      IJ      3  R0459  8110080003     فاطمة        ديوك 2022-09-01   \n3      IJ      4  R0571  8110080004     سميحة        نجمة 2022-12-15   \n4      IJ      5  R0487  8110080005      رياض      الأسعد 2022-12-15   \n..    ...    ...    ...         ...       ...         ...        ...   \n286    YQ    123  R0078  8110040006     جميلة       حويلي 2021-08-02   \n287    YQ    124  R0071  8110040005      صباح       حمادة 2021-06-25   \n288    YQ    125  R0070  8110040004     هيفاء  العبد الله 2021-06-21   \n289    YQ    126  R0694  8110020126      باسل     حج حسين 2023-09-19   \n290    YQ    127  R0874  8110020127     هويدا   الرجب أغا 2023-10-06   \n\n         nt_s2      nt_s3      nt_re  ... secondary_torture  \\\n0   2022-08-31 2022-09-15        NaT  ...               Yes   \n1   2022-08-29        NaT 2023-11-01  ...               Yes   \n2   2022-09-06 2022-09-09 2023-10-17  ...               Yes   \n3   2022-12-22 2022-12-27        NaT  ...                No   \n4   2022-12-19        NaT        NaT  ...                No   \n..         ...        ...        ...  ...               ...   \n286 2021-08-09        NaT        NaT  ...               Yes   \n287 2021-07-02        NaT        NaT  ...               Yes   \n288 2021-07-05        NaT        NaT  ...               Yes   \n289 2023-10-03 2023-10-13        NaT  ...               Yes   \n290 2023-10-13        NaT        NaT  ...               Yes   \n\n    sexual_violation_a sexual_violation_p  hrd journalist  wov stgbv lgbti  \\\n0                   No                 No   No         No  Yes   Yes    No   \n1                   No                 No   No         No  Yes    No    No   \n2                   No                 No   No         No  Yes    No    No   \n3                   No                 No   No         No  Yes    No    No   \n4                   No                 No   No         No  Yes    No    No   \n..                 ...                ...  ...        ...  ...   ...   ...   \n286                NaN                NaN  NaN        NaN  Yes    No    No   \n287                NaN                NaN  NaN        NaN  Yes    No    No   \n288                NaN                NaN  NaN        NaN  Yes   Yes    No   \n289                 No                 No   No         No  Yes    No    No   \n290                 No                Yes   No         No  Yes   Yes    No   \n\n    other                       note  \n0      No                 الملف مغلق  \n1     Yes            اتجار بالاعضاء   \n2      No                        NaN  \n3      No                        NaN  \n4      No                        NaN  \n..    ...                        ...  \n286    No  تقييم قامت باجرائه سلطانة  \n287    No  تقييم قامت باجرائه سلطانة  \n288    No  تقييم قامت باجرائه سلطانة  \n289    No                        NaN  \n290    No                        NaN  \n\n[291 rows x 23 columns]",
      "text/html": "<div>\n<style scoped>\n    .dataframe tbody tr th:only-of-type {\n        vertical-align: middle;\n    }\n\n    .dataframe tbody tr th {\n        vertical-align: top;\n    }\n\n    .dataframe thead th {\n        text-align: right;\n    }\n</style>\n<table border=\"1\" class=\"dataframe\">\n  <thead>\n    <tr style=\"text-align: right;\">\n      <th></th>\n      <th>intsp</th>\n      <th>ntspi</th>\n      <th>rid</th>\n      <th>fcid</th>\n      <th>firstname</th>\n      <th>lastname</th>\n      <th>nt_s1</th>\n      <th>nt_s2</th>\n      <th>nt_s3</th>\n      <th>nt_re</th>\n      <th>...</th>\n      <th>secondary_torture</th>\n      <th>sexual_violation_a</th>\n      <th>sexual_violation_p</th>\n      <th>hrd</th>\n      <th>journalist</th>\n      <th>wov</th>\n      <th>stgbv</th>\n      <th>lgbti</th>\n      <th>other</th>\n      <th>note</th>\n    </tr>\n  </thead>\n  <tbody>\n    <tr>\n      <th>0</th>\n      <td>IJ</td>\n      <td>1</td>\n      <td>R0450</td>\n      <td>8110080001</td>\n      <td>آية</td>\n      <td>فاضل</td>\n      <td>2022-08-25</td>\n      <td>2022-08-31</td>\n      <td>2022-09-15</td>\n      <td>NaT</td>\n      <td>...</td>\n      <td>Yes</td>\n      <td>No</td>\n      <td>No</td>\n      <td>No</td>\n      <td>No</td>\n      <td>Yes</td>\n      <td>Yes</td>\n      <td>No</td>\n      <td>No</td>\n      <td>الملف مغلق</td>\n    </tr>\n    <tr>\n      <th>1</th>\n      <td>IJ</td>\n      <td>2</td>\n      <td>R0481</td>\n      <td>8110080002</td>\n      <td>حميدة</td>\n      <td>مصطفى</td>\n      <td>2022-08-26</td>\n      <td>2022-08-29</td>\n      <td>NaT</td>\n      <td>2023-11-01</td>\n      <td>...</td>\n      <td>Yes</td>\n      <td>No</td>\n      <td>No</td>\n      <td>No</td>\n      <td>No</td>\n      <td>Yes</td>\n      <td>No</td>\n      <td>No</td>\n      <td>Yes</td>\n      <td>اتجار بالاعضاء</td>\n    </tr>\n    <tr>\n      <th>2</th>\n      <td>IJ</td>\n      <td>3</td>\n      <td>R0459</td>\n      <td>8110080003</td>\n      <td>فاطمة</td>\n      <td>ديوك</td>\n      <td>2022-09-01</td>\n      <td>2022-09-06</td>\n      <td>2022-09-09</td>\n      <td>2023-10-17</td>\n      <td>...</td>\n      <td>Yes</td>\n      <td>No</td>\n      <td>No</td>\n      <td>No</td>\n      <td>No</td>\n      <td>Yes</td>\n      <td>No</td>\n      <td>No</td>\n      <td>No</td>\n      <td>NaN</td>\n    </tr>\n    <tr>\n      <th>3</th>\n      <td>IJ</td>\n      <td>4</td>\n      <td>R0571</td>\n      <td>8110080004</td>\n      <td>سميحة</td>\n      <td>نجمة</td>\n      <td>2022-12-15</td>\n      <td>2022-12-22</td>\n      <td>2022-12-27</td>\n      <td>NaT</td>\n      <td>...</td>\n      <td>No</td>\n      <td>No</td>\n      <td>No</td>\n      <td>No</td>\n      <td>No</td>\n      <td>Yes</td>\n      <td>No</td>\n      <td>No</td>\n      <td>No</td>\n      <td>NaN</td>\n    </tr>\n    <tr>\n      <th>4</th>\n      <td>IJ</td>\n      <td>5</td>\n      <td>R0487</td>\n      <td>8110080005</td>\n      <td>رياض</td>\n      <td>الأسعد</td>\n      <td>2022-12-15</td>\n      <td>2022-12-19</td>\n      <td>NaT</td>\n      <td>NaT</td>\n      <td>...</td>\n      <td>No</td>\n      <td>No</td>\n      <td>No</td>\n      <td>No</td>\n      <td>No</td>\n      <td>Yes</td>\n      <td>No</td>\n      <td>No</td>\n      <td>No</td>\n      <td>NaN</td>\n    </tr>\n    <tr>\n      <th>...</th>\n      <td>...</td>\n      <td>...</td>\n      <td>...</td>\n      <td>...</td>\n      <td>...</td>\n      <td>...</td>\n      <td>...</td>\n      <td>...</td>\n      <td>...</td>\n      <td>...</td>\n      <td>...</td>\n      <td>...</td>\n      <td>...</td>\n      <td>...</td>\n      <td>...</td>\n      <td>...</td>\n      <td>...</td>\n      <td>...</td>\n      <td>...</td>\n      <td>...</td>\n      <td>...</td>\n    </tr>\n    <tr>\n      <th>286</th>\n      <td>YQ</td>\n      <td>123</td>\n      <td>R0078</td>\n      <td>8110040006</td>\n      <td>جميلة</td>\n      <td>حويلي</td>\n      <td>2021-08-02</td>\n      <td>2021-08-09</td>\n      <td>NaT</td>\n      <td>NaT</td>\n      <td>...</td>\n      <td>Yes</td>\n      <td>NaN</td>\n      <td>NaN</td>\n      <td>NaN</td>\n      <td>NaN</td>\n      <td>Yes</td>\n      <td>No</td>\n      <td>No</td>\n      <td>No</td>\n      <td>تقييم قامت باجرائه سلطانة</td>\n    </tr>\n    <tr>\n      <th>287</th>\n      <td>YQ</td>\n      <td>124</td>\n      <td>R0071</td>\n      <td>8110040005</td>\n      <td>صباح</td>\n      <td>حمادة</td>\n      <td>2021-06-25</td>\n      <td>2021-07-02</td>\n      <td>NaT</td>\n      <td>NaT</td>\n      <td>...</td>\n      <td>Yes</td>\n      <td>NaN</td>\n      <td>NaN</td>\n      <td>NaN</td>\n      <td>NaN</td>\n      <td>Yes</td>\n      <td>No</td>\n      <td>No</td>\n      <td>No</td>\n      <td>تقييم قامت باجرائه سلطانة</td>\n    </tr>\n    <tr>\n      <th>288</th>\n      <td>YQ</td>\n      <td>125</td>\n      <td>R0070</td>\n      <td>8110040004</td>\n      <td>هيفاء</td>\n      <td>العبد الله</td>\n      <td>2021-06-21</td>\n      <td>2021-07-05</td>\n      <td>NaT</td>\n      <td>NaT</td>\n      <td>...</td>\n      <td>Yes</td>\n      <td>NaN</td>\n      <td>NaN</td>\n      <td>NaN</td>\n      <td>NaN</td>\n      <td>Yes</td>\n      <td>Yes</td>\n      <td>No</td>\n      <td>No</td>\n      <td>تقييم قامت باجرائه سلطانة</td>\n    </tr>\n    <tr>\n      <th>289</th>\n      <td>YQ</td>\n      <td>126</td>\n      <td>R0694</td>\n      <td>8110020126</td>\n      <td>باسل</td>\n      <td>حج حسين</td>\n      <td>2023-09-19</td>\n      <td>2023-10-03</td>\n      <td>2023-10-13</td>\n      <td>NaT</td>\n      <td>...</td>\n      <td>Yes</td>\n      <td>No</td>\n      <td>No</td>\n      <td>No</td>\n      <td>No</td>\n      <td>Yes</td>\n      <td>No</td>\n      <td>No</td>\n      <td>No</td>\n      <td>NaN</td>\n    </tr>\n    <tr>\n      <th>290</th>\n      <td>YQ</td>\n      <td>127</td>\n      <td>R0874</td>\n      <td>8110020127</td>\n      <td>هويدا</td>\n      <td>الرجب أغا</td>\n      <td>2023-10-06</td>\n      <td>2023-10-13</td>\n      <td>NaT</td>\n      <td>NaT</td>\n      <td>...</td>\n      <td>Yes</td>\n      <td>No</td>\n      <td>Yes</td>\n      <td>No</td>\n      <td>No</td>\n      <td>Yes</td>\n      <td>Yes</td>\n      <td>No</td>\n      <td>No</td>\n      <td>NaN</td>\n    </tr>\n  </tbody>\n</table>\n<p>291 rows × 23 columns</p>\n</div>"
     },
     "execution_count": 4,
     "metadata": {},
     "output_type": "execute_result"
    }
   ],
   "source": [
    "intake"
   ],
   "metadata": {
    "collapsed": false,
    "ExecuteTime": {
     "end_time": "2024-03-05T11:26:49.410635Z",
     "start_time": "2024-03-05T11:26:49.363956100Z"
    }
   },
   "id": "87dca2b1926c8493",
   "execution_count": 4
  },
  {
   "cell_type": "code",
   "outputs": [],
   "source": [
    "fcid = intake['fcid'].unique()\n",
    "fcid = fcid.astype(str)"
   ],
   "metadata": {
    "collapsed": false
   },
   "id": "6d24f9031e715703",
   "execution_count": null
  },
  {
   "cell_type": "code",
   "outputs": [],
   "source": [
    "unique_fcid = [id[3:6] for id in fcid]\n",
    "set(unique_fcid)"
   ],
   "metadata": {
    "collapsed": false
   },
   "id": "a42646683b48a877",
   "execution_count": null
  },
  {
   "cell_type": "code",
   "outputs": [],
   "source": [],
   "metadata": {
    "collapsed": false
   },
   "id": "2ae9405fb12a211"
  },
  {
   "cell_type": "code",
   "outputs": [],
   "source": [
    "# Screening\n",
    "scr_path = os.path.join(processed_data, 'scr_1223.csv')\n",
    "screening_sheet = 'Scr'\n",
    "scr_dataset = Dataset(config_file, screening_sheet)\n",
    "scr = pd.read_csv(scr_path)\n",
    "scr = dtype_trans(scr, scr_dataset)\n",
    "unique_scr = scr.drop_duplicates(subset='rid')"
   ],
   "metadata": {
    "collapsed": false
   },
   "id": "877d310ce3d8bf1d",
   "execution_count": null
  },
  {
   "cell_type": "code",
   "outputs": [],
   "source": [
    "intake = pd.merge(intake, unique_scr[['rid', 'sex', 'age']], on='rid', how='left')"
   ],
   "metadata": {
    "collapsed": false
   },
   "id": "481564da59c10baa",
   "execution_count": null
  },
  {
   "cell_type": "code",
   "outputs": [],
   "source": [
    "# id = 'R0571'"
   ],
   "metadata": {
    "collapsed": false
   },
   "id": "2fba8c64c84ad756",
   "execution_count": null
  },
  {
   "cell_type": "code",
   "outputs": [],
   "source": [
    "# intake[intake['rid'] == id]"
   ],
   "metadata": {
    "collapsed": false
   },
   "id": "373ebc5b655a91cf",
   "execution_count": null
  },
  {
   "cell_type": "code",
   "outputs": [],
   "source": [
    "int_q4 = filter_df_by_date(intake, intake_dataset.dvars, threshold)\n",
    "int_q4"
   ],
   "metadata": {
    "collapsed": false
   },
   "id": "42f995c03dd1af07",
   "execution_count": null
  },
  {
   "cell_type": "code",
   "outputs": [],
   "source": [
    "int_q4.to_excel('intake_quarter4_2023.xlsx')"
   ],
   "metadata": {
    "collapsed": false
   },
   "id": "a67b459f4dc39318",
   "execution_count": null
  },
  {
   "cell_type": "code",
   "outputs": [],
   "source": [
    "(int_q4[intake_dataset.dvars] > threshold).sum().sum()"
   ],
   "metadata": {
    "collapsed": false
   },
   "id": "ed03ecab056996ee",
   "execution_count": null
  },
  {
   "cell_type": "code",
   "outputs": [],
   "source": [
    "new_intake = filter_df_by_date(int_q4, ['nt_s1'], threshold)\n",
    "new_intake"
   ],
   "metadata": {
    "collapsed": false
   },
   "id": "729e6334ac9a08f6",
   "execution_count": null
  },
  {
   "cell_type": "code",
   "outputs": [],
   "source": [
    "new_intake['sex'].value_counts()"
   ],
   "metadata": {
    "collapsed": false
   },
   "id": "bf8523517d73b1d5",
   "execution_count": null
  },
  {
   "cell_type": "code",
   "outputs": [],
   "source": [
    "reintake = filter_df_by_date(int_q4, ['nt_re'], threshold)\n",
    "reintake"
   ],
   "metadata": {
    "collapsed": false
   },
   "id": "2b731a566e9cd92e",
   "execution_count": null
  },
  {
   "cell_type": "code",
   "outputs": [],
   "source": [],
   "metadata": {
    "collapsed": false
   },
   "id": "2713e0c93d43f4e6",
   "execution_count": null
  },
  {
   "cell_type": "code",
   "outputs": [],
   "source": [
    "# categorize_age(new_intake)"
   ],
   "metadata": {
    "collapsed": false
   },
   "id": "e6ad1ef4ff43357b",
   "execution_count": null
  },
  {
   "cell_type": "code",
   "outputs": [],
   "source": [
    "# categorize_and_count_ages(new_intake['age'])"
   ],
   "metadata": {
    "collapsed": false
   },
   "id": "219f78b608fbdc3d",
   "execution_count": null
  },
  {
   "cell_type": "code",
   "outputs": [],
   "source": [
    "# normalized_value_counts(int_q4['family_of_missing'])"
   ],
   "metadata": {
    "collapsed": false
   },
   "id": "a49e534ceb75b265",
   "execution_count": null
  },
  {
   "cell_type": "code",
   "outputs": [],
   "source": [
    "# normalized_value_counts(int_q4['survivor_of_detention'])"
   ],
   "metadata": {
    "collapsed": false
   },
   "id": "dec456e4e102253c",
   "execution_count": null
  },
  {
   "cell_type": "code",
   "outputs": [],
   "source": [
    "# normalized_value_counts(int_q4['primary_torture'])"
   ],
   "metadata": {
    "collapsed": false
   },
   "id": "ca405df982af133e",
   "execution_count": null
  },
  {
   "cell_type": "code",
   "outputs": [],
   "source": [
    "# normalized_value_counts(int_q4['secondary_torture'])"
   ],
   "metadata": {
    "collapsed": false
   },
   "id": "9666953061828cf5",
   "execution_count": null
  },
  {
   "cell_type": "code",
   "outputs": [],
   "source": [
    "# normalized_value_counts(int_q4['sexual_violation_a'])"
   ],
   "metadata": {
    "collapsed": false
   },
   "id": "744ec917b59d1cf1",
   "execution_count": null
  },
  {
   "cell_type": "code",
   "outputs": [],
   "source": [
    "# normalized_value_counts(int_q4['sexual_violation_p'])"
   ],
   "metadata": {
    "collapsed": false
   },
   "id": "b1289ef550fd1825",
   "execution_count": null
  },
  {
   "cell_type": "code",
   "outputs": [],
   "source": [
    "# normalized_value_counts(int_q4['hrd'])"
   ],
   "metadata": {
    "collapsed": false
   },
   "id": "edd111581b32d318",
   "execution_count": null
  },
  {
   "cell_type": "code",
   "outputs": [],
   "source": [
    "# normalized_value_counts(int_q4['journalist'])"
   ],
   "metadata": {
    "collapsed": false
   },
   "id": "d179175bd7c87bc7",
   "execution_count": null
  },
  {
   "cell_type": "code",
   "outputs": [],
   "source": [
    "# normalized_value_counts(int_q4['wov'])"
   ],
   "metadata": {
    "collapsed": false
   },
   "id": "a11c51193e4055ab",
   "execution_count": null
  },
  {
   "cell_type": "code",
   "outputs": [],
   "source": [
    "# normalized_value_counts(int_q4['stgbv'])"
   ],
   "metadata": {
    "collapsed": false
   },
   "id": "77f079906738caf",
   "execution_count": null
  },
  {
   "cell_type": "code",
   "outputs": [],
   "source": [
    "# normalized_value_counts(int_q4['lgbti'])"
   ],
   "metadata": {
    "collapsed": false
   },
   "id": "4632217afe6a1ea2",
   "execution_count": null
  },
  {
   "cell_type": "code",
   "outputs": [],
   "source": [
    "# normalized_value_counts(int_q4['other'])"
   ],
   "metadata": {
    "collapsed": false
   },
   "id": "d765b3ad8c0ae82c",
   "execution_count": null
  },
  {
   "cell_type": "code",
   "outputs": [],
   "source": [
    "# new_intake['intsp'].value_counts()"
   ],
   "metadata": {
    "collapsed": false
   },
   "id": "f1b91a2c9fcb313c",
   "execution_count": null
  },
  {
   "cell_type": "code",
   "outputs": [],
   "source": [
    "reintake['intsp'].value_counts()"
   ],
   "metadata": {
    "collapsed": false
   },
   "id": "74a2a84a46bc5d1a",
   "execution_count": null
  },
  {
   "cell_type": "code",
   "outputs": [],
   "source": [
    "reintake['sex'].value_counts()"
   ],
   "metadata": {
    "collapsed": false
   },
   "id": "ace0a31d410c73e0",
   "execution_count": null
  }
 ],
 "metadata": {
  "kernelspec": {
   "display_name": "Python 3",
   "language": "python",
   "name": "python3"
  },
  "language_info": {
   "codemirror_mode": {
    "name": "ipython",
    "version": 2
   },
   "file_extension": ".py",
   "mimetype": "text/x-python",
   "name": "python",
   "nbconvert_exporter": "python",
   "pygments_lexer": "ipython2",
   "version": "2.7.6"
  }
 },
 "nbformat": 4,
 "nbformat_minor": 5
}
