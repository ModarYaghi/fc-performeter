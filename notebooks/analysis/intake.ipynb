{
 "cells": [
  {
   "cell_type": "code",
   "id": "initial_id",
   "metadata": {
    "collapsed": true
   },
   "source": "from src.all_in_one import *",
   "execution_count": null,
   "outputs": []
  },
  {
   "cell_type": "code",
   "source": [
    "# Screening\n",
    "scr_dataset = Dataset(config_file, scr_sheet)\n",
    "scr = get_df(scr_path, scr_sheet)\n",
    "unique_scr = scr.drop_duplicates(subset='rid')"
   ],
   "metadata": {
    "collapsed": false
   },
   "id": "51e8445f98a3f42d",
   "execution_count": null,
   "outputs": []
  },
  {
   "metadata": {},
   "cell_type": "code",
   "source": "scr",
   "id": "2f09aa8763443bea",
   "execution_count": null,
   "outputs": []
  },
  {
   "cell_type": "code",
   "source": [
    "intake = get_df(int_path, int_sheet)\n",
    "intake_dataset = Dataset(config_file, int_sheet)\n",
    "filtered_intake = filter_dataframe_on_date(intake, intake_dataset.dvars, start, end, FilterType.IN)"
   ],
   "metadata": {
    "collapsed": false
   },
   "id": "9e9c8b2b5d82f1a7",
   "execution_count": null,
   "outputs": []
  },
  {
   "cell_type": "code",
   "source": "filtered_intake",
   "metadata": {
    "collapsed": false
   },
   "id": "7ff7c7cd42f4175d",
   "execution_count": null,
   "outputs": []
  },
  {
   "metadata": {},
   "cell_type": "code",
   "source": "intake",
   "id": "db4d0f19071f23da",
   "execution_count": null,
   "outputs": []
  },
  {
   "cell_type": "code",
   "source": "# intake[['rid', 'fcid', 'firstname', 'lastname']].to_clipboard()",
   "metadata": {
    "collapsed": false
   },
   "id": "87dca2b1926c8493",
   "execution_count": null,
   "outputs": []
  },
  {
   "cell_type": "code",
   "source": "filtered_intake = pd.merge(filtered_intake, unique_scr[['rid', 'sex', 'age']], on='rid', how='left')",
   "metadata": {
    "collapsed": false
   },
   "id": "1e73e0a58363a508",
   "execution_count": null,
   "outputs": []
  },
  {
   "cell_type": "code",
   "source": [
    "# filtered_intake.to_csv(int_path, index=False)\n",
    "# This foolish step change the intake data set by the filtered_dataset."
   ],
   "metadata": {
    "collapsed": false
   },
   "id": "e203d96537165f01",
   "execution_count": null,
   "outputs": []
  },
  {
   "cell_type": "code",
   "source": [
    "missing = (intake['family_of_missing'] == 'Yes')"
   ],
   "metadata": {
    "collapsed": false
   },
   "id": "1c3a2d72fb978d66",
   "execution_count": null,
   "outputs": []
  },
  {
   "cell_type": "code",
   "source": [
    "missing.mean()"
   ],
   "metadata": {
    "collapsed": false
   },
   "id": "ba46630850a25d8",
   "execution_count": null,
   "outputs": []
  },
  {
   "cell_type": "code",
   "source": [
    "detainee = (intake['survivor_of_detention'] == 'Yes')"
   ],
   "metadata": {
    "collapsed": false
   },
   "id": "c503fe800a6ee3a2",
   "execution_count": null,
   "outputs": []
  },
  {
   "cell_type": "code",
   "source": [
    "detainee.mean()"
   ],
   "metadata": {
    "collapsed": false
   },
   "id": "4324e1dbf55aa5dc",
   "execution_count": null,
   "outputs": []
  },
  {
   "cell_type": "code",
   "source": [
    "missing_and_detained = missing & detainee"
   ],
   "metadata": {
    "collapsed": false
   },
   "id": "7369776f02ce1fd0",
   "execution_count": null,
   "outputs": []
  },
  {
   "cell_type": "code",
   "source": [
    "missing_and_detained.mean()"
   ],
   "metadata": {
    "collapsed": false
   },
   "id": "d7f50f6f352afd59",
   "execution_count": null,
   "outputs": []
  },
  {
   "cell_type": "code",
   "source": [
    "p_m_or_d = missing.mean() + detainee.mean() - missing_and_detained.mean()\n",
    "p_m_or_d"
   ],
   "metadata": {
    "collapsed": false
   },
   "id": "3082572d6e216d79",
   "execution_count": null,
   "outputs": []
  },
  {
   "cell_type": "code",
   "source": [
    "36/291"
   ],
   "metadata": {
    "collapsed": false
   },
   "id": "bf6b26d10168116",
   "execution_count": null,
   "outputs": []
  },
  {
   "cell_type": "code",
   "source": [
    "fcid = intake['fcid'].unique()\n",
    "fcid = fcid.astype(str)"
   ],
   "metadata": {
    "collapsed": false
   },
   "id": "6d24f9031e715703",
   "execution_count": null,
   "outputs": []
  },
  {
   "cell_type": "code",
   "source": [
    "unique_fcid = [id[3:6] for id in fcid]\n",
    "set(unique_fcid)"
   ],
   "metadata": {
    "collapsed": false
   },
   "id": "a42646683b48a877",
   "execution_count": null,
   "outputs": []
  },
  {
   "cell_type": "code",
   "source": [
    "# id = 'R0571'"
   ],
   "metadata": {
    "collapsed": false
   },
   "id": "2fba8c64c84ad756",
   "execution_count": null,
   "outputs": []
  },
  {
   "cell_type": "code",
   "source": [
    "# intake[intake['rid'] == id]"
   ],
   "metadata": {
    "collapsed": false
   },
   "id": "373ebc5b655a91cf",
   "execution_count": null,
   "outputs": []
  },
  {
   "cell_type": "code",
   "source": [
    "# int_q4 = filter_df_by_date(intake, intake_dataset.dvars, threshold)\n",
    "# int_q4"
   ],
   "metadata": {
    "collapsed": false
   },
   "id": "42f995c03dd1af07",
   "execution_count": null,
   "outputs": []
  },
  {
   "cell_type": "code",
   "source": "# int_q4.to_excel('intake_quarter4_2023.xlsx')",
   "metadata": {
    "collapsed": false
   },
   "id": "a67b459f4dc39318",
   "execution_count": null,
   "outputs": []
  },
  {
   "cell_type": "code",
   "source": "# (int_q4[intake_dataset.dvars] > threshold).sum().sum()",
   "metadata": {
    "collapsed": false
   },
   "id": "ed03ecab056996ee",
   "execution_count": null,
   "outputs": []
  },
  {
   "cell_type": "code",
   "source": [
    "# new_intake = filter_df_by_date(int_q4, ['nt_s1'], threshold)\n",
    "# new_intake"
   ],
   "metadata": {
    "collapsed": false
   },
   "id": "729e6334ac9a08f6",
   "execution_count": null,
   "outputs": []
  },
  {
   "cell_type": "code",
   "source": "# new_intake['sex'].value_counts()",
   "metadata": {
    "collapsed": false
   },
   "id": "bf8523517d73b1d5",
   "execution_count": null,
   "outputs": []
  },
  {
   "cell_type": "code",
   "source": [
    "# reintake = filter_df_by_date(int_q4, ['nt_re'], threshold)\n",
    "# reintake"
   ],
   "metadata": {
    "collapsed": false
   },
   "id": "2b731a566e9cd92e",
   "execution_count": null,
   "outputs": []
  },
  {
   "cell_type": "code",
   "source": [],
   "metadata": {
    "collapsed": false
   },
   "id": "2713e0c93d43f4e6",
   "execution_count": null,
   "outputs": []
  },
  {
   "cell_type": "code",
   "source": [
    "# categorize_age(new_intake)"
   ],
   "metadata": {
    "collapsed": false
   },
   "id": "e6ad1ef4ff43357b",
   "execution_count": null,
   "outputs": []
  },
  {
   "cell_type": "code",
   "source": [
    "# categorize_and_count_ages(new_intake['age'])"
   ],
   "metadata": {
    "collapsed": false
   },
   "id": "219f78b608fbdc3d",
   "execution_count": null,
   "outputs": []
  },
  {
   "cell_type": "code",
   "source": [
    "# normalized_value_counts(int_q4['family_of_missing'])"
   ],
   "metadata": {
    "collapsed": false
   },
   "id": "a49e534ceb75b265",
   "execution_count": null,
   "outputs": []
  },
  {
   "cell_type": "code",
   "source": [
    "# normalized_value_counts(int_q4['survivor_of_detention'])"
   ],
   "metadata": {
    "collapsed": false
   },
   "id": "dec456e4e102253c",
   "execution_count": null,
   "outputs": []
  },
  {
   "cell_type": "code",
   "source": [
    "# normalized_value_counts(int_q4['primary_torture'])"
   ],
   "metadata": {
    "collapsed": false
   },
   "id": "ca405df982af133e",
   "execution_count": null,
   "outputs": []
  },
  {
   "cell_type": "code",
   "source": [
    "# normalized_value_counts(int_q4['secondary_torture'])"
   ],
   "metadata": {
    "collapsed": false
   },
   "id": "9666953061828cf5",
   "execution_count": null,
   "outputs": []
  },
  {
   "cell_type": "code",
   "source": [
    "# normalized_value_counts(int_q4['sexual_violation_a'])"
   ],
   "metadata": {
    "collapsed": false
   },
   "id": "744ec917b59d1cf1",
   "execution_count": null,
   "outputs": []
  },
  {
   "cell_type": "code",
   "source": [
    "# normalized_value_counts(int_q4['sexual_violation_p'])"
   ],
   "metadata": {
    "collapsed": false
   },
   "id": "b1289ef550fd1825",
   "execution_count": null,
   "outputs": []
  },
  {
   "cell_type": "code",
   "source": [
    "# normalized_value_counts(int_q4['hrd'])"
   ],
   "metadata": {
    "collapsed": false
   },
   "id": "edd111581b32d318",
   "execution_count": null,
   "outputs": []
  },
  {
   "cell_type": "code",
   "source": [
    "# normalized_value_counts(int_q4['journalist'])"
   ],
   "metadata": {
    "collapsed": false
   },
   "id": "d179175bd7c87bc7",
   "execution_count": null,
   "outputs": []
  },
  {
   "cell_type": "code",
   "source": [
    "# normalized_value_counts(int_q4['wov'])"
   ],
   "metadata": {
    "collapsed": false
   },
   "id": "a11c51193e4055ab",
   "execution_count": null,
   "outputs": []
  },
  {
   "cell_type": "code",
   "source": [
    "# normalized_value_counts(int_q4['stgbv'])"
   ],
   "metadata": {
    "collapsed": false
   },
   "id": "77f079906738caf",
   "execution_count": null,
   "outputs": []
  },
  {
   "cell_type": "code",
   "source": [
    "# normalized_value_counts(int_q4['lgbti'])"
   ],
   "metadata": {
    "collapsed": false
   },
   "id": "4632217afe6a1ea2",
   "execution_count": null,
   "outputs": []
  },
  {
   "cell_type": "code",
   "source": [
    "# normalized_value_counts(int_q4['other'])"
   ],
   "metadata": {
    "collapsed": false
   },
   "id": "d765b3ad8c0ae82c",
   "execution_count": null,
   "outputs": []
  },
  {
   "cell_type": "code",
   "source": [
    "# new_intake['intsp'].value_counts()"
   ],
   "metadata": {
    "collapsed": false
   },
   "id": "f1b91a2c9fcb313c",
   "execution_count": null,
   "outputs": []
  },
  {
   "cell_type": "code",
   "source": "# reintake['intsp'].value_counts()",
   "metadata": {
    "collapsed": false
   },
   "id": "74a2a84a46bc5d1a",
   "execution_count": null,
   "outputs": []
  },
  {
   "cell_type": "code",
   "source": "# reintake['sex'].value_counts()",
   "metadata": {
    "collapsed": false
   },
   "id": "ace0a31d410c73e0",
   "execution_count": null,
   "outputs": []
  }
 ],
 "metadata": {
  "kernelspec": {
   "display_name": "Python 3",
   "language": "python",
   "name": "python3"
  },
  "language_info": {
   "codemirror_mode": {
    "name": "ipython",
    "version": 2
   },
   "file_extension": ".py",
   "mimetype": "text/x-python",
   "name": "python",
   "nbconvert_exporter": "python",
   "pygments_lexer": "ipython2",
   "version": "2.7.6"
  }
 },
 "nbformat": 4,
 "nbformat_minor": 5
}
