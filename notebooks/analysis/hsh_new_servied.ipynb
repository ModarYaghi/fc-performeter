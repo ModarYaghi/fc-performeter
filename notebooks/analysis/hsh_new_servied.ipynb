{
 "cells": [
  {
   "cell_type": "code",
   "execution_count": null,
   "id": "initial_id",
   "metadata": {
    "collapsed": true
   },
   "source": [
    "import pandas as pd\n",
    "\n",
    "from src.all_in_one import *\n",
    "from src.analysis_functions import *"
   ],
   "outputs": []
  },
  {
   "cell_type": "code",
   "source": [
    "scr = get_df(scr_path, scr_sheet)\n",
    "scr = scr.drop_duplicates(subset='rid')"
   ],
   "metadata": {
    "collapsed": false
   },
   "id": "48da10baa38e26ef",
   "execution_count": null,
   "outputs": []
  },
  {
   "cell_type": "markdown",
   "source": [
    "# Psychotherapy"
   ],
   "metadata": {
    "collapsed": false
   },
   "id": "f57b016500965610"
  },
  {
   "cell_type": "code",
   "source": [
    "intake_dataset = Dataset(config_file, int_sheet)\n",
    "intake = get_df(int_path, int_sheet, b=True)\n",
    "intake.insert(0, 'min_year', (intake[intake_dataset.dvars].min(axis=1)).dt.year)\n",
    "intake.insert(1, 'max_year', (intake[intake_dataset.dvars].max(axis=1)).dt.year)\n",
    "intake.insert(2, 'service', 'int')\n",
    "intake = intake[['min_year', 'max_year', 'service', 'rid']].sort_values(by='min_year')"
   ],
   "metadata": {
    "collapsed": false
   },
   "id": "6cc9b03e64627bc9",
   "execution_count": null,
   "outputs": []
  },
  {
   "cell_type": "code",
   "source": [],
   "metadata": {
    "collapsed": false
   },
   "id": "d618e21aa02cdd6f",
   "execution_count": null,
   "outputs": []
  },
  {
   "cell_type": "markdown",
   "source": [
    "# TRW"
   ],
   "metadata": {
    "collapsed": false
   },
   "id": "a918cb44a59a4973"
  },
  {
   "cell_type": "code",
   "source": [
    "trw_dataset = Dataset(config_file, trw_sheet)\n",
    "trw = get_df(trw_path, trw_sheet, b=True)\n",
    "trw.insert(0, 'min_year', (trw[trw_dataset.dvars].min(axis=1)).dt.year)\n",
    "trw.insert(1, 'max_year', (trw[trw_dataset.dvars].max(axis=1)).dt.year)\n",
    "trw.insert(2, 'service', 'trw')\n",
    "trw = trw[['min_year', 'max_year', 'service', 'rid']].sort_values(by='min_year')"
   ],
   "metadata": {
    "collapsed": false
   },
   "id": "c13a4d9c282a1b1d",
   "execution_count": null,
   "outputs": []
  },
  {
   "cell_type": "code",
   "source": [],
   "metadata": {
    "collapsed": false
   },
   "id": "bd8f51e5bf4eed9e",
   "execution_count": null,
   "outputs": []
  },
  {
   "cell_type": "code",
   "source": [
    "# trw[['min_year', 'max_year']] = trw[['min_year', 'max_year']].astype('Int64')"
   ],
   "metadata": {
    "collapsed": false
   },
   "id": "5b76465efe498e44",
   "execution_count": null,
   "outputs": []
  },
  {
   "cell_type": "markdown",
   "source": [
    "# PEI"
   ],
   "metadata": {
    "collapsed": false
   },
   "id": "accef585881c649d"
  },
  {
   "cell_type": "code",
   "source": [
    "pei_dataset = Dataset(config_file, pei_sheet)\n",
    "pei = get_df(pei_path, pei_sheet, b=True)\n",
    "pei.insert(0, 'min_year', (pei[pei_dataset.dvars].min(axis=1)).dt.year)\n",
    "pei.insert(1, 'max_year', (pei[pei_dataset.dvars].max(axis=1)).dt.year)\n",
    "pei.insert(2, 'service', 'pei')\n",
    "pei = pei[['min_year', 'max_year', 'service', 'rid']].sort_values(by='min_year')"
   ],
   "metadata": {
    "collapsed": false
   },
   "id": "cfab508443787385",
   "execution_count": null,
   "outputs": []
  },
  {
   "cell_type": "code",
   "source": [
    "# pei[['min_year', 'max_year']] = pei[['min_year', 'max_year']].astype('Int64')"
   ],
   "metadata": {
    "collapsed": false
   },
   "id": "100aba1ae12aca7e",
   "execution_count": null,
   "outputs": []
  },
  {
   "cell_type": "code",
   "source": [],
   "metadata": {
    "collapsed": false
   },
   "id": "6ed74315083c72ac",
   "execution_count": null,
   "outputs": []
  },
  {
   "cell_type": "markdown",
   "source": [
    "# TD"
   ],
   "metadata": {
    "collapsed": false
   },
   "id": "5b7d66d56937fff7"
  },
  {
   "cell_type": "code",
   "source": [
    "td_dataset = Dataset(config_file, td_sheet)\n",
    "td = get_df(td_path, td_sheet, b=True)\n",
    "td.insert(0, 'min_year', (td[td_dataset.dvars].min(axis=1)).dt.year)\n",
    "td.insert(1, 'max_year', (td[td_dataset.dvars].max(axis=1)).dt.year)\n",
    "td.insert(2, 'service', 'td')\n",
    "td = td[['min_year', 'max_year', 'service', 'rid']].sort_values(by='min_year')"
   ],
   "metadata": {
    "collapsed": false
   },
   "id": "93da2b7a60d1db0",
   "execution_count": null,
   "outputs": []
  },
  {
   "cell_type": "code",
   "source": [
    "# td[['min_year', 'max_year']] = td[['min_year', 'max_year']].astype('Int64')"
   ],
   "metadata": {
    "collapsed": false
   },
   "id": "8c400025d2fb8cbc",
   "execution_count": null,
   "outputs": []
  },
  {
   "cell_type": "code",
   "source": [],
   "metadata": {
    "collapsed": false
   },
   "id": "43c0f8874ef9b171",
   "execution_count": null,
   "outputs": []
  },
  {
   "cell_type": "markdown",
   "source": [
    "# Physiotherapy"
   ],
   "metadata": {
    "collapsed": false
   },
   "id": "24c916903de26388"
  },
  {
   "cell_type": "code",
   "source": [
    "ptint_dataset = Dataset(config_file, ptint_sheet)\n",
    "ptint = get_df(ptint_path, ptint_sheet, b=True)\n",
    "ptint.insert(0, 'min_year', (ptint[ptint_dataset.dvars].min(axis=1)).dt.year)\n",
    "ptint.insert(1, 'max_year', (ptint[ptint_dataset.dvars].max(axis=1)).dt.year)\n",
    "ptint.insert(2, 'service', 'ptint')\n",
    "ptint = ptint[['min_year', 'max_year', 'service', 'rid']].sort_values(by='min_year')"
   ],
   "metadata": {
    "collapsed": false
   },
   "id": "a4c5c88d012c57a8",
   "execution_count": null,
   "outputs": []
  },
  {
   "cell_type": "code",
   "source": [],
   "metadata": {
    "collapsed": false
   },
   "id": "e007dc51fac2fc4d",
   "execution_count": null,
   "outputs": []
  },
  {
   "cell_type": "markdown",
   "source": [
    "# New Served"
   ],
   "metadata": {
    "collapsed": false
   },
   "id": "dd62fde04195c79b"
  },
  {
   "cell_type": "code",
   "source": [
    "intake = intake.drop_duplicates(subset='rid')\n",
    "trw = trw.drop_duplicates(subset='rid')\n",
    "pei = pei.drop_duplicates(subset='rid')\n",
    "ptint = ptint.drop_duplicates(subset='rid')\n",
    "td = td.drop_duplicates(subset='rid')\n",
    "new_served = pd.concat([intake, trw, pei, ptint, td], ignore_index=True)"
   ],
   "metadata": {
    "collapsed": false
   },
   "id": "d0b5d4ff51b4052d",
   "execution_count": null,
   "outputs": []
  },
  {
   "cell_type": "code",
   "source": [
    "new_served"
   ],
   "metadata": {
    "collapsed": false
   },
   "id": "89c21451952e0ff9",
   "execution_count": null,
   "outputs": []
  },
  {
   "cell_type": "code",
   "source": [
    "new_served['service'].value_counts()"
   ],
   "metadata": {
    "collapsed": false
   },
   "id": "14c955f81e1bda08",
   "execution_count": null,
   "outputs": []
  },
  {
   "cell_type": "code",
   "source": [
    "new_served_24 = new_served[new_served['min_year'] == 2024]"
   ],
   "metadata": {
    "collapsed": false
   },
   "id": "10fa983ab467d989",
   "execution_count": null,
   "outputs": []
  },
  {
   "cell_type": "code",
   "source": [
    "new_served_24"
   ],
   "metadata": {
    "collapsed": false
   },
   "id": "e759ea4fa711cc35",
   "execution_count": null,
   "outputs": []
  },
  {
   "cell_type": "code",
   "source": [
    "new_served_23 = pd.merge(new_served_24, scr[['rid', 'sex', 'age']], on='rid', how='left')"
   ],
   "metadata": {
    "collapsed": false
   },
   "id": "d306f18be033cac0",
   "execution_count": null,
   "outputs": []
  },
  {
   "cell_type": "code",
   "source": [
    "new_served_23"
   ],
   "metadata": {
    "collapsed": false
   },
   "id": "d99f2ec48249890",
   "execution_count": null,
   "outputs": []
  },
  {
   "cell_type": "code",
   "source": [
    "new_served_23.value_counts('service', dropna=False)"
   ],
   "metadata": {
    "collapsed": false
   },
   "id": "28d99d18f97dfb1",
   "execution_count": null,
   "outputs": []
  },
  {
   "cell_type": "code",
   "source": [
    "new_served_23.value_counts('sex', dropna=False)"
   ],
   "metadata": {
    "collapsed": false
   },
   "id": "7f590d3eab6dedb4",
   "execution_count": null,
   "outputs": []
  },
  {
   "cell_type": "code",
   "source": [],
   "metadata": {
    "collapsed": false
   },
   "id": "85cf845cb1c65a3b",
   "execution_count": null,
   "outputs": []
  }
 ],
 "metadata": {
  "kernelspec": {
   "display_name": "Python 3",
   "language": "python",
   "name": "python3"
  },
  "language_info": {
   "codemirror_mode": {
    "name": "ipython",
    "version": 2
   },
   "file_extension": ".py",
   "mimetype": "text/x-python",
   "name": "python",
   "nbconvert_exporter": "python",
   "pygments_lexer": "ipython2",
   "version": "2.7.6"
  }
 },
 "nbformat": 4,
 "nbformat_minor": 5
}
