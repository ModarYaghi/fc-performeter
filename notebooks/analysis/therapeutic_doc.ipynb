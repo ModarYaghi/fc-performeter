{
 "cells": [
  {
   "cell_type": "code",
   "execution_count": null,
   "id": "initial_id",
   "metadata": {
    "collapsed": true
   },
   "outputs": [],
   "source": [
    "from src.all_in_one import *"
   ]
  },
  {
   "cell_type": "code",
   "outputs": [],
   "source": [
    "threshold = '2024-01-31'\n",
    "_threshold = '2024-05-01'"
   ],
   "metadata": {
    "collapsed": false
   },
   "id": "fc7c5cd2787ae9e1",
   "execution_count": null
  },
  {
   "cell_type": "code",
   "outputs": [],
   "source": [
    "# Screening\n",
    "scr = get_df(scr_path, scr_sheet)\n",
    "unique_scr = scr.drop_duplicates(subset='rid')"
   ],
   "metadata": {
    "collapsed": false
   },
   "id": "4e4fc37abf8d5e4",
   "execution_count": null
  },
  {
   "cell_type": "code",
   "outputs": [],
   "source": [
    "td_dataset = Dataset(config_file, td_sheet)\n",
    "td = get_df(td_path, td_sheet)\n",
    "td = pd.merge(td, unique_scr[['rid', 'sex', 'age']], on='rid', how='left')"
   ],
   "metadata": {
    "collapsed": false
   },
   "id": "1ab2027c74fcc51b",
   "execution_count": null
  },
  {
   "cell_type": "code",
   "outputs": [],
   "source": [
    "td_dataset.dvars"
   ],
   "metadata": {
    "collapsed": false
   },
   "id": "f583595eb1e54022",
   "execution_count": null
  },
  {
   "cell_type": "code",
   "outputs": [],
   "source": [
    "sub_td = filter_dataframe_on_date(td, td_dataset.dvars, date1='2024-01-01', filter_type=FilterType.AF)"
   ],
   "metadata": {
    "collapsed": false
   },
   "id": "1cf0ff7199eb1b78",
   "execution_count": null
  },
  {
   "cell_type": "code",
   "outputs": [],
   "source": [
    "td"
   ],
   "metadata": {
    "collapsed": false
   },
   "id": "7841c9b2017b0b84",
   "execution_count": null
  },
  {
   "cell_type": "code",
   "outputs": [],
   "source": [
    "cws = get_df(cws_path, cws_sheet)\n",
    "cws"
   ],
   "metadata": {
    "collapsed": false
   },
   "id": "a7cd9e989e8c73af",
   "execution_count": null
  },
  {
   "cell_type": "code",
   "outputs": [],
   "source": [
    "cws[['cwssp', 'rid', 'fcid', 'cws_s1', 'cws_s2', 'cws_total']].to_clipboard()"
   ],
   "metadata": {
    "collapsed": false
   },
   "id": "e56a4693e1d1e22c",
   "execution_count": null
  },
  {
   "cell_type": "code",
   "outputs": [],
   "source": [],
   "metadata": {
    "collapsed": false
   },
   "id": "fae8127599967a29"
  }
 ],
 "metadata": {
  "kernelspec": {
   "display_name": "Python 3",
   "language": "python",
   "name": "python3"
  },
  "language_info": {
   "codemirror_mode": {
    "name": "ipython",
    "version": 2
   },
   "file_extension": ".py",
   "mimetype": "text/x-python",
   "name": "python",
   "nbconvert_exporter": "python",
   "pygments_lexer": "ipython2",
   "version": "2.7.6"
  }
 },
 "nbformat": 4,
 "nbformat_minor": 5
}
