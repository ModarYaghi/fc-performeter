{
 "cells": [
  {
   "cell_type": "code",
   "execution_count": 1,
   "id": "initial_id",
   "metadata": {
    "collapsed": true,
    "ExecuteTime": {
     "end_time": "2024-02-21T07:34:19.977114300Z",
     "start_time": "2024-02-21T07:34:18.603810Z"
    }
   },
   "outputs": [],
   "source": [
    "from src.all_in_one import *"
   ]
  },
  {
   "cell_type": "code",
   "outputs": [],
   "source": [
    "td = get_df(td_path, td_sheet)"
   ],
   "metadata": {
    "collapsed": false,
    "ExecuteTime": {
     "end_time": "2024-02-21T07:34:20.066340400Z",
     "start_time": "2024-02-21T07:34:19.982101900Z"
    }
   },
   "id": "1ab2027c74fcc51b",
   "execution_count": 2
  },
  {
   "cell_type": "code",
   "outputs": [
    {
     "data": {
      "text/plain": "   tdsp  tdspi    rid        fcid firstname  lastname    consult    consent  \\\n0    IJ      1  R0402  8110020119      عبير       عزو 2023-07-24 2023-07-24   \n1    IJ      2  R0314  8110020091      رقية    الحسين 2023-07-31 2023-07-31   \n2    IJ      3  R0359  8110050048       رنا    العيسى 2023-09-07 2023-09-12   \n3    IJ      4  R0215  8110020080     اميرة    ريحاوي 2023-09-07 2023-09-11   \n4    IJ      5  R0100  8110050077     اميرة     بكران 2023-10-06 2023-10-06   \n..  ...    ...    ...         ...       ...       ...        ...        ...   \n87   YQ     23  R0415  8110020102       قيس  أبو نقطة 2023-05-11 2023-05-11   \n88   YQ     24  R0452  8110050080       مها      شواف 2023-08-23 2023-08-23   \n89   YQ     25  R0534  8110050087      دلال    الجادر 2023-08-24 2023-08-24   \n90   YQ     26  R0378  8110050066     عائشة    الخاطر 2023-08-25 2023-08-25   \n91   YQ     27  R0460  8110090003       سهى     الحسن 2023-10-04 2023-10-04   \n\n   legal_doc individual_use  cws communicat_use advocacy interview_s1  \\\n0         No            Yes  Yes            Yes      Yes   2023-07-08   \n1         No            Yes  Yes            Yes       No   2023-09-07   \n2         No            Yes  Yes            Yes       No          NaT   \n3         No            Yes  Yes            Yes       No          NaT   \n4         No            Yes  Yes            Yes       No          NaT   \n..       ...            ...  ...            ...      ...          ...   \n87       Yes            Yes   No            Yes      Yes          NaT   \n88       Yes            Yes  Yes             No       No          NaT   \n89       Yes            Yes  Yes            Yes       No          NaT   \n90       Yes             No  Yes             No       No          NaT   \n91        No            Yes  Yes            Yes      Yes          NaT   \n\n   interview_s2 interview_s3  interview_total                        note  \n0    2023-08-18   2023-09-15                3  حضرة ورشة التوثيق الابداعي  \n1    2023-09-15          NaT                2  حضرة ورشة التوثيق الابداعي  \n2           NaT          NaT                0  حضرة ورشة التوثيق الابداعي  \n3           NaT          NaT                0  حضرة ورشة التوثيق الابداعي  \n4           NaT          NaT                0  حضرة ورشة التوثيق الابداعي  \n..          ...          ...              ...                         ...  \n87          NaT          NaT                0                         NaN  \n88          NaT          NaT                0                         NaN  \n89          NaT          NaT                0                         NaN  \n90          NaT          NaT                0                  توثيق sjac  \n91          NaT          NaT                0                         NaN  \n\n[92 rows x 18 columns]",
      "text/html": "<div>\n<style scoped>\n    .dataframe tbody tr th:only-of-type {\n        vertical-align: middle;\n    }\n\n    .dataframe tbody tr th {\n        vertical-align: top;\n    }\n\n    .dataframe thead th {\n        text-align: right;\n    }\n</style>\n<table border=\"1\" class=\"dataframe\">\n  <thead>\n    <tr style=\"text-align: right;\">\n      <th></th>\n      <th>tdsp</th>\n      <th>tdspi</th>\n      <th>rid</th>\n      <th>fcid</th>\n      <th>firstname</th>\n      <th>lastname</th>\n      <th>consult</th>\n      <th>consent</th>\n      <th>legal_doc</th>\n      <th>individual_use</th>\n      <th>cws</th>\n      <th>communicat_use</th>\n      <th>advocacy</th>\n      <th>interview_s1</th>\n      <th>interview_s2</th>\n      <th>interview_s3</th>\n      <th>interview_total</th>\n      <th>note</th>\n    </tr>\n  </thead>\n  <tbody>\n    <tr>\n      <th>0</th>\n      <td>IJ</td>\n      <td>1</td>\n      <td>R0402</td>\n      <td>8110020119</td>\n      <td>عبير</td>\n      <td>عزو</td>\n      <td>2023-07-24</td>\n      <td>2023-07-24</td>\n      <td>No</td>\n      <td>Yes</td>\n      <td>Yes</td>\n      <td>Yes</td>\n      <td>Yes</td>\n      <td>2023-07-08</td>\n      <td>2023-08-18</td>\n      <td>2023-09-15</td>\n      <td>3</td>\n      <td>حضرة ورشة التوثيق الابداعي</td>\n    </tr>\n    <tr>\n      <th>1</th>\n      <td>IJ</td>\n      <td>2</td>\n      <td>R0314</td>\n      <td>8110020091</td>\n      <td>رقية</td>\n      <td>الحسين</td>\n      <td>2023-07-31</td>\n      <td>2023-07-31</td>\n      <td>No</td>\n      <td>Yes</td>\n      <td>Yes</td>\n      <td>Yes</td>\n      <td>No</td>\n      <td>2023-09-07</td>\n      <td>2023-09-15</td>\n      <td>NaT</td>\n      <td>2</td>\n      <td>حضرة ورشة التوثيق الابداعي</td>\n    </tr>\n    <tr>\n      <th>2</th>\n      <td>IJ</td>\n      <td>3</td>\n      <td>R0359</td>\n      <td>8110050048</td>\n      <td>رنا</td>\n      <td>العيسى</td>\n      <td>2023-09-07</td>\n      <td>2023-09-12</td>\n      <td>No</td>\n      <td>Yes</td>\n      <td>Yes</td>\n      <td>Yes</td>\n      <td>No</td>\n      <td>NaT</td>\n      <td>NaT</td>\n      <td>NaT</td>\n      <td>0</td>\n      <td>حضرة ورشة التوثيق الابداعي</td>\n    </tr>\n    <tr>\n      <th>3</th>\n      <td>IJ</td>\n      <td>4</td>\n      <td>R0215</td>\n      <td>8110020080</td>\n      <td>اميرة</td>\n      <td>ريحاوي</td>\n      <td>2023-09-07</td>\n      <td>2023-09-11</td>\n      <td>No</td>\n      <td>Yes</td>\n      <td>Yes</td>\n      <td>Yes</td>\n      <td>No</td>\n      <td>NaT</td>\n      <td>NaT</td>\n      <td>NaT</td>\n      <td>0</td>\n      <td>حضرة ورشة التوثيق الابداعي</td>\n    </tr>\n    <tr>\n      <th>4</th>\n      <td>IJ</td>\n      <td>5</td>\n      <td>R0100</td>\n      <td>8110050077</td>\n      <td>اميرة</td>\n      <td>بكران</td>\n      <td>2023-10-06</td>\n      <td>2023-10-06</td>\n      <td>No</td>\n      <td>Yes</td>\n      <td>Yes</td>\n      <td>Yes</td>\n      <td>No</td>\n      <td>NaT</td>\n      <td>NaT</td>\n      <td>NaT</td>\n      <td>0</td>\n      <td>حضرة ورشة التوثيق الابداعي</td>\n    </tr>\n    <tr>\n      <th>...</th>\n      <td>...</td>\n      <td>...</td>\n      <td>...</td>\n      <td>...</td>\n      <td>...</td>\n      <td>...</td>\n      <td>...</td>\n      <td>...</td>\n      <td>...</td>\n      <td>...</td>\n      <td>...</td>\n      <td>...</td>\n      <td>...</td>\n      <td>...</td>\n      <td>...</td>\n      <td>...</td>\n      <td>...</td>\n      <td>...</td>\n    </tr>\n    <tr>\n      <th>87</th>\n      <td>YQ</td>\n      <td>23</td>\n      <td>R0415</td>\n      <td>8110020102</td>\n      <td>قيس</td>\n      <td>أبو نقطة</td>\n      <td>2023-05-11</td>\n      <td>2023-05-11</td>\n      <td>Yes</td>\n      <td>Yes</td>\n      <td>No</td>\n      <td>Yes</td>\n      <td>Yes</td>\n      <td>NaT</td>\n      <td>NaT</td>\n      <td>NaT</td>\n      <td>0</td>\n      <td>NaN</td>\n    </tr>\n    <tr>\n      <th>88</th>\n      <td>YQ</td>\n      <td>24</td>\n      <td>R0452</td>\n      <td>8110050080</td>\n      <td>مها</td>\n      <td>شواف</td>\n      <td>2023-08-23</td>\n      <td>2023-08-23</td>\n      <td>Yes</td>\n      <td>Yes</td>\n      <td>Yes</td>\n      <td>No</td>\n      <td>No</td>\n      <td>NaT</td>\n      <td>NaT</td>\n      <td>NaT</td>\n      <td>0</td>\n      <td>NaN</td>\n    </tr>\n    <tr>\n      <th>89</th>\n      <td>YQ</td>\n      <td>25</td>\n      <td>R0534</td>\n      <td>8110050087</td>\n      <td>دلال</td>\n      <td>الجادر</td>\n      <td>2023-08-24</td>\n      <td>2023-08-24</td>\n      <td>Yes</td>\n      <td>Yes</td>\n      <td>Yes</td>\n      <td>Yes</td>\n      <td>No</td>\n      <td>NaT</td>\n      <td>NaT</td>\n      <td>NaT</td>\n      <td>0</td>\n      <td>NaN</td>\n    </tr>\n    <tr>\n      <th>90</th>\n      <td>YQ</td>\n      <td>26</td>\n      <td>R0378</td>\n      <td>8110050066</td>\n      <td>عائشة</td>\n      <td>الخاطر</td>\n      <td>2023-08-25</td>\n      <td>2023-08-25</td>\n      <td>Yes</td>\n      <td>No</td>\n      <td>Yes</td>\n      <td>No</td>\n      <td>No</td>\n      <td>NaT</td>\n      <td>NaT</td>\n      <td>NaT</td>\n      <td>0</td>\n      <td>توثيق sjac</td>\n    </tr>\n    <tr>\n      <th>91</th>\n      <td>YQ</td>\n      <td>27</td>\n      <td>R0460</td>\n      <td>8110090003</td>\n      <td>سهى</td>\n      <td>الحسن</td>\n      <td>2023-10-04</td>\n      <td>2023-10-04</td>\n      <td>No</td>\n      <td>Yes</td>\n      <td>Yes</td>\n      <td>Yes</td>\n      <td>Yes</td>\n      <td>NaT</td>\n      <td>NaT</td>\n      <td>NaT</td>\n      <td>0</td>\n      <td>NaN</td>\n    </tr>\n  </tbody>\n</table>\n<p>92 rows × 18 columns</p>\n</div>"
     },
     "execution_count": 3,
     "metadata": {},
     "output_type": "execute_result"
    }
   ],
   "source": [
    "td"
   ],
   "metadata": {
    "collapsed": false,
    "ExecuteTime": {
     "end_time": "2024-02-21T07:34:20.093465900Z",
     "start_time": "2024-02-21T07:34:20.072317800Z"
    }
   },
   "id": "aa4c6c2d30b8189d",
   "execution_count": 3
  },
  {
   "cell_type": "code",
   "outputs": [
    {
     "data": {
      "text/plain": "   tdsp  tdspi    rid        fcid    consult    consent legal_doc  \\\n0    IJ      1  R0402  8110020119 2023-07-24 2023-07-24        No   \n1    IJ      2  R0314  8110020091 2023-07-31 2023-07-31        No   \n2    IJ      3  R0359  8110050048 2023-09-07 2023-09-12        No   \n3    IJ      4  R0215  8110020080 2023-09-07 2023-09-11        No   \n4    IJ      5  R0100  8110050077 2023-10-06 2023-10-06        No   \n..  ...    ...    ...         ...        ...        ...       ...   \n87   YQ     23  R0415  8110020102 2023-05-11 2023-05-11       Yes   \n88   YQ     24  R0452  8110050080 2023-08-23 2023-08-23       Yes   \n89   YQ     25  R0534  8110050087 2023-08-24 2023-08-24       Yes   \n90   YQ     26  R0378  8110050066 2023-08-25 2023-08-25       Yes   \n91   YQ     27  R0460  8110090003 2023-10-04 2023-10-04        No   \n\n   individual_use  cws communicat_use advocacy interview_s1 interview_s2  \\\n0             Yes  Yes            Yes      Yes   2023-07-08   2023-08-18   \n1             Yes  Yes            Yes       No   2023-09-07   2023-09-15   \n2             Yes  Yes            Yes       No          NaT          NaT   \n3             Yes  Yes            Yes       No          NaT          NaT   \n4             Yes  Yes            Yes       No          NaT          NaT   \n..            ...  ...            ...      ...          ...          ...   \n87            Yes   No            Yes      Yes          NaT          NaT   \n88            Yes  Yes             No       No          NaT          NaT   \n89            Yes  Yes            Yes       No          NaT          NaT   \n90             No  Yes             No       No          NaT          NaT   \n91            Yes  Yes            Yes      Yes          NaT          NaT   \n\n   interview_s3  interview_total                        note  \n0    2023-09-15                3  حضرة ورشة التوثيق الابداعي  \n1           NaT                2  حضرة ورشة التوثيق الابداعي  \n2           NaT                0  حضرة ورشة التوثيق الابداعي  \n3           NaT                0  حضرة ورشة التوثيق الابداعي  \n4           NaT                0  حضرة ورشة التوثيق الابداعي  \n..          ...              ...                         ...  \n87          NaT                0                         NaN  \n88          NaT                0                         NaN  \n89          NaT                0                         NaN  \n90          NaT                0                  توثيق sjac  \n91          NaT                0                         NaN  \n\n[92 rows x 16 columns]",
      "text/html": "<div>\n<style scoped>\n    .dataframe tbody tr th:only-of-type {\n        vertical-align: middle;\n    }\n\n    .dataframe tbody tr th {\n        vertical-align: top;\n    }\n\n    .dataframe thead th {\n        text-align: right;\n    }\n</style>\n<table border=\"1\" class=\"dataframe\">\n  <thead>\n    <tr style=\"text-align: right;\">\n      <th></th>\n      <th>tdsp</th>\n      <th>tdspi</th>\n      <th>rid</th>\n      <th>fcid</th>\n      <th>consult</th>\n      <th>consent</th>\n      <th>legal_doc</th>\n      <th>individual_use</th>\n      <th>cws</th>\n      <th>communicat_use</th>\n      <th>advocacy</th>\n      <th>interview_s1</th>\n      <th>interview_s2</th>\n      <th>interview_s3</th>\n      <th>interview_total</th>\n      <th>note</th>\n    </tr>\n  </thead>\n  <tbody>\n    <tr>\n      <th>0</th>\n      <td>IJ</td>\n      <td>1</td>\n      <td>R0402</td>\n      <td>8110020119</td>\n      <td>2023-07-24</td>\n      <td>2023-07-24</td>\n      <td>No</td>\n      <td>Yes</td>\n      <td>Yes</td>\n      <td>Yes</td>\n      <td>Yes</td>\n      <td>2023-07-08</td>\n      <td>2023-08-18</td>\n      <td>2023-09-15</td>\n      <td>3</td>\n      <td>حضرة ورشة التوثيق الابداعي</td>\n    </tr>\n    <tr>\n      <th>1</th>\n      <td>IJ</td>\n      <td>2</td>\n      <td>R0314</td>\n      <td>8110020091</td>\n      <td>2023-07-31</td>\n      <td>2023-07-31</td>\n      <td>No</td>\n      <td>Yes</td>\n      <td>Yes</td>\n      <td>Yes</td>\n      <td>No</td>\n      <td>2023-09-07</td>\n      <td>2023-09-15</td>\n      <td>NaT</td>\n      <td>2</td>\n      <td>حضرة ورشة التوثيق الابداعي</td>\n    </tr>\n    <tr>\n      <th>2</th>\n      <td>IJ</td>\n      <td>3</td>\n      <td>R0359</td>\n      <td>8110050048</td>\n      <td>2023-09-07</td>\n      <td>2023-09-12</td>\n      <td>No</td>\n      <td>Yes</td>\n      <td>Yes</td>\n      <td>Yes</td>\n      <td>No</td>\n      <td>NaT</td>\n      <td>NaT</td>\n      <td>NaT</td>\n      <td>0</td>\n      <td>حضرة ورشة التوثيق الابداعي</td>\n    </tr>\n    <tr>\n      <th>3</th>\n      <td>IJ</td>\n      <td>4</td>\n      <td>R0215</td>\n      <td>8110020080</td>\n      <td>2023-09-07</td>\n      <td>2023-09-11</td>\n      <td>No</td>\n      <td>Yes</td>\n      <td>Yes</td>\n      <td>Yes</td>\n      <td>No</td>\n      <td>NaT</td>\n      <td>NaT</td>\n      <td>NaT</td>\n      <td>0</td>\n      <td>حضرة ورشة التوثيق الابداعي</td>\n    </tr>\n    <tr>\n      <th>4</th>\n      <td>IJ</td>\n      <td>5</td>\n      <td>R0100</td>\n      <td>8110050077</td>\n      <td>2023-10-06</td>\n      <td>2023-10-06</td>\n      <td>No</td>\n      <td>Yes</td>\n      <td>Yes</td>\n      <td>Yes</td>\n      <td>No</td>\n      <td>NaT</td>\n      <td>NaT</td>\n      <td>NaT</td>\n      <td>0</td>\n      <td>حضرة ورشة التوثيق الابداعي</td>\n    </tr>\n    <tr>\n      <th>...</th>\n      <td>...</td>\n      <td>...</td>\n      <td>...</td>\n      <td>...</td>\n      <td>...</td>\n      <td>...</td>\n      <td>...</td>\n      <td>...</td>\n      <td>...</td>\n      <td>...</td>\n      <td>...</td>\n      <td>...</td>\n      <td>...</td>\n      <td>...</td>\n      <td>...</td>\n      <td>...</td>\n    </tr>\n    <tr>\n      <th>87</th>\n      <td>YQ</td>\n      <td>23</td>\n      <td>R0415</td>\n      <td>8110020102</td>\n      <td>2023-05-11</td>\n      <td>2023-05-11</td>\n      <td>Yes</td>\n      <td>Yes</td>\n      <td>No</td>\n      <td>Yes</td>\n      <td>Yes</td>\n      <td>NaT</td>\n      <td>NaT</td>\n      <td>NaT</td>\n      <td>0</td>\n      <td>NaN</td>\n    </tr>\n    <tr>\n      <th>88</th>\n      <td>YQ</td>\n      <td>24</td>\n      <td>R0452</td>\n      <td>8110050080</td>\n      <td>2023-08-23</td>\n      <td>2023-08-23</td>\n      <td>Yes</td>\n      <td>Yes</td>\n      <td>Yes</td>\n      <td>No</td>\n      <td>No</td>\n      <td>NaT</td>\n      <td>NaT</td>\n      <td>NaT</td>\n      <td>0</td>\n      <td>NaN</td>\n    </tr>\n    <tr>\n      <th>89</th>\n      <td>YQ</td>\n      <td>25</td>\n      <td>R0534</td>\n      <td>8110050087</td>\n      <td>2023-08-24</td>\n      <td>2023-08-24</td>\n      <td>Yes</td>\n      <td>Yes</td>\n      <td>Yes</td>\n      <td>Yes</td>\n      <td>No</td>\n      <td>NaT</td>\n      <td>NaT</td>\n      <td>NaT</td>\n      <td>0</td>\n      <td>NaN</td>\n    </tr>\n    <tr>\n      <th>90</th>\n      <td>YQ</td>\n      <td>26</td>\n      <td>R0378</td>\n      <td>8110050066</td>\n      <td>2023-08-25</td>\n      <td>2023-08-25</td>\n      <td>Yes</td>\n      <td>No</td>\n      <td>Yes</td>\n      <td>No</td>\n      <td>No</td>\n      <td>NaT</td>\n      <td>NaT</td>\n      <td>NaT</td>\n      <td>0</td>\n      <td>توثيق sjac</td>\n    </tr>\n    <tr>\n      <th>91</th>\n      <td>YQ</td>\n      <td>27</td>\n      <td>R0460</td>\n      <td>8110090003</td>\n      <td>2023-10-04</td>\n      <td>2023-10-04</td>\n      <td>No</td>\n      <td>Yes</td>\n      <td>Yes</td>\n      <td>Yes</td>\n      <td>Yes</td>\n      <td>NaT</td>\n      <td>NaT</td>\n      <td>NaT</td>\n      <td>0</td>\n      <td>NaN</td>\n    </tr>\n  </tbody>\n</table>\n<p>92 rows × 16 columns</p>\n</div>"
     },
     "execution_count": 4,
     "metadata": {},
     "output_type": "execute_result"
    }
   ],
   "source": [
    "tdb = td.drop(columns=['firstname', 'lastname'])\n",
    "tdb"
   ],
   "metadata": {
    "collapsed": false,
    "ExecuteTime": {
     "end_time": "2024-02-21T07:34:21.848242600Z",
     "start_time": "2024-02-21T07:34:21.817284900Z"
    }
   },
   "id": "7ce2ce14b7262611",
   "execution_count": 4
  },
  {
   "cell_type": "code",
   "outputs": [
    {
     "data": {
      "text/plain": "   tdsp  tdspi    rid        fcid    consult    consent legal_doc  \\\n5    IJ      6  R0268  8110020077 2024-02-02 2024-02-02        No   \n6    IJ      7  R0246  8110020084 2024-02-02 2024-02-02       Yes   \n7    IJ      8  R0224  8110050039 2024-02-02 2024-02-02       Yes   \n18   LA     11  R0486  8110020103 2024-01-08 2024-01-08       Yes   \n19   LA     12  R0487  8110080005 2024-01-22 2024-01-22       Yes   \n34   MT     15  R0298  8110020089 2023-11-10 2023-11-10       Yes   \n35   MT     16  R0592  8110050096 2024-01-08 2024-01-08       Yes   \n36   MT     17  R0126  8110020064 2024-01-15 2024-01-15        No   \n37   MT     18  R0485  8110020108 2024-01-15 2024-01-15       Yes   \n38   MT     19  R0107  8110050017 2024-01-16 2024-01-16        No   \n62   SA     23  R0574  8110080007 2023-11-10 2023-11-10       Yes   \n63   SA     24  R0573  8110080008 2023-11-10 2023-11-10        No   \n64   SA     25  R0353  8110020099 2023-11-10 2023-11-10        No   \n\n   individual_use  cws communicat_use advocacy interview_s1 interview_s2  \\\n5              No  Yes             No       No          NaT          NaT   \n6             Yes  Yes            Yes       No          NaT          NaT   \n7             Yes  Yes            Yes      Yes          NaT          NaT   \n18            Yes   No            Yes      Yes          NaT          NaT   \n19            Yes   No            Yes      Yes          NaT          NaT   \n34            Yes  Yes             No      Yes          NaT          NaT   \n35            Yes   No            Yes      Yes          NaT          NaT   \n36             No  Yes             No      Yes          NaT          NaT   \n37             No  Yes             No      Yes          NaT          NaT   \n38             No  Yes             No      Yes          NaT          NaT   \n62            Yes  Yes            Yes      Yes          NaT          NaT   \n63            Yes  Yes            Yes      Yes          NaT          NaT   \n64            Yes  Yes            Yes      Yes          NaT          NaT   \n\n   interview_s3  interview_total note  \n5           NaT                0  NaN  \n6           NaT                0  NaN  \n7           NaT                0  NaN  \n18          NaT                0  NaN  \n19          NaT                0  NaN  \n34          NaT                0  NaN  \n35          NaT                0  NaN  \n36          NaT                0  NaN  \n37          NaT                0  NaN  \n38          NaT                0  NaN  \n62          NaT                0  NaN  \n63          NaT                0  NaN  \n64          NaT                0  NaN  ",
      "text/html": "<div>\n<style scoped>\n    .dataframe tbody tr th:only-of-type {\n        vertical-align: middle;\n    }\n\n    .dataframe tbody tr th {\n        vertical-align: top;\n    }\n\n    .dataframe thead th {\n        text-align: right;\n    }\n</style>\n<table border=\"1\" class=\"dataframe\">\n  <thead>\n    <tr style=\"text-align: right;\">\n      <th></th>\n      <th>tdsp</th>\n      <th>tdspi</th>\n      <th>rid</th>\n      <th>fcid</th>\n      <th>consult</th>\n      <th>consent</th>\n      <th>legal_doc</th>\n      <th>individual_use</th>\n      <th>cws</th>\n      <th>communicat_use</th>\n      <th>advocacy</th>\n      <th>interview_s1</th>\n      <th>interview_s2</th>\n      <th>interview_s3</th>\n      <th>interview_total</th>\n      <th>note</th>\n    </tr>\n  </thead>\n  <tbody>\n    <tr>\n      <th>5</th>\n      <td>IJ</td>\n      <td>6</td>\n      <td>R0268</td>\n      <td>8110020077</td>\n      <td>2024-02-02</td>\n      <td>2024-02-02</td>\n      <td>No</td>\n      <td>No</td>\n      <td>Yes</td>\n      <td>No</td>\n      <td>No</td>\n      <td>NaT</td>\n      <td>NaT</td>\n      <td>NaT</td>\n      <td>0</td>\n      <td>NaN</td>\n    </tr>\n    <tr>\n      <th>6</th>\n      <td>IJ</td>\n      <td>7</td>\n      <td>R0246</td>\n      <td>8110020084</td>\n      <td>2024-02-02</td>\n      <td>2024-02-02</td>\n      <td>Yes</td>\n      <td>Yes</td>\n      <td>Yes</td>\n      <td>Yes</td>\n      <td>No</td>\n      <td>NaT</td>\n      <td>NaT</td>\n      <td>NaT</td>\n      <td>0</td>\n      <td>NaN</td>\n    </tr>\n    <tr>\n      <th>7</th>\n      <td>IJ</td>\n      <td>8</td>\n      <td>R0224</td>\n      <td>8110050039</td>\n      <td>2024-02-02</td>\n      <td>2024-02-02</td>\n      <td>Yes</td>\n      <td>Yes</td>\n      <td>Yes</td>\n      <td>Yes</td>\n      <td>Yes</td>\n      <td>NaT</td>\n      <td>NaT</td>\n      <td>NaT</td>\n      <td>0</td>\n      <td>NaN</td>\n    </tr>\n    <tr>\n      <th>18</th>\n      <td>LA</td>\n      <td>11</td>\n      <td>R0486</td>\n      <td>8110020103</td>\n      <td>2024-01-08</td>\n      <td>2024-01-08</td>\n      <td>Yes</td>\n      <td>Yes</td>\n      <td>No</td>\n      <td>Yes</td>\n      <td>Yes</td>\n      <td>NaT</td>\n      <td>NaT</td>\n      <td>NaT</td>\n      <td>0</td>\n      <td>NaN</td>\n    </tr>\n    <tr>\n      <th>19</th>\n      <td>LA</td>\n      <td>12</td>\n      <td>R0487</td>\n      <td>8110080005</td>\n      <td>2024-01-22</td>\n      <td>2024-01-22</td>\n      <td>Yes</td>\n      <td>Yes</td>\n      <td>No</td>\n      <td>Yes</td>\n      <td>Yes</td>\n      <td>NaT</td>\n      <td>NaT</td>\n      <td>NaT</td>\n      <td>0</td>\n      <td>NaN</td>\n    </tr>\n    <tr>\n      <th>34</th>\n      <td>MT</td>\n      <td>15</td>\n      <td>R0298</td>\n      <td>8110020089</td>\n      <td>2023-11-10</td>\n      <td>2023-11-10</td>\n      <td>Yes</td>\n      <td>Yes</td>\n      <td>Yes</td>\n      <td>No</td>\n      <td>Yes</td>\n      <td>NaT</td>\n      <td>NaT</td>\n      <td>NaT</td>\n      <td>0</td>\n      <td>NaN</td>\n    </tr>\n    <tr>\n      <th>35</th>\n      <td>MT</td>\n      <td>16</td>\n      <td>R0592</td>\n      <td>8110050096</td>\n      <td>2024-01-08</td>\n      <td>2024-01-08</td>\n      <td>Yes</td>\n      <td>Yes</td>\n      <td>No</td>\n      <td>Yes</td>\n      <td>Yes</td>\n      <td>NaT</td>\n      <td>NaT</td>\n      <td>NaT</td>\n      <td>0</td>\n      <td>NaN</td>\n    </tr>\n    <tr>\n      <th>36</th>\n      <td>MT</td>\n      <td>17</td>\n      <td>R0126</td>\n      <td>8110020064</td>\n      <td>2024-01-15</td>\n      <td>2024-01-15</td>\n      <td>No</td>\n      <td>No</td>\n      <td>Yes</td>\n      <td>No</td>\n      <td>Yes</td>\n      <td>NaT</td>\n      <td>NaT</td>\n      <td>NaT</td>\n      <td>0</td>\n      <td>NaN</td>\n    </tr>\n    <tr>\n      <th>37</th>\n      <td>MT</td>\n      <td>18</td>\n      <td>R0485</td>\n      <td>8110020108</td>\n      <td>2024-01-15</td>\n      <td>2024-01-15</td>\n      <td>Yes</td>\n      <td>No</td>\n      <td>Yes</td>\n      <td>No</td>\n      <td>Yes</td>\n      <td>NaT</td>\n      <td>NaT</td>\n      <td>NaT</td>\n      <td>0</td>\n      <td>NaN</td>\n    </tr>\n    <tr>\n      <th>38</th>\n      <td>MT</td>\n      <td>19</td>\n      <td>R0107</td>\n      <td>8110050017</td>\n      <td>2024-01-16</td>\n      <td>2024-01-16</td>\n      <td>No</td>\n      <td>No</td>\n      <td>Yes</td>\n      <td>No</td>\n      <td>Yes</td>\n      <td>NaT</td>\n      <td>NaT</td>\n      <td>NaT</td>\n      <td>0</td>\n      <td>NaN</td>\n    </tr>\n    <tr>\n      <th>62</th>\n      <td>SA</td>\n      <td>23</td>\n      <td>R0574</td>\n      <td>8110080007</td>\n      <td>2023-11-10</td>\n      <td>2023-11-10</td>\n      <td>Yes</td>\n      <td>Yes</td>\n      <td>Yes</td>\n      <td>Yes</td>\n      <td>Yes</td>\n      <td>NaT</td>\n      <td>NaT</td>\n      <td>NaT</td>\n      <td>0</td>\n      <td>NaN</td>\n    </tr>\n    <tr>\n      <th>63</th>\n      <td>SA</td>\n      <td>24</td>\n      <td>R0573</td>\n      <td>8110080008</td>\n      <td>2023-11-10</td>\n      <td>2023-11-10</td>\n      <td>No</td>\n      <td>Yes</td>\n      <td>Yes</td>\n      <td>Yes</td>\n      <td>Yes</td>\n      <td>NaT</td>\n      <td>NaT</td>\n      <td>NaT</td>\n      <td>0</td>\n      <td>NaN</td>\n    </tr>\n    <tr>\n      <th>64</th>\n      <td>SA</td>\n      <td>25</td>\n      <td>R0353</td>\n      <td>8110020099</td>\n      <td>2023-11-10</td>\n      <td>2023-11-10</td>\n      <td>No</td>\n      <td>Yes</td>\n      <td>Yes</td>\n      <td>Yes</td>\n      <td>Yes</td>\n      <td>NaT</td>\n      <td>NaT</td>\n      <td>NaT</td>\n      <td>0</td>\n      <td>NaN</td>\n    </tr>\n  </tbody>\n</table>\n</div>"
     },
     "execution_count": 5,
     "metadata": {},
     "output_type": "execute_result"
    }
   ],
   "source": [
    "filter_df_by_date(tdb, ['consult', 'consent', 'interview_s1', 'interview_s2', 'interview_s3'], '2023-11-09', comparison_type='a')"
   ],
   "metadata": {
    "collapsed": false,
    "ExecuteTime": {
     "end_time": "2024-02-21T08:09:45.153911200Z",
     "start_time": "2024-02-21T08:09:45.118381900Z"
    }
   },
   "id": "b0c927ec81a68bc4",
   "execution_count": 5
  },
  {
   "cell_type": "code",
   "outputs": [
    {
     "data": {
      "text/plain": "   cwssp  cwspi    rid        fcid firstname   lastname     cws_s1     cws_s2  \\\n0     LA      1  R0393  8110050086     زهراء       علوش 2023-09-20 2023-09-21   \n1     LA      2  R0497  8110020115       هلا     الحلبي 2023-09-20 2023-09-21   \n2     LA      3  R0367  8110020110     امينة      صباهي 2023-09-20 2023-09-21   \n3     LA      4  R0391  8110050067      رقية  العبد لله 2023-09-20 2023-09-21   \n4     LA      5  R0359  8110050048       رنا     العيسى 2023-09-20 2023-09-21   \n..   ...    ...    ...         ...       ...        ...        ...        ...   \n69    YQ     29  R0290  8110020085     أسماء     العيسى 2023-11-15 2023-11-16   \n70    YQ     30  R0540  8110050091     غزالة      السقا 2023-11-15 2023-11-16   \n71    YQ     31  R0113  8110020060     نبيهة      الحسن 2023-11-15 2023-11-16   \n72    YQ     32  R0300  8110020093      مروة     التريس 2023-11-15 2023-11-16   \n73    YQ     33  R0591  8110050092       نور     العلبي        NaT 2023-11-16   \n\n    cws_total note  \n0           2  NaN  \n1           2  NaN  \n2           2  NaN  \n3           2  NaN  \n4           2  NaN  \n..        ...  ...  \n69          2  NaN  \n70          2  NaN  \n71          2  NaN  \n72          2  NaN  \n73          1  NaN  \n\n[74 rows x 10 columns]",
      "text/html": "<div>\n<style scoped>\n    .dataframe tbody tr th:only-of-type {\n        vertical-align: middle;\n    }\n\n    .dataframe tbody tr th {\n        vertical-align: top;\n    }\n\n    .dataframe thead th {\n        text-align: right;\n    }\n</style>\n<table border=\"1\" class=\"dataframe\">\n  <thead>\n    <tr style=\"text-align: right;\">\n      <th></th>\n      <th>cwssp</th>\n      <th>cwspi</th>\n      <th>rid</th>\n      <th>fcid</th>\n      <th>firstname</th>\n      <th>lastname</th>\n      <th>cws_s1</th>\n      <th>cws_s2</th>\n      <th>cws_total</th>\n      <th>note</th>\n    </tr>\n  </thead>\n  <tbody>\n    <tr>\n      <th>0</th>\n      <td>LA</td>\n      <td>1</td>\n      <td>R0393</td>\n      <td>8110050086</td>\n      <td>زهراء</td>\n      <td>علوش</td>\n      <td>2023-09-20</td>\n      <td>2023-09-21</td>\n      <td>2</td>\n      <td>NaN</td>\n    </tr>\n    <tr>\n      <th>1</th>\n      <td>LA</td>\n      <td>2</td>\n      <td>R0497</td>\n      <td>8110020115</td>\n      <td>هلا</td>\n      <td>الحلبي</td>\n      <td>2023-09-20</td>\n      <td>2023-09-21</td>\n      <td>2</td>\n      <td>NaN</td>\n    </tr>\n    <tr>\n      <th>2</th>\n      <td>LA</td>\n      <td>3</td>\n      <td>R0367</td>\n      <td>8110020110</td>\n      <td>امينة</td>\n      <td>صباهي</td>\n      <td>2023-09-20</td>\n      <td>2023-09-21</td>\n      <td>2</td>\n      <td>NaN</td>\n    </tr>\n    <tr>\n      <th>3</th>\n      <td>LA</td>\n      <td>4</td>\n      <td>R0391</td>\n      <td>8110050067</td>\n      <td>رقية</td>\n      <td>العبد لله</td>\n      <td>2023-09-20</td>\n      <td>2023-09-21</td>\n      <td>2</td>\n      <td>NaN</td>\n    </tr>\n    <tr>\n      <th>4</th>\n      <td>LA</td>\n      <td>5</td>\n      <td>R0359</td>\n      <td>8110050048</td>\n      <td>رنا</td>\n      <td>العيسى</td>\n      <td>2023-09-20</td>\n      <td>2023-09-21</td>\n      <td>2</td>\n      <td>NaN</td>\n    </tr>\n    <tr>\n      <th>...</th>\n      <td>...</td>\n      <td>...</td>\n      <td>...</td>\n      <td>...</td>\n      <td>...</td>\n      <td>...</td>\n      <td>...</td>\n      <td>...</td>\n      <td>...</td>\n      <td>...</td>\n    </tr>\n    <tr>\n      <th>69</th>\n      <td>YQ</td>\n      <td>29</td>\n      <td>R0290</td>\n      <td>8110020085</td>\n      <td>أسماء</td>\n      <td>العيسى</td>\n      <td>2023-11-15</td>\n      <td>2023-11-16</td>\n      <td>2</td>\n      <td>NaN</td>\n    </tr>\n    <tr>\n      <th>70</th>\n      <td>YQ</td>\n      <td>30</td>\n      <td>R0540</td>\n      <td>8110050091</td>\n      <td>غزالة</td>\n      <td>السقا</td>\n      <td>2023-11-15</td>\n      <td>2023-11-16</td>\n      <td>2</td>\n      <td>NaN</td>\n    </tr>\n    <tr>\n      <th>71</th>\n      <td>YQ</td>\n      <td>31</td>\n      <td>R0113</td>\n      <td>8110020060</td>\n      <td>نبيهة</td>\n      <td>الحسن</td>\n      <td>2023-11-15</td>\n      <td>2023-11-16</td>\n      <td>2</td>\n      <td>NaN</td>\n    </tr>\n    <tr>\n      <th>72</th>\n      <td>YQ</td>\n      <td>32</td>\n      <td>R0300</td>\n      <td>8110020093</td>\n      <td>مروة</td>\n      <td>التريس</td>\n      <td>2023-11-15</td>\n      <td>2023-11-16</td>\n      <td>2</td>\n      <td>NaN</td>\n    </tr>\n    <tr>\n      <th>73</th>\n      <td>YQ</td>\n      <td>33</td>\n      <td>R0591</td>\n      <td>8110050092</td>\n      <td>نور</td>\n      <td>العلبي</td>\n      <td>NaT</td>\n      <td>2023-11-16</td>\n      <td>1</td>\n      <td>NaN</td>\n    </tr>\n  </tbody>\n</table>\n<p>74 rows × 10 columns</p>\n</div>"
     },
     "execution_count": 6,
     "metadata": {},
     "output_type": "execute_result"
    }
   ],
   "source": [
    "cws = get_df(cws_path, cws_sheet)\n",
    "cws"
   ],
   "metadata": {
    "collapsed": false,
    "ExecuteTime": {
     "end_time": "2024-02-21T08:17:04.889515600Z",
     "start_time": "2024-02-21T08:17:04.751482500Z"
    }
   },
   "id": "a7cd9e989e8c73af",
   "execution_count": 6
  }
 ],
 "metadata": {
  "kernelspec": {
   "display_name": "Python 3",
   "language": "python",
   "name": "python3"
  },
  "language_info": {
   "codemirror_mode": {
    "name": "ipython",
    "version": 2
   },
   "file_extension": ".py",
   "mimetype": "text/x-python",
   "name": "python",
   "nbconvert_exporter": "python",
   "pygments_lexer": "ipython2",
   "version": "2.7.6"
  }
 },
 "nbformat": 4,
 "nbformat_minor": 5
}
