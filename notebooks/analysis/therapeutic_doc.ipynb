{
 "cells": [
  {
   "cell_type": "code",
   "execution_count": null,
   "id": "initial_id",
   "metadata": {
    "collapsed": true
   },
   "outputs": [],
   "source": [
    "from src.all_in_one import *"
   ]
  },
  {
   "cell_type": "code",
   "outputs": [],
   "source": [
    "threshold = '2023-12-31'\n",
    "_threshold = '2024-03-01'"
   ],
   "metadata": {
    "collapsed": false
   },
   "id": "fc7c5cd2787ae9e1",
   "execution_count": null
  },
  {
   "cell_type": "code",
   "outputs": [],
   "source": [
    "# Screening\n",
    "scr = get_df(scr_path, scr_sheet)\n",
    "unique_scr = scr.drop_duplicates(subset='rid')"
   ],
   "metadata": {
    "collapsed": false
   },
   "id": "4e4fc37abf8d5e4",
   "execution_count": null
  },
  {
   "cell_type": "code",
   "outputs": [],
   "source": [
    "td_dataset = Dataset(config_file, td_sheet)\n",
    "td = get_df(td_path, td_sheet)\n",
    "td = pd.merge(td, unique_scr[['rid', 'sex', 'age']], on='rid', how='left')"
   ],
   "metadata": {
    "collapsed": false
   },
   "id": "1ab2027c74fcc51b",
   "execution_count": null
  },
  {
   "cell_type": "code",
   "outputs": [],
   "source": [
    "# This method gives more accurate results\n",
    "filtered_td = td[\n",
    "    ((td['consult'] > threshold) & (td['consult'] < _threshold)) |\n",
    "    ((td['consent'] > threshold) & (td['consent'] < _threshold)) |\n",
    "    ((td['interview_s1'] > threshold) & (td['interview_s1'] < _threshold)) |\n",
    "    ((td['interview_s2'] > threshold) & (td['interview_s2'] < _threshold)) |\n",
    "    ((td['interview_s3'] > threshold) & (td['interview_s3'] < _threshold)) \n",
    "    ]"
   ],
   "metadata": {
    "collapsed": false
   },
   "id": "9f29fbfa99ae027c",
   "execution_count": null
  },
  {
   "cell_type": "code",
   "outputs": [],
   "source": [
    "filtered_td"
   ],
   "metadata": {
    "collapsed": false
   },
   "id": "aa4c6c2d30b8189d",
   "execution_count": null
  },
  {
   "cell_type": "code",
   "outputs": [],
   "source": [
    "filtered_td['sex'].value_counts()"
   ],
   "metadata": {
    "collapsed": false
   },
   "id": "5cbb6d85e961e43a",
   "execution_count": null
  },
  {
   "cell_type": "code",
   "outputs": [],
   "source": [
    "tdb = td.drop(columns=['firstname', 'lastname'])\n",
    "tdb"
   ],
   "metadata": {
    "collapsed": false
   },
   "id": "7ce2ce14b7262611",
   "execution_count": null
  },
  {
   "cell_type": "code",
   "outputs": [],
   "source": [
    "filter_df_by_date(tdb, ['consult', 'consent', 'interview_s1', 'interview_s2', 'interview_s3'], '2023-11-09', comparison_type='a')"
   ],
   "metadata": {
    "collapsed": false
   },
   "id": "b0c927ec81a68bc4",
   "execution_count": null
  },
  {
   "cell_type": "code",
   "outputs": [],
   "source": [
    "cws = get_df(cws_path, cws_sheet)\n",
    "cws"
   ],
   "metadata": {
    "collapsed": false
   },
   "id": "a7cd9e989e8c73af",
   "execution_count": null
  }
 ],
 "metadata": {
  "kernelspec": {
   "display_name": "Python 3",
   "language": "python",
   "name": "python3"
  },
  "language_info": {
   "codemirror_mode": {
    "name": "ipython",
    "version": 2
   },
   "file_extension": ".py",
   "mimetype": "text/x-python",
   "name": "python",
   "nbconvert_exporter": "python",
   "pygments_lexer": "ipython2",
   "version": "2.7.6"
  }
 },
 "nbformat": 4,
 "nbformat_minor": 5
}
