{
 "cells": [
  {
   "cell_type": "code",
   "execution_count": 1,
   "id": "initial_id",
   "metadata": {
    "collapsed": true,
    "ExecuteTime": {
     "end_time": "2024-05-02T01:01:17.345889Z",
     "start_time": "2024-05-02T01:01:16.327645Z"
    }
   },
   "outputs": [],
   "source": [
    "from src.all_in_one import *"
   ]
  },
  {
   "cell_type": "code",
   "outputs": [],
   "source": [
    "threshold = '2024-01-31'\n",
    "_threshold = '2024-05-01'"
   ],
   "metadata": {
    "collapsed": false,
    "ExecuteTime": {
     "end_time": "2024-05-02T01:01:17.353411Z",
     "start_time": "2024-05-02T01:01:17.348900Z"
    }
   },
   "id": "fc7c5cd2787ae9e1",
   "execution_count": 2
  },
  {
   "cell_type": "code",
   "outputs": [],
   "source": [
    "# Screening\n",
    "scr = get_df(scr_path, scr_sheet)\n",
    "unique_scr = scr.drop_duplicates(subset='rid')"
   ],
   "metadata": {
    "collapsed": false,
    "ExecuteTime": {
     "end_time": "2024-05-02T01:01:17.480965Z",
     "start_time": "2024-05-02T01:01:17.355425Z"
    }
   },
   "id": "4e4fc37abf8d5e4",
   "execution_count": 3
  },
  {
   "cell_type": "code",
   "outputs": [],
   "source": [
    "td_dataset = Dataset(config_file, td_sheet)\n",
    "td = get_df(td_path, td_sheet)\n",
    "td = pd.merge(td, unique_scr[['rid', 'sex', 'age']], on='rid', how='left')"
   ],
   "metadata": {
    "collapsed": false,
    "ExecuteTime": {
     "end_time": "2024-05-02T01:01:17.714820Z",
     "start_time": "2024-05-02T01:01:17.482975Z"
    }
   },
   "id": "1ab2027c74fcc51b",
   "execution_count": 4
  },
  {
   "cell_type": "code",
   "outputs": [
    {
     "data": {
      "text/plain": "['consult', 'consent', 'interview_s1', 'interview_s2', 'interview_s3']"
     },
     "execution_count": 5,
     "metadata": {},
     "output_type": "execute_result"
    }
   ],
   "source": [
    "td_dataset.dvars"
   ],
   "metadata": {
    "collapsed": false,
    "ExecuteTime": {
     "end_time": "2024-05-02T01:01:17.725575Z",
     "start_time": "2024-05-02T01:01:17.715830Z"
    }
   },
   "id": "f583595eb1e54022",
   "execution_count": 5
  },
  {
   "cell_type": "code",
   "outputs": [],
   "source": [
    "sub_td = filter_dataframe_on_date(td, td_dataset.dvars, date1='2024-01-01', filter_type=FilterType.AF)"
   ],
   "metadata": {
    "collapsed": false,
    "ExecuteTime": {
     "end_time": "2024-05-02T01:01:17.737991Z",
     "start_time": "2024-05-02T01:01:17.729585Z"
    }
   },
   "id": "1cf0ff7199eb1b78",
   "execution_count": 6
  },
  {
   "cell_type": "code",
   "outputs": [
    {
     "data": {
      "text/plain": "    tdsp  tdspi    rid        fcid firstname  lastname    consult    consent  \\\n0     IJ      1  R0402  8110020119      عبير       عزو 2023-07-24 2023-07-24   \n1     IJ      2  R0314  8110020091      رقية    الحسين 2023-07-31 2023-07-31   \n2     IJ      3  R0359  8110050048       رنا    العيسى 2023-09-07 2023-09-12   \n3     IJ      4  R0215  8110020080     اميرة    ريحاوي 2023-09-07 2023-09-11   \n4     IJ      5  R0100  8110050077     اميرة     بكران 2023-10-06 2023-10-06   \n..   ...    ...    ...         ...       ...       ...        ...        ...   \n96    YQ     23  R0415  8110020102       قيس  أبو نقطة 2023-05-11 2023-05-11   \n97    YQ     24  R0452  8110050080       مها      شواف 2023-08-23 2023-08-23   \n98    YQ     25  R0534  8110050087      دلال    الجادر 2023-08-24 2023-08-24   \n99    YQ     26  R0378  8110050066     عائشة    الخاطر 2023-08-25 2023-08-25   \n100   YQ     27  R0460  8110090003       سهى     الحسن 2023-10-04 2023-10-04   \n\n    legal_doc individual_use  cws communicat_use advocacy interview_s1  \\\n0          No            Yes  Yes            Yes      Yes   2023-07-08   \n1          No            Yes  Yes            Yes       No   2023-09-07   \n2          No            Yes  Yes            Yes      Yes          NaT   \n3          No            Yes  Yes            Yes      Yes          NaT   \n4          No            Yes  Yes            Yes       No          NaT   \n..        ...            ...  ...            ...      ...          ...   \n96        Yes            Yes   No            Yes      Yes          NaT   \n97        Yes            Yes  Yes             No       No          NaT   \n98        Yes            Yes  Yes            Yes      Yes          NaT   \n99        Yes             No  Yes             No       No          NaT   \n100        No            Yes  Yes            Yes      Yes          NaT   \n\n    interview_s2 interview_s3  interview_total  \\\n0     2023-08-18   2023-09-15                3   \n1     2023-09-15          NaT                2   \n2            NaT          NaT                0   \n3            NaT          NaT                0   \n4            NaT          NaT                0   \n..           ...          ...              ...   \n96           NaT          NaT                0   \n97           NaT          NaT                0   \n98           NaT          NaT                0   \n99           NaT          NaT                0   \n100          NaT          NaT                0   \n\n                                               note     sex  age  \n0                        حضرة ورشة التوثيق الابداعي  Female   43  \n1                        حضرة ورشة التوثيق الابداعي  Female   41  \n2    حضرة ورشة التوثيق الابداعي - حضرت ورشة المناصر  Female   39  \n3    حضرة ورشة التوثيق الابداعي - حضرت ورشة المناصر  Female   40  \n4                        حضرة ورشة التوثيق الابداعي  Female   45  \n..                                              ...     ...  ...  \n96                                              NaN    Male   25  \n97                                              NaN  Female   40  \n98                                              NaN  Female   37  \n99                                       توثيق sjac  Female   38  \n100                                             NaN  Female   27  \n\n[101 rows x 20 columns]",
      "text/html": "<div>\n<style scoped>\n    .dataframe tbody tr th:only-of-type {\n        vertical-align: middle;\n    }\n\n    .dataframe tbody tr th {\n        vertical-align: top;\n    }\n\n    .dataframe thead th {\n        text-align: right;\n    }\n</style>\n<table border=\"1\" class=\"dataframe\">\n  <thead>\n    <tr style=\"text-align: right;\">\n      <th></th>\n      <th>tdsp</th>\n      <th>tdspi</th>\n      <th>rid</th>\n      <th>fcid</th>\n      <th>firstname</th>\n      <th>lastname</th>\n      <th>consult</th>\n      <th>consent</th>\n      <th>legal_doc</th>\n      <th>individual_use</th>\n      <th>cws</th>\n      <th>communicat_use</th>\n      <th>advocacy</th>\n      <th>interview_s1</th>\n      <th>interview_s2</th>\n      <th>interview_s3</th>\n      <th>interview_total</th>\n      <th>note</th>\n      <th>sex</th>\n      <th>age</th>\n    </tr>\n  </thead>\n  <tbody>\n    <tr>\n      <th>0</th>\n      <td>IJ</td>\n      <td>1</td>\n      <td>R0402</td>\n      <td>8110020119</td>\n      <td>عبير</td>\n      <td>عزو</td>\n      <td>2023-07-24</td>\n      <td>2023-07-24</td>\n      <td>No</td>\n      <td>Yes</td>\n      <td>Yes</td>\n      <td>Yes</td>\n      <td>Yes</td>\n      <td>2023-07-08</td>\n      <td>2023-08-18</td>\n      <td>2023-09-15</td>\n      <td>3</td>\n      <td>حضرة ورشة التوثيق الابداعي</td>\n      <td>Female</td>\n      <td>43</td>\n    </tr>\n    <tr>\n      <th>1</th>\n      <td>IJ</td>\n      <td>2</td>\n      <td>R0314</td>\n      <td>8110020091</td>\n      <td>رقية</td>\n      <td>الحسين</td>\n      <td>2023-07-31</td>\n      <td>2023-07-31</td>\n      <td>No</td>\n      <td>Yes</td>\n      <td>Yes</td>\n      <td>Yes</td>\n      <td>No</td>\n      <td>2023-09-07</td>\n      <td>2023-09-15</td>\n      <td>NaT</td>\n      <td>2</td>\n      <td>حضرة ورشة التوثيق الابداعي</td>\n      <td>Female</td>\n      <td>41</td>\n    </tr>\n    <tr>\n      <th>2</th>\n      <td>IJ</td>\n      <td>3</td>\n      <td>R0359</td>\n      <td>8110050048</td>\n      <td>رنا</td>\n      <td>العيسى</td>\n      <td>2023-09-07</td>\n      <td>2023-09-12</td>\n      <td>No</td>\n      <td>Yes</td>\n      <td>Yes</td>\n      <td>Yes</td>\n      <td>Yes</td>\n      <td>NaT</td>\n      <td>NaT</td>\n      <td>NaT</td>\n      <td>0</td>\n      <td>حضرة ورشة التوثيق الابداعي - حضرت ورشة المناصر</td>\n      <td>Female</td>\n      <td>39</td>\n    </tr>\n    <tr>\n      <th>3</th>\n      <td>IJ</td>\n      <td>4</td>\n      <td>R0215</td>\n      <td>8110020080</td>\n      <td>اميرة</td>\n      <td>ريحاوي</td>\n      <td>2023-09-07</td>\n      <td>2023-09-11</td>\n      <td>No</td>\n      <td>Yes</td>\n      <td>Yes</td>\n      <td>Yes</td>\n      <td>Yes</td>\n      <td>NaT</td>\n      <td>NaT</td>\n      <td>NaT</td>\n      <td>0</td>\n      <td>حضرة ورشة التوثيق الابداعي - حضرت ورشة المناصر</td>\n      <td>Female</td>\n      <td>40</td>\n    </tr>\n    <tr>\n      <th>4</th>\n      <td>IJ</td>\n      <td>5</td>\n      <td>R0100</td>\n      <td>8110050077</td>\n      <td>اميرة</td>\n      <td>بكران</td>\n      <td>2023-10-06</td>\n      <td>2023-10-06</td>\n      <td>No</td>\n      <td>Yes</td>\n      <td>Yes</td>\n      <td>Yes</td>\n      <td>No</td>\n      <td>NaT</td>\n      <td>NaT</td>\n      <td>NaT</td>\n      <td>0</td>\n      <td>حضرة ورشة التوثيق الابداعي</td>\n      <td>Female</td>\n      <td>45</td>\n    </tr>\n    <tr>\n      <th>...</th>\n      <td>...</td>\n      <td>...</td>\n      <td>...</td>\n      <td>...</td>\n      <td>...</td>\n      <td>...</td>\n      <td>...</td>\n      <td>...</td>\n      <td>...</td>\n      <td>...</td>\n      <td>...</td>\n      <td>...</td>\n      <td>...</td>\n      <td>...</td>\n      <td>...</td>\n      <td>...</td>\n      <td>...</td>\n      <td>...</td>\n      <td>...</td>\n      <td>...</td>\n    </tr>\n    <tr>\n      <th>96</th>\n      <td>YQ</td>\n      <td>23</td>\n      <td>R0415</td>\n      <td>8110020102</td>\n      <td>قيس</td>\n      <td>أبو نقطة</td>\n      <td>2023-05-11</td>\n      <td>2023-05-11</td>\n      <td>Yes</td>\n      <td>Yes</td>\n      <td>No</td>\n      <td>Yes</td>\n      <td>Yes</td>\n      <td>NaT</td>\n      <td>NaT</td>\n      <td>NaT</td>\n      <td>0</td>\n      <td>NaN</td>\n      <td>Male</td>\n      <td>25</td>\n    </tr>\n    <tr>\n      <th>97</th>\n      <td>YQ</td>\n      <td>24</td>\n      <td>R0452</td>\n      <td>8110050080</td>\n      <td>مها</td>\n      <td>شواف</td>\n      <td>2023-08-23</td>\n      <td>2023-08-23</td>\n      <td>Yes</td>\n      <td>Yes</td>\n      <td>Yes</td>\n      <td>No</td>\n      <td>No</td>\n      <td>NaT</td>\n      <td>NaT</td>\n      <td>NaT</td>\n      <td>0</td>\n      <td>NaN</td>\n      <td>Female</td>\n      <td>40</td>\n    </tr>\n    <tr>\n      <th>98</th>\n      <td>YQ</td>\n      <td>25</td>\n      <td>R0534</td>\n      <td>8110050087</td>\n      <td>دلال</td>\n      <td>الجادر</td>\n      <td>2023-08-24</td>\n      <td>2023-08-24</td>\n      <td>Yes</td>\n      <td>Yes</td>\n      <td>Yes</td>\n      <td>Yes</td>\n      <td>Yes</td>\n      <td>NaT</td>\n      <td>NaT</td>\n      <td>NaT</td>\n      <td>0</td>\n      <td>NaN</td>\n      <td>Female</td>\n      <td>37</td>\n    </tr>\n    <tr>\n      <th>99</th>\n      <td>YQ</td>\n      <td>26</td>\n      <td>R0378</td>\n      <td>8110050066</td>\n      <td>عائشة</td>\n      <td>الخاطر</td>\n      <td>2023-08-25</td>\n      <td>2023-08-25</td>\n      <td>Yes</td>\n      <td>No</td>\n      <td>Yes</td>\n      <td>No</td>\n      <td>No</td>\n      <td>NaT</td>\n      <td>NaT</td>\n      <td>NaT</td>\n      <td>0</td>\n      <td>توثيق sjac</td>\n      <td>Female</td>\n      <td>38</td>\n    </tr>\n    <tr>\n      <th>100</th>\n      <td>YQ</td>\n      <td>27</td>\n      <td>R0460</td>\n      <td>8110090003</td>\n      <td>سهى</td>\n      <td>الحسن</td>\n      <td>2023-10-04</td>\n      <td>2023-10-04</td>\n      <td>No</td>\n      <td>Yes</td>\n      <td>Yes</td>\n      <td>Yes</td>\n      <td>Yes</td>\n      <td>NaT</td>\n      <td>NaT</td>\n      <td>NaT</td>\n      <td>0</td>\n      <td>NaN</td>\n      <td>Female</td>\n      <td>27</td>\n    </tr>\n  </tbody>\n</table>\n<p>101 rows × 20 columns</p>\n</div>"
     },
     "execution_count": 7,
     "metadata": {},
     "output_type": "execute_result"
    }
   ],
   "source": [
    "td"
   ],
   "metadata": {
    "collapsed": false,
    "ExecuteTime": {
     "end_time": "2024-05-02T01:01:17.764786Z",
     "start_time": "2024-05-02T01:01:17.740001Z"
    }
   },
   "id": "7841c9b2017b0b84",
   "execution_count": 7
  },
  {
   "cell_type": "code",
   "outputs": [
    {
     "data": {
      "text/plain": "   cwssp  cwspi    rid        fcid firstname   lastname     cws_s1     cws_s2  \\\n0     LA      1  R0393  8110050086     زهراء       علوش 2023-09-20 2023-09-21   \n1     LA      2  R0497  8110020115       هلا     الحلبي 2023-09-20 2023-09-21   \n2     LA      3  R0367  8110020110     امينة      صباهي 2023-09-20 2023-09-21   \n3     LA      4  R0391  8110050067      رقية  العبد لله 2023-09-20 2023-09-21   \n4     LA      5  R0359  8110050048       رنا     العيسى 2023-09-20 2023-09-21   \n..   ...    ...    ...         ...       ...        ...        ...        ...   \n76    YQ     33  R0591  8110050092       نور     العلبي        NaT 2023-11-16   \n77    YQ     34  R0183  8110020101      رفيق       خنوس 2024-04-24 2024-04-25   \n78    YQ     35  R0486  8110010103     زكريا       هدلة 2024-04-24 2024-04-25   \n79    YQ     36  R0337  8110020100      أيمن       دعاس 2024-04-24 2024-04-25   \n80    YQ     37  R0120  8110020106       رعد       دندل 2024-04-24 2024-04-25   \n\n    cws_total note  \n0           2  NaN  \n1           2  NaN  \n2           2  NaN  \n3           2  NaN  \n4           2  NaN  \n..        ...  ...  \n76          1  NaN  \n77          2  NaN  \n78          2  NaN  \n79          2  NaN  \n80          2  NaN  \n\n[81 rows x 10 columns]",
      "text/html": "<div>\n<style scoped>\n    .dataframe tbody tr th:only-of-type {\n        vertical-align: middle;\n    }\n\n    .dataframe tbody tr th {\n        vertical-align: top;\n    }\n\n    .dataframe thead th {\n        text-align: right;\n    }\n</style>\n<table border=\"1\" class=\"dataframe\">\n  <thead>\n    <tr style=\"text-align: right;\">\n      <th></th>\n      <th>cwssp</th>\n      <th>cwspi</th>\n      <th>rid</th>\n      <th>fcid</th>\n      <th>firstname</th>\n      <th>lastname</th>\n      <th>cws_s1</th>\n      <th>cws_s2</th>\n      <th>cws_total</th>\n      <th>note</th>\n    </tr>\n  </thead>\n  <tbody>\n    <tr>\n      <th>0</th>\n      <td>LA</td>\n      <td>1</td>\n      <td>R0393</td>\n      <td>8110050086</td>\n      <td>زهراء</td>\n      <td>علوش</td>\n      <td>2023-09-20</td>\n      <td>2023-09-21</td>\n      <td>2</td>\n      <td>NaN</td>\n    </tr>\n    <tr>\n      <th>1</th>\n      <td>LA</td>\n      <td>2</td>\n      <td>R0497</td>\n      <td>8110020115</td>\n      <td>هلا</td>\n      <td>الحلبي</td>\n      <td>2023-09-20</td>\n      <td>2023-09-21</td>\n      <td>2</td>\n      <td>NaN</td>\n    </tr>\n    <tr>\n      <th>2</th>\n      <td>LA</td>\n      <td>3</td>\n      <td>R0367</td>\n      <td>8110020110</td>\n      <td>امينة</td>\n      <td>صباهي</td>\n      <td>2023-09-20</td>\n      <td>2023-09-21</td>\n      <td>2</td>\n      <td>NaN</td>\n    </tr>\n    <tr>\n      <th>3</th>\n      <td>LA</td>\n      <td>4</td>\n      <td>R0391</td>\n      <td>8110050067</td>\n      <td>رقية</td>\n      <td>العبد لله</td>\n      <td>2023-09-20</td>\n      <td>2023-09-21</td>\n      <td>2</td>\n      <td>NaN</td>\n    </tr>\n    <tr>\n      <th>4</th>\n      <td>LA</td>\n      <td>5</td>\n      <td>R0359</td>\n      <td>8110050048</td>\n      <td>رنا</td>\n      <td>العيسى</td>\n      <td>2023-09-20</td>\n      <td>2023-09-21</td>\n      <td>2</td>\n      <td>NaN</td>\n    </tr>\n    <tr>\n      <th>...</th>\n      <td>...</td>\n      <td>...</td>\n      <td>...</td>\n      <td>...</td>\n      <td>...</td>\n      <td>...</td>\n      <td>...</td>\n      <td>...</td>\n      <td>...</td>\n      <td>...</td>\n    </tr>\n    <tr>\n      <th>76</th>\n      <td>YQ</td>\n      <td>33</td>\n      <td>R0591</td>\n      <td>8110050092</td>\n      <td>نور</td>\n      <td>العلبي</td>\n      <td>NaT</td>\n      <td>2023-11-16</td>\n      <td>1</td>\n      <td>NaN</td>\n    </tr>\n    <tr>\n      <th>77</th>\n      <td>YQ</td>\n      <td>34</td>\n      <td>R0183</td>\n      <td>8110020101</td>\n      <td>رفيق</td>\n      <td>خنوس</td>\n      <td>2024-04-24</td>\n      <td>2024-04-25</td>\n      <td>2</td>\n      <td>NaN</td>\n    </tr>\n    <tr>\n      <th>78</th>\n      <td>YQ</td>\n      <td>35</td>\n      <td>R0486</td>\n      <td>8110010103</td>\n      <td>زكريا</td>\n      <td>هدلة</td>\n      <td>2024-04-24</td>\n      <td>2024-04-25</td>\n      <td>2</td>\n      <td>NaN</td>\n    </tr>\n    <tr>\n      <th>79</th>\n      <td>YQ</td>\n      <td>36</td>\n      <td>R0337</td>\n      <td>8110020100</td>\n      <td>أيمن</td>\n      <td>دعاس</td>\n      <td>2024-04-24</td>\n      <td>2024-04-25</td>\n      <td>2</td>\n      <td>NaN</td>\n    </tr>\n    <tr>\n      <th>80</th>\n      <td>YQ</td>\n      <td>37</td>\n      <td>R0120</td>\n      <td>8110020106</td>\n      <td>رعد</td>\n      <td>دندل</td>\n      <td>2024-04-24</td>\n      <td>2024-04-25</td>\n      <td>2</td>\n      <td>NaN</td>\n    </tr>\n  </tbody>\n</table>\n<p>81 rows × 10 columns</p>\n</div>"
     },
     "execution_count": 8,
     "metadata": {},
     "output_type": "execute_result"
    }
   ],
   "source": [
    "cws = get_df(cws_path, cws_sheet)\n",
    "cws"
   ],
   "metadata": {
    "collapsed": false,
    "ExecuteTime": {
     "end_time": "2024-05-02T01:01:17.890966Z",
     "start_time": "2024-05-02T01:01:17.766803Z"
    }
   },
   "id": "a7cd9e989e8c73af",
   "execution_count": 8
  },
  {
   "cell_type": "code",
   "outputs": [
    {
     "data": {
      "text/plain": "   cwssp    rid        fcid     cws_s1     cws_s2  cws_total\n0     LA  R0393  8110050086 2023-09-20 2023-09-21          2\n1     LA  R0497  8110020115 2023-09-20 2023-09-21          2\n2     LA  R0367  8110020110 2023-09-20 2023-09-21          2\n3     LA  R0391  8110050067 2023-09-20 2023-09-21          2\n4     LA  R0359  8110050048 2023-09-20 2023-09-21          2\n..   ...    ...         ...        ...        ...        ...\n76    YQ  R0591  8110050092        NaT 2023-11-16          1\n77    YQ  R0183  8110020101 2024-04-24 2024-04-25          2\n78    YQ  R0486  8110010103 2024-04-24 2024-04-25          2\n79    YQ  R0337  8110020100 2024-04-24 2024-04-25          2\n80    YQ  R0120  8110020106 2024-04-24 2024-04-25          2\n\n[81 rows x 6 columns]",
      "text/html": "<div>\n<style scoped>\n    .dataframe tbody tr th:only-of-type {\n        vertical-align: middle;\n    }\n\n    .dataframe tbody tr th {\n        vertical-align: top;\n    }\n\n    .dataframe thead th {\n        text-align: right;\n    }\n</style>\n<table border=\"1\" class=\"dataframe\">\n  <thead>\n    <tr style=\"text-align: right;\">\n      <th></th>\n      <th>cwssp</th>\n      <th>rid</th>\n      <th>fcid</th>\n      <th>cws_s1</th>\n      <th>cws_s2</th>\n      <th>cws_total</th>\n    </tr>\n  </thead>\n  <tbody>\n    <tr>\n      <th>0</th>\n      <td>LA</td>\n      <td>R0393</td>\n      <td>8110050086</td>\n      <td>2023-09-20</td>\n      <td>2023-09-21</td>\n      <td>2</td>\n    </tr>\n    <tr>\n      <th>1</th>\n      <td>LA</td>\n      <td>R0497</td>\n      <td>8110020115</td>\n      <td>2023-09-20</td>\n      <td>2023-09-21</td>\n      <td>2</td>\n    </tr>\n    <tr>\n      <th>2</th>\n      <td>LA</td>\n      <td>R0367</td>\n      <td>8110020110</td>\n      <td>2023-09-20</td>\n      <td>2023-09-21</td>\n      <td>2</td>\n    </tr>\n    <tr>\n      <th>3</th>\n      <td>LA</td>\n      <td>R0391</td>\n      <td>8110050067</td>\n      <td>2023-09-20</td>\n      <td>2023-09-21</td>\n      <td>2</td>\n    </tr>\n    <tr>\n      <th>4</th>\n      <td>LA</td>\n      <td>R0359</td>\n      <td>8110050048</td>\n      <td>2023-09-20</td>\n      <td>2023-09-21</td>\n      <td>2</td>\n    </tr>\n    <tr>\n      <th>...</th>\n      <td>...</td>\n      <td>...</td>\n      <td>...</td>\n      <td>...</td>\n      <td>...</td>\n      <td>...</td>\n    </tr>\n    <tr>\n      <th>76</th>\n      <td>YQ</td>\n      <td>R0591</td>\n      <td>8110050092</td>\n      <td>NaT</td>\n      <td>2023-11-16</td>\n      <td>1</td>\n    </tr>\n    <tr>\n      <th>77</th>\n      <td>YQ</td>\n      <td>R0183</td>\n      <td>8110020101</td>\n      <td>2024-04-24</td>\n      <td>2024-04-25</td>\n      <td>2</td>\n    </tr>\n    <tr>\n      <th>78</th>\n      <td>YQ</td>\n      <td>R0486</td>\n      <td>8110010103</td>\n      <td>2024-04-24</td>\n      <td>2024-04-25</td>\n      <td>2</td>\n    </tr>\n    <tr>\n      <th>79</th>\n      <td>YQ</td>\n      <td>R0337</td>\n      <td>8110020100</td>\n      <td>2024-04-24</td>\n      <td>2024-04-25</td>\n      <td>2</td>\n    </tr>\n    <tr>\n      <th>80</th>\n      <td>YQ</td>\n      <td>R0120</td>\n      <td>8110020106</td>\n      <td>2024-04-24</td>\n      <td>2024-04-25</td>\n      <td>2</td>\n    </tr>\n  </tbody>\n</table>\n<p>81 rows × 6 columns</p>\n</div>"
     },
     "execution_count": 9,
     "metadata": {},
     "output_type": "execute_result"
    }
   ],
   "source": [
    "cws[['cwssp', 'rid', 'fcid', 'cws_s1', 'cws_s2', 'cws_total']]"
   ],
   "metadata": {
    "collapsed": false,
    "ExecuteTime": {
     "end_time": "2024-05-02T01:01:17.906835Z",
     "start_time": "2024-05-02T01:01:17.892977Z"
    }
   },
   "id": "e56a4693e1d1e22c",
   "execution_count": 9
  },
  {
   "cell_type": "code",
   "outputs": [],
   "source": [],
   "metadata": {
    "collapsed": false
   },
   "id": "fae8127599967a29"
  }
 ],
 "metadata": {
  "kernelspec": {
   "display_name": "Python 3",
   "language": "python",
   "name": "python3"
  },
  "language_info": {
   "codemirror_mode": {
    "name": "ipython",
    "version": 2
   },
   "file_extension": ".py",
   "mimetype": "text/x-python",
   "name": "python",
   "nbconvert_exporter": "python",
   "pygments_lexer": "ipython2",
   "version": "2.7.6"
  }
 },
 "nbformat": 5,
 "nbformat_minor": 5
}
