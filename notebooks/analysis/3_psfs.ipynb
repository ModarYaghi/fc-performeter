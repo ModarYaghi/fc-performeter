{
 "cells": [
  {
   "cell_type": "code",
   "id": "initial_id",
   "metadata": {
    "collapsed": true
   },
   "source": [
    "from src.all_in_one import *\n",
    "from src.analysis_functions import *"
   ],
   "execution_count": null,
   "outputs": []
  },
  {
   "cell_type": "code",
   "source": [
    "# Screening\n",
    "scr = get_df(scr_path, scr_sheet)\n",
    "unique_scr = scr.drop_duplicates(subset='rid')"
   ],
   "metadata": {
    "collapsed": false
   },
   "id": "bf8523517d73b1d5",
   "execution_count": null,
   "outputs": []
  },
  {
   "metadata": {},
   "cell_type": "code",
   "source": "unique_scr",
   "id": "4237629697ec3885",
   "execution_count": null,
   "outputs": []
  },
  {
   "cell_type": "code",
   "source": [
    "psfs_dataset = Dataset(config_file, psfs_sheet)\n",
    "psfs = get_df(psfs_path, psfs_sheet)\n",
    "unique_psfs = psfs.drop_duplicates(subset='rid')\n",
    "# psfs = pd.merge(psfs, unique_scr[['rid', 'sex', 'age', 'sc_s1']], on='rid', how='left')\n",
    "filtered_psfs = filter_dataframe_on_date(psfs, psfs_dataset.dvars, start, end, FilterType.IN)"
   ],
   "metadata": {
    "collapsed": false
   },
   "id": "2b731a566e9cd92e",
   "execution_count": null,
   "outputs": []
  },
  {
   "metadata": {},
   "cell_type": "code",
   "source": "psfs",
   "id": "9c7be979b2da5683",
   "execution_count": null,
   "outputs": []
  },
  {
   "cell_type": "code",
   "source": [
    "# filtered_psfs.to_clipboard(index=False)\n",
    "# filtered_psfs"
   ],
   "metadata": {
    "collapsed": false
   },
   "id": "e6ad1ef4ff43357b",
   "execution_count": null,
   "outputs": []
  },
  {
   "cell_type": "code",
   "source": "# filtered_psfs['sex'].value_counts()",
   "metadata": {
    "collapsed": false
   },
   "id": "b4e87d6406c01e6b",
   "execution_count": null,
   "outputs": []
  },
  {
   "cell_type": "code",
   "source": "# categorize_and_count_ages(filtered_psfs['age'])",
   "metadata": {
    "collapsed": false
   },
   "id": "219f78b608fbdc3d",
   "execution_count": null,
   "outputs": []
  },
  {
   "cell_type": "code",
   "source": [],
   "metadata": {
    "collapsed": false
   },
   "id": "a49e534ceb75b265",
   "execution_count": null,
   "outputs": []
  }
 ],
 "metadata": {
  "kernelspec": {
   "display_name": "Python 3",
   "language": "python",
   "name": "python3"
  },
  "language_info": {
   "codemirror_mode": {
    "name": "ipython",
    "version": 2
   },
   "file_extension": ".py",
   "mimetype": "text/x-python",
   "name": "python",
   "nbconvert_exporter": "python",
   "pygments_lexer": "ipython2",
   "version": "2.7.6"
  }
 },
 "nbformat": 4,
 "nbformat_minor": 5
}
