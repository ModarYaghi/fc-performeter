{
 "cells": [
  {
   "cell_type": "code",
   "execution_count": 1,
   "id": "initial_id",
   "metadata": {
    "ExecuteTime": {
     "end_time": "2024-10-18T14:45:57.911554Z",
     "start_time": "2024-10-18T14:45:54.890563Z"
    },
    "collapsed": true
   },
   "outputs": [
    {
     "name": "stderr",
     "output_type": "stream",
     "text": [
      "2024-10-21 05:47:14,028 - INFO - Processed 711 records so far.\n",
      "2024-10-21 05:47:14,999 - INFO - Processed 328 records so far.\n"
     ]
    }
   ],
   "source": [
    "from src.all_in_one import *\n",
    "from src.basic_variables import *\n",
    "from src.analysis_functions import *"
   ]
  },
  {
   "cell_type": "code",
   "execution_count": null,
   "id": "896c9d00",
   "metadata": {},
   "outputs": [],
   "source": [
    "import sys\n",
    "\n",
    "print(sys.path)"
   ]
  },
  {
   "cell_type": "code",
   "execution_count": null,
   "id": "ecb696d93dbdfd23",
   "metadata": {
    "ExecuteTime": {
     "end_time": "2024-10-18T14:49:17.242276Z",
     "start_time": "2024-10-18T14:49:17.043608Z"
    }
   },
   "outputs": [],
   "source": [
    "ptfua_file = path_manager.get_data_file(Category.PT, PTFile.PTFU)\n",
    "ptfua = get_df(ptfua_file.path, ptfua_file.sheet)\n",
    "ptfua_dataset = Dataset(config_file, ptfua_file.sheet)\n",
    "filtered_ptfua = filter_dataframe_on_date(ptfua, ptfua_dataset.dvars, START, END)"
   ]
  },
  {
   "cell_type": "code",
   "execution_count": null,
   "id": "b0a5ca78fa3a8a6",
   "metadata": {
    "ExecuteTime": {
     "end_time": "2024-10-18T15:06:36.168980Z",
     "start_time": "2024-10-18T15:06:36.161717Z"
    }
   },
   "outputs": [],
   "source": [
    "filtered_ptfua.shape[0]"
   ]
  },
  {
   "cell_type": "markdown",
   "id": "ede4fb168005fc7e",
   "metadata": {},
   "source": [
    "## Counting PT Follow-up Sessions/Clients"
   ]
  },
  {
   "cell_type": "code",
   "execution_count": 4,
   "id": "3300809f0d140d79",
   "metadata": {
    "ExecuteTime": {
     "end_time": "2024-10-18T14:50:35.438706Z",
     "start_time": "2024-10-18T14:50:35.424324Z"
    }
   },
   "outputs": [],
   "source": [
    "f_ptfua_3m = filter_dataframe_on_date(ptfua, \"fu_3m\", START, END)\n",
    "f_ptfua_6m = filter_dataframe_on_date(ptfua, \"fu_6m\", START, END)\n",
    "f_ptfua_12m = filter_dataframe_on_date(ptfua, \"fu_12m\", START, END)"
   ]
  },
  {
   "cell_type": "code",
   "execution_count": null,
   "id": "5a97d7295821bbc6",
   "metadata": {
    "ExecuteTime": {
     "end_time": "2024-10-18T15:04:21.797819Z",
     "start_time": "2024-10-18T15:04:21.785806Z"
    }
   },
   "outputs": [],
   "source": [
    "# f_ptfua_3m\n",
    "# f_ptfua_6m\n",
    "# f_ptfua_12m\n",
    "f_ptfua_3m + f_ptfua_6m + f_ptfua_12m"
   ]
  },
  {
   "cell_type": "code",
   "execution_count": null,
   "id": "7c8a60c619ae50ad",
   "metadata": {},
   "outputs": [],
   "source": []
  },
  {
   "cell_type": "markdown",
   "id": "a3f845c099e0b514",
   "metadata": {},
   "source": [
    "## Follow-up Beneficiaries Sex and Age Groups"
   ]
  },
  {
   "cell_type": "code",
   "execution_count": null,
   "id": "ffd8604caec6b2ef",
   "metadata": {
    "ExecuteTime": {
     "end_time": "2024-10-18T14:30:49.148875Z",
     "start_time": "2024-10-18T14:30:49.132484Z"
    }
   },
   "outputs": [],
   "source": [
    "f_fua = pd.merge(filtered_fua, rebuilt_scr[[\"rid\", \"sex\", \"age\"]], on=\"rid\", how=\"left\")\n",
    "f_fua[[\"rid\", \"fcid\", \"sex\", \"age\"]]"
   ]
  },
  {
   "cell_type": "code",
   "execution_count": null,
   "id": "ecfc5d957551c2f2",
   "metadata": {
    "ExecuteTime": {
     "end_time": "2024-10-18T14:31:03.567808Z",
     "start_time": "2024-10-18T14:31:03.559290Z"
    },
    "collapsed": false
   },
   "outputs": [],
   "source": [
    "f_fua[\"sex\"].value_counts()"
   ]
  },
  {
   "cell_type": "code",
   "execution_count": null,
   "id": "877d310ce3d8bf1d",
   "metadata": {
    "ExecuteTime": {
     "end_time": "2024-10-18T14:38:33.719268Z",
     "start_time": "2024-10-18T14:38:33.707548Z"
    },
    "collapsed": false
   },
   "outputs": [],
   "source": [
    "categorize_and_count_ages(f_fua[\"age\"])"
   ]
  },
  {
   "cell_type": "code",
   "execution_count": null,
   "id": "42f995c03dd1af07",
   "metadata": {
    "collapsed": false
   },
   "outputs": [],
   "source": []
  },
  {
   "cell_type": "code",
   "execution_count": null,
   "id": "ed03ecab056996ee",
   "metadata": {
    "collapsed": false
   },
   "outputs": [],
   "source": []
  }
 ],
 "metadata": {
  "kernelspec": {
   "display_name": "Python 3",
   "language": "python",
   "name": "python3"
  },
  "language_info": {
   "codemirror_mode": {
    "name": "ipython",
    "version": 3
   },
   "file_extension": ".py",
   "mimetype": "text/x-python",
   "name": "python",
   "nbconvert_exporter": "python",
   "pygments_lexer": "ipython3",
   "version": "3.11.10"
  }
 },
 "nbformat": 4,
 "nbformat_minor": 5
}
