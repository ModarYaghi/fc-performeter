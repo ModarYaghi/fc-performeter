{
 "cells": [
  {
   "cell_type": "code",
   "id": "initial_id",
   "metadata": {
    "collapsed": true,
    "ExecuteTime": {
     "end_time": "2024-10-18T14:45:57.911554Z",
     "start_time": "2024-10-18T14:45:54.890563Z"
    }
   },
   "source": [
    "from src.all_in_one import *\n",
    "from src.basic_variables import *\n",
    "from src.analysis_functions import *"
   ],
   "outputs": [
    {
     "name": "stderr",
     "output_type": "stream",
     "text": [
      "2024-10-18 17:45:57,078 - INFO - Processed 711 records so far.\n",
      "2024-10-18 17:45:57,907 - INFO - Processed 328 records so far.\n"
     ]
    }
   ],
   "execution_count": 1
  },
  {
   "metadata": {},
   "cell_type": "markdown",
   "source": [
    "\n",
    "## Initiate PT Follow-up Assessment Dataset\n"
   ],
   "id": "3ad742c3437255b8"
  },
  {
   "metadata": {
    "ExecuteTime": {
     "end_time": "2024-10-18T14:49:17.242276Z",
     "start_time": "2024-10-18T14:49:17.043608Z"
    }
   },
   "cell_type": "code",
   "source": [
    "ptfua_file = path_manager.get_data_file(Category.PT, PTFile.PTFU)\n",
    "ptfua = get_df(ptfua_file.path, ptfua_file.sheet)\n",
    "ptfua_dataset = Dataset(config_file, ptfua_file.sheet)\n",
    "filtered_ptfua = filter_dataframe_on_date(ptfua, ptfua_dataset.dvars, START, END)"
   ],
   "id": "ecb696d93dbdfd23",
   "outputs": [],
   "execution_count": 2
  },
  {
   "metadata": {
    "ExecuteTime": {
     "end_time": "2024-10-18T15:06:36.168980Z",
     "start_time": "2024-10-18T15:06:36.161717Z"
    }
   },
   "cell_type": "code",
   "source": "filtered_ptfua.shape[0]",
   "id": "b0a5ca78fa3a8a6",
   "outputs": [
    {
     "data": {
      "text/plain": [
       "80"
      ]
     },
     "execution_count": 10,
     "metadata": {},
     "output_type": "execute_result"
    }
   ],
   "execution_count": 10
  },
  {
   "metadata": {},
   "cell_type": "markdown",
   "source": "## Counting PT Follow-up Sessions/Clients",
   "id": "ede4fb168005fc7e"
  },
  {
   "metadata": {
    "ExecuteTime": {
     "end_time": "2024-10-18T14:50:35.438706Z",
     "start_time": "2024-10-18T14:50:35.424324Z"
    }
   },
   "cell_type": "code",
   "source": [
    "f_ptfua_3m = filter_dataframe_on_date(ptfua, 'fu_3m', START, END)\n",
    "f_ptfua_6m = filter_dataframe_on_date(ptfua, 'fu_6m', START, END)\n",
    "f_ptfua_12m = filter_dataframe_on_date(ptfua, 'fu_12m', START, END)"
   ],
   "id": "3300809f0d140d79",
   "outputs": [],
   "execution_count": 4
  },
  {
   "metadata": {
    "ExecuteTime": {
     "end_time": "2024-10-18T15:04:21.797819Z",
     "start_time": "2024-10-18T15:04:21.785806Z"
    }
   },
   "cell_type": "code",
   "source": [
    "# f_ptfua_3m\n",
    "# f_ptfua_6m\n",
    "# f_ptfua_12m\n",
    "f_ptfua_3m + f_ptfua_6m + f_ptfua_12m"
   ],
   "id": "5a97d7295821bbc6",
   "outputs": [
    {
     "data": {
      "text/plain": [
       "fuasp             110\n",
       "fuspi             110\n",
       "rid               110\n",
       "fcid              110\n",
       "firstname         110\n",
       "lastname          110\n",
       "fu_3m             109\n",
       "fu_6m              89\n",
       "fu_12m             28\n",
       "status            104\n",
       "closure_reason      0\n",
       "note               58\n",
       "dtype: int64"
      ]
     },
     "execution_count": 9,
     "metadata": {},
     "output_type": "execute_result"
    }
   ],
   "execution_count": 9
  },
  {
   "metadata": {},
   "cell_type": "code",
   "outputs": [],
   "execution_count": null,
   "source": "",
   "id": "7c8a60c619ae50ad"
  },
  {
   "metadata": {},
   "cell_type": "markdown",
   "source": "## Follow-up Beneficiaries Sex and Age Groups",
   "id": "a3f845c099e0b514"
  },
  {
   "metadata": {
    "ExecuteTime": {
     "end_time": "2024-10-18T14:30:49.148875Z",
     "start_time": "2024-10-18T14:30:49.132484Z"
    }
   },
   "cell_type": "code",
   "source": [
    "f_fua = pd.merge(filtered_fua, rebuilt_scr[['rid', 'sex', 'age']], on='rid', how='left')\n",
    "f_fua[['rid', 'fcid', 'sex', 'age']]"
   ],
   "id": "ffd8604caec6b2ef",
   "outputs": [
    {
     "data": {
      "text/plain": [
       "      rid        fcid     sex  age\n",
       "0   R0571  8110080004  Female   25\n",
       "1   R0451  8110090005  Female   30\n",
       "2   R0460  8110090003  Female   27\n",
       "3   R0574  8110080007  Female   43\n",
       "4   R0573  8110080008  Female   41\n",
       "..    ...         ...     ...  ...\n",
       "64  R0905  8110050104    Male   44\n",
       "65  R0326  8110020129  Female   32\n",
       "66  R1253  8110020132  Female   38\n",
       "67  R0478  8110080010  Female   31\n",
       "68  R0869  8110080021  Female   40\n",
       "\n",
       "[69 rows x 4 columns]"
      ],
      "text/html": [
       "<div>\n",
       "<style scoped>\n",
       "    .dataframe tbody tr th:only-of-type {\n",
       "        vertical-align: middle;\n",
       "    }\n",
       "\n",
       "    .dataframe tbody tr th {\n",
       "        vertical-align: top;\n",
       "    }\n",
       "\n",
       "    .dataframe thead th {\n",
       "        text-align: right;\n",
       "    }\n",
       "</style>\n",
       "<table border=\"1\" class=\"dataframe\">\n",
       "  <thead>\n",
       "    <tr style=\"text-align: right;\">\n",
       "      <th></th>\n",
       "      <th>rid</th>\n",
       "      <th>fcid</th>\n",
       "      <th>sex</th>\n",
       "      <th>age</th>\n",
       "    </tr>\n",
       "  </thead>\n",
       "  <tbody>\n",
       "    <tr>\n",
       "      <th>0</th>\n",
       "      <td>R0571</td>\n",
       "      <td>8110080004</td>\n",
       "      <td>Female</td>\n",
       "      <td>25</td>\n",
       "    </tr>\n",
       "    <tr>\n",
       "      <th>1</th>\n",
       "      <td>R0451</td>\n",
       "      <td>8110090005</td>\n",
       "      <td>Female</td>\n",
       "      <td>30</td>\n",
       "    </tr>\n",
       "    <tr>\n",
       "      <th>2</th>\n",
       "      <td>R0460</td>\n",
       "      <td>8110090003</td>\n",
       "      <td>Female</td>\n",
       "      <td>27</td>\n",
       "    </tr>\n",
       "    <tr>\n",
       "      <th>3</th>\n",
       "      <td>R0574</td>\n",
       "      <td>8110080007</td>\n",
       "      <td>Female</td>\n",
       "      <td>43</td>\n",
       "    </tr>\n",
       "    <tr>\n",
       "      <th>4</th>\n",
       "      <td>R0573</td>\n",
       "      <td>8110080008</td>\n",
       "      <td>Female</td>\n",
       "      <td>41</td>\n",
       "    </tr>\n",
       "    <tr>\n",
       "      <th>...</th>\n",
       "      <td>...</td>\n",
       "      <td>...</td>\n",
       "      <td>...</td>\n",
       "      <td>...</td>\n",
       "    </tr>\n",
       "    <tr>\n",
       "      <th>64</th>\n",
       "      <td>R0905</td>\n",
       "      <td>8110050104</td>\n",
       "      <td>Male</td>\n",
       "      <td>44</td>\n",
       "    </tr>\n",
       "    <tr>\n",
       "      <th>65</th>\n",
       "      <td>R0326</td>\n",
       "      <td>8110020129</td>\n",
       "      <td>Female</td>\n",
       "      <td>32</td>\n",
       "    </tr>\n",
       "    <tr>\n",
       "      <th>66</th>\n",
       "      <td>R1253</td>\n",
       "      <td>8110020132</td>\n",
       "      <td>Female</td>\n",
       "      <td>38</td>\n",
       "    </tr>\n",
       "    <tr>\n",
       "      <th>67</th>\n",
       "      <td>R0478</td>\n",
       "      <td>8110080010</td>\n",
       "      <td>Female</td>\n",
       "      <td>31</td>\n",
       "    </tr>\n",
       "    <tr>\n",
       "      <th>68</th>\n",
       "      <td>R0869</td>\n",
       "      <td>8110080021</td>\n",
       "      <td>Female</td>\n",
       "      <td>40</td>\n",
       "    </tr>\n",
       "  </tbody>\n",
       "</table>\n",
       "<p>69 rows × 4 columns</p>\n",
       "</div>"
      ]
     },
     "execution_count": 12,
     "metadata": {},
     "output_type": "execute_result"
    }
   ],
   "execution_count": 12
  },
  {
   "cell_type": "code",
   "source": "f_fua['sex'].value_counts()",
   "metadata": {
    "collapsed": false,
    "ExecuteTime": {
     "end_time": "2024-10-18T14:31:03.567808Z",
     "start_time": "2024-10-18T14:31:03.559290Z"
    }
   },
   "id": "ecfc5d957551c2f2",
   "outputs": [
    {
     "data": {
      "text/plain": [
       "sex\n",
       "Female    50\n",
       "Male      19\n",
       "Name: count, dtype: int64"
      ]
     },
     "execution_count": 13,
     "metadata": {},
     "output_type": "execute_result"
    }
   ],
   "execution_count": 13
  },
  {
   "cell_type": "code",
   "source": "categorize_and_count_ages(f_fua['age'])",
   "metadata": {
    "collapsed": false,
    "ExecuteTime": {
     "end_time": "2024-10-18T14:38:33.719268Z",
     "start_time": "2024-10-18T14:38:33.707548Z"
    }
   },
   "id": "877d310ce3d8bf1d",
   "outputs": [
    {
     "data": {
      "text/plain": [
       "age\n",
       "18-27     4\n",
       "28-37    24\n",
       "38-47    22\n",
       "48-57    16\n",
       "58-67     3\n",
       "68-77     0\n",
       "Name: count, dtype: int64"
      ]
     },
     "execution_count": 15,
     "metadata": {},
     "output_type": "execute_result"
    }
   ],
   "execution_count": 15
  },
  {
   "cell_type": "code",
   "source": "",
   "metadata": {
    "collapsed": false
   },
   "id": "42f995c03dd1af07",
   "execution_count": null,
   "outputs": []
  },
  {
   "cell_type": "code",
   "source": "",
   "metadata": {
    "collapsed": false
   },
   "id": "ed03ecab056996ee",
   "execution_count": null,
   "outputs": []
  }
 ],
 "metadata": {
  "kernelspec": {
   "display_name": "Python 3",
   "language": "python",
   "name": "python3"
  },
  "language_info": {
   "codemirror_mode": {
    "name": "ipython",
    "version": 2
   },
   "file_extension": ".py",
   "mimetype": "text/x-python",
   "name": "python",
   "nbconvert_exporter": "python",
   "pygments_lexer": "ipython2",
   "version": "2.7.6"
  }
 },
 "nbformat": 4,
 "nbformat_minor": 5
}
