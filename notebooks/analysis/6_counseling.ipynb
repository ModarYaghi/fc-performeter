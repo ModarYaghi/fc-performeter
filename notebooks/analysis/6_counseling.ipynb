{
 "cells": [
  {
   "cell_type": "code",
   "id": "initial_id",
   "metadata": {
    "collapsed": true
   },
   "source": [
    "from src.all_in_one import *"
   ],
   "outputs": [],
   "execution_count": null
  },
  {
   "cell_type": "code",
   "source": [
    "# Screening\n",
    "scr = get_df(scr_path, scr_sheet)\n",
    "unique_scr = scr.drop_duplicates(subset='rid')"
   ],
   "metadata": {
    "collapsed": false
   },
   "id": "c35339b2b68a075c",
   "outputs": [],
   "execution_count": null
  },
  {
   "cell_type": "code",
   "source": [
    "gc_dataset = Dataset(config_file, gc_sheet)\n",
    "gc = get_df(gc_path, gc_sheet)\n",
    "gc = pd.merge(gc, unique_scr[['rid', 'sex', 'age']], on='rid', how='left')\n",
    "filtered_gc = filter_dataframe_on_date(gc, gc_dataset.dvars, start, end, FilterType.IN)"
   ],
   "metadata": {
    "collapsed": false
   },
   "id": "5b6a303e987bb825",
   "outputs": [],
   "execution_count": null
  },
  {
   "metadata": {},
   "cell_type": "code",
   "source": "# gc",
   "id": "3f50813b8fb30296",
   "outputs": [],
   "execution_count": null
  },
  {
   "cell_type": "code",
   "source": "# filtered_gc.to_clipboard(index=False)",
   "metadata": {
    "collapsed": false
   },
   "id": "2a43d6f592473b1e",
   "outputs": [],
   "execution_count": null
  },
  {
   "metadata": {},
   "cell_type": "code",
   "source": "# filtered_gc.describe(include='all')",
   "id": "686451fde6d30974",
   "outputs": [],
   "execution_count": null
  },
  {
   "cell_type": "code",
   "source": [
    "ic_dataset = Dataset(config_file, ic_sheet)\n",
    "ic = get_df(ic_path, ic_sheet)\n",
    "ic = pd.merge(ic, unique_scr[['rid', 'sex', 'age']], on='rid', how='left')\n",
    "filtered_ic = filter_dataframe_on_date(ic, ic_dataset.dvars, start, end, FilterType.IN)"
   ],
   "metadata": {
    "collapsed": false
   },
   "id": "315d94d1719b9168",
   "outputs": [],
   "execution_count": null
  },
  {
   "cell_type": "code",
   "source": "ic",
   "metadata": {
    "collapsed": false
   },
   "id": "37fcafc8b61e7a49",
   "outputs": [],
   "execution_count": null
  },
  {
   "metadata": {},
   "cell_type": "code",
   "source": "filtered_ic",
   "id": "320f170eb0a0f9bc",
   "outputs": [],
   "execution_count": null
  },
  {
   "cell_type": "code",
   "source": [
    "# (ic_q4[ic_dataset.dvars] > threshold).sum().sum()"
   ],
   "metadata": {
    "collapsed": false
   },
   "id": "95cc726a0e86e85f",
   "outputs": [],
   "execution_count": null
  }
 ],
 "metadata": {
  "kernelspec": {
   "display_name": "Python 3",
   "language": "python",
   "name": "python3"
  },
  "language_info": {
   "codemirror_mode": {
    "name": "ipython",
    "version": 2
   },
   "file_extension": ".py",
   "mimetype": "text/x-python",
   "name": "python",
   "nbconvert_exporter": "python",
   "pygments_lexer": "ipython2",
   "version": "2.7.6"
  }
 },
 "nbformat": 4,
 "nbformat_minor": 5
}
