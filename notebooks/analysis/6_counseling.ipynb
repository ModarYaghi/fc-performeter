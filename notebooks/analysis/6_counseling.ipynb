{
 "cells": [
  {
   "cell_type": "code",
   "execution_count": null,
   "id": "initial_id",
   "metadata": {
    "collapsed": true
   },
   "outputs": [],
   "source": [
    "from src.all_in_one import *\n",
    "from src.basic_variables import *\n",
    "from src.analysis_functions import *"
   ]
  },
  {
   "cell_type": "markdown",
   "id": "e1421bdf",
   "metadata": {},
   "source": [
    "## PS Group Counseling"
   ]
  },
  {
   "cell_type": "code",
   "execution_count": 2,
   "id": "5b6a303e987bb825",
   "metadata": {
    "collapsed": false
   },
   "outputs": [],
   "source": [
    "gc_file = path_manager.get_data_file(Category.PS, PSFile.PSG)\n",
    "gc_dataset = Dataset(config_file, gc_file.sheet)\n",
    "gc = get_df(gc_file.path, gc_file.sheet)\n",
    "filtered_gc = filter_dataframe_on_date(gc, gc_dataset.dvars, START, END, FilterType.IN)"
   ]
  },
  {
   "cell_type": "code",
   "execution_count": 4,
   "id": "7287e782",
   "metadata": {},
   "outputs": [],
   "source": [
    "# Getting Sex and Age\n",
    "f_gc_with_demo = pd.merge(\n",
    "    filtered_gc, rebuilt_scr[[\"rid\", \"sex\", \"age\"]], on=\"rid\", how=\"left\"\n",
    ")"
   ]
  },
  {
   "cell_type": "code",
   "execution_count": null,
   "id": "3e2fd82813a873d2",
   "metadata": {},
   "outputs": [],
   "source": [
    "f_gc_with_demo.shape"
   ]
  },
  {
   "cell_type": "code",
   "execution_count": null,
   "id": "42ef920f",
   "metadata": {},
   "outputs": [],
   "source": [
    "# Grouping upon dates for sex distribution\n",
    "f_gc_with_demo_grouped = (\n",
    "    f_gc_with_demo.groupby(\n",
    "        [\n",
    "            \"gc_s1\",\n",
    "            # 'gc_10',\n",
    "            # 'gc_class',\n",
    "            # 'gc_index',\n",
    "            \"sex\",\n",
    "        ]\n",
    "    )\n",
    "    .size()\n",
    "    .unstack(fill_value=0)\n",
    ")\n",
    "f_gc_with_demo_grouped"
   ]
  },
  {
   "cell_type": "markdown",
   "id": "e8c46f6e",
   "metadata": {},
   "source": [
    "## PS Individual Counseling"
   ]
  },
  {
   "cell_type": "code",
   "execution_count": 15,
   "id": "315d94d1719b9168",
   "metadata": {
    "collapsed": false
   },
   "outputs": [],
   "source": [
    "ic_file = path_manager.get_data_file(Category.PS, PSFile.PSI)\n",
    "ic_dataset = Dataset(config_file, ic_file.sheet)\n",
    "ic = get_df(ic_file.path, ic_file.sheet)\n",
    "filtered_ic = filter_dataframe_on_date(ic, ic_dataset.dvars, START, END, FilterType.IN)"
   ]
  },
  {
   "cell_type": "code",
   "execution_count": null,
   "id": "37fcafc8b61e7a49",
   "metadata": {
    "collapsed": false
   },
   "outputs": [],
   "source": [
    "filtered_ic.shape"
   ]
  },
  {
   "cell_type": "code",
   "execution_count": null,
   "id": "c63f533e",
   "metadata": {},
   "outputs": [],
   "source": [
    "# Getting the total number of sessions in timeframe\n",
    "(\n",
    "    (filtered_ic[ic_dataset.dvars] > START) & (filtered_ic[ic_dataset.dvars] < END)\n",
    ").sum().sum()"
   ]
  },
  {
   "cell_type": "markdown",
   "id": "b56f45e9",
   "metadata": {},
   "source": [
    "## PT Group Therapy"
   ]
  },
  {
   "cell_type": "code",
   "execution_count": 26,
   "id": "f640ac6f",
   "metadata": {},
   "outputs": [],
   "source": [
    "gt_file = path_manager.get_data_file(Category.PT, PTFile.PTG)\n",
    "gt_dataset = Dataset(config_file, gt_file.sheet)\n",
    "gt = get_df(gt_file.path, gt_file.sheet)\n",
    "filtered_gt = filter_dataframe_on_date(gt, gt_dataset.dvars, START, END, FilterType.IN)"
   ]
  },
  {
   "cell_type": "code",
   "execution_count": 29,
   "id": "190d463b",
   "metadata": {},
   "outputs": [],
   "source": [
    "f_gt_with_demo = pd.merge(\n",
    "    filtered_gt, rebuilt_scr[[\"rid\", \"sex\", \"age\"]], on=\"rid\", how=\"left\"\n",
    ")"
   ]
  },
  {
   "cell_type": "code",
   "execution_count": 41,
   "id": "8f933c39",
   "metadata": {},
   "outputs": [],
   "source": [
    "f_gt_with_demo.to_clipboard()"
   ]
  },
  {
   "cell_type": "code",
   "execution_count": null,
   "id": "a7a44906",
   "metadata": {},
   "outputs": [],
   "source": [
    "# Grouping upon dates for sex distribution\n",
    "f_gt_with_demo_grouped = (\n",
    "    f_gt_with_demo.groupby(\n",
    "        [\n",
    "            \"pt_g_s1\",\n",
    "            \"pt_g_s10\",\n",
    "            # 'gc_class',\n",
    "            # 'gc_index',\n",
    "            \"sex\",\n",
    "        ]\n",
    "    )\n",
    "    .size()\n",
    "    .unstack(fill_value=0)\n",
    ")\n",
    "f_gt_with_demo_grouped"
   ]
  },
  {
   "cell_type": "code",
   "execution_count": null,
   "id": "bdea1019",
   "metadata": {},
   "outputs": [],
   "source": [
    "# Getting the total number of sessions in timeframe\n",
    "(\n",
    "    (f_gt_with_demo[gt_dataset.dvars] > START)\n",
    "    & (f_gt_with_demo[gt_dataset.dvars] < END)\n",
    ").sum().sum()"
   ]
  },
  {
   "cell_type": "markdown",
   "id": "a18da3c6",
   "metadata": {},
   "source": [
    "## PT Individual Therapy"
   ]
  },
  {
   "cell_type": "code",
   "execution_count": 42,
   "id": "15ddab79",
   "metadata": {},
   "outputs": [],
   "source": [
    "it_file = path_manager.get_data_file(Category.PT, PTFile.PTI)\n",
    "it_dataset = Dataset(config_file, it_file.sheet)\n",
    "it = get_df(it_file.path, it_file.sheet)\n",
    "filtered_it = filter_dataframe_on_date(it, it_dataset.dvars, START, END, FilterType.IN)"
   ]
  },
  {
   "cell_type": "code",
   "execution_count": 43,
   "id": "c4af1023",
   "metadata": {},
   "outputs": [],
   "source": [
    "f_it_with_demo = pd.merge(\n",
    "    filtered_it, rebuilt_scr[[\"rid\", \"sex\", \"age\"]], on=\"rid\", how=\"left\"\n",
    ")"
   ]
  },
  {
   "cell_type": "code",
   "execution_count": 56,
   "id": "03203a8e",
   "metadata": {},
   "outputs": [],
   "source": [
    "f_it_with_demo.to_clipboard()"
   ]
  },
  {
   "cell_type": "code",
   "execution_count": null,
   "id": "5ef9da9a",
   "metadata": {},
   "outputs": [],
   "source": [
    "# PT individual new clients\n",
    "((f_it_with_demo[\"pt_i_s1\"] > START) & (f_it_with_demo[\"pt_i_s1\"] < END)).sum().sum()"
   ]
  },
  {
   "cell_type": "code",
   "execution_count": null,
   "id": "516df0a6",
   "metadata": {},
   "outputs": [],
   "source": [
    "# PT individual new client sex distribution counts\n",
    "it_new_client = filter_dataframe_on_date(f_it_with_demo, [\"pt_i_s1\"], START, END)\n",
    "it_new_client[\"sex\"].value_counts()"
   ]
  },
  {
   "cell_type": "code",
   "execution_count": null,
   "id": "07b6bc38",
   "metadata": {},
   "outputs": [],
   "source": [
    "it_ongoin_client = filter_dataframe_on_date(\n",
    "    f_it_with_demo, [\"pt_i_s1\"], START, END, FilterType.BF\n",
    ")\n",
    "it_ongoin_client[\"sex\"].value_counts()"
   ]
  },
  {
   "cell_type": "code",
   "execution_count": null,
   "id": "be5b5019",
   "metadata": {},
   "outputs": [],
   "source": [
    "# Getting the total number of sessions in timeframe\n",
    "(\n",
    "    (f_it_with_demo[it_dataset.dvars] > START)\n",
    "    & (f_it_with_demo[it_dataset.dvars] < END)\n",
    ").sum().sum()"
   ]
  },
  {
   "cell_type": "code",
   "execution_count": null,
   "id": "50412e50",
   "metadata": {},
   "outputs": [],
   "source": [
    "# Getting the total number of sessions in timeframe for male\n",
    "male = f_it_with_demo[f_it_with_demo[\"sex\"] == \"Male\"]\n",
    "((male[it_dataset.dvars] > START) & (male[it_dataset.dvars] < END)).sum().sum()"
   ]
  },
  {
   "cell_type": "code",
   "execution_count": null,
   "id": "d048953b",
   "metadata": {},
   "outputs": [],
   "source": [
    "# Getting the total number of sessions in timeframe for female\n",
    "female = f_it_with_demo[f_it_with_demo[\"sex\"] == \"Female\"]\n",
    "((female[it_dataset.dvars] > START) & (female[it_dataset.dvars] < END)).sum().sum()"
   ]
  }
 ],
 "metadata": {
  "kernelspec": {
   "display_name": "Python 3",
   "language": "python",
   "name": "python3"
  },
  "language_info": {
   "codemirror_mode": {
    "name": "ipython",
    "version": 3
   },
   "file_extension": ".py",
   "mimetype": "text/x-python",
   "name": "python",
   "nbconvert_exporter": "python",
   "pygments_lexer": "ipython3",
   "version": "3.11.10"
  }
 },
 "nbformat": 4,
 "nbformat_minor": 5
}
