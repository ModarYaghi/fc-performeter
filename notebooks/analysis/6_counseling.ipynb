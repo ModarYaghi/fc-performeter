{
 "cells": [
  {
   "cell_type": "code",
   "execution_count": 1,
   "id": "initial_id",
   "metadata": {
    "collapsed": true
   },
   "outputs": [
    {
     "name": "stderr",
     "output_type": "stream",
     "text": [
      "2025-01-09 14:45:39,579 - INFO - Processed 756 records so far.\n",
      "2025-01-09 14:45:40,527 - INFO - Processed 342 records so far.\n"
     ]
    }
   ],
   "source": [
    "from src.all_in_one import *\n",
    "from src.basic_variables import *\n",
    "from src.analysis_functions import *"
   ]
  },
  {
   "cell_type": "markdown",
   "id": "e1421bdf",
   "metadata": {},
   "source": [
    "## PS Group Counseling"
   ]
  },
  {
   "cell_type": "code",
   "execution_count": 2,
   "id": "5b6a303e987bb825",
   "metadata": {
    "collapsed": false
   },
   "outputs": [],
   "source": [
    "gc_file = path_manager.get_data_file(Category.PS, PSFile.PSG)\n",
    "gc_dataset = Dataset(config_file, gc_file.sheet)\n",
    "gc = get_df(gc_file.path, gc_file.sheet)\n",
    "filtered_gc = filter_dataframe_on_date(gc, gc_dataset.dvars, START, END, FilterType.IN)"
   ]
  },
  {
   "cell_type": "code",
   "execution_count": 3,
   "id": "7287e782",
   "metadata": {},
   "outputs": [],
   "source": [
    "# Getting Sex and Age\n",
    "f_gc_with_demo = pd.merge(\n",
    "    filtered_gc, rebuilt_scr[[\"rid\", \"sex\", \"age\"]], on=\"rid\", how=\"left\"\n",
    ")"
   ]
  },
  {
   "cell_type": "code",
   "execution_count": 15,
   "id": "3e2fd82813a873d2",
   "metadata": {},
   "outputs": [],
   "source": [
    "# f_gc_with_demo.shape\n",
    "# f_gc_with_demo"
   ]
  },
  {
   "cell_type": "code",
   "execution_count": null,
   "id": "784ed606",
   "metadata": {},
   "outputs": [],
   "source": [
    "# female = f_gc_with_demo[f_gc_with_demo['gc_class'] == 'Female(30-40)']\n",
    "male = f_gc_with_demo[f_gc_with_demo[\"gc_class\"] != \"Female(30-40)\"]"
   ]
  },
  {
   "cell_type": "code",
   "execution_count": 5,
   "id": "42ef920f",
   "metadata": {},
   "outputs": [
    {
     "data": {
      "text/html": [
       "<div>\n",
       "<style scoped>\n",
       "    .dataframe tbody tr th:only-of-type {\n",
       "        vertical-align: middle;\n",
       "    }\n",
       "\n",
       "    .dataframe tbody tr th {\n",
       "        vertical-align: top;\n",
       "    }\n",
       "\n",
       "    .dataframe thead th {\n",
       "        text-align: right;\n",
       "    }\n",
       "</style>\n",
       "<table border=\"1\" class=\"dataframe\">\n",
       "  <thead>\n",
       "    <tr style=\"text-align: right;\">\n",
       "      <th>sex</th>\n",
       "      <th>Female</th>\n",
       "      <th>Male</th>\n",
       "    </tr>\n",
       "    <tr>\n",
       "      <th>gc_s1</th>\n",
       "      <th></th>\n",
       "      <th></th>\n",
       "    </tr>\n",
       "  </thead>\n",
       "  <tbody>\n",
       "    <tr>\n",
       "      <th>2024-10-18</th>\n",
       "      <td>0</td>\n",
       "      <td>3</td>\n",
       "    </tr>\n",
       "    <tr>\n",
       "      <th>2024-12-10</th>\n",
       "      <td>4</td>\n",
       "      <td>0</td>\n",
       "    </tr>\n",
       "    <tr>\n",
       "      <th>2024-12-11</th>\n",
       "      <td>4</td>\n",
       "      <td>0</td>\n",
       "    </tr>\n",
       "    <tr>\n",
       "      <th>2024-12-18</th>\n",
       "      <td>0</td>\n",
       "      <td>4</td>\n",
       "    </tr>\n",
       "  </tbody>\n",
       "</table>\n",
       "</div>"
      ],
      "text/plain": [
       "sex         Female  Male\n",
       "gc_s1                   \n",
       "2024-10-18       0     3\n",
       "2024-12-10       4     0\n",
       "2024-12-11       4     0\n",
       "2024-12-18       0     4"
      ]
     },
     "execution_count": 5,
     "metadata": {},
     "output_type": "execute_result"
    }
   ],
   "source": [
    "# Grouping upon dates for sex distribution\n",
    "f_gc_with_demo_grouped = (\n",
    "    f_gc_with_demo.groupby(\n",
    "        [\n",
    "            \"gc_s1\",\n",
    "            # 'gc_10',\n",
    "            # 'gc_class',\n",
    "            # 'gc_index',\n",
    "            \"sex\",\n",
    "        ]\n",
    "    )\n",
    "    .size()\n",
    "    .unstack(fill_value=0)\n",
    ")\n",
    "f_gc_with_demo_grouped"
   ]
  },
  {
   "cell_type": "markdown",
   "id": "e8c46f6e",
   "metadata": {},
   "source": [
    "## PS Individual Counseling"
   ]
  },
  {
   "cell_type": "code",
   "execution_count": 16,
   "id": "315d94d1719b9168",
   "metadata": {
    "collapsed": false
   },
   "outputs": [],
   "source": [
    "ic_file = path_manager.get_data_file(Category.PS, PSFile.PSI)\n",
    "ic_dataset = Dataset(config_file, ic_file.sheet)\n",
    "ic = get_df(ic_file.path, ic_file.sheet)\n",
    "filtered_ic = filter_dataframe_on_date(ic, ic_dataset.dvars, START, END, FilterType.IN)"
   ]
  },
  {
   "cell_type": "code",
   "execution_count": 23,
   "id": "6ff8ceab",
   "metadata": {},
   "outputs": [],
   "source": [
    "# ic"
   ]
  },
  {
   "cell_type": "code",
   "execution_count": 24,
   "id": "37fcafc8b61e7a49",
   "metadata": {
    "collapsed": false
   },
   "outputs": [],
   "source": [
    "# filtered_ic.shape\n",
    "# filtered_ic"
   ]
  },
  {
   "cell_type": "code",
   "execution_count": 18,
   "id": "c63f533e",
   "metadata": {},
   "outputs": [
    {
     "data": {
      "text/plain": [
       "np.int64(1)"
      ]
     },
     "execution_count": 18,
     "metadata": {},
     "output_type": "execute_result"
    }
   ],
   "source": [
    "# Getting the total number of sessions in timeframe\n",
    "(\n",
    "    (filtered_ic[ic_dataset.dvars] > START) & (filtered_ic[ic_dataset.dvars] < END)\n",
    ").sum().sum()"
   ]
  },
  {
   "cell_type": "markdown",
   "id": "b56f45e9",
   "metadata": {},
   "source": [
    "## PT Group Therapy"
   ]
  },
  {
   "cell_type": "code",
   "execution_count": 25,
   "id": "f640ac6f",
   "metadata": {},
   "outputs": [],
   "source": [
    "gt_file = path_manager.get_data_file(Category.PT, PTFile.PTG)\n",
    "gt_dataset = Dataset(config_file, gt_file.sheet)\n",
    "gt = get_df(gt_file.path, gt_file.sheet)\n",
    "filtered_gt = filter_dataframe_on_date(gt, gt_dataset.dvars, START, END, FilterType.IN)"
   ]
  },
  {
   "cell_type": "code",
   "execution_count": 26,
   "id": "190d463b",
   "metadata": {},
   "outputs": [],
   "source": [
    "f_gt_with_demo = pd.merge(\n",
    "    filtered_gt, rebuilt_scr[[\"rid\", \"sex\", \"age\"]], on=\"rid\", how=\"left\"\n",
    ")"
   ]
  },
  {
   "cell_type": "code",
   "execution_count": 27,
   "id": "8f933c39",
   "metadata": {},
   "outputs": [
    {
     "data": {
      "text/html": [
       "<div>\n",
       "<style scoped>\n",
       "    .dataframe tbody tr th:only-of-type {\n",
       "        vertical-align: middle;\n",
       "    }\n",
       "\n",
       "    .dataframe tbody tr th {\n",
       "        vertical-align: top;\n",
       "    }\n",
       "\n",
       "    .dataframe thead th {\n",
       "        text-align: right;\n",
       "    }\n",
       "</style>\n",
       "<table border=\"1\" class=\"dataframe\">\n",
       "  <thead>\n",
       "    <tr style=\"text-align: right;\">\n",
       "      <th></th>\n",
       "      <th>gptsp</th>\n",
       "      <th>ptgspi</th>\n",
       "      <th>rid</th>\n",
       "      <th>fcid</th>\n",
       "      <th>firstname</th>\n",
       "      <th>lastname</th>\n",
       "      <th>pt_g_class</th>\n",
       "      <th>pt_g_s1</th>\n",
       "      <th>pt_g_s2</th>\n",
       "      <th>pt_g_s3</th>\n",
       "      <th>...</th>\n",
       "      <th>pt_g_s6</th>\n",
       "      <th>pt_g_s7</th>\n",
       "      <th>pt_g_s8</th>\n",
       "      <th>pt_g_s9</th>\n",
       "      <th>pt_g_s10</th>\n",
       "      <th>pt_g_total</th>\n",
       "      <th>pt_status</th>\n",
       "      <th>note</th>\n",
       "      <th>sex</th>\n",
       "      <th>age</th>\n",
       "    </tr>\n",
       "  </thead>\n",
       "  <tbody>\n",
       "    <tr>\n",
       "      <th>0</th>\n",
       "      <td>ZN</td>\n",
       "      <td>12</td>\n",
       "      <td>R1358</td>\n",
       "      <td>8110020136</td>\n",
       "      <td>زياد</td>\n",
       "      <td>الصيني</td>\n",
       "      <td>G14</td>\n",
       "      <td>2024-12-19</td>\n",
       "      <td>2024-12-26</td>\n",
       "      <td>NaT</td>\n",
       "      <td>...</td>\n",
       "      <td>NaT</td>\n",
       "      <td>NaT</td>\n",
       "      <td>NaT</td>\n",
       "      <td>NaT</td>\n",
       "      <td>NaT</td>\n",
       "      <td>0</td>\n",
       "      <td>ACTIVE</td>\n",
       "      <td>NaN</td>\n",
       "      <td>Male</td>\n",
       "      <td>44</td>\n",
       "    </tr>\n",
       "    <tr>\n",
       "      <th>1</th>\n",
       "      <td>ZN</td>\n",
       "      <td>13</td>\n",
       "      <td>R1371</td>\n",
       "      <td>8110020134</td>\n",
       "      <td>علي</td>\n",
       "      <td>الحسين</td>\n",
       "      <td>G14</td>\n",
       "      <td>2024-12-19</td>\n",
       "      <td>2024-12-26</td>\n",
       "      <td>NaT</td>\n",
       "      <td>...</td>\n",
       "      <td>NaT</td>\n",
       "      <td>NaT</td>\n",
       "      <td>NaT</td>\n",
       "      <td>NaT</td>\n",
       "      <td>NaT</td>\n",
       "      <td>0</td>\n",
       "      <td>ACTIVE</td>\n",
       "      <td>NaN</td>\n",
       "      <td>Male</td>\n",
       "      <td>62</td>\n",
       "    </tr>\n",
       "    <tr>\n",
       "      <th>2</th>\n",
       "      <td>ZN</td>\n",
       "      <td>14</td>\n",
       "      <td>R1345</td>\n",
       "      <td>8110020135</td>\n",
       "      <td>احمد</td>\n",
       "      <td>القاسم</td>\n",
       "      <td>G14</td>\n",
       "      <td>2024-12-19</td>\n",
       "      <td>2024-12-26</td>\n",
       "      <td>NaT</td>\n",
       "      <td>...</td>\n",
       "      <td>NaT</td>\n",
       "      <td>NaT</td>\n",
       "      <td>NaT</td>\n",
       "      <td>NaT</td>\n",
       "      <td>NaT</td>\n",
       "      <td>0</td>\n",
       "      <td>ACTIVE</td>\n",
       "      <td>NaN</td>\n",
       "      <td>Male</td>\n",
       "      <td>31</td>\n",
       "    </tr>\n",
       "    <tr>\n",
       "      <th>3</th>\n",
       "      <td>ZN</td>\n",
       "      <td>15</td>\n",
       "      <td>R1452</td>\n",
       "      <td>8110080031</td>\n",
       "      <td>احمد</td>\n",
       "      <td>دعاس</td>\n",
       "      <td>G14</td>\n",
       "      <td>2024-12-19</td>\n",
       "      <td>2024-12-26</td>\n",
       "      <td>NaT</td>\n",
       "      <td>...</td>\n",
       "      <td>NaT</td>\n",
       "      <td>NaT</td>\n",
       "      <td>NaT</td>\n",
       "      <td>NaT</td>\n",
       "      <td>NaT</td>\n",
       "      <td>0</td>\n",
       "      <td>ACTIVE</td>\n",
       "      <td>NaN</td>\n",
       "      <td>Male</td>\n",
       "      <td>32</td>\n",
       "    </tr>\n",
       "    <tr>\n",
       "      <th>4</th>\n",
       "      <td>ZN</td>\n",
       "      <td>16</td>\n",
       "      <td>R0687</td>\n",
       "      <td>8110100021</td>\n",
       "      <td>ايمن</td>\n",
       "      <td>نزال</td>\n",
       "      <td>G14</td>\n",
       "      <td>2024-12-19</td>\n",
       "      <td>2024-12-26</td>\n",
       "      <td>NaT</td>\n",
       "      <td>...</td>\n",
       "      <td>NaT</td>\n",
       "      <td>NaT</td>\n",
       "      <td>NaT</td>\n",
       "      <td>NaT</td>\n",
       "      <td>NaT</td>\n",
       "      <td>0</td>\n",
       "      <td>ACTIVE</td>\n",
       "      <td>NaN</td>\n",
       "      <td>Male</td>\n",
       "      <td>45</td>\n",
       "    </tr>\n",
       "    <tr>\n",
       "      <th>5</th>\n",
       "      <td>ZN</td>\n",
       "      <td>18</td>\n",
       "      <td>R1215</td>\n",
       "      <td>8110110013</td>\n",
       "      <td>عمر</td>\n",
       "      <td>غريبة</td>\n",
       "      <td>G14</td>\n",
       "      <td>NaT</td>\n",
       "      <td>2024-12-26</td>\n",
       "      <td>NaT</td>\n",
       "      <td>...</td>\n",
       "      <td>NaT</td>\n",
       "      <td>NaT</td>\n",
       "      <td>NaT</td>\n",
       "      <td>NaT</td>\n",
       "      <td>NaT</td>\n",
       "      <td>0</td>\n",
       "      <td>ACTIVE</td>\n",
       "      <td>NaN</td>\n",
       "      <td>Male</td>\n",
       "      <td>42</td>\n",
       "    </tr>\n",
       "    <tr>\n",
       "      <th>6</th>\n",
       "      <td>ZN</td>\n",
       "      <td>19</td>\n",
       "      <td>R1337</td>\n",
       "      <td>8110100023</td>\n",
       "      <td>احمد</td>\n",
       "      <td>موس</td>\n",
       "      <td>G14</td>\n",
       "      <td>NaT</td>\n",
       "      <td>2024-12-26</td>\n",
       "      <td>NaT</td>\n",
       "      <td>...</td>\n",
       "      <td>NaT</td>\n",
       "      <td>NaT</td>\n",
       "      <td>NaT</td>\n",
       "      <td>NaT</td>\n",
       "      <td>NaT</td>\n",
       "      <td>0</td>\n",
       "      <td>ACTIVE</td>\n",
       "      <td>NaN</td>\n",
       "      <td>Male</td>\n",
       "      <td>54</td>\n",
       "    </tr>\n",
       "  </tbody>\n",
       "</table>\n",
       "<p>7 rows × 22 columns</p>\n",
       "</div>"
      ],
      "text/plain": [
       "  gptsp  ptgspi    rid        fcid firstname lastname pt_g_class    pt_g_s1  \\\n",
       "0    ZN      12  R1358  8110020136      زياد   الصيني        G14 2024-12-19   \n",
       "1    ZN      13  R1371  8110020134       علي   الحسين        G14 2024-12-19   \n",
       "2    ZN      14  R1345  8110020135      احمد   القاسم        G14 2024-12-19   \n",
       "3    ZN      15  R1452  8110080031      احمد     دعاس        G14 2024-12-19   \n",
       "4    ZN      16  R0687  8110100021      ايمن     نزال        G14 2024-12-19   \n",
       "5    ZN      18  R1215  8110110013       عمر    غريبة        G14        NaT   \n",
       "6    ZN      19  R1337  8110100023      احمد      موس        G14        NaT   \n",
       "\n",
       "     pt_g_s2 pt_g_s3  ... pt_g_s6 pt_g_s7 pt_g_s8 pt_g_s9 pt_g_s10 pt_g_total  \\\n",
       "0 2024-12-26     NaT  ...     NaT     NaT     NaT     NaT      NaT          0   \n",
       "1 2024-12-26     NaT  ...     NaT     NaT     NaT     NaT      NaT          0   \n",
       "2 2024-12-26     NaT  ...     NaT     NaT     NaT     NaT      NaT          0   \n",
       "3 2024-12-26     NaT  ...     NaT     NaT     NaT     NaT      NaT          0   \n",
       "4 2024-12-26     NaT  ...     NaT     NaT     NaT     NaT      NaT          0   \n",
       "5 2024-12-26     NaT  ...     NaT     NaT     NaT     NaT      NaT          0   \n",
       "6 2024-12-26     NaT  ...     NaT     NaT     NaT     NaT      NaT          0   \n",
       "\n",
       "  pt_status  note   sex age  \n",
       "0    ACTIVE   NaN  Male  44  \n",
       "1    ACTIVE   NaN  Male  62  \n",
       "2    ACTIVE   NaN  Male  31  \n",
       "3    ACTIVE   NaN  Male  32  \n",
       "4    ACTIVE   NaN  Male  45  \n",
       "5    ACTIVE   NaN  Male  42  \n",
       "6    ACTIVE   NaN  Male  54  \n",
       "\n",
       "[7 rows x 22 columns]"
      ]
     },
     "execution_count": 27,
     "metadata": {},
     "output_type": "execute_result"
    }
   ],
   "source": [
    "f_gt_with_demo"
   ]
  },
  {
   "cell_type": "code",
   "execution_count": null,
   "id": "a7a44906",
   "metadata": {},
   "outputs": [],
   "source": [
    "# Grouping upon dates for sex distribution\n",
    "f_gt_with_demo_grouped = (\n",
    "    f_gt_with_demo.groupby(\n",
    "        [\n",
    "            \"pt_g_s1\",\n",
    "            \"pt_g_s10\",\n",
    "            # 'gc_class',\n",
    "            # 'gc_index',\n",
    "            \"sex\",\n",
    "        ]\n",
    "    )\n",
    "    .size()\n",
    "    .unstack(fill_value=0)\n",
    ")\n",
    "f_gt_with_demo_grouped"
   ]
  },
  {
   "cell_type": "code",
   "execution_count": 29,
   "id": "bdea1019",
   "metadata": {},
   "outputs": [
    {
     "data": {
      "text/plain": [
       "np.int64(12)"
      ]
     },
     "execution_count": 29,
     "metadata": {},
     "output_type": "execute_result"
    }
   ],
   "source": [
    "# Getting the total number of sessions in timeframe\n",
    "(\n",
    "    (f_gt_with_demo[gt_dataset.dvars] > START)\n",
    "    & (f_gt_with_demo[gt_dataset.dvars] < END)\n",
    ").sum().sum()"
   ]
  },
  {
   "cell_type": "markdown",
   "id": "a18da3c6",
   "metadata": {},
   "source": [
    "## PT Individual Therapy"
   ]
  },
  {
   "cell_type": "code",
   "execution_count": 30,
   "id": "15ddab79",
   "metadata": {},
   "outputs": [],
   "source": [
    "it_file = path_manager.get_data_file(Category.PT, PTFile.PTI)\n",
    "it_dataset = Dataset(config_file, it_file.sheet)\n",
    "it = get_df(it_file.path, it_file.sheet)\n",
    "filtered_it = filter_dataframe_on_date(it, it_dataset.dvars, START, END, FilterType.IN)"
   ]
  },
  {
   "cell_type": "code",
   "execution_count": 31,
   "id": "c4af1023",
   "metadata": {},
   "outputs": [],
   "source": [
    "f_it_with_demo = pd.merge(\n",
    "    filtered_it, rebuilt_scr[[\"rid\", \"sex\", \"age\"]], on=\"rid\", how=\"left\"\n",
    ")"
   ]
  },
  {
   "cell_type": "code",
   "execution_count": 33,
   "id": "03203a8e",
   "metadata": {},
   "outputs": [
    {
     "data": {
      "text/html": [
       "<div>\n",
       "<style scoped>\n",
       "    .dataframe tbody tr th:only-of-type {\n",
       "        vertical-align: middle;\n",
       "    }\n",
       "\n",
       "    .dataframe tbody tr th {\n",
       "        vertical-align: top;\n",
       "    }\n",
       "\n",
       "    .dataframe thead th {\n",
       "        text-align: right;\n",
       "    }\n",
       "</style>\n",
       "<table border=\"1\" class=\"dataframe\">\n",
       "  <thead>\n",
       "    <tr style=\"text-align: right;\">\n",
       "      <th></th>\n",
       "      <th>iptsp</th>\n",
       "      <th>ptispi</th>\n",
       "      <th>rid</th>\n",
       "      <th>fcid</th>\n",
       "      <th>firstname</th>\n",
       "      <th>lastname</th>\n",
       "      <th>pt_i_s1</th>\n",
       "      <th>pt_i_s2</th>\n",
       "      <th>pt_i_s3</th>\n",
       "      <th>pt_i_s4</th>\n",
       "      <th>...</th>\n",
       "      <th>pt_i_s20</th>\n",
       "      <th>pt_i_s21</th>\n",
       "      <th>pt_i_s22</th>\n",
       "      <th>pt_i_s23</th>\n",
       "      <th>pt_i_s24</th>\n",
       "      <th>pt_i_total</th>\n",
       "      <th>pt_status</th>\n",
       "      <th>note</th>\n",
       "      <th>sex</th>\n",
       "      <th>age</th>\n",
       "    </tr>\n",
       "  </thead>\n",
       "  <tbody>\n",
       "  </tbody>\n",
       "</table>\n",
       "<p>0 rows × 35 columns</p>\n",
       "</div>"
      ],
      "text/plain": [
       "Empty DataFrame\n",
       "Columns: [iptsp, ptispi, rid, fcid, firstname, lastname, pt_i_s1, pt_i_s2, pt_i_s3, pt_i_s4, pt_i_s5, pt_i_s6, pt_i_s7, pt_i_s8, pt_i_s9, pt_i_s10, pt_i_s11, pt_i_s12, pt_i_s13, pt_i_s14, pt_i_s15, pt_i_s16, pt_i_s17, pt_i_s18, pt_i_s19, pt_i_s20, pt_i_s21, pt_i_s22, pt_i_s23, pt_i_s24, pt_i_total, pt_status, note, sex, age]\n",
       "Index: []\n",
       "\n",
       "[0 rows x 35 columns]"
      ]
     },
     "execution_count": 33,
     "metadata": {},
     "output_type": "execute_result"
    }
   ],
   "source": [
    "# f_it_with_demo.to_clipboard()\n",
    "f_it_with_demo"
   ]
  },
  {
   "cell_type": "code",
   "execution_count": 34,
   "id": "5ef9da9a",
   "metadata": {},
   "outputs": [
    {
     "data": {
      "text/plain": [
       "np.int64(0)"
      ]
     },
     "execution_count": 34,
     "metadata": {},
     "output_type": "execute_result"
    }
   ],
   "source": [
    "# PT individual new clients\n",
    "((f_it_with_demo[\"pt_i_s1\"] > START) & (f_it_with_demo[\"pt_i_s1\"] < END)).sum().sum()"
   ]
  },
  {
   "cell_type": "code",
   "execution_count": 35,
   "id": "516df0a6",
   "metadata": {},
   "outputs": [
    {
     "data": {
      "text/plain": [
       "Series([], Name: count, dtype: int64)"
      ]
     },
     "execution_count": 35,
     "metadata": {},
     "output_type": "execute_result"
    }
   ],
   "source": [
    "# PT individual new client sex distribution counts\n",
    "it_new_client = filter_dataframe_on_date(f_it_with_demo, [\"pt_i_s1\"], START, END)\n",
    "it_new_client[\"sex\"].value_counts()"
   ]
  },
  {
   "cell_type": "code",
   "execution_count": 36,
   "id": "07b6bc38",
   "metadata": {},
   "outputs": [
    {
     "data": {
      "text/plain": [
       "Series([], Name: count, dtype: int64)"
      ]
     },
     "execution_count": 36,
     "metadata": {},
     "output_type": "execute_result"
    }
   ],
   "source": [
    "it_ongoin_client = filter_dataframe_on_date(\n",
    "    f_it_with_demo, [\"pt_i_s1\"], START, END, FilterType.BF\n",
    ")\n",
    "it_ongoin_client[\"sex\"].value_counts()"
   ]
  },
  {
   "cell_type": "code",
   "execution_count": 37,
   "id": "be5b5019",
   "metadata": {},
   "outputs": [
    {
     "data": {
      "text/plain": [
       "np.int64(0)"
      ]
     },
     "execution_count": 37,
     "metadata": {},
     "output_type": "execute_result"
    }
   ],
   "source": [
    "# Getting the total number of sessions in timeframe\n",
    "(\n",
    "    (f_it_with_demo[it_dataset.dvars] > START)\n",
    "    & (f_it_with_demo[it_dataset.dvars] < END)\n",
    ").sum().sum()"
   ]
  },
  {
   "cell_type": "code",
   "execution_count": 38,
   "id": "50412e50",
   "metadata": {},
   "outputs": [
    {
     "data": {
      "text/plain": [
       "np.int64(0)"
      ]
     },
     "execution_count": 38,
     "metadata": {},
     "output_type": "execute_result"
    }
   ],
   "source": [
    "# Getting the total number of sessions in timeframe for male\n",
    "male = f_it_with_demo[f_it_with_demo[\"sex\"] == \"Male\"]\n",
    "((male[it_dataset.dvars] > START) & (male[it_dataset.dvars] < END)).sum().sum()"
   ]
  },
  {
   "cell_type": "code",
   "execution_count": 39,
   "id": "d048953b",
   "metadata": {},
   "outputs": [
    {
     "data": {
      "text/plain": [
       "np.int64(0)"
      ]
     },
     "execution_count": 39,
     "metadata": {},
     "output_type": "execute_result"
    }
   ],
   "source": [
    "# Getting the total number of sessions in timeframe for female\n",
    "female = f_it_with_demo[f_it_with_demo[\"sex\"] == \"Female\"]\n",
    "((female[it_dataset.dvars] > START) & (female[it_dataset.dvars] < END)).sum().sum()"
   ]
  }
 ],
 "metadata": {
  "kernelspec": {
   "display_name": ".venv",
   "language": "python",
   "name": "python3"
  },
  "language_info": {
   "codemirror_mode": {
    "name": "ipython",
    "version": 3
   },
   "file_extension": ".py",
   "mimetype": "text/x-python",
   "name": "python",
   "nbconvert_exporter": "python",
   "pygments_lexer": "ipython3",
   "version": "3.12.2"
  }
 },
 "nbformat": 4,
 "nbformat_minor": 5
}
