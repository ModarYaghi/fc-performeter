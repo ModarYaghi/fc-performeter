{
 "cells": [
  {
   "cell_type": "code",
   "id": "initial_id",
   "metadata": {
    "collapsed": true,
    "ExecuteTime": {
     "end_time": "2024-10-18T14:07:45.748808Z",
     "start_time": "2024-10-18T14:07:42.702299Z"
    }
   },
   "source": [
    "from src.all_in_one import *\n",
    "from src.basic_variables import *\n",
    "from src.analysis_functions import *"
   ],
   "outputs": [
    {
     "name": "stderr",
     "output_type": "stream",
     "text": [
      "2024-10-18 17:07:44,910 - INFO - Processed 711 records so far.\n",
      "2024-10-18 17:07:45,737 - INFO - Processed 328 records so far.\n"
     ]
    }
   ],
   "execution_count": 1
  },
  {
   "metadata": {},
   "cell_type": "markdown",
   "source": "## Initiate Follow-up Assessment Dataset",
   "id": "3ad742c3437255b8"
  },
  {
   "metadata": {
    "ExecuteTime": {
     "end_time": "2024-10-18T14:11:49.324468Z",
     "start_time": "2024-10-18T14:11:49.157322Z"
    }
   },
   "cell_type": "code",
   "source": [
    "fua_file = path_manager.get_data_file(Category.PS, PSFile.PSFU)\n",
    "psfua = get_df(fua_file.path, fua_file.sheet)\n",
    "fua_dataset = Dataset(config_file, fua_file.sheet)\n",
    "filtered_fua = filter_dataframe_on_date(psfua, fua_dataset.dvars, START, END)"
   ],
   "id": "ecb696d93dbdfd23",
   "outputs": [],
   "execution_count": 2
  },
  {
   "metadata": {},
   "cell_type": "markdown",
   "source": "## Counting Follow-up Sessions/Clients",
   "id": "ede4fb168005fc7e"
  },
  {
   "metadata": {
    "ExecuteTime": {
     "end_time": "2024-10-18T14:18:24.931208Z",
     "start_time": "2024-10-18T14:18:24.917410Z"
    }
   },
   "cell_type": "code",
   "source": [
    "f_fua_3m = filter_dataframe_on_date(psfua, 'fu_3m', START, END)\n",
    "f_fua_6m = filter_dataframe_on_date(psfua, 'fu_6m', START, END)\n",
    "f_fua_12m = filter_dataframe_on_date(psfua, 'fu_12m', START, END)"
   ],
   "id": "3300809f0d140d79",
   "outputs": [],
   "execution_count": 5
  },
  {
   "metadata": {
    "ExecuteTime": {
     "end_time": "2024-10-18T14:59:30.107197Z",
     "start_time": "2024-10-18T14:59:30.102799Z"
    }
   },
   "cell_type": "code",
   "source": [
    "# f_fua_3m\n",
    "# f_fua_6m\n",
    "# f_fua_12m"
   ],
   "id": "5a97d7295821bbc6",
   "outputs": [],
   "execution_count": 17
  },
  {
   "metadata": {},
   "cell_type": "markdown",
   "source": "## Follow-up Beneficiaries Sex and Age Groups",
   "id": "a3f845c099e0b514"
  },
  {
   "metadata": {
    "ExecuteTime": {
     "end_time": "2024-10-18T14:59:36.310603Z",
     "start_time": "2024-10-18T14:59:36.300801Z"
    }
   },
   "cell_type": "code",
   "source": [
    "f_fua = pd.merge(filtered_fua, rebuilt_scr[['rid', 'sex', 'age']], on='rid', how='left')\n",
    "# f_fua[['rid', 'fcid', 'sex', 'age']]"
   ],
   "id": "ffd8604caec6b2ef",
   "outputs": [],
   "execution_count": 18
  },
  {
   "cell_type": "code",
   "source": "# f_fua['sex'].value_counts()",
   "metadata": {
    "collapsed": false,
    "ExecuteTime": {
     "end_time": "2024-10-18T14:59:38.453304Z",
     "start_time": "2024-10-18T14:59:38.449356Z"
    }
   },
   "id": "ecfc5d957551c2f2",
   "outputs": [],
   "execution_count": 19
  },
  {
   "cell_type": "code",
   "source": "# categorize_and_count_ages(f_fua['age'])",
   "metadata": {
    "collapsed": false,
    "ExecuteTime": {
     "end_time": "2024-10-18T14:59:40.308888Z",
     "start_time": "2024-10-18T14:59:40.304897Z"
    }
   },
   "id": "877d310ce3d8bf1d",
   "outputs": [],
   "execution_count": 20
  },
  {
   "cell_type": "code",
   "source": "",
   "metadata": {
    "collapsed": false
   },
   "id": "42f995c03dd1af07",
   "execution_count": null,
   "outputs": []
  },
  {
   "cell_type": "code",
   "source": "",
   "metadata": {
    "collapsed": false
   },
   "id": "ed03ecab056996ee",
   "execution_count": null,
   "outputs": []
  }
 ],
 "metadata": {
  "kernelspec": {
   "display_name": "Python 3",
   "language": "python",
   "name": "python3"
  },
  "language_info": {
   "codemirror_mode": {
    "name": "ipython",
    "version": 2
   },
   "file_extension": ".py",
   "mimetype": "text/x-python",
   "name": "python",
   "nbconvert_exporter": "python",
   "pygments_lexer": "ipython2",
   "version": "2.7.6"
  }
 },
 "nbformat": 4,
 "nbformat_minor": 5
}
