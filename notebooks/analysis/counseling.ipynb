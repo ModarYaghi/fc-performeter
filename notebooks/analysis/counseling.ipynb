{
 "cells": [
  {
   "cell_type": "code",
   "id": "initial_id",
   "metadata": {
    "collapsed": true
   },
   "source": [
    "from src.all_in_one import *"
   ],
   "execution_count": null,
   "outputs": []
  },
  {
   "cell_type": "code",
   "source": [
    "threshold = '2023-12-31'\n",
    "_threshold = '2024-03-01'"
   ],
   "metadata": {
    "collapsed": false
   },
   "id": "e630b46d26cceea2",
   "execution_count": null,
   "outputs": []
  },
  {
   "cell_type": "code",
   "source": [
    "# Screening\n",
    "scr = get_df(scr_path, scr_sheet)\n",
    "unique_scr = scr.drop_duplicates(subset='rid')"
   ],
   "metadata": {
    "collapsed": false
   },
   "id": "c35339b2b68a075c",
   "execution_count": null,
   "outputs": []
  },
  {
   "cell_type": "code",
   "source": [
    "gc_dataset = Dataset(config_file, gc_sheet)\n",
    "gc = get_df(gc_path, gc_sheet)"
   ],
   "metadata": {
    "collapsed": false
   },
   "id": "5b6a303e987bb825",
   "execution_count": null,
   "outputs": []
  },
  {
   "cell_type": "code",
   "source": "# _gc = filter_df_by_date(gc, gc_dataset.dvars, threshold, comparison_type='a')",
   "metadata": {
    "collapsed": false
   },
   "id": "c2a5d5af5341e318",
   "execution_count": null,
   "outputs": []
  },
  {
   "cell_type": "code",
   "source": [
    "gc"
   ],
   "metadata": {
    "collapsed": false
   },
   "id": "2a43d6f592473b1e",
   "execution_count": null,
   "outputs": []
  },
  {
   "cell_type": "code",
   "source": [
    "ic_dataset = Dataset(config_file, ic_sheet)\n",
    "ic = get_df(ic_path, ic_sheet)"
   ],
   "metadata": {
    "collapsed": false
   },
   "id": "315d94d1719b9168",
   "execution_count": null,
   "outputs": []
  },
  {
   "cell_type": "code",
   "source": "# _ic = filter_df_by_date(ic, ic_dataset.dvars, threshold, comparison_type='a')",
   "metadata": {
    "collapsed": false
   },
   "id": "2e28ebc1ab533a29",
   "execution_count": null,
   "outputs": []
  },
  {
   "cell_type": "code",
   "source": [
    "_ic"
   ],
   "metadata": {
    "collapsed": false
   },
   "id": "37fcafc8b61e7a49",
   "execution_count": null,
   "outputs": []
  },
  {
   "cell_type": "code",
   "source": [
    "# (ic_q4[ic_dataset.dvars] > threshold).sum().sum()"
   ],
   "metadata": {
    "collapsed": false
   },
   "id": "95cc726a0e86e85f",
   "execution_count": null,
   "outputs": []
  },
  {
   "cell_type": "code",
   "source": [
    "pei_dataset = Dataset(config_file, pei_sheet)\n",
    "pei = get_df(pei_path, pei_sheet)\n",
    "pei = pd.merge(pei, unique_scr[['rid', 'sex', 'age']], on='rid', how='left')\n",
    "# _pei = filter_df_by_date(pei, pei_dataset.dvars, threshold, comparison_type='a')"
   ],
   "metadata": {
    "collapsed": false
   },
   "id": "ec3eec40eeb22ec0",
   "execution_count": null,
   "outputs": []
  },
  {
   "cell_type": "code",
   "source": "# _pei",
   "metadata": {
    "collapsed": false
   },
   "id": "893d2d9f6ed55c3",
   "execution_count": null,
   "outputs": []
  },
  {
   "cell_type": "code",
   "source": [],
   "metadata": {
    "collapsed": false
   },
   "id": "cc20d0ab1e249736",
   "execution_count": null,
   "outputs": []
  },
  {
   "cell_type": "code",
   "source": [
    "# _pei[['pei_loc', 'pei_s1', 'pei_s3']].value_counts(dropna=False)"
   ],
   "metadata": {
    "collapsed": false
   },
   "id": "5ca0f5d93a6ec758",
   "execution_count": null,
   "outputs": []
  },
  {
   "cell_type": "code",
   "source": [
    "# (pei_q4[['pei_s1', 'sex']].value_counts())"
   ],
   "metadata": {
    "collapsed": false
   },
   "id": "3c2bb183e1a73718",
   "execution_count": null,
   "outputs": []
  },
  {
   "cell_type": "code",
   "source": "# (_pei[pei_dataset.dvars] > threshold).sum().sum()",
   "metadata": {
    "collapsed": false
   },
   "id": "bd9393e5ef6278c9",
   "execution_count": null,
   "outputs": []
  },
  {
   "cell_type": "code",
   "source": [
    "trw_dataset = Dataset(config_file, trw_sheet)\n",
    "trw = get_df(trw_path, trw_sheet)\n",
    "trw = pd.merge(trw, unique_scr[['rid', 'sex', 'age']], on='rid', how='left')\n",
    "# _trw = filter_df_by_date(trw, trw_dataset.dvars, threshold)"
   ],
   "metadata": {
    "collapsed": false
   },
   "id": "9614b0e2ec757ffa",
   "execution_count": null,
   "outputs": []
  },
  {
   "cell_type": "code",
   "source": "# _trw",
   "metadata": {
    "collapsed": false
   },
   "id": "fa0058fc118b4ddc",
   "execution_count": null,
   "outputs": []
  },
  {
   "cell_type": "code",
   "source": [],
   "metadata": {
    "collapsed": false
   },
   "id": "94d04cf1c4a8938a",
   "execution_count": null,
   "outputs": []
  },
  {
   "cell_type": "code",
   "source": [
    "cws_dataset = Dataset(config_file, cws_sheet)\n",
    "cws = get_df(cws_path, cws_sheet)\n",
    "cws = pd.merge(cws, unique_scr[['rid', 'sex', 'age']], on='rid', how='left')\n",
    "# _cws = filter_df_by_date(cws, cws_dataset.dvars, threshold)"
   ],
   "metadata": {
    "collapsed": false
   },
   "id": "40520e36497e815d",
   "execution_count": null,
   "outputs": []
  },
  {
   "cell_type": "code",
   "source": "cws.to_clipboard()",
   "metadata": {
    "collapsed": false
   },
   "id": "2c8ac152e58896c2",
   "execution_count": null,
   "outputs": []
  },
  {
   "cell_type": "code",
   "source": [],
   "metadata": {
    "collapsed": false
   },
   "id": "7b3762ada94797d3",
   "execution_count": null,
   "outputs": []
  },
  {
   "cell_type": "code",
   "source": [
    "aw_dataset = Dataset(config_file, aw_sheet)\n",
    "aw = get_df(aw_path, aw_sheet)\n",
    "\"\"\"Awareness sessions data contains sex\"\"\"\n",
    "_aw = filter_df_by_date(aw, aw_dataset.dvars, threshold, comparison_type='a')"
   ],
   "metadata": {
    "collapsed": false
   },
   "id": "9b34ce0643f353f1",
   "execution_count": null,
   "outputs": []
  },
  {
   "cell_type": "code",
   "source": [
    "_aw"
   ],
   "metadata": {
    "collapsed": false
   },
   "id": "a0b66bafc233c687",
   "execution_count": null,
   "outputs": []
  },
  {
   "cell_type": "code",
   "source": [
    "# aw_q4[['aws', 'sex']].value_counts()"
   ],
   "metadata": {
    "collapsed": false
   },
   "id": "41df205e1a23ad9a",
   "execution_count": null,
   "outputs": []
  },
  {
   "cell_type": "code",
   "source": [
    "# aw_q4['aws'].value_counts()"
   ],
   "metadata": {
    "collapsed": false
   },
   "id": "712005b32905c5bd",
   "execution_count": null,
   "outputs": []
  },
  {
   "cell_type": "code",
   "source": [],
   "metadata": {
    "collapsed": false
   },
   "id": "1d932a86cea7fc3b",
   "execution_count": null,
   "outputs": []
  },
  {
   "cell_type": "code",
   "source": [
    "gpt_dataset = Dataset(config_file, gpt_sheet)\n",
    "gpt = get_df(gpt_path, gpt_sheet)\n",
    "_gpt = filter_df_by_date(gpt, gpt_dataset.dvars, threshold)"
   ],
   "metadata": {
    "collapsed": false
   },
   "id": "de7b8b650bc459d4",
   "execution_count": null,
   "outputs": []
  },
  {
   "cell_type": "code",
   "source": [
    "_gpt"
   ],
   "metadata": {
    "collapsed": false
   },
   "id": "209a1432d760d06b",
   "execution_count": null,
   "outputs": []
  },
  {
   "cell_type": "code",
   "source": [
    "(_gpt[gpt_dataset.dvars] > threshold).sum().sum()"
   ],
   "metadata": {
    "collapsed": false
   },
   "id": "fea70e9fa38d22a9",
   "execution_count": null,
   "outputs": []
  },
  {
   "cell_type": "code",
   "source": [],
   "metadata": {
    "collapsed": false
   },
   "id": "6926c55f44993c78",
   "execution_count": null,
   "outputs": []
  },
  {
   "cell_type": "code",
   "source": [
    "ipt_dataset = Dataset(config_file, ipt_sheet)\n",
    "ipt = get_df(ipt_path, ipt_sheet)\n",
    "_ipt = filter_df_by_date(ipt, ipt_dataset.dvars, threshold)"
   ],
   "metadata": {
    "collapsed": false
   },
   "id": "2ef5576f7da9f169",
   "execution_count": null,
   "outputs": []
  },
  {
   "cell_type": "code",
   "source": [
    "_ipt"
   ],
   "metadata": {
    "collapsed": false
   },
   "id": "b12060037260bee1",
   "execution_count": null,
   "outputs": []
  },
  {
   "cell_type": "markdown",
   "source": [],
   "metadata": {
    "collapsed": false
   },
   "id": "427fb3d98940e2a2"
  },
  {
   "cell_type": "code",
   "source": [
    "((_ipt[ipt_dataset.dvars] > threshold) & (_ipt[ipt_dataset.dvars] < _threshold)).sum().sum()"
   ],
   "metadata": {
    "collapsed": false
   },
   "id": "d86576eac2ede6de",
   "execution_count": null,
   "outputs": []
  },
  {
   "cell_type": "code",
   "source": [
    "def sessions_count():\n",
    "    \n",
    "    sessions_num = 0\n",
    "    service_sessions_num = {}\n",
    "    \n",
    "    scr_path = os.path.join(processed_data, 'scr_1223.csv')\n",
    "    scr_sheet = 'Scr'\n",
    "    scr_dataset = Dataset(config_file, scr_sheet)\n",
    "    scr = pd.read_csv(scr_path)\n",
    "    scr = dtype_trans(scr, scr_dataset)\n",
    "    uniq_scr = scr.drop_duplicates(subset='rid')\n",
    "    \n",
    "    scr_q4 = filter_df_by_date(scr, scr_dataset.dvars, threshold)\n",
    "    scr_sessions_num = (scr_q4[scr_dataset.dvars] > threshold).sum().sum()"
   ],
   "metadata": {
    "collapsed": false
   },
   "id": "bf9addf8ee8404eb",
   "execution_count": null,
   "outputs": []
  },
  {
   "cell_type": "code",
   "source": [
    "scr_q4 = filter_df_by_date(scr, scr_dataset.dvars, threshold)\n",
    "scr_sessions_num = (scr_q4[scr_dataset.dvars] > threshold).sum()"
   ],
   "metadata": {
    "collapsed": false
   },
   "id": "b05b13f8df01b241",
   "execution_count": null,
   "outputs": []
  },
  {
   "cell_type": "code",
   "source": [
    "scr_sessions_num"
   ],
   "metadata": {
    "collapsed": false
   },
   "id": "df7dc4d085b1eea",
   "execution_count": null,
   "outputs": []
  }
 ],
 "metadata": {
  "kernelspec": {
   "display_name": "Python 3",
   "language": "python",
   "name": "python3"
  },
  "language_info": {
   "codemirror_mode": {
    "name": "ipython",
    "version": 2
   },
   "file_extension": ".py",
   "mimetype": "text/x-python",
   "name": "python",
   "nbconvert_exporter": "python",
   "pygments_lexer": "ipython2",
   "version": "2.7.6"
  }
 },
 "nbformat": 4,
 "nbformat_minor": 5
}
