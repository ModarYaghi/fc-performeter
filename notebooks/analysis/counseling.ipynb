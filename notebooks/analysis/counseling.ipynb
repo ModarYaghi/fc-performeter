{
 "cells": [
  {
   "cell_type": "code",
   "execution_count": null,
   "id": "initial_id",
   "metadata": {
    "collapsed": true
   },
   "outputs": [],
   "source": [
    "import pandas as pd\n",
    "from src.all_in_one import *\n",
    "from src.utils import *\n",
    "threshold = '2023-09-30'"
   ]
  },
  {
   "cell_type": "code",
   "outputs": [],
   "source": [
    "# Screening\n",
    "scr_path = os.path.join(processed_data, 'scr_1223.csv')\n",
    "screening_sheet = 'Scr'\n",
    "scr_dataset = Dataset(config_file, screening_sheet)\n",
    "scr = pd.read_csv(scr_path)\n",
    "scr = dtype_trans(scr, scr_dataset)\n",
    "unique_scr = scr.drop_duplicates(subset='rid')"
   ],
   "metadata": {
    "collapsed": false
   },
   "id": "c35339b2b68a075c",
   "execution_count": null
  },
  {
   "cell_type": "code",
   "outputs": [],
   "source": [
    "gc_path = os.path.join(processed_data, 'gc_1223.csv')\n",
    "gc_sheet = 'GC'\n",
    "gc_dataset = Dataset(config_file, gc_sheet)\n",
    "gc = pd.read_csv(gc_path)\n",
    "gc = dtype_trans(gc, gc_dataset)"
   ],
   "metadata": {
    "collapsed": false
   },
   "id": "5b6a303e987bb825",
   "execution_count": null
  },
  {
   "cell_type": "code",
   "outputs": [],
   "source": [
    "gc"
   ],
   "metadata": {
    "collapsed": false
   },
   "id": "389b8d8231072313",
   "execution_count": null
  },
  {
   "cell_type": "code",
   "outputs": [],
   "source": [
    "gc_q4 = filter_df_by_date(gc, gc_dataset.dvars, threshold, comparison_type='a')"
   ],
   "metadata": {
    "collapsed": false
   },
   "id": "c2a5d5af5341e318",
   "execution_count": null
  },
  {
   "cell_type": "code",
   "outputs": [],
   "source": [
    "# gc_q4.to_excel('group_counseling_quarter4_2023.xlsx')"
   ],
   "metadata": {
    "collapsed": false
   },
   "id": "2a43d6f592473b1e",
   "execution_count": null
  },
  {
   "cell_type": "code",
   "outputs": [],
   "source": [
    "ic_path = os.path.join(processed_data, 'ic_1223.csv')\n",
    "ic_sheet = 'IC'\n",
    "ic_dataset = Dataset(config_file, ic_sheet)\n",
    "ic = pd.read_csv(ic_path)\n",
    "ic = dtype_trans(ic, ic_dataset)"
   ],
   "metadata": {
    "collapsed": false
   },
   "id": "315d94d1719b9168",
   "execution_count": null
  },
  {
   "cell_type": "code",
   "outputs": [],
   "source": [
    "ic_q4 = filter_df_by_date(ic, ic_dataset.dvars, threshold, comparison_type='a')\n",
    "ic_q4.to_excel('individual_counseling_quarter4_2023.xlsx')"
   ],
   "metadata": {
    "collapsed": false
   },
   "id": "2e28ebc1ab533a29",
   "execution_count": null
  },
  {
   "cell_type": "code",
   "outputs": [],
   "source": [
    "ic_q4['icsp'].value_counts()"
   ],
   "metadata": {
    "collapsed": false
   },
   "id": "37fcafc8b61e7a49",
   "execution_count": null
  },
  {
   "cell_type": "code",
   "outputs": [],
   "source": [
    "# (ic_q4[ic_dataset.dvars] > threshold).sum().sum()"
   ],
   "metadata": {
    "collapsed": false
   },
   "id": "95cc726a0e86e85f",
   "execution_count": null
  },
  {
   "cell_type": "code",
   "outputs": [],
   "source": [
    "pei_path = os.path.join(processed_data, 'pei_1223.csv')\n",
    "pei_sheet = 'PEI'\n",
    "pei_dataset = Dataset(config_file, pei_sheet)\n",
    "pei = pd.read_csv(pei_path)\n",
    "pei = dtype_trans(pei, pei_dataset)\n",
    "# pei = pd.merge(pei, unique_scr[['rid', 'sex', 'age']], on='rid', how='left')\n",
    "# pei_q4 = filter_df_by_date(pei, pei_dataset.dvars, threshold, comparison_type='a')"
   ],
   "metadata": {
    "collapsed": false
   },
   "id": "ec3eec40eeb22ec0",
   "execution_count": null
  },
  {
   "cell_type": "code",
   "outputs": [],
   "source": [
    "rid = 'R1070'\n",
    "pei[pei['rid'] == rid]"
   ],
   "metadata": {
    "collapsed": false
   },
   "id": "893d2d9f6ed55c3",
   "execution_count": null
  },
  {
   "cell_type": "code",
   "outputs": [],
   "source": [
    "pei_q4.to_excel('pei_quarter4_2023.xlsx')"
   ],
   "metadata": {
    "collapsed": false
   },
   "id": "cc20d0ab1e249736",
   "execution_count": null
  },
  {
   "cell_type": "code",
   "outputs": [],
   "source": [
    "pei_q4[['pei_loc', 'pei_s1', 'pei_s3']].value_counts(dropna=False)"
   ],
   "metadata": {
    "collapsed": false
   },
   "id": "5ca0f5d93a6ec758",
   "execution_count": null
  },
  {
   "cell_type": "code",
   "outputs": [],
   "source": [
    "# (pei_q4[['pei_s1', 'sex']].value_counts())"
   ],
   "metadata": {
    "collapsed": false
   },
   "id": "3c2bb183e1a73718",
   "execution_count": null
  },
  {
   "cell_type": "code",
   "outputs": [],
   "source": [
    "# (pei_q4[pei_dataset.dvars] > threshold).sum().sum()"
   ],
   "metadata": {
    "collapsed": false
   },
   "id": "bd9393e5ef6278c9",
   "execution_count": null
  },
  {
   "cell_type": "code",
   "outputs": [],
   "source": [
    "trw_path = os.path.join(processed_data, 'trw_1223.csv')\n",
    "trw_sheet = 'TRW'\n",
    "trw_dataset = Dataset(config_file, trw_sheet)\n",
    "trw = pd.read_csv(trw_path)\n",
    "trw = dtype_trans(trw, trw_dataset)\n",
    "trw = pd.merge(trw, unique_scr[['rid', 'sex', 'age']], on='rid', how='left')\n",
    "trw_q4 = filter_df_by_date(trw, trw_dataset.dvars, threshold)"
   ],
   "metadata": {
    "collapsed": false
   },
   "id": "9614b0e2ec757ffa",
   "execution_count": null
  },
  {
   "cell_type": "code",
   "outputs": [],
   "source": [
    "trw_q4.to_excel('trw_quarter4_2023.xlsx')"
   ],
   "metadata": {
    "collapsed": false
   },
   "id": "fa0058fc118b4ddc",
   "execution_count": null
  },
  {
   "cell_type": "code",
   "outputs": [],
   "source": [],
   "metadata": {
    "collapsed": false
   },
   "id": "94d04cf1c4a8938a"
  },
  {
   "cell_type": "code",
   "outputs": [],
   "source": [
    "cws_path = os.path.join(processed_data, 'cws_1223.csv')\n",
    "cws_sheet = 'CWS'\n",
    "cws_dataset = Dataset(config_file, cws_sheet)\n",
    "cws = pd.read_csv(cws_path)\n",
    "cws = dtype_trans(cws, cws_dataset)\n",
    "cws = pd.merge(cws, unique_scr[['rid', 'sex', 'age']], on='rid', how='left')\n",
    "cws_q4 = filter_df_by_date(cws, cws_dataset.dvars, threshold)"
   ],
   "metadata": {
    "collapsed": false
   },
   "id": "40520e36497e815d",
   "execution_count": null
  },
  {
   "cell_type": "code",
   "outputs": [],
   "source": [
    "cws_q4.to_excel('cws_quarter4_2023.xlsx')"
   ],
   "metadata": {
    "collapsed": false
   },
   "id": "2c8ac152e58896c2",
   "execution_count": null
  },
  {
   "cell_type": "code",
   "outputs": [],
   "source": [],
   "metadata": {
    "collapsed": false
   },
   "id": "7b3762ada94797d3"
  },
  {
   "cell_type": "code",
   "outputs": [],
   "source": [
    "aw_path = os.path.join(processed_data, 'aw_1223.csv')\n",
    "aw_sheet = 'AW'\n",
    "aw_dataset = Dataset(config_file, aw_sheet)\n",
    "aw = pd.read_csv(aw_path)\n",
    "aw = dtype_trans(aw, aw_dataset)\n",
    "\"\"\"Awareness sessions data contains sex\"\"\"\n",
    "aw_q4 = filter_df_by_date(aw, aw_dataset.dvars, threshold, comparison_type='a')"
   ],
   "metadata": {
    "collapsed": false
   },
   "id": "9b34ce0643f353f1",
   "execution_count": null
  },
  {
   "cell_type": "code",
   "outputs": [],
   "source": [
    "# aw_q4.to_excel('aw_quarter4_2023.xlsx')"
   ],
   "metadata": {
    "collapsed": false
   },
   "id": "47469cf90edf0d08",
   "execution_count": null
  },
  {
   "cell_type": "code",
   "outputs": [],
   "source": [
    "# aw_q4[['aws', 'sex']].value_counts()"
   ],
   "metadata": {
    "collapsed": false
   },
   "id": "41df205e1a23ad9a",
   "execution_count": null
  },
  {
   "cell_type": "code",
   "outputs": [],
   "source": [
    "# aw_q4['aws'].value_counts()"
   ],
   "metadata": {
    "collapsed": false
   },
   "id": "712005b32905c5bd",
   "execution_count": null
  },
  {
   "cell_type": "code",
   "outputs": [],
   "source": [],
   "metadata": {
    "collapsed": false
   },
   "id": "1d932a86cea7fc3b",
   "execution_count": null
  },
  {
   "cell_type": "code",
   "outputs": [],
   "source": [
    "gpt_path = os.path.join(processed_data, 'gpt_1223.csv')\n",
    "gpt_sheet = 'GPT'\n",
    "gpt_dataset = Dataset(config_file, gpt_sheet)\n",
    "gpt = pd.read_csv(gpt_path)\n",
    "gpt = dtype_trans(gpt, gpt_dataset)\n",
    "gpt_q4 = filter_df_by_date(gpt, gpt_dataset.dvars, threshold)"
   ],
   "metadata": {
    "collapsed": false
   },
   "id": "de7b8b650bc459d4",
   "execution_count": null
  },
  {
   "cell_type": "code",
   "outputs": [],
   "source": [
    "gpt_q4.to_excel('group_pt_quarter4_2023.xlsx')"
   ],
   "metadata": {
    "collapsed": false
   },
   "id": "209a1432d760d06b",
   "execution_count": null
  },
  {
   "cell_type": "code",
   "outputs": [],
   "source": [
    "# (gpt_q4[gpt_dataset.dvars] > threshold).sum().sum()"
   ],
   "metadata": {
    "collapsed": false
   },
   "id": "fea70e9fa38d22a9",
   "execution_count": null
  },
  {
   "cell_type": "code",
   "outputs": [],
   "source": [],
   "metadata": {
    "collapsed": false
   },
   "id": "6926c55f44993c78",
   "execution_count": null
  },
  {
   "cell_type": "code",
   "outputs": [],
   "source": [
    "ipt_path = os.path.join(processed_data, 'ipt_1223.csv')\n",
    "ipt_sheet = 'IPT'\n",
    "ipt_dataset = Dataset(config_file, ipt_sheet)\n",
    "ipt = pd.read_csv(ipt_path)\n",
    "ipt = dtype_trans(ipt, ipt_dataset)\n",
    "ipt_q4 = filter_df_by_date(ipt, ipt_dataset.dvars, threshold)"
   ],
   "metadata": {
    "collapsed": false
   },
   "id": "2ef5576f7da9f169",
   "execution_count": null
  },
  {
   "cell_type": "code",
   "outputs": [],
   "source": [
    "# ipt_q4.to_excel('individual_pt_quarter4_2023.xlsx')"
   ],
   "metadata": {
    "collapsed": false
   },
   "id": "b12060037260bee1",
   "execution_count": null
  },
  {
   "cell_type": "markdown",
   "source": [],
   "metadata": {
    "collapsed": false
   },
   "id": "427fb3d98940e2a2"
  },
  {
   "cell_type": "code",
   "outputs": [],
   "source": [
    "(ipt_q4[ipt_dataset.dvars] > threshold).sum()"
   ],
   "metadata": {
    "collapsed": false
   },
   "id": "d86576eac2ede6de",
   "execution_count": null
  },
  {
   "cell_type": "code",
   "outputs": [],
   "source": [
    "def sessions_count():\n",
    "    \n",
    "    sessions_num = 0\n",
    "    service_sessions_num = {}\n",
    "    \n",
    "    scr_path = os.path.join(processed_data, 'scr_1223.csv')\n",
    "    scr_sheet = 'Scr'\n",
    "    scr_dataset = Dataset(config_file, scr_sheet)\n",
    "    scr = pd.read_csv(scr_path)\n",
    "    scr = dtype_trans(scr, scr_dataset)\n",
    "    uniq_scr = scr.drop_duplicates(subset='rid')\n",
    "    \n",
    "    scr_q4 = filter_df_by_date(scr, scr_dataset.dvars, threshold)\n",
    "    scr_sessions_num = (scr_q4[scr_dataset.dvars] > threshold).sum().sum()"
   ],
   "metadata": {
    "collapsed": false
   },
   "id": "bf9addf8ee8404eb"
  },
  {
   "cell_type": "code",
   "outputs": [],
   "source": [
    "scr_q4 = filter_df_by_date(scr, scr_dataset.dvars, threshold)\n",
    "scr_sessions_num = (scr_q4[scr_dataset.dvars] > threshold).sum()"
   ],
   "metadata": {
    "collapsed": false
   },
   "id": "b05b13f8df01b241",
   "execution_count": null
  },
  {
   "cell_type": "code",
   "outputs": [],
   "source": [
    "scr_sessions_num"
   ],
   "metadata": {
    "collapsed": false
   },
   "id": "df7dc4d085b1eea",
   "execution_count": null
  }
 ],
 "metadata": {
  "kernelspec": {
   "display_name": "Python 3",
   "language": "python",
   "name": "python3"
  },
  "language_info": {
   "codemirror_mode": {
    "name": "ipython",
    "version": 2
   },
   "file_extension": ".py",
   "mimetype": "text/x-python",
   "name": "python",
   "nbconvert_exporter": "python",
   "pygments_lexer": "ipython2",
   "version": "2.7.6"
  }
 },
 "nbformat": 4,
 "nbformat_minor": 5
}
