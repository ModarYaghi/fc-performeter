{
 "cells": [
  {
   "cell_type": "code",
   "execution_count": 2,
   "id": "initial_id",
   "metadata": {
    "ExecuteTime": {
     "end_time": "2024-10-18T13:10:36.277976Z",
     "start_time": "2024-10-18T13:10:33.009634Z"
    },
    "collapsed": true
   },
   "outputs": [
    {
     "name": "stderr",
     "output_type": "stream",
     "text": [
      "2024-10-24 11:17:52,620 - INFO - Processed 711 records so far.\n",
      "2024-10-24 11:17:53,555 - INFO - Processed 328 records so far.\n"
     ]
    }
   ],
   "source": [
    "from src.all_in_one import *\n",
    "from src.basic_variables import *"
   ]
  },
  {
   "cell_type": "markdown",
   "id": "ebf65b9f120be663",
   "metadata": {},
   "source": [
    "## Initiate Intake Dataset"
   ]
  },
  {
   "cell_type": "code",
   "execution_count": 3,
   "id": "9e9c8b2b5d82f1a7",
   "metadata": {
    "ExecuteTime": {
     "end_time": "2024-10-18T13:10:36.447372Z",
     "start_time": "2024-10-18T13:10:36.281984Z"
    },
    "collapsed": false
   },
   "outputs": [],
   "source": [
    "int_file = path_manager.get_data_file(Category.PS, PSFile.PSNT)\n",
    "intake = get_df(int_file.path, int_file.sheet)\n",
    "intake_dataset = Dataset(config_file, int_file.sheet)\n",
    "# filtered_intake = filter_dataframe_on_date(intake, intake_dataset.dvars, START, END, FilterType.IN)"
   ]
  },
  {
   "cell_type": "code",
   "execution_count": 4,
   "id": "7ff7c7cd42f4175d",
   "metadata": {
    "ExecuteTime": {
     "end_time": "2024-10-18T13:10:36.675356Z",
     "start_time": "2024-10-18T13:10:36.671277Z"
    },
    "collapsed": false
   },
   "outputs": [
    {
     "data": {
      "text/html": [
       "<div>\n",
       "<style scoped>\n",
       "    .dataframe tbody tr th:only-of-type {\n",
       "        vertical-align: middle;\n",
       "    }\n",
       "\n",
       "    .dataframe tbody tr th {\n",
       "        vertical-align: top;\n",
       "    }\n",
       "\n",
       "    .dataframe thead th {\n",
       "        text-align: right;\n",
       "    }\n",
       "</style>\n",
       "<table border=\"1\" class=\"dataframe\">\n",
       "  <thead>\n",
       "    <tr style=\"text-align: right;\">\n",
       "      <th></th>\n",
       "      <th>intsp</th>\n",
       "      <th>ntspi</th>\n",
       "      <th>rid</th>\n",
       "      <th>fcid</th>\n",
       "      <th>firstname</th>\n",
       "      <th>lastname</th>\n",
       "      <th>nt_s1</th>\n",
       "      <th>nt_s2</th>\n",
       "      <th>nt_s3</th>\n",
       "      <th>nt_re</th>\n",
       "      <th>...</th>\n",
       "      <th>secondary_torture</th>\n",
       "      <th>sexual_violation_a</th>\n",
       "      <th>sexual_violation_p</th>\n",
       "      <th>hrd</th>\n",
       "      <th>journalist</th>\n",
       "      <th>wov</th>\n",
       "      <th>stgbv</th>\n",
       "      <th>lgbti</th>\n",
       "      <th>other</th>\n",
       "      <th>note</th>\n",
       "    </tr>\n",
       "  </thead>\n",
       "  <tbody>\n",
       "    <tr>\n",
       "      <th>0</th>\n",
       "      <td>IJ</td>\n",
       "      <td>1</td>\n",
       "      <td>R0450</td>\n",
       "      <td>8110080001</td>\n",
       "      <td>آية</td>\n",
       "      <td>فاضل</td>\n",
       "      <td>2022-08-25</td>\n",
       "      <td>2022-08-31</td>\n",
       "      <td>2022-09-15</td>\n",
       "      <td>NaT</td>\n",
       "      <td>...</td>\n",
       "      <td>Yes</td>\n",
       "      <td>No</td>\n",
       "      <td>No</td>\n",
       "      <td>No</td>\n",
       "      <td>No</td>\n",
       "      <td>Yes</td>\n",
       "      <td>Yes</td>\n",
       "      <td>No</td>\n",
       "      <td>No</td>\n",
       "      <td>الملف مغلق</td>\n",
       "    </tr>\n",
       "    <tr>\n",
       "      <th>1</th>\n",
       "      <td>IJ</td>\n",
       "      <td>2</td>\n",
       "      <td>R0481</td>\n",
       "      <td>8110080002</td>\n",
       "      <td>حميدة</td>\n",
       "      <td>مصطفى</td>\n",
       "      <td>2022-08-26</td>\n",
       "      <td>2022-08-29</td>\n",
       "      <td>NaT</td>\n",
       "      <td>2023-11-01</td>\n",
       "      <td>...</td>\n",
       "      <td>Yes</td>\n",
       "      <td>No</td>\n",
       "      <td>No</td>\n",
       "      <td>No</td>\n",
       "      <td>No</td>\n",
       "      <td>Yes</td>\n",
       "      <td>No</td>\n",
       "      <td>No</td>\n",
       "      <td>Yes</td>\n",
       "      <td>اتجار بالاعضاء</td>\n",
       "    </tr>\n",
       "    <tr>\n",
       "      <th>2</th>\n",
       "      <td>IJ</td>\n",
       "      <td>3</td>\n",
       "      <td>R0459</td>\n",
       "      <td>8110080003</td>\n",
       "      <td>فاطمة</td>\n",
       "      <td>ديوك</td>\n",
       "      <td>2022-09-01</td>\n",
       "      <td>2022-09-06</td>\n",
       "      <td>2022-09-09</td>\n",
       "      <td>2023-10-17</td>\n",
       "      <td>...</td>\n",
       "      <td>Yes</td>\n",
       "      <td>No</td>\n",
       "      <td>No</td>\n",
       "      <td>No</td>\n",
       "      <td>No</td>\n",
       "      <td>Yes</td>\n",
       "      <td>No</td>\n",
       "      <td>No</td>\n",
       "      <td>No</td>\n",
       "      <td>NaN</td>\n",
       "    </tr>\n",
       "    <tr>\n",
       "      <th>3</th>\n",
       "      <td>IJ</td>\n",
       "      <td>4</td>\n",
       "      <td>R0571</td>\n",
       "      <td>8110080004</td>\n",
       "      <td>سميحة</td>\n",
       "      <td>نجمة</td>\n",
       "      <td>2022-12-15</td>\n",
       "      <td>2022-12-22</td>\n",
       "      <td>2022-12-27</td>\n",
       "      <td>NaT</td>\n",
       "      <td>...</td>\n",
       "      <td>No</td>\n",
       "      <td>No</td>\n",
       "      <td>No</td>\n",
       "      <td>No</td>\n",
       "      <td>No</td>\n",
       "      <td>Yes</td>\n",
       "      <td>No</td>\n",
       "      <td>No</td>\n",
       "      <td>No</td>\n",
       "      <td>NaN</td>\n",
       "    </tr>\n",
       "    <tr>\n",
       "      <th>4</th>\n",
       "      <td>IJ</td>\n",
       "      <td>5</td>\n",
       "      <td>R0487</td>\n",
       "      <td>8110080005</td>\n",
       "      <td>رياض</td>\n",
       "      <td>الأسعد</td>\n",
       "      <td>2022-12-15</td>\n",
       "      <td>2022-12-19</td>\n",
       "      <td>NaT</td>\n",
       "      <td>NaT</td>\n",
       "      <td>...</td>\n",
       "      <td>No</td>\n",
       "      <td>No</td>\n",
       "      <td>No</td>\n",
       "      <td>No</td>\n",
       "      <td>No</td>\n",
       "      <td>Yes</td>\n",
       "      <td>No</td>\n",
       "      <td>No</td>\n",
       "      <td>No</td>\n",
       "      <td>NaN</td>\n",
       "    </tr>\n",
       "  </tbody>\n",
       "</table>\n",
       "<p>5 rows × 23 columns</p>\n",
       "</div>"
      ],
      "text/plain": [
       "  intsp  ntspi    rid        fcid firstname lastname      nt_s1      nt_s2  \\\n",
       "0    IJ      1  R0450  8110080001       آية     فاضل 2022-08-25 2022-08-31   \n",
       "1    IJ      2  R0481  8110080002     حميدة    مصطفى 2022-08-26 2022-08-29   \n",
       "2    IJ      3  R0459  8110080003     فاطمة     ديوك 2022-09-01 2022-09-06   \n",
       "3    IJ      4  R0571  8110080004     سميحة     نجمة 2022-12-15 2022-12-22   \n",
       "4    IJ      5  R0487  8110080005      رياض   الأسعد 2022-12-15 2022-12-19   \n",
       "\n",
       "       nt_s3      nt_re  ... secondary_torture sexual_violation_a  \\\n",
       "0 2022-09-15        NaT  ...               Yes                 No   \n",
       "1        NaT 2023-11-01  ...               Yes                 No   \n",
       "2 2022-09-09 2023-10-17  ...               Yes                 No   \n",
       "3 2022-12-27        NaT  ...                No                 No   \n",
       "4        NaT        NaT  ...                No                 No   \n",
       "\n",
       "  sexual_violation_p hrd journalist  wov stgbv lgbti other             note  \n",
       "0                 No  No         No  Yes   Yes    No    No       الملف مغلق  \n",
       "1                 No  No         No  Yes    No    No   Yes  اتجار بالاعضاء   \n",
       "2                 No  No         No  Yes    No    No    No              NaN  \n",
       "3                 No  No         No  Yes    No    No    No              NaN  \n",
       "4                 No  No         No  Yes    No    No    No              NaN  \n",
       "\n",
       "[5 rows x 23 columns]"
      ]
     },
     "execution_count": 4,
     "metadata": {},
     "output_type": "execute_result"
    }
   ],
   "source": [
    "intake.head()"
   ]
  },
  {
   "cell_type": "markdown",
   "id": "f9177a2e5e4899a4",
   "metadata": {},
   "source": [
    "## Filter New Intake"
   ]
  },
  {
   "cell_type": "code",
   "execution_count": 16,
   "id": "f9abb187b5daa473",
   "metadata": {
    "ExecuteTime": {
     "end_time": "2024-10-18T13:32:26.602284Z",
     "start_time": "2024-10-18T13:32:26.581502Z"
    }
   },
   "outputs": [],
   "source": [
    "new_nt_s1 = filter_dataframe_on_date(intake, \"nt_s1\", START, END)\n",
    "new_intake = filter_dataframe_on_date(intake, \"nt_s2\", START, END)\n",
    "new_nt_s3 = filter_dataframe_on_date(intake, \"nt_s3\", START, END)\n",
    "new_reintake = filter_dataframe_on_date(intake, \"nt_re\", START, END)"
   ]
  },
  {
   "cell_type": "code",
   "execution_count": 38,
   "id": "db4d0f19071f23da",
   "metadata": {
    "ExecuteTime": {
     "end_time": "2024-10-18T14:27:59.728273Z",
     "start_time": "2024-10-18T14:27:59.723716Z"
    }
   },
   "outputs": [],
   "source": [
    "# new_intake"
   ]
  },
  {
   "cell_type": "code",
   "execution_count": 39,
   "id": "c3e1050198f51978",
   "metadata": {
    "ExecuteTime": {
     "end_time": "2024-10-18T14:28:01.999171Z",
     "start_time": "2024-10-18T14:28:01.994981Z"
    }
   },
   "outputs": [],
   "source": [
    "# new_reintake"
   ]
  },
  {
   "cell_type": "markdown",
   "id": "cfb29fd62b296db",
   "metadata": {},
   "source": [
    "## Intake Number of Sessions"
   ]
  },
  {
   "cell_type": "code",
   "execution_count": 20,
   "id": "19cd5f8fef6da0d2",
   "metadata": {
    "ExecuteTime": {
     "end_time": "2024-10-18T13:38:19.464551Z",
     "start_time": "2024-10-18T13:38:19.460408Z"
    }
   },
   "outputs": [],
   "source": [
    "nt_s1 = new_nt_s1.shape[0]\n",
    "nt_s2 = new_intake.shape[0]\n",
    "nt_s3 = new_nt_s3.shape[0]\n",
    "nt_re = new_reintake.shape[0]"
   ]
  },
  {
   "cell_type": "code",
   "execution_count": 40,
   "id": "526b67a6dd5bdd90",
   "metadata": {
    "ExecuteTime": {
     "end_time": "2024-10-18T14:28:08.056818Z",
     "start_time": "2024-10-18T14:28:08.052757Z"
    }
   },
   "outputs": [],
   "source": [
    "# nt_s1 + nt_s2 + nt_s3 + nt_re"
   ]
  },
  {
   "cell_type": "markdown",
   "id": "347794a8b827b678",
   "metadata": {},
   "source": [
    "## New Intake Sex and Age Groups"
   ]
  },
  {
   "cell_type": "code",
   "execution_count": 41,
   "id": "1e73e0a58363a508",
   "metadata": {
    "ExecuteTime": {
     "end_time": "2024-10-18T14:28:18.286791Z",
     "start_time": "2024-10-18T14:28:18.277744Z"
    },
    "collapsed": false
   },
   "outputs": [],
   "source": [
    "f_new_intake = pd.merge(\n",
    "    new_intake, rebuilt_scr[[\"rid\", \"sex\", \"age\"]], on=\"rid\", how=\"left\"\n",
    ")\n",
    "# f_new_intake[['rid', 'fcid', 'sex', 'age']]"
   ]
  },
  {
   "cell_type": "code",
   "execution_count": 42,
   "id": "68bd42e4b26d152c",
   "metadata": {
    "ExecuteTime": {
     "end_time": "2024-10-18T14:28:21.513718Z",
     "start_time": "2024-10-18T14:28:21.510264Z"
    }
   },
   "outputs": [],
   "source": [
    "# f_new_intake['sex'].value_counts(dropna=False, normalize=True)"
   ]
  },
  {
   "cell_type": "code",
   "execution_count": 43,
   "id": "12979f78d2241be9",
   "metadata": {
    "ExecuteTime": {
     "end_time": "2024-10-18T14:28:23.730911Z",
     "start_time": "2024-10-18T14:28:23.726775Z"
    }
   },
   "outputs": [],
   "source": [
    "# categorize_and_count_ages(f_new_intake['age'])"
   ]
  },
  {
   "cell_type": "markdown",
   "id": "74758ca087b00a55",
   "metadata": {},
   "source": [
    "## Beneficiaries Victimhood"
   ]
  },
  {
   "cell_type": "code",
   "execution_count": 35,
   "id": "bf6b26d10168116",
   "metadata": {
    "ExecuteTime": {
     "end_time": "2024-10-18T13:59:26.000979Z",
     "start_time": "2024-10-18T13:59:25.997641Z"
    },
    "collapsed": false
   },
   "outputs": [],
   "source": [
    "# intake_dataset.bovars"
   ]
  },
  {
   "cell_type": "code",
   "execution_count": 36,
   "id": "8fe5f120cc5ae6b5",
   "metadata": {
    "ExecuteTime": {
     "end_time": "2024-10-18T14:00:02.712510Z",
     "start_time": "2024-10-18T14:00:02.696928Z"
    }
   },
   "outputs": [],
   "source": [
    "count_df = new_intake[intake_dataset.bovars].apply(lambda x: x.value_counts()).fillna(0)\n",
    "count_df = count_df.T.reset_index().rename(\n",
    "    columns={\"index\": \"victimhood\"}\n",
    ")  # Transposing\n",
    "count_df[\"No\"] = count_df[\"No\"].astype(\"Int64\")\n",
    "count_df[\"Yes\"] = count_df[\"Yes\"].astype(\"Int64\")\n"
   ]
  },
  {
   "cell_type": "code",
   "execution_count": 44,
   "id": "3202f610cf6055e2",
   "metadata": {
    "ExecuteTime": {
     "end_time": "2024-10-18T14:28:28.889764Z",
     "start_time": "2024-10-18T14:28:28.886328Z"
    }
   },
   "outputs": [],
   "source": [
    "# count_df"
   ]
  },
  {
   "cell_type": "code",
   "execution_count": null,
   "id": "cd020a2a",
   "metadata": {},
   "outputs": [],
   "source": []
  }
 ],
 "metadata": {
  "kernelspec": {
   "display_name": "Python 3",
   "language": "python",
   "name": "python3"
  },
  "language_info": {
   "codemirror_mode": {
    "name": "ipython",
    "version": 3
   },
   "file_extension": ".py",
   "mimetype": "text/x-python",
   "name": "python",
   "nbconvert_exporter": "python",
   "pygments_lexer": "ipython3",
   "version": "3.12.2"
  }
 },
 "nbformat": 4,
 "nbformat_minor": 5
}
