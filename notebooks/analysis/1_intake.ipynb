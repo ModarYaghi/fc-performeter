{
 "cells": [
  {
   "cell_type": "code",
   "id": "initial_id",
   "metadata": {
    "collapsed": true,
    "ExecuteTime": {
     "end_time": "2024-07-17T23:28:46.324Z",
     "start_time": "2024-07-17T23:28:45.494754Z"
    }
   },
   "source": "from src.all_in_one import *",
   "outputs": [],
   "execution_count": 2
  },
  {
   "cell_type": "code",
   "source": [
    "# Screening\n",
    "scr_dataset = Dataset(config_file, scr_sheet)\n",
    "scr = get_df(scr_path, scr_sheet)\n",
    "unique_scr = scr.drop_duplicates(subset='rid')"
   ],
   "metadata": {
    "collapsed": false
   },
   "id": "51e8445f98a3f42d",
   "outputs": [],
   "execution_count": null
  },
  {
   "metadata": {},
   "cell_type": "code",
   "source": "scr",
   "id": "2f09aa8763443bea",
   "outputs": [],
   "execution_count": null
  },
  {
   "cell_type": "code",
   "source": [
    "int_file = path_manager.get_data_file(Category.PS, PSFile.PSNT)\n",
    "intake = get_df(int_file.path, int_file.sheet)\n",
    "intake_dataset = Dataset(config_file, int_file.sheet)\n",
    "# filtered_intake = filter_dataframe_on_date(intake, intake_dataset.dvars, start, end, FilterType.IN)"
   ],
   "metadata": {
    "collapsed": false,
    "ExecuteTime": {
     "end_time": "2024-07-17T23:28:49.112189Z",
     "start_time": "2024-07-17T23:28:48.893215Z"
    }
   },
   "id": "9e9c8b2b5d82f1a7",
   "outputs": [],
   "execution_count": 3
  },
  {
   "cell_type": "code",
   "source": "# filtered_intake",
   "metadata": {
    "collapsed": false
   },
   "id": "7ff7c7cd42f4175d",
   "outputs": [],
   "execution_count": null
  },
  {
   "metadata": {
    "ExecuteTime": {
     "end_time": "2024-07-17T23:28:51.016321Z",
     "start_time": "2024-07-17T23:28:50.989538Z"
    }
   },
   "cell_type": "code",
   "source": "intake",
   "id": "db4d0f19071f23da",
   "outputs": [
    {
     "data": {
      "text/plain": [
       "    intsp  ntspi    rid        fcid firstname lastname      nt_s1      nt_s2  \\\n",
       "0      IJ      1  R0450  8110080001       آية     فاضل 2022-08-25 2022-08-31   \n",
       "1      IJ      2  R0481  8110080002     حميدة    مصطفى 2022-08-26 2022-08-29   \n",
       "2      IJ      3  R0459  8110080003     فاطمة     ديوك 2022-09-01 2022-09-06   \n",
       "3      IJ      4  R0571  8110080004     سميحة     نجمة 2022-12-15 2022-12-22   \n",
       "4      IJ      5  R0487  8110080005      رياض   الأسعد 2022-12-15 2022-12-19   \n",
       "..    ...    ...    ...         ...       ...      ...        ...        ...   \n",
       "324    YQ    128  R0896  8110020128      أحمد   النزال 2024-02-29 2024-04-05   \n",
       "325    YQ    129  R0326  8110020129     أسماء    عزيزة 2024-03-01 2024-03-27   \n",
       "326    YQ    130  R1130  8110020130       قصي     تركي 2024-03-28 2024-04-04   \n",
       "327    YQ    131  R1246  8110020131     فادية    سريول 2024-05-21 2024-05-29   \n",
       "328    YQ    132  R1253  8110020132      صفاء     محمد 2024-05-22 2024-05-24   \n",
       "\n",
       "         nt_s3      nt_re  ... secondary_torture sexual_violation_a  \\\n",
       "0   2022-09-15        NaT  ...               Yes                 No   \n",
       "1          NaT 2023-11-01  ...               Yes                 No   \n",
       "2   2022-09-09 2023-10-17  ...               Yes                 No   \n",
       "3   2022-12-27        NaT  ...                No                 No   \n",
       "4          NaT        NaT  ...                No                 No   \n",
       "..         ...        ...  ...               ...                ...   \n",
       "324        NaT        NaT  ...               Yes                 No   \n",
       "325        NaT        NaT  ...               Yes                 No   \n",
       "326        NaT        NaT  ...               Yes                 No   \n",
       "327        NaT        NaT  ...               Yes                 No   \n",
       "328        NaT        NaT  ...               Yes                 No   \n",
       "\n",
       "    sexual_violation_p hrd journalist  wov stgbv lgbti other             note  \n",
       "0                   No  No         No  Yes   Yes    No    No       الملف مغلق  \n",
       "1                   No  No         No  Yes    No    No   Yes  اتجار بالاعضاء   \n",
       "2                   No  No         No  Yes    No    No    No              NaN  \n",
       "3                   No  No         No  Yes    No    No    No              NaN  \n",
       "4                   No  No         No  Yes    No    No    No              NaN  \n",
       "..                 ...  ..        ...  ...   ...   ...   ...              ...  \n",
       "324                Yes  No         No  Yes   Yes    No    No              NaN  \n",
       "325                 No  No         No  Yes    No    No    No              NaN  \n",
       "326                Yes  No         No  Yes   Yes    No    No              NaN  \n",
       "327                 No  No         No  Yes    No    No    No              NaN  \n",
       "328                 No  No         No  Yes    No    No    No              NaN  \n",
       "\n",
       "[329 rows x 23 columns]"
      ],
      "text/html": [
       "<div>\n",
       "<style scoped>\n",
       "    .dataframe tbody tr th:only-of-type {\n",
       "        vertical-align: middle;\n",
       "    }\n",
       "\n",
       "    .dataframe tbody tr th {\n",
       "        vertical-align: top;\n",
       "    }\n",
       "\n",
       "    .dataframe thead th {\n",
       "        text-align: right;\n",
       "    }\n",
       "</style>\n",
       "<table border=\"1\" class=\"dataframe\">\n",
       "  <thead>\n",
       "    <tr style=\"text-align: right;\">\n",
       "      <th></th>\n",
       "      <th>intsp</th>\n",
       "      <th>ntspi</th>\n",
       "      <th>rid</th>\n",
       "      <th>fcid</th>\n",
       "      <th>firstname</th>\n",
       "      <th>lastname</th>\n",
       "      <th>nt_s1</th>\n",
       "      <th>nt_s2</th>\n",
       "      <th>nt_s3</th>\n",
       "      <th>nt_re</th>\n",
       "      <th>...</th>\n",
       "      <th>secondary_torture</th>\n",
       "      <th>sexual_violation_a</th>\n",
       "      <th>sexual_violation_p</th>\n",
       "      <th>hrd</th>\n",
       "      <th>journalist</th>\n",
       "      <th>wov</th>\n",
       "      <th>stgbv</th>\n",
       "      <th>lgbti</th>\n",
       "      <th>other</th>\n",
       "      <th>note</th>\n",
       "    </tr>\n",
       "  </thead>\n",
       "  <tbody>\n",
       "    <tr>\n",
       "      <th>0</th>\n",
       "      <td>IJ</td>\n",
       "      <td>1</td>\n",
       "      <td>R0450</td>\n",
       "      <td>8110080001</td>\n",
       "      <td>آية</td>\n",
       "      <td>فاضل</td>\n",
       "      <td>2022-08-25</td>\n",
       "      <td>2022-08-31</td>\n",
       "      <td>2022-09-15</td>\n",
       "      <td>NaT</td>\n",
       "      <td>...</td>\n",
       "      <td>Yes</td>\n",
       "      <td>No</td>\n",
       "      <td>No</td>\n",
       "      <td>No</td>\n",
       "      <td>No</td>\n",
       "      <td>Yes</td>\n",
       "      <td>Yes</td>\n",
       "      <td>No</td>\n",
       "      <td>No</td>\n",
       "      <td>الملف مغلق</td>\n",
       "    </tr>\n",
       "    <tr>\n",
       "      <th>1</th>\n",
       "      <td>IJ</td>\n",
       "      <td>2</td>\n",
       "      <td>R0481</td>\n",
       "      <td>8110080002</td>\n",
       "      <td>حميدة</td>\n",
       "      <td>مصطفى</td>\n",
       "      <td>2022-08-26</td>\n",
       "      <td>2022-08-29</td>\n",
       "      <td>NaT</td>\n",
       "      <td>2023-11-01</td>\n",
       "      <td>...</td>\n",
       "      <td>Yes</td>\n",
       "      <td>No</td>\n",
       "      <td>No</td>\n",
       "      <td>No</td>\n",
       "      <td>No</td>\n",
       "      <td>Yes</td>\n",
       "      <td>No</td>\n",
       "      <td>No</td>\n",
       "      <td>Yes</td>\n",
       "      <td>اتجار بالاعضاء</td>\n",
       "    </tr>\n",
       "    <tr>\n",
       "      <th>2</th>\n",
       "      <td>IJ</td>\n",
       "      <td>3</td>\n",
       "      <td>R0459</td>\n",
       "      <td>8110080003</td>\n",
       "      <td>فاطمة</td>\n",
       "      <td>ديوك</td>\n",
       "      <td>2022-09-01</td>\n",
       "      <td>2022-09-06</td>\n",
       "      <td>2022-09-09</td>\n",
       "      <td>2023-10-17</td>\n",
       "      <td>...</td>\n",
       "      <td>Yes</td>\n",
       "      <td>No</td>\n",
       "      <td>No</td>\n",
       "      <td>No</td>\n",
       "      <td>No</td>\n",
       "      <td>Yes</td>\n",
       "      <td>No</td>\n",
       "      <td>No</td>\n",
       "      <td>No</td>\n",
       "      <td>NaN</td>\n",
       "    </tr>\n",
       "    <tr>\n",
       "      <th>3</th>\n",
       "      <td>IJ</td>\n",
       "      <td>4</td>\n",
       "      <td>R0571</td>\n",
       "      <td>8110080004</td>\n",
       "      <td>سميحة</td>\n",
       "      <td>نجمة</td>\n",
       "      <td>2022-12-15</td>\n",
       "      <td>2022-12-22</td>\n",
       "      <td>2022-12-27</td>\n",
       "      <td>NaT</td>\n",
       "      <td>...</td>\n",
       "      <td>No</td>\n",
       "      <td>No</td>\n",
       "      <td>No</td>\n",
       "      <td>No</td>\n",
       "      <td>No</td>\n",
       "      <td>Yes</td>\n",
       "      <td>No</td>\n",
       "      <td>No</td>\n",
       "      <td>No</td>\n",
       "      <td>NaN</td>\n",
       "    </tr>\n",
       "    <tr>\n",
       "      <th>4</th>\n",
       "      <td>IJ</td>\n",
       "      <td>5</td>\n",
       "      <td>R0487</td>\n",
       "      <td>8110080005</td>\n",
       "      <td>رياض</td>\n",
       "      <td>الأسعد</td>\n",
       "      <td>2022-12-15</td>\n",
       "      <td>2022-12-19</td>\n",
       "      <td>NaT</td>\n",
       "      <td>NaT</td>\n",
       "      <td>...</td>\n",
       "      <td>No</td>\n",
       "      <td>No</td>\n",
       "      <td>No</td>\n",
       "      <td>No</td>\n",
       "      <td>No</td>\n",
       "      <td>Yes</td>\n",
       "      <td>No</td>\n",
       "      <td>No</td>\n",
       "      <td>No</td>\n",
       "      <td>NaN</td>\n",
       "    </tr>\n",
       "    <tr>\n",
       "      <th>...</th>\n",
       "      <td>...</td>\n",
       "      <td>...</td>\n",
       "      <td>...</td>\n",
       "      <td>...</td>\n",
       "      <td>...</td>\n",
       "      <td>...</td>\n",
       "      <td>...</td>\n",
       "      <td>...</td>\n",
       "      <td>...</td>\n",
       "      <td>...</td>\n",
       "      <td>...</td>\n",
       "      <td>...</td>\n",
       "      <td>...</td>\n",
       "      <td>...</td>\n",
       "      <td>...</td>\n",
       "      <td>...</td>\n",
       "      <td>...</td>\n",
       "      <td>...</td>\n",
       "      <td>...</td>\n",
       "      <td>...</td>\n",
       "      <td>...</td>\n",
       "    </tr>\n",
       "    <tr>\n",
       "      <th>324</th>\n",
       "      <td>YQ</td>\n",
       "      <td>128</td>\n",
       "      <td>R0896</td>\n",
       "      <td>8110020128</td>\n",
       "      <td>أحمد</td>\n",
       "      <td>النزال</td>\n",
       "      <td>2024-02-29</td>\n",
       "      <td>2024-04-05</td>\n",
       "      <td>NaT</td>\n",
       "      <td>NaT</td>\n",
       "      <td>...</td>\n",
       "      <td>Yes</td>\n",
       "      <td>No</td>\n",
       "      <td>Yes</td>\n",
       "      <td>No</td>\n",
       "      <td>No</td>\n",
       "      <td>Yes</td>\n",
       "      <td>Yes</td>\n",
       "      <td>No</td>\n",
       "      <td>No</td>\n",
       "      <td>NaN</td>\n",
       "    </tr>\n",
       "    <tr>\n",
       "      <th>325</th>\n",
       "      <td>YQ</td>\n",
       "      <td>129</td>\n",
       "      <td>R0326</td>\n",
       "      <td>8110020129</td>\n",
       "      <td>أسماء</td>\n",
       "      <td>عزيزة</td>\n",
       "      <td>2024-03-01</td>\n",
       "      <td>2024-03-27</td>\n",
       "      <td>NaT</td>\n",
       "      <td>NaT</td>\n",
       "      <td>...</td>\n",
       "      <td>Yes</td>\n",
       "      <td>No</td>\n",
       "      <td>No</td>\n",
       "      <td>No</td>\n",
       "      <td>No</td>\n",
       "      <td>Yes</td>\n",
       "      <td>No</td>\n",
       "      <td>No</td>\n",
       "      <td>No</td>\n",
       "      <td>NaN</td>\n",
       "    </tr>\n",
       "    <tr>\n",
       "      <th>326</th>\n",
       "      <td>YQ</td>\n",
       "      <td>130</td>\n",
       "      <td>R1130</td>\n",
       "      <td>8110020130</td>\n",
       "      <td>قصي</td>\n",
       "      <td>تركي</td>\n",
       "      <td>2024-03-28</td>\n",
       "      <td>2024-04-04</td>\n",
       "      <td>NaT</td>\n",
       "      <td>NaT</td>\n",
       "      <td>...</td>\n",
       "      <td>Yes</td>\n",
       "      <td>No</td>\n",
       "      <td>Yes</td>\n",
       "      <td>No</td>\n",
       "      <td>No</td>\n",
       "      <td>Yes</td>\n",
       "      <td>Yes</td>\n",
       "      <td>No</td>\n",
       "      <td>No</td>\n",
       "      <td>NaN</td>\n",
       "    </tr>\n",
       "    <tr>\n",
       "      <th>327</th>\n",
       "      <td>YQ</td>\n",
       "      <td>131</td>\n",
       "      <td>R1246</td>\n",
       "      <td>8110020131</td>\n",
       "      <td>فادية</td>\n",
       "      <td>سريول</td>\n",
       "      <td>2024-05-21</td>\n",
       "      <td>2024-05-29</td>\n",
       "      <td>NaT</td>\n",
       "      <td>NaT</td>\n",
       "      <td>...</td>\n",
       "      <td>Yes</td>\n",
       "      <td>No</td>\n",
       "      <td>No</td>\n",
       "      <td>No</td>\n",
       "      <td>No</td>\n",
       "      <td>Yes</td>\n",
       "      <td>No</td>\n",
       "      <td>No</td>\n",
       "      <td>No</td>\n",
       "      <td>NaN</td>\n",
       "    </tr>\n",
       "    <tr>\n",
       "      <th>328</th>\n",
       "      <td>YQ</td>\n",
       "      <td>132</td>\n",
       "      <td>R1253</td>\n",
       "      <td>8110020132</td>\n",
       "      <td>صفاء</td>\n",
       "      <td>محمد</td>\n",
       "      <td>2024-05-22</td>\n",
       "      <td>2024-05-24</td>\n",
       "      <td>NaT</td>\n",
       "      <td>NaT</td>\n",
       "      <td>...</td>\n",
       "      <td>Yes</td>\n",
       "      <td>No</td>\n",
       "      <td>No</td>\n",
       "      <td>No</td>\n",
       "      <td>No</td>\n",
       "      <td>Yes</td>\n",
       "      <td>No</td>\n",
       "      <td>No</td>\n",
       "      <td>No</td>\n",
       "      <td>NaN</td>\n",
       "    </tr>\n",
       "  </tbody>\n",
       "</table>\n",
       "<p>329 rows × 23 columns</p>\n",
       "</div>"
      ]
     },
     "execution_count": 4,
     "metadata": {},
     "output_type": "execute_result"
    }
   ],
   "execution_count": 4
  },
  {
   "cell_type": "code",
   "source": "# intake[['rid', 'fcid', 'firstname', 'lastname']].to_clipboard()",
   "metadata": {
    "collapsed": false
   },
   "id": "87dca2b1926c8493",
   "outputs": [],
   "execution_count": null
  },
  {
   "cell_type": "code",
   "source": "filtered_intake = pd.merge(filtered_intake, unique_scr[['rid', 'sex', 'age']], on='rid', how='left')",
   "metadata": {
    "collapsed": false
   },
   "id": "1e73e0a58363a508",
   "outputs": [],
   "execution_count": null
  },
  {
   "cell_type": "code",
   "source": [
    "# filtered_intake.to_csv(int_path, index=False)\n",
    "# This foolish step change the intake data set by the filtered_dataset."
   ],
   "metadata": {
    "collapsed": false
   },
   "id": "e203d96537165f01",
   "outputs": [],
   "execution_count": null
  },
  {
   "cell_type": "code",
   "source": [
    "missing = (intake['family_of_missing'] == 'Yes')"
   ],
   "metadata": {
    "collapsed": false
   },
   "id": "1c3a2d72fb978d66",
   "outputs": [],
   "execution_count": null
  },
  {
   "cell_type": "code",
   "source": [
    "missing.mean()"
   ],
   "metadata": {
    "collapsed": false
   },
   "id": "ba46630850a25d8",
   "outputs": [],
   "execution_count": null
  },
  {
   "cell_type": "code",
   "source": [
    "detainee = (intake['survivor_of_detention'] == 'Yes')"
   ],
   "metadata": {
    "collapsed": false
   },
   "id": "c503fe800a6ee3a2",
   "outputs": [],
   "execution_count": null
  },
  {
   "cell_type": "code",
   "source": [
    "detainee.mean()"
   ],
   "metadata": {
    "collapsed": false
   },
   "id": "4324e1dbf55aa5dc",
   "outputs": [],
   "execution_count": null
  },
  {
   "cell_type": "code",
   "source": [
    "missing_and_detained = missing & detainee"
   ],
   "metadata": {
    "collapsed": false
   },
   "id": "7369776f02ce1fd0",
   "outputs": [],
   "execution_count": null
  },
  {
   "cell_type": "code",
   "source": [
    "missing_and_detained.mean()"
   ],
   "metadata": {
    "collapsed": false
   },
   "id": "d7f50f6f352afd59",
   "outputs": [],
   "execution_count": null
  },
  {
   "cell_type": "code",
   "source": [
    "p_m_or_d = missing.mean() + detainee.mean() - missing_and_detained.mean()\n",
    "p_m_or_d"
   ],
   "metadata": {
    "collapsed": false
   },
   "id": "3082572d6e216d79",
   "outputs": [],
   "execution_count": null
  },
  {
   "cell_type": "code",
   "source": [
    "36/291"
   ],
   "metadata": {
    "collapsed": false
   },
   "id": "bf6b26d10168116",
   "outputs": [],
   "execution_count": null
  },
  {
   "cell_type": "code",
   "source": [
    "fcid = intake['fcid'].unique()\n",
    "fcid = fcid.astype(str)"
   ],
   "metadata": {
    "collapsed": false
   },
   "id": "6d24f9031e715703",
   "outputs": [],
   "execution_count": null
  },
  {
   "cell_type": "code",
   "source": [
    "unique_fcid = [id[3:6] for id in fcid]\n",
    "set(unique_fcid)"
   ],
   "metadata": {
    "collapsed": false
   },
   "id": "a42646683b48a877",
   "outputs": [],
   "execution_count": null
  },
  {
   "cell_type": "code",
   "source": [
    "# id = 'R0571'"
   ],
   "metadata": {
    "collapsed": false
   },
   "id": "2fba8c64c84ad756",
   "outputs": [],
   "execution_count": null
  },
  {
   "cell_type": "code",
   "source": [
    "# intake[intake['rid'] == id]"
   ],
   "metadata": {
    "collapsed": false
   },
   "id": "373ebc5b655a91cf",
   "outputs": [],
   "execution_count": null
  },
  {
   "cell_type": "code",
   "source": [
    "# int_q4 = filter_df_by_date(intake, intake_dataset.dvars, threshold)\n",
    "# int_q4"
   ],
   "metadata": {
    "collapsed": false
   },
   "id": "42f995c03dd1af07",
   "outputs": [],
   "execution_count": null
  },
  {
   "cell_type": "code",
   "source": "# int_q4.to_excel('intake_quarter4_2023.xlsx')",
   "metadata": {
    "collapsed": false
   },
   "id": "a67b459f4dc39318",
   "outputs": [],
   "execution_count": null
  },
  {
   "cell_type": "code",
   "source": "# (int_q4[intake_dataset.dvars] > threshold).sum().sum()",
   "metadata": {
    "collapsed": false
   },
   "id": "ed03ecab056996ee",
   "outputs": [],
   "execution_count": null
  },
  {
   "cell_type": "code",
   "source": [
    "# new_intake = filter_df_by_date(int_q4, ['nt_s1'], threshold)\n",
    "# new_intake"
   ],
   "metadata": {
    "collapsed": false
   },
   "id": "729e6334ac9a08f6",
   "outputs": [],
   "execution_count": null
  },
  {
   "cell_type": "code",
   "source": "# new_intake['sex'].value_counts()",
   "metadata": {
    "collapsed": false
   },
   "id": "bf8523517d73b1d5",
   "outputs": [],
   "execution_count": null
  },
  {
   "cell_type": "code",
   "source": [
    "# reintake = filter_df_by_date(int_q4, ['nt_re'], threshold)\n",
    "# reintake"
   ],
   "metadata": {
    "collapsed": false
   },
   "id": "2b731a566e9cd92e",
   "outputs": [],
   "execution_count": null
  },
  {
   "cell_type": "code",
   "source": [],
   "metadata": {
    "collapsed": false
   },
   "id": "2713e0c93d43f4e6",
   "outputs": [],
   "execution_count": null
  },
  {
   "cell_type": "code",
   "source": [
    "# categorize_age(new_intake)"
   ],
   "metadata": {
    "collapsed": false
   },
   "id": "e6ad1ef4ff43357b",
   "outputs": [],
   "execution_count": null
  },
  {
   "cell_type": "code",
   "source": [
    "# categorize_and_count_ages(new_intake['age'])"
   ],
   "metadata": {
    "collapsed": false
   },
   "id": "219f78b608fbdc3d",
   "outputs": [],
   "execution_count": null
  },
  {
   "cell_type": "code",
   "source": [
    "# normalized_value_counts(int_q4['family_of_missing'])"
   ],
   "metadata": {
    "collapsed": false
   },
   "id": "a49e534ceb75b265",
   "outputs": [],
   "execution_count": null
  },
  {
   "cell_type": "code",
   "source": [
    "# normalized_value_counts(int_q4['survivor_of_detention'])"
   ],
   "metadata": {
    "collapsed": false
   },
   "id": "dec456e4e102253c",
   "outputs": [],
   "execution_count": null
  },
  {
   "cell_type": "code",
   "source": [
    "# normalized_value_counts(int_q4['primary_torture'])"
   ],
   "metadata": {
    "collapsed": false
   },
   "id": "ca405df982af133e",
   "outputs": [],
   "execution_count": null
  },
  {
   "cell_type": "code",
   "source": [
    "# normalized_value_counts(int_q4['secondary_torture'])"
   ],
   "metadata": {
    "collapsed": false
   },
   "id": "9666953061828cf5",
   "outputs": [],
   "execution_count": null
  },
  {
   "cell_type": "code",
   "source": [
    "# normalized_value_counts(int_q4['sexual_violation_a'])"
   ],
   "metadata": {
    "collapsed": false
   },
   "id": "744ec917b59d1cf1",
   "outputs": [],
   "execution_count": null
  },
  {
   "cell_type": "code",
   "source": [
    "# normalized_value_counts(int_q4['sexual_violation_p'])"
   ],
   "metadata": {
    "collapsed": false
   },
   "id": "b1289ef550fd1825",
   "outputs": [],
   "execution_count": null
  },
  {
   "cell_type": "code",
   "source": [
    "# normalized_value_counts(int_q4['hrd'])"
   ],
   "metadata": {
    "collapsed": false
   },
   "id": "edd111581b32d318",
   "outputs": [],
   "execution_count": null
  },
  {
   "cell_type": "code",
   "source": [
    "# normalized_value_counts(int_q4['journalist'])"
   ],
   "metadata": {
    "collapsed": false
   },
   "id": "d179175bd7c87bc7",
   "outputs": [],
   "execution_count": null
  },
  {
   "cell_type": "code",
   "source": [
    "# normalized_value_counts(int_q4['wov'])"
   ],
   "metadata": {
    "collapsed": false
   },
   "id": "a11c51193e4055ab",
   "outputs": [],
   "execution_count": null
  },
  {
   "cell_type": "code",
   "source": [
    "# normalized_value_counts(int_q4['stgbv'])"
   ],
   "metadata": {
    "collapsed": false
   },
   "id": "77f079906738caf",
   "outputs": [],
   "execution_count": null
  },
  {
   "cell_type": "code",
   "source": [
    "# normalized_value_counts(int_q4['lgbti'])"
   ],
   "metadata": {
    "collapsed": false
   },
   "id": "4632217afe6a1ea2",
   "outputs": [],
   "execution_count": null
  },
  {
   "cell_type": "code",
   "source": [
    "# normalized_value_counts(int_q4['other'])"
   ],
   "metadata": {
    "collapsed": false
   },
   "id": "d765b3ad8c0ae82c",
   "outputs": [],
   "execution_count": null
  },
  {
   "cell_type": "code",
   "source": [
    "# new_intake['intsp'].value_counts()"
   ],
   "metadata": {
    "collapsed": false
   },
   "id": "f1b91a2c9fcb313c",
   "outputs": [],
   "execution_count": null
  },
  {
   "cell_type": "code",
   "source": "# reintake['intsp'].value_counts()",
   "metadata": {
    "collapsed": false
   },
   "id": "74a2a84a46bc5d1a",
   "outputs": [],
   "execution_count": null
  },
  {
   "cell_type": "code",
   "source": "# reintake['sex'].value_counts()",
   "metadata": {
    "collapsed": false
   },
   "id": "ace0a31d410c73e0",
   "outputs": [],
   "execution_count": null
  }
 ],
 "metadata": {
  "kernelspec": {
   "display_name": "Python 3",
   "language": "python",
   "name": "python3"
  },
  "language_info": {
   "codemirror_mode": {
    "name": "ipython",
    "version": 2
   },
   "file_extension": ".py",
   "mimetype": "text/x-python",
   "name": "python",
   "nbconvert_exporter": "python",
   "pygments_lexer": "ipython2",
   "version": "2.7.6"
  }
 },
 "nbformat": 4,
 "nbformat_minor": 5
}
