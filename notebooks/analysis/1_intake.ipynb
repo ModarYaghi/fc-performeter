{
 "cells": [
  {
   "cell_type": "code",
   "execution_count": 3,
   "id": "initial_id",
   "metadata": {
    "ExecuteTime": {
     "end_time": "2024-10-18T13:10:36.277976Z",
     "start_time": "2024-10-18T13:10:33.009634Z"
    },
    "collapsed": true
   },
   "outputs": [
    {
     "name": "stderr",
     "output_type": "stream",
     "text": [
      "2025-01-09 02:29:14,360 - INFO - Processed 756 records so far.\n",
      "2025-01-09 02:29:15,279 - INFO - Processed 342 records so far.\n"
     ]
    }
   ],
   "source": [
    "from src.all_in_one import *\n",
    "from src.basic_variables import *"
   ]
  },
  {
   "cell_type": "markdown",
   "id": "ebf65b9f120be663",
   "metadata": {},
   "source": [
    "## Initiate Intake Dataset"
   ]
  },
  {
   "cell_type": "code",
   "execution_count": 4,
   "id": "9e9c8b2b5d82f1a7",
   "metadata": {
    "ExecuteTime": {
     "end_time": "2024-10-18T13:10:36.447372Z",
     "start_time": "2024-10-18T13:10:36.281984Z"
    },
    "collapsed": false
   },
   "outputs": [],
   "source": [
    "int_file = path_manager.get_data_file(Category.PS, PSFile.PSNT)\n",
    "intake = get_df(int_file.path, int_file.sheet)\n",
    "intake_dataset = Dataset(config_file, int_file.sheet)\n",
    "filtered_intake = filter_dataframe_on_date(\n",
    "    intake, intake_dataset.dvars, START, END, FilterType.IN\n",
    ")"
   ]
  },
  {
   "cell_type": "code",
   "execution_count": null,
   "id": "7ff7c7cd42f4175d",
   "metadata": {
    "ExecuteTime": {
     "end_time": "2024-10-18T13:10:36.675356Z",
     "start_time": "2024-10-18T13:10:36.671277Z"
    },
    "collapsed": false
   },
   "outputs": [],
   "source": [
    "# intake.head()\n",
    "filtered_intake"
   ]
  },
  {
   "cell_type": "markdown",
   "id": "f9177a2e5e4899a4",
   "metadata": {},
   "source": [
    "## Filter New Intake"
   ]
  },
  {
   "cell_type": "code",
   "execution_count": 5,
   "id": "f9abb187b5daa473",
   "metadata": {
    "ExecuteTime": {
     "end_time": "2024-10-18T13:32:26.602284Z",
     "start_time": "2024-10-18T13:32:26.581502Z"
    }
   },
   "outputs": [],
   "source": [
    "new_nt_s1 = filter_dataframe_on_date(intake, \"nt_s1\", START, END)\n",
    "new_intake = filter_dataframe_on_date(intake, \"nt_s2\", START, END)\n",
    "new_nt_s3 = filter_dataframe_on_date(intake, \"nt_s3\", START, END)\n",
    "new_reintake = filter_dataframe_on_date(intake, \"nt_re\", START, END)"
   ]
  },
  {
   "cell_type": "code",
   "execution_count": 27,
   "id": "db4d0f19071f23da",
   "metadata": {
    "ExecuteTime": {
     "end_time": "2024-10-18T14:27:59.728273Z",
     "start_time": "2024-10-18T14:27:59.723716Z"
    }
   },
   "outputs": [],
   "source": [
    "new_intake.to_clipboard()"
   ]
  },
  {
   "cell_type": "code",
   "execution_count": null,
   "id": "c3e1050198f51978",
   "metadata": {
    "ExecuteTime": {
     "end_time": "2024-10-18T14:28:01.999171Z",
     "start_time": "2024-10-18T14:28:01.994981Z"
    }
   },
   "outputs": [],
   "source": [
    "new_reintake"
   ]
  },
  {
   "cell_type": "markdown",
   "id": "cfb29fd62b296db",
   "metadata": {},
   "source": [
    "## Intake Number of Sessions"
   ]
  },
  {
   "cell_type": "code",
   "execution_count": 6,
   "id": "19cd5f8fef6da0d2",
   "metadata": {
    "ExecuteTime": {
     "end_time": "2024-10-18T13:38:19.464551Z",
     "start_time": "2024-10-18T13:38:19.460408Z"
    }
   },
   "outputs": [],
   "source": [
    "nt_s1 = new_nt_s1.shape[0]\n",
    "nt_s2 = new_intake.shape[0]\n",
    "nt_s3 = new_nt_s3.shape[0]\n",
    "nt_re = new_reintake.shape[0]"
   ]
  },
  {
   "cell_type": "code",
   "execution_count": 7,
   "id": "526b67a6dd5bdd90",
   "metadata": {
    "ExecuteTime": {
     "end_time": "2024-10-18T14:28:08.056818Z",
     "start_time": "2024-10-18T14:28:08.052757Z"
    }
   },
   "outputs": [
    {
     "data": {
      "text/plain": [
       "32"
      ]
     },
     "execution_count": 7,
     "metadata": {},
     "output_type": "execute_result"
    }
   ],
   "source": [
    "nt_s1 + nt_s2 + nt_s3 + nt_re"
   ]
  },
  {
   "cell_type": "markdown",
   "id": "347794a8b827b678",
   "metadata": {},
   "source": [
    "## New Intake Sex and Age Groups"
   ]
  },
  {
   "cell_type": "code",
   "execution_count": 8,
   "id": "1e73e0a58363a508",
   "metadata": {
    "ExecuteTime": {
     "end_time": "2024-10-18T14:28:18.286791Z",
     "start_time": "2024-10-18T14:28:18.277744Z"
    },
    "collapsed": false
   },
   "outputs": [
    {
     "data": {
      "text/html": [
       "<div>\n",
       "<style scoped>\n",
       "    .dataframe tbody tr th:only-of-type {\n",
       "        vertical-align: middle;\n",
       "    }\n",
       "\n",
       "    .dataframe tbody tr th {\n",
       "        vertical-align: top;\n",
       "    }\n",
       "\n",
       "    .dataframe thead th {\n",
       "        text-align: right;\n",
       "    }\n",
       "</style>\n",
       "<table border=\"1\" class=\"dataframe\">\n",
       "  <thead>\n",
       "    <tr style=\"text-align: right;\">\n",
       "      <th></th>\n",
       "      <th>rid</th>\n",
       "      <th>fcid</th>\n",
       "      <th>sex</th>\n",
       "      <th>age</th>\n",
       "    </tr>\n",
       "  </thead>\n",
       "  <tbody>\n",
       "    <tr>\n",
       "      <th>0</th>\n",
       "      <td>R1264</td>\n",
       "      <td>8110080032</td>\n",
       "      <td>Female</td>\n",
       "      <td>49</td>\n",
       "    </tr>\n",
       "    <tr>\n",
       "      <th>1</th>\n",
       "      <td>R1260</td>\n",
       "      <td>8110080033</td>\n",
       "      <td>Female</td>\n",
       "      <td>43</td>\n",
       "    </tr>\n",
       "    <tr>\n",
       "      <th>2</th>\n",
       "      <td>R1337</td>\n",
       "      <td>8110100023</td>\n",
       "      <td>Male</td>\n",
       "      <td>54</td>\n",
       "    </tr>\n",
       "    <tr>\n",
       "      <th>3</th>\n",
       "      <td>R1292</td>\n",
       "      <td>8110100024</td>\n",
       "      <td>Female</td>\n",
       "      <td>40</td>\n",
       "    </tr>\n",
       "    <tr>\n",
       "      <th>4</th>\n",
       "      <td>R1250</td>\n",
       "      <td>8110100025</td>\n",
       "      <td>Female</td>\n",
       "      <td>30</td>\n",
       "    </tr>\n",
       "    <tr>\n",
       "      <th>5</th>\n",
       "      <td>R1511</td>\n",
       "      <td>8110100026</td>\n",
       "      <td>Female</td>\n",
       "      <td>29</td>\n",
       "    </tr>\n",
       "    <tr>\n",
       "      <th>6</th>\n",
       "      <td>R1378</td>\n",
       "      <td>8110100027</td>\n",
       "      <td>Female</td>\n",
       "      <td>32</td>\n",
       "    </tr>\n",
       "    <tr>\n",
       "      <th>7</th>\n",
       "      <td>R1232</td>\n",
       "      <td>8110110022</td>\n",
       "      <td>Female</td>\n",
       "      <td>39</td>\n",
       "    </tr>\n",
       "    <tr>\n",
       "      <th>8</th>\n",
       "      <td>R1497</td>\n",
       "      <td>8110110024</td>\n",
       "      <td>Male</td>\n",
       "      <td>31</td>\n",
       "    </tr>\n",
       "    <tr>\n",
       "      <th>9</th>\n",
       "      <td>R1267</td>\n",
       "      <td>8110020133</td>\n",
       "      <td>Female</td>\n",
       "      <td>32</td>\n",
       "    </tr>\n",
       "    <tr>\n",
       "      <th>10</th>\n",
       "      <td>R1371</td>\n",
       "      <td>8110020134</td>\n",
       "      <td>Male</td>\n",
       "      <td>62</td>\n",
       "    </tr>\n",
       "    <tr>\n",
       "      <th>11</th>\n",
       "      <td>R1345</td>\n",
       "      <td>8110020135</td>\n",
       "      <td>Male</td>\n",
       "      <td>31</td>\n",
       "    </tr>\n",
       "    <tr>\n",
       "      <th>12</th>\n",
       "      <td>R1358</td>\n",
       "      <td>8110020136</td>\n",
       "      <td>Male</td>\n",
       "      <td>44</td>\n",
       "    </tr>\n",
       "  </tbody>\n",
       "</table>\n",
       "</div>"
      ],
      "text/plain": [
       "      rid        fcid     sex  age\n",
       "0   R1264  8110080032  Female   49\n",
       "1   R1260  8110080033  Female   43\n",
       "2   R1337  8110100023    Male   54\n",
       "3   R1292  8110100024  Female   40\n",
       "4   R1250  8110100025  Female   30\n",
       "5   R1511  8110100026  Female   29\n",
       "6   R1378  8110100027  Female   32\n",
       "7   R1232  8110110022  Female   39\n",
       "8   R1497  8110110024    Male   31\n",
       "9   R1267  8110020133  Female   32\n",
       "10  R1371  8110020134    Male   62\n",
       "11  R1345  8110020135    Male   31\n",
       "12  R1358  8110020136    Male   44"
      ]
     },
     "execution_count": 8,
     "metadata": {},
     "output_type": "execute_result"
    }
   ],
   "source": [
    "f_new_intake = pd.merge(\n",
    "    new_intake, rebuilt_scr[[\"rid\", \"sex\", \"age\"]], on=\"rid\", how=\"left\"\n",
    ")\n",
    "f_new_intake[[\"rid\", \"fcid\", \"sex\", \"age\"]]"
   ]
  },
  {
   "cell_type": "code",
   "execution_count": 9,
   "id": "68bd42e4b26d152c",
   "metadata": {
    "ExecuteTime": {
     "end_time": "2024-10-18T14:28:21.513718Z",
     "start_time": "2024-10-18T14:28:21.510264Z"
    }
   },
   "outputs": [
    {
     "data": {
      "text/plain": [
       "sex\n",
       "Female    8\n",
       "Male      5\n",
       "Name: count, dtype: int64"
      ]
     },
     "execution_count": 9,
     "metadata": {},
     "output_type": "execute_result"
    }
   ],
   "source": [
    "# f_new_intake['sex'].value_counts(dropna=False, normalize=True)\n",
    "f_new_intake[\"sex\"].value_counts(dropna=False, normalize=False)"
   ]
  },
  {
   "cell_type": "code",
   "execution_count": 10,
   "id": "12979f78d2241be9",
   "metadata": {
    "ExecuteTime": {
     "end_time": "2024-10-18T14:28:23.730911Z",
     "start_time": "2024-10-18T14:28:23.726775Z"
    }
   },
   "outputs": [
    {
     "data": {
      "text/plain": [
       "age\n",
       "18-27    0\n",
       "28-37    6\n",
       "38-47    4\n",
       "48-57    2\n",
       "58-67    1\n",
       "68-77    0\n",
       "Name: count, dtype: int64"
      ]
     },
     "execution_count": 10,
     "metadata": {},
     "output_type": "execute_result"
    }
   ],
   "source": [
    "categorize_and_count_ages(f_new_intake[\"age\"])"
   ]
  },
  {
   "cell_type": "markdown",
   "id": "74758ca087b00a55",
   "metadata": {},
   "source": [
    "## Beneficiaries Victimhood"
   ]
  },
  {
   "cell_type": "code",
   "execution_count": 11,
   "id": "bf6b26d10168116",
   "metadata": {
    "ExecuteTime": {
     "end_time": "2024-10-18T13:59:26.000979Z",
     "start_time": "2024-10-18T13:59:25.997641Z"
    },
    "collapsed": false
   },
   "outputs": [],
   "source": [
    "# new_intake['fcid', intake_dataset.bovars]\n",
    "fcid = [\"fcid\"]\n",
    "victimhood_df = new_intake.loc[:, fcid + intake_dataset.bovars]"
   ]
  },
  {
   "cell_type": "code",
   "execution_count": 12,
   "id": "8fe5f120cc5ae6b5",
   "metadata": {
    "ExecuteTime": {
     "end_time": "2024-10-18T14:00:02.712510Z",
     "start_time": "2024-10-18T14:00:02.696928Z"
    }
   },
   "outputs": [],
   "source": [
    "count_df = new_intake[intake_dataset.bovars].apply(lambda x: x.value_counts()).fillna(0)\n",
    "count_df = count_df.T.reset_index().rename(\n",
    "    columns={\"index\": \"victimhood\"}\n",
    ")  # Transposing\n",
    "count_df[\"No\"] = count_df[\"No\"].astype(\"Int64\")\n",
    "count_df[\"Yes\"] = count_df[\"Yes\"].astype(\"Int64\")\n"
   ]
  },
  {
   "cell_type": "code",
   "execution_count": 13,
   "id": "3202f610cf6055e2",
   "metadata": {
    "ExecuteTime": {
     "end_time": "2024-10-18T14:28:28.889764Z",
     "start_time": "2024-10-18T14:28:28.886328Z"
    }
   },
   "outputs": [
    {
     "data": {
      "text/html": [
       "<div>\n",
       "<style scoped>\n",
       "    .dataframe tbody tr th:only-of-type {\n",
       "        vertical-align: middle;\n",
       "    }\n",
       "\n",
       "    .dataframe tbody tr th {\n",
       "        vertical-align: top;\n",
       "    }\n",
       "\n",
       "    .dataframe thead th {\n",
       "        text-align: right;\n",
       "    }\n",
       "</style>\n",
       "<table border=\"1\" class=\"dataframe\">\n",
       "  <thead>\n",
       "    <tr style=\"text-align: right;\">\n",
       "      <th></th>\n",
       "      <th>victimhood</th>\n",
       "      <th>No</th>\n",
       "      <th>Yes</th>\n",
       "    </tr>\n",
       "  </thead>\n",
       "  <tbody>\n",
       "    <tr>\n",
       "      <th>0</th>\n",
       "      <td>family_of_missing</td>\n",
       "      <td>3</td>\n",
       "      <td>10</td>\n",
       "    </tr>\n",
       "    <tr>\n",
       "      <th>1</th>\n",
       "      <td>survivor_of_detention</td>\n",
       "      <td>7</td>\n",
       "      <td>6</td>\n",
       "    </tr>\n",
       "    <tr>\n",
       "      <th>2</th>\n",
       "      <td>primary_torture</td>\n",
       "      <td>7</td>\n",
       "      <td>6</td>\n",
       "    </tr>\n",
       "    <tr>\n",
       "      <th>3</th>\n",
       "      <td>secondary_torture</td>\n",
       "      <td>0</td>\n",
       "      <td>13</td>\n",
       "    </tr>\n",
       "    <tr>\n",
       "      <th>4</th>\n",
       "      <td>sexual_violation_a</td>\n",
       "      <td>11</td>\n",
       "      <td>2</td>\n",
       "    </tr>\n",
       "    <tr>\n",
       "      <th>5</th>\n",
       "      <td>sexual_violation_p</td>\n",
       "      <td>11</td>\n",
       "      <td>2</td>\n",
       "    </tr>\n",
       "    <tr>\n",
       "      <th>6</th>\n",
       "      <td>hrd</td>\n",
       "      <td>13</td>\n",
       "      <td>0</td>\n",
       "    </tr>\n",
       "    <tr>\n",
       "      <th>7</th>\n",
       "      <td>journalist</td>\n",
       "      <td>13</td>\n",
       "      <td>0</td>\n",
       "    </tr>\n",
       "    <tr>\n",
       "      <th>8</th>\n",
       "      <td>wov</td>\n",
       "      <td>1</td>\n",
       "      <td>12</td>\n",
       "    </tr>\n",
       "    <tr>\n",
       "      <th>9</th>\n",
       "      <td>stgbv</td>\n",
       "      <td>10</td>\n",
       "      <td>3</td>\n",
       "    </tr>\n",
       "    <tr>\n",
       "      <th>10</th>\n",
       "      <td>lgbti</td>\n",
       "      <td>13</td>\n",
       "      <td>0</td>\n",
       "    </tr>\n",
       "    <tr>\n",
       "      <th>11</th>\n",
       "      <td>other</td>\n",
       "      <td>13</td>\n",
       "      <td>0</td>\n",
       "    </tr>\n",
       "  </tbody>\n",
       "</table>\n",
       "</div>"
      ],
      "text/plain": [
       "               victimhood  No  Yes\n",
       "0       family_of_missing   3   10\n",
       "1   survivor_of_detention   7    6\n",
       "2         primary_torture   7    6\n",
       "3       secondary_torture   0   13\n",
       "4      sexual_violation_a  11    2\n",
       "5      sexual_violation_p  11    2\n",
       "6                     hrd  13    0\n",
       "7              journalist  13    0\n",
       "8                     wov   1   12\n",
       "9                   stgbv  10    3\n",
       "10                  lgbti  13    0\n",
       "11                  other  13    0"
      ]
     },
     "execution_count": 13,
     "metadata": {},
     "output_type": "execute_result"
    }
   ],
   "source": [
    "count_df"
   ]
  },
  {
   "cell_type": "code",
   "execution_count": 19,
   "id": "cd020a2a",
   "metadata": {},
   "outputs": [],
   "source": [
    "from upsetplot import UpSet\n",
    "from upsetplot import UpSet, from_indicators\n",
    "import matplotlib.pyplot as plt"
   ]
  },
  {
   "cell_type": "code",
   "execution_count": 22,
   "id": "d28913b7",
   "metadata": {},
   "outputs": [],
   "source": [
    "victimhood_df.to_clipboard()"
   ]
  },
  {
   "cell_type": "code",
   "execution_count": 20,
   "id": "2b95d671",
   "metadata": {},
   "outputs": [],
   "source": [
    "# Convert \"Yes\"/\"No\" to boolean (True/False)\n",
    "boolean_victimhood_df = victimhood_df.drop(columns=\"fcid\").map(lambda x: x == \"Yes\")"
   ]
  },
  {
   "cell_type": "code",
   "execution_count": 21,
   "id": "b284589f",
   "metadata": {},
   "outputs": [
    {
     "name": "stderr",
     "output_type": "stream",
     "text": [
      "/home/fmny/fc-performeter/venv/lib/python3.12/site-packages/upsetplot/plotting.py:795: FutureWarning: A value is trying to be set on a copy of a DataFrame or Series through chained assignment using an inplace method.\n",
      "The behavior will change in pandas 3.0. This inplace method will never work because the intermediate object on which we are setting values always behaves as a copy.\n",
      "\n",
      "For example, when doing 'df[col].method(value, inplace=True)', try using 'df.method({col: value}, inplace=True)' or df[col] = df[col].method(value) instead, to perform the operation inplace on the original object.\n",
      "\n",
      "\n",
      "  styles[\"linewidth\"].fillna(1, inplace=True)\n",
      "/home/fmny/fc-performeter/venv/lib/python3.12/site-packages/upsetplot/plotting.py:796: FutureWarning: A value is trying to be set on a copy of a DataFrame or Series through chained assignment using an inplace method.\n",
      "The behavior will change in pandas 3.0. This inplace method will never work because the intermediate object on which we are setting values always behaves as a copy.\n",
      "\n",
      "For example, when doing 'df[col].method(value, inplace=True)', try using 'df.method({col: value}, inplace=True)' or df[col] = df[col].method(value) instead, to perform the operation inplace on the original object.\n",
      "\n",
      "\n",
      "  styles[\"facecolor\"].fillna(self._facecolor, inplace=True)\n",
      "/home/fmny/fc-performeter/venv/lib/python3.12/site-packages/upsetplot/plotting.py:797: FutureWarning: A value is trying to be set on a copy of a DataFrame or Series through chained assignment using an inplace method.\n",
      "The behavior will change in pandas 3.0. This inplace method will never work because the intermediate object on which we are setting values always behaves as a copy.\n",
      "\n",
      "For example, when doing 'df[col].method(value, inplace=True)', try using 'df.method({col: value}, inplace=True)' or df[col] = df[col].method(value) instead, to perform the operation inplace on the original object.\n",
      "\n",
      "\n",
      "  styles[\"edgecolor\"].fillna(styles[\"facecolor\"], inplace=True)\n",
      "/home/fmny/fc-performeter/venv/lib/python3.12/site-packages/upsetplot/plotting.py:798: FutureWarning: A value is trying to be set on a copy of a DataFrame or Series through chained assignment using an inplace method.\n",
      "The behavior will change in pandas 3.0. This inplace method will never work because the intermediate object on which we are setting values always behaves as a copy.\n",
      "\n",
      "For example, when doing 'df[col].method(value, inplace=True)', try using 'df.method({col: value}, inplace=True)' or df[col] = df[col].method(value) instead, to perform the operation inplace on the original object.\n",
      "\n",
      "\n",
      "  styles[\"linestyle\"].fillna(\"solid\", inplace=True)\n"
     ]
    },
    {
     "data": {
      "image/png": "[encoded data removed]",
      "text/plain": [
       "<Figure size 666.667x622.222 with 4 Axes>"
      ]
     },
     "metadata": {},
     "output_type": "display_data"
    }
   ],
   "source": [
    "# Create the UpSet plot\n",
    "upset_data = from_indicators(\n",
    "    data=boolean_victimhood_df, indicators=boolean_victimhood_df.columns\n",
    ")\n",
    "upset = UpSet(upset_data, subset_size=\"count\", show_counts=True)\n",
    "upset.plot()\n",
    "plt.show()"
   ]
  },
  {
   "cell_type": "code",
   "execution_count": null,
   "id": "b12092cc",
   "metadata": {},
   "outputs": [],
   "source": []
  }
 ],
 "metadata": {
  "kernelspec": {
   "display_name": "venv",
   "language": "python",
   "name": "python3"
  },
  "language_info": {
   "codemirror_mode": {
    "name": "ipython",
    "version": 3
   },
   "file_extension": ".py",
   "mimetype": "text/x-python",
   "name": "python",
   "nbconvert_exporter": "python",
   "pygments_lexer": "ipython3",
   "version": "3.12.3"
  }
 },
 "nbformat": 4,
 "nbformat_minor": 5
}
