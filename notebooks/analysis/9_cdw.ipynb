{
 "cells": [
  {
   "cell_type": "code",
   "id": "initial_id",
   "metadata": {
    "collapsed": true
   },
   "source": "from src.all_in_one import *",
   "outputs": [],
   "execution_count": null
  },
  {
   "cell_type": "code",
   "source": [
    "# Screening\n",
    "# scr = get_df(scr_path, scr_sheet)\n",
    "# unique_scr = scr.drop_duplicates(subset='rid')"
   ],
   "metadata": {
    "collapsed": false
   },
   "id": "c35339b2b68a075c",
   "outputs": [],
   "execution_count": null
  },
  {
   "cell_type": "code",
   "source": [
    "cdw_file = path_manager.get_data_file(Category.PS, PSFile.CDW)\n",
    "cdw_dataset = Dataset(config_file, cdw_file.sheet)\n",
    "cdw = get_df(cdw_file.path, cdw_file.sheet)\n",
    "# cws = pd.merge(cws, unique_scr[['rid', 'sex', 'age']], on='rid', how='left')\n",
    "cdw['cws_s1'] = pd.to_datetime(cdw['cws_s1']).dt.normalize()\n",
    "cdw['cws_s2'] = pd.to_datetime(cdw['cws_s2']).dt.normalize()\n",
    "filtered_cdw = filter_dataframe_on_date(cdw, ['cws_s1', 'cws_s2'], START, END, FilterType.IN)"
   ],
   "metadata": {
    "collapsed": false
   },
   "id": "40520e36497e815d",
   "outputs": [],
   "execution_count": null
  },
  {
   "metadata": {},
   "cell_type": "code",
   "source": "filtered_cdw",
   "id": "7b3762ada94797d3",
   "outputs": [],
   "execution_count": null
  },
  {
   "metadata": {},
   "cell_type": "code",
   "source": "",
   "id": "bb4ce9b77d8d4367",
   "outputs": [],
   "execution_count": null
  },
  {
   "metadata": {},
   "cell_type": "code",
   "source": "cdw",
   "id": "a841813b2a4e1509",
   "outputs": [],
   "execution_count": null
  }
 ],
 "metadata": {
  "kernelspec": {
   "display_name": "Python 3",
   "language": "python",
   "name": "python3"
  },
  "language_info": {
   "codemirror_mode": {
    "name": "ipython",
    "version": 2
   },
   "file_extension": ".py",
   "mimetype": "text/x-python",
   "name": "python",
   "nbconvert_exporter": "python",
   "pygments_lexer": "ipython2",
   "version": "2.7.6"
  }
 },
 "nbformat": 4,
 "nbformat_minor": 5
}
