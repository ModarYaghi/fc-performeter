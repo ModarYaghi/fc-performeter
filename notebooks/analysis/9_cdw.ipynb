{
 "cells": [
  {
   "cell_type": "code",
   "id": "initial_id",
   "metadata": {
    "collapsed": true
   },
   "source": [
    "from src.all_in_one import *"
   ],
   "outputs": [],
   "execution_count": null
  },
  {
   "cell_type": "code",
   "source": [
    "# Screening\n",
    "scr = get_df(scr_path, scr_sheet)\n",
    "unique_scr = scr.drop_duplicates(subset='rid')"
   ],
   "metadata": {
    "collapsed": false
   },
   "id": "c35339b2b68a075c",
   "outputs": [],
   "execution_count": null
  },
  {
   "cell_type": "code",
   "source": [],
   "metadata": {
    "collapsed": false
   },
   "id": "94d04cf1c4a8938a",
   "outputs": [],
   "execution_count": null
  },
  {
   "cell_type": "code",
   "source": [
    "cws_dataset = Dataset(config_file, cws_sheet)\n",
    "cws = get_df(cws_path, cws_sheet)\n",
    "cws = pd.merge(cws, unique_scr[['rid', 'sex', 'age']], on='rid', how='left')\n",
    "# _cws = filter_df_by_date(cws, cws_dataset.dvars, threshold)"
   ],
   "metadata": {
    "collapsed": false
   },
   "id": "40520e36497e815d",
   "outputs": [],
   "execution_count": null
  },
  {
   "cell_type": "code",
   "source": "cws.to_clipboard()",
   "metadata": {
    "collapsed": false
   },
   "id": "2c8ac152e58896c2",
   "outputs": [],
   "execution_count": null
  },
  {
   "cell_type": "code",
   "source": [],
   "metadata": {
    "collapsed": false
   },
   "id": "7b3762ada94797d3",
   "outputs": [],
   "execution_count": null
  }
 ],
 "metadata": {
  "kernelspec": {
   "display_name": "Python 3",
   "language": "python",
   "name": "python3"
  },
  "language_info": {
   "codemirror_mode": {
    "name": "ipython",
    "version": 2
   },
   "file_extension": ".py",
   "mimetype": "text/x-python",
   "name": "python",
   "nbconvert_exporter": "python",
   "pygments_lexer": "ipython2",
   "version": "2.7.6"
  }
 },
 "nbformat": 4,
 "nbformat_minor": 5
}
