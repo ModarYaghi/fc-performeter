{
 "cells": [
  {
   "cell_type": "code",
   "execution_count": null,
   "id": "initial_id",
   "metadata": {
    "collapsed": true
   },
   "outputs": [],
   "source": [
    "from src.all_in_one import *\n",
    "from src.basic_variables import *\n",
    "from src.analysis_functions import *"
   ]
  },
  {
   "cell_type": "markdown",
   "id": "ff747181",
   "metadata": {},
   "source": [
    "## TRW"
   ]
  },
  {
   "cell_type": "code",
   "execution_count": 8,
   "id": "9614b0e2ec757ffa",
   "metadata": {
    "collapsed": false
   },
   "outputs": [],
   "source": [
    "trw_file = path_manager.get_data_file(Category.PS, PSFile.TRW)\n",
    "trw_dataset = Dataset(config_file, trw_file.sheet)\n",
    "trw = get_df(trw_file.path, trw_file.sheet)\n",
    "filtered_trw = filter_dataframe_on_date(\n",
    "    trw, trw_dataset.dvars, START, END, FilterType.IN\n",
    ")"
   ]
  },
  {
   "cell_type": "code",
   "execution_count": null,
   "id": "616ca2c88350b44f",
   "metadata": {},
   "outputs": [],
   "source": [
    "filtered_trw.shape"
   ]
  },
  {
   "cell_type": "code",
   "execution_count": 10,
   "id": "8ae0ef22",
   "metadata": {},
   "outputs": [],
   "source": [
    "filtered_trw_with_demo = pd.merge(\n",
    "    filtered_trw, rebuilt_scr[[\"rid\", \"sex\", \"age\"]], on=\"rid\", how=\"left\"\n",
    ")"
   ]
  },
  {
   "cell_type": "code",
   "execution_count": null,
   "id": "33ffa678",
   "metadata": {},
   "outputs": [],
   "source": [
    "# Grouping upon dates for sex distribution\n",
    "filtered_trw_with_demo_grouped = (\n",
    "    filtered_trw_with_demo.groupby(\n",
    "        [\n",
    "            \"trw_s1\",\n",
    "            # 'trw_s2',\n",
    "            \"sex\",\n",
    "        ]\n",
    "    )\n",
    "    .size()\n",
    "    .unstack(fill_value=0)\n",
    ")\n",
    "filtered_trw_with_demo_grouped"
   ]
  },
  {
   "cell_type": "code",
   "execution_count": null,
   "id": "d695e423",
   "metadata": {},
   "outputs": [],
   "source": [
    "total_number_of_trw_sessions = (\n",
    "    filtered_trw[\"trw_s1\"].count() + filtered_trw[\"trw_s2\"].count()\n",
    ")\n",
    "total_number_of_trw_sessions"
   ]
  },
  {
   "cell_type": "markdown",
   "id": "204db564",
   "metadata": {},
   "source": [
    "# PEI"
   ]
  },
  {
   "cell_type": "code",
   "execution_count": 2,
   "id": "25cc6f6e",
   "metadata": {},
   "outputs": [],
   "source": [
    "pei_file = path_manager.get_data_file(Category.PS, PSFile.PEI)\n",
    "pei_dataset = Dataset(config_file, pei_file.sheet)\n",
    "pei = get_df(pei_file.path, pei_file.sheet)\n",
    "filtered_pei = filter_dataframe_on_date(pei, pei_dataset.dvars, START, END)"
   ]
  },
  {
   "cell_type": "code",
   "execution_count": null,
   "id": "6855a2e7",
   "metadata": {},
   "outputs": [],
   "source": [
    "filtered_pei.shape"
   ]
  },
  {
   "cell_type": "code",
   "execution_count": null,
   "id": "8ad9463f",
   "metadata": {},
   "outputs": [],
   "source": [
    "f_pei_with_demo = pd.merge(\n",
    "    filtered_pei, rebuilt_scr[[\"rid\", \"sex\", \"age\"]], on=\"rid\", how=\"left\"\n",
    ")\n",
    "f_pei_with_demo[\"sex\"].value_counts()"
   ]
  },
  {
   "cell_type": "code",
   "execution_count": 21,
   "id": "0931c4bc",
   "metadata": {},
   "outputs": [],
   "source": [
    "# f_pei_with_demo.to_clipboard()"
   ]
  },
  {
   "cell_type": "code",
   "execution_count": null,
   "id": "245f0d46",
   "metadata": {},
   "outputs": [],
   "source": [
    "# Counting PEI Post Assessment\n",
    "pei_post_assessment = filter_dataframe_on_date(pei, \"pei_post_as\", START, END)\n",
    "pei_post_assessment_with_demo = pd.merge(\n",
    "    pei_post_assessment, rebuilt_scr[[\"rid\", \"sex\", \"age\"]], on=\"rid\", how=\"left\"\n",
    ")\n",
    "pei_post_assessment_with_demo.shape"
   ]
  },
  {
   "cell_type": "code",
   "execution_count": null,
   "id": "2ff1a80c",
   "metadata": {},
   "outputs": [],
   "source": [
    "pei_post_assessment_with_demo[\"sex\"].value_counts()"
   ]
  },
  {
   "cell_type": "markdown",
   "id": "7d42fbe9",
   "metadata": {},
   "source": [
    "## Awareness Workshops"
   ]
  },
  {
   "cell_type": "code",
   "execution_count": 19,
   "id": "d41935f4",
   "metadata": {},
   "outputs": [],
   "source": [
    "aww_file = path_manager.get_data_file(Category.PS, PSFile.AWW)\n",
    "aww_dataset = Dataset(config_file, aww_file.sheet)\n",
    "aww = get_df(aww_file.path, aww_file.sheet)\n",
    "filtered_aww = filter_dataframe_on_date(aww, aww_dataset.dvars, START, END)"
   ]
  },
  {
   "cell_type": "code",
   "execution_count": null,
   "id": "98092602",
   "metadata": {},
   "outputs": [],
   "source": [
    "filtered_aww.shape"
   ]
  }
 ],
 "metadata": {
  "kernelspec": {
   "display_name": "Python 3",
   "language": "python",
   "name": "python3"
  },
  "language_info": {
   "codemirror_mode": {
    "name": "ipython",
    "version": 3
   },
   "file_extension": ".py",
   "mimetype": "text/x-python",
   "name": "python",
   "nbconvert_exporter": "python",
   "pygments_lexer": "ipython3",
   "version": "3.11.10"
  }
 },
 "nbformat": 4,
 "nbformat_minor": 5
}
