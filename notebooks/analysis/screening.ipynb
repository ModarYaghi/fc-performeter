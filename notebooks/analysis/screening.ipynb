{
 "cells": [
  {
   "cell_type": "code",
   "execution_count": null,
   "id": "initial_id",
   "metadata": {
    "collapsed": true
   },
   "outputs": [],
   "source": [
    "import pandas as pd\n",
    "from src.all_in_one import *\n",
    "from src.analysis_functions import *"
   ]
  },
  {
   "cell_type": "code",
   "outputs": [],
   "source": [
    "scr_path = os.path.join(processed_data, 'scr_1223.csv')\n",
    "scr_sheet = 'Scr'\n",
    "scr_dataset = Dataset(config_file, scr_sheet)\n",
    "scr = pd.read_csv(scr_path)\n",
    "scr = dtype_trans(scr, scr_dataset)\n",
    "threshold = '2023-09-30'"
   ],
   "metadata": {
    "collapsed": false
   },
   "id": "7e597d2bbea95cc7",
   "execution_count": null
  },
  {
   "cell_type": "code",
   "outputs": [],
   "source": [],
   "metadata": {
    "collapsed": false
   },
   "id": "877d310ce3d8bf1d",
   "execution_count": null
  },
  {
   "cell_type": "code",
   "outputs": [],
   "source": [
    "scr.insert(10, 'dup', 0)\n",
    "scr['dup'] = scr.duplicated(subset=['rid'], keep=False)\n",
    "scr['dup'] = scr['dup'].replace({True: 1, False: 0})\n",
    "# scr"
   ],
   "metadata": {
    "collapsed": false
   },
   "id": "dc37f1ddaed4096d",
   "execution_count": null
  },
  {
   "cell_type": "code",
   "outputs": [],
   "source": [
    "scr_q4 = filter_df_by_date(scr, df_dataset.dvars, threshold)\n",
    "scr_q4\n",
    "# scr_q4_to_excel = scr_q4.drop(['firstname', 'lastname'], axis=1)\n",
    "# scr_q4_to_excel.to_excel(\"screening_quarter4_2023.xlsx\")"
   ],
   "metadata": {
    "collapsed": false
   },
   "id": "42f995c03dd1af07",
   "execution_count": null
  },
  {
   "cell_type": "code",
   "outputs": [],
   "source": [
    "new_clients = filter_df_by_date(scr_q4, ['sc_s1'], threshold)\n",
    "new_clients"
   ],
   "metadata": {
    "collapsed": false
   },
   "id": "abc641d578ac13da",
   "execution_count": null
  },
  {
   "cell_type": "code",
   "outputs": [],
   "source": [
    "need_service = 'need_tmh'\n",
    "scr_q4[need_service].value_counts()"
   ],
   "metadata": {
    "collapsed": false
   },
   "id": "ed03ecab056996ee",
   "execution_count": null
  },
  {
   "cell_type": "code",
   "outputs": [],
   "source": [
    "new_clients['need_pei'].value_counts()"
   ],
   "metadata": {
    "collapsed": false
   },
   "id": "2a2781fc178fa121",
   "execution_count": null
  },
  {
   "cell_type": "code",
   "outputs": [],
   "source": [
    "(scr_q4['need_pei'] == 'Yes').sum()"
   ],
   "metadata": {
    "collapsed": false
   },
   "id": "d58efb7e1868855",
   "execution_count": null
  },
  {
   "cell_type": "code",
   "outputs": [],
   "source": [
    "new_clients['sex'].value_counts()"
   ],
   "metadata": {
    "collapsed": false
   },
   "id": "729e6334ac9a08f6",
   "execution_count": null
  },
  {
   "cell_type": "code",
   "outputs": [],
   "source": [],
   "metadata": {
    "collapsed": false
   },
   "id": "266c33541192ba32"
  },
  {
   "cell_type": "code",
   "outputs": [],
   "source": [
    "new_clients['scrsp'].value_counts()"
   ],
   "metadata": {
    "collapsed": false
   },
   "id": "bf8523517d73b1d5",
   "execution_count": null
  },
  {
   "cell_type": "code",
   "outputs": [],
   "source": [
    "new_clients['sex'].value_counts()"
   ],
   "metadata": {
    "collapsed": false
   },
   "id": "c79952b528191323",
   "execution_count": null
  },
  {
   "cell_type": "code",
   "outputs": [],
   "source": [
    "age_group = categorize_and_count_ages(new_clients['age'])\n",
    "normalized_value_counts(age_group)"
   ],
   "metadata": {
    "collapsed": false
   },
   "id": "bb15e668e58cc73c",
   "execution_count": null
  },
  {
   "cell_type": "code",
   "outputs": [],
   "source": [],
   "metadata": {
    "collapsed": false
   },
   "id": "8eec67e6bc5ba408",
   "execution_count": null
  },
  {
   "cell_type": "code",
   "outputs": [],
   "source": [
    "new_clients['source'].value_counts()"
   ],
   "metadata": {
    "collapsed": false
   },
   "id": "50897a6154850b6b",
   "execution_count": null
  },
  {
   "cell_type": "code",
   "outputs": [],
   "source": [
    "scr_q4['need_pei'].value_counts()"
   ],
   "metadata": {
    "collapsed": false
   },
   "id": "285bf0aacef5649b",
   "execution_count": null
  }
 ],
 "metadata": {
  "kernelspec": {
   "display_name": "Python 3",
   "language": "python",
   "name": "python3"
  },
  "language_info": {
   "codemirror_mode": {
    "name": "ipython",
    "version": 2
   },
   "file_extension": ".py",
   "mimetype": "text/x-python",
   "name": "python",
   "nbconvert_exporter": "python",
   "pygments_lexer": "ipython2",
   "version": "2.7.6"
  }
 },
 "nbformat": 4,
 "nbformat_minor": 5
}
