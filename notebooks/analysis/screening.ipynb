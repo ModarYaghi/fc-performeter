{
 "cells": [
  {
   "cell_type": "code",
   "execution_count": 1,
   "id": "initial_id",
   "metadata": {
    "collapsed": true,
    "ExecuteTime": {
     "end_time": "2024-01-09T14:53:02.423685800Z",
     "start_time": "2024-01-09T14:53:01.539556500Z"
    }
   },
   "outputs": [],
   "source": [
    "import pandas as pd\n",
    "from src.all_in_one import *\n",
    "from src.analysis_functions import *"
   ]
  },
  {
   "cell_type": "code",
   "outputs": [],
   "source": [
    "path = os.path.join(processed_data, 'scr_1223.csv')\n",
    "sheet_name = 'Scr'\n",
    "df_dataset = Dataset(config_file, sheet_name)\n",
    "scr = pd.read_csv(path)\n",
    "scr = dtype_trans(scr, df_dataset)"
   ],
   "metadata": {
    "collapsed": false,
    "ExecuteTime": {
     "end_time": "2024-01-09T14:53:02.520940800Z",
     "start_time": "2024-01-09T14:53:02.428797500Z"
    }
   },
   "id": "7e597d2bbea95cc7",
   "execution_count": 2
  },
  {
   "cell_type": "code",
   "outputs": [],
   "source": [
    "threshold = '2023-09-30'"
   ],
   "metadata": {
    "collapsed": false,
    "ExecuteTime": {
     "end_time": "2024-01-09T14:53:02.533706Z",
     "start_time": "2024-01-09T14:53:02.524891300Z"
    }
   },
   "id": "877d310ce3d8bf1d",
   "execution_count": 3
  },
  {
   "cell_type": "code",
   "outputs": [],
   "source": [
    "scr_q4 = filter_df_by_date(scr, df_dataset.dvars, threshold, comparison_type='a')"
   ],
   "metadata": {
    "collapsed": false,
    "ExecuteTime": {
     "end_time": "2024-01-09T14:53:02.542516300Z",
     "start_time": "2024-01-09T14:53:02.531639600Z"
    }
   },
   "id": "42f995c03dd1af07",
   "execution_count": 4
  },
  {
   "cell_type": "code",
   "outputs": [
    {
     "data": {
      "text/plain": "    scrsp  scspi    rid   firstname   lastname     sex  age     nat sc_loc  \\\n0      IJ     67  R1010        احمد    الخالدي    Male   53  Syrian     SF   \n1      IJ     64  R0999       امينة     الحسين  Female   39  Syrian     SF   \n2      IJ     22  R0511      انتصار     الاسعد  Female   47  Syrian    GZT   \n10     IJ     69  R0702         حسن      الخلف    Male   38  Syrian     SF   \n27     IJ     62  R0343        سمية       محمد  Female   43  Syrian    GZT   \n..    ...    ...    ...         ...        ...     ...  ...     ...    ...   \n658    YQ    178  R1035         سمر       عبيد  Female   56  Syrian    Rey   \n659    YQ    179  R1034        خالد      زيتون    Male   52  Syrian    Rey   \n660    YQ    180  R1033       فادية      زيدان  Female   47  Syrian    Rey   \n661    YQ    181  R1022        محمد  منذر عتقي    Male   34  Syrian    GZT   \n662    YQ    182  R1107  عبد القادر     الراغب    Male   34  Syrian    Rey   \n\n         sc_s1  ... sc_re            source source_org need_mhpss need_trw  \\\n0   2023-10-19  ...   NaT               IRM        NA_        Yes       No   \n1   2023-10-18  ...   NaT               IRM        NA_        Yes       No   \n2   2022-05-27  ...   NaT  Family_or_Friend        NA_        Yes       No   \n10  2023-10-26  ...   NaT               IRM        NA_        Yes       No   \n27         NaT  ...   NaT      ADMSP_Member        NA_        Yes       No   \n..         ...  ...   ...               ...        ...        ...      ...   \n658 2023-10-26  ...   NaT               IRM        NA_         No       No   \n659 2023-10-26  ...   NaT               IRM        NA_         No       No   \n660 2023-10-26  ...   NaT               IRM        NA_         No       No   \n661 2023-11-08  ...   NaT      ADMSP_Member        NA_        Yes       No   \n662 2023-11-08  ...   NaT               IRM        NA_         No       No   \n\n    need_out_ref need_tmh need_pei                note scloc  \n0             No      Yes      Yes                 NaN   NaN  \n1             No       No      Yes                 NaN   NaN  \n2             No       No      Yes            intake-Y   GZT  \n10            No      Yes      Yes                 NaN   NaN  \n27            No       No      Yes                 NaN   GZT  \n..           ...      ...      ...                 ...   ...  \n658           No      Yes      Yes                 NaN   NaN  \n659           No       No       No  تحويل لجلسة توعية    NaN  \n660           No      Yes      Yes                 NaN   NaN  \n661           No       No       No                 NaN   GZT  \n662           No      Yes      Yes                 NaN   NaN  \n\n[167 rows x 21 columns]",
      "text/html": "<div>\n<style scoped>\n    .dataframe tbody tr th:only-of-type {\n        vertical-align: middle;\n    }\n\n    .dataframe tbody tr th {\n        vertical-align: top;\n    }\n\n    .dataframe thead th {\n        text-align: right;\n    }\n</style>\n<table border=\"1\" class=\"dataframe\">\n  <thead>\n    <tr style=\"text-align: right;\">\n      <th></th>\n      <th>scrsp</th>\n      <th>scspi</th>\n      <th>rid</th>\n      <th>firstname</th>\n      <th>lastname</th>\n      <th>sex</th>\n      <th>age</th>\n      <th>nat</th>\n      <th>sc_loc</th>\n      <th>sc_s1</th>\n      <th>...</th>\n      <th>sc_re</th>\n      <th>source</th>\n      <th>source_org</th>\n      <th>need_mhpss</th>\n      <th>need_trw</th>\n      <th>need_out_ref</th>\n      <th>need_tmh</th>\n      <th>need_pei</th>\n      <th>note</th>\n      <th>scloc</th>\n    </tr>\n  </thead>\n  <tbody>\n    <tr>\n      <th>0</th>\n      <td>IJ</td>\n      <td>67</td>\n      <td>R1010</td>\n      <td>احمد</td>\n      <td>الخالدي</td>\n      <td>Male</td>\n      <td>53</td>\n      <td>Syrian</td>\n      <td>SF</td>\n      <td>2023-10-19</td>\n      <td>...</td>\n      <td>NaT</td>\n      <td>IRM</td>\n      <td>NA_</td>\n      <td>Yes</td>\n      <td>No</td>\n      <td>No</td>\n      <td>Yes</td>\n      <td>Yes</td>\n      <td>NaN</td>\n      <td>NaN</td>\n    </tr>\n    <tr>\n      <th>1</th>\n      <td>IJ</td>\n      <td>64</td>\n      <td>R0999</td>\n      <td>امينة</td>\n      <td>الحسين</td>\n      <td>Female</td>\n      <td>39</td>\n      <td>Syrian</td>\n      <td>SF</td>\n      <td>2023-10-18</td>\n      <td>...</td>\n      <td>NaT</td>\n      <td>IRM</td>\n      <td>NA_</td>\n      <td>Yes</td>\n      <td>No</td>\n      <td>No</td>\n      <td>No</td>\n      <td>Yes</td>\n      <td>NaN</td>\n      <td>NaN</td>\n    </tr>\n    <tr>\n      <th>2</th>\n      <td>IJ</td>\n      <td>22</td>\n      <td>R0511</td>\n      <td>انتصار</td>\n      <td>الاسعد</td>\n      <td>Female</td>\n      <td>47</td>\n      <td>Syrian</td>\n      <td>GZT</td>\n      <td>2022-05-27</td>\n      <td>...</td>\n      <td>NaT</td>\n      <td>Family_or_Friend</td>\n      <td>NA_</td>\n      <td>Yes</td>\n      <td>No</td>\n      <td>No</td>\n      <td>No</td>\n      <td>Yes</td>\n      <td>intake-Y</td>\n      <td>GZT</td>\n    </tr>\n    <tr>\n      <th>10</th>\n      <td>IJ</td>\n      <td>69</td>\n      <td>R0702</td>\n      <td>حسن</td>\n      <td>الخلف</td>\n      <td>Male</td>\n      <td>38</td>\n      <td>Syrian</td>\n      <td>SF</td>\n      <td>2023-10-26</td>\n      <td>...</td>\n      <td>NaT</td>\n      <td>IRM</td>\n      <td>NA_</td>\n      <td>Yes</td>\n      <td>No</td>\n      <td>No</td>\n      <td>Yes</td>\n      <td>Yes</td>\n      <td>NaN</td>\n      <td>NaN</td>\n    </tr>\n    <tr>\n      <th>27</th>\n      <td>IJ</td>\n      <td>62</td>\n      <td>R0343</td>\n      <td>سمية</td>\n      <td>محمد</td>\n      <td>Female</td>\n      <td>43</td>\n      <td>Syrian</td>\n      <td>GZT</td>\n      <td>NaT</td>\n      <td>...</td>\n      <td>NaT</td>\n      <td>ADMSP_Member</td>\n      <td>NA_</td>\n      <td>Yes</td>\n      <td>No</td>\n      <td>No</td>\n      <td>No</td>\n      <td>Yes</td>\n      <td>NaN</td>\n      <td>GZT</td>\n    </tr>\n    <tr>\n      <th>...</th>\n      <td>...</td>\n      <td>...</td>\n      <td>...</td>\n      <td>...</td>\n      <td>...</td>\n      <td>...</td>\n      <td>...</td>\n      <td>...</td>\n      <td>...</td>\n      <td>...</td>\n      <td>...</td>\n      <td>...</td>\n      <td>...</td>\n      <td>...</td>\n      <td>...</td>\n      <td>...</td>\n      <td>...</td>\n      <td>...</td>\n      <td>...</td>\n      <td>...</td>\n      <td>...</td>\n    </tr>\n    <tr>\n      <th>658</th>\n      <td>YQ</td>\n      <td>178</td>\n      <td>R1035</td>\n      <td>سمر</td>\n      <td>عبيد</td>\n      <td>Female</td>\n      <td>56</td>\n      <td>Syrian</td>\n      <td>Rey</td>\n      <td>2023-10-26</td>\n      <td>...</td>\n      <td>NaT</td>\n      <td>IRM</td>\n      <td>NA_</td>\n      <td>No</td>\n      <td>No</td>\n      <td>No</td>\n      <td>Yes</td>\n      <td>Yes</td>\n      <td>NaN</td>\n      <td>NaN</td>\n    </tr>\n    <tr>\n      <th>659</th>\n      <td>YQ</td>\n      <td>179</td>\n      <td>R1034</td>\n      <td>خالد</td>\n      <td>زيتون</td>\n      <td>Male</td>\n      <td>52</td>\n      <td>Syrian</td>\n      <td>Rey</td>\n      <td>2023-10-26</td>\n      <td>...</td>\n      <td>NaT</td>\n      <td>IRM</td>\n      <td>NA_</td>\n      <td>No</td>\n      <td>No</td>\n      <td>No</td>\n      <td>No</td>\n      <td>No</td>\n      <td>تحويل لجلسة توعية</td>\n      <td>NaN</td>\n    </tr>\n    <tr>\n      <th>660</th>\n      <td>YQ</td>\n      <td>180</td>\n      <td>R1033</td>\n      <td>فادية</td>\n      <td>زيدان</td>\n      <td>Female</td>\n      <td>47</td>\n      <td>Syrian</td>\n      <td>Rey</td>\n      <td>2023-10-26</td>\n      <td>...</td>\n      <td>NaT</td>\n      <td>IRM</td>\n      <td>NA_</td>\n      <td>No</td>\n      <td>No</td>\n      <td>No</td>\n      <td>Yes</td>\n      <td>Yes</td>\n      <td>NaN</td>\n      <td>NaN</td>\n    </tr>\n    <tr>\n      <th>661</th>\n      <td>YQ</td>\n      <td>181</td>\n      <td>R1022</td>\n      <td>محمد</td>\n      <td>منذر عتقي</td>\n      <td>Male</td>\n      <td>34</td>\n      <td>Syrian</td>\n      <td>GZT</td>\n      <td>2023-11-08</td>\n      <td>...</td>\n      <td>NaT</td>\n      <td>ADMSP_Member</td>\n      <td>NA_</td>\n      <td>Yes</td>\n      <td>No</td>\n      <td>No</td>\n      <td>No</td>\n      <td>No</td>\n      <td>NaN</td>\n      <td>GZT</td>\n    </tr>\n    <tr>\n      <th>662</th>\n      <td>YQ</td>\n      <td>182</td>\n      <td>R1107</td>\n      <td>عبد القادر</td>\n      <td>الراغب</td>\n      <td>Male</td>\n      <td>34</td>\n      <td>Syrian</td>\n      <td>Rey</td>\n      <td>2023-11-08</td>\n      <td>...</td>\n      <td>NaT</td>\n      <td>IRM</td>\n      <td>NA_</td>\n      <td>No</td>\n      <td>No</td>\n      <td>No</td>\n      <td>Yes</td>\n      <td>Yes</td>\n      <td>NaN</td>\n      <td>NaN</td>\n    </tr>\n  </tbody>\n</table>\n<p>167 rows × 21 columns</p>\n</div>"
     },
     "execution_count": 5,
     "metadata": {},
     "output_type": "execute_result"
    }
   ],
   "source": [
    "scr_q4"
   ],
   "metadata": {
    "collapsed": false,
    "ExecuteTime": {
     "end_time": "2024-01-09T14:53:04.425211900Z",
     "start_time": "2024-01-09T14:53:04.384097600Z"
    }
   },
   "id": "ed03ecab056996ee",
   "execution_count": 5
  },
  {
   "cell_type": "code",
   "outputs": [
    {
     "data": {
      "text/plain": "95"
     },
     "execution_count": 8,
     "metadata": {},
     "output_type": "execute_result"
    }
   ],
   "source": [
    "(scr_q4['need_pei'] == 'Yes').sum()"
   ],
   "metadata": {
    "collapsed": false,
    "ExecuteTime": {
     "end_time": "2024-01-09T14:58:49.944739900Z",
     "start_time": "2024-01-09T14:58:49.934928500Z"
    }
   },
   "id": "d58efb7e1868855",
   "execution_count": 8
  },
  {
   "cell_type": "code",
   "outputs": [],
   "source": [
    "scr_new = filter_df_by_date(scr, ['sc_s1'], threshold, comparison_type='a')"
   ],
   "metadata": {
    "collapsed": false
   },
   "id": "729e6334ac9a08f6",
   "execution_count": null
  },
  {
   "cell_type": "code",
   "outputs": [],
   "source": [
    "scr_new"
   ],
   "metadata": {
    "collapsed": false
   },
   "id": "bf8523517d73b1d5",
   "execution_count": null
  },
  {
   "cell_type": "code",
   "outputs": [],
   "source": [
    "scr_new['sex'].value_counts()"
   ],
   "metadata": {
    "collapsed": false
   },
   "id": "c79952b528191323",
   "execution_count": null
  },
  {
   "cell_type": "code",
   "outputs": [],
   "source": [
    "age_group = categorize_and_count_ages(scr_new['age'])"
   ],
   "metadata": {
    "collapsed": false
   },
   "id": "bb15e668e58cc73c",
   "execution_count": null
  },
  {
   "cell_type": "code",
   "outputs": [],
   "source": [
    "normalized_value_counts(age_group)"
   ],
   "metadata": {
    "collapsed": false
   },
   "id": "8eec67e6bc5ba408",
   "execution_count": null
  },
  {
   "cell_type": "code",
   "outputs": [],
   "source": [
    "scr_new['source'].value_counts()"
   ],
   "metadata": {
    "collapsed": false
   },
   "id": "50897a6154850b6b",
   "execution_count": null
  },
  {
   "cell_type": "code",
   "outputs": [],
   "source": [
    "scr_q4['need_pei'].value_counts()"
   ],
   "metadata": {
    "collapsed": false
   },
   "id": "285bf0aacef5649b",
   "execution_count": null
  }
 ],
 "metadata": {
  "kernelspec": {
   "display_name": "Python 3",
   "language": "python",
   "name": "python3"
  },
  "language_info": {
   "codemirror_mode": {
    "name": "ipython",
    "version": 2
   },
   "file_extension": ".py",
   "mimetype": "text/x-python",
   "name": "python",
   "nbconvert_exporter": "python",
   "pygments_lexer": "ipython2",
   "version": "2.7.6"
  }
 },
 "nbformat": 4,
 "nbformat_minor": 5
}
