{
 "cells": [
  {
   "cell_type": "code",
   "execution_count": 1,
   "id": "initial_id",
   "metadata": {
    "collapsed": true,
    "ExecuteTime": {
     "end_time": "2024-03-07T09:49:25.212252Z",
     "start_time": "2024-03-07T09:49:22.838443500Z"
    }
   },
   "outputs": [],
   "source": [
    "import pandas as pd\n",
    "from src.all_in_one import *\n",
    "from src.analysis_functions import *"
   ]
  },
  {
   "cell_type": "code",
   "outputs": [],
   "source": [
    "scr_path = os.path.join(processed_data, '00_psscr_0124.csv')\n",
    "scr_sheet = 'Scr'\n",
    "scr_dataset = Dataset(config_file, scr_sheet)\n",
    "scr = pd.read_csv(scr_path)\n",
    "scr = dtype_trans(scr, scr_dataset)\n",
    "# threshold = '2023-09-30'"
   ],
   "metadata": {
    "collapsed": false,
    "ExecuteTime": {
     "end_time": "2024-03-07T09:49:31.608895400Z",
     "start_time": "2024-03-07T09:49:31.412122700Z"
    }
   },
   "id": "7e597d2bbea95cc7",
   "execution_count": 2
  },
  {
   "cell_type": "code",
   "outputs": [
    {
     "data": {
      "text/plain": "    scrsp  scspi    rid   firstname   lastname     sex  age     nat sc_loc  \\\n0      IJ     67  R1010        احمد    الخالدي    Male   53  Syrian     SF   \n1      IJ     64  R0999       امينة     الحسين  Female   39  Syrian     SF   \n2      IJ     22  R0511      انتصار     الاسعد  Female   47  Syrian    GTZ   \n3      IJ     30  R0587       ايمان      العلي  Female   35  Syrian    GTZ   \n4      IJ     36  R0731     إبراهيم       عباس    Male   33  Syrian    GTZ   \n..    ...    ...    ...         ...        ...     ...  ...     ...    ...   \n679    YQ    178  R1035         سمر       عبيد  Female   56  Syrian    Rey   \n680    YQ    179  R1034        خالد      زيتون    Male   52  Syrian    Rey   \n681    YQ    180  R1033       فادية      زيدان  Female   47  Syrian    Rey   \n682    YQ    181  R1022        محمد  منذر عتقي    Male   34  Syrian    GTZ   \n683    YQ    182  R1107  عبد القادر     الراغب    Male   34  Syrian    Rey   \n\n         sc_s1 pei_pre_as sc_re                                 source  \\\n0   2023-10-19        NaT   NaT                                    IRM   \n1   2023-10-18        NaT   NaT                                    IRM   \n2   2022-05-27 2023-10-09   NaT                Family member or friend   \n3   2022-12-22        NaT   NaT  ADMSP beneficiary (current or former)   \n4   2023-05-22        NaT   NaT                                    IRM   \n..         ...        ...   ...                                    ...   \n679 2023-10-26        NaT   NaT                                    IRM   \n680 2023-10-26        NaT   NaT                                    IRM   \n681 2023-10-26        NaT   NaT                                    IRM   \n682 2023-11-08        NaT   NaT                           ADMSP member   \n683 2023-11-08        NaT   NaT                                    IRM   \n\n    source_org need_mhpss need_trw need_out_ref need_tmh need_pei  \\\n0          NaN        Yes       No           No      Yes      Yes   \n1          NaN        Yes       No           No       No      Yes   \n2          NaN        Yes       No           No       No      Yes   \n3          NaN        Yes       No           No       No       No   \n4          NaN         No      Yes           No      Yes       No   \n..         ...        ...      ...          ...      ...      ...   \n679        NaN         No       No           No      Yes      Yes   \n680        NaN         No       No           No       No       No   \n681        NaN         No       No           No      Yes      Yes   \n682        NaN        Yes       No           No       No       No   \n683        NaN         No       No           No      Yes      Yes   \n\n                   note  \n0                   NaN  \n1                   NaN  \n2              intake-Y  \n3                intake  \n4               TRW-IRM  \n..                  ...  \n679                 NaN  \n680  تحويل لجلسة توعية   \n681                 NaN  \n682                 NaN  \n683                 NaN  \n\n[684 rows x 20 columns]",
      "text/html": "<div>\n<style scoped>\n    .dataframe tbody tr th:only-of-type {\n        vertical-align: middle;\n    }\n\n    .dataframe tbody tr th {\n        vertical-align: top;\n    }\n\n    .dataframe thead th {\n        text-align: right;\n    }\n</style>\n<table border=\"1\" class=\"dataframe\">\n  <thead>\n    <tr style=\"text-align: right;\">\n      <th></th>\n      <th>scrsp</th>\n      <th>scspi</th>\n      <th>rid</th>\n      <th>firstname</th>\n      <th>lastname</th>\n      <th>sex</th>\n      <th>age</th>\n      <th>nat</th>\n      <th>sc_loc</th>\n      <th>sc_s1</th>\n      <th>pei_pre_as</th>\n      <th>sc_re</th>\n      <th>source</th>\n      <th>source_org</th>\n      <th>need_mhpss</th>\n      <th>need_trw</th>\n      <th>need_out_ref</th>\n      <th>need_tmh</th>\n      <th>need_pei</th>\n      <th>note</th>\n    </tr>\n  </thead>\n  <tbody>\n    <tr>\n      <th>0</th>\n      <td>IJ</td>\n      <td>67</td>\n      <td>R1010</td>\n      <td>احمد</td>\n      <td>الخالدي</td>\n      <td>Male</td>\n      <td>53</td>\n      <td>Syrian</td>\n      <td>SF</td>\n      <td>2023-10-19</td>\n      <td>NaT</td>\n      <td>NaT</td>\n      <td>IRM</td>\n      <td>NaN</td>\n      <td>Yes</td>\n      <td>No</td>\n      <td>No</td>\n      <td>Yes</td>\n      <td>Yes</td>\n      <td>NaN</td>\n    </tr>\n    <tr>\n      <th>1</th>\n      <td>IJ</td>\n      <td>64</td>\n      <td>R0999</td>\n      <td>امينة</td>\n      <td>الحسين</td>\n      <td>Female</td>\n      <td>39</td>\n      <td>Syrian</td>\n      <td>SF</td>\n      <td>2023-10-18</td>\n      <td>NaT</td>\n      <td>NaT</td>\n      <td>IRM</td>\n      <td>NaN</td>\n      <td>Yes</td>\n      <td>No</td>\n      <td>No</td>\n      <td>No</td>\n      <td>Yes</td>\n      <td>NaN</td>\n    </tr>\n    <tr>\n      <th>2</th>\n      <td>IJ</td>\n      <td>22</td>\n      <td>R0511</td>\n      <td>انتصار</td>\n      <td>الاسعد</td>\n      <td>Female</td>\n      <td>47</td>\n      <td>Syrian</td>\n      <td>GTZ</td>\n      <td>2022-05-27</td>\n      <td>2023-10-09</td>\n      <td>NaT</td>\n      <td>Family member or friend</td>\n      <td>NaN</td>\n      <td>Yes</td>\n      <td>No</td>\n      <td>No</td>\n      <td>No</td>\n      <td>Yes</td>\n      <td>intake-Y</td>\n    </tr>\n    <tr>\n      <th>3</th>\n      <td>IJ</td>\n      <td>30</td>\n      <td>R0587</td>\n      <td>ايمان</td>\n      <td>العلي</td>\n      <td>Female</td>\n      <td>35</td>\n      <td>Syrian</td>\n      <td>GTZ</td>\n      <td>2022-12-22</td>\n      <td>NaT</td>\n      <td>NaT</td>\n      <td>ADMSP beneficiary (current or former)</td>\n      <td>NaN</td>\n      <td>Yes</td>\n      <td>No</td>\n      <td>No</td>\n      <td>No</td>\n      <td>No</td>\n      <td>intake</td>\n    </tr>\n    <tr>\n      <th>4</th>\n      <td>IJ</td>\n      <td>36</td>\n      <td>R0731</td>\n      <td>إبراهيم</td>\n      <td>عباس</td>\n      <td>Male</td>\n      <td>33</td>\n      <td>Syrian</td>\n      <td>GTZ</td>\n      <td>2023-05-22</td>\n      <td>NaT</td>\n      <td>NaT</td>\n      <td>IRM</td>\n      <td>NaN</td>\n      <td>No</td>\n      <td>Yes</td>\n      <td>No</td>\n      <td>Yes</td>\n      <td>No</td>\n      <td>TRW-IRM</td>\n    </tr>\n    <tr>\n      <th>...</th>\n      <td>...</td>\n      <td>...</td>\n      <td>...</td>\n      <td>...</td>\n      <td>...</td>\n      <td>...</td>\n      <td>...</td>\n      <td>...</td>\n      <td>...</td>\n      <td>...</td>\n      <td>...</td>\n      <td>...</td>\n      <td>...</td>\n      <td>...</td>\n      <td>...</td>\n      <td>...</td>\n      <td>...</td>\n      <td>...</td>\n      <td>...</td>\n      <td>...</td>\n    </tr>\n    <tr>\n      <th>679</th>\n      <td>YQ</td>\n      <td>178</td>\n      <td>R1035</td>\n      <td>سمر</td>\n      <td>عبيد</td>\n      <td>Female</td>\n      <td>56</td>\n      <td>Syrian</td>\n      <td>Rey</td>\n      <td>2023-10-26</td>\n      <td>NaT</td>\n      <td>NaT</td>\n      <td>IRM</td>\n      <td>NaN</td>\n      <td>No</td>\n      <td>No</td>\n      <td>No</td>\n      <td>Yes</td>\n      <td>Yes</td>\n      <td>NaN</td>\n    </tr>\n    <tr>\n      <th>680</th>\n      <td>YQ</td>\n      <td>179</td>\n      <td>R1034</td>\n      <td>خالد</td>\n      <td>زيتون</td>\n      <td>Male</td>\n      <td>52</td>\n      <td>Syrian</td>\n      <td>Rey</td>\n      <td>2023-10-26</td>\n      <td>NaT</td>\n      <td>NaT</td>\n      <td>IRM</td>\n      <td>NaN</td>\n      <td>No</td>\n      <td>No</td>\n      <td>No</td>\n      <td>No</td>\n      <td>No</td>\n      <td>تحويل لجلسة توعية</td>\n    </tr>\n    <tr>\n      <th>681</th>\n      <td>YQ</td>\n      <td>180</td>\n      <td>R1033</td>\n      <td>فادية</td>\n      <td>زيدان</td>\n      <td>Female</td>\n      <td>47</td>\n      <td>Syrian</td>\n      <td>Rey</td>\n      <td>2023-10-26</td>\n      <td>NaT</td>\n      <td>NaT</td>\n      <td>IRM</td>\n      <td>NaN</td>\n      <td>No</td>\n      <td>No</td>\n      <td>No</td>\n      <td>Yes</td>\n      <td>Yes</td>\n      <td>NaN</td>\n    </tr>\n    <tr>\n      <th>682</th>\n      <td>YQ</td>\n      <td>181</td>\n      <td>R1022</td>\n      <td>محمد</td>\n      <td>منذر عتقي</td>\n      <td>Male</td>\n      <td>34</td>\n      <td>Syrian</td>\n      <td>GTZ</td>\n      <td>2023-11-08</td>\n      <td>NaT</td>\n      <td>NaT</td>\n      <td>ADMSP member</td>\n      <td>NaN</td>\n      <td>Yes</td>\n      <td>No</td>\n      <td>No</td>\n      <td>No</td>\n      <td>No</td>\n      <td>NaN</td>\n    </tr>\n    <tr>\n      <th>683</th>\n      <td>YQ</td>\n      <td>182</td>\n      <td>R1107</td>\n      <td>عبد القادر</td>\n      <td>الراغب</td>\n      <td>Male</td>\n      <td>34</td>\n      <td>Syrian</td>\n      <td>Rey</td>\n      <td>2023-11-08</td>\n      <td>NaT</td>\n      <td>NaT</td>\n      <td>IRM</td>\n      <td>NaN</td>\n      <td>No</td>\n      <td>No</td>\n      <td>No</td>\n      <td>Yes</td>\n      <td>Yes</td>\n      <td>NaN</td>\n    </tr>\n  </tbody>\n</table>\n<p>684 rows × 20 columns</p>\n</div>"
     },
     "execution_count": 3,
     "metadata": {},
     "output_type": "execute_result"
    }
   ],
   "source": [
    "scr"
   ],
   "metadata": {
    "collapsed": false,
    "ExecuteTime": {
     "end_time": "2024-03-07T09:49:32.599755500Z",
     "start_time": "2024-03-07T09:49:32.408511200Z"
    }
   },
   "id": "c99b9e24c37788e",
   "execution_count": 3
  },
  {
   "cell_type": "code",
   "outputs": [],
   "source": [
    "path = os.path.join(processed_data, '01_psint_0124.csv')\n",
    "intake_sheet = 'Int'\n",
    "intake_dataset = Dataset(config_file, intake_sheet)\n",
    "intake = pd.read_csv(path)\n",
    "intake = dtype_trans(intake, intake_dataset)"
   ],
   "metadata": {
    "collapsed": false,
    "ExecuteTime": {
     "end_time": "2024-03-07T09:54:06.660722900Z",
     "start_time": "2024-03-07T09:54:06.515169200Z"
    }
   },
   "id": "19e2c8b519797c17",
   "execution_count": 4
  },
  {
   "cell_type": "code",
   "outputs": [
    {
     "data": {
      "text/plain": "    intsp  ntspi    rid        fcid firstname    lastname      nt_s1  \\\n0      IJ      1  R0450  8110080001       آية        فاضل 2022-08-25   \n1      IJ      2  R0481  8110080002     حميدة       مصطفى 2022-08-26   \n2      IJ      3  R0459  8110080003     فاطمة        ديوك 2022-09-01   \n3      IJ      4  R0571  8110080004     سميحة        نجمة 2022-12-15   \n4      IJ      5  R0487  8110080005      رياض      الأسعد 2022-12-15   \n..    ...    ...    ...         ...       ...         ...        ...   \n286    YQ    123  R0078  8110040006     جميلة       حويلي 2021-08-02   \n287    YQ    124  R0071  8110040005      صباح       حمادة 2021-06-25   \n288    YQ    125  R0070  8110040004     هيفاء  العبد الله 2021-06-21   \n289    YQ    126  R0694  8110020126      باسل     حج حسين 2023-09-19   \n290    YQ    127  R0874  8110020127     هويدا   الرجب أغا 2023-10-06   \n\n         nt_s2      nt_s3      nt_re  ... secondary_torture  \\\n0   2022-08-31 2022-09-15        NaT  ...               Yes   \n1   2022-08-29        NaT 2023-11-01  ...               Yes   \n2   2022-09-06 2022-09-09 2023-10-17  ...               Yes   \n3   2022-12-22 2022-12-27        NaT  ...                No   \n4   2022-12-19        NaT        NaT  ...                No   \n..         ...        ...        ...  ...               ...   \n286 2021-08-09        NaT        NaT  ...               Yes   \n287 2021-07-02        NaT        NaT  ...               Yes   \n288 2021-07-05        NaT        NaT  ...               Yes   \n289 2023-10-03 2023-10-13        NaT  ...               Yes   \n290 2023-10-13        NaT        NaT  ...               Yes   \n\n    sexual_violation_a sexual_violation_p  hrd journalist  wov stgbv lgbti  \\\n0                   No                 No   No         No  Yes   Yes    No   \n1                   No                 No   No         No  Yes    No    No   \n2                   No                 No   No         No  Yes    No    No   \n3                   No                 No   No         No  Yes    No    No   \n4                   No                 No   No         No  Yes    No    No   \n..                 ...                ...  ...        ...  ...   ...   ...   \n286                NaN                NaN  NaN        NaN  Yes    No    No   \n287                NaN                NaN  NaN        NaN  Yes    No    No   \n288                NaN                NaN  NaN        NaN  Yes   Yes    No   \n289                 No                 No   No         No  Yes    No    No   \n290                 No                Yes   No         No  Yes   Yes    No   \n\n    other                       note  \n0      No                 الملف مغلق  \n1     Yes            اتجار بالاعضاء   \n2      No                        NaN  \n3      No                        NaN  \n4      No                        NaN  \n..    ...                        ...  \n286    No  تقييم قامت باجرائه سلطانة  \n287    No  تقييم قامت باجرائه سلطانة  \n288    No  تقييم قامت باجرائه سلطانة  \n289    No                        NaN  \n290    No                        NaN  \n\n[291 rows x 23 columns]",
      "text/html": "<div>\n<style scoped>\n    .dataframe tbody tr th:only-of-type {\n        vertical-align: middle;\n    }\n\n    .dataframe tbody tr th {\n        vertical-align: top;\n    }\n\n    .dataframe thead th {\n        text-align: right;\n    }\n</style>\n<table border=\"1\" class=\"dataframe\">\n  <thead>\n    <tr style=\"text-align: right;\">\n      <th></th>\n      <th>intsp</th>\n      <th>ntspi</th>\n      <th>rid</th>\n      <th>fcid</th>\n      <th>firstname</th>\n      <th>lastname</th>\n      <th>nt_s1</th>\n      <th>nt_s2</th>\n      <th>nt_s3</th>\n      <th>nt_re</th>\n      <th>...</th>\n      <th>secondary_torture</th>\n      <th>sexual_violation_a</th>\n      <th>sexual_violation_p</th>\n      <th>hrd</th>\n      <th>journalist</th>\n      <th>wov</th>\n      <th>stgbv</th>\n      <th>lgbti</th>\n      <th>other</th>\n      <th>note</th>\n    </tr>\n  </thead>\n  <tbody>\n    <tr>\n      <th>0</th>\n      <td>IJ</td>\n      <td>1</td>\n      <td>R0450</td>\n      <td>8110080001</td>\n      <td>آية</td>\n      <td>فاضل</td>\n      <td>2022-08-25</td>\n      <td>2022-08-31</td>\n      <td>2022-09-15</td>\n      <td>NaT</td>\n      <td>...</td>\n      <td>Yes</td>\n      <td>No</td>\n      <td>No</td>\n      <td>No</td>\n      <td>No</td>\n      <td>Yes</td>\n      <td>Yes</td>\n      <td>No</td>\n      <td>No</td>\n      <td>الملف مغلق</td>\n    </tr>\n    <tr>\n      <th>1</th>\n      <td>IJ</td>\n      <td>2</td>\n      <td>R0481</td>\n      <td>8110080002</td>\n      <td>حميدة</td>\n      <td>مصطفى</td>\n      <td>2022-08-26</td>\n      <td>2022-08-29</td>\n      <td>NaT</td>\n      <td>2023-11-01</td>\n      <td>...</td>\n      <td>Yes</td>\n      <td>No</td>\n      <td>No</td>\n      <td>No</td>\n      <td>No</td>\n      <td>Yes</td>\n      <td>No</td>\n      <td>No</td>\n      <td>Yes</td>\n      <td>اتجار بالاعضاء</td>\n    </tr>\n    <tr>\n      <th>2</th>\n      <td>IJ</td>\n      <td>3</td>\n      <td>R0459</td>\n      <td>8110080003</td>\n      <td>فاطمة</td>\n      <td>ديوك</td>\n      <td>2022-09-01</td>\n      <td>2022-09-06</td>\n      <td>2022-09-09</td>\n      <td>2023-10-17</td>\n      <td>...</td>\n      <td>Yes</td>\n      <td>No</td>\n      <td>No</td>\n      <td>No</td>\n      <td>No</td>\n      <td>Yes</td>\n      <td>No</td>\n      <td>No</td>\n      <td>No</td>\n      <td>NaN</td>\n    </tr>\n    <tr>\n      <th>3</th>\n      <td>IJ</td>\n      <td>4</td>\n      <td>R0571</td>\n      <td>8110080004</td>\n      <td>سميحة</td>\n      <td>نجمة</td>\n      <td>2022-12-15</td>\n      <td>2022-12-22</td>\n      <td>2022-12-27</td>\n      <td>NaT</td>\n      <td>...</td>\n      <td>No</td>\n      <td>No</td>\n      <td>No</td>\n      <td>No</td>\n      <td>No</td>\n      <td>Yes</td>\n      <td>No</td>\n      <td>No</td>\n      <td>No</td>\n      <td>NaN</td>\n    </tr>\n    <tr>\n      <th>4</th>\n      <td>IJ</td>\n      <td>5</td>\n      <td>R0487</td>\n      <td>8110080005</td>\n      <td>رياض</td>\n      <td>الأسعد</td>\n      <td>2022-12-15</td>\n      <td>2022-12-19</td>\n      <td>NaT</td>\n      <td>NaT</td>\n      <td>...</td>\n      <td>No</td>\n      <td>No</td>\n      <td>No</td>\n      <td>No</td>\n      <td>No</td>\n      <td>Yes</td>\n      <td>No</td>\n      <td>No</td>\n      <td>No</td>\n      <td>NaN</td>\n    </tr>\n    <tr>\n      <th>...</th>\n      <td>...</td>\n      <td>...</td>\n      <td>...</td>\n      <td>...</td>\n      <td>...</td>\n      <td>...</td>\n      <td>...</td>\n      <td>...</td>\n      <td>...</td>\n      <td>...</td>\n      <td>...</td>\n      <td>...</td>\n      <td>...</td>\n      <td>...</td>\n      <td>...</td>\n      <td>...</td>\n      <td>...</td>\n      <td>...</td>\n      <td>...</td>\n      <td>...</td>\n      <td>...</td>\n    </tr>\n    <tr>\n      <th>286</th>\n      <td>YQ</td>\n      <td>123</td>\n      <td>R0078</td>\n      <td>8110040006</td>\n      <td>جميلة</td>\n      <td>حويلي</td>\n      <td>2021-08-02</td>\n      <td>2021-08-09</td>\n      <td>NaT</td>\n      <td>NaT</td>\n      <td>...</td>\n      <td>Yes</td>\n      <td>NaN</td>\n      <td>NaN</td>\n      <td>NaN</td>\n      <td>NaN</td>\n      <td>Yes</td>\n      <td>No</td>\n      <td>No</td>\n      <td>No</td>\n      <td>تقييم قامت باجرائه سلطانة</td>\n    </tr>\n    <tr>\n      <th>287</th>\n      <td>YQ</td>\n      <td>124</td>\n      <td>R0071</td>\n      <td>8110040005</td>\n      <td>صباح</td>\n      <td>حمادة</td>\n      <td>2021-06-25</td>\n      <td>2021-07-02</td>\n      <td>NaT</td>\n      <td>NaT</td>\n      <td>...</td>\n      <td>Yes</td>\n      <td>NaN</td>\n      <td>NaN</td>\n      <td>NaN</td>\n      <td>NaN</td>\n      <td>Yes</td>\n      <td>No</td>\n      <td>No</td>\n      <td>No</td>\n      <td>تقييم قامت باجرائه سلطانة</td>\n    </tr>\n    <tr>\n      <th>288</th>\n      <td>YQ</td>\n      <td>125</td>\n      <td>R0070</td>\n      <td>8110040004</td>\n      <td>هيفاء</td>\n      <td>العبد الله</td>\n      <td>2021-06-21</td>\n      <td>2021-07-05</td>\n      <td>NaT</td>\n      <td>NaT</td>\n      <td>...</td>\n      <td>Yes</td>\n      <td>NaN</td>\n      <td>NaN</td>\n      <td>NaN</td>\n      <td>NaN</td>\n      <td>Yes</td>\n      <td>Yes</td>\n      <td>No</td>\n      <td>No</td>\n      <td>تقييم قامت باجرائه سلطانة</td>\n    </tr>\n    <tr>\n      <th>289</th>\n      <td>YQ</td>\n      <td>126</td>\n      <td>R0694</td>\n      <td>8110020126</td>\n      <td>باسل</td>\n      <td>حج حسين</td>\n      <td>2023-09-19</td>\n      <td>2023-10-03</td>\n      <td>2023-10-13</td>\n      <td>NaT</td>\n      <td>...</td>\n      <td>Yes</td>\n      <td>No</td>\n      <td>No</td>\n      <td>No</td>\n      <td>No</td>\n      <td>Yes</td>\n      <td>No</td>\n      <td>No</td>\n      <td>No</td>\n      <td>NaN</td>\n    </tr>\n    <tr>\n      <th>290</th>\n      <td>YQ</td>\n      <td>127</td>\n      <td>R0874</td>\n      <td>8110020127</td>\n      <td>هويدا</td>\n      <td>الرجب أغا</td>\n      <td>2023-10-06</td>\n      <td>2023-10-13</td>\n      <td>NaT</td>\n      <td>NaT</td>\n      <td>...</td>\n      <td>Yes</td>\n      <td>No</td>\n      <td>Yes</td>\n      <td>No</td>\n      <td>No</td>\n      <td>Yes</td>\n      <td>Yes</td>\n      <td>No</td>\n      <td>No</td>\n      <td>NaN</td>\n    </tr>\n  </tbody>\n</table>\n<p>291 rows × 23 columns</p>\n</div>"
     },
     "execution_count": 5,
     "metadata": {},
     "output_type": "execute_result"
    }
   ],
   "source": [
    "intake"
   ],
   "metadata": {
    "collapsed": false,
    "ExecuteTime": {
     "end_time": "2024-03-07T09:54:07.711704Z",
     "start_time": "2024-03-07T09:54:07.611203700Z"
    }
   },
   "id": "5804e80d77a3ee8c",
   "execution_count": 5
  },
  {
   "cell_type": "code",
   "outputs": [],
   "source": [],
   "metadata": {
    "collapsed": false
   },
   "id": "a8b76148984e264f"
  },
  {
   "cell_type": "code",
   "outputs": [],
   "source": [
    "irm = scr[['rid', 'source']]\n",
    "irm = irm[irm['source'] == 'IRM']\n",
    "irm"
   ],
   "metadata": {
    "collapsed": false
   },
   "id": "b758676cfd76062d",
   "execution_count": null
  },
  {
   "cell_type": "code",
   "outputs": [],
   "source": [
    "data = pd.merge(irm, intake[['rid', 'fcid']], on='rid', how='left')"
   ],
   "metadata": {
    "collapsed": false
   },
   "id": "e000a2613e9ae8ba",
   "execution_count": null
  },
  {
   "cell_type": "code",
   "outputs": [],
   "source": [
    "dataintake = data[data['fcid']]"
   ],
   "metadata": {
    "collapsed": false
   },
   "id": "b965a518904ef88b",
   "execution_count": null
  },
  {
   "cell_type": "code",
   "outputs": [],
   "source": [
    "rid = 'R1070'\n",
    "scr[scr['rid'] == rid]"
   ],
   "metadata": {
    "collapsed": false
   },
   "id": "877d310ce3d8bf1d",
   "execution_count": null
  },
  {
   "cell_type": "code",
   "outputs": [],
   "source": [
    "scr.insert(10, 'dup', 0)\n",
    "scr['dup'] = scr.duplicated(subset=['rid'], keep=False)\n",
    "scr['dup'] = scr['dup'].replace({True: 1, False: 0})\n",
    "# scr"
   ],
   "metadata": {
    "collapsed": false
   },
   "id": "dc37f1ddaed4096d",
   "execution_count": null
  },
  {
   "cell_type": "code",
   "outputs": [],
   "source": [
    "scr_q4 = filter_df_by_date(scr, df_dataset.dvars, threshold)\n",
    "scr_q4\n",
    "# scr_q4_to_excel = scr_q4.drop(['firstname', 'lastname'], axis=1)\n",
    "# scr_q4_to_excel.to_excel(\"screening_quarter4_2023.xlsx\")"
   ],
   "metadata": {
    "collapsed": false
   },
   "id": "42f995c03dd1af07",
   "execution_count": null
  },
  {
   "cell_type": "code",
   "outputs": [],
   "source": [
    "new_clients = filter_df_by_date(scr_q4, ['sc_s1'], threshold)\n",
    "new_clients"
   ],
   "metadata": {
    "collapsed": false
   },
   "id": "abc641d578ac13da",
   "execution_count": null
  },
  {
   "cell_type": "code",
   "outputs": [],
   "source": [
    "need_service = 'need_tmh'\n",
    "scr_q4[need_service].value_counts()"
   ],
   "metadata": {
    "collapsed": false
   },
   "id": "ed03ecab056996ee",
   "execution_count": null
  },
  {
   "cell_type": "code",
   "outputs": [],
   "source": [
    "new_clients['need_pei'].value_counts()"
   ],
   "metadata": {
    "collapsed": false
   },
   "id": "2a2781fc178fa121",
   "execution_count": null
  },
  {
   "cell_type": "code",
   "outputs": [],
   "source": [
    "(scr_q4['need_pei'] == 'Yes').sum()"
   ],
   "metadata": {
    "collapsed": false
   },
   "id": "d58efb7e1868855",
   "execution_count": null
  },
  {
   "cell_type": "code",
   "outputs": [],
   "source": [
    "new_clients['sex'].value_counts()"
   ],
   "metadata": {
    "collapsed": false
   },
   "id": "729e6334ac9a08f6",
   "execution_count": null
  },
  {
   "cell_type": "code",
   "outputs": [],
   "source": [],
   "metadata": {
    "collapsed": false
   },
   "id": "266c33541192ba32"
  },
  {
   "cell_type": "code",
   "outputs": [],
   "source": [
    "new_clients['scrsp'].value_counts()"
   ],
   "metadata": {
    "collapsed": false
   },
   "id": "bf8523517d73b1d5",
   "execution_count": null
  },
  {
   "cell_type": "code",
   "outputs": [],
   "source": [
    "new_clients['sex'].value_counts()"
   ],
   "metadata": {
    "collapsed": false
   },
   "id": "c79952b528191323",
   "execution_count": null
  },
  {
   "cell_type": "code",
   "outputs": [],
   "source": [
    "age_group = categorize_and_count_ages(new_clients['age'])\n",
    "normalized_value_counts(age_group)"
   ],
   "metadata": {
    "collapsed": false
   },
   "id": "bb15e668e58cc73c",
   "execution_count": null
  },
  {
   "cell_type": "code",
   "outputs": [],
   "source": [],
   "metadata": {
    "collapsed": false
   },
   "id": "8eec67e6bc5ba408",
   "execution_count": null
  },
  {
   "cell_type": "code",
   "outputs": [],
   "source": [
    "new_clients['source'].value_counts()"
   ],
   "metadata": {
    "collapsed": false
   },
   "id": "50897a6154850b6b",
   "execution_count": null
  },
  {
   "cell_type": "code",
   "outputs": [],
   "source": [
    "scr_q4['need_pei'].value_counts()"
   ],
   "metadata": {
    "collapsed": false
   },
   "id": "285bf0aacef5649b",
   "execution_count": null
  }
 ],
 "metadata": {
  "kernelspec": {
   "display_name": "Python 3",
   "language": "python",
   "name": "python3"
  },
  "language_info": {
   "codemirror_mode": {
    "name": "ipython",
    "version": 2
   },
   "file_extension": ".py",
   "mimetype": "text/x-python",
   "name": "python",
   "nbconvert_exporter": "python",
   "pygments_lexer": "ipython2",
   "version": "2.7.6"
  }
 },
 "nbformat": 4,
 "nbformat_minor": 5
}
