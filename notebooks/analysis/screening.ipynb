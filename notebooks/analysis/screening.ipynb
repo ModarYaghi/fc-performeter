{
 "cells": [
  {
   "cell_type": "code",
   "execution_count": 22,
   "id": "initial_id",
   "metadata": {
    "collapsed": true,
    "ExecuteTime": {
     "end_time": "2024-01-09T22:48:14.758914900Z",
     "start_time": "2024-01-09T22:48:14.716141300Z"
    }
   },
   "outputs": [],
   "source": [
    "import pandas as pd\n",
    "from src.all_in_one import *\n",
    "from src.analysis_functions import *"
   ]
  },
  {
   "cell_type": "code",
   "outputs": [],
   "source": [
    "path = os.path.join(processed_data, 'scr_1223.csv')\n",
    "sheet_name = 'Scr'\n",
    "df_dataset = Dataset(config_file, sheet_name)\n",
    "scr = pd.read_csv(path)\n",
    "scr = dtype_trans(scr, df_dataset)"
   ],
   "metadata": {
    "collapsed": false,
    "ExecuteTime": {
     "end_time": "2024-01-09T22:48:14.815273Z",
     "start_time": "2024-01-09T22:48:14.723107600Z"
    }
   },
   "id": "7e597d2bbea95cc7",
   "execution_count": 23
  },
  {
   "cell_type": "code",
   "outputs": [],
   "source": [
    "threshold = '2023-09-30'"
   ],
   "metadata": {
    "collapsed": false,
    "ExecuteTime": {
     "end_time": "2024-01-09T22:48:14.816348700Z",
     "start_time": "2024-01-09T22:48:14.809026800Z"
    }
   },
   "id": "877d310ce3d8bf1d",
   "execution_count": 24
  },
  {
   "cell_type": "code",
   "outputs": [
    {
     "data": {
      "text/plain": "    scrsp  scspi    rid   firstname   lastname     sex  age     nat sc_loc  \\\n0      IJ     67  R1010        احمد    الخالدي    Male   53  Syrian     SF   \n1      IJ     64  R0999       امينة     الحسين  Female   39  Syrian     SF   \n2      IJ     22  R0511      انتصار     الاسعد  Female   47  Syrian    GZT   \n3      IJ     30  R0587       ايمان      العلي  Female   35  Syrian    GZT   \n4      IJ     36  R0731     إبراهيم       عباس    Male   33  Syrian    GZT   \n..    ...    ...    ...         ...        ...     ...  ...     ...    ...   \n658    YQ    178  R1035         سمر       عبيد  Female   56  Syrian    Rey   \n659    YQ    179  R1034        خالد      زيتون    Male   52  Syrian    Rey   \n660    YQ    180  R1033       فادية      زيدان  Female   47  Syrian    Rey   \n661    YQ    181  R1022        محمد  منذر عتقي    Male   34  Syrian    GZT   \n662    YQ    182  R1107  عبد القادر     الراغب    Male   34  Syrian    Rey   \n\n         sc_s1  ...  sc_re             source source_org need_mhpss need_trw  \\\n0   2023-10-19  ...    NaT                IRM        NA_        Yes       No   \n1   2023-10-18  ...    NaT                IRM        NA_        Yes       No   \n2   2022-05-27  ...    NaT   Family_or_Friend        NA_        Yes       No   \n3   2022-12-22  ...    NaT  ADMSP_Beneficiary        NA_        Yes       No   \n4   2023-05-22  ...    NaT                IRM        NA_         No      Yes   \n..         ...  ...    ...                ...        ...        ...      ...   \n658 2023-10-26  ...    NaT                IRM        NA_         No       No   \n659 2023-10-26  ...    NaT                IRM        NA_         No       No   \n660 2023-10-26  ...    NaT                IRM        NA_         No       No   \n661 2023-11-08  ...    NaT       ADMSP_Member        NA_        Yes       No   \n662 2023-11-08  ...    NaT                IRM        NA_         No       No   \n\n    need_out_ref need_tmh need_pei                note scloc  \n0             No      Yes      Yes                 NaN   NaN  \n1             No       No      Yes                 NaN   NaN  \n2             No       No      Yes            intake-Y   GZT  \n3             No       No       No              intake   GZT  \n4             No      Yes       No             TRW-IRM   GZT  \n..           ...      ...      ...                 ...   ...  \n658           No      Yes      Yes                 NaN   NaN  \n659           No       No       No  تحويل لجلسة توعية    NaN  \n660           No      Yes      Yes                 NaN   NaN  \n661           No       No       No                 NaN   GZT  \n662           No      Yes      Yes                 NaN   NaN  \n\n[663 rows x 22 columns]",
      "text/html": "<div>\n<style scoped>\n    .dataframe tbody tr th:only-of-type {\n        vertical-align: middle;\n    }\n\n    .dataframe tbody tr th {\n        vertical-align: top;\n    }\n\n    .dataframe thead th {\n        text-align: right;\n    }\n</style>\n<table border=\"1\" class=\"dataframe\">\n  <thead>\n    <tr style=\"text-align: right;\">\n      <th></th>\n      <th>scrsp</th>\n      <th>scspi</th>\n      <th>rid</th>\n      <th>firstname</th>\n      <th>lastname</th>\n      <th>sex</th>\n      <th>age</th>\n      <th>nat</th>\n      <th>sc_loc</th>\n      <th>sc_s1</th>\n      <th>...</th>\n      <th>sc_re</th>\n      <th>source</th>\n      <th>source_org</th>\n      <th>need_mhpss</th>\n      <th>need_trw</th>\n      <th>need_out_ref</th>\n      <th>need_tmh</th>\n      <th>need_pei</th>\n      <th>note</th>\n      <th>scloc</th>\n    </tr>\n  </thead>\n  <tbody>\n    <tr>\n      <th>0</th>\n      <td>IJ</td>\n      <td>67</td>\n      <td>R1010</td>\n      <td>احمد</td>\n      <td>الخالدي</td>\n      <td>Male</td>\n      <td>53</td>\n      <td>Syrian</td>\n      <td>SF</td>\n      <td>2023-10-19</td>\n      <td>...</td>\n      <td>NaT</td>\n      <td>IRM</td>\n      <td>NA_</td>\n      <td>Yes</td>\n      <td>No</td>\n      <td>No</td>\n      <td>Yes</td>\n      <td>Yes</td>\n      <td>NaN</td>\n      <td>NaN</td>\n    </tr>\n    <tr>\n      <th>1</th>\n      <td>IJ</td>\n      <td>64</td>\n      <td>R0999</td>\n      <td>امينة</td>\n      <td>الحسين</td>\n      <td>Female</td>\n      <td>39</td>\n      <td>Syrian</td>\n      <td>SF</td>\n      <td>2023-10-18</td>\n      <td>...</td>\n      <td>NaT</td>\n      <td>IRM</td>\n      <td>NA_</td>\n      <td>Yes</td>\n      <td>No</td>\n      <td>No</td>\n      <td>No</td>\n      <td>Yes</td>\n      <td>NaN</td>\n      <td>NaN</td>\n    </tr>\n    <tr>\n      <th>2</th>\n      <td>IJ</td>\n      <td>22</td>\n      <td>R0511</td>\n      <td>انتصار</td>\n      <td>الاسعد</td>\n      <td>Female</td>\n      <td>47</td>\n      <td>Syrian</td>\n      <td>GZT</td>\n      <td>2022-05-27</td>\n      <td>...</td>\n      <td>NaT</td>\n      <td>Family_or_Friend</td>\n      <td>NA_</td>\n      <td>Yes</td>\n      <td>No</td>\n      <td>No</td>\n      <td>No</td>\n      <td>Yes</td>\n      <td>intake-Y</td>\n      <td>GZT</td>\n    </tr>\n    <tr>\n      <th>3</th>\n      <td>IJ</td>\n      <td>30</td>\n      <td>R0587</td>\n      <td>ايمان</td>\n      <td>العلي</td>\n      <td>Female</td>\n      <td>35</td>\n      <td>Syrian</td>\n      <td>GZT</td>\n      <td>2022-12-22</td>\n      <td>...</td>\n      <td>NaT</td>\n      <td>ADMSP_Beneficiary</td>\n      <td>NA_</td>\n      <td>Yes</td>\n      <td>No</td>\n      <td>No</td>\n      <td>No</td>\n      <td>No</td>\n      <td>intake</td>\n      <td>GZT</td>\n    </tr>\n    <tr>\n      <th>4</th>\n      <td>IJ</td>\n      <td>36</td>\n      <td>R0731</td>\n      <td>إبراهيم</td>\n      <td>عباس</td>\n      <td>Male</td>\n      <td>33</td>\n      <td>Syrian</td>\n      <td>GZT</td>\n      <td>2023-05-22</td>\n      <td>...</td>\n      <td>NaT</td>\n      <td>IRM</td>\n      <td>NA_</td>\n      <td>No</td>\n      <td>Yes</td>\n      <td>No</td>\n      <td>Yes</td>\n      <td>No</td>\n      <td>TRW-IRM</td>\n      <td>GZT</td>\n    </tr>\n    <tr>\n      <th>...</th>\n      <td>...</td>\n      <td>...</td>\n      <td>...</td>\n      <td>...</td>\n      <td>...</td>\n      <td>...</td>\n      <td>...</td>\n      <td>...</td>\n      <td>...</td>\n      <td>...</td>\n      <td>...</td>\n      <td>...</td>\n      <td>...</td>\n      <td>...</td>\n      <td>...</td>\n      <td>...</td>\n      <td>...</td>\n      <td>...</td>\n      <td>...</td>\n      <td>...</td>\n      <td>...</td>\n    </tr>\n    <tr>\n      <th>658</th>\n      <td>YQ</td>\n      <td>178</td>\n      <td>R1035</td>\n      <td>سمر</td>\n      <td>عبيد</td>\n      <td>Female</td>\n      <td>56</td>\n      <td>Syrian</td>\n      <td>Rey</td>\n      <td>2023-10-26</td>\n      <td>...</td>\n      <td>NaT</td>\n      <td>IRM</td>\n      <td>NA_</td>\n      <td>No</td>\n      <td>No</td>\n      <td>No</td>\n      <td>Yes</td>\n      <td>Yes</td>\n      <td>NaN</td>\n      <td>NaN</td>\n    </tr>\n    <tr>\n      <th>659</th>\n      <td>YQ</td>\n      <td>179</td>\n      <td>R1034</td>\n      <td>خالد</td>\n      <td>زيتون</td>\n      <td>Male</td>\n      <td>52</td>\n      <td>Syrian</td>\n      <td>Rey</td>\n      <td>2023-10-26</td>\n      <td>...</td>\n      <td>NaT</td>\n      <td>IRM</td>\n      <td>NA_</td>\n      <td>No</td>\n      <td>No</td>\n      <td>No</td>\n      <td>No</td>\n      <td>No</td>\n      <td>تحويل لجلسة توعية</td>\n      <td>NaN</td>\n    </tr>\n    <tr>\n      <th>660</th>\n      <td>YQ</td>\n      <td>180</td>\n      <td>R1033</td>\n      <td>فادية</td>\n      <td>زيدان</td>\n      <td>Female</td>\n      <td>47</td>\n      <td>Syrian</td>\n      <td>Rey</td>\n      <td>2023-10-26</td>\n      <td>...</td>\n      <td>NaT</td>\n      <td>IRM</td>\n      <td>NA_</td>\n      <td>No</td>\n      <td>No</td>\n      <td>No</td>\n      <td>Yes</td>\n      <td>Yes</td>\n      <td>NaN</td>\n      <td>NaN</td>\n    </tr>\n    <tr>\n      <th>661</th>\n      <td>YQ</td>\n      <td>181</td>\n      <td>R1022</td>\n      <td>محمد</td>\n      <td>منذر عتقي</td>\n      <td>Male</td>\n      <td>34</td>\n      <td>Syrian</td>\n      <td>GZT</td>\n      <td>2023-11-08</td>\n      <td>...</td>\n      <td>NaT</td>\n      <td>ADMSP_Member</td>\n      <td>NA_</td>\n      <td>Yes</td>\n      <td>No</td>\n      <td>No</td>\n      <td>No</td>\n      <td>No</td>\n      <td>NaN</td>\n      <td>GZT</td>\n    </tr>\n    <tr>\n      <th>662</th>\n      <td>YQ</td>\n      <td>182</td>\n      <td>R1107</td>\n      <td>عبد القادر</td>\n      <td>الراغب</td>\n      <td>Male</td>\n      <td>34</td>\n      <td>Syrian</td>\n      <td>Rey</td>\n      <td>2023-11-08</td>\n      <td>...</td>\n      <td>NaT</td>\n      <td>IRM</td>\n      <td>NA_</td>\n      <td>No</td>\n      <td>No</td>\n      <td>No</td>\n      <td>Yes</td>\n      <td>Yes</td>\n      <td>NaN</td>\n      <td>NaN</td>\n    </tr>\n  </tbody>\n</table>\n<p>663 rows × 22 columns</p>\n</div>"
     },
     "execution_count": 27,
     "metadata": {},
     "output_type": "execute_result"
    }
   ],
   "source": [
    "# scr.insert(10, 'dup', 0)\n",
    "# scr['dup'] = scr.duplicated(subset=['rid'], keep=False)\n",
    "scr['dup'] = scr['dup'].replace({True: 1, False: 0})\n",
    "scr"
   ],
   "metadata": {
    "collapsed": false,
    "ExecuteTime": {
     "end_time": "2024-01-09T22:53:44.978113300Z",
     "start_time": "2024-01-09T22:53:44.873916200Z"
    }
   },
   "id": "dc37f1ddaed4096d",
   "execution_count": 27
  },
  {
   "cell_type": "code",
   "outputs": [],
   "source": [
    "scr_q4 = filter_df_by_date(scr, df_dataset.dvars, threshold)"
   ],
   "metadata": {
    "collapsed": false,
    "ExecuteTime": {
     "end_time": "2024-01-09T22:53:57.898710300Z",
     "start_time": "2024-01-09T22:53:57.843183500Z"
    }
   },
   "id": "42f995c03dd1af07",
   "execution_count": 28
  },
  {
   "cell_type": "code",
   "outputs": [
    {
     "data": {
      "text/plain": "    scrsp  scspi    rid   firstname   lastname     sex  age     nat sc_loc  \\\n0      IJ     67  R1010        احمد    الخالدي    Male   53  Syrian     SF   \n1      IJ     64  R0999       امينة     الحسين  Female   39  Syrian     SF   \n2      IJ     22  R0511      انتصار     الاسعد  Female   47  Syrian    GZT   \n10     IJ     69  R0702         حسن      الخلف    Male   38  Syrian     SF   \n27     IJ     62  R0343        سمية       محمد  Female   43  Syrian    GZT   \n..    ...    ...    ...         ...        ...     ...  ...     ...    ...   \n658    YQ    178  R1035         سمر       عبيد  Female   56  Syrian    Rey   \n659    YQ    179  R1034        خالد      زيتون    Male   52  Syrian    Rey   \n660    YQ    180  R1033       فادية      زيدان  Female   47  Syrian    Rey   \n661    YQ    181  R1022        محمد  منذر عتقي    Male   34  Syrian    GZT   \n662    YQ    182  R1107  عبد القادر     الراغب    Male   34  Syrian    Rey   \n\n         sc_s1  ...  sc_re            source source_org need_mhpss need_trw  \\\n0   2023-10-19  ...    NaT               IRM        NA_        Yes       No   \n1   2023-10-18  ...    NaT               IRM        NA_        Yes       No   \n2   2022-05-27  ...    NaT  Family_or_Friend        NA_        Yes       No   \n10  2023-10-26  ...    NaT               IRM        NA_        Yes       No   \n27         NaT  ...    NaT      ADMSP_Member        NA_        Yes       No   \n..         ...  ...    ...               ...        ...        ...      ...   \n658 2023-10-26  ...    NaT               IRM        NA_         No       No   \n659 2023-10-26  ...    NaT               IRM        NA_         No       No   \n660 2023-10-26  ...    NaT               IRM        NA_         No       No   \n661 2023-11-08  ...    NaT      ADMSP_Member        NA_        Yes       No   \n662 2023-11-08  ...    NaT               IRM        NA_         No       No   \n\n    need_out_ref need_tmh need_pei                note scloc  \n0             No      Yes      Yes                 NaN   NaN  \n1             No       No      Yes                 NaN   NaN  \n2             No       No      Yes            intake-Y   GZT  \n10            No      Yes      Yes                 NaN   NaN  \n27            No       No      Yes                 NaN   GZT  \n..           ...      ...      ...                 ...   ...  \n658           No      Yes      Yes                 NaN   NaN  \n659           No       No       No  تحويل لجلسة توعية    NaN  \n660           No      Yes      Yes                 NaN   NaN  \n661           No       No       No                 NaN   GZT  \n662           No      Yes      Yes                 NaN   NaN  \n\n[167 rows x 22 columns]",
      "text/html": "<div>\n<style scoped>\n    .dataframe tbody tr th:only-of-type {\n        vertical-align: middle;\n    }\n\n    .dataframe tbody tr th {\n        vertical-align: top;\n    }\n\n    .dataframe thead th {\n        text-align: right;\n    }\n</style>\n<table border=\"1\" class=\"dataframe\">\n  <thead>\n    <tr style=\"text-align: right;\">\n      <th></th>\n      <th>scrsp</th>\n      <th>scspi</th>\n      <th>rid</th>\n      <th>firstname</th>\n      <th>lastname</th>\n      <th>sex</th>\n      <th>age</th>\n      <th>nat</th>\n      <th>sc_loc</th>\n      <th>sc_s1</th>\n      <th>...</th>\n      <th>sc_re</th>\n      <th>source</th>\n      <th>source_org</th>\n      <th>need_mhpss</th>\n      <th>need_trw</th>\n      <th>need_out_ref</th>\n      <th>need_tmh</th>\n      <th>need_pei</th>\n      <th>note</th>\n      <th>scloc</th>\n    </tr>\n  </thead>\n  <tbody>\n    <tr>\n      <th>0</th>\n      <td>IJ</td>\n      <td>67</td>\n      <td>R1010</td>\n      <td>احمد</td>\n      <td>الخالدي</td>\n      <td>Male</td>\n      <td>53</td>\n      <td>Syrian</td>\n      <td>SF</td>\n      <td>2023-10-19</td>\n      <td>...</td>\n      <td>NaT</td>\n      <td>IRM</td>\n      <td>NA_</td>\n      <td>Yes</td>\n      <td>No</td>\n      <td>No</td>\n      <td>Yes</td>\n      <td>Yes</td>\n      <td>NaN</td>\n      <td>NaN</td>\n    </tr>\n    <tr>\n      <th>1</th>\n      <td>IJ</td>\n      <td>64</td>\n      <td>R0999</td>\n      <td>امينة</td>\n      <td>الحسين</td>\n      <td>Female</td>\n      <td>39</td>\n      <td>Syrian</td>\n      <td>SF</td>\n      <td>2023-10-18</td>\n      <td>...</td>\n      <td>NaT</td>\n      <td>IRM</td>\n      <td>NA_</td>\n      <td>Yes</td>\n      <td>No</td>\n      <td>No</td>\n      <td>No</td>\n      <td>Yes</td>\n      <td>NaN</td>\n      <td>NaN</td>\n    </tr>\n    <tr>\n      <th>2</th>\n      <td>IJ</td>\n      <td>22</td>\n      <td>R0511</td>\n      <td>انتصار</td>\n      <td>الاسعد</td>\n      <td>Female</td>\n      <td>47</td>\n      <td>Syrian</td>\n      <td>GZT</td>\n      <td>2022-05-27</td>\n      <td>...</td>\n      <td>NaT</td>\n      <td>Family_or_Friend</td>\n      <td>NA_</td>\n      <td>Yes</td>\n      <td>No</td>\n      <td>No</td>\n      <td>No</td>\n      <td>Yes</td>\n      <td>intake-Y</td>\n      <td>GZT</td>\n    </tr>\n    <tr>\n      <th>10</th>\n      <td>IJ</td>\n      <td>69</td>\n      <td>R0702</td>\n      <td>حسن</td>\n      <td>الخلف</td>\n      <td>Male</td>\n      <td>38</td>\n      <td>Syrian</td>\n      <td>SF</td>\n      <td>2023-10-26</td>\n      <td>...</td>\n      <td>NaT</td>\n      <td>IRM</td>\n      <td>NA_</td>\n      <td>Yes</td>\n      <td>No</td>\n      <td>No</td>\n      <td>Yes</td>\n      <td>Yes</td>\n      <td>NaN</td>\n      <td>NaN</td>\n    </tr>\n    <tr>\n      <th>27</th>\n      <td>IJ</td>\n      <td>62</td>\n      <td>R0343</td>\n      <td>سمية</td>\n      <td>محمد</td>\n      <td>Female</td>\n      <td>43</td>\n      <td>Syrian</td>\n      <td>GZT</td>\n      <td>NaT</td>\n      <td>...</td>\n      <td>NaT</td>\n      <td>ADMSP_Member</td>\n      <td>NA_</td>\n      <td>Yes</td>\n      <td>No</td>\n      <td>No</td>\n      <td>No</td>\n      <td>Yes</td>\n      <td>NaN</td>\n      <td>GZT</td>\n    </tr>\n    <tr>\n      <th>...</th>\n      <td>...</td>\n      <td>...</td>\n      <td>...</td>\n      <td>...</td>\n      <td>...</td>\n      <td>...</td>\n      <td>...</td>\n      <td>...</td>\n      <td>...</td>\n      <td>...</td>\n      <td>...</td>\n      <td>...</td>\n      <td>...</td>\n      <td>...</td>\n      <td>...</td>\n      <td>...</td>\n      <td>...</td>\n      <td>...</td>\n      <td>...</td>\n      <td>...</td>\n      <td>...</td>\n    </tr>\n    <tr>\n      <th>658</th>\n      <td>YQ</td>\n      <td>178</td>\n      <td>R1035</td>\n      <td>سمر</td>\n      <td>عبيد</td>\n      <td>Female</td>\n      <td>56</td>\n      <td>Syrian</td>\n      <td>Rey</td>\n      <td>2023-10-26</td>\n      <td>...</td>\n      <td>NaT</td>\n      <td>IRM</td>\n      <td>NA_</td>\n      <td>No</td>\n      <td>No</td>\n      <td>No</td>\n      <td>Yes</td>\n      <td>Yes</td>\n      <td>NaN</td>\n      <td>NaN</td>\n    </tr>\n    <tr>\n      <th>659</th>\n      <td>YQ</td>\n      <td>179</td>\n      <td>R1034</td>\n      <td>خالد</td>\n      <td>زيتون</td>\n      <td>Male</td>\n      <td>52</td>\n      <td>Syrian</td>\n      <td>Rey</td>\n      <td>2023-10-26</td>\n      <td>...</td>\n      <td>NaT</td>\n      <td>IRM</td>\n      <td>NA_</td>\n      <td>No</td>\n      <td>No</td>\n      <td>No</td>\n      <td>No</td>\n      <td>No</td>\n      <td>تحويل لجلسة توعية</td>\n      <td>NaN</td>\n    </tr>\n    <tr>\n      <th>660</th>\n      <td>YQ</td>\n      <td>180</td>\n      <td>R1033</td>\n      <td>فادية</td>\n      <td>زيدان</td>\n      <td>Female</td>\n      <td>47</td>\n      <td>Syrian</td>\n      <td>Rey</td>\n      <td>2023-10-26</td>\n      <td>...</td>\n      <td>NaT</td>\n      <td>IRM</td>\n      <td>NA_</td>\n      <td>No</td>\n      <td>No</td>\n      <td>No</td>\n      <td>Yes</td>\n      <td>Yes</td>\n      <td>NaN</td>\n      <td>NaN</td>\n    </tr>\n    <tr>\n      <th>661</th>\n      <td>YQ</td>\n      <td>181</td>\n      <td>R1022</td>\n      <td>محمد</td>\n      <td>منذر عتقي</td>\n      <td>Male</td>\n      <td>34</td>\n      <td>Syrian</td>\n      <td>GZT</td>\n      <td>2023-11-08</td>\n      <td>...</td>\n      <td>NaT</td>\n      <td>ADMSP_Member</td>\n      <td>NA_</td>\n      <td>Yes</td>\n      <td>No</td>\n      <td>No</td>\n      <td>No</td>\n      <td>No</td>\n      <td>NaN</td>\n      <td>GZT</td>\n    </tr>\n    <tr>\n      <th>662</th>\n      <td>YQ</td>\n      <td>182</td>\n      <td>R1107</td>\n      <td>عبد القادر</td>\n      <td>الراغب</td>\n      <td>Male</td>\n      <td>34</td>\n      <td>Syrian</td>\n      <td>Rey</td>\n      <td>2023-11-08</td>\n      <td>...</td>\n      <td>NaT</td>\n      <td>IRM</td>\n      <td>NA_</td>\n      <td>No</td>\n      <td>No</td>\n      <td>No</td>\n      <td>Yes</td>\n      <td>Yes</td>\n      <td>NaN</td>\n      <td>NaN</td>\n    </tr>\n  </tbody>\n</table>\n<p>167 rows × 22 columns</p>\n</div>"
     },
     "execution_count": 29,
     "metadata": {},
     "output_type": "execute_result"
    }
   ],
   "source": [
    "scr_q4"
   ],
   "metadata": {
    "collapsed": false,
    "ExecuteTime": {
     "end_time": "2024-01-09T22:53:59.315767900Z",
     "start_time": "2024-01-09T22:53:59.263691200Z"
    }
   },
   "id": "ed03ecab056996ee",
   "execution_count": 29
  },
  {
   "cell_type": "code",
   "outputs": [],
   "source": [],
   "metadata": {
    "collapsed": false,
    "ExecuteTime": {
     "end_time": "2024-01-09T23:02:54.365948200Z",
     "start_time": "2024-01-09T23:02:54.361821700Z"
    }
   },
   "id": "6cc47ecccc06e27f",
   "execution_count": 29
  },
  {
   "cell_type": "code",
   "outputs": [],
   "source": [],
   "metadata": {
    "collapsed": false,
    "ExecuteTime": {
     "end_time": "2024-01-09T23:02:58.350548600Z",
     "start_time": "2024-01-09T23:02:58.344762400Z"
    }
   },
   "id": "af1ef525384c25a5",
   "execution_count": 29
  },
  {
   "cell_type": "code",
   "outputs": [
    {
     "data": {
      "text/plain": "95"
     },
     "execution_count": 8,
     "metadata": {},
     "output_type": "execute_result"
    }
   ],
   "source": [
    "(scr_q4['need_pei'] == 'Yes').sum()"
   ],
   "metadata": {
    "collapsed": false,
    "ExecuteTime": {
     "end_time": "2024-01-09T14:58:49.944739900Z",
     "start_time": "2024-01-09T14:58:49.934928500Z"
    }
   },
   "id": "d58efb7e1868855",
   "execution_count": 8
  },
  {
   "cell_type": "code",
   "outputs": [
    {
     "data": {
      "text/plain": "    scrsp  scspi    rid firstname    lastname     sex  age     nat sc_loc  \\\n2      IJ     22  R0511    انتصار      الاسعد  Female   47  Syrian    GZT   \n27     IJ     62  R0343      سمية        محمد  Female   43  Syrian    GZT   \n167    LA     42  R0314      رقية      الحسين  Female   41  Syrian    GZT   \n168    LA     43  R0267       ندى        خالد  Female   48  Syrian    GZT   \n253    MT     47  R0626     عزيزة      هنداوي  Female   34  Syrian    GZT   \n254    MT     48  R0631      ليلى       شاهين  Female   44  Syrian    GZT   \n318    SA     32  R0187     زليخة      الناصر  Female   40  Syrian    NaN   \n456    SA    171  R1021      زياد        محمد    Male   39  Syrian    GZT   \n457    SA    172  R1024     نظيرة        محمد  Female   30  Syrian    GZT   \n505    YQ     25  R0185      محمد       رمضان    Male   35  Syrian    NaN   \n507    YQ     27  R0118     فاطمة  علي سليمان  Female   43  Syrian    NaN   \n587    YQ    107  R0294      ريمة        طالب  Female   46  Syrian    NaN   \n653    YQ    173  R0801     كاتنة     إسماعيل  Female   42  Syrian    GZT   \n\n         sc_s1  ...  sc_re             source source_org need_mhpss need_trw  \\\n2   2022-05-27  ...    NaT   Family_or_Friend        NA_        Yes       No   \n27         NaT  ...    NaT       ADMSP_Member        NA_        Yes       No   \n167        NaT  ...    NaT  ADMSP_Beneficiary        NA_        Yes       No   \n168        NaT  ...    NaT  ADMSP_Beneficiary        NA_        Yes       No   \n253        NaT  ...    NaT  ADMSP_Beneficiary        NA_         No       No   \n254        NaT  ...    NaT  ADMSP_Beneficiary        NA_         No       No   \n318 2022-01-04  ...    NaT       ADMSP_Member        NA_        Yes       No   \n456 2023-10-23  ...    NaT       ADMSP_Member        NA_        Yes       No   \n457 2023-10-24  ...    NaT  ADMSP_Beneficiary        NA_        Yes       No   \n505 2021-12-22  ...    NaT   Outreach_Session        NaN        Yes       No   \n507 2021-11-25  ...    NaT   Outreach_Session        NaN        Yes       No   \n587 2022-05-27  ...    NaT  ADMSP_Beneficiary        NA_        Yes       No   \n653 2023-09-01  ...    NaT  ADMSP_Beneficiary        NA_        Yes       No   \n\n    need_out_ref need_tmh need_pei  \\\n2             No       No      Yes   \n27            No       No      Yes   \n167           No       No      Yes   \n168           No       No      Yes   \n253           No       No      Yes   \n254           No       No      Yes   \n318           No       No      Yes   \n456           No       No      Yes   \n457           No       No      Yes   \n505           No       No      Yes   \n507           No       No      Yes   \n587           No       No      Yes   \n653           No       No      Yes   \n\n                                                                            note  \\\n2                                                                       intake-Y   \n27                                                                           NaN   \n167                                                                          NaN   \n168                                                                          NaN   \n253                                                                          NaN   \n254                                                                          NaN   \n318  تم تحويلها للخدمات المتخصصة - الجلسة الثانية للسكريننغ كانت لتقييم الزلزال    \n456                                                                          NaN   \n457                                                                          NaN   \n505                                                                          NaN   \n507                                                                          NaN   \n587                                                                          NaN   \n653              ستذهب الى سامز و بعدها سيتم اجراء تقييم نفسي و كذلك تقييم زلزال   \n\n    scloc  \n2     GZT  \n27    GZT  \n167   GZT  \n168   GZT  \n253   GZT  \n254   GZT  \n318   NaN  \n456   GZT  \n457   GZT  \n505   NaN  \n507   NaN  \n587   NaN  \n653   GZT  \n\n[13 rows x 22 columns]",
      "text/html": "<div>\n<style scoped>\n    .dataframe tbody tr th:only-of-type {\n        vertical-align: middle;\n    }\n\n    .dataframe tbody tr th {\n        vertical-align: top;\n    }\n\n    .dataframe thead th {\n        text-align: right;\n    }\n</style>\n<table border=\"1\" class=\"dataframe\">\n  <thead>\n    <tr style=\"text-align: right;\">\n      <th></th>\n      <th>scrsp</th>\n      <th>scspi</th>\n      <th>rid</th>\n      <th>firstname</th>\n      <th>lastname</th>\n      <th>sex</th>\n      <th>age</th>\n      <th>nat</th>\n      <th>sc_loc</th>\n      <th>sc_s1</th>\n      <th>...</th>\n      <th>sc_re</th>\n      <th>source</th>\n      <th>source_org</th>\n      <th>need_mhpss</th>\n      <th>need_trw</th>\n      <th>need_out_ref</th>\n      <th>need_tmh</th>\n      <th>need_pei</th>\n      <th>note</th>\n      <th>scloc</th>\n    </tr>\n  </thead>\n  <tbody>\n    <tr>\n      <th>2</th>\n      <td>IJ</td>\n      <td>22</td>\n      <td>R0511</td>\n      <td>انتصار</td>\n      <td>الاسعد</td>\n      <td>Female</td>\n      <td>47</td>\n      <td>Syrian</td>\n      <td>GZT</td>\n      <td>2022-05-27</td>\n      <td>...</td>\n      <td>NaT</td>\n      <td>Family_or_Friend</td>\n      <td>NA_</td>\n      <td>Yes</td>\n      <td>No</td>\n      <td>No</td>\n      <td>No</td>\n      <td>Yes</td>\n      <td>intake-Y</td>\n      <td>GZT</td>\n    </tr>\n    <tr>\n      <th>27</th>\n      <td>IJ</td>\n      <td>62</td>\n      <td>R0343</td>\n      <td>سمية</td>\n      <td>محمد</td>\n      <td>Female</td>\n      <td>43</td>\n      <td>Syrian</td>\n      <td>GZT</td>\n      <td>NaT</td>\n      <td>...</td>\n      <td>NaT</td>\n      <td>ADMSP_Member</td>\n      <td>NA_</td>\n      <td>Yes</td>\n      <td>No</td>\n      <td>No</td>\n      <td>No</td>\n      <td>Yes</td>\n      <td>NaN</td>\n      <td>GZT</td>\n    </tr>\n    <tr>\n      <th>167</th>\n      <td>LA</td>\n      <td>42</td>\n      <td>R0314</td>\n      <td>رقية</td>\n      <td>الحسين</td>\n      <td>Female</td>\n      <td>41</td>\n      <td>Syrian</td>\n      <td>GZT</td>\n      <td>NaT</td>\n      <td>...</td>\n      <td>NaT</td>\n      <td>ADMSP_Beneficiary</td>\n      <td>NA_</td>\n      <td>Yes</td>\n      <td>No</td>\n      <td>No</td>\n      <td>No</td>\n      <td>Yes</td>\n      <td>NaN</td>\n      <td>GZT</td>\n    </tr>\n    <tr>\n      <th>168</th>\n      <td>LA</td>\n      <td>43</td>\n      <td>R0267</td>\n      <td>ندى</td>\n      <td>خالد</td>\n      <td>Female</td>\n      <td>48</td>\n      <td>Syrian</td>\n      <td>GZT</td>\n      <td>NaT</td>\n      <td>...</td>\n      <td>NaT</td>\n      <td>ADMSP_Beneficiary</td>\n      <td>NA_</td>\n      <td>Yes</td>\n      <td>No</td>\n      <td>No</td>\n      <td>No</td>\n      <td>Yes</td>\n      <td>NaN</td>\n      <td>GZT</td>\n    </tr>\n    <tr>\n      <th>253</th>\n      <td>MT</td>\n      <td>47</td>\n      <td>R0626</td>\n      <td>عزيزة</td>\n      <td>هنداوي</td>\n      <td>Female</td>\n      <td>34</td>\n      <td>Syrian</td>\n      <td>GZT</td>\n      <td>NaT</td>\n      <td>...</td>\n      <td>NaT</td>\n      <td>ADMSP_Beneficiary</td>\n      <td>NA_</td>\n      <td>No</td>\n      <td>No</td>\n      <td>No</td>\n      <td>No</td>\n      <td>Yes</td>\n      <td>NaN</td>\n      <td>GZT</td>\n    </tr>\n    <tr>\n      <th>254</th>\n      <td>MT</td>\n      <td>48</td>\n      <td>R0631</td>\n      <td>ليلى</td>\n      <td>شاهين</td>\n      <td>Female</td>\n      <td>44</td>\n      <td>Syrian</td>\n      <td>GZT</td>\n      <td>NaT</td>\n      <td>...</td>\n      <td>NaT</td>\n      <td>ADMSP_Beneficiary</td>\n      <td>NA_</td>\n      <td>No</td>\n      <td>No</td>\n      <td>No</td>\n      <td>No</td>\n      <td>Yes</td>\n      <td>NaN</td>\n      <td>GZT</td>\n    </tr>\n    <tr>\n      <th>318</th>\n      <td>SA</td>\n      <td>32</td>\n      <td>R0187</td>\n      <td>زليخة</td>\n      <td>الناصر</td>\n      <td>Female</td>\n      <td>40</td>\n      <td>Syrian</td>\n      <td>NaN</td>\n      <td>2022-01-04</td>\n      <td>...</td>\n      <td>NaT</td>\n      <td>ADMSP_Member</td>\n      <td>NA_</td>\n      <td>Yes</td>\n      <td>No</td>\n      <td>No</td>\n      <td>No</td>\n      <td>Yes</td>\n      <td>تم تحويلها للخدمات المتخصصة - الجلسة الثانية للسكريننغ كانت لتقييم الزلزال</td>\n      <td>NaN</td>\n    </tr>\n    <tr>\n      <th>456</th>\n      <td>SA</td>\n      <td>171</td>\n      <td>R1021</td>\n      <td>زياد</td>\n      <td>محمد</td>\n      <td>Male</td>\n      <td>39</td>\n      <td>Syrian</td>\n      <td>GZT</td>\n      <td>2023-10-23</td>\n      <td>...</td>\n      <td>NaT</td>\n      <td>ADMSP_Member</td>\n      <td>NA_</td>\n      <td>Yes</td>\n      <td>No</td>\n      <td>No</td>\n      <td>No</td>\n      <td>Yes</td>\n      <td>NaN</td>\n      <td>GZT</td>\n    </tr>\n    <tr>\n      <th>457</th>\n      <td>SA</td>\n      <td>172</td>\n      <td>R1024</td>\n      <td>نظيرة</td>\n      <td>محمد</td>\n      <td>Female</td>\n      <td>30</td>\n      <td>Syrian</td>\n      <td>GZT</td>\n      <td>2023-10-24</td>\n      <td>...</td>\n      <td>NaT</td>\n      <td>ADMSP_Beneficiary</td>\n      <td>NA_</td>\n      <td>Yes</td>\n      <td>No</td>\n      <td>No</td>\n      <td>No</td>\n      <td>Yes</td>\n      <td>NaN</td>\n      <td>GZT</td>\n    </tr>\n    <tr>\n      <th>505</th>\n      <td>YQ</td>\n      <td>25</td>\n      <td>R0185</td>\n      <td>محمد</td>\n      <td>رمضان</td>\n      <td>Male</td>\n      <td>35</td>\n      <td>Syrian</td>\n      <td>NaN</td>\n      <td>2021-12-22</td>\n      <td>...</td>\n      <td>NaT</td>\n      <td>Outreach_Session</td>\n      <td>NaN</td>\n      <td>Yes</td>\n      <td>No</td>\n      <td>No</td>\n      <td>No</td>\n      <td>Yes</td>\n      <td>NaN</td>\n      <td>NaN</td>\n    </tr>\n    <tr>\n      <th>507</th>\n      <td>YQ</td>\n      <td>27</td>\n      <td>R0118</td>\n      <td>فاطمة</td>\n      <td>علي سليمان</td>\n      <td>Female</td>\n      <td>43</td>\n      <td>Syrian</td>\n      <td>NaN</td>\n      <td>2021-11-25</td>\n      <td>...</td>\n      <td>NaT</td>\n      <td>Outreach_Session</td>\n      <td>NaN</td>\n      <td>Yes</td>\n      <td>No</td>\n      <td>No</td>\n      <td>No</td>\n      <td>Yes</td>\n      <td>NaN</td>\n      <td>NaN</td>\n    </tr>\n    <tr>\n      <th>587</th>\n      <td>YQ</td>\n      <td>107</td>\n      <td>R0294</td>\n      <td>ريمة</td>\n      <td>طالب</td>\n      <td>Female</td>\n      <td>46</td>\n      <td>Syrian</td>\n      <td>NaN</td>\n      <td>2022-05-27</td>\n      <td>...</td>\n      <td>NaT</td>\n      <td>ADMSP_Beneficiary</td>\n      <td>NA_</td>\n      <td>Yes</td>\n      <td>No</td>\n      <td>No</td>\n      <td>No</td>\n      <td>Yes</td>\n      <td>NaN</td>\n      <td>NaN</td>\n    </tr>\n    <tr>\n      <th>653</th>\n      <td>YQ</td>\n      <td>173</td>\n      <td>R0801</td>\n      <td>كاتنة</td>\n      <td>إسماعيل</td>\n      <td>Female</td>\n      <td>42</td>\n      <td>Syrian</td>\n      <td>GZT</td>\n      <td>2023-09-01</td>\n      <td>...</td>\n      <td>NaT</td>\n      <td>ADMSP_Beneficiary</td>\n      <td>NA_</td>\n      <td>Yes</td>\n      <td>No</td>\n      <td>No</td>\n      <td>No</td>\n      <td>Yes</td>\n      <td>ستذهب الى سامز و بعدها سيتم اجراء تقييم نفسي و كذلك تقييم زلزال</td>\n      <td>GZT</td>\n    </tr>\n  </tbody>\n</table>\n<p>13 rows × 22 columns</p>\n</div>"
     },
     "execution_count": 33,
     "metadata": {},
     "output_type": "execute_result"
    }
   ],
   "source": [
    "scr_new = filter_df_by_date(scr, ['pei_pre_as'], threshold, comparison_type='a')\n",
    "scr_new"
   ],
   "metadata": {
    "collapsed": false,
    "ExecuteTime": {
     "end_time": "2024-01-09T23:08:11.788759300Z",
     "start_time": "2024-01-09T23:08:11.743010300Z"
    }
   },
   "id": "729e6334ac9a08f6",
   "execution_count": 33
  },
  {
   "cell_type": "code",
   "outputs": [
    {
     "data": {
      "text/plain": "scrsp\nYQ    4\nSA    3\nIJ    2\nLA    2\nMT    2\nName: count, dtype: int64"
     },
     "execution_count": 34,
     "metadata": {},
     "output_type": "execute_result"
    }
   ],
   "source": [
    "scr_new['scrsp'].value_counts()"
   ],
   "metadata": {
    "collapsed": false,
    "ExecuteTime": {
     "end_time": "2024-01-09T23:11:16.000975600Z",
     "start_time": "2024-01-09T23:11:15.943340100Z"
    }
   },
   "id": "bf8523517d73b1d5",
   "execution_count": 34
  },
  {
   "cell_type": "code",
   "outputs": [],
   "source": [
    "scr_new['sex'].value_counts()"
   ],
   "metadata": {
    "collapsed": false
   },
   "id": "c79952b528191323",
   "execution_count": null
  },
  {
   "cell_type": "code",
   "outputs": [],
   "source": [
    "age_group = categorize_and_count_ages(scr_new['age'])"
   ],
   "metadata": {
    "collapsed": false
   },
   "id": "bb15e668e58cc73c",
   "execution_count": null
  },
  {
   "cell_type": "code",
   "outputs": [],
   "source": [
    "normalized_value_counts(age_group)"
   ],
   "metadata": {
    "collapsed": false
   },
   "id": "8eec67e6bc5ba408",
   "execution_count": null
  },
  {
   "cell_type": "code",
   "outputs": [],
   "source": [
    "scr_new['source'].value_counts()"
   ],
   "metadata": {
    "collapsed": false
   },
   "id": "50897a6154850b6b",
   "execution_count": null
  },
  {
   "cell_type": "code",
   "outputs": [],
   "source": [
    "scr_q4['need_pei'].value_counts()"
   ],
   "metadata": {
    "collapsed": false
   },
   "id": "285bf0aacef5649b",
   "execution_count": null
  }
 ],
 "metadata": {
  "kernelspec": {
   "display_name": "Python 3",
   "language": "python",
   "name": "python3"
  },
  "language_info": {
   "codemirror_mode": {
    "name": "ipython",
    "version": 2
   },
   "file_extension": ".py",
   "mimetype": "text/x-python",
   "name": "python",
   "nbconvert_exporter": "python",
   "pygments_lexer": "ipython2",
   "version": "2.7.6"
  }
 },
 "nbformat": 4,
 "nbformat_minor": 5
}
