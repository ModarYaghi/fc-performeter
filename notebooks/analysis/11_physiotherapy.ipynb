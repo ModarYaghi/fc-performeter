{
 "cells": [
  {
   "cell_type": "code",
   "id": "initial_id",
   "metadata": {
    "collapsed": true
   },
   "source": [
    "from src.all_in_one import *"
   ],
   "execution_count": null,
   "outputs": []
  },
  {
   "cell_type": "code",
   "source": [
    "# Screening\n",
    "scr_file = path_manager.get_data_file(Category.PS, PSFile.SCR)\n",
    "scr_dataset = Dataset(config_file, scr_file.sheet)\n",
    "scr = get_df(scr_file.path, scr_file.sheet)\n",
    "unique_scr = scr.drop_duplicates(subset='rid')"
   ],
   "metadata": {
    "collapsed": false
   },
   "id": "c35339b2b68a075c",
   "execution_count": null,
   "outputs": []
  },
  {
   "metadata": {},
   "cell_type": "code",
   "source": [
    "# PSFS\n",
    "psfs_file = path_manager.get_data_file(Category.PT, PTFile.PSFS)\n",
    "psfs_dataset = Dataset(config_file, psfs_file.sheet)\n",
    "psfs = get_df(psfs_file.path, psfs_file.sheet)\n",
    "unique_psfs = psfs.drop_duplicates(subset='rid')"
   ],
   "id": "fda8306267aee9bd",
   "execution_count": null,
   "outputs": []
  },
  {
   "metadata": {},
   "cell_type": "code",
   "source": [
    "# PT INT\n",
    "ptnt_file = path_manager.get_data_file(Category.PT, PTFile.PTNT)\n",
    "ptint_dataset = Dataset(config_file, ptnt_file.sheet)\n",
    "pt_int = get_df(ptnt_file.path, ptnt_file.sheet)"
   ],
   "id": "9cd198f422db6d7a",
   "execution_count": null,
   "outputs": []
  },
  {
   "cell_type": "code",
   "source": [
    "gpt_file = path_manager.get_data_file(Category.PT, PTFile.PTG)\n",
    "gpt_dataset = Dataset(config_file, gpt_file.sheet)\n",
    "gpt = get_df(gpt_file.path, gpt_file.sheet)\n",
    "gpt = pd.merge(gpt, unique_psfs[['rid', 'sex', 'age']], on='rid', how='left')\n",
    "filtered_gpt = filter_dataframe_on_date(gpt, gpt_dataset.dvars, '2024-04-01', '2024-06-30', FilterType.IN)"
   ],
   "metadata": {
    "collapsed": false
   },
   "id": "de7b8b650bc459d4",
   "execution_count": null,
   "outputs": []
  },
  {
   "cell_type": "code",
   "source": "gpt",
   "metadata": {
    "collapsed": false
   },
   "id": "209a1432d760d06b",
   "execution_count": null,
   "outputs": []
  },
  {
   "cell_type": "code",
   "source": "filtered_gpt",
   "metadata": {
    "collapsed": false
   },
   "id": "fea70e9fa38d22a9",
   "execution_count": null,
   "outputs": []
  },
  {
   "metadata": {},
   "cell_type": "code",
   "source": "# filtered_gpt.to_clipboard(index=False)",
   "id": "992169e2d63f78aa",
   "execution_count": null,
   "outputs": []
  },
  {
   "cell_type": "code",
   "source": [
    "ipt_file = path_manager.get_data_file(Category.PT, PTFile.PTI)\n",
    "ipt_dataset = Dataset(config_file, ipt_file.sheet)\n",
    "ipt = get_df(ipt_file.path, ipt_file.sheet)\n",
    "ipt = pd.merge(ipt, unique_psfs[['rid', 'sex', 'age']], on='rid', how='left')\n",
    "filtered_ipt = filter_dataframe_on_date(ipt, ipt_dataset.dvars, '2024-04-01', '2024-06-30', FilterType.IN)"
   ],
   "metadata": {
    "collapsed": false
   },
   "id": "2ef5576f7da9f169",
   "execution_count": null,
   "outputs": []
  },
  {
   "cell_type": "code",
   "source": "ipt",
   "metadata": {
    "collapsed": false
   },
   "id": "b12060037260bee1",
   "execution_count": null,
   "outputs": []
  },
  {
   "metadata": {},
   "cell_type": "code",
   "source": "filtered_ipt",
   "id": "d35a3d5990f04171",
   "execution_count": null,
   "outputs": []
  },
  {
   "cell_type": "code",
   "source": "filtered_ipt.to_clipboard(index=False)",
   "metadata": {
    "collapsed": false
   },
   "id": "d86576eac2ede6de",
   "execution_count": null,
   "outputs": []
  }
 ],
 "metadata": {
  "kernelspec": {
   "display_name": "Python 3",
   "language": "python",
   "name": "python3"
  },
  "language_info": {
   "codemirror_mode": {
    "name": "ipython",
    "version": 2
   },
   "file_extension": ".py",
   "mimetype": "text/x-python",
   "name": "python",
   "nbconvert_exporter": "python",
   "pygments_lexer": "ipython2",
   "version": "2.7.6"
  }
 },
 "nbformat": 4,
 "nbformat_minor": 5
}
