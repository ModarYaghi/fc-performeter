{
 "cells": [
  {
   "cell_type": "code",
   "id": "initial_id",
   "metadata": {
    "collapsed": true
   },
   "source": [
    "from src.all_in_one import *"
   ],
   "outputs": [],
   "execution_count": null
  },
  {
   "cell_type": "code",
   "source": [
    "# Screening\n",
    "scr = get_df(scr_path, scr_sheet)\n",
    "unique_scr = scr.drop_duplicates(subset='rid')"
   ],
   "metadata": {
    "collapsed": false
   },
   "id": "c35339b2b68a075c",
   "outputs": [],
   "execution_count": null
  },
  {
   "metadata": {},
   "cell_type": "code",
   "source": [
    "# PSFS\n",
    "psfs_dataset = Dataset(config_file, psfs_sheet)\n",
    "psfs = get_df(psfs_path, psfs_sheet)\n",
    "unique_psfs = psfs.drop_duplicates(subset='rid')"
   ],
   "id": "fda8306267aee9bd",
   "outputs": [],
   "execution_count": null
  },
  {
   "metadata": {},
   "cell_type": "code",
   "source": [
    "# PT INT\n",
    "ptint_dataset = Dataset(config_file, ptint_sheet)\n",
    "pt_int = get_df(ptint_path, ptint_sheet)"
   ],
   "id": "9cd198f422db6d7a",
   "outputs": [],
   "execution_count": null
  },
  {
   "cell_type": "code",
   "source": [
    "gpt_dataset = Dataset(config_file, gpt_sheet)\n",
    "gpt = get_df(gpt_path, gpt_sheet)\n",
    "gpt = pd.merge(gpt, unique_psfs[['rid', 'sex', 'age']], on='rid', how='left')\n",
    "filtered_gpt = filter_dataframe_on_date(gpt, gpt_dataset.dvars, start, end, FilterType.IN)"
   ],
   "metadata": {
    "collapsed": false
   },
   "id": "de7b8b650bc459d4",
   "outputs": [],
   "execution_count": null
  },
  {
   "cell_type": "code",
   "source": "gpt",
   "metadata": {
    "collapsed": false
   },
   "id": "209a1432d760d06b",
   "outputs": [],
   "execution_count": null
  },
  {
   "cell_type": "code",
   "source": "filtered_gpt",
   "metadata": {
    "collapsed": false
   },
   "id": "fea70e9fa38d22a9",
   "outputs": [],
   "execution_count": null
  },
  {
   "metadata": {},
   "cell_type": "code",
   "source": "filtered_gpt.to_clipboard(index=False)",
   "id": "992169e2d63f78aa",
   "outputs": [],
   "execution_count": null
  },
  {
   "cell_type": "code",
   "source": [],
   "metadata": {
    "collapsed": false
   },
   "id": "6926c55f44993c78",
   "outputs": [],
   "execution_count": null
  },
  {
   "cell_type": "code",
   "source": [
    "ipt_dataset = Dataset(config_file, ipt_sheet)\n",
    "ipt = get_df(ipt_path, ipt_sheet)\n",
    "ipt = pd.merge(ipt, unique_psfs[['rid', 'sex', 'age']], on='rid', how='left')\n",
    "filtered_ipt = filter_dataframe_on_date(ipt, ipt_dataset.dvars, start, end, FilterType.IN)"
   ],
   "metadata": {
    "collapsed": false
   },
   "id": "2ef5576f7da9f169",
   "outputs": [],
   "execution_count": null
  },
  {
   "cell_type": "code",
   "source": "ipt",
   "metadata": {
    "collapsed": false
   },
   "id": "b12060037260bee1",
   "outputs": [],
   "execution_count": null
  },
  {
   "metadata": {},
   "cell_type": "code",
   "source": "filtered_ipt",
   "id": "d35a3d5990f04171",
   "outputs": [],
   "execution_count": null
  },
  {
   "cell_type": "code",
   "source": "filtered_ipt.to_clipboard(index=False)",
   "metadata": {
    "collapsed": false
   },
   "id": "d86576eac2ede6de",
   "outputs": [],
   "execution_count": null
  }
 ],
 "metadata": {
  "kernelspec": {
   "display_name": "Python 3",
   "language": "python",
   "name": "python3"
  },
  "language_info": {
   "codemirror_mode": {
    "name": "ipython",
    "version": 2
   },
   "file_extension": ".py",
   "mimetype": "text/x-python",
   "name": "python",
   "nbconvert_exporter": "python",
   "pygments_lexer": "ipython2",
   "version": "2.7.6"
  }
 },
 "nbformat": 4,
 "nbformat_minor": 5
}
