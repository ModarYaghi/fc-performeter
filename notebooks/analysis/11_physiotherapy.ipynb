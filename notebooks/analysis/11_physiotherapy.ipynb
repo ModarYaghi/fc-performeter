{
 "cells": [
  {
   "cell_type": "code",
   "id": "initial_id",
   "metadata": {
    "collapsed": true
   },
   "source": [
    "from src.all_in_one import *"
   ],
   "outputs": [],
   "execution_count": null
  },
  {
   "cell_type": "code",
   "source": [
    "# Screening\n",
    "scr = get_df(scr_path, scr_sheet)\n",
    "unique_scr = scr.drop_duplicates(subset='rid')"
   ],
   "metadata": {
    "collapsed": false
   },
   "id": "c35339b2b68a075c",
   "outputs": [],
   "execution_count": null
  },
  {
   "metadata": {},
   "cell_type": "code",
   "source": "# PSFS",
   "id": "fda8306267aee9bd",
   "outputs": [],
   "execution_count": null
  },
  {
   "metadata": {},
   "cell_type": "code",
   "outputs": [],
   "execution_count": null,
   "source": "# PT INT",
   "id": "9cd198f422db6d7a"
  },
  {
   "cell_type": "code",
   "source": [
    "gpt_dataset = Dataset(config_file, gpt_sheet)\n",
    "gpt = get_df(gpt_path, gpt_sheet)\n",
    "_gpt = filter_df_by_date(gpt, gpt_dataset.dvars, threshold)"
   ],
   "metadata": {
    "collapsed": false
   },
   "id": "de7b8b650bc459d4",
   "outputs": [],
   "execution_count": null
  },
  {
   "cell_type": "code",
   "source": [
    "_gpt"
   ],
   "metadata": {
    "collapsed": false
   },
   "id": "209a1432d760d06b",
   "outputs": [],
   "execution_count": null
  },
  {
   "cell_type": "code",
   "source": [
    "(_gpt[gpt_dataset.dvars] > threshold).sum().sum()"
   ],
   "metadata": {
    "collapsed": false
   },
   "id": "fea70e9fa38d22a9",
   "outputs": [],
   "execution_count": null
  },
  {
   "cell_type": "code",
   "source": [],
   "metadata": {
    "collapsed": false
   },
   "id": "6926c55f44993c78",
   "outputs": [],
   "execution_count": null
  },
  {
   "cell_type": "code",
   "source": [
    "ipt_dataset = Dataset(config_file, ipt_sheet)\n",
    "ipt = get_df(ipt_path, ipt_sheet)\n",
    "_ipt = filter_df_by_date(ipt, ipt_dataset.dvars, threshold)"
   ],
   "metadata": {
    "collapsed": false
   },
   "id": "2ef5576f7da9f169",
   "outputs": [],
   "execution_count": null
  },
  {
   "cell_type": "code",
   "source": [
    "_ipt"
   ],
   "metadata": {
    "collapsed": false
   },
   "id": "b12060037260bee1",
   "outputs": [],
   "execution_count": null
  },
  {
   "cell_type": "markdown",
   "source": [],
   "metadata": {
    "collapsed": false
   },
   "id": "427fb3d98940e2a2"
  },
  {
   "cell_type": "code",
   "source": [
    "((_ipt[ipt_dataset.dvars] > threshold) & (_ipt[ipt_dataset.dvars] < _threshold)).sum().sum()"
   ],
   "metadata": {
    "collapsed": false
   },
   "id": "d86576eac2ede6de",
   "outputs": [],
   "execution_count": null
  }
 ],
 "metadata": {
  "kernelspec": {
   "display_name": "Python 3",
   "language": "python",
   "name": "python3"
  },
  "language_info": {
   "codemirror_mode": {
    "name": "ipython",
    "version": 2
   },
   "file_extension": ".py",
   "mimetype": "text/x-python",
   "name": "python",
   "nbconvert_exporter": "python",
   "pygments_lexer": "ipython2",
   "version": "2.7.6"
  }
 },
 "nbformat": 4,
 "nbformat_minor": 5
}
