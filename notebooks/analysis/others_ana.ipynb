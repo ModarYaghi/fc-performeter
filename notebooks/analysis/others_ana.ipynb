{
 "cells": [
  {
   "cell_type": "code",
   "execution_count": null,
   "id": "initial_id",
   "metadata": {
    "collapsed": true
   },
   "outputs": [],
   "source": [
    "import pandas as pd\n",
    "from src.all_in_one import *\n",
    "from src.analysis_functions import *\n",
    "threshold = '2023-09-30'"
   ]
  },
  {
   "cell_type": "code",
   "outputs": [],
   "source": [
    "# Screening\n",
    "scr_path = os.path.join(processed_data, 'scr_1223.csv')\n",
    "screening_sheet = 'Scr'\n",
    "scr_dataset = Dataset(config_file, screening_sheet)\n",
    "scr = pd.read_csv(scr_path)\n",
    "scr = dtype_trans(scr, scr_dataset)\n",
    "unique_scr = scr.drop_duplicates(subset='rid')"
   ],
   "metadata": {
    "collapsed": false
   },
   "id": "c60f6bf25e196d2",
   "execution_count": null
  },
  {
   "cell_type": "code",
   "outputs": [],
   "source": [
    "td_path = os.path.join(processed_data, 'td_1223.csv')\n",
    "td_sheet = 'TD'\n",
    "td_dataset = Dataset(config_file, td_sheet)\n",
    "td = pd.read_csv(td_path)\n",
    "td = dtype_trans(td, td_dataset)\n",
    "# td = pd.merge(td, unique_scr[['rid', 'sex', 'age']], on='rid', how='left')\n",
    "# td_q4 = filter_df_by_date(td, td_dataset.dvars, threshold)"
   ],
   "metadata": {
    "collapsed": false
   },
   "id": "7e597d2bbea95cc7",
   "execution_count": null
  },
  {
   "cell_type": "code",
   "outputs": [],
   "source": [
    "rid = 'R0059'\n",
    "td[td['rid'] == rid]"
   ],
   "metadata": {
    "collapsed": false
   },
   "id": "779a9fe5f14d1f3f",
   "execution_count": null
  },
  {
   "cell_type": "code",
   "outputs": [],
   "source": [],
   "metadata": {
    "collapsed": false
   },
   "id": "877d310ce3d8bf1d",
   "execution_count": null
  },
  {
   "cell_type": "code",
   "outputs": [],
   "source": [],
   "metadata": {
    "collapsed": false
   },
   "id": "42f995c03dd1af07",
   "execution_count": null
  },
  {
   "cell_type": "code",
   "outputs": [],
   "source": [
    "td_q4['sex'].value_counts()"
   ],
   "metadata": {
    "collapsed": false
   },
   "id": "b2509a9327f83562",
   "execution_count": null
  },
  {
   "cell_type": "code",
   "outputs": [],
   "source": [],
   "metadata": {
    "collapsed": false
   },
   "id": "ed03ecab056996ee",
   "execution_count": null
  },
  {
   "cell_type": "code",
   "outputs": [],
   "source": [
    "td_q4['legal_doc'].value_counts()"
   ],
   "metadata": {
    "collapsed": false
   },
   "id": "729e6334ac9a08f6",
   "execution_count": null
  },
  {
   "cell_type": "code",
   "outputs": [],
   "source": [
    "td_q4['individual_use'].value_counts()"
   ],
   "metadata": {
    "collapsed": false
   },
   "id": "e28bf46b4957f08c",
   "execution_count": null
  },
  {
   "cell_type": "code",
   "outputs": [],
   "source": [
    "td_q4['cws'].value_counts()"
   ],
   "metadata": {
    "collapsed": false
   },
   "id": "23d0ec664f63002c",
   "execution_count": null
  },
  {
   "cell_type": "code",
   "outputs": [],
   "source": [
    "td_q4['communicat_use'].value_counts()"
   ],
   "metadata": {
    "collapsed": false
   },
   "id": "e86e966f36d141fc",
   "execution_count": null
  },
  {
   "cell_type": "code",
   "outputs": [],
   "source": [
    "td_q4['advocacy'].value_counts()"
   ],
   "metadata": {
    "collapsed": false
   },
   "id": "194850c639923b9a",
   "execution_count": null
  },
  {
   "cell_type": "code",
   "outputs": [],
   "source": [
    "td_q4['tdsp'].value_counts()"
   ],
   "metadata": {
    "collapsed": false
   },
   "id": "2cd760597a43eff5",
   "execution_count": null
  },
  {
   "cell_type": "code",
   "outputs": [],
   "source": [],
   "metadata": {
    "collapsed": false
   },
   "id": "bf8523517d73b1d5",
   "execution_count": null
  },
  {
   "cell_type": "code",
   "outputs": [],
   "source": [
    "psfs_path = os.path.join(processed_data, 'psfs_1223.csv')\n",
    "psfs_sheet = 'PSFS'\n",
    "psfs_dataset = Dataset(config_file, psfs_sheet)\n",
    "psfs = pd.read_csv(psfs_path)\n",
    "psfs = dtype_trans(psfs, psfs_dataset)\n",
    "# psfs_q4 = filter_df_by_date(psfs, psfs_dataset.dvars, threshold)"
   ],
   "metadata": {
    "collapsed": false
   },
   "id": "2b731a566e9cd92e",
   "execution_count": null
  },
  {
   "cell_type": "code",
   "outputs": [],
   "source": [
    "rid = 'R0407'\n",
    "psfs[psfs['rid'] == rid]"
   ],
   "metadata": {
    "collapsed": false
   },
   "id": "69c93e1f7e6ea68f",
   "execution_count": null
  },
  {
   "cell_type": "code",
   "outputs": [],
   "source": [
    "# psfs_q4.to_excel('psfs_quarter4_2023.xlsx')"
   ],
   "metadata": {
    "collapsed": false
   },
   "id": "2713e0c93d43f4e6",
   "execution_count": null
  },
  {
   "cell_type": "code",
   "outputs": [],
   "source": [],
   "metadata": {
    "collapsed": false
   },
   "id": "e6ad1ef4ff43357b",
   "execution_count": null
  },
  {
   "cell_type": "code",
   "outputs": [],
   "source": [
    "categorize_and_count_ages(psfs_q4['age'])"
   ],
   "metadata": {
    "collapsed": false
   },
   "id": "219f78b608fbdc3d",
   "execution_count": null
  },
  {
   "cell_type": "code",
   "outputs": [],
   "source": [],
   "metadata": {
    "collapsed": false
   },
   "id": "a49e534ceb75b265",
   "execution_count": null
  },
  {
   "cell_type": "code",
   "outputs": [],
   "source": [
    "ptint_path = os.path.join(processed_data, 'ptint_1223.csv')\n",
    "ptint_sheet = 'PT Int'\n",
    "ptint_dataset = Dataset(config_file, ptint_sheet)\n",
    "ptint = pd.read_csv(ptint_path)\n",
    "ptint = dtype_trans(ptint, ptint_dataset)\n",
    "unique_psfs = psfs.drop_duplicates(subset='rid')\n",
    "ptint = pd.merge(ptint, unique_psfs[['rid', 'sex', 'age']], on='rid', how='left')\n",
    "ptint_q4 = filter_df_by_date(ptint, ptint_dataset.dvars, threshold)"
   ],
   "metadata": {
    "collapsed": false
   },
   "id": "e6b72e5bf040ae2a",
   "execution_count": null
  },
  {
   "cell_type": "code",
   "outputs": [],
   "source": [],
   "metadata": {
    "collapsed": false
   },
   "id": "a9bff5c56de563ce",
   "execution_count": null
  },
  {
   "cell_type": "code",
   "outputs": [],
   "source": [
    "ptint_q4.to_excel('pt_intake_quarter4_2023.xlsx')"
   ],
   "metadata": {
    "collapsed": false
   },
   "id": "e9700cec4b745fcd",
   "execution_count": null
  },
  {
   "cell_type": "code",
   "outputs": [],
   "source": [],
   "metadata": {
    "collapsed": false
   },
   "id": "a2fe002f4bf48b9b",
   "execution_count": null
  },
  {
   "cell_type": "code",
   "outputs": [],
   "source": [
    "new_ptint = filter_df_by_date(ptint_q4, ['pt_nt_s1'], threshold)\n",
    "new_ptint['sex'].value_counts()"
   ],
   "metadata": {
    "collapsed": false
   },
   "id": "de5d51aa1d2283d",
   "execution_count": null
  },
  {
   "cell_type": "code",
   "outputs": [],
   "source": [
    "new_ptint['ptintsp'].value_counts()"
   ],
   "metadata": {
    "collapsed": false
   },
   "id": "4a99c14948914395",
   "execution_count": null
  },
  {
   "cell_type": "code",
   "outputs": [],
   "source": [],
   "metadata": {
    "collapsed": false
   },
   "id": "90936462f1737801"
  },
  {
   "cell_type": "code",
   "outputs": [],
   "source": [
    "ptfua_path = os.path.join(processed_data, 'ptfua_1223.csv')\n",
    "ptfua_sheet = 'FUA'\n",
    "ptfua_dataset = Dataset(config_file, ptfua_sheet)\n",
    "ptfua = pd.read_csv(ptfua_path)\n",
    "ptfua = dtype_trans(ptfua, ptfua_dataset)\n",
    "# ptfua_q4 = filter_df_by_date(ptfua, ptfua_dataset.dvars, threshold, comparison_type='a')"
   ],
   "metadata": {
    "collapsed": false
   },
   "id": "5d99bba320229e9f",
   "execution_count": null
  },
  {
   "cell_type": "code",
   "outputs": [],
   "source": [
    "rid = 'R0479'\n",
    "ptfua[ptfua['rid'] == rid]"
   ],
   "metadata": {
    "collapsed": false
   },
   "id": "138db2187abb7edc",
   "execution_count": null
  },
  {
   "cell_type": "code",
   "outputs": [],
   "source": [
    "ptfua_q4.to_excel('pt_followup_quarter4_2023.xlsx')"
   ],
   "metadata": {
    "collapsed": false
   },
   "id": "4b955d9ca3a517b9",
   "execution_count": null
  },
  {
   "cell_type": "code",
   "outputs": [],
   "source": [],
   "metadata": {
    "collapsed": false
   },
   "id": "30b168a37e31e8b9"
  }
 ],
 "metadata": {
  "kernelspec": {
   "display_name": "Python 3",
   "language": "python",
   "name": "python3"
  },
  "language_info": {
   "codemirror_mode": {
    "name": "ipython",
    "version": 2
   },
   "file_extension": ".py",
   "mimetype": "text/x-python",
   "name": "python",
   "nbconvert_exporter": "python",
   "pygments_lexer": "ipython2",
   "version": "2.7.6"
  }
 },
 "nbformat": 4,
 "nbformat_minor": 5
}
