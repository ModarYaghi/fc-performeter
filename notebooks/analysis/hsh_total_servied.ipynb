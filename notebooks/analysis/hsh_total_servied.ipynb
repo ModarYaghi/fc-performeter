{
 "cells": [
  {
   "cell_type": "code",
   "execution_count": null,
   "id": "initial_id",
   "metadata": {
    "collapsed": true
   },
   "source": [
    "from src.all_in_one import *\n",
    "from src.analysis_functions import *"
   ],
   "outputs": []
  },
  {
   "cell_type": "code",
   "source": [
    "scr = get_df(scr_path, scr_sheet)\n",
    "scr = scr.drop_duplicates(subset='rid')"
   ],
   "metadata": {
    "collapsed": false
   },
   "id": "48da10baa38e26ef",
   "execution_count": null,
   "outputs": []
  },
  {
   "cell_type": "markdown",
   "source": [
    "# Psychotherapy"
   ],
   "metadata": {
    "collapsed": false
   },
   "id": "f57b016500965610"
  },
  {
   "cell_type": "code",
   "source": [
    "intake_dataset = Dataset(config_file, int_sheet)\n",
    "intake = get_df(int_path, int_sheet, b=True)\n",
    "intake.insert(0, 'min_year', (intake[intake_dataset.dvars].min(axis=1)).dt.year)\n",
    "intake.insert(1, 'max_year', (intake[intake_dataset.dvars].max(axis=1)).dt.year)\n",
    "intake.insert(2, 'service', 'int')\n",
    "intake = intake[['min_year', 'max_year', 'service', 'rid']]"
   ],
   "metadata": {
    "collapsed": false
   },
   "id": "6cc9b03e64627bc9",
   "execution_count": null,
   "outputs": []
  },
  {
   "cell_type": "code",
   "source": [],
   "metadata": {
    "collapsed": false
   },
   "id": "d618e21aa02cdd6f",
   "execution_count": null,
   "outputs": []
  },
  {
   "cell_type": "code",
   "source": [
    "date_vars = ['gc_s1', 'gc_s2', 'gc_s3', 'gc_s4', 'gc_s5', 'gc_s6', 'gc_s7', 'gc_s8', 'gc_s9', 'gc_10']\n",
    "gc_dataset = Dataset(config_file, gc_sheet)\n",
    "gc = get_df(gc_path, gc_sheet, b=True)\n",
    "gc.insert(0, 'min_year', (gc[date_vars].min(axis=1)).dt.year)\n",
    "gc.insert(1, 'max_year', (gc[date_vars].max(axis=1)).dt.year)\n",
    "gc.insert(2, 'service', 'gc')\n",
    "gc = gc[['min_year', 'max_year', 'service', 'rid']]"
   ],
   "metadata": {
    "collapsed": false
   },
   "id": "51a91e7e20b128da",
   "execution_count": null,
   "outputs": []
  },
  {
   "cell_type": "code",
   "source": [],
   "metadata": {
    "collapsed": false
   },
   "id": "b7240041954fd441",
   "execution_count": null,
   "outputs": []
  },
  {
   "cell_type": "code",
   "source": [
    "ic_dataset = Dataset(config_file, ic_sheet)\n",
    "ic = get_df(ic_path, ic_sheet, b=True)\n",
    "ic.insert(0, 'min_year', (ic[ic_dataset.dvars].min(axis=1)).dt.year)\n",
    "ic.insert(1, 'max_year', (ic[ic_dataset.dvars].max(axis=1)).dt.year)\n",
    "ic.insert(2, 'service', 'ic')\n",
    "ic = ic[['min_year', 'max_year', 'service', 'rid']]"
   ],
   "metadata": {
    "collapsed": false
   },
   "id": "2f059c51ab384855",
   "execution_count": null,
   "outputs": []
  },
  {
   "cell_type": "code",
   "source": [],
   "metadata": {
    "collapsed": false
   },
   "id": "35825e500c7201e8",
   "execution_count": null,
   "outputs": []
  },
  {
   "cell_type": "code",
   "source": [
    "psfua_dataset = Dataset(config_file, psfua_sheet)\n",
    "psfua = get_df(psfua_path, psfua_sheet, b=True)\n",
    "psfua.insert(0, 'min_year', (psfua[psfua_dataset.dvars].min(axis=1)).dt.year)\n",
    "psfua.insert(1, 'max_year', (psfua[psfua_dataset.dvars].max(axis=1)).dt.year)\n",
    "psfua.insert(2, 'service', 'psfua')\n",
    "psfua = psfua[['min_year', 'max_year', 'service', 'rid']]"
   ],
   "metadata": {
    "collapsed": false
   },
   "id": "52130ed7a9cc182b",
   "execution_count": null,
   "outputs": []
  },
  {
   "cell_type": "code",
   "source": [],
   "metadata": {
    "collapsed": false
   },
   "id": "909a79ad0f7539e9",
   "execution_count": null,
   "outputs": []
  },
  {
   "cell_type": "code",
   "source": [
    "ps_dataframes = [intake, gc, ic, psfua]\n",
    "ps = pd.concat(ps_dataframes, ignore_index=True)\n",
    "ps[['min_year', 'max_year']] = ps[['min_year', 'max_year']].astype('Int64')"
   ],
   "metadata": {
    "collapsed": false
   },
   "id": "29472b7ec76fd25b",
   "execution_count": null,
   "outputs": []
  },
  {
   "cell_type": "code",
   "source": [
    "ps_24 = ps[(ps['min_year'] == 2024) | (ps['max_year'] == 2024)]"
   ],
   "metadata": {
    "collapsed": false
   },
   "id": "6ed0366db1467c8a",
   "execution_count": null,
   "outputs": []
  },
  {
   "cell_type": "code",
   "source": [
    "unique_ps_24 = ps_24.drop_duplicates(subset='rid')"
   ],
   "metadata": {
    "collapsed": false
   },
   "id": "c8e4d4f4f278c853",
   "execution_count": null,
   "outputs": []
  },
  {
   "cell_type": "code",
   "source": [
    "unique_ps_24"
   ],
   "metadata": {
    "collapsed": false
   },
   "id": "458fb8ec814a74b8",
   "execution_count": null,
   "outputs": []
  },
  {
   "cell_type": "code",
   "source": [],
   "metadata": {
    "collapsed": false
   },
   "id": "ecff37e8cc289a88",
   "execution_count": null,
   "outputs": []
  },
  {
   "cell_type": "markdown",
   "source": [
    "# TRW"
   ],
   "metadata": {
    "collapsed": false
   },
   "id": "a918cb44a59a4973"
  },
  {
   "cell_type": "code",
   "source": [
    "trw_dataset = Dataset(config_file, trw_sheet)\n",
    "trw = get_df(trw_path, trw_sheet, b=True)\n",
    "trw.insert(0, 'min_year', (trw[trw_dataset.dvars].min(axis=1)).dt.year)\n",
    "trw.insert(1, 'max_year', (trw[trw_dataset.dvars].max(axis=1)).dt.year)\n",
    "trw.insert(2, 'service', 'trw')\n",
    "trw = trw[['min_year', 'max_year', 'service', 'rid']]"
   ],
   "metadata": {
    "collapsed": false
   },
   "id": "c13a4d9c282a1b1d",
   "execution_count": null,
   "outputs": []
  },
  {
   "cell_type": "code",
   "source": [],
   "metadata": {
    "collapsed": false
   },
   "id": "bd8f51e5bf4eed9e",
   "execution_count": null,
   "outputs": []
  },
  {
   "cell_type": "code",
   "source": [
    "trw[['min_year', 'max_year']] = trw[['min_year', 'max_year']].astype('Int64')"
   ],
   "metadata": {
    "collapsed": false
   },
   "id": "5b76465efe498e44",
   "execution_count": null,
   "outputs": []
  },
  {
   "cell_type": "code",
   "source": [
    "trw_24 = trw[(trw['min_year'] == 2024) | (trw['max_year'] == 2024)]"
   ],
   "metadata": {
    "collapsed": false
   },
   "id": "1ab788bdf3408d20",
   "execution_count": null,
   "outputs": []
  },
  {
   "cell_type": "code",
   "source": [
    "unique_trw_24 = trw_24.drop_duplicates(subset='rid')"
   ],
   "metadata": {
    "collapsed": false
   },
   "id": "d4999658b45abf79",
   "execution_count": null,
   "outputs": []
  },
  {
   "cell_type": "code",
   "source": [
    "unique_trw_24"
   ],
   "metadata": {
    "collapsed": false
   },
   "id": "2bba2ab9a8c77128",
   "execution_count": null,
   "outputs": []
  },
  {
   "cell_type": "code",
   "source": [
    "# temporary calculation\n",
    "# _trw = filter_df_by_date(trw, trw_dataset.dvars, '2022-12-31', comparison_type='a')\n",
    "# _trw = filter_df_by_date(_trw, trw_dataset.dvars, '2024-01-01', comparison_type='b')\n",
    "# _trw = pd.merge(_trw, scr[['rid', 'sex']], on='rid', how='left')\n",
    "# _trw"
   ],
   "metadata": {
    "collapsed": false
   },
   "id": "7790171de6507757",
   "execution_count": null,
   "outputs": []
  },
  {
   "cell_type": "markdown",
   "source": [
    "# PEI"
   ],
   "metadata": {
    "collapsed": false
   },
   "id": "accef585881c649d"
  },
  {
   "cell_type": "code",
   "source": [
    "pei_dataset = Dataset(config_file, pei_sheet)\n",
    "pei = get_df(pei_path, pei_sheet, b=True)\n",
    "pei.insert(0, 'min_year', (pei[pei_dataset.dvars].min(axis=1)).dt.year)\n",
    "pei.insert(1, 'max_year', (pei[pei_dataset.dvars].max(axis=1)).dt.year)\n",
    "pei.insert(2, 'service', 'pei')\n",
    "pei = pei[['min_year', 'max_year', 'service', 'rid']]"
   ],
   "metadata": {
    "collapsed": false
   },
   "id": "cfab508443787385",
   "execution_count": null,
   "outputs": []
  },
  {
   "cell_type": "code",
   "source": [
    "pei[['min_year', 'max_year']] = pei[['min_year', 'max_year']].astype('Int64')"
   ],
   "metadata": {
    "collapsed": false
   },
   "id": "100aba1ae12aca7e",
   "execution_count": null,
   "outputs": []
  },
  {
   "cell_type": "code",
   "source": [
    "pei_24 = pei[(pei['min_year'] == 2024) | (pei['max_year'] == 2024)]"
   ],
   "metadata": {
    "collapsed": false
   },
   "id": "7b6afc7e5dd0b47a",
   "execution_count": null,
   "outputs": []
  },
  {
   "cell_type": "code",
   "source": [
    "unique_pei_24 = pei_24.drop_duplicates(subset='rid')"
   ],
   "metadata": {
    "collapsed": false
   },
   "id": "79d8377c8dcefabf",
   "execution_count": null,
   "outputs": []
  },
  {
   "cell_type": "code",
   "source": [
    "unique_pei_24"
   ],
   "metadata": {
    "collapsed": false
   },
   "id": "6f0467bd3f91843",
   "execution_count": null,
   "outputs": []
  },
  {
   "cell_type": "code",
   "source": [],
   "metadata": {
    "collapsed": false
   },
   "id": "6ed74315083c72ac",
   "execution_count": null,
   "outputs": []
  },
  {
   "cell_type": "markdown",
   "source": [
    "# TD"
   ],
   "metadata": {
    "collapsed": false
   },
   "id": "5b7d66d56937fff7"
  },
  {
   "cell_type": "code",
   "source": [
    "td_dataset = Dataset(config_file, td_sheet)\n",
    "td = get_df(td_path, td_sheet, b=True)\n",
    "td.insert(0, 'min_year', (td[td_dataset.dvars].min(axis=1)).dt.year)\n",
    "td.insert(1, 'max_year', (td[td_dataset.dvars].max(axis=1)).dt.year)\n",
    "td.insert(2, 'service', 'td')\n",
    "td = td[['min_year', 'max_year', 'service', 'rid']]"
   ],
   "metadata": {
    "collapsed": false
   },
   "id": "93da2b7a60d1db0",
   "execution_count": null,
   "outputs": []
  },
  {
   "cell_type": "code",
   "source": [
    "td[['min_year', 'max_year']] = td[['min_year', 'max_year']].astype('Int64')"
   ],
   "metadata": {
    "collapsed": false
   },
   "id": "8c400025d2fb8cbc",
   "execution_count": null,
   "outputs": []
  },
  {
   "cell_type": "code",
   "source": [
    "td_24 = td[(td['min_year'] == 2024) | (td['max_year'] == 2024)]"
   ],
   "metadata": {
    "collapsed": false
   },
   "id": "138b8728193b8bb4",
   "execution_count": null,
   "outputs": []
  },
  {
   "cell_type": "code",
   "source": [
    "unique_td_24 = td_24.drop_duplicates(subset='rid')"
   ],
   "metadata": {
    "collapsed": false
   },
   "id": "122370d7f7751cad",
   "execution_count": null,
   "outputs": []
  },
  {
   "cell_type": "code",
   "source": [
    "unique_td_24"
   ],
   "metadata": {
    "collapsed": false
   },
   "id": "621400cc2245cf9",
   "execution_count": null,
   "outputs": []
  },
  {
   "cell_type": "code",
   "source": [],
   "metadata": {
    "collapsed": false
   },
   "id": "43c0f8874ef9b171",
   "execution_count": null,
   "outputs": []
  },
  {
   "cell_type": "markdown",
   "source": [
    "# Physiotherapy"
   ],
   "metadata": {
    "collapsed": false
   },
   "id": "24c916903de26388"
  },
  {
   "cell_type": "markdown",
   "source": [
    "###### PSFS is commented because it shouldn't be counted here. The same as Screening"
   ],
   "metadata": {
    "collapsed": false
   },
   "id": "ea1afcb2b443acf4"
  },
  {
   "cell_type": "code",
   "source": [
    "# psfs_dataset = Dataset(config_file, psfs_sheet)\n",
    "# psfs = get_df(psfs_path, psfs_sheet, b=True)\n",
    "# psfs.insert(0, 'min_year', (psfs[psfs_dataset.dvars].min(axis=1)).dt.year)\n",
    "# psfs.insert(1, 'max_year', (psfs[psfs_dataset.dvars].max(axis=1)).dt.year)\n",
    "# psfs.insert(2, 'service', 'psfs')\n",
    "# psfs = psfs[['min_year', 'max_year', 'service', 'rid']]"
   ],
   "metadata": {
    "collapsed": false
   },
   "id": "be04a1e0416936c3",
   "execution_count": null,
   "outputs": []
  },
  {
   "cell_type": "code",
   "source": [],
   "metadata": {
    "collapsed": false
   },
   "id": "ae5a893c888b96cc",
   "execution_count": null,
   "outputs": []
  },
  {
   "cell_type": "code",
   "source": [
    "ptint_dataset = Dataset(config_file, ptint_sheet)\n",
    "ptint = get_df(ptint_path, ptint_sheet, b=True)\n",
    "ptint.insert(0, 'min_year', (ptint[ptint_dataset.dvars].min(axis=1)).dt.year)\n",
    "ptint.insert(1, 'max_year', (ptint[ptint_dataset.dvars].max(axis=1)).dt.year)\n",
    "ptint.insert(2, 'service', 'ptint')\n",
    "ptint = ptint[['min_year', 'max_year', 'service', 'rid']]"
   ],
   "metadata": {
    "collapsed": false
   },
   "id": "a4c5c88d012c57a8",
   "execution_count": null,
   "outputs": []
  },
  {
   "cell_type": "code",
   "source": [],
   "metadata": {
    "collapsed": false
   },
   "id": "e007dc51fac2fc4d",
   "execution_count": null,
   "outputs": []
  },
  {
   "cell_type": "code",
   "source": [
    "gpt_dataset = Dataset(config_file, gpt_sheet)\n",
    "gpt = get_df(gpt_path, gpt_sheet, b=True)\n",
    "gpt.insert(0, 'min_year', (gpt[gpt_dataset.dvars].min(axis=1)).dt.year)\n",
    "gpt.insert(1, 'max_year', (gpt[gpt_dataset.dvars].max(axis=1)).dt.year)\n",
    "gpt.insert(2, 'service', 'gpt')\n",
    "gpt = gpt[['min_year', 'max_year', 'service', 'rid']]"
   ],
   "metadata": {
    "collapsed": false
   },
   "id": "8f4cbe06c0cc04c6",
   "execution_count": null,
   "outputs": []
  },
  {
   "cell_type": "code",
   "source": [],
   "metadata": {
    "collapsed": false
   },
   "id": "b57e3d62b7598f4e",
   "execution_count": null,
   "outputs": []
  },
  {
   "cell_type": "code",
   "source": [
    "ipt_dataset = Dataset(config_file, ipt_sheet)\n",
    "ipt = get_df(ipt_path, ipt_sheet, b=True)\n",
    "ipt.insert(0, 'min_year', (ipt[ipt_dataset.dvars].min(axis=1)).dt.year)\n",
    "ipt.insert(1, 'max_year', (ipt[ipt_dataset.dvars].max(axis=1)).dt.year)\n",
    "ipt.insert(2, 'service', 'ipt')\n",
    "ipt = ipt[['min_year', 'max_year', 'service', 'rid']]"
   ],
   "metadata": {
    "collapsed": false
   },
   "id": "5e2878a821f478a8",
   "execution_count": null,
   "outputs": []
  },
  {
   "cell_type": "code",
   "source": [],
   "metadata": {
    "collapsed": false
   },
   "id": "1bff4360ed3c8644",
   "execution_count": null,
   "outputs": []
  },
  {
   "cell_type": "code",
   "source": [
    "ptfua_dataset = Dataset(config_file, ptfua_sheet)\n",
    "ptfua = get_df(ptfua_path, ptfua_sheet, b=True)\n",
    "ptfua.insert(0, 'min_year', (ptfua[ptfua_dataset.dvars].min(axis=1)).dt.year)\n",
    "ptfua.insert(1, 'max_year', (ptfua[ptfua_dataset.dvars].max(axis=1)).dt.year)\n",
    "ptfua.insert(2, 'service', 'ptfua')\n",
    "ptfua = ptfua[['min_year', 'max_year', 'service', 'rid']]"
   ],
   "metadata": {
    "collapsed": false
   },
   "id": "1a91bd114b2459cb",
   "execution_count": null,
   "outputs": []
  },
  {
   "cell_type": "code",
   "source": [
    "pt_dataframes = [ptint, gpt, ipt, ptfua]\n",
    "pt = pd.concat(pt_dataframes, ignore_index=True)\n",
    "pt[['min_year', 'max_year']] = pt[['min_year', 'max_year']].astype('Int64')"
   ],
   "metadata": {
    "collapsed": false
   },
   "id": "fbd210d029e8f06e",
   "execution_count": null,
   "outputs": []
  },
  {
   "cell_type": "code",
   "source": [
    "pt_24 = pt[(pt['min_year'] == 2024) | (pt['max_year'] == 2024)]"
   ],
   "metadata": {
    "collapsed": false
   },
   "id": "2f121e90dbb57cb9",
   "execution_count": null,
   "outputs": []
  },
  {
   "cell_type": "code",
   "source": [
    "unique_pt_24 = pt_24.drop_duplicates(subset='rid')"
   ],
   "metadata": {
    "collapsed": false
   },
   "id": "f7ec6b56b4304ced",
   "execution_count": null,
   "outputs": []
  },
  {
   "cell_type": "code",
   "source": [
    "unique_pt_24"
   ],
   "metadata": {
    "collapsed": false
   },
   "id": "4fd15f5b44d11d92",
   "execution_count": null,
   "outputs": []
  },
  {
   "cell_type": "code",
   "source": [],
   "metadata": {
    "collapsed": false
   },
   "id": "5556e41cf5b62e1c",
   "execution_count": null,
   "outputs": []
  },
  {
   "cell_type": "markdown",
   "source": [
    "# Total Service"
   ],
   "metadata": {
    "collapsed": false
   },
   "id": "4b6907bdfe2c5ac9"
  },
  {
   "cell_type": "code",
   "source": [
    "mhpss_24 = pd.concat([unique_ps_24, unique_trw_24, unique_pei_24, unique_td_24, unique_pt_24], ignore_index=True)"
   ],
   "metadata": {
    "collapsed": false
   },
   "id": "821115150d1ecddb",
   "execution_count": null,
   "outputs": []
  },
  {
   "cell_type": "code",
   "source": [
    "mhpss_24"
   ],
   "metadata": {
    "collapsed": false
   },
   "id": "322509234a12acef",
   "execution_count": null,
   "outputs": []
  },
  {
   "cell_type": "code",
   "source": [
    "unq_mhpss_24 = mhpss_24.drop_duplicates(subset='rid')"
   ],
   "metadata": {
    "collapsed": false
   },
   "id": "7278f8110af0b142",
   "execution_count": null,
   "outputs": []
  },
  {
   "cell_type": "code",
   "source": [
    "unq_mhpss_24"
   ],
   "metadata": {
    "collapsed": false
   },
   "id": "6945f4e6830bea83",
   "execution_count": null,
   "outputs": []
  },
  {
   "cell_type": "code",
   "source": [
    "unq_mhpss_24 = pd.merge(unq_mhpss_24, scr[['rid', 'sex', 'age']], on='rid', how='left')"
   ],
   "metadata": {
    "collapsed": false
   },
   "id": "4fa30c46367d1b32",
   "execution_count": null,
   "outputs": []
  },
  {
   "cell_type": "code",
   "source": [
    "unq_mhpss_24"
   ],
   "metadata": {
    "collapsed": false
   },
   "id": "9e571d2e00b9f535",
   "execution_count": null,
   "outputs": []
  },
  {
   "cell_type": "code",
   "source": [],
   "metadata": {
    "collapsed": false
   },
   "id": "79f57086f8e8c6ec",
   "execution_count": null,
   "outputs": []
  },
  {
   "cell_type": "code",
   "source": [
    "unq_mhpss_24['rid'].nunique()"
   ],
   "metadata": {
    "collapsed": false
   },
   "id": "408833adc267cbcc",
   "execution_count": null,
   "outputs": []
  },
  {
   "cell_type": "code",
   "source": [
    "# R1070: Female\n",
    "# R0059: Female\n",
    "# R0407: Female\n",
    "# R0479: Female"
   ],
   "metadata": {
    "collapsed": false
   },
   "id": "67dcf01eabc90ae3",
   "execution_count": null,
   "outputs": []
  },
  {
   "cell_type": "code",
   "source": [
    "unq_mhpss_24['sex'].value_counts(dropna=False)"
   ],
   "metadata": {
    "collapsed": false
   },
   "id": "62fd8071273c923f",
   "execution_count": null,
   "outputs": []
  },
  {
   "cell_type": "code",
   "source": [
    "# com_intake = pd.merge(intake, scr[['rid', 'sex', 'age']], on='rid', how='left')\n",
    "# com_intake"
   ],
   "metadata": {
    "collapsed": false
   },
   "id": "c2ab5008b1440965",
   "execution_count": null,
   "outputs": []
  },
  {
   "cell_type": "code",
   "source": [
    "# new_beneficiaries_2023 = com_intake[com_intake['min_year'] == 2023]\n",
    "# new_beneficiaries_2023"
   ],
   "metadata": {
    "collapsed": false
   },
   "id": "a0bd928039811fbe",
   "execution_count": null,
   "outputs": []
  },
  {
   "cell_type": "code",
   "source": [
    "# new_beneficiaries_2023['rid'].nunique()"
   ],
   "metadata": {
    "collapsed": false
   },
   "id": "35b627118b86983c",
   "execution_count": null,
   "outputs": []
  },
  {
   "cell_type": "code",
   "source": [
    "# new_beneficiaries_2023['age'].value_counts(dropna=False)"
   ],
   "metadata": {
    "collapsed": false
   },
   "id": "8e02695322f05793",
   "execution_count": null,
   "outputs": []
  },
  {
   "cell_type": "code",
   "source": [
    "_intake = get_df(int_path, int_sheet)"
   ],
   "metadata": {
    "collapsed": false
   },
   "id": "43e0eb142a488909",
   "execution_count": null,
   "outputs": []
  },
  {
   "cell_type": "code",
   "source": [
    "_intake"
   ],
   "metadata": {
    "collapsed": false
   },
   "id": "a37b3d2d6a1fa049",
   "execution_count": null,
   "outputs": []
  },
  {
   "cell_type": "code",
   "source": [
    "selected_columns = intake_dataset.bovars + ['rid']"
   ],
   "metadata": {
    "collapsed": false
   },
   "id": "2e2d0e667744961b",
   "execution_count": null,
   "outputs": []
  },
  {
   "cell_type": "code",
   "source": [
    "unq_mhpss_24 = pd.merge(unq_mhpss_24, _intake[selected_columns], on='rid', how='left')"
   ],
   "metadata": {
    "collapsed": false
   },
   "id": "b47e0c23fefad82a",
   "execution_count": null,
   "outputs": []
  },
  {
   "cell_type": "code",
   "source": [
    "unq_mhpss_24"
   ],
   "metadata": {
    "collapsed": false
   },
   "id": "b762e729e691fc5a",
   "execution_count": null,
   "outputs": []
  },
  {
   "cell_type": "code",
   "source": [
    "unq_mhpss_24_ts = unq_mhpss_24[(unq_mhpss_24['primary_torture'] == 'Yes') | (unq_mhpss_24['secondary_torture'] == 'Yes')]"
   ],
   "metadata": {
    "collapsed": false
   },
   "id": "60f23a1cf503da52",
   "execution_count": null,
   "outputs": []
  },
  {
   "cell_type": "code",
   "source": [
    "unq_mhpss_24_ts"
   ],
   "metadata": {
    "collapsed": false
   },
   "id": "e88a8ae33a76b84b",
   "execution_count": null,
   "outputs": []
  },
  {
   "cell_type": "code",
   "source": [
    "unq_mhpss_24[~((unq_mhpss_24['primary_torture'] == 'Yes') | (unq_mhpss_24['secondary_torture'] == 'Yes'))]"
   ],
   "metadata": {
    "collapsed": false
   },
   "id": "4900cf17c214c6cb",
   "execution_count": null,
   "outputs": []
  },
  {
   "cell_type": "code",
   "source": [
    "unq_mhpss_24[~(unq_mhpss_24['stgbv'] == 'Yes')]"
   ],
   "metadata": {
    "collapsed": false
   },
   "id": "f4c6715787219640",
   "execution_count": null,
   "outputs": []
  },
  {
   "cell_type": "code",
   "source": [],
   "metadata": {
    "collapsed": false
   },
   "id": "c69870051299e5ac",
   "execution_count": null,
   "outputs": []
  },
  {
   "cell_type": "markdown",
   "source": [
    "# AW"
   ],
   "metadata": {
    "collapsed": false
   },
   "id": "2c5482abd78e09a0"
  },
  {
   "cell_type": "code",
   "source": [
    "aw_dataset = Dataset(config_file, aw_sheet)\n",
    "aw = get_df(aw_path, aw_sheet)\n",
    "aw.insert(0, 'min_year', (aw[aw_dataset.dvars].min(axis=1)).dt.year)\n",
    "aw.insert(1, 'max_year', (aw[aw_dataset.dvars].max(axis=1)).dt.year)\n",
    "aw.insert(2, 'service', 'aw')\n",
    "aw = aw[['min_year', 'max_year', 'service', 'rid']]\n",
    "aw[['min_year', 'max_year']] = aw[['min_year', 'max_year']].astype('Int64')"
   ],
   "metadata": {
    "collapsed": false
   },
   "id": "2912be6719adedd3",
   "execution_count": null,
   "outputs": []
  },
  {
   "cell_type": "code",
   "source": [
    "aw_24 = aw[aw['min_year'] == 2024]"
   ],
   "metadata": {
    "collapsed": false
   },
   "id": "c60028d2cd2fb04",
   "execution_count": null,
   "outputs": []
  },
  {
   "cell_type": "code",
   "source": [
    "aw"
   ],
   "metadata": {
    "collapsed": false
   },
   "id": "2dd1bae9082db29d",
   "execution_count": null,
   "outputs": []
  },
  {
   "cell_type": "code",
   "source": [],
   "metadata": {
    "collapsed": false
   },
   "id": "283169c94abe5adc",
   "execution_count": null,
   "outputs": []
  }
 ],
 "metadata": {
  "kernelspec": {
   "display_name": "Python 3",
   "language": "python",
   "name": "python3"
  },
  "language_info": {
   "codemirror_mode": {
    "name": "ipython",
    "version": 2
   },
   "file_extension": ".py",
   "mimetype": "text/x-python",
   "name": "python",
   "nbconvert_exporter": "python",
   "pygments_lexer": "ipython2",
   "version": "2.7.6"
  }
 },
 "nbformat": 4,
 "nbformat_minor": 5
}
