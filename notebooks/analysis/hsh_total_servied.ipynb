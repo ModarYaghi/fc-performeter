{
 "cells": [
  {
   "cell_type": "code",
   "id": "initial_id",
   "metadata": {
    "collapsed": true
   },
   "source": [
    "import pandas as pd\n",
    "\n",
    "from src.all_in_one import *\n",
    "from src.analysis_functions import *"
   ],
   "outputs": [],
   "execution_count": null
  },
  {
   "cell_type": "code",
   "source": [
    "scr_file = path_manager.get_data_file(Category.PS, PSFile.SCR)\n",
    "scr = get_df(scr_file.path, scr_file.sheet)\n",
    "scr = scr.drop_duplicates(subset='rid')"
   ],
   "metadata": {
    "collapsed": false
   },
   "id": "48da10baa38e26ef",
   "outputs": [],
   "execution_count": null
  },
  {
   "cell_type": "markdown",
   "source": [
    "# Psychotherapy"
   ],
   "metadata": {
    "collapsed": false
   },
   "id": "f57b016500965610"
  },
  {
   "cell_type": "code",
   "source": [
    "int_file = path_manager.get_data_file(Category.PS, PSFile.PSNT)\n",
    "intake_dataset = Dataset(config_file, int_file.sheet)\n",
    "intake = get_df(int_file.path, int_file.sheet)\n",
    "intake.insert(0, 'min_date', (intake[intake_dataset.dvars].min(axis=1)))\n",
    "intake.insert(1, 'max_date', (intake[intake_dataset.dvars].max(axis=1)))\n",
    "intake.insert(2, 'service', 'int')\n",
    "intake = intake[['min_date', 'max_date', 'service', 'rid']].sort_values(by='min_date')"
   ],
   "metadata": {
    "collapsed": false
   },
   "id": "6cc9b03e64627bc9",
   "outputs": [],
   "execution_count": null
  },
  {
   "cell_type": "code",
   "source": [],
   "metadata": {
    "collapsed": false
   },
   "id": "d618e21aa02cdd6f",
   "outputs": [],
   "execution_count": null
  },
  {
   "cell_type": "code",
   "source": [
    "gc_file = path_manager.get_data_file(Category.PS, PSFile.PSG)\n",
    "date_vars = ['gc_s1', 'gc_s2', 'gc_s3', 'gc_s4', 'gc_s5', 'gc_s6', 'gc_s7', 'gc_s8', 'gc_s9', 'gc_10']\n",
    "gc_dataset = Dataset(config_file, gc_file.sheet)\n",
    "gc = get_df(gc_file.path, gc_file.sheet)\n",
    "gc.insert(0, 'min_date', (gc[date_vars].min(axis=1)))\n",
    "gc.insert(1, 'max_date', (gc[date_vars].max(axis=1)))\n",
    "gc.insert(2, 'service', 'gc')\n",
    "gc = gc[['min_date', 'max_date', 'service', 'rid']]"
   ],
   "metadata": {
    "collapsed": false
   },
   "id": "51a91e7e20b128da",
   "outputs": [],
   "execution_count": null
  },
  {
   "cell_type": "code",
   "source": [],
   "metadata": {
    "collapsed": false
   },
   "id": "b7240041954fd441",
   "outputs": [],
   "execution_count": null
  },
  {
   "cell_type": "code",
   "source": [
    "ic_file = path_manager.get_data_file(Category.PS, PSFile.PSI)\n",
    "ic_dataset = Dataset(config_file, ic_file.sheet)\n",
    "ic = get_df(ic_file.path, ic_file.sheet)\n",
    "ic.insert(0, 'min_date', (ic[ic_dataset.dvars].min(axis=1)))\n",
    "ic.insert(1, 'max_date', (ic[ic_dataset.dvars].max(axis=1)))\n",
    "ic.insert(2, 'service', 'ic')\n",
    "ic = ic[['min_date', 'max_date', 'service', 'rid']]"
   ],
   "metadata": {
    "collapsed": false
   },
   "id": "2f059c51ab384855",
   "outputs": [],
   "execution_count": null
  },
  {
   "cell_type": "code",
   "source": [],
   "metadata": {
    "collapsed": false
   },
   "id": "35825e500c7201e8",
   "outputs": [],
   "execution_count": null
  },
  {
   "cell_type": "code",
   "source": [
    "psfua_file = path_manager.get_data_file(Category.PS, PSFile.PSFU)\n",
    "psfua_dataset = Dataset(config_file, psfua_file.sheet)\n",
    "psfua = get_df(psfua_file.path, psfua_file.sheet)\n",
    "psfua.insert(0, 'min_date', (psfua[psfua_dataset.dvars].min(axis=1)))\n",
    "psfua.insert(1, 'max_date', (psfua[psfua_dataset.dvars].max(axis=1)))\n",
    "psfua.insert(2, 'service', 'psfua')\n",
    "psfua = psfua[['min_date', 'max_date', 'service', 'rid']]"
   ],
   "metadata": {
    "collapsed": false
   },
   "id": "52130ed7a9cc182b",
   "outputs": [],
   "execution_count": null
  },
  {
   "cell_type": "code",
   "source": [],
   "metadata": {
    "collapsed": false
   },
   "id": "909a79ad0f7539e9",
   "outputs": [],
   "execution_count": null
  },
  {
   "cell_type": "code",
   "source": [
    "ps_dataframes = [intake, gc, ic, psfua]\n",
    "ps = pd.concat(ps_dataframes, ignore_index=True)"
   ],
   "metadata": {
    "collapsed": false
   },
   "id": "29472b7ec76fd25b",
   "outputs": [],
   "execution_count": null
  },
  {
   "cell_type": "code",
   "source": "ps_24 = filter_dataframe_on_date(ps, ['min_date', 'max_date'], pd.to_datetime('2024-04-01'), pd.to_datetime('2024-06-30'))",
   "metadata": {
    "collapsed": false
   },
   "id": "6ed0366db1467c8a",
   "outputs": [],
   "execution_count": null
  },
  {
   "metadata": {},
   "cell_type": "code",
   "source": "# ps_24",
   "id": "d1b0c8cbc9af6621",
   "outputs": [],
   "execution_count": null
  },
  {
   "cell_type": "code",
   "source": [
    "unique_ps_24 = ps_24.drop_duplicates(subset='rid')"
   ],
   "metadata": {
    "collapsed": false
   },
   "id": "c8e4d4f4f278c853",
   "outputs": [],
   "execution_count": null
  },
  {
   "cell_type": "code",
   "source": "# unique_ps_24",
   "metadata": {
    "collapsed": false
   },
   "id": "458fb8ec814a74b8",
   "outputs": [],
   "execution_count": null
  },
  {
   "cell_type": "code",
   "source": [],
   "metadata": {
    "collapsed": false
   },
   "id": "ecff37e8cc289a88",
   "outputs": [],
   "execution_count": null
  },
  {
   "cell_type": "markdown",
   "source": [
    "# TRW"
   ],
   "metadata": {
    "collapsed": false
   },
   "id": "a918cb44a59a4973"
  },
  {
   "cell_type": "code",
   "source": [
    "trw_file = path_manager.get_data_file(Category.PS, PSFile.TRW)\n",
    "trw_dataset = Dataset(config_file, trw_file.sheet)\n",
    "trw = get_df(trw_file.path, trw_file.sheet)\n",
    "trw.insert(0, 'min_date', (trw[trw_dataset.dvars].min(axis=1)))\n",
    "trw.insert(1, 'max_date', (trw[trw_dataset.dvars].max(axis=1)))\n",
    "trw.insert(2, 'service', 'trw')\n",
    "trw = trw[['min_date', 'max_date', 'service', 'rid']].sort_values(by='min_date')"
   ],
   "metadata": {
    "collapsed": false
   },
   "id": "c13a4d9c282a1b1d",
   "outputs": [],
   "execution_count": null
  },
  {
   "cell_type": "code",
   "source": "# trw",
   "metadata": {
    "collapsed": false
   },
   "id": "bd8f51e5bf4eed9e",
   "outputs": [],
   "execution_count": null
  },
  {
   "cell_type": "code",
   "source": "trw_24 = filter_dataframe_on_date(trw, ['min_date', 'max_date'], pd.to_datetime('2024-04-01'), pd.to_datetime('2024-06-30'))",
   "metadata": {
    "collapsed": false
   },
   "id": "1ab788bdf3408d20",
   "outputs": [],
   "execution_count": null
  },
  {
   "metadata": {},
   "cell_type": "code",
   "source": "# trw_24",
   "id": "2b974ddb15e703e4",
   "outputs": [],
   "execution_count": null
  },
  {
   "cell_type": "code",
   "source": "# unique_trw_24 = trw_24.drop_duplicates(subset='rid')",
   "metadata": {
    "collapsed": false
   },
   "id": "d4999658b45abf79",
   "outputs": [],
   "execution_count": null
  },
  {
   "cell_type": "code",
   "source": "# unique_trw_24",
   "metadata": {
    "collapsed": false
   },
   "id": "2bba2ab9a8c77128",
   "outputs": [],
   "execution_count": null
  },
  {
   "cell_type": "markdown",
   "source": [
    "# PEI"
   ],
   "metadata": {
    "collapsed": false
   },
   "id": "accef585881c649d"
  },
  {
   "cell_type": "code",
   "source": [
    "pei_file = path_manager.get_data_file(Category.PS, PSFile.PEI)\n",
    "pei_dataset = Dataset(config_file, pei_file.sheet)\n",
    "pei = get_df(pei_file.path, pei_file.sheet)\n",
    "pei.insert(0, 'min_date', (pei[pei_dataset.dvars].min(axis=1)))\n",
    "pei.insert(1, 'max_date', (pei[pei_dataset.dvars].max(axis=1)))\n",
    "pei.insert(2, 'service', 'pei')\n",
    "pei = pei[['min_date', 'max_date', 'service', 'rid']].sort_values(by='min_date')"
   ],
   "metadata": {
    "collapsed": false
   },
   "id": "cfab508443787385",
   "outputs": [],
   "execution_count": null
  },
  {
   "metadata": {},
   "cell_type": "code",
   "source": "# pei",
   "id": "3607080014a7d6bd",
   "outputs": [],
   "execution_count": null
  },
  {
   "cell_type": "code",
   "source": "pei_24 = filter_dataframe_on_date(pei, ['min_date', 'max_date'], pd.to_datetime('2024-04-01'), pd.to_datetime('2024-06-30'))",
   "metadata": {
    "collapsed": false
   },
   "id": "7b6afc7e5dd0b47a",
   "outputs": [],
   "execution_count": null
  },
  {
   "metadata": {},
   "cell_type": "code",
   "source": "# pei_24",
   "id": "c6c6f72c2d026ae3",
   "outputs": [],
   "execution_count": null
  },
  {
   "cell_type": "code",
   "source": "# unique_pei_24 = pei_24.drop_duplicates(subset='rid')",
   "metadata": {
    "collapsed": false,
    "jupyter": {
     "is_executing": true
    }
   },
   "id": "79d8377c8dcefabf",
   "outputs": [],
   "execution_count": null
  },
  {
   "cell_type": "code",
   "source": "# unique_pei_24",
   "metadata": {
    "collapsed": false,
    "jupyter": {
     "is_executing": true
    }
   },
   "id": "6f0467bd3f91843",
   "outputs": [],
   "execution_count": null
  },
  {
   "cell_type": "markdown",
   "source": [
    "# TD"
   ],
   "metadata": {
    "collapsed": false
   },
   "id": "5b7d66d56937fff7"
  },
  {
   "cell_type": "code",
   "source": [
    "td_file = path_manager.get_data_file(Category.PS, PSFile.TD)\n",
    "td_dataset = Dataset(config_file, td_file.sheet)\n",
    "td = get_df(td_file.path, td_file.sheet)\n",
    "td.insert(0, 'min_date', (td[td_dataset.dvars].min(axis=1)))\n",
    "td.insert(1, 'max_date', (td[td_dataset.dvars].max(axis=1)))\n",
    "td.insert(2, 'service', 'td')\n",
    "td = td[['min_date', 'max_date', 'service', 'rid']].sort_values(by='min_date')"
   ],
   "metadata": {
    "collapsed": false,
    "jupyter": {
     "is_executing": true
    }
   },
   "id": "93da2b7a60d1db0",
   "outputs": [],
   "execution_count": null
  },
  {
   "metadata": {
    "jupyter": {
     "is_executing": true
    }
   },
   "cell_type": "code",
   "source": [
    "cdw_file = path_manager.get_data_file(Category.PS, PSFile.CDW)\n",
    "cdw_dataset = Dataset(config_file, cdw_file.sheet)\n",
    "cdw = get_df(cdw_file.path, cdw_file.sheet)\n",
    "cdw.insert(0, 'min_date', (cdw[cdw_dataset.dvars].min(axis=1)))\n",
    "cdw.insert(1, 'max_date', (cdw[cdw_dataset.dvars].max(axis=1)))\n",
    "cdw.insert(2, 'service', 'cdw')\n",
    "cdw = cdw[['min_date', 'max_date', 'service', 'rid']].sort_values(by='min_date')"
   ],
   "id": "c233cdebb33062c9",
   "outputs": [],
   "execution_count": null
  },
  {
   "metadata": {
    "jupyter": {
     "is_executing": true
    }
   },
   "cell_type": "code",
   "source": [
    "td_del = pd.read_excel(r'../td_tracker.xlsx')\n",
    "td_del = td_del[['Ref #', 'FC ID #', 'IU Del', 'Com Pub', 'Adv Partic']]\n",
    "td_del = td_del.rename(columns={'Ref #': 'rid', 'FC ID #': 'fcid', 'IU Del': 'iu_del', 'Com Pub': 'com_pub', 'Adv Partic': 'adv_par'})\n",
    "td_del.insert(0, 'min_date', (td_del[['iu_del', 'com_pub', 'adv_par']]).min(axis=1))\n",
    "td_del.insert(1, 'max_date', (td_del[['iu_del', 'com_pub', 'adv_par']]).max(axis=1))\n",
    "td_del.insert(2, 'service', 'td_del')\n",
    "td_del = td_del[['min_date', 'max_date', 'service', 'rid']].sort_values(by='min_date')"
   ],
   "id": "958e96ba00ea7241",
   "outputs": [],
   "execution_count": null
  },
  {
   "metadata": {
    "ExecuteTime": {
     "end_time": "2024-07-18T00:48:54.460007Z",
     "start_time": "2024-07-18T00:48:54.454070Z"
    }
   },
   "cell_type": "code",
   "source": "# td",
   "id": "139ced2be8248bf6",
   "outputs": [],
   "execution_count": 1
  },
  {
   "metadata": {
    "ExecuteTime": {
     "end_time": "2024-07-18T00:48:56.671101Z",
     "start_time": "2024-07-18T00:48:55.851907Z"
    }
   },
   "cell_type": "code",
   "source": [
    "td_dataframes = [td, cdw, td_del]\n",
    "td_paths = pd.concat(td_dataframes, ignore_index=True)"
   ],
   "id": "21f1cf0d80fa790b",
   "outputs": [
    {
     "ename": "NameError",
     "evalue": "name 'td' is not defined",
     "output_type": "error",
     "traceback": [
      "\u001B[1;31m---------------------------------------------------------------------------\u001B[0m",
      "\u001B[1;31mNameError\u001B[0m                                 Traceback (most recent call last)",
      "Cell \u001B[1;32mIn[2], line 1\u001B[0m\n\u001B[1;32m----> 1\u001B[0m td_dataframes \u001B[38;5;241m=\u001B[39m [td, cdw, td_del]\n\u001B[0;32m      2\u001B[0m td_paths \u001B[38;5;241m=\u001B[39m pd\u001B[38;5;241m.\u001B[39mconcat(td_dataframes, ignore_index\u001B[38;5;241m=\u001B[39m\u001B[38;5;28;01mTrue\u001B[39;00m)\n",
      "\u001B[1;31mNameError\u001B[0m: name 'td' is not defined"
     ]
    }
   ],
   "execution_count": 2
  },
  {
   "metadata": {},
   "cell_type": "code",
   "source": "td_paths",
   "id": "6a0fa1b58073510c",
   "outputs": [],
   "execution_count": null
  },
  {
   "cell_type": "code",
   "source": "td_paths_24 = filter_dataframe_on_date(td, ['min_date', 'max_date'], pd.to_datetime('2024-04-01'), pd.to_datetime('2024-06-30'))",
   "metadata": {
    "collapsed": false
   },
   "id": "138b8728193b8bb4",
   "outputs": [],
   "execution_count": null
  },
  {
   "metadata": {},
   "cell_type": "code",
   "source": "td_paths_24",
   "id": "23a1be0107fd071c",
   "outputs": [],
   "execution_count": null
  },
  {
   "metadata": {},
   "cell_type": "code",
   "source": "unique_td_paths_24 = td_paths_24.drop_duplicates(subset='rid')",
   "id": "5f061f8b2eba2c78",
   "outputs": [],
   "execution_count": null
  },
  {
   "metadata": {},
   "cell_type": "code",
   "source": "# td_24",
   "id": "810d4598ed832db5",
   "outputs": [],
   "execution_count": null
  },
  {
   "cell_type": "code",
   "source": "# unique_td_24 = td_24.drop_duplicates(subset='rid')",
   "metadata": {
    "collapsed": false
   },
   "id": "122370d7f7751cad",
   "outputs": [],
   "execution_count": null
  },
  {
   "cell_type": "code",
   "source": "# unique_td_24",
   "metadata": {
    "collapsed": false
   },
   "id": "621400cc2245cf9",
   "outputs": [],
   "execution_count": null
  },
  {
   "metadata": {},
   "cell_type": "markdown",
   "source": "##### We need to count beneficiaries of CDW, UI Del, Comm, and Adv, and referrals.",
   "id": "61b71faf60f52414"
  },
  {
   "metadata": {},
   "cell_type": "code",
   "source": "",
   "id": "1e24df1af7ff6732",
   "outputs": [],
   "execution_count": null
  },
  {
   "cell_type": "markdown",
   "source": [
    "# Physiotherapy"
   ],
   "metadata": {
    "collapsed": false
   },
   "id": "24c916903de26388"
  },
  {
   "cell_type": "markdown",
   "source": "###### PSFS is commented because it shouldn't be counted here. The same as Screening",
   "metadata": {
    "collapsed": false
   },
   "id": "ea1afcb2b443acf4"
  },
  {
   "cell_type": "code",
   "source": [
    "ptint_file = path_manager.get_data_file(Category.PT, PTFile.PTNT)\n",
    "ptint_dataset = Dataset(config_file, ptint_file.sheet)\n",
    "ptint = get_df(ptint_file.path, ptint_file.sheet)\n",
    "ptint.insert(0, 'min_date', (ptint[ptint_dataset.dvars].min(axis=1)))\n",
    "ptint.insert(1, 'max_date', (ptint[ptint_dataset.dvars].max(axis=1)))\n",
    "ptint.insert(2, 'service', 'ptint')\n",
    "ptint = ptint[['min_date', 'max_date', 'service', 'rid']].sort_values(by='min_date')"
   ],
   "metadata": {
    "collapsed": false
   },
   "id": "a4c5c88d012c57a8",
   "outputs": [],
   "execution_count": null
  },
  {
   "cell_type": "code",
   "source": [
    "ptg_file = path_manager.get_data_file(Category.PT, PTFile.PTG)\n",
    "ptg_dataset = Dataset(config_file, ptg_file.sheet)\n",
    "ptg = get_df(ptg_file.path, ptg_file.sheet)\n",
    "ptg.insert(0, 'min_date', (ptg[ptg_dataset.dvars].min(axis=1)))\n",
    "ptg.insert(1, 'max_date', (ptg[ptg_dataset.dvars].max(axis=1)))\n",
    "ptg.insert(2, 'service', 'ptg')\n",
    "ptg = ptg[['min_date', 'max_date', 'service', 'rid']]"
   ],
   "metadata": {
    "collapsed": false
   },
   "id": "8f4cbe06c0cc04c6",
   "outputs": [],
   "execution_count": null
  },
  {
   "cell_type": "code",
   "source": [
    "pti_file = path_manager.get_data_file(Category.PT, PTFile.PTI)\n",
    "pti_dataset = Dataset(config_file, pti_file.sheet)\n",
    "pti = get_df(pti_file.path, pti_file.sheet)\n",
    "pti.insert(0, 'min_date', (pti[pti_dataset.dvars].min(axis=1)))\n",
    "pti.insert(1, 'max_date', (pti[pti_dataset.dvars].max(axis=1)))\n",
    "pti.insert(2, 'service', 'pti')\n",
    "pti = pti[['min_date', 'max_date', 'service', 'rid']]"
   ],
   "metadata": {
    "collapsed": false
   },
   "id": "5e2878a821f478a8",
   "outputs": [],
   "execution_count": null
  },
  {
   "cell_type": "code",
   "source": [
    "ptfua_file = path_manager.get_data_file(Category.PT, PTFile.PTFU)\n",
    "ptfua_dataset = Dataset(config_file, ptfua_file.sheet)\n",
    "ptfua = get_df(ptfua_file.path, ptfua_file.sheet)\n",
    "ptfua.insert(0, 'min_date', (ptfua[ptfua_dataset.dvars].min(axis=1)))\n",
    "ptfua.insert(1, 'max_date', (ptfua[ptfua_dataset.dvars].max(axis=1)))\n",
    "ptfua.insert(2, 'service', 'ptfua')\n",
    "ptfua = ptfua[['min_date', 'max_date', 'service', 'rid']]"
   ],
   "metadata": {
    "collapsed": false,
    "ExecuteTime": {
     "end_time": "2024-07-18T00:48:56.716482Z",
     "start_time": "2024-07-18T00:48:56.691146Z"
    }
   },
   "id": "1a91bd114b2459cb",
   "outputs": [
    {
     "ename": "NameError",
     "evalue": "name 'path_manager' is not defined",
     "output_type": "error",
     "traceback": [
      "\u001B[1;31m---------------------------------------------------------------------------\u001B[0m",
      "\u001B[1;31mNameError\u001B[0m                                 Traceback (most recent call last)",
      "Cell \u001B[1;32mIn[3], line 1\u001B[0m\n\u001B[1;32m----> 1\u001B[0m ptfua_file \u001B[38;5;241m=\u001B[39m path_manager\u001B[38;5;241m.\u001B[39mget_data_file(Category\u001B[38;5;241m.\u001B[39mPT, PTFile\u001B[38;5;241m.\u001B[39mPTFU)\n\u001B[0;32m      2\u001B[0m ptfua_dataset \u001B[38;5;241m=\u001B[39m Dataset(config_file, ptfua_file\u001B[38;5;241m.\u001B[39msheet)\n\u001B[0;32m      3\u001B[0m ptfua \u001B[38;5;241m=\u001B[39m get_df(ptfua_file\u001B[38;5;241m.\u001B[39mpath, ptfua_file\u001B[38;5;241m.\u001B[39msheet)\n",
      "\u001B[1;31mNameError\u001B[0m: name 'path_manager' is not defined"
     ]
    }
   ],
   "execution_count": 3
  },
  {
   "cell_type": "code",
   "source": [
    "pt_dataframes = [ptint, ptg, pti, ptfua]\n",
    "pt = pd.concat(pt_dataframes, ignore_index=True)"
   ],
   "metadata": {
    "collapsed": false,
    "ExecuteTime": {
     "end_time": "2024-07-18T00:48:56.805036Z",
     "start_time": "2024-07-18T00:48:56.784637Z"
    }
   },
   "id": "fbd210d029e8f06e",
   "outputs": [
    {
     "ename": "NameError",
     "evalue": "name 'ptint' is not defined",
     "output_type": "error",
     "traceback": [
      "\u001B[1;31m---------------------------------------------------------------------------\u001B[0m",
      "\u001B[1;31mNameError\u001B[0m                                 Traceback (most recent call last)",
      "Cell \u001B[1;32mIn[4], line 1\u001B[0m\n\u001B[1;32m----> 1\u001B[0m pt_dataframes \u001B[38;5;241m=\u001B[39m [ptint, ptg, pti, ptfua]\n\u001B[0;32m      2\u001B[0m pt \u001B[38;5;241m=\u001B[39m pd\u001B[38;5;241m.\u001B[39mconcat(pt_dataframes, ignore_index\u001B[38;5;241m=\u001B[39m\u001B[38;5;28;01mTrue\u001B[39;00m)\n",
      "\u001B[1;31mNameError\u001B[0m: name 'ptint' is not defined"
     ]
    }
   ],
   "execution_count": 4
  },
  {
   "metadata": {
    "ExecuteTime": {
     "end_time": "2024-07-18T00:48:56.877196Z",
     "start_time": "2024-07-18T00:48:56.873106Z"
    }
   },
   "cell_type": "code",
   "source": "# pt",
   "id": "51bc6199c2fac9f3",
   "outputs": [],
   "execution_count": 5
  },
  {
   "cell_type": "code",
   "source": "pt_24 = filter_dataframe_on_date(pt, ['min_date', 'max_date'], pd.to_datetime('2024-04-01'), pd.to_datetime('2024-06-30'))\n",
   "metadata": {
    "collapsed": false,
    "ExecuteTime": {
     "end_time": "2024-07-18T00:48:57.079421Z",
     "start_time": "2024-07-18T00:48:57.057230Z"
    }
   },
   "id": "2f121e90dbb57cb9",
   "outputs": [
    {
     "ename": "NameError",
     "evalue": "name 'filter_dataframe_on_date' is not defined",
     "output_type": "error",
     "traceback": [
      "\u001B[1;31m---------------------------------------------------------------------------\u001B[0m",
      "\u001B[1;31mNameError\u001B[0m                                 Traceback (most recent call last)",
      "Cell \u001B[1;32mIn[6], line 1\u001B[0m\n\u001B[1;32m----> 1\u001B[0m pt_24 \u001B[38;5;241m=\u001B[39m filter_dataframe_on_date(pt, [\u001B[38;5;124m'\u001B[39m\u001B[38;5;124mmin_date\u001B[39m\u001B[38;5;124m'\u001B[39m, \u001B[38;5;124m'\u001B[39m\u001B[38;5;124mmax_date\u001B[39m\u001B[38;5;124m'\u001B[39m], pd\u001B[38;5;241m.\u001B[39mto_datetime(\u001B[38;5;124m'\u001B[39m\u001B[38;5;124m2024-04-01\u001B[39m\u001B[38;5;124m'\u001B[39m), pd\u001B[38;5;241m.\u001B[39mto_datetime(\u001B[38;5;124m'\u001B[39m\u001B[38;5;124m2024-06-30\u001B[39m\u001B[38;5;124m'\u001B[39m))\n",
      "\u001B[1;31mNameError\u001B[0m: name 'filter_dataframe_on_date' is not defined"
     ]
    }
   ],
   "execution_count": 6
  },
  {
   "metadata": {
    "ExecuteTime": {
     "end_time": "2024-07-18T00:48:57.291446Z",
     "start_time": "2024-07-18T00:48:57.288236Z"
    }
   },
   "cell_type": "code",
   "source": "# pt_24",
   "id": "aba80f1afed709dd",
   "outputs": [],
   "execution_count": 7
  },
  {
   "cell_type": "code",
   "source": [
    "unique_pt_24 = pt_24.drop_duplicates(subset='rid')"
   ],
   "metadata": {
    "collapsed": false,
    "ExecuteTime": {
     "end_time": "2024-07-18T00:48:57.394388Z",
     "start_time": "2024-07-18T00:48:57.372819Z"
    }
   },
   "id": "f7ec6b56b4304ced",
   "outputs": [
    {
     "ename": "NameError",
     "evalue": "name 'pt_24' is not defined",
     "output_type": "error",
     "traceback": [
      "\u001B[1;31m---------------------------------------------------------------------------\u001B[0m",
      "\u001B[1;31mNameError\u001B[0m                                 Traceback (most recent call last)",
      "Cell \u001B[1;32mIn[8], line 1\u001B[0m\n\u001B[1;32m----> 1\u001B[0m unique_pt_24 \u001B[38;5;241m=\u001B[39m pt_24\u001B[38;5;241m.\u001B[39mdrop_duplicates(subset\u001B[38;5;241m=\u001B[39m\u001B[38;5;124m'\u001B[39m\u001B[38;5;124mrid\u001B[39m\u001B[38;5;124m'\u001B[39m)\n",
      "\u001B[1;31mNameError\u001B[0m: name 'pt_24' is not defined"
     ]
    }
   ],
   "execution_count": 8
  },
  {
   "cell_type": "code",
   "source": "# unique_pt_24",
   "metadata": {
    "collapsed": false,
    "ExecuteTime": {
     "end_time": "2024-07-18T00:48:57.525721Z",
     "start_time": "2024-07-18T00:48:57.520951Z"
    }
   },
   "id": "4fd15f5b44d11d92",
   "outputs": [],
   "execution_count": 9
  },
  {
   "metadata": {},
   "cell_type": "markdown",
   "source": "# Case Management",
   "id": "f565a11abfa59f"
  },
  {
   "metadata": {
    "ExecuteTime": {
     "end_time": "2024-07-18T00:48:57.708854Z",
     "start_time": "2024-07-18T00:48:57.683127Z"
    }
   },
   "cell_type": "code",
   "source": [
    "cm = pd.read_excel(r'../referrals.xlsx')\n",
    "cm = cm[['referral_ID', 'FC_ID', 'referralDate']]\n",
    "cm = cm.rename(columns={'referral_ID': 'rid', 'FC_ID': 'fcid', 'referralDate': 'date'})\n",
    "cm.insert(0, 'min_date', cm['date'])\n",
    "cm.insert(1, 'max_date', cm['date'])\n",
    "cm.insert(2, 'service', 'cm')\n",
    "cm = cm[['min_date', 'max_date', 'service', 'rid']].sort_values(by='min_date')"
   ],
   "id": "ec487bb2e97ad0bf",
   "outputs": [
    {
     "ename": "NameError",
     "evalue": "name 'pd' is not defined",
     "output_type": "error",
     "traceback": [
      "\u001B[1;31m---------------------------------------------------------------------------\u001B[0m",
      "\u001B[1;31mNameError\u001B[0m                                 Traceback (most recent call last)",
      "Cell \u001B[1;32mIn[10], line 1\u001B[0m\n\u001B[1;32m----> 1\u001B[0m cm \u001B[38;5;241m=\u001B[39m pd\u001B[38;5;241m.\u001B[39mread_excel(\u001B[38;5;124mr\u001B[39m\u001B[38;5;124m'\u001B[39m\u001B[38;5;124m../referrals.xlsx\u001B[39m\u001B[38;5;124m'\u001B[39m)\n\u001B[0;32m      2\u001B[0m cm \u001B[38;5;241m=\u001B[39m cm[[\u001B[38;5;124m'\u001B[39m\u001B[38;5;124mreferral_ID\u001B[39m\u001B[38;5;124m'\u001B[39m, \u001B[38;5;124m'\u001B[39m\u001B[38;5;124mFC_ID\u001B[39m\u001B[38;5;124m'\u001B[39m, \u001B[38;5;124m'\u001B[39m\u001B[38;5;124mreferralDate\u001B[39m\u001B[38;5;124m'\u001B[39m]]\n\u001B[0;32m      3\u001B[0m cm \u001B[38;5;241m=\u001B[39m cm\u001B[38;5;241m.\u001B[39mrename(columns\u001B[38;5;241m=\u001B[39m{\u001B[38;5;124m'\u001B[39m\u001B[38;5;124mreferral_ID\u001B[39m\u001B[38;5;124m'\u001B[39m: \u001B[38;5;124m'\u001B[39m\u001B[38;5;124mrid\u001B[39m\u001B[38;5;124m'\u001B[39m, \u001B[38;5;124m'\u001B[39m\u001B[38;5;124mFC_ID\u001B[39m\u001B[38;5;124m'\u001B[39m: \u001B[38;5;124m'\u001B[39m\u001B[38;5;124mfcid\u001B[39m\u001B[38;5;124m'\u001B[39m, \u001B[38;5;124m'\u001B[39m\u001B[38;5;124mreferralDate\u001B[39m\u001B[38;5;124m'\u001B[39m: \u001B[38;5;124m'\u001B[39m\u001B[38;5;124mdate\u001B[39m\u001B[38;5;124m'\u001B[39m})\n",
      "\u001B[1;31mNameError\u001B[0m: name 'pd' is not defined"
     ]
    }
   ],
   "execution_count": 10
  },
  {
   "metadata": {
    "ExecuteTime": {
     "end_time": "2024-07-18T00:48:57.829886Z",
     "start_time": "2024-07-18T00:48:57.807872Z"
    }
   },
   "cell_type": "code",
   "source": "cm_24 = filter_dataframe_on_date(cm, 'min_date', pd.to_datetime('2024-04-01'), pd.to_datetime('2024-06-30'))",
   "id": "2f42eb323a6726f8",
   "outputs": [
    {
     "ename": "NameError",
     "evalue": "name 'filter_dataframe_on_date' is not defined",
     "output_type": "error",
     "traceback": [
      "\u001B[1;31m---------------------------------------------------------------------------\u001B[0m",
      "\u001B[1;31mNameError\u001B[0m                                 Traceback (most recent call last)",
      "Cell \u001B[1;32mIn[11], line 1\u001B[0m\n\u001B[1;32m----> 1\u001B[0m cm_24 \u001B[38;5;241m=\u001B[39m filter_dataframe_on_date(cm, \u001B[38;5;124m'\u001B[39m\u001B[38;5;124mmin_date\u001B[39m\u001B[38;5;124m'\u001B[39m, pd\u001B[38;5;241m.\u001B[39mto_datetime(\u001B[38;5;124m'\u001B[39m\u001B[38;5;124m2024-04-01\u001B[39m\u001B[38;5;124m'\u001B[39m), pd\u001B[38;5;241m.\u001B[39mto_datetime(\u001B[38;5;124m'\u001B[39m\u001B[38;5;124m2024-06-30\u001B[39m\u001B[38;5;124m'\u001B[39m))\n",
      "\u001B[1;31mNameError\u001B[0m: name 'filter_dataframe_on_date' is not defined"
     ]
    }
   ],
   "execution_count": 11
  },
  {
   "metadata": {},
   "cell_type": "markdown",
   "source": "There are at least 8 people in CM who has no screening records! This needs to be checked.",
   "id": "943c26f9771bf2b4"
  },
  {
   "cell_type": "markdown",
   "source": [
    "# Total Service"
   ],
   "metadata": {
    "collapsed": false
   },
   "id": "4b6907bdfe2c5ac9"
  },
  {
   "cell_type": "code",
   "source": "mhpss_24 = pd.concat([unique_ps_24, trw_24, pei_24, unique_td_paths_24, unique_pt_24, cm_24], ignore_index=True)",
   "metadata": {
    "collapsed": false
   },
   "id": "821115150d1ecddb",
   "outputs": [],
   "execution_count": null
  },
  {
   "metadata": {},
   "cell_type": "markdown",
   "source": "### mhpss_24 is the total number of beneficiaries for HSH. Not the unique of it",
   "id": "3536188d49084ced"
  },
  {
   "cell_type": "code",
   "source": [
    "mhpss_24"
   ],
   "metadata": {
    "collapsed": false
   },
   "id": "322509234a12acef",
   "outputs": [],
   "execution_count": null
  },
  {
   "metadata": {},
   "cell_type": "markdown",
   "source": "========================================================================================================",
   "id": "cf5d2c1cae45cd56"
  },
  {
   "cell_type": "code",
   "source": "# unq_mhpss_24 = mhpss_24.drop_duplicates(subset='rid')",
   "metadata": {
    "collapsed": false
   },
   "id": "7278f8110af0b142",
   "outputs": [],
   "execution_count": null
  },
  {
   "cell_type": "code",
   "source": "# unq_mhpss_24",
   "metadata": {
    "collapsed": false
   },
   "id": "6945f4e6830bea83",
   "outputs": [],
   "execution_count": null
  },
  {
   "cell_type": "code",
   "source": "mhpss_24 = pd.merge(mhpss_24, scr[['rid', 'sex', 'age']], on='rid', how='left')",
   "metadata": {
    "collapsed": false
   },
   "id": "4fa30c46367d1b32",
   "outputs": [],
   "execution_count": null
  },
  {
   "cell_type": "code",
   "source": "mhpss_24",
   "metadata": {
    "collapsed": false
   },
   "id": "9e571d2e00b9f535",
   "outputs": [],
   "execution_count": null
  },
  {
   "cell_type": "code",
   "source": [],
   "metadata": {
    "collapsed": false
   },
   "id": "79f57086f8e8c6ec",
   "outputs": [],
   "execution_count": null
  },
  {
   "cell_type": "code",
   "source": "# unq_mhpss_24['rid'].nunique()",
   "metadata": {
    "collapsed": false
   },
   "id": "408833adc267cbcc",
   "outputs": [],
   "execution_count": null
  },
  {
   "cell_type": "code",
   "source": "mhpss_24['sex'].value_counts(dropna=False)",
   "metadata": {
    "collapsed": false
   },
   "id": "62fd8071273c923f",
   "outputs": [],
   "execution_count": null
  },
  {
   "metadata": {},
   "cell_type": "markdown",
   "source": "# Counting Survivor of Torture Beneficiaries",
   "id": "2ccb964e05d88c74"
  },
  {
   "cell_type": "code",
   "source": "intake_assessment = get_df(int_file.path, int_file.sheet)",
   "metadata": {
    "collapsed": false
   },
   "id": "43e0eb142a488909",
   "outputs": [],
   "execution_count": null
  },
  {
   "cell_type": "code",
   "source": "# intake_assessment",
   "metadata": {
    "collapsed": false
   },
   "id": "a37b3d2d6a1fa049",
   "outputs": [],
   "execution_count": null
  },
  {
   "cell_type": "code",
   "source": "victimhood_columns = intake_dataset.bovars + ['rid']",
   "metadata": {
    "collapsed": false
   },
   "id": "2e2d0e667744961b",
   "outputs": [],
   "execution_count": null
  },
  {
   "metadata": {},
   "cell_type": "code",
   "source": "int_ass_pts_sts = intake_assessment[victimhood_columns][['rid','primary_torture', 'secondary_torture', 'stgbv']].drop_duplicates(subset='rid')",
   "id": "ca46db607dc2e68a",
   "outputs": [],
   "execution_count": null
  },
  {
   "cell_type": "code",
   "source": [
    "# Unique MHPSS 24 with Victimhood [primary torture, secondary torture] Columns\n",
    "v_mhpss_24 = pd.merge(mhpss_24, int_ass_pts_sts, on='rid', how='left')"
   ],
   "metadata": {
    "collapsed": false
   },
   "id": "b47e0c23fefad82a",
   "outputs": [],
   "execution_count": null
  },
  {
   "cell_type": "code",
   "source": "v_mhpss_24",
   "metadata": {
    "collapsed": false
   },
   "id": "b762e729e691fc5a",
   "outputs": [],
   "execution_count": null
  },
  {
   "cell_type": "code",
   "source": "v_mhpss_24_ts = v_mhpss_24[(v_mhpss_24['primary_torture'] == 'Yes') | (v_mhpss_24['secondary_torture'] == 'Yes')]",
   "metadata": {
    "collapsed": false
   },
   "id": "60f23a1cf503da52",
   "outputs": [],
   "execution_count": null
  },
  {
   "cell_type": "code",
   "source": "v_mhpss_24_ts",
   "metadata": {
    "collapsed": false
   },
   "id": "e88a8ae33a76b84b",
   "outputs": [],
   "execution_count": null
  },
  {
   "cell_type": "code",
   "source": [
    "v_mhpss_24[~((v_mhpss_24['primary_torture'] == 'Yes') | (v_mhpss_24['secondary_torture'] == 'Yes'))]\n",
    "# After getting beneficiaries who are not PTS or STS, I crossed their RID with UNVFVT 24 Dataset, which contains TRW and PEI Beneficiaries of PTS and STS. This is for getting the all number of beneficiaries who are PTS or STS."
   ],
   "metadata": {
    "collapsed": false
   },
   "id": "4900cf17c214c6cb",
   "outputs": [],
   "execution_count": null
  },
  {
   "metadata": {},
   "cell_type": "code",
   "source": "",
   "id": "f33056adae4ad4f5",
   "outputs": [],
   "execution_count": null
  },
  {
   "cell_type": "code",
   "source": "v_mhpss_24[(v_mhpss_24['stgbv'] == 'Yes')]",
   "metadata": {
    "collapsed": false
   },
   "id": "f4c6715787219640",
   "outputs": [],
   "execution_count": null
  },
  {
   "cell_type": "code",
   "source": [],
   "metadata": {
    "collapsed": false
   },
   "id": "c69870051299e5ac",
   "outputs": [],
   "execution_count": null
  },
  {
   "cell_type": "markdown",
   "source": [
    "# AW"
   ],
   "metadata": {
    "collapsed": false
   },
   "id": "2c5482abd78e09a0"
  },
  {
   "cell_type": "code",
   "source": [
    "aww_file = path_manager.get_data_file(Category.PS, PSFile.AWW)\n",
    "aww_dataset = Dataset(config_file, aww_file.sheet)\n",
    "aww = get_df(aww_file.path, aww_file.sheet)\n",
    "aww.insert(0, 'min_date', (aww[aww_dataset.dvars].min(axis=1)))\n",
    "aww.insert(1, 'max_date', (aww[aww_dataset.dvars].max(axis=1)))\n",
    "aww.insert(2, 'service', 'aw')\n",
    "aww = aww[['min_date', 'max_date', 'service', 'rid']]"
   ],
   "metadata": {
    "collapsed": false
   },
   "id": "2912be6719adedd3",
   "outputs": [],
   "execution_count": null
  },
  {
   "cell_type": "code",
   "source": "aww_24 = filter_dataframe_on_date(aww, ['min_date', 'max_date'], pd.to_datetime('2024-04-01'), pd.to_datetime('2024-06-30'))\n",
   "metadata": {
    "collapsed": false
   },
   "id": "c60028d2cd2fb04",
   "outputs": [],
   "execution_count": null
  },
  {
   "cell_type": "code",
   "source": "aww_24",
   "metadata": {
    "collapsed": false
   },
   "id": "2dd1bae9082db29d",
   "outputs": [],
   "execution_count": null
  },
  {
   "cell_type": "code",
   "source": [],
   "metadata": {
    "collapsed": false
   },
   "id": "283169c94abe5adc",
   "outputs": [],
   "execution_count": null
  }
 ],
 "metadata": {
  "kernelspec": {
   "display_name": "Python 3",
   "language": "python",
   "name": "python3"
  },
  "language_info": {
   "codemirror_mode": {
    "name": "ipython",
    "version": 2
   },
   "file_extension": ".py",
   "mimetype": "text/x-python",
   "name": "python",
   "nbconvert_exporter": "python",
   "pygments_lexer": "ipython2",
   "version": "2.7.6"
  }
 },
 "nbformat": 4,
 "nbformat_minor": 5
}
