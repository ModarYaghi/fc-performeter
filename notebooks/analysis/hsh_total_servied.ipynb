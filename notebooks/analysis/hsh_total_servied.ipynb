{
 "cells": [
  {
   "cell_type": "code",
   "execution_count": 1,
   "id": "initial_id",
   "metadata": {
    "collapsed": true
   },
   "outputs": [
    {
     "name": "stdout",
     "output_type": "stream",
     "text": [
      "No password for tt_pt_FM_v04.11.xlsx\n"
     ]
    }
   ],
   "source": [
    "import pandas as pd\n",
    "from src.all_in_one import *\n",
    "from src.analysis_functions import *"
   ]
  },
  {
   "cell_type": "code",
   "execution_count": 12,
   "id": "511679be",
   "metadata": {},
   "outputs": [],
   "source": [
    "START_DATE = pd.to_datetime(\"2024-10-01\")\n",
    "END_DATE = pd.to_datetime(\"2025-01-01\")"
   ]
  },
  {
   "cell_type": "code",
   "execution_count": 2,
   "id": "48da10baa38e26ef",
   "metadata": {
    "collapsed": false
   },
   "outputs": [],
   "source": [
    "scr_file = path_manager.get_data_file(Category.PS, PSFile.SCR)\n",
    "scr = get_df(scr_file.path, scr_file.sheet)\n",
    "scr = scr.drop_duplicates(subset=\"rid\")"
   ]
  },
  {
   "cell_type": "markdown",
   "id": "f57b016500965610",
   "metadata": {
    "collapsed": false
   },
   "source": [
    "# Psychotherapy"
   ]
  },
  {
   "cell_type": "code",
   "execution_count": 3,
   "id": "6cc9b03e64627bc9",
   "metadata": {
    "collapsed": false
   },
   "outputs": [],
   "source": [
    "int_file = path_manager.get_data_file(Category.PS, PSFile.PSNT)\n",
    "intake_dataset = Dataset(config_file, int_file.sheet)\n",
    "intake = get_df(int_file.path, int_file.sheet)\n",
    "intake.insert(0, \"min_date\", (intake[intake_dataset.dvars].min(axis=1)))\n",
    "intake.insert(1, \"max_date\", (intake[intake_dataset.dvars].max(axis=1)))\n",
    "intake.insert(2, \"service\", \"int\")\n",
    "intake = intake[[\"min_date\", \"max_date\", \"service\", \"rid\"]].sort_values(by=\"min_date\")"
   ]
  },
  {
   "cell_type": "code",
   "execution_count": 4,
   "id": "51a91e7e20b128da",
   "metadata": {
    "collapsed": false
   },
   "outputs": [],
   "source": [
    "gc_file = path_manager.get_data_file(Category.PS, PSFile.PSG)\n",
    "date_vars = [\n",
    "    \"gc_s1\",\n",
    "    \"gc_s2\",\n",
    "    \"gc_s3\",\n",
    "    \"gc_s4\",\n",
    "    \"gc_s5\",\n",
    "    \"gc_s6\",\n",
    "    \"gc_s7\",\n",
    "    \"gc_s8\",\n",
    "    \"gc_s9\",\n",
    "    \"gc_10\",\n",
    "]\n",
    "gc_dataset = Dataset(config_file, gc_file.sheet)\n",
    "gc = get_df(gc_file.path, gc_file.sheet)\n",
    "gc.insert(0, \"min_date\", (gc[date_vars].min(axis=1)))\n",
    "gc.insert(1, \"max_date\", (gc[date_vars].max(axis=1)))\n",
    "gc.insert(2, \"service\", \"gc\")\n",
    "gc = gc[[\"min_date\", \"max_date\", \"service\", \"rid\"]]"
   ]
  },
  {
   "cell_type": "code",
   "execution_count": 5,
   "id": "2f059c51ab384855",
   "metadata": {
    "collapsed": false
   },
   "outputs": [],
   "source": [
    "ic_file = path_manager.get_data_file(Category.PS, PSFile.PSI)\n",
    "ic_dataset = Dataset(config_file, ic_file.sheet)\n",
    "ic = get_df(ic_file.path, ic_file.sheet)\n",
    "ic.insert(0, \"min_date\", (ic[ic_dataset.dvars].min(axis=1)))\n",
    "ic.insert(1, \"max_date\", (ic[ic_dataset.dvars].max(axis=1)))\n",
    "ic.insert(2, \"service\", \"ic\")\n",
    "ic = ic[[\"min_date\", \"max_date\", \"service\", \"rid\"]]"
   ]
  },
  {
   "cell_type": "code",
   "execution_count": 6,
   "id": "52130ed7a9cc182b",
   "metadata": {
    "collapsed": false
   },
   "outputs": [],
   "source": [
    "psfua_file = path_manager.get_data_file(Category.PS, PSFile.PSFU)\n",
    "psfua_dataset = Dataset(config_file, psfua_file.sheet)\n",
    "psfua = get_df(psfua_file.path, psfua_file.sheet)\n",
    "psfua.insert(0, \"min_date\", (psfua[psfua_dataset.dvars].min(axis=1)))\n",
    "psfua.insert(1, \"max_date\", (psfua[psfua_dataset.dvars].max(axis=1)))\n",
    "psfua.insert(2, \"service\", \"psfua\")\n",
    "psfua = psfua[[\"min_date\", \"max_date\", \"service\", \"rid\"]]"
   ]
  },
  {
   "cell_type": "code",
   "execution_count": 7,
   "id": "29472b7ec76fd25b",
   "metadata": {
    "collapsed": false
   },
   "outputs": [],
   "source": [
    "ps_dataframes = [intake, gc, ic, psfua]\n",
    "ps = pd.concat(ps_dataframes, ignore_index=True)"
   ]
  },
  {
   "cell_type": "code",
   "execution_count": 8,
   "id": "6ed0366db1467c8a",
   "metadata": {
    "collapsed": false
   },
   "outputs": [],
   "source": [
    "ps_24 = filter_dataframe_on_date(ps, [\"min_date\", \"max_date\"], START_DATE, END_DATE)"
   ]
  },
  {
   "cell_type": "code",
   "execution_count": 10,
   "id": "d1b0c8cbc9af6621",
   "metadata": {},
   "outputs": [],
   "source": [
    "unique_ps_24 = ps_24.drop_duplicates(subset=\"rid\")\n",
    "# unique_ps_24"
   ]
  },
  {
   "cell_type": "markdown",
   "id": "a918cb44a59a4973",
   "metadata": {
    "collapsed": false
   },
   "source": [
    "# TRW"
   ]
  },
  {
   "cell_type": "code",
   "execution_count": 11,
   "id": "c13a4d9c282a1b1d",
   "metadata": {
    "collapsed": false
   },
   "outputs": [],
   "source": [
    "trw_file = path_manager.get_data_file(Category.PS, PSFile.TRW)\n",
    "trw_dataset = Dataset(config_file, trw_file.sheet)\n",
    "trw = get_df(trw_file.path, trw_file.sheet)\n",
    "trw.insert(0, \"min_date\", (trw[trw_dataset.dvars].min(axis=1)))\n",
    "trw.insert(1, \"max_date\", (trw[trw_dataset.dvars].max(axis=1)))\n",
    "trw.insert(2, \"service\", \"trw\")\n",
    "trw = trw[[\"min_date\", \"max_date\", \"service\", \"rid\"]].sort_values(by=\"min_date\")"
   ]
  },
  {
   "cell_type": "code",
   "execution_count": 13,
   "id": "1ab788bdf3408d20",
   "metadata": {
    "collapsed": false
   },
   "outputs": [],
   "source": [
    "trw_24 = filter_dataframe_on_date(trw, [\"min_date\", \"max_date\"], START_DATE, END_DATE)\n",
    "# trw_24"
   ]
  },
  {
   "cell_type": "markdown",
   "id": "accef585881c649d",
   "metadata": {
    "collapsed": false
   },
   "source": [
    "# PEI"
   ]
  },
  {
   "cell_type": "code",
   "execution_count": 14,
   "id": "cfab508443787385",
   "metadata": {
    "collapsed": false
   },
   "outputs": [],
   "source": [
    "pei_file = path_manager.get_data_file(Category.PS, PSFile.PEI)\n",
    "pei_dataset = Dataset(config_file, pei_file.sheet)\n",
    "pei = get_df(pei_file.path, pei_file.sheet)\n",
    "pei.insert(0, \"min_date\", (pei[pei_dataset.dvars].min(axis=1)))\n",
    "pei.insert(1, \"max_date\", (pei[pei_dataset.dvars].max(axis=1)))\n",
    "pei.insert(2, \"service\", \"pei\")\n",
    "pei = pei[[\"min_date\", \"max_date\", \"service\", \"rid\"]].sort_values(by=\"min_date\")"
   ]
  },
  {
   "cell_type": "code",
   "execution_count": 15,
   "id": "7b6afc7e5dd0b47a",
   "metadata": {
    "collapsed": false
   },
   "outputs": [],
   "source": [
    "pei_24 = filter_dataframe_on_date(pei, [\"min_date\", \"max_date\"], START_DATE, END_DATE)\n",
    "# pei_24"
   ]
  },
  {
   "cell_type": "markdown",
   "id": "5b7d66d56937fff7",
   "metadata": {
    "collapsed": false
   },
   "source": [
    "# TD"
   ]
  },
  {
   "cell_type": "code",
   "execution_count": 16,
   "id": "93da2b7a60d1db0",
   "metadata": {
    "collapsed": false,
    "jupyter": {
     "is_executing": true
    }
   },
   "outputs": [],
   "source": [
    "td_file = path_manager.get_data_file(Category.PS, PSFile.TD)\n",
    "td_dataset = Dataset(config_file, td_file.sheet)\n",
    "td = get_df(td_file.path, td_file.sheet)\n",
    "td.insert(0, \"min_date\", (td[td_dataset.dvars].min(axis=1)))\n",
    "td.insert(1, \"max_date\", (td[td_dataset.dvars].max(axis=1)))\n",
    "td.insert(2, \"service\", \"td\")\n",
    "td = td[[\"min_date\", \"max_date\", \"service\", \"rid\"]].sort_values(by=\"min_date\")"
   ]
  },
  {
   "cell_type": "code",
   "execution_count": 26,
   "id": "c233cdebb33062c9",
   "metadata": {
    "jupyter": {
     "is_executing": true
    }
   },
   "outputs": [],
   "source": [
    "cdw_file = path_manager.get_data_file(Category.PS, PSFile.CWS)\n",
    "cdw_dataset = Dataset(config_file, cdw_file.sheet)\n",
    "cdw = get_df(cdw_file.path, cdw_file.sheet)\n",
    "cdw.insert(0, \"min_date\", (cdw[cdw_dataset.dvars].min(axis=1)))\n",
    "cdw.insert(1, \"max_date\", (cdw[cdw_dataset.dvars].max(axis=1)))\n",
    "cdw.insert(2, \"service\", \"cdw\")\n",
    "cdw = cdw[[\"min_date\", \"max_date\", \"service\", \"rid\"]].sort_values(by=\"min_date\")"
   ]
  },
  {
   "cell_type": "code",
   "execution_count": 24,
   "id": "47bda784",
   "metadata": {},
   "outputs": [],
   "source": [
    "# These lines to correct an error in a date entry.\n",
    "# cdw = pd.read_csv(cdw_file.path)\n",
    "# cdw.loc[cdw['cws_s2'] == '23-8-2-24', ['cws_s2']] = pd.to_datetime('2024-08-23')\n",
    "# cdw\n",
    "# cdw.to_csv(cdw_file.path, index=False)"
   ]
  },
  {
   "cell_type": "code",
   "execution_count": 27,
   "id": "958e96ba00ea7241",
   "metadata": {
    "jupyter": {
     "is_executing": true
    }
   },
   "outputs": [],
   "source": [
    "td_file_path = r\"data/raw/1224/other_services/TD Tracking Tools - December 2024.xlsx\"\n",
    "td_del = pd.read_excel(td_file_path)\n",
    "td_del = td_del[[\"Ref #\", \"FC ID #\", \"IU Del\", \"Com Pub\", \"Adv Partic\"]]\n",
    "td_del = td_del.rename(\n",
    "    columns={\n",
    "        \"Ref #\": \"rid\",\n",
    "        \"FC ID #\": \"fcid\",\n",
    "        \"IU Del\": \"iu_del\",\n",
    "        \"Com Pub\": \"com_pub\",\n",
    "        \"Adv Partic\": \"adv_par\",\n",
    "    }\n",
    ")\n",
    "td_del.insert(0, \"min_date\", (td_del[[\"iu_del\", \"com_pub\", \"adv_par\"]]).min(axis=1))\n",
    "td_del.insert(1, \"max_date\", (td_del[[\"iu_del\", \"com_pub\", \"adv_par\"]]).max(axis=1))\n",
    "td_del.insert(2, \"service\", \"td_del\")\n",
    "td_del = td_del[[\"min_date\", \"max_date\", \"service\", \"rid\"]].sort_values(by=\"min_date\")"
   ]
  },
  {
   "cell_type": "code",
   "execution_count": null,
   "id": "21f1cf0d80fa790b",
   "metadata": {
    "ExecuteTime": {
     "end_time": "2024-07-18T00:48:56.671101Z",
     "start_time": "2024-07-18T00:48:55.851907Z"
    }
   },
   "outputs": [],
   "source": [
    "td_dataframes = [td, cdw, td_del]\n",
    "td_pathways = pd.concat(td_dataframes, ignore_index=True)\n",
    "# td_pathways"
   ]
  },
  {
   "cell_type": "code",
   "execution_count": 30,
   "id": "138b8728193b8bb4",
   "metadata": {
    "collapsed": false
   },
   "outputs": [],
   "source": [
    "td_pathways_24 = filter_dataframe_on_date(\n",
    "    td, [\"min_date\", \"max_date\"], START_DATE, END_DATE\n",
    ")\n",
    "unique_td_pathways_24 = td_pathways_24.drop_duplicates(subset=\"rid\")\n",
    "# td_pathways_24"
   ]
  },
  {
   "cell_type": "markdown",
   "id": "24c916903de26388",
   "metadata": {
    "collapsed": false
   },
   "source": [
    "# Physiotherapy"
   ]
  },
  {
   "cell_type": "markdown",
   "id": "ea1afcb2b443acf4",
   "metadata": {
    "collapsed": false
   },
   "source": [
    "###### PSFS is commented because it shouldn't be counted here. The same as Screening"
   ]
  },
  {
   "cell_type": "code",
   "execution_count": 31,
   "id": "a4c5c88d012c57a8",
   "metadata": {
    "collapsed": false
   },
   "outputs": [],
   "source": [
    "ptint_file = path_manager.get_data_file(Category.PT, PTFile.PTNT)\n",
    "ptint_dataset = Dataset(config_file, ptint_file.sheet)\n",
    "ptint = get_df(ptint_file.path, ptint_file.sheet)\n",
    "ptint.insert(0, \"min_date\", (ptint[ptint_dataset.dvars].min(axis=1)))\n",
    "ptint.insert(1, \"max_date\", (ptint[ptint_dataset.dvars].max(axis=1)))\n",
    "ptint.insert(2, \"service\", \"ptint\")\n",
    "ptint = ptint[[\"min_date\", \"max_date\", \"service\", \"rid\"]].sort_values(by=\"min_date\")"
   ]
  },
  {
   "cell_type": "code",
   "execution_count": 32,
   "id": "8f4cbe06c0cc04c6",
   "metadata": {
    "collapsed": false
   },
   "outputs": [],
   "source": [
    "ptg_file = path_manager.get_data_file(Category.PT, PTFile.PTG)\n",
    "ptg_dataset = Dataset(config_file, ptg_file.sheet)\n",
    "ptg = get_df(ptg_file.path, ptg_file.sheet)\n",
    "ptg.insert(0, \"min_date\", (ptg[ptg_dataset.dvars].min(axis=1)))\n",
    "ptg.insert(1, \"max_date\", (ptg[ptg_dataset.dvars].max(axis=1)))\n",
    "ptg.insert(2, \"service\", \"ptg\")\n",
    "ptg = ptg[[\"min_date\", \"max_date\", \"service\", \"rid\"]]"
   ]
  },
  {
   "cell_type": "code",
   "execution_count": 35,
   "id": "5e2878a821f478a8",
   "metadata": {
    "collapsed": false
   },
   "outputs": [],
   "source": [
    "pti_file = path_manager.get_data_file(Category.PT, PTFile.PTI)\n",
    "pti_dataset = Dataset(config_file, pti_file.sheet)\n",
    "pti = get_df(pti_file.path, pti_file.sheet)\n",
    "pti.insert(0, \"min_date\", (pti[pti_dataset.dvars].min(axis=1)))\n",
    "pti.insert(1, \"max_date\", (pti[pti_dataset.dvars].max(axis=1)))\n",
    "pti.insert(2, \"service\", \"pti\")\n",
    "pti = pti[[\"min_date\", \"max_date\", \"service\", \"rid\"]]"
   ]
  },
  {
   "cell_type": "code",
   "execution_count": 33,
   "id": "1a91bd114b2459cb",
   "metadata": {
    "ExecuteTime": {
     "end_time": "2024-07-18T00:48:56.716482Z",
     "start_time": "2024-07-18T00:48:56.691146Z"
    },
    "collapsed": false
   },
   "outputs": [],
   "source": [
    "ptfua_file = path_manager.get_data_file(Category.PT, PTFile.PTFU)\n",
    "ptfua_dataset = Dataset(config_file, ptfua_file.sheet)\n",
    "ptfua = get_df(ptfua_file.path, ptfua_file.sheet)\n",
    "ptfua.insert(0, \"min_date\", (ptfua[ptfua_dataset.dvars].min(axis=1)))\n",
    "ptfua.insert(1, \"max_date\", (ptfua[ptfua_dataset.dvars].max(axis=1)))\n",
    "ptfua.insert(2, \"service\", \"ptfua\")\n",
    "ptfua = ptfua[[\"min_date\", \"max_date\", \"service\", \"rid\"]]"
   ]
  },
  {
   "cell_type": "code",
   "execution_count": 36,
   "id": "fbd210d029e8f06e",
   "metadata": {
    "ExecuteTime": {
     "end_time": "2024-07-18T00:48:56.805036Z",
     "start_time": "2024-07-18T00:48:56.784637Z"
    },
    "collapsed": false
   },
   "outputs": [],
   "source": [
    "pt_dataframes = [ptint, ptg, pti, ptfua]\n",
    "pt = pd.concat(pt_dataframes, ignore_index=True)pt"
   ]
  },
  {
   "cell_type": "code",
   "execution_count": null,
   "id": "2f121e90dbb57cb9",
   "metadata": {
    "ExecuteTime": {
     "end_time": "2024-07-18T00:48:57.079421Z",
     "start_time": "2024-07-18T00:48:57.057230Z"
    },
    "collapsed": false
   },
   "outputs": [],
   "source": [
    "pt_24 = filter_dataframe_on_date(pt, [\"min_date\", \"max_date\"], START_DATE, END_DATE)"
   ]
  },
  {
   "cell_type": "code",
   "execution_count": 7,
   "id": "aba80f1afed709dd",
   "metadata": {
    "ExecuteTime": {
     "end_time": "2024-07-18T00:48:57.291446Z",
     "start_time": "2024-07-18T00:48:57.288236Z"
    }
   },
   "outputs": [],
   "source": [
    "# pt_24"
   ]
  },
  {
   "cell_type": "code",
   "execution_count": 38,
   "id": "f7ec6b56b4304ced",
   "metadata": {
    "ExecuteTime": {
     "end_time": "2024-07-18T00:48:57.394388Z",
     "start_time": "2024-07-18T00:48:57.372819Z"
    },
    "collapsed": false
   },
   "outputs": [],
   "source": [
    "unique_pt_24 = pt_24.drop_duplicates(subset=\"rid\")"
   ]
  },
  {
   "cell_type": "markdown",
   "id": "f565a11abfa59f",
   "metadata": {},
   "source": [
    "# Case Management"
   ]
  },
  {
   "cell_type": "code",
   "execution_count": 39,
   "id": "ec487bb2e97ad0bf",
   "metadata": {
    "ExecuteTime": {
     "end_time": "2024-07-18T00:48:57.708854Z",
     "start_time": "2024-07-18T00:48:57.683127Z"
    }
   },
   "outputs": [],
   "source": [
    "cm_path = r\"/home/fmny/fc-performeter/data/raw/1224/other_services/TS_FC_meetingOutreachReferralFollowUpAdvocacy.xlsx\"\n",
    "sheet_name = \"IngoingOutgoingInternalReferral\"\n",
    "cm = pd.read_excel(cm_path, sheet_name=sheet_name)\n",
    "cm = cm[[\"referral_ID\", \"FC_ID\", \"referralDate\"]]\n",
    "cm = cm.rename(columns={\"referral_ID\": \"rid\", \"FC_ID\": \"fcid\", \"referralDate\": \"date\"})\n",
    "cm.insert(0, \"min_date\", cm[\"date\"])\n",
    "cm.insert(1, \"max_date\", cm[\"date\"])\n",
    "cm.insert(2, \"service\", \"cm\")\n",
    "cm = cm[[\"min_date\", \"max_date\", \"service\", \"rid\"]].sort_values(by=\"min_date\")\n",
    "# cm"
   ]
  },
  {
   "cell_type": "code",
   "execution_count": 40,
   "id": "2f42eb323a6726f8",
   "metadata": {
    "ExecuteTime": {
     "end_time": "2024-07-18T00:48:57.829886Z",
     "start_time": "2024-07-18T00:48:57.807872Z"
    }
   },
   "outputs": [],
   "source": [
    "cm_24 = filter_dataframe_on_date(cm, \"min_date\", START_DATE, END_DATE)"
   ]
  },
  {
   "cell_type": "markdown",
   "id": "943c26f9771bf2b4",
   "metadata": {},
   "source": [
    "There are at least 8 people in CM who has no screening records! This needs to be checked."
   ]
  },
  {
   "cell_type": "markdown",
   "id": "4b6907bdfe2c5ac9",
   "metadata": {
    "collapsed": false
   },
   "source": [
    "# Total Service"
   ]
  },
  {
   "cell_type": "code",
   "execution_count": 41,
   "id": "821115150d1ecddb",
   "metadata": {
    "collapsed": false
   },
   "outputs": [],
   "source": [
    "mhpss_24 = pd.concat(\n",
    "    [unique_ps_24, trw_24, pei_24, unique_td_pathways_24, unique_pt_24, cm_24],\n",
    "    ignore_index=True,\n",
    ")"
   ]
  },
  {
   "cell_type": "markdown",
   "id": "3536188d49084ced",
   "metadata": {},
   "source": [
    "### mhpss_24 is the total number of beneficiaries for HSH. Not the unique of it"
   ]
  },
  {
   "cell_type": "code",
   "execution_count": null,
   "id": "322509234a12acef",
   "metadata": {
    "collapsed": false
   },
   "outputs": [],
   "source": [
    "mhpss_24"
   ]
  },
  {
   "cell_type": "markdown",
   "id": "cf5d2c1cae45cd56",
   "metadata": {},
   "source": [
    "========================================================================================================"
   ]
  },
  {
   "cell_type": "code",
   "execution_count": 42,
   "id": "4fa30c46367d1b32",
   "metadata": {
    "collapsed": false
   },
   "outputs": [],
   "source": [
    "mhpss_24 = pd.merge(mhpss_24, scr[[\"rid\", \"sex\", \"age\"]], on=\"rid\", how=\"left\")"
   ]
  },
  {
   "cell_type": "markdown",
   "id": "d4f7302a",
   "metadata": {},
   "source": [
    "### Filling missing values in new_served_24"
   ]
  },
  {
   "cell_type": "code",
   "execution_count": 43,
   "id": "9e571d2e00b9f535",
   "metadata": {
    "collapsed": false
   },
   "outputs": [],
   "source": [
    "mhpss_24.loc[mhpss_24[\"rid\"] == \"R1496\", [\"sex\", \"age\"]] = [\"Male\", 28]\n",
    "mhpss_24.loc[mhpss_24[\"rid\"] == \"R1501\", [\"sex\", \"age\"]] = [\"Male\", 46]\n",
    "mhpss_24.loc[mhpss_24[\"rid\"] == \"R1502\", [\"sex\", \"age\"]] = [\"Female\", 48]\n",
    "mhpss_24.loc[mhpss_24[\"rid\"] == \"R1509\", [\"sex\", \"age\"]] = [\"Female\", 35]\n",
    "mhpss_24.loc[mhpss_24[\"rid\"] == \"R1551\", [\"sex\", \"age\"]] = [\"Female\", 38]"
   ]
  },
  {
   "cell_type": "code",
   "execution_count": 44,
   "id": "79f57086f8e8c6ec",
   "metadata": {
    "collapsed": false
   },
   "outputs": [
    {
     "data": {
      "text/plain": [
       "sex\n",
       "Female    91\n",
       "Male      49\n",
       "Name: count, dtype: int64"
      ]
     },
     "execution_count": 44,
     "metadata": {},
     "output_type": "execute_result"
    }
   ],
   "source": [
    "mhpss_24[\"sex\"].value_counts()"
   ]
  },
  {
   "cell_type": "markdown",
   "id": "2c5482abd78e09a0",
   "metadata": {
    "collapsed": false
   },
   "source": [
    "# AW"
   ]
  },
  {
   "cell_type": "code",
   "execution_count": 45,
   "id": "2912be6719adedd3",
   "metadata": {
    "collapsed": false
   },
   "outputs": [],
   "source": [
    "aww_file = path_manager.get_data_file(Category.PS, PSFile.AWW)\n",
    "aww_dataset = Dataset(config_file, aww_file.sheet)\n",
    "aww = get_df(aww_file.path, aww_file.sheet)\n",
    "aww.insert(0, \"min_date\", (aww[aww_dataset.dvars].min(axis=1)))\n",
    "aww.insert(1, \"max_date\", (aww[aww_dataset.dvars].max(axis=1)))\n",
    "aww.insert(2, \"service\", \"aw\")\n",
    "aww = aww[[\"min_date\", \"max_date\", \"service\", \"rid\"]]"
   ]
  },
  {
   "cell_type": "code",
   "execution_count": 46,
   "id": "c60028d2cd2fb04",
   "metadata": {
    "collapsed": false
   },
   "outputs": [],
   "source": [
    "aww_24 = filter_dataframe_on_date(aww, [\"min_date\", \"max_date\"], START_DATE, END_DATE)\n",
    "# aww_24"
   ]
  }
 ],
 "metadata": {
  "kernelspec": {
   "display_name": "venv",
   "language": "python",
   "name": "python3"
  },
  "language_info": {
   "codemirror_mode": {
    "name": "ipython",
    "version": 3
   },
   "file_extension": ".py",
   "mimetype": "text/x-python",
   "name": "python",
   "nbconvert_exporter": "python",
   "pygments_lexer": "ipython3",
   "version": "3.12.3"
  }
 },
 "nbformat": 4,
 "nbformat_minor": 5
}
