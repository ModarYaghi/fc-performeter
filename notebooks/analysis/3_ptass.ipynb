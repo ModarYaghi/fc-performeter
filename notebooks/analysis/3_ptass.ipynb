{
 "cells": [
  {
   "cell_type": "code",
   "execution_count": null,
   "id": "initial_id",
   "metadata": {
    "ExecuteTime": {
     "end_time": "2024-10-18T14:45:57.911554Z",
     "start_time": "2024-10-18T14:45:54.890563Z"
    },
    "collapsed": true
   },
   "outputs": [],
   "source": [
    "from src.all_in_one import *\n",
    "from src.basic_variables import *\n",
    "from src.analysis_functions import *"
   ]
  },
  {
   "cell_type": "markdown",
   "id": "b5faf880",
   "metadata": {},
   "source": [
    "## Counting PSFS Sessions/Clients"
   ]
  },
  {
   "cell_type": "code",
   "execution_count": 9,
   "id": "896c9d00",
   "metadata": {},
   "outputs": [],
   "source": [
    "psfs_file = path_manager.get_data_file(Category.PT, PTFile.PSFS)\n",
    "psfs = get_df(psfs_file.path, psfs_file.sheet)\n",
    "psfs_dataset = Dataset(config_file, psfs_file.sheet)\n",
    "filtered_psfs = filter_dataframe_on_date(psfs, psfs_dataset.dvars, START, END)"
   ]
  },
  {
   "cell_type": "code",
   "execution_count": null,
   "id": "3ea906ea",
   "metadata": {},
   "outputs": [],
   "source": [
    "filtered_psfs.shape"
   ]
  },
  {
   "cell_type": "code",
   "execution_count": null,
   "id": "e4884df4",
   "metadata": {},
   "outputs": [],
   "source": [
    "filtered_psfs[\"sex\"].value_counts()"
   ]
  },
  {
   "cell_type": "code",
   "execution_count": null,
   "id": "27f5b1ed",
   "metadata": {},
   "outputs": [],
   "source": [
    "categorize_and_count_ages(filtered_psfs[\"age\"])"
   ]
  },
  {
   "cell_type": "markdown",
   "id": "13dcb305",
   "metadata": {},
   "source": [
    "## Counting PT Intake and Re-Intake Assessment Sessions/Clients"
   ]
  },
  {
   "cell_type": "code",
   "execution_count": 18,
   "id": "2c46e078",
   "metadata": {},
   "outputs": [],
   "source": [
    "ptnt_file = path_manager.get_data_file(Category.PT, PTFile.PTNT)\n",
    "ptnt = get_df(ptnt_file.path, ptnt_file.sheet)\n",
    "ptnt_dataset = Dataset(config_file, ptnt_file.sheet)\n",
    "filtered_ptnt = filter_dataframe_on_date(ptnt, ptnt_dataset.dvars, START, END)"
   ]
  },
  {
   "cell_type": "code",
   "execution_count": null,
   "id": "292c6332",
   "metadata": {},
   "outputs": [],
   "source": [
    "# filtered upon all date columns\n",
    "filtered_ptnt.shape"
   ]
  },
  {
   "cell_type": "code",
   "execution_count": null,
   "id": "b32b8b2f",
   "metadata": {},
   "outputs": [],
   "source": [
    "# filtered upon session 1 only\n",
    "f_new_ptnt = filter_dataframe_on_date(ptnt, \"pt_nt_s1\", START, END)\n",
    "f_new_ptnt.shape"
   ]
  },
  {
   "cell_type": "code",
   "execution_count": null,
   "id": "6eddb511",
   "metadata": {},
   "outputs": [],
   "source": [
    "# filtered upon session 2 only\n",
    "f_new_ptnt_s2 = filter_dataframe_on_date(ptnt, \"pt_nt_s2\", START, END)\n",
    "f_new_ptnt_s2.shape"
   ]
  },
  {
   "cell_type": "code",
   "execution_count": null,
   "id": "174e4d01",
   "metadata": {},
   "outputs": [],
   "source": [
    "# filtered upon re-intake only\n",
    "f_ptnt_re = filter_dataframe_on_date(ptnt, \"pt_nt_re\", START, END)\n",
    "f_ptnt_re.shape"
   ]
  },
  {
   "cell_type": "code",
   "execution_count": null,
   "id": "d9adf287",
   "metadata": {},
   "outputs": [],
   "source": [
    "# PTNT total number of sessions\n",
    "ptnt_total_number_of_sessions = (\n",
    "    f_new_ptnt.shape[0] + f_new_ptnt_s2.shape[0] + f_ptnt_re.shape[0]\n",
    ")\n",
    "ptnt_total_number_of_sessions"
   ]
  },
  {
   "cell_type": "code",
   "execution_count": null,
   "id": "5a78667a",
   "metadata": {},
   "outputs": [],
   "source": [
    "# Merge with screening to get sex distribution.\n",
    "f_new_ptnt_and_sex = pd.merge(\n",
    "    f_new_ptnt, rebuilt_scr[[\"rid\", \"sex\", \"age\"]], on=\"rid\", how=\"left\"\n",
    ")\n",
    "f_new_ptnt_and_sex[\"sex\"].value_counts()"
   ]
  },
  {
   "cell_type": "markdown",
   "id": "8373e5c0",
   "metadata": {},
   "source": [
    "## Counting PT Follow-up Sessions/Clients"
   ]
  },
  {
   "cell_type": "code",
   "execution_count": 2,
   "id": "ecb696d93dbdfd23",
   "metadata": {
    "ExecuteTime": {
     "end_time": "2024-10-18T14:49:17.242276Z",
     "start_time": "2024-10-18T14:49:17.043608Z"
    }
   },
   "outputs": [],
   "source": [
    "ptfua_file = path_manager.get_data_file(Category.PT, PTFile.PTFU)\n",
    "ptfua = get_df(ptfua_file.path, ptfua_file.sheet)\n",
    "ptfua_dataset = Dataset(config_file, ptfua_file.sheet)\n",
    "filtered_ptfua = filter_dataframe_on_date(ptfua, ptfua_dataset.dvars, START, END)"
   ]
  },
  {
   "cell_type": "code",
   "execution_count": 3,
   "id": "b0a5ca78fa3a8a6",
   "metadata": {
    "ExecuteTime": {
     "end_time": "2024-10-18T15:06:36.168980Z",
     "start_time": "2024-10-18T15:06:36.161717Z"
    }
   },
   "outputs": [],
   "source": [
    "filtered_ptfua.to_clipboard()"
   ]
  },
  {
   "cell_type": "code",
   "execution_count": 4,
   "id": "3300809f0d140d79",
   "metadata": {
    "ExecuteTime": {
     "end_time": "2024-10-18T14:50:35.438706Z",
     "start_time": "2024-10-18T14:50:35.424324Z"
    }
   },
   "outputs": [],
   "source": [
    "f_ptfua_3m = filter_dataframe_on_date(ptfua, \"fu_3m\", START, END)\n",
    "f_ptfua_6m = filter_dataframe_on_date(ptfua, \"fu_6m\", START, END)\n",
    "f_ptfua_12m = filter_dataframe_on_date(ptfua, \"fu_12m\", START, END)"
   ]
  },
  {
   "cell_type": "code",
   "execution_count": null,
   "id": "5a97d7295821bbc6",
   "metadata": {
    "ExecuteTime": {
     "end_time": "2024-10-18T15:04:21.797819Z",
     "start_time": "2024-10-18T15:04:21.785806Z"
    }
   },
   "outputs": [],
   "source": [
    "# f_ptfua_3m\n",
    "# f_ptfua_6m\n",
    "# f_ptfua_12m\n",
    "f_ptfua_3m.shape[0] + f_ptfua_6m.shape[0] + f_ptfua_12m.shape[0]"
   ]
  },
  {
   "cell_type": "markdown",
   "id": "a3f845c099e0b514",
   "metadata": {},
   "source": [
    "#### Follow-up Beneficiaries Sex and Age Groups"
   ]
  },
  {
   "cell_type": "code",
   "execution_count": null,
   "id": "ffd8604caec6b2ef",
   "metadata": {
    "ExecuteTime": {
     "end_time": "2024-10-18T14:30:49.148875Z",
     "start_time": "2024-10-18T14:30:49.132484Z"
    }
   },
   "outputs": [],
   "source": [
    "# f_fua = pd.merge(filtered_fua, rebuilt_scr[[\"rid\", \"sex\", \"age\"]], on=\"rid\", how=\"left\")\n",
    "# f_fua[[\"rid\", \"fcid\", \"sex\", \"age\"]]"
   ]
  },
  {
   "cell_type": "code",
   "execution_count": null,
   "id": "ecfc5d957551c2f2",
   "metadata": {
    "ExecuteTime": {
     "end_time": "2024-10-18T14:31:03.567808Z",
     "start_time": "2024-10-18T14:31:03.559290Z"
    },
    "collapsed": false
   },
   "outputs": [],
   "source": [
    "# f_fua[\"sex\"].value_counts()"
   ]
  },
  {
   "cell_type": "code",
   "execution_count": null,
   "id": "877d310ce3d8bf1d",
   "metadata": {
    "ExecuteTime": {
     "end_time": "2024-10-18T14:38:33.719268Z",
     "start_time": "2024-10-18T14:38:33.707548Z"
    },
    "collapsed": false
   },
   "outputs": [],
   "source": [
    "# categorize_and_count_ages(f_fua[\"age\"])"
   ]
  },
  {
   "cell_type": "code",
   "execution_count": null,
   "id": "42f995c03dd1af07",
   "metadata": {
    "collapsed": false
   },
   "outputs": [],
   "source": []
  },
  {
   "cell_type": "code",
   "execution_count": null,
   "id": "ed03ecab056996ee",
   "metadata": {
    "collapsed": false
   },
   "outputs": [],
   "source": []
  }
 ],
 "metadata": {
  "kernelspec": {
   "display_name": ".venv",
   "language": "python",
   "name": "python3"
  },
  "language_info": {
   "codemirror_mode": {
    "name": "ipython",
    "version": 3
   },
   "file_extension": ".py",
   "mimetype": "text/x-python",
   "name": "python",
   "nbconvert_exporter": "python",
   "pygments_lexer": "ipython3",
   "version": "3.12.2"
  }
 },
 "nbformat": 4,
 "nbformat_minor": 5
}
