{
 "cells": [
  {
   "cell_type": "code",
   "execution_count": 1,
   "id": "initial_id",
   "metadata": {
    "ExecuteTime": {
     "end_time": "2024-10-18T14:45:57.911554Z",
     "start_time": "2024-10-18T14:45:54.890563Z"
    },
    "collapsed": true
   },
   "outputs": [
    {
     "name": "stderr",
     "output_type": "stream",
     "text": [
      "2025-01-09 13:28:39,070 - INFO - Processed 756 records so far.\n",
      "2025-01-09 13:28:40,190 - INFO - Processed 342 records so far.\n"
     ]
    }
   ],
   "source": [
    "from src.all_in_one import *\n",
    "from src.basic_variables import *\n",
    "from src.analysis_functions import *"
   ]
  },
  {
   "cell_type": "markdown",
   "id": "b5faf880",
   "metadata": {},
   "source": [
    "## Counting PSFS Sessions/Clients"
   ]
  },
  {
   "cell_type": "code",
   "execution_count": 2,
   "id": "896c9d00",
   "metadata": {},
   "outputs": [],
   "source": [
    "psfs_file = path_manager.get_data_file(Category.PT, PTFile.PSFS)\n",
    "psfs = get_df(psfs_file.path, psfs_file.sheet)\n",
    "psfs_dataset = Dataset(config_file, psfs_file.sheet)\n",
    "filtered_psfs = filter_dataframe_on_date(psfs, psfs_dataset.dvars, START, END)"
   ]
  },
  {
   "cell_type": "code",
   "execution_count": 4,
   "id": "3ea906ea",
   "metadata": {},
   "outputs": [
    {
     "data": {
      "text/html": [
       "<div>\n",
       "<style scoped>\n",
       "    .dataframe tbody tr th:only-of-type {\n",
       "        vertical-align: middle;\n",
       "    }\n",
       "\n",
       "    .dataframe tbody tr th {\n",
       "        vertical-align: top;\n",
       "    }\n",
       "\n",
       "    .dataframe thead th {\n",
       "        text-align: right;\n",
       "    }\n",
       "</style>\n",
       "<table border=\"1\" class=\"dataframe\">\n",
       "  <thead>\n",
       "    <tr style=\"text-align: right;\">\n",
       "      <th></th>\n",
       "      <th>psfssp</th>\n",
       "      <th>psfsspi</th>\n",
       "      <th>rid</th>\n",
       "      <th>fcid</th>\n",
       "      <th>firstname</th>\n",
       "      <th>lastname</th>\n",
       "      <th>sex</th>\n",
       "      <th>age</th>\n",
       "      <th>nat</th>\n",
       "      <th>psfs</th>\n",
       "      <th>score</th>\n",
       "      <th>vic</th>\n",
       "      <th>note</th>\n",
       "    </tr>\n",
       "  </thead>\n",
       "  <tbody>\n",
       "    <tr>\n",
       "      <th>213</th>\n",
       "      <td>ZN</td>\n",
       "      <td>19</td>\n",
       "      <td>R0653</td>\n",
       "      <td>8110110023</td>\n",
       "      <td>علي</td>\n",
       "      <td>محمد</td>\n",
       "      <td>Male</td>\n",
       "      <td>34</td>\n",
       "      <td>Syrian</td>\n",
       "      <td>2024-11-11</td>\n",
       "      <td>4</td>\n",
       "      <td>TS</td>\n",
       "      <td>NaN</td>\n",
       "    </tr>\n",
       "    <tr>\n",
       "      <th>214</th>\n",
       "      <td>ZN</td>\n",
       "      <td>20</td>\n",
       "      <td>R1232</td>\n",
       "      <td>8110110022</td>\n",
       "      <td>بشرى</td>\n",
       "      <td>دعاس</td>\n",
       "      <td>female</td>\n",
       "      <td>38</td>\n",
       "      <td>Syrian</td>\n",
       "      <td>2024-11-12</td>\n",
       "      <td>4</td>\n",
       "      <td>NaN</td>\n",
       "      <td>NaN</td>\n",
       "    </tr>\n",
       "    <tr>\n",
       "      <th>215</th>\n",
       "      <td>ZN</td>\n",
       "      <td>21</td>\n",
       "      <td>R1371</td>\n",
       "      <td>8110020134</td>\n",
       "      <td>علي</td>\n",
       "      <td>الحسين</td>\n",
       "      <td>Male</td>\n",
       "      <td>62</td>\n",
       "      <td>Syrian</td>\n",
       "      <td>2024-11-13</td>\n",
       "      <td>4</td>\n",
       "      <td>NaN</td>\n",
       "      <td>NaN</td>\n",
       "    </tr>\n",
       "    <tr>\n",
       "      <th>216</th>\n",
       "      <td>ZN</td>\n",
       "      <td>22</td>\n",
       "      <td>R1267</td>\n",
       "      <td>8110020133</td>\n",
       "      <td>هزار</td>\n",
       "      <td>نزال</td>\n",
       "      <td>Female</td>\n",
       "      <td>32</td>\n",
       "      <td>Syrian</td>\n",
       "      <td>2024-11-13</td>\n",
       "      <td>5</td>\n",
       "      <td>NaN</td>\n",
       "      <td>NaN</td>\n",
       "    </tr>\n",
       "    <tr>\n",
       "      <th>217</th>\n",
       "      <td>ZN</td>\n",
       "      <td>23</td>\n",
       "      <td>R1337</td>\n",
       "      <td>8110100023</td>\n",
       "      <td>احمد</td>\n",
       "      <td>الموس</td>\n",
       "      <td>Male</td>\n",
       "      <td>54</td>\n",
       "      <td>Syrian</td>\n",
       "      <td>2024-11-19</td>\n",
       "      <td>3</td>\n",
       "      <td>NaN</td>\n",
       "      <td>NaN</td>\n",
       "    </tr>\n",
       "    <tr>\n",
       "      <th>218</th>\n",
       "      <td>ZN</td>\n",
       "      <td>24</td>\n",
       "      <td>R1264</td>\n",
       "      <td>8110080032</td>\n",
       "      <td>سمر</td>\n",
       "      <td>شيخ خليل</td>\n",
       "      <td>female</td>\n",
       "      <td>49</td>\n",
       "      <td>Syrian</td>\n",
       "      <td>2024-11-18</td>\n",
       "      <td>4</td>\n",
       "      <td>NaN</td>\n",
       "      <td>NaN</td>\n",
       "    </tr>\n",
       "    <tr>\n",
       "      <th>219</th>\n",
       "      <td>ZN</td>\n",
       "      <td>25</td>\n",
       "      <td>R1292</td>\n",
       "      <td>8110100024</td>\n",
       "      <td>رقية</td>\n",
       "      <td>دعاس</td>\n",
       "      <td>Female</td>\n",
       "      <td>40</td>\n",
       "      <td>Syrian</td>\n",
       "      <td>2024-11-20</td>\n",
       "      <td>7</td>\n",
       "      <td>NaN</td>\n",
       "      <td>NaN</td>\n",
       "    </tr>\n",
       "    <tr>\n",
       "      <th>220</th>\n",
       "      <td>ZN</td>\n",
       "      <td>26</td>\n",
       "      <td>R1497</td>\n",
       "      <td>8110110024</td>\n",
       "      <td>سهيل</td>\n",
       "      <td>اسطنبولي</td>\n",
       "      <td>Male</td>\n",
       "      <td>31</td>\n",
       "      <td>Syrian</td>\n",
       "      <td>2024-11-20</td>\n",
       "      <td>4</td>\n",
       "      <td>NaN</td>\n",
       "      <td>NaN</td>\n",
       "    </tr>\n",
       "    <tr>\n",
       "      <th>221</th>\n",
       "      <td>ZN</td>\n",
       "      <td>27</td>\n",
       "      <td>R1250</td>\n",
       "      <td>8110100024</td>\n",
       "      <td>فاطمة</td>\n",
       "      <td>عاشور</td>\n",
       "      <td>Female</td>\n",
       "      <td>40</td>\n",
       "      <td>Syrian</td>\n",
       "      <td>2024-11-21</td>\n",
       "      <td>3</td>\n",
       "      <td>NaN</td>\n",
       "      <td>NaN</td>\n",
       "    </tr>\n",
       "    <tr>\n",
       "      <th>222</th>\n",
       "      <td>ZN</td>\n",
       "      <td>28</td>\n",
       "      <td>R1345</td>\n",
       "      <td>8110020135</td>\n",
       "      <td>احمد</td>\n",
       "      <td>قاسم</td>\n",
       "      <td>Male</td>\n",
       "      <td>31</td>\n",
       "      <td>Syrian</td>\n",
       "      <td>2024-11-22</td>\n",
       "      <td>3</td>\n",
       "      <td>NaN</td>\n",
       "      <td>NaN</td>\n",
       "    </tr>\n",
       "    <tr>\n",
       "      <th>223</th>\n",
       "      <td>ZN</td>\n",
       "      <td>29</td>\n",
       "      <td>R1511</td>\n",
       "      <td>8110100026</td>\n",
       "      <td>دعاء</td>\n",
       "      <td>رزية</td>\n",
       "      <td>Female</td>\n",
       "      <td>28</td>\n",
       "      <td>Syrian</td>\n",
       "      <td>2024-11-28</td>\n",
       "      <td>4</td>\n",
       "      <td>NaN</td>\n",
       "      <td>NaN</td>\n",
       "    </tr>\n",
       "    <tr>\n",
       "      <th>224</th>\n",
       "      <td>ZN</td>\n",
       "      <td>30</td>\n",
       "      <td>R1358</td>\n",
       "      <td>8110020136</td>\n",
       "      <td>زياد</td>\n",
       "      <td>الصيني</td>\n",
       "      <td>Male</td>\n",
       "      <td>44</td>\n",
       "      <td>Syrian</td>\n",
       "      <td>2024-12-03</td>\n",
       "      <td>4</td>\n",
       "      <td>NaN</td>\n",
       "      <td>NaN</td>\n",
       "    </tr>\n",
       "    <tr>\n",
       "      <th>225</th>\n",
       "      <td>ZN</td>\n",
       "      <td>31</td>\n",
       "      <td>R1378</td>\n",
       "      <td>8110100027</td>\n",
       "      <td>خنساء</td>\n",
       "      <td>قشعم</td>\n",
       "      <td>Female</td>\n",
       "      <td>34</td>\n",
       "      <td>Syrian</td>\n",
       "      <td>2024-12-03</td>\n",
       "      <td>5</td>\n",
       "      <td>NaN</td>\n",
       "      <td>NaN</td>\n",
       "    </tr>\n",
       "  </tbody>\n",
       "</table>\n",
       "</div>"
      ],
      "text/plain": [
       "    psfssp  psfsspi    rid        fcid firstname  lastname     sex  age  \\\n",
       "213     ZN       19  R0653  8110110023       علي      محمد    Male   34   \n",
       "214     ZN       20  R1232  8110110022      بشرى      دعاس  female   38   \n",
       "215     ZN       21  R1371  8110020134       علي    الحسين    Male   62   \n",
       "216     ZN       22  R1267  8110020133      هزار      نزال  Female   32   \n",
       "217     ZN       23  R1337  8110100023      احمد     الموس    Male   54   \n",
       "218     ZN       24  R1264  8110080032       سمر  شيخ خليل  female   49   \n",
       "219     ZN       25  R1292  8110100024      رقية      دعاس  Female   40   \n",
       "220     ZN       26  R1497  8110110024      سهيل  اسطنبولي    Male   31   \n",
       "221     ZN       27  R1250  8110100024     فاطمة     عاشور  Female   40   \n",
       "222     ZN       28  R1345  8110020135      احمد      قاسم    Male   31   \n",
       "223     ZN       29  R1511  8110100026      دعاء      رزية  Female   28   \n",
       "224     ZN       30  R1358  8110020136      زياد    الصيني    Male   44   \n",
       "225     ZN       31  R1378  8110100027     خنساء      قشعم  Female   34   \n",
       "\n",
       "        nat       psfs  score  vic note  \n",
       "213  Syrian 2024-11-11      4   TS  NaN  \n",
       "214  Syrian 2024-11-12      4  NaN  NaN  \n",
       "215  Syrian 2024-11-13      4  NaN  NaN  \n",
       "216  Syrian 2024-11-13      5  NaN  NaN  \n",
       "217  Syrian 2024-11-19      3  NaN  NaN  \n",
       "218  Syrian 2024-11-18      4  NaN  NaN  \n",
       "219  Syrian 2024-11-20      7  NaN  NaN  \n",
       "220  Syrian 2024-11-20      4  NaN  NaN  \n",
       "221  Syrian 2024-11-21      3  NaN  NaN  \n",
       "222  Syrian 2024-11-22      3  NaN  NaN  \n",
       "223  Syrian 2024-11-28      4  NaN  NaN  \n",
       "224  Syrian 2024-12-03      4  NaN  NaN  \n",
       "225  Syrian 2024-12-03      5  NaN  NaN  "
      ]
     },
     "execution_count": 4,
     "metadata": {},
     "output_type": "execute_result"
    }
   ],
   "source": [
    "# filtered_psfs.shape\n",
    "filtered_psfs"
   ]
  },
  {
   "cell_type": "code",
   "execution_count": 5,
   "id": "e4884df4",
   "metadata": {},
   "outputs": [
    {
     "data": {
      "text/plain": [
       "sex\n",
       "Male      6\n",
       "Female    5\n",
       "female    2\n",
       "Name: count, dtype: int64"
      ]
     },
     "execution_count": 5,
     "metadata": {},
     "output_type": "execute_result"
    }
   ],
   "source": [
    "filtered_psfs[\"sex\"].value_counts()"
   ]
  },
  {
   "cell_type": "code",
   "execution_count": 6,
   "id": "27f5b1ed",
   "metadata": {},
   "outputs": [
    {
     "data": {
      "text/plain": [
       "age\n",
       "18-27    0\n",
       "28-37    6\n",
       "38-47    4\n",
       "48-57    2\n",
       "58-67    1\n",
       "68-77    0\n",
       "Name: count, dtype: int64"
      ]
     },
     "execution_count": 6,
     "metadata": {},
     "output_type": "execute_result"
    }
   ],
   "source": [
    "categorize_and_count_ages(filtered_psfs[\"age\"])"
   ]
  },
  {
   "cell_type": "markdown",
   "id": "13dcb305",
   "metadata": {},
   "source": [
    "## Counting PT Intake and Re-Intake Assessment Sessions/Clients"
   ]
  },
  {
   "cell_type": "code",
   "execution_count": 7,
   "id": "2c46e078",
   "metadata": {},
   "outputs": [],
   "source": [
    "ptnt_file = path_manager.get_data_file(Category.PT, PTFile.PTNT)\n",
    "ptnt = get_df(ptnt_file.path, ptnt_file.sheet)\n",
    "ptnt_dataset = Dataset(config_file, ptnt_file.sheet)\n",
    "filtered_ptnt = filter_dataframe_on_date(ptnt, ptnt_dataset.dvars, START, END)"
   ]
  },
  {
   "cell_type": "code",
   "execution_count": 9,
   "id": "292c6332",
   "metadata": {},
   "outputs": [
    {
     "data": {
      "text/html": [
       "<div>\n",
       "<style scoped>\n",
       "    .dataframe tbody tr th:only-of-type {\n",
       "        vertical-align: middle;\n",
       "    }\n",
       "\n",
       "    .dataframe tbody tr th {\n",
       "        vertical-align: top;\n",
       "    }\n",
       "\n",
       "    .dataframe thead th {\n",
       "        text-align: right;\n",
       "    }\n",
       "</style>\n",
       "<table border=\"1\" class=\"dataframe\">\n",
       "  <thead>\n",
       "    <tr style=\"text-align: right;\">\n",
       "      <th></th>\n",
       "      <th>ptintsp</th>\n",
       "      <th>ptntspi</th>\n",
       "      <th>rid</th>\n",
       "      <th>fcid</th>\n",
       "      <th>firstname</th>\n",
       "      <th>lastname</th>\n",
       "      <th>pt_nt_s1</th>\n",
       "      <th>pt_nt_s2</th>\n",
       "      <th>pt_nt_re</th>\n",
       "      <th>psc</th>\n",
       "      <th>note</th>\n",
       "    </tr>\n",
       "  </thead>\n",
       "  <tbody>\n",
       "    <tr>\n",
       "      <th>204</th>\n",
       "      <td>ZN</td>\n",
       "      <td>11</td>\n",
       "      <td>R1215</td>\n",
       "      <td>8110110013</td>\n",
       "      <td>عمر</td>\n",
       "      <td>غريبو</td>\n",
       "      <td>2024-03-27</td>\n",
       "      <td>NaT</td>\n",
       "      <td>2024-12-10</td>\n",
       "      <td>Muhmd T</td>\n",
       "      <td>NaN</td>\n",
       "    </tr>\n",
       "    <tr>\n",
       "      <th>208</th>\n",
       "      <td>ZN</td>\n",
       "      <td>15</td>\n",
       "      <td>R0687</td>\n",
       "      <td>8110100021</td>\n",
       "      <td>ايمن</td>\n",
       "      <td>نزال</td>\n",
       "      <td>2024-04-19</td>\n",
       "      <td>NaT</td>\n",
       "      <td>2024-12-02</td>\n",
       "      <td>Muhmd T</td>\n",
       "      <td>NaN</td>\n",
       "    </tr>\n",
       "    <tr>\n",
       "      <th>216</th>\n",
       "      <td>ZN</td>\n",
       "      <td>23</td>\n",
       "      <td>R1452</td>\n",
       "      <td>8110080031</td>\n",
       "      <td>احمد</td>\n",
       "      <td>دعاس</td>\n",
       "      <td>2024-09-10</td>\n",
       "      <td>NaT</td>\n",
       "      <td>2024-12-09</td>\n",
       "      <td>Israa</td>\n",
       "      <td>NaN</td>\n",
       "    </tr>\n",
       "    <tr>\n",
       "      <th>217</th>\n",
       "      <td>ZN</td>\n",
       "      <td>24</td>\n",
       "      <td>R1345</td>\n",
       "      <td>8110020135</td>\n",
       "      <td>احمد</td>\n",
       "      <td>قاسم</td>\n",
       "      <td>2024-11-25</td>\n",
       "      <td>NaT</td>\n",
       "      <td>NaT</td>\n",
       "      <td>Yaqzan</td>\n",
       "      <td>NaN</td>\n",
       "    </tr>\n",
       "    <tr>\n",
       "      <th>218</th>\n",
       "      <td>ZN</td>\n",
       "      <td>25</td>\n",
       "      <td>R1337</td>\n",
       "      <td>8110100023</td>\n",
       "      <td>احمد</td>\n",
       "      <td>الموس</td>\n",
       "      <td>2024-11-26</td>\n",
       "      <td>NaT</td>\n",
       "      <td>NaT</td>\n",
       "      <td>Lama</td>\n",
       "      <td>NaN</td>\n",
       "    </tr>\n",
       "    <tr>\n",
       "      <th>219</th>\n",
       "      <td>ZN</td>\n",
       "      <td>26</td>\n",
       "      <td>R1371</td>\n",
       "      <td>8110020134</td>\n",
       "      <td>علي</td>\n",
       "      <td>الحسين</td>\n",
       "      <td>2024-11-27</td>\n",
       "      <td>NaT</td>\n",
       "      <td>NaT</td>\n",
       "      <td>Yaqzan</td>\n",
       "      <td>NaN</td>\n",
       "    </tr>\n",
       "    <tr>\n",
       "      <th>220</th>\n",
       "      <td>ZN</td>\n",
       "      <td>27</td>\n",
       "      <td>R1497</td>\n",
       "      <td>8110110024</td>\n",
       "      <td>سهيل</td>\n",
       "      <td>اسطنبولي</td>\n",
       "      <td>2024-11-28</td>\n",
       "      <td>NaT</td>\n",
       "      <td>NaT</td>\n",
       "      <td>Muhmd T</td>\n",
       "      <td>NaN</td>\n",
       "    </tr>\n",
       "    <tr>\n",
       "      <th>221</th>\n",
       "      <td>ZN</td>\n",
       "      <td>28</td>\n",
       "      <td>R0687</td>\n",
       "      <td>8110100021</td>\n",
       "      <td>ايمن</td>\n",
       "      <td>نزال</td>\n",
       "      <td>NaT</td>\n",
       "      <td>NaT</td>\n",
       "      <td>2024-12-02</td>\n",
       "      <td>NaN</td>\n",
       "      <td>NaN</td>\n",
       "    </tr>\n",
       "    <tr>\n",
       "      <th>222</th>\n",
       "      <td>ZN</td>\n",
       "      <td>29</td>\n",
       "      <td>R0644</td>\n",
       "      <td>8110100009</td>\n",
       "      <td>محلي</td>\n",
       "      <td>ماميك</td>\n",
       "      <td>NaT</td>\n",
       "      <td>NaT</td>\n",
       "      <td>2024-12-04</td>\n",
       "      <td>Lama</td>\n",
       "      <td>NaN</td>\n",
       "    </tr>\n",
       "    <tr>\n",
       "      <th>223</th>\n",
       "      <td>ZN</td>\n",
       "      <td>30</td>\n",
       "      <td>R1358</td>\n",
       "      <td>8110020136</td>\n",
       "      <td>زياد</td>\n",
       "      <td>الصيني</td>\n",
       "      <td>2024-12-04</td>\n",
       "      <td>NaT</td>\n",
       "      <td>NaT</td>\n",
       "      <td>Yaqzan</td>\n",
       "      <td>NaN</td>\n",
       "    </tr>\n",
       "    <tr>\n",
       "      <th>224</th>\n",
       "      <td>ZN</td>\n",
       "      <td>31</td>\n",
       "      <td>R1264</td>\n",
       "      <td>8110080032</td>\n",
       "      <td>اسراء</td>\n",
       "      <td>شيخ خليل</td>\n",
       "      <td>2024-11-28</td>\n",
       "      <td>NaT</td>\n",
       "      <td>NaT</td>\n",
       "      <td>Israa</td>\n",
       "      <td>ملاحظة هذه المستفيدة تم تقسييمها من قبل فرح</td>\n",
       "    </tr>\n",
       "  </tbody>\n",
       "</table>\n",
       "</div>"
      ],
      "text/plain": [
       "    ptintsp  ptntspi    rid        fcid firstname  lastname   pt_nt_s1  \\\n",
       "204      ZN       11  R1215  8110110013       عمر     غريبو 2024-03-27   \n",
       "208      ZN       15  R0687  8110100021      ايمن      نزال 2024-04-19   \n",
       "216      ZN       23  R1452  8110080031      احمد      دعاس 2024-09-10   \n",
       "217      ZN       24  R1345  8110020135      احمد      قاسم 2024-11-25   \n",
       "218      ZN       25  R1337  8110100023      احمد     الموس 2024-11-26   \n",
       "219      ZN       26  R1371  8110020134       علي    الحسين 2024-11-27   \n",
       "220      ZN       27  R1497  8110110024      سهيل  اسطنبولي 2024-11-28   \n",
       "221      ZN       28  R0687  8110100021      ايمن      نزال        NaT   \n",
       "222      ZN       29  R0644  8110100009      محلي     ماميك        NaT   \n",
       "223      ZN       30  R1358  8110020136      زياد    الصيني 2024-12-04   \n",
       "224      ZN       31  R1264  8110080032     اسراء  شيخ خليل 2024-11-28   \n",
       "\n",
       "    pt_nt_s2   pt_nt_re      psc                                         note  \n",
       "204      NaT 2024-12-10  Muhmd T                                          NaN  \n",
       "208      NaT 2024-12-02  Muhmd T                                          NaN  \n",
       "216      NaT 2024-12-09    Israa                                          NaN  \n",
       "217      NaT        NaT   Yaqzan                                          NaN  \n",
       "218      NaT        NaT     Lama                                          NaN  \n",
       "219      NaT        NaT   Yaqzan                                          NaN  \n",
       "220      NaT        NaT  Muhmd T                                          NaN  \n",
       "221      NaT 2024-12-02      NaN                                          NaN  \n",
       "222      NaT 2024-12-04     Lama                                          NaN  \n",
       "223      NaT        NaT   Yaqzan                                          NaN  \n",
       "224      NaT        NaT    Israa  ملاحظة هذه المستفيدة تم تقسييمها من قبل فرح  "
      ]
     },
     "execution_count": 9,
     "metadata": {},
     "output_type": "execute_result"
    }
   ],
   "source": [
    "# filtered upon all date columns\n",
    "filtered_ptnt\n",
    "# filtered_ptnt.shape"
   ]
  },
  {
   "cell_type": "code",
   "execution_count": 10,
   "id": "b32b8b2f",
   "metadata": {},
   "outputs": [
    {
     "data": {
      "text/plain": [
       "(6, 11)"
      ]
     },
     "execution_count": 10,
     "metadata": {},
     "output_type": "execute_result"
    }
   ],
   "source": [
    "# filtered upon session 1 only\n",
    "f_new_ptnt = filter_dataframe_on_date(ptnt, \"pt_nt_s1\", START, END)\n",
    "f_new_ptnt.shape"
   ]
  },
  {
   "cell_type": "code",
   "execution_count": 11,
   "id": "6eddb511",
   "metadata": {},
   "outputs": [
    {
     "data": {
      "text/plain": [
       "(0, 11)"
      ]
     },
     "execution_count": 11,
     "metadata": {},
     "output_type": "execute_result"
    }
   ],
   "source": [
    "# filtered upon session 2 only\n",
    "f_new_ptnt_s2 = filter_dataframe_on_date(ptnt, \"pt_nt_s2\", START, END)\n",
    "f_new_ptnt_s2.shape"
   ]
  },
  {
   "cell_type": "code",
   "execution_count": 12,
   "id": "174e4d01",
   "metadata": {},
   "outputs": [
    {
     "data": {
      "text/plain": [
       "(5, 11)"
      ]
     },
     "execution_count": 12,
     "metadata": {},
     "output_type": "execute_result"
    }
   ],
   "source": [
    "# filtered upon re-intake only\n",
    "f_ptnt_re = filter_dataframe_on_date(ptnt, \"pt_nt_re\", START, END)\n",
    "f_ptnt_re.shape"
   ]
  },
  {
   "cell_type": "code",
   "execution_count": 13,
   "id": "d9adf287",
   "metadata": {},
   "outputs": [
    {
     "data": {
      "text/plain": [
       "11"
      ]
     },
     "execution_count": 13,
     "metadata": {},
     "output_type": "execute_result"
    }
   ],
   "source": [
    "# PTNT total number of sessions\n",
    "ptnt_total_number_of_sessions = (\n",
    "    f_new_ptnt.shape[0] + f_new_ptnt_s2.shape[0] + f_ptnt_re.shape[0]\n",
    ")\n",
    "ptnt_total_number_of_sessions"
   ]
  },
  {
   "cell_type": "code",
   "execution_count": 14,
   "id": "5a78667a",
   "metadata": {},
   "outputs": [
    {
     "data": {
      "text/plain": [
       "sex\n",
       "Male      5\n",
       "Female    1\n",
       "Name: count, dtype: int64"
      ]
     },
     "execution_count": 14,
     "metadata": {},
     "output_type": "execute_result"
    }
   ],
   "source": [
    "# Merge with screening to get sex distribution.\n",
    "f_new_ptnt_and_sex = pd.merge(\n",
    "    f_new_ptnt, rebuilt_scr[[\"rid\", \"sex\", \"age\"]], on=\"rid\", how=\"left\"\n",
    ")\n",
    "f_new_ptnt_and_sex[\"sex\"].value_counts()"
   ]
  },
  {
   "cell_type": "markdown",
   "id": "8373e5c0",
   "metadata": {},
   "source": [
    "## Counting PT Follow-up Sessions/Clients"
   ]
  },
  {
   "cell_type": "code",
   "execution_count": 15,
   "id": "ecb696d93dbdfd23",
   "metadata": {
    "ExecuteTime": {
     "end_time": "2024-10-18T14:49:17.242276Z",
     "start_time": "2024-10-18T14:49:17.043608Z"
    }
   },
   "outputs": [],
   "source": [
    "ptfua_file = path_manager.get_data_file(Category.PT, PTFile.PTFU)\n",
    "ptfua = get_df(ptfua_file.path, ptfua_file.sheet)\n",
    "ptfua_dataset = Dataset(config_file, ptfua_file.sheet)\n",
    "filtered_ptfua = filter_dataframe_on_date(ptfua, ptfua_dataset.dvars, START, END)"
   ]
  },
  {
   "cell_type": "code",
   "execution_count": 18,
   "id": "b0a5ca78fa3a8a6",
   "metadata": {
    "ExecuteTime": {
     "end_time": "2024-10-18T15:06:36.168980Z",
     "start_time": "2024-10-18T15:06:36.161717Z"
    }
   },
   "outputs": [
    {
     "data": {
      "text/html": [
       "<div>\n",
       "<style scoped>\n",
       "    .dataframe tbody tr th:only-of-type {\n",
       "        vertical-align: middle;\n",
       "    }\n",
       "\n",
       "    .dataframe tbody tr th {\n",
       "        vertical-align: top;\n",
       "    }\n",
       "\n",
       "    .dataframe thead th {\n",
       "        text-align: right;\n",
       "    }\n",
       "</style>\n",
       "<table border=\"1\" class=\"dataframe\">\n",
       "  <thead>\n",
       "    <tr style=\"text-align: right;\">\n",
       "      <th></th>\n",
       "      <th>fuasp</th>\n",
       "      <th>fuspi</th>\n",
       "      <th>rid</th>\n",
       "      <th>fcid</th>\n",
       "      <th>firstname</th>\n",
       "      <th>lastname</th>\n",
       "      <th>fu_3m</th>\n",
       "      <th>fu_6m</th>\n",
       "      <th>fu_12m</th>\n",
       "      <th>status</th>\n",
       "      <th>closure_reason</th>\n",
       "      <th>note</th>\n",
       "    </tr>\n",
       "  </thead>\n",
       "  <tbody>\n",
       "    <tr>\n",
       "      <th>102</th>\n",
       "      <td>ZN</td>\n",
       "      <td>9</td>\n",
       "      <td>R0905</td>\n",
       "      <td>8110050104</td>\n",
       "      <td>علي</td>\n",
       "      <td>احمد</td>\n",
       "      <td>2024-08-20</td>\n",
       "      <td>2024-12-04</td>\n",
       "      <td>NaT</td>\n",
       "      <td>NaN</td>\n",
       "      <td>NaN</td>\n",
       "      <td>NaN</td>\n",
       "    </tr>\n",
       "    <tr>\n",
       "      <th>103</th>\n",
       "      <td>ZN</td>\n",
       "      <td>10</td>\n",
       "      <td>R1130</td>\n",
       "      <td>8110020130</td>\n",
       "      <td>قصي</td>\n",
       "      <td>تركي</td>\n",
       "      <td>2024-08-20</td>\n",
       "      <td>2024-12-11</td>\n",
       "      <td>NaT</td>\n",
       "      <td>NaN</td>\n",
       "      <td>NaN</td>\n",
       "      <td>NaN</td>\n",
       "    </tr>\n",
       "    <tr>\n",
       "      <th>104</th>\n",
       "      <td>ZN</td>\n",
       "      <td>11</td>\n",
       "      <td>R0798</td>\n",
       "      <td>8110080028</td>\n",
       "      <td>محمد</td>\n",
       "      <td>الاسعد</td>\n",
       "      <td>2024-08-20</td>\n",
       "      <td>2024-12-02</td>\n",
       "      <td>NaT</td>\n",
       "      <td>NaN</td>\n",
       "      <td>NaN</td>\n",
       "      <td>NaN</td>\n",
       "    </tr>\n",
       "    <tr>\n",
       "      <th>105</th>\n",
       "      <td>ZN</td>\n",
       "      <td>12</td>\n",
       "      <td>R0678</td>\n",
       "      <td>8110080020</td>\n",
       "      <td>محمد</td>\n",
       "      <td>صالح</td>\n",
       "      <td>2024-08-22</td>\n",
       "      <td>2024-12-02</td>\n",
       "      <td>NaT</td>\n",
       "      <td>NaN</td>\n",
       "      <td>NaN</td>\n",
       "      <td>NaN</td>\n",
       "    </tr>\n",
       "    <tr>\n",
       "      <th>106</th>\n",
       "      <td>ZN</td>\n",
       "      <td>13</td>\n",
       "      <td>R0896</td>\n",
       "      <td>8110020128</td>\n",
       "      <td>احمد</td>\n",
       "      <td>نزال</td>\n",
       "      <td>2024-08-23</td>\n",
       "      <td>2024-12-04</td>\n",
       "      <td>NaT</td>\n",
       "      <td>NaN</td>\n",
       "      <td>NaN</td>\n",
       "      <td>NaN</td>\n",
       "    </tr>\n",
       "  </tbody>\n",
       "</table>\n",
       "</div>"
      ],
      "text/plain": [
       "    fuasp  fuspi    rid        fcid firstname lastname      fu_3m      fu_6m  \\\n",
       "102    ZN      9  R0905  8110050104       علي     احمد 2024-08-20 2024-12-04   \n",
       "103    ZN     10  R1130  8110020130       قصي     تركي 2024-08-20 2024-12-11   \n",
       "104    ZN     11  R0798  8110080028      محمد   الاسعد 2024-08-20 2024-12-02   \n",
       "105    ZN     12  R0678  8110080020      محمد     صالح 2024-08-22 2024-12-02   \n",
       "106    ZN     13  R0896  8110020128      احمد     نزال 2024-08-23 2024-12-04   \n",
       "\n",
       "    fu_12m status  closure_reason note  \n",
       "102    NaT    NaN             NaN  NaN  \n",
       "103    NaT    NaN             NaN  NaN  \n",
       "104    NaT    NaN             NaN  NaN  \n",
       "105    NaT    NaN             NaN  NaN  \n",
       "106    NaT    NaN             NaN  NaN  "
      ]
     },
     "execution_count": 18,
     "metadata": {},
     "output_type": "execute_result"
    }
   ],
   "source": [
    "# filtered_ptfua.to_clipboard()\n",
    "filtered_ptfua"
   ]
  },
  {
   "cell_type": "code",
   "execution_count": 16,
   "id": "3300809f0d140d79",
   "metadata": {
    "ExecuteTime": {
     "end_time": "2024-10-18T14:50:35.438706Z",
     "start_time": "2024-10-18T14:50:35.424324Z"
    }
   },
   "outputs": [],
   "source": [
    "f_ptfua_3m = filter_dataframe_on_date(ptfua, \"fu_3m\", START, END)\n",
    "f_ptfua_6m = filter_dataframe_on_date(ptfua, \"fu_6m\", START, END)\n",
    "f_ptfua_12m = filter_dataframe_on_date(ptfua, \"fu_12m\", START, END)"
   ]
  },
  {
   "cell_type": "code",
   "execution_count": 17,
   "id": "5a97d7295821bbc6",
   "metadata": {
    "ExecuteTime": {
     "end_time": "2024-10-18T15:04:21.797819Z",
     "start_time": "2024-10-18T15:04:21.785806Z"
    }
   },
   "outputs": [
    {
     "data": {
      "text/plain": [
       "5"
      ]
     },
     "execution_count": 17,
     "metadata": {},
     "output_type": "execute_result"
    }
   ],
   "source": [
    "# f_ptfua_3m\n",
    "# f_ptfua_6m\n",
    "# f_ptfua_12m\n",
    "f_ptfua_3m.shape[0] + f_ptfua_6m.shape[0] + f_ptfua_12m.shape[0]"
   ]
  },
  {
   "cell_type": "markdown",
   "id": "a3f845c099e0b514",
   "metadata": {},
   "source": [
    "#### Follow-up Beneficiaries Sex and Age Groups"
   ]
  },
  {
   "cell_type": "code",
   "execution_count": null,
   "id": "ffd8604caec6b2ef",
   "metadata": {
    "ExecuteTime": {
     "end_time": "2024-10-18T14:30:49.148875Z",
     "start_time": "2024-10-18T14:30:49.132484Z"
    }
   },
   "outputs": [],
   "source": [
    "# f_fua = pd.merge(filtered_fua, rebuilt_scr[[\"rid\", \"sex\", \"age\"]], on=\"rid\", how=\"left\")\n",
    "# f_fua[[\"rid\", \"fcid\", \"sex\", \"age\"]]"
   ]
  },
  {
   "cell_type": "code",
   "execution_count": null,
   "id": "ecfc5d957551c2f2",
   "metadata": {
    "ExecuteTime": {
     "end_time": "2024-10-18T14:31:03.567808Z",
     "start_time": "2024-10-18T14:31:03.559290Z"
    },
    "collapsed": false
   },
   "outputs": [],
   "source": [
    "# f_fua[\"sex\"].value_counts()"
   ]
  },
  {
   "cell_type": "code",
   "execution_count": null,
   "id": "877d310ce3d8bf1d",
   "metadata": {
    "ExecuteTime": {
     "end_time": "2024-10-18T14:38:33.719268Z",
     "start_time": "2024-10-18T14:38:33.707548Z"
    },
    "collapsed": false
   },
   "outputs": [],
   "source": [
    "# categorize_and_count_ages(f_fua[\"age\"])"
   ]
  },
  {
   "cell_type": "code",
   "execution_count": null,
   "id": "42f995c03dd1af07",
   "metadata": {
    "collapsed": false
   },
   "outputs": [],
   "source": []
  },
  {
   "cell_type": "code",
   "execution_count": null,
   "id": "ed03ecab056996ee",
   "metadata": {
    "collapsed": false
   },
   "outputs": [],
   "source": []
  }
 ],
 "metadata": {
  "kernelspec": {
   "display_name": ".venv",
   "language": "python",
   "name": "python3"
  },
  "language_info": {
   "codemirror_mode": {
    "name": "ipython",
    "version": 3
   },
   "file_extension": ".py",
   "mimetype": "text/x-python",
   "name": "python",
   "nbconvert_exporter": "python",
   "pygments_lexer": "ipython3",
   "version": "3.12.2"
  }
 },
 "nbformat": 4,
 "nbformat_minor": 5
}
