{
 "cells": [
  {
   "cell_type": "code",
   "execution_count": null,
   "id": "initial_id",
   "metadata": {
    "collapsed": true
   },
   "source": [
    "import pandas as pd\n",
    "\n",
    "from src.all_in_one import *\n",
    "from src.dataframes_calls import *\n",
    "from src.analysis_functions import *"
   ],
   "outputs": []
  },
  {
   "cell_type": "code",
   "source": [
    "# scr, scr_dataset = get_df(scr_path, scr_sheet), Dataset(config_file, scr_sheet)\n",
    "# scr = dtype_trans(scr, scr_dataset)\n"
   ],
   "metadata": {
    "collapsed": false
   },
   "id": "b173d611f3b3d0a6",
   "execution_count": null,
   "outputs": []
  },
  {
   "cell_type": "code",
   "source": [
    "# int, int_dataset = get_df(int_path, int_sheet), Dataset(config_file, int_sheet)\n",
    "# int = dtype_trans(int, int_dataset)"
   ],
   "metadata": {
    "collapsed": false
   },
   "id": "dbcda22d955ff593",
   "execution_count": null,
   "outputs": []
  },
  {
   "cell_type": "code",
   "source": [
    "# int"
   ],
   "metadata": {
    "collapsed": false
   },
   "id": "aec5a622dea8c39e",
   "execution_count": null,
   "outputs": []
  },
  {
   "cell_type": "code",
   "source": [
    "assessments = pd.read_excel(r\"C:\\Users\\myagh\\fc-performeter\\data\\processed\\0124\\export_13916218.xlsx\")"
   ],
   "metadata": {
    "collapsed": false
   },
   "id": "6dad28d0cb9e1877",
   "execution_count": null,
   "outputs": []
  },
  {
   "cell_type": "code",
   "source": [
    "assessments = assessments[assessments['ADMINNUM'] == 0]"
   ],
   "metadata": {
    "collapsed": false
   },
   "id": "343849b23a3bee7b",
   "execution_count": null,
   "outputs": []
  },
  {
   "cell_type": "code",
   "source": [
    "assessments"
   ],
   "metadata": {
    "collapsed": false
   },
   "id": "414b5cb59d3975c5",
   "execution_count": null,
   "outputs": []
  },
  {
   "cell_type": "code",
   "source": [
    "assessments['RATEDATE'] = pd.to_datetime(assessments['RATEDATE'], format='mixed').dt.strftime('%Y-%m-%d')"
   ],
   "metadata": {
    "collapsed": false
   },
   "id": "f6c4e824555ca3c7",
   "execution_count": null,
   "outputs": []
  },
  {
   "cell_type": "code",
   "source": [
    "assessments['GENDER'].value_counts(dropna=False)"
   ],
   "metadata": {
    "collapsed": false
   },
   "id": "21106a5f02f36bee",
   "execution_count": null,
   "outputs": []
  },
  {
   "cell_type": "code",
   "source": [
    "captured = assessments[assessments['CAPTURED'] == 1.0]\n",
    "captured['GENDER'].value_counts(dropna=False)"
   ],
   "metadata": {
    "collapsed": false
   },
   "id": "3af76f33196ae62",
   "execution_count": null,
   "outputs": []
  },
  {
   "cell_type": "code",
   "source": [
    "family_held = assessments[assessments['FAMHELD'] == 1.0]"
   ],
   "metadata": {
    "collapsed": false
   },
   "id": "d42c5b3d9ec84735",
   "execution_count": null,
   "outputs": []
  },
  {
   "cell_type": "code",
   "source": [
    "family_held['GENDER'].value_counts(dropna=False)"
   ],
   "metadata": {
    "collapsed": false
   },
   "id": "c21c29f3ab80108b",
   "execution_count": null,
   "outputs": []
  },
  {
   "cell_type": "code",
   "source": [
    "ages = family_held['AGE']"
   ],
   "metadata": {
    "collapsed": false
   },
   "id": "b97598d4b7864560",
   "execution_count": null,
   "outputs": []
  },
  {
   "cell_type": "code",
   "source": [
    "categorize_and_count_ages(ages)"
   ],
   "metadata": {
    "collapsed": false
   },
   "id": "f8ace38100344540",
   "execution_count": null,
   "outputs": []
  },
  {
   "cell_type": "code",
   "source": [
    "family_held['RELIGION'].value_counts(dropna=False)"
   ],
   "metadata": {
    "collapsed": false
   },
   "id": "abc7544c0bc03833",
   "execution_count": null,
   "outputs": []
  }
 ],
 "metadata": {
  "kernelspec": {
   "display_name": "Python 3",
   "language": "python",
   "name": "python3"
  },
  "language_info": {
   "codemirror_mode": {
    "name": "ipython",
    "version": 2
   },
   "file_extension": ".py",
   "mimetype": "text/x-python",
   "name": "python",
   "nbconvert_exporter": "python",
   "pygments_lexer": "ipython2",
   "version": "2.7.6"
  }
 },
 "nbformat": 4,
 "nbformat_minor": 5
}
