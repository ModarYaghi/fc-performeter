{
 "cells": [
  {
   "cell_type": "code",
   "execution_count": null,
   "id": "initial_id",
   "metadata": {
    "collapsed": true
   },
   "outputs": [],
   "source": [
    "import pandas as pd\n",
    "from src.all_in_one import *\n",
    "from src.analysis_functions import *"
   ]
  },
  {
   "cell_type": "code",
   "outputs": [],
   "source": [
    "threshold = '2023-12-31'\n",
    "_threshold = '2024-03-01'"
   ],
   "metadata": {
    "collapsed": false
   },
   "id": "c60f6bf25e196d2",
   "execution_count": null
  },
  {
   "cell_type": "code",
   "outputs": [],
   "source": [
    "# Screening\n",
    "scr = get_df(scr_path, scr_sheet)\n",
    "unique_scr = scr.drop_duplicates(subset='rid')"
   ],
   "metadata": {
    "collapsed": false
   },
   "id": "bf8523517d73b1d5",
   "execution_count": null
  },
  {
   "cell_type": "code",
   "outputs": [],
   "source": [
    "psfs_dataset = Dataset(config_file, psfs_sheet)\n",
    "psfs = get_df(psfs_path, psfs_sheet)"
   ],
   "metadata": {
    "collapsed": false
   },
   "id": "2b731a566e9cd92e",
   "execution_count": null
  },
  {
   "cell_type": "code",
   "outputs": [],
   "source": [
    "filtered_psfs = psfs[\n",
    "    ((psfs['psfs'] > threshold) & (psfs['psfs'] < _threshold))\n",
    "]"
   ],
   "metadata": {
    "collapsed": false
   },
   "id": "69c93e1f7e6ea68f",
   "execution_count": null
  },
  {
   "cell_type": "code",
   "outputs": [],
   "source": [
    "filtered_psfs"
   ],
   "metadata": {
    "collapsed": false
   },
   "id": "e6ad1ef4ff43357b",
   "execution_count": null
  },
  {
   "cell_type": "code",
   "outputs": [],
   "source": [
    "filtered_psfs['sex'].value_counts()"
   ],
   "metadata": {
    "collapsed": false
   },
   "id": "b4e87d6406c01e6b",
   "execution_count": null
  },
  {
   "cell_type": "code",
   "outputs": [],
   "source": [
    "categorize_and_count_ages(filtered_psfs['age'])"
   ],
   "metadata": {
    "collapsed": false
   },
   "id": "219f78b608fbdc3d",
   "execution_count": null
  },
  {
   "cell_type": "code",
   "outputs": [],
   "source": [],
   "metadata": {
    "collapsed": false
   },
   "id": "a49e534ceb75b265",
   "execution_count": null
  },
  {
   "cell_type": "code",
   "outputs": [],
   "source": [
    "ptint_dataset = Dataset(config_file, ptint_sheet)\n",
    "ptint = get_df(ptint_path, ptint_sheet)\n",
    "unique_psfs = psfs.drop_duplicates(subset='rid')\n",
    "ptint = pd.merge(ptint, unique_psfs[['rid', 'sex', 'age']], on='rid', how='left')"
   ],
   "metadata": {
    "collapsed": false
   },
   "id": "e6b72e5bf040ae2a",
   "execution_count": null
  },
  {
   "cell_type": "code",
   "outputs": [],
   "source": [
    "ptint"
   ],
   "metadata": {
    "collapsed": false
   },
   "id": "d9e28d98cd11fd1c",
   "execution_count": null
  },
  {
   "cell_type": "code",
   "outputs": [],
   "source": [
    "_ptint = filter_df_by_date(ptint, ptint_dataset.dvars, threshold, comparison_type='a')\n",
    "__ptint = filter_df_by_date(_ptint, ptint_dataset.dvars, _threshold, comparison_type='b')"
   ],
   "metadata": {
    "collapsed": false
   },
   "id": "a9bff5c56de563ce",
   "execution_count": null
  },
  {
   "cell_type": "code",
   "outputs": [],
   "source": [
    "__ptint"
   ],
   "metadata": {
    "collapsed": false
   },
   "id": "a2fe002f4bf48b9b",
   "execution_count": null
  },
  {
   "cell_type": "code",
   "outputs": [],
   "source": [],
   "metadata": {
    "collapsed": false
   },
   "id": "90936462f1737801"
  },
  {
   "cell_type": "code",
   "outputs": [],
   "source": [
    "ptfua_dataset = Dataset(config_file, ptfua_sheet)\n",
    "ptfua = get_df(ptfua_path, ptfua_sheet)"
   ],
   "metadata": {
    "collapsed": false
   },
   "id": "5d99bba320229e9f",
   "execution_count": null
  },
  {
   "cell_type": "code",
   "outputs": [],
   "source": [
    "# This method gives more accurate results\n",
    "filtered_ptfua = ptfua[\n",
    "    ((ptfua['fu_3m'] > threshold) & (ptfua['fu_3m'] < _threshold)) |\n",
    "    ((ptfua['fu_6m'] > threshold) & (ptfua['fu_6m'] < _threshold)) |\n",
    "    ((ptfua['fu_12m'] > threshold) & (ptfua['fu_12m'] < _threshold))\n",
    "    ]"
   ],
   "metadata": {
    "collapsed": false
   },
   "id": "138db2187abb7edc",
   "execution_count": null
  },
  {
   "cell_type": "code",
   "outputs": [],
   "source": [
    "filtered_ptfua"
   ],
   "metadata": {
    "collapsed": false
   },
   "id": "4b955d9ca3a517b9",
   "execution_count": null
  },
  {
   "cell_type": "code",
   "outputs": [],
   "source": [],
   "metadata": {
    "collapsed": false
   },
   "id": "30b168a37e31e8b9"
  }
 ],
 "metadata": {
  "kernelspec": {
   "display_name": "Python 3",
   "language": "python",
   "name": "python3"
  },
  "language_info": {
   "codemirror_mode": {
    "name": "ipython",
    "version": 2
   },
   "file_extension": ".py",
   "mimetype": "text/x-python",
   "name": "python",
   "nbconvert_exporter": "python",
   "pygments_lexer": "ipython2",
   "version": "2.7.6"
  }
 },
 "nbformat": 4,
 "nbformat_minor": 5
}
