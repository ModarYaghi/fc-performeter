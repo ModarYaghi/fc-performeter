{
 "cells": [
  {
   "cell_type": "code",
   "id": "initial_id",
   "metadata": {
    "collapsed": true
   },
   "source": [
    "import pandas as pd\n",
    "\n",
    "from src.all_in_one import *\n",
    "from src.analysis_functions import *"
   ],
   "outputs": [],
   "execution_count": null
  },
  {
   "cell_type": "code",
   "source": [
    "# Screening\n",
    "scr = get_df(scr_path, scr_sheet)\n",
    "unique_scr = scr.drop_duplicates(subset='rid')"
   ],
   "metadata": {
    "collapsed": false
   },
   "id": "bf8523517d73b1d5",
   "outputs": [],
   "execution_count": null
  },
  {
   "metadata": {},
   "cell_type": "code",
   "source": "unique_scr",
   "id": "4237629697ec3885",
   "outputs": [],
   "execution_count": null
  },
  {
   "cell_type": "code",
   "source": [
    "psfs_dataset = Dataset(config_file, psfs_sheet)\n",
    "psfs = get_df(psfs_path, psfs_sheet)\n",
    "unique_psfs = psfs.drop_duplicates(subset='rid')\n",
    "# psfs = pd.merge(psfs, unique_scr[['rid', 'sex', 'age', 'sc_s1']], on='rid', how='left')\n",
    "filtered_psfs = filter_dataframe_on_date(psfs, psfs_dataset.dvars, start, end, FilterType.IN)"
   ],
   "metadata": {
    "collapsed": false
   },
   "id": "2b731a566e9cd92e",
   "outputs": [],
   "execution_count": null
  },
  {
   "metadata": {},
   "cell_type": "code",
   "source": "psfs",
   "id": "9c7be979b2da5683",
   "outputs": [],
   "execution_count": null
  },
  {
   "cell_type": "code",
   "source": [
    "# filtered_psfs.to_clipboard(index=False)\n",
    "# filtered_psfs"
   ],
   "metadata": {
    "collapsed": false
   },
   "id": "e6ad1ef4ff43357b",
   "outputs": [],
   "execution_count": null
  },
  {
   "cell_type": "code",
   "source": "# filtered_psfs['sex'].value_counts()",
   "metadata": {
    "collapsed": false
   },
   "id": "b4e87d6406c01e6b",
   "outputs": [],
   "execution_count": null
  },
  {
   "cell_type": "code",
   "source": "# categorize_and_count_ages(filtered_psfs['age'])",
   "metadata": {
    "collapsed": false
   },
   "id": "219f78b608fbdc3d",
   "outputs": [],
   "execution_count": null
  },
  {
   "cell_type": "code",
   "source": [],
   "metadata": {
    "collapsed": false
   },
   "id": "a49e534ceb75b265",
   "outputs": [],
   "execution_count": null
  },
  {
   "cell_type": "code",
   "source": [
    "ptint_dataset = Dataset(config_file, ptint_sheet)\n",
    "pt_int = get_df(ptint_path, ptint_sheet)\n",
    "pt_int = pd.merge(pt_int, unique_psfs[['rid', 'sex', 'age']], on='rid', how='left')\n",
    "pt_int = pd.merge(pt_int, unique_scr[['rid', 'sex', 'age']], on='rid', how='left')\n",
    "filtered_pt_int = filter_dataframe_on_date(pt_int, ptint_dataset.dvars, start, end, FilterType.IN)"
   ],
   "metadata": {
    "collapsed": false
   },
   "id": "e6b72e5bf040ae2a",
   "outputs": [],
   "execution_count": null
  },
  {
   "cell_type": "code",
   "source": "filtered_pt_int.to_clipboard(index=False)",
   "metadata": {
    "collapsed": false
   },
   "id": "d9e28d98cd11fd1c",
   "outputs": [],
   "execution_count": null
  },
  {
   "cell_type": "code",
   "source": [],
   "metadata": {
    "collapsed": false
   },
   "id": "90936462f1737801",
   "outputs": [],
   "execution_count": null
  },
  {
   "cell_type": "code",
   "source": [
    "ptfua_dataset = Dataset(config_file, ptfua_sheet)\n",
    "pt_fua = get_df(ptfua_path, ptfua_sheet)\n",
    "pt_fua = pd.merge(pt_fua, unique_psfs[['rid', 'sex', 'age']], on='rid', how='left')\n",
    "pt_fua = pd.merge(pt_fua, unique_scr[['rid', 'sex', 'age']], on='rid', how='left')\n",
    "filtered_pt_fua = filter_dataframe_on_date(pt_fua, ptfua_dataset.dvars, start, end, FilterType.IN)"
   ],
   "metadata": {
    "collapsed": false
   },
   "id": "5d99bba320229e9f",
   "outputs": [],
   "execution_count": null
  },
  {
   "cell_type": "code",
   "source": "filtered_pt_fua.to_clipboard(index=False)",
   "metadata": {
    "collapsed": false
   },
   "id": "4b955d9ca3a517b9",
   "outputs": [],
   "execution_count": null
  },
  {
   "cell_type": "code",
   "source": [],
   "metadata": {
    "collapsed": false
   },
   "id": "30b168a37e31e8b9",
   "outputs": [],
   "execution_count": null
  }
 ],
 "metadata": {
  "kernelspec": {
   "display_name": "Python 3",
   "language": "python",
   "name": "python3"
  },
  "language_info": {
   "codemirror_mode": {
    "name": "ipython",
    "version": 2
   },
   "file_extension": ".py",
   "mimetype": "text/x-python",
   "name": "python",
   "nbconvert_exporter": "python",
   "pygments_lexer": "ipython2",
   "version": "2.7.6"
  }
 },
 "nbformat": 4,
 "nbformat_minor": 5
}
