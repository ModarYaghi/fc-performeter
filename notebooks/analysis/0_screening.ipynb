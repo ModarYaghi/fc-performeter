{
 "cells": [
  {
   "cell_type": "code",
   "execution_count": 3,
   "id": "initial_id",
   "metadata": {
    "ExecuteTime": {
     "end_time": "2024-10-18T11:13:30.454360Z",
     "start_time": "2024-10-18T11:13:30.449650Z"
    },
    "collapsed": true
   },
   "outputs": [
    {
     "name": "stderr",
     "output_type": "stream",
     "text": [
      "2024-10-21 23:42:53,071 - INFO - Processed 711 records so far.\n",
      "2024-10-21 23:42:54,018 - INFO - Processed 328 records so far.\n"
     ]
    }
   ],
   "source": [
    "from src.all_in_one import *\n",
    "from src.basic_variables import *\n",
    "from src.analysis_functions import *"
   ]
  },
  {
   "cell_type": "code",
   "execution_count": 4,
   "id": "bfccf9591ba8dcf5",
   "metadata": {
    "ExecuteTime": {
     "end_time": "2024-10-18T10:17:23.701670Z",
     "start_time": "2024-10-18T10:17:23.508713Z"
    },
    "collapsed": false
   },
   "outputs": [],
   "source": [
    "scr_file = path_manager.get_data_file(Category.PS, PSFile.SCR)\n",
    "scr_dataset = Dataset(config_file, scr_file.sheet)\n",
    "scr = get_df(scr_file.path, scr_file.sheet)\n",
    "filtered_scr = filter_dataframe_on_date(\n",
    "    scr, scr_dataset.dvars, START, END, FilterType.IN\n",
    ")"
   ]
  },
  {
   "cell_type": "code",
   "execution_count": 3,
   "id": "e20049086bf4bb49",
   "metadata": {
    "ExecuteTime": {
     "end_time": "2024-10-18T10:17:35.888043Z",
     "start_time": "2024-10-18T10:17:35.884019Z"
    }
   },
   "outputs": [],
   "source": [
    "# filtered_scr"
   ]
  },
  {
   "cell_type": "markdown",
   "id": "be942370397907d4",
   "metadata": {},
   "source": [
    "## New Screening"
   ]
  },
  {
   "cell_type": "code",
   "execution_count": 47,
   "id": "3b2142860970dfc0",
   "metadata": {
    "ExecuteTime": {
     "end_time": "2024-10-18T15:00:11.494591Z",
     "start_time": "2024-10-18T15:00:11.467287Z"
    }
   },
   "outputs": [],
   "source": [
    "new_scr = filter_dataframe_on_date(\n",
    "    scr,\n",
    "    \"sc_s1\",\n",
    "    START,\n",
    "    END,\n",
    ")\n",
    "# new_scr"
   ]
  },
  {
   "cell_type": "code",
   "execution_count": 6,
   "id": "925313fcaefeaed3",
   "metadata": {
    "ExecuteTime": {
     "end_time": "2024-10-18T10:19:07.105737Z",
     "start_time": "2024-10-18T10:19:07.096607Z"
    }
   },
   "outputs": [],
   "source": [
    "re_scr = filter_dataframe_on_date(\n",
    "    scr,\n",
    "    \"sc_re\",\n",
    "    START,\n",
    "    END,\n",
    ")\n",
    "# re_scr"
   ]
  },
  {
   "cell_type": "code",
   "execution_count": 8,
   "id": "63eb48606c1827bf",
   "metadata": {
    "ExecuteTime": {
     "end_time": "2024-10-18T10:19:54.498033Z",
     "start_time": "2024-10-18T10:19:54.487718Z"
    }
   },
   "outputs": [
    {
     "data": {
      "text/plain": [
       "sex\n",
       "Female    9\n",
       "Male      1\n",
       "Name: count, dtype: int64"
      ]
     },
     "execution_count": 8,
     "metadata": {},
     "output_type": "execute_result"
    }
   ],
   "source": [
    "pei_ass = filter_dataframe_on_date(\n",
    "    scr,\n",
    "    \"pei_pre_as\",\n",
    "    START,\n",
    "    END,\n",
    ")\n",
    "pei_ass[\"sex\"].value_counts()"
   ]
  },
  {
   "cell_type": "markdown",
   "id": "97284f2b8606e7cb",
   "metadata": {},
   "source": [
    "## New Screening Sex and Age Group"
   ]
  },
  {
   "cell_type": "code",
   "execution_count": 48,
   "id": "f41a7fdd8a6083d3",
   "metadata": {
    "ExecuteTime": {
     "end_time": "2024-10-18T15:00:14.997654Z",
     "start_time": "2024-10-18T15:00:14.994172Z"
    }
   },
   "outputs": [],
   "source": [
    "# new_scr['sex'].value_counts(dropna=False)"
   ]
  },
  {
   "cell_type": "code",
   "execution_count": 49,
   "id": "9553d7141b33ff94",
   "metadata": {
    "ExecuteTime": {
     "end_time": "2024-10-18T15:00:16.817863Z",
     "start_time": "2024-10-18T15:00:16.813712Z"
    },
    "collapsed": false
   },
   "outputs": [],
   "source": [
    "# categorize_and_count_ages(new_scr['age'])"
   ]
  },
  {
   "cell_type": "code",
   "execution_count": 50,
   "id": "5f31d8a99f1f3853",
   "metadata": {
    "ExecuteTime": {
     "end_time": "2024-10-18T15:00:21.223515Z",
     "start_time": "2024-10-18T15:00:21.215485Z"
    },
    "collapsed": false
   },
   "outputs": [],
   "source": [
    "new_scr_source = new_scr[\"source\"].value_counts(dropna=False)\n",
    "new_scr_source_order = [\n",
    "    \"IRM\",\n",
    "    \"ADMSP beneficiary (current or former)\",\n",
    "    \"Family member or friend\",\n",
    "    \"ADMSP member\",\n",
    "    \"Social Media\",\n",
    "    \"Other\",\n",
    "]\n",
    "new_scr_source = new_scr_source.reindex(new_scr_source_order)\n",
    "# new_scr_source\n",
    "# new_scr_source.index"
   ]
  },
  {
   "cell_type": "code",
   "execution_count": 27,
   "id": "266c33541192ba32",
   "metadata": {
    "ExecuteTime": {
     "end_time": "2024-10-18T10:46:38.822890Z",
     "start_time": "2024-10-18T10:46:38.816541Z"
    },
    "collapsed": false
   },
   "outputs": [
    {
     "data": {
      "text/plain": [
       "['need_mhpss', 'need_trw', 'need_out_ref', 'need_tmh', 'need_pei']"
      ]
     },
     "execution_count": 27,
     "metadata": {},
     "output_type": "execute_result"
    }
   ],
   "source": [
    "scr_dataset.bovars[1:]"
   ]
  },
  {
   "cell_type": "code",
   "execution_count": 51,
   "id": "285bf0aacef5649b",
   "metadata": {
    "ExecuteTime": {
     "end_time": "2024-10-18T15:00:28.429465Z",
     "start_time": "2024-10-18T15:00:28.425591Z"
    },
    "collapsed": false
   },
   "outputs": [],
   "source": [
    "# for var in scr_dataset[1:]:\n",
    "# new_scr['need_mhpss'].value_counts()"
   ]
  },
  {
   "cell_type": "markdown",
   "id": "965cf400e8084115",
   "metadata": {},
   "source": [
    "### Getting the Sequences of Needs"
   ]
  },
  {
   "cell_type": "code",
   "execution_count": 36,
   "id": "565953c8870af373",
   "metadata": {
    "ExecuteTime": {
     "end_time": "2024-10-18T12:02:12.203838Z",
     "start_time": "2024-10-18T12:02:12.192498Z"
    }
   },
   "outputs": [],
   "source": [
    "count_df = new_scr[scr_dataset.bovars[1:]].apply(lambda x: x.value_counts()).fillna(0)\n",
    "count_df = count_df.T.reset_index().rename(columns={\"index\": \"needs\"})  # Transposing"
   ]
  },
  {
   "cell_type": "code",
   "execution_count": 52,
   "id": "c4445c2449fff8c5",
   "metadata": {
    "ExecuteTime": {
     "end_time": "2024-10-18T15:00:31.700470Z",
     "start_time": "2024-10-18T15:00:31.696880Z"
    }
   },
   "outputs": [],
   "source": [
    "# count_df"
   ]
  },
  {
   "cell_type": "code",
   "execution_count": null,
   "id": "d1a12ace31250de",
   "metadata": {
    "ExecuteTime": {
     "end_time": "2024-10-18T12:55:08.399957Z",
     "start_time": "2024-10-18T12:55:08.395590Z"
    }
   },
   "outputs": [],
   "source": []
  }
 ],
 "metadata": {
  "kernelspec": {
   "display_name": "Python 3",
   "language": "python",
   "name": "python3"
  },
  "language_info": {
   "codemirror_mode": {
    "name": "ipython",
    "version": 3
   },
   "file_extension": ".py",
   "mimetype": "text/x-python",
   "name": "python",
   "nbconvert_exporter": "python",
   "pygments_lexer": "ipython3",
   "version": "3.11.10"
  }
 },
 "nbformat": 4,
 "nbformat_minor": 5
}
