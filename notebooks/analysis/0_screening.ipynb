{
 "cells": [
  {
   "cell_type": "code",
   "id": "initial_id",
   "metadata": {
    "collapsed": true,
    "ExecuteTime": {
     "end_time": "2024-10-18T11:13:30.454360Z",
     "start_time": "2024-10-18T11:13:30.449650Z"
    }
   },
   "source": "from src.all_in_one import *",
   "outputs": [],
   "execution_count": 32
  },
  {
   "cell_type": "code",
   "source": [
    "scr_file = path_manager.get_data_file(Category.PS, PSFile.SCR)\n",
    "scr_dataset = Dataset(config_file, scr_file.sheet)\n",
    "scr = get_df(scr_file.path, scr_file.sheet)\n",
    "filtered_scr = filter_dataframe_on_date(scr, scr_dataset.dvars, START, END,FilterType.IN)"
   ],
   "metadata": {
    "collapsed": false,
    "ExecuteTime": {
     "end_time": "2024-10-18T10:17:23.701670Z",
     "start_time": "2024-10-18T10:17:23.508713Z"
    }
   },
   "id": "bfccf9591ba8dcf5",
   "outputs": [],
   "execution_count": 2
  },
  {
   "metadata": {
    "ExecuteTime": {
     "end_time": "2024-10-18T10:17:35.888043Z",
     "start_time": "2024-10-18T10:17:35.884019Z"
    }
   },
   "cell_type": "code",
   "source": "# filtered_scr",
   "id": "e20049086bf4bb49",
   "outputs": [],
   "execution_count": 3
  },
  {
   "metadata": {},
   "cell_type": "markdown",
   "source": "## New Screening",
   "id": "be942370397907d4"
  },
  {
   "metadata": {
    "ExecuteTime": {
     "end_time": "2024-10-18T15:00:11.494591Z",
     "start_time": "2024-10-18T15:00:11.467287Z"
    }
   },
   "cell_type": "code",
   "source": [
    "new_scr = filter_dataframe_on_date(scr, 'sc_s1', START, END,)\n",
    "# new_scr"
   ],
   "id": "3b2142860970dfc0",
   "outputs": [],
   "execution_count": 47
  },
  {
   "metadata": {
    "ExecuteTime": {
     "end_time": "2024-10-18T10:19:07.105737Z",
     "start_time": "2024-10-18T10:19:07.096607Z"
    }
   },
   "cell_type": "code",
   "source": [
    "re_scr = filter_dataframe_on_date(scr, 'sc_re', START, END,)\n",
    "# re_scr"
   ],
   "id": "925313fcaefeaed3",
   "outputs": [],
   "execution_count": 6
  },
  {
   "metadata": {
    "ExecuteTime": {
     "end_time": "2024-10-18T10:19:54.498033Z",
     "start_time": "2024-10-18T10:19:54.487718Z"
    }
   },
   "cell_type": "code",
   "source": [
    "pei_ass = filter_dataframe_on_date(scr, 'pei_pre_as', START, END,)\n",
    "# pei_ass"
   ],
   "id": "63eb48606c1827bf",
   "outputs": [],
   "execution_count": 8
  },
  {
   "metadata": {},
   "cell_type": "markdown",
   "source": "## New Screening Sex and Age Group",
   "id": "97284f2b8606e7cb"
  },
  {
   "metadata": {
    "ExecuteTime": {
     "end_time": "2024-10-18T15:00:14.997654Z",
     "start_time": "2024-10-18T15:00:14.994172Z"
    }
   },
   "cell_type": "code",
   "source": "# new_scr['sex'].value_counts(dropna=False)",
   "id": "f41a7fdd8a6083d3",
   "outputs": [],
   "execution_count": 48
  },
  {
   "cell_type": "code",
   "source": "# categorize_and_count_ages(new_scr['age'])",
   "metadata": {
    "collapsed": false,
    "ExecuteTime": {
     "end_time": "2024-10-18T15:00:16.817863Z",
     "start_time": "2024-10-18T15:00:16.813712Z"
    }
   },
   "id": "9553d7141b33ff94",
   "outputs": [],
   "execution_count": 49
  },
  {
   "cell_type": "code",
   "source": [
    "new_scr_source = new_scr['source'].value_counts(dropna=False)\n",
    "new_scr_source_order = ['IRM', 'ADMSP beneficiary (current or former)', 'Family member or friend', 'ADMSP member', 'Social Media', 'Other']\n",
    "new_scr_source = new_scr_source.reindex(new_scr_source_order)\n",
    "# new_scr_source\n",
    "# new_scr_source.index"
   ],
   "metadata": {
    "collapsed": false,
    "ExecuteTime": {
     "end_time": "2024-10-18T15:00:21.223515Z",
     "start_time": "2024-10-18T15:00:21.215485Z"
    }
   },
   "id": "5f31d8a99f1f3853",
   "outputs": [],
   "execution_count": 50
  },
  {
   "cell_type": "code",
   "source": "scr_dataset.bovars[1:]",
   "metadata": {
    "collapsed": false,
    "ExecuteTime": {
     "end_time": "2024-10-18T10:46:38.822890Z",
     "start_time": "2024-10-18T10:46:38.816541Z"
    }
   },
   "id": "266c33541192ba32",
   "outputs": [
    {
     "data": {
      "text/plain": [
       "['need_mhpss', 'need_trw', 'need_out_ref', 'need_tmh', 'need_pei']"
      ]
     },
     "execution_count": 27,
     "metadata": {},
     "output_type": "execute_result"
    }
   ],
   "execution_count": 27
  },
  {
   "cell_type": "code",
   "source": [
    "# for var in scr_dataset[1:]:\n",
    "# new_scr['need_mhpss'].value_counts()"
   ],
   "metadata": {
    "collapsed": false,
    "ExecuteTime": {
     "end_time": "2024-10-18T15:00:28.429465Z",
     "start_time": "2024-10-18T15:00:28.425591Z"
    }
   },
   "id": "285bf0aacef5649b",
   "outputs": [],
   "execution_count": 51
  },
  {
   "metadata": {},
   "cell_type": "markdown",
   "source": "### Getting the Sequences of Needs",
   "id": "965cf400e8084115"
  },
  {
   "metadata": {
    "ExecuteTime": {
     "end_time": "2024-10-18T12:02:12.203838Z",
     "start_time": "2024-10-18T12:02:12.192498Z"
    }
   },
   "cell_type": "code",
   "source": [
    "count_df = new_scr[scr_dataset.bovars[1:]].apply(lambda x: x.value_counts()).fillna(0)\n",
    "count_df = count_df.T.reset_index().rename(columns={'index': 'needs'})  # Transposing"
   ],
   "id": "565953c8870af373",
   "outputs": [],
   "execution_count": 36
  },
  {
   "metadata": {
    "ExecuteTime": {
     "end_time": "2024-10-18T15:00:31.700470Z",
     "start_time": "2024-10-18T15:00:31.696880Z"
    }
   },
   "cell_type": "code",
   "source": "# count_df",
   "id": "c4445c2449fff8c5",
   "outputs": [],
   "execution_count": 52
  },
  {
   "metadata": {
    "ExecuteTime": {
     "end_time": "2024-10-18T12:55:08.399957Z",
     "start_time": "2024-10-18T12:55:08.395590Z"
    }
   },
   "cell_type": "code",
   "source": "",
   "id": "d1a12ace31250de",
   "outputs": [],
   "execution_count": null
  }
 ],
 "metadata": {
  "kernelspec": {
   "display_name": "Python 3",
   "language": "python",
   "name": "python3"
  },
  "language_info": {
   "codemirror_mode": {
    "name": "ipython",
    "version": 2
   },
   "file_extension": ".py",
   "mimetype": "text/x-python",
   "name": "python",
   "nbconvert_exporter": "python",
   "pygments_lexer": "ipython2",
   "version": "2.7.6"
  }
 },
 "nbformat": 4,
 "nbformat_minor": 5
}
