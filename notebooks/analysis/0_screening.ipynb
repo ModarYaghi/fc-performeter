{
 "cells": [
  {
   "cell_type": "code",
   "execution_count": 19,
   "id": "initial_id",
   "metadata": {
    "ExecuteTime": {
     "end_time": "2024-10-18T11:13:30.454360Z",
     "start_time": "2024-10-18T11:13:30.449650Z"
    },
    "collapsed": true
   },
   "outputs": [],
   "source": [
    "from src.all_in_one import *\n",
    "from src.basic_variables import *\n",
    "from src.analysis_functions import *"
   ]
  },
  {
   "cell_type": "code",
   "execution_count": 20,
   "id": "bfccf9591ba8dcf5",
   "metadata": {
    "ExecuteTime": {
     "end_time": "2024-10-18T10:17:23.701670Z",
     "start_time": "2024-10-18T10:17:23.508713Z"
    },
    "collapsed": false
   },
   "outputs": [],
   "source": [
    "scr_file = path_manager.get_data_file(Category.PS, PSFile.SCR)\n",
    "scr_dataset = Dataset(config_file, scr_file.sheet)\n",
    "scr = get_df(scr_file.path, scr_file.sheet)\n",
    "filtered_scr = filter_dataframe_on_date(\n",
    "    scr, scr_dataset.dvars, START, END, FilterType.IN\n",
    ")"
   ]
  },
  {
   "cell_type": "code",
   "execution_count": 10,
   "id": "d27d146f",
   "metadata": {},
   "outputs": [],
   "source": [
    "# scr.iloc[812, 2] = 'R1304'\n",
    "# scr.to_csv(scr_file.path, index=False)"
   ]
  },
  {
   "cell_type": "code",
   "execution_count": 3,
   "id": "c9a5990a",
   "metadata": {},
   "outputs": [],
   "source": [
    "# scr.to_clipboard(index=False)"
   ]
  },
  {
   "cell_type": "code",
   "execution_count": 21,
   "id": "e20049086bf4bb49",
   "metadata": {
    "ExecuteTime": {
     "end_time": "2024-10-18T10:17:35.888043Z",
     "start_time": "2024-10-18T10:17:35.884019Z"
    }
   },
   "outputs": [
    {
     "data": {
      "text/html": [
       "<div>\n",
       "<style scoped>\n",
       "    .dataframe tbody tr th:only-of-type {\n",
       "        vertical-align: middle;\n",
       "    }\n",
       "\n",
       "    .dataframe tbody tr th {\n",
       "        vertical-align: top;\n",
       "    }\n",
       "\n",
       "    .dataframe thead th {\n",
       "        text-align: right;\n",
       "    }\n",
       "</style>\n",
       "<table border=\"1\" class=\"dataframe\">\n",
       "  <thead>\n",
       "    <tr style=\"text-align: right;\">\n",
       "      <th></th>\n",
       "      <th>scrsp</th>\n",
       "      <th>scspi</th>\n",
       "      <th>rid</th>\n",
       "      <th>firstname</th>\n",
       "      <th>lastname</th>\n",
       "      <th>sex</th>\n",
       "      <th>age</th>\n",
       "      <th>nat</th>\n",
       "      <th>sc_loc</th>\n",
       "      <th>sc_s1</th>\n",
       "      <th>pei_pre_as</th>\n",
       "      <th>sc_re</th>\n",
       "      <th>source</th>\n",
       "      <th>source_org</th>\n",
       "      <th>need_mhpss</th>\n",
       "      <th>need_trw</th>\n",
       "      <th>need_out_ref</th>\n",
       "      <th>need_tmh</th>\n",
       "      <th>need_pei</th>\n",
       "      <th>note</th>\n",
       "    </tr>\n",
       "  </thead>\n",
       "  <tbody>\n",
       "    <tr>\n",
       "      <th>47</th>\n",
       "      <td>IJ</td>\n",
       "      <td>57</td>\n",
       "      <td>R0885</td>\n",
       "      <td>محمد</td>\n",
       "      <td>دادا</td>\n",
       "      <td>Male</td>\n",
       "      <td>62</td>\n",
       "      <td>Syrian</td>\n",
       "      <td>GTZ</td>\n",
       "      <td>2023-09-11</td>\n",
       "      <td>NaT</td>\n",
       "      <td>2024-11-08</td>\n",
       "      <td>IRM</td>\n",
       "      <td>NaN</td>\n",
       "      <td>Yes</td>\n",
       "      <td>No</td>\n",
       "      <td>Yes</td>\n",
       "      <td>No</td>\n",
       "      <td>Yes</td>\n",
       "      <td>Art Therapy</td>\n",
       "    </tr>\n",
       "    <tr>\n",
       "      <th>119</th>\n",
       "      <td>IJ</td>\n",
       "      <td>124</td>\n",
       "      <td>R0799</td>\n",
       "      <td>ندى</td>\n",
       "      <td>خليفة</td>\n",
       "      <td>Female</td>\n",
       "      <td>36</td>\n",
       "      <td>Syrian</td>\n",
       "      <td>GTZ</td>\n",
       "      <td>2023-01-26</td>\n",
       "      <td>2024-11-15</td>\n",
       "      <td>NaT</td>\n",
       "      <td>Family member or friend</td>\n",
       "      <td>NaN</td>\n",
       "      <td>Yes</td>\n",
       "      <td>No</td>\n",
       "      <td>No</td>\n",
       "      <td>No</td>\n",
       "      <td>Yes</td>\n",
       "      <td>NaN</td>\n",
       "    </tr>\n",
       "    <tr>\n",
       "      <th>154</th>\n",
       "      <td>IJ</td>\n",
       "      <td>159</td>\n",
       "      <td>R1477</td>\n",
       "      <td>أسماء</td>\n",
       "      <td>كردية</td>\n",
       "      <td>Female</td>\n",
       "      <td>34</td>\n",
       "      <td>Syrian</td>\n",
       "      <td>GTZ</td>\n",
       "      <td>2024-10-08</td>\n",
       "      <td>NaT</td>\n",
       "      <td>NaT</td>\n",
       "      <td>ADMSP member</td>\n",
       "      <td>NaN</td>\n",
       "      <td>Yes</td>\n",
       "      <td>No</td>\n",
       "      <td>No</td>\n",
       "      <td>No</td>\n",
       "      <td>No</td>\n",
       "      <td>NaN</td>\n",
       "    </tr>\n",
       "    <tr>\n",
       "      <th>155</th>\n",
       "      <td>IJ</td>\n",
       "      <td>160</td>\n",
       "      <td>R0189</td>\n",
       "      <td>هالة</td>\n",
       "      <td>غزالة</td>\n",
       "      <td>Female</td>\n",
       "      <td>61</td>\n",
       "      <td>Syrian</td>\n",
       "      <td>GTZ</td>\n",
       "      <td>NaT</td>\n",
       "      <td>NaT</td>\n",
       "      <td>2024-10-30</td>\n",
       "      <td>ADMSP beneficiary (current or former)</td>\n",
       "      <td>NaN</td>\n",
       "      <td>No</td>\n",
       "      <td>Yes</td>\n",
       "      <td>Yes</td>\n",
       "      <td>No</td>\n",
       "      <td>No</td>\n",
       "      <td>اغلاق</td>\n",
       "    </tr>\n",
       "    <tr>\n",
       "      <th>156</th>\n",
       "      <td>IJ</td>\n",
       "      <td>161</td>\n",
       "      <td>R0653</td>\n",
       "      <td>علي</td>\n",
       "      <td>حسين محمد</td>\n",
       "      <td>Male</td>\n",
       "      <td>34</td>\n",
       "      <td>Syrian</td>\n",
       "      <td>GTZ</td>\n",
       "      <td>2024-10-31</td>\n",
       "      <td>NaT</td>\n",
       "      <td>NaT</td>\n",
       "      <td>IRM</td>\n",
       "      <td>NaN</td>\n",
       "      <td>Yes</td>\n",
       "      <td>No</td>\n",
       "      <td>No</td>\n",
       "      <td>No</td>\n",
       "      <td>No</td>\n",
       "      <td>NaN</td>\n",
       "    </tr>\n",
       "    <tr>\n",
       "      <th>...</th>\n",
       "      <td>...</td>\n",
       "      <td>...</td>\n",
       "      <td>...</td>\n",
       "      <td>...</td>\n",
       "      <td>...</td>\n",
       "      <td>...</td>\n",
       "      <td>...</td>\n",
       "      <td>...</td>\n",
       "      <td>...</td>\n",
       "      <td>...</td>\n",
       "      <td>...</td>\n",
       "      <td>...</td>\n",
       "      <td>...</td>\n",
       "      <td>...</td>\n",
       "      <td>...</td>\n",
       "      <td>...</td>\n",
       "      <td>...</td>\n",
       "      <td>...</td>\n",
       "      <td>...</td>\n",
       "      <td>...</td>\n",
       "    </tr>\n",
       "    <tr>\n",
       "      <th>814</th>\n",
       "      <td>YQ</td>\n",
       "      <td>194</td>\n",
       "      <td>R0872</td>\n",
       "      <td>عمر</td>\n",
       "      <td>تركي</td>\n",
       "      <td>Male</td>\n",
       "      <td>26</td>\n",
       "      <td>Syrian</td>\n",
       "      <td>GTZ</td>\n",
       "      <td>NaT</td>\n",
       "      <td>NaT</td>\n",
       "      <td>2024-11-06</td>\n",
       "      <td>IRM</td>\n",
       "      <td>NaN</td>\n",
       "      <td>No</td>\n",
       "      <td>No</td>\n",
       "      <td>Yes</td>\n",
       "      <td>No</td>\n",
       "      <td>No</td>\n",
       "      <td>احالة الى العلاج بالفن</td>\n",
       "    </tr>\n",
       "    <tr>\n",
       "      <th>815</th>\n",
       "      <td>YQ</td>\n",
       "      <td>195</td>\n",
       "      <td>R1498</td>\n",
       "      <td>محمد</td>\n",
       "      <td>اليمان</td>\n",
       "      <td>Male</td>\n",
       "      <td>58</td>\n",
       "      <td>Syrian</td>\n",
       "      <td>GTZ</td>\n",
       "      <td>2024-11-05</td>\n",
       "      <td>NaT</td>\n",
       "      <td>NaT</td>\n",
       "      <td>IRM</td>\n",
       "      <td>NaN</td>\n",
       "      <td>No</td>\n",
       "      <td>No</td>\n",
       "      <td>Yes</td>\n",
       "      <td>No</td>\n",
       "      <td>No</td>\n",
       "      <td>احالة الى العلاج بالفن</td>\n",
       "    </tr>\n",
       "    <tr>\n",
       "      <th>816</th>\n",
       "      <td>YQ</td>\n",
       "      <td>196</td>\n",
       "      <td>R1345</td>\n",
       "      <td>أحمد</td>\n",
       "      <td>قاسم</td>\n",
       "      <td>Male</td>\n",
       "      <td>31</td>\n",
       "      <td>Syrian</td>\n",
       "      <td>GTZ</td>\n",
       "      <td>2024-11-08</td>\n",
       "      <td>NaT</td>\n",
       "      <td>NaT</td>\n",
       "      <td>ADMSP beneficiary (current or former)</td>\n",
       "      <td>NaN</td>\n",
       "      <td>Yes</td>\n",
       "      <td>No</td>\n",
       "      <td>No</td>\n",
       "      <td>No</td>\n",
       "      <td>No</td>\n",
       "      <td>NaN</td>\n",
       "    </tr>\n",
       "    <tr>\n",
       "      <th>817</th>\n",
       "      <td>YQ</td>\n",
       "      <td>197</td>\n",
       "      <td>R1508</td>\n",
       "      <td>عمر</td>\n",
       "      <td>فياض</td>\n",
       "      <td>Male</td>\n",
       "      <td>30</td>\n",
       "      <td>Syrian</td>\n",
       "      <td>GTZ</td>\n",
       "      <td>2024-11-13</td>\n",
       "      <td>NaT</td>\n",
       "      <td>NaT</td>\n",
       "      <td>ADMSP member</td>\n",
       "      <td>NaN</td>\n",
       "      <td>No</td>\n",
       "      <td>No</td>\n",
       "      <td>Yes</td>\n",
       "      <td>No</td>\n",
       "      <td>No</td>\n",
       "      <td>احالة الى العلاج بالفن</td>\n",
       "    </tr>\n",
       "    <tr>\n",
       "      <th>818</th>\n",
       "      <td>YQ</td>\n",
       "      <td>198</td>\n",
       "      <td>R1358</td>\n",
       "      <td>زياد</td>\n",
       "      <td>الصيني</td>\n",
       "      <td>Male</td>\n",
       "      <td>44</td>\n",
       "      <td>Syrian</td>\n",
       "      <td>GTZ</td>\n",
       "      <td>2024-11-13</td>\n",
       "      <td>NaT</td>\n",
       "      <td>NaT</td>\n",
       "      <td>ADMSP beneficiary (current or former)</td>\n",
       "      <td>NaN</td>\n",
       "      <td>Yes</td>\n",
       "      <td>No</td>\n",
       "      <td>No</td>\n",
       "      <td>No</td>\n",
       "      <td>No</td>\n",
       "      <td>NaN</td>\n",
       "    </tr>\n",
       "  </tbody>\n",
       "</table>\n",
       "<p>65 rows × 20 columns</p>\n",
       "</div>"
      ],
      "text/plain": [
       "    scrsp  scspi    rid firstname   lastname     sex  age     nat sc_loc  \\\n",
       "47     IJ     57  R0885      محمد       دادا    Male   62  Syrian    GTZ   \n",
       "119    IJ    124  R0799       ندى      خليفة  Female   36  Syrian    GTZ   \n",
       "154    IJ    159  R1477     أسماء      كردية  Female   34  Syrian    GTZ   \n",
       "155    IJ    160  R0189      هالة      غزالة  Female   61  Syrian    GTZ   \n",
       "156    IJ    161  R0653       علي  حسين محمد    Male   34  Syrian    GTZ   \n",
       "..    ...    ...    ...       ...        ...     ...  ...     ...    ...   \n",
       "814    YQ    194  R0872       عمر       تركي    Male   26  Syrian    GTZ   \n",
       "815    YQ    195  R1498      محمد     اليمان    Male   58  Syrian    GTZ   \n",
       "816    YQ    196  R1345      أحمد       قاسم    Male   31  Syrian    GTZ   \n",
       "817    YQ    197  R1508       عمر       فياض    Male   30  Syrian    GTZ   \n",
       "818    YQ    198  R1358      زياد     الصيني    Male   44  Syrian    GTZ   \n",
       "\n",
       "         sc_s1 pei_pre_as      sc_re                                 source  \\\n",
       "47  2023-09-11        NaT 2024-11-08                                    IRM   \n",
       "119 2023-01-26 2024-11-15        NaT                Family member or friend   \n",
       "154 2024-10-08        NaT        NaT                           ADMSP member   \n",
       "155        NaT        NaT 2024-10-30  ADMSP beneficiary (current or former)   \n",
       "156 2024-10-31        NaT        NaT                                    IRM   \n",
       "..         ...        ...        ...                                    ...   \n",
       "814        NaT        NaT 2024-11-06                                    IRM   \n",
       "815 2024-11-05        NaT        NaT                                    IRM   \n",
       "816 2024-11-08        NaT        NaT  ADMSP beneficiary (current or former)   \n",
       "817 2024-11-13        NaT        NaT                           ADMSP member   \n",
       "818 2024-11-13        NaT        NaT  ADMSP beneficiary (current or former)   \n",
       "\n",
       "    source_org need_mhpss need_trw need_out_ref need_tmh need_pei  \\\n",
       "47         NaN        Yes       No          Yes       No      Yes   \n",
       "119        NaN        Yes       No           No       No      Yes   \n",
       "154        NaN        Yes       No           No       No       No   \n",
       "155        NaN         No      Yes          Yes       No       No   \n",
       "156        NaN        Yes       No           No       No       No   \n",
       "..         ...        ...      ...          ...      ...      ...   \n",
       "814        NaN         No       No          Yes       No       No   \n",
       "815        NaN         No       No          Yes       No       No   \n",
       "816        NaN        Yes       No           No       No       No   \n",
       "817        NaN         No       No          Yes       No       No   \n",
       "818        NaN        Yes       No           No       No       No   \n",
       "\n",
       "                       note  \n",
       "47              Art Therapy  \n",
       "119                     NaN  \n",
       "154                     NaN  \n",
       "155                   اغلاق  \n",
       "156                     NaN  \n",
       "..                      ...  \n",
       "814  احالة الى العلاج بالفن  \n",
       "815  احالة الى العلاج بالفن  \n",
       "816                     NaN  \n",
       "817  احالة الى العلاج بالفن  \n",
       "818                     NaN  \n",
       "\n",
       "[65 rows x 20 columns]"
      ]
     },
     "execution_count": 21,
     "metadata": {},
     "output_type": "execute_result"
    }
   ],
   "source": [
    "filtered_scr"
   ]
  },
  {
   "cell_type": "code",
   "execution_count": 16,
   "id": "864ef79f",
   "metadata": {},
   "outputs": [],
   "source": [
    "# Getting the subset of filtered_scr where sc_s1 is null\n",
    "f_scr_sc_s1_is_null = filtered_scr[filtered_scr[\"sc_s1\"].isnull()]\n",
    "# f_scr_sc_s1_is_null"
   ]
  },
  {
   "cell_type": "code",
   "execution_count": null,
   "id": "6e3c0109",
   "metadata": {},
   "outputs": [],
   "source": [
    "f_scr_sc_s1_is_null_id = f_scr_sc_s1_is_null[\"rid\"].tolist()\n",
    "# filter scr on f_scr_sc_s1_is_null_id\n",
    "scr_filtered_on_f_scr_sc_s1_is_null_id = scr[scr[\"rid\"].isin(f_scr_sc_s1_is_null_id)]\n",
    "scr_filtered_on_f_scr_sc_s1_is_null_id"
   ]
  },
  {
   "cell_type": "markdown",
   "id": "be942370397907d4",
   "metadata": {},
   "source": [
    "## New Screening"
   ]
  },
  {
   "cell_type": "code",
   "execution_count": 22,
   "id": "3b2142860970dfc0",
   "metadata": {
    "ExecuteTime": {
     "end_time": "2024-10-18T15:00:11.494591Z",
     "start_time": "2024-10-18T15:00:11.467287Z"
    }
   },
   "outputs": [],
   "source": [
    "new_scr = filter_dataframe_on_date(\n",
    "    scr,\n",
    "    \"sc_s1\",\n",
    "    START,\n",
    "    END,\n",
    ")\n",
    "# new_scr"
   ]
  },
  {
   "cell_type": "code",
   "execution_count": 23,
   "id": "925313fcaefeaed3",
   "metadata": {
    "ExecuteTime": {
     "end_time": "2024-10-18T10:19:07.105737Z",
     "start_time": "2024-10-18T10:19:07.096607Z"
    }
   },
   "outputs": [],
   "source": [
    "re_scr = filter_dataframe_on_date(\n",
    "    scr,\n",
    "    \"sc_re\",\n",
    "    START,\n",
    "    END,\n",
    ")\n",
    "# re_scr"
   ]
  },
  {
   "cell_type": "code",
   "execution_count": 24,
   "id": "63eb48606c1827bf",
   "metadata": {
    "ExecuteTime": {
     "end_time": "2024-10-18T10:19:54.498033Z",
     "start_time": "2024-10-18T10:19:54.487718Z"
    }
   },
   "outputs": [],
   "source": [
    "pei_ass = filter_dataframe_on_date(\n",
    "    scr,\n",
    "    \"pei_pre_as\",\n",
    "    START,\n",
    "    END,\n",
    ")\n",
    "# pei_ass\n",
    "# pei_ass[\"sex\"].value_counts()"
   ]
  },
  {
   "cell_type": "code",
   "execution_count": 25,
   "id": "b824065d",
   "metadata": {},
   "outputs": [
    {
     "data": {
      "text/plain": [
       "47"
      ]
     },
     "execution_count": 25,
     "metadata": {},
     "output_type": "execute_result"
    }
   ],
   "source": [
    "# count the number of sessions by counting the number of dates in date columns if dates are >= start <= end.\n",
    "new_scr.shape[0] + re_scr.shape[0]"
   ]
  },
  {
   "cell_type": "markdown",
   "id": "97284f2b8606e7cb",
   "metadata": {},
   "source": [
    "## New Screening Sex and Age Group"
   ]
  },
  {
   "cell_type": "code",
   "execution_count": 26,
   "id": "f41a7fdd8a6083d3",
   "metadata": {
    "ExecuteTime": {
     "end_time": "2024-10-18T15:00:14.997654Z",
     "start_time": "2024-10-18T15:00:14.994172Z"
    }
   },
   "outputs": [
    {
     "data": {
      "text/plain": [
       "sex\n",
       "Female    25\n",
       "Male      17\n",
       "Name: count, dtype: int64"
      ]
     },
     "execution_count": 26,
     "metadata": {},
     "output_type": "execute_result"
    }
   ],
   "source": [
    "new_scr[\"sex\"].value_counts(dropna=False)"
   ]
  },
  {
   "cell_type": "code",
   "execution_count": 27,
   "id": "9553d7141b33ff94",
   "metadata": {
    "ExecuteTime": {
     "end_time": "2024-10-18T15:00:16.817863Z",
     "start_time": "2024-10-18T15:00:16.813712Z"
    },
    "collapsed": false
   },
   "outputs": [
    {
     "data": {
      "text/plain": [
       "age\n",
       "18-27     7\n",
       "28-37    15\n",
       "38-47     8\n",
       "48-57     7\n",
       "58-67     5\n",
       "68-77     0\n",
       "Name: count, dtype: int64"
      ]
     },
     "execution_count": 27,
     "metadata": {},
     "output_type": "execute_result"
    }
   ],
   "source": [
    "categorize_and_count_ages(new_scr[\"age\"])"
   ]
  },
  {
   "cell_type": "code",
   "execution_count": 28,
   "id": "5f31d8a99f1f3853",
   "metadata": {
    "ExecuteTime": {
     "end_time": "2024-10-18T15:00:21.223515Z",
     "start_time": "2024-10-18T15:00:21.215485Z"
    },
    "collapsed": false
   },
   "outputs": [
    {
     "data": {
      "text/plain": [
       "source\n",
       "IRM                                      6.0\n",
       "ADMSP beneficiary (current or former)   21.0\n",
       "Family member or friend                  8.0\n",
       "ADMSP member                             4.0\n",
       "Social Media                             2.0\n",
       "Other                                    NaN\n",
       "Name: count, dtype: float64"
      ]
     },
     "execution_count": 28,
     "metadata": {},
     "output_type": "execute_result"
    }
   ],
   "source": [
    "new_scr_source = new_scr[\"source\"].value_counts(dropna=False)\n",
    "new_scr_source_order = [\n",
    "    \"IRM\",\n",
    "    \"ADMSP beneficiary (current or former)\",\n",
    "    \"Family member or friend\",\n",
    "    \"ADMSP member\",\n",
    "    \"Social Media\",\n",
    "    \"Other\",\n",
    "]\n",
    "new_scr_source = new_scr_source.reindex(new_scr_source_order)\n",
    "new_scr_source\n",
    "# new_scr_source.index"
   ]
  },
  {
   "cell_type": "code",
   "execution_count": 33,
   "id": "266c33541192ba32",
   "metadata": {
    "ExecuteTime": {
     "end_time": "2024-10-18T10:46:38.822890Z",
     "start_time": "2024-10-18T10:46:38.816541Z"
    },
    "collapsed": false
   },
   "outputs": [
    {
     "data": {
      "text/plain": [
       "['need_mhpss', 'need_trw', 'need_out_ref', 'need_tmh', 'need_pei']"
      ]
     },
     "execution_count": 33,
     "metadata": {},
     "output_type": "execute_result"
    }
   ],
   "source": [
    "scr_dataset.bovars[1:]"
   ]
  },
  {
   "cell_type": "code",
   "execution_count": 41,
   "id": "285bf0aacef5649b",
   "metadata": {
    "ExecuteTime": {
     "end_time": "2024-10-18T15:00:28.429465Z",
     "start_time": "2024-10-18T15:00:28.425591Z"
    },
    "collapsed": false
   },
   "outputs": [
    {
     "name": "stdout",
     "output_type": "stream",
     "text": [
      "need_mhpss\n",
      "Yes    21\n",
      "No     21\n",
      "Name: count, dtype: int64\n",
      "need_trw\n",
      "No     31\n",
      "Yes    11\n",
      "Name: count, dtype: int64\n",
      "need_out_ref\n",
      "No     30\n",
      "Yes    12\n",
      "Name: count, dtype: int64\n",
      "need_tmh\n",
      "No     39\n",
      "Yes     3\n",
      "Name: count, dtype: int64\n",
      "need_pei\n",
      "No     34\n",
      "Yes     8\n",
      "Name: count, dtype: int64\n"
     ]
    }
   ],
   "source": [
    "for var in scr_dataset.bovars[1:]:\n",
    "    clients_need = new_scr[var].value_counts().sort_index()\n",
    "    # clients_need.sort_index(ascending=False)\n",
    "    print(clients_need)"
   ]
  },
  {
   "cell_type": "markdown",
   "id": "965cf400e8084115",
   "metadata": {},
   "source": [
    "### Getting the Sequences of Needs"
   ]
  },
  {
   "cell_type": "code",
   "execution_count": 36,
   "id": "565953c8870af373",
   "metadata": {
    "ExecuteTime": {
     "end_time": "2024-10-18T12:02:12.203838Z",
     "start_time": "2024-10-18T12:02:12.192498Z"
    }
   },
   "outputs": [],
   "source": [
    "count_df = new_scr[scr_dataset.bovars[1:]].apply(lambda x: x.value_counts()).fillna(0)\n",
    "count_df = count_df.T.reset_index().rename(columns={\"index\": \"needs\"})  # Transposing"
   ]
  },
  {
   "cell_type": "code",
   "execution_count": 52,
   "id": "c4445c2449fff8c5",
   "metadata": {
    "ExecuteTime": {
     "end_time": "2024-10-18T15:00:31.700470Z",
     "start_time": "2024-10-18T15:00:31.696880Z"
    }
   },
   "outputs": [],
   "source": [
    "# count_df"
   ]
  },
  {
   "cell_type": "code",
   "execution_count": null,
   "id": "d1a12ace31250de",
   "metadata": {
    "ExecuteTime": {
     "end_time": "2024-10-18T12:55:08.399957Z",
     "start_time": "2024-10-18T12:55:08.395590Z"
    }
   },
   "outputs": [],
   "source": []
  }
 ],
 "metadata": {
  "kernelspec": {
   "display_name": ".venv",
   "language": "python",
   "name": "python3"
  },
  "language_info": {
   "codemirror_mode": {
    "name": "ipython",
    "version": 3
   },
   "file_extension": ".py",
   "mimetype": "text/x-python",
   "name": "python",
   "nbconvert_exporter": "python",
   "pygments_lexer": "ipython3",
   "version": "3.12.2"
  }
 },
 "nbformat": 4,
 "nbformat_minor": 5
}
