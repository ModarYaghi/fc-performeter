{
 "cells": [
  {
   "cell_type": "code",
   "id": "initial_id",
   "metadata": {
    "collapsed": true
   },
   "source": "from src.all_in_one import *",
   "outputs": [],
   "execution_count": null
  },
  {
   "cell_type": "code",
   "source": [
    "scr_file = path_manager.get_data_file(Category.PS, PSFile.SCR)\n",
    "scr_dataset = Dataset(config_file, scr_file.sheet)\n",
    "scr = get_df(scr_file.path, scr_file.sheet)\n",
    "# filtered_scr = filter_dataframe_on_date(scr, scr_dataset.dvars, start, end,FilterType.IN)"
   ],
   "metadata": {
    "collapsed": false
   },
   "id": "bfccf9591ba8dcf5",
   "outputs": [],
   "execution_count": null
  },
  {
   "cell_type": "code",
   "source": [
    "# filtered_scr.to_clipboard()\n",
    "scr"
   ],
   "metadata": {
    "collapsed": false
   },
   "id": "c99b9e24c37788e",
   "outputs": [],
   "execution_count": null
  },
  {
   "metadata": {},
   "cell_type": "code",
   "source": "scr.columns",
   "id": "f41a7fdd8a6083d3",
   "outputs": [],
   "execution_count": null
  },
  {
   "cell_type": "code",
   "source": "# categorize_and_count_ages(__scr['age'])",
   "metadata": {
    "collapsed": false
   },
   "id": "9553d7141b33ff94",
   "outputs": [],
   "execution_count": null
  },
  {
   "cell_type": "code",
   "source": "# __scr['source'].value_counts()",
   "metadata": {
    "collapsed": false
   },
   "id": "5f31d8a99f1f3853",
   "outputs": [],
   "execution_count": null
  },
  {
   "cell_type": "code",
   "source": [
    "# irm = scr[['rid', 'source']]\n",
    "# irm = irm[irm['source'] == 'IRM']\n",
    "# irm"
   ],
   "metadata": {
    "collapsed": false
   },
   "id": "b758676cfd76062d",
   "outputs": [],
   "execution_count": null
  },
  {
   "cell_type": "code",
   "source": "# data = pd.merge(irm, intake[['rid', 'fcid']], on='rid', how='left')",
   "metadata": {
    "collapsed": false
   },
   "id": "e000a2613e9ae8ba",
   "outputs": [],
   "execution_count": null
  },
  {
   "cell_type": "code",
   "source": "# dataintake = data[data['fcid']]",
   "metadata": {
    "collapsed": false
   },
   "id": "b965a518904ef88b",
   "outputs": [],
   "execution_count": null
  },
  {
   "cell_type": "code",
   "source": [
    "# rid = 'R1070'\n",
    "# scr[scr['rid'] == rid]"
   ],
   "metadata": {
    "collapsed": false
   },
   "id": "877d310ce3d8bf1d",
   "outputs": [],
   "execution_count": null
  },
  {
   "cell_type": "code",
   "source": [
    "# scr.insert(10, 'dup', 0)\n",
    "# scr['dup'] = scr.duplicated(subset=['rid'], keep=False)\n",
    "# scr['dup'] = scr['dup'].replace({True: 1, False: 0})\n",
    "# scr"
   ],
   "metadata": {
    "collapsed": false
   },
   "id": "dc37f1ddaed4096d",
   "outputs": [],
   "execution_count": null
  },
  {
   "cell_type": "code",
   "source": [
    "# scr_q4 = filter_df_by_date(scr, df_dataset.dvars, threshold)\n",
    "# scr_q4\n",
    "# scr_q4_to_excel = scr_q4.drop(['firstname', 'lastname'], axis=1)\n",
    "# scr_q4_to_excel.to_excel(\"screening_quarter4_2023.xlsx\")"
   ],
   "metadata": {
    "collapsed": false
   },
   "id": "42f995c03dd1af07",
   "outputs": [],
   "execution_count": null
  },
  {
   "cell_type": "code",
   "source": [
    "# new_clients = filter_df_by_date(scr_q4, ['sc_s1'], threshold)\n",
    "# new_clients"
   ],
   "metadata": {
    "collapsed": false
   },
   "id": "abc641d578ac13da",
   "outputs": [],
   "execution_count": null
  },
  {
   "cell_type": "code",
   "source": [
    "# need_service = 'need_tmh'\n",
    "# scr_q4[need_service].value_counts()"
   ],
   "metadata": {
    "collapsed": false
   },
   "id": "ed03ecab056996ee",
   "outputs": [],
   "execution_count": null
  },
  {
   "cell_type": "code",
   "source": "# new_clients['need_pei'].value_counts()",
   "metadata": {
    "collapsed": false
   },
   "id": "2a2781fc178fa121",
   "outputs": [],
   "execution_count": null
  },
  {
   "cell_type": "code",
   "source": "# (scr_q4['need_pei'] == 'Yes').sum()",
   "metadata": {
    "collapsed": false
   },
   "id": "d58efb7e1868855",
   "outputs": [],
   "execution_count": null
  },
  {
   "cell_type": "code",
   "source": "# new_clients['sex'].value_counts()",
   "metadata": {
    "collapsed": false
   },
   "id": "729e6334ac9a08f6",
   "outputs": [],
   "execution_count": null
  },
  {
   "cell_type": "code",
   "source": [],
   "metadata": {
    "collapsed": false
   },
   "id": "266c33541192ba32",
   "outputs": [],
   "execution_count": null
  },
  {
   "cell_type": "code",
   "source": "# new_clients['scrsp'].value_counts()",
   "metadata": {
    "collapsed": false
   },
   "id": "bf8523517d73b1d5",
   "outputs": [],
   "execution_count": null
  },
  {
   "cell_type": "code",
   "source": "# new_clients['sex'].value_counts()",
   "metadata": {
    "collapsed": false
   },
   "id": "c79952b528191323",
   "outputs": [],
   "execution_count": null
  },
  {
   "cell_type": "code",
   "source": [
    "# age_group = categorize_and_count_ages(new_clients['age'])\n",
    "# normalized_value_counts(age_group)"
   ],
   "metadata": {
    "collapsed": false
   },
   "id": "bb15e668e58cc73c",
   "outputs": [],
   "execution_count": null
  },
  {
   "cell_type": "code",
   "source": [],
   "metadata": {
    "collapsed": false
   },
   "id": "8eec67e6bc5ba408",
   "outputs": [],
   "execution_count": null
  },
  {
   "cell_type": "code",
   "source": "# new_clients['source'].value_counts()",
   "metadata": {
    "collapsed": false
   },
   "id": "50897a6154850b6b",
   "outputs": [],
   "execution_count": null
  },
  {
   "cell_type": "code",
   "source": "# scr_q4['need_pei'].value_counts()",
   "metadata": {
    "collapsed": false
   },
   "id": "285bf0aacef5649b",
   "outputs": [],
   "execution_count": null
  }
 ],
 "metadata": {
  "kernelspec": {
   "display_name": "Python 3",
   "language": "python",
   "name": "python3"
  },
  "language_info": {
   "codemirror_mode": {
    "name": "ipython",
    "version": 2
   },
   "file_extension": ".py",
   "mimetype": "text/x-python",
   "name": "python",
   "nbconvert_exporter": "python",
   "pygments_lexer": "ipython2",
   "version": "2.7.6"
  }
 },
 "nbformat": 4,
 "nbformat_minor": 5
}
