{
 "cells": [
  {
   "cell_type": "code",
   "execution_count": 1,
   "id": "initial_id",
   "metadata": {
    "ExecuteTime": {
     "end_time": "2024-10-18T11:13:30.454360Z",
     "start_time": "2024-10-18T11:13:30.449650Z"
    },
    "collapsed": true
   },
   "outputs": [
    {
     "name": "stderr",
     "output_type": "stream",
     "text": [
      "2025-01-09 18:31:55,774 - INFO - Processed 756 records so far.\n",
      "2025-01-09 18:31:56,992 - INFO - Processed 342 records so far.\n"
     ]
    }
   ],
   "source": [
    "from src.all_in_one import *\n",
    "from src.basic_variables import *\n",
    "from src.analysis_functions import *"
   ]
  },
  {
   "cell_type": "code",
   "execution_count": 2,
   "id": "bfccf9591ba8dcf5",
   "metadata": {
    "ExecuteTime": {
     "end_time": "2024-10-18T10:17:23.701670Z",
     "start_time": "2024-10-18T10:17:23.508713Z"
    },
    "collapsed": false
   },
   "outputs": [],
   "source": [
    "scr_file = path_manager.get_data_file(Category.PS, PSFile.SCR)\n",
    "scr_dataset = Dataset(config_file, scr_file.sheet)\n",
    "scr = get_df(scr_file.path, scr_file.sheet)\n",
    "filtered_scr = filter_dataframe_on_date(\n",
    "    scr, scr_dataset.dvars, START, END, FilterType.IN\n",
    ")"
   ]
  },
  {
   "cell_type": "code",
   "execution_count": 10,
   "id": "d27d146f",
   "metadata": {},
   "outputs": [],
   "source": [
    "# scr.iloc[812, 2] = 'R1304'\n",
    "# scr.to_csv(scr_file.path, index=False)"
   ]
  },
  {
   "cell_type": "code",
   "execution_count": 3,
   "id": "c9a5990a",
   "metadata": {},
   "outputs": [],
   "source": [
    "# scr.to_clipboard(index=False)"
   ]
  },
  {
   "cell_type": "code",
   "execution_count": 3,
   "id": "e20049086bf4bb49",
   "metadata": {
    "ExecuteTime": {
     "end_time": "2024-10-18T10:17:35.888043Z",
     "start_time": "2024-10-18T10:17:35.884019Z"
    }
   },
   "outputs": [],
   "source": [
    "# filtered_scr"
   ]
  },
  {
   "cell_type": "code",
   "execution_count": 16,
   "id": "864ef79f",
   "metadata": {},
   "outputs": [],
   "source": [
    "# Getting the subset of filtered_scr where sc_s1 is null\n",
    "f_scr_sc_s1_is_null = filtered_scr[filtered_scr[\"sc_s1\"].isnull()]\n",
    "# f_scr_sc_s1_is_null"
   ]
  },
  {
   "cell_type": "code",
   "execution_count": null,
   "id": "6e3c0109",
   "metadata": {},
   "outputs": [],
   "source": [
    "f_scr_sc_s1_is_null_id = f_scr_sc_s1_is_null[\"rid\"].tolist()\n",
    "# filter scr on f_scr_sc_s1_is_null_id\n",
    "scr_filtered_on_f_scr_sc_s1_is_null_id = scr[scr[\"rid\"].isin(f_scr_sc_s1_is_null_id)]\n",
    "scr_filtered_on_f_scr_sc_s1_is_null_id"
   ]
  },
  {
   "cell_type": "markdown",
   "id": "be942370397907d4",
   "metadata": {},
   "source": [
    "## New Screening"
   ]
  },
  {
   "cell_type": "code",
   "execution_count": 22,
   "id": "3b2142860970dfc0",
   "metadata": {
    "ExecuteTime": {
     "end_time": "2024-10-18T15:00:11.494591Z",
     "start_time": "2024-10-18T15:00:11.467287Z"
    }
   },
   "outputs": [],
   "source": [
    "new_scr = filter_dataframe_on_date(\n",
    "    scr,\n",
    "    \"sc_s1\",\n",
    "    START,\n",
    "    END,\n",
    ")\n",
    "# new_scr"
   ]
  },
  {
   "cell_type": "code",
   "execution_count": 23,
   "id": "925313fcaefeaed3",
   "metadata": {
    "ExecuteTime": {
     "end_time": "2024-10-18T10:19:07.105737Z",
     "start_time": "2024-10-18T10:19:07.096607Z"
    }
   },
   "outputs": [],
   "source": [
    "re_scr = filter_dataframe_on_date(\n",
    "    scr,\n",
    "    \"sc_re\",\n",
    "    START,\n",
    "    END,\n",
    ")\n",
    "# re_scr"
   ]
  },
  {
   "cell_type": "code",
   "execution_count": 6,
   "id": "63eb48606c1827bf",
   "metadata": {
    "ExecuteTime": {
     "end_time": "2024-10-18T10:19:54.498033Z",
     "start_time": "2024-10-18T10:19:54.487718Z"
    }
   },
   "outputs": [
    {
     "data": {
      "text/plain": [
       "sex\n",
       "Female    22\n",
       "Male       1\n",
       "Name: count, dtype: int64"
      ]
     },
     "execution_count": 6,
     "metadata": {},
     "output_type": "execute_result"
    }
   ],
   "source": [
    "pei_ass = filter_dataframe_on_date(\n",
    "    scr,\n",
    "    \"pei_pre_as\",\n",
    "    START,\n",
    "    END,\n",
    ")\n",
    "# pei_ass\n",
    "pei_ass[\"sex\"].value_counts()"
   ]
  },
  {
   "cell_type": "code",
   "execution_count": 25,
   "id": "b824065d",
   "metadata": {},
   "outputs": [
    {
     "data": {
      "text/plain": [
       "47"
      ]
     },
     "execution_count": 25,
     "metadata": {},
     "output_type": "execute_result"
    }
   ],
   "source": [
    "# count the number of sessions by counting the number of dates in date columns if dates are >= start <= end.\n",
    "new_scr.shape[0] + re_scr.shape[0]"
   ]
  },
  {
   "cell_type": "markdown",
   "id": "97284f2b8606e7cb",
   "metadata": {},
   "source": [
    "## New Screening Sex and Age Group"
   ]
  },
  {
   "cell_type": "code",
   "execution_count": 26,
   "id": "f41a7fdd8a6083d3",
   "metadata": {
    "ExecuteTime": {
     "end_time": "2024-10-18T15:00:14.997654Z",
     "start_time": "2024-10-18T15:00:14.994172Z"
    }
   },
   "outputs": [
    {
     "data": {
      "text/plain": [
       "sex\n",
       "Female    25\n",
       "Male      17\n",
       "Name: count, dtype: int64"
      ]
     },
     "execution_count": 26,
     "metadata": {},
     "output_type": "execute_result"
    }
   ],
   "source": [
    "new_scr[\"sex\"].value_counts(dropna=False)"
   ]
  },
  {
   "cell_type": "code",
   "execution_count": 27,
   "id": "9553d7141b33ff94",
   "metadata": {
    "ExecuteTime": {
     "end_time": "2024-10-18T15:00:16.817863Z",
     "start_time": "2024-10-18T15:00:16.813712Z"
    },
    "collapsed": false
   },
   "outputs": [
    {
     "data": {
      "text/plain": [
       "age\n",
       "18-27     7\n",
       "28-37    15\n",
       "38-47     8\n",
       "48-57     7\n",
       "58-67     5\n",
       "68-77     0\n",
       "Name: count, dtype: int64"
      ]
     },
     "execution_count": 27,
     "metadata": {},
     "output_type": "execute_result"
    }
   ],
   "source": [
    "categorize_and_count_ages(new_scr[\"age\"])"
   ]
  },
  {
   "cell_type": "code",
   "execution_count": 28,
   "id": "5f31d8a99f1f3853",
   "metadata": {
    "ExecuteTime": {
     "end_time": "2024-10-18T15:00:21.223515Z",
     "start_time": "2024-10-18T15:00:21.215485Z"
    },
    "collapsed": false
   },
   "outputs": [
    {
     "data": {
      "text/plain": [
       "source\n",
       "IRM                                      6.0\n",
       "ADMSP beneficiary (current or former)   21.0\n",
       "Family member or friend                  8.0\n",
       "ADMSP member                             4.0\n",
       "Social Media                             2.0\n",
       "Other                                    NaN\n",
       "Name: count, dtype: float64"
      ]
     },
     "execution_count": 28,
     "metadata": {},
     "output_type": "execute_result"
    }
   ],
   "source": [
    "new_scr_source = new_scr[\"source\"].value_counts(dropna=False)\n",
    "new_scr_source_order = [\n",
    "    \"IRM\",\n",
    "    \"ADMSP beneficiary (current or former)\",\n",
    "    \"Family member or friend\",\n",
    "    \"ADMSP member\",\n",
    "    \"Social Media\",\n",
    "    \"Other\",\n",
    "]\n",
    "new_scr_source = new_scr_source.reindex(new_scr_source_order)\n",
    "new_scr_source\n",
    "# new_scr_source.index"
   ]
  },
  {
   "cell_type": "markdown",
   "id": "965cf400e8084115",
   "metadata": {},
   "source": [
    "### Getting the Sequences of Needs"
   ]
  },
  {
   "cell_type": "code",
   "execution_count": 50,
   "id": "565953c8870af373",
   "metadata": {
    "ExecuteTime": {
     "end_time": "2024-10-18T12:02:12.203838Z",
     "start_time": "2024-10-18T12:02:12.192498Z"
    }
   },
   "outputs": [
    {
     "data": {
      "text/html": [
       "<div>\n",
       "<style scoped>\n",
       "    .dataframe tbody tr th:only-of-type {\n",
       "        vertical-align: middle;\n",
       "    }\n",
       "\n",
       "    .dataframe tbody tr th {\n",
       "        vertical-align: top;\n",
       "    }\n",
       "\n",
       "    .dataframe thead th {\n",
       "        text-align: right;\n",
       "    }\n",
       "</style>\n",
       "<table border=\"1\" class=\"dataframe\">\n",
       "  <thead>\n",
       "    <tr style=\"text-align: right;\">\n",
       "      <th></th>\n",
       "      <th>Needs</th>\n",
       "      <th>No</th>\n",
       "      <th>Yes</th>\n",
       "    </tr>\n",
       "  </thead>\n",
       "  <tbody>\n",
       "    <tr>\n",
       "      <th>0</th>\n",
       "      <td>need_mhpss</td>\n",
       "      <td>21</td>\n",
       "      <td>21</td>\n",
       "    </tr>\n",
       "    <tr>\n",
       "      <th>1</th>\n",
       "      <td>need_trw</td>\n",
       "      <td>31</td>\n",
       "      <td>11</td>\n",
       "    </tr>\n",
       "    <tr>\n",
       "      <th>2</th>\n",
       "      <td>need_out_ref</td>\n",
       "      <td>30</td>\n",
       "      <td>12</td>\n",
       "    </tr>\n",
       "    <tr>\n",
       "      <th>3</th>\n",
       "      <td>need_tmh</td>\n",
       "      <td>39</td>\n",
       "      <td>3</td>\n",
       "    </tr>\n",
       "    <tr>\n",
       "      <th>4</th>\n",
       "      <td>need_pei</td>\n",
       "      <td>34</td>\n",
       "      <td>8</td>\n",
       "    </tr>\n",
       "  </tbody>\n",
       "</table>\n",
       "</div>"
      ],
      "text/plain": [
       "          Needs  No  Yes\n",
       "0    need_mhpss  21   21\n",
       "1      need_trw  31   11\n",
       "2  need_out_ref  30   12\n",
       "3      need_tmh  39    3\n",
       "4      need_pei  34    8"
      ]
     },
     "execution_count": 50,
     "metadata": {},
     "output_type": "execute_result"
    }
   ],
   "source": [
    "needs_count = (\n",
    "    new_scr[scr_dataset.bovars[1:]].apply(lambda x: x.value_counts()).fillna(0)\n",
    ")\n",
    "needs_count = needs_count.T.reset_index().rename(\n",
    "    columns={\"index\": \"Needs\"}\n",
    ")  # Transposing\n",
    "\n",
    "needs_count"
   ]
  },
  {
   "cell_type": "code",
   "execution_count": null,
   "id": "d1a12ace31250de",
   "metadata": {
    "ExecuteTime": {
     "end_time": "2024-10-18T12:55:08.399957Z",
     "start_time": "2024-10-18T12:55:08.395590Z"
    }
   },
   "outputs": [],
   "source": []
  }
 ],
 "metadata": {
  "kernelspec": {
   "display_name": ".venv",
   "language": "python",
   "name": "python3"
  },
  "language_info": {
   "codemirror_mode": {
    "name": "ipython",
    "version": 3
   },
   "file_extension": ".py",
   "mimetype": "text/x-python",
   "name": "python",
   "nbconvert_exporter": "python",
   "pygments_lexer": "ipython3",
   "version": "3.12.2"
  }
 },
 "nbformat": 4,
 "nbformat_minor": 5
}
