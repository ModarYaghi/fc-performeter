{
 "cells": [
  {
   "cell_type": "code",
   "id": "initial_id",
   "metadata": {
    "collapsed": true
   },
   "source": [
    "import pandas as pd\n",
    "\n",
    "from src.all_in_one import *"
   ],
   "outputs": [],
   "execution_count": null
  },
  {
   "cell_type": "code",
   "source": [
    "# Screening\n",
    "scr_file = path_manager.get_data_file(Category.PS, PSFile.SCR)\n",
    "scr = get_df(scr_file.path, scr_file.sheet)\n",
    "unique_scr = scr.drop_duplicates(subset='rid')"
   ],
   "metadata": {
    "collapsed": false
   },
   "id": "4e4fc37abf8d5e4",
   "outputs": [],
   "execution_count": null
  },
  {
   "cell_type": "code",
   "source": [
    "td_file = path_manager.get_data_file(Category.PS, PSFile.TD)\n",
    "td_dataset = Dataset(config_file, td_file.sheet)\n",
    "td = get_df(td_file.path, td_file.sheet)\n",
    "td = pd.merge(td, unique_scr[['rid', 'sex', 'age']], on='rid', how='left')\n",
    "# filtered_td = filter_dataframe_on_date(td, td_dataset.dvars, start, end, FilterType.IN)"
   ],
   "metadata": {
    "collapsed": false
   },
   "id": "1ab2027c74fcc51b",
   "outputs": [],
   "execution_count": null
  },
  {
   "metadata": {},
   "cell_type": "code",
   "source": "td",
   "id": "e46d585257341f03",
   "outputs": [],
   "execution_count": null
  },
  {
   "metadata": {},
   "cell_type": "code",
   "source": "# filtered_td",
   "id": "f583595eb1e54022",
   "outputs": [],
   "execution_count": null
  },
  {
   "metadata": {},
   "cell_type": "code",
   "source": "# filtered_td.to_clipboard(index=False)",
   "id": "19142a2af8365c2b",
   "outputs": [],
   "execution_count": null
  },
  {
   "metadata": {},
   "cell_type": "code",
   "source": [
    "tdid = pd.read_excel(\"../../tdid.xlsx\")\n",
    "# import os\n",
    "# print(os.getcwd())\n",
    "# print(os.listdir(\"..\"))"
   ],
   "id": "803210dde1c404ff",
   "outputs": [],
   "execution_count": null
  },
  {
   "metadata": {},
   "cell_type": "code",
   "source": "tdid",
   "id": "64141ae520445d26",
   "outputs": [],
   "execution_count": null
  },
  {
   "metadata": {},
   "cell_type": "code",
   "source": [
    "cws_dataset = Dataset(config_file, cws_sheet)\n",
    "cws = get_df(cws_path, cws_sheet)"
   ],
   "id": "605a71eebfe53f51",
   "outputs": [],
   "execution_count": null
  },
  {
   "metadata": {},
   "cell_type": "code",
   "source": "# cws",
   "id": "4d59620b4a23d583",
   "outputs": [],
   "execution_count": null
  },
  {
   "metadata": {},
   "cell_type": "code",
   "source": "# td_cws = pd.merge(td, cws[['rid', 'cws_s1', 'cws_s2']], on='rid', how='left')",
   "id": "3b9a554fb5c096b3",
   "outputs": [],
   "execution_count": null
  },
  {
   "metadata": {},
   "cell_type": "code",
   "source": "td_cws = pd.merge(tdid, cws[['rid', 'cws_s1', 'cws_s2']], on='rid', how='left')",
   "id": "303a4872c4f5d56f",
   "outputs": [],
   "execution_count": null
  },
  {
   "metadata": {},
   "cell_type": "code",
   "source": "# td_cws",
   "id": "b73f07b2044a2479",
   "outputs": [],
   "execution_count": null
  },
  {
   "metadata": {},
   "cell_type": "code",
   "source": "adid = pd.read_excel(\"../../adid.xlsx\")",
   "id": "464e6ff2977f26b1",
   "outputs": [],
   "execution_count": null
  },
  {
   "metadata": {},
   "cell_type": "code",
   "source": [
    "adid = adid.sort_values(by='ad_date')\n",
    "adid = adid.drop_duplicates(subset='rid')"
   ],
   "id": "e0fcb36db0e6bfd8",
   "outputs": [],
   "execution_count": null
  },
  {
   "metadata": {},
   "cell_type": "code",
   "source": "adid",
   "id": "82ec6567ae160d6d",
   "outputs": [],
   "execution_count": null
  },
  {
   "metadata": {},
   "cell_type": "code",
   "source": "td_adv = pd.merge(tdid, adid[['rid', 'ad_date']], on='rid', how='left')",
   "id": "f2eb6aab2c9007c1",
   "outputs": [],
   "execution_count": null
  },
  {
   "metadata": {},
   "cell_type": "code",
   "source": "td_adv",
   "id": "ab45790756ac74db",
   "outputs": [],
   "execution_count": null
  },
  {
   "metadata": {},
   "cell_type": "code",
   "source": "td_adv[td_adv['rid'].duplicated()]['rid'].unique()",
   "id": "683c8945d657a49a",
   "outputs": [],
   "execution_count": null
  },
  {
   "metadata": {},
   "cell_type": "code",
   "source": "",
   "id": "98b5dafc79c4867a",
   "outputs": [],
   "execution_count": null
  }
 ],
 "metadata": {
  "kernelspec": {
   "display_name": "Python 3",
   "language": "python",
   "name": "python3"
  },
  "language_info": {
   "codemirror_mode": {
    "name": "ipython",
    "version": 2
   },
   "file_extension": ".py",
   "mimetype": "text/x-python",
   "name": "python",
   "nbconvert_exporter": "python",
   "pygments_lexer": "ipython2",
   "version": "2.7.6"
  }
 },
 "nbformat": 5,
 "nbformat_minor": 5
}
