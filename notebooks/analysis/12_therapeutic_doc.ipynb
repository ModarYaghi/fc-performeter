{
 "cells": [
  {
   "cell_type": "code",
   "execution_count": 1,
   "id": "initial_id",
   "metadata": {
    "collapsed": true
   },
   "outputs": [
    {
     "name": "stderr",
     "output_type": "stream",
     "text": [
      "2024-10-22 23:18:27,773 - INFO - Processed 711 records so far.\n",
      "2024-10-22 23:18:28,674 - INFO - Processed 328 records so far.\n"
     ]
    }
   ],
   "source": [
    "from src.all_in_one import *\n",
    "from src.basic_variables import *\n",
    "from src.analysis_functions import *"
   ]
  },
  {
   "cell_type": "code",
   "execution_count": 2,
   "id": "1ab2027c74fcc51b",
   "metadata": {
    "collapsed": false
   },
   "outputs": [],
   "source": [
    "td_file = path_manager.get_data_file(Category.PS, PSFile.TD)\n",
    "td_dataset = Dataset(config_file, td_file.sheet)\n",
    "td = get_df(td_file.path, td_file.sheet)\n",
    "filtered_td = filter_dataframe_on_date(td, td_dataset.dvars, START, END, FilterType.IN)"
   ]
  },
  {
   "cell_type": "code",
   "execution_count": 7,
   "id": "e46d585257341f03",
   "metadata": {},
   "outputs": [],
   "source": [
    "# td.to_clipboard()"
   ]
  },
  {
   "cell_type": "code",
   "execution_count": null,
   "id": "f583595eb1e54022",
   "metadata": {},
   "outputs": [],
   "source": [
    "filtered_td.shape"
   ]
  },
  {
   "cell_type": "code",
   "execution_count": null,
   "id": "19142a2af8365c2b",
   "metadata": {},
   "outputs": [],
   "source": [
    "f_td_new = filter_dataframe_on_date(td, \"consult\", START, END)\n",
    "f_td_new.shape"
   ]
  },
  {
   "cell_type": "code",
   "execution_count": null,
   "id": "88a56d14",
   "metadata": {},
   "outputs": [],
   "source": [
    "# Total Number of Sessions\n",
    "f_td_new_interview_s1 = filter_dataframe_on_date(td, \"interview_s1\", START, END)\n",
    "f_td_new_interview_s2 = filter_dataframe_on_date(td, \"interview_s2\", START, END)\n",
    "f_td_new_interview_s3 = filter_dataframe_on_date(td, \"interview_s3\", START, END)\n",
    "\n",
    "f_td_new_number_of_sessions = (\n",
    "    f_td_new.shape[0]\n",
    "    + f_td_new_interview_s1.shape[0]\n",
    "    + f_td_new_interview_s2.shape[0]\n",
    "    + f_td_new_interview_s3.shape[0]\n",
    ")\n",
    "f_td_new_number_of_sessions"
   ]
  },
  {
   "cell_type": "code",
   "execution_count": null,
   "id": "d11c5477",
   "metadata": {},
   "outputs": [],
   "source": [
    "# Count TD new client sex distribution\n",
    "f_td_new_with_sex = pd.merge(\n",
    "    f_td_new, rebuilt_scr[[\"rid\", \"sex\", \"age\"]], on=\"rid\", how=\"left\"\n",
    ")\n",
    "f_td_new_with_sex[\"sex\"].value_counts()"
   ]
  },
  {
   "cell_type": "code",
   "execution_count": null,
   "id": "1aa3a248",
   "metadata": {},
   "outputs": [],
   "source": [
    "categorize_and_count_ages(f_td_new_with_sex[\"age\"])\n",
    "# f_td_new_with_sex['age'].head()"
   ]
  },
  {
   "cell_type": "code",
   "execution_count": 16,
   "id": "650c9e5e",
   "metadata": {},
   "outputs": [],
   "source": [
    "# Count TD pathways distribution\n",
    "count_df = f_td_new[td_dataset.bovars].apply(lambda x: x.value_counts()).fillna(0)\n",
    "count_df = count_df.T.reset_index().rename(columns={\"index\": \"pathways\"})  # Transposing\n",
    "count_df[\"No\"] = count_df[\"No\"].astype(\"Int64\")\n",
    "count_df[\"Yes\"] = count_df[\"Yes\"].astype(\"Int64\")\n",
    "# count_df"
   ]
  },
  {
   "cell_type": "markdown",
   "id": "98b5dafc79c4867a",
   "metadata": {},
   "source": [
    "## Creative Wrokshops"
   ]
  },
  {
   "cell_type": "code",
   "execution_count": 18,
   "id": "b5d5807d",
   "metadata": {},
   "outputs": [],
   "source": [
    "cws_file = path_manager.get_data_file(Category.PS, PSFile.CWS)\n",
    "cws_dataset = Dataset(config_file, cws_file.sheet)\n",
    "cws = get_df(cws_file.path, cws_file.sheet)\n",
    "filtered_cws = filter_dataframe_on_date(cws, cws_dataset.dvars, START, END)"
   ]
  },
  {
   "cell_type": "code",
   "execution_count": 20,
   "id": "fb9ed2c3",
   "metadata": {},
   "outputs": [],
   "source": [
    "filtered_cws_with_demo = pd.merge(\n",
    "    filtered_cws, rebuilt_scr[[\"rid\", \"sex\", \"age\"]], on=\"rid\", how=\"left\"\n",
    ")"
   ]
  },
  {
   "cell_type": "code",
   "execution_count": 21,
   "id": "f171f90c",
   "metadata": {},
   "outputs": [],
   "source": [
    "# Grouping upon dates for sex distribution\n",
    "filtered_cws_with_demo_grouped = (\n",
    "    filtered_cws_with_demo.groupby(\n",
    "        [\n",
    "            \"cws_s1\",\n",
    "            \"sex\",\n",
    "        ]\n",
    "    )\n",
    "    .size()\n",
    "    .unstack(fill_value=0)\n",
    ")\n",
    "# filtered_cws_with_demo_grouped"
   ]
  },
  {
   "cell_type": "markdown",
   "id": "1c1d3c84",
   "metadata": {},
   "source": [
    "## Advocacy"
   ]
  },
  {
   "cell_type": "code",
   "execution_count": null,
   "id": "51d6fbda",
   "metadata": {},
   "outputs": [],
   "source": [
    "adv = pd.read_csv(r\"data/processed/0924/18_adv_0924.csv\")\n",
    "filtered_adv = filter_dataframe_on_date(adv, \"eventDate\", START, END)\n",
    "filtered_adv.shape"
   ]
  },
  {
   "cell_type": "code",
   "execution_count": null,
   "id": "97ea293c",
   "metadata": {},
   "outputs": [],
   "source": [
    "filtered_adv[\"gender\"].value_counts()"
   ]
  }
 ],
 "metadata": {
  "kernelspec": {
   "display_name": "Python 3",
   "language": "python",
   "name": "python3"
  },
  "language_info": {
   "codemirror_mode": {
    "name": "ipython",
    "version": 3
   },
   "file_extension": ".py",
   "mimetype": "text/x-python",
   "name": "python",
   "nbconvert_exporter": "python",
   "pygments_lexer": "ipython3",
   "version": "3.11.10"
  }
 },
 "nbformat": 5,
 "nbformat_minor": 5
}
