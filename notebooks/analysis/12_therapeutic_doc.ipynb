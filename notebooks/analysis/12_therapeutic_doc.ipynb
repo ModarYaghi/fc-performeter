{
 "cells": [
  {
   "cell_type": "code",
   "execution_count": 20,
   "id": "initial_id",
   "metadata": {
    "collapsed": true
   },
   "outputs": [],
   "source": [
    "from src.all_in_one import *\n",
    "from src.basic_variables import *\n",
    "from src.analysis_functions import *"
   ]
  },
  {
   "cell_type": "code",
   "execution_count": 21,
   "id": "1ab2027c74fcc51b",
   "metadata": {
    "collapsed": false
   },
   "outputs": [],
   "source": [
    "td_file = path_manager.get_data_file(Category.PS, PSFile.TD)\n",
    "td_dataset = Dataset(config_file, td_file.sheet)\n",
    "td = get_df(td_file.path, td_file.sheet)\n",
    "filtered_td = filter_dataframe_on_date(td, td_dataset.dvars, START, END, FilterType.IN)"
   ]
  },
  {
   "cell_type": "code",
   "execution_count": 5,
   "id": "e46d585257341f03",
   "metadata": {},
   "outputs": [],
   "source": [
    "# td.to_clipboard()\n",
    "# filtered_td"
   ]
  },
  {
   "cell_type": "code",
   "execution_count": 4,
   "id": "f583595eb1e54022",
   "metadata": {},
   "outputs": [
    {
     "data": {
      "text/plain": [
       "(8, 18)"
      ]
     },
     "execution_count": 4,
     "metadata": {},
     "output_type": "execute_result"
    }
   ],
   "source": [
    "filtered_td.shape"
   ]
  },
  {
   "cell_type": "code",
   "execution_count": 6,
   "id": "19142a2af8365c2b",
   "metadata": {},
   "outputs": [
    {
     "data": {
      "text/plain": [
       "(8, 18)"
      ]
     },
     "execution_count": 6,
     "metadata": {},
     "output_type": "execute_result"
    }
   ],
   "source": [
    "f_td_new = filter_dataframe_on_date(td, \"consult\", START, END)\n",
    "f_td_new.shape"
   ]
  },
  {
   "cell_type": "code",
   "execution_count": 7,
   "id": "88a56d14",
   "metadata": {},
   "outputs": [
    {
     "data": {
      "text/plain": [
       "8"
      ]
     },
     "execution_count": 7,
     "metadata": {},
     "output_type": "execute_result"
    }
   ],
   "source": [
    "# Total Number of Sessions\n",
    "f_td_new_interview_s1 = filter_dataframe_on_date(td, \"interview_s1\", START, END)\n",
    "f_td_new_interview_s2 = filter_dataframe_on_date(td, \"interview_s2\", START, END)\n",
    "f_td_new_interview_s3 = filter_dataframe_on_date(td, \"interview_s3\", START, END)\n",
    "\n",
    "f_td_new_number_of_sessions = (\n",
    "    f_td_new.shape[0]\n",
    "    + f_td_new_interview_s1.shape[0]\n",
    "    + f_td_new_interview_s2.shape[0]\n",
    "    + f_td_new_interview_s3.shape[0]\n",
    ")\n",
    "f_td_new_number_of_sessions"
   ]
  },
  {
   "cell_type": "code",
   "execution_count": 8,
   "id": "d11c5477",
   "metadata": {},
   "outputs": [
    {
     "data": {
      "text/plain": [
       "sex\n",
       "Male      4\n",
       "Female    4\n",
       "Name: count, dtype: int64"
      ]
     },
     "execution_count": 8,
     "metadata": {},
     "output_type": "execute_result"
    }
   ],
   "source": [
    "# Count TD new client sex distribution\n",
    "f_td_new_with_sex = pd.merge(\n",
    "    f_td_new, rebuilt_scr[[\"rid\", \"sex\", \"age\"]], on=\"rid\", how=\"left\"\n",
    ")\n",
    "f_td_new_with_sex[\"sex\"].value_counts()"
   ]
  },
  {
   "cell_type": "code",
   "execution_count": 9,
   "id": "1aa3a248",
   "metadata": {},
   "outputs": [
    {
     "data": {
      "text/plain": [
       "age\n",
       "18-27    0\n",
       "28-37    3\n",
       "38-47    3\n",
       "48-57    2\n",
       "58-67    0\n",
       "68-77    0\n",
       "Name: count, dtype: int64"
      ]
     },
     "execution_count": 9,
     "metadata": {},
     "output_type": "execute_result"
    }
   ],
   "source": [
    "categorize_and_count_ages(f_td_new_with_sex[\"age\"])\n",
    "# f_td_new_with_sex['age'].head()"
   ]
  },
  {
   "cell_type": "code",
   "execution_count": 10,
   "id": "650c9e5e",
   "metadata": {},
   "outputs": [
    {
     "data": {
      "text/html": [
       "<div>\n",
       "<style scoped>\n",
       "    .dataframe tbody tr th:only-of-type {\n",
       "        vertical-align: middle;\n",
       "    }\n",
       "\n",
       "    .dataframe tbody tr th {\n",
       "        vertical-align: top;\n",
       "    }\n",
       "\n",
       "    .dataframe thead th {\n",
       "        text-align: right;\n",
       "    }\n",
       "</style>\n",
       "<table border=\"1\" class=\"dataframe\">\n",
       "  <thead>\n",
       "    <tr style=\"text-align: right;\">\n",
       "      <th></th>\n",
       "      <th>pathways</th>\n",
       "      <th>No</th>\n",
       "      <th>Yes</th>\n",
       "    </tr>\n",
       "  </thead>\n",
       "  <tbody>\n",
       "    <tr>\n",
       "      <th>0</th>\n",
       "      <td>legal_doc</td>\n",
       "      <td>1</td>\n",
       "      <td>7</td>\n",
       "    </tr>\n",
       "    <tr>\n",
       "      <th>1</th>\n",
       "      <td>individual_use</td>\n",
       "      <td>6</td>\n",
       "      <td>2</td>\n",
       "    </tr>\n",
       "    <tr>\n",
       "      <th>2</th>\n",
       "      <td>cws</td>\n",
       "      <td>0</td>\n",
       "      <td>8</td>\n",
       "    </tr>\n",
       "    <tr>\n",
       "      <th>3</th>\n",
       "      <td>communicat_use</td>\n",
       "      <td>5</td>\n",
       "      <td>3</td>\n",
       "    </tr>\n",
       "    <tr>\n",
       "      <th>4</th>\n",
       "      <td>advocacy</td>\n",
       "      <td>1</td>\n",
       "      <td>7</td>\n",
       "    </tr>\n",
       "  </tbody>\n",
       "</table>\n",
       "</div>"
      ],
      "text/plain": [
       "         pathways  No  Yes\n",
       "0       legal_doc   1    7\n",
       "1  individual_use   6    2\n",
       "2             cws   0    8\n",
       "3  communicat_use   5    3\n",
       "4        advocacy   1    7"
      ]
     },
     "execution_count": 10,
     "metadata": {},
     "output_type": "execute_result"
    }
   ],
   "source": [
    "# Count TD pathways distribution\n",
    "count_df = f_td_new[td_dataset.bovars].apply(lambda x: x.value_counts()).fillna(0)\n",
    "count_df = count_df.T.reset_index().rename(columns={\"index\": \"pathways\"})  # Transposing\n",
    "count_df[\"No\"] = count_df[\"No\"].astype(\"Int64\")\n",
    "count_df[\"Yes\"] = count_df[\"Yes\"].astype(\"Int64\")\n",
    "count_df"
   ]
  },
  {
   "cell_type": "markdown",
   "id": "98b5dafc79c4867a",
   "metadata": {},
   "source": [
    "## Creative Wrokshops"
   ]
  },
  {
   "cell_type": "code",
   "execution_count": 27,
   "id": "b5d5807d",
   "metadata": {},
   "outputs": [],
   "source": [
    "# cws_file = path_manager.get_data_file(Category.PS, PSFile.CWS)\n",
    "# cws_dataset = Dataset(config_file, cws_file.sheet)\n",
    "# cws = get_df(cws_file.path, cws_file.sheet)\n",
    "# filtered_cws = filter_dataframe_on_date(cws, cws_dataset.dvars, START, END)\n",
    "pd.read_csv(\"data/processed/1224/09_pscws_1224.csv\").to_clipboard()"
   ]
  },
  {
   "cell_type": "code",
   "execution_count": 20,
   "id": "fb9ed2c3",
   "metadata": {},
   "outputs": [],
   "source": [
    "filtered_cws_with_demo = pd.merge(\n",
    "    filtered_cws, rebuilt_scr[[\"rid\", \"sex\", \"age\"]], on=\"rid\", how=\"left\"\n",
    ")"
   ]
  },
  {
   "cell_type": "code",
   "execution_count": 21,
   "id": "f171f90c",
   "metadata": {},
   "outputs": [],
   "source": [
    "# Grouping upon dates for sex distribution\n",
    "filtered_cws_with_demo_grouped = (\n",
    "    filtered_cws_with_demo.groupby(\n",
    "        [\n",
    "            \"cws_s1\",\n",
    "            \"sex\",\n",
    "        ]\n",
    "    )\n",
    "    .size()\n",
    "    .unstack(fill_value=0)\n",
    ")\n",
    "# filtered_cws_with_demo_grouped"
   ]
  },
  {
   "cell_type": "markdown",
   "id": "1c1d3c84",
   "metadata": {},
   "source": [
    "## Advocacy"
   ]
  },
  {
   "cell_type": "code",
   "execution_count": 29,
   "id": "51d6fbda",
   "metadata": {},
   "outputs": [],
   "source": [
    "# adv = pd.read_csv(r\"data/processed/0924/18_adv_0924.csv\")\n",
    "# filtered_adv = filter_dataframe_on_date(adv, \"eventDate\", START, END)\n",
    "# filtered_adv.shape"
   ]
  },
  {
   "cell_type": "code",
   "execution_count": null,
   "id": "97ea293c",
   "metadata": {},
   "outputs": [],
   "source": [
    "filtered_adv[\"gender\"].value_counts()"
   ]
  },
  {
   "cell_type": "code",
   "execution_count": null,
   "id": "83a9b1b1",
   "metadata": {},
   "outputs": [],
   "source": []
  },
  {
   "cell_type": "code",
   "execution_count": 11,
   "id": "62bce764",
   "metadata": {},
   "outputs": [],
   "source": [
    "from upsetplot import UpSet\n",
    "from upsetplot import UpSet, from_indicators\n",
    "import matplotlib.pyplot as plt\n",
    "\n",
    "warnings.filterwarnings(\"ignore\", category=FutureWarning, module=\"upsetplot\")"
   ]
  },
  {
   "cell_type": "code",
   "execution_count": 15,
   "id": "ead8409f",
   "metadata": {},
   "outputs": [
    {
     "data": {
      "text/html": [
       "<div>\n",
       "<style scoped>\n",
       "    .dataframe tbody tr th:only-of-type {\n",
       "        vertical-align: middle;\n",
       "    }\n",
       "\n",
       "    .dataframe tbody tr th {\n",
       "        vertical-align: top;\n",
       "    }\n",
       "\n",
       "    .dataframe thead th {\n",
       "        text-align: right;\n",
       "    }\n",
       "</style>\n",
       "<table border=\"1\" class=\"dataframe\">\n",
       "  <thead>\n",
       "    <tr style=\"text-align: right;\">\n",
       "      <th></th>\n",
       "      <th>Legal Documentation</th>\n",
       "      <th>Individual Use</th>\n",
       "      <th>Creative Documentation Workshop</th>\n",
       "      <th>Communication</th>\n",
       "      <th>Advocacy</th>\n",
       "    </tr>\n",
       "  </thead>\n",
       "  <tbody>\n",
       "    <tr>\n",
       "      <th>11</th>\n",
       "      <td>Yes</td>\n",
       "      <td>Yes</td>\n",
       "      <td>Yes</td>\n",
       "      <td>No</td>\n",
       "      <td>Yes</td>\n",
       "    </tr>\n",
       "    <tr>\n",
       "      <th>12</th>\n",
       "      <td>Yes</td>\n",
       "      <td>Yes</td>\n",
       "      <td>Yes</td>\n",
       "      <td>Yes</td>\n",
       "      <td>Yes</td>\n",
       "    </tr>\n",
       "    <tr>\n",
       "      <th>34</th>\n",
       "      <td>Yes</td>\n",
       "      <td>No</td>\n",
       "      <td>Yes</td>\n",
       "      <td>Yes</td>\n",
       "      <td>Yes</td>\n",
       "    </tr>\n",
       "    <tr>\n",
       "      <th>58</th>\n",
       "      <td>Yes</td>\n",
       "      <td>No</td>\n",
       "      <td>Yes</td>\n",
       "      <td>Yes</td>\n",
       "      <td>Yes</td>\n",
       "    </tr>\n",
       "    <tr>\n",
       "      <th>59</th>\n",
       "      <td>No</td>\n",
       "      <td>No</td>\n",
       "      <td>Yes</td>\n",
       "      <td>No</td>\n",
       "      <td>No</td>\n",
       "    </tr>\n",
       "    <tr>\n",
       "      <th>60</th>\n",
       "      <td>Yes</td>\n",
       "      <td>No</td>\n",
       "      <td>Yes</td>\n",
       "      <td>No</td>\n",
       "      <td>Yes</td>\n",
       "    </tr>\n",
       "    <tr>\n",
       "      <th>112</th>\n",
       "      <td>Yes</td>\n",
       "      <td>No</td>\n",
       "      <td>Yes</td>\n",
       "      <td>No</td>\n",
       "      <td>Yes</td>\n",
       "    </tr>\n",
       "    <tr>\n",
       "      <th>113</th>\n",
       "      <td>Yes</td>\n",
       "      <td>No</td>\n",
       "      <td>Yes</td>\n",
       "      <td>No</td>\n",
       "      <td>Yes</td>\n",
       "    </tr>\n",
       "  </tbody>\n",
       "</table>\n",
       "</div>"
      ],
      "text/plain": [
       "    Legal Documentation Individual Use Creative Documentation Workshop  \\\n",
       "11                  Yes            Yes                             Yes   \n",
       "12                  Yes            Yes                             Yes   \n",
       "34                  Yes             No                             Yes   \n",
       "58                  Yes             No                             Yes   \n",
       "59                   No             No                             Yes   \n",
       "60                  Yes             No                             Yes   \n",
       "112                 Yes             No                             Yes   \n",
       "113                 Yes             No                             Yes   \n",
       "\n",
       "    Communication Advocacy  \n",
       "11             No      Yes  \n",
       "12            Yes      Yes  \n",
       "34            Yes      Yes  \n",
       "58            Yes      Yes  \n",
       "59             No       No  \n",
       "60             No      Yes  \n",
       "112            No      Yes  \n",
       "113            No      Yes  "
      ]
     },
     "execution_count": 15,
     "metadata": {},
     "output_type": "execute_result"
    }
   ],
   "source": [
    "# new_intake['fcid', td_dataset.bovars]\n",
    "# fcid = [\"fcid\"]\n",
    "# victimhood_df = new_intake.loc[:, fcid + intake_dataset.bovars]\n",
    "td_pathways = f_td_new[td_dataset.bovars]\n",
    "td_pathways_columns_names = {\n",
    "    \"legal_doc\": \"Legal Documentation\",\n",
    "    \"individual_use\": \"Individual Use\",\n",
    "    \"cws\": \"Creative Documentation Workshop\",\n",
    "    \"communicat_use\": \"Communication\",\n",
    "    \"advocacy\": \"Advocacy\",\n",
    "}\n",
    "td_pathways.rename(columns=td_pathways_columns_names, inplace=True)\n",
    "td_pathways"
   ]
  },
  {
   "cell_type": "code",
   "execution_count": 17,
   "id": "23562e63",
   "metadata": {},
   "outputs": [],
   "source": [
    "# Convert \"Yes\"/\"No\" to boolean (True/False)\n",
    "boolean_td_df = td_pathways.map(lambda x: x == \"Yes\")\n",
    "# boolean_td_df"
   ]
  },
  {
   "cell_type": "code",
   "execution_count": 18,
   "id": "821e0c6a",
   "metadata": {},
   "outputs": [
    {
     "data": {
      "image/png": "[encoded data removed]",
      "text/plain": [
       "<Figure size 1000x916.667 with 4 Axes>"
      ]
     },
     "metadata": {},
     "output_type": "display_data"
    }
   ],
   "source": [
    "# Create the UpSet plot\n",
    "upset_data = from_indicators(data=boolean_td_df, indicators=boolean_td_df.columns)\n",
    "# Use a clean and reliable matplotlib style\n",
    "plt.style.use(\"default\")\n",
    "\n",
    "# Create the UpSet plot with detailed customization\n",
    "upset = UpSet(\n",
    "    upset_data,\n",
    "    subset_size=\"count\",  # Display subset sizes as counts\n",
    "    show_counts=True,  # Show counts on bars\n",
    "    sort_categories_by=None,  # Keep the original order of categories\n",
    "    facecolor=\"cornflowerblue\",  # Set bar fill color\n",
    "    element_size=60,  # Increase the size of the grid and elements\n",
    "    # intersection_linewidth=1.5,         # Adjust grid line width\n",
    "    # totals_color=\"darkblue\",            # Set color for totals (left-side bar chart)\n",
    ")\n",
    "\n",
    "# Modify the plot after it is generated\n",
    "fig = upset.plot()\n",
    "\n",
    "# Customize the intersection bars (manually iterate over artists)\n",
    "for patch in fig[\"intersections\"].patches:\n",
    "    patch.set_edgecolor(\"black\")  # Add black borders to the bars\n",
    "    patch.set_linewidth(1.5)  # Set border line width\n",
    "\n",
    "# Customize the totals (left-side bars)\n",
    "for patch in fig[\"totals\"].patches:\n",
    "    patch.set_facecolor(\"darkblue\")  # Set totals color\n",
    "    patch.set_edgecolor(\"black\")  # Add black border\n",
    "\n",
    "# Add a custom title and axis labels\n",
    "plt.suptitle(\n",
    "    \"Therapuetic Documentation Pathways of New Clients\",\n",
    "    fontsize=16,\n",
    "    fontweight=\"bold\",\n",
    "    color=\"black\",\n",
    ")\n",
    "plt.xlabel(\"TD Pathways Combinations\", fontsize=11, color=\"black\")\n",
    "plt.ylabel(\"Number of Individuals\", fontsize=12, color=\"black\")\n",
    "\n",
    "# Customize tick labels and fonts\n",
    "plt.xticks(\n",
    "    fontsize=10, rotation=45, ha=\"right\"\n",
    ")  # Rotate x-axis labels for better visibility\n",
    "plt.yticks(fontsize=10)\n",
    "\n",
    "# Adjust layout to prevent overlapping\n",
    "plt.subplots_adjust(top=0.85, left=0.15, right=0.9)\n",
    "\n",
    "# Display the plot\n",
    "plt.show()"
   ]
  }
 ],
 "metadata": {
  "kernelspec": {
   "display_name": ".venv",
   "language": "python",
   "name": "python3"
  },
  "language_info": {
   "codemirror_mode": {
    "name": "ipython",
    "version": 3
   },
   "file_extension": ".py",
   "mimetype": "text/x-python",
   "name": "python",
   "nbconvert_exporter": "python",
   "pygments_lexer": "ipython3",
   "version": "3.12.2"
  }
 },
 "nbformat": 5,
 "nbformat_minor": 5
}
