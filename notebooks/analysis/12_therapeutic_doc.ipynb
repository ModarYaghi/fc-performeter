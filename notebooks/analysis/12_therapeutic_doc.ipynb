{
 "cells": [
  {
   "cell_type": "code",
   "id": "initial_id",
   "metadata": {
    "collapsed": true
   },
   "source": [
    "from src.all_in_one import *"
   ],
   "outputs": [],
   "execution_count": null
  },
  {
   "cell_type": "code",
   "source": [
    "# Screening\n",
    "scr = get_df(scr_path, scr_sheet)\n",
    "unique_scr = scr.drop_duplicates(subset='rid')"
   ],
   "metadata": {
    "collapsed": false
   },
   "id": "4e4fc37abf8d5e4",
   "outputs": [],
   "execution_count": null
  },
  {
   "cell_type": "code",
   "source": [
    "td_dataset = Dataset(config_file, td_sheet)\n",
    "td = get_df(td_path, td_sheet)\n",
    "td = pd.merge(td, unique_scr[['rid', 'sex', 'age']], on='rid', how='left')\n",
    "filtered_td = filter_dataframe_on_date(td, td_dataset.dvars, start, end, FilterType.IN)"
   ],
   "metadata": {
    "collapsed": false
   },
   "id": "1ab2027c74fcc51b",
   "outputs": [],
   "execution_count": null
  },
  {
   "metadata": {},
   "cell_type": "code",
   "source": "td",
   "id": "e46d585257341f03",
   "outputs": [],
   "execution_count": null
  },
  {
   "metadata": {},
   "cell_type": "code",
   "source": "filtered_td",
   "id": "f583595eb1e54022",
   "outputs": [],
   "execution_count": null
  },
  {
   "metadata": {},
   "cell_type": "code",
   "source": "# filtered_td.to_clipboard(index=False)",
   "id": "19142a2af8365c2b",
   "outputs": [],
   "execution_count": null
  },
  {
   "metadata": {},
   "cell_type": "code",
   "source": [
    "cws_dataset = Dataset(config_file, cws_sheet)\n",
    "cws = get_df(cws_path, cws_sheet)"
   ],
   "id": "605a71eebfe53f51",
   "outputs": [],
   "execution_count": null
  },
  {
   "metadata": {},
   "cell_type": "code",
   "source": "cws",
   "id": "4d59620b4a23d583",
   "outputs": [],
   "execution_count": null
  },
  {
   "metadata": {},
   "cell_type": "code",
   "source": "td_cws = pd.merge(td, cws[['rid', 'cws_s1', 'cws_s2']], on='rid', how='left')",
   "id": "3b9a554fb5c096b3",
   "outputs": [],
   "execution_count": null
  }
 ],
 "metadata": {
  "kernelspec": {
   "display_name": "Python 3",
   "language": "python",
   "name": "python3"
  },
  "language_info": {
   "codemirror_mode": {
    "name": "ipython",
    "version": 2
   },
   "file_extension": ".py",
   "mimetype": "text/x-python",
   "name": "python",
   "nbconvert_exporter": "python",
   "pygments_lexer": "ipython2",
   "version": "2.7.6"
  }
 },
 "nbformat": 5,
 "nbformat_minor": 5
}
