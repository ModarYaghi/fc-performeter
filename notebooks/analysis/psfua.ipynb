{
 "cells": [
  {
   "cell_type": "code",
   "execution_count": null,
   "id": "initial_id",
   "metadata": {
    "collapsed": true
   },
   "outputs": [],
   "source": [
    "import pandas as pd\n",
    "from src.all_in_one import *\n",
    "from src.analysis_functions import *"
   ]
  },
  {
   "cell_type": "code",
   "outputs": [],
   "source": [
    "threshold = '2023-12-31'\n",
    "_threshold = '2024-03-01'"
   ],
   "metadata": {
    "collapsed": false
   },
   "id": "5a01725ac595d3be",
   "execution_count": null
  },
  {
   "cell_type": "code",
   "outputs": [],
   "source": [
    "# Screening\n",
    "scr = get_df(scr_path, scr_sheet)\n",
    "unique_scr = scr.drop_duplicates(subset='rid')"
   ],
   "metadata": {
    "collapsed": false
   },
   "id": "8043280c322c22ca",
   "execution_count": null
  },
  {
   "cell_type": "code",
   "outputs": [],
   "source": [
    "fua_dataset = Dataset(config_file, psfua_sheet)\n",
    "psfua = get_df(psfua_path, psfua_sheet)\n",
    "psfua = pd.merge(psfua, unique_scr[['rid', 'sex', 'age']], on='rid', how='left')"
   ],
   "metadata": {
    "collapsed": false
   },
   "id": "7e597d2bbea95cc7",
   "execution_count": null
  },
  {
   "cell_type": "code",
   "outputs": [],
   "source": [
    "# This method gives more accurate results\n",
    "filtered_psfua = psfua[\n",
    "    ((psfua['fu_3m'] > threshold) & (psfua['fu_3m'] < _threshold)) |\n",
    "    ((psfua['fu_6m'] > threshold) & (psfua['fu_6m'] < _threshold)) |\n",
    "    ((psfua['fu_12m'] > threshold) & (psfua['fu_12m'] < _threshold))\n",
    "    ]"
   ],
   "metadata": {
    "collapsed": false
   },
   "id": "779a9fe5f14d1f3f",
   "execution_count": null
  },
  {
   "cell_type": "code",
   "outputs": [],
   "source": [
    "filtered_psfua"
   ],
   "metadata": {
    "collapsed": false
   },
   "id": "2e5a8ed2ed191c12",
   "execution_count": null
  },
  {
   "cell_type": "code",
   "outputs": [],
   "source": [
    "filtered_psfua['sex'].value_counts()"
   ],
   "metadata": {
    "collapsed": false
   },
   "id": "ecfc5d957551c2f2",
   "execution_count": null
  },
  {
   "cell_type": "code",
   "outputs": [],
   "source": [
    "m3 = filter_df_by_date(__psfua, ['fu_3m'], threshold, comparison_type='a')\n",
    "m3 = filter_df_by_date(m3, ['fu_3m'], _threshold, comparison_type='b')"
   ],
   "metadata": {
    "collapsed": false
   },
   "id": "877d310ce3d8bf1d",
   "execution_count": null
  },
  {
   "cell_type": "code",
   "outputs": [],
   "source": [
    "m3"
   ],
   "metadata": {
    "collapsed": false
   },
   "id": "b96753bc10fcc962",
   "execution_count": null
  },
  {
   "cell_type": "code",
   "outputs": [],
   "source": [
    "m6 = filter_df_by_date(__psfua, ['fu_6m'], threshold, comparison_type='a')\n",
    "m6 = filter_df_by_date(m6, ['fu_6m'], _threshold, comparison_type='b')"
   ],
   "metadata": {
    "collapsed": false
   },
   "id": "42f995c03dd1af07",
   "execution_count": null
  },
  {
   "cell_type": "code",
   "outputs": [],
   "source": [
    "m6"
   ],
   "metadata": {
    "collapsed": false
   },
   "id": "b719f30013b043cd",
   "execution_count": null
  },
  {
   "cell_type": "code",
   "outputs": [],
   "source": [
    "m12 = filter_df_by_date(__psfua, ['fu_12m'], threshold, comparison_type='a')\n",
    "m12 = filter_df_by_date(m12, ['fu_12m'], _threshold, comparison_type='b')"
   ],
   "metadata": {
    "collapsed": false
   },
   "id": "ed03ecab056996ee",
   "execution_count": null
  },
  {
   "cell_type": "code",
   "outputs": [],
   "source": [
    "m12"
   ],
   "metadata": {
    "collapsed": false
   },
   "id": "3dbdd1465c2e3df4",
   "execution_count": null
  }
 ],
 "metadata": {
  "kernelspec": {
   "display_name": "Python 3",
   "language": "python",
   "name": "python3"
  },
  "language_info": {
   "codemirror_mode": {
    "name": "ipython",
    "version": 2
   },
   "file_extension": ".py",
   "mimetype": "text/x-python",
   "name": "python",
   "nbconvert_exporter": "python",
   "pygments_lexer": "ipython2",
   "version": "2.7.6"
  }
 },
 "nbformat": 4,
 "nbformat_minor": 5
}
