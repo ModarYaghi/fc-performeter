{
 "cells": [
  {
   "cell_type": "code",
   "execution_count": 1,
   "id": "initial_id",
   "metadata": {
    "collapsed": true,
    "ExecuteTime": {
     "end_time": "2024-01-10T10:44:41.752494200Z",
     "start_time": "2024-01-10T10:44:40.692887700Z"
    }
   },
   "outputs": [],
   "source": [
    "import pandas as pd\n",
    "from src.all_in_one import *\n",
    "from src.analysis_functions import *"
   ]
  },
  {
   "cell_type": "code",
   "outputs": [],
   "source": [
    "# Screening\n",
    "scr_path = os.path.join(processed_data, 'scr_1223.csv')\n",
    "screening_sheet = 'Scr'\n",
    "scr_dataset = Dataset(config_file, screening_sheet)\n",
    "scr = pd.read_csv(scr_path)\n",
    "scr = dtype_trans(scr, scr_dataset)\n",
    "unique_scr = scr.drop_duplicates(subset='rid')"
   ],
   "metadata": {
    "collapsed": false,
    "ExecuteTime": {
     "end_time": "2024-01-10T10:44:41.852906300Z",
     "start_time": "2024-01-10T10:44:41.757257100Z"
    }
   },
   "id": "8043280c322c22ca",
   "execution_count": 2
  },
  {
   "cell_type": "code",
   "outputs": [],
   "source": [
    "path = os.path.join(processed_data, 'psfua_1223.csv')\n",
    "fua_sheet = 'FUA'\n",
    "df_dataset = Dataset(config_file, fua_sheet)\n",
    "psfua = pd.read_csv(path)\n",
    "psfua = dtype_trans(psfua, df_dataset)\n",
    "psfua = pd.merge(psfua, unique_scr[['rid', 'sex', 'age']], on='rid', how='left')\n",
    "threshold = '2023-09-30'"
   ],
   "metadata": {
    "collapsed": false,
    "ExecuteTime": {
     "end_time": "2024-01-10T10:44:44.068530500Z",
     "start_time": "2024-01-10T10:44:43.982978300Z"
    }
   },
   "id": "7e597d2bbea95cc7",
   "execution_count": 3
  },
  {
   "cell_type": "code",
   "outputs": [
    {
     "data": {
      "text/plain": "    fuasp  fuspi    rid        fcid firstname    lastname      fu_3m  \\\n0      IJ      1  R0441  8110050063     فاطمة  حسن الأحمد 2023-04-10   \n1      IJ      2  R0391  8110050067      رقية    عبد الله 2023-04-13   \n2      IJ      3  R0501  8110020120     راميا        مشلح 2023-04-06   \n3      IJ      4  R0367  8110020110     أمينة       صباحي 2023-04-10   \n4      IJ      5  R0348  8110020097     نادية  عبد المجيد 2023-04-11   \n..    ...    ...    ...         ...       ...         ...        ...   \n176    YQ     90  R0486  8110020103     زكريا        هدلة 2023-09-28   \n177    YQ     91  R0485  8110020104      أحمد      الصيني 2023-09-28   \n178    YQ     92  R0298  8110020089      يسرى      الحويل 2023-09-26   \n179    YQ     93  R0540  8110050091     غزالة       السقا 2023-09-26   \n180    YQ     94  R0290  8110020085     أسماء      العيسى 2023-09-27   \n\n         fu_6m fu_12m  status closure_reason note     sex  age  \n0   2023-07-14    NaT  Active            NaN  NaN  Female   43  \n1   2023-07-13    NaT  Active            NaN  NaN  Female   44  \n2   2023-07-17    NaT  Active            NaN  NaN  Female   41  \n3   2023-07-20    NaT  Active            NaN  NaN  Female   40  \n4   2023-07-21    NaT  Active            NaN  NaN  Female   43  \n..         ...    ...     ...            ...  ...     ...  ...  \n176        NaT    NaT  Active            NaN  NaN  Female   55  \n177        NaT    NaT  Active            NaN  NaN    Male   44  \n178        NaT    NaT  Active            NaN  NaN  Female   36  \n179        NaT    NaT  Active            NaN  NaN  Female   46  \n180        NaT    NaT  Active            NaN  NaN  Female   34  \n\n[181 rows x 14 columns]",
      "text/html": "<div>\n<style scoped>\n    .dataframe tbody tr th:only-of-type {\n        vertical-align: middle;\n    }\n\n    .dataframe tbody tr th {\n        vertical-align: top;\n    }\n\n    .dataframe thead th {\n        text-align: right;\n    }\n</style>\n<table border=\"1\" class=\"dataframe\">\n  <thead>\n    <tr style=\"text-align: right;\">\n      <th></th>\n      <th>fuasp</th>\n      <th>fuspi</th>\n      <th>rid</th>\n      <th>fcid</th>\n      <th>firstname</th>\n      <th>lastname</th>\n      <th>fu_3m</th>\n      <th>fu_6m</th>\n      <th>fu_12m</th>\n      <th>status</th>\n      <th>closure_reason</th>\n      <th>note</th>\n      <th>sex</th>\n      <th>age</th>\n    </tr>\n  </thead>\n  <tbody>\n    <tr>\n      <th>0</th>\n      <td>IJ</td>\n      <td>1</td>\n      <td>R0441</td>\n      <td>8110050063</td>\n      <td>فاطمة</td>\n      <td>حسن الأحمد</td>\n      <td>2023-04-10</td>\n      <td>2023-07-14</td>\n      <td>NaT</td>\n      <td>Active</td>\n      <td>NaN</td>\n      <td>NaN</td>\n      <td>Female</td>\n      <td>43</td>\n    </tr>\n    <tr>\n      <th>1</th>\n      <td>IJ</td>\n      <td>2</td>\n      <td>R0391</td>\n      <td>8110050067</td>\n      <td>رقية</td>\n      <td>عبد الله</td>\n      <td>2023-04-13</td>\n      <td>2023-07-13</td>\n      <td>NaT</td>\n      <td>Active</td>\n      <td>NaN</td>\n      <td>NaN</td>\n      <td>Female</td>\n      <td>44</td>\n    </tr>\n    <tr>\n      <th>2</th>\n      <td>IJ</td>\n      <td>3</td>\n      <td>R0501</td>\n      <td>8110020120</td>\n      <td>راميا</td>\n      <td>مشلح</td>\n      <td>2023-04-06</td>\n      <td>2023-07-17</td>\n      <td>NaT</td>\n      <td>Active</td>\n      <td>NaN</td>\n      <td>NaN</td>\n      <td>Female</td>\n      <td>41</td>\n    </tr>\n    <tr>\n      <th>3</th>\n      <td>IJ</td>\n      <td>4</td>\n      <td>R0367</td>\n      <td>8110020110</td>\n      <td>أمينة</td>\n      <td>صباحي</td>\n      <td>2023-04-10</td>\n      <td>2023-07-20</td>\n      <td>NaT</td>\n      <td>Active</td>\n      <td>NaN</td>\n      <td>NaN</td>\n      <td>Female</td>\n      <td>40</td>\n    </tr>\n    <tr>\n      <th>4</th>\n      <td>IJ</td>\n      <td>5</td>\n      <td>R0348</td>\n      <td>8110020097</td>\n      <td>نادية</td>\n      <td>عبد المجيد</td>\n      <td>2023-04-11</td>\n      <td>2023-07-21</td>\n      <td>NaT</td>\n      <td>Active</td>\n      <td>NaN</td>\n      <td>NaN</td>\n      <td>Female</td>\n      <td>43</td>\n    </tr>\n    <tr>\n      <th>...</th>\n      <td>...</td>\n      <td>...</td>\n      <td>...</td>\n      <td>...</td>\n      <td>...</td>\n      <td>...</td>\n      <td>...</td>\n      <td>...</td>\n      <td>...</td>\n      <td>...</td>\n      <td>...</td>\n      <td>...</td>\n      <td>...</td>\n      <td>...</td>\n    </tr>\n    <tr>\n      <th>176</th>\n      <td>YQ</td>\n      <td>90</td>\n      <td>R0486</td>\n      <td>8110020103</td>\n      <td>زكريا</td>\n      <td>هدلة</td>\n      <td>2023-09-28</td>\n      <td>NaT</td>\n      <td>NaT</td>\n      <td>Active</td>\n      <td>NaN</td>\n      <td>NaN</td>\n      <td>Female</td>\n      <td>55</td>\n    </tr>\n    <tr>\n      <th>177</th>\n      <td>YQ</td>\n      <td>91</td>\n      <td>R0485</td>\n      <td>8110020104</td>\n      <td>أحمد</td>\n      <td>الصيني</td>\n      <td>2023-09-28</td>\n      <td>NaT</td>\n      <td>NaT</td>\n      <td>Active</td>\n      <td>NaN</td>\n      <td>NaN</td>\n      <td>Male</td>\n      <td>44</td>\n    </tr>\n    <tr>\n      <th>178</th>\n      <td>YQ</td>\n      <td>92</td>\n      <td>R0298</td>\n      <td>8110020089</td>\n      <td>يسرى</td>\n      <td>الحويل</td>\n      <td>2023-09-26</td>\n      <td>NaT</td>\n      <td>NaT</td>\n      <td>Active</td>\n      <td>NaN</td>\n      <td>NaN</td>\n      <td>Female</td>\n      <td>36</td>\n    </tr>\n    <tr>\n      <th>179</th>\n      <td>YQ</td>\n      <td>93</td>\n      <td>R0540</td>\n      <td>8110050091</td>\n      <td>غزالة</td>\n      <td>السقا</td>\n      <td>2023-09-26</td>\n      <td>NaT</td>\n      <td>NaT</td>\n      <td>Active</td>\n      <td>NaN</td>\n      <td>NaN</td>\n      <td>Female</td>\n      <td>46</td>\n    </tr>\n    <tr>\n      <th>180</th>\n      <td>YQ</td>\n      <td>94</td>\n      <td>R0290</td>\n      <td>8110020085</td>\n      <td>أسماء</td>\n      <td>العيسى</td>\n      <td>2023-09-27</td>\n      <td>NaT</td>\n      <td>NaT</td>\n      <td>Active</td>\n      <td>NaN</td>\n      <td>NaN</td>\n      <td>Female</td>\n      <td>34</td>\n    </tr>\n  </tbody>\n</table>\n<p>181 rows × 14 columns</p>\n</div>"
     },
     "execution_count": 4,
     "metadata": {},
     "output_type": "execute_result"
    }
   ],
   "source": [
    "psfua"
   ],
   "metadata": {
    "collapsed": false,
    "ExecuteTime": {
     "end_time": "2024-01-10T10:44:47.801690100Z",
     "start_time": "2024-01-10T10:44:47.777202200Z"
    }
   },
   "id": "779a9fe5f14d1f3f",
   "execution_count": 4
  },
  {
   "cell_type": "code",
   "outputs": [
    {
     "data": {
      "text/plain": "    fuasp  fuspi    rid        fcid firstname lastname      fu_3m      fu_6m  \\\n11     IJ     12  R0573  8110080008     حسناء    بصمجي 2023-10-02        NaT   \n74     SA     54  R0487  8110080005      رياض     أسعد 2023-10-03        NaT   \n77     SA     57  R0473  8110050083      منال     محمد 2023-10-04        NaT   \n85     SA     65  R0592  8110050096      مهند      صعب 2023-08-25 2023-12-15   \n175    YQ     89  R0183  8110020101      رفيق     خنوس 2023-12-08        NaT   \n\n    fu_12m  status closure_reason note     sex  age  \n11     NaT  Active            NaN  NaN  Female   41  \n74     NaT  Active            NaN  NaN    Male   59  \n77     NaT  Active            NaN  NaN  Female   23  \n85     NaT  Active            NaN  NaN    Male   30  \n175    NaT  Active            NaN  NaN    Male   48  ",
      "text/html": "<div>\n<style scoped>\n    .dataframe tbody tr th:only-of-type {\n        vertical-align: middle;\n    }\n\n    .dataframe tbody tr th {\n        vertical-align: top;\n    }\n\n    .dataframe thead th {\n        text-align: right;\n    }\n</style>\n<table border=\"1\" class=\"dataframe\">\n  <thead>\n    <tr style=\"text-align: right;\">\n      <th></th>\n      <th>fuasp</th>\n      <th>fuspi</th>\n      <th>rid</th>\n      <th>fcid</th>\n      <th>firstname</th>\n      <th>lastname</th>\n      <th>fu_3m</th>\n      <th>fu_6m</th>\n      <th>fu_12m</th>\n      <th>status</th>\n      <th>closure_reason</th>\n      <th>note</th>\n      <th>sex</th>\n      <th>age</th>\n    </tr>\n  </thead>\n  <tbody>\n    <tr>\n      <th>11</th>\n      <td>IJ</td>\n      <td>12</td>\n      <td>R0573</td>\n      <td>8110080008</td>\n      <td>حسناء</td>\n      <td>بصمجي</td>\n      <td>2023-10-02</td>\n      <td>NaT</td>\n      <td>NaT</td>\n      <td>Active</td>\n      <td>NaN</td>\n      <td>NaN</td>\n      <td>Female</td>\n      <td>41</td>\n    </tr>\n    <tr>\n      <th>74</th>\n      <td>SA</td>\n      <td>54</td>\n      <td>R0487</td>\n      <td>8110080005</td>\n      <td>رياض</td>\n      <td>أسعد</td>\n      <td>2023-10-03</td>\n      <td>NaT</td>\n      <td>NaT</td>\n      <td>Active</td>\n      <td>NaN</td>\n      <td>NaN</td>\n      <td>Male</td>\n      <td>59</td>\n    </tr>\n    <tr>\n      <th>77</th>\n      <td>SA</td>\n      <td>57</td>\n      <td>R0473</td>\n      <td>8110050083</td>\n      <td>منال</td>\n      <td>محمد</td>\n      <td>2023-10-04</td>\n      <td>NaT</td>\n      <td>NaT</td>\n      <td>Active</td>\n      <td>NaN</td>\n      <td>NaN</td>\n      <td>Female</td>\n      <td>23</td>\n    </tr>\n    <tr>\n      <th>85</th>\n      <td>SA</td>\n      <td>65</td>\n      <td>R0592</td>\n      <td>8110050096</td>\n      <td>مهند</td>\n      <td>صعب</td>\n      <td>2023-08-25</td>\n      <td>2023-12-15</td>\n      <td>NaT</td>\n      <td>Active</td>\n      <td>NaN</td>\n      <td>NaN</td>\n      <td>Male</td>\n      <td>30</td>\n    </tr>\n    <tr>\n      <th>175</th>\n      <td>YQ</td>\n      <td>89</td>\n      <td>R0183</td>\n      <td>8110020101</td>\n      <td>رفيق</td>\n      <td>خنوس</td>\n      <td>2023-12-08</td>\n      <td>NaT</td>\n      <td>NaT</td>\n      <td>Active</td>\n      <td>NaN</td>\n      <td>NaN</td>\n      <td>Male</td>\n      <td>48</td>\n    </tr>\n  </tbody>\n</table>\n</div>"
     },
     "execution_count": 5,
     "metadata": {},
     "output_type": "execute_result"
    }
   ],
   "source": [
    "psfua_q4 = filter_df_by_date(psfua, df_dataset.dvars, threshold)\n",
    "psfua_q4"
   ],
   "metadata": {
    "collapsed": false,
    "ExecuteTime": {
     "end_time": "2024-01-10T10:45:20.772297400Z",
     "start_time": "2024-01-10T10:45:20.724712300Z"
    }
   },
   "id": "877d310ce3d8bf1d",
   "execution_count": 5
  },
  {
   "cell_type": "code",
   "outputs": [],
   "source": [
    "df_dataset.dvars"
   ],
   "metadata": {
    "collapsed": false
   },
   "id": "b96753bc10fcc962",
   "execution_count": null
  },
  {
   "cell_type": "code",
   "outputs": [],
   "source": [],
   "metadata": {
    "collapsed": false
   },
   "id": "42f995c03dd1af07",
   "execution_count": null
  },
  {
   "cell_type": "code",
   "outputs": [],
   "source": [],
   "metadata": {
    "collapsed": false
   },
   "id": "ed03ecab056996ee",
   "execution_count": null
  }
 ],
 "metadata": {
  "kernelspec": {
   "display_name": "Python 3",
   "language": "python",
   "name": "python3"
  },
  "language_info": {
   "codemirror_mode": {
    "name": "ipython",
    "version": 2
   },
   "file_extension": ".py",
   "mimetype": "text/x-python",
   "name": "python",
   "nbconvert_exporter": "python",
   "pygments_lexer": "ipython2",
   "version": "2.7.6"
  }
 },
 "nbformat": 4,
 "nbformat_minor": 5
}
