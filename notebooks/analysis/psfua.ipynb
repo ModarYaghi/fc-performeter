{
 "cells": [
  {
   "cell_type": "code",
   "id": "initial_id",
   "metadata": {
    "collapsed": true
   },
   "source": [
    "from src.all_in_one import *\n",
    "from src.analysis_functions import *"
   ],
   "execution_count": null,
   "outputs": []
  },
  {
   "cell_type": "code",
   "source": [
    "# Screening\n",
    "scr = get_df(scr_path, scr_sheet)\n",
    "unique_scr = scr.drop_duplicates(subset='rid')"
   ],
   "metadata": {
    "collapsed": false
   },
   "id": "8043280c322c22ca",
   "execution_count": null,
   "outputs": []
  },
  {
   "cell_type": "code",
   "source": [
    "fua_dataset = Dataset(config_file, psfua_sheet)\n",
    "psfua = get_df(psfua_path, psfua_sheet)\n",
    "psfua = pd.merge(psfua, unique_scr[['rid', 'sex', 'age']], on='rid', how='left')\n",
    "filtered_psfua = filter_dataframe_on_date(psfua, fua_dataset.dvars, start, end, FilterType.IN)"
   ],
   "metadata": {
    "collapsed": false
   },
   "id": "7e597d2bbea95cc7",
   "execution_count": null,
   "outputs": []
  },
  {
   "metadata": {},
   "cell_type": "code",
   "source": "psfua",
   "id": "3300809f0d140d79",
   "execution_count": null,
   "outputs": []
  },
  {
   "cell_type": "code",
   "source": "filtered_psfua.to_clipboard(index=False)",
   "metadata": {
    "collapsed": false
   },
   "id": "2e5a8ed2ed191c12",
   "execution_count": null,
   "outputs": []
  },
  {
   "cell_type": "code",
   "source": [
    "filtered_psfua['sex'].value_counts()"
   ],
   "metadata": {
    "collapsed": false
   },
   "id": "ecfc5d957551c2f2",
   "execution_count": null,
   "outputs": []
  },
  {
   "cell_type": "code",
   "source": [
    "# m3 = filter_df_by_date(__psfua, ['fu_3m'], threshold, comparison_type='a')\n",
    "# m3 = filter_df_by_date(m3, ['fu_3m'], _threshold, comparison_type='b')"
   ],
   "metadata": {
    "collapsed": false
   },
   "id": "877d310ce3d8bf1d",
   "execution_count": null,
   "outputs": []
  },
  {
   "cell_type": "code",
   "source": [
    "# m6 = filter_df_by_date(__psfua, ['fu_6m'], threshold, comparison_type='a')\n",
    "# m6 = filter_df_by_date(m6, ['fu_6m'], _threshold, comparison_type='b')"
   ],
   "metadata": {
    "collapsed": false
   },
   "id": "42f995c03dd1af07",
   "execution_count": null,
   "outputs": []
  },
  {
   "cell_type": "code",
   "source": [
    "# m12 = filter_df_by_date(__psfua, ['fu_12m'], threshold, comparison_type='a')\n",
    "# m12 = filter_df_by_date(m12, ['fu_12m'], _threshold, comparison_type='b')"
   ],
   "metadata": {
    "collapsed": false
   },
   "id": "ed03ecab056996ee",
   "execution_count": null,
   "outputs": []
  }
 ],
 "metadata": {
  "kernelspec": {
   "display_name": "Python 3",
   "language": "python",
   "name": "python3"
  },
  "language_info": {
   "codemirror_mode": {
    "name": "ipython",
    "version": 2
   },
   "file_extension": ".py",
   "mimetype": "text/x-python",
   "name": "python",
   "nbconvert_exporter": "python",
   "pygments_lexer": "ipython2",
   "version": "2.7.6"
  }
 },
 "nbformat": 4,
 "nbformat_minor": 5
}
