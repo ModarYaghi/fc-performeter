{
 "cells": [
  {
   "cell_type": "code",
   "execution_count": 1,
   "id": "initial_id",
   "metadata": {
    "collapsed": true,
    "ExecuteTime": {
     "end_time": "2024-01-12T10:41:37.669467100Z",
     "start_time": "2024-01-12T10:41:36.670023300Z"
    }
   },
   "outputs": [],
   "source": [
    "import pandas as pd\n",
    "from src.all_in_one import *\n",
    "from src.analysis_functions import *\n",
    "threshold = '2023-09-30'"
   ]
  },
  {
   "cell_type": "code",
   "outputs": [],
   "source": [
    "# Screening\n",
    "scr_path = os.path.join(processed_data, 'scr_1223.csv')\n",
    "screening_sheet = 'Scr'\n",
    "scr_dataset = Dataset(config_file, screening_sheet)\n",
    "scr = pd.read_csv(scr_path)\n",
    "scr = dtype_trans(scr, scr_dataset)\n",
    "unique_scr = scr.drop_duplicates(subset='rid')"
   ],
   "metadata": {
    "collapsed": false,
    "ExecuteTime": {
     "end_time": "2024-01-12T10:41:38.591056800Z",
     "start_time": "2024-01-12T10:41:38.465806300Z"
    }
   },
   "id": "8043280c322c22ca",
   "execution_count": 2
  },
  {
   "cell_type": "code",
   "outputs": [],
   "source": [
    "fua_path = os.path.join(processed_data, 'psfua_1223.csv')\n",
    "fua_sheet = 'FUA'\n",
    "fua_dataset = Dataset(config_file, fua_sheet)\n",
    "psfua = pd.read_csv(fua_path)\n",
    "psfua = dtype_trans(psfua, fua_dataset)\n",
    "psfua = pd.merge(psfua, unique_scr[['rid', 'sex', 'age']], on='rid', how='left')\n",
    "psfua_q4 = filter_df_by_date(psfua, fua_dataset.dvars, threshold)"
   ],
   "metadata": {
    "collapsed": false,
    "ExecuteTime": {
     "end_time": "2024-01-12T10:41:39.824696800Z",
     "start_time": "2024-01-12T10:41:39.685343400Z"
    }
   },
   "id": "7e597d2bbea95cc7",
   "execution_count": 3
  },
  {
   "cell_type": "code",
   "outputs": [],
   "source": [],
   "metadata": {
    "collapsed": false,
    "ExecuteTime": {
     "end_time": "2024-01-12T10:41:45.148022700Z",
     "start_time": "2024-01-12T10:41:45.139354800Z"
    }
   },
   "id": "779a9fe5f14d1f3f",
   "execution_count": 4
  },
  {
   "cell_type": "code",
   "outputs": [],
   "source": [
    "psfua_q4.to_excel('follow_up_quarter4_2023.xlsx')"
   ],
   "metadata": {
    "collapsed": false,
    "ExecuteTime": {
     "end_time": "2024-01-12T10:43:40.060181100Z",
     "start_time": "2024-01-12T10:43:40.009476300Z"
    }
   },
   "id": "877d310ce3d8bf1d",
   "execution_count": 6
  },
  {
   "cell_type": "code",
   "outputs": [],
   "source": [],
   "metadata": {
    "collapsed": false
   },
   "id": "b96753bc10fcc962",
   "execution_count": null
  },
  {
   "cell_type": "code",
   "outputs": [],
   "source": [],
   "metadata": {
    "collapsed": false
   },
   "id": "42f995c03dd1af07",
   "execution_count": null
  },
  {
   "cell_type": "code",
   "outputs": [],
   "source": [],
   "metadata": {
    "collapsed": false
   },
   "id": "ed03ecab056996ee",
   "execution_count": null
  }
 ],
 "metadata": {
  "kernelspec": {
   "display_name": "Python 3",
   "language": "python",
   "name": "python3"
  },
  "language_info": {
   "codemirror_mode": {
    "name": "ipython",
    "version": 2
   },
   "file_extension": ".py",
   "mimetype": "text/x-python",
   "name": "python",
   "nbconvert_exporter": "python",
   "pygments_lexer": "ipython2",
   "version": "2.7.6"
  }
 },
 "nbformat": 4,
 "nbformat_minor": 5
}
