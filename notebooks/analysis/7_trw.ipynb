{
 "cells": [
  {
   "cell_type": "code",
   "id": "initial_id",
   "metadata": {
    "collapsed": true
   },
   "source": [
    "from src.all_in_one import *"
   ],
   "outputs": [],
   "execution_count": null
  },
  {
   "cell_type": "code",
   "source": [
    "# Screening\n",
    "scr = get_df(scr_path, scr_sheet)\n",
    "unique_scr = scr.drop_duplicates(subset='rid')"
   ],
   "metadata": {
    "collapsed": false
   },
   "id": "c35339b2b68a075c",
   "outputs": [],
   "execution_count": null
  },
  {
   "cell_type": "code",
   "source": [
    "trw_dataset = Dataset(config_file, trw_sheet)\n",
    "trw = get_df(trw_path, trw_sheet)\n",
    "trw = pd.merge(trw, unique_scr[['rid', 'sex', 'age']], on='rid', how='left')\n",
    "# _trw = filter_df_by_date(trw, trw_dataset.dvars, threshold)"
   ],
   "metadata": {
    "collapsed": false
   },
   "id": "9614b0e2ec757ffa",
   "outputs": [],
   "execution_count": null
  },
  {
   "cell_type": "code",
   "source": "# _trw",
   "metadata": {
    "collapsed": false
   },
   "id": "fa0058fc118b4ddc",
   "outputs": [],
   "execution_count": null
  },
  {
   "cell_type": "code",
   "source": [],
   "metadata": {
    "collapsed": false
   },
   "id": "94d04cf1c4a8938a",
   "outputs": [],
   "execution_count": null
  }
 ],
 "metadata": {
  "kernelspec": {
   "display_name": "Python 3",
   "language": "python",
   "name": "python3"
  },
  "language_info": {
   "codemirror_mode": {
    "name": "ipython",
    "version": 2
   },
   "file_extension": ".py",
   "mimetype": "text/x-python",
   "name": "python",
   "nbconvert_exporter": "python",
   "pygments_lexer": "ipython2",
   "version": "2.7.6"
  }
 },
 "nbformat": 4,
 "nbformat_minor": 5
}
