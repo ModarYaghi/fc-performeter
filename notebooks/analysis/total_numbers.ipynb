{
 "cells": [
  {
   "cell_type": "code",
   "id": "initial_id",
   "metadata": {
    "collapsed": true
   },
   "source": "from src.all_in_one import *",
   "execution_count": null,
   "outputs": []
  },
  {
   "metadata": {},
   "cell_type": "code",
   "source": [
    "scr_file = path_manager.get_data_file(Category.PS, PSFile.SCR)\n",
    "scr = get_df(scr_file.path, scr_file.sheet)"
   ],
   "id": "8a317e05214350b1",
   "execution_count": null,
   "outputs": []
  },
  {
   "metadata": {},
   "cell_type": "code",
   "source": [
    "sub_scr = scr[['rid', 'sc_s1']]\n",
    "sub_scr.insert(2, 'year', sub_scr['sc_s1'].dt.year.astype('Int64'))"
   ],
   "id": "87e8813ffe97a031",
   "execution_count": null,
   "outputs": []
  },
  {
   "metadata": {},
   "cell_type": "code",
   "source": "sub_scr",
   "id": "cb8b228917ec031a",
   "execution_count": null,
   "outputs": []
  },
  {
   "metadata": {},
   "cell_type": "code",
   "source": "annual_registration_counts = sub_scr.groupby('year').size().reset_index(name='count')",
   "id": "e5345baf83a1bc6a",
   "execution_count": null,
   "outputs": []
  },
  {
   "metadata": {},
   "cell_type": "code",
   "source": "annual_registration_counts['count'].sum()",
   "id": "52ce600edb092c2f",
   "execution_count": null,
   "outputs": []
  },
  {
   "metadata": {},
   "cell_type": "code",
   "source": "annual_registration_counts_22_23_24 = annual_registration_counts[annual_registration_counts['year'] >= 2022]",
   "id": "31990a7427e622a",
   "execution_count": null,
   "outputs": []
  },
  {
   "metadata": {},
   "cell_type": "code",
   "source": "annual_registration_counts_22_23_24",
   "id": "d6d571a6d1b1bdb5",
   "execution_count": null,
   "outputs": []
  },
  {
   "metadata": {},
   "cell_type": "code",
   "source": "total_registrations_22_23_24 = annual_registration_counts_22_23_24['count'].sum()",
   "id": "a0f1723f956daca9",
   "execution_count": null,
   "outputs": []
  },
  {
   "metadata": {},
   "cell_type": "code",
   "source": "total_registrations_22_23_24",
   "id": "e733a75c1c6b4e11",
   "execution_count": null,
   "outputs": []
  },
  {
   "metadata": {},
   "cell_type": "code",
   "source": "# annual_registration_counts_22_23_24['%'] = (annual_registration_counts_22_23_24['count'] / total_registrations_22_23_24) * 100\n",
   "id": "34d0e74be485d4b3",
   "execution_count": null,
   "outputs": []
  },
  {
   "metadata": {},
   "cell_type": "code",
   "source": "annual_registration_counts_22_23_24",
   "id": "5ce62c67a41913de",
   "execution_count": null,
   "outputs": []
  },
  {
   "metadata": {},
   "cell_type": "code",
   "source": "628 / 2.5",
   "id": "5369e6566b7c329e",
   "execution_count": null,
   "outputs": []
  },
  {
   "metadata": {},
   "cell_type": "code",
   "source": "251.2 * 2.5",
   "id": "216490fba321cdd8",
   "execution_count": null,
   "outputs": []
  }
 ],
 "metadata": {
  "kernelspec": {
   "display_name": "Python 3",
   "language": "python",
   "name": "python3"
  },
  "language_info": {
   "codemirror_mode": {
    "name": "ipython",
    "version": 2
   },
   "file_extension": ".py",
   "mimetype": "text/x-python",
   "name": "python",
   "nbconvert_exporter": "python",
   "pygments_lexer": "ipython2",
   "version": "2.7.6"
  }
 },
 "nbformat": 4,
 "nbformat_minor": 5
}
