{
 "cells": [
  {
   "cell_type": "code",
   "id": "initial_id",
   "metadata": {
    "collapsed": true
   },
   "source": [
    "import pandas as pd\n",
    "\n",
    "from src.all_in_one import *\n",
    "from src.analysis_functions import *"
   ],
   "outputs": [],
   "execution_count": null
  },
  {
   "cell_type": "code",
   "source": [
    "scr_file = path_manager.get_data_file(Category.PS, PSFile.SCR)\n",
    "scr = get_df(scr_file.path, scr_file.sheet)\n",
    "scr = scr.drop_duplicates(subset='rid')"
   ],
   "metadata": {
    "collapsed": false
   },
   "id": "48da10baa38e26ef",
   "outputs": [],
   "execution_count": null
  },
  {
   "metadata": {},
   "cell_type": "code",
   "source": "scr",
   "id": "f44b1cbdc8a0fa3",
   "outputs": [],
   "execution_count": null
  },
  {
   "metadata": {},
   "cell_type": "code",
   "source": "# scr = scr[['rid', 'sc_s1']]",
   "id": "1628dfe33e667245",
   "outputs": [],
   "execution_count": null
  },
  {
   "metadata": {},
   "cell_type": "code",
   "source": "# scr.loc[:,'period'] = scr['sc_s1'].dt.to_period('M')",
   "id": "b2c04e3369fbe858",
   "outputs": [],
   "execution_count": null
  },
  {
   "metadata": {},
   "cell_type": "code",
   "source": "# scr_24 = scr[scr['period'] > '2023-12']",
   "id": "e875acfd2957ad42",
   "outputs": [],
   "execution_count": null
  },
  {
   "metadata": {},
   "cell_type": "code",
   "source": "# scr_24",
   "id": "d68acd1a036a2b0a",
   "outputs": [],
   "execution_count": null
  },
  {
   "metadata": {},
   "cell_type": "code",
   "source": [
    "# scr_dataset = Dataset(path_manager.config, scr_file.sheet)\n",
    "# scr24 = filter_dataframe_on_date(scr, scr_dataset.dvars, start, end)"
   ],
   "id": "b6835f20b5c2a108",
   "outputs": [],
   "execution_count": null
  },
  {
   "metadata": {},
   "cell_type": "code",
   "source": "# path_manager.config",
   "id": "c515607333944534",
   "outputs": [],
   "execution_count": null
  },
  {
   "metadata": {},
   "cell_type": "code",
   "source": "# pd.read_csv(r'C:\\Users\\fmnya\\fc-performeter\\data\\processed\\0624\\01_psint_0624.csv')",
   "id": "ea7787408f45e044",
   "outputs": [],
   "execution_count": null
  },
  {
   "cell_type": "markdown",
   "source": [
    "# Psychotherapy"
   ],
   "metadata": {
    "collapsed": false
   },
   "id": "f57b016500965610"
  },
  {
   "cell_type": "code",
   "source": [
    "int_file = path_manager.get_data_file(Category.PS, PSFile.PSNT)\n",
    "intake_dataset = Dataset(config_file, int_file.sheet)\n",
    "intake = get_df(int_file.path, int_file.sheet)\n",
    "intake.insert(0, 'min_date', (intake[intake_dataset.dvars].min(axis=1)))\n",
    "intake.insert(1, 'max_date', (intake[intake_dataset.dvars].max(axis=1)))\n",
    "intake.insert(2, 'service', 'int')\n",
    "intake = intake[['min_date', 'max_date', 'service', 'rid']].sort_values(by='min_date')"
   ],
   "metadata": {
    "collapsed": false
   },
   "id": "6cc9b03e64627bc9",
   "outputs": [],
   "execution_count": null
  },
  {
   "cell_type": "code",
   "source": "intake",
   "metadata": {
    "collapsed": false
   },
   "id": "d618e21aa02cdd6f",
   "outputs": [],
   "execution_count": null
  },
  {
   "cell_type": "markdown",
   "source": [
    "# TRW"
   ],
   "metadata": {
    "collapsed": false
   },
   "id": "a918cb44a59a4973"
  },
  {
   "cell_type": "code",
   "source": [
    "trw_file = path_manager.get_data_file(Category.PS, PSFile.TRW)\n",
    "trw_dataset = Dataset(config_file, trw_file.sheet)\n",
    "trw = get_df(trw_file.path, trw_file.sheet)\n",
    "trw.insert(0, 'min_date', (trw[trw_dataset.dvars].min(axis=1)))\n",
    "trw.insert(1, 'max_date', (trw[trw_dataset.dvars].max(axis=1)))\n",
    "trw.insert(2, 'service', 'trw')\n",
    "trw = trw[['min_date', 'max_date', 'service', 'rid']].sort_values(by='min_date')"
   ],
   "metadata": {
    "collapsed": false
   },
   "id": "c13a4d9c282a1b1d",
   "outputs": [],
   "execution_count": null
  },
  {
   "cell_type": "code",
   "source": "# trw",
   "metadata": {
    "collapsed": false
   },
   "id": "bd8f51e5bf4eed9e",
   "outputs": [],
   "execution_count": null
  },
  {
   "cell_type": "code",
   "source": "# trw[['min_date', 'max_year']] = trw[['min_year', 'max_date']].astype('Int64')",
   "metadata": {
    "collapsed": false
   },
   "id": "5b76465efe498e44",
   "outputs": [],
   "execution_count": null
  },
  {
   "cell_type": "markdown",
   "source": "# PEI",
   "metadata": {
    "collapsed": false
   },
   "id": "accef585881c649d"
  },
  {
   "cell_type": "code",
   "source": [
    "pei_file = path_manager.get_data_file(Category.PS, PSFile.PEI)\n",
    "pei_dataset = Dataset(config_file, pei_file.sheet)\n",
    "pei = get_df(pei_file.path, pei_file.sheet)\n",
    "pei.insert(0, 'min_date', (pei[pei_dataset.dvars].min(axis=1)))\n",
    "pei.insert(1, 'max_date', (pei[pei_dataset.dvars].max(axis=1)))\n",
    "pei.insert(2, 'service', 'pei')\n",
    "pei = pei[['min_date', 'max_date', 'service', 'rid']].sort_values(by='min_date')"
   ],
   "metadata": {
    "collapsed": false
   },
   "id": "cfab508443787385",
   "outputs": [],
   "execution_count": null
  },
  {
   "cell_type": "code",
   "source": "# pei[['min_date', 'max_date']] = pei[['min_date', 'max_date']].astype('Int64')",
   "metadata": {
    "collapsed": false
   },
   "id": "100aba1ae12aca7e",
   "outputs": [],
   "execution_count": null
  },
  {
   "cell_type": "code",
   "source": "# pei",
   "metadata": {
    "collapsed": false
   },
   "id": "6ed74315083c72ac",
   "outputs": [],
   "execution_count": null
  },
  {
   "cell_type": "markdown",
   "source": "# TD",
   "metadata": {
    "collapsed": false
   },
   "id": "5b7d66d56937fff7"
  },
  {
   "cell_type": "code",
   "source": [
    "td_file = path_manager.get_data_file(Category.PS, PSFile.TD)\n",
    "td_dataset = Dataset(config_file, td_file.sheet)\n",
    "td = get_df(td_file.path, td_file.sheet)\n",
    "td.insert(0, 'min_date', (td[td_dataset.dvars].min(axis=1)))\n",
    "td.insert(1, 'max_date', (td[td_dataset.dvars].max(axis=1)))\n",
    "td.insert(2, 'service', 'td')\n",
    "td = td[['min_date', 'max_date', 'service', 'rid']].sort_values(by='min_date')"
   ],
   "metadata": {
    "collapsed": false
   },
   "id": "93da2b7a60d1db0",
   "outputs": [],
   "execution_count": null
  },
  {
   "cell_type": "code",
   "source": "# td[['min_date', 'max_date']] = td[['min_date', 'max_date']].astype('Int64')",
   "metadata": {
    "collapsed": false
   },
   "id": "8c400025d2fb8cbc",
   "outputs": [],
   "execution_count": null
  },
  {
   "cell_type": "code",
   "source": "# td",
   "metadata": {
    "collapsed": false
   },
   "id": "43c0f8874ef9b171",
   "outputs": [],
   "execution_count": null
  },
  {
   "cell_type": "markdown",
   "source": "# Physiotherapy",
   "metadata": {
    "collapsed": false
   },
   "id": "24c916903de26388"
  },
  {
   "cell_type": "code",
   "source": [
    "ptint_file = path_manager.get_data_file(Category.PT, PTFile.PTNT)\n",
    "ptint_dataset = Dataset(config_file, ptint_file.sheet)\n",
    "ptint = get_df(ptint_file.path, ptint_file.sheet)\n",
    "ptint.insert(0, 'min_date', (ptint[ptint_dataset.dvars].min(axis=1)))\n",
    "ptint.insert(1, 'max_date', (ptint[ptint_dataset.dvars].max(axis=1)))\n",
    "ptint.insert(2, 'service', 'ptint')\n",
    "ptint = ptint[['min_date', 'max_date', 'service', 'rid']].sort_values(by='min_date')"
   ],
   "metadata": {
    "collapsed": false
   },
   "id": "a4c5c88d012c57a8",
   "outputs": [],
   "execution_count": null
  },
  {
   "cell_type": "code",
   "source": "# ptint",
   "metadata": {
    "collapsed": false
   },
   "id": "e007dc51fac2fc4d",
   "outputs": [],
   "execution_count": null
  },
  {
   "metadata": {},
   "cell_type": "markdown",
   "source": "# Case Management",
   "id": "52599163f23b8835"
  },
  {
   "metadata": {},
   "cell_type": "markdown",
   "source": "Case Management data need to be added to the system, and processed as the other datasets.",
   "id": "6f7597cf7bd7e509"
  },
  {
   "metadata": {},
   "cell_type": "code",
   "source": [
    "cm = pd.read_excel(r'../referrals.xlsx')\n",
    "cm = cm[['referral_ID', 'FC_ID', 'referralDate']]\n",
    "cm = cm.rename(columns={'referral_ID': 'rid', 'FC_ID': 'fcid', 'referralDate': 'date'})\n",
    "# cm_24 = filter_dataframe_on_date(cm, 'date', pd.to_datetime('2024-04-01'), pd.to_datetime('2024-06-30'))\n",
    "cm.insert(0, 'min_date', cm['date'])\n",
    "cm.insert(1, 'max_date', cm['date'])\n",
    "cm.insert(2, 'service', 'cm')\n",
    "cm = cm[['min_date', 'max_date', 'service', 'rid']].sort_values(by='min_date')"
   ],
   "id": "a70fcab9599c5a5a",
   "outputs": [],
   "execution_count": null
  },
  {
   "metadata": {},
   "cell_type": "code",
   "source": "# cm",
   "id": "e6ba7df5c70a9b23",
   "outputs": [],
   "execution_count": null
  },
  {
   "cell_type": "markdown",
   "source": [
    "# New Served"
   ],
   "metadata": {
    "collapsed": false
   },
   "id": "dd62fde04195c79b"
  },
  {
   "cell_type": "code",
   "source": [
    "intake = intake.drop_duplicates(subset='rid')\n",
    "trw = trw.drop_duplicates(subset='rid')\n",
    "pei = pei.drop_duplicates(subset='rid')\n",
    "ptint = ptint.drop_duplicates(subset='rid')\n",
    "td = td.drop_duplicates(subset='rid')\n",
    "cm = cm.drop_duplicates(subset='rid')\n",
    "new_served = pd.concat([intake, trw, pei, ptint, td, cm], ignore_index=True)"
   ],
   "metadata": {
    "collapsed": false
   },
   "id": "d0b5d4ff51b4052d",
   "outputs": [],
   "execution_count": null
  },
  {
   "cell_type": "code",
   "source": [
    "new_served"
   ],
   "metadata": {
    "collapsed": false
   },
   "id": "89c21451952e0ff9",
   "outputs": [],
   "execution_count": null
  },
  {
   "cell_type": "code",
   "source": "# new_served['service'].value_counts()",
   "metadata": {
    "collapsed": false
   },
   "id": "14c955f81e1bda08",
   "outputs": [],
   "execution_count": null
  },
  {
   "cell_type": "code",
   "source": [
    "# new_served_24 = new_served[new_served['min_date'] >= pd.to_datetime('2024-04-01')]\n",
    "new_served_24 = filter_dataframe_on_date(new_served, 'min_date', pd.to_datetime('2024-04-01'), pd.to_datetime('2024-06-30'))"
   ],
   "metadata": {
    "collapsed": false
   },
   "id": "10fa983ab467d989",
   "outputs": [],
   "execution_count": null
  },
  {
   "cell_type": "code",
   "source": [
    "new_served_24"
   ],
   "metadata": {
    "collapsed": false
   },
   "id": "e759ea4fa711cc35",
   "outputs": [],
   "execution_count": null
  },
  {
   "cell_type": "code",
   "source": "new_served_24 = pd.merge(new_served_24, scr[['rid', 'sex', 'age']], on='rid', how='left')",
   "metadata": {
    "collapsed": false
   },
   "id": "d306f18be033cac0",
   "outputs": [],
   "execution_count": null
  },
  {
   "cell_type": "code",
   "source": "new_served_24",
   "metadata": {
    "collapsed": false
   },
   "id": "d99f2ec48249890",
   "outputs": [],
   "execution_count": null
  },
  {
   "cell_type": "code",
   "source": "new_served_24.value_counts('service', dropna=False)",
   "metadata": {
    "collapsed": false
   },
   "id": "28d99d18f97dfb1",
   "outputs": [],
   "execution_count": null
  },
  {
   "cell_type": "code",
   "source": "new_served_24.value_counts('sex', dropna=False)",
   "metadata": {
    "collapsed": false
   },
   "id": "7f590d3eab6dedb4",
   "outputs": [],
   "execution_count": null
  },
  {
   "cell_type": "code",
   "source": [],
   "metadata": {
    "collapsed": false
   },
   "id": "85cf845cb1c65a3b",
   "outputs": [],
   "execution_count": null
  }
 ],
 "metadata": {
  "kernelspec": {
   "display_name": "Python 3",
   "language": "python",
   "name": "python3"
  },
  "language_info": {
   "codemirror_mode": {
    "name": "ipython",
    "version": 2
   },
   "file_extension": ".py",
   "mimetype": "text/x-python",
   "name": "python",
   "nbconvert_exporter": "python",
   "pygments_lexer": "ipython2",
   "version": "2.7.6"
  }
 },
 "nbformat": 4,
 "nbformat_minor": 5
}
