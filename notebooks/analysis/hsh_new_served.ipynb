{
 "cells": [
  {
   "cell_type": "code",
   "execution_count": 1,
   "id": "initial_id",
   "metadata": {
    "collapsed": true
   },
   "outputs": [],
   "source": [
    "import pandas as pd\n",
    "from src.all_in_one import *\n",
    "from src.analysis_functions import *"
   ]
  },
  {
   "cell_type": "code",
   "execution_count": 12,
   "id": "65d3fc20",
   "metadata": {},
   "outputs": [],
   "source": [
    "START_DATE = pd.to_datetime(\"2025-01-01\")\n",
    "END_DATE = pd.to_datetime(\"2025-01-31\")"
   ]
  },
  {
   "cell_type": "code",
   "execution_count": 2,
   "id": "48da10baa38e26ef",
   "metadata": {
    "collapsed": false
   },
   "outputs": [],
   "source": [
    "scr_file = path_manager.get_data_file(Category.PS, PSFile.SCR)\n",
    "scr = get_df(scr_file.path, scr_file.sheet)\n",
    "scr = scr.drop_duplicates(subset=\"rid\")"
   ]
  },
  {
   "cell_type": "code",
   "execution_count": 70,
   "id": "fbbfdd9b",
   "metadata": {},
   "outputs": [],
   "source": [
    "# scr[scr['lastname'] == 'دومان']"
   ]
  },
  {
   "cell_type": "code",
   "execution_count": null,
   "id": "1628dfe33e667245",
   "metadata": {},
   "outputs": [],
   "source": [
    "# path_manager.config\n",
    "# pd.read_csv(r'C:\\Users\\fmnya\\fc-performeter\\data\\processed\\0624\\01_psint_0624.csv')"
   ]
  },
  {
   "cell_type": "markdown",
   "id": "f57b016500965610",
   "metadata": {
    "collapsed": false
   },
   "source": [
    "# Psychotherapy"
   ]
  },
  {
   "cell_type": "code",
   "execution_count": 3,
   "id": "6cc9b03e64627bc9",
   "metadata": {
    "collapsed": false
   },
   "outputs": [],
   "source": [
    "int_file = path_manager.get_data_file(Category.PS, PSFile.PSNT)\n",
    "intake_dataset = Dataset(config_file, int_file.sheet)\n",
    "intake = get_df(int_file.path, int_file.sheet)\n",
    "intake.insert(0, \"min_date\", (intake[intake_dataset.dvars].min(axis=1)))\n",
    "intake.insert(1, \"max_date\", (intake[intake_dataset.dvars].max(axis=1)))\n",
    "intake.insert(2, \"service\", \"int\")\n",
    "intake = intake[[\"min_date\", \"max_date\", \"service\", \"rid\"]].sort_values(by=\"min_date\")\n",
    "# intake"
   ]
  },
  {
   "cell_type": "markdown",
   "id": "a918cb44a59a4973",
   "metadata": {
    "collapsed": false
   },
   "source": [
    "# TRW"
   ]
  },
  {
   "cell_type": "code",
   "execution_count": 4,
   "id": "c13a4d9c282a1b1d",
   "metadata": {
    "collapsed": false
   },
   "outputs": [],
   "source": [
    "trw_file = path_manager.get_data_file(Category.PS, PSFile.TRW)\n",
    "trw_dataset = Dataset(config_file, trw_file.sheet)\n",
    "trw = get_df(trw_file.path, trw_file.sheet)\n",
    "trw.insert(0, \"min_date\", (trw[trw_dataset.dvars].min(axis=1)))\n",
    "trw.insert(1, \"max_date\", (trw[trw_dataset.dvars].max(axis=1)))\n",
    "trw.insert(2, \"service\", \"trw\")\n",
    "trw = trw[[\"min_date\", \"max_date\", \"service\", \"rid\"]].sort_values(by=\"min_date\")"
   ]
  },
  {
   "cell_type": "markdown",
   "id": "accef585881c649d",
   "metadata": {
    "collapsed": false
   },
   "source": [
    "# PEI"
   ]
  },
  {
   "cell_type": "code",
   "execution_count": 5,
   "id": "cfab508443787385",
   "metadata": {
    "collapsed": false
   },
   "outputs": [],
   "source": [
    "pei_file = path_manager.get_data_file(Category.PS, PSFile.PEI)\n",
    "pei_dataset = Dataset(config_file, pei_file.sheet)\n",
    "pei = get_df(pei_file.path, pei_file.sheet)\n",
    "pei.insert(0, \"min_date\", (pei[pei_dataset.dvars].min(axis=1)))\n",
    "pei.insert(1, \"max_date\", (pei[pei_dataset.dvars].max(axis=1)))\n",
    "pei.insert(2, \"service\", \"pei\")\n",
    "pei = pei[[\"min_date\", \"max_date\", \"service\", \"rid\"]].sort_values(by=\"min_date\")"
   ]
  },
  {
   "cell_type": "markdown",
   "id": "5b7d66d56937fff7",
   "metadata": {
    "collapsed": false
   },
   "source": [
    "# TD"
   ]
  },
  {
   "cell_type": "code",
   "execution_count": 6,
   "id": "93da2b7a60d1db0",
   "metadata": {
    "collapsed": false
   },
   "outputs": [],
   "source": [
    "td_file = path_manager.get_data_file(Category.PS, PSFile.TD)\n",
    "td_dataset = Dataset(config_file, td_file.sheet)\n",
    "td = get_df(td_file.path, td_file.sheet)\n",
    "td.insert(0, \"min_date\", (td[td_dataset.dvars].min(axis=1)))\n",
    "td.insert(1, \"max_date\", (td[td_dataset.dvars].max(axis=1)))\n",
    "td.insert(2, \"service\", \"td\")\n",
    "td = td[[\"min_date\", \"max_date\", \"service\", \"rid\"]].sort_values(by=\"min_date\")"
   ]
  },
  {
   "cell_type": "markdown",
   "id": "24c916903de26388",
   "metadata": {
    "collapsed": false
   },
   "source": [
    "# Physiotherapy"
   ]
  },
  {
   "cell_type": "code",
   "execution_count": 7,
   "id": "a4c5c88d012c57a8",
   "metadata": {
    "collapsed": false
   },
   "outputs": [],
   "source": [
    "ptint_file = path_manager.get_data_file(Category.PT, PTFile.PTNT)\n",
    "ptint_dataset = Dataset(config_file, ptint_file.sheet)\n",
    "ptint = get_df(ptint_file.path, ptint_file.sheet)\n",
    "ptint.insert(0, \"min_date\", (ptint[ptint_dataset.dvars].min(axis=1)))\n",
    "ptint.insert(1, \"max_date\", (ptint[ptint_dataset.dvars].max(axis=1)))\n",
    "ptint.insert(2, \"service\", \"ptint\")\n",
    "ptint = ptint[[\"min_date\", \"max_date\", \"service\", \"rid\"]].sort_values(by=\"min_date\")"
   ]
  },
  {
   "cell_type": "markdown",
   "id": "52599163f23b8835",
   "metadata": {},
   "source": [
    "# Case Management"
   ]
  },
  {
   "cell_type": "markdown",
   "id": "6f7597cf7bd7e509",
   "metadata": {},
   "source": [
    "Case Management data need to be added to the system, and processed as the other datasets."
   ]
  },
  {
   "cell_type": "code",
   "execution_count": 9,
   "id": "a70fcab9599c5a5a",
   "metadata": {},
   "outputs": [],
   "source": [
    "cm_path = r\"/home/fmny/fc-performeter/data/raw/0125/other_services/TS_FC_meetingOutreachReferralFollowUpAdvocacy.xlsx\"\n",
    "sheet_name = \"IngoingOutgoingInternalReferral\"\n",
    "cm = pd.read_excel(cm_path, sheet_name=sheet_name)\n",
    "cm = cm[[\"referral_ID\", \"FC_ID\", \"referralDate\"]]\n",
    "cm = cm.rename(columns={\"referral_ID\": \"rid\", \"FC_ID\": \"fcid\", \"referralDate\": \"date\"})\n",
    "cm.insert(0, \"min_date\", cm[\"date\"])\n",
    "cm.insert(1, \"max_date\", cm[\"date\"])\n",
    "cm.insert(2, \"service\", \"cm\")\n",
    "cm = cm[[\"min_date\", \"max_date\", \"service\", \"rid\"]].sort_values(by=\"min_date\")\n",
    "# cm"
   ]
  },
  {
   "cell_type": "markdown",
   "id": "dd62fde04195c79b",
   "metadata": {
    "collapsed": false
   },
   "source": [
    "# New Served"
   ]
  },
  {
   "cell_type": "code",
   "execution_count": 10,
   "id": "d0b5d4ff51b4052d",
   "metadata": {
    "collapsed": false
   },
   "outputs": [],
   "source": [
    "intake = intake.drop_duplicates(subset=\"rid\")\n",
    "trw = trw.drop_duplicates(subset=\"rid\")\n",
    "pei = pei.drop_duplicates(subset=\"rid\")\n",
    "ptint = ptint.drop_duplicates(subset=\"rid\")\n",
    "td = td.drop_duplicates(subset=\"rid\")\n",
    "cm = cm.drop_duplicates(subset=\"rid\")\n",
    "new_served = pd.concat([intake, trw, pei, ptint, td, cm], ignore_index=True)"
   ]
  },
  {
   "cell_type": "code",
   "execution_count": null,
   "id": "89c21451952e0ff9",
   "metadata": {
    "collapsed": false
   },
   "outputs": [],
   "source": [
    "new_served"
   ]
  },
  {
   "cell_type": "code",
   "execution_count": 11,
   "id": "14c955f81e1bda08",
   "metadata": {
    "collapsed": false
   },
   "outputs": [
    {
     "data": {
      "text/plain": [
       "service\n",
       "cm       523\n",
       "int      342\n",
       "ptint    213\n",
       "pei      166\n",
       "trw      137\n",
       "td       115\n",
       "Name: count, dtype: int64"
      ]
     },
     "execution_count": 11,
     "metadata": {},
     "output_type": "execute_result"
    }
   ],
   "source": [
    "new_served[\"service\"].value_counts()"
   ]
  },
  {
   "cell_type": "code",
   "execution_count": 13,
   "id": "10fa983ab467d989",
   "metadata": {
    "collapsed": false
   },
   "outputs": [],
   "source": [
    "new_served_25 = filter_dataframe_on_date(new_served, \"min_date\", START_DATE, END_DATE)"
   ]
  },
  {
   "cell_type": "code",
   "execution_count": null,
   "id": "e759ea4fa711cc35",
   "metadata": {
    "collapsed": false
   },
   "outputs": [],
   "source": [
    "# new_served_25.count()\n",
    "new_served_25"
   ]
  },
  {
   "cell_type": "code",
   "execution_count": 16,
   "id": "d306f18be033cac0",
   "metadata": {
    "collapsed": false
   },
   "outputs": [],
   "source": [
    "new_served_25 = pd.merge(\n",
    "    new_served_25, scr[[\"rid\", \"sex\", \"age\"]], on=\"rid\", how=\"left\"\n",
    ")"
   ]
  },
  {
   "cell_type": "markdown",
   "id": "36f4d179",
   "metadata": {},
   "source": [
    "### Filling missing values in new_served_24"
   ]
  },
  {
   "cell_type": "code",
   "execution_count": 19,
   "id": "0afbd394",
   "metadata": {},
   "outputs": [],
   "source": [
    "# new_served_24.loc[new_served_24[\"rid\"] == \"R1496\", [\"sex\", \"age\"]] = [\"Male\", 28]\n",
    "# new_served_24.loc[new_served_24[\"rid\"] == \"R1501\", [\"sex\", \"age\"]] = [\"Male\", 46]\n",
    "# new_served_24.loc[new_served_24[\"rid\"] == \"R1502\", [\"sex\", \"age\"]] = [\"Female\", 48]\n",
    "# new_served_24.loc[new_served_24[\"rid\"] == \"R1509\", [\"sex\", \"age\"]] = [\"Female\", 35]\n",
    "# new_served_24.loc[new_served_24[\"rid\"] == \"R1551\", [\"sex\", \"age\"]] = [\"Female\", 38]"
   ]
  },
  {
   "cell_type": "code",
   "execution_count": null,
   "id": "d99f2ec48249890",
   "metadata": {
    "collapsed": false
   },
   "outputs": [],
   "source": [
    "new_served_25"
   ]
  },
  {
   "cell_type": "code",
   "execution_count": 17,
   "id": "28d99d18f97dfb1",
   "metadata": {
    "collapsed": false
   },
   "outputs": [],
   "source": [
    "# new_served_24.value_counts(\"service\", dropna=False)"
   ]
  },
  {
   "cell_type": "code",
   "execution_count": 18,
   "id": "7f590d3eab6dedb4",
   "metadata": {
    "collapsed": false
   },
   "outputs": [
    {
     "data": {
      "text/plain": [
       "sex\n",
       "Female    2\n",
       "Male      1\n",
       "Name: count, dtype: int64"
      ]
     },
     "execution_count": 18,
     "metadata": {},
     "output_type": "execute_result"
    }
   ],
   "source": [
    "new_served_25.value_counts(\"sex\", dropna=False)"
   ]
  },
  {
   "cell_type": "markdown",
   "id": "85cf845cb1c65a3b",
   "metadata": {
    "collapsed": false
   },
   "source": [
    "## Count the Number of Survivor of Turture in New Served"
   ]
  },
  {
   "cell_type": "code",
   "execution_count": 19,
   "id": "97c9d100",
   "metadata": {},
   "outputs": [],
   "source": [
    "int = get_df(int_file.path, int_file.sheet)\n",
    "int = int.dropna(subset=[\"nt_s1\"])\n",
    "survivor_of_turture_columns = [\n",
    "    \"rid\",\n",
    "    \"survivor_of_detention\",\n",
    "    \"primary_torture\",\n",
    "    \"sexual_violation_a\",\n",
    "    \"sexual_violation_p\",\n",
    "]\n",
    "sur_of_tur = pd.merge(\n",
    "    new_served_25, int[survivor_of_turture_columns], on=\"rid\", how=\"left\"\n",
    ")  # merage with survivor of torture columsn."
   ]
  },
  {
   "cell_type": "code",
   "execution_count": 20,
   "id": "b8fcbba9",
   "metadata": {},
   "outputs": [
    {
     "data": {
      "text/html": [
       "<div>\n",
       "<style scoped>\n",
       "    .dataframe tbody tr th:only-of-type {\n",
       "        vertical-align: middle;\n",
       "    }\n",
       "\n",
       "    .dataframe tbody tr th {\n",
       "        vertical-align: top;\n",
       "    }\n",
       "\n",
       "    .dataframe thead th {\n",
       "        text-align: right;\n",
       "    }\n",
       "</style>\n",
       "<table border=\"1\" class=\"dataframe\">\n",
       "  <thead>\n",
       "    <tr style=\"text-align: right;\">\n",
       "      <th></th>\n",
       "      <th>min_date</th>\n",
       "      <th>max_date</th>\n",
       "      <th>service</th>\n",
       "      <th>rid</th>\n",
       "      <th>sex</th>\n",
       "      <th>age</th>\n",
       "      <th>survivor_of_detention</th>\n",
       "      <th>primary_torture</th>\n",
       "      <th>sexual_violation_a</th>\n",
       "      <th>sexual_violation_p</th>\n",
       "    </tr>\n",
       "  </thead>\n",
       "  <tbody>\n",
       "    <tr>\n",
       "      <th>0</th>\n",
       "      <td>2025-01-10</td>\n",
       "      <td>2025-01-23</td>\n",
       "      <td>int</td>\n",
       "      <td>R1504</td>\n",
       "      <td>Female</td>\n",
       "      <td>59</td>\n",
       "      <td>Yes</td>\n",
       "      <td>Yes</td>\n",
       "      <td>No</td>\n",
       "      <td>Yes</td>\n",
       "    </tr>\n",
       "    <tr>\n",
       "      <th>1</th>\n",
       "      <td>2025-01-21</td>\n",
       "      <td>2025-01-21</td>\n",
       "      <td>ptint</td>\n",
       "      <td>R1260</td>\n",
       "      <td>Female</td>\n",
       "      <td>43</td>\n",
       "      <td>No</td>\n",
       "      <td>No</td>\n",
       "      <td>No</td>\n",
       "      <td>No</td>\n",
       "    </tr>\n",
       "    <tr>\n",
       "      <th>2</th>\n",
       "      <td>2025-01-09</td>\n",
       "      <td>2025-01-09</td>\n",
       "      <td>td</td>\n",
       "      <td>R1130</td>\n",
       "      <td>Male</td>\n",
       "      <td>36</td>\n",
       "      <td>Yes</td>\n",
       "      <td>Yes</td>\n",
       "      <td>No</td>\n",
       "      <td>Yes</td>\n",
       "    </tr>\n",
       "  </tbody>\n",
       "</table>\n",
       "</div>"
      ],
      "text/plain": [
       "    min_date   max_date service    rid     sex  age survivor_of_detention  \\\n",
       "0 2025-01-10 2025-01-23     int  R1504  Female   59                   Yes   \n",
       "1 2025-01-21 2025-01-21   ptint  R1260  Female   43                    No   \n",
       "2 2025-01-09 2025-01-09      td  R1130    Male   36                   Yes   \n",
       "\n",
       "  primary_torture sexual_violation_a sexual_violation_p  \n",
       "0             Yes                 No                Yes  \n",
       "1              No                 No                 No  \n",
       "2             Yes                 No                Yes  "
      ]
     },
     "execution_count": 20,
     "metadata": {},
     "output_type": "execute_result"
    }
   ],
   "source": [
    "sur_of_tur\n",
    "# int[int['rid'].duplicated(keep=False)]\n",
    "# int"
   ]
  },
  {
   "cell_type": "code",
   "execution_count": 21,
   "id": "32ba3840",
   "metadata": {},
   "outputs": [
    {
     "data": {
      "text/plain": [
       "True     2\n",
       "False    1\n",
       "Name: count, dtype: int64"
      ]
     },
     "execution_count": 21,
     "metadata": {},
     "output_type": "execute_result"
    }
   ],
   "source": [
    "# the count\n",
    "sur_of_tur[survivor_of_turture_columns[1:]].apply(\n",
    "    lambda row: \"Yes\" in row.values, axis=1\n",
    ").value_counts()"
   ]
  },
  {
   "cell_type": "code",
   "execution_count": null,
   "id": "a2100022",
   "metadata": {},
   "outputs": [],
   "source": [
    "sur_of_tur"
   ]
  },
  {
   "cell_type": "code",
   "execution_count": 22,
   "id": "7ad46c6b",
   "metadata": {},
   "outputs": [],
   "source": [
    "gbv_columns = [\"rid\", \"stgbv\"]\n",
    "sur_gbv = pd.merge(\n",
    "    new_served_25, int[gbv_columns], on=\"rid\", how=\"left\"\n",
    ")  # merage with stgbv"
   ]
  },
  {
   "cell_type": "code",
   "execution_count": 23,
   "id": "27ccff01",
   "metadata": {},
   "outputs": [
    {
     "data": {
      "text/plain": [
       "True     2\n",
       "False    1\n",
       "Name: count, dtype: int64"
      ]
     },
     "execution_count": 23,
     "metadata": {},
     "output_type": "execute_result"
    }
   ],
   "source": [
    "sur_gbv[gbv_columns[1:]].apply(lambda row: \"Yes\" in row.values, axis=1).value_counts()"
   ]
  }
 ],
 "metadata": {
  "kernelspec": {
   "display_name": "venv",
   "language": "python",
   "name": "python3"
  },
  "language_info": {
   "codemirror_mode": {
    "name": "ipython",
    "version": 3
   },
   "file_extension": ".py",
   "mimetype": "text/x-python",
   "name": "python",
   "nbconvert_exporter": "python",
   "pygments_lexer": "ipython3",
   "version": "3.12.3"
  }
 },
 "nbformat": 4,
 "nbformat_minor": 5
}
