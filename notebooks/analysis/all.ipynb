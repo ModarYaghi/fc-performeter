{
 "cells": [
  {
   "cell_type": "code",
   "execution_count": null,
   "id": "initial_id",
   "metadata": {
    "collapsed": true
   },
   "outputs": [],
   "source": [
    "import pandas as pd\n",
    "from src.all_in_one import *\n",
    "from src.analysis_functions import *"
   ]
  },
  {
   "cell_type": "code",
   "outputs": [],
   "source": [
    "scr = get_df(scr_path, scr_sheet)\n",
    "scr = scr.drop_duplicates(subset='rid')"
   ],
   "metadata": {
    "collapsed": false
   },
   "id": "48da10baa38e26ef",
   "execution_count": null
  },
  {
   "cell_type": "code",
   "outputs": [],
   "source": [
    "intake_dataset = Dataset(config_file, int_sheet)\n",
    "intake = get_df(int_path, int_sheet, b=True)\n",
    "intake.insert(0, 'min_year', (intake[intake_dataset.dvars].min(axis=1)).dt.year)\n",
    "intake.insert(1, 'max_year', (intake[intake_dataset.dvars].max(axis=1)).dt.year)\n",
    "intake.insert(2, 'service', 'int')\n",
    "intake = intake[['min_year', 'max_year', 'service', 'rid']]"
   ],
   "metadata": {
    "collapsed": false
   },
   "id": "6cc9b03e64627bc9",
   "execution_count": null
  },
  {
   "cell_type": "code",
   "outputs": [],
   "source": [],
   "metadata": {
    "collapsed": false
   },
   "id": "d618e21aa02cdd6f",
   "execution_count": null
  },
  {
   "cell_type": "code",
   "outputs": [],
   "source": [
    "date_vars = ['gc_s1', 'gc_s2', 'gc_s3', 'gc_s4', 'gc_s5', 'gc_s6', 'gc_s7', 'gc_s8', 'gc_s9', 'gc_10']\n",
    "gc_dataset = Dataset(config_file, gc_sheet)\n",
    "gc = get_df(gc_path, gc_sheet, b=True)\n",
    "gc.insert(0, 'min_year', (gc[date_vars].min(axis=1)).dt.year)\n",
    "gc.insert(1, 'max_year', (gc[date_vars].max(axis=1)).dt.year)\n",
    "gc.insert(2, 'service', 'gc')\n",
    "gc = gc[['min_year', 'max_year', 'service', 'rid']]"
   ],
   "metadata": {
    "collapsed": false
   },
   "id": "51a91e7e20b128da",
   "execution_count": null
  },
  {
   "cell_type": "code",
   "outputs": [],
   "source": [],
   "metadata": {
    "collapsed": false
   },
   "id": "b7240041954fd441",
   "execution_count": null
  },
  {
   "cell_type": "code",
   "outputs": [],
   "source": [
    "ic_dataset = Dataset(config_file, ic_sheet)\n",
    "ic = get_df(ic_path, ic_sheet, b=True)\n",
    "ic.insert(0, 'min_year', (ic[ic_dataset.dvars].min(axis=1)).dt.year)\n",
    "ic.insert(1, 'max_year', (ic[ic_dataset.dvars].max(axis=1)).dt.year)\n",
    "ic.insert(2, 'service', 'ic')\n",
    "ic = ic[['min_year', 'max_year', 'service', 'rid']]"
   ],
   "metadata": {
    "collapsed": false
   },
   "id": "2f059c51ab384855",
   "execution_count": null
  },
  {
   "cell_type": "code",
   "outputs": [],
   "source": [],
   "metadata": {
    "collapsed": false
   },
   "id": "35825e500c7201e8",
   "execution_count": null
  },
  {
   "cell_type": "code",
   "outputs": [],
   "source": [
    "psfua_dataset = Dataset(config_file, psfua_sheet)\n",
    "psfua = get_df(psfua_path, psfua_sheet, b=True)\n",
    "psfua.insert(0, 'min_year', (psfua[psfua_dataset.dvars].min(axis=1)).dt.year)\n",
    "psfua.insert(1, 'max_year', (psfua[psfua_dataset.dvars].max(axis=1)).dt.year)\n",
    "psfua.insert(2, 'service', 'psfua')\n",
    "psfua = psfua[['min_year', 'max_year', 'service', 'rid']]"
   ],
   "metadata": {
    "collapsed": false
   },
   "id": "52130ed7a9cc182b",
   "execution_count": null
  },
  {
   "cell_type": "code",
   "outputs": [],
   "source": [],
   "metadata": {
    "collapsed": false
   },
   "id": "909a79ad0f7539e9",
   "execution_count": null
  },
  {
   "cell_type": "code",
   "outputs": [],
   "source": [
    "trw_dataset = Dataset(config_file, trw_sheet)\n",
    "trw = get_df(trw_path, trw_sheet, b=True)\n",
    "trw.insert(0, 'min_year', (trw[trw_dataset.dvars].min(axis=1)).dt.year)\n",
    "trw.insert(1, 'max_year', (trw[trw_dataset.dvars].max(axis=1)).dt.year)\n",
    "trw.insert(2, 'service', 'trw')\n",
    "trw = trw[['min_year', 'max_year', 'service', 'rid']]"
   ],
   "metadata": {
    "collapsed": false
   },
   "id": "c13a4d9c282a1b1d",
   "execution_count": null
  },
  {
   "cell_type": "code",
   "outputs": [],
   "source": [],
   "metadata": {
    "collapsed": false
   },
   "id": "7790171de6507757",
   "execution_count": null
  },
  {
   "cell_type": "code",
   "outputs": [],
   "source": [
    "pei_dataset = Dataset(config_file, pei_sheet)\n",
    "pei = get_df(pei_path, pei_sheet, b=True)\n",
    "pei.insert(0, 'min_year', (pei[pei_dataset.dvars].min(axis=1)).dt.year)\n",
    "pei.insert(1, 'max_year', (pei[pei_dataset.dvars].max(axis=1)).dt.year)\n",
    "pei.insert(2, 'service', 'pei')\n",
    "pei = pei[['min_year', 'max_year', 'service', 'rid']]"
   ],
   "metadata": {
    "collapsed": false
   },
   "id": "cfab508443787385",
   "execution_count": null
  },
  {
   "cell_type": "code",
   "outputs": [],
   "source": [],
   "metadata": {
    "collapsed": false
   },
   "id": "6ed74315083c72ac",
   "execution_count": null
  },
  {
   "cell_type": "code",
   "outputs": [],
   "source": [
    "td_dataset = Dataset(config_file, td_sheet)\n",
    "td = get_df(td_path, td_sheet, b=True)\n",
    "td.insert(0, 'min_year', (td[td_dataset.dvars].min(axis=1)).dt.year)\n",
    "td.insert(1, 'max_year', (td[td_dataset.dvars].max(axis=1)).dt.year)\n",
    "td.insert(2, 'service', 'td')\n",
    "td = td[['min_year', 'max_year', 'service', 'rid']]"
   ],
   "metadata": {
    "collapsed": false
   },
   "id": "93da2b7a60d1db0",
   "execution_count": null
  },
  {
   "cell_type": "code",
   "outputs": [],
   "source": [],
   "metadata": {
    "collapsed": false
   },
   "id": "6530ca84baa1e931",
   "execution_count": null
  },
  {
   "cell_type": "code",
   "outputs": [],
   "source": [
    "psfs_dataset = Dataset(config_file, psfs_sheet)\n",
    "psfs = get_df(psfs_path, psfs_sheet, b=True)\n",
    "psfs.insert(0, 'min_year', (psfs[psfs_dataset.dvars].min(axis=1)).dt.year)\n",
    "psfs.insert(1, 'max_year', (psfs[psfs_dataset.dvars].max(axis=1)).dt.year)\n",
    "psfs.insert(2, 'service', 'psfs')\n",
    "psfs = psfs[['min_year', 'max_year', 'service', 'rid']]"
   ],
   "metadata": {
    "collapsed": false
   },
   "id": "be04a1e0416936c3",
   "execution_count": null
  },
  {
   "cell_type": "code",
   "outputs": [],
   "source": [],
   "metadata": {
    "collapsed": false
   },
   "id": "ae5a893c888b96cc",
   "execution_count": null
  },
  {
   "cell_type": "code",
   "outputs": [],
   "source": [
    "ptint_dataset = Dataset(config_file, ptint_sheet)\n",
    "ptint = get_df(ptint_path, ptint_sheet, b=True)\n",
    "ptint.insert(0, 'min_year', (ptint[ptint_dataset.dvars].min(axis=1)).dt.year)\n",
    "ptint.insert(1, 'max_year', (ptint[ptint_dataset.dvars].max(axis=1)).dt.year)\n",
    "ptint.insert(2, 'service', 'ptint')\n",
    "ptint = ptint[['min_year', 'max_year', 'service', 'rid']]"
   ],
   "metadata": {
    "collapsed": false
   },
   "id": "a4c5c88d012c57a8",
   "execution_count": null
  },
  {
   "cell_type": "code",
   "outputs": [],
   "source": [],
   "metadata": {
    "collapsed": false
   },
   "id": "e007dc51fac2fc4d",
   "execution_count": null
  },
  {
   "cell_type": "code",
   "outputs": [],
   "source": [
    "gpt_dataset = Dataset(config_file, gpt_sheet)\n",
    "gpt = get_df(gpt_path, gpt_sheet, b=True)\n",
    "gpt.insert(0, 'min_year', (gpt[gpt_dataset.dvars].min(axis=1)).dt.year)\n",
    "gpt.insert(1, 'max_year', (gpt[gpt_dataset.dvars].max(axis=1)).dt.year)\n",
    "gpt.insert(2, 'service', 'gpt')\n",
    "gpt = gpt[['min_year', 'max_year', 'service', 'rid']]"
   ],
   "metadata": {
    "collapsed": false
   },
   "id": "8f4cbe06c0cc04c6",
   "execution_count": null
  },
  {
   "cell_type": "code",
   "outputs": [],
   "source": [],
   "metadata": {
    "collapsed": false
   },
   "id": "b57e3d62b7598f4e",
   "execution_count": null
  },
  {
   "cell_type": "code",
   "outputs": [],
   "source": [
    "ipt_dataset = Dataset(config_file, ipt_sheet)\n",
    "ipt = get_df(ipt_path, ipt_sheet, b=True)\n",
    "ipt.insert(0, 'min_year', (ipt[ipt_dataset.dvars].min(axis=1)).dt.year)\n",
    "ipt.insert(1, 'max_year', (ipt[ipt_dataset.dvars].max(axis=1)).dt.year)\n",
    "ipt.insert(2, 'service', 'ipt')\n",
    "ipt = ipt[['min_year', 'max_year', 'service', 'rid']]"
   ],
   "metadata": {
    "collapsed": false
   },
   "id": "5e2878a821f478a8",
   "execution_count": null
  },
  {
   "cell_type": "code",
   "outputs": [],
   "source": [],
   "metadata": {
    "collapsed": false
   },
   "id": "1bff4360ed3c8644",
   "execution_count": null
  },
  {
   "cell_type": "code",
   "outputs": [],
   "source": [
    "ptfua_dataset = Dataset(config_file, ptfua_sheet)\n",
    "ptfua = get_df(ptfua_path, ptfua_sheet, b=True)\n",
    "ptfua.insert(0, 'min_year', (ptfua[ptfua_dataset.dvars].min(axis=1)).dt.year)\n",
    "ptfua.insert(1, 'max_year', (ptfua[ptfua_dataset.dvars].max(axis=1)).dt.year)\n",
    "ptfua.insert(2, 'service', 'ptfua')\n",
    "ptfua = ptfua[['min_year', 'max_year', 'service', 'rid']]"
   ],
   "metadata": {
    "collapsed": false
   },
   "id": "1a91bd114b2459cb",
   "execution_count": null
  },
  {
   "cell_type": "code",
   "outputs": [],
   "source": [
    "dataframes = [intake, gc, ic, psfua, trw, pei, td, psfs, ptint, gpt, ipt, ptfua]\n",
    "mhpss = pd.concat(dataframes, ignore_index=True)\n",
    "mhpss[['min_year', 'max_year']] = mhpss[['min_year', 'max_year']].astype('Int64')"
   ],
   "metadata": {
    "collapsed": false
   },
   "id": "fbd210d029e8f06e",
   "execution_count": null
  },
  {
   "cell_type": "code",
   "outputs": [],
   "source": [
    "mhpss"
   ],
   "metadata": {
    "collapsed": false
   },
   "id": "2f121e90dbb57cb9",
   "execution_count": null
  },
  {
   "cell_type": "code",
   "outputs": [],
   "source": [
    "mhpss = pd.merge(mhpss, scr[['rid', 'sex', 'age']], on='rid', how='left')"
   ],
   "metadata": {
    "collapsed": false
   },
   "id": "4fa30c46367d1b32",
   "execution_count": null
  },
  {
   "cell_type": "code",
   "outputs": [],
   "source": [
    "mhpss"
   ],
   "metadata": {
    "collapsed": false
   },
   "id": "54f0df6cd038b3f2",
   "execution_count": null
  },
  {
   "cell_type": "code",
   "outputs": [],
   "source": [
    "fmhpss = mhpss.dropna(subset=['min_year', 'max_year'], how='all')"
   ],
   "metadata": {
    "collapsed": false
   },
   "id": "49fe7336feaae1cf",
   "execution_count": null
  },
  {
   "cell_type": "code",
   "outputs": [],
   "source": [
    "fmhpss"
   ],
   "metadata": {
    "collapsed": false
   },
   "id": "33907d2bd7ea48d1",
   "execution_count": null
  },
  {
   "cell_type": "code",
   "outputs": [],
   "source": [
    "beneficiaries_2023 = fmhpss[\n",
    "    (\n",
    "        fmhpss['min_year'] == 2023\n",
    "    )\n",
    "    |\n",
    "    (\n",
    "        fmhpss['max_year'] == 2023\n",
    "    )\n",
    "]"
   ],
   "metadata": {
    "collapsed": false
   },
   "id": "748288397e7c312",
   "execution_count": null
  },
  {
   "cell_type": "code",
   "outputs": [],
   "source": [
    "beneficiaries_2023"
   ],
   "metadata": {
    "collapsed": false
   },
   "id": "9a326fd4a494fff6",
   "execution_count": null
  },
  {
   "cell_type": "code",
   "outputs": [],
   "source": [
    "total_beneficiaries_2023 = beneficiaries_2023['rid'].nunique()\n",
    "total_beneficiaries_2023"
   ],
   "metadata": {
    "collapsed": false
   },
   "id": "79f57086f8e8c6ec",
   "execution_count": null
  },
  {
   "cell_type": "code",
   "outputs": [],
   "source": [
    "unique_beneficiaries_2023 = beneficiaries_2023.drop_duplicates(subset='rid')\n",
    "unique_beneficiaries_2023"
   ],
   "metadata": {
    "collapsed": false
   },
   "id": "408833adc267cbcc",
   "execution_count": null
  },
  {
   "cell_type": "code",
   "outputs": [],
   "source": [
    "# R1070: Female\n",
    "# R0059: Female\n",
    "# R0407: Female\n",
    "# R0479: Female"
   ],
   "metadata": {
    "collapsed": false
   },
   "id": "67dcf01eabc90ae3"
  },
  {
   "cell_type": "code",
   "outputs": [],
   "source": [
    "unique_beneficiaries_2023['sex'].value_counts(dropna=False)"
   ],
   "metadata": {
    "collapsed": false
   },
   "id": "62fd8071273c923f",
   "execution_count": null
  },
  {
   "cell_type": "code",
   "outputs": [],
   "source": [
    "com_intake = pd.merge(intake, scr[['rid', 'sex', 'age']], on='rid', how='left')\n",
    "com_intake"
   ],
   "metadata": {
    "collapsed": false
   },
   "id": "c2ab5008b1440965",
   "execution_count": null
  },
  {
   "cell_type": "code",
   "outputs": [],
   "source": [
    "new_beneficiaries_2023 = com_intake[com_intake['min_year'] == 2023]\n",
    "new_beneficiaries_2023"
   ],
   "metadata": {
    "collapsed": false
   },
   "id": "a0bd928039811fbe",
   "execution_count": null
  },
  {
   "cell_type": "code",
   "outputs": [],
   "source": [
    "new_beneficiaries_2023['rid'].nunique()"
   ],
   "metadata": {
    "collapsed": false
   },
   "id": "35b627118b86983c",
   "execution_count": null
  },
  {
   "cell_type": "code",
   "outputs": [],
   "source": [
    "new_beneficiaries_2023['age'].value_counts(dropna=False)"
   ],
   "metadata": {
    "collapsed": false
   },
   "id": "8e02695322f05793",
   "execution_count": null
  }
 ],
 "metadata": {
  "kernelspec": {
   "display_name": "Python 3",
   "language": "python",
   "name": "python3"
  },
  "language_info": {
   "codemirror_mode": {
    "name": "ipython",
    "version": 2
   },
   "file_extension": ".py",
   "mimetype": "text/x-python",
   "name": "python",
   "nbconvert_exporter": "python",
   "pygments_lexer": "ipython2",
   "version": "2.7.6"
  }
 },
 "nbformat": 4,
 "nbformat_minor": 5
}
