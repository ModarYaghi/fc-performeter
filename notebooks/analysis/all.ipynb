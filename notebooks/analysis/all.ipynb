{
 "cells": [
  {
   "cell_type": "code",
   "execution_count": null,
   "id": "initial_id",
   "metadata": {
    "collapsed": true
   },
   "outputs": [],
   "source": [
    "import pandas as pd\n",
    "from src.all_in_one import *\n",
    "from src.analysis_functions import *"
   ]
  },
  {
   "cell_type": "code",
   "outputs": [],
   "source": [
    "path = os.path.join(processed_data, 'int_1223.csv')\n",
    "intake_sheet = 'Int'\n",
    "intake_dataset = Dataset(config_file, intake_sheet)\n",
    "intake = pd.read_csv(path)\n",
    "intake = dtype_trans(intake, intake_dataset)"
   ],
   "metadata": {
    "collapsed": false
   },
   "id": "6cc9b03e64627bc9",
   "execution_count": null
  },
  {
   "cell_type": "code",
   "outputs": [],
   "source": [
    "bintake = intake[intake_dataset.bvars]\n",
    "bintake = bintake.drop(['firstname', 'lastname'], axis=1, inplace=False)"
   ],
   "metadata": {
    "collapsed": false
   },
   "id": "296e3df427e16bbe",
   "execution_count": null
  },
  {
   "cell_type": "code",
   "outputs": [],
   "source": [
    "bintake.insert(0, 'year', (bintake[intake_dataset.dvars].max(axis=1)).dt.year)"
   ],
   "metadata": {
    "collapsed": false
   },
   "id": "d07504d307bf3b18",
   "execution_count": null
  },
  {
   "cell_type": "code",
   "outputs": [],
   "source": [
    "bintake.sort_values(by=['rid', 'nt_s1'], inplace=True)"
   ],
   "metadata": {
    "collapsed": false
   },
   "id": "b7240041954fd441",
   "execution_count": null
  },
  {
   "cell_type": "code",
   "outputs": [],
   "source": [
    "bintake.insert(1, 'dup', bintake.groupby('rid').cumcount() + 1)"
   ],
   "metadata": {
    "collapsed": false
   },
   "id": "2f059c51ab384855",
   "execution_count": null
  },
  {
   "cell_type": "code",
   "outputs": [],
   "source": [
    "bintake"
   ],
   "metadata": {
    "collapsed": false
   },
   "id": "35825e500c7201e8",
   "execution_count": null
  }
 ],
 "metadata": {
  "kernelspec": {
   "display_name": "Python 3",
   "language": "python",
   "name": "python3"
  },
  "language_info": {
   "codemirror_mode": {
    "name": "ipython",
    "version": 2
   },
   "file_extension": ".py",
   "mimetype": "text/x-python",
   "name": "python",
   "nbconvert_exporter": "python",
   "pygments_lexer": "ipython2",
   "version": "2.7.6"
  }
 },
 "nbformat": 4,
 "nbformat_minor": 5
}
