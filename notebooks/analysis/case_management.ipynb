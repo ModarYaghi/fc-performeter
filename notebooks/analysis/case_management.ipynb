{
 "cells": [
  {
   "cell_type": "code",
   "execution_count": 16,
   "id": "initial_id",
   "metadata": {
    "collapsed": true
   },
   "outputs": [],
   "source": [
    "from src.all_in_one import *\n",
    "from src.basic_variables import *"
   ]
  },
  {
   "cell_type": "code",
   "execution_count": 17,
   "id": "7b8c93ed03fdd075",
   "metadata": {
    "collapsed": false
   },
   "outputs": [],
   "source": [
    "case_management_sheets = pd.read_excel(\n",
    "    r\"C:\\Users\\myagh\\fc-performeter\\data\\raw\\1224\\other_services\\TS_FC_meetingOutreachReferralFollowUpAdvocacy.xlsx\",\n",
    "    sheet_name=None,\n",
    ")\n"
   ]
  },
  {
   "cell_type": "code",
   "execution_count": 18,
   "id": "e913c96462f6019e",
   "metadata": {
    "collapsed": false
   },
   "outputs": [
    {
     "data": {
      "text/plain": [
       "dict_keys(['IngoingOutgoingInternalReferral', 'Follow-up', 'Advocacy', 'Meetings', 'outreachAndAwareness', 'GZT_Service_Map', 'Drop-down', 'Glossary'])"
      ]
     },
     "execution_count": 18,
     "metadata": {},
     "output_type": "execute_result"
    }
   ],
   "source": [
    "case_management_sheets.keys()"
   ]
  },
  {
   "cell_type": "code",
   "execution_count": 19,
   "id": "ff0b7185cacb95f5",
   "metadata": {
    "collapsed": false
   },
   "outputs": [],
   "source": [
    "ref = case_management_sheets[\"IngoingOutgoingInternalReferral\"]\n",
    "ref = ref.copy().dropna(how=\"all\", subset=ref.columns[1:])\n",
    "\n",
    "# ref.columns\n",
    "ref[[\"FC_ID\", \"Age\"]] = ref[[\"FC_ID\", \"Age\"]].astype(\"Int64\")\n",
    "ref[[\"referralDate\", \"socialAssessmentDate\"]] = ref[\n",
    "    [\"referralDate\", \"socialAssessmentDate\"]\n",
    "].apply(pd.to_datetime)\n",
    "\n",
    "ref = filter_dataframe_on_date(ref, \"referralDate\", START, END, FilterType.IN)\n",
    "outgoing_ref = ref[ref[\"OutgoingInternalIngoing\"] == \"outgoing\"]"
   ]
  },
  {
   "cell_type": "code",
   "execution_count": 13,
   "id": "2666fb4d",
   "metadata": {},
   "outputs": [],
   "source": [
    "# ref.columns"
   ]
  },
  {
   "cell_type": "code",
   "execution_count": 21,
   "id": "497d4d3a",
   "metadata": {},
   "outputs": [],
   "source": [
    "outgoing_ref.to_clipboard(index=False)"
   ]
  },
  {
   "cell_type": "markdown",
   "id": "39438426f5496cd5",
   "metadata": {
    "collapsed": false
   },
   "source": [
    "# Analysis for UNVFVT Beneficiaries.\n",
    "### How many UNVFVT beneficiaries had a referral service? How many of them received the service of referral?"
   ]
  },
  {
   "cell_type": "code",
   "execution_count": null,
   "id": "36e2a4e41a36521",
   "metadata": {
    "collapsed": false
   },
   "outputs": [],
   "source": [
    "out_ref = ref[ref[\"OutgoingInternalIngoing\"] == \"outgoing\"]"
   ]
  },
  {
   "cell_type": "code",
   "execution_count": null,
   "id": "e6e6cebadf471f75",
   "metadata": {
    "collapsed": false
   },
   "outputs": [],
   "source": [
    "out_ref_a = filter_df_by_date(\n",
    "    out_ref, [\"referralDate\"], threshold=\"2022-12-31\", comparison_type=\"a\"\n",
    ")\n",
    "out_ref_ab = filter_df_by_date(\n",
    "    out_ref_a, [\"referralDate\"], threshold=\"2024-01-01\", comparison_type=\"b\"\n",
    ")"
   ]
  },
  {
   "cell_type": "code",
   "execution_count": null,
   "id": "ee12451dfffdc79a",
   "metadata": {
    "collapsed": false
   },
   "outputs": [],
   "source": [
    "out_ref_ab"
   ]
  },
  {
   "cell_type": "code",
   "execution_count": null,
   "id": "38984df32bf4ee7d",
   "metadata": {
    "collapsed": false
   },
   "outputs": [],
   "source": [
    "outref23 = out_ref_ab[[\"referral_ID\", \"gender\"]]\n",
    "outref23 = outref23.rename(columns={\"referral_ID\": \"rid\", \"gender\": \"gen\"})\n",
    "outref23 = outref23.drop_duplicates(subset=\"rid\")\n",
    "outref23"
   ]
  },
  {
   "cell_type": "code",
   "execution_count": null,
   "id": "bd8ee730199815a8",
   "metadata": {
    "collapsed": false
   },
   "outputs": [],
   "source": [
    "outref23.insert(loc=1, column=\"outref\", value=\"Yes\")\n",
    "outref23"
   ]
  },
  {
   "cell_type": "code",
   "execution_count": null,
   "id": "7105c282180c12fb",
   "metadata": {
    "collapsed": false
   },
   "outputs": [],
   "source": [
    "cm_fu = case_management_sheets[\"Follow-up\"]\n",
    "cm_fu = cm_fu.copy().dropna(how=\"all\", subset=cm_fu.columns[1:])\n",
    "cm_fu[[\"FC_ID\", \"age\"]] = cm_fu[[\"FC_ID\", \"age\"]].astype(\"Int64\")\n",
    "cm_fu = cm_fu[[\"referral_ID\", \"reasonOfClose\"]]\n",
    "cm_fu = cm_fu[cm_fu[\"reasonOfClose\"] == \"Assistance received\"]\n",
    "cm_fu = cm_fu.rename(\n",
    "    columns={\"referral_ID\": \"rid\", \"reasonOfClose\": \"ref_assist_received\"}\n",
    ")\n",
    "cm_fu = cm_fu.drop_duplicates(subset=\"rid\")\n",
    "cm_fu"
   ]
  },
  {
   "cell_type": "code",
   "execution_count": null,
   "id": "ec2f8552d79a35ea",
   "metadata": {
    "collapsed": false
   },
   "outputs": [],
   "source": [
    "out_ref_assist_received = pd.merge(outref23, cm_fu, on=\"rid\", how=\"left\")\n",
    "out_ref_assist_received"
   ]
  },
  {
   "cell_type": "code",
   "execution_count": null,
   "id": "d800a81d6937579a",
   "metadata": {
    "collapsed": false
   },
   "outputs": [],
   "source": [
    "gbepu = pd.read_csv(\n",
    "    r\"C:\\Users\\myagh\\fc-performeter\\data\\processed\\unvfvt23\\grandBeneficiariesEncodedPivotedUniqueDataset23.csv\"\n",
    ")"
   ]
  },
  {
   "cell_type": "code",
   "execution_count": null,
   "id": "a49b8f895d2bdf65",
   "metadata": {
    "collapsed": false
   },
   "outputs": [],
   "source": [
    "gbepu = gbepu[\n",
    "    (gbepu[\"primary_torture\"] == \"Yes\") | (gbepu[\"secondary_torture\"] == \"Yes\")\n",
    "]\n",
    "gbepu = gbepu[[\"rid\", \"sex\"]]\n",
    "gbepu"
   ]
  },
  {
   "cell_type": "code",
   "execution_count": null,
   "id": "abed4b70e4db6239",
   "metadata": {
    "collapsed": false
   },
   "outputs": [],
   "source": [
    "gbepu_ref_assist_received = pd.merge(\n",
    "    gbepu, out_ref_assist_received, on=\"rid\", how=\"left\"\n",
    ")\n",
    "gbepu_ref_assist_received"
   ]
  }
 ],
 "metadata": {
  "kernelspec": {
   "display_name": ".venv",
   "language": "python",
   "name": "python3"
  },
  "language_info": {
   "codemirror_mode": {
    "name": "ipython",
    "version": 3
   },
   "file_extension": ".py",
   "mimetype": "text/x-python",
   "name": "python",
   "nbconvert_exporter": "python",
   "pygments_lexer": "ipython3",
   "version": "3.12.2"
  }
 },
 "nbformat": 4,
 "nbformat_minor": 5
}
