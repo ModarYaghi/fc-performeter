{
 "cells": [
  {
   "cell_type": "code",
   "execution_count": null,
   "id": "initial_id",
   "metadata": {
    "collapsed": true
   },
   "outputs": [],
   "source": [
    "from src.all_in_one import *"
   ]
  },
  {
   "cell_type": "code",
   "outputs": [],
   "source": [
    "case_management_sheets = pd.read_excel(r\"C:\\Users\\myagh\\fc-performeter\\data\\raw\\0124\\cm\\TS_FC_meetingOutreachReferralFollowUpAdvocacy.xlsx\", sheet_name=None)\n"
   ],
   "metadata": {
    "collapsed": false
   },
   "id": "7b8c93ed03fdd075",
   "execution_count": null
  },
  {
   "cell_type": "code",
   "outputs": [],
   "source": [
    "case_management_sheets.keys()"
   ],
   "metadata": {
    "collapsed": false
   },
   "id": "e913c96462f6019e",
   "execution_count": null
  },
  {
   "cell_type": "code",
   "outputs": [],
   "source": [
    "ref = case_management_sheets['IngoingOutgoingInternalReferral']\n",
    "ref = ref.copy().dropna(how='all', subset=ref.columns[1:])\n",
    "ref[['FC_ID', 'age']] = ref[['FC_ID', 'age']].astype('Int64')\n",
    "ref[['referralDate', 'socialAssessmentDate']] = ref[['referralDate', 'socialAssessmentDate']].apply(pd.to_datetime)"
   ],
   "metadata": {
    "collapsed": false
   },
   "id": "ff0b7185cacb95f5",
   "execution_count": null
  },
  {
   "cell_type": "markdown",
   "source": [
    "# Analysis for UNVFVT Beneficiaries.\n",
    "### How many UNVFVT beneficiaries had a referral service? How many of them received the service of referral?"
   ],
   "metadata": {
    "collapsed": false
   },
   "id": "39438426f5496cd5"
  },
  {
   "cell_type": "code",
   "outputs": [],
   "source": [
    "out_ref = ref[ref['OutgoingInternalIngoing'] == 'outgoing']"
   ],
   "metadata": {
    "collapsed": false
   },
   "id": "36e2a4e41a36521",
   "execution_count": null
  },
  {
   "cell_type": "code",
   "outputs": [],
   "source": [
    "out_ref_a = filter_df_by_date(out_ref, ['referralDate'], threshold='2022-12-31', comparison_type='a')\n",
    "out_ref_ab = filter_df_by_date(out_ref_a, ['referralDate'], threshold='2024-01-01', comparison_type='b')"
   ],
   "metadata": {
    "collapsed": false
   },
   "id": "e6e6cebadf471f75",
   "execution_count": null
  },
  {
   "cell_type": "code",
   "outputs": [],
   "source": [
    "out_ref_ab"
   ],
   "metadata": {
    "collapsed": false
   },
   "id": "ee12451dfffdc79a",
   "execution_count": null
  },
  {
   "cell_type": "code",
   "outputs": [],
   "source": [
    "outref23 = out_ref_ab[['referral_ID', 'gender']]\n",
    "outref23 = outref23.rename(columns={'referral_ID': 'rid', 'gender': 'gen'})\n",
    "outref23 = outref23.drop_duplicates(subset='rid')\n",
    "outref23"
   ],
   "metadata": {
    "collapsed": false
   },
   "id": "38984df32bf4ee7d",
   "execution_count": null
  },
  {
   "cell_type": "code",
   "outputs": [],
   "source": [
    "outref23.insert(loc=1, column='outref', value='Yes')\n",
    "outref23"
   ],
   "metadata": {
    "collapsed": false
   },
   "id": "bd8ee730199815a8",
   "execution_count": null
  },
  {
   "cell_type": "code",
   "outputs": [],
   "source": [
    "cm_fu = case_management_sheets['Follow-up']\n",
    "cm_fu = cm_fu.copy().dropna(how='all', subset=cm_fu.columns[1:])\n",
    "cm_fu[['FC_ID', 'age']] = cm_fu[['FC_ID', 'age']].astype('Int64')\n",
    "cm_fu = cm_fu[['referral_ID', 'reasonOfClose']]\n",
    "cm_fu = cm_fu[cm_fu['reasonOfClose'] == 'Assistance received']\n",
    "cm_fu = cm_fu.rename(columns={'referral_ID': 'rid', 'reasonOfClose': 'ref_assist_received'})\n",
    "cm_fu = cm_fu.drop_duplicates(subset='rid')\n",
    "cm_fu"
   ],
   "metadata": {
    "collapsed": false
   },
   "id": "7105c282180c12fb",
   "execution_count": null
  },
  {
   "cell_type": "code",
   "outputs": [],
   "source": [
    "out_ref_assist_received = pd.merge(outref23, cm_fu, on='rid', how='left')\n",
    "out_ref_assist_received"
   ],
   "metadata": {
    "collapsed": false
   },
   "id": "ec2f8552d79a35ea",
   "execution_count": null
  },
  {
   "cell_type": "code",
   "outputs": [],
   "source": [
    "gbepu = pd.read_csv(r'C:\\Users\\myagh\\fc-performeter\\data\\processed\\unvfvt23\\grandBeneficiariesEncodedPivotedUniqueDataset23.csv')"
   ],
   "metadata": {
    "collapsed": false
   },
   "id": "d800a81d6937579a",
   "execution_count": null
  },
  {
   "cell_type": "code",
   "outputs": [],
   "source": [
    "gbepu = gbepu[(gbepu['primary_torture'] == 'Yes') | (gbepu['secondary_torture'] == 'Yes')]\n",
    "gbepu = gbepu[['rid', 'sex']]\n",
    "gbepu"
   ],
   "metadata": {
    "collapsed": false
   },
   "id": "a49b8f895d2bdf65",
   "execution_count": null
  },
  {
   "cell_type": "code",
   "outputs": [],
   "source": [
    "gbepu_ref_assist_received = pd.merge(gbepu, out_ref_assist_received, on='rid', how='left')\n",
    "gbepu_ref_assist_received"
   ],
   "metadata": {
    "collapsed": false
   },
   "id": "abed4b70e4db6239",
   "execution_count": null
  }
 ],
 "metadata": {
  "kernelspec": {
   "display_name": "Python 3",
   "language": "python",
   "name": "python3"
  },
  "language_info": {
   "codemirror_mode": {
    "name": "ipython",
    "version": 2
   },
   "file_extension": ".py",
   "mimetype": "text/x-python",
   "name": "python",
   "nbconvert_exporter": "python",
   "pygments_lexer": "ipython2",
   "version": "2.7.6"
  }
 },
 "nbformat": 4,
 "nbformat_minor": 5
}
