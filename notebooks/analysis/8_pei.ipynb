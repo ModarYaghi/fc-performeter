{
 "cells": [
  {
   "cell_type": "code",
   "id": "initial_id",
   "metadata": {
    "collapsed": true
   },
   "source": [
    "from src.all_in_one import *"
   ],
   "outputs": [],
   "execution_count": null
  },
  {
   "cell_type": "code",
   "source": [
    "# Screening\n",
    "scr = get_df(scr_path, scr_sheet)\n",
    "unique_scr = scr.drop_duplicates(subset='rid')"
   ],
   "metadata": {
    "collapsed": false
   },
   "id": "c35339b2b68a075c",
   "outputs": [],
   "execution_count": null
  },
  {
   "metadata": {},
   "cell_type": "code",
   "source": "scr",
   "id": "50fa2ab83d94ff7e",
   "outputs": [],
   "execution_count": null
  },
  {
   "cell_type": "code",
   "source": [
    "pei_dataset = Dataset(config_file, pei_sheet)\n",
    "pei = get_df(pei_path, pei_sheet)\n",
    "pei = pd.merge(pei, unique_scr[['rid', 'sex', 'age']], on='rid', how='left')\n",
    "filtered_pei = filter_dataframe_on_date(pei, pei_dataset.dvars, start, end, FilterType.IN)"
   ],
   "metadata": {
    "collapsed": false
   },
   "id": "ec3eec40eeb22ec0",
   "outputs": [],
   "execution_count": null
  },
  {
   "cell_type": "code",
   "source": "pei",
   "metadata": {
    "collapsed": false
   },
   "id": "893d2d9f6ed55c3",
   "outputs": [],
   "execution_count": null
  },
  {
   "cell_type": "code",
   "source": "filtered_pei",
   "metadata": {
    "collapsed": false
   },
   "id": "cc20d0ab1e249736",
   "outputs": [],
   "execution_count": null
  },
  {
   "metadata": {},
   "cell_type": "code",
   "source": "filtered_pei.to_clipboard(index=False)",
   "id": "78eae9f0400b4f1e",
   "outputs": [],
   "execution_count": null
  },
  {
   "cell_type": "code",
   "source": [
    "# _pei[['pei_loc', 'pei_s1', 'pei_s3']].value_counts(dropna=False)"
   ],
   "metadata": {
    "collapsed": false
   },
   "id": "5ca0f5d93a6ec758",
   "outputs": [],
   "execution_count": null
  },
  {
   "cell_type": "code",
   "source": [
    "# (pei_q4[['pei_s1', 'sex']].value_counts())"
   ],
   "metadata": {
    "collapsed": false
   },
   "id": "3c2bb183e1a73718",
   "outputs": [],
   "execution_count": null
  },
  {
   "cell_type": "code",
   "source": "# (_pei[pei_dataset.dvars] > threshold).sum().sum()",
   "metadata": {
    "collapsed": false
   },
   "id": "bd9393e5ef6278c9",
   "outputs": [],
   "execution_count": null
  }
 ],
 "metadata": {
  "kernelspec": {
   "display_name": "Python 3",
   "language": "python",
   "name": "python3"
  },
  "language_info": {
   "codemirror_mode": {
    "name": "ipython",
    "version": 2
   },
   "file_extension": ".py",
   "mimetype": "text/x-python",
   "name": "python",
   "nbconvert_exporter": "python",
   "pygments_lexer": "ipython2",
   "version": "2.7.6"
  }
 },
 "nbformat": 4,
 "nbformat_minor": 5
}
