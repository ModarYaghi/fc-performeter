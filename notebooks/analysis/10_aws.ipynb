{
 "cells": [
  {
   "cell_type": "code",
   "id": "initial_id",
   "metadata": {
    "collapsed": true
   },
   "source": [
    "from src.all_in_one import *"
   ],
   "outputs": [],
   "execution_count": null
  },
  {
   "cell_type": "code",
   "source": [
    "# Screening\n",
    "# scr = get_df(scr_path, scr_sheet)\n",
    "# unique_scr = scr.drop_duplicates(subset='rid')"
   ],
   "metadata": {
    "collapsed": false
   },
   "id": "c35339b2b68a075c",
   "outputs": [],
   "execution_count": null
  },
  {
   "cell_type": "code",
   "source": [
    "aww_file = path_manager.get_data_file(Category.PS, PSFile.AWW)\n",
    "aww_dataset = Dataset(config_file, aww_file.sheet)\n",
    "aw = get_df(aww_file.path, aww_file.sheet)\n",
    "\"\"\"Awareness sessions data contains sex\"\"\"\n",
    "filtered_aw = filter_dataframe_on_date(aw, aww_dataset.dvars, START, END, FilterType.IN)"
   ],
   "metadata": {
    "collapsed": false
   },
   "id": "9b34ce0643f353f1",
   "outputs": [],
   "execution_count": null
  },
  {
   "cell_type": "code",
   "source": "aw",
   "metadata": {
    "collapsed": false
   },
   "id": "a0b66bafc233c687",
   "outputs": [],
   "execution_count": null
  },
  {
   "metadata": {},
   "cell_type": "code",
   "source": "filtered_aw",
   "id": "69963fa58d5de513",
   "outputs": [],
   "execution_count": null
  },
  {
   "cell_type": "code",
   "source": [
    "# aw_q4[['aws', 'sex']].value_counts()"
   ],
   "metadata": {
    "collapsed": false
   },
   "id": "41df205e1a23ad9a",
   "outputs": [],
   "execution_count": null
  },
  {
   "cell_type": "code",
   "source": [
    "# aw_q4['aws'].value_counts()"
   ],
   "metadata": {
    "collapsed": false
   },
   "id": "712005b32905c5bd",
   "outputs": [],
   "execution_count": null
  },
  {
   "cell_type": "code",
   "source": [],
   "metadata": {
    "collapsed": false
   },
   "id": "1d932a86cea7fc3b",
   "outputs": [],
   "execution_count": null
  }
 ],
 "metadata": {
  "kernelspec": {
   "display_name": "Python 3",
   "language": "python",
   "name": "python3"
  },
  "language_info": {
   "codemirror_mode": {
    "name": "ipython",
    "version": 2
   },
   "file_extension": ".py",
   "mimetype": "text/x-python",
   "name": "python",
   "nbconvert_exporter": "python",
   "pygments_lexer": "ipython2",
   "version": "2.7.6"
  }
 },
 "nbformat": 4,
 "nbformat_minor": 5
}
