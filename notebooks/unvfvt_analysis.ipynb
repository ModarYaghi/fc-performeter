{
 "cells": [
  {
   "cell_type": "code",
   "execution_count": null,
   "id": "initial_id",
   "metadata": {
    "collapsed": true
   },
   "source": [
    "import os\n",
    "import pandas as pd\n",
    "from src.all_in_one import *"
   ],
   "outputs": []
  },
  {
   "cell_type": "code",
   "source": [
    "path = os.path.join(unvfvt23, 'grandBeneficiariesEncodedPivotedUniqueDataset23.csv')\n",
    "grand = pd.read_csv(path)\n",
    "grand[['fcid', 'age']] = grand[['fcid', 'age']].astype('Int64')"
   ],
   "metadata": {
    "collapsed": false
   },
   "id": "e85c1f344d578490",
   "execution_count": null,
   "outputs": []
  },
  {
   "cell_type": "code",
   "source": [
    "grand_ts = grand[(grand['primary_torture'] == 'Yes') | (grand['secondary_torture'] == 'Yes')]\n",
    "grand_ts"
   ],
   "metadata": {
    "collapsed": false
   },
   "id": "f18e9eb7c603e48a",
   "execution_count": null,
   "outputs": []
  },
  {
   "cell_type": "code",
   "source": [
    "# grand_ts = grand_ts.copy()\n",
    "# bins = [0, 18, 35, 60, np.inf]\n",
    "# labels = ['0-18', '19-35', '36-60', '+60']\n",
    "# grand_ts['age_group'] = pd.cut(grand_ts['age'], bins=bins, labels=labels, right=False)\n",
    "\n",
    "# Step 2: Pivot table with counts and subtotal by sex\n",
    "# pivot_table = pd.pivot_table(grand_ts, index='sex', columns='age_group', values='age', aggfunc='count', fill_value=0, margins=True, margins_name='sub_total_by_sex')\n",
    "# pivot_table = pd.pivot_table(grand_ts, index='sex', columns='age_group', values='age', aggfunc='count', fill_value=0, margins=True, margins_name='sub_total_by_sex', observed=False)\n",
    "\n",
    "\n",
    "# Display intermediate result\n",
    "# print(\"Pivot table with subtotals by sex:\")\n",
    "# pivot_table.to_clipboard()"
   ],
   "metadata": {
    "collapsed": false
   },
   "id": "f4bd95771f35579e",
   "execution_count": null,
   "outputs": []
  },
  {
   "cell_type": "code",
   "source": [
    "# grand_ts[grand_ts['journalist'] == 'Yes']"
   ],
   "metadata": {
    "collapsed": false
   },
   "id": "8d653bf6aa971cee",
   "execution_count": null,
   "outputs": []
  },
  {
   "cell_type": "markdown",
   "source": [
    "# Checking UNVFVT Former Detainee Beneficiaries\n",
    "### Cross 'rid' with Screening 'IRM' beneficiaries"
   ],
   "metadata": {
    "collapsed": false
   },
   "id": "aec5224c041bd1d9"
  },
  {
   "cell_type": "code",
   "source": [
    "scr = pd.read_csv(scr_path)\n",
    "scr_irm = scr[scr['source'] == 'IRM'] \n",
    "# scr_irm"
   ],
   "metadata": {
    "collapsed": false
   },
   "id": "8e781fbc75a3e6c",
   "execution_count": null,
   "outputs": []
  },
  {
   "cell_type": "code",
   "source": [
    "scr_irm"
   ],
   "metadata": {
    "collapsed": false
   },
   "id": "7a03e91a9244b55d",
   "execution_count": null,
   "outputs": []
  },
  {
   "cell_type": "code",
   "source": [
    "grand_ts_cross_irm = pd.merge(grand_ts, scr_irm[['rid', 'sex', 'source']], on='rid', how='left')\n",
    "grand_ts_cross_irm.to_clipboard()"
   ],
   "metadata": {
    "collapsed": false
   },
   "id": "ed096dc601dc60f7",
   "execution_count": null,
   "outputs": []
  },
  {
   "cell_type": "code",
   "source": [],
   "metadata": {
    "collapsed": false
   },
   "id": "228c5421e69dd41",
   "execution_count": null,
   "outputs": []
  }
 ],
 "metadata": {
  "kernelspec": {
   "display_name": "Python 3",
   "language": "python",
   "name": "python3"
  },
  "language_info": {
   "codemirror_mode": {
    "name": "ipython",
    "version": 2
   },
   "file_extension": ".py",
   "mimetype": "text/x-python",
   "name": "python",
   "nbconvert_exporter": "python",
   "pygments_lexer": "ipython2",
   "version": "2.7.6"
  }
 },
 "nbformat": 4,
 "nbformat_minor": 5
}
