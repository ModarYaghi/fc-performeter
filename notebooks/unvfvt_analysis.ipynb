{
 "cells": [
  {
   "cell_type": "code",
   "execution_count": 2,
   "id": "initial_id",
   "metadata": {
    "collapsed": true,
    "ExecuteTime": {
     "end_time": "2024-02-05T13:56:30.579580Z",
     "start_time": "2024-02-05T13:56:29.221432600Z"
    }
   },
   "outputs": [],
   "source": [
    "import os\n",
    "import pandas as pd\n",
    "from src.all_in_one import *\n",
    "threshold = \"2022-12-31\""
   ]
  },
  {
   "cell_type": "code",
   "outputs": [],
   "source": [
    "path = os.path.join(unvfvt23, 'grandBeneficiariesEncodedPivotedUniqueDataset23.csv')\n",
    "grand = pd.read_csv(path)\n",
    "grand[['fcid', 'age']] = grand[['fcid', 'age']].astype('Int64')"
   ],
   "metadata": {
    "collapsed": false,
    "ExecuteTime": {
     "end_time": "2024-02-05T14:02:23.998760700Z",
     "start_time": "2024-02-05T14:02:23.968433500Z"
    }
   },
   "id": "e85c1f344d578490",
   "execution_count": 6
  },
  {
   "cell_type": "code",
   "outputs": [
    {
     "data": {
      "text/plain": "       rid        fcid     sex   age  int  re  gc  ic  psfua3  psfua6  ...  \\\n0    R0059  8110050007     NaN  <NA>    0   0   0   0       0       0  ...   \n1    R0061  8110020050  Female    45    0   0   0   0       0       0  ...   \n2    R0065  8110060004  Female    56    0   0   0   0       0       0  ...   \n3    R0066  8110060006  Female    55    0   0   0   0       0       0  ...   \n4    R0074  8110020054  Female    38    0   0   0   0       0       0  ...   \n..     ...         ...     ...   ...  ...  ..  ..  ..     ...     ...  ...   \n228  R1106        <NA>  Female    38    0   0   0   0       0       0  ...   \n229  R1109        <NA>  Female    43    0   0   0   0       0       0  ...   \n230  R1119        <NA>  Female    62    0   0   0   0       0       0  ...   \n231  R1133        <NA>  Female    52    0   0   0   0       0       0  ...   \n232  R1143        <NA>  Female    23    0   0   0   0       0       0  ...   \n\n     primary_torture  secondary_torture  sexual_violation_a  \\\n0                Yes                Yes                 NaN   \n1                 No                Yes                 NaN   \n2                Yes                Yes                 NaN   \n3                 No                Yes                 NaN   \n4                 No                 No                 NaN   \n..               ...                ...                 ...   \n228              Yes                Yes                  No   \n229              Yes                Yes                 Yes   \n230              Yes                 No                  No   \n231              Yes                Yes                  No   \n232               No                Yes                  No   \n\n     sexual_violation_p  hrd  journalist  wov  stgbv  lgbti  other  \n0                   NaN  NaN         NaN  Yes     No     No     No  \n1                   NaN  NaN         NaN  Yes     No     No     No  \n2                   NaN  NaN         NaN  Yes     No     No     No  \n3                   NaN  NaN         NaN  Yes     No     No     No  \n4                   NaN  NaN         NaN  Yes     No     No     No  \n..                  ...  ...         ...  ...    ...    ...    ...  \n228                 Yes   No          No  Yes     No     No    NaN  \n229                 Yes   No          No  Yes    Yes     No    NaN  \n230                 Yes   No          No  Yes     No     No    NaN  \n231                 Yes   No          No  Yes     No     No    NaN  \n232                  No   No          No  Yes     No     No    NaN  \n\n[233 rows x 32 columns]",
      "text/html": "<div>\n<style scoped>\n    .dataframe tbody tr th:only-of-type {\n        vertical-align: middle;\n    }\n\n    .dataframe tbody tr th {\n        vertical-align: top;\n    }\n\n    .dataframe thead th {\n        text-align: right;\n    }\n</style>\n<table border=\"1\" class=\"dataframe\">\n  <thead>\n    <tr style=\"text-align: right;\">\n      <th></th>\n      <th>rid</th>\n      <th>fcid</th>\n      <th>sex</th>\n      <th>age</th>\n      <th>int</th>\n      <th>re</th>\n      <th>gc</th>\n      <th>ic</th>\n      <th>psfua3</th>\n      <th>psfua6</th>\n      <th>...</th>\n      <th>primary_torture</th>\n      <th>secondary_torture</th>\n      <th>sexual_violation_a</th>\n      <th>sexual_violation_p</th>\n      <th>hrd</th>\n      <th>journalist</th>\n      <th>wov</th>\n      <th>stgbv</th>\n      <th>lgbti</th>\n      <th>other</th>\n    </tr>\n  </thead>\n  <tbody>\n    <tr>\n      <th>0</th>\n      <td>R0059</td>\n      <td>8110050007</td>\n      <td>NaN</td>\n      <td>&lt;NA&gt;</td>\n      <td>0</td>\n      <td>0</td>\n      <td>0</td>\n      <td>0</td>\n      <td>0</td>\n      <td>0</td>\n      <td>...</td>\n      <td>Yes</td>\n      <td>Yes</td>\n      <td>NaN</td>\n      <td>NaN</td>\n      <td>NaN</td>\n      <td>NaN</td>\n      <td>Yes</td>\n      <td>No</td>\n      <td>No</td>\n      <td>No</td>\n    </tr>\n    <tr>\n      <th>1</th>\n      <td>R0061</td>\n      <td>8110020050</td>\n      <td>Female</td>\n      <td>45</td>\n      <td>0</td>\n      <td>0</td>\n      <td>0</td>\n      <td>0</td>\n      <td>0</td>\n      <td>0</td>\n      <td>...</td>\n      <td>No</td>\n      <td>Yes</td>\n      <td>NaN</td>\n      <td>NaN</td>\n      <td>NaN</td>\n      <td>NaN</td>\n      <td>Yes</td>\n      <td>No</td>\n      <td>No</td>\n      <td>No</td>\n    </tr>\n    <tr>\n      <th>2</th>\n      <td>R0065</td>\n      <td>8110060004</td>\n      <td>Female</td>\n      <td>56</td>\n      <td>0</td>\n      <td>0</td>\n      <td>0</td>\n      <td>0</td>\n      <td>0</td>\n      <td>0</td>\n      <td>...</td>\n      <td>Yes</td>\n      <td>Yes</td>\n      <td>NaN</td>\n      <td>NaN</td>\n      <td>NaN</td>\n      <td>NaN</td>\n      <td>Yes</td>\n      <td>No</td>\n      <td>No</td>\n      <td>No</td>\n    </tr>\n    <tr>\n      <th>3</th>\n      <td>R0066</td>\n      <td>8110060006</td>\n      <td>Female</td>\n      <td>55</td>\n      <td>0</td>\n      <td>0</td>\n      <td>0</td>\n      <td>0</td>\n      <td>0</td>\n      <td>0</td>\n      <td>...</td>\n      <td>No</td>\n      <td>Yes</td>\n      <td>NaN</td>\n      <td>NaN</td>\n      <td>NaN</td>\n      <td>NaN</td>\n      <td>Yes</td>\n      <td>No</td>\n      <td>No</td>\n      <td>No</td>\n    </tr>\n    <tr>\n      <th>4</th>\n      <td>R0074</td>\n      <td>8110020054</td>\n      <td>Female</td>\n      <td>38</td>\n      <td>0</td>\n      <td>0</td>\n      <td>0</td>\n      <td>0</td>\n      <td>0</td>\n      <td>0</td>\n      <td>...</td>\n      <td>No</td>\n      <td>No</td>\n      <td>NaN</td>\n      <td>NaN</td>\n      <td>NaN</td>\n      <td>NaN</td>\n      <td>Yes</td>\n      <td>No</td>\n      <td>No</td>\n      <td>No</td>\n    </tr>\n    <tr>\n      <th>...</th>\n      <td>...</td>\n      <td>...</td>\n      <td>...</td>\n      <td>...</td>\n      <td>...</td>\n      <td>...</td>\n      <td>...</td>\n      <td>...</td>\n      <td>...</td>\n      <td>...</td>\n      <td>...</td>\n      <td>...</td>\n      <td>...</td>\n      <td>...</td>\n      <td>...</td>\n      <td>...</td>\n      <td>...</td>\n      <td>...</td>\n      <td>...</td>\n      <td>...</td>\n      <td>...</td>\n    </tr>\n    <tr>\n      <th>228</th>\n      <td>R1106</td>\n      <td>&lt;NA&gt;</td>\n      <td>Female</td>\n      <td>38</td>\n      <td>0</td>\n      <td>0</td>\n      <td>0</td>\n      <td>0</td>\n      <td>0</td>\n      <td>0</td>\n      <td>...</td>\n      <td>Yes</td>\n      <td>Yes</td>\n      <td>No</td>\n      <td>Yes</td>\n      <td>No</td>\n      <td>No</td>\n      <td>Yes</td>\n      <td>No</td>\n      <td>No</td>\n      <td>NaN</td>\n    </tr>\n    <tr>\n      <th>229</th>\n      <td>R1109</td>\n      <td>&lt;NA&gt;</td>\n      <td>Female</td>\n      <td>43</td>\n      <td>0</td>\n      <td>0</td>\n      <td>0</td>\n      <td>0</td>\n      <td>0</td>\n      <td>0</td>\n      <td>...</td>\n      <td>Yes</td>\n      <td>Yes</td>\n      <td>Yes</td>\n      <td>Yes</td>\n      <td>No</td>\n      <td>No</td>\n      <td>Yes</td>\n      <td>Yes</td>\n      <td>No</td>\n      <td>NaN</td>\n    </tr>\n    <tr>\n      <th>230</th>\n      <td>R1119</td>\n      <td>&lt;NA&gt;</td>\n      <td>Female</td>\n      <td>62</td>\n      <td>0</td>\n      <td>0</td>\n      <td>0</td>\n      <td>0</td>\n      <td>0</td>\n      <td>0</td>\n      <td>...</td>\n      <td>Yes</td>\n      <td>No</td>\n      <td>No</td>\n      <td>Yes</td>\n      <td>No</td>\n      <td>No</td>\n      <td>Yes</td>\n      <td>No</td>\n      <td>No</td>\n      <td>NaN</td>\n    </tr>\n    <tr>\n      <th>231</th>\n      <td>R1133</td>\n      <td>&lt;NA&gt;</td>\n      <td>Female</td>\n      <td>52</td>\n      <td>0</td>\n      <td>0</td>\n      <td>0</td>\n      <td>0</td>\n      <td>0</td>\n      <td>0</td>\n      <td>...</td>\n      <td>Yes</td>\n      <td>Yes</td>\n      <td>No</td>\n      <td>Yes</td>\n      <td>No</td>\n      <td>No</td>\n      <td>Yes</td>\n      <td>No</td>\n      <td>No</td>\n      <td>NaN</td>\n    </tr>\n    <tr>\n      <th>232</th>\n      <td>R1143</td>\n      <td>&lt;NA&gt;</td>\n      <td>Female</td>\n      <td>23</td>\n      <td>0</td>\n      <td>0</td>\n      <td>0</td>\n      <td>0</td>\n      <td>0</td>\n      <td>0</td>\n      <td>...</td>\n      <td>No</td>\n      <td>Yes</td>\n      <td>No</td>\n      <td>No</td>\n      <td>No</td>\n      <td>No</td>\n      <td>Yes</td>\n      <td>No</td>\n      <td>No</td>\n      <td>NaN</td>\n    </tr>\n  </tbody>\n</table>\n<p>233 rows × 32 columns</p>\n</div>"
     },
     "execution_count": 7,
     "metadata": {},
     "output_type": "execute_result"
    }
   ],
   "source": [
    "grand"
   ],
   "metadata": {
    "collapsed": false,
    "ExecuteTime": {
     "end_time": "2024-02-05T14:02:24.991743200Z",
     "start_time": "2024-02-05T14:02:24.880697600Z"
    }
   },
   "id": "929e3da93025b61f",
   "execution_count": 7
  },
  {
   "cell_type": "code",
   "outputs": [
    {
     "data": {
      "text/plain": "Empty DataFrame\nColumns: [rid, fcid, sex, age, int, re, gc, ic, psfua3, psfua6, psfua12, ptint, ptreint, gpt, ipt, ptfua3, ptfua6, ptfua12, pei, td, family_of_missing, survivor_of_detention, primary_torture, secondary_torture, sexual_violation_a, sexual_violation_p, hrd, journalist, wov, stgbv, lgbti, other]\nIndex: []\n\n[0 rows x 32 columns]",
      "text/html": "<div>\n<style scoped>\n    .dataframe tbody tr th:only-of-type {\n        vertical-align: middle;\n    }\n\n    .dataframe tbody tr th {\n        vertical-align: top;\n    }\n\n    .dataframe thead th {\n        text-align: right;\n    }\n</style>\n<table border=\"1\" class=\"dataframe\">\n  <thead>\n    <tr style=\"text-align: right;\">\n      <th></th>\n      <th>rid</th>\n      <th>fcid</th>\n      <th>sex</th>\n      <th>age</th>\n      <th>int</th>\n      <th>re</th>\n      <th>gc</th>\n      <th>ic</th>\n      <th>psfua3</th>\n      <th>psfua6</th>\n      <th>...</th>\n      <th>primary_torture</th>\n      <th>secondary_torture</th>\n      <th>sexual_violation_a</th>\n      <th>sexual_violation_p</th>\n      <th>hrd</th>\n      <th>journalist</th>\n      <th>wov</th>\n      <th>stgbv</th>\n      <th>lgbti</th>\n      <th>other</th>\n    </tr>\n  </thead>\n  <tbody>\n  </tbody>\n</table>\n<p>0 rows × 32 columns</p>\n</div>"
     },
     "execution_count": 21,
     "metadata": {},
     "output_type": "execute_result"
    }
   ],
   "source": [
    "grand[grand['wov'] == 'NaN']"
   ],
   "metadata": {
    "collapsed": false,
    "ExecuteTime": {
     "end_time": "2024-02-05T14:47:41.514721200Z",
     "start_time": "2024-02-05T14:47:41.429305700Z"
    }
   },
   "id": "a742926ed78c62e0",
   "execution_count": 21
  },
  {
   "cell_type": "code",
   "outputs": [
    {
     "data": {
      "text/plain": "       rid        fcid     sex   age  int  re  gc  ic  psfua3  psfua6  ...  \\\n0    R0059  8110050007     NaN  <NA>    0   0   0   0       0       0  ...   \n1    R0061  8110020050  Female    45    0   0   0   0       0       0  ...   \n2    R0065  8110060004  Female    56    0   0   0   0       0       0  ...   \n3    R0066  8110060006  Female    55    0   0   0   0       0       0  ...   \n5    R0077  8110060007  Female    56    0   0   0   0       0       0  ...   \n..     ...         ...     ...   ...  ...  ..  ..  ..     ...     ...  ...   \n228  R1106        <NA>  Female    38    0   0   0   0       0       0  ...   \n229  R1109        <NA>  Female    43    0   0   0   0       0       0  ...   \n230  R1119        <NA>  Female    62    0   0   0   0       0       0  ...   \n231  R1133        <NA>  Female    52    0   0   0   0       0       0  ...   \n232  R1143        <NA>  Female    23    0   0   0   0       0       0  ...   \n\n     primary_torture  secondary_torture  sexual_violation_a  \\\n0                Yes                Yes                 NaN   \n1                 No                Yes                 NaN   \n2                Yes                Yes                 NaN   \n3                 No                Yes                 NaN   \n5                Yes                Yes                 NaN   \n..               ...                ...                 ...   \n228              Yes                Yes                  No   \n229              Yes                Yes                 Yes   \n230              Yes                 No                  No   \n231              Yes                Yes                  No   \n232               No                Yes                  No   \n\n     sexual_violation_p  hrd  journalist  wov  stgbv  lgbti  other  \n0                   NaN  NaN         NaN  Yes     No     No     No  \n1                   NaN  NaN         NaN  Yes     No     No     No  \n2                   NaN  NaN         NaN  Yes     No     No     No  \n3                   NaN  NaN         NaN  Yes     No     No     No  \n5                   NaN  NaN         NaN  Yes    Yes     No     No  \n..                  ...  ...         ...  ...    ...    ...    ...  \n228                 Yes   No          No  Yes     No     No    NaN  \n229                 Yes   No          No  Yes    Yes     No    NaN  \n230                 Yes   No          No  Yes     No     No    NaN  \n231                 Yes   No          No  Yes     No     No    NaN  \n232                  No   No          No  Yes     No     No    NaN  \n\n[211 rows x 32 columns]",
      "text/html": "<div>\n<style scoped>\n    .dataframe tbody tr th:only-of-type {\n        vertical-align: middle;\n    }\n\n    .dataframe tbody tr th {\n        vertical-align: top;\n    }\n\n    .dataframe thead th {\n        text-align: right;\n    }\n</style>\n<table border=\"1\" class=\"dataframe\">\n  <thead>\n    <tr style=\"text-align: right;\">\n      <th></th>\n      <th>rid</th>\n      <th>fcid</th>\n      <th>sex</th>\n      <th>age</th>\n      <th>int</th>\n      <th>re</th>\n      <th>gc</th>\n      <th>ic</th>\n      <th>psfua3</th>\n      <th>psfua6</th>\n      <th>...</th>\n      <th>primary_torture</th>\n      <th>secondary_torture</th>\n      <th>sexual_violation_a</th>\n      <th>sexual_violation_p</th>\n      <th>hrd</th>\n      <th>journalist</th>\n      <th>wov</th>\n      <th>stgbv</th>\n      <th>lgbti</th>\n      <th>other</th>\n    </tr>\n  </thead>\n  <tbody>\n    <tr>\n      <th>0</th>\n      <td>R0059</td>\n      <td>8110050007</td>\n      <td>NaN</td>\n      <td>&lt;NA&gt;</td>\n      <td>0</td>\n      <td>0</td>\n      <td>0</td>\n      <td>0</td>\n      <td>0</td>\n      <td>0</td>\n      <td>...</td>\n      <td>Yes</td>\n      <td>Yes</td>\n      <td>NaN</td>\n      <td>NaN</td>\n      <td>NaN</td>\n      <td>NaN</td>\n      <td>Yes</td>\n      <td>No</td>\n      <td>No</td>\n      <td>No</td>\n    </tr>\n    <tr>\n      <th>1</th>\n      <td>R0061</td>\n      <td>8110020050</td>\n      <td>Female</td>\n      <td>45</td>\n      <td>0</td>\n      <td>0</td>\n      <td>0</td>\n      <td>0</td>\n      <td>0</td>\n      <td>0</td>\n      <td>...</td>\n      <td>No</td>\n      <td>Yes</td>\n      <td>NaN</td>\n      <td>NaN</td>\n      <td>NaN</td>\n      <td>NaN</td>\n      <td>Yes</td>\n      <td>No</td>\n      <td>No</td>\n      <td>No</td>\n    </tr>\n    <tr>\n      <th>2</th>\n      <td>R0065</td>\n      <td>8110060004</td>\n      <td>Female</td>\n      <td>56</td>\n      <td>0</td>\n      <td>0</td>\n      <td>0</td>\n      <td>0</td>\n      <td>0</td>\n      <td>0</td>\n      <td>...</td>\n      <td>Yes</td>\n      <td>Yes</td>\n      <td>NaN</td>\n      <td>NaN</td>\n      <td>NaN</td>\n      <td>NaN</td>\n      <td>Yes</td>\n      <td>No</td>\n      <td>No</td>\n      <td>No</td>\n    </tr>\n    <tr>\n      <th>3</th>\n      <td>R0066</td>\n      <td>8110060006</td>\n      <td>Female</td>\n      <td>55</td>\n      <td>0</td>\n      <td>0</td>\n      <td>0</td>\n      <td>0</td>\n      <td>0</td>\n      <td>0</td>\n      <td>...</td>\n      <td>No</td>\n      <td>Yes</td>\n      <td>NaN</td>\n      <td>NaN</td>\n      <td>NaN</td>\n      <td>NaN</td>\n      <td>Yes</td>\n      <td>No</td>\n      <td>No</td>\n      <td>No</td>\n    </tr>\n    <tr>\n      <th>5</th>\n      <td>R0077</td>\n      <td>8110060007</td>\n      <td>Female</td>\n      <td>56</td>\n      <td>0</td>\n      <td>0</td>\n      <td>0</td>\n      <td>0</td>\n      <td>0</td>\n      <td>0</td>\n      <td>...</td>\n      <td>Yes</td>\n      <td>Yes</td>\n      <td>NaN</td>\n      <td>NaN</td>\n      <td>NaN</td>\n      <td>NaN</td>\n      <td>Yes</td>\n      <td>Yes</td>\n      <td>No</td>\n      <td>No</td>\n    </tr>\n    <tr>\n      <th>...</th>\n      <td>...</td>\n      <td>...</td>\n      <td>...</td>\n      <td>...</td>\n      <td>...</td>\n      <td>...</td>\n      <td>...</td>\n      <td>...</td>\n      <td>...</td>\n      <td>...</td>\n      <td>...</td>\n      <td>...</td>\n      <td>...</td>\n      <td>...</td>\n      <td>...</td>\n      <td>...</td>\n      <td>...</td>\n      <td>...</td>\n      <td>...</td>\n      <td>...</td>\n      <td>...</td>\n    </tr>\n    <tr>\n      <th>228</th>\n      <td>R1106</td>\n      <td>&lt;NA&gt;</td>\n      <td>Female</td>\n      <td>38</td>\n      <td>0</td>\n      <td>0</td>\n      <td>0</td>\n      <td>0</td>\n      <td>0</td>\n      <td>0</td>\n      <td>...</td>\n      <td>Yes</td>\n      <td>Yes</td>\n      <td>No</td>\n      <td>Yes</td>\n      <td>No</td>\n      <td>No</td>\n      <td>Yes</td>\n      <td>No</td>\n      <td>No</td>\n      <td>NaN</td>\n    </tr>\n    <tr>\n      <th>229</th>\n      <td>R1109</td>\n      <td>&lt;NA&gt;</td>\n      <td>Female</td>\n      <td>43</td>\n      <td>0</td>\n      <td>0</td>\n      <td>0</td>\n      <td>0</td>\n      <td>0</td>\n      <td>0</td>\n      <td>...</td>\n      <td>Yes</td>\n      <td>Yes</td>\n      <td>Yes</td>\n      <td>Yes</td>\n      <td>No</td>\n      <td>No</td>\n      <td>Yes</td>\n      <td>Yes</td>\n      <td>No</td>\n      <td>NaN</td>\n    </tr>\n    <tr>\n      <th>230</th>\n      <td>R1119</td>\n      <td>&lt;NA&gt;</td>\n      <td>Female</td>\n      <td>62</td>\n      <td>0</td>\n      <td>0</td>\n      <td>0</td>\n      <td>0</td>\n      <td>0</td>\n      <td>0</td>\n      <td>...</td>\n      <td>Yes</td>\n      <td>No</td>\n      <td>No</td>\n      <td>Yes</td>\n      <td>No</td>\n      <td>No</td>\n      <td>Yes</td>\n      <td>No</td>\n      <td>No</td>\n      <td>NaN</td>\n    </tr>\n    <tr>\n      <th>231</th>\n      <td>R1133</td>\n      <td>&lt;NA&gt;</td>\n      <td>Female</td>\n      <td>52</td>\n      <td>0</td>\n      <td>0</td>\n      <td>0</td>\n      <td>0</td>\n      <td>0</td>\n      <td>0</td>\n      <td>...</td>\n      <td>Yes</td>\n      <td>Yes</td>\n      <td>No</td>\n      <td>Yes</td>\n      <td>No</td>\n      <td>No</td>\n      <td>Yes</td>\n      <td>No</td>\n      <td>No</td>\n      <td>NaN</td>\n    </tr>\n    <tr>\n      <th>232</th>\n      <td>R1143</td>\n      <td>&lt;NA&gt;</td>\n      <td>Female</td>\n      <td>23</td>\n      <td>0</td>\n      <td>0</td>\n      <td>0</td>\n      <td>0</td>\n      <td>0</td>\n      <td>0</td>\n      <td>...</td>\n      <td>No</td>\n      <td>Yes</td>\n      <td>No</td>\n      <td>No</td>\n      <td>No</td>\n      <td>No</td>\n      <td>Yes</td>\n      <td>No</td>\n      <td>No</td>\n      <td>NaN</td>\n    </tr>\n  </tbody>\n</table>\n<p>211 rows × 32 columns</p>\n</div>"
     },
     "execution_count": 8,
     "metadata": {},
     "output_type": "execute_result"
    }
   ],
   "source": [
    "grand_ts = grand[(grand['primary_torture'] == 'Yes') | (grand['secondary_torture'] == 'Yes')]\n",
    "grand_ts"
   ],
   "metadata": {
    "collapsed": false,
    "ExecuteTime": {
     "end_time": "2024-02-05T14:02:29.273282300Z",
     "start_time": "2024-02-05T14:02:29.232847100Z"
    }
   },
   "id": "f18e9eb7c603e48a",
   "execution_count": 8
  },
  {
   "cell_type": "code",
   "outputs": [],
   "source": [
    "grand_ts = grand_ts.copy()\n",
    "bins = [0, 18, 35, 60, np.inf]\n",
    "labels = ['0-18', '19-35', '36-60', '+60']\n",
    "grand_ts['age_group'] = pd.cut(grand_ts['age'], bins=bins, labels=labels, right=False)\n",
    "\n",
    "# Step 2: Pivot table with counts and subtotal by sex\n",
    "# pivot_table = pd.pivot_table(grand_ts, index='sex', columns='age_group', values='age', aggfunc='count', fill_value=0, margins=True, margins_name='sub_total_by_sex')\n",
    "pivot_table = pd.pivot_table(grand_ts, index='sex', columns='age_group', values='age', aggfunc='count', fill_value=0, margins=True, margins_name='sub_total_by_sex', observed=False)\n",
    "\n",
    "\n",
    "# Display intermediate result\n",
    "# print(\"Pivot table with subtotals by sex:\")\n",
    "pivot_table.to_clipboard()"
   ],
   "metadata": {
    "collapsed": false,
    "ExecuteTime": {
     "end_time": "2024-02-05T14:20:44.275613800Z",
     "start_time": "2024-02-05T14:20:44.215090600Z"
    }
   },
   "id": "f4bd95771f35579e",
   "execution_count": 12
  },
  {
   "cell_type": "code",
   "outputs": [
    {
     "data": {
      "text/plain": "       rid        fcid     sex  age  int  re  gc  ic  psfua3  psfua6  ...  \\\n141  R0605  8110100001  Female   47    1   0   0   0       0       0  ...   \n155  R0714  8110100012  Female   32    1   0   0   0       0       0  ...   \n161  R0720  8110100007    Male   35    1   0   0   0       0       0  ...   \n165  R0732  8110100008    Male   33    1   0   1   0       0       0  ...   \n219  R1094        <NA>  Female   60    0   0   0   0       0       0  ...   \n225  R1102        <NA>    Male   46    0   0   0   0       0       0  ...   \n\n     secondary_torture  sexual_violation_a  sexual_violation_p  hrd  \\\n141                Yes                  No                  No   No   \n155                Yes                 Yes                 Yes   No   \n161                Yes                  No                  No   No   \n165                Yes                  No                 Yes   No   \n219                Yes                  No                 Yes  Yes   \n225                Yes                 Yes                  No  Yes   \n\n     journalist  wov  stgbv  lgbti  other  age_group  \n141         Yes  Yes     No     No     No      36-60  \n155         Yes  Yes     No     No     No      19-35  \n161         Yes  Yes     No     No     No      36-60  \n165         Yes  Yes    Yes     No     No      19-35  \n219         Yes  Yes     No     No    NaN        +60  \n225         Yes  Yes    Yes    Yes    NaN      36-60  \n\n[6 rows x 33 columns]",
      "text/html": "<div>\n<style scoped>\n    .dataframe tbody tr th:only-of-type {\n        vertical-align: middle;\n    }\n\n    .dataframe tbody tr th {\n        vertical-align: top;\n    }\n\n    .dataframe thead th {\n        text-align: right;\n    }\n</style>\n<table border=\"1\" class=\"dataframe\">\n  <thead>\n    <tr style=\"text-align: right;\">\n      <th></th>\n      <th>rid</th>\n      <th>fcid</th>\n      <th>sex</th>\n      <th>age</th>\n      <th>int</th>\n      <th>re</th>\n      <th>gc</th>\n      <th>ic</th>\n      <th>psfua3</th>\n      <th>psfua6</th>\n      <th>...</th>\n      <th>secondary_torture</th>\n      <th>sexual_violation_a</th>\n      <th>sexual_violation_p</th>\n      <th>hrd</th>\n      <th>journalist</th>\n      <th>wov</th>\n      <th>stgbv</th>\n      <th>lgbti</th>\n      <th>other</th>\n      <th>age_group</th>\n    </tr>\n  </thead>\n  <tbody>\n    <tr>\n      <th>141</th>\n      <td>R0605</td>\n      <td>8110100001</td>\n      <td>Female</td>\n      <td>47</td>\n      <td>1</td>\n      <td>0</td>\n      <td>0</td>\n      <td>0</td>\n      <td>0</td>\n      <td>0</td>\n      <td>...</td>\n      <td>Yes</td>\n      <td>No</td>\n      <td>No</td>\n      <td>No</td>\n      <td>Yes</td>\n      <td>Yes</td>\n      <td>No</td>\n      <td>No</td>\n      <td>No</td>\n      <td>36-60</td>\n    </tr>\n    <tr>\n      <th>155</th>\n      <td>R0714</td>\n      <td>8110100012</td>\n      <td>Female</td>\n      <td>32</td>\n      <td>1</td>\n      <td>0</td>\n      <td>0</td>\n      <td>0</td>\n      <td>0</td>\n      <td>0</td>\n      <td>...</td>\n      <td>Yes</td>\n      <td>Yes</td>\n      <td>Yes</td>\n      <td>No</td>\n      <td>Yes</td>\n      <td>Yes</td>\n      <td>No</td>\n      <td>No</td>\n      <td>No</td>\n      <td>19-35</td>\n    </tr>\n    <tr>\n      <th>161</th>\n      <td>R0720</td>\n      <td>8110100007</td>\n      <td>Male</td>\n      <td>35</td>\n      <td>1</td>\n      <td>0</td>\n      <td>0</td>\n      <td>0</td>\n      <td>0</td>\n      <td>0</td>\n      <td>...</td>\n      <td>Yes</td>\n      <td>No</td>\n      <td>No</td>\n      <td>No</td>\n      <td>Yes</td>\n      <td>Yes</td>\n      <td>No</td>\n      <td>No</td>\n      <td>No</td>\n      <td>36-60</td>\n    </tr>\n    <tr>\n      <th>165</th>\n      <td>R0732</td>\n      <td>8110100008</td>\n      <td>Male</td>\n      <td>33</td>\n      <td>1</td>\n      <td>0</td>\n      <td>1</td>\n      <td>0</td>\n      <td>0</td>\n      <td>0</td>\n      <td>...</td>\n      <td>Yes</td>\n      <td>No</td>\n      <td>Yes</td>\n      <td>No</td>\n      <td>Yes</td>\n      <td>Yes</td>\n      <td>Yes</td>\n      <td>No</td>\n      <td>No</td>\n      <td>19-35</td>\n    </tr>\n    <tr>\n      <th>219</th>\n      <td>R1094</td>\n      <td>&lt;NA&gt;</td>\n      <td>Female</td>\n      <td>60</td>\n      <td>0</td>\n      <td>0</td>\n      <td>0</td>\n      <td>0</td>\n      <td>0</td>\n      <td>0</td>\n      <td>...</td>\n      <td>Yes</td>\n      <td>No</td>\n      <td>Yes</td>\n      <td>Yes</td>\n      <td>Yes</td>\n      <td>Yes</td>\n      <td>No</td>\n      <td>No</td>\n      <td>NaN</td>\n      <td>+60</td>\n    </tr>\n    <tr>\n      <th>225</th>\n      <td>R1102</td>\n      <td>&lt;NA&gt;</td>\n      <td>Male</td>\n      <td>46</td>\n      <td>0</td>\n      <td>0</td>\n      <td>0</td>\n      <td>0</td>\n      <td>0</td>\n      <td>0</td>\n      <td>...</td>\n      <td>Yes</td>\n      <td>Yes</td>\n      <td>No</td>\n      <td>Yes</td>\n      <td>Yes</td>\n      <td>Yes</td>\n      <td>Yes</td>\n      <td>Yes</td>\n      <td>NaN</td>\n      <td>36-60</td>\n    </tr>\n  </tbody>\n</table>\n<p>6 rows × 33 columns</p>\n</div>"
     },
     "execution_count": 20,
     "metadata": {},
     "output_type": "execute_result"
    }
   ],
   "source": [
    "grand_ts[grand_ts['journalist'] == 'Yes']"
   ],
   "metadata": {
    "collapsed": false,
    "ExecuteTime": {
     "end_time": "2024-02-05T14:38:18.865193Z",
     "start_time": "2024-02-05T14:38:18.779524700Z"
    }
   },
   "id": "8d653bf6aa971cee",
   "execution_count": 20
  }
 ],
 "metadata": {
  "kernelspec": {
   "display_name": "Python 3",
   "language": "python",
   "name": "python3"
  },
  "language_info": {
   "codemirror_mode": {
    "name": "ipython",
    "version": 2
   },
   "file_extension": ".py",
   "mimetype": "text/x-python",
   "name": "python",
   "nbconvert_exporter": "python",
   "pygments_lexer": "ipython2",
   "version": "2.7.6"
  }
 },
 "nbformat": 4,
 "nbformat_minor": 5
}
