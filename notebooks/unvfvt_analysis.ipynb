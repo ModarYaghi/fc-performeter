{
 "cells": [
  {
   "cell_type": "code",
   "execution_count": 1,
   "id": "initial_id",
   "metadata": {
    "collapsed": true,
    "ExecuteTime": {
     "end_time": "2024-02-21T11:47:07.975681500Z",
     "start_time": "2024-02-21T11:47:06.853865500Z"
    }
   },
   "outputs": [],
   "source": [
    "import os\n",
    "import pandas as pd\n",
    "from src.all_in_one import *"
   ]
  },
  {
   "cell_type": "code",
   "outputs": [],
   "source": [
    "path = os.path.join(unvfvt23, 'grandBeneficiariesEncodedPivotedUniqueDataset23.csv')\n",
    "grand = pd.read_csv(path)\n",
    "grand[['fcid', 'age']] = grand[['fcid', 'age']].astype('Int64')"
   ],
   "metadata": {
    "collapsed": false,
    "ExecuteTime": {
     "end_time": "2024-02-21T11:47:07.999577900Z",
     "start_time": "2024-02-21T11:47:07.979661100Z"
    }
   },
   "id": "e85c1f344d578490",
   "execution_count": 2
  },
  {
   "cell_type": "code",
   "outputs": [
    {
     "data": {
      "text/plain": "       rid        fcid     sex   age  int  re  gc  ic  psfua3  psfua6  ...  \\\n0    R0059  8110050007     NaN  <NA>    0   0   0   0       0       0  ...   \n1    R0061  8110020050  Female    45    0   0   0   0       0       0  ...   \n2    R0065  8110060004  Female    56    0   0   0   0       0       0  ...   \n3    R0066  8110060006  Female    55    0   0   0   0       0       0  ...   \n5    R0077  8110060007  Female    56    0   0   0   0       0       0  ...   \n..     ...         ...     ...   ...  ...  ..  ..  ..     ...     ...  ...   \n228  R1106        <NA>  Female    38    0   0   0   0       0       0  ...   \n229  R1109        <NA>  Female    43    0   0   0   0       0       0  ...   \n230  R1119        <NA>  Female    62    0   0   0   0       0       0  ...   \n231  R1133        <NA>  Female    52    0   0   0   0       0       0  ...   \n232  R1143        <NA>  Female    23    0   0   0   0       0       0  ...   \n\n     primary_torture  secondary_torture  sexual_violation_a  \\\n0                Yes                Yes                 NaN   \n1                 No                Yes                 NaN   \n2                Yes                Yes                 NaN   \n3                 No                Yes                 NaN   \n5                Yes                Yes                 NaN   \n..               ...                ...                 ...   \n228              Yes                Yes                  No   \n229              Yes                Yes                 Yes   \n230              Yes                 No                  No   \n231              Yes                Yes                  No   \n232               No                Yes                  No   \n\n     sexual_violation_p  hrd  journalist  wov  stgbv  lgbti  other  \n0                   NaN  NaN         NaN  Yes     No     No     No  \n1                   NaN  NaN         NaN  Yes     No     No     No  \n2                   NaN  NaN         NaN  Yes     No     No     No  \n3                   NaN  NaN         NaN  Yes     No     No     No  \n5                   NaN  NaN         NaN  Yes    Yes     No     No  \n..                  ...  ...         ...  ...    ...    ...    ...  \n228                 Yes   No          No  Yes     No     No    NaN  \n229                 Yes   No          No  Yes    Yes     No    NaN  \n230                 Yes   No          No  Yes     No     No    NaN  \n231                 Yes   No          No  Yes     No     No    NaN  \n232                  No   No          No  Yes     No     No    NaN  \n\n[211 rows x 32 columns]",
      "text/html": "<div>\n<style scoped>\n    .dataframe tbody tr th:only-of-type {\n        vertical-align: middle;\n    }\n\n    .dataframe tbody tr th {\n        vertical-align: top;\n    }\n\n    .dataframe thead th {\n        text-align: right;\n    }\n</style>\n<table border=\"1\" class=\"dataframe\">\n  <thead>\n    <tr style=\"text-align: right;\">\n      <th></th>\n      <th>rid</th>\n      <th>fcid</th>\n      <th>sex</th>\n      <th>age</th>\n      <th>int</th>\n      <th>re</th>\n      <th>gc</th>\n      <th>ic</th>\n      <th>psfua3</th>\n      <th>psfua6</th>\n      <th>...</th>\n      <th>primary_torture</th>\n      <th>secondary_torture</th>\n      <th>sexual_violation_a</th>\n      <th>sexual_violation_p</th>\n      <th>hrd</th>\n      <th>journalist</th>\n      <th>wov</th>\n      <th>stgbv</th>\n      <th>lgbti</th>\n      <th>other</th>\n    </tr>\n  </thead>\n  <tbody>\n    <tr>\n      <th>0</th>\n      <td>R0059</td>\n      <td>8110050007</td>\n      <td>NaN</td>\n      <td>&lt;NA&gt;</td>\n      <td>0</td>\n      <td>0</td>\n      <td>0</td>\n      <td>0</td>\n      <td>0</td>\n      <td>0</td>\n      <td>...</td>\n      <td>Yes</td>\n      <td>Yes</td>\n      <td>NaN</td>\n      <td>NaN</td>\n      <td>NaN</td>\n      <td>NaN</td>\n      <td>Yes</td>\n      <td>No</td>\n      <td>No</td>\n      <td>No</td>\n    </tr>\n    <tr>\n      <th>1</th>\n      <td>R0061</td>\n      <td>8110020050</td>\n      <td>Female</td>\n      <td>45</td>\n      <td>0</td>\n      <td>0</td>\n      <td>0</td>\n      <td>0</td>\n      <td>0</td>\n      <td>0</td>\n      <td>...</td>\n      <td>No</td>\n      <td>Yes</td>\n      <td>NaN</td>\n      <td>NaN</td>\n      <td>NaN</td>\n      <td>NaN</td>\n      <td>Yes</td>\n      <td>No</td>\n      <td>No</td>\n      <td>No</td>\n    </tr>\n    <tr>\n      <th>2</th>\n      <td>R0065</td>\n      <td>8110060004</td>\n      <td>Female</td>\n      <td>56</td>\n      <td>0</td>\n      <td>0</td>\n      <td>0</td>\n      <td>0</td>\n      <td>0</td>\n      <td>0</td>\n      <td>...</td>\n      <td>Yes</td>\n      <td>Yes</td>\n      <td>NaN</td>\n      <td>NaN</td>\n      <td>NaN</td>\n      <td>NaN</td>\n      <td>Yes</td>\n      <td>No</td>\n      <td>No</td>\n      <td>No</td>\n    </tr>\n    <tr>\n      <th>3</th>\n      <td>R0066</td>\n      <td>8110060006</td>\n      <td>Female</td>\n      <td>55</td>\n      <td>0</td>\n      <td>0</td>\n      <td>0</td>\n      <td>0</td>\n      <td>0</td>\n      <td>0</td>\n      <td>...</td>\n      <td>No</td>\n      <td>Yes</td>\n      <td>NaN</td>\n      <td>NaN</td>\n      <td>NaN</td>\n      <td>NaN</td>\n      <td>Yes</td>\n      <td>No</td>\n      <td>No</td>\n      <td>No</td>\n    </tr>\n    <tr>\n      <th>5</th>\n      <td>R0077</td>\n      <td>8110060007</td>\n      <td>Female</td>\n      <td>56</td>\n      <td>0</td>\n      <td>0</td>\n      <td>0</td>\n      <td>0</td>\n      <td>0</td>\n      <td>0</td>\n      <td>...</td>\n      <td>Yes</td>\n      <td>Yes</td>\n      <td>NaN</td>\n      <td>NaN</td>\n      <td>NaN</td>\n      <td>NaN</td>\n      <td>Yes</td>\n      <td>Yes</td>\n      <td>No</td>\n      <td>No</td>\n    </tr>\n    <tr>\n      <th>...</th>\n      <td>...</td>\n      <td>...</td>\n      <td>...</td>\n      <td>...</td>\n      <td>...</td>\n      <td>...</td>\n      <td>...</td>\n      <td>...</td>\n      <td>...</td>\n      <td>...</td>\n      <td>...</td>\n      <td>...</td>\n      <td>...</td>\n      <td>...</td>\n      <td>...</td>\n      <td>...</td>\n      <td>...</td>\n      <td>...</td>\n      <td>...</td>\n      <td>...</td>\n      <td>...</td>\n    </tr>\n    <tr>\n      <th>228</th>\n      <td>R1106</td>\n      <td>&lt;NA&gt;</td>\n      <td>Female</td>\n      <td>38</td>\n      <td>0</td>\n      <td>0</td>\n      <td>0</td>\n      <td>0</td>\n      <td>0</td>\n      <td>0</td>\n      <td>...</td>\n      <td>Yes</td>\n      <td>Yes</td>\n      <td>No</td>\n      <td>Yes</td>\n      <td>No</td>\n      <td>No</td>\n      <td>Yes</td>\n      <td>No</td>\n      <td>No</td>\n      <td>NaN</td>\n    </tr>\n    <tr>\n      <th>229</th>\n      <td>R1109</td>\n      <td>&lt;NA&gt;</td>\n      <td>Female</td>\n      <td>43</td>\n      <td>0</td>\n      <td>0</td>\n      <td>0</td>\n      <td>0</td>\n      <td>0</td>\n      <td>0</td>\n      <td>...</td>\n      <td>Yes</td>\n      <td>Yes</td>\n      <td>Yes</td>\n      <td>Yes</td>\n      <td>No</td>\n      <td>No</td>\n      <td>Yes</td>\n      <td>Yes</td>\n      <td>No</td>\n      <td>NaN</td>\n    </tr>\n    <tr>\n      <th>230</th>\n      <td>R1119</td>\n      <td>&lt;NA&gt;</td>\n      <td>Female</td>\n      <td>62</td>\n      <td>0</td>\n      <td>0</td>\n      <td>0</td>\n      <td>0</td>\n      <td>0</td>\n      <td>0</td>\n      <td>...</td>\n      <td>Yes</td>\n      <td>No</td>\n      <td>No</td>\n      <td>Yes</td>\n      <td>No</td>\n      <td>No</td>\n      <td>Yes</td>\n      <td>No</td>\n      <td>No</td>\n      <td>NaN</td>\n    </tr>\n    <tr>\n      <th>231</th>\n      <td>R1133</td>\n      <td>&lt;NA&gt;</td>\n      <td>Female</td>\n      <td>52</td>\n      <td>0</td>\n      <td>0</td>\n      <td>0</td>\n      <td>0</td>\n      <td>0</td>\n      <td>0</td>\n      <td>...</td>\n      <td>Yes</td>\n      <td>Yes</td>\n      <td>No</td>\n      <td>Yes</td>\n      <td>No</td>\n      <td>No</td>\n      <td>Yes</td>\n      <td>No</td>\n      <td>No</td>\n      <td>NaN</td>\n    </tr>\n    <tr>\n      <th>232</th>\n      <td>R1143</td>\n      <td>&lt;NA&gt;</td>\n      <td>Female</td>\n      <td>23</td>\n      <td>0</td>\n      <td>0</td>\n      <td>0</td>\n      <td>0</td>\n      <td>0</td>\n      <td>0</td>\n      <td>...</td>\n      <td>No</td>\n      <td>Yes</td>\n      <td>No</td>\n      <td>No</td>\n      <td>No</td>\n      <td>No</td>\n      <td>Yes</td>\n      <td>No</td>\n      <td>No</td>\n      <td>NaN</td>\n    </tr>\n  </tbody>\n</table>\n<p>211 rows × 32 columns</p>\n</div>"
     },
     "execution_count": 3,
     "metadata": {},
     "output_type": "execute_result"
    }
   ],
   "source": [
    "grand_ts = grand[(grand['primary_torture'] == 'Yes') | (grand['secondary_torture'] == 'Yes')]\n",
    "grand_ts"
   ],
   "metadata": {
    "collapsed": false,
    "ExecuteTime": {
     "end_time": "2024-02-21T11:47:08.839644300Z",
     "start_time": "2024-02-21T11:47:08.809178800Z"
    }
   },
   "id": "f18e9eb7c603e48a",
   "execution_count": 3
  },
  {
   "cell_type": "code",
   "outputs": [],
   "source": [
    "# grand_ts = grand_ts.copy()\n",
    "# bins = [0, 18, 35, 60, np.inf]\n",
    "# labels = ['0-18', '19-35', '36-60', '+60']\n",
    "# grand_ts['age_group'] = pd.cut(grand_ts['age'], bins=bins, labels=labels, right=False)\n",
    "\n",
    "# Step 2: Pivot table with counts and subtotal by sex\n",
    "# pivot_table = pd.pivot_table(grand_ts, index='sex', columns='age_group', values='age', aggfunc='count', fill_value=0, margins=True, margins_name='sub_total_by_sex')\n",
    "# pivot_table = pd.pivot_table(grand_ts, index='sex', columns='age_group', values='age', aggfunc='count', fill_value=0, margins=True, margins_name='sub_total_by_sex', observed=False)\n",
    "\n",
    "\n",
    "# Display intermediate result\n",
    "# print(\"Pivot table with subtotals by sex:\")\n",
    "# pivot_table.to_clipboard()"
   ],
   "metadata": {
    "collapsed": false
   },
   "id": "f4bd95771f35579e",
   "execution_count": null
  },
  {
   "cell_type": "code",
   "outputs": [],
   "source": [
    "# grand_ts[grand_ts['journalist'] == 'Yes']"
   ],
   "metadata": {
    "collapsed": false
   },
   "id": "8d653bf6aa971cee",
   "execution_count": null
  },
  {
   "cell_type": "markdown",
   "source": [
    "# Checking UNVFVT Former Detainee Beneficiaries\n",
    "### Cross 'rid' with Screening 'IRM' beneficiaries"
   ],
   "metadata": {
    "collapsed": false
   },
   "id": "aec5224c041bd1d9"
  },
  {
   "cell_type": "code",
   "outputs": [],
   "source": [
    "scr = pd.read_csv(scr_path)\n",
    "scr_irm = scr[scr['source'] == 'IRM'] \n",
    "# scr_irm"
   ],
   "metadata": {
    "collapsed": false,
    "ExecuteTime": {
     "end_time": "2024-02-21T11:51:58.379875700Z",
     "start_time": "2024-02-21T11:51:58.316146800Z"
    }
   },
   "id": "8e781fbc75a3e6c",
   "execution_count": 8
  },
  {
   "cell_type": "code",
   "outputs": [
    {
     "data": {
      "text/plain": "    scrsp  scspi    rid   firstname lastname     sex  age     nat sc_loc  \\\n0      IJ     67  R1010        احمد  الخالدي    Male   53  Syrian     SF   \n1      IJ     64  R0999       امينة   الحسين  Female   39  Syrian     SF   \n4      IJ     36  R0731     إبراهيم     عباس    Male   33  Syrian    GTZ   \n10     IJ     69  R0702         حسن    الخلف    Male   38  Syrian     SF   \n22     IJ     34  R0714       ريهام   الحبال  Female   32  Syrian    GTZ   \n..    ...    ...    ...         ...      ...     ...  ...     ...    ...   \n678    YQ    177  R0923     عبدالله    سلامة    Male   37  Syrian     SF   \n679    YQ    178  R1035         سمر     عبيد  Female   56  Syrian    Rey   \n680    YQ    179  R1034        خالد    زيتون    Male   52  Syrian    Rey   \n681    YQ    180  R1033       فادية    زيدان  Female   47  Syrian    Rey   \n683    YQ    182  R1107  عبد القادر   الراغب    Male   34  Syrian    Rey   \n\n          sc_s1 pei_pre_as sc_re source source_org need_mhpss need_trw  \\\n0    2023-10-19        NaN   NaN    IRM        NaN        Yes       No   \n1    2023-10-18        NaN   NaN    IRM        NaN        Yes       No   \n4    2023-05-22        NaN   NaN    IRM        NaN         No      Yes   \n10   2023-10-26        NaN   NaN    IRM        NaN        Yes       No   \n22   2023-05-12        NaN   NaN    IRM        NaN         No       No   \n..          ...        ...   ...    ...        ...        ...      ...   \n678  2023-09-08        NaN   NaN    IRM        NaN         No      Yes   \n679  2023-10-26        NaN   NaN    IRM        NaN         No       No   \n680  2023-10-26        NaN   NaN    IRM        NaN         No       No   \n681  2023-10-26        NaN   NaN    IRM        NaN         No       No   \n683  2023-11-08        NaN   NaN    IRM        NaN         No       No   \n\n    need_out_ref need_tmh need_pei                note  \n0             No      Yes      Yes                 NaN  \n1             No       No      Yes                 NaN  \n4             No      Yes       No             TRW-IRM  \n10            No      Yes      Yes                 NaN  \n22            No       No      Yes              E- IRM  \n..           ...      ...      ...                 ...  \n678           No      Yes      Yes                 NaN  \n679           No      Yes      Yes                 NaN  \n680           No       No       No  تحويل لجلسة توعية   \n681           No      Yes      Yes                 NaN  \n683           No      Yes      Yes                 NaN  \n\n[232 rows x 20 columns]",
      "text/html": "<div>\n<style scoped>\n    .dataframe tbody tr th:only-of-type {\n        vertical-align: middle;\n    }\n\n    .dataframe tbody tr th {\n        vertical-align: top;\n    }\n\n    .dataframe thead th {\n        text-align: right;\n    }\n</style>\n<table border=\"1\" class=\"dataframe\">\n  <thead>\n    <tr style=\"text-align: right;\">\n      <th></th>\n      <th>scrsp</th>\n      <th>scspi</th>\n      <th>rid</th>\n      <th>firstname</th>\n      <th>lastname</th>\n      <th>sex</th>\n      <th>age</th>\n      <th>nat</th>\n      <th>sc_loc</th>\n      <th>sc_s1</th>\n      <th>pei_pre_as</th>\n      <th>sc_re</th>\n      <th>source</th>\n      <th>source_org</th>\n      <th>need_mhpss</th>\n      <th>need_trw</th>\n      <th>need_out_ref</th>\n      <th>need_tmh</th>\n      <th>need_pei</th>\n      <th>note</th>\n    </tr>\n  </thead>\n  <tbody>\n    <tr>\n      <th>0</th>\n      <td>IJ</td>\n      <td>67</td>\n      <td>R1010</td>\n      <td>احمد</td>\n      <td>الخالدي</td>\n      <td>Male</td>\n      <td>53</td>\n      <td>Syrian</td>\n      <td>SF</td>\n      <td>2023-10-19</td>\n      <td>NaN</td>\n      <td>NaN</td>\n      <td>IRM</td>\n      <td>NaN</td>\n      <td>Yes</td>\n      <td>No</td>\n      <td>No</td>\n      <td>Yes</td>\n      <td>Yes</td>\n      <td>NaN</td>\n    </tr>\n    <tr>\n      <th>1</th>\n      <td>IJ</td>\n      <td>64</td>\n      <td>R0999</td>\n      <td>امينة</td>\n      <td>الحسين</td>\n      <td>Female</td>\n      <td>39</td>\n      <td>Syrian</td>\n      <td>SF</td>\n      <td>2023-10-18</td>\n      <td>NaN</td>\n      <td>NaN</td>\n      <td>IRM</td>\n      <td>NaN</td>\n      <td>Yes</td>\n      <td>No</td>\n      <td>No</td>\n      <td>No</td>\n      <td>Yes</td>\n      <td>NaN</td>\n    </tr>\n    <tr>\n      <th>4</th>\n      <td>IJ</td>\n      <td>36</td>\n      <td>R0731</td>\n      <td>إبراهيم</td>\n      <td>عباس</td>\n      <td>Male</td>\n      <td>33</td>\n      <td>Syrian</td>\n      <td>GTZ</td>\n      <td>2023-05-22</td>\n      <td>NaN</td>\n      <td>NaN</td>\n      <td>IRM</td>\n      <td>NaN</td>\n      <td>No</td>\n      <td>Yes</td>\n      <td>No</td>\n      <td>Yes</td>\n      <td>No</td>\n      <td>TRW-IRM</td>\n    </tr>\n    <tr>\n      <th>10</th>\n      <td>IJ</td>\n      <td>69</td>\n      <td>R0702</td>\n      <td>حسن</td>\n      <td>الخلف</td>\n      <td>Male</td>\n      <td>38</td>\n      <td>Syrian</td>\n      <td>SF</td>\n      <td>2023-10-26</td>\n      <td>NaN</td>\n      <td>NaN</td>\n      <td>IRM</td>\n      <td>NaN</td>\n      <td>Yes</td>\n      <td>No</td>\n      <td>No</td>\n      <td>Yes</td>\n      <td>Yes</td>\n      <td>NaN</td>\n    </tr>\n    <tr>\n      <th>22</th>\n      <td>IJ</td>\n      <td>34</td>\n      <td>R0714</td>\n      <td>ريهام</td>\n      <td>الحبال</td>\n      <td>Female</td>\n      <td>32</td>\n      <td>Syrian</td>\n      <td>GTZ</td>\n      <td>2023-05-12</td>\n      <td>NaN</td>\n      <td>NaN</td>\n      <td>IRM</td>\n      <td>NaN</td>\n      <td>No</td>\n      <td>No</td>\n      <td>No</td>\n      <td>No</td>\n      <td>Yes</td>\n      <td>E- IRM</td>\n    </tr>\n    <tr>\n      <th>...</th>\n      <td>...</td>\n      <td>...</td>\n      <td>...</td>\n      <td>...</td>\n      <td>...</td>\n      <td>...</td>\n      <td>...</td>\n      <td>...</td>\n      <td>...</td>\n      <td>...</td>\n      <td>...</td>\n      <td>...</td>\n      <td>...</td>\n      <td>...</td>\n      <td>...</td>\n      <td>...</td>\n      <td>...</td>\n      <td>...</td>\n      <td>...</td>\n      <td>...</td>\n    </tr>\n    <tr>\n      <th>678</th>\n      <td>YQ</td>\n      <td>177</td>\n      <td>R0923</td>\n      <td>عبدالله</td>\n      <td>سلامة</td>\n      <td>Male</td>\n      <td>37</td>\n      <td>Syrian</td>\n      <td>SF</td>\n      <td>2023-09-08</td>\n      <td>NaN</td>\n      <td>NaN</td>\n      <td>IRM</td>\n      <td>NaN</td>\n      <td>No</td>\n      <td>Yes</td>\n      <td>No</td>\n      <td>Yes</td>\n      <td>Yes</td>\n      <td>NaN</td>\n    </tr>\n    <tr>\n      <th>679</th>\n      <td>YQ</td>\n      <td>178</td>\n      <td>R1035</td>\n      <td>سمر</td>\n      <td>عبيد</td>\n      <td>Female</td>\n      <td>56</td>\n      <td>Syrian</td>\n      <td>Rey</td>\n      <td>2023-10-26</td>\n      <td>NaN</td>\n      <td>NaN</td>\n      <td>IRM</td>\n      <td>NaN</td>\n      <td>No</td>\n      <td>No</td>\n      <td>No</td>\n      <td>Yes</td>\n      <td>Yes</td>\n      <td>NaN</td>\n    </tr>\n    <tr>\n      <th>680</th>\n      <td>YQ</td>\n      <td>179</td>\n      <td>R1034</td>\n      <td>خالد</td>\n      <td>زيتون</td>\n      <td>Male</td>\n      <td>52</td>\n      <td>Syrian</td>\n      <td>Rey</td>\n      <td>2023-10-26</td>\n      <td>NaN</td>\n      <td>NaN</td>\n      <td>IRM</td>\n      <td>NaN</td>\n      <td>No</td>\n      <td>No</td>\n      <td>No</td>\n      <td>No</td>\n      <td>No</td>\n      <td>تحويل لجلسة توعية</td>\n    </tr>\n    <tr>\n      <th>681</th>\n      <td>YQ</td>\n      <td>180</td>\n      <td>R1033</td>\n      <td>فادية</td>\n      <td>زيدان</td>\n      <td>Female</td>\n      <td>47</td>\n      <td>Syrian</td>\n      <td>Rey</td>\n      <td>2023-10-26</td>\n      <td>NaN</td>\n      <td>NaN</td>\n      <td>IRM</td>\n      <td>NaN</td>\n      <td>No</td>\n      <td>No</td>\n      <td>No</td>\n      <td>Yes</td>\n      <td>Yes</td>\n      <td>NaN</td>\n    </tr>\n    <tr>\n      <th>683</th>\n      <td>YQ</td>\n      <td>182</td>\n      <td>R1107</td>\n      <td>عبد القادر</td>\n      <td>الراغب</td>\n      <td>Male</td>\n      <td>34</td>\n      <td>Syrian</td>\n      <td>Rey</td>\n      <td>2023-11-08</td>\n      <td>NaN</td>\n      <td>NaN</td>\n      <td>IRM</td>\n      <td>NaN</td>\n      <td>No</td>\n      <td>No</td>\n      <td>No</td>\n      <td>Yes</td>\n      <td>Yes</td>\n      <td>NaN</td>\n    </tr>\n  </tbody>\n</table>\n<p>232 rows × 20 columns</p>\n</div>"
     },
     "execution_count": 11,
     "metadata": {},
     "output_type": "execute_result"
    }
   ],
   "source": [
    "scr_irm"
   ],
   "metadata": {
    "collapsed": false,
    "ExecuteTime": {
     "end_time": "2024-02-21T11:54:32.306937100Z",
     "start_time": "2024-02-21T11:54:32.281057600Z"
    }
   },
   "id": "7a03e91a9244b55d",
   "execution_count": 11
  },
  {
   "cell_type": "code",
   "outputs": [],
   "source": [
    "grand_ts_cross_irm = pd.merge(grand_ts, scr_irm[['rid', 'sex', 'source']], on='rid', how='left')\n",
    "grand_ts_cross_irm.to_clipboard()"
   ],
   "metadata": {
    "collapsed": false,
    "ExecuteTime": {
     "end_time": "2024-02-21T12:56:15.222783200Z",
     "start_time": "2024-02-21T12:56:15.179884500Z"
    }
   },
   "id": "ed096dc601dc60f7",
   "execution_count": 14
  },
  {
   "cell_type": "code",
   "outputs": [],
   "source": [],
   "metadata": {
    "collapsed": false
   },
   "id": "228c5421e69dd41"
  }
 ],
 "metadata": {
  "kernelspec": {
   "display_name": "Python 3",
   "language": "python",
   "name": "python3"
  },
  "language_info": {
   "codemirror_mode": {
    "name": "ipython",
    "version": 2
   },
   "file_extension": ".py",
   "mimetype": "text/x-python",
   "name": "python",
   "nbconvert_exporter": "python",
   "pygments_lexer": "ipython2",
   "version": "2.7.6"
  }
 },
 "nbformat": 4,
 "nbformat_minor": 5
}
