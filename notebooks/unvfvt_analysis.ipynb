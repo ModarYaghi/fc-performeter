{
 "cells": [
  {
   "cell_type": "code",
   "execution_count": 1,
   "id": "initial_id",
   "metadata": {
    "collapsed": true,
    "ExecuteTime": {
     "end_time": "2024-02-07T11:47:04.994013500Z",
     "start_time": "2024-02-07T11:47:02.695780400Z"
    }
   },
   "outputs": [],
   "source": [
    "import os\n",
    "import pandas as pd\n",
    "from src.all_in_one import *\n",
    "threshold = \"2022-12-31\""
   ]
  },
  {
   "cell_type": "code",
   "outputs": [],
   "source": [
    "path = os.path.join(unvfvt23, 'grandBeneficiariesEncodedPivotedUniqueDataset23.csv')\n",
    "grand = pd.read_csv(path)\n",
    "grand[['fcid', 'age']] = grand[['fcid', 'age']].astype('Int64')"
   ],
   "metadata": {
    "collapsed": false,
    "ExecuteTime": {
     "end_time": "2024-02-07T11:47:06.666635400Z",
     "start_time": "2024-02-07T11:47:06.646923300Z"
    }
   },
   "id": "e85c1f344d578490",
   "execution_count": 2
  },
  {
   "cell_type": "code",
   "outputs": [
    {
     "data": {
      "text/plain": "       rid        fcid     sex   age  int  re  gc  ic  psfua3  psfua6  ...  \\\n0    R0059  8110050007     NaN  <NA>    0   0   0   0       0       0  ...   \n1    R0061  8110020050  Female    45    0   0   0   0       0       0  ...   \n2    R0065  8110060004  Female    56    0   0   0   0       0       0  ...   \n3    R0066  8110060006  Female    55    0   0   0   0       0       0  ...   \n4    R0074  8110020054  Female    38    0   0   0   0       0       0  ...   \n..     ...         ...     ...   ...  ...  ..  ..  ..     ...     ...  ...   \n228  R1106        <NA>  Female    38    0   0   0   0       0       0  ...   \n229  R1109        <NA>  Female    43    0   0   0   0       0       0  ...   \n230  R1119        <NA>  Female    62    0   0   0   0       0       0  ...   \n231  R1133        <NA>  Female    52    0   0   0   0       0       0  ...   \n232  R1143        <NA>  Female    23    0   0   0   0       0       0  ...   \n\n     primary_torture  secondary_torture  sexual_violation_a  \\\n0                Yes                Yes                 NaN   \n1                 No                Yes                 NaN   \n2                Yes                Yes                 NaN   \n3                 No                Yes                 NaN   \n4                 No                 No                 NaN   \n..               ...                ...                 ...   \n228              Yes                Yes                  No   \n229              Yes                Yes                 Yes   \n230              Yes                 No                  No   \n231              Yes                Yes                  No   \n232               No                Yes                  No   \n\n     sexual_violation_p  hrd  journalist  wov  stgbv  lgbti  other  \n0                   NaN  NaN         NaN  Yes     No     No     No  \n1                   NaN  NaN         NaN  Yes     No     No     No  \n2                   NaN  NaN         NaN  Yes     No     No     No  \n3                   NaN  NaN         NaN  Yes     No     No     No  \n4                   NaN  NaN         NaN  Yes     No     No     No  \n..                  ...  ...         ...  ...    ...    ...    ...  \n228                 Yes   No          No  Yes     No     No    NaN  \n229                 Yes   No          No  Yes    Yes     No    NaN  \n230                 Yes   No          No  Yes     No     No    NaN  \n231                 Yes   No          No  Yes     No     No    NaN  \n232                  No   No          No  Yes     No     No    NaN  \n\n[233 rows x 32 columns]",
      "text/html": "<div>\n<style scoped>\n    .dataframe tbody tr th:only-of-type {\n        vertical-align: middle;\n    }\n\n    .dataframe tbody tr th {\n        vertical-align: top;\n    }\n\n    .dataframe thead th {\n        text-align: right;\n    }\n</style>\n<table border=\"1\" class=\"dataframe\">\n  <thead>\n    <tr style=\"text-align: right;\">\n      <th></th>\n      <th>rid</th>\n      <th>fcid</th>\n      <th>sex</th>\n      <th>age</th>\n      <th>int</th>\n      <th>re</th>\n      <th>gc</th>\n      <th>ic</th>\n      <th>psfua3</th>\n      <th>psfua6</th>\n      <th>...</th>\n      <th>primary_torture</th>\n      <th>secondary_torture</th>\n      <th>sexual_violation_a</th>\n      <th>sexual_violation_p</th>\n      <th>hrd</th>\n      <th>journalist</th>\n      <th>wov</th>\n      <th>stgbv</th>\n      <th>lgbti</th>\n      <th>other</th>\n    </tr>\n  </thead>\n  <tbody>\n    <tr>\n      <th>0</th>\n      <td>R0059</td>\n      <td>8110050007</td>\n      <td>NaN</td>\n      <td>&lt;NA&gt;</td>\n      <td>0</td>\n      <td>0</td>\n      <td>0</td>\n      <td>0</td>\n      <td>0</td>\n      <td>0</td>\n      <td>...</td>\n      <td>Yes</td>\n      <td>Yes</td>\n      <td>NaN</td>\n      <td>NaN</td>\n      <td>NaN</td>\n      <td>NaN</td>\n      <td>Yes</td>\n      <td>No</td>\n      <td>No</td>\n      <td>No</td>\n    </tr>\n    <tr>\n      <th>1</th>\n      <td>R0061</td>\n      <td>8110020050</td>\n      <td>Female</td>\n      <td>45</td>\n      <td>0</td>\n      <td>0</td>\n      <td>0</td>\n      <td>0</td>\n      <td>0</td>\n      <td>0</td>\n      <td>...</td>\n      <td>No</td>\n      <td>Yes</td>\n      <td>NaN</td>\n      <td>NaN</td>\n      <td>NaN</td>\n      <td>NaN</td>\n      <td>Yes</td>\n      <td>No</td>\n      <td>No</td>\n      <td>No</td>\n    </tr>\n    <tr>\n      <th>2</th>\n      <td>R0065</td>\n      <td>8110060004</td>\n      <td>Female</td>\n      <td>56</td>\n      <td>0</td>\n      <td>0</td>\n      <td>0</td>\n      <td>0</td>\n      <td>0</td>\n      <td>0</td>\n      <td>...</td>\n      <td>Yes</td>\n      <td>Yes</td>\n      <td>NaN</td>\n      <td>NaN</td>\n      <td>NaN</td>\n      <td>NaN</td>\n      <td>Yes</td>\n      <td>No</td>\n      <td>No</td>\n      <td>No</td>\n    </tr>\n    <tr>\n      <th>3</th>\n      <td>R0066</td>\n      <td>8110060006</td>\n      <td>Female</td>\n      <td>55</td>\n      <td>0</td>\n      <td>0</td>\n      <td>0</td>\n      <td>0</td>\n      <td>0</td>\n      <td>0</td>\n      <td>...</td>\n      <td>No</td>\n      <td>Yes</td>\n      <td>NaN</td>\n      <td>NaN</td>\n      <td>NaN</td>\n      <td>NaN</td>\n      <td>Yes</td>\n      <td>No</td>\n      <td>No</td>\n      <td>No</td>\n    </tr>\n    <tr>\n      <th>4</th>\n      <td>R0074</td>\n      <td>8110020054</td>\n      <td>Female</td>\n      <td>38</td>\n      <td>0</td>\n      <td>0</td>\n      <td>0</td>\n      <td>0</td>\n      <td>0</td>\n      <td>0</td>\n      <td>...</td>\n      <td>No</td>\n      <td>No</td>\n      <td>NaN</td>\n      <td>NaN</td>\n      <td>NaN</td>\n      <td>NaN</td>\n      <td>Yes</td>\n      <td>No</td>\n      <td>No</td>\n      <td>No</td>\n    </tr>\n    <tr>\n      <th>...</th>\n      <td>...</td>\n      <td>...</td>\n      <td>...</td>\n      <td>...</td>\n      <td>...</td>\n      <td>...</td>\n      <td>...</td>\n      <td>...</td>\n      <td>...</td>\n      <td>...</td>\n      <td>...</td>\n      <td>...</td>\n      <td>...</td>\n      <td>...</td>\n      <td>...</td>\n      <td>...</td>\n      <td>...</td>\n      <td>...</td>\n      <td>...</td>\n      <td>...</td>\n      <td>...</td>\n    </tr>\n    <tr>\n      <th>228</th>\n      <td>R1106</td>\n      <td>&lt;NA&gt;</td>\n      <td>Female</td>\n      <td>38</td>\n      <td>0</td>\n      <td>0</td>\n      <td>0</td>\n      <td>0</td>\n      <td>0</td>\n      <td>0</td>\n      <td>...</td>\n      <td>Yes</td>\n      <td>Yes</td>\n      <td>No</td>\n      <td>Yes</td>\n      <td>No</td>\n      <td>No</td>\n      <td>Yes</td>\n      <td>No</td>\n      <td>No</td>\n      <td>NaN</td>\n    </tr>\n    <tr>\n      <th>229</th>\n      <td>R1109</td>\n      <td>&lt;NA&gt;</td>\n      <td>Female</td>\n      <td>43</td>\n      <td>0</td>\n      <td>0</td>\n      <td>0</td>\n      <td>0</td>\n      <td>0</td>\n      <td>0</td>\n      <td>...</td>\n      <td>Yes</td>\n      <td>Yes</td>\n      <td>Yes</td>\n      <td>Yes</td>\n      <td>No</td>\n      <td>No</td>\n      <td>Yes</td>\n      <td>Yes</td>\n      <td>No</td>\n      <td>NaN</td>\n    </tr>\n    <tr>\n      <th>230</th>\n      <td>R1119</td>\n      <td>&lt;NA&gt;</td>\n      <td>Female</td>\n      <td>62</td>\n      <td>0</td>\n      <td>0</td>\n      <td>0</td>\n      <td>0</td>\n      <td>0</td>\n      <td>0</td>\n      <td>...</td>\n      <td>Yes</td>\n      <td>No</td>\n      <td>No</td>\n      <td>Yes</td>\n      <td>No</td>\n      <td>No</td>\n      <td>Yes</td>\n      <td>No</td>\n      <td>No</td>\n      <td>NaN</td>\n    </tr>\n    <tr>\n      <th>231</th>\n      <td>R1133</td>\n      <td>&lt;NA&gt;</td>\n      <td>Female</td>\n      <td>52</td>\n      <td>0</td>\n      <td>0</td>\n      <td>0</td>\n      <td>0</td>\n      <td>0</td>\n      <td>0</td>\n      <td>...</td>\n      <td>Yes</td>\n      <td>Yes</td>\n      <td>No</td>\n      <td>Yes</td>\n      <td>No</td>\n      <td>No</td>\n      <td>Yes</td>\n      <td>No</td>\n      <td>No</td>\n      <td>NaN</td>\n    </tr>\n    <tr>\n      <th>232</th>\n      <td>R1143</td>\n      <td>&lt;NA&gt;</td>\n      <td>Female</td>\n      <td>23</td>\n      <td>0</td>\n      <td>0</td>\n      <td>0</td>\n      <td>0</td>\n      <td>0</td>\n      <td>0</td>\n      <td>...</td>\n      <td>No</td>\n      <td>Yes</td>\n      <td>No</td>\n      <td>No</td>\n      <td>No</td>\n      <td>No</td>\n      <td>Yes</td>\n      <td>No</td>\n      <td>No</td>\n      <td>NaN</td>\n    </tr>\n  </tbody>\n</table>\n<p>233 rows × 32 columns</p>\n</div>"
     },
     "execution_count": 3,
     "metadata": {},
     "output_type": "execute_result"
    }
   ],
   "source": [
    "grand"
   ],
   "metadata": {
    "collapsed": false,
    "ExecuteTime": {
     "end_time": "2024-02-07T11:47:08.353929600Z",
     "start_time": "2024-02-07T11:47:07.989584500Z"
    }
   },
   "id": "929e3da93025b61f",
   "execution_count": 3
  },
  {
   "cell_type": "code",
   "outputs": [],
   "source": [
    "grand[grand['wov'] == 'NaN']"
   ],
   "metadata": {
    "collapsed": false
   },
   "id": "a742926ed78c62e0",
   "execution_count": null
  },
  {
   "cell_type": "code",
   "outputs": [],
   "source": [
    "grand_ts = grand[(grand['primary_torture'] == 'Yes') | (grand['secondary_torture'] == 'Yes')]\n",
    "grand_ts"
   ],
   "metadata": {
    "collapsed": false
   },
   "id": "f18e9eb7c603e48a",
   "execution_count": null
  },
  {
   "cell_type": "code",
   "outputs": [],
   "source": [
    "grand_ts = grand_ts.copy()\n",
    "bins = [0, 18, 35, 60, np.inf]\n",
    "labels = ['0-18', '19-35', '36-60', '+60']\n",
    "grand_ts['age_group'] = pd.cut(grand_ts['age'], bins=bins, labels=labels, right=False)\n",
    "\n",
    "# Step 2: Pivot table with counts and subtotal by sex\n",
    "# pivot_table = pd.pivot_table(grand_ts, index='sex', columns='age_group', values='age', aggfunc='count', fill_value=0, margins=True, margins_name='sub_total_by_sex')\n",
    "pivot_table = pd.pivot_table(grand_ts, index='sex', columns='age_group', values='age', aggfunc='count', fill_value=0, margins=True, margins_name='sub_total_by_sex', observed=False)\n",
    "\n",
    "\n",
    "# Display intermediate result\n",
    "# print(\"Pivot table with subtotals by sex:\")\n",
    "pivot_table.to_clipboard()"
   ],
   "metadata": {
    "collapsed": false
   },
   "id": "f4bd95771f35579e",
   "execution_count": null
  },
  {
   "cell_type": "code",
   "outputs": [],
   "source": [
    "grand_ts[grand_ts['journalist'] == 'Yes']"
   ],
   "metadata": {
    "collapsed": false
   },
   "id": "8d653bf6aa971cee",
   "execution_count": null
  },
  {
   "cell_type": "code",
   "outputs": [],
   "source": [],
   "metadata": {
    "collapsed": false
   },
   "id": "f76027b465d895b8"
  }
 ],
 "metadata": {
  "kernelspec": {
   "display_name": "Python 3",
   "language": "python",
   "name": "python3"
  },
  "language_info": {
   "codemirror_mode": {
    "name": "ipython",
    "version": 2
   },
   "file_extension": ".py",
   "mimetype": "text/x-python",
   "name": "python",
   "nbconvert_exporter": "python",
   "pygments_lexer": "ipython2",
   "version": "2.7.6"
  }
 },
 "nbformat": 4,
 "nbformat_minor": 5
}
