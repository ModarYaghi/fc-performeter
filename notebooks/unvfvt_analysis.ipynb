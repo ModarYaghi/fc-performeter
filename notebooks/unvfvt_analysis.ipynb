{
 "cells": [
  {
   "cell_type": "code",
   "execution_count": null,
   "id": "initial_id",
   "metadata": {
    "collapsed": true
   },
   "outputs": [],
   "source": [
    "import os\n",
    "import pandas as pd\n",
    "from src.all_in_one import *\n",
    "threshold = \"2022-12-31\""
   ]
  },
  {
   "cell_type": "code",
   "outputs": [],
   "source": [
    "path = os.path.join(unvfvt23, 'grandBeneficiariesEncodedPivotedUniqueDataset23.csv')\n",
    "grand = pd.read_csv(path)\n",
    "grand[['fcid', 'age']] = grand[['fcid', 'age']].astype('Int64')"
   ],
   "metadata": {
    "collapsed": false
   },
   "id": "e85c1f344d578490",
   "execution_count": null
  },
  {
   "cell_type": "code",
   "outputs": [],
   "source": [
    "grand"
   ],
   "metadata": {
    "collapsed": false
   },
   "id": "929e3da93025b61f",
   "execution_count": null
  },
  {
   "cell_type": "code",
   "outputs": [],
   "source": [
    "grand_ts = grand[(grand['primary_torture'] == 'Yes') | (grand['secondary_torture'] == 'Yes')]\n",
    "grand_ts"
   ],
   "metadata": {
    "collapsed": false
   },
   "id": "f18e9eb7c603e48a",
   "execution_count": null
  },
  {
   "cell_type": "code",
   "outputs": [],
   "source": [
    "dir = r'C:\\Users\\myagh\\fc-performeter\\data\\raw\\0124\\cm'\n",
    "password_dic = {'TS_FC_meetingOutreachReferralFollowUpAdvocacy.xlsx': 'Ahmed02'} \n",
    "decryptor = ExcelDecryptor(dir, password_dic)"
   ],
   "metadata": {
    "collapsed": false
   },
   "id": "a40569bc0ea6a665",
   "execution_count": null
  },
  {
   "cell_type": "code",
   "outputs": [],
   "source": [
    "sheets = decryptor.read_encrypted_excels()"
   ],
   "metadata": {
    "collapsed": false
   },
   "id": "291cbee6d056f3b9",
   "execution_count": null
  },
  {
   "cell_type": "code",
   "outputs": [],
   "source": [
    "decryptor.display_result_structure(sheets)"
   ],
   "metadata": {
    "collapsed": false
   },
   "id": "3bd882ccdd6fb081",
   "execution_count": null
  },
  {
   "cell_type": "code",
   "outputs": [],
   "source": [
    "IngoingOutgoingInternalReferral"
   ],
   "metadata": {
    "collapsed": false
   },
   "id": "de557e8b840e5bc9",
   "execution_count": null
  },
  {
   "cell_type": "code",
   "outputs": [],
   "source": [
    "# grand_ts = grand_ts.copy()\n",
    "# bins = [0, 18, 35, 60, np.inf]\n",
    "# labels = ['0-18', '19-35', '36-60', '+60']\n",
    "# grand_ts['age_group'] = pd.cut(grand_ts['age'], bins=bins, labels=labels, right=False)\n",
    "\n",
    "# Step 2: Pivot table with counts and subtotal by sex\n",
    "# pivot_table = pd.pivot_table(grand_ts, index='sex', columns='age_group', values='age', aggfunc='count', fill_value=0, margins=True, margins_name='sub_total_by_sex')\n",
    "# pivot_table = pd.pivot_table(grand_ts, index='sex', columns='age_group', values='age', aggfunc='count', fill_value=0, margins=True, margins_name='sub_total_by_sex', observed=False)\n",
    "\n",
    "\n",
    "# Display intermediate result\n",
    "# print(\"Pivot table with subtotals by sex:\")\n",
    "# pivot_table.to_clipboard()"
   ],
   "metadata": {
    "collapsed": false
   },
   "id": "f4bd95771f35579e",
   "execution_count": null
  },
  {
   "cell_type": "code",
   "outputs": [],
   "source": [
    "# grand_ts[grand_ts['journalist'] == 'Yes']"
   ],
   "metadata": {
    "collapsed": false
   },
   "id": "8d653bf6aa971cee",
   "execution_count": null
  },
  {
   "cell_type": "code",
   "outputs": [],
   "source": [],
   "metadata": {
    "collapsed": false
   },
   "id": "f76027b465d895b8"
  }
 ],
 "metadata": {
  "kernelspec": {
   "display_name": "Python 3",
   "language": "python",
   "name": "python3"
  },
  "language_info": {
   "codemirror_mode": {
    "name": "ipython",
    "version": 2
   },
   "file_extension": ".py",
   "mimetype": "text/x-python",
   "name": "python",
   "nbconvert_exporter": "python",
   "pygments_lexer": "ipython2",
   "version": "2.7.6"
  }
 },
 "nbformat": 4,
 "nbformat_minor": 5
}
