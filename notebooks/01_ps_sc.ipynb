{
 "cells": [
  {
   "cell_type": "code",
   "execution_count": 1,
   "id": "23b31bcf",
   "metadata": {},
   "outputs": [],
   "source": [
    "import sys\n",
    "sys.path.append(r'../')"
   ]
  },
  {
   "cell_type": "code",
   "execution_count": 2,
   "id": "b92db2bae10c5ca5",
   "metadata": {
    "ExecuteTime": {
     "end_time": "2023-12-14T15:36:21.602880100Z",
     "start_time": "2023-12-14T15:36:21.044474Z"
    },
    "collapsed": true
   },
   "outputs": [],
   "source": [
    "import numpy as np\n",
    "import os\n",
    "import pandas as pd"
   ]
  },
  {
   "cell_type": "code",
   "execution_count": 3,
   "id": "initial_id",
   "metadata": {
    "ExecuteTime": {
     "end_time": "2023-12-14T15:36:24.392239800Z",
     "start_time": "2023-12-14T15:36:24.236492900Z"
    },
    "collapsed": false
   },
   "outputs": [],
   "source": [
    "from src.data_reader import JSONDataReader\n",
    "from src.xlsx_decryptor import ExcelDecryptor\n",
    "# from src.myfunctions import *\n",
    "# from src.parse_funcs import *"
   ]
  },
  {
   "cell_type": "code",
   "execution_count": 4,
   "id": "8c80f1a5316103cf",
   "metadata": {
    "ExecuteTime": {
     "end_time": "2023-12-14T15:36:25.815455Z",
     "start_time": "2023-12-14T15:36:25.781074700Z"
    },
    "collapsed": false
   },
   "outputs": [],
   "source": [
    "# Avoid representing large numbers in scientific form. To reset, use the commented line.\n",
    "pd.set_option('display.float_format', '{:.1f}'.format)\n",
    "# pd.reset_option('display.float_format')\n",
    "\n",
    "# Display maximum column width:\n",
    "pd.set_option('display.max_colwidth', None)"
   ]
  },
  {
   "cell_type": "code",
   "execution_count": 5,
   "id": "b461efee9df5a326",
   "metadata": {
    "ExecuteTime": {
     "end_time": "2023-12-14T15:36:27.327459600Z",
     "start_time": "2023-12-14T15:36:27.295648200Z"
    },
    "collapsed": false
   },
   "outputs": [],
   "source": [
    "config_path = r'../config/config.json'\n",
    "raw_data = r'../data/raw/1023'"
   ]
  },
  {
   "cell_type": "code",
   "execution_count": 6,
   "id": "9f5e5ac60fb2ff18",
   "metadata": {
    "ExecuteTime": {
     "end_time": "2023-12-14T15:36:28.172896100Z",
     "start_time": "2023-12-14T15:36:28.146818300Z"
    },
    "collapsed": false
   },
   "outputs": [],
   "source": [
    "config = JSONDataReader(config_path)"
   ]
  },
  {
   "cell_type": "code",
   "execution_count": 7,
   "id": "236b6d5e7076395c",
   "metadata": {
    "ExecuteTime": {
     "end_time": "2023-12-14T15:36:29.060853Z",
     "start_time": "2023-12-14T15:36:29.016655200Z"
    },
    "collapsed": false
   },
   "outputs": [],
   "source": [
    "passwords = config.get_excel_passwords_by_directory(raw_data)"
   ]
  },
  {
   "cell_type": "code",
   "execution_count": null,
   "id": "50734db30622acae",
   "metadata": {
    "ExecuteTime": {
     "end_time": "2023-12-14T15:36:31.294199200Z",
     "start_time": "2023-12-14T15:36:31.277871900Z"
    },
    "collapsed": false
   },
   "outputs": [],
   "source": [
    "# config.get_variable_names_by_dataset_and_level('screening', 2)"
   ]
  },
  {
   "cell_type": "code",
   "execution_count": 9,
   "id": "f58ca7579d8ad976",
   "metadata": {
    "ExecuteTime": {
     "end_time": "2023-12-14T15:36:32.861926300Z",
     "start_time": "2023-12-14T15:36:32.137261600Z"
    },
    "collapsed": false
   },
   "outputs": [
    {
     "ename": "AttributeError",
     "evalue": "'JSONDataReader' object has no attribute 'get_variable_names_by_dataset'",
     "output_type": "error",
     "traceback": [
      "\u001b[1;31m---------------------------------------------------------------------------\u001b[0m",
      "\u001b[1;31mAttributeError\u001b[0m                            Traceback (most recent call last)",
      "Cell \u001b[1;32mIn[9], line 4\u001b[0m\n\u001b[0;32m      2\u001b[0m dataset \u001b[38;5;241m=\u001b[39m \u001b[38;5;124m'\u001b[39m\u001b[38;5;124mscreening\u001b[39m\u001b[38;5;124m'\u001b[39m\n\u001b[0;32m      3\u001b[0m sp \u001b[38;5;241m=\u001b[39m \u001b[38;5;124m'\u001b[39m\u001b[38;5;124mscsp\u001b[39m\u001b[38;5;124m'\u001b[39m\n\u001b[1;32m----> 4\u001b[0m columns_names \u001b[38;5;241m=\u001b[39m \u001b[43mconfig\u001b[49m\u001b[38;5;241;43m.\u001b[39;49m\u001b[43mget_variable_names_by_dataset\u001b[49m(dataset)\n\u001b[0;32m      5\u001b[0m \u001b[38;5;66;03m# basic_columns = config.get_variable_names_by_dataset_and_level(dataset, 0)\u001b[39;00m\n\u001b[0;32m      6\u001b[0m \u001b[38;5;66;03m# date_columns = config.get_variable_names_by_dataset_and_type(dataset, 'datetime64[ns]')\u001b[39;00m\n\u001b[0;32m      7\u001b[0m \u001b[38;5;66;03m# int_columns = config.get_variable_names_by_dataset_and_type(dataset, 'Int64')\u001b[39;00m\n\u001b[0;32m      8\u001b[0m \u001b[38;5;66;03m# to_service = config.get_variable_names_by_dataset_and_level(dataset, 2)\u001b[39;00m\n",
      "\u001b[1;31mAttributeError\u001b[0m: 'JSONDataReader' object has no attribute 'get_variable_names_by_dataset'"
     ]
    }
   ],
   "source": [
    "sheet = 'Scr'\n",
    "dataset = 'screening'\n",
    "sp = 'scsp'\n",
    "columns_names = config.get_variable_names_by_dataset(dataset)\n",
    "# basic_columns = config.get_variable_names_by_dataset_and_level(dataset, 0)\n",
    "# date_columns = config.get_variable_names_by_dataset_and_type(dataset, 'datetime64[ns]')\n",
    "# int_columns = config.get_variable_names_by_dataset_and_type(dataset, 'Int64')\n",
    "# to_service = config.get_variable_names_by_dataset_and_level(dataset, 2)"
   ]
  },
  {
   "cell_type": "code",
   "execution_count": null,
   "id": "7354607880f0af2c",
   "metadata": {
    "ExecuteTime": {
     "end_time": "2023-12-14T15:36:42.555022600Z",
     "start_time": "2023-12-14T15:36:42.496862400Z"
    },
    "collapsed": false
   },
   "outputs": [],
   "source": [
    "config.get_variables_by_dataset(sheet)"
   ]
  },
  {
   "cell_type": "code",
   "execution_count": null,
   "id": "e8c9bfef1912ab73",
   "metadata": {
    "ExecuteTime": {
     "end_time": "2023-12-12T08:46:37.433110Z",
     "start_time": "2023-12-12T08:46:25.956074600Z"
    },
    "collapsed": false
   },
   "outputs": [],
   "source": [
    "decryptor = ExcelDecryptor(raw_data, passwords)\n",
    "tracking_tools = decryptor.read_encrypted_excels()"
   ]
  },
  {
   "cell_type": "code",
   "execution_count": null,
   "id": "9ec3fbe52277e86d",
   "metadata": {
    "collapsed": false
   },
   "outputs": [],
   "source": [
    "decryptor.print_data_structure"
   ]
  },
  {
   "cell_type": "markdown",
   "id": "8c639615038c5e90",
   "metadata": {
    "collapsed": false
   },
   "source": [
    "# Process Screening Sheets"
   ]
  },
  {
   "cell_type": "code",
   "execution_count": null,
   "id": "8f8dc7451d6c34fe",
   "metadata": {
    "collapsed": false
   },
   "outputs": [],
   "source": [
    "yq = tracking_tools['tt_psc_YQ-v04.xlsx'][sheet]"
   ]
  },
  {
   "cell_type": "code",
   "execution_count": null,
   "id": "4ee93170aebccde1",
   "metadata": {
    "collapsed": false
   },
   "outputs": [],
   "source": [
    "yq.columns = columns_names\n",
    "yq = yq.drop(yq.index[0]).reset_index(drop=True)\n",
    "yq.dropna(subset=basic_columns, how='all', inplace=True)\n",
    "yq.insert(0, sp, 'YQ')"
   ]
  },
  {
   "cell_type": "code",
   "execution_count": null,
   "id": "68dd5131a61a1ded",
   "metadata": {
    "collapsed": false
   },
   "outputs": [],
   "source": [
    "sa = tracking_tools['tt_psc_SA_v04.xlsx'][sheet]"
   ]
  },
  {
   "cell_type": "code",
   "execution_count": null,
   "id": "5a3b4eec53bb9174",
   "metadata": {
    "collapsed": false
   },
   "outputs": [],
   "source": [
    "sa.columns = columns_names\n",
    "sa = sa.drop(sa.index[0]).reset_index(drop=True)\n",
    "sa.dropna(subset=basic_columns, how='all', inplace=True)\n",
    "sa.insert(0, sp, 'SA')"
   ]
  },
  {
   "cell_type": "code",
   "execution_count": null,
   "id": "1e8595d18482f1f3",
   "metadata": {
    "collapsed": false
   },
   "outputs": [],
   "source": [
    "ij = tracking_tools['tt_psc_IJ_v04.xlsx'][sheet]"
   ]
  },
  {
   "cell_type": "code",
   "execution_count": null,
   "id": "3bd96196e3d6822c",
   "metadata": {
    "collapsed": false
   },
   "outputs": [],
   "source": [
    "ij.columns = columns_names\n",
    "ij = ij.drop(ij.index[0]).reset_index(drop=True)\n",
    "ij.dropna(subset=basic_columns, how='all', inplace=True)\n",
    "ij.insert(0, sp, 'IJ')"
   ]
  },
  {
   "cell_type": "code",
   "execution_count": null,
   "id": "d41df84c770894a3",
   "metadata": {
    "collapsed": false
   },
   "outputs": [],
   "source": [
    "la = tracking_tools['tt_psc_LA_v04.xlsx'][sheet]"
   ]
  },
  {
   "cell_type": "code",
   "execution_count": null,
   "id": "63c0162eacbb8144",
   "metadata": {
    "collapsed": false
   },
   "outputs": [],
   "source": [
    "la.columns = columns_names\n",
    "la = la.drop(la.index[0]).reset_index(drop=True)\n",
    "la.dropna(subset=basic_columns, how='all', inplace=True)\n",
    "la.insert(0, sp, 'LA')"
   ]
  },
  {
   "cell_type": "code",
   "execution_count": null,
   "id": "6a01e4a0f45ca910",
   "metadata": {
    "collapsed": false
   },
   "outputs": [],
   "source": [
    "mt = tracking_tools['tt_psc_MT_v04.xlsx'][sheet]"
   ]
  },
  {
   "cell_type": "code",
   "execution_count": null,
   "id": "ae7aae6c017ac6ed",
   "metadata": {
    "collapsed": false
   },
   "outputs": [],
   "source": [
    "mt.columns = columns_names\n",
    "mt = mt.drop(mt.index[0]).reset_index(drop=True)\n",
    "mt.dropna(subset=basic_columns, how='all', inplace=True)\n",
    "mt.insert(0, sp, 'MT')"
   ]
  },
  {
   "cell_type": "code",
   "execution_count": null,
   "id": "a81d63c63660ed15",
   "metadata": {
    "collapsed": false
   },
   "outputs": [],
   "source": [
    "scr_rows = mt.shape[0] + yq.shape[0] + sa.shape[0] + ij.shape[0] + la.shape[0]\n",
    "scr_rows"
   ]
  },
  {
   "cell_type": "code",
   "execution_count": null,
   "id": "3d29102e95f7a7c1",
   "metadata": {
    "collapsed": false
   },
   "outputs": [],
   "source": [
    "screening = pd.concat([yq, sa, ij, la, mt], ignore_index=True)"
   ]
  },
  {
   "cell_type": "code",
   "execution_count": null,
   "id": "b8d659dbdde6e6c8",
   "metadata": {
    "collapsed": false
   },
   "outputs": [],
   "source": [
    "screening"
   ]
  },
  {
   "cell_type": "code",
   "execution_count": null,
   "id": "7dd95e1f50aec0b0",
   "metadata": {
    "collapsed": false
   },
   "outputs": [],
   "source": [
    "# screening.to_csv(r'../1023/01/pssc_1023.csv', index=False)\n",
    "screening = pd.read_csv(r'../1023/01/pssc_1023.csv')\n",
    "screening"
   ]
  },
  {
   "cell_type": "code",
   "execution_count": null,
   "id": "cd0a4b4f3015bf95",
   "metadata": {
    "collapsed": false
   },
   "outputs": [],
   "source": [
    "screening[screening['rid'] == 'R0486']\n",
    "# screening.loc[screening['rid'] == 'R0486', 'sex'] = 'Male'\n"
   ]
  },
  {
   "cell_type": "markdown",
   "id": "fedb3ff0b3100080",
   "metadata": {
    "collapsed": false
   },
   "source": [
    "# Screening Dataframe"
   ]
  },
  {
   "cell_type": "code",
   "execution_count": null,
   "id": "612836ac6634ed4c",
   "metadata": {
    "collapsed": false
   },
   "outputs": [],
   "source": [
    "scr_data = pd.read_csv(r'../Data/Processed/1023/pssc_1023.csv')\n",
    "# scr_data = scr_data.applymap(lambda x: x.strip() if isinstance(x, str) else x)"
   ]
  },
  {
   "cell_type": "code",
   "execution_count": null,
   "id": "e951ed3443bd832a",
   "metadata": {
    "collapsed": false
   },
   "outputs": [],
   "source": [
    "scr_data.shape"
   ]
  },
  {
   "cell_type": "code",
   "execution_count": null,
   "id": "5fcd942a6a2fd4e4",
   "metadata": {
    "collapsed": false
   },
   "outputs": [],
   "source": [
    "scr_data.info()"
   ]
  },
  {
   "cell_type": "code",
   "execution_count": null,
   "id": "4c7f83a24a795c0c",
   "metadata": {
    "collapsed": false
   },
   "outputs": [],
   "source": [
    "scr_data"
   ]
  },
  {
   "cell_type": "code",
   "execution_count": null,
   "id": "19994b5ee52b0d3c",
   "metadata": {
    "collapsed": false
   },
   "outputs": [],
   "source": [
    "# browsing 'referral_source' and 'referring_organization' unique values\n",
    "scr_data[['srs', 'srsorg']].drop_duplicates()"
   ]
  },
  {
   "cell_type": "code",
   "execution_count": null,
   "id": "b7b58c6a2984dcd9",
   "metadata": {
    "collapsed": false
   },
   "outputs": [],
   "source": [
    "# mapping 'referral_source' and 'referring organization' values\n",
    "values_to_replace = {\n",
    "    'srs': {\n",
    "        'ADMSP beneficiary (current or former)': 'ADMSP_Beneficiary',\n",
    "        'Social Media': 'Social_Media',\n",
    "        'I/NGO or humanitarian organization': 'NGO',\n",
    "        'Outreach session': 'Outreach_Session',\n",
    "        'Family member or friend': 'Family_or_Friend',\n",
    "        'ADMSP member': 'ADMSP_Member',\n",
    "        'outreach session': 'Outreach_Session',\n",
    "    },\n",
    "    'srsorg': {\n",
    "        'تعافي': 'Taafe',\n",
    "        'عائلات من أجل الحرية': 'FFF',\n",
    "        'جمعية الحياة': 'ALHAYAT',\n",
    "        'سامز': 'SAMS',\n",
    "        'جلسة تعريفية لفريق الرابطة في الآيدا': 'IDA',\n",
    "        'جلسة توعية في مركز العائلة': 'FC'\n",
    "    }\n",
    "}\n",
    "\n",
    "scr_data.replace(values_to_replace, inplace=True)"
   ]
  },
  {
   "cell_type": "code",
   "execution_count": null,
   "id": "24bbf3df5120d5dd",
   "metadata": {
    "collapsed": false
   },
   "outputs": [],
   "source": [
    "# fill missing values in 'referring_organization' based on values in 'referral_source'\n",
    "mapping_values = {\n",
    "    'ADMSP_Beneficiary': 'NA_',\n",
    "    'Social_Media': 'NA_',\n",
    "    'Family_or_Friend': 'NA_',\n",
    "    'ADMSP_Member': 'NA_',\n",
    "    'IRM': 'NA_',\n",
    "}\n",
    "\n",
    "# Filter values in 'srs' that are keys in mapping_values dictionary\n",
    "filter_values = scr_data['srs'][scr_data['srs'].isin(mapping_values.keys())]\n",
    "# Replace values in this filtered set using mapping_values dictionary\n",
    "replace_values = filter_values.replace(mapping_values)\n",
    "# Fill NaN values in the 'srsorg' column with the replaced values\n",
    "scr_data['srsorg'] = scr_data['srsorg'].fillna(replace_values)"
   ]
  },
  {
   "cell_type": "code",
   "execution_count": null,
   "id": "1f2a13d852a4c98b",
   "metadata": {
    "collapsed": false
   },
   "outputs": [],
   "source": [
    "scr_data"
   ]
  },
  {
   "cell_type": "code",
   "execution_count": null,
   "id": "c519f002d0eb606a",
   "metadata": {
    "collapsed": false
   },
   "outputs": [],
   "source": [
    "scr_data[int_columns] = scr_data[int_columns].astype('Int64')\n",
    "scr_data[date_columns] = scr_data[date_columns].apply(pd.to_datetime)"
   ]
  },
  {
   "cell_type": "code",
   "execution_count": null,
   "id": "34082293d52604f",
   "metadata": {
    "collapsed": false
   },
   "outputs": [],
   "source": [
    "# scr_data.to_csv(r'010/0000_ps_sc_092301.csv', index=False)\n",
    "# scr.to_csv(r'010/0000_ps_sc_092301.csv', index=False)\n",
    "scr = pd.read_csv(r'010/0000_ps_sc_092301.csv')\n",
    "# scr.loc[scr['rid'] == 'R0486', 'sex'] = 'Male'\n",
    "scr[scr['rid'] == 'R0486']\n"
   ]
  },
  {
   "cell_type": "markdown",
   "id": "c92fab732b5bb432",
   "metadata": {
    "collapsed": false
   },
   "source": [
    "# Screening Analysis Version"
   ]
  },
  {
   "cell_type": "code",
   "execution_count": null,
   "id": "a20bd72d35ca8328",
   "metadata": {
    "collapsed": false
   },
   "outputs": [],
   "source": [
    "scr = pd.read_csv(r'010/0000_ps_sc_092301.csv')"
   ]
  },
  {
   "cell_type": "code",
   "execution_count": null,
   "id": "f5c8b275f7d8a4dd",
   "metadata": {
    "collapsed": false
   },
   "outputs": [],
   "source": [
    "scr"
   ]
  },
  {
   "cell_type": "code",
   "execution_count": null,
   "id": "274d639c1383b381",
   "metadata": {
    "collapsed": false
   },
   "outputs": [],
   "source": [
    "scr[date_columns] = scr[date_columns].apply(pd.to_datetime)\n",
    "scr[int_columns] = scr[int_columns].astype('Int64')\n"
   ]
  },
  {
   "cell_type": "code",
   "execution_count": null,
   "id": "5257a018824b0abe",
   "metadata": {
    "collapsed": false
   },
   "outputs": [],
   "source": [
    "scr.info()"
   ]
  },
  {
   "cell_type": "code",
   "execution_count": null,
   "id": "8e400da81dd5dfac",
   "metadata": {
    "collapsed": false
   },
   "outputs": [],
   "source": [
    "scr"
   ]
  },
  {
   "cell_type": "code",
   "execution_count": null,
   "id": "42a110f67868dcc5",
   "metadata": {
    "collapsed": false
   },
   "outputs": [],
   "source": [
    "scr['firstname'].replace('\\\\', None, inplace=True)\n",
    "scr.loc[scr['scloc'] == 'GTZ', 'scloc'] = 'GZT'\n"
   ]
  },
  {
   "cell_type": "code",
   "execution_count": null,
   "id": "750cb03047eb9d1f",
   "metadata": {
    "collapsed": false
   },
   "outputs": [],
   "source": [
    "scr"
   ]
  },
  {
   "cell_type": "code",
   "execution_count": null,
   "id": "18317ed83cf2f54d",
   "metadata": {
    "collapsed": false
   },
   "outputs": [],
   "source": [
    "# Dataset before 2023 has no variable for the location of the activity, 'scloc', since all activities implemented in GZT. \n",
    "condition = (\n",
    "    ((scr['sc1'] < '2023-01-01') | scr['sc1'].isna()) &\n",
    "    ((scr['sc2'] < '2023-01-01') | scr['sc2'].isna()) &\n",
    "    ((scr['scre'] < '2023-01-01') | scr['scre'].isna())\n",
    ")\n",
    "\n",
    "scr.loc[condition & scr['scloc'].isna(), 'scloc'] = 'GZT'\n"
   ]
  },
  {
   "cell_type": "code",
   "execution_count": null,
   "id": "93883aa274c2ba33",
   "metadata": {
    "collapsed": false
   },
   "outputs": [],
   "source": [
    "# Encoding binary variables\n",
    "scr['sex'] = scr['sex'].replace({\n",
    "    'Female': 1,\n",
    "    'Male': 2\n",
    "}).astype('Int64')"
   ]
  },
  {
   "cell_type": "code",
   "execution_count": null,
   "id": "ae0c8ccd03150a9b",
   "metadata": {
    "collapsed": false
   },
   "outputs": [],
   "source": [
    "scr[to_service] = scr[to_service].replace({\n",
    "    'Yes': 1,\n",
    "    'No': 0\n",
    "}).astype('Int64')"
   ]
  },
  {
   "cell_type": "code",
   "execution_count": null,
   "id": "1b4c15135e598086",
   "metadata": {
    "collapsed": false
   },
   "outputs": [],
   "source": [
    "if 'sert' not in scr.columns:\n",
    "    scr.insert(19, 'sert', scr[to_service].sum(axis=1))"
   ]
  },
  {
   "cell_type": "code",
   "execution_count": null,
   "id": "eed621e6a708b7fa",
   "metadata": {
    "collapsed": false
   },
   "outputs": [],
   "source": [
    "scr.info()"
   ]
  },
  {
   "cell_type": "code",
   "execution_count": null,
   "id": "fa049ede236c9019",
   "metadata": {
    "collapsed": false
   },
   "outputs": [],
   "source": [
    "# Screening Analysis Complete Dataframe \n",
    "scr.to_csv(r'010/0000_ps_sc_092302.csv', index=False)"
   ]
  },
  {
   "cell_type": "code",
   "execution_count": null,
   "id": "4a2238d3f2b1c5af",
   "metadata": {
    "collapsed": false
   },
   "outputs": [],
   "source": [
    "# Screening Analysis Basic Dataframe (this dataframe for analysis work - without unnecessary variables)\n",
    "basic_scr = scr.copy()\n",
    "basic_scr = basic_scr.drop(columns=['firstname', 'lastname', 'nat', 'not'])\n",
    "basic_scr.to_csv(r'011/0000_ps_sc_092310.csv', index=False)\n"
   ]
  },
  {
   "cell_type": "markdown",
   "id": "c5743db46605af9d",
   "metadata": {
    "collapsed": false
   },
   "source": [
    "### SCREENING DATA IS READY"
   ]
  }
 ],
 "metadata": {
  "kernelspec": {
   "display_name": "Python 3",
   "language": "python",
   "name": "python3"
  },
  "language_info": {
   "codemirror_mode": {
    "name": "ipython",
    "version": 3
   },
   "file_extension": ".py",
   "mimetype": "text/x-python",
   "name": "python",
   "nbconvert_exporter": "python",
   "pygments_lexer": "ipython3",
   "version": "3.12.0"
  }
 },
 "nbformat": 4,
 "nbformat_minor": 5
}
