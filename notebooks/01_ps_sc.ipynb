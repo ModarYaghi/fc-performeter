{
 "cells": [
  {
   "cell_type": "code",
   "execution_count": 1,
   "id": "b92db2bae10c5ca5",
   "metadata": {
    "collapsed": true,
    "ExecuteTime": {
     "end_time": "2023-12-12T08:45:35.106068800Z",
     "start_time": "2023-12-12T08:45:34.256312300Z"
    }
   },
   "outputs": [],
   "source": [
    "import numpy as np\n",
    "import os\n",
    "import pandas as pd"
   ]
  },
  {
   "cell_type": "code",
   "execution_count": 2,
   "outputs": [],
   "source": [
    "from src.data_reader import JSONDataReader\n",
    "from src.xlsx_decryptor import ExcelDecryptor\n",
    "# from src.myfunctions import *\n",
    "# from src.parse_funcs import *"
   ],
   "metadata": {
    "collapsed": false,
    "ExecuteTime": {
     "end_time": "2023-12-12T08:45:37.049775800Z",
     "start_time": "2023-12-12T08:45:36.916108800Z"
    }
   },
   "id": "initial_id"
  },
  {
   "cell_type": "code",
   "execution_count": 3,
   "outputs": [],
   "source": [
    "# Avoid representing large numbers in scientific form. To reset, use the commented line.\n",
    "pd.set_option('display.float_format', '{:.1f}'.format)\n",
    "# pd.reset_option('display.float_format')\n",
    "\n",
    "# Display maximum column width:\n",
    "pd.set_option('display.max_colwidth', None)"
   ],
   "metadata": {
    "collapsed": false,
    "ExecuteTime": {
     "end_time": "2023-12-12T08:45:37.857184400Z",
     "start_time": "2023-12-12T08:45:37.820876100Z"
    }
   },
   "id": "8c80f1a5316103cf"
  },
  {
   "cell_type": "code",
   "execution_count": 4,
   "outputs": [],
   "source": [
    "config_path = r'../config/config.json'\n",
    "raw_data = r'../data/raw/1023'"
   ],
   "metadata": {
    "collapsed": false,
    "ExecuteTime": {
     "end_time": "2023-12-12T08:45:38.716034200Z",
     "start_time": "2023-12-12T08:45:38.681313700Z"
    }
   },
   "id": "b461efee9df5a326"
  },
  {
   "cell_type": "code",
   "execution_count": 5,
   "outputs": [],
   "source": [
    "config = JSONDataReader(config_path)"
   ],
   "metadata": {
    "collapsed": false,
    "ExecuteTime": {
     "end_time": "2023-12-12T08:45:39.646049100Z",
     "start_time": "2023-12-12T08:45:39.552652200Z"
    }
   },
   "id": "9f5e5ac60fb2ff18"
  },
  {
   "cell_type": "code",
   "execution_count": 6,
   "outputs": [],
   "source": [
    "passwords = config.get_excel_passwords_by_directory(raw_data)"
   ],
   "metadata": {
    "collapsed": false,
    "ExecuteTime": {
     "end_time": "2023-12-12T08:45:47.026109700Z",
     "start_time": "2023-12-12T08:45:47.016190500Z"
    }
   },
   "id": "236b6d5e7076395c"
  },
  {
   "cell_type": "code",
   "execution_count": 7,
   "outputs": [
    {
     "ename": "AttributeError",
     "evalue": "'JSONDataReader' object has no attribute 'get_variable_names_by_dataset_and_level'",
     "output_type": "error",
     "traceback": [
      "\u001B[1;31m---------------------------------------------------------------------------\u001B[0m",
      "\u001B[1;31mAttributeError\u001B[0m                            Traceback (most recent call last)",
      "Cell \u001B[1;32mIn[7], line 1\u001B[0m\n\u001B[1;32m----> 1\u001B[0m \u001B[43mconfig\u001B[49m\u001B[38;5;241;43m.\u001B[39;49m\u001B[43mget_variable_names_by_dataset_and_level\u001B[49m(\u001B[38;5;124m'\u001B[39m\u001B[38;5;124mscreening\u001B[39m\u001B[38;5;124m'\u001B[39m, \u001B[38;5;241m2\u001B[39m)\n",
      "\u001B[1;31mAttributeError\u001B[0m: 'JSONDataReader' object has no attribute 'get_variable_names_by_dataset_and_level'"
     ]
    }
   ],
   "source": [
    "config.get_variable_names_by_dataset_and_level('screening', 2)"
   ],
   "metadata": {
    "collapsed": false,
    "ExecuteTime": {
     "end_time": "2023-12-12T08:45:58.141049600Z",
     "start_time": "2023-12-12T08:45:57.426013100Z"
    }
   },
   "id": "50734db30622acae"
  },
  {
   "cell_type": "code",
   "execution_count": 8,
   "outputs": [
    {
     "ename": "AttributeError",
     "evalue": "'JSONDataReader' object has no attribute 'get_variable_names_by_dataset'",
     "output_type": "error",
     "traceback": [
      "\u001B[1;31m---------------------------------------------------------------------------\u001B[0m",
      "\u001B[1;31mAttributeError\u001B[0m                            Traceback (most recent call last)",
      "Cell \u001B[1;32mIn[8], line 4\u001B[0m\n\u001B[0;32m      2\u001B[0m dataset \u001B[38;5;241m=\u001B[39m \u001B[38;5;124m'\u001B[39m\u001B[38;5;124mscreening\u001B[39m\u001B[38;5;124m'\u001B[39m\n\u001B[0;32m      3\u001B[0m sp \u001B[38;5;241m=\u001B[39m \u001B[38;5;124m'\u001B[39m\u001B[38;5;124mscsp\u001B[39m\u001B[38;5;124m'\u001B[39m\n\u001B[1;32m----> 4\u001B[0m columns_names \u001B[38;5;241m=\u001B[39m \u001B[43mconfig\u001B[49m\u001B[38;5;241;43m.\u001B[39;49m\u001B[43mget_variable_names_by_dataset\u001B[49m(dataset)\n\u001B[0;32m      5\u001B[0m basic_columns \u001B[38;5;241m=\u001B[39m config\u001B[38;5;241m.\u001B[39mget_variable_names_by_dataset_and_level(dataset, \u001B[38;5;241m0\u001B[39m)\n\u001B[0;32m      6\u001B[0m date_columns \u001B[38;5;241m=\u001B[39m config\u001B[38;5;241m.\u001B[39mget_variable_names_by_dataset_and_type(dataset, \u001B[38;5;124m'\u001B[39m\u001B[38;5;124mdatetime64[ns]\u001B[39m\u001B[38;5;124m'\u001B[39m)\n",
      "\u001B[1;31mAttributeError\u001B[0m: 'JSONDataReader' object has no attribute 'get_variable_names_by_dataset'"
     ]
    }
   ],
   "source": [
    "sheet = 'Scr'\n",
    "dataset = 'screening'\n",
    "sp = 'scsp'\n",
    "columns_names = config.get_variable_names_by_dataset(dataset)\n",
    "basic_columns = config.get_variable_names_by_dataset_and_level(dataset, 0)\n",
    "date_columns = config.get_variable_names_by_dataset_and_type(dataset, 'datetime64[ns]')\n",
    "int_columns = config.get_variable_names_by_dataset_and_type(dataset, 'Int64')\n",
    "to_service = config.get_variable_names_by_dataset_and_level(dataset, 2)"
   ],
   "metadata": {
    "collapsed": false,
    "ExecuteTime": {
     "end_time": "2023-12-12T08:45:59.570961800Z",
     "start_time": "2023-12-12T08:45:59.546143200Z"
    }
   },
   "id": "f58ca7579d8ad976"
  },
  {
   "cell_type": "code",
   "execution_count": 9,
   "outputs": [
    {
     "data": {
      "text/plain": "[{'var': 'scspi', 'type': 'Int64', 'level': 1},\n {'var': 'rid', 'type': 'StringDtype', 'level': 0},\n {'var': 'firstname', 'type': 'StringDtype', 'level': 0},\n {'var': 'lastname', 'type': 'StringDtype', 'level': 0},\n {'var': 'sex', 'type': 'boolean', 'level': 1},\n {'var': 'age', 'type': 'Int64', 'level': 1},\n {'var': 'nat', 'type': 'category', 'level': 3},\n {'var': 'sc_loc', 'type': 'category', 'level': 1},\n {'var': 'sc_s1', 'type': 'datetime64[ns]', 'level': 0},\n {'var': 'pei_pre_as', 'type': 'datetime64[ns]', 'level': 0},\n {'var': 'sc_re', 'type': 'datetime64[ns]', 'level': 0},\n {'var': 'source', 'type': 'category', 'level': 1},\n {'var': 'source_org', 'type': 'category', 'level': 1},\n {'var': 'need_mhpss', 'type': 'boolean', 'level': 2},\n {'var': 'need_trw', 'type': 'boolean', 'level': 2},\n {'var': 'need_out_ref', 'type': 'boolean', 'level': 2},\n {'var': 'need_tmh', 'type': 'boolean', 'level': 2},\n {'var': 'need_pei', 'type': 'boolean', 'level': 2},\n {'var': 'note', 'type': 'StringDtype', 'level': 3}]"
     },
     "execution_count": 9,
     "metadata": {},
     "output_type": "execute_result"
    }
   ],
   "source": [
    "config.get_variables_by_dataset(sheet)"
   ],
   "metadata": {
    "collapsed": false,
    "ExecuteTime": {
     "end_time": "2023-12-12T08:46:03.596371400Z",
     "start_time": "2023-12-12T08:46:03.576397200Z"
    }
   },
   "id": "7354607880f0af2c"
  },
  {
   "cell_type": "code",
   "execution_count": 10,
   "outputs": [
    {
     "name": "stderr",
     "output_type": "stream",
     "text": [
      "Processing: 100%|██████████| 10/10 [00:11<00:00,  1.14s/it]\n"
     ]
    }
   ],
   "source": [
    "decryptor = ExcelDecryptor(raw_data, passwords)\n",
    "tracking_tools = decryptor.read_encrypted_excels()"
   ],
   "metadata": {
    "collapsed": false,
    "ExecuteTime": {
     "end_time": "2023-12-12T08:46:37.433110Z",
     "start_time": "2023-12-12T08:46:25.956074600Z"
    }
   },
   "id": "e8c9bfef1912ab73"
  },
  {
   "cell_type": "code",
   "execution_count": null,
   "outputs": [],
   "source": [
    "decryptor.print_data_structure"
   ],
   "metadata": {
    "collapsed": false
   },
   "id": "9ec3fbe52277e86d"
  },
  {
   "cell_type": "markdown",
   "source": [
    "# Process Screening Sheets"
   ],
   "metadata": {
    "collapsed": false
   },
   "id": "8c639615038c5e90"
  },
  {
   "cell_type": "code",
   "execution_count": null,
   "outputs": [],
   "source": [
    "yq = tracking_tools['tt_psc_YQ-v04.xlsx'][sheet]"
   ],
   "metadata": {
    "collapsed": false
   },
   "id": "8f8dc7451d6c34fe"
  },
  {
   "cell_type": "code",
   "execution_count": null,
   "outputs": [],
   "source": [
    "yq.columns = columns_names\n",
    "yq = yq.drop(yq.index[0]).reset_index(drop=True)\n",
    "yq.dropna(subset=basic_columns, how='all', inplace=True)\n",
    "yq.insert(0, sp, 'YQ')"
   ],
   "metadata": {
    "collapsed": false
   },
   "id": "4ee93170aebccde1"
  },
  {
   "cell_type": "code",
   "execution_count": null,
   "outputs": [],
   "source": [
    "sa = tracking_tools['tt_psc_SA_v04.xlsx'][sheet]"
   ],
   "metadata": {
    "collapsed": false
   },
   "id": "68dd5131a61a1ded"
  },
  {
   "cell_type": "code",
   "execution_count": null,
   "outputs": [],
   "source": [
    "sa.columns = columns_names\n",
    "sa = sa.drop(sa.index[0]).reset_index(drop=True)\n",
    "sa.dropna(subset=basic_columns, how='all', inplace=True)\n",
    "sa.insert(0, sp, 'SA')"
   ],
   "metadata": {
    "collapsed": false
   },
   "id": "5a3b4eec53bb9174"
  },
  {
   "cell_type": "code",
   "execution_count": null,
   "outputs": [],
   "source": [
    "ij = tracking_tools['tt_psc_IJ_v04.xlsx'][sheet]"
   ],
   "metadata": {
    "collapsed": false
   },
   "id": "1e8595d18482f1f3"
  },
  {
   "cell_type": "code",
   "execution_count": null,
   "outputs": [],
   "source": [
    "ij.columns = columns_names\n",
    "ij = ij.drop(ij.index[0]).reset_index(drop=True)\n",
    "ij.dropna(subset=basic_columns, how='all', inplace=True)\n",
    "ij.insert(0, sp, 'IJ')"
   ],
   "metadata": {
    "collapsed": false
   },
   "id": "3bd96196e3d6822c"
  },
  {
   "cell_type": "code",
   "execution_count": null,
   "outputs": [],
   "source": [
    "la = tracking_tools['tt_psc_LA_v04.xlsx'][sheet]"
   ],
   "metadata": {
    "collapsed": false
   },
   "id": "d41df84c770894a3"
  },
  {
   "cell_type": "code",
   "execution_count": null,
   "outputs": [],
   "source": [
    "la.columns = columns_names\n",
    "la = la.drop(la.index[0]).reset_index(drop=True)\n",
    "la.dropna(subset=basic_columns, how='all', inplace=True)\n",
    "la.insert(0, sp, 'LA')"
   ],
   "metadata": {
    "collapsed": false
   },
   "id": "63c0162eacbb8144"
  },
  {
   "cell_type": "code",
   "execution_count": null,
   "outputs": [],
   "source": [
    "mt = tracking_tools['tt_psc_MT_v04.xlsx'][sheet]"
   ],
   "metadata": {
    "collapsed": false
   },
   "id": "6a01e4a0f45ca910"
  },
  {
   "cell_type": "code",
   "execution_count": null,
   "outputs": [],
   "source": [
    "mt.columns = columns_names\n",
    "mt = mt.drop(mt.index[0]).reset_index(drop=True)\n",
    "mt.dropna(subset=basic_columns, how='all', inplace=True)\n",
    "mt.insert(0, sp, 'MT')"
   ],
   "metadata": {
    "collapsed": false
   },
   "id": "ae7aae6c017ac6ed"
  },
  {
   "cell_type": "code",
   "execution_count": null,
   "outputs": [],
   "source": [
    "scr_rows = mt.shape[0] + yq.shape[0] + sa.shape[0] + ij.shape[0] + la.shape[0]\n",
    "scr_rows"
   ],
   "metadata": {
    "collapsed": false
   },
   "id": "a81d63c63660ed15"
  },
  {
   "cell_type": "code",
   "execution_count": null,
   "outputs": [],
   "source": [
    "screening = pd.concat([yq, sa, ij, la, mt], ignore_index=True)"
   ],
   "metadata": {
    "collapsed": false
   },
   "id": "3d29102e95f7a7c1"
  },
  {
   "cell_type": "code",
   "execution_count": null,
   "outputs": [],
   "source": [
    "screening"
   ],
   "metadata": {
    "collapsed": false
   },
   "id": "b8d659dbdde6e6c8"
  },
  {
   "cell_type": "code",
   "execution_count": null,
   "outputs": [],
   "source": [
    "# screening.to_csv(r'../1023/01/pssc_1023.csv', index=False)\n",
    "screening = pd.read_csv(r'../1023/01/pssc_1023.csv')\n",
    "screening"
   ],
   "metadata": {
    "collapsed": false
   },
   "id": "7dd95e1f50aec0b0"
  },
  {
   "cell_type": "code",
   "execution_count": null,
   "outputs": [],
   "source": [
    "screening[screening['rid'] == 'R0486']\n",
    "# screening.loc[screening['rid'] == 'R0486', 'sex'] = 'Male'\n"
   ],
   "metadata": {
    "collapsed": false
   },
   "id": "cd0a4b4f3015bf95"
  },
  {
   "cell_type": "markdown",
   "source": [
    "# Screening Dataframe"
   ],
   "metadata": {
    "collapsed": false
   },
   "id": "fedb3ff0b3100080"
  },
  {
   "cell_type": "code",
   "execution_count": null,
   "outputs": [],
   "source": [
    "scr_data = pd.read_csv(r'../Data/Processed/1023/pssc_1023.csv')\n",
    "# scr_data = scr_data.applymap(lambda x: x.strip() if isinstance(x, str) else x)"
   ],
   "metadata": {
    "collapsed": false
   },
   "id": "612836ac6634ed4c"
  },
  {
   "cell_type": "code",
   "execution_count": null,
   "outputs": [],
   "source": [
    "scr_data.shape"
   ],
   "metadata": {
    "collapsed": false
   },
   "id": "e951ed3443bd832a"
  },
  {
   "cell_type": "code",
   "execution_count": null,
   "outputs": [],
   "source": [
    "scr_data.info()"
   ],
   "metadata": {
    "collapsed": false
   },
   "id": "5fcd942a6a2fd4e4"
  },
  {
   "cell_type": "code",
   "execution_count": null,
   "outputs": [],
   "source": [
    "scr_data"
   ],
   "metadata": {
    "collapsed": false
   },
   "id": "4c7f83a24a795c0c"
  },
  {
   "cell_type": "code",
   "execution_count": null,
   "outputs": [],
   "source": [
    "# browsing 'referral_source' and 'referring_organization' unique values\n",
    "scr_data[['srs', 'srsorg']].drop_duplicates()"
   ],
   "metadata": {
    "collapsed": false
   },
   "id": "19994b5ee52b0d3c"
  },
  {
   "cell_type": "code",
   "execution_count": null,
   "outputs": [],
   "source": [
    "# mapping 'referral_source' and 'referring organization' values\n",
    "values_to_replace = {\n",
    "    'srs': {\n",
    "        'ADMSP beneficiary (current or former)': 'ADMSP_Beneficiary',\n",
    "        'Social Media': 'Social_Media',\n",
    "        'I/NGO or humanitarian organization': 'NGO',\n",
    "        'Outreach session': 'Outreach_Session',\n",
    "        'Family member or friend': 'Family_or_Friend',\n",
    "        'ADMSP member': 'ADMSP_Member',\n",
    "        'outreach session': 'Outreach_Session',\n",
    "    },\n",
    "    'srsorg': {\n",
    "        'تعافي': 'Taafe',\n",
    "        'عائلات من أجل الحرية': 'FFF',\n",
    "        'جمعية الحياة': 'ALHAYAT',\n",
    "        'سامز': 'SAMS',\n",
    "        'جلسة تعريفية لفريق الرابطة في الآيدا': 'IDA',\n",
    "        'جلسة توعية في مركز العائلة': 'FC'\n",
    "    }\n",
    "}\n",
    "\n",
    "scr_data.replace(values_to_replace, inplace=True)"
   ],
   "metadata": {
    "collapsed": false
   },
   "id": "b7b58c6a2984dcd9"
  },
  {
   "cell_type": "code",
   "execution_count": null,
   "outputs": [],
   "source": [
    "# fill missing values in 'referring_organization' based on values in 'referral_source'\n",
    "mapping_values = {\n",
    "    'ADMSP_Beneficiary': 'NA_',\n",
    "    'Social_Media': 'NA_',\n",
    "    'Family_or_Friend': 'NA_',\n",
    "    'ADMSP_Member': 'NA_',\n",
    "    'IRM': 'NA_',\n",
    "}\n",
    "\n",
    "# Filter values in 'srs' that are keys in mapping_values dictionary\n",
    "filter_values = scr_data['srs'][scr_data['srs'].isin(mapping_values.keys())]\n",
    "# Replace values in this filtered set using mapping_values dictionary\n",
    "replace_values = filter_values.replace(mapping_values)\n",
    "# Fill NaN values in the 'srsorg' column with the replaced values\n",
    "scr_data['srsorg'] = scr_data['srsorg'].fillna(replace_values)"
   ],
   "metadata": {
    "collapsed": false
   },
   "id": "24bbf3df5120d5dd"
  },
  {
   "cell_type": "code",
   "execution_count": null,
   "outputs": [],
   "source": [
    "scr_data"
   ],
   "metadata": {
    "collapsed": false
   },
   "id": "1f2a13d852a4c98b"
  },
  {
   "cell_type": "code",
   "execution_count": null,
   "outputs": [],
   "source": [
    "scr_data[int_columns] = scr_data[int_columns].astype('Int64')\n",
    "scr_data[date_columns] = scr_data[date_columns].apply(pd.to_datetime)"
   ],
   "metadata": {
    "collapsed": false
   },
   "id": "c519f002d0eb606a"
  },
  {
   "cell_type": "code",
   "execution_count": null,
   "outputs": [],
   "source": [
    "# scr_data.to_csv(r'010/0000_ps_sc_092301.csv', index=False)\n",
    "# scr.to_csv(r'010/0000_ps_sc_092301.csv', index=False)\n",
    "scr = pd.read_csv(r'010/0000_ps_sc_092301.csv')\n",
    "# scr.loc[scr['rid'] == 'R0486', 'sex'] = 'Male'\n",
    "scr[scr['rid'] == 'R0486']\n"
   ],
   "metadata": {
    "collapsed": false
   },
   "id": "34082293d52604f"
  },
  {
   "cell_type": "markdown",
   "source": [
    "# Screening Analysis Version"
   ],
   "metadata": {
    "collapsed": false
   },
   "id": "c92fab732b5bb432"
  },
  {
   "cell_type": "code",
   "execution_count": null,
   "outputs": [],
   "source": [
    "scr = pd.read_csv(r'010/0000_ps_sc_092301.csv')"
   ],
   "metadata": {
    "collapsed": false
   },
   "id": "a20bd72d35ca8328"
  },
  {
   "cell_type": "code",
   "execution_count": null,
   "outputs": [],
   "source": [
    "scr"
   ],
   "metadata": {
    "collapsed": false
   },
   "id": "f5c8b275f7d8a4dd"
  },
  {
   "cell_type": "code",
   "execution_count": null,
   "outputs": [],
   "source": [
    "scr[date_columns] = scr[date_columns].apply(pd.to_datetime)\n",
    "scr[int_columns] = scr[int_columns].astype('Int64')\n"
   ],
   "metadata": {
    "collapsed": false
   },
   "id": "274d639c1383b381"
  },
  {
   "cell_type": "code",
   "execution_count": null,
   "outputs": [],
   "source": [
    "scr.info()"
   ],
   "metadata": {
    "collapsed": false
   },
   "id": "5257a018824b0abe"
  },
  {
   "cell_type": "code",
   "execution_count": null,
   "outputs": [],
   "source": [
    "scr"
   ],
   "metadata": {
    "collapsed": false
   },
   "id": "8e400da81dd5dfac"
  },
  {
   "cell_type": "code",
   "execution_count": null,
   "outputs": [],
   "source": [
    "scr['firstname'].replace('\\\\', None, inplace=True)\n",
    "scr.loc[scr['scloc'] == 'GTZ', 'scloc'] = 'GZT'\n"
   ],
   "metadata": {
    "collapsed": false
   },
   "id": "42a110f67868dcc5"
  },
  {
   "cell_type": "code",
   "execution_count": null,
   "outputs": [],
   "source": [
    "scr"
   ],
   "metadata": {
    "collapsed": false
   },
   "id": "750cb03047eb9d1f"
  },
  {
   "cell_type": "code",
   "execution_count": null,
   "outputs": [],
   "source": [
    "# Dataset before 2023 has no variable for the location of the activity, 'scloc', since all activities implemented in GZT. \n",
    "condition = (\n",
    "    ((scr['sc1'] < '2023-01-01') | scr['sc1'].isna()) &\n",
    "    ((scr['sc2'] < '2023-01-01') | scr['sc2'].isna()) &\n",
    "    ((scr['scre'] < '2023-01-01') | scr['scre'].isna())\n",
    ")\n",
    "\n",
    "scr.loc[condition & scr['scloc'].isna(), 'scloc'] = 'GZT'\n"
   ],
   "metadata": {
    "collapsed": false
   },
   "id": "18317ed83cf2f54d"
  },
  {
   "cell_type": "code",
   "execution_count": null,
   "outputs": [],
   "source": [
    "# Encoding binary variables\n",
    "scr['sex'] = scr['sex'].replace({\n",
    "    'Female': 1,\n",
    "    'Male': 2\n",
    "}).astype('Int64')"
   ],
   "metadata": {
    "collapsed": false
   },
   "id": "93883aa274c2ba33"
  },
  {
   "cell_type": "code",
   "execution_count": null,
   "outputs": [],
   "source": [
    "scr[to_service] = scr[to_service].replace({\n",
    "    'Yes': 1,\n",
    "    'No': 0\n",
    "}).astype('Int64')"
   ],
   "metadata": {
    "collapsed": false
   },
   "id": "ae0c8ccd03150a9b"
  },
  {
   "cell_type": "code",
   "execution_count": null,
   "outputs": [],
   "source": [
    "if 'sert' not in scr.columns:\n",
    "    scr.insert(19, 'sert', scr[to_service].sum(axis=1))"
   ],
   "metadata": {
    "collapsed": false
   },
   "id": "1b4c15135e598086"
  },
  {
   "cell_type": "code",
   "execution_count": null,
   "outputs": [],
   "source": [
    "scr.info()"
   ],
   "metadata": {
    "collapsed": false
   },
   "id": "eed621e6a708b7fa"
  },
  {
   "cell_type": "code",
   "execution_count": null,
   "outputs": [],
   "source": [
    "# Screening Analysis Complete Dataframe \n",
    "scr.to_csv(r'010/0000_ps_sc_092302.csv', index=False)"
   ],
   "metadata": {
    "collapsed": false
   },
   "id": "fa049ede236c9019"
  },
  {
   "cell_type": "code",
   "execution_count": null,
   "outputs": [],
   "source": [
    "# Screening Analysis Basic Dataframe (this dataframe for analysis work - without unnecessary variables)\n",
    "basic_scr = scr.copy()\n",
    "basic_scr = basic_scr.drop(columns=['firstname', 'lastname', 'nat', 'not'])\n",
    "basic_scr.to_csv(r'011/0000_ps_sc_092310.csv', index=False)\n"
   ],
   "metadata": {
    "collapsed": false
   },
   "id": "4a2238d3f2b1c5af"
  },
  {
   "cell_type": "markdown",
   "source": [
    "### SCREENING DATA IS READY"
   ],
   "metadata": {
    "collapsed": false
   },
   "id": "c5743db46605af9d"
  }
 ],
 "metadata": {
  "kernelspec": {
   "display_name": "Python 3",
   "language": "python",
   "name": "python3"
  },
  "language_info": {
   "codemirror_mode": {
    "name": "ipython",
    "version": 2
   },
   "file_extension": ".py",
   "mimetype": "text/x-python",
   "name": "python",
   "nbconvert_exporter": "python",
   "pygments_lexer": "ipython2",
   "version": "2.7.6"
  }
 },
 "nbformat": 4,
 "nbformat_minor": 5
}
