{
 "cells": [
  {
   "cell_type": "code",
   "execution_count": 1,
   "id": "23b31bcf",
   "metadata": {
    "ExecuteTime": {
     "end_time": "2024-01-02T14:47:57.673809600Z",
     "start_time": "2024-01-02T14:47:56.587556300Z"
    }
   },
   "outputs": [],
   "source": [
    "from src.all_in_one import *"
   ]
  },
  {
   "cell_type": "code",
   "execution_count": 15,
   "outputs": [
    {
     "data": {
      "text/plain": "[{'service': 'referring',\n  'sp': 'AK',\n  'name': 'ahmed_kayali',\n  'file': 'TS_FC_meetingOutreachReferralFollowUpAdvocacy.xlsx',\n  'password': 'Ahmed02'},\n {'service': 'pss',\n  'sp': 'IJ',\n  'name': 'Israa_Jasim',\n  'file': 'tt_psc_IJ_v04.xlsx',\n  'password': 'Israa006'},\n {'service': 'pss',\n  'sp': 'LA',\n  'name': 'lama_abbad',\n  'file': 'tt_psc_LA_v04.xlsx',\n  'password': 'Lama010'},\n {'service': 'pss',\n  'sp': 'MT',\n  'name': 'mohammad_turkawi',\n  'file': 'tt_psc_MT_v04.xlsx',\n  'password': 'Mt011'},\n {'service': 'pss',\n  'sp': 'SA',\n  'name': 'salwa_arabi',\n  'file': 'tt_psc_SA_v04.xlsx',\n  'password': 'Salwa003'},\n {'service': 'pss',\n  'sp': 'YQ',\n  'name': 'yaqzan_qanbar',\n  'file': 'tt_psc_YQ-v04.xlsx',\n  'password': 'Yaqzan004'},\n {'service': 'pt',\n  'sp': 'HJ',\n  'name': 'heba_jumaa',\n  'file': 'tt_pt_HJ_v04.1.xlsx',\n  'password': 'Heba001'},\n {'service': 'pt',\n  'sp': 'HR',\n  'name': 'hind_ragheb',\n  'file': 'tt_pt_HR_v04.1.xlsx',\n  'password': 'Hind002'},\n {'service': 'pt',\n  'sp': 'ZN',\n  'name': 'ziad_nassar',\n  'file': 'tt_pt_ZN_v04.1.xlsx',\n  'password': 'Ziad003'},\n {'service': 'tracker_td',\n  'sp': 'DH',\n  'name': 'Dima',\n  'file': 'td_tracker.xlsx',\n  'password': '250923'}]"
     },
     "execution_count": 15,
     "metadata": {},
     "output_type": "execute_result"
    }
   ],
   "source": [
    "config.get_data_source()"
   ],
   "metadata": {
    "collapsed": false,
    "ExecuteTime": {
     "end_time": "2024-01-02T15:11:25.701435500Z",
     "start_time": "2024-01-02T15:11:25.608911600Z"
    }
   },
   "id": "838fef6cba5f441d"
  },
  {
   "cell_type": "code",
   "execution_count": 1,
   "outputs": [],
   "source": [],
   "metadata": {
    "collapsed": false,
    "ExecuteTime": {
     "end_time": "2024-01-02T14:47:57.682644300Z",
     "start_time": "2024-01-02T14:47:57.676955300Z"
    }
   },
   "id": "a8bb51e14857c531"
  },
  {
   "cell_type": "code",
   "execution_count": 7,
   "id": "f58ca7579d8ad976",
   "metadata": {
    "collapsed": false,
    "ExecuteTime": {
     "end_time": "2024-01-02T14:47:57.805559300Z",
     "start_time": "2024-01-02T14:47:57.732180900Z"
    }
   },
   "outputs": [],
   "source": [
    "sheet = 'Scr'\n",
    "dataset = 'screening'\n",
    "sp = 'scsp'\n",
    "columns_names = config.get_variable_names_by_dataset(dataset)\n",
    "# basic_columns = config.get_variable_names_by_dataset_and_level(dataset, 0)\n",
    "# date_columns = config.get_variable_names_by_dataset_and_type(dataset, 'datetime64[ns]')\n",
    "# int_columns = config.get_variable_names_by_dataset_and_type(dataset, 'Int64')\n",
    "# to_service = config.get_variable_names_by_dataset_and_level(dataset, 2)"
   ]
  },
  {
   "cell_type": "code",
   "execution_count": 8,
   "id": "e8c9bfef1912ab73",
   "metadata": {
    "collapsed": false,
    "ExecuteTime": {
     "end_time": "2024-01-02T14:48:11.063993600Z",
     "start_time": "2024-01-02T14:47:59.074578Z"
    }
   },
   "outputs": [
    {
     "name": "stderr",
     "output_type": "stream",
     "text": [
      "Processing: 100%|██████████| 10/10 [00:11<00:00,  1.20s/it]\n"
     ]
    }
   ],
   "source": [
    "decryptor = ExcelDecryptor(raw_data, passwords)\n",
    "tracking_tools = decryptor.read_encrypted_excels()"
   ]
  },
  {
   "cell_type": "code",
   "execution_count": 9,
   "id": "9ec3fbe52277e86d",
   "metadata": {
    "collapsed": false,
    "ExecuteTime": {
     "end_time": "2024-01-02T14:48:23.123318800Z",
     "start_time": "2024-01-02T14:48:23.092282600Z"
    }
   },
   "outputs": [
    {
     "data": {
      "text/plain": "                  File                   Sheet\n0      td_tracker.xlsx                      TD\n1      td_tracker.xlsx         td_consultation\n2      td_tracker.xlsx           td_interviews\n3      td_tracker.xlsx  td_legal_documentation\n4      td_tracker.xlsx               td_iu_com\n..                 ...                     ...\n95  tt_psc_IJ_v04.xlsx                     TRW\n96  tt_psc_IJ_v04.xlsx                      TD\n97  tt_psc_IJ_v04.xlsx                     CWS\n98  tt_psc_IJ_v04.xlsx                      AW\n99  tt_psc_IJ_v04.xlsx               Drop-down\n\n[100 rows x 2 columns]",
      "text/html": "<div>\n<style scoped>\n    .dataframe tbody tr th:only-of-type {\n        vertical-align: middle;\n    }\n\n    .dataframe tbody tr th {\n        vertical-align: top;\n    }\n\n    .dataframe thead th {\n        text-align: right;\n    }\n</style>\n<table border=\"1\" class=\"dataframe\">\n  <thead>\n    <tr style=\"text-align: right;\">\n      <th></th>\n      <th>File</th>\n      <th>Sheet</th>\n    </tr>\n  </thead>\n  <tbody>\n    <tr>\n      <th>0</th>\n      <td>td_tracker.xlsx</td>\n      <td>TD</td>\n    </tr>\n    <tr>\n      <th>1</th>\n      <td>td_tracker.xlsx</td>\n      <td>td_consultation</td>\n    </tr>\n    <tr>\n      <th>2</th>\n      <td>td_tracker.xlsx</td>\n      <td>td_interviews</td>\n    </tr>\n    <tr>\n      <th>3</th>\n      <td>td_tracker.xlsx</td>\n      <td>td_legal_documentation</td>\n    </tr>\n    <tr>\n      <th>4</th>\n      <td>td_tracker.xlsx</td>\n      <td>td_iu_com</td>\n    </tr>\n    <tr>\n      <th>...</th>\n      <td>...</td>\n      <td>...</td>\n    </tr>\n    <tr>\n      <th>95</th>\n      <td>tt_psc_IJ_v04.xlsx</td>\n      <td>TRW</td>\n    </tr>\n    <tr>\n      <th>96</th>\n      <td>tt_psc_IJ_v04.xlsx</td>\n      <td>TD</td>\n    </tr>\n    <tr>\n      <th>97</th>\n      <td>tt_psc_IJ_v04.xlsx</td>\n      <td>CWS</td>\n    </tr>\n    <tr>\n      <th>98</th>\n      <td>tt_psc_IJ_v04.xlsx</td>\n      <td>AW</td>\n    </tr>\n    <tr>\n      <th>99</th>\n      <td>tt_psc_IJ_v04.xlsx</td>\n      <td>Drop-down</td>\n    </tr>\n  </tbody>\n</table>\n<p>100 rows × 2 columns</p>\n</div>"
     },
     "execution_count": 9,
     "metadata": {},
     "output_type": "execute_result"
    }
   ],
   "source": [
    "decryptor.display_result_structure(tracking_tools)"
   ]
  },
  {
   "cell_type": "markdown",
   "id": "8c639615038c5e90",
   "metadata": {
    "collapsed": false
   },
   "source": [
    "# Process Screening Sheets"
   ]
  },
  {
   "cell_type": "code",
   "execution_count": 10,
   "outputs": [],
   "source": [
    "psc = 'tt_psc_YQ-v04.xlsx'"
   ],
   "metadata": {
    "collapsed": false,
    "ExecuteTime": {
     "end_time": "2024-01-02T14:50:41.665143900Z",
     "start_time": "2024-01-02T14:50:41.636382700Z"
    }
   },
   "id": "c33318b080fab8c3"
  },
  {
   "cell_type": "code",
   "execution_count": 11,
   "id": "8f8dc7451d6c34fe",
   "metadata": {
    "collapsed": false,
    "ExecuteTime": {
     "end_time": "2024-01-02T14:50:43.251471500Z",
     "start_time": "2024-01-02T14:50:43.219558400Z"
    }
   },
   "outputs": [],
   "source": [
    "yq = tracking_tools[psc][sheet]"
   ]
  },
  {
   "cell_type": "code",
   "execution_count": 12,
   "outputs": [
    {
     "data": {
      "text/plain": "    Unnamed: 0 Unnamed: 1 Beneficiary Name  Unnamed: 3 Unnamed: 4 Unnamed: 5  \\\n0            #      Ref #            First        Last        Gen        Age   \n1            1      R0028            جميلة       مصطفى     Female         48   \n2            2      R0031             يحيى        يحيى       Male         59   \n3            3      R0034             محمد  موفق مرجان       Male         34   \n4            4      R0029            ميساء        جمعة     Female         46   \n..         ...        ...              ...         ...        ...        ...   \n993        993        NaN              NaN         NaN        NaN        NaN   \n994        994        NaN              NaN         NaN        NaN        NaN   \n995        995        NaN              NaN         NaN        NaN        NaN   \n996        996        NaN              NaN         NaN        NaN        NaN   \n997        997        NaN              NaN         NaN        NaN        NaN   \n\n    Unnamed: 6 Unnamed: 7       Screening Date Unnamed: 9 Unnamed: 10  \\\n0          Nat        Loc                Scr#1      Scr#2      Re-scr   \n1       Syrian        NaN  2020-06-23 00:00:00        NaN         NaN   \n2       Syrian        NaN  2020-07-02 00:00:00        NaN         NaN   \n3       Syrian        NaN  2020-07-03 00:00:00        NaN         NaN   \n4       Syrian        NaN  2020-06-24 00:00:00        NaN         NaN   \n..         ...        ...                  ...        ...         ...   \n993        NaN        NaN                  NaN        NaN         NaN   \n994        NaN        NaN                  NaN        NaN         NaN   \n995        NaN        NaN                  NaN        NaN         NaN   \n996        NaN        NaN                  NaN        NaN         NaN   \n997        NaN        NaN                  NaN        NaN         NaN   \n\n                               Unnamed: 11  \\\n0                       Source of referral   \n1    ADMSP beneficiary (current or former)   \n2                             Social Media   \n3    ADMSP beneficiary (current or former)   \n4       I/NGO or humanitarian organization   \n..                                     ...   \n993                                    NaN   \n994                                    NaN   \n995                                    NaN   \n996                                    NaN   \n997                                    NaN   \n\n                                                            Unnamed: 12  \\\n0    Referring organization \\n(I/NGO, CBO, int'l agency)\\nor (Outreach)   \n1                                                                   NaN   \n2                                                                   NaN   \n3                                                                   NaN   \n4                                                             MASSARAT    \n..                                                                  ...   \n993                                                                 NaN   \n994                                                                 NaN   \n995                                                                 NaN   \n996                                                                 NaN   \n997                                                                 NaN   \n\n    Referred to Services Unnamed: 14 Unnamed: 15 Unnamed: 16 Unnamed: 17  \\\n0                  MHPSS         TRW    Referral        Tele         PEI   \n1                    NaN         NaN         NaN         NaN         NaN   \n2                    NaN         NaN         NaN         NaN         NaN   \n3                    NaN         NaN         NaN         NaN         NaN   \n4                    NaN         NaN         NaN         NaN         NaN   \n..                   ...         ...         ...         ...         ...   \n993                  NaN         NaN         NaN         NaN         NaN   \n994                  NaN         NaN         NaN         NaN         NaN   \n995                  NaN         NaN         NaN         NaN         NaN   \n996                  NaN         NaN         NaN         NaN         NaN   \n997                  NaN         NaN         NaN         NaN         NaN   \n\n    Unnamed: 18  \n0          Note  \n1           NaN  \n2           NaN  \n3           NaN  \n4           NaN  \n..          ...  \n993         NaN  \n994         NaN  \n995         NaN  \n996         NaN  \n997         NaN  \n\n[998 rows x 19 columns]",
      "text/html": "<div>\n<style scoped>\n    .dataframe tbody tr th:only-of-type {\n        vertical-align: middle;\n    }\n\n    .dataframe tbody tr th {\n        vertical-align: top;\n    }\n\n    .dataframe thead th {\n        text-align: right;\n    }\n</style>\n<table border=\"1\" class=\"dataframe\">\n  <thead>\n    <tr style=\"text-align: right;\">\n      <th></th>\n      <th>Unnamed: 0</th>\n      <th>Unnamed: 1</th>\n      <th>Beneficiary Name</th>\n      <th>Unnamed: 3</th>\n      <th>Unnamed: 4</th>\n      <th>Unnamed: 5</th>\n      <th>Unnamed: 6</th>\n      <th>Unnamed: 7</th>\n      <th>Screening Date</th>\n      <th>Unnamed: 9</th>\n      <th>Unnamed: 10</th>\n      <th>Unnamed: 11</th>\n      <th>Unnamed: 12</th>\n      <th>Referred to Services</th>\n      <th>Unnamed: 14</th>\n      <th>Unnamed: 15</th>\n      <th>Unnamed: 16</th>\n      <th>Unnamed: 17</th>\n      <th>Unnamed: 18</th>\n    </tr>\n  </thead>\n  <tbody>\n    <tr>\n      <th>0</th>\n      <td>#</td>\n      <td>Ref #</td>\n      <td>First</td>\n      <td>Last</td>\n      <td>Gen</td>\n      <td>Age</td>\n      <td>Nat</td>\n      <td>Loc</td>\n      <td>Scr#1</td>\n      <td>Scr#2</td>\n      <td>Re-scr</td>\n      <td>Source of referral</td>\n      <td>Referring organization \\n(I/NGO, CBO, int'l agency)\\nor (Outreach)</td>\n      <td>MHPSS</td>\n      <td>TRW</td>\n      <td>Referral</td>\n      <td>Tele</td>\n      <td>PEI</td>\n      <td>Note</td>\n    </tr>\n    <tr>\n      <th>1</th>\n      <td>1</td>\n      <td>R0028</td>\n      <td>جميلة</td>\n      <td>مصطفى</td>\n      <td>Female</td>\n      <td>48</td>\n      <td>Syrian</td>\n      <td>NaN</td>\n      <td>2020-06-23 00:00:00</td>\n      <td>NaN</td>\n      <td>NaN</td>\n      <td>ADMSP beneficiary (current or former)</td>\n      <td>NaN</td>\n      <td>NaN</td>\n      <td>NaN</td>\n      <td>NaN</td>\n      <td>NaN</td>\n      <td>NaN</td>\n      <td>NaN</td>\n    </tr>\n    <tr>\n      <th>2</th>\n      <td>2</td>\n      <td>R0031</td>\n      <td>يحيى</td>\n      <td>يحيى</td>\n      <td>Male</td>\n      <td>59</td>\n      <td>Syrian</td>\n      <td>NaN</td>\n      <td>2020-07-02 00:00:00</td>\n      <td>NaN</td>\n      <td>NaN</td>\n      <td>Social Media</td>\n      <td>NaN</td>\n      <td>NaN</td>\n      <td>NaN</td>\n      <td>NaN</td>\n      <td>NaN</td>\n      <td>NaN</td>\n      <td>NaN</td>\n    </tr>\n    <tr>\n      <th>3</th>\n      <td>3</td>\n      <td>R0034</td>\n      <td>محمد</td>\n      <td>موفق مرجان</td>\n      <td>Male</td>\n      <td>34</td>\n      <td>Syrian</td>\n      <td>NaN</td>\n      <td>2020-07-03 00:00:00</td>\n      <td>NaN</td>\n      <td>NaN</td>\n      <td>ADMSP beneficiary (current or former)</td>\n      <td>NaN</td>\n      <td>NaN</td>\n      <td>NaN</td>\n      <td>NaN</td>\n      <td>NaN</td>\n      <td>NaN</td>\n      <td>NaN</td>\n    </tr>\n    <tr>\n      <th>4</th>\n      <td>4</td>\n      <td>R0029</td>\n      <td>ميساء</td>\n      <td>جمعة</td>\n      <td>Female</td>\n      <td>46</td>\n      <td>Syrian</td>\n      <td>NaN</td>\n      <td>2020-06-24 00:00:00</td>\n      <td>NaN</td>\n      <td>NaN</td>\n      <td>I/NGO or humanitarian organization</td>\n      <td>MASSARAT</td>\n      <td>NaN</td>\n      <td>NaN</td>\n      <td>NaN</td>\n      <td>NaN</td>\n      <td>NaN</td>\n      <td>NaN</td>\n    </tr>\n    <tr>\n      <th>...</th>\n      <td>...</td>\n      <td>...</td>\n      <td>...</td>\n      <td>...</td>\n      <td>...</td>\n      <td>...</td>\n      <td>...</td>\n      <td>...</td>\n      <td>...</td>\n      <td>...</td>\n      <td>...</td>\n      <td>...</td>\n      <td>...</td>\n      <td>...</td>\n      <td>...</td>\n      <td>...</td>\n      <td>...</td>\n      <td>...</td>\n      <td>...</td>\n    </tr>\n    <tr>\n      <th>993</th>\n      <td>993</td>\n      <td>NaN</td>\n      <td>NaN</td>\n      <td>NaN</td>\n      <td>NaN</td>\n      <td>NaN</td>\n      <td>NaN</td>\n      <td>NaN</td>\n      <td>NaN</td>\n      <td>NaN</td>\n      <td>NaN</td>\n      <td>NaN</td>\n      <td>NaN</td>\n      <td>NaN</td>\n      <td>NaN</td>\n      <td>NaN</td>\n      <td>NaN</td>\n      <td>NaN</td>\n      <td>NaN</td>\n    </tr>\n    <tr>\n      <th>994</th>\n      <td>994</td>\n      <td>NaN</td>\n      <td>NaN</td>\n      <td>NaN</td>\n      <td>NaN</td>\n      <td>NaN</td>\n      <td>NaN</td>\n      <td>NaN</td>\n      <td>NaN</td>\n      <td>NaN</td>\n      <td>NaN</td>\n      <td>NaN</td>\n      <td>NaN</td>\n      <td>NaN</td>\n      <td>NaN</td>\n      <td>NaN</td>\n      <td>NaN</td>\n      <td>NaN</td>\n      <td>NaN</td>\n    </tr>\n    <tr>\n      <th>995</th>\n      <td>995</td>\n      <td>NaN</td>\n      <td>NaN</td>\n      <td>NaN</td>\n      <td>NaN</td>\n      <td>NaN</td>\n      <td>NaN</td>\n      <td>NaN</td>\n      <td>NaN</td>\n      <td>NaN</td>\n      <td>NaN</td>\n      <td>NaN</td>\n      <td>NaN</td>\n      <td>NaN</td>\n      <td>NaN</td>\n      <td>NaN</td>\n      <td>NaN</td>\n      <td>NaN</td>\n      <td>NaN</td>\n    </tr>\n    <tr>\n      <th>996</th>\n      <td>996</td>\n      <td>NaN</td>\n      <td>NaN</td>\n      <td>NaN</td>\n      <td>NaN</td>\n      <td>NaN</td>\n      <td>NaN</td>\n      <td>NaN</td>\n      <td>NaN</td>\n      <td>NaN</td>\n      <td>NaN</td>\n      <td>NaN</td>\n      <td>NaN</td>\n      <td>NaN</td>\n      <td>NaN</td>\n      <td>NaN</td>\n      <td>NaN</td>\n      <td>NaN</td>\n      <td>NaN</td>\n    </tr>\n    <tr>\n      <th>997</th>\n      <td>997</td>\n      <td>NaN</td>\n      <td>NaN</td>\n      <td>NaN</td>\n      <td>NaN</td>\n      <td>NaN</td>\n      <td>NaN</td>\n      <td>NaN</td>\n      <td>NaN</td>\n      <td>NaN</td>\n      <td>NaN</td>\n      <td>NaN</td>\n      <td>NaN</td>\n      <td>NaN</td>\n      <td>NaN</td>\n      <td>NaN</td>\n      <td>NaN</td>\n      <td>NaN</td>\n      <td>NaN</td>\n    </tr>\n  </tbody>\n</table>\n<p>998 rows × 19 columns</p>\n</div>"
     },
     "execution_count": 12,
     "metadata": {},
     "output_type": "execute_result"
    }
   ],
   "source": [
    "yq"
   ],
   "metadata": {
    "collapsed": false,
    "ExecuteTime": {
     "end_time": "2024-01-02T14:50:44.539136800Z",
     "start_time": "2024-01-02T14:50:44.500520200Z"
    }
   },
   "id": "2c489f3fd8201f1"
  },
  {
   "cell_type": "code",
   "execution_count": null,
   "id": "4ee93170aebccde1",
   "metadata": {
    "collapsed": false
   },
   "outputs": [],
   "source": [
    "yq.columns = columns_names\n",
    "yq = yq.drop(yq.index[0]).reset_index(drop=True)\n",
    "yq.dropna(subset=basic_columns, how='all', inplace=True)\n",
    "yq.insert(0, sp, 'YQ')"
   ]
  },
  {
   "cell_type": "code",
   "execution_count": null,
   "id": "68dd5131a61a1ded",
   "metadata": {
    "collapsed": false
   },
   "outputs": [],
   "source": [
    "sa = tracking_tools['tt_psc_SA_v04.xlsx'][sheet]"
   ]
  },
  {
   "cell_type": "code",
   "execution_count": null,
   "id": "5a3b4eec53bb9174",
   "metadata": {
    "collapsed": false
   },
   "outputs": [],
   "source": [
    "sa.columns = columns_names\n",
    "sa = sa.drop(sa.index[0]).reset_index(drop=True)\n",
    "sa.dropna(subset=basic_columns, how='all', inplace=True)\n",
    "sa.insert(0, sp, 'SA')"
   ]
  },
  {
   "cell_type": "code",
   "execution_count": null,
   "id": "1e8595d18482f1f3",
   "metadata": {
    "collapsed": false
   },
   "outputs": [],
   "source": [
    "ij = tracking_tools['tt_psc_IJ_v04.xlsx'][sheet]"
   ]
  },
  {
   "cell_type": "code",
   "execution_count": null,
   "id": "3bd96196e3d6822c",
   "metadata": {
    "collapsed": false
   },
   "outputs": [],
   "source": [
    "ij.columns = columns_names\n",
    "ij = ij.drop(ij.index[0]).reset_index(drop=True)\n",
    "ij.dropna(subset=basic_columns, how='all', inplace=True)\n",
    "ij.insert(0, sp, 'IJ')"
   ]
  },
  {
   "cell_type": "code",
   "execution_count": null,
   "id": "d41df84c770894a3",
   "metadata": {
    "collapsed": false
   },
   "outputs": [],
   "source": [
    "la = tracking_tools['tt_psc_LA_v04.xlsx'][sheet]"
   ]
  },
  {
   "cell_type": "code",
   "execution_count": null,
   "id": "63c0162eacbb8144",
   "metadata": {
    "collapsed": false
   },
   "outputs": [],
   "source": [
    "la.columns = columns_names\n",
    "la = la.drop(la.index[0]).reset_index(drop=True)\n",
    "la.dropna(subset=basic_columns, how='all', inplace=True)\n",
    "la.insert(0, sp, 'LA')"
   ]
  },
  {
   "cell_type": "code",
   "execution_count": null,
   "id": "6a01e4a0f45ca910",
   "metadata": {
    "collapsed": false
   },
   "outputs": [],
   "source": [
    "mt = tracking_tools['tt_psc_MT_v04.xlsx'][sheet]"
   ]
  },
  {
   "cell_type": "code",
   "execution_count": null,
   "id": "ae7aae6c017ac6ed",
   "metadata": {
    "collapsed": false
   },
   "outputs": [],
   "source": [
    "mt.columns = columns_names\n",
    "mt = mt.drop(mt.index[0]).reset_index(drop=True)\n",
    "mt.dropna(subset=basic_columns, how='all', inplace=True)\n",
    "mt.insert(0, sp, 'MT')"
   ]
  },
  {
   "cell_type": "code",
   "execution_count": null,
   "id": "a81d63c63660ed15",
   "metadata": {
    "collapsed": false
   },
   "outputs": [],
   "source": [
    "scr_rows = mt.shape[0] + yq.shape[0] + sa.shape[0] + ij.shape[0] + la.shape[0]\n",
    "scr_rows"
   ]
  },
  {
   "cell_type": "code",
   "execution_count": null,
   "id": "3d29102e95f7a7c1",
   "metadata": {
    "collapsed": false
   },
   "outputs": [],
   "source": [
    "screening = pd.concat([yq, sa, ij, la, mt], ignore_index=True)"
   ]
  },
  {
   "cell_type": "code",
   "execution_count": null,
   "id": "b8d659dbdde6e6c8",
   "metadata": {
    "collapsed": false
   },
   "outputs": [],
   "source": [
    "screening"
   ]
  },
  {
   "cell_type": "code",
   "execution_count": null,
   "id": "7dd95e1f50aec0b0",
   "metadata": {
    "collapsed": false
   },
   "outputs": [],
   "source": [
    "# screening.to_csv(r'../1023/01/pssc_1023.csv', index=False)\n",
    "screening = pd.read_csv(r'../1023/01/pssc_1023.csv')\n",
    "screening"
   ]
  },
  {
   "cell_type": "code",
   "execution_count": null,
   "id": "cd0a4b4f3015bf95",
   "metadata": {
    "collapsed": false
   },
   "outputs": [],
   "source": [
    "screening[screening['rid'] == 'R0486']\n",
    "# screening.loc[screening['rid'] == 'R0486', 'sex'] = 'Male'\n"
   ]
  },
  {
   "cell_type": "markdown",
   "id": "fedb3ff0b3100080",
   "metadata": {
    "collapsed": false
   },
   "source": [
    "# Screening Dataframe"
   ]
  },
  {
   "cell_type": "code",
   "execution_count": null,
   "id": "612836ac6634ed4c",
   "metadata": {
    "collapsed": false
   },
   "outputs": [],
   "source": [
    "scr_data = pd.read_csv(r'../Data/Processed/1023/pssc_1023.csv')\n",
    "# scr_data = scr_data.applymap(lambda x: x.strip() if isinstance(x, str) else x)"
   ]
  },
  {
   "cell_type": "code",
   "execution_count": null,
   "id": "e951ed3443bd832a",
   "metadata": {
    "collapsed": false
   },
   "outputs": [],
   "source": [
    "scr_data.shape"
   ]
  },
  {
   "cell_type": "code",
   "execution_count": null,
   "id": "5fcd942a6a2fd4e4",
   "metadata": {
    "collapsed": false
   },
   "outputs": [],
   "source": [
    "scr_data.info()"
   ]
  },
  {
   "cell_type": "code",
   "execution_count": null,
   "id": "4c7f83a24a795c0c",
   "metadata": {
    "collapsed": false
   },
   "outputs": [],
   "source": [
    "scr_data"
   ]
  },
  {
   "cell_type": "code",
   "execution_count": null,
   "id": "19994b5ee52b0d3c",
   "metadata": {
    "collapsed": false
   },
   "outputs": [],
   "source": [
    "# browsing 'referral_source' and 'referring_organization' unique values\n",
    "scr_data[['srs', 'srsorg']].drop_duplicates()"
   ]
  },
  {
   "cell_type": "code",
   "execution_count": null,
   "id": "b7b58c6a2984dcd9",
   "metadata": {
    "collapsed": false
   },
   "outputs": [],
   "source": [
    "# mapping 'referral_source' and 'referring organization' values\n",
    "values_to_replace = {\n",
    "    'srs': {\n",
    "        'ADMSP beneficiary (current or former)': 'ADMSP_Beneficiary',\n",
    "        'Social Media': 'Social_Media',\n",
    "        'I/NGO or humanitarian organization': 'NGO',\n",
    "        'Outreach session': 'Outreach_Session',\n",
    "        'Family member or friend': 'Family_or_Friend',\n",
    "        'ADMSP member': 'ADMSP_Member',\n",
    "        'outreach session': 'Outreach_Session',\n",
    "    },\n",
    "    'srsorg': {\n",
    "        'تعافي': 'Taafe',\n",
    "        'عائلات من أجل الحرية': 'FFF',\n",
    "        'جمعية الحياة': 'ALHAYAT',\n",
    "        'سامز': 'SAMS',\n",
    "        'جلسة تعريفية لفريق الرابطة في الآيدا': 'IDA',\n",
    "        'جلسة توعية في مركز العائلة': 'FC'\n",
    "    }\n",
    "}\n",
    "\n",
    "scr_data.replace(values_to_replace, inplace=True)"
   ]
  },
  {
   "cell_type": "code",
   "execution_count": null,
   "id": "24bbf3df5120d5dd",
   "metadata": {
    "collapsed": false
   },
   "outputs": [],
   "source": [
    "# fill missing values in 'referring_organization' based on values in 'referral_source'\n",
    "mapping_values = {\n",
    "    'ADMSP_Beneficiary': 'NA_',\n",
    "    'Social_Media': 'NA_',\n",
    "    'Family_or_Friend': 'NA_',\n",
    "    'ADMSP_Member': 'NA_',\n",
    "    'IRM': 'NA_',\n",
    "}\n",
    "\n",
    "# Filter values in 'srs' that are keys in mapping_values dictionary\n",
    "filter_values = scr_data['srs'][scr_data['srs'].isin(mapping_values.keys())]\n",
    "# Replace values in this filtered set using mapping_values dictionary\n",
    "replace_values = filter_values.replace(mapping_values)\n",
    "# Fill NaN values in the 'srsorg' column with the replaced values\n",
    "scr_data['srsorg'] = scr_data['srsorg'].fillna(replace_values)"
   ]
  },
  {
   "cell_type": "code",
   "execution_count": null,
   "id": "1f2a13d852a4c98b",
   "metadata": {
    "collapsed": false
   },
   "outputs": [],
   "source": [
    "scr_data"
   ]
  },
  {
   "cell_type": "code",
   "execution_count": null,
   "id": "c519f002d0eb606a",
   "metadata": {
    "collapsed": false
   },
   "outputs": [],
   "source": [
    "scr_data[int_columns] = scr_data[int_columns].astype('Int64')\n",
    "scr_data[date_columns] = scr_data[date_columns].apply(pd.to_datetime)"
   ]
  },
  {
   "cell_type": "code",
   "execution_count": null,
   "id": "34082293d52604f",
   "metadata": {
    "collapsed": false
   },
   "outputs": [],
   "source": [
    "# scr_data.to_csv(r'010/0000_ps_sc_092301.csv', index=False)\n",
    "# scr.to_csv(r'010/0000_ps_sc_092301.csv', index=False)\n",
    "scr = pd.read_csv(r'010/0000_ps_sc_092301.csv')\n",
    "# scr.loc[scr['rid'] == 'R0486', 'sex'] = 'Male'\n",
    "scr[scr['rid'] == 'R0486']\n"
   ]
  },
  {
   "cell_type": "markdown",
   "id": "c92fab732b5bb432",
   "metadata": {
    "collapsed": false
   },
   "source": [
    "# Screening Analysis Version"
   ]
  },
  {
   "cell_type": "code",
   "execution_count": null,
   "id": "a20bd72d35ca8328",
   "metadata": {
    "collapsed": false
   },
   "outputs": [],
   "source": [
    "scr = pd.read_csv(r'010/0000_ps_sc_092301.csv')"
   ]
  },
  {
   "cell_type": "code",
   "execution_count": null,
   "id": "f5c8b275f7d8a4dd",
   "metadata": {
    "collapsed": false
   },
   "outputs": [],
   "source": [
    "scr"
   ]
  },
  {
   "cell_type": "code",
   "execution_count": null,
   "id": "274d639c1383b381",
   "metadata": {
    "collapsed": false
   },
   "outputs": [],
   "source": [
    "scr[date_columns] = scr[date_columns].apply(pd.to_datetime)\n",
    "scr[int_columns] = scr[int_columns].astype('Int64')\n"
   ]
  },
  {
   "cell_type": "code",
   "execution_count": null,
   "id": "5257a018824b0abe",
   "metadata": {
    "collapsed": false
   },
   "outputs": [],
   "source": [
    "scr.info()"
   ]
  },
  {
   "cell_type": "code",
   "execution_count": null,
   "id": "8e400da81dd5dfac",
   "metadata": {
    "collapsed": false
   },
   "outputs": [],
   "source": [
    "scr"
   ]
  },
  {
   "cell_type": "code",
   "execution_count": null,
   "id": "42a110f67868dcc5",
   "metadata": {
    "collapsed": false
   },
   "outputs": [],
   "source": [
    "scr['firstname'].replace('\\\\', None, inplace=True)\n",
    "scr.loc[scr['scloc'] == 'GTZ', 'scloc'] = 'GZT'\n"
   ]
  },
  {
   "cell_type": "code",
   "execution_count": null,
   "id": "750cb03047eb9d1f",
   "metadata": {
    "collapsed": false
   },
   "outputs": [],
   "source": [
    "scr"
   ]
  },
  {
   "cell_type": "code",
   "execution_count": null,
   "id": "18317ed83cf2f54d",
   "metadata": {
    "collapsed": false
   },
   "outputs": [],
   "source": [
    "# Dataset before 2023 has no variable for the location of the activity, 'scloc', since all activities implemented in GZT. \n",
    "condition = (\n",
    "        ((scr['sc1'] < '2023-01-01') | scr['sc1'].isna()) &\n",
    "        ((scr['sc2'] < '2023-01-01') | scr['sc2'].isna()) &\n",
    "        ((scr['scre'] < '2023-01-01') | scr['scre'].isna())\n",
    ")\n",
    "\n",
    "scr.loc[condition & scr['scloc'].isna(), 'scloc'] = 'GZT'\n"
   ]
  },
  {
   "cell_type": "code",
   "execution_count": null,
   "id": "93883aa274c2ba33",
   "metadata": {
    "collapsed": false
   },
   "outputs": [],
   "source": [
    "# Encoding binary variables\n",
    "scr['sex'] = scr['sex'].replace({\n",
    "    'Female': 1,\n",
    "    'Male': 2\n",
    "}).astype('Int64')"
   ]
  },
  {
   "cell_type": "code",
   "execution_count": null,
   "id": "ae0c8ccd03150a9b",
   "metadata": {
    "collapsed": false
   },
   "outputs": [],
   "source": [
    "scr[to_service] = scr[to_service].replace({\n",
    "    'Yes': 1,\n",
    "    'No': 0\n",
    "}).astype('Int64')"
   ]
  },
  {
   "cell_type": "code",
   "execution_count": null,
   "id": "1b4c15135e598086",
   "metadata": {
    "collapsed": false
   },
   "outputs": [],
   "source": [
    "if 'sert' not in scr.columns:\n",
    "    scr.insert(19, 'sert', scr[to_service].sum(axis=1))"
   ]
  },
  {
   "cell_type": "code",
   "execution_count": null,
   "id": "eed621e6a708b7fa",
   "metadata": {
    "collapsed": false
   },
   "outputs": [],
   "source": [
    "scr.info()"
   ]
  },
  {
   "cell_type": "code",
   "execution_count": null,
   "id": "fa049ede236c9019",
   "metadata": {
    "collapsed": false
   },
   "outputs": [],
   "source": [
    "# Screening Analysis Complete Dataframe \n",
    "scr.to_csv(r'010/0000_ps_sc_092302.csv', index=False)"
   ]
  },
  {
   "cell_type": "code",
   "execution_count": null,
   "id": "4a2238d3f2b1c5af",
   "metadata": {
    "collapsed": false
   },
   "outputs": [],
   "source": [
    "# Screening Analysis Basic Dataframe (this dataframe for analysis work - without unnecessary variables)\n",
    "basic_scr = scr.copy()\n",
    "basic_scr = basic_scr.drop(columns=['firstname', 'lastname', 'nat', 'not'])\n",
    "basic_scr.to_csv(r'011/0000_ps_sc_092310.csv', index=False)\n"
   ]
  },
  {
   "cell_type": "markdown",
   "id": "c5743db46605af9d",
   "metadata": {
    "collapsed": false
   },
   "source": [
    "### SCREENING DATA IS READY"
   ]
  }
 ],
 "metadata": {
  "kernelspec": {
   "display_name": "Python 3",
   "language": "python",
   "name": "python3"
  },
  "language_info": {
   "codemirror_mode": {
    "name": "ipython",
    "version": 3
   },
   "file_extension": ".py",
   "mimetype": "text/x-python",
   "name": "python",
   "nbconvert_exporter": "python",
   "pygments_lexer": "ipython3",
   "version": "3.12.0"
  }
 },
 "nbformat": 4,
 "nbformat_minor": 5
}
