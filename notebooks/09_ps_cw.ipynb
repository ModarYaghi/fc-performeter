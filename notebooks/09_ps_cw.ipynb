{
 "cells": [
  {
   "cell_type": "code",
   "execution_count": null,
   "id": "initial_id",
   "metadata": {},
   "outputs": [],
   "source": [
    "import numpy as np\n",
    "import pandas as pd\n",
    "import warnings\n",
    "from my_analysis_toolkit import read_encrypted_excels, indexing_groups\n",
    "from my_static_data import tt_passwords, cws_columns, cws_date_columns, cws_basic_columns, cws_int_columns"
   ]
  },
  {
   "cell_type": "code",
   "execution_count": null,
   "id": "8c80f1a5316103cf",
   "metadata": {},
   "outputs": [],
   "source": [
    "# Avoid representing large numbers in scientific form. To reset, use the commented line.\n",
    "pd.set_option('display.float_format', '{:.1f}'.format)\n",
    "# pd.reset_option('display.float_format')\n",
    "\n",
    "# Display maximum column width:\n",
    "pd.set_option('display.max_colwidth', None)\n",
    "\n",
    "# Suppress openpyxl data validation warning\n",
    "warnings.filterwarnings(\"ignore\", category=UserWarning, module=\"openpyxl\")"
   ]
  },
  {
   "cell_type": "code",
   "execution_count": null,
   "id": "f58ca7579d8ad976",
   "metadata": {},
   "outputs": [],
   "source": [
    "# Static Code Variables\n",
    "sheet = 'CWS'\n",
    "sp = 'cwsp'\n",
    "passwords = tt_passwords\n",
    "columns_names = cws_columns\n",
    "basic_columns = cws_basic_columns\n",
    "date_columns = cws_date_columns\n",
    "int_columns = cws_int_columns"
   ]
  },
  {
   "cell_type": "code",
   "execution_count": null,
   "id": "e8c9bfef1912ab73",
   "metadata": {},
   "outputs": [],
   "source": [
    "tracking_tools = read_encrypted_excels(r'000', passwords)"
   ]
  },
  {
   "cell_type": "markdown",
   "id": "8c639615038c5e90",
   "metadata": {},
   "source": [
    "# Process CWS Sheets"
   ]
  },
  {
   "cell_type": "code",
   "execution_count": null,
   "id": "8f8dc7451d6c34fe",
   "metadata": {},
   "outputs": [],
   "source": [
    "yq = tracking_tools['tt_psc_YQ-v04.xlsx'][sheet]"
   ]
  },
  {
   "cell_type": "code",
   "execution_count": null,
   "id": "4ee93170aebccde1",
   "metadata": {},
   "outputs": [],
   "source": [
    "yq.columns = columns_names\n",
    "yq = yq.drop(yq.index[0]).reset_index(drop=True)\n",
    "yq.dropna(subset=basic_columns, how='all', inplace=True)\n",
    "yq.insert(0, sp, 'YQ')"
   ]
  },
  {
   "cell_type": "code",
   "execution_count": null,
   "id": "68dd5131a61a1ded",
   "metadata": {},
   "outputs": [],
   "source": [
    "sa = tracking_tools['tt_psc_SA_v04.xlsx'][sheet]"
   ]
  },
  {
   "cell_type": "code",
   "execution_count": null,
   "id": "5a3b4eec53bb9174",
   "metadata": {},
   "outputs": [],
   "source": [
    "sa.columns = columns_names\n",
    "sa = sa.drop(sa.index[0]).reset_index(drop=True)\n",
    "sa.dropna(subset=basic_columns, how='all', inplace=True)\n",
    "sa.insert(0, sp, 'SA')"
   ]
  },
  {
   "cell_type": "code",
   "execution_count": null,
   "id": "1e8595d18482f1f3",
   "metadata": {},
   "outputs": [],
   "source": [
    "ij = tracking_tools['tt_psc_IJ_v04.xlsx'][sheet]"
   ]
  },
  {
   "cell_type": "code",
   "execution_count": null,
   "id": "3bd96196e3d6822c",
   "metadata": {},
   "outputs": [],
   "source": [
    "ij.columns = columns_names\n",
    "ij = ij.drop(ij.index[0]).reset_index(drop=True)\n",
    "ij.dropna(subset=basic_columns, how='all', inplace=True)\n",
    "ij.insert(0, sp, 'IJ')"
   ]
  },
  {
   "cell_type": "code",
   "execution_count": null,
   "id": "d41df84c770894a3",
   "metadata": {},
   "outputs": [],
   "source": [
    "la = tracking_tools['tt_psc_LA_v04.xlsx'][sheet]"
   ]
  },
  {
   "cell_type": "code",
   "execution_count": null,
   "id": "63c0162eacbb8144",
   "metadata": {},
   "outputs": [],
   "source": [
    "la.columns = columns_names\n",
    "la = la.drop(la.index[0]).reset_index(drop=True)\n",
    "la.dropna(subset=basic_columns, how='all', inplace=True)\n",
    "la.insert(0, sp, 'LA')"
   ]
  },
  {
   "cell_type": "code",
   "execution_count": null,
   "id": "6a01e4a0f45ca910",
   "metadata": {},
   "outputs": [],
   "source": [
    "mt = tracking_tools['tt_psc_MT_v04.xlsx'][sheet]"
   ]
  },
  {
   "cell_type": "code",
   "execution_count": null,
   "id": "ae7aae6c017ac6ed",
   "metadata": {},
   "outputs": [],
   "source": [
    "mt.columns = columns_names\n",
    "mt = mt.drop(mt.index[0]).reset_index(drop=True)\n",
    "mt.dropna(subset=basic_columns, how='all', inplace=True)\n",
    "mt.insert(0, sp, 'MT')"
   ]
  },
  {
   "cell_type": "code",
   "execution_count": null,
   "id": "a81d63c63660ed15",
   "metadata": {},
   "outputs": [],
   "source": [
    "cws_rows = mt.shape[0] + yq.shape[0] + sa.shape[0] + ij.shape[0] + la.shape[0]\n",
    "cws_rows"
   ]
  },
  {
   "cell_type": "code",
   "execution_count": null,
   "id": "3d29102e95f7a7c1",
   "metadata": {},
   "outputs": [],
   "source": [
    "creative_workshop = pd.concat([yq, sa, ij, la, mt], ignore_index=True)"
   ]
  },
  {
   "cell_type": "code",
   "execution_count": null,
   "id": "447f141f2caa0d44",
   "metadata": {},
   "outputs": [],
   "source": [
    "creative_workshop"
   ]
  },
  {
   "cell_type": "code",
   "execution_count": null,
   "id": "7dd95e1f50aec0b0",
   "metadata": {},
   "outputs": [],
   "source": [
    "# All CWS csv file\n",
    "creative_workshop.to_csv(r'001/1000_ps_cw_092300.csv', index=False)"
   ]
  },
  {
   "cell_type": "markdown",
   "id": "fedb3ff0b3100080",
   "metadata": {},
   "source": [
    "#  CWS Dataframe"
   ]
  },
  {
   "cell_type": "code",
   "execution_count": null,
   "id": "612836ac6634ed4c",
   "metadata": {},
   "outputs": [],
   "source": [
    "cws = pd.read_csv(r'001/1000_ps_cw_092300.csv')\n",
    "cws[date_columns] = cws[date_columns].apply(pd.to_datetime)\n",
    "cws = cws.applymap(lambda x: x.strip() if isinstance(x, str) else x)\n",
    "cws[int_columns] = cws[int_columns].astype('Int64')"
   ]
  },
  {
   "cell_type": "code",
   "execution_count": null,
   "id": "e951ed3443bd832a",
   "metadata": {},
   "outputs": [],
   "source": [
    "cws.shape"
   ]
  },
  {
   "cell_type": "code",
   "execution_count": null,
   "id": "5fcd942a6a2fd4e4",
   "metadata": {},
   "outputs": [],
   "source": [
    "cws.info()"
   ]
  },
  {
   "cell_type": "code",
   "execution_count": null,
   "id": "34082293d52604f",
   "metadata": {},
   "outputs": [],
   "source": [
    "# First cleaned csv file\n",
    "cws.to_csv(r'010/1000_ps_cw_092301.csv', index=False)"
   ]
  },
  {
   "cell_type": "markdown",
   "id": "c92fab732b5bb432",
   "metadata": {},
   "source": [
    "# CWS Analysis Version"
   ]
  },
  {
   "cell_type": "code",
   "execution_count": null,
   "id": "a20bd72d35ca8328",
   "metadata": {},
   "outputs": [],
   "source": [
    "cw = pd.read_csv(r'010/1000_ps_cw_092301.csv')\n",
    "cw[date_columns] = cw[date_columns].apply(pd.to_datetime)\n",
    "cw[int_columns] = cw[int_columns].astype('Int64')"
   ]
  },
  {
   "cell_type": "code",
   "execution_count": null,
   "id": "5257a018824b0abe",
   "metadata": {},
   "outputs": [],
   "source": [
    "cw.info()"
   ]
  },
  {
   "cell_type": "code",
   "execution_count": null,
   "id": "e0de03f8b3affc05",
   "metadata": {},
   "outputs": [],
   "source": [
    "cw"
   ]
  },
  {
   "cell_type": "code",
   "execution_count": null,
   "id": "42a110f67868dcc5",
   "metadata": {},
   "outputs": [],
   "source": [
    "# Indexing CWS groups\n",
    "if 'cwindx' not in cw.columns:\n",
    "    cw.insert(6, 'cwindx', np.nan)\n",
    "    \n",
    "cw['cwindx'] = indexing_groups(cw, date_columns)"
   ]
  },
  {
   "cell_type": "code",
   "execution_count": null,
   "id": "750cb03047eb9d1f",
   "metadata": {},
   "outputs": [],
   "source": [
    "# No CWS duplicated rows appeared."
   ]
  },
  {
   "cell_type": "code",
   "execution_count": null,
   "id": "ec24a60331f53d0e",
   "metadata": {},
   "outputs": [],
   "source": [
    "# CWS Analysis Complete Dataframe\n",
    "cw.to_csv(r'010/1000_ps_cw_092302.csv', index=False)"
   ]
  },
  {
   "cell_type": "code",
   "execution_count": null,
   "id": "b06fed494e4d4410",
   "metadata": {},
   "outputs": [],
   "source": [
    "# CWS Analysis Basic Dataframe\n",
    "basic_cw = cw.copy()\n",
    "basic_cw = basic_cw.drop(columns=['firstname', 'lastname', 'note'])\n",
    "basic_cw.to_csv(r'011/1000_ps_cw_092310.csv', index=False)"
   ]
  },
  {
   "cell_type": "markdown",
   "id": "6119f9727e8bd428",
   "metadata": {},
   "source": [
    "### CWS DATA PREPARED AND READY"
   ]
  }
 ],
 "metadata": {
  "kernelspec": {
   "display_name": "Python 3",
   "language": "python",
   "name": "python3"
  },
  "language_info": {
   "codemirror_mode": {
    "name": "ipython",
    "version": 2
   },
   "file_extension": ".py",
   "mimetype": "text/x-python",
   "name": "python",
   "nbconvert_exporter": "python",
   "pygments_lexer": "ipython2",
   "version": "2.7.6"
  }
 },
 "nbformat": 4,
 "nbformat_minor": 5
}
