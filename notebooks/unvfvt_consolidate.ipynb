{
 "cells": [
  {
   "cell_type": "code",
   "id": "initial_id",
   "metadata": {
    "collapsed": true
   },
   "source": [
    "import pandas as pd\n",
    "\n",
    "from src.all_in_one import *"
   ],
   "outputs": [],
   "execution_count": null
  },
  {
   "metadata": {},
   "cell_type": "code",
   "source": "unvfvt24_dir = Path(unvfvt24)",
   "id": "24b8dc112e883c58",
   "outputs": [],
   "execution_count": null
  },
  {
   "metadata": {},
   "cell_type": "code",
   "source": "# pd.read_csv(os.path.join(unvfvt24_dir, 'beneficiaries_24.csv'))",
   "id": "d10f8fe955ab75c2",
   "outputs": [],
   "execution_count": null
  },
  {
   "metadata": {},
   "cell_type": "code",
   "source": [
    "df_lst = []\n",
    "for file in unvfvt24_dir.iterdir():\n",
    "    df = pd.read_csv(file)\n",
    "    sub_df = df[['rid', 'fcid', 'sex', 'age']]\n",
    "    df_lst.append(sub_df)\n"
   ],
   "id": "a1c2e8c5bc8b7935",
   "outputs": [],
   "execution_count": null
  },
  {
   "metadata": {},
   "cell_type": "code",
   "source": "beneficiaries_all = pd.concat(df_lst)",
   "id": "9c3b6e68bf373361",
   "outputs": [],
   "execution_count": null
  },
  {
   "metadata": {},
   "cell_type": "code",
   "source": "beneficiaries_all",
   "id": "c061ac0c9adca23",
   "outputs": [],
   "execution_count": null
  },
  {
   "metadata": {},
   "cell_type": "code",
   "source": "unique_beneficiaries_24 = beneficiaries_all.drop_duplicates(subset=['rid'])",
   "id": "35960a15f25b663f",
   "outputs": [],
   "execution_count": null
  },
  {
   "metadata": {},
   "cell_type": "code",
   "source": "unique_beneficiaries_24",
   "id": "16de82693c57978",
   "outputs": [],
   "execution_count": null
  },
  {
   "metadata": {},
   "cell_type": "code",
   "source": [
    "dataframe = unique_beneficiaries_24.copy()\n",
    "for file in unvfvt24_dir.iterdir():\n",
    "    df = pd.read_csv(file)\n",
    "    sub_df = df[['rid', 'service']]\n",
    "    new_column_name = file.name[:-19]\n",
    "    sub_df = sub_df.rename(columns={'service': new_column_name})\n",
    "    dataframe = pd.merge(dataframe, sub_df[['rid', file.name[:-19]]], on='rid', how='left')"
   ],
   "id": "7a333cefdff9c451",
   "outputs": [],
   "execution_count": null
  },
  {
   "metadata": {},
   "cell_type": "code",
   "source": "dataframe.columns",
   "id": "fefd8a5fead4e4e8",
   "outputs": [],
   "execution_count": null
  },
  {
   "metadata": {},
   "cell_type": "code",
   "source": "column_order = ['rid', 'fcid', 'sex', 'age', 'int', 'reint', 'gc', 'ic', 'pei', 'td','cdw', 'tdDel', 'trw', 'psfua3', 'psfua6', 'psfua12', 'ptint', 'ptg', 'pti', 'ptfua3', 'ptfua6', 'ptfua12', 'cm']",
   "id": "373298cd098467f7",
   "outputs": [],
   "execution_count": null
  },
  {
   "metadata": {},
   "cell_type": "code",
   "source": "dataframe = dataframe[column_order]",
   "id": "800eea509e8a9206",
   "outputs": [],
   "execution_count": null
  },
  {
   "metadata": {},
   "cell_type": "code",
   "source": "# dataframe",
   "id": "eb98da0280b5fd69",
   "outputs": [],
   "execution_count": null
  },
  {
   "metadata": {},
   "cell_type": "code",
   "source": "beneficiaries_24 = dataframe.drop_duplicates(subset=['rid'])",
   "id": "8d0abe6946dc8f55",
   "outputs": [],
   "execution_count": null
  },
  {
   "metadata": {},
   "cell_type": "code",
   "source": [
    "beneficiaries_24.to_csv( unvfvt24_dir / 'beneficiaries_24.csv', index=False)\n",
    "bene24 = pd.read_csv(unvfvt24_dir/ 'beneficiaries_24.csv')"
   ],
   "id": "7b078543efd8cd94",
   "outputs": [],
   "execution_count": null
  },
  {
   "metadata": {},
   "cell_type": "code",
   "source": "bene24",
   "id": "ffa6435f91c62622",
   "outputs": [],
   "execution_count": null
  },
  {
   "metadata": {},
   "cell_type": "code",
   "source": [
    "int_criteria = [\"rid\", \"family_of_missing\", \"survivor_of_detention\", \"primary_torture\", \"secondary_torture\", \"sexual_violation_a\", \"sexual_violation_p\", \"hrd\", \"journalist\", \"wov\", \"stgbv\", \"lgbti\", \"other\"]\n",
    "intake = get_df(int_path, int_sheet, config_file)\n",
    "unique_intake = intake.drop_duplicates(subset='rid', keep='last')"
   ],
   "id": "72794e1fd3a9ba30",
   "outputs": [],
   "execution_count": null
  },
  {
   "metadata": {},
   "cell_type": "code",
   "source": "beneficiaries_24_victimhood = pd.merge(bene24, unique_intake[int_criteria], on='rid', how='left')",
   "id": "6f5649f798863ea5",
   "outputs": [],
   "execution_count": null
  },
  {
   "metadata": {},
   "cell_type": "code",
   "source": "beneficiaries_24_victimhood.to_excel(unvfvt24_dir / 'beneficiaries_24_victimhood.xlsx', index=False)",
   "id": "4496f3eef6edc196",
   "outputs": [],
   "execution_count": null
  },
  {
   "metadata": {},
   "cell_type": "code",
   "source": [
    "# df = unvfvt24_dir / \"intBeneficiaries24.csv\"\n",
    "# pd.read_csv(df)"
   ],
   "id": "dc7658ef41fe18be",
   "outputs": [],
   "execution_count": null
  },
  {
   "metadata": {},
   "cell_type": "code",
   "source": "",
   "id": "948694d1a321fb70",
   "outputs": [],
   "execution_count": null
  }
 ],
 "metadata": {
  "kernelspec": {
   "display_name": "Python 3",
   "language": "python",
   "name": "python3"
  },
  "language_info": {
   "codemirror_mode": {
    "name": "ipython",
    "version": 2
   },
   "file_extension": ".py",
   "mimetype": "text/x-python",
   "name": "python",
   "nbconvert_exporter": "python",
   "pygments_lexer": "ipython2",
   "version": "2.7.6"
  }
 },
 "nbformat": 4,
 "nbformat_minor": 5
}
