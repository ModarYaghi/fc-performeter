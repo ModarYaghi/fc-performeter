{
 "cells": [
  {
   "cell_type": "code",
   "execution_count": null,
   "id": "initial_id",
   "metadata": {
    "collapsed": true
   },
   "outputs": [],
   "source": [
    "import os\n",
    "import pandas as pd\n",
    "from src.all_in_one import *\n",
    "threshold = \"2022-12-31\""
   ]
  },
  {
   "cell_type": "code",
   "outputs": [],
   "source": [
    "# gc_date_cols =  ['gc_s1', 'gc_s2', 'gc_s3', 'gc_s4', 'gc_s5', 'gc_s6', 'gc_s7', 'gc_s8', 'gc_s9', 'gc_10']\n",
    "# df_order = ['rid', 'fcid', 'sex', 'age','service', 'date', 'session_num', 'family_of_missing', 'survivor_of_detention', 'primary_torture', 'secondary_torture', 'sexual_violation_a', 'sexual_violation_p', 'hrd', 'journalist', 'wov', 'stgbv', 'lgbti', 'other']"
   ],
   "metadata": {
    "collapsed": false
   },
   "id": "a559d937e24c8963",
   "execution_count": null
  },
  {
   "cell_type": "code",
   "outputs": [],
   "source": [
    "# prefix_list = ['gc', 'gpt', 'int', 'ipt', 'pei','psfua3', 'psfua6', 'psfua12', 'ptfua3', 'ptfua6', 'ptfua12', 'ptint', 'ptreint', 'reint', 'td']\n",
    "# suffix = \"Beneficiaries23.csv\"\n",
    "# df_list = []"
   ],
   "metadata": {
    "collapsed": false
   },
   "id": "78921b79878a6989",
   "execution_count": null
  },
  {
   "cell_type": "code",
   "outputs": [],
   "source": [
    "# for prefix in prefix_list:\n",
    "#     prefix = \"td\"\n",
    "#     filename = os.path.join(unvfvt23, prefix + suffix)\n",
    "#     df = pd.read_csv(filename)\n",
    "#     df[['fcid', 'session_num','age']] = df[['fcid', 'session_num','age']].astype(\"Int64\")\n",
    "#     df['date'] = df['date'].apply(pd.to_datetime)\n",
    "#     df_list.append(df)"
   ],
   "metadata": {
    "collapsed": false
   },
   "id": "f5ff192ddffc52e6",
   "execution_count": null
  },
  {
   "cell_type": "code",
   "outputs": [],
   "source": [
    "# grand_df = pd.concat(df_list, ignore_index=True)\n",
    "# grand_df = grand_df[df_order]\n",
    "# grand_df"
   ],
   "metadata": {
    "collapsed": false
   },
   "id": "38c352d9d6181483",
   "execution_count": null
  },
  {
   "cell_type": "code",
   "outputs": [],
   "source": [
    "# grand_df_path = os.path.join(unvfvt23, 'grandBeneficiariesDataset23.csv')\n",
    "# grand_df.to_csv(grand_df_path, index=False)"
   ],
   "metadata": {
    "collapsed": false
   },
   "id": "96556b9a9a3b2d95",
   "execution_count": null
  },
  {
   "cell_type": "code",
   "outputs": [],
   "source": [
    "# destination = os.path.join(unvfvt23, 'peiBeneficiaries23.csv')\n",
    "# pd.read_csv(destination)"
   ],
   "metadata": {
    "collapsed": false
   },
   "id": "ff98027c14170fe1",
   "execution_count": null
  },
  {
   "cell_type": "code",
   "outputs": [],
   "source": [
    "# pd.read_csv(filename)"
   ],
   "metadata": {
    "collapsed": false
   },
   "id": "ddf49144a74fd7e2",
   "execution_count": null
  },
  {
   "cell_type": "code",
   "outputs": [],
   "source": [],
   "metadata": {
    "collapsed": false
   },
   "id": "fae098653049bb6a",
   "execution_count": null
  },
  {
   "cell_type": "code",
   "outputs": [],
   "source": [
    "scr_dataset = Dataset(config_file, scr_sheet)\n",
    "scr = pd.read_csv(scr_path)\n",
    "dtype_trans(scr, scr_dataset)\n",
    "# rid_val = 'R0407'\n",
    "name_val = 'رشا'\n",
    "# scr[scr['rid'] == rid_val]\n",
    "scr[scr['firstname'] == name_val]"
   ],
   "metadata": {
    "collapsed": false
   },
   "id": "8c05e5dd3fe52124",
   "execution_count": null
  },
  {
   "cell_type": "code",
   "outputs": [],
   "source": [
    "df_dataset = Dataset(config_file, ptint_sheet)\n",
    "df = pd.read_csv(ptint_path)\n",
    "dtype_trans(df, df_dataset)\n",
    "rid_val = 'R0407'\n",
    "df[df['rid'] == rid_val]"
   ],
   "metadata": {
    "collapsed": false
   },
   "id": "4c583b6375e8fed6",
   "execution_count": null
  },
  {
   "cell_type": "code",
   "outputs": [],
   "source": [],
   "metadata": {
    "collapsed": false
   },
   "id": "d648e5434f7c4d18"
  }
 ],
 "metadata": {
  "kernelspec": {
   "display_name": "Python 3",
   "language": "python",
   "name": "python3"
  },
  "language_info": {
   "codemirror_mode": {
    "name": "ipython",
    "version": 2
   },
   "file_extension": ".py",
   "mimetype": "text/x-python",
   "name": "python",
   "nbconvert_exporter": "python",
   "pygments_lexer": "ipython2",
   "version": "2.7.6"
  }
 },
 "nbformat": 4,
 "nbformat_minor": 5
}
