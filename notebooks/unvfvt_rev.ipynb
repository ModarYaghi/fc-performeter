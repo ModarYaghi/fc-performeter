{
 "cells": [
  {
   "cell_type": "code",
   "execution_count": null,
   "id": "initial_id",
   "metadata": {
    "collapsed": true
   },
   "outputs": [],
   "source": [
    "import os\n",
    "import pandas as pd\n",
    "from src.all_in_one import *\n",
    "threshold = \"2022-12-31\""
   ]
  },
  {
   "cell_type": "code",
   "outputs": [],
   "source": [
    "gc_date_cols =  ['gc_s1', 'gc_s2', 'gc_s3', 'gc_s4', 'gc_s5', 'gc_s6', 'gc_s7', 'gc_s8', 'gc_s9', 'gc_10']"
   ],
   "metadata": {
    "collapsed": false
   },
   "id": "a559d937e24c8963"
  },
  {
   "cell_type": "code",
   "outputs": [],
   "source": [
    "suffix = \"Beneficiaries23.xlsx\"\n",
    "prefix = \"_pei\"\n",
    "filename = os.path.join(unvfvt23, prefix + suffix)\n",
    "df = pd.read_excel(filename)\n",
    "df[['fcid', 'age']] = df[['fcid', 'age']].astype(\"Int64\")\n",
    "df['date'] = df['date'].apply(pd.to_datetime)\n",
    "df_order = ['rid', 'fcid', 'service', 'date', 'pei_total', 'family_of_missing', 'survivor_of_detention', 'primary_torture', 'secondary_torture', 'sexual_violation_a', 'sexual_violation_p', 'hrd', 'journalist', 'wov', 'stgbv', 'lgbti', 'other', 'sex', 'age']\n",
    "df = df[df_order]\n",
    "df.rename(columns={'pei_total': 'session_num'}, inplace=True)"
   ],
   "metadata": {
    "collapsed": false
   },
   "id": "f5ff192ddffc52e6",
   "execution_count": null
  },
  {
   "cell_type": "code",
   "outputs": [],
   "source": [
    "destination = os.path.join(unvfvt23, 'peiBeneficiaries23.csv')\n",
    "# df.to_csv(destination, index=False)\n",
    "pd.read_csv(destination)"
   ],
   "metadata": {
    "collapsed": false
   },
   "id": "ff98027c14170fe1",
   "execution_count": null
  },
  {
   "cell_type": "code",
   "outputs": [],
   "source": [
    "df.columns"
   ],
   "metadata": {
    "collapsed": false
   },
   "id": "ddf49144a74fd7e2",
   "execution_count": null
  },
  {
   "cell_type": "code",
   "outputs": [],
   "source": [
    "path = os.path.join(unvfvt23, 'gcBeneficiaries23.csv')\n",
    "pd.read_csv(path)"
   ],
   "metadata": {
    "collapsed": false
   },
   "id": "fae098653049bb6a",
   "execution_count": null
  },
  {
   "cell_type": "code",
   "outputs": [],
   "source": [
    "scr_dataset = Dataset(config_file, scr_sheet)\n",
    "scr = pd.read_csv(scr_path)\n",
    "dtype_trans(scr, scr_dataset)\n",
    "rid_val = 'R0486'\n",
    "scr[scr['rid'] == rid_val]"
   ],
   "metadata": {
    "collapsed": false
   },
   "id": "8c05e5dd3fe52124",
   "execution_count": null
  },
  {
   "cell_type": "code",
   "outputs": [],
   "source": [
    "pei_dataset = Dataset(config_file, pei_sheet)\n",
    "pei = pd.read_csv(pei_path)\n",
    "dtype_trans(pei, pei_dataset)\n",
    "rid_val = 'R1070'\n",
    "pei[pei['rid'] == rid_val]"
   ],
   "metadata": {
    "collapsed": false
   },
   "id": "4c583b6375e8fed6",
   "execution_count": null
  }
 ],
 "metadata": {
  "kernelspec": {
   "display_name": "Python 3",
   "language": "python",
   "name": "python3"
  },
  "language_info": {
   "codemirror_mode": {
    "name": "ipython",
    "version": 2
   },
   "file_extension": ".py",
   "mimetype": "text/x-python",
   "name": "python",
   "nbconvert_exporter": "python",
   "pygments_lexer": "ipython2",
   "version": "2.7.6"
  }
 },
 "nbformat": 4,
 "nbformat_minor": 5
}
