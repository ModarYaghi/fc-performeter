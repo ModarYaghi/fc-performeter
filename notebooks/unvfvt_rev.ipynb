{
 "cells": [
  {
   "cell_type": "code",
   "execution_count": 1,
   "id": "initial_id",
   "metadata": {
    "collapsed": true,
    "ExecuteTime": {
     "end_time": "2024-02-05T02:33:22.095668400Z",
     "start_time": "2024-02-05T02:33:21.128846500Z"
    }
   },
   "outputs": [],
   "source": [
    "import os\n",
    "import pandas as pd\n",
    "from src.all_in_one import *\n",
    "threshold = \"2022-12-31\""
   ]
  },
  {
   "cell_type": "code",
   "outputs": [],
   "source": [
    "# gc_date_cols =  ['gc_s1', 'gc_s2', 'gc_s3', 'gc_s4', 'gc_s5', 'gc_s6', 'gc_s7', 'gc_s8', 'gc_s9', 'gc_10']\n",
    "# df_order = ['rid', 'fcid', 'sex', 'age','service', 'date', 'session_num', 'family_of_missing', 'survivor_of_detention', 'primary_torture', 'secondary_torture', 'sexual_violation_a', 'sexual_violation_p', 'hrd', 'journalist', 'wov', 'stgbv', 'lgbti', 'other']"
   ],
   "metadata": {
    "collapsed": false,
    "ExecuteTime": {
     "end_time": "2024-02-05T02:33:22.141458900Z",
     "start_time": "2024-02-05T02:33:22.098251300Z"
    }
   },
   "id": "a559d937e24c8963",
   "execution_count": 2
  },
  {
   "cell_type": "code",
   "outputs": [],
   "source": [
    "# prefix_list = ['gc', 'ic','gpt', 'int', 'ipt', 'pei','psfua3', 'psfua6', 'psfua12', 'ptfua3', 'ptfua6', 'ptfua12', 'ptint', 'ptreint', 'reint', 'td']\n",
    "# suffix = \"Beneficiaries23.csv\"\n",
    "# df_list = []"
   ],
   "metadata": {
    "collapsed": false,
    "ExecuteTime": {
     "end_time": "2024-02-05T02:33:22.143056300Z",
     "start_time": "2024-02-05T02:33:22.103510200Z"
    }
   },
   "id": "78921b79878a6989",
   "execution_count": 3
  },
  {
   "cell_type": "code",
   "outputs": [],
   "source": [
    "# for prefix in prefix_list:\n",
    "#     filename = os.path.join(unvfvt23, prefix + suffix)\n",
    "#     df = pd.read_csv(filename)\n",
    "#     df[['fcid', 'session_num','age']] = df[['fcid', 'session_num','age']].astype(\"Int64\")\n",
    "#     df['date'] = df['date'].apply(pd.to_datetime)\n",
    "#     df_list.append(df)"
   ],
   "metadata": {
    "collapsed": false,
    "ExecuteTime": {
     "end_time": "2024-02-05T02:33:22.143056300Z",
     "start_time": "2024-02-05T02:33:22.118405100Z"
    }
   },
   "id": "f5ff192ddffc52e6",
   "execution_count": 4
  },
  {
   "cell_type": "code",
   "outputs": [],
   "source": [
    "# grand_df = pd.concat(df_list, ignore_index=True)\n",
    "# grand_df = grand_df[df_order]\n",
    "# grand_df"
   ],
   "metadata": {
    "collapsed": false,
    "ExecuteTime": {
     "end_time": "2024-02-05T02:33:22.154091700Z",
     "start_time": "2024-02-05T02:33:22.124862700Z"
    }
   },
   "id": "38c352d9d6181483",
   "execution_count": 5
  },
  {
   "cell_type": "code",
   "outputs": [],
   "source": [
    "# grand_df.to_csv(os.path.join(unvfvt23, 'grandBeneficiariesDataset23.csv'), index=False)"
   ],
   "metadata": {
    "collapsed": false,
    "ExecuteTime": {
     "end_time": "2024-02-05T02:33:22.154091700Z",
     "start_time": "2024-02-05T02:33:22.129585800Z"
    }
   },
   "id": "96556b9a9a3b2d95",
   "execution_count": 6
  },
  {
   "cell_type": "code",
   "outputs": [],
   "source": [
    "# destination = os.path.join(unvfvt23, 'peiBeneficiaries23.csv')\n",
    "# pd.read_csv(destination)"
   ],
   "metadata": {
    "collapsed": false,
    "ExecuteTime": {
     "end_time": "2024-02-05T02:33:22.155174100Z",
     "start_time": "2024-02-05T02:33:22.133885Z"
    }
   },
   "id": "ff98027c14170fe1",
   "execution_count": 7
  },
  {
   "cell_type": "code",
   "outputs": [],
   "source": [
    "# pd.read_csv(filename)"
   ],
   "metadata": {
    "collapsed": false,
    "ExecuteTime": {
     "end_time": "2024-02-05T02:33:22.156214200Z",
     "start_time": "2024-02-05T02:33:22.138257900Z"
    }
   },
   "id": "ddf49144a74fd7e2",
   "execution_count": 8
  },
  {
   "cell_type": "code",
   "outputs": [],
   "source": [
    "# scr_dataset = Dataset(config_file, scr_sheet)\n",
    "# scr = pd.read_csv(scr_path)\n",
    "# dtype_trans(scr, scr_dataset)\n",
    "# rid_val = 'R0407'\n",
    "# name_val = 'رشا'\n",
    "# scr[scr['rid'] == rid_val]\n",
    "# scr[scr['firstname'] == name_val]"
   ],
   "metadata": {
    "collapsed": false,
    "ExecuteTime": {
     "end_time": "2024-02-05T02:33:22.157261600Z",
     "start_time": "2024-02-05T02:33:22.145155900Z"
    }
   },
   "id": "8c05e5dd3fe52124",
   "execution_count": 9
  },
  {
   "cell_type": "code",
   "outputs": [],
   "source": [
    "# df_dataset = Dataset(config_file, ptint_sheet)\n",
    "# df = pd.read_csv(ptint_path)\n",
    "# dtype_trans(df, df_dataset)\n",
    "# rid_val = 'R0407'\n",
    "# df[df['rid'] == rid_val]"
   ],
   "metadata": {
    "collapsed": false,
    "ExecuteTime": {
     "end_time": "2024-02-05T02:33:22.159354400Z",
     "start_time": "2024-02-05T02:33:22.149976700Z"
    }
   },
   "id": "4c583b6375e8fed6",
   "execution_count": 10
  },
  {
   "cell_type": "code",
   "outputs": [],
   "source": [
    "grand_df_path = os.path.join(unvfvt23, 'grandBeneficiariesDataset23.csv')\n",
    "grand = pd.read_csv(grand_df_path)\n",
    "grand[['fcid', 'session_num','age']] = grand[['fcid', 'session_num','age']].astype(\"Int64\")\n",
    "grand['date'] = grand['date'].apply(pd.to_datetime)"
   ],
   "metadata": {
    "collapsed": false,
    "ExecuteTime": {
     "end_time": "2024-02-05T02:33:22.416282Z",
     "start_time": "2024-02-05T02:33:22.157261600Z"
    }
   },
   "id": "d648e5434f7c4d18",
   "execution_count": 11
  },
  {
   "cell_type": "code",
   "outputs": [
    {
     "data": {
      "text/plain": "       rid        fcid     sex  age service       date  session_num  \\\n0    R0501  8110020120  Female   41      gc 2023-01-18            9   \n1    R0367  8110020110  Female   40      gc 2023-01-18           10   \n2    R0441  8110050063  Female   43      gc 2023-01-18            8   \n3    R0391  8110050067  Female   44      gc 2023-01-18           10   \n4    R0348  8110020097  Female   43      gc 2023-01-18           10   \n..     ...         ...     ...  ...     ...        ...          ...   \n742  R0415  8110020102    Male   25      td 2023-05-11            0   \n743  R0452  8110050080  Female   40      td 2023-08-23            0   \n744  R0534  8110050087  Female   37      td 2023-08-24            0   \n745  R0378  8110050066  Female   38      td 2023-08-25            0   \n746  R0460  8110090003  Female   27      td 2023-10-04            0   \n\n    family_of_missing survivor_of_detention primary_torture secondary_torture  \\\n0                  No                    No              No               Yes   \n1                 Yes                    No              No               Yes   \n2                  No                    No              No               Yes   \n3                 Yes                    No              No               Yes   \n4                 Yes                    No              No               Yes   \n..                ...                   ...             ...               ...   \n742                No                   Yes             Yes               Yes   \n743               Yes                    No              No               Yes   \n744                No                   Yes             Yes               Yes   \n745               Yes                    No              No               Yes   \n746               Yes                    No             Yes               Yes   \n\n    sexual_violation_a sexual_violation_p  hrd journalist  wov stgbv lgbti  \\\n0                  NaN                NaN  NaN        NaN  Yes   Yes    No   \n1                  NaN                NaN  NaN        NaN  Yes    No    No   \n2                  NaN                NaN  NaN        NaN  Yes    No    No   \n3                  NaN                NaN  NaN        NaN  Yes    No    No   \n4                  NaN                NaN  NaN        NaN  Yes    No    No   \n..                 ...                ...  ...        ...  ...   ...   ...   \n742                 No                Yes  Yes         No  Yes   Yes    No   \n743                NaN                NaN  NaN        NaN  Yes    No    No   \n744                NaN                NaN  NaN        NaN  Yes   Yes    No   \n745                NaN                NaN  NaN        NaN  Yes    No    No   \n746                Yes                NaN  NaN        NaN  Yes    No    No   \n\n    other  \n0      No  \n1      No  \n2      No  \n3      No  \n4      No  \n..    ...  \n742    No  \n743    No  \n744    No  \n745    No  \n746   NaN  \n\n[747 rows x 19 columns]",
      "text/html": "<div>\n<style scoped>\n    .dataframe tbody tr th:only-of-type {\n        vertical-align: middle;\n    }\n\n    .dataframe tbody tr th {\n        vertical-align: top;\n    }\n\n    .dataframe thead th {\n        text-align: right;\n    }\n</style>\n<table border=\"1\" class=\"dataframe\">\n  <thead>\n    <tr style=\"text-align: right;\">\n      <th></th>\n      <th>rid</th>\n      <th>fcid</th>\n      <th>sex</th>\n      <th>age</th>\n      <th>service</th>\n      <th>date</th>\n      <th>session_num</th>\n      <th>family_of_missing</th>\n      <th>survivor_of_detention</th>\n      <th>primary_torture</th>\n      <th>secondary_torture</th>\n      <th>sexual_violation_a</th>\n      <th>sexual_violation_p</th>\n      <th>hrd</th>\n      <th>journalist</th>\n      <th>wov</th>\n      <th>stgbv</th>\n      <th>lgbti</th>\n      <th>other</th>\n    </tr>\n  </thead>\n  <tbody>\n    <tr>\n      <th>0</th>\n      <td>R0501</td>\n      <td>8110020120</td>\n      <td>Female</td>\n      <td>41</td>\n      <td>gc</td>\n      <td>2023-01-18</td>\n      <td>9</td>\n      <td>No</td>\n      <td>No</td>\n      <td>No</td>\n      <td>Yes</td>\n      <td>NaN</td>\n      <td>NaN</td>\n      <td>NaN</td>\n      <td>NaN</td>\n      <td>Yes</td>\n      <td>Yes</td>\n      <td>No</td>\n      <td>No</td>\n    </tr>\n    <tr>\n      <th>1</th>\n      <td>R0367</td>\n      <td>8110020110</td>\n      <td>Female</td>\n      <td>40</td>\n      <td>gc</td>\n      <td>2023-01-18</td>\n      <td>10</td>\n      <td>Yes</td>\n      <td>No</td>\n      <td>No</td>\n      <td>Yes</td>\n      <td>NaN</td>\n      <td>NaN</td>\n      <td>NaN</td>\n      <td>NaN</td>\n      <td>Yes</td>\n      <td>No</td>\n      <td>No</td>\n      <td>No</td>\n    </tr>\n    <tr>\n      <th>2</th>\n      <td>R0441</td>\n      <td>8110050063</td>\n      <td>Female</td>\n      <td>43</td>\n      <td>gc</td>\n      <td>2023-01-18</td>\n      <td>8</td>\n      <td>No</td>\n      <td>No</td>\n      <td>No</td>\n      <td>Yes</td>\n      <td>NaN</td>\n      <td>NaN</td>\n      <td>NaN</td>\n      <td>NaN</td>\n      <td>Yes</td>\n      <td>No</td>\n      <td>No</td>\n      <td>No</td>\n    </tr>\n    <tr>\n      <th>3</th>\n      <td>R0391</td>\n      <td>8110050067</td>\n      <td>Female</td>\n      <td>44</td>\n      <td>gc</td>\n      <td>2023-01-18</td>\n      <td>10</td>\n      <td>Yes</td>\n      <td>No</td>\n      <td>No</td>\n      <td>Yes</td>\n      <td>NaN</td>\n      <td>NaN</td>\n      <td>NaN</td>\n      <td>NaN</td>\n      <td>Yes</td>\n      <td>No</td>\n      <td>No</td>\n      <td>No</td>\n    </tr>\n    <tr>\n      <th>4</th>\n      <td>R0348</td>\n      <td>8110020097</td>\n      <td>Female</td>\n      <td>43</td>\n      <td>gc</td>\n      <td>2023-01-18</td>\n      <td>10</td>\n      <td>Yes</td>\n      <td>No</td>\n      <td>No</td>\n      <td>Yes</td>\n      <td>NaN</td>\n      <td>NaN</td>\n      <td>NaN</td>\n      <td>NaN</td>\n      <td>Yes</td>\n      <td>No</td>\n      <td>No</td>\n      <td>No</td>\n    </tr>\n    <tr>\n      <th>...</th>\n      <td>...</td>\n      <td>...</td>\n      <td>...</td>\n      <td>...</td>\n      <td>...</td>\n      <td>...</td>\n      <td>...</td>\n      <td>...</td>\n      <td>...</td>\n      <td>...</td>\n      <td>...</td>\n      <td>...</td>\n      <td>...</td>\n      <td>...</td>\n      <td>...</td>\n      <td>...</td>\n      <td>...</td>\n      <td>...</td>\n      <td>...</td>\n    </tr>\n    <tr>\n      <th>742</th>\n      <td>R0415</td>\n      <td>8110020102</td>\n      <td>Male</td>\n      <td>25</td>\n      <td>td</td>\n      <td>2023-05-11</td>\n      <td>0</td>\n      <td>No</td>\n      <td>Yes</td>\n      <td>Yes</td>\n      <td>Yes</td>\n      <td>No</td>\n      <td>Yes</td>\n      <td>Yes</td>\n      <td>No</td>\n      <td>Yes</td>\n      <td>Yes</td>\n      <td>No</td>\n      <td>No</td>\n    </tr>\n    <tr>\n      <th>743</th>\n      <td>R0452</td>\n      <td>8110050080</td>\n      <td>Female</td>\n      <td>40</td>\n      <td>td</td>\n      <td>2023-08-23</td>\n      <td>0</td>\n      <td>Yes</td>\n      <td>No</td>\n      <td>No</td>\n      <td>Yes</td>\n      <td>NaN</td>\n      <td>NaN</td>\n      <td>NaN</td>\n      <td>NaN</td>\n      <td>Yes</td>\n      <td>No</td>\n      <td>No</td>\n      <td>No</td>\n    </tr>\n    <tr>\n      <th>744</th>\n      <td>R0534</td>\n      <td>8110050087</td>\n      <td>Female</td>\n      <td>37</td>\n      <td>td</td>\n      <td>2023-08-24</td>\n      <td>0</td>\n      <td>No</td>\n      <td>Yes</td>\n      <td>Yes</td>\n      <td>Yes</td>\n      <td>NaN</td>\n      <td>NaN</td>\n      <td>NaN</td>\n      <td>NaN</td>\n      <td>Yes</td>\n      <td>Yes</td>\n      <td>No</td>\n      <td>No</td>\n    </tr>\n    <tr>\n      <th>745</th>\n      <td>R0378</td>\n      <td>8110050066</td>\n      <td>Female</td>\n      <td>38</td>\n      <td>td</td>\n      <td>2023-08-25</td>\n      <td>0</td>\n      <td>Yes</td>\n      <td>No</td>\n      <td>No</td>\n      <td>Yes</td>\n      <td>NaN</td>\n      <td>NaN</td>\n      <td>NaN</td>\n      <td>NaN</td>\n      <td>Yes</td>\n      <td>No</td>\n      <td>No</td>\n      <td>No</td>\n    </tr>\n    <tr>\n      <th>746</th>\n      <td>R0460</td>\n      <td>8110090003</td>\n      <td>Female</td>\n      <td>27</td>\n      <td>td</td>\n      <td>2023-10-04</td>\n      <td>0</td>\n      <td>Yes</td>\n      <td>No</td>\n      <td>Yes</td>\n      <td>Yes</td>\n      <td>Yes</td>\n      <td>NaN</td>\n      <td>NaN</td>\n      <td>NaN</td>\n      <td>Yes</td>\n      <td>No</td>\n      <td>No</td>\n      <td>NaN</td>\n    </tr>\n  </tbody>\n</table>\n<p>747 rows × 19 columns</p>\n</div>"
     },
     "execution_count": 12,
     "metadata": {},
     "output_type": "execute_result"
    }
   ],
   "source": [
    "grand"
   ],
   "metadata": {
    "collapsed": false,
    "ExecuteTime": {
     "end_time": "2024-02-05T02:33:24.339267200Z",
     "start_time": "2024-02-05T02:33:24.306408800Z"
    }
   },
   "id": "2b28c04d85e474d3",
   "execution_count": 12
  },
  {
   "cell_type": "code",
   "outputs": [
    {
     "data": {
      "text/plain": "       rid    int     re     gc     ic  psfua3  psfua6  psfua12  ptint  \\\n0    R0501  False  False   True  False   False   False    False  False   \n1    R0367  False  False   True  False   False   False    False  False   \n2    R0441  False  False   True  False   False   False    False  False   \n3    R0391  False  False   True  False   False   False    False  False   \n4    R0348  False  False   True  False   False   False    False  False   \n..     ...    ...    ...    ...    ...     ...     ...      ...    ...   \n742  R0415  False  False  False  False   False   False    False  False   \n743  R0452  False  False  False  False   False   False    False  False   \n744  R0534  False  False  False  False   False   False    False  False   \n745  R0378  False  False  False  False   False   False    False  False   \n746  R0460  False  False  False  False   False   False    False  False   \n\n     ptreint    gpt    ipt  ptfua3  ptfua6  ptfua12    pei     td  \n0      False  False  False   False   False    False  False  False  \n1      False  False  False   False   False    False  False  False  \n2      False  False  False   False   False    False  False  False  \n3      False  False  False   False   False    False  False  False  \n4      False  False  False   False   False    False  False  False  \n..       ...    ...    ...     ...     ...      ...    ...    ...  \n742    False  False  False   False   False    False  False   True  \n743    False  False  False   False   False    False  False   True  \n744    False  False  False   False   False    False  False   True  \n745    False  False  False   False   False    False  False   True  \n746    False  False  False   False   False    False  False   True  \n\n[747 rows x 17 columns]",
      "text/html": "<div>\n<style scoped>\n    .dataframe tbody tr th:only-of-type {\n        vertical-align: middle;\n    }\n\n    .dataframe tbody tr th {\n        vertical-align: top;\n    }\n\n    .dataframe thead th {\n        text-align: right;\n    }\n</style>\n<table border=\"1\" class=\"dataframe\">\n  <thead>\n    <tr style=\"text-align: right;\">\n      <th></th>\n      <th>rid</th>\n      <th>int</th>\n      <th>re</th>\n      <th>gc</th>\n      <th>ic</th>\n      <th>psfua3</th>\n      <th>psfua6</th>\n      <th>psfua12</th>\n      <th>ptint</th>\n      <th>ptreint</th>\n      <th>gpt</th>\n      <th>ipt</th>\n      <th>ptfua3</th>\n      <th>ptfua6</th>\n      <th>ptfua12</th>\n      <th>pei</th>\n      <th>td</th>\n    </tr>\n  </thead>\n  <tbody>\n    <tr>\n      <th>0</th>\n      <td>R0501</td>\n      <td>False</td>\n      <td>False</td>\n      <td>True</td>\n      <td>False</td>\n      <td>False</td>\n      <td>False</td>\n      <td>False</td>\n      <td>False</td>\n      <td>False</td>\n      <td>False</td>\n      <td>False</td>\n      <td>False</td>\n      <td>False</td>\n      <td>False</td>\n      <td>False</td>\n      <td>False</td>\n    </tr>\n    <tr>\n      <th>1</th>\n      <td>R0367</td>\n      <td>False</td>\n      <td>False</td>\n      <td>True</td>\n      <td>False</td>\n      <td>False</td>\n      <td>False</td>\n      <td>False</td>\n      <td>False</td>\n      <td>False</td>\n      <td>False</td>\n      <td>False</td>\n      <td>False</td>\n      <td>False</td>\n      <td>False</td>\n      <td>False</td>\n      <td>False</td>\n    </tr>\n    <tr>\n      <th>2</th>\n      <td>R0441</td>\n      <td>False</td>\n      <td>False</td>\n      <td>True</td>\n      <td>False</td>\n      <td>False</td>\n      <td>False</td>\n      <td>False</td>\n      <td>False</td>\n      <td>False</td>\n      <td>False</td>\n      <td>False</td>\n      <td>False</td>\n      <td>False</td>\n      <td>False</td>\n      <td>False</td>\n      <td>False</td>\n    </tr>\n    <tr>\n      <th>3</th>\n      <td>R0391</td>\n      <td>False</td>\n      <td>False</td>\n      <td>True</td>\n      <td>False</td>\n      <td>False</td>\n      <td>False</td>\n      <td>False</td>\n      <td>False</td>\n      <td>False</td>\n      <td>False</td>\n      <td>False</td>\n      <td>False</td>\n      <td>False</td>\n      <td>False</td>\n      <td>False</td>\n      <td>False</td>\n    </tr>\n    <tr>\n      <th>4</th>\n      <td>R0348</td>\n      <td>False</td>\n      <td>False</td>\n      <td>True</td>\n      <td>False</td>\n      <td>False</td>\n      <td>False</td>\n      <td>False</td>\n      <td>False</td>\n      <td>False</td>\n      <td>False</td>\n      <td>False</td>\n      <td>False</td>\n      <td>False</td>\n      <td>False</td>\n      <td>False</td>\n      <td>False</td>\n    </tr>\n    <tr>\n      <th>...</th>\n      <td>...</td>\n      <td>...</td>\n      <td>...</td>\n      <td>...</td>\n      <td>...</td>\n      <td>...</td>\n      <td>...</td>\n      <td>...</td>\n      <td>...</td>\n      <td>...</td>\n      <td>...</td>\n      <td>...</td>\n      <td>...</td>\n      <td>...</td>\n      <td>...</td>\n      <td>...</td>\n      <td>...</td>\n    </tr>\n    <tr>\n      <th>742</th>\n      <td>R0415</td>\n      <td>False</td>\n      <td>False</td>\n      <td>False</td>\n      <td>False</td>\n      <td>False</td>\n      <td>False</td>\n      <td>False</td>\n      <td>False</td>\n      <td>False</td>\n      <td>False</td>\n      <td>False</td>\n      <td>False</td>\n      <td>False</td>\n      <td>False</td>\n      <td>False</td>\n      <td>True</td>\n    </tr>\n    <tr>\n      <th>743</th>\n      <td>R0452</td>\n      <td>False</td>\n      <td>False</td>\n      <td>False</td>\n      <td>False</td>\n      <td>False</td>\n      <td>False</td>\n      <td>False</td>\n      <td>False</td>\n      <td>False</td>\n      <td>False</td>\n      <td>False</td>\n      <td>False</td>\n      <td>False</td>\n      <td>False</td>\n      <td>False</td>\n      <td>True</td>\n    </tr>\n    <tr>\n      <th>744</th>\n      <td>R0534</td>\n      <td>False</td>\n      <td>False</td>\n      <td>False</td>\n      <td>False</td>\n      <td>False</td>\n      <td>False</td>\n      <td>False</td>\n      <td>False</td>\n      <td>False</td>\n      <td>False</td>\n      <td>False</td>\n      <td>False</td>\n      <td>False</td>\n      <td>False</td>\n      <td>False</td>\n      <td>True</td>\n    </tr>\n    <tr>\n      <th>745</th>\n      <td>R0378</td>\n      <td>False</td>\n      <td>False</td>\n      <td>False</td>\n      <td>False</td>\n      <td>False</td>\n      <td>False</td>\n      <td>False</td>\n      <td>False</td>\n      <td>False</td>\n      <td>False</td>\n      <td>False</td>\n      <td>False</td>\n      <td>False</td>\n      <td>False</td>\n      <td>False</td>\n      <td>True</td>\n    </tr>\n    <tr>\n      <th>746</th>\n      <td>R0460</td>\n      <td>False</td>\n      <td>False</td>\n      <td>False</td>\n      <td>False</td>\n      <td>False</td>\n      <td>False</td>\n      <td>False</td>\n      <td>False</td>\n      <td>False</td>\n      <td>False</td>\n      <td>False</td>\n      <td>False</td>\n      <td>False</td>\n      <td>False</td>\n      <td>False</td>\n      <td>True</td>\n    </tr>\n  </tbody>\n</table>\n<p>747 rows × 17 columns</p>\n</div>"
     },
     "execution_count": 16,
     "metadata": {},
     "output_type": "execute_result"
    }
   ],
   "source": [
    "grand_service = grand[['rid', 'service']]\n",
    "grand_service_encoded = pd.get_dummies(grand_service, columns=['service'], prefix='', prefix_sep='')\n",
    "grand_encoded_order = ['rid', 'int', 're', 'gc', 'ic','psfua3', 'psfua6', 'psfua12','ptint','ptreint','gpt', 'ipt', 'ptfua3', 'ptfua6', 'ptfua12', 'pei', 'td']\n",
    "grand_service_encoded = grand_service_encoded[grand_encoded_order]\n",
    "grand_service_encoded"
   ],
   "metadata": {
    "collapsed": false,
    "ExecuteTime": {
     "end_time": "2024-02-05T02:38:37.694089900Z",
     "start_time": "2024-02-05T02:38:37.615589600Z"
    }
   },
   "id": "a9914a3400fb9eed",
   "execution_count": 16
  },
  {
   "cell_type": "code",
   "outputs": [
    {
     "data": {
      "text/plain": "       rid  gc  gpt  ic  int  ipt  pei  psfua12  psfua3  psfua6  ptfua12  \\\n0    R0059   0    0   0    0    0    0        0       0       0        0   \n1    R0061   0    0   0    0    0    0        0       0       0        0   \n2    R0065   0    0   0    0    0    0        0       0       0        0   \n3    R0066   0    0   0    0    0    0        0       0       0        0   \n4    R0074   0    0   0    0    0    0        1       0       0        0   \n..     ...  ..  ...  ..  ...  ...  ...      ...     ...     ...      ...   \n228  R1106   0    0   0    0    0    1        0       0       0        0   \n229  R1109   0    0   0    0    0    1        0       0       0        0   \n230  R1119   0    0   0    0    0    1        0       0       0        0   \n231  R1133   0    0   0    0    0    1        0       0       0        0   \n232  R1143   0    0   0    0    0    1        0       0       0        0   \n\n     ptfua3  ptfua6  ptint  ptreint  re  td  \n0         0       0      0        0   0   1  \n1         0       0      0        0   0   1  \n2         0       0      0        0   0   1  \n3         0       0      0        0   0   1  \n4         0       0      0        0   0   0  \n..      ...     ...    ...      ...  ..  ..  \n228       0       0      0        0   0   0  \n229       0       0      0        0   0   0  \n230       0       0      0        0   0   0  \n231       0       0      0        0   0   0  \n232       0       0      0        0   0   0  \n\n[233 rows x 17 columns]",
      "text/html": "<div>\n<style scoped>\n    .dataframe tbody tr th:only-of-type {\n        vertical-align: middle;\n    }\n\n    .dataframe tbody tr th {\n        vertical-align: top;\n    }\n\n    .dataframe thead th {\n        text-align: right;\n    }\n</style>\n<table border=\"1\" class=\"dataframe\">\n  <thead>\n    <tr style=\"text-align: right;\">\n      <th></th>\n      <th>rid</th>\n      <th>gc</th>\n      <th>gpt</th>\n      <th>ic</th>\n      <th>int</th>\n      <th>ipt</th>\n      <th>pei</th>\n      <th>psfua12</th>\n      <th>psfua3</th>\n      <th>psfua6</th>\n      <th>ptfua12</th>\n      <th>ptfua3</th>\n      <th>ptfua6</th>\n      <th>ptint</th>\n      <th>ptreint</th>\n      <th>re</th>\n      <th>td</th>\n    </tr>\n  </thead>\n  <tbody>\n    <tr>\n      <th>0</th>\n      <td>R0059</td>\n      <td>0</td>\n      <td>0</td>\n      <td>0</td>\n      <td>0</td>\n      <td>0</td>\n      <td>0</td>\n      <td>0</td>\n      <td>0</td>\n      <td>0</td>\n      <td>0</td>\n      <td>0</td>\n      <td>0</td>\n      <td>0</td>\n      <td>0</td>\n      <td>0</td>\n      <td>1</td>\n    </tr>\n    <tr>\n      <th>1</th>\n      <td>R0061</td>\n      <td>0</td>\n      <td>0</td>\n      <td>0</td>\n      <td>0</td>\n      <td>0</td>\n      <td>0</td>\n      <td>0</td>\n      <td>0</td>\n      <td>0</td>\n      <td>0</td>\n      <td>0</td>\n      <td>0</td>\n      <td>0</td>\n      <td>0</td>\n      <td>0</td>\n      <td>1</td>\n    </tr>\n    <tr>\n      <th>2</th>\n      <td>R0065</td>\n      <td>0</td>\n      <td>0</td>\n      <td>0</td>\n      <td>0</td>\n      <td>0</td>\n      <td>0</td>\n      <td>0</td>\n      <td>0</td>\n      <td>0</td>\n      <td>0</td>\n      <td>0</td>\n      <td>0</td>\n      <td>0</td>\n      <td>0</td>\n      <td>0</td>\n      <td>1</td>\n    </tr>\n    <tr>\n      <th>3</th>\n      <td>R0066</td>\n      <td>0</td>\n      <td>0</td>\n      <td>0</td>\n      <td>0</td>\n      <td>0</td>\n      <td>0</td>\n      <td>0</td>\n      <td>0</td>\n      <td>0</td>\n      <td>0</td>\n      <td>0</td>\n      <td>0</td>\n      <td>0</td>\n      <td>0</td>\n      <td>0</td>\n      <td>1</td>\n    </tr>\n    <tr>\n      <th>4</th>\n      <td>R0074</td>\n      <td>0</td>\n      <td>0</td>\n      <td>0</td>\n      <td>0</td>\n      <td>0</td>\n      <td>0</td>\n      <td>1</td>\n      <td>0</td>\n      <td>0</td>\n      <td>0</td>\n      <td>0</td>\n      <td>0</td>\n      <td>0</td>\n      <td>0</td>\n      <td>0</td>\n      <td>0</td>\n    </tr>\n    <tr>\n      <th>...</th>\n      <td>...</td>\n      <td>...</td>\n      <td>...</td>\n      <td>...</td>\n      <td>...</td>\n      <td>...</td>\n      <td>...</td>\n      <td>...</td>\n      <td>...</td>\n      <td>...</td>\n      <td>...</td>\n      <td>...</td>\n      <td>...</td>\n      <td>...</td>\n      <td>...</td>\n      <td>...</td>\n      <td>...</td>\n    </tr>\n    <tr>\n      <th>228</th>\n      <td>R1106</td>\n      <td>0</td>\n      <td>0</td>\n      <td>0</td>\n      <td>0</td>\n      <td>0</td>\n      <td>1</td>\n      <td>0</td>\n      <td>0</td>\n      <td>0</td>\n      <td>0</td>\n      <td>0</td>\n      <td>0</td>\n      <td>0</td>\n      <td>0</td>\n      <td>0</td>\n      <td>0</td>\n    </tr>\n    <tr>\n      <th>229</th>\n      <td>R1109</td>\n      <td>0</td>\n      <td>0</td>\n      <td>0</td>\n      <td>0</td>\n      <td>0</td>\n      <td>1</td>\n      <td>0</td>\n      <td>0</td>\n      <td>0</td>\n      <td>0</td>\n      <td>0</td>\n      <td>0</td>\n      <td>0</td>\n      <td>0</td>\n      <td>0</td>\n      <td>0</td>\n    </tr>\n    <tr>\n      <th>230</th>\n      <td>R1119</td>\n      <td>0</td>\n      <td>0</td>\n      <td>0</td>\n      <td>0</td>\n      <td>0</td>\n      <td>1</td>\n      <td>0</td>\n      <td>0</td>\n      <td>0</td>\n      <td>0</td>\n      <td>0</td>\n      <td>0</td>\n      <td>0</td>\n      <td>0</td>\n      <td>0</td>\n      <td>0</td>\n    </tr>\n    <tr>\n      <th>231</th>\n      <td>R1133</td>\n      <td>0</td>\n      <td>0</td>\n      <td>0</td>\n      <td>0</td>\n      <td>0</td>\n      <td>1</td>\n      <td>0</td>\n      <td>0</td>\n      <td>0</td>\n      <td>0</td>\n      <td>0</td>\n      <td>0</td>\n      <td>0</td>\n      <td>0</td>\n      <td>0</td>\n      <td>0</td>\n    </tr>\n    <tr>\n      <th>232</th>\n      <td>R1143</td>\n      <td>0</td>\n      <td>0</td>\n      <td>0</td>\n      <td>0</td>\n      <td>0</td>\n      <td>1</td>\n      <td>0</td>\n      <td>0</td>\n      <td>0</td>\n      <td>0</td>\n      <td>0</td>\n      <td>0</td>\n      <td>0</td>\n      <td>0</td>\n      <td>0</td>\n      <td>0</td>\n    </tr>\n  </tbody>\n</table>\n<p>233 rows × 17 columns</p>\n</div>"
     },
     "execution_count": 17,
     "metadata": {},
     "output_type": "execute_result"
    }
   ],
   "source": [
    "pivot_grand_service_encoded = grand_service_encoded.pivot_table(index=['rid'], aggfunc='sum', fill_value=0).reset_index()\n",
    "pivot_grand_service_encoded"
   ],
   "metadata": {
    "collapsed": false,
    "ExecuteTime": {
     "end_time": "2024-02-05T02:41:49.476016700Z",
     "start_time": "2024-02-05T02:41:49.423363600Z"
    }
   },
   "id": "45d2cec03dc7af88",
   "execution_count": 17
  },
  {
   "cell_type": "code",
   "outputs": [],
   "source": [
    "# unique_grand = grand.drop_duplicates(subset=['rid'])\n",
    "# unique_grand"
   ],
   "metadata": {
    "collapsed": false
   },
   "id": "360543d610abe0c8",
   "execution_count": null
  },
  {
   "cell_type": "code",
   "outputs": [],
   "source": [
    "# grand[grand.duplicated('rid', keep=False)]"
   ],
   "metadata": {
    "collapsed": false
   },
   "id": "2d99db526de56b37",
   "execution_count": null
  },
  {
   "cell_type": "code",
   "outputs": [],
   "source": [
    "grand_encoded = pd.get_dummies(grand, columns=['service'], prefix='', prefix_sep='')\n",
    "grand_encoded_order = ['rid', 'fcid', 'sex', 'age', 'int', 're', 'gc', 'ic','psfua3', 'psfua6', 'psfua12','ptint','ptreint','gpt', 'ipt', 'ptfua3', 'ptfua6', 'ptfua12', 'pei', 'td', 'family_of_missing', 'survivor_of_detention', 'primary_torture', 'secondary_torture','sexual_violation_a', 'sexual_violation_p', 'hrd', 'journalist', 'wov', 'stgbv', 'lgbti', 'other']\n",
    "\n",
    "grand_encoded = grand_encoded[grand_encoded_order]\n",
    "# grand_encoded.to_csv(os.path.join(unvfvt23, 'grandBeneficiariesEncodedDataset23.csv'))\n",
    "grand_encoded"
   ],
   "metadata": {
    "collapsed": false
   },
   "id": "890e0a85570c3542",
   "execution_count": null
  },
  {
   "cell_type": "code",
   "outputs": [],
   "source": [
    "grand_encoded.groupby('rid').sum().reset_index()"
   ],
   "metadata": {
    "collapsed": false
   },
   "id": "7e874602264bc32f",
   "execution_count": null
  },
  {
   "cell_type": "code",
   "outputs": [],
   "source": [
    "# grand_encoded.to_csv(os.path.join(unvfvt23, 'grandBeneficiariesEncodedDataset23.csv'))"
   ],
   "metadata": {
    "collapsed": false
   },
   "id": "e15a57a0ed5267e4",
   "execution_count": null
  },
  {
   "cell_type": "code",
   "outputs": [],
   "source": [
    "indexes = ['rid', 'fcid', 'sex', 'age', 'family_of_missing', 'survivor_of_detention', 'primary_torture', 'secondary_torture','sexual_violation_a', 'sexual_violation_p', 'hrd', 'journalist', 'wov', 'stgbv', 'lgbti', 'other']\n",
    "\n",
    "# pivot_grand_encoded = grand_encoded.pivot_table(index=['rid'], aggfunc='sum', fill_value=0).reset_index()\n"
   ],
   "metadata": {
    "collapsed": false
   },
   "id": "76eb5e4265d10697",
   "execution_count": null
  },
  {
   "cell_type": "code",
   "outputs": [],
   "source": [
    "pivot_grand_encoded"
   ],
   "metadata": {
    "collapsed": false
   },
   "id": "99059be823163eec",
   "execution_count": null
  },
  {
   "cell_type": "code",
   "outputs": [],
   "source": [
    "pivot_grand_encoded[pivot_grand_encoded.duplicated(subset=['rid'], keep=False)]"
   ],
   "metadata": {
    "collapsed": false
   },
   "id": "8d168b36476661ac",
   "execution_count": null
  }
 ],
 "metadata": {
  "kernelspec": {
   "display_name": "Python 3",
   "language": "python",
   "name": "python3"
  },
  "language_info": {
   "codemirror_mode": {
    "name": "ipython",
    "version": 2
   },
   "file_extension": ".py",
   "mimetype": "text/x-python",
   "name": "python",
   "nbconvert_exporter": "python",
   "pygments_lexer": "ipython2",
   "version": "2.7.6"
  }
 },
 "nbformat": 4,
 "nbformat_minor": 5
}
