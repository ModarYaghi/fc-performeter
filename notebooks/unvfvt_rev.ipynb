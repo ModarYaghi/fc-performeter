{
 "cells": [
  {
   "cell_type": "code",
   "execution_count": 5,
   "id": "initial_id",
   "metadata": {
    "collapsed": true,
    "ExecuteTime": {
     "end_time": "2024-02-03T23:33:11.344974600Z",
     "start_time": "2024-02-03T23:33:11.307901200Z"
    }
   },
   "outputs": [],
   "source": [
    "import os\n",
    "import pandas as pd\n",
    "from src.all_in_one import *\n",
    "threshold = \"2022-12-31\""
   ]
  },
  {
   "cell_type": "code",
   "outputs": [
    {
     "data": {
      "text/plain": "       rid  \\\n0    R1143   \n1    R1133   \n2    R1119   \n3    R1109   \n4    R1106   \n..     ...   \n108    NaN   \n109  R1077   \n110  R0719   \n111  R1097   \n112  R0450   \n\n                                                                      fcid  \\\n0                                                                      NaN   \n1                                                                      NaN   \n2                                                                      NaN   \n3                                                                      NaN   \n4                                                                      NaN   \n..                                                                     ...   \n108                                                                    NaN   \n109                        موجود تقييم زلزال بتاريخ  في مجلد 1-2-3/11/2023   \n110            موجود تقييم زلزال بتاريخ 15-6-2023 في مجلد10-11-12/10/2023    \n111                       موجود تقييم زلزال بتاريخ في مجلد20-21-22/11/2023   \n112  موجود تقييم زلزال في مجلد توثيث جلسلت ورشة مابعد الزلزال سلوى - إسراء   \n\n    service       date  pei_total primary_torture secondary_torture  wov  \\\n0       pei 2023-12-14        3.0              No               Yes  Yes   \n1       pei 2023-12-11        3.0             Yes               Yes  Yes   \n2       pei 2023-12-13        3.0             Yes                No  Yes   \n3       pei 2023-12-13        3.0             Yes               Yes  Yes   \n4       pei 2023-12-13        2.0             Yes               Yes  Yes   \n..      ...        ...        ...             ...               ...  ...   \n108     NaN        NaT        NaN             NaN               NaN  NaN   \n109     NaN        NaT        NaN              No                No  Yes   \n110     NaN        NaT        NaN             NaN               NaN  NaN   \n111     NaN        NaT        NaN             NaN               NaN  NaN   \n112     NaN        NaT        NaN             NaN               NaN  NaN   \n\n    sexual_violation_p sexual_violation_a  ... stgbv lgbti family_of_missing  \\\n0                   No                 No  ...    No    No               NaN   \n1                  Yes                 No  ...    No    No               NaN   \n2                  Yes                 No  ...    No    No               NaN   \n3                  Yes                Yes  ...   Yes    No               NaN   \n4                  Yes                 No  ...    No    No               NaN   \n..                 ...                ...  ...   ...   ...               ...   \n108                NaN                NaN  ...   NaN   NaN               NaN   \n109                 No                 No  ...    No    No               NaN   \n110                NaN                NaN  ...   NaN   NaN               NaN   \n111                NaN                NaN  ...   NaN   NaN               NaN   \n112                NaN                NaN  ...   NaN   NaN               NaN   \n\n    survivor_of_detention other     sex  age Entry py maen  Unnamed: 20  \\\n0                     NaN   NaN  Female 23.0           Yes          NaN   \n1                     NaN   NaN  Female 52.0           Yes          NaN   \n2                     NaN   NaN  Female 62.0           Yes          NaN   \n3                     NaN   NaN  Female 43.0           Yes          NaN   \n4                     NaN   NaN  Female 38.0           Yes          NaN   \n..                    ...   ...     ...  ...           ...          ...   \n108                   NaN   NaN     NaN  NaN           NaN          NaN   \n109                   NaN   NaN     NaN  NaN           Yes          NaN   \n110                   NaN   NaN     NaN  NaN           NaN          NaN   \n111                   NaN   NaN     NaN  NaN           NaN          NaN   \n112                   NaN   NaN     NaN  NaN           NaN          NaN   \n\n    Unnamed: 21  \n0           NaN  \n1           NaN  \n2           NaN  \n3           NaN  \n4           NaN  \n..          ...  \n108         NaN  \n109         NaN  \n110         NaN  \n111         NaN  \n112         NaN  \n\n[113 rows x 22 columns]",
      "text/html": "<div>\n<style scoped>\n    .dataframe tbody tr th:only-of-type {\n        vertical-align: middle;\n    }\n\n    .dataframe tbody tr th {\n        vertical-align: top;\n    }\n\n    .dataframe thead th {\n        text-align: right;\n    }\n</style>\n<table border=\"1\" class=\"dataframe\">\n  <thead>\n    <tr style=\"text-align: right;\">\n      <th></th>\n      <th>rid</th>\n      <th>fcid</th>\n      <th>service</th>\n      <th>date</th>\n      <th>pei_total</th>\n      <th>primary_torture</th>\n      <th>secondary_torture</th>\n      <th>wov</th>\n      <th>sexual_violation_p</th>\n      <th>sexual_violation_a</th>\n      <th>...</th>\n      <th>stgbv</th>\n      <th>lgbti</th>\n      <th>family_of_missing</th>\n      <th>survivor_of_detention</th>\n      <th>other</th>\n      <th>sex</th>\n      <th>age</th>\n      <th>Entry py maen</th>\n      <th>Unnamed: 20</th>\n      <th>Unnamed: 21</th>\n    </tr>\n  </thead>\n  <tbody>\n    <tr>\n      <th>0</th>\n      <td>R1143</td>\n      <td>NaN</td>\n      <td>pei</td>\n      <td>2023-12-14</td>\n      <td>3.0</td>\n      <td>No</td>\n      <td>Yes</td>\n      <td>Yes</td>\n      <td>No</td>\n      <td>No</td>\n      <td>...</td>\n      <td>No</td>\n      <td>No</td>\n      <td>NaN</td>\n      <td>NaN</td>\n      <td>NaN</td>\n      <td>Female</td>\n      <td>23.0</td>\n      <td>Yes</td>\n      <td>NaN</td>\n      <td>NaN</td>\n    </tr>\n    <tr>\n      <th>1</th>\n      <td>R1133</td>\n      <td>NaN</td>\n      <td>pei</td>\n      <td>2023-12-11</td>\n      <td>3.0</td>\n      <td>Yes</td>\n      <td>Yes</td>\n      <td>Yes</td>\n      <td>Yes</td>\n      <td>No</td>\n      <td>...</td>\n      <td>No</td>\n      <td>No</td>\n      <td>NaN</td>\n      <td>NaN</td>\n      <td>NaN</td>\n      <td>Female</td>\n      <td>52.0</td>\n      <td>Yes</td>\n      <td>NaN</td>\n      <td>NaN</td>\n    </tr>\n    <tr>\n      <th>2</th>\n      <td>R1119</td>\n      <td>NaN</td>\n      <td>pei</td>\n      <td>2023-12-13</td>\n      <td>3.0</td>\n      <td>Yes</td>\n      <td>No</td>\n      <td>Yes</td>\n      <td>Yes</td>\n      <td>No</td>\n      <td>...</td>\n      <td>No</td>\n      <td>No</td>\n      <td>NaN</td>\n      <td>NaN</td>\n      <td>NaN</td>\n      <td>Female</td>\n      <td>62.0</td>\n      <td>Yes</td>\n      <td>NaN</td>\n      <td>NaN</td>\n    </tr>\n    <tr>\n      <th>3</th>\n      <td>R1109</td>\n      <td>NaN</td>\n      <td>pei</td>\n      <td>2023-12-13</td>\n      <td>3.0</td>\n      <td>Yes</td>\n      <td>Yes</td>\n      <td>Yes</td>\n      <td>Yes</td>\n      <td>Yes</td>\n      <td>...</td>\n      <td>Yes</td>\n      <td>No</td>\n      <td>NaN</td>\n      <td>NaN</td>\n      <td>NaN</td>\n      <td>Female</td>\n      <td>43.0</td>\n      <td>Yes</td>\n      <td>NaN</td>\n      <td>NaN</td>\n    </tr>\n    <tr>\n      <th>4</th>\n      <td>R1106</td>\n      <td>NaN</td>\n      <td>pei</td>\n      <td>2023-12-13</td>\n      <td>2.0</td>\n      <td>Yes</td>\n      <td>Yes</td>\n      <td>Yes</td>\n      <td>Yes</td>\n      <td>No</td>\n      <td>...</td>\n      <td>No</td>\n      <td>No</td>\n      <td>NaN</td>\n      <td>NaN</td>\n      <td>NaN</td>\n      <td>Female</td>\n      <td>38.0</td>\n      <td>Yes</td>\n      <td>NaN</td>\n      <td>NaN</td>\n    </tr>\n    <tr>\n      <th>...</th>\n      <td>...</td>\n      <td>...</td>\n      <td>...</td>\n      <td>...</td>\n      <td>...</td>\n      <td>...</td>\n      <td>...</td>\n      <td>...</td>\n      <td>...</td>\n      <td>...</td>\n      <td>...</td>\n      <td>...</td>\n      <td>...</td>\n      <td>...</td>\n      <td>...</td>\n      <td>...</td>\n      <td>...</td>\n      <td>...</td>\n      <td>...</td>\n      <td>...</td>\n      <td>...</td>\n    </tr>\n    <tr>\n      <th>108</th>\n      <td>NaN</td>\n      <td>NaN</td>\n      <td>NaN</td>\n      <td>NaT</td>\n      <td>NaN</td>\n      <td>NaN</td>\n      <td>NaN</td>\n      <td>NaN</td>\n      <td>NaN</td>\n      <td>NaN</td>\n      <td>...</td>\n      <td>NaN</td>\n      <td>NaN</td>\n      <td>NaN</td>\n      <td>NaN</td>\n      <td>NaN</td>\n      <td>NaN</td>\n      <td>NaN</td>\n      <td>NaN</td>\n      <td>NaN</td>\n      <td>NaN</td>\n    </tr>\n    <tr>\n      <th>109</th>\n      <td>R1077</td>\n      <td>موجود تقييم زلزال بتاريخ  في مجلد 1-2-3/11/2023</td>\n      <td>NaN</td>\n      <td>NaT</td>\n      <td>NaN</td>\n      <td>No</td>\n      <td>No</td>\n      <td>Yes</td>\n      <td>No</td>\n      <td>No</td>\n      <td>...</td>\n      <td>No</td>\n      <td>No</td>\n      <td>NaN</td>\n      <td>NaN</td>\n      <td>NaN</td>\n      <td>NaN</td>\n      <td>NaN</td>\n      <td>Yes</td>\n      <td>NaN</td>\n      <td>NaN</td>\n    </tr>\n    <tr>\n      <th>110</th>\n      <td>R0719</td>\n      <td>موجود تقييم زلزال بتاريخ 15-6-2023 في مجلد10-11-12/10/2023</td>\n      <td>NaN</td>\n      <td>NaT</td>\n      <td>NaN</td>\n      <td>NaN</td>\n      <td>NaN</td>\n      <td>NaN</td>\n      <td>NaN</td>\n      <td>NaN</td>\n      <td>...</td>\n      <td>NaN</td>\n      <td>NaN</td>\n      <td>NaN</td>\n      <td>NaN</td>\n      <td>NaN</td>\n      <td>NaN</td>\n      <td>NaN</td>\n      <td>NaN</td>\n      <td>NaN</td>\n      <td>NaN</td>\n    </tr>\n    <tr>\n      <th>111</th>\n      <td>R1097</td>\n      <td>موجود تقييم زلزال بتاريخ في مجلد20-21-22/11/2023</td>\n      <td>NaN</td>\n      <td>NaT</td>\n      <td>NaN</td>\n      <td>NaN</td>\n      <td>NaN</td>\n      <td>NaN</td>\n      <td>NaN</td>\n      <td>NaN</td>\n      <td>...</td>\n      <td>NaN</td>\n      <td>NaN</td>\n      <td>NaN</td>\n      <td>NaN</td>\n      <td>NaN</td>\n      <td>NaN</td>\n      <td>NaN</td>\n      <td>NaN</td>\n      <td>NaN</td>\n      <td>NaN</td>\n    </tr>\n    <tr>\n      <th>112</th>\n      <td>R0450</td>\n      <td>موجود تقييم زلزال في مجلد توثيث جلسلت ورشة مابعد الزلزال سلوى - إسراء</td>\n      <td>NaN</td>\n      <td>NaT</td>\n      <td>NaN</td>\n      <td>NaN</td>\n      <td>NaN</td>\n      <td>NaN</td>\n      <td>NaN</td>\n      <td>NaN</td>\n      <td>...</td>\n      <td>NaN</td>\n      <td>NaN</td>\n      <td>NaN</td>\n      <td>NaN</td>\n      <td>NaN</td>\n      <td>NaN</td>\n      <td>NaN</td>\n      <td>NaN</td>\n      <td>NaN</td>\n      <td>NaN</td>\n    </tr>\n  </tbody>\n</table>\n<p>113 rows × 22 columns</p>\n</div>"
     },
     "execution_count": 11,
     "metadata": {},
     "output_type": "execute_result"
    }
   ],
   "source": [
    "suffix = \"Beneficiaries23.xlsx\"\n",
    "prefix = \"_pei\"\n",
    "filename = os.path.join(unvfvt23, prefix + suffix)\n",
    "pd.read_excel(filename)"
   ],
   "metadata": {
    "collapsed": false,
    "ExecuteTime": {
     "end_time": "2024-02-04T01:21:38.080552Z",
     "start_time": "2024-02-04T01:21:38.006051900Z"
    }
   },
   "id": "f5ff192ddffc52e6",
   "execution_count": 11
  },
  {
   "cell_type": "code",
   "outputs": [],
   "source": [
    "gc_date_cols =  ['gc_s1', 'gc_s2', 'gc_s3', 'gc_s4', 'gc_s5', 'gc_s6', 'gc_s7', 'gc_s8', 'gc_s9', 'gc_10']"
   ],
   "metadata": {
    "collapsed": false,
    "ExecuteTime": {
     "end_time": "2024-02-04T01:21:25.802934600Z",
     "start_time": "2024-02-04T01:21:25.791345400Z"
    }
   },
   "id": "8c05e5dd3fe52124",
   "execution_count": 9
  },
  {
   "cell_type": "code",
   "outputs": [],
   "source": [
    "# gc_dataset = Dataset(config_file, gc_sheet)\n",
    "# gc = pd.read_csv(gc_path)\n",
    "# dtype_trans(gc, gc_dataset)\n",
    "# gc = filter_df_by_date(gc, gc_date_cols, threshold)\n",
    "# gc"
   ],
   "metadata": {
    "collapsed": false,
    "ExecuteTime": {
     "end_time": "2024-02-03T23:42:12.199070900Z",
     "start_time": "2024-02-03T23:42:12.191849500Z"
    }
   },
   "id": "4c583b6375e8fed6",
   "execution_count": 7
  }
 ],
 "metadata": {
  "kernelspec": {
   "display_name": "Python 3",
   "language": "python",
   "name": "python3"
  },
  "language_info": {
   "codemirror_mode": {
    "name": "ipython",
    "version": 2
   },
   "file_extension": ".py",
   "mimetype": "text/x-python",
   "name": "python",
   "nbconvert_exporter": "python",
   "pygments_lexer": "ipython2",
   "version": "2.7.6"
  }
 },
 "nbformat": 4,
 "nbformat_minor": 5
}
