{
 "cells": [
  {
   "cell_type": "code",
   "execution_count": 1,
   "id": "initial_id",
   "metadata": {
    "collapsed": true,
    "ExecuteTime": {
     "end_time": "2024-02-05T10:05:50.059859200Z",
     "start_time": "2024-02-05T10:05:48.817409800Z"
    }
   },
   "outputs": [],
   "source": [
    "import os\n",
    "import pandas as pd\n",
    "from src.all_in_one import *\n",
    "threshold = \"2022-12-31\""
   ]
  },
  {
   "cell_type": "code",
   "outputs": [],
   "source": [
    "# gc_date_cols =  ['gc_s1', 'gc_s2', 'gc_s3', 'gc_s4', 'gc_s5', 'gc_s6', 'gc_s7', 'gc_s8', 'gc_s9', 'gc_10']\n",
    "# df_order = ['rid', 'fcid', 'sex', 'age','service', 'date', 'session_num', 'family_of_missing', 'survivor_of_detention', 'primary_torture', 'secondary_torture', 'sexual_violation_a', 'sexual_violation_p', 'hrd', 'journalist', 'wov', 'stgbv', 'lgbti', 'other']"
   ],
   "metadata": {
    "collapsed": false,
    "ExecuteTime": {
     "end_time": "2024-02-05T10:05:50.077977700Z",
     "start_time": "2024-02-05T10:05:50.063068700Z"
    }
   },
   "id": "a559d937e24c8963",
   "execution_count": 2
  },
  {
   "cell_type": "code",
   "outputs": [],
   "source": [
    "# prefix_list = ['gc', 'ic','gpt', 'int', 'ipt', 'pei','psfua3', 'psfua6', 'psfua12', 'ptfua3', 'ptfua6', 'ptfua12', 'ptint', 'ptreint', 'reint', 'td']\n",
    "# suffix = \"Beneficiaries23.csv\"\n",
    "# df_list = []"
   ],
   "metadata": {
    "collapsed": false,
    "ExecuteTime": {
     "end_time": "2024-02-05T10:05:50.082904500Z",
     "start_time": "2024-02-05T10:05:50.069280200Z"
    }
   },
   "id": "78921b79878a6989",
   "execution_count": 3
  },
  {
   "cell_type": "code",
   "outputs": [],
   "source": [
    "# for prefix in prefix_list:\n",
    "#     filename = os.path.join(unvfvt23, prefix + suffix)\n",
    "#     df = pd.read_csv(filename)\n",
    "#     df[['fcid', 'session_num','age']] = df[['fcid', 'session_num','age']].astype(\"Int64\")\n",
    "#     df['date'] = df['date'].apply(pd.to_datetime)\n",
    "#     df_list.append(df)"
   ],
   "metadata": {
    "collapsed": false,
    "ExecuteTime": {
     "end_time": "2024-02-05T10:05:50.120102400Z",
     "start_time": "2024-02-05T10:05:50.075916300Z"
    }
   },
   "id": "f5ff192ddffc52e6",
   "execution_count": 4
  },
  {
   "cell_type": "code",
   "outputs": [],
   "source": [
    "# grand_df = pd.concat(df_list, ignore_index=True)\n",
    "# grand_df = grand_df[df_order]\n",
    "# grand_df"
   ],
   "metadata": {
    "collapsed": false,
    "ExecuteTime": {
     "end_time": "2024-02-05T10:05:50.121153700Z",
     "start_time": "2024-02-05T10:05:50.088792100Z"
    }
   },
   "id": "38c352d9d6181483",
   "execution_count": 5
  },
  {
   "cell_type": "code",
   "outputs": [],
   "source": [
    "# grand_df.to_csv(os.path.join(unvfvt23, 'grandBeneficiariesDataset23.csv'), index=False)"
   ],
   "metadata": {
    "collapsed": false,
    "ExecuteTime": {
     "end_time": "2024-02-05T10:05:50.122906300Z",
     "start_time": "2024-02-05T10:05:50.095908800Z"
    }
   },
   "id": "96556b9a9a3b2d95",
   "execution_count": 6
  },
  {
   "cell_type": "code",
   "outputs": [],
   "source": [
    "# destination = os.path.join(unvfvt23, 'peiBeneficiaries23.csv')\n",
    "# pd.read_csv(destination)"
   ],
   "metadata": {
    "collapsed": false,
    "ExecuteTime": {
     "end_time": "2024-02-05T10:05:50.123969700Z",
     "start_time": "2024-02-05T10:05:50.102306300Z"
    }
   },
   "id": "ff98027c14170fe1",
   "execution_count": 7
  },
  {
   "cell_type": "code",
   "outputs": [],
   "source": [
    "# pd.read_csv(filename)"
   ],
   "metadata": {
    "collapsed": false,
    "ExecuteTime": {
     "end_time": "2024-02-05T10:05:50.124968Z",
     "start_time": "2024-02-05T10:05:50.108891700Z"
    }
   },
   "id": "ddf49144a74fd7e2",
   "execution_count": 8
  },
  {
   "cell_type": "code",
   "outputs": [],
   "source": [
    "# scr_dataset = Dataset(config_file, scr_sheet)\n",
    "# scr = pd.read_csv(scr_path)\n",
    "# dtype_trans(scr, scr_dataset)\n",
    "# rid_val = 'R0407'\n",
    "# name_val = 'رشا'\n",
    "# scr[scr['rid'] == rid_val]\n",
    "# scr[scr['firstname'] == name_val]"
   ],
   "metadata": {
    "collapsed": false,
    "ExecuteTime": {
     "end_time": "2024-02-05T10:05:50.155247500Z",
     "start_time": "2024-02-05T10:05:50.115427200Z"
    }
   },
   "id": "8c05e5dd3fe52124",
   "execution_count": 9
  },
  {
   "cell_type": "code",
   "outputs": [],
   "source": [
    "# df_dataset = Dataset(config_file, ptint_sheet)\n",
    "# df = pd.read_csv(ptint_path)\n",
    "# dtype_trans(df, df_dataset)\n",
    "# rid_val = 'R0407'\n",
    "# df[df['rid'] == rid_val]"
   ],
   "metadata": {
    "collapsed": false,
    "ExecuteTime": {
     "end_time": "2024-02-05T10:05:50.158961700Z",
     "start_time": "2024-02-05T10:05:50.121153700Z"
    }
   },
   "id": "4c583b6375e8fed6",
   "execution_count": 10
  },
  {
   "cell_type": "code",
   "outputs": [],
   "source": [
    "grand_df_path = os.path.join(unvfvt23, 'grandBeneficiariesDataset23.csv')\n",
    "grand = pd.read_csv(grand_df_path)\n",
    "grand[['fcid', 'session_num','age']] = grand[['fcid', 'session_num','age']].astype(\"Int64\")\n",
    "grand['date'] = grand['date'].apply(pd.to_datetime)"
   ],
   "metadata": {
    "collapsed": false,
    "ExecuteTime": {
     "end_time": "2024-02-05T10:05:50.467922500Z",
     "start_time": "2024-02-05T10:05:50.128062800Z"
    }
   },
   "id": "d648e5434f7c4d18",
   "execution_count": 11
  },
  {
   "cell_type": "code",
   "outputs": [
    {
     "data": {
      "text/plain": "       rid        fcid     sex  age service       date  session_num  \\\n0    R0501  8110020120  Female   41      gc 2023-01-18            9   \n1    R0367  8110020110  Female   40      gc 2023-01-18           10   \n2    R0441  8110050063  Female   43      gc 2023-01-18            8   \n3    R0391  8110050067  Female   44      gc 2023-01-18           10   \n4    R0348  8110020097  Female   43      gc 2023-01-18           10   \n..     ...         ...     ...  ...     ...        ...          ...   \n742  R0415  8110020102    Male   25      td 2023-05-11            0   \n743  R0452  8110050080  Female   40      td 2023-08-23            0   \n744  R0534  8110050087  Female   37      td 2023-08-24            0   \n745  R0378  8110050066  Female   38      td 2023-08-25            0   \n746  R0460  8110090003  Female   27      td 2023-10-04            0   \n\n    family_of_missing survivor_of_detention primary_torture secondary_torture  \\\n0                  No                    No              No               Yes   \n1                 Yes                    No              No               Yes   \n2                  No                    No              No               Yes   \n3                 Yes                    No              No               Yes   \n4                 Yes                    No              No               Yes   \n..                ...                   ...             ...               ...   \n742                No                   Yes             Yes               Yes   \n743               Yes                    No              No               Yes   \n744                No                   Yes             Yes               Yes   \n745               Yes                    No              No               Yes   \n746               Yes                    No             Yes               Yes   \n\n    sexual_violation_a sexual_violation_p  hrd journalist  wov stgbv lgbti  \\\n0                  NaN                NaN  NaN        NaN  Yes   Yes    No   \n1                  NaN                NaN  NaN        NaN  Yes    No    No   \n2                  NaN                NaN  NaN        NaN  Yes    No    No   \n3                  NaN                NaN  NaN        NaN  Yes    No    No   \n4                  NaN                NaN  NaN        NaN  Yes    No    No   \n..                 ...                ...  ...        ...  ...   ...   ...   \n742                 No                Yes  Yes         No  Yes   Yes    No   \n743                NaN                NaN  NaN        NaN  Yes    No    No   \n744                NaN                NaN  NaN        NaN  Yes   Yes    No   \n745                NaN                NaN  NaN        NaN  Yes    No    No   \n746                Yes                NaN  NaN        NaN  Yes    No    No   \n\n    other  \n0      No  \n1      No  \n2      No  \n3      No  \n4      No  \n..    ...  \n742    No  \n743    No  \n744    No  \n745    No  \n746   NaN  \n\n[747 rows x 19 columns]",
      "text/html": "<div>\n<style scoped>\n    .dataframe tbody tr th:only-of-type {\n        vertical-align: middle;\n    }\n\n    .dataframe tbody tr th {\n        vertical-align: top;\n    }\n\n    .dataframe thead th {\n        text-align: right;\n    }\n</style>\n<table border=\"1\" class=\"dataframe\">\n  <thead>\n    <tr style=\"text-align: right;\">\n      <th></th>\n      <th>rid</th>\n      <th>fcid</th>\n      <th>sex</th>\n      <th>age</th>\n      <th>service</th>\n      <th>date</th>\n      <th>session_num</th>\n      <th>family_of_missing</th>\n      <th>survivor_of_detention</th>\n      <th>primary_torture</th>\n      <th>secondary_torture</th>\n      <th>sexual_violation_a</th>\n      <th>sexual_violation_p</th>\n      <th>hrd</th>\n      <th>journalist</th>\n      <th>wov</th>\n      <th>stgbv</th>\n      <th>lgbti</th>\n      <th>other</th>\n    </tr>\n  </thead>\n  <tbody>\n    <tr>\n      <th>0</th>\n      <td>R0501</td>\n      <td>8110020120</td>\n      <td>Female</td>\n      <td>41</td>\n      <td>gc</td>\n      <td>2023-01-18</td>\n      <td>9</td>\n      <td>No</td>\n      <td>No</td>\n      <td>No</td>\n      <td>Yes</td>\n      <td>NaN</td>\n      <td>NaN</td>\n      <td>NaN</td>\n      <td>NaN</td>\n      <td>Yes</td>\n      <td>Yes</td>\n      <td>No</td>\n      <td>No</td>\n    </tr>\n    <tr>\n      <th>1</th>\n      <td>R0367</td>\n      <td>8110020110</td>\n      <td>Female</td>\n      <td>40</td>\n      <td>gc</td>\n      <td>2023-01-18</td>\n      <td>10</td>\n      <td>Yes</td>\n      <td>No</td>\n      <td>No</td>\n      <td>Yes</td>\n      <td>NaN</td>\n      <td>NaN</td>\n      <td>NaN</td>\n      <td>NaN</td>\n      <td>Yes</td>\n      <td>No</td>\n      <td>No</td>\n      <td>No</td>\n    </tr>\n    <tr>\n      <th>2</th>\n      <td>R0441</td>\n      <td>8110050063</td>\n      <td>Female</td>\n      <td>43</td>\n      <td>gc</td>\n      <td>2023-01-18</td>\n      <td>8</td>\n      <td>No</td>\n      <td>No</td>\n      <td>No</td>\n      <td>Yes</td>\n      <td>NaN</td>\n      <td>NaN</td>\n      <td>NaN</td>\n      <td>NaN</td>\n      <td>Yes</td>\n      <td>No</td>\n      <td>No</td>\n      <td>No</td>\n    </tr>\n    <tr>\n      <th>3</th>\n      <td>R0391</td>\n      <td>8110050067</td>\n      <td>Female</td>\n      <td>44</td>\n      <td>gc</td>\n      <td>2023-01-18</td>\n      <td>10</td>\n      <td>Yes</td>\n      <td>No</td>\n      <td>No</td>\n      <td>Yes</td>\n      <td>NaN</td>\n      <td>NaN</td>\n      <td>NaN</td>\n      <td>NaN</td>\n      <td>Yes</td>\n      <td>No</td>\n      <td>No</td>\n      <td>No</td>\n    </tr>\n    <tr>\n      <th>4</th>\n      <td>R0348</td>\n      <td>8110020097</td>\n      <td>Female</td>\n      <td>43</td>\n      <td>gc</td>\n      <td>2023-01-18</td>\n      <td>10</td>\n      <td>Yes</td>\n      <td>No</td>\n      <td>No</td>\n      <td>Yes</td>\n      <td>NaN</td>\n      <td>NaN</td>\n      <td>NaN</td>\n      <td>NaN</td>\n      <td>Yes</td>\n      <td>No</td>\n      <td>No</td>\n      <td>No</td>\n    </tr>\n    <tr>\n      <th>...</th>\n      <td>...</td>\n      <td>...</td>\n      <td>...</td>\n      <td>...</td>\n      <td>...</td>\n      <td>...</td>\n      <td>...</td>\n      <td>...</td>\n      <td>...</td>\n      <td>...</td>\n      <td>...</td>\n      <td>...</td>\n      <td>...</td>\n      <td>...</td>\n      <td>...</td>\n      <td>...</td>\n      <td>...</td>\n      <td>...</td>\n      <td>...</td>\n    </tr>\n    <tr>\n      <th>742</th>\n      <td>R0415</td>\n      <td>8110020102</td>\n      <td>Male</td>\n      <td>25</td>\n      <td>td</td>\n      <td>2023-05-11</td>\n      <td>0</td>\n      <td>No</td>\n      <td>Yes</td>\n      <td>Yes</td>\n      <td>Yes</td>\n      <td>No</td>\n      <td>Yes</td>\n      <td>Yes</td>\n      <td>No</td>\n      <td>Yes</td>\n      <td>Yes</td>\n      <td>No</td>\n      <td>No</td>\n    </tr>\n    <tr>\n      <th>743</th>\n      <td>R0452</td>\n      <td>8110050080</td>\n      <td>Female</td>\n      <td>40</td>\n      <td>td</td>\n      <td>2023-08-23</td>\n      <td>0</td>\n      <td>Yes</td>\n      <td>No</td>\n      <td>No</td>\n      <td>Yes</td>\n      <td>NaN</td>\n      <td>NaN</td>\n      <td>NaN</td>\n      <td>NaN</td>\n      <td>Yes</td>\n      <td>No</td>\n      <td>No</td>\n      <td>No</td>\n    </tr>\n    <tr>\n      <th>744</th>\n      <td>R0534</td>\n      <td>8110050087</td>\n      <td>Female</td>\n      <td>37</td>\n      <td>td</td>\n      <td>2023-08-24</td>\n      <td>0</td>\n      <td>No</td>\n      <td>Yes</td>\n      <td>Yes</td>\n      <td>Yes</td>\n      <td>NaN</td>\n      <td>NaN</td>\n      <td>NaN</td>\n      <td>NaN</td>\n      <td>Yes</td>\n      <td>Yes</td>\n      <td>No</td>\n      <td>No</td>\n    </tr>\n    <tr>\n      <th>745</th>\n      <td>R0378</td>\n      <td>8110050066</td>\n      <td>Female</td>\n      <td>38</td>\n      <td>td</td>\n      <td>2023-08-25</td>\n      <td>0</td>\n      <td>Yes</td>\n      <td>No</td>\n      <td>No</td>\n      <td>Yes</td>\n      <td>NaN</td>\n      <td>NaN</td>\n      <td>NaN</td>\n      <td>NaN</td>\n      <td>Yes</td>\n      <td>No</td>\n      <td>No</td>\n      <td>No</td>\n    </tr>\n    <tr>\n      <th>746</th>\n      <td>R0460</td>\n      <td>8110090003</td>\n      <td>Female</td>\n      <td>27</td>\n      <td>td</td>\n      <td>2023-10-04</td>\n      <td>0</td>\n      <td>Yes</td>\n      <td>No</td>\n      <td>Yes</td>\n      <td>Yes</td>\n      <td>Yes</td>\n      <td>NaN</td>\n      <td>NaN</td>\n      <td>NaN</td>\n      <td>Yes</td>\n      <td>No</td>\n      <td>No</td>\n      <td>NaN</td>\n    </tr>\n  </tbody>\n</table>\n<p>747 rows × 19 columns</p>\n</div>"
     },
     "execution_count": 12,
     "metadata": {},
     "output_type": "execute_result"
    }
   ],
   "source": [
    "grand"
   ],
   "metadata": {
    "collapsed": false,
    "ExecuteTime": {
     "end_time": "2024-02-05T10:05:51.124224200Z",
     "start_time": "2024-02-05T10:05:51.083128700Z"
    }
   },
   "id": "2b28c04d85e474d3",
   "execution_count": 12
  },
  {
   "cell_type": "code",
   "outputs": [
    {
     "data": {
      "text/plain": "       rid        fcid     sex   age  service       date  session_num  \\\n727  R0059  8110050007     NaN  <NA>       td 2023-06-21            0   \n728  R0061  8110020050  Female    45       td 2023-05-03            0   \n725  R0065  8110060004  Female    56       td 2023-06-05            0   \n726  R0066  8110060006  Female    55       td 2023-09-07            0   \n457  R0074  8110020054  Female    38  psfua12 2023-01-18            0   \n..     ...         ...     ...   ...      ...        ...          ...   \n263  R1106        <NA>  Female    38      pei 2023-12-13            2   \n262  R1109        <NA>  Female    43      pei 2023-12-13            3   \n261  R1119        <NA>  Female    62      pei 2023-12-13            3   \n260  R1133        <NA>  Female    52      pei 2023-12-11            3   \n259  R1143        <NA>  Female    23      pei 2023-12-14            3   \n\n    family_of_missing survivor_of_detention primary_torture secondary_torture  \\\n727                No                    No             Yes               Yes   \n728                No                    No              No               Yes   \n725               Yes                    No             Yes               Yes   \n726               Yes                    No              No               Yes   \n457                No                    No              No                No   \n..                ...                   ...             ...               ...   \n263               NaN                   NaN             Yes               Yes   \n262               NaN                   NaN             Yes               Yes   \n261               NaN                   NaN             Yes                No   \n260               NaN                   NaN             Yes               Yes   \n259               NaN                   NaN              No               Yes   \n\n    sexual_violation_a sexual_violation_p  hrd journalist  wov stgbv lgbti  \\\n727                NaN                NaN  NaN        NaN  Yes    No    No   \n728                NaN                NaN  NaN        NaN  Yes    No    No   \n725                NaN                NaN  NaN        NaN  Yes    No    No   \n726                NaN                NaN  NaN        NaN  Yes    No    No   \n457                NaN                NaN  NaN        NaN  Yes    No    No   \n..                 ...                ...  ...        ...  ...   ...   ...   \n263                 No                Yes   No         No  Yes    No    No   \n262                Yes                Yes   No         No  Yes   Yes    No   \n261                 No                Yes   No         No  Yes    No    No   \n260                 No                Yes   No         No  Yes    No    No   \n259                 No                 No   No         No  Yes    No    No   \n\n    other  \n727    No  \n728    No  \n725    No  \n726    No  \n457    No  \n..    ...  \n263   NaN  \n262   NaN  \n261   NaN  \n260   NaN  \n259   NaN  \n\n[233 rows x 19 columns]",
      "text/html": "<div>\n<style scoped>\n    .dataframe tbody tr th:only-of-type {\n        vertical-align: middle;\n    }\n\n    .dataframe tbody tr th {\n        vertical-align: top;\n    }\n\n    .dataframe thead th {\n        text-align: right;\n    }\n</style>\n<table border=\"1\" class=\"dataframe\">\n  <thead>\n    <tr style=\"text-align: right;\">\n      <th></th>\n      <th>rid</th>\n      <th>fcid</th>\n      <th>sex</th>\n      <th>age</th>\n      <th>service</th>\n      <th>date</th>\n      <th>session_num</th>\n      <th>family_of_missing</th>\n      <th>survivor_of_detention</th>\n      <th>primary_torture</th>\n      <th>secondary_torture</th>\n      <th>sexual_violation_a</th>\n      <th>sexual_violation_p</th>\n      <th>hrd</th>\n      <th>journalist</th>\n      <th>wov</th>\n      <th>stgbv</th>\n      <th>lgbti</th>\n      <th>other</th>\n    </tr>\n  </thead>\n  <tbody>\n    <tr>\n      <th>727</th>\n      <td>R0059</td>\n      <td>8110050007</td>\n      <td>NaN</td>\n      <td>&lt;NA&gt;</td>\n      <td>td</td>\n      <td>2023-06-21</td>\n      <td>0</td>\n      <td>No</td>\n      <td>No</td>\n      <td>Yes</td>\n      <td>Yes</td>\n      <td>NaN</td>\n      <td>NaN</td>\n      <td>NaN</td>\n      <td>NaN</td>\n      <td>Yes</td>\n      <td>No</td>\n      <td>No</td>\n      <td>No</td>\n    </tr>\n    <tr>\n      <th>728</th>\n      <td>R0061</td>\n      <td>8110020050</td>\n      <td>Female</td>\n      <td>45</td>\n      <td>td</td>\n      <td>2023-05-03</td>\n      <td>0</td>\n      <td>No</td>\n      <td>No</td>\n      <td>No</td>\n      <td>Yes</td>\n      <td>NaN</td>\n      <td>NaN</td>\n      <td>NaN</td>\n      <td>NaN</td>\n      <td>Yes</td>\n      <td>No</td>\n      <td>No</td>\n      <td>No</td>\n    </tr>\n    <tr>\n      <th>725</th>\n      <td>R0065</td>\n      <td>8110060004</td>\n      <td>Female</td>\n      <td>56</td>\n      <td>td</td>\n      <td>2023-06-05</td>\n      <td>0</td>\n      <td>Yes</td>\n      <td>No</td>\n      <td>Yes</td>\n      <td>Yes</td>\n      <td>NaN</td>\n      <td>NaN</td>\n      <td>NaN</td>\n      <td>NaN</td>\n      <td>Yes</td>\n      <td>No</td>\n      <td>No</td>\n      <td>No</td>\n    </tr>\n    <tr>\n      <th>726</th>\n      <td>R0066</td>\n      <td>8110060006</td>\n      <td>Female</td>\n      <td>55</td>\n      <td>td</td>\n      <td>2023-09-07</td>\n      <td>0</td>\n      <td>Yes</td>\n      <td>No</td>\n      <td>No</td>\n      <td>Yes</td>\n      <td>NaN</td>\n      <td>NaN</td>\n      <td>NaN</td>\n      <td>NaN</td>\n      <td>Yes</td>\n      <td>No</td>\n      <td>No</td>\n      <td>No</td>\n    </tr>\n    <tr>\n      <th>457</th>\n      <td>R0074</td>\n      <td>8110020054</td>\n      <td>Female</td>\n      <td>38</td>\n      <td>psfua12</td>\n      <td>2023-01-18</td>\n      <td>0</td>\n      <td>No</td>\n      <td>No</td>\n      <td>No</td>\n      <td>No</td>\n      <td>NaN</td>\n      <td>NaN</td>\n      <td>NaN</td>\n      <td>NaN</td>\n      <td>Yes</td>\n      <td>No</td>\n      <td>No</td>\n      <td>No</td>\n    </tr>\n    <tr>\n      <th>...</th>\n      <td>...</td>\n      <td>...</td>\n      <td>...</td>\n      <td>...</td>\n      <td>...</td>\n      <td>...</td>\n      <td>...</td>\n      <td>...</td>\n      <td>...</td>\n      <td>...</td>\n      <td>...</td>\n      <td>...</td>\n      <td>...</td>\n      <td>...</td>\n      <td>...</td>\n      <td>...</td>\n      <td>...</td>\n      <td>...</td>\n      <td>...</td>\n    </tr>\n    <tr>\n      <th>263</th>\n      <td>R1106</td>\n      <td>&lt;NA&gt;</td>\n      <td>Female</td>\n      <td>38</td>\n      <td>pei</td>\n      <td>2023-12-13</td>\n      <td>2</td>\n      <td>NaN</td>\n      <td>NaN</td>\n      <td>Yes</td>\n      <td>Yes</td>\n      <td>No</td>\n      <td>Yes</td>\n      <td>No</td>\n      <td>No</td>\n      <td>Yes</td>\n      <td>No</td>\n      <td>No</td>\n      <td>NaN</td>\n    </tr>\n    <tr>\n      <th>262</th>\n      <td>R1109</td>\n      <td>&lt;NA&gt;</td>\n      <td>Female</td>\n      <td>43</td>\n      <td>pei</td>\n      <td>2023-12-13</td>\n      <td>3</td>\n      <td>NaN</td>\n      <td>NaN</td>\n      <td>Yes</td>\n      <td>Yes</td>\n      <td>Yes</td>\n      <td>Yes</td>\n      <td>No</td>\n      <td>No</td>\n      <td>Yes</td>\n      <td>Yes</td>\n      <td>No</td>\n      <td>NaN</td>\n    </tr>\n    <tr>\n      <th>261</th>\n      <td>R1119</td>\n      <td>&lt;NA&gt;</td>\n      <td>Female</td>\n      <td>62</td>\n      <td>pei</td>\n      <td>2023-12-13</td>\n      <td>3</td>\n      <td>NaN</td>\n      <td>NaN</td>\n      <td>Yes</td>\n      <td>No</td>\n      <td>No</td>\n      <td>Yes</td>\n      <td>No</td>\n      <td>No</td>\n      <td>Yes</td>\n      <td>No</td>\n      <td>No</td>\n      <td>NaN</td>\n    </tr>\n    <tr>\n      <th>260</th>\n      <td>R1133</td>\n      <td>&lt;NA&gt;</td>\n      <td>Female</td>\n      <td>52</td>\n      <td>pei</td>\n      <td>2023-12-11</td>\n      <td>3</td>\n      <td>NaN</td>\n      <td>NaN</td>\n      <td>Yes</td>\n      <td>Yes</td>\n      <td>No</td>\n      <td>Yes</td>\n      <td>No</td>\n      <td>No</td>\n      <td>Yes</td>\n      <td>No</td>\n      <td>No</td>\n      <td>NaN</td>\n    </tr>\n    <tr>\n      <th>259</th>\n      <td>R1143</td>\n      <td>&lt;NA&gt;</td>\n      <td>Female</td>\n      <td>23</td>\n      <td>pei</td>\n      <td>2023-12-14</td>\n      <td>3</td>\n      <td>NaN</td>\n      <td>NaN</td>\n      <td>No</td>\n      <td>Yes</td>\n      <td>No</td>\n      <td>No</td>\n      <td>No</td>\n      <td>No</td>\n      <td>Yes</td>\n      <td>No</td>\n      <td>No</td>\n      <td>NaN</td>\n    </tr>\n  </tbody>\n</table>\n<p>233 rows × 19 columns</p>\n</div>"
     },
     "execution_count": 14,
     "metadata": {},
     "output_type": "execute_result"
    }
   ],
   "source": [
    "# Define the list of columns you're interested in\n",
    "columns_of_interest = ['family_of_missing', 'survivor_of_detention', 'primary_torture',\n",
    "                       'secondary_torture', 'sexual_violation_a', 'sexual_violation_p', \n",
    "                       'hrd', 'journalist', 'wov', 'stgbv', 'lgbti', 'other']\n",
    "\n",
    "sort_order = {'Yes': 0, 'No': 1, 'NaN': 2, np.nan: 2}\n",
    "\n",
    "_grand = grand.copy()\n",
    "# Dynamically creating sort keys\n",
    "for column in columns_of_interest:\n",
    "    _grand[f'{column}_sort_key'] = _grand[column].map(sort_order).fillna(2)\n",
    "\n",
    "# Dynamically build the list of columns to sort by, including 'rid' and all sort key columns\n",
    "sort_columns = ['rid'] + [f'{column}_sort_key' for column in columns_of_interest]\n",
    "\n",
    "# Now sort the DataFrame by 'rid' and the dynamically created sort key columns\n",
    "df_sorted = _grand.sort_values(by=sort_columns)\n",
    "\n",
    "# Since we've sorted based on dynamically created keys, there's no need to drop non-existent keys\n",
    "# Drop duplicates keeping the first occurrence for each 'rid'\n",
    "df_unique = df_sorted.drop_duplicates(subset='rid')\n",
    "\n",
    "# Optionally, drop the sort key columns to clean up the DataFrame\n",
    "df_unique = df_unique.copy()\n",
    "df_unique.drop(columns=[f'{column}_sort_key' for column in columns_of_interest], inplace=True)\n",
    "\n",
    "# This will give you the deduplicated DataFrame based on 'rid' with preferred values\n",
    "\n",
    "# Display DataFrame after dropping duplicates\n",
    "# print(\"\\nDataFrame after dropping duplicates:\")\n",
    "df_unique"
   ],
   "metadata": {
    "collapsed": false,
    "ExecuteTime": {
     "end_time": "2024-02-05T10:09:22.398220400Z",
     "start_time": "2024-02-05T10:09:22.341610400Z"
    }
   },
   "id": "70fb569f29c839d5",
   "execution_count": 14
  },
  {
   "cell_type": "code",
   "outputs": [],
   "source": [
    "# df_unique.to_csv(os.path.join(unvfvt23, 'grandBeneficiariesDatasetUnique23.csv'), index=False)"
   ],
   "metadata": {
    "collapsed": false,
    "ExecuteTime": {
     "end_time": "2024-02-05T10:39:27.781162400Z",
     "start_time": "2024-02-05T10:39:27.772528300Z"
    }
   },
   "id": "68727763c4842c23",
   "execution_count": 17
  },
  {
   "cell_type": "code",
   "outputs": [],
   "source": [
    "columns = ['family_of_missing', 'survivor_of_detention', 'primary_torture',\n",
    "       'secondary_torture', 'sexual_violation_a', 'sexual_violation_p', 'hrd',\n",
    "       'journalist', 'wov', 'stgbv', 'lgbti', 'other']\n",
    "# grand[columns] = grand[columns].fillna('No')\n",
    "# grand"
   ],
   "metadata": {
    "collapsed": false
   },
   "id": "848e2e60db4e891",
   "execution_count": null
  },
  {
   "cell_type": "code",
   "outputs": [],
   "source": [
    "# def check_differences_specific_columns(x, columns_to_check):\n",
    "#     for column in columns_to_check:\n",
    "#         if len(x[column].unique()) > 1:\n",
    "#             return True\n",
    "#     return False\n",
    "\n",
    "# Specify columns to check\n",
    "# columns_to_check = ['family_of_missing', 'survivor_of_detention', 'primary_torture',\n",
    "#        'secondary_torture', 'sexual_violation_a', 'sexual_violation_p', 'hrd',\n",
    "#        'journalist', 'wov', 'stgbv', 'lgbti', 'other']  # Adjust based on your needs\n",
    "\n",
    "# Apply filtering with specified columns\n",
    "# duplicates_with_differences_specific = grand.groupby('rid').filter(check_differences_specific_columns, columns_to_check=columns_to_check)\n",
    "# duplicates_with_differences_specific"
   ],
   "metadata": {
    "collapsed": false
   },
   "id": "13b943b22353b197",
   "execution_count": null
  },
  {
   "cell_type": "code",
   "outputs": [
    {
     "data": {
      "text/plain": "       rid         fcid     sex  age    int     re     gc     ic  psfua3  \\\n0    R0501 8110020120.0  Female 41.0  False  False   True  False   False   \n1    R0367 8110020110.0  Female 40.0  False  False   True  False   False   \n2    R0441 8110050063.0  Female 43.0  False  False   True  False   False   \n3    R0391 8110050067.0  Female 44.0  False  False   True  False   False   \n4    R0348 8110020097.0  Female 43.0  False  False   True  False   False   \n..     ...          ...     ...  ...    ...    ...    ...    ...     ...   \n742  R0415 8110020102.0    Male 25.0  False  False  False  False   False   \n743  R0452 8110050080.0  Female 40.0  False  False  False  False   False   \n744  R0534 8110050087.0  Female 37.0  False  False  False  False   False   \n745  R0378 8110050066.0  Female 38.0  False  False  False  False   False   \n746  R0460 8110090003.0  Female 27.0  False  False  False  False   False   \n\n     psfua6  ...  primary_torture  secondary_torture  sexual_violation_a  \\\n0     False  ...               No                Yes                 NaN   \n1     False  ...               No                Yes                 NaN   \n2     False  ...               No                Yes                 NaN   \n3     False  ...               No                Yes                 NaN   \n4     False  ...               No                Yes                 NaN   \n..      ...  ...              ...                ...                 ...   \n742   False  ...              Yes                Yes                  No   \n743   False  ...               No                Yes                 NaN   \n744   False  ...              Yes                Yes                 NaN   \n745   False  ...               No                Yes                 NaN   \n746   False  ...              Yes                Yes                 Yes   \n\n     sexual_violation_p  hrd  journalist  wov  stgbv  lgbti  other  \n0                   NaN  NaN         NaN  Yes    Yes     No     No  \n1                   NaN  NaN         NaN  Yes     No     No     No  \n2                   NaN  NaN         NaN  Yes     No     No     No  \n3                   NaN  NaN         NaN  Yes     No     No     No  \n4                   NaN  NaN         NaN  Yes     No     No     No  \n..                  ...  ...         ...  ...    ...    ...    ...  \n742                 Yes  Yes          No  Yes    Yes     No     No  \n743                 NaN  NaN         NaN  Yes     No     No     No  \n744                 NaN  NaN         NaN  Yes    Yes     No     No  \n745                 NaN  NaN         NaN  Yes     No     No     No  \n746                 NaN  NaN         NaN  Yes     No     No    NaN  \n\n[747 rows x 32 columns]",
      "text/html": "<div>\n<style scoped>\n    .dataframe tbody tr th:only-of-type {\n        vertical-align: middle;\n    }\n\n    .dataframe tbody tr th {\n        vertical-align: top;\n    }\n\n    .dataframe thead th {\n        text-align: right;\n    }\n</style>\n<table border=\"1\" class=\"dataframe\">\n  <thead>\n    <tr style=\"text-align: right;\">\n      <th></th>\n      <th>rid</th>\n      <th>fcid</th>\n      <th>sex</th>\n      <th>age</th>\n      <th>int</th>\n      <th>re</th>\n      <th>gc</th>\n      <th>ic</th>\n      <th>psfua3</th>\n      <th>psfua6</th>\n      <th>...</th>\n      <th>primary_torture</th>\n      <th>secondary_torture</th>\n      <th>sexual_violation_a</th>\n      <th>sexual_violation_p</th>\n      <th>hrd</th>\n      <th>journalist</th>\n      <th>wov</th>\n      <th>stgbv</th>\n      <th>lgbti</th>\n      <th>other</th>\n    </tr>\n  </thead>\n  <tbody>\n    <tr>\n      <th>0</th>\n      <td>R0501</td>\n      <td>8110020120.0</td>\n      <td>Female</td>\n      <td>41.0</td>\n      <td>False</td>\n      <td>False</td>\n      <td>True</td>\n      <td>False</td>\n      <td>False</td>\n      <td>False</td>\n      <td>...</td>\n      <td>No</td>\n      <td>Yes</td>\n      <td>NaN</td>\n      <td>NaN</td>\n      <td>NaN</td>\n      <td>NaN</td>\n      <td>Yes</td>\n      <td>Yes</td>\n      <td>No</td>\n      <td>No</td>\n    </tr>\n    <tr>\n      <th>1</th>\n      <td>R0367</td>\n      <td>8110020110.0</td>\n      <td>Female</td>\n      <td>40.0</td>\n      <td>False</td>\n      <td>False</td>\n      <td>True</td>\n      <td>False</td>\n      <td>False</td>\n      <td>False</td>\n      <td>...</td>\n      <td>No</td>\n      <td>Yes</td>\n      <td>NaN</td>\n      <td>NaN</td>\n      <td>NaN</td>\n      <td>NaN</td>\n      <td>Yes</td>\n      <td>No</td>\n      <td>No</td>\n      <td>No</td>\n    </tr>\n    <tr>\n      <th>2</th>\n      <td>R0441</td>\n      <td>8110050063.0</td>\n      <td>Female</td>\n      <td>43.0</td>\n      <td>False</td>\n      <td>False</td>\n      <td>True</td>\n      <td>False</td>\n      <td>False</td>\n      <td>False</td>\n      <td>...</td>\n      <td>No</td>\n      <td>Yes</td>\n      <td>NaN</td>\n      <td>NaN</td>\n      <td>NaN</td>\n      <td>NaN</td>\n      <td>Yes</td>\n      <td>No</td>\n      <td>No</td>\n      <td>No</td>\n    </tr>\n    <tr>\n      <th>3</th>\n      <td>R0391</td>\n      <td>8110050067.0</td>\n      <td>Female</td>\n      <td>44.0</td>\n      <td>False</td>\n      <td>False</td>\n      <td>True</td>\n      <td>False</td>\n      <td>False</td>\n      <td>False</td>\n      <td>...</td>\n      <td>No</td>\n      <td>Yes</td>\n      <td>NaN</td>\n      <td>NaN</td>\n      <td>NaN</td>\n      <td>NaN</td>\n      <td>Yes</td>\n      <td>No</td>\n      <td>No</td>\n      <td>No</td>\n    </tr>\n    <tr>\n      <th>4</th>\n      <td>R0348</td>\n      <td>8110020097.0</td>\n      <td>Female</td>\n      <td>43.0</td>\n      <td>False</td>\n      <td>False</td>\n      <td>True</td>\n      <td>False</td>\n      <td>False</td>\n      <td>False</td>\n      <td>...</td>\n      <td>No</td>\n      <td>Yes</td>\n      <td>NaN</td>\n      <td>NaN</td>\n      <td>NaN</td>\n      <td>NaN</td>\n      <td>Yes</td>\n      <td>No</td>\n      <td>No</td>\n      <td>No</td>\n    </tr>\n    <tr>\n      <th>...</th>\n      <td>...</td>\n      <td>...</td>\n      <td>...</td>\n      <td>...</td>\n      <td>...</td>\n      <td>...</td>\n      <td>...</td>\n      <td>...</td>\n      <td>...</td>\n      <td>...</td>\n      <td>...</td>\n      <td>...</td>\n      <td>...</td>\n      <td>...</td>\n      <td>...</td>\n      <td>...</td>\n      <td>...</td>\n      <td>...</td>\n      <td>...</td>\n      <td>...</td>\n      <td>...</td>\n    </tr>\n    <tr>\n      <th>742</th>\n      <td>R0415</td>\n      <td>8110020102.0</td>\n      <td>Male</td>\n      <td>25.0</td>\n      <td>False</td>\n      <td>False</td>\n      <td>False</td>\n      <td>False</td>\n      <td>False</td>\n      <td>False</td>\n      <td>...</td>\n      <td>Yes</td>\n      <td>Yes</td>\n      <td>No</td>\n      <td>Yes</td>\n      <td>Yes</td>\n      <td>No</td>\n      <td>Yes</td>\n      <td>Yes</td>\n      <td>No</td>\n      <td>No</td>\n    </tr>\n    <tr>\n      <th>743</th>\n      <td>R0452</td>\n      <td>8110050080.0</td>\n      <td>Female</td>\n      <td>40.0</td>\n      <td>False</td>\n      <td>False</td>\n      <td>False</td>\n      <td>False</td>\n      <td>False</td>\n      <td>False</td>\n      <td>...</td>\n      <td>No</td>\n      <td>Yes</td>\n      <td>NaN</td>\n      <td>NaN</td>\n      <td>NaN</td>\n      <td>NaN</td>\n      <td>Yes</td>\n      <td>No</td>\n      <td>No</td>\n      <td>No</td>\n    </tr>\n    <tr>\n      <th>744</th>\n      <td>R0534</td>\n      <td>8110050087.0</td>\n      <td>Female</td>\n      <td>37.0</td>\n      <td>False</td>\n      <td>False</td>\n      <td>False</td>\n      <td>False</td>\n      <td>False</td>\n      <td>False</td>\n      <td>...</td>\n      <td>Yes</td>\n      <td>Yes</td>\n      <td>NaN</td>\n      <td>NaN</td>\n      <td>NaN</td>\n      <td>NaN</td>\n      <td>Yes</td>\n      <td>Yes</td>\n      <td>No</td>\n      <td>No</td>\n    </tr>\n    <tr>\n      <th>745</th>\n      <td>R0378</td>\n      <td>8110050066.0</td>\n      <td>Female</td>\n      <td>38.0</td>\n      <td>False</td>\n      <td>False</td>\n      <td>False</td>\n      <td>False</td>\n      <td>False</td>\n      <td>False</td>\n      <td>...</td>\n      <td>No</td>\n      <td>Yes</td>\n      <td>NaN</td>\n      <td>NaN</td>\n      <td>NaN</td>\n      <td>NaN</td>\n      <td>Yes</td>\n      <td>No</td>\n      <td>No</td>\n      <td>No</td>\n    </tr>\n    <tr>\n      <th>746</th>\n      <td>R0460</td>\n      <td>8110090003.0</td>\n      <td>Female</td>\n      <td>27.0</td>\n      <td>False</td>\n      <td>False</td>\n      <td>False</td>\n      <td>False</td>\n      <td>False</td>\n      <td>False</td>\n      <td>...</td>\n      <td>Yes</td>\n      <td>Yes</td>\n      <td>Yes</td>\n      <td>NaN</td>\n      <td>NaN</td>\n      <td>NaN</td>\n      <td>Yes</td>\n      <td>No</td>\n      <td>No</td>\n      <td>NaN</td>\n    </tr>\n  </tbody>\n</table>\n<p>747 rows × 32 columns</p>\n</div>"
     },
     "execution_count": 22,
     "metadata": {},
     "output_type": "execute_result"
    }
   ],
   "source": [
    "grand_encoded = pd.read_csv(os.path.join(unvfvt23, 'grandBeneficiariesEncodedDataset23.csv'))\n",
    "grand_encoded"
   ],
   "metadata": {
    "collapsed": false,
    "ExecuteTime": {
     "end_time": "2024-02-05T10:42:35.394113300Z",
     "start_time": "2024-02-05T10:42:35.348902900Z"
    }
   },
   "id": "a917f7d75e0d704f",
   "execution_count": 22
  },
  {
   "cell_type": "code",
   "outputs": [],
   "source": [
    "grand.columns"
   ],
   "metadata": {
    "collapsed": false
   },
   "id": "67868f78d50ed26a",
   "execution_count": null
  },
  {
   "cell_type": "code",
   "outputs": [
    {
     "data": {
      "text/plain": "       rid    int     re     gc     ic  psfua3  psfua6  psfua12  ptint  \\\n0    R0501  False  False   True  False   False   False    False  False   \n1    R0367  False  False   True  False   False   False    False  False   \n2    R0441  False  False   True  False   False   False    False  False   \n3    R0391  False  False   True  False   False   False    False  False   \n4    R0348  False  False   True  False   False   False    False  False   \n..     ...    ...    ...    ...    ...     ...     ...      ...    ...   \n742  R0415  False  False  False  False   False   False    False  False   \n743  R0452  False  False  False  False   False   False    False  False   \n744  R0534  False  False  False  False   False   False    False  False   \n745  R0378  False  False  False  False   False   False    False  False   \n746  R0460  False  False  False  False   False   False    False  False   \n\n     ptreint    gpt    ipt  ptfua3  ptfua6  ptfua12    pei     td  \n0      False  False  False   False   False    False  False  False  \n1      False  False  False   False   False    False  False  False  \n2      False  False  False   False   False    False  False  False  \n3      False  False  False   False   False    False  False  False  \n4      False  False  False   False   False    False  False  False  \n..       ...    ...    ...     ...     ...      ...    ...    ...  \n742    False  False  False   False   False    False  False   True  \n743    False  False  False   False   False    False  False   True  \n744    False  False  False   False   False    False  False   True  \n745    False  False  False   False   False    False  False   True  \n746    False  False  False   False   False    False  False   True  \n\n[747 rows x 17 columns]",
      "text/html": "<div>\n<style scoped>\n    .dataframe tbody tr th:only-of-type {\n        vertical-align: middle;\n    }\n\n    .dataframe tbody tr th {\n        vertical-align: top;\n    }\n\n    .dataframe thead th {\n        text-align: right;\n    }\n</style>\n<table border=\"1\" class=\"dataframe\">\n  <thead>\n    <tr style=\"text-align: right;\">\n      <th></th>\n      <th>rid</th>\n      <th>int</th>\n      <th>re</th>\n      <th>gc</th>\n      <th>ic</th>\n      <th>psfua3</th>\n      <th>psfua6</th>\n      <th>psfua12</th>\n      <th>ptint</th>\n      <th>ptreint</th>\n      <th>gpt</th>\n      <th>ipt</th>\n      <th>ptfua3</th>\n      <th>ptfua6</th>\n      <th>ptfua12</th>\n      <th>pei</th>\n      <th>td</th>\n    </tr>\n  </thead>\n  <tbody>\n    <tr>\n      <th>0</th>\n      <td>R0501</td>\n      <td>False</td>\n      <td>False</td>\n      <td>True</td>\n      <td>False</td>\n      <td>False</td>\n      <td>False</td>\n      <td>False</td>\n      <td>False</td>\n      <td>False</td>\n      <td>False</td>\n      <td>False</td>\n      <td>False</td>\n      <td>False</td>\n      <td>False</td>\n      <td>False</td>\n      <td>False</td>\n    </tr>\n    <tr>\n      <th>1</th>\n      <td>R0367</td>\n      <td>False</td>\n      <td>False</td>\n      <td>True</td>\n      <td>False</td>\n      <td>False</td>\n      <td>False</td>\n      <td>False</td>\n      <td>False</td>\n      <td>False</td>\n      <td>False</td>\n      <td>False</td>\n      <td>False</td>\n      <td>False</td>\n      <td>False</td>\n      <td>False</td>\n      <td>False</td>\n    </tr>\n    <tr>\n      <th>2</th>\n      <td>R0441</td>\n      <td>False</td>\n      <td>False</td>\n      <td>True</td>\n      <td>False</td>\n      <td>False</td>\n      <td>False</td>\n      <td>False</td>\n      <td>False</td>\n      <td>False</td>\n      <td>False</td>\n      <td>False</td>\n      <td>False</td>\n      <td>False</td>\n      <td>False</td>\n      <td>False</td>\n      <td>False</td>\n    </tr>\n    <tr>\n      <th>3</th>\n      <td>R0391</td>\n      <td>False</td>\n      <td>False</td>\n      <td>True</td>\n      <td>False</td>\n      <td>False</td>\n      <td>False</td>\n      <td>False</td>\n      <td>False</td>\n      <td>False</td>\n      <td>False</td>\n      <td>False</td>\n      <td>False</td>\n      <td>False</td>\n      <td>False</td>\n      <td>False</td>\n      <td>False</td>\n    </tr>\n    <tr>\n      <th>4</th>\n      <td>R0348</td>\n      <td>False</td>\n      <td>False</td>\n      <td>True</td>\n      <td>False</td>\n      <td>False</td>\n      <td>False</td>\n      <td>False</td>\n      <td>False</td>\n      <td>False</td>\n      <td>False</td>\n      <td>False</td>\n      <td>False</td>\n      <td>False</td>\n      <td>False</td>\n      <td>False</td>\n      <td>False</td>\n    </tr>\n    <tr>\n      <th>...</th>\n      <td>...</td>\n      <td>...</td>\n      <td>...</td>\n      <td>...</td>\n      <td>...</td>\n      <td>...</td>\n      <td>...</td>\n      <td>...</td>\n      <td>...</td>\n      <td>...</td>\n      <td>...</td>\n      <td>...</td>\n      <td>...</td>\n      <td>...</td>\n      <td>...</td>\n      <td>...</td>\n      <td>...</td>\n    </tr>\n    <tr>\n      <th>742</th>\n      <td>R0415</td>\n      <td>False</td>\n      <td>False</td>\n      <td>False</td>\n      <td>False</td>\n      <td>False</td>\n      <td>False</td>\n      <td>False</td>\n      <td>False</td>\n      <td>False</td>\n      <td>False</td>\n      <td>False</td>\n      <td>False</td>\n      <td>False</td>\n      <td>False</td>\n      <td>False</td>\n      <td>True</td>\n    </tr>\n    <tr>\n      <th>743</th>\n      <td>R0452</td>\n      <td>False</td>\n      <td>False</td>\n      <td>False</td>\n      <td>False</td>\n      <td>False</td>\n      <td>False</td>\n      <td>False</td>\n      <td>False</td>\n      <td>False</td>\n      <td>False</td>\n      <td>False</td>\n      <td>False</td>\n      <td>False</td>\n      <td>False</td>\n      <td>False</td>\n      <td>True</td>\n    </tr>\n    <tr>\n      <th>744</th>\n      <td>R0534</td>\n      <td>False</td>\n      <td>False</td>\n      <td>False</td>\n      <td>False</td>\n      <td>False</td>\n      <td>False</td>\n      <td>False</td>\n      <td>False</td>\n      <td>False</td>\n      <td>False</td>\n      <td>False</td>\n      <td>False</td>\n      <td>False</td>\n      <td>False</td>\n      <td>False</td>\n      <td>True</td>\n    </tr>\n    <tr>\n      <th>745</th>\n      <td>R0378</td>\n      <td>False</td>\n      <td>False</td>\n      <td>False</td>\n      <td>False</td>\n      <td>False</td>\n      <td>False</td>\n      <td>False</td>\n      <td>False</td>\n      <td>False</td>\n      <td>False</td>\n      <td>False</td>\n      <td>False</td>\n      <td>False</td>\n      <td>False</td>\n      <td>False</td>\n      <td>True</td>\n    </tr>\n    <tr>\n      <th>746</th>\n      <td>R0460</td>\n      <td>False</td>\n      <td>False</td>\n      <td>False</td>\n      <td>False</td>\n      <td>False</td>\n      <td>False</td>\n      <td>False</td>\n      <td>False</td>\n      <td>False</td>\n      <td>False</td>\n      <td>False</td>\n      <td>False</td>\n      <td>False</td>\n      <td>False</td>\n      <td>False</td>\n      <td>True</td>\n    </tr>\n  </tbody>\n</table>\n<p>747 rows × 17 columns</p>\n</div>"
     },
     "execution_count": 23,
     "metadata": {},
     "output_type": "execute_result"
    }
   ],
   "source": [
    "grand_service = grand[['rid', 'service']]\n",
    "grand_service_encoded = pd.get_dummies(grand_service, columns=['service'], prefix='', prefix_sep='')\n",
    "grand_encoded_order = ['rid', 'int', 're', 'gc', 'ic','psfua3', 'psfua6', 'psfua12','ptint','ptreint','gpt', 'ipt', 'ptfua3', 'ptfua6', 'ptfua12', 'pei', 'td']\n",
    "grand_service_encoded = grand_service_encoded[grand_encoded_order]\n",
    "grand_service_encoded"
   ],
   "metadata": {
    "collapsed": false,
    "ExecuteTime": {
     "end_time": "2024-02-05T10:51:26.700069300Z",
     "start_time": "2024-02-05T10:51:26.669367200Z"
    }
   },
   "id": "a9914a3400fb9eed",
   "execution_count": 23
  },
  {
   "cell_type": "code",
   "outputs": [
    {
     "data": {
      "text/plain": "       rid  gc  gpt  ic  int  ipt  pei  psfua12  psfua3  psfua6  ptfua12  \\\n0    R0059   0    0   0    0    0    0        0       0       0        0   \n1    R0061   0    0   0    0    0    0        0       0       0        0   \n2    R0065   0    0   0    0    0    0        0       0       0        0   \n3    R0066   0    0   0    0    0    0        0       0       0        0   \n4    R0074   0    0   0    0    0    0        1       0       0        0   \n..     ...  ..  ...  ..  ...  ...  ...      ...     ...     ...      ...   \n228  R1106   0    0   0    0    0    1        0       0       0        0   \n229  R1109   0    0   0    0    0    1        0       0       0        0   \n230  R1119   0    0   0    0    0    1        0       0       0        0   \n231  R1133   0    0   0    0    0    1        0       0       0        0   \n232  R1143   0    0   0    0    0    1        0       0       0        0   \n\n     ptfua3  ptfua6  ptint  ptreint  re  td  \n0         0       0      0        0   0   1  \n1         0       0      0        0   0   1  \n2         0       0      0        0   0   1  \n3         0       0      0        0   0   1  \n4         0       0      0        0   0   0  \n..      ...     ...    ...      ...  ..  ..  \n228       0       0      0        0   0   0  \n229       0       0      0        0   0   0  \n230       0       0      0        0   0   0  \n231       0       0      0        0   0   0  \n232       0       0      0        0   0   0  \n\n[233 rows x 17 columns]",
      "text/html": "<div>\n<style scoped>\n    .dataframe tbody tr th:only-of-type {\n        vertical-align: middle;\n    }\n\n    .dataframe tbody tr th {\n        vertical-align: top;\n    }\n\n    .dataframe thead th {\n        text-align: right;\n    }\n</style>\n<table border=\"1\" class=\"dataframe\">\n  <thead>\n    <tr style=\"text-align: right;\">\n      <th></th>\n      <th>rid</th>\n      <th>gc</th>\n      <th>gpt</th>\n      <th>ic</th>\n      <th>int</th>\n      <th>ipt</th>\n      <th>pei</th>\n      <th>psfua12</th>\n      <th>psfua3</th>\n      <th>psfua6</th>\n      <th>ptfua12</th>\n      <th>ptfua3</th>\n      <th>ptfua6</th>\n      <th>ptint</th>\n      <th>ptreint</th>\n      <th>re</th>\n      <th>td</th>\n    </tr>\n  </thead>\n  <tbody>\n    <tr>\n      <th>0</th>\n      <td>R0059</td>\n      <td>0</td>\n      <td>0</td>\n      <td>0</td>\n      <td>0</td>\n      <td>0</td>\n      <td>0</td>\n      <td>0</td>\n      <td>0</td>\n      <td>0</td>\n      <td>0</td>\n      <td>0</td>\n      <td>0</td>\n      <td>0</td>\n      <td>0</td>\n      <td>0</td>\n      <td>1</td>\n    </tr>\n    <tr>\n      <th>1</th>\n      <td>R0061</td>\n      <td>0</td>\n      <td>0</td>\n      <td>0</td>\n      <td>0</td>\n      <td>0</td>\n      <td>0</td>\n      <td>0</td>\n      <td>0</td>\n      <td>0</td>\n      <td>0</td>\n      <td>0</td>\n      <td>0</td>\n      <td>0</td>\n      <td>0</td>\n      <td>0</td>\n      <td>1</td>\n    </tr>\n    <tr>\n      <th>2</th>\n      <td>R0065</td>\n      <td>0</td>\n      <td>0</td>\n      <td>0</td>\n      <td>0</td>\n      <td>0</td>\n      <td>0</td>\n      <td>0</td>\n      <td>0</td>\n      <td>0</td>\n      <td>0</td>\n      <td>0</td>\n      <td>0</td>\n      <td>0</td>\n      <td>0</td>\n      <td>0</td>\n      <td>1</td>\n    </tr>\n    <tr>\n      <th>3</th>\n      <td>R0066</td>\n      <td>0</td>\n      <td>0</td>\n      <td>0</td>\n      <td>0</td>\n      <td>0</td>\n      <td>0</td>\n      <td>0</td>\n      <td>0</td>\n      <td>0</td>\n      <td>0</td>\n      <td>0</td>\n      <td>0</td>\n      <td>0</td>\n      <td>0</td>\n      <td>0</td>\n      <td>1</td>\n    </tr>\n    <tr>\n      <th>4</th>\n      <td>R0074</td>\n      <td>0</td>\n      <td>0</td>\n      <td>0</td>\n      <td>0</td>\n      <td>0</td>\n      <td>0</td>\n      <td>1</td>\n      <td>0</td>\n      <td>0</td>\n      <td>0</td>\n      <td>0</td>\n      <td>0</td>\n      <td>0</td>\n      <td>0</td>\n      <td>0</td>\n      <td>0</td>\n    </tr>\n    <tr>\n      <th>...</th>\n      <td>...</td>\n      <td>...</td>\n      <td>...</td>\n      <td>...</td>\n      <td>...</td>\n      <td>...</td>\n      <td>...</td>\n      <td>...</td>\n      <td>...</td>\n      <td>...</td>\n      <td>...</td>\n      <td>...</td>\n      <td>...</td>\n      <td>...</td>\n      <td>...</td>\n      <td>...</td>\n      <td>...</td>\n    </tr>\n    <tr>\n      <th>228</th>\n      <td>R1106</td>\n      <td>0</td>\n      <td>0</td>\n      <td>0</td>\n      <td>0</td>\n      <td>0</td>\n      <td>1</td>\n      <td>0</td>\n      <td>0</td>\n      <td>0</td>\n      <td>0</td>\n      <td>0</td>\n      <td>0</td>\n      <td>0</td>\n      <td>0</td>\n      <td>0</td>\n      <td>0</td>\n    </tr>\n    <tr>\n      <th>229</th>\n      <td>R1109</td>\n      <td>0</td>\n      <td>0</td>\n      <td>0</td>\n      <td>0</td>\n      <td>0</td>\n      <td>1</td>\n      <td>0</td>\n      <td>0</td>\n      <td>0</td>\n      <td>0</td>\n      <td>0</td>\n      <td>0</td>\n      <td>0</td>\n      <td>0</td>\n      <td>0</td>\n      <td>0</td>\n    </tr>\n    <tr>\n      <th>230</th>\n      <td>R1119</td>\n      <td>0</td>\n      <td>0</td>\n      <td>0</td>\n      <td>0</td>\n      <td>0</td>\n      <td>1</td>\n      <td>0</td>\n      <td>0</td>\n      <td>0</td>\n      <td>0</td>\n      <td>0</td>\n      <td>0</td>\n      <td>0</td>\n      <td>0</td>\n      <td>0</td>\n      <td>0</td>\n    </tr>\n    <tr>\n      <th>231</th>\n      <td>R1133</td>\n      <td>0</td>\n      <td>0</td>\n      <td>0</td>\n      <td>0</td>\n      <td>0</td>\n      <td>1</td>\n      <td>0</td>\n      <td>0</td>\n      <td>0</td>\n      <td>0</td>\n      <td>0</td>\n      <td>0</td>\n      <td>0</td>\n      <td>0</td>\n      <td>0</td>\n      <td>0</td>\n    </tr>\n    <tr>\n      <th>232</th>\n      <td>R1143</td>\n      <td>0</td>\n      <td>0</td>\n      <td>0</td>\n      <td>0</td>\n      <td>0</td>\n      <td>1</td>\n      <td>0</td>\n      <td>0</td>\n      <td>0</td>\n      <td>0</td>\n      <td>0</td>\n      <td>0</td>\n      <td>0</td>\n      <td>0</td>\n      <td>0</td>\n      <td>0</td>\n    </tr>\n  </tbody>\n</table>\n<p>233 rows × 17 columns</p>\n</div>"
     },
     "execution_count": 24,
     "metadata": {},
     "output_type": "execute_result"
    }
   ],
   "source": [
    "pivot_grand_service_encoded = grand_service_encoded.pivot_table(index=['rid'], aggfunc='sum', fill_value=0).reset_index()\n",
    "pivot_grand_service_encoded"
   ],
   "metadata": {
    "collapsed": false,
    "ExecuteTime": {
     "end_time": "2024-02-05T10:52:53.265744Z",
     "start_time": "2024-02-05T10:52:53.233160800Z"
    }
   },
   "id": "45d2cec03dc7af88",
   "execution_count": 24
  },
  {
   "cell_type": "code",
   "outputs": [
    {
     "data": {
      "text/plain": "       rid        fcid     sex   age  int  re  gc  ic  psfua3  psfua6  ...  \\\n0    R0059  8110050007     NaN  <NA>    0   0   0   0       0       0  ...   \n1    R0061  8110020050  Female    45    0   0   0   0       0       0  ...   \n2    R0065  8110060004  Female    56    0   0   0   0       0       0  ...   \n3    R0066  8110060006  Female    55    0   0   0   0       0       0  ...   \n4    R0074  8110020054  Female    38    0   0   0   0       0       0  ...   \n..     ...         ...     ...   ...  ...  ..  ..  ..     ...     ...  ...   \n228  R1106        <NA>  Female    38    0   0   0   0       0       0  ...   \n229  R1109        <NA>  Female    43    0   0   0   0       0       0  ...   \n230  R1119        <NA>  Female    62    0   0   0   0       0       0  ...   \n231  R1133        <NA>  Female    52    0   0   0   0       0       0  ...   \n232  R1143        <NA>  Female    23    0   0   0   0       0       0  ...   \n\n     primary_torture  secondary_torture  sexual_violation_a  \\\n0                Yes                Yes                 NaN   \n1                 No                Yes                 NaN   \n2                Yes                Yes                 NaN   \n3                 No                Yes                 NaN   \n4                 No                 No                 NaN   \n..               ...                ...                 ...   \n228              Yes                Yes                  No   \n229              Yes                Yes                 Yes   \n230              Yes                 No                  No   \n231              Yes                Yes                  No   \n232               No                Yes                  No   \n\n     sexual_violation_p  hrd  journalist  wov  stgbv  lgbti  other  \n0                   NaN  NaN         NaN  Yes     No     No     No  \n1                   NaN  NaN         NaN  Yes     No     No     No  \n2                   NaN  NaN         NaN  Yes     No     No     No  \n3                   NaN  NaN         NaN  Yes     No     No     No  \n4                   NaN  NaN         NaN  Yes     No     No     No  \n..                  ...  ...         ...  ...    ...    ...    ...  \n228                 Yes   No          No  Yes     No     No    NaN  \n229                 Yes   No          No  Yes    Yes     No    NaN  \n230                 Yes   No          No  Yes     No     No    NaN  \n231                 Yes   No          No  Yes     No     No    NaN  \n232                  No   No          No  Yes     No     No    NaN  \n\n[233 rows x 32 columns]",
      "text/html": "<div>\n<style scoped>\n    .dataframe tbody tr th:only-of-type {\n        vertical-align: middle;\n    }\n\n    .dataframe tbody tr th {\n        vertical-align: top;\n    }\n\n    .dataframe thead th {\n        text-align: right;\n    }\n</style>\n<table border=\"1\" class=\"dataframe\">\n  <thead>\n    <tr style=\"text-align: right;\">\n      <th></th>\n      <th>rid</th>\n      <th>fcid</th>\n      <th>sex</th>\n      <th>age</th>\n      <th>int</th>\n      <th>re</th>\n      <th>gc</th>\n      <th>ic</th>\n      <th>psfua3</th>\n      <th>psfua6</th>\n      <th>...</th>\n      <th>primary_torture</th>\n      <th>secondary_torture</th>\n      <th>sexual_violation_a</th>\n      <th>sexual_violation_p</th>\n      <th>hrd</th>\n      <th>journalist</th>\n      <th>wov</th>\n      <th>stgbv</th>\n      <th>lgbti</th>\n      <th>other</th>\n    </tr>\n  </thead>\n  <tbody>\n    <tr>\n      <th>0</th>\n      <td>R0059</td>\n      <td>8110050007</td>\n      <td>NaN</td>\n      <td>&lt;NA&gt;</td>\n      <td>0</td>\n      <td>0</td>\n      <td>0</td>\n      <td>0</td>\n      <td>0</td>\n      <td>0</td>\n      <td>...</td>\n      <td>Yes</td>\n      <td>Yes</td>\n      <td>NaN</td>\n      <td>NaN</td>\n      <td>NaN</td>\n      <td>NaN</td>\n      <td>Yes</td>\n      <td>No</td>\n      <td>No</td>\n      <td>No</td>\n    </tr>\n    <tr>\n      <th>1</th>\n      <td>R0061</td>\n      <td>8110020050</td>\n      <td>Female</td>\n      <td>45</td>\n      <td>0</td>\n      <td>0</td>\n      <td>0</td>\n      <td>0</td>\n      <td>0</td>\n      <td>0</td>\n      <td>...</td>\n      <td>No</td>\n      <td>Yes</td>\n      <td>NaN</td>\n      <td>NaN</td>\n      <td>NaN</td>\n      <td>NaN</td>\n      <td>Yes</td>\n      <td>No</td>\n      <td>No</td>\n      <td>No</td>\n    </tr>\n    <tr>\n      <th>2</th>\n      <td>R0065</td>\n      <td>8110060004</td>\n      <td>Female</td>\n      <td>56</td>\n      <td>0</td>\n      <td>0</td>\n      <td>0</td>\n      <td>0</td>\n      <td>0</td>\n      <td>0</td>\n      <td>...</td>\n      <td>Yes</td>\n      <td>Yes</td>\n      <td>NaN</td>\n      <td>NaN</td>\n      <td>NaN</td>\n      <td>NaN</td>\n      <td>Yes</td>\n      <td>No</td>\n      <td>No</td>\n      <td>No</td>\n    </tr>\n    <tr>\n      <th>3</th>\n      <td>R0066</td>\n      <td>8110060006</td>\n      <td>Female</td>\n      <td>55</td>\n      <td>0</td>\n      <td>0</td>\n      <td>0</td>\n      <td>0</td>\n      <td>0</td>\n      <td>0</td>\n      <td>...</td>\n      <td>No</td>\n      <td>Yes</td>\n      <td>NaN</td>\n      <td>NaN</td>\n      <td>NaN</td>\n      <td>NaN</td>\n      <td>Yes</td>\n      <td>No</td>\n      <td>No</td>\n      <td>No</td>\n    </tr>\n    <tr>\n      <th>4</th>\n      <td>R0074</td>\n      <td>8110020054</td>\n      <td>Female</td>\n      <td>38</td>\n      <td>0</td>\n      <td>0</td>\n      <td>0</td>\n      <td>0</td>\n      <td>0</td>\n      <td>0</td>\n      <td>...</td>\n      <td>No</td>\n      <td>No</td>\n      <td>NaN</td>\n      <td>NaN</td>\n      <td>NaN</td>\n      <td>NaN</td>\n      <td>Yes</td>\n      <td>No</td>\n      <td>No</td>\n      <td>No</td>\n    </tr>\n    <tr>\n      <th>...</th>\n      <td>...</td>\n      <td>...</td>\n      <td>...</td>\n      <td>...</td>\n      <td>...</td>\n      <td>...</td>\n      <td>...</td>\n      <td>...</td>\n      <td>...</td>\n      <td>...</td>\n      <td>...</td>\n      <td>...</td>\n      <td>...</td>\n      <td>...</td>\n      <td>...</td>\n      <td>...</td>\n      <td>...</td>\n      <td>...</td>\n      <td>...</td>\n      <td>...</td>\n      <td>...</td>\n    </tr>\n    <tr>\n      <th>228</th>\n      <td>R1106</td>\n      <td>&lt;NA&gt;</td>\n      <td>Female</td>\n      <td>38</td>\n      <td>0</td>\n      <td>0</td>\n      <td>0</td>\n      <td>0</td>\n      <td>0</td>\n      <td>0</td>\n      <td>...</td>\n      <td>Yes</td>\n      <td>Yes</td>\n      <td>No</td>\n      <td>Yes</td>\n      <td>No</td>\n      <td>No</td>\n      <td>Yes</td>\n      <td>No</td>\n      <td>No</td>\n      <td>NaN</td>\n    </tr>\n    <tr>\n      <th>229</th>\n      <td>R1109</td>\n      <td>&lt;NA&gt;</td>\n      <td>Female</td>\n      <td>43</td>\n      <td>0</td>\n      <td>0</td>\n      <td>0</td>\n      <td>0</td>\n      <td>0</td>\n      <td>0</td>\n      <td>...</td>\n      <td>Yes</td>\n      <td>Yes</td>\n      <td>Yes</td>\n      <td>Yes</td>\n      <td>No</td>\n      <td>No</td>\n      <td>Yes</td>\n      <td>Yes</td>\n      <td>No</td>\n      <td>NaN</td>\n    </tr>\n    <tr>\n      <th>230</th>\n      <td>R1119</td>\n      <td>&lt;NA&gt;</td>\n      <td>Female</td>\n      <td>62</td>\n      <td>0</td>\n      <td>0</td>\n      <td>0</td>\n      <td>0</td>\n      <td>0</td>\n      <td>0</td>\n      <td>...</td>\n      <td>Yes</td>\n      <td>No</td>\n      <td>No</td>\n      <td>Yes</td>\n      <td>No</td>\n      <td>No</td>\n      <td>Yes</td>\n      <td>No</td>\n      <td>No</td>\n      <td>NaN</td>\n    </tr>\n    <tr>\n      <th>231</th>\n      <td>R1133</td>\n      <td>&lt;NA&gt;</td>\n      <td>Female</td>\n      <td>52</td>\n      <td>0</td>\n      <td>0</td>\n      <td>0</td>\n      <td>0</td>\n      <td>0</td>\n      <td>0</td>\n      <td>...</td>\n      <td>Yes</td>\n      <td>Yes</td>\n      <td>No</td>\n      <td>Yes</td>\n      <td>No</td>\n      <td>No</td>\n      <td>Yes</td>\n      <td>No</td>\n      <td>No</td>\n      <td>NaN</td>\n    </tr>\n    <tr>\n      <th>232</th>\n      <td>R1143</td>\n      <td>&lt;NA&gt;</td>\n      <td>Female</td>\n      <td>23</td>\n      <td>0</td>\n      <td>0</td>\n      <td>0</td>\n      <td>0</td>\n      <td>0</td>\n      <td>0</td>\n      <td>...</td>\n      <td>No</td>\n      <td>Yes</td>\n      <td>No</td>\n      <td>No</td>\n      <td>No</td>\n      <td>No</td>\n      <td>Yes</td>\n      <td>No</td>\n      <td>No</td>\n      <td>NaN</td>\n    </tr>\n  </tbody>\n</table>\n<p>233 rows × 32 columns</p>\n</div>"
     },
     "execution_count": 26,
     "metadata": {},
     "output_type": "execute_result"
    }
   ],
   "source": [
    "# ptreint = pd.merge(ptreint, unique_intake[[\"rid\", \"family_of_missing\", \"survivor_of_detention\", \"primary_torture\", \"secondary_torture\", \"sexual_violation_a\", \"sexual_violation_p\", \"hrd\", \"journalist\", \"wov\", \"stgbv\", \"lgbti\", \"other\"]], on='rid', how='left')\n",
    "merge_columns = ['rid', 'fcid', 'sex', 'age', 'family_of_missing', 'survivor_of_detention', 'primary_torture', 'secondary_torture', 'sexual_violation_a', 'sexual_violation_p', 'hrd', 'journalist', 'wov', 'stgbv', 'lgbti', 'other']\n",
    "pivot_grand_service_encoded_merged = pd.merge(pivot_grand_service_encoded, df_unique[merge_columns], on='rid', how='left' )\n",
    "columns_order = ['rid', 'fcid', 'sex', 'age', 'int', 're', 'gc', 'ic', 'psfua3', 'psfua6', 'psfua12', 'ptint', 'ptreint', 'gpt', 'ipt', 'ptfua3', 'ptfua6', 'ptfua12', 'pei', 'td', 'family_of_missing', 'survivor_of_detention', 'primary_torture', 'secondary_torture', 'sexual_violation_a', 'sexual_violation_p', 'hrd', 'journalist', 'wov', 'stgbv', 'lgbti', 'other']\n",
    "pivot_grand_service_encoded_merged = pivot_grand_service_encoded_merged[columns_order]\n",
    "pivot_grand_service_encoded_merged.to_csv(os.path.join(unvfvt23, 'grandBeneficiariesEncodedPivotedUniqueDataset23.csv'), index=False)"
   ],
   "metadata": {
    "collapsed": false,
    "ExecuteTime": {
     "end_time": "2024-02-05T11:02:26.620521900Z",
     "start_time": "2024-02-05T11:02:26.532560400Z"
    }
   },
   "id": "cc3badd4014a41f1",
   "execution_count": 26
  },
  {
   "cell_type": "code",
   "outputs": [],
   "source": [
    "# pivot_grand_service_encoded_merged.to_csv(os.path.join(unvfvt23, 'grandBeneficiariesEncodedPivotedUniqueDataset23.csv'), index=False)\n",
    "df = pd.read_csv(os.path.join(unvfvt23, 'grandBeneficiariesEncodedPivotedUniqueDataset23.csv'))\n",
    "df[['fcid', 'age']] = df[['fcid', 'age']].astype(\"Int64\")\n",
    "df.to_excel(os.path.join(unvfvt23, 'grandBeneficiariesEncodedPivotedUniqueDataset23.xlsx'), index=False)"
   ],
   "metadata": {
    "collapsed": false,
    "ExecuteTime": {
     "end_time": "2024-02-05T11:12:34.625185200Z",
     "start_time": "2024-02-05T11:12:33.951757Z"
    }
   },
   "id": "307320b43778752c",
   "execution_count": 31
  },
  {
   "cell_type": "code",
   "outputs": [],
   "source": [
    "# unique_grand = grand.drop_duplicates(subset=['rid'])\n",
    "# unique_grand"
   ],
   "metadata": {
    "collapsed": false
   },
   "id": "360543d610abe0c8",
   "execution_count": null
  },
  {
   "cell_type": "code",
   "outputs": [],
   "source": [
    "# grand[grand.duplicated('rid', keep=False)]"
   ],
   "metadata": {
    "collapsed": false
   },
   "id": "2d99db526de56b37",
   "execution_count": null
  },
  {
   "cell_type": "code",
   "outputs": [],
   "source": [
    "grand_encoded = pd.get_dummies(grand, columns=['service'], prefix='', prefix_sep='')\n",
    "grand_encoded_order = ['rid', 'fcid', 'sex', 'age', 'int', 're', 'gc', 'ic','psfua3', 'psfua6', 'psfua12','ptint','ptreint','gpt', 'ipt', 'ptfua3', 'ptfua6', 'ptfua12', 'pei', 'td', 'family_of_missing', 'survivor_of_detention', 'primary_torture', 'secondary_torture','sexual_violation_a', 'sexual_violation_p', 'hrd', 'journalist', 'wov', 'stgbv', 'lgbti', 'other']\n",
    "\n",
    "grand_encoded = grand_encoded[grand_encoded_order]\n",
    "# grand_encoded.to_csv(os.path.join(unvfvt23, 'grandBeneficiariesEncodedDataset23.csv'))\n",
    "grand_encoded"
   ],
   "metadata": {
    "collapsed": false
   },
   "id": "890e0a85570c3542",
   "execution_count": null
  },
  {
   "cell_type": "code",
   "outputs": [],
   "source": [
    "grand_encoded.groupby('rid').sum().reset_index()"
   ],
   "metadata": {
    "collapsed": false
   },
   "id": "7e874602264bc32f",
   "execution_count": null
  },
  {
   "cell_type": "code",
   "outputs": [],
   "source": [
    "# grand_encoded.to_csv(os.path.join(unvfvt23, 'grandBeneficiariesEncodedDataset23.csv'))"
   ],
   "metadata": {
    "collapsed": false
   },
   "id": "e15a57a0ed5267e4",
   "execution_count": null
  },
  {
   "cell_type": "code",
   "outputs": [],
   "source": [
    "indexes = ['rid', 'fcid', 'sex', 'age', 'family_of_missing', 'survivor_of_detention', 'primary_torture', 'secondary_torture','sexual_violation_a', 'sexual_violation_p', 'hrd', 'journalist', 'wov', 'stgbv', 'lgbti', 'other']\n",
    "\n",
    "# pivot_grand_encoded = grand_encoded.pivot_table(index=['rid'], aggfunc='sum', fill_value=0).reset_index()\n"
   ],
   "metadata": {
    "collapsed": false
   },
   "id": "76eb5e4265d10697",
   "execution_count": null
  },
  {
   "cell_type": "code",
   "outputs": [],
   "source": [
    "pivot_grand_encoded"
   ],
   "metadata": {
    "collapsed": false
   },
   "id": "99059be823163eec",
   "execution_count": null
  },
  {
   "cell_type": "code",
   "outputs": [],
   "source": [
    "pivot_grand_encoded[pivot_grand_encoded.duplicated(subset=['rid'], keep=False)]"
   ],
   "metadata": {
    "collapsed": false
   },
   "id": "8d168b36476661ac",
   "execution_count": null
  }
 ],
 "metadata": {
  "kernelspec": {
   "display_name": "Python 3",
   "language": "python",
   "name": "python3"
  },
  "language_info": {
   "codemirror_mode": {
    "name": "ipython",
    "version": 2
   },
   "file_extension": ".py",
   "mimetype": "text/x-python",
   "name": "python",
   "nbconvert_exporter": "python",
   "pygments_lexer": "ipython2",
   "version": "2.7.6"
  }
 },
 "nbformat": 4,
 "nbformat_minor": 5
}
