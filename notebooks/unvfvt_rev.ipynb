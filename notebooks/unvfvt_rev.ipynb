{
 "cells": [
  {
   "cell_type": "code",
   "execution_count": 2,
   "id": "initial_id",
   "metadata": {
    "collapsed": true,
    "ExecuteTime": {
     "end_time": "2024-02-14T13:30:36.000853600Z",
     "start_time": "2024-02-14T13:30:33.340607600Z"
    }
   },
   "outputs": [
    {
     "name": "stdout",
     "output_type": "stream",
     "text": [
      "No password for ~$tt_psc_IJ_v04.xlsx\n",
      "No password for ~$tt_psc_LA_v04.xlsx\n",
      "No password for ~$tt_psc_MT_v04.xlsx\n",
      "No password for ~$tt_psc_SA_v04.xlsx\n",
      "No password for ~$tt_psc_YQ-v04.xlsx\n"
     ]
    }
   ],
   "source": [
    "import os\n",
    "import pandas as pd\n",
    "from src.all_in_one import *\n",
    "threshold = \"2022-12-31\""
   ]
  },
  {
   "cell_type": "code",
   "outputs": [],
   "source": [
    "# gc_date_cols =  ['gc_s1', 'gc_s2', 'gc_s3', 'gc_s4', 'gc_s5', 'gc_s6', 'gc_s7', 'gc_s8', 'gc_s9', 'gc_10']\n",
    "# df_order = ['rid', 'fcid', 'sex', 'age','service', 'date', 'session_num', 'family_of_missing', 'survivor_of_detention', 'primary_torture', 'secondary_torture', 'sexual_violation_a', 'sexual_violation_p', 'hrd', 'journalist', 'wov', 'stgbv', 'lgbti', 'other']"
   ],
   "metadata": {
    "collapsed": false
   },
   "id": "a559d937e24c8963",
   "execution_count": null
  },
  {
   "cell_type": "code",
   "outputs": [],
   "source": [
    "# prefix_list = ['gc', 'ic','gpt', 'int', 'ipt', 'pei','psfua3', 'psfua6', 'psfua12', 'ptfua3', 'ptfua6', 'ptfua12', 'ptint', 'ptreint', 'reint', 'td']\n",
    "# suffix = \"Beneficiaries23.csv\"\n",
    "# df_list = []"
   ],
   "metadata": {
    "collapsed": false
   },
   "id": "78921b79878a6989",
   "execution_count": null
  },
  {
   "cell_type": "code",
   "outputs": [],
   "source": [
    "# for prefix in prefix_list:\n",
    "#     filename = os.path.join(unvfvt23, prefix + suffix)\n",
    "#     df = pd.read_csv(filename)\n",
    "#     df[['fcid', 'session_num','age']] = df[['fcid', 'session_num','age']].astype(\"Int64\")\n",
    "#     df['date'] = df['date'].apply(pd.to_datetime)\n",
    "#     df_list.append(df)"
   ],
   "metadata": {
    "collapsed": false
   },
   "id": "f5ff192ddffc52e6",
   "execution_count": null
  },
  {
   "cell_type": "code",
   "outputs": [],
   "source": [
    "# grand_df = pd.concat(df_list, ignore_index=True)\n",
    "# grand_df = grand_df[df_order]\n",
    "# grand_df"
   ],
   "metadata": {
    "collapsed": false
   },
   "id": "38c352d9d6181483",
   "execution_count": null
  },
  {
   "cell_type": "code",
   "outputs": [],
   "source": [
    "# grand_df.to_csv(os.path.join(unvfvt23, 'grandBeneficiariesDataset23.csv'), index=False)"
   ],
   "metadata": {
    "collapsed": false
   },
   "id": "96556b9a9a3b2d95",
   "execution_count": null
  },
  {
   "cell_type": "code",
   "outputs": [],
   "source": [
    "# destination = os.path.join(unvfvt23, 'peiBeneficiaries23.csv')\n",
    "# pd.read_csv(destination)"
   ],
   "metadata": {
    "collapsed": false
   },
   "id": "ff98027c14170fe1",
   "execution_count": null
  },
  {
   "cell_type": "code",
   "outputs": [],
   "source": [
    "# pd.read_csv(filename)"
   ],
   "metadata": {
    "collapsed": false
   },
   "id": "ddf49144a74fd7e2",
   "execution_count": null
  },
  {
   "cell_type": "code",
   "outputs": [],
   "source": [
    "# scr_dataset = Dataset(config_file, scr_sheet)\n",
    "# scr = pd.read_csv(scr_path)\n",
    "# dtype_trans(scr, scr_dataset)\n",
    "# rid_val = 'R0407'\n",
    "# name_val = 'رشا'\n",
    "# scr[scr['rid'] == rid_val]\n",
    "# scr[scr['firstname'] == name_val]"
   ],
   "metadata": {
    "collapsed": false
   },
   "id": "8c05e5dd3fe52124",
   "execution_count": null
  },
  {
   "cell_type": "code",
   "outputs": [],
   "source": [
    "# df_dataset = Dataset(config_file, ptint_sheet)\n",
    "# df = pd.read_csv(ptint_path)\n",
    "# dtype_trans(df, df_dataset)\n",
    "# rid_val = 'R0407'\n",
    "# df[df['rid'] == rid_val]"
   ],
   "metadata": {
    "collapsed": false
   },
   "id": "4c583b6375e8fed6",
   "execution_count": null
  },
  {
   "cell_type": "code",
   "outputs": [],
   "source": [
    "grand_df_path = os.path.join(unvfvt23, 'grandBeneficiariesDataset23.csv')\n",
    "grand = pd.read_csv(grand_df_path)\n",
    "grand[['fcid', 'session_num','age']] = grand[['fcid', 'session_num','age']].astype(\"Int64\")\n",
    "grand['date'] = grand['date'].apply(pd.to_datetime)"
   ],
   "metadata": {
    "collapsed": false
   },
   "id": "d648e5434f7c4d18",
   "execution_count": null
  },
  {
   "cell_type": "code",
   "outputs": [],
   "source": [
    "grand"
   ],
   "metadata": {
    "collapsed": false
   },
   "id": "2b28c04d85e474d3",
   "execution_count": null
  },
  {
   "cell_type": "code",
   "outputs": [],
   "source": [
    "# Define the list of columns you're interested in\n",
    "columns_of_interest = ['family_of_missing', 'survivor_of_detention', 'primary_torture',\n",
    "                       'secondary_torture', 'sexual_violation_a', 'sexual_violation_p', \n",
    "                       'hrd', 'journalist', 'wov', 'stgbv', 'lgbti', 'other']\n",
    "\n",
    "sort_order = {'Yes': 0, 'No': 1, 'NaN': 2, np.nan: 2}\n",
    "\n",
    "_grand = grand.copy()\n",
    "# Dynamically creating sort keys\n",
    "for column in columns_of_interest:\n",
    "    _grand[f'{column}_sort_key'] = _grand[column].map(sort_order).fillna(2)\n",
    "\n",
    "# Dynamically build the list of columns to sort by, including 'rid' and all sort key columns\n",
    "sort_columns = ['rid'] + [f'{column}_sort_key' for column in columns_of_interest]\n",
    "\n",
    "# Now sort the DataFrame by 'rid' and the dynamically created sort key columns\n",
    "df_sorted = _grand.sort_values(by=sort_columns)\n",
    "\n",
    "# Since we've sorted based on dynamically created keys, there's no need to drop non-existent keys\n",
    "# Drop duplicates keeping the first occurrence for each 'rid'\n",
    "df_unique = df_sorted.drop_duplicates(subset='rid')\n",
    "\n",
    "# Optionally, drop the sort key columns to clean up the DataFrame\n",
    "df_unique = df_unique.copy()\n",
    "df_unique.drop(columns=[f'{column}_sort_key' for column in columns_of_interest], inplace=True)\n",
    "\n",
    "# This will give you the deduplicated DataFrame based on 'rid' with preferred values\n",
    "\n",
    "# Display DataFrame after dropping duplicates\n",
    "# print(\"\\nDataFrame after dropping duplicates:\")\n",
    "df_unique"
   ],
   "metadata": {
    "collapsed": false
   },
   "id": "70fb569f29c839d5",
   "execution_count": null
  },
  {
   "cell_type": "code",
   "outputs": [],
   "source": [
    "# df_unique.to_csv(os.path.join(unvfvt23, 'grandBeneficiariesDatasetUnique23.csv'), index=False)"
   ],
   "metadata": {
    "collapsed": false
   },
   "id": "68727763c4842c23",
   "execution_count": null
  },
  {
   "cell_type": "code",
   "outputs": [],
   "source": [
    "columns = ['family_of_missing', 'survivor_of_detention', 'primary_torture',\n",
    "       'secondary_torture', 'sexual_violation_a', 'sexual_violation_p', 'hrd',\n",
    "       'journalist', 'wov', 'stgbv', 'lgbti', 'other']\n",
    "# grand[columns] = grand[columns].fillna('No')\n",
    "# grand"
   ],
   "metadata": {
    "collapsed": false
   },
   "id": "848e2e60db4e891",
   "execution_count": null
  },
  {
   "cell_type": "code",
   "outputs": [],
   "source": [
    "# def check_differences_specific_columns(x, columns_to_check):\n",
    "#     for column in columns_to_check:\n",
    "#         if len(x[column].unique()) > 1:\n",
    "#             return True\n",
    "#     return False\n",
    "\n",
    "# Specify columns to check\n",
    "# columns_to_check = ['family_of_missing', 'survivor_of_detention', 'primary_torture',\n",
    "#        'secondary_torture', 'sexual_violation_a', 'sexual_violation_p', 'hrd',\n",
    "#        'journalist', 'wov', 'stgbv', 'lgbti', 'other']  # Adjust based on your needs\n",
    "\n",
    "# Apply filtering with specified columns\n",
    "# duplicates_with_differences_specific = grand.groupby('rid').filter(check_differences_specific_columns, columns_to_check=columns_to_check)\n",
    "# duplicates_with_differences_specific"
   ],
   "metadata": {
    "collapsed": false
   },
   "id": "13b943b22353b197",
   "execution_count": null
  },
  {
   "cell_type": "code",
   "outputs": [],
   "source": [
    "grand_encoded = pd.read_csv(os.path.join(unvfvt23, 'grandBeneficiariesEncodedDataset23.csv'))\n",
    "grand_encoded"
   ],
   "metadata": {
    "collapsed": false
   },
   "id": "a917f7d75e0d704f",
   "execution_count": null
  },
  {
   "cell_type": "code",
   "outputs": [],
   "source": [
    "grand.columns"
   ],
   "metadata": {
    "collapsed": false
   },
   "id": "67868f78d50ed26a",
   "execution_count": null
  },
  {
   "cell_type": "code",
   "outputs": [],
   "source": [
    "grand_service = grand[['rid', 'service']]\n",
    "grand_service_encoded = pd.get_dummies(grand_service, columns=['service'], prefix='', prefix_sep='')\n",
    "grand_encoded_order = ['rid', 'int', 're', 'gc', 'ic','psfua3', 'psfua6', 'psfua12','ptint','ptreint','gpt', 'ipt', 'ptfua3', 'ptfua6', 'ptfua12', 'pei', 'td']\n",
    "grand_service_encoded = grand_service_encoded[grand_encoded_order]\n",
    "grand_service_encoded"
   ],
   "metadata": {
    "collapsed": false
   },
   "id": "a9914a3400fb9eed",
   "execution_count": null
  },
  {
   "cell_type": "code",
   "outputs": [],
   "source": [
    "pivot_grand_service_encoded = grand_service_encoded.pivot_table(index=['rid'], aggfunc='sum', fill_value=0).reset_index()\n",
    "pivot_grand_service_encoded"
   ],
   "metadata": {
    "collapsed": false
   },
   "id": "45d2cec03dc7af88",
   "execution_count": null
  },
  {
   "cell_type": "code",
   "outputs": [],
   "source": [
    "# ptreint = pd.merge(ptreint, unique_intake[[\"rid\", \"family_of_missing\", \"survivor_of_detention\", \"primary_torture\", \"secondary_torture\", \"sexual_violation_a\", \"sexual_violation_p\", \"hrd\", \"journalist\", \"wov\", \"stgbv\", \"lgbti\", \"other\"]], on='rid', how='left')\n",
    "merge_columns = ['rid', 'fcid', 'sex', 'age', 'family_of_missing', 'survivor_of_detention', 'primary_torture', 'secondary_torture', 'sexual_violation_a', 'sexual_violation_p', 'hrd', 'journalist', 'wov', 'stgbv', 'lgbti', 'other']\n",
    "pivot_grand_service_encoded_merged = pd.merge(pivot_grand_service_encoded, df_unique[merge_columns], on='rid', how='left' )\n",
    "columns_order = ['rid', 'fcid', 'sex', 'age', 'int', 're', 'gc', 'ic', 'psfua3', 'psfua6', 'psfua12', 'ptint', 'ptreint', 'gpt', 'ipt', 'ptfua3', 'ptfua6', 'ptfua12', 'pei', 'td', 'family_of_missing', 'survivor_of_detention', 'primary_torture', 'secondary_torture', 'sexual_violation_a', 'sexual_violation_p', 'hrd', 'journalist', 'wov', 'stgbv', 'lgbti', 'other']\n",
    "pivot_grand_service_encoded_merged = pivot_grand_service_encoded_merged[columns_order]\n",
    "pivot_grand_service_encoded_merged.to_csv(os.path.join(unvfvt23, 'grandBeneficiariesEncodedPivotedUniqueDataset23.csv'), index=False)"
   ],
   "metadata": {
    "collapsed": false
   },
   "id": "cc3badd4014a41f1",
   "execution_count": null
  },
  {
   "cell_type": "code",
   "outputs": [],
   "source": [
    "# pivot_grand_service_encoded_merged.to_csv(os.path.join(unvfvt23, 'grandBeneficiariesEncodedPivotedUniqueDataset23.csv'), index=False)\n",
    "df = pd.read_csv(os.path.join(unvfvt23, 'grandBeneficiariesEncodedPivotedUniqueDataset23.csv'))\n",
    "df[['fcid', 'age']] = df[['fcid', 'age']].astype(\"Int64\")\n",
    "df.to_excel(os.path.join(unvfvt23, 'grandBeneficiariesEncodedPivotedUniqueDataset23.xlsx'), index=False)"
   ],
   "metadata": {
    "collapsed": false
   },
   "id": "307320b43778752c",
   "execution_count": null
  },
  {
   "cell_type": "code",
   "outputs": [],
   "source": [
    "# unique_grand = grand.drop_duplicates(subset=['rid'])\n",
    "# unique_grand"
   ],
   "metadata": {
    "collapsed": false
   },
   "id": "360543d610abe0c8",
   "execution_count": null
  },
  {
   "cell_type": "code",
   "outputs": [],
   "source": [
    "# grand[grand.duplicated('rid', keep=False)]"
   ],
   "metadata": {
    "collapsed": false
   },
   "id": "2d99db526de56b37",
   "execution_count": null
  },
  {
   "cell_type": "code",
   "outputs": [],
   "source": [
    "grand_encoded = pd.get_dummies(grand, columns=['service'], prefix='', prefix_sep='')\n",
    "grand_encoded_order = ['rid', 'fcid', 'sex', 'age', 'int', 're', 'gc', 'ic','psfua3', 'psfua6', 'psfua12','ptint','ptreint','gpt', 'ipt', 'ptfua3', 'ptfua6', 'ptfua12', 'pei', 'td', 'family_of_missing', 'survivor_of_detention', 'primary_torture', 'secondary_torture','sexual_violation_a', 'sexual_violation_p', 'hrd', 'journalist', 'wov', 'stgbv', 'lgbti', 'other']\n",
    "\n",
    "grand_encoded = grand_encoded[grand_encoded_order]\n",
    "# grand_encoded.to_csv(os.path.join(unvfvt23, 'grandBeneficiariesEncodedDataset23.csv'))\n",
    "grand_encoded"
   ],
   "metadata": {
    "collapsed": false
   },
   "id": "890e0a85570c3542",
   "execution_count": null
  },
  {
   "cell_type": "code",
   "outputs": [],
   "source": [
    "grand_encoded.groupby('rid').sum().reset_index()"
   ],
   "metadata": {
    "collapsed": false
   },
   "id": "7e874602264bc32f",
   "execution_count": null
  },
  {
   "cell_type": "code",
   "outputs": [],
   "source": [
    "# grand_encoded.to_csv(os.path.join(unvfvt23, 'grandBeneficiariesEncodedDataset23.csv'))"
   ],
   "metadata": {
    "collapsed": false
   },
   "id": "e15a57a0ed5267e4",
   "execution_count": null
  },
  {
   "cell_type": "code",
   "outputs": [],
   "source": [
    "indexes = ['rid', 'fcid', 'sex', 'age', 'family_of_missing', 'survivor_of_detention', 'primary_torture', 'secondary_torture','sexual_violation_a', 'sexual_violation_p', 'hrd', 'journalist', 'wov', 'stgbv', 'lgbti', 'other']\n",
    "\n",
    "# pivot_grand_encoded = grand_encoded.pivot_table(index=['rid'], aggfunc='sum', fill_value=0).reset_index()\n"
   ],
   "metadata": {
    "collapsed": false
   },
   "id": "76eb5e4265d10697",
   "execution_count": null
  },
  {
   "cell_type": "code",
   "outputs": [],
   "source": [
    "file = os.path.join(data, processed, '0124', 'pstd_0124.csv')\n",
    "td = pd.read_csv(r'C:\\Users\\myagh\\fc-performeter\\data\\processed\\0124\\pstd_0124.csv')\n",
    "file2 = os.path.join(data, processed, '0124', 'psscr_0124.csv')\n",
    "scr = pd.read_csv(r'C:\\Users\\myagh\\fc-performeter\\data\\processed\\0124\\psscr_0124.csv')\n",
    "file3 = os.path.join(data, processed, '0124', 'psint_0124.csv')\n",
    "int = pd.read_csv(r'C:\\Users\\myagh\\fc-performeter\\data\\processed\\0124\\psint_0124.csv')\n",
    "file4 = os.path.join(data, processed, '0124', 'psgc_0124.csv')\n",
    "gc = pd.read_csv(r'C:\\Users\\myagh\\fc-performeter\\data\\processed\\0124\\psgc_0124.csv')\n",
    "file5 = os.path.join(data, processed, '0124', 'psic_0124.csv')\n",
    "ic = pd.read_csv(r'C:\\Users\\myagh\\fc-performeter\\data\\processed\\0124\\psic_0124.csv')\n",
    "file6 = os.path.join(data, processed, '0124', 'pscws_0124.csv')\n",
    "cws = pd.read_csv(r'C:\\Users\\myagh\\fc-performeter\\data\\processed\\0124\\pscws_0124.csv')\n",
    "file7 = os.path.join(data, processed, '0124', 'pspei_0124.csv')\n",
    "pei = pd.read_csv(r'C:\\Users\\myagh\\fc-performeter\\data\\processed\\0124\\pspei_0124.csv')\n",
    "file8 = os.path.join(data, processed, '0124', 'pstrw_0124.csv')\n",
    "trw = pd.read_csv(r'C:\\Users\\myagh\\fc-performeter\\data\\processed\\0124\\pstrw_0124.csv')\n",
    "file9 = os.path.join(data, processed, '0124', 'ptgpt_0124.csv')\n",
    "gpt = pd.read_csv(r'C:\\Users\\myagh\\fc-performeter\\data\\processed\\0124\\ptgpt_0124.csv')\n",
    "file10 = os.path.join(data, processed, '0124', 'ptipt_0124.csv')\n",
    "pt = pd.read_csv(r'C:\\Users\\myagh\\fc-performeter\\data\\processed\\0124\\ptipt_0124.csv')"
   ],
   "metadata": {
    "collapsed": false,
    "ExecuteTime": {
     "end_time": "2024-02-14T13:30:46.278683500Z",
     "start_time": "2024-02-14T13:30:46.193553800Z"
    }
   },
   "id": "b012bdb67642d2c3",
   "execution_count": 3
  },
  {
   "cell_type": "code",
   "outputs": [],
   "source": [
    "df  = gc\n",
    "name = 'زهراء'"
   ],
   "metadata": {
    "collapsed": false,
    "ExecuteTime": {
     "end_time": "2024-02-14T13:35:37.047706700Z",
     "start_time": "2024-02-14T13:35:37.008941100Z"
    }
   },
   "id": "14606b2781f89fd1",
   "execution_count": 9
  },
  {
   "cell_type": "code",
   "outputs": [
    {
     "data": {
      "text/plain": "   gcsp  gcspi    rid        fcid firstname lastname need_pt gc_index  \\\n77   SA     51  R0393  8110050086     زهراء     علوش     GPT      NaN   \n\n         gc_class       gc_s1  ...       gc_s4    gc_check       gc_s5  \\\n77  Female(46-50)  2022-10-13  ...  2022-11-03  2022-11-07  2022-11-10   \n\n         gc_s6       gc_s7       gc_s8       gc_s9       gc_10 gc_total note  \n77  2022-11-17  2022-11-24  2022-12-01  2022-12-08  2022-12-15     10.0  NaN  \n\n[1 rows x 22 columns]",
      "text/html": "<div>\n<style scoped>\n    .dataframe tbody tr th:only-of-type {\n        vertical-align: middle;\n    }\n\n    .dataframe tbody tr th {\n        vertical-align: top;\n    }\n\n    .dataframe thead th {\n        text-align: right;\n    }\n</style>\n<table border=\"1\" class=\"dataframe\">\n  <thead>\n    <tr style=\"text-align: right;\">\n      <th></th>\n      <th>gcsp</th>\n      <th>gcspi</th>\n      <th>rid</th>\n      <th>fcid</th>\n      <th>firstname</th>\n      <th>lastname</th>\n      <th>need_pt</th>\n      <th>gc_index</th>\n      <th>gc_class</th>\n      <th>gc_s1</th>\n      <th>...</th>\n      <th>gc_s4</th>\n      <th>gc_check</th>\n      <th>gc_s5</th>\n      <th>gc_s6</th>\n      <th>gc_s7</th>\n      <th>gc_s8</th>\n      <th>gc_s9</th>\n      <th>gc_10</th>\n      <th>gc_total</th>\n      <th>note</th>\n    </tr>\n  </thead>\n  <tbody>\n    <tr>\n      <th>77</th>\n      <td>SA</td>\n      <td>51</td>\n      <td>R0393</td>\n      <td>8110050086</td>\n      <td>زهراء</td>\n      <td>علوش</td>\n      <td>GPT</td>\n      <td>NaN</td>\n      <td>Female(46-50)</td>\n      <td>2022-10-13</td>\n      <td>...</td>\n      <td>2022-11-03</td>\n      <td>2022-11-07</td>\n      <td>2022-11-10</td>\n      <td>2022-11-17</td>\n      <td>2022-11-24</td>\n      <td>2022-12-01</td>\n      <td>2022-12-08</td>\n      <td>2022-12-15</td>\n      <td>10.0</td>\n      <td>NaN</td>\n    </tr>\n  </tbody>\n</table>\n<p>1 rows × 22 columns</p>\n</div>"
     },
     "execution_count": 10,
     "metadata": {},
     "output_type": "execute_result"
    }
   ],
   "source": [
    "df[df['firstname'] == name]"
   ],
   "metadata": {
    "collapsed": false,
    "ExecuteTime": {
     "end_time": "2024-02-14T13:35:38.635849300Z",
     "start_time": "2024-02-14T13:35:38.568794600Z"
    }
   },
   "id": "36881848af4db7ea",
   "execution_count": 10
  },
  {
   "cell_type": "code",
   "outputs": [],
   "source": [],
   "metadata": {
    "collapsed": false
   },
   "id": "ab26ab3344663e58"
  }
 ],
 "metadata": {
  "kernelspec": {
   "display_name": "Python 3",
   "language": "python",
   "name": "python3"
  },
  "language_info": {
   "codemirror_mode": {
    "name": "ipython",
    "version": 2
   },
   "file_extension": ".py",
   "mimetype": "text/x-python",
   "name": "python",
   "nbconvert_exporter": "python",
   "pygments_lexer": "ipython2",
   "version": "2.7.6"
  }
 },
 "nbformat": 4,
 "nbformat_minor": 5
}
