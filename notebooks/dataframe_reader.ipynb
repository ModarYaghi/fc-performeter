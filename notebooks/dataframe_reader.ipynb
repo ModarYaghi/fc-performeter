{
 "cells": [
  {
   "cell_type": "code",
   "execution_count": null,
   "id": "initial_id",
   "metadata": {
    "collapsed": true
   },
   "outputs": [],
   "source": [
    "import os\n",
    "import pandas as pd\n",
    "from src.all_in_one import *\n",
    "down_threshold = \"2022-12-31\"\n",
    "upper_threshold = \"2024-01-01\""
   ]
  },
  {
   "cell_type": "code",
   "outputs": [],
   "source": [
    "def dataframize_csv(file_path, file_sheet, configuration_file, lower_threshold=None, upper_threshold=None):\n",
    "    \"\"\"\n",
    "    Reads a CSV file, applies data type transformations, and filters the data based on provided date thresholds.\n",
    "    \n",
    "    Parameters:\n",
    "    - file_path: Path to the CSV file.\n",
    "    - file_sheet: Sheet name or identifier used in dataset configuration.\n",
    "    - config_file: Configuration file path for dataset setup.\n",
    "    - lower_threshold: Lower date threshold for filtering.\n",
    "    - upper_threshold: Upper date threshold for filtering.\n",
    "    \n",
    "    Returns:\n",
    "    DataFrame after applying data type transformations and date-based filtering.\n",
    "    \"\"\"\n",
    "    # Ensure consistency in variable naming and parameter usage\n",
    "    df_dataset = Dataset(configuration_file, file_sheet)\n",
    "    df = pd.read_csv(file_path)\n",
    "    dtype_trans(df, df_dataset)\n",
    "    date_filtered_df = filter_df_by_date(df, df_dataset.dvars, lower_threshold, comparison_type='a')\n",
    "    upper_date_filtered_df = filter_df_by_date(date_filtered_df, df_dataset.dvars, upper_threshold, comparison_type='b')\n",
    "    \n",
    "    sessions_num = 0\n",
    "    \n",
    "    for col in df_dataset.dvars:\n",
    "        count_sessions = filter_df_by_date(filter_df_by_date(df, [col], lower_threshold, comparison_type='a'), [col], upper_threshold, comparison_type='b')[col].count()\n",
    "        sessions_num += count_sessions \n",
    "        \n",
    "    return sessions_num\n",
    "    # return upper_date_filtered_df\n",
    "    "
   ],
   "metadata": {
    "collapsed": false
   },
   "id": "1298337a97f0b951",
   "execution_count": null
  },
  {
   "cell_type": "code",
   "outputs": [],
   "source": [
    "paths_sheets = [(scr_path, scr_sheet), (int_path, int_sheet), (gc_path, gc_sheet), (ic_path, ic_sheet), (psfua_path, psfua_sheet), (pei_path, pei_sheet), (td_path, td_sheet), (cws_path, cws_sheet), (trw_path, trw_sheet), (aw_path, aw_sheet), (psfs_path, psfs_sheet), (ptint_path, ptint_sheet), (gpt_path, gpt_sheet), (ipt_path, ipt_sheet), (ptfua_path, ptfua_sheet)]"
   ],
   "metadata": {
    "collapsed": false
   },
   "id": "7bbee6aa8d8af523",
   "execution_count": null
  },
  {
   "cell_type": "code",
   "outputs": [],
   "source": [
    "total_sessions_num = 0"
   ],
   "metadata": {
    "collapsed": false
   },
   "id": "688294dfa7f578ee",
   "execution_count": null
  },
  {
   "cell_type": "code",
   "outputs": [],
   "source": [
    "for path_sheet in paths_sheets:\n",
    "    path, sheet = path_sheet\n",
    "    session_num = dataframize_csv(path, sheet, config_file, lower_threshold=down_threshold, upper_threshold=upper_threshold)\n",
    "    total_sessions_num += session_num\n",
    "\n",
    "print(total_sessions_num)"
   ],
   "metadata": {
    "collapsed": false
   },
   "id": "ffb3c96ca329585",
   "execution_count": null
  },
  {
   "cell_type": "code",
   "outputs": [],
   "source": [],
   "metadata": {
    "collapsed": false
   },
   "id": "5f7f8ef8fd978cdf"
  }
 ],
 "metadata": {
  "kernelspec": {
   "display_name": "Python 3",
   "language": "python",
   "name": "python3"
  },
  "language_info": {
   "codemirror_mode": {
    "name": "ipython",
    "version": 2
   },
   "file_extension": ".py",
   "mimetype": "text/x-python",
   "name": "python",
   "nbconvert_exporter": "python",
   "pygments_lexer": "ipython2",
   "version": "2.7.6"
  }
 },
 "nbformat": 4,
 "nbformat_minor": 5
}
