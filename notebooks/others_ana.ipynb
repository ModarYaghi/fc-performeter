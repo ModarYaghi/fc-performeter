{
 "cells": [
  {
   "cell_type": "code",
   "execution_count": null,
   "id": "initial_id",
   "metadata": {
    "collapsed": true
   },
   "outputs": [],
   "source": [
    "import pandas as pd\n",
    "from src.all_in_one import *\n",
    "from src.analysis_functions import *"
   ]
  },
  {
   "cell_type": "code",
   "outputs": [],
   "source": [
    "td_path = os.path.join(processed_data, 'td_1223.csv')\n",
    "sheet_name = 'TD'\n",
    "td_dataset = Dataset(config_file, sheet_name)\n",
    "td = pd.read_csv(td_path)\n",
    "td = dtype_trans(td, td_dataset)"
   ],
   "metadata": {
    "collapsed": false
   },
   "id": "7e597d2bbea95cc7",
   "execution_count": null
  },
  {
   "cell_type": "code",
   "outputs": [],
   "source": [
    "td"
   ],
   "metadata": {
    "collapsed": false
   },
   "id": "779a9fe5f14d1f3f",
   "execution_count": null
  },
  {
   "cell_type": "code",
   "outputs": [],
   "source": [
    "threshold = '2023-09-30'"
   ],
   "metadata": {
    "collapsed": false
   },
   "id": "877d310ce3d8bf1d",
   "execution_count": null
  },
  {
   "cell_type": "code",
   "outputs": [],
   "source": [
    "td_dataset.dvars"
   ],
   "metadata": {
    "collapsed": false
   },
   "id": "b96753bc10fcc962",
   "execution_count": null
  },
  {
   "cell_type": "code",
   "outputs": [],
   "source": [
    "td_q4 = filter_df_by_date(td, td_dataset.dvars, threshold, comparison_type='a')"
   ],
   "metadata": {
    "collapsed": false
   },
   "id": "42f995c03dd1af07",
   "execution_count": null
  },
  {
   "cell_type": "code",
   "outputs": [],
   "source": [
    "td_q4"
   ],
   "metadata": {
    "collapsed": false
   },
   "id": "ed03ecab056996ee",
   "execution_count": null
  },
  {
   "cell_type": "code",
   "outputs": [],
   "source": [
    "td_q4['advocacy'].value_counts()"
   ],
   "metadata": {
    "collapsed": false
   },
   "id": "729e6334ac9a08f6",
   "execution_count": null
  },
  {
   "cell_type": "code",
   "outputs": [],
   "source": [],
   "metadata": {
    "collapsed": false
   },
   "id": "bf8523517d73b1d5",
   "execution_count": null
  },
  {
   "cell_type": "code",
   "outputs": [],
   "source": [
    "psfs_path = os.path.join(processed_data, 'psfs_1223.csv')\n",
    "psfs_sheet = 'PSFS'\n",
    "psfs_dataset = Dataset(config_file, psfs_sheet)\n",
    "psfs = pd.read_csv(psfs_path)\n",
    "psfs = dtype_trans(psfs, psfs_dataset)"
   ],
   "metadata": {
    "collapsed": false
   },
   "id": "2b731a566e9cd92e",
   "execution_count": null
  },
  {
   "cell_type": "code",
   "outputs": [],
   "source": [
    "psfs_dataset.dvars"
   ],
   "metadata": {
    "collapsed": false
   },
   "id": "a0d2805e6862086c",
   "execution_count": null
  },
  {
   "cell_type": "code",
   "outputs": [],
   "source": [
    "psfs"
   ],
   "metadata": {
    "collapsed": false
   },
   "id": "2713e0c93d43f4e6",
   "execution_count": null
  },
  {
   "cell_type": "code",
   "outputs": [],
   "source": [
    "psfs_q4 = filter_df_by_date(psfs, psfs_dataset.dvars, threshold, comparison_type='a')\n",
    "psfs_q4['sex'].value_counts()"
   ],
   "metadata": {
    "collapsed": false
   },
   "id": "e6ad1ef4ff43357b",
   "execution_count": null
  },
  {
   "cell_type": "code",
   "outputs": [],
   "source": [
    "age = psfs_q4['age']\n",
    "age_group = categorize_and_count_ages(age)\n",
    "normalized_value_counts(age_group)"
   ],
   "metadata": {
    "collapsed": false
   },
   "id": "219f78b608fbdc3d",
   "execution_count": null
  },
  {
   "cell_type": "code",
   "outputs": [],
   "source": [],
   "metadata": {
    "collapsed": false
   },
   "id": "a49e534ceb75b265",
   "execution_count": null
  },
  {
   "cell_type": "code",
   "outputs": [],
   "source": [
    "ptint_path = os.path.join(processed_data, 'ptint_1223.csv')\n",
    "ptint_sheet = 'PT Int'\n",
    "ptint_dataset = Dataset(config_file, ptint_sheet)\n",
    "ptint = pd.read_csv(ptint_path)\n",
    "ptint = dtype_trans(ptint, ptint_dataset)"
   ],
   "metadata": {
    "collapsed": false
   },
   "id": "e6b72e5bf040ae2a",
   "execution_count": null
  },
  {
   "cell_type": "code",
   "outputs": [],
   "source": [
    "ptint"
   ],
   "metadata": {
    "collapsed": false
   },
   "id": "a9bff5c56de563ce",
   "execution_count": null
  },
  {
   "cell_type": "code",
   "outputs": [],
   "source": [
    "ptint_q4 = filter_df_by_date(ptint, ptint_dataset.dvars, threshold, comparison_type='a')\n",
    "ptint_q4"
   ],
   "metadata": {
    "collapsed": false
   },
   "id": "e9700cec4b745fcd",
   "execution_count": null
  },
  {
   "cell_type": "code",
   "outputs": [],
   "source": [
    "unique_psfs = psfs.drop_duplicates(subset='rid')\n",
    "ptint_sex_age = pd.merge(ptint_q4, unique_psfs[['rid', 'sex', 'age']], on='rid', how='left')"
   ],
   "metadata": {
    "collapsed": false
   },
   "id": "a2fe002f4bf48b9b",
   "execution_count": null
  },
  {
   "cell_type": "code",
   "outputs": [],
   "source": [
    "new_ptint_sex_age = ptint_sex_age[ptint_sex_age['pt_nt_s1'].notna()]\n",
    "new_ptint_sex_age['sex'].value_counts()"
   ],
   "metadata": {
    "collapsed": false
   },
   "id": "de5d51aa1d2283d",
   "execution_count": null
  },
  {
   "cell_type": "code",
   "outputs": [],
   "source": [],
   "metadata": {
    "collapsed": false
   },
   "id": "90936462f1737801"
  },
  {
   "cell_type": "code",
   "outputs": [],
   "source": [
    "ptfua_path = os.path.join(processed_data, 'ptfua_1223.csv')\n",
    "ptfua_sheet = 'FUA'\n",
    "ptfua_dataset = Dataset(config_file, ptfua_sheet)\n",
    "ptfua = pd.read_csv(ptfua_path)\n",
    "ptfua = dtype_trans(ptfua, ptfua_dataset)"
   ],
   "metadata": {
    "collapsed": false
   },
   "id": "5d99bba320229e9f",
   "execution_count": null
  },
  {
   "cell_type": "code",
   "outputs": [],
   "source": [
    "ptfua_q4 = filter_df_by_date(ptfua, ptfua_dataset.dvars, threshold, comparison_type='a')\n",
    "ptfua_q4"
   ],
   "metadata": {
    "collapsed": false
   },
   "id": "4b955d9ca3a517b9",
   "execution_count": null
  },
  {
   "cell_type": "code",
   "outputs": [],
   "source": [],
   "metadata": {
    "collapsed": false
   },
   "id": "30b168a37e31e8b9"
  }
 ],
 "metadata": {
  "kernelspec": {
   "display_name": "Python 3",
   "language": "python",
   "name": "python3"
  },
  "language_info": {
   "codemirror_mode": {
    "name": "ipython",
    "version": 2
   },
   "file_extension": ".py",
   "mimetype": "text/x-python",
   "name": "python",
   "nbconvert_exporter": "python",
   "pygments_lexer": "ipython2",
   "version": "2.7.6"
  }
 },
 "nbformat": 4,
 "nbformat_minor": 5
}
