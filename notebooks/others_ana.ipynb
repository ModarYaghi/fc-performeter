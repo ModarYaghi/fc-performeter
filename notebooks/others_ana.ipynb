{
 "cells": [
  {
   "cell_type": "code",
   "execution_count": 5,
   "id": "initial_id",
   "metadata": {
    "collapsed": true,
    "ExecuteTime": {
     "end_time": "2024-01-08T12:05:52.765804600Z",
     "start_time": "2024-01-08T12:05:52.752116600Z"
    }
   },
   "outputs": [],
   "source": [
    "import pandas as pd\n",
    "from src.all_in_one import *\n",
    "from src.analysis_functions import *\n",
    "threshold = '2023-09-30'"
   ]
  },
  {
   "cell_type": "code",
   "outputs": [],
   "source": [
    "td_path = os.path.join(processed_data, 'td_1223.csv')\n",
    "td_sheet = 'TD'\n",
    "td_dataset = Dataset(config_file, td_sheet)\n",
    "td = pd.read_csv(td_path)\n",
    "td = dtype_trans(td, td_dataset)"
   ],
   "metadata": {
    "collapsed": false,
    "ExecuteTime": {
     "end_time": "2024-01-08T12:05:54.337543200Z",
     "start_time": "2024-01-08T12:05:54.236193400Z"
    }
   },
   "id": "7e597d2bbea95cc7",
   "execution_count": 6
  },
  {
   "cell_type": "code",
   "outputs": [],
   "source": [
    "td"
   ],
   "metadata": {
    "collapsed": false
   },
   "id": "779a9fe5f14d1f3f",
   "execution_count": null
  },
  {
   "cell_type": "code",
   "outputs": [],
   "source": [],
   "metadata": {
    "collapsed": false
   },
   "id": "877d310ce3d8bf1d",
   "execution_count": null
  },
  {
   "cell_type": "code",
   "outputs": [],
   "source": [
    "td_dataset.dvars"
   ],
   "metadata": {
    "collapsed": false
   },
   "id": "b96753bc10fcc962",
   "execution_count": null
  },
  {
   "cell_type": "code",
   "outputs": [],
   "source": [
    "td_q4 = filter_df_by_date(td, td_dataset.dvars, threshold, comparison_type='a')"
   ],
   "metadata": {
    "collapsed": false,
    "ExecuteTime": {
     "end_time": "2024-01-08T12:05:59.480280900Z",
     "start_time": "2024-01-08T12:05:59.472589500Z"
    }
   },
   "id": "42f995c03dd1af07",
   "execution_count": 7
  },
  {
   "cell_type": "code",
   "outputs": [
    {
     "data": {
      "text/plain": "   tdsp  tdspi    rid        fcid firstname    lastname    consult    consent  \\\n4    IJ      5  R0100  8110050077     اميرة       بكران 2023-10-06 2023-10-06   \n9    LA      5  R0571  8110080004     سميحة        نجمة 2023-10-04 2023-10-04   \n10   LA      6  R0451  8110090005      زينب        موسى 2023-10-04 2023-10-04   \n11   LA      7  R0188  8110050031      سهاد        عديل 2023-10-09 2023-10-09   \n12   LA      8  R0518  8110090004     عائشة     المصطفى 2023-11-08 2023-11-08   \n13   LA      9  R0348  8110020097     ناديا  عبد المجيد 2023-11-08 2023-11-08   \n14   LA     10  R0591  8110050092       نور      العلبي 2023-11-08 2023-11-08   \n22   MT      8  R0444  8110050070     فاطمة     حاج علي 2023-10-04 2023-10-04   \n23   MT      9  R0473  8110050083      منال        محمد 2023-10-04 2023-10-04   \n24   MT     10  R0448  8110050072      مريم        محمد 2023-10-09 2023-10-09   \n25   MT     11  R0439  8110050065     ايمان      الصيني 2023-10-10 2023-10-10   \n26   MT     12  R0113  8110020060     نبيهة       الحسن 2023-11-09 2023-11-09   \n27   MT     13  R0540  8110050091     غزالة       السقا 2023-11-09 2023-11-09   \n28   MT     14  R0290  8110020085     أسماء      العيسى 2023-11-09 2023-11-09   \n29   MT     15  R0298  8110020089      يسرى      الحويل 2023-11-10 2023-11-10   \n50   SA     21  R0187  8110050030     زليخة      الناصر 2023-10-06 2023-10-06   \n51   SA     22  R0343  8110020166      سمية        محمد 2023-10-06 2023-10-06   \n52   SA     23  R0574  8110080007      خولة       العلو 2023-11-10 2023-11-10   \n53   SA     24  R0573  8110080008     حسناء       بصمجي 2023-11-10 2023-11-10   \n54   SA     25  R0353  8110020099      دلال       الشيخ 2023-11-10 2023-11-10   \n81   YQ     27  R0460  8110090003       سهى       الحسن 2023-10-04 2023-10-04   \n\n   legal_doc individual_use  cws communicat_use advocacy interview_s1  \\\n4         No            Yes  Yes            Yes       No          NaT   \n9         No            Yes  Yes            Yes       No          NaT   \n10        No            Yes  Yes             No       No          NaT   \n11       Yes            Yes  Yes            Yes      Yes          NaT   \n12        No            Yes  Yes            Yes       No          NaT   \n13        No            Yes  Yes             No       No          NaT   \n14        No             No  Yes             No      Yes          NaT   \n22       Yes            Yes  Yes             No       No          NaT   \n23        No            Yes  Yes            Yes      Yes          NaT   \n24        No            Yes  Yes            Yes       No          NaT   \n25        No            Yes  Yes            Yes      Yes          NaT   \n26       Yes             No  Yes            Yes      Yes          NaT   \n27       Yes             No  Yes            Yes      Yes          NaT   \n28        No            Yes  Yes            Yes      Yes          NaT   \n29       Yes            Yes  Yes             No      Yes          NaT   \n50        No            Yes  Yes            Yes      Yes          NaT   \n51       Yes            Yes  Yes             No      Yes          NaT   \n52       Yes            Yes  Yes            Yes      Yes          NaT   \n53        No            Yes  Yes            Yes      Yes          NaT   \n54        No            Yes  Yes            Yes      Yes          NaT   \n81        No            Yes  Yes            Yes      Yes          NaT   \n\n   interview_s2 interview_s3  interview_total  \\\n4           NaT          NaT                0   \n9           NaT          NaT                0   \n10          NaT          NaT                0   \n11          NaT          NaT                0   \n12          NaT          NaT                0   \n13          NaT          NaT                0   \n14          NaT          NaT                0   \n22          NaT          NaT                0   \n23          NaT          NaT                0   \n24          NaT          NaT                0   \n25          NaT          NaT                0   \n26          NaT          NaT                0   \n27          NaT          NaT                0   \n28          NaT          NaT                0   \n29          NaT          NaT                0   \n50          NaT          NaT                0   \n51          NaT          NaT                0   \n52          NaT          NaT                0   \n53          NaT          NaT                0   \n54          NaT          NaT                0   \n81          NaT          NaT                0   \n\n                                         note  \n4                  حضرة ورشة التوثيق الابداعي  \n9                                         NaN  \n10                                        NaN  \n11                                        NaN  \n12                                        NaN  \n13                                        NaN  \n14                                        NaN  \n22                                        NaN  \n23                                        NaN  \n24                                        NaN  \n25                                        NaN  \n26                                        NaN  \n27                                        NaN  \n28                                        NaN  \n29                                        NaN  \n50  حضرت جلسة تعريفية عن المناصرة 18-Oct-2023  \n51  حضرت جلسة تعريفية عن المناصرة 18-Oct-2023  \n52                                        NaN  \n53                                        NaN  \n54                                        NaN  \n81                                        NaN  ",
      "text/html": "<div>\n<style scoped>\n    .dataframe tbody tr th:only-of-type {\n        vertical-align: middle;\n    }\n\n    .dataframe tbody tr th {\n        vertical-align: top;\n    }\n\n    .dataframe thead th {\n        text-align: right;\n    }\n</style>\n<table border=\"1\" class=\"dataframe\">\n  <thead>\n    <tr style=\"text-align: right;\">\n      <th></th>\n      <th>tdsp</th>\n      <th>tdspi</th>\n      <th>rid</th>\n      <th>fcid</th>\n      <th>firstname</th>\n      <th>lastname</th>\n      <th>consult</th>\n      <th>consent</th>\n      <th>legal_doc</th>\n      <th>individual_use</th>\n      <th>cws</th>\n      <th>communicat_use</th>\n      <th>advocacy</th>\n      <th>interview_s1</th>\n      <th>interview_s2</th>\n      <th>interview_s3</th>\n      <th>interview_total</th>\n      <th>note</th>\n    </tr>\n  </thead>\n  <tbody>\n    <tr>\n      <th>4</th>\n      <td>IJ</td>\n      <td>5</td>\n      <td>R0100</td>\n      <td>8110050077</td>\n      <td>اميرة</td>\n      <td>بكران</td>\n      <td>2023-10-06</td>\n      <td>2023-10-06</td>\n      <td>No</td>\n      <td>Yes</td>\n      <td>Yes</td>\n      <td>Yes</td>\n      <td>No</td>\n      <td>NaT</td>\n      <td>NaT</td>\n      <td>NaT</td>\n      <td>0</td>\n      <td>حضرة ورشة التوثيق الابداعي</td>\n    </tr>\n    <tr>\n      <th>9</th>\n      <td>LA</td>\n      <td>5</td>\n      <td>R0571</td>\n      <td>8110080004</td>\n      <td>سميحة</td>\n      <td>نجمة</td>\n      <td>2023-10-04</td>\n      <td>2023-10-04</td>\n      <td>No</td>\n      <td>Yes</td>\n      <td>Yes</td>\n      <td>Yes</td>\n      <td>No</td>\n      <td>NaT</td>\n      <td>NaT</td>\n      <td>NaT</td>\n      <td>0</td>\n      <td>NaN</td>\n    </tr>\n    <tr>\n      <th>10</th>\n      <td>LA</td>\n      <td>6</td>\n      <td>R0451</td>\n      <td>8110090005</td>\n      <td>زينب</td>\n      <td>موسى</td>\n      <td>2023-10-04</td>\n      <td>2023-10-04</td>\n      <td>No</td>\n      <td>Yes</td>\n      <td>Yes</td>\n      <td>No</td>\n      <td>No</td>\n      <td>NaT</td>\n      <td>NaT</td>\n      <td>NaT</td>\n      <td>0</td>\n      <td>NaN</td>\n    </tr>\n    <tr>\n      <th>11</th>\n      <td>LA</td>\n      <td>7</td>\n      <td>R0188</td>\n      <td>8110050031</td>\n      <td>سهاد</td>\n      <td>عديل</td>\n      <td>2023-10-09</td>\n      <td>2023-10-09</td>\n      <td>Yes</td>\n      <td>Yes</td>\n      <td>Yes</td>\n      <td>Yes</td>\n      <td>Yes</td>\n      <td>NaT</td>\n      <td>NaT</td>\n      <td>NaT</td>\n      <td>0</td>\n      <td>NaN</td>\n    </tr>\n    <tr>\n      <th>12</th>\n      <td>LA</td>\n      <td>8</td>\n      <td>R0518</td>\n      <td>8110090004</td>\n      <td>عائشة</td>\n      <td>المصطفى</td>\n      <td>2023-11-08</td>\n      <td>2023-11-08</td>\n      <td>No</td>\n      <td>Yes</td>\n      <td>Yes</td>\n      <td>Yes</td>\n      <td>No</td>\n      <td>NaT</td>\n      <td>NaT</td>\n      <td>NaT</td>\n      <td>0</td>\n      <td>NaN</td>\n    </tr>\n    <tr>\n      <th>13</th>\n      <td>LA</td>\n      <td>9</td>\n      <td>R0348</td>\n      <td>8110020097</td>\n      <td>ناديا</td>\n      <td>عبد المجيد</td>\n      <td>2023-11-08</td>\n      <td>2023-11-08</td>\n      <td>No</td>\n      <td>Yes</td>\n      <td>Yes</td>\n      <td>No</td>\n      <td>No</td>\n      <td>NaT</td>\n      <td>NaT</td>\n      <td>NaT</td>\n      <td>0</td>\n      <td>NaN</td>\n    </tr>\n    <tr>\n      <th>14</th>\n      <td>LA</td>\n      <td>10</td>\n      <td>R0591</td>\n      <td>8110050092</td>\n      <td>نور</td>\n      <td>العلبي</td>\n      <td>2023-11-08</td>\n      <td>2023-11-08</td>\n      <td>No</td>\n      <td>No</td>\n      <td>Yes</td>\n      <td>No</td>\n      <td>Yes</td>\n      <td>NaT</td>\n      <td>NaT</td>\n      <td>NaT</td>\n      <td>0</td>\n      <td>NaN</td>\n    </tr>\n    <tr>\n      <th>22</th>\n      <td>MT</td>\n      <td>8</td>\n      <td>R0444</td>\n      <td>8110050070</td>\n      <td>فاطمة</td>\n      <td>حاج علي</td>\n      <td>2023-10-04</td>\n      <td>2023-10-04</td>\n      <td>Yes</td>\n      <td>Yes</td>\n      <td>Yes</td>\n      <td>No</td>\n      <td>No</td>\n      <td>NaT</td>\n      <td>NaT</td>\n      <td>NaT</td>\n      <td>0</td>\n      <td>NaN</td>\n    </tr>\n    <tr>\n      <th>23</th>\n      <td>MT</td>\n      <td>9</td>\n      <td>R0473</td>\n      <td>8110050083</td>\n      <td>منال</td>\n      <td>محمد</td>\n      <td>2023-10-04</td>\n      <td>2023-10-04</td>\n      <td>No</td>\n      <td>Yes</td>\n      <td>Yes</td>\n      <td>Yes</td>\n      <td>Yes</td>\n      <td>NaT</td>\n      <td>NaT</td>\n      <td>NaT</td>\n      <td>0</td>\n      <td>NaN</td>\n    </tr>\n    <tr>\n      <th>24</th>\n      <td>MT</td>\n      <td>10</td>\n      <td>R0448</td>\n      <td>8110050072</td>\n      <td>مريم</td>\n      <td>محمد</td>\n      <td>2023-10-09</td>\n      <td>2023-10-09</td>\n      <td>No</td>\n      <td>Yes</td>\n      <td>Yes</td>\n      <td>Yes</td>\n      <td>No</td>\n      <td>NaT</td>\n      <td>NaT</td>\n      <td>NaT</td>\n      <td>0</td>\n      <td>NaN</td>\n    </tr>\n    <tr>\n      <th>25</th>\n      <td>MT</td>\n      <td>11</td>\n      <td>R0439</td>\n      <td>8110050065</td>\n      <td>ايمان</td>\n      <td>الصيني</td>\n      <td>2023-10-10</td>\n      <td>2023-10-10</td>\n      <td>No</td>\n      <td>Yes</td>\n      <td>Yes</td>\n      <td>Yes</td>\n      <td>Yes</td>\n      <td>NaT</td>\n      <td>NaT</td>\n      <td>NaT</td>\n      <td>0</td>\n      <td>NaN</td>\n    </tr>\n    <tr>\n      <th>26</th>\n      <td>MT</td>\n      <td>12</td>\n      <td>R0113</td>\n      <td>8110020060</td>\n      <td>نبيهة</td>\n      <td>الحسن</td>\n      <td>2023-11-09</td>\n      <td>2023-11-09</td>\n      <td>Yes</td>\n      <td>No</td>\n      <td>Yes</td>\n      <td>Yes</td>\n      <td>Yes</td>\n      <td>NaT</td>\n      <td>NaT</td>\n      <td>NaT</td>\n      <td>0</td>\n      <td>NaN</td>\n    </tr>\n    <tr>\n      <th>27</th>\n      <td>MT</td>\n      <td>13</td>\n      <td>R0540</td>\n      <td>8110050091</td>\n      <td>غزالة</td>\n      <td>السقا</td>\n      <td>2023-11-09</td>\n      <td>2023-11-09</td>\n      <td>Yes</td>\n      <td>No</td>\n      <td>Yes</td>\n      <td>Yes</td>\n      <td>Yes</td>\n      <td>NaT</td>\n      <td>NaT</td>\n      <td>NaT</td>\n      <td>0</td>\n      <td>NaN</td>\n    </tr>\n    <tr>\n      <th>28</th>\n      <td>MT</td>\n      <td>14</td>\n      <td>R0290</td>\n      <td>8110020085</td>\n      <td>أسماء</td>\n      <td>العيسى</td>\n      <td>2023-11-09</td>\n      <td>2023-11-09</td>\n      <td>No</td>\n      <td>Yes</td>\n      <td>Yes</td>\n      <td>Yes</td>\n      <td>Yes</td>\n      <td>NaT</td>\n      <td>NaT</td>\n      <td>NaT</td>\n      <td>0</td>\n      <td>NaN</td>\n    </tr>\n    <tr>\n      <th>29</th>\n      <td>MT</td>\n      <td>15</td>\n      <td>R0298</td>\n      <td>8110020089</td>\n      <td>يسرى</td>\n      <td>الحويل</td>\n      <td>2023-11-10</td>\n      <td>2023-11-10</td>\n      <td>Yes</td>\n      <td>Yes</td>\n      <td>Yes</td>\n      <td>No</td>\n      <td>Yes</td>\n      <td>NaT</td>\n      <td>NaT</td>\n      <td>NaT</td>\n      <td>0</td>\n      <td>NaN</td>\n    </tr>\n    <tr>\n      <th>50</th>\n      <td>SA</td>\n      <td>21</td>\n      <td>R0187</td>\n      <td>8110050030</td>\n      <td>زليخة</td>\n      <td>الناصر</td>\n      <td>2023-10-06</td>\n      <td>2023-10-06</td>\n      <td>No</td>\n      <td>Yes</td>\n      <td>Yes</td>\n      <td>Yes</td>\n      <td>Yes</td>\n      <td>NaT</td>\n      <td>NaT</td>\n      <td>NaT</td>\n      <td>0</td>\n      <td>حضرت جلسة تعريفية عن المناصرة 18-Oct-2023</td>\n    </tr>\n    <tr>\n      <th>51</th>\n      <td>SA</td>\n      <td>22</td>\n      <td>R0343</td>\n      <td>8110020166</td>\n      <td>سمية</td>\n      <td>محمد</td>\n      <td>2023-10-06</td>\n      <td>2023-10-06</td>\n      <td>Yes</td>\n      <td>Yes</td>\n      <td>Yes</td>\n      <td>No</td>\n      <td>Yes</td>\n      <td>NaT</td>\n      <td>NaT</td>\n      <td>NaT</td>\n      <td>0</td>\n      <td>حضرت جلسة تعريفية عن المناصرة 18-Oct-2023</td>\n    </tr>\n    <tr>\n      <th>52</th>\n      <td>SA</td>\n      <td>23</td>\n      <td>R0574</td>\n      <td>8110080007</td>\n      <td>خولة</td>\n      <td>العلو</td>\n      <td>2023-11-10</td>\n      <td>2023-11-10</td>\n      <td>Yes</td>\n      <td>Yes</td>\n      <td>Yes</td>\n      <td>Yes</td>\n      <td>Yes</td>\n      <td>NaT</td>\n      <td>NaT</td>\n      <td>NaT</td>\n      <td>0</td>\n      <td>NaN</td>\n    </tr>\n    <tr>\n      <th>53</th>\n      <td>SA</td>\n      <td>24</td>\n      <td>R0573</td>\n      <td>8110080008</td>\n      <td>حسناء</td>\n      <td>بصمجي</td>\n      <td>2023-11-10</td>\n      <td>2023-11-10</td>\n      <td>No</td>\n      <td>Yes</td>\n      <td>Yes</td>\n      <td>Yes</td>\n      <td>Yes</td>\n      <td>NaT</td>\n      <td>NaT</td>\n      <td>NaT</td>\n      <td>0</td>\n      <td>NaN</td>\n    </tr>\n    <tr>\n      <th>54</th>\n      <td>SA</td>\n      <td>25</td>\n      <td>R0353</td>\n      <td>8110020099</td>\n      <td>دلال</td>\n      <td>الشيخ</td>\n      <td>2023-11-10</td>\n      <td>2023-11-10</td>\n      <td>No</td>\n      <td>Yes</td>\n      <td>Yes</td>\n      <td>Yes</td>\n      <td>Yes</td>\n      <td>NaT</td>\n      <td>NaT</td>\n      <td>NaT</td>\n      <td>0</td>\n      <td>NaN</td>\n    </tr>\n    <tr>\n      <th>81</th>\n      <td>YQ</td>\n      <td>27</td>\n      <td>R0460</td>\n      <td>8110090003</td>\n      <td>سهى</td>\n      <td>الحسن</td>\n      <td>2023-10-04</td>\n      <td>2023-10-04</td>\n      <td>No</td>\n      <td>Yes</td>\n      <td>Yes</td>\n      <td>Yes</td>\n      <td>Yes</td>\n      <td>NaT</td>\n      <td>NaT</td>\n      <td>NaT</td>\n      <td>0</td>\n      <td>NaN</td>\n    </tr>\n  </tbody>\n</table>\n</div>"
     },
     "execution_count": 8,
     "metadata": {},
     "output_type": "execute_result"
    }
   ],
   "source": [
    "td_q4"
   ],
   "metadata": {
    "collapsed": false,
    "ExecuteTime": {
     "end_time": "2024-01-08T12:06:01.748633300Z",
     "start_time": "2024-01-08T12:06:01.719540800Z"
    }
   },
   "id": "ed03ecab056996ee",
   "execution_count": 8
  },
  {
   "cell_type": "code",
   "outputs": [],
   "source": [
    "td_q4['advocacy'].value_counts()"
   ],
   "metadata": {
    "collapsed": false
   },
   "id": "729e6334ac9a08f6",
   "execution_count": null
  },
  {
   "cell_type": "code",
   "outputs": [],
   "source": [],
   "metadata": {
    "collapsed": false
   },
   "id": "bf8523517d73b1d5",
   "execution_count": null
  },
  {
   "cell_type": "code",
   "outputs": [],
   "source": [
    "psfs_path = os.path.join(processed_data, 'psfs_1223.csv')\n",
    "psfs_sheet = 'PSFS'\n",
    "psfs_dataset = Dataset(config_file, psfs_sheet)\n",
    "psfs = pd.read_csv(psfs_path)\n",
    "psfs = dtype_trans(psfs, psfs_dataset)"
   ],
   "metadata": {
    "collapsed": false
   },
   "id": "2b731a566e9cd92e",
   "execution_count": null
  },
  {
   "cell_type": "code",
   "outputs": [],
   "source": [
    "psfs_dataset.dvars"
   ],
   "metadata": {
    "collapsed": false
   },
   "id": "a0d2805e6862086c",
   "execution_count": null
  },
  {
   "cell_type": "code",
   "outputs": [],
   "source": [
    "psfs"
   ],
   "metadata": {
    "collapsed": false
   },
   "id": "2713e0c93d43f4e6",
   "execution_count": null
  },
  {
   "cell_type": "code",
   "outputs": [],
   "source": [
    "psfs_q4 = filter_df_by_date(psfs, psfs_dataset.dvars, threshold, comparison_type='a')\n",
    "psfs_q4['sex'].value_counts()"
   ],
   "metadata": {
    "collapsed": false
   },
   "id": "e6ad1ef4ff43357b",
   "execution_count": null
  },
  {
   "cell_type": "code",
   "outputs": [],
   "source": [
    "age = psfs_q4['age']\n",
    "age_group = categorize_and_count_ages(age)\n",
    "normalized_value_counts(age_group)"
   ],
   "metadata": {
    "collapsed": false
   },
   "id": "219f78b608fbdc3d",
   "execution_count": null
  },
  {
   "cell_type": "code",
   "outputs": [],
   "source": [],
   "metadata": {
    "collapsed": false
   },
   "id": "a49e534ceb75b265",
   "execution_count": null
  },
  {
   "cell_type": "code",
   "outputs": [],
   "source": [
    "ptint_path = os.path.join(processed_data, 'ptint_1223.csv')\n",
    "ptint_sheet = 'PT Int'\n",
    "ptint_dataset = Dataset(config_file, ptint_sheet)\n",
    "ptint = pd.read_csv(ptint_path)\n",
    "ptint = dtype_trans(ptint, ptint_dataset)"
   ],
   "metadata": {
    "collapsed": false
   },
   "id": "e6b72e5bf040ae2a",
   "execution_count": null
  },
  {
   "cell_type": "code",
   "outputs": [],
   "source": [
    "ptint"
   ],
   "metadata": {
    "collapsed": false
   },
   "id": "a9bff5c56de563ce",
   "execution_count": null
  },
  {
   "cell_type": "code",
   "outputs": [],
   "source": [
    "ptint_q4 = filter_df_by_date(ptint, ptint_dataset.dvars, threshold, comparison_type='a')\n",
    "ptint_q4"
   ],
   "metadata": {
    "collapsed": false
   },
   "id": "e9700cec4b745fcd",
   "execution_count": null
  },
  {
   "cell_type": "code",
   "outputs": [],
   "source": [
    "unique_psfs = psfs.drop_duplicates(subset='rid')\n",
    "ptint_sex_age = pd.merge(ptint_q4, unique_psfs[['rid', 'sex', 'age']], on='rid', how='left')"
   ],
   "metadata": {
    "collapsed": false
   },
   "id": "a2fe002f4bf48b9b",
   "execution_count": null
  },
  {
   "cell_type": "code",
   "outputs": [],
   "source": [
    "new_ptint_sex_age = ptint_sex_age[ptint_sex_age['pt_nt_s1'].notna()]\n",
    "new_ptint_sex_age['sex'].value_counts()"
   ],
   "metadata": {
    "collapsed": false
   },
   "id": "de5d51aa1d2283d",
   "execution_count": null
  },
  {
   "cell_type": "code",
   "outputs": [],
   "source": [],
   "metadata": {
    "collapsed": false
   },
   "id": "90936462f1737801"
  },
  {
   "cell_type": "code",
   "outputs": [],
   "source": [
    "ptfua_path = os.path.join(processed_data, 'ptfua_1223.csv')\n",
    "ptfua_sheet = 'FUA'\n",
    "ptfua_dataset = Dataset(config_file, ptfua_sheet)\n",
    "ptfua = pd.read_csv(ptfua_path)\n",
    "ptfua = dtype_trans(ptfua, ptfua_dataset)"
   ],
   "metadata": {
    "collapsed": false
   },
   "id": "5d99bba320229e9f",
   "execution_count": null
  },
  {
   "cell_type": "code",
   "outputs": [],
   "source": [
    "ptfua_q4 = filter_df_by_date(ptfua, ptfua_dataset.dvars, threshold, comparison_type='a')\n",
    "ptfua_q4"
   ],
   "metadata": {
    "collapsed": false
   },
   "id": "4b955d9ca3a517b9",
   "execution_count": null
  },
  {
   "cell_type": "code",
   "outputs": [],
   "source": [],
   "metadata": {
    "collapsed": false
   },
   "id": "30b168a37e31e8b9"
  }
 ],
 "metadata": {
  "kernelspec": {
   "display_name": "Python 3",
   "language": "python",
   "name": "python3"
  },
  "language_info": {
   "codemirror_mode": {
    "name": "ipython",
    "version": 2
   },
   "file_extension": ".py",
   "mimetype": "text/x-python",
   "name": "python",
   "nbconvert_exporter": "python",
   "pygments_lexer": "ipython2",
   "version": "2.7.6"
  }
 },
 "nbformat": 4,
 "nbformat_minor": 5
}
