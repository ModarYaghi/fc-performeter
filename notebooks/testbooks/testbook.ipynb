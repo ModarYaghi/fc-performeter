{
 "cells": [
  {
   "cell_type": "code",
   "execution_count": 1,
   "outputs": [],
   "source": [
    "from src.dataset import Dataset"
   ],
   "metadata": {
    "collapsed": false,
    "ExecuteTime": {
     "end_time": "2024-01-03T12:44:20.965409500Z",
     "start_time": "2024-01-03T12:44:20.910244700Z"
    }
   },
   "id": "5e3d88c2ee726342"
  },
  {
   "cell_type": "code",
   "execution_count": 2,
   "outputs": [],
   "source": [
    "config_path = r\"../../config/config.yaml\"\n",
    "raw_data = r\"../../data/raw/1023\""
   ],
   "metadata": {
    "collapsed": false,
    "ExecuteTime": {
     "end_time": "2024-01-03T12:44:21.843450800Z",
     "start_time": "2024-01-03T12:44:21.815449800Z"
    }
   },
   "id": "3e7e052d375f8e22"
  },
  {
   "cell_type": "code",
   "execution_count": 3,
   "outputs": [],
   "source": [
    "scr = Dataset(config_path, 'Scr')"
   ],
   "metadata": {
    "collapsed": false,
    "ExecuteTime": {
     "end_time": "2024-01-03T12:44:22.808622600Z",
     "start_time": "2024-01-03T12:44:22.726509Z"
    }
   },
   "id": "dd7341a0d31f879"
  },
  {
   "cell_type": "code",
   "execution_count": 4,
   "outputs": [
    {
     "data": {
      "text/plain": "['scspi',\n 'rid',\n 'firstname',\n 'lastname',\n 'sex',\n 'age',\n 'nat',\n 'sc_loc',\n 'sc_s1',\n 'pei_pre_as',\n 'sc_re',\n 'source',\n 'source_org',\n 'need_mhpss',\n 'need_trw',\n 'need_out_ref',\n 'need_tmh',\n 'need_pei',\n 'note']"
     },
     "execution_count": 4,
     "metadata": {},
     "output_type": "execute_result"
    }
   ],
   "source": [
    "scr.vars"
   ],
   "metadata": {
    "collapsed": false,
    "ExecuteTime": {
     "end_time": "2024-01-03T12:44:23.670789800Z",
     "start_time": "2024-01-03T12:44:23.651834Z"
    }
   },
   "id": "505fc2256133f54a"
  },
  {
   "cell_type": "code",
   "execution_count": 6,
   "outputs": [
    {
     "data": {
      "text/plain": "['sc_s1', 'pei_pre_as', 'sc_re']"
     },
     "execution_count": 6,
     "metadata": {},
     "output_type": "execute_result"
    }
   ],
   "source": [
    "scr.dvars"
   ],
   "metadata": {
    "collapsed": false,
    "ExecuteTime": {
     "end_time": "2024-01-03T12:44:55.684598100Z",
     "start_time": "2024-01-03T12:44:55.642004Z"
    }
   },
   "id": "ae36957a365915b1"
  },
  {
   "cell_type": "code",
   "execution_count": 8,
   "outputs": [
    {
     "data": {
      "text/plain": "['rid', 'firstname', 'lastname', 'sc_s1', 'pei_pre_as', 'sc_re']"
     },
     "execution_count": 8,
     "metadata": {},
     "output_type": "execute_result"
    }
   ],
   "source": [
    "scr.bvars"
   ],
   "metadata": {
    "collapsed": false,
    "ExecuteTime": {
     "end_time": "2024-01-03T12:45:22.302513500Z",
     "start_time": "2024-01-03T12:45:22.269898100Z"
    }
   },
   "id": "d75da0b10a6e0c57"
  },
  {
   "cell_type": "code",
   "execution_count": 9,
   "outputs": [
    {
     "data": {
      "text/plain": "['scspi', 'age']"
     },
     "execution_count": 9,
     "metadata": {},
     "output_type": "execute_result"
    }
   ],
   "source": [
    "scr.ivars"
   ],
   "metadata": {
    "collapsed": false,
    "ExecuteTime": {
     "end_time": "2024-01-03T12:50:47.662557600Z",
     "start_time": "2024-01-03T12:50:47.626216700Z"
    }
   },
   "id": "420dc8b465c1eeeb"
  },
  {
   "cell_type": "code",
   "execution_count": 11,
   "outputs": [],
   "source": [
    "structure = scr.config.get_structure()"
   ],
   "metadata": {
    "collapsed": false,
    "ExecuteTime": {
     "end_time": "2024-01-03T13:12:44.296646800Z",
     "start_time": "2024-01-03T13:12:44.263652200Z"
    }
   },
   "id": "865d1e4701069b12"
  },
  {
   "cell_type": "code",
   "execution_count": 19,
   "outputs": [
    {
     "data": {
      "text/plain": "[{'dataset': 'Scr',\n  'variables': [{'var': 'scspi', 'type': 'Int64', 'level': 1},\n   {'var': 'rid', 'type': 'StringDtype', 'level': 0},\n   {'var': 'firstname', 'type': 'StringDtype', 'level': 0},\n   {'var': 'lastname', 'type': 'StringDtype', 'level': 0},\n   {'var': 'sex', 'type': 'boolean', 'level': 1},\n   {'var': 'age', 'type': 'Int64', 'level': 1},\n   {'var': 'nat', 'type': 'category', 'level': 3},\n   {'var': 'sc_loc', 'type': 'category', 'level': 1},\n   {'var': 'sc_s1', 'type': 'datetime64[ns]', 'level': 0},\n   {'var': 'pei_pre_as', 'type': 'datetime64[ns]', 'level': 0},\n   {'var': 'sc_re', 'type': 'datetime64[ns]', 'level': 0},\n   {'var': 'source', 'type': 'category', 'level': 1},\n   {'var': 'source_org', 'type': 'category', 'level': 1},\n   {'var': 'need_mhpss', 'type': 'boolean', 'level': 2},\n   {'var': 'need_trw', 'type': 'boolean', 'level': 2},\n   {'var': 'need_out_ref', 'type': 'boolean', 'level': 2},\n   {'var': 'need_tmh', 'type': 'boolean', 'level': 2},\n   {'var': 'need_pei', 'type': 'boolean', 'level': 2},\n   {'var': 'note', 'type': 'StringDtype', 'level': 3}]},\n {'dataset': 'Int',\n  'variables': [{'var': 'ntspi', 'type': 'Int64', 'level': 1},\n   {'var': 'rid', 'type': 'StringDtype', 'level': 0},\n   {'var': 'fcid', 'type': 'Int64', 'level': 0},\n   {'var': 'firstname', 'type': 'StringDtype', 'level': 0},\n   {'var': 'lastname', 'type': 'StringDtype', 'level': 0},\n   {'var': 'nt_s1', 'type': 'datetime64[ns]', 'level': 0},\n   {'var': 'nt_s2', 'type': 'datetime64[ns]', 'level': 0},\n   {'var': 'nt_s3', 'type': 'datetime64[ns]', 'level': 0},\n   {'var': 'nt_re', 'type': 'datetime64[ns]', 'level': 0},\n   {'var': 'family_of_missing', 'type': 'boolean', 'level': 2},\n   {'var': 'survivor_of_detention', 'type': 'boolean', 'level': 2},\n   {'var': 'primary_torture', 'type': 'boolean', 'level': 2},\n   {'var': 'secondary_torture', 'type': 'boolean', 'level': 2},\n   {'var': 'sexual_violation_a', 'type': 'boolean', 'level': 2},\n   {'var': 'sexual_violation_p', 'type': 'boolean', 'level': 2},\n   {'var': 'hrd', 'type': 'boolean', 'level': 2},\n   {'var': 'journalist', 'type': 'boolean', 'level': 2},\n   {'var': 'wov', 'type': 'boolean', 'level': 2},\n   {'var': 'stgbv', 'type': 'boolean', 'level': 2},\n   {'var': 'lgbti', 'type': 'boolean', 'level': 2},\n   {'var': 'other', 'type': 'boolean', 'level': 2},\n   {'var': 'note', 'type': 'StringDtype', 'level': 3}]},\n {'dataset': 'GC',\n  'variables': [{'var': 'gcspi', 'type': 'Int64', 'level': 1},\n   {'var': 'rid', 'type': 'StringDtype', 'level': 0},\n   {'var': 'fcid', 'type': 'Int64', 'level': 0},\n   {'var': 'firstname', 'type': 'stringDtype', 'level': 0},\n   {'var': 'lastname', 'type': 'StringDtype', 'level': 0},\n   {'var': 'need_pt', 'type': 'boolean', 'level': 3},\n   {'var': 'gc_index', 'type': 'Int64', 'level': 1},\n   {'var': 'gc_class', 'type': 'StringDtype', 'level': 1},\n   {'var': 'gc_s1', 'type': 'datetime64[ns]', 'level': 0},\n   {'var': 'gc_s2', 'type': 'datetime64[ns]', 'level': 0},\n   {'var': 'gc_s3', 'type': 'datetime64[ns]', 'level': 0},\n   {'var': 'gc_s4', 'type': 'datetime64[ns]', 'level': 0},\n   {'var': 'gc_check', 'type': 'datetime64[ns]', 'level': 1},\n   {'var': 'gc_s5', 'type': 'datetime64[ns]', 'level': 0},\n   {'var': 'gc_s6', 'type': 'datetime64[ns]', 'level': 0},\n   {'var': 'gc_s7', 'type': 'datetime64[ns]', 'level': 0},\n   {'var': 'gc_s8', 'type': 'datetime64[ns]', 'level': 0},\n   {'var': 'gc_s9', 'type': 'datetime64[ns]', 'level': 0},\n   {'var': 'gc_10', 'type': 'datetime64[ns]', 'level': 0},\n   {'var': 'gc_total', 'type': 'Int64', 'level': 1},\n   {'var': 'note', 'type': 'StringDtype', 'level': 3}]},\n {'dataset': 'IC',\n  'variables': [{'var': 'icspi', 'type': 'Int64', 'level': 1},\n   {'var': 'rid', 'type': 'StringDtype', 'level': 0},\n   {'var': 'fcid', 'type': 'Int64', 'level': 0},\n   {'var': 'firstname', 'type': 'StringDtype', 'level': 0},\n   {'var': 'lastname', 'type': 'StringDtype', 'level': 0},\n   {'var': 'need_pt', 'type': 'boolean', 'level': 3},\n   {'var': 'ic_s1', 'type': 'datetime64[ns]', 'level': 0},\n   {'var': 'ic_s2', 'type': 'datetime64[ns]', 'level': 0},\n   {'var': 'ic_s3', 'type': 'datetime64[ns]', 'level': 0},\n   {'var': 'ic_s4', 'type': 'datetime64[ns]', 'level': 0},\n   {'var': 'ic_s5', 'type': 'datetime64[ns]', 'level': 0},\n   {'var': 'ic_s6', 'type': 'datetime64[ns]', 'level': 0},\n   {'var': 'ic_s7', 'type': 'datetime64[ns]', 'level': 0},\n   {'var': 'ic_s8', 'type': 'datetime64[ns]', 'level': 0},\n   {'var': 'ic_s9', 'type': 'datetime64[ns]', 'level': 0},\n   {'var': 'ic_s10', 'type': 'datetime64[ns]', 'level': 0},\n   {'var': 'ic_total', 'type': 'Int64', 'level': 1},\n   {'var': 'note', 'type': 'StringDtype', 'level': 3}]},\n {'dataset': 'FUA',\n  'variables': [{'var': 'fuspi', 'type': 'Int64', 'level': 1},\n   {'var': 'rid', 'type': 'StringDtype', 'level': 0},\n   {'var': 'fcid', 'type': 'Int64', 'level': 0},\n   {'var': 'firstname', 'type': 'StringDtype', 'level': 0},\n   {'var': 'lastname', 'type': 'StringDtype', 'level': 0},\n   {'var': 'fu_3m', 'type': 'datetime64[ns]', 'level': 0},\n   {'var': 'fu_6m', 'type': 'datetime64[ns]', 'level': 0},\n   {'var': 'fu_12m', 'type': 'datetime64[ns]', 'level': 0},\n   {'var': 'status', 'type': 'category', 'level': 1},\n   {'var': 'closure_reason', 'type': 'category', 'level': 1},\n   {'var': 'note', 'type': 'StringDtype', 'level': 3}]},\n {'dataset': 'PEI',\n  'variables': [{'var': 'pespi', 'type': 'Int64', 'level': 1},\n   {'var': 'rid', 'type': 'StringDtype', 'level': 0},\n   {'var': 'fcid', 'type': 'Int64', 'level': 0},\n   {'var': 'pei_loc', 'type': 'category', 'level': 1},\n   {'var': 'firstname', 'type': 'StringDtype', 'level': 0},\n   {'var': 'lastname', 'type': 'StringDtype', 'level': 0},\n   {'var': 'pei_s1', 'type': 'datetime64[ns]', 'level': 0},\n   {'var': 'pei_s2', 'type': 'datetime64[ns]', 'level': 0},\n   {'var': 'pei_s3', 'type': 'datetime64[ns]', 'level': 0},\n   {'var': 'pei_total', 'type': 'Int64', 'level': 1},\n   {'var': 'pei_post_as', 'type': 'datetime64[ns]', 'level': 0},\n   {'var': 'note', 'type': 'StringDtype', 'level': 3}]},\n {'dataset': 'TRW',\n  'variables': [{'var': 'trspi', 'type': 'Int64', 'level': 1},\n   {'var': 'rid', 'type': 'StringDtype', 'level': 0},\n   {'var': 'fcid', 'type': 'Int64', 'level': 0},\n   {'var': 'firstname', 'type': 'StringDtype', 'level': 0},\n   {'var': 'lastname', 'type': 'StringDtype', 'level': 0},\n   {'var': 'trw_s1', 'type': 'datetime64[ns]', 'level': 0},\n   {'var': 'trw_s2', 'type': 'datetime64[ns]', 'level': 0},\n   {'var': 'trw_total', 'type': 'Int64', 'level': 1},\n   {'var': 'fac1', 'type': 'category', 'level': 4},\n   {'var': 'fac2', 'type': 'category', 'level': 4},\n   {'var': 'note', 'type': 'StringDtype', 'level': 3}]},\n {'dataset': 'TD',\n  'variables': [{'var': 'tdspi', 'type': 'Int64', 'level': 1},\n   {'var': 'rid', 'type': 'StringDtype', 'level': 0},\n   {'var': 'fcid', 'type': 'Int64', 'level': 0},\n   {'var': 'firstname', 'type': 'StringDtype', 'level': 0},\n   {'var': 'lastname', 'type': 'StringDtype', 'level': 0},\n   {'var': 'consult', 'type': 'datetime64[ns]', 'level': 0},\n   {'var': 'consent', 'type': 'datetime64[ns]', 'level': 0},\n   {'var': 'legal_doc', 'type': 'boolean', 'level': 2},\n   {'var': 'individual_use', 'type': 'boolean', 'level': 2},\n   {'var': 'cws', 'type': 'boolean', 'level': 2},\n   {'var': 'communicat_use', 'type': 'boolean', 'level': 2},\n   {'var': 'advocacy', 'type': 'boolean', 'level': 2},\n   {'var': 'interview_s1', 'type': 'datetime64[ns]', 'level': 0},\n   {'var': 'interview_s2', 'type': 'datetime64[ns]', 'level': 0},\n   {'var': 'interview_s3', 'type': 'datetime64[ns]', 'level': 0},\n   {'var': 'interview_total', 'type': 'Int64', 'level': 1},\n   {'var': 'note', 'type': 'StringDtype', 'level': 3}]},\n {'dataset': 'CWS',\n  'variables': [{'var': 'cwspi', 'type': 'Int64', 'level': 1},\n   {'var': 'rid', 'type': 'StringDtype', 'level': 0},\n   {'var': 'fcid', 'type': 'Int64', 'level': 0},\n   {'var': 'firstname', 'type': 'StringDtype', 'level': 0},\n   {'var': 'lastname', 'type': 'StringDtype', 'level': 0},\n   {'var': 'cws_s1', 'type': 'datetime64[ns]', 'level': 0},\n   {'var': 'cws_s2', 'type': 'datetime64[ns]', 'level': 0},\n   {'var': 'cws_total', 'type': 'Int64', 'level': 1},\n   {'var': 'note', 'type': 'StringDtype', 'level': 3}]},\n {'dataset': 'AWS',\n  'variables': [{'var': 'awspi', 'type': 'Int64', 'level': 1},\n   {'var': 'rid', 'type': 'StringDtype', 'level': 0},\n   {'var': 'fcid', 'type': 'Int64', 'level': 0},\n   {'var': 'firstname', 'type': 'StringDtype', 'level': 0},\n   {'var': 'lastname', 'type': 'StringDtype', 'level': 0},\n   {'var': 'sex', 'type': 'boolean', 'level': 1},\n   {'var': 'age', 'type': 'Int64', 'level': 1},\n   {'var': 'aws_loc', 'type': 'category', 'level': 1},\n   {'var': 'aws_ci', 'type': 'None', 'level': 4},\n   {'var': 'aws', 'type': 'datetime64[ns]', 'level': 0},\n   {'var': 'note', 'type': 'StringDtype', 'level': 3}]},\n {'dataset': 'PSFS',\n  'variables': [{'var': 'psfsspi', 'type': 'Int64', 'level': 1},\n   {'var': 'rid', 'type': 'StringDtype', 'level': 0},\n   {'var': 'fcid', 'type': 'Int64', 'level': 0},\n   {'var': 'firstname', 'type': 'StringDtype', 'level': 0},\n   {'var': 'lastname', 'type': 'StringDtype', 'level': 0},\n   {'var': 'sex', 'type': 'boolean', 'level': 1},\n   {'var': 'age', 'type': 'Int64', 'level': 1},\n   {'var': 'nat', 'type': 'category', 'level': 3},\n   {'var': 'psfs', 'type': 'datetime64[ns]', 'level': 0},\n   {'var': 'score', 'type': 'Int64', 'level': 3},\n   {'var': 'vic', 'type': 'category', 'level': 4},\n   {'var': 'note', 'type': 'StringDtype', 'level': 3}]},\n {'dataset': 'PT Int',\n  'variables': [{'var': 'ptntspi', 'type': 'Int64', 'level': 1},\n   {'var': 'rid', 'type': 'StringDtype', 'level': 0},\n   {'var': 'fcid', 'type': 'Int64', 'level': 0},\n   {'var': 'firstname', 'type': 'StringDtype', 'level': 0},\n   {'var': 'lastname', 'type': 'StringDtype', 'level': 0},\n   {'var': 'pt_nt_s1', 'type': 'datetime64[ns]', 'level': 0},\n   {'var': 'pt_nt_s2', 'type': 'datetime64[ns]', 'level': 0},\n   {'var': 'pt_nt_re', 'type': 'datetime64[ns]', 'level': 0},\n   {'var': 'psc', 'type': 'category', 'level': 4},\n   {'var': 'note', 'type': 'StringDtype', 'level': 3}]},\n {'dataset': 'GPT',\n  'variables': [{'var': 'ptgspi', 'type': 'Int64', 'level': 1},\n   {'var': 'rid', 'type': 'StringDtype', 'level': 0},\n   {'var': 'fcid', 'type': 'Int64', 'level': 0},\n   {'var': 'firstname', 'type': 'stringDtype', 'level': 0},\n   {'var': 'lastname', 'type': 'StringDtype', 'level': 0},\n   {'var': 'pt_g_class', 'type': 'StringDtype', 'level': 1},\n   {'var': 'pt_g_s1', 'type': 'datetime64[ns]', 'level': 0},\n   {'var': 'pt_g_s2', 'type': 'datetime64[ns]', 'level': 0},\n   {'var': 'pt_g_s3', 'type': 'datetime64[ns]', 'level': 0},\n   {'var': 'pt_g_s4', 'type': 'datetime64[ns]', 'level': 0},\n   {'var': 'pt_g_s5', 'type': 'datetime64[ns]', 'level': 0},\n   {'var': 'pt_g_s6', 'type': 'datetime64[ns]', 'level': 0},\n   {'var': 'pt_g_s7', 'type': 'datetime64[ns]', 'level': 0},\n   {'var': 'pt_g_s8', 'type': 'datetime64[ns]', 'level': 0},\n   {'var': 'pt_g_s9', 'type': 'datetime64[ns]', 'level': 0},\n   {'var': 'pt_g_s10', 'type': 'datetime64[ns]', 'level': 0},\n   {'var': 'pt_g_total', 'type': 'Int64', 'level': 1},\n   {'var': 'pt_status', 'type': 'category', 'level': 1},\n   {'var': 'note', 'type': 'StringDtype', 'level': 3}]},\n {'dataset': 'IPT',\n  'variables': [{'var': 'ptispi', 'type': 'Int64', 'level': 1},\n   {'var': 'rid', 'type': 'stringDtype', 'level': 0},\n   {'var': 'fcid', 'type': 'Int64', 'level': 0},\n   {'var': 'firstname', 'type': 'stringDtype', 'level': 0},\n   {'var': 'lastname', 'type': 'StringDtype', 'level': 0},\n   {'var': 'pt_i_s1', 'type': 'datetime64[ns]', 'level': 0},\n   {'var': 'pt_i_s2', 'type': 'datetime64[ns]', 'level': 0},\n   {'var': 'pt_i_s3', 'type': 'datetime64[ns]', 'level': 0},\n   {'var': 'pt_i_s4', 'type': 'datetime64[ns]', 'level': 0},\n   {'var': 'pt_i_s5', 'type': 'datetime64[ns]', 'level': 0},\n   {'var': 'pt_i_s6', 'type': 'datetime64[ns]', 'level': 0},\n   {'var': 'pt_i_s7', 'type': 'datetime64[ns]', 'level': 0},\n   {'var': 'pt_i_s8', 'type': 'datetime64[ns]', 'level': 0},\n   {'var': 'pt_i_s9', 'type': 'datetime64[ns]', 'level': 0},\n   {'var': 'pt_i_s10', 'type': 'datetime64[ns]', 'level': 0},\n   {'var': 'pt_i_s11', 'type': 'datetime64[ns]', 'level': 0},\n   {'var': 'pt_i_s12', 'type': 'datetime64[ns]', 'level': 0},\n   {'var': 'pt_i_s13', 'type': 'datetime64[ns]', 'level': 0},\n   {'var': 'pt_i_s14', 'type': 'datetime64[ns]', 'level': 0},\n   {'var': 'pt_i_s15', 'type': 'datetime64[ns]', 'level': 0},\n   {'var': 'pt_i_s16', 'type': 'datetime64[ns]', 'level': 0},\n   {'var': 'pt_i_s17', 'type': 'datetime64[ns]', 'level': 0},\n   {'var': 'pt_i_s18', 'type': 'datetime64[ns]', 'level': 0},\n   {'var': 'pt_i_s19', 'type': 'datetime64[ns]', 'level': 0},\n   {'var': 'pt_i_s20', 'type': 'datetime64[ns]', 'level': 0},\n   {'var': 'pt_i_s21', 'type': 'datetime64[ns]', 'level': 3},\n   {'var': 'pt_i_s22', 'type': 'datetime64[ns]', 'level': 3},\n   {'var': 'pt_i_s23', 'type': 'datetime64[ns]', 'level': 3},\n   {'var': 'pt_i_s24', 'type': 'datetime64[ns]', 'level': 3},\n   {'var': 'pt_i_total', 'type': 'Int64', 'level': 1},\n   {'var': 'pt_status', 'type': 'category', 'level': 1},\n   {'var': 'note', 'type': 'StringDtype', 'level': 3}]},\n {'dataset': 'FUP',\n  'variables': [{'var': 'ptfuspi', 'type': 'Int64', 'level': 1},\n   {'var': 'rid', 'type': 'stringDtype', 'level': 0},\n   {'var': 'fcid', 'type': 'Int64', 'level': 0},\n   {'var': 'firstname', 'type': 'stringDtype', 'level': 0},\n   {'var': 'lastname', 'type': 'StringDtype', 'level': 0},\n   {'var': 'pt_fu_3m', 'type': 'datetime64[ns]', 'level': 0},\n   {'var': 'pt_fu_6m', 'type': 'datetime64[ns]', 'level': 0},\n   {'var': 'pt_fu_12m', 'type': 'datetime64[ns]', 'level': 0},\n   {'var': 'pt_status', 'type': 'category', 'level': 1},\n   {'var': 'pt_closure_reason', 'type': 'category', 'level': 1},\n   {'var': 'note', 'type': 'StringDtype', 'level': 3}]},\n {'dataset': 'TD',\n  'variables': [{'var': 'tdtindex', 'type': 'Int64', 'level': 1},\n   {'var': 'tdtsp', 'type': 'category', 'level': 1},\n   {'var': 'rid', 'type': 'stringDtype', 'level': 0},\n   {'var': 'fcid', 'type': 'Int64', 'level': 0},\n   {'var': 'consult', 'type': 'datetime64[ns]', 'level': 0},\n   {'var': 'consent', 'type': 'datetime64[ns]', 'level': 0},\n   {'var': 'legal_doc', 'type': 'boolean', 'level': 2},\n   {'var': 'individual_use', 'type': 'boolean', 'level': 2},\n   {'var': 'cws', 'type': 'boolean', 'level': 2},\n   {'var': 'communicat_use', 'type': 'boolean', 'level': 2},\n   {'var': 'advocacy', 'type': 'boolean', 'level': 2},\n   {'var': 'interview_s1', 'type': 'datetime64[ns]', 'level': 0},\n   {'var': 'interview_s2', 'type': 'datetime64[ns]', 'level': 0},\n   {'var': 'interview_s3', 'type': 'datetime64[ns]', 'level': 0},\n   {'var': 'total', 'type': 'Int64', 'level': 1},\n   {'var': 'admsp', 'type': 'datetime64[ns]', 'level': 1},\n   {'var': 'sjac', 'type': 'datetime64[ns]', 'level': 1},\n   {'var': 'iu_del', 'type': 'datetime64[ns]', 'level': 1},\n   {'var': 'com_pub', 'type': 'datetime64[ns]', 'level': 1},\n   {'var': 'eva', 'type': 'datetime64[ns]', 'level': 1},\n   {'var': 'note', 'type': 'StringDtype', 'level': 3},\n   {'var': 'status', 'type': 'category', 'level': 1}]}]"
     },
     "execution_count": 19,
     "metadata": {},
     "output_type": "execute_result"
    }
   ],
   "source": [
    "structure"
   ],
   "metadata": {
    "collapsed": false,
    "ExecuteTime": {
     "end_time": "2024-01-03T13:14:50.983502400Z",
     "start_time": "2024-01-03T13:14:50.936906400Z"
    }
   },
   "id": "c27faa39d550ffd1"
  },
  {
   "cell_type": "code",
   "execution_count": 33,
   "outputs": [
    {
     "name": "stdout",
     "output_type": "stream",
     "text": [
      "{'dataset': 'Scr', 'variables': [{'var': 'scspi', 'type': 'Int64', 'level': 1}, {'var': 'rid', 'type': 'StringDtype', 'level': 0}, {'var': 'firstname', 'type': 'StringDtype', 'level': 0}, {'var': 'lastname', 'type': 'StringDtype', 'level': 0}, {'var': 'sex', 'type': 'boolean', 'level': 1}, {'var': 'age', 'type': 'Int64', 'level': 1}, {'var': 'nat', 'type': 'category', 'level': 3}, {'var': 'sc_loc', 'type': 'category', 'level': 1}, {'var': 'sc_s1', 'type': 'datetime64[ns]', 'level': 0}, {'var': 'pei_pre_as', 'type': 'datetime64[ns]', 'level': 0}, {'var': 'sc_re', 'type': 'datetime64[ns]', 'level': 0}, {'var': 'source', 'type': 'category', 'level': 1}, {'var': 'source_org', 'type': 'category', 'level': 1}, {'var': 'need_mhpss', 'type': 'boolean', 'level': 2}, {'var': 'need_trw', 'type': 'boolean', 'level': 2}, {'var': 'need_out_ref', 'type': 'boolean', 'level': 2}, {'var': 'need_tmh', 'type': 'boolean', 'level': 2}, {'var': 'need_pei', 'type': 'boolean', 'level': 2}, {'var': 'note', 'type': 'StringDtype', 'level': 3}]}\n",
      "-------------------\n",
      "[{'var': 'scspi', 'type': 'Int64', 'level': 1}, {'var': 'rid', 'type': 'StringDtype', 'level': 0}, {'var': 'firstname', 'type': 'StringDtype', 'level': 0}, {'var': 'lastname', 'type': 'StringDtype', 'level': 0}, {'var': 'sex', 'type': 'boolean', 'level': 1}, {'var': 'age', 'type': 'Int64', 'level': 1}, {'var': 'nat', 'type': 'category', 'level': 3}, {'var': 'sc_loc', 'type': 'category', 'level': 1}, {'var': 'sc_s1', 'type': 'datetime64[ns]', 'level': 0}, {'var': 'pei_pre_as', 'type': 'datetime64[ns]', 'level': 0}, {'var': 'sc_re', 'type': 'datetime64[ns]', 'level': 0}, {'var': 'source', 'type': 'category', 'level': 1}, {'var': 'source_org', 'type': 'category', 'level': 1}, {'var': 'need_mhpss', 'type': 'boolean', 'level': 2}, {'var': 'need_trw', 'type': 'boolean', 'level': 2}, {'var': 'need_out_ref', 'type': 'boolean', 'level': 2}, {'var': 'need_tmh', 'type': 'boolean', 'level': 2}, {'var': 'need_pei', 'type': 'boolean', 'level': 2}, {'var': 'note', 'type': 'StringDtype', 'level': 3}]\n"
     ]
    }
   ],
   "source": [
    "for s in structure:\n",
    "    print(s)\n",
    "    print(len(s['variables']) * '-')\n",
    "    print(s[\"variables\"])\n",
    "    break"
   ],
   "metadata": {
    "collapsed": false,
    "ExecuteTime": {
     "end_time": "2024-01-03T14:27:12.900641400Z",
     "start_time": "2024-01-03T14:27:12.872405400Z"
    }
   },
   "id": "53f171cdc1cea754"
  },
  {
   "cell_type": "code",
   "execution_count": 28,
   "outputs": [
    {
     "name": "stdout",
     "output_type": "stream",
     "text": [
      "dataset\n",
      "dataset\n",
      "dataset\n",
      "dataset\n",
      "dataset\n",
      "dataset\n",
      "dataset\n",
      "dataset\n",
      "dataset\n",
      "dataset\n",
      "dataset\n",
      "dataset\n",
      "dataset\n",
      "dataset\n",
      "dataset\n",
      "dataset\n"
     ]
    }
   ],
   "source": [
    "for s in structure:\n",
    "    for j in s:\n",
    "        print(j)\n",
    "        break"
   ],
   "metadata": {
    "collapsed": false,
    "ExecuteTime": {
     "end_time": "2024-01-03T13:19:15.084785300Z",
     "start_time": "2024-01-03T13:19:15.056432800Z"
    }
   },
   "id": "fc2e229bde01420"
  },
  {
   "cell_type": "code",
   "execution_count": 23,
   "outputs": [
    {
     "data": {
      "text/plain": "list"
     },
     "execution_count": 23,
     "metadata": {},
     "output_type": "execute_result"
    }
   ],
   "source": [
    "type(structure)"
   ],
   "metadata": {
    "collapsed": false,
    "ExecuteTime": {
     "end_time": "2024-01-03T13:17:25.990493500Z",
     "start_time": "2024-01-03T13:17:25.961772Z"
    }
   },
   "id": "6de9c46269929d11"
  }
 ],
 "metadata": {
  "kernelspec": {
   "display_name": "Python 3",
   "language": "python",
   "name": "python3"
  },
  "language_info": {
   "codemirror_mode": {
    "name": "ipython",
    "version": 2
   },
   "file_extension": ".py",
   "mimetype": "text/x-python",
   "name": "python",
   "nbconvert_exporter": "python",
   "pygments_lexer": "ipython2",
   "version": "2.7.6"
  }
 },
 "nbformat": 4,
 "nbformat_minor": 5
}
