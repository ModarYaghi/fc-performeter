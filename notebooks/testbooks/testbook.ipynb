{
 "cells": [
  {
   "cell_type": "code",
   "execution_count": null,
   "outputs": [],
   "source": [
    "from src.all_in_one import *"
   ],
   "metadata": {
    "collapsed": false
   },
   "id": "5e3d88c2ee726342"
  },
  {
   "cell_type": "code",
   "outputs": [],
   "source": [
    "# Define the data as a list of tuples\n",
    "data = [\n",
    "    ('ProductA', 'Region1', 2018, 1000),\n",
    "    ('ProductA', 'Region1', 2019, 1200),\n",
    "    ('ProductA', 'Region2', 2018, 1100),\n",
    "    ('ProductA', 'Region2', 2019, 1300),\n",
    "    ('ProductB', 'Region1', 2018, 900),\n",
    "    ('ProductB', 'Region1', 2019, 1100),\n",
    "    ('ProductB', 'Region2', 2018, 1000),\n",
    "    ('ProductB', 'Region2', 2019, 1200)\n",
    "]\n",
    "\n",
    "# Create a DataFrame with a MultiIndex\n",
    "df = pd.DataFrame(data, columns=['Product', 'Region', 'Year', 'Sales']).set_index(['Product', 'Region', 'Year'])\n",
    "\n",
    "# Print the DataFrame\n",
    "df\n",
    "# Access the sales data for all products in Region1 for the year 2019"
   ],
   "metadata": {
    "collapsed": false
   },
   "id": "54e819734d6f4b8d",
   "execution_count": null
  },
  {
   "cell_type": "code",
   "outputs": [],
   "source": [
    "df.loc[(slice(None), 'Region1', 2019), 'Sales']"
   ],
   "metadata": {
    "collapsed": false
   },
   "id": "f824640832fa8865",
   "execution_count": null
  },
  {
   "cell_type": "code",
   "outputs": [],
   "source": [],
   "metadata": {
    "collapsed": false
   },
   "id": "d43428c3d09a1a20"
  }
 ],
 "metadata": {
  "kernelspec": {
   "display_name": "Python 3",
   "language": "python",
   "name": "python3"
  },
  "language_info": {
   "codemirror_mode": {
    "name": "ipython",
    "version": 2
   },
   "file_extension": ".py",
   "mimetype": "text/x-python",
   "name": "python",
   "nbconvert_exporter": "python",
   "pygments_lexer": "ipython2",
   "version": "2.7.6"
  }
 },
 "nbformat": 4,
 "nbformat_minor": 5
}
