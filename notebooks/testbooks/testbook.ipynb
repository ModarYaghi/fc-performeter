{
 "cells": [
  {
   "cell_type": "code",
   "execution_count": null,
   "outputs": [],
   "source": [
    "from src.dataset import Dataset\n",
    "# import pandas as pd\n",
    "from src.all_in_one import *"
   ],
   "metadata": {
    "collapsed": false
   },
   "id": "5e3d88c2ee726342"
  },
  {
   "cell_type": "code",
   "execution_count": null,
   "outputs": [],
   "source": [
    "scr = Dataset(config_path, 'Scr')"
   ],
   "metadata": {
    "collapsed": false
   },
   "id": "dd7341a0d31f879"
  },
  {
   "cell_type": "code",
   "execution_count": null,
   "outputs": [],
   "source": [
    "scr.vars"
   ],
   "metadata": {
    "collapsed": false
   },
   "id": "505fc2256133f54a"
  },
  {
   "cell_type": "code",
   "execution_count": null,
   "outputs": [],
   "source": [
    "scr.dvars"
   ],
   "metadata": {
    "collapsed": false
   },
   "id": "ae36957a365915b1"
  },
  {
   "cell_type": "code",
   "execution_count": null,
   "outputs": [],
   "source": [
    "scr.bvars"
   ],
   "metadata": {
    "collapsed": false
   },
   "id": "d75da0b10a6e0c57"
  },
  {
   "cell_type": "code",
   "execution_count": null,
   "outputs": [],
   "source": [
    "scr.ivars"
   ],
   "metadata": {
    "collapsed": false
   },
   "id": "420dc8b465c1eeeb"
  },
  {
   "cell_type": "code",
   "execution_count": null,
   "outputs": [],
   "source": [
    "decryptor = ExcelDecryptor(raw_data, passwords)\n",
    "tracking_tools = decryptor.read_encrypted_excels()"
   ],
   "metadata": {
    "collapsed": false
   },
   "id": "1c381686fb205ed1"
  },
  {
   "cell_type": "code",
   "execution_count": null,
   "outputs": [],
   "source": [
    "# for k, v in tracking_tools.items():\n",
    "#     if k in pss_files:\n",
    "#         print(k)\n",
    "#         for i, j in v.items():\n",
    "#             if i in pss_sheets:\n",
    "#                 # print(i)"
   ],
   "metadata": {
    "collapsed": false
   },
   "id": "d2721686163b7489"
  },
  {
   "cell_type": "code",
   "execution_count": null,
   "outputs": [],
   "source": [
    "for sheet in psspt_sheets:\n",
    "    sp = (sheet + \"sp\").lower().replace(\" \", \"\")\n",
    "    print(sp)"
   ],
   "metadata": {
    "collapsed": false
   },
   "id": "6951bdc0772ab03f"
  },
  {
   "cell_type": "code",
   "execution_count": null,
   "outputs": [],
   "source": [
    "def compiler(sheets, files):\n",
    "    for sheet in sheets:\n",
    "        sp = (sheet + \"sp\").lower().replace(\" \", \"\")\n",
    "        dataset = Dataset(config_path, sheet)\n",
    "        for file in files:\n",
    "            sp_init = file[7:9]\n",
    "            dataframe = tracking_tools[file][sheet]\n",
    "            dataframe.columns = dataset.vars\n",
    "            dataframe = dataframe.drop(dataframe.index[0].reset_index(drop=True))\n",
    "            dataframe.dropna(subset=dataset.bvars, how='all', inplace=True)\n",
    "            dataframe.insert(0, sp, sp_init)\n",
    "            "
   ],
   "metadata": {
    "collapsed": false
   },
   "id": "ef6fc305eef54982"
  },
  {
   "cell_type": "code",
   "execution_count": null,
   "outputs": [],
   "source": [
    "def compiler(sheet_name, files_list, path_to_config):\n",
    "    \n",
    "    # for sheet in sheets_list:\n",
    "    sp = (sheet + \"sp\").lower().replace(\" \", \"\")\n",
    "    dataset = Dataset(path_to_config, sheet)\n",
    "\n",
    "    for file in files_list:\n",
    "        sp_init = file[7:9]\n",
    "        dataframe = tracking_tools[file][sheet]\n",
    "\n",
    "        # Simplify the column setting and dropping first row\n",
    "        dataframe.columns = dataset.vars\n",
    "        dataframe = dataframe.iloc[1:].reset_index(drop=True)\n",
    "\n",
    "        # Improved dropna to handle the case where dataset.bvars is empty or None\n",
    "        if dataset.bvars:\n",
    "            dataframe.dropna(subset=dataset.bvars, how='all', inplace=True)\n",
    "\n",
    "        # Insert the new column\n",
    "        dataframe.insert(0, sp, sp_init)\n",
    "\n",
    "        # Assuming you need to perform some operations with dataframe here\n",
    "        # process_dataframe(dataframe)\n",
    "        return dataframe"
   ],
   "metadata": {
    "collapsed": false
   },
   "id": "ca1405ff27afd191"
  }
 ],
 "metadata": {
  "kernelspec": {
   "display_name": "Python 3",
   "language": "python",
   "name": "python3"
  },
  "language_info": {
   "codemirror_mode": {
    "name": "ipython",
    "version": 2
   },
   "file_extension": ".py",
   "mimetype": "text/x-python",
   "name": "python",
   "nbconvert_exporter": "python",
   "pygments_lexer": "ipython2",
   "version": "2.7.6"
  }
 },
 "nbformat": 4,
 "nbformat_minor": 5
}
