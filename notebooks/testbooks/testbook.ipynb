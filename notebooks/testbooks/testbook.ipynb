{
 "cells": [
  {
   "cell_type": "code",
   "execution_count": null,
   "outputs": [],
   "source": [
    "from src.dataset import Dataset\n",
    "# import pandas as pd"
   ],
   "metadata": {
    "collapsed": false
   },
   "id": "5e3d88c2ee726342"
  },
  {
   "cell_type": "code",
   "execution_count": null,
   "outputs": [],
   "source": [
    "config_path = r\"../../config/config.yaml\"\n",
    "raw_data = r\"../../data/raw/1023\""
   ],
   "metadata": {
    "collapsed": false
   },
   "id": "3e7e052d375f8e22"
  },
  {
   "cell_type": "code",
   "execution_count": null,
   "outputs": [],
   "source": [
    "scr = Dataset(config_path, 'Scr')"
   ],
   "metadata": {
    "collapsed": false
   },
   "id": "dd7341a0d31f879"
  },
  {
   "cell_type": "code",
   "execution_count": null,
   "outputs": [],
   "source": [
    "scr.vars"
   ],
   "metadata": {
    "collapsed": false
   },
   "id": "505fc2256133f54a"
  },
  {
   "cell_type": "code",
   "execution_count": null,
   "outputs": [],
   "source": [
    "scr.dvars"
   ],
   "metadata": {
    "collapsed": false
   },
   "id": "ae36957a365915b1"
  },
  {
   "cell_type": "code",
   "execution_count": null,
   "outputs": [],
   "source": [
    "scr.bvars"
   ],
   "metadata": {
    "collapsed": false
   },
   "id": "d75da0b10a6e0c57"
  },
  {
   "cell_type": "code",
   "execution_count": null,
   "outputs": [],
   "source": [
    "scr.ivars"
   ],
   "metadata": {
    "collapsed": false
   },
   "id": "420dc8b465c1eeeb"
  },
  {
   "cell_type": "code",
   "execution_count": null,
   "outputs": [],
   "source": [
    "structure = scr.config.datasets"
   ],
   "metadata": {
    "collapsed": false
   },
   "id": "865d1e4701069b12"
  },
  {
   "cell_type": "code",
   "execution_count": null,
   "outputs": [],
   "source": [
    "scr.config.structure"
   ],
   "metadata": {
    "collapsed": false
   },
   "id": "c27faa39d550ffd1"
  },
  {
   "cell_type": "code",
   "outputs": [],
   "source": [],
   "metadata": {
    "collapsed": false
   },
   "id": "b5efaaf1227aca0f",
   "execution_count": null
  }
 ],
 "metadata": {
  "kernelspec": {
   "display_name": "Python 3",
   "language": "python",
   "name": "python3"
  },
  "language_info": {
   "codemirror_mode": {
    "name": "ipython",
    "version": 2
   },
   "file_extension": ".py",
   "mimetype": "text/x-python",
   "name": "python",
   "nbconvert_exporter": "python",
   "pygments_lexer": "ipython2",
   "version": "2.7.6"
  }
 },
 "nbformat": 4,
 "nbformat_minor": 5
}
