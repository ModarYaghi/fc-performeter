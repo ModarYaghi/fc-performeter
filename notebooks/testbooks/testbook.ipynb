{
 "cells": [
  {
   "cell_type": "code",
   "execution_count": 1,
   "outputs": [],
   "source": [
    "from src.dataset import Dataset\n",
    "# import pandas as pd\n",
    "from src.all_in_one import *"
   ],
   "metadata": {
    "collapsed": false,
    "ExecuteTime": {
     "end_time": "2024-01-04T11:45:15.567284700Z",
     "start_time": "2024-01-04T11:45:14.513295600Z"
    }
   },
   "id": "5e3d88c2ee726342"
  },
  {
   "cell_type": "code",
   "execution_count": 2,
   "outputs": [],
   "source": [
    "scr = Dataset(config_path, 'Scr')"
   ],
   "metadata": {
    "collapsed": false,
    "ExecuteTime": {
     "end_time": "2024-01-04T11:45:15.651638200Z",
     "start_time": "2024-01-04T11:45:15.570364200Z"
    }
   },
   "id": "dd7341a0d31f879"
  },
  {
   "cell_type": "code",
   "execution_count": 3,
   "outputs": [
    {
     "data": {
      "text/plain": "['scspi',\n 'rid',\n 'firstname',\n 'lastname',\n 'sex',\n 'age',\n 'nat',\n 'sc_loc',\n 'sc_s1',\n 'pei_pre_as',\n 'sc_re',\n 'source',\n 'source_org',\n 'need_mhpss',\n 'need_trw',\n 'need_out_ref',\n 'need_tmh',\n 'need_pei',\n 'note']"
     },
     "execution_count": 3,
     "metadata": {},
     "output_type": "execute_result"
    }
   ],
   "source": [
    "scr.vars"
   ],
   "metadata": {
    "collapsed": false,
    "ExecuteTime": {
     "end_time": "2024-01-04T11:45:15.662583100Z",
     "start_time": "2024-01-04T11:45:15.652719700Z"
    }
   },
   "id": "505fc2256133f54a"
  },
  {
   "cell_type": "code",
   "execution_count": 4,
   "outputs": [
    {
     "data": {
      "text/plain": "['sc_s1', 'pei_pre_as', 'sc_re']"
     },
     "execution_count": 4,
     "metadata": {},
     "output_type": "execute_result"
    }
   ],
   "source": [
    "scr.dvars"
   ],
   "metadata": {
    "collapsed": false,
    "ExecuteTime": {
     "end_time": "2024-01-04T11:45:15.674096400Z",
     "start_time": "2024-01-04T11:45:15.665193500Z"
    }
   },
   "id": "ae36957a365915b1"
  },
  {
   "cell_type": "code",
   "execution_count": 5,
   "outputs": [
    {
     "data": {
      "text/plain": "['rid', 'firstname', 'lastname', 'sc_s1', 'pei_pre_as', 'sc_re']"
     },
     "execution_count": 5,
     "metadata": {},
     "output_type": "execute_result"
    }
   ],
   "source": [
    "scr.bvars"
   ],
   "metadata": {
    "collapsed": false,
    "ExecuteTime": {
     "end_time": "2024-01-04T11:45:15.716322100Z",
     "start_time": "2024-01-04T11:45:15.674096400Z"
    }
   },
   "id": "d75da0b10a6e0c57"
  },
  {
   "cell_type": "code",
   "execution_count": 6,
   "outputs": [
    {
     "data": {
      "text/plain": "['scspi', 'age']"
     },
     "execution_count": 6,
     "metadata": {},
     "output_type": "execute_result"
    }
   ],
   "source": [
    "scr.ivars"
   ],
   "metadata": {
    "collapsed": false,
    "ExecuteTime": {
     "end_time": "2024-01-04T11:45:15.717341200Z",
     "start_time": "2024-01-04T11:45:15.679925800Z"
    }
   },
   "id": "420dc8b465c1eeeb"
  },
  {
   "cell_type": "code",
   "execution_count": 7,
   "outputs": [
    {
     "name": "stderr",
     "output_type": "stream",
     "text": [
      "Processing: 100%|██████████| 10/10 [00:11<00:00,  1.13s/it]\n"
     ]
    }
   ],
   "source": [
    "decryptor = ExcelDecryptor(raw_data, passwords)\n",
    "tracking_tools = decryptor.read_encrypted_excels()"
   ],
   "metadata": {
    "collapsed": false,
    "ExecuteTime": {
     "end_time": "2024-01-04T11:45:27.026584100Z",
     "start_time": "2024-01-04T11:45:15.685533400Z"
    }
   },
   "id": "1c381686fb205ed1"
  },
  {
   "cell_type": "code",
   "execution_count": 9,
   "outputs": [],
   "source": [
    "# for k, v in tracking_tools.items():\n",
    "#     if k in pss_files:\n",
    "#         print(k)\n",
    "#         for i, j in v.items():\n",
    "#             if i in pss_sheets:\n",
    "#                 # print(i)"
   ],
   "metadata": {
    "collapsed": false,
    "ExecuteTime": {
     "end_time": "2024-01-04T12:07:22.490438800Z",
     "start_time": "2024-01-04T12:07:22.486449700Z"
    }
   },
   "id": "d2721686163b7489"
  },
  {
   "cell_type": "code",
   "execution_count": 21,
   "outputs": [
    {
     "name": "stdout",
     "output_type": "stream",
     "text": [
      "scrsp\n",
      "intsp\n",
      "gcsp\n",
      "icsp\n",
      "fuasp\n",
      "peisp\n",
      "trwsp\n",
      "tdsp\n",
      "cwssp\n",
      "awssp\n",
      "psfssp\n",
      "ptintsp\n",
      "gptsp\n",
      "iptsp\n",
      "fupsp\n",
      "tdsp\n"
     ]
    }
   ],
   "source": [
    "for sheet in psspt_sheets:\n",
    "    sp = (sheet + \"sp\").lower().replace(\" \", \"\")\n",
    "    print(sp)"
   ],
   "metadata": {
    "collapsed": false,
    "ExecuteTime": {
     "end_time": "2024-01-04T12:22:00.278264900Z",
     "start_time": "2024-01-04T12:22:00.275137400Z"
    }
   },
   "id": "6951bdc0772ab03f"
  },
  {
   "cell_type": "code",
   "execution_count": null,
   "outputs": [],
   "source": [
    "def compiler(sheets, files):\n",
    "    for sheet in sheets:\n",
    "        sp = (sheet + \"sp\").lower().replace(\" \", \"\")\n",
    "        dataset = Dataset(config_path, sheet)\n",
    "        for file in files:\n",
    "            sp_init = file[7:9]\n",
    "            dataframe = tracking_tools[file][sheet]\n",
    "            dataframe.columns = dataset.vars\n",
    "            dataframe = dataframe.drop(dataframe.index[0].reset_index(drop=True))\n",
    "            dataframe.dropna(subset=dataset.bvars, how='all', inplace=True)\n",
    "            dataframe.insert(0, sp, sp_init)\n",
    "            "
   ],
   "metadata": {
    "collapsed": false
   },
   "id": "ef6fc305eef54982"
  },
  {
   "cell_type": "code",
   "execution_count": null,
   "outputs": [],
   "source": [
    "def compiler(sheet_name, files_list, path_to_config):\n",
    "    \n",
    "    # for sheet in sheets_list:\n",
    "    sp = (sheet + \"sp\").lower().replace(\" \", \"\")\n",
    "    dataset = Dataset(path_to_config, sheet)\n",
    "\n",
    "    for file in files_list:\n",
    "        sp_init = file[7:9]\n",
    "        dataframe = tracking_tools[file][sheet]\n",
    "\n",
    "        # Simplify the column setting and dropping first row\n",
    "        dataframe.columns = dataset.vars\n",
    "        dataframe = dataframe.iloc[1:].reset_index(drop=True)\n",
    "\n",
    "        # Improved dropna to handle the case where dataset.bvars is empty or None\n",
    "        if dataset.bvars:\n",
    "            dataframe.dropna(subset=dataset.bvars, how='all', inplace=True)\n",
    "\n",
    "        # Insert the new column\n",
    "        dataframe.insert(0, sp, sp_init)\n",
    "\n",
    "        # Assuming you need to perform some operations with dataframe here\n",
    "        # process_dataframe(dataframe)\n",
    "        return dataframe"
   ],
   "metadata": {
    "collapsed": false
   },
   "id": "ca1405ff27afd191"
  }
 ],
 "metadata": {
  "kernelspec": {
   "display_name": "Python 3",
   "language": "python",
   "name": "python3"
  },
  "language_info": {
   "codemirror_mode": {
    "name": "ipython",
    "version": 2
   },
   "file_extension": ".py",
   "mimetype": "text/x-python",
   "name": "python",
   "nbconvert_exporter": "python",
   "pygments_lexer": "ipython2",
   "version": "2.7.6"
  }
 },
 "nbformat": 4,
 "nbformat_minor": 5
}
