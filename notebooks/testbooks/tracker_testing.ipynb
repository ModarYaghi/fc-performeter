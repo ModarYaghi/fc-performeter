{
 "cells": [
  {
   "cell_type": "code",
   "execution_count": null,
   "id": "initial_id",
   "metadata": {
    "collapsed": true
   },
   "outputs": [],
   "source": [
    "import pandas as pd\n",
    "from tqdm.notebook import tqdm\n",
    "from src.data_reader import YAMLDataReader\n",
    "# from src.parse_funcs import *\n",
    "# import warnings\n",
    "from src.xlsx_decryptor import *\n",
    "from src.progbar import *"
   ]
  },
  {
   "cell_type": "code",
   "execution_count": null,
   "outputs": [],
   "source": [
    "# Avoid representing large numbers in scientific form. To reset, use the commented line.\n",
    "pd.set_option('display.float_format', '{:.1f}'.format)\n",
    "# pd.reset_option('display.float_format')\n",
    "\n",
    "# Display maximum column width:\n",
    "pd.set_option('display.max_colwidth', None)\n",
    "\n",
    "# Suppress openpyxl data validation warning\n",
    "# TODO: How to embed this purpose in the ExcelDecryptor class?\n",
    "# warnings.filterwarnings(\"ignore\", category=UserWarning, module=\"openpyxl\") "
   ],
   "metadata": {
    "collapsed": false
   },
   "id": "9bb1d77a60cedcc5"
  },
  {
   "cell_type": "code",
   "execution_count": null,
   "outputs": [],
   "source": [
    "path_to_ingredients_file = r'../../config/config.yaml'\n",
    "path_to_excels_files_directory = r'../../data/raw/1023/'"
   ],
   "metadata": {
    "collapsed": false
   },
   "id": "b1cd85dd65509702"
  },
  {
   "cell_type": "code",
   "execution_count": null,
   "outputs": [],
   "source": [
    "features = YAMLDataReader(path_to_ingredients_file)\n",
    "passwords = features.get_excel_passwords_by_directory(path_to_excels_files_directory)"
   ],
   "metadata": {
    "collapsed": false
   },
   "id": "4b5fd5676194f6c6"
  },
  {
   "cell_type": "code",
   "execution_count": null,
   "outputs": [],
   "source": [
    "# sheet = 'TD'\n",
    "# dataset = 'td_tracker'\n",
    "# sp = 'tdsp'\n",
    "# columns_names = features.get_variable_names_by_dataset(dataset)\n",
    "# basic_columns = features.get_variable_names_by_dataset_and_level(dataset, 0)\n",
    "# category_columns = features.get_variable_names_by_dataset_and_level(dataset, 2)\n",
    "# date_columns = features.get_variable_names_by_dataset_and_type(dataset, 'datetime64[ns]')\n",
    "# num_columns = features.get_variable_names_by_dataset_and_type(dataset, 'Int64')"
   ],
   "metadata": {
    "collapsed": false
   },
   "id": "587dc2274f673e15"
  },
  {
   "cell_type": "code",
   "execution_count": null,
   "outputs": [],
   "source": [
    "# dataset = 'td'\n",
    "# td_columns_names = features.get_variable_names_by_dataset(dataset)\n",
    "# td_basic_columns = features.get_variable_names_by_dataset_and_level(dataset, 0)\n",
    "# td_category_columns = features.get_variable_names_by_dataset_and_level(dataset, 2)\n",
    "# td_date_columns = features.get_variable_names_by_dataset_and_type(dataset, 'datetime64[ns]')\n",
    "# td_num_columns = features.get_variable_names_by_dataset_and_type(dataset, 'Int64')"
   ],
   "metadata": {
    "collapsed": false
   },
   "id": "a6ccfa5a7c802463"
  },
  {
   "cell_type": "code",
   "execution_count": null,
   "outputs": [],
   "source": [
    "# decryptor = ExcelDecryptor(path_to_excels_files_directory, passwords)\n",
    "# datasets = decryptor.read_encrypted_excels()"
   ],
   "metadata": {
    "collapsed": false
   },
   "id": "bedf68b82320ffe5"
  },
  {
   "cell_type": "code",
   "execution_count": null,
   "outputs": [],
   "source": [
    "# decryptor.print_data_structure"
   ],
   "metadata": {
    "collapsed": false
   },
   "id": "112ec015f322b233"
  },
  {
   "cell_type": "code",
   "execution_count": null,
   "outputs": [],
   "source": [
    "# td_tracker = datasets['td_tracker.xlsx'][sheet]"
   ],
   "metadata": {
    "collapsed": false
   },
   "id": "b84416f34ff81c37"
  },
  {
   "cell_type": "code",
   "execution_count": null,
   "outputs": [],
   "source": [
    "# td_tracker = td_tracker.drop(columns=['Unnamed: 22', 'Unnamed: 23', 'Unnamed: 24', 'Unnamed: 25', 'Unnamed: 26'])"
   ],
   "metadata": {
    "collapsed": false
   },
   "id": "309ab16f3eaa9fb5"
  },
  {
   "cell_type": "code",
   "execution_count": null,
   "outputs": [],
   "source": [],
   "metadata": {
    "collapsed": false
   },
   "id": "67c518cd143d38de"
  },
  {
   "cell_type": "code",
   "execution_count": null,
   "outputs": [],
   "source": [
    "decryptor = ExcelDecryptor(\n",
    "    path_to_excels_files_directory,\n",
    "    passwords\n",
    ")"
   ],
   "metadata": {
    "collapsed": false
   },
   "id": "aab4c04871cdfd9f"
  },
  {
   "cell_type": "code",
   "execution_count": null,
   "outputs": [],
   "source": [
    "# for file, password in passwords.items():\n",
    "#     num_sheets = len(pd.ExcelFile(os.path.join(path_to_excels_files_directory, file), engine='openpyxl').sheet_names)\n",
    "#     pb.pbar.total += num_sheets\n",
    "#     \n",
    "#     pb.track_progress(decryptor.process_file, file, password)"
   ],
   "metadata": {
    "collapsed": false
   },
   "id": "bc4c12cc80d95309"
  },
  {
   "cell_type": "code",
   "execution_count": null,
   "outputs": [],
   "source": [
    "decryptor.read_encrypted_excels()"
   ],
   "metadata": {
    "collapsed": false
   },
   "id": "a55ab8fbe3531b22"
  },
  {
   "cell_type": "code",
   "execution_count": null,
   "outputs": [],
   "source": [
    "decryptor.print_data_structure"
   ],
   "metadata": {
    "collapsed": false
   },
   "id": "faced2260642b88c"
  },
  {
   "cell_type": "code",
   "execution_count": null,
   "outputs": [],
   "source": [
    "from src.decorator_funcs import with_progress_bar"
   ],
   "metadata": {
    "collapsed": false
   },
   "id": "a39c9ad961cf83ef"
  },
  {
   "cell_type": "code",
   "execution_count": null,
   "outputs": [],
   "source": [],
   "metadata": {
    "collapsed": false
   },
   "id": "bfe3606ef0f27eba"
  }
 ],
 "metadata": {
  "kernelspec": {
   "display_name": "Python 3",
   "language": "python",
   "name": "python3"
  },
  "language_info": {
   "codemirror_mode": {
    "name": "ipython",
    "version": 2
   },
   "file_extension": ".py",
   "mimetype": "text/x-python",
   "name": "python",
   "nbconvert_exporter": "python",
   "pygments_lexer": "ipython2",
   "version": "2.7.6"
  }
 },
 "nbformat": 4,
 "nbformat_minor": 5
}
