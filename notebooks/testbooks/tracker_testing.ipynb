{
 "cells": [
  {
   "cell_type": "code",
   "execution_count": 1,
   "id": "initial_id",
   "metadata": {
    "collapsed": true,
    "ExecuteTime": {
     "end_time": "2023-12-04T11:42:50.900257100Z",
     "start_time": "2023-12-04T11:42:49.660112200Z"
    }
   },
   "outputs": [],
   "source": [
    "import pandas as pd\n",
    "# from tqdm.notebook import tqdm\n",
    "from src.data_reader import YAMLDataReader\n",
    "# from src.parse_funcs import *\n",
    "# import warnings\n",
    "from src.xlsx_decryptor import *"
   ]
  },
  {
   "cell_type": "code",
   "execution_count": 2,
   "outputs": [],
   "source": [
    "# Avoid representing large numbers in scientific form. To reset, use the commented line.\n",
    "pd.set_option('display.float_format', '{:.1f}'.format)\n",
    "# pd.reset_option('display.float_format')\n",
    "\n",
    "# Display maximum column width:\n",
    "pd.set_option('display.max_colwidth', None)\n",
    "\n",
    "# Suppress openpyxl data validation warning\n",
    "# TODO: How to embed this purpose in the ExcelDecryptor class?\n",
    "# warnings.filterwarnings(\"ignore\", category=UserWarning, module=\"openpyxl\") "
   ],
   "metadata": {
    "collapsed": false,
    "ExecuteTime": {
     "end_time": "2023-12-04T11:42:50.915312700Z",
     "start_time": "2023-12-04T11:42:50.905955100Z"
    }
   },
   "id": "9bb1d77a60cedcc5"
  },
  {
   "cell_type": "code",
   "execution_count": 3,
   "outputs": [],
   "source": [
    "path_to_ingredients_file = r'../../config/config.yaml'\n",
    "path_to_excels_files_directory = r'../../data/raw/1023/'"
   ],
   "metadata": {
    "collapsed": false,
    "ExecuteTime": {
     "end_time": "2023-12-04T11:42:50.920304500Z",
     "start_time": "2023-12-04T11:42:50.910300400Z"
    }
   },
   "id": "b1cd85dd65509702"
  },
  {
   "cell_type": "code",
   "execution_count": 4,
   "outputs": [],
   "source": [
    "features = YAMLDataReader(path_to_ingredients_file)\n",
    "passwords = features.get_excel_passwords_by_directory(path_to_excels_files_directory)"
   ],
   "metadata": {
    "collapsed": false,
    "ExecuteTime": {
     "end_time": "2023-12-04T11:42:51.006541500Z",
     "start_time": "2023-12-04T11:42:50.920304500Z"
    }
   },
   "id": "4b5fd5676194f6c6"
  },
  {
   "cell_type": "code",
   "execution_count": 5,
   "outputs": [],
   "source": [
    "# sheet = 'TD'\n",
    "# dataset = 'td_tracker'\n",
    "# sp = 'tdsp'\n",
    "# columns_names = features.get_variable_names_by_dataset(dataset)\n",
    "# basic_columns = features.get_variable_names_by_dataset_and_level(dataset, 0)\n",
    "# category_columns = features.get_variable_names_by_dataset_and_level(dataset, 2)\n",
    "# date_columns = features.get_variable_names_by_dataset_and_type(dataset, 'datetime64[ns]')\n",
    "# num_columns = features.get_variable_names_by_dataset_and_type(dataset, 'Int64')"
   ],
   "metadata": {
    "collapsed": false,
    "ExecuteTime": {
     "end_time": "2023-12-04T11:42:51.012397200Z",
     "start_time": "2023-12-04T11:42:51.010064700Z"
    }
   },
   "id": "587dc2274f673e15"
  },
  {
   "cell_type": "code",
   "execution_count": 6,
   "outputs": [],
   "source": [
    "# dataset = 'td'\n",
    "# td_columns_names = features.get_variable_names_by_dataset(dataset)\n",
    "# td_basic_columns = features.get_variable_names_by_dataset_and_level(dataset, 0)\n",
    "# td_category_columns = features.get_variable_names_by_dataset_and_level(dataset, 2)\n",
    "# td_date_columns = features.get_variable_names_by_dataset_and_type(dataset, 'datetime64[ns]')\n",
    "# td_num_columns = features.get_variable_names_by_dataset_and_type(dataset, 'Int64')"
   ],
   "metadata": {
    "collapsed": false,
    "ExecuteTime": {
     "end_time": "2023-12-04T11:42:51.030137700Z",
     "start_time": "2023-12-04T11:42:51.012397200Z"
    }
   },
   "id": "a6ccfa5a7c802463"
  },
  {
   "cell_type": "code",
   "execution_count": 7,
   "outputs": [],
   "source": [
    "# decryptor = ExcelDecryptor(path_to_excels_files_directory, passwords)\n",
    "# datasets = decryptor.read_encrypted_excels()"
   ],
   "metadata": {
    "collapsed": false,
    "ExecuteTime": {
     "end_time": "2023-12-04T11:42:51.030137700Z",
     "start_time": "2023-12-04T11:42:51.022879Z"
    }
   },
   "id": "bedf68b82320ffe5"
  },
  {
   "cell_type": "code",
   "execution_count": 8,
   "outputs": [],
   "source": [
    "# decryptor.print_data_structure"
   ],
   "metadata": {
    "collapsed": false,
    "ExecuteTime": {
     "end_time": "2023-12-04T11:42:51.073315800Z",
     "start_time": "2023-12-04T11:42:51.030137700Z"
    }
   },
   "id": "112ec015f322b233"
  },
  {
   "cell_type": "code",
   "execution_count": 9,
   "outputs": [],
   "source": [
    "# td_tracker = datasets['td_tracker.xlsx'][sheet]"
   ],
   "metadata": {
    "collapsed": false,
    "ExecuteTime": {
     "end_time": "2023-12-04T11:42:51.074201600Z",
     "start_time": "2023-12-04T11:42:51.040986200Z"
    }
   },
   "id": "b84416f34ff81c37"
  },
  {
   "cell_type": "code",
   "execution_count": 10,
   "outputs": [],
   "source": [
    "# td_tracker = td_tracker.drop(columns=['Unnamed: 22', 'Unnamed: 23', 'Unnamed: 24', 'Unnamed: 25', 'Unnamed: 26'])"
   ],
   "metadata": {
    "collapsed": false,
    "ExecuteTime": {
     "end_time": "2023-12-04T11:42:51.075200700Z",
     "start_time": "2023-12-04T11:42:51.045718500Z"
    }
   },
   "id": "309ab16f3eaa9fb5"
  },
  {
   "cell_type": "code",
   "execution_count": 11,
   "outputs": [],
   "source": [
    "decryptor = ExcelDecryptor(\n",
    "    path_to_excels_files_directory,\n",
    "    passwords\n",
    ")"
   ],
   "metadata": {
    "collapsed": false,
    "ExecuteTime": {
     "end_time": "2023-12-04T11:42:51.076197500Z",
     "start_time": "2023-12-04T11:42:51.059030100Z"
    }
   },
   "id": "aab4c04871cdfd9f"
  },
  {
   "cell_type": "code",
   "execution_count": 12,
   "outputs": [],
   "source": [
    "# for file, password in passwords.items():\n",
    "#     num_sheets = len(pd.ExcelFile(os.path.join(path_to_excels_files_directory, file), engine='openpyxl').sheet_names)\n",
    "#     pb.pbar.total += num_sheets\n",
    "#     \n",
    "#     pb.track_progress(decryptor.process_file, file, password)"
   ],
   "metadata": {
    "collapsed": false,
    "ExecuteTime": {
     "end_time": "2023-12-04T11:42:51.096546800Z",
     "start_time": "2023-12-04T11:42:51.071320600Z"
    }
   },
   "id": "bc4c12cc80d95309"
  },
  {
   "cell_type": "code",
   "execution_count": 13,
   "outputs": [
    {
     "name": "stderr",
     "output_type": "stream",
     "text": [
      "Processing: 100%|██████████| 10/10 [00:14<00:00,  1.45s/it]\n"
     ]
    },
    {
     "data": {
      "text/plain": "                  File                   Sheet\n0      td_tracker.xlsx                      TD\n1      td_tracker.xlsx         td_consultation\n2      td_tracker.xlsx           td_interviews\n3      td_tracker.xlsx  td_legal_documentation\n4      td_tracker.xlsx               td_iu_com\n..                 ...                     ...\n95  tt_psc_MT_v04.xlsx                     TRW\n96  tt_psc_MT_v04.xlsx                      TD\n97  tt_psc_MT_v04.xlsx                     CWS\n98  tt_psc_MT_v04.xlsx                      AW\n99  tt_psc_MT_v04.xlsx               Drop-down\n\n[100 rows x 2 columns]",
      "text/html": "<div>\n<style scoped>\n    .dataframe tbody tr th:only-of-type {\n        vertical-align: middle;\n    }\n\n    .dataframe tbody tr th {\n        vertical-align: top;\n    }\n\n    .dataframe thead th {\n        text-align: right;\n    }\n</style>\n<table border=\"1\" class=\"dataframe\">\n  <thead>\n    <tr style=\"text-align: right;\">\n      <th></th>\n      <th>File</th>\n      <th>Sheet</th>\n    </tr>\n  </thead>\n  <tbody>\n    <tr>\n      <th>0</th>\n      <td>td_tracker.xlsx</td>\n      <td>TD</td>\n    </tr>\n    <tr>\n      <th>1</th>\n      <td>td_tracker.xlsx</td>\n      <td>td_consultation</td>\n    </tr>\n    <tr>\n      <th>2</th>\n      <td>td_tracker.xlsx</td>\n      <td>td_interviews</td>\n    </tr>\n    <tr>\n      <th>3</th>\n      <td>td_tracker.xlsx</td>\n      <td>td_legal_documentation</td>\n    </tr>\n    <tr>\n      <th>4</th>\n      <td>td_tracker.xlsx</td>\n      <td>td_iu_com</td>\n    </tr>\n    <tr>\n      <th>...</th>\n      <td>...</td>\n      <td>...</td>\n    </tr>\n    <tr>\n      <th>95</th>\n      <td>tt_psc_MT_v04.xlsx</td>\n      <td>TRW</td>\n    </tr>\n    <tr>\n      <th>96</th>\n      <td>tt_psc_MT_v04.xlsx</td>\n      <td>TD</td>\n    </tr>\n    <tr>\n      <th>97</th>\n      <td>tt_psc_MT_v04.xlsx</td>\n      <td>CWS</td>\n    </tr>\n    <tr>\n      <th>98</th>\n      <td>tt_psc_MT_v04.xlsx</td>\n      <td>AW</td>\n    </tr>\n    <tr>\n      <th>99</th>\n      <td>tt_psc_MT_v04.xlsx</td>\n      <td>Drop-down</td>\n    </tr>\n  </tbody>\n</table>\n<p>100 rows × 2 columns</p>\n</div>"
     },
     "execution_count": 13,
     "metadata": {},
     "output_type": "execute_result"
    }
   ],
   "source": [
    "decryptor.read_encrypted_excels()"
   ],
   "metadata": {
    "collapsed": false,
    "ExecuteTime": {
     "end_time": "2023-12-04T11:43:06.610115900Z",
     "start_time": "2023-12-04T11:42:52.061680100Z"
    }
   },
   "id": "a55ab8fbe3531b22"
  },
  {
   "cell_type": "code",
   "execution_count": 14,
   "outputs": [
    {
     "data": {
      "text/plain": "                  File                   Sheet\n0      td_tracker.xlsx                      TD\n1      td_tracker.xlsx         td_consultation\n2      td_tracker.xlsx           td_interviews\n3      td_tracker.xlsx  td_legal_documentation\n4      td_tracker.xlsx               td_iu_com\n..                 ...                     ...\n95  tt_psc_MT_v04.xlsx                     TRW\n96  tt_psc_MT_v04.xlsx                      TD\n97  tt_psc_MT_v04.xlsx                     CWS\n98  tt_psc_MT_v04.xlsx                      AW\n99  tt_psc_MT_v04.xlsx               Drop-down\n\n[100 rows x 2 columns]",
      "text/html": "<div>\n<style scoped>\n    .dataframe tbody tr th:only-of-type {\n        vertical-align: middle;\n    }\n\n    .dataframe tbody tr th {\n        vertical-align: top;\n    }\n\n    .dataframe thead th {\n        text-align: right;\n    }\n</style>\n<table border=\"1\" class=\"dataframe\">\n  <thead>\n    <tr style=\"text-align: right;\">\n      <th></th>\n      <th>File</th>\n      <th>Sheet</th>\n    </tr>\n  </thead>\n  <tbody>\n    <tr>\n      <th>0</th>\n      <td>td_tracker.xlsx</td>\n      <td>TD</td>\n    </tr>\n    <tr>\n      <th>1</th>\n      <td>td_tracker.xlsx</td>\n      <td>td_consultation</td>\n    </tr>\n    <tr>\n      <th>2</th>\n      <td>td_tracker.xlsx</td>\n      <td>td_interviews</td>\n    </tr>\n    <tr>\n      <th>3</th>\n      <td>td_tracker.xlsx</td>\n      <td>td_legal_documentation</td>\n    </tr>\n    <tr>\n      <th>4</th>\n      <td>td_tracker.xlsx</td>\n      <td>td_iu_com</td>\n    </tr>\n    <tr>\n      <th>...</th>\n      <td>...</td>\n      <td>...</td>\n    </tr>\n    <tr>\n      <th>95</th>\n      <td>tt_psc_MT_v04.xlsx</td>\n      <td>TRW</td>\n    </tr>\n    <tr>\n      <th>96</th>\n      <td>tt_psc_MT_v04.xlsx</td>\n      <td>TD</td>\n    </tr>\n    <tr>\n      <th>97</th>\n      <td>tt_psc_MT_v04.xlsx</td>\n      <td>CWS</td>\n    </tr>\n    <tr>\n      <th>98</th>\n      <td>tt_psc_MT_v04.xlsx</td>\n      <td>AW</td>\n    </tr>\n    <tr>\n      <th>99</th>\n      <td>tt_psc_MT_v04.xlsx</td>\n      <td>Drop-down</td>\n    </tr>\n  </tbody>\n</table>\n<p>100 rows × 2 columns</p>\n</div>"
     },
     "execution_count": 14,
     "metadata": {},
     "output_type": "execute_result"
    }
   ],
   "source": [
    "decryptor.print_data_structure"
   ],
   "metadata": {
    "collapsed": false,
    "ExecuteTime": {
     "end_time": "2023-12-04T11:46:17.238689Z",
     "start_time": "2023-12-04T11:46:17.210646300Z"
    }
   },
   "id": "faced2260642b88c"
  },
  {
   "cell_type": "code",
   "execution_count": null,
   "outputs": [],
   "source": [
    "from src.decorator_funcs import with_progress_bar"
   ],
   "metadata": {
    "collapsed": false
   },
   "id": "a39c9ad961cf83ef"
  },
  {
   "cell_type": "code",
   "execution_count": null,
   "outputs": [],
   "source": [],
   "metadata": {
    "collapsed": false
   },
   "id": "bfe3606ef0f27eba"
  }
 ],
 "metadata": {
  "kernelspec": {
   "display_name": "Python 3",
   "language": "python",
   "name": "python3"
  },
  "language_info": {
   "codemirror_mode": {
    "name": "ipython",
    "version": 2
   },
   "file_extension": ".py",
   "mimetype": "text/x-python",
   "name": "python",
   "nbconvert_exporter": "python",
   "pygments_lexer": "ipython2",
   "version": "2.7.6"
  }
 },
 "nbformat": 4,
 "nbformat_minor": 5
}
