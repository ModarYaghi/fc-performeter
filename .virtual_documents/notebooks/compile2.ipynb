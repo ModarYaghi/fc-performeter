import os.path
from src.all_in_one import *


csvs = ['00_psscr_0124.csv', '01_psint_0124.csv', '02_psgc_0124.csv', '03_psic_0124.csv', '04_psfua_0124.csv', '05_pspei_0124.csv', '06_pstrw_0124.csv', '07_pstd_0124.csv', '08_pscws_0124.csv', '09_psaw_0124.csv', '10_ptpsfs_0124.csv', '11_ptptint_0124.csv', '12_ptgpt_0124.csv', '13_ptipt_0124.csv', '14_ptfua_0124.csv']
datasets = {
    'scr': ['Scr', csvs[0]],
    'int': ['Int', csvs[1]],
    'gc': ['GC', csvs[2]],
    'ic': ['IC', csvs[3]],
    'psfua': ['FUA', csvs[4]],
    'pei': ['PEI', csvs[5]],
    'trw': ['TRW', csvs[6]],
    'td': ['TD', csvs[7]],
    'cws': ['CWS', csvs[8]],
    'aw': ['AW', csvs[9]],
    'psfs': ['PSFS', csvs[10]],
    'ptint': ['PT Int', csvs[11]],
    'gpt': ['GPT', csvs[12]],
    'ipt': ['IPT', csvs[13]],
    'ptfua': ['FUA', csvs[14]]
}


def read_df(dataset_dict_value, csv_dict_value, columns_to_drop=None):
    df_path = os.path.join(processed_data, csv_dict_value)
    df_sheet = dataset_dict_value
    df_dataset = Dataset(config_file, df_sheet)
    df = pd.read_csv(df_path)
    df = dtype_trans(df, df_dataset)
    if columns_to_drop:
        df.drop(columns_to_drop, axis=1, inplace=True)
    return df


# scr_path = os.path.join(processed_data, '00_psscr_0124.csv')
# scr_sheet = 'Scr'
# scr_dataset = Dataset(config_file, scr_sheet)
# scr = pd.read_csv(scr_path)
# scr = dtype_trans(scr, scr_dataset)
# scr = scr.drop


scr = read_df(datasets['scr'][0], datasets['scr'][1], columns_to_drop=['note'])
scr.to_clipboard()


int = read_df(datasets['int'][0], datasets['int'][1], columns_to_drop=['note'])
int.to_clipboard()


gc = read_df(datasets['gc'][0], datasets['gc'][1], columns_to_drop=['note'])
gc.to_clipboard()


ic = read_df(datasets['ic'][0], datasets['ic'][1], columns_to_drop=['note'])
ic.to_clipboard()


psfua = read_df(datasets['psfua'][0], datasets['psfua'][1], columns_to_drop=['note'])
psfua.to_clipboard()


pei = read_df(datasets['pei'][0], datasets['pei'][1], columns_to_drop=['note'])
pei.to_clipboard()


trw = read_df(datasets['trw'][0], datasets['trw'][1], columns_to_drop=['note'])
trw.to_clipboard()


td = read_df(datasets['td'][0], datasets['td'][1], columns_to_drop=['note'])
td.to_clipboard()


cws = read_df(datasets['cws'][0], datasets['cws'][1], columns_to_drop=['note'])
cws.to_clipboard()


aw = read_df(datasets['aw'][0], datasets['aw'][1], columns_to_drop=['note'])
aw.to_clipboard()


psfs = read_df(datasets['psfs'][0], datasets['psfs'][1], columns_to_drop=['note'])
psfs.to_clipboard()


ptint = read_df(datasets['ptint'][0], datasets['ptint'][1], columns_to_drop=['note'])
ptint.to_clipboard()


gpt = read_df(datasets['gpt'][0], datasets['gpt'][1], columns_to_drop=['note'])
gpt.to_clipboard()


ipt = read_df(datasets['ipt'][0], datasets['ipt'][1], columns_to_drop=['note'])
ipt.to_clipboard()


ptfua = read_df(datasets['ptfua'][0], datasets['ptfua'][1], columns_to_drop=['note'])
ptfua.to_clipboard()
