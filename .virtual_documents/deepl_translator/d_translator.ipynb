import pandas as pd

from deepl_translator import translate_text


excel_file_path = r"D:\OneDrive - SİVİL HUKUK DERNEĞi\Documents\IRM\Impact Evaluation\Survey Data and Reports\IRM_Final_Evaluation_Data_Sep24.xlsx"


open_questions = pd.read_excel(excel_file_path, sheet_name="open_questions")


column_rename_mapping = {
    "today": "date",
    "Is this a real interview, or are you just practicing?": "interview_type",
    "Researcher's name.": "dc_name",
    "Can you explain a bit more about this? (for the data collector: related to questions on gossip, exclusion and respect from community)": "gossip_exclusion_exp",
    "Please explain.": "exp_1",
    "Please explain.2": "exp_2",
    "Please explain.3": "exp_3",
    "Please explain.4": "exp_4",
    "What challenges did you face participating in the project?": "participation_challenges",
    "Please explain.5": "exp_5",
    "Would you like to provide any feedback on the people involved in this process? Remember this survey is anonymous.": "feedback_on_team",
    "What would make you feel safer?": "safety_suggestions",
    "Can you explain? How did the project improved your physical wellbeing? Or why did it not?": "physical_wellbeing_exp",
    "Can you explain? How did the project improved your mental wellbeing? Or why did it not?": "mental_wellbeing_exp",
    "Can you explain? How did the project improved your financial wellbeing? Or why did it not?": "financial_wellbeing_exp",
    "Can you explain? How did the project improved your family wellbeing? Or why did it not?": "family_wellbeing_exp",
    "Can you explain? How did the project made you feel recognized? Or why did it not?": "recognition_exp",
    "Can you explain? How did the project gave you a sense of justice or why did it not?": "sense_of_justice_exp",
    "Can you explain? How has your sense of dignity increased or why did it not?": "dignity_exp",
    "What has been the most significant impact of the IRM project on your life? [Note to researchers: please take the time to properly write down what the survivor says.]": "most_significant_impact",
    "Is there anything else that you think it is important for me to know about your participation in this process?": "additional_participation_info",
    "How has the support provided through this project impacted your self-worth or self-esteem?": "self_worth_impact",
}


open_questions.rename(columns=column_rename_mapping, inplace=True)


open_questions.head(1)


# open_questions.columns.get_loc('exp_1')





open_questions["gossip_exc_exp_en"] = open_questions["gossip_exclusion_exp"].apply(
    translate_text
)


open_questions.head(1)


df.insert(1, new_column_name, new_column_value)


open_questions["gossip_exclusion_exp"].apply(translate_text)


open_questions["gossip_exc_exp_en"].to_clipboard()


open_questions["gossip_exclusion_exp"].to_clipboard()



