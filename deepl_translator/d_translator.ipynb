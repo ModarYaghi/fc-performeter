{
 "cells": [
  {
   "cell_type": "code",
   "execution_count": 4,
   "metadata": {},
   "outputs": [],
   "source": [
    "import pandas as pd\n",
    "from deepl_translator import *"
   ]
  },
  {
   "cell_type": "code",
   "execution_count": null,
   "metadata": {},
   "outputs": [],
   "source": [
    "excel_file_path = r\"D:\\OneDrive - SİVİL HUKUK DERNEĞi\\Documents\\IRM\\Impact Evaluation\\Survey Data and Reports\\IRM_Final_Evaluation_Data_Sep24.xlsx\""
   ]
  },
  {
   "cell_type": "code",
   "execution_count": 14,
   "metadata": {},
   "outputs": [],
   "source": [
    "open_questions = pd.read_excel(excel_file_path, sheet_name=\"open_questions\")"
   ]
  },
  {
   "cell_type": "code",
   "execution_count": null,
   "metadata": {},
   "outputs": [],
   "source": [
    "column_rename_mapping = {\n",
    "    \"today\": \"date\",\n",
    "    \"Is this a real interview, or are you just practicing?\": \"interview_type\",\n",
    "    \"Researcher's name.\": \"dc_name\",\n",
    "    \"Can you explain a bit more about this? (for the data collector: related to questions on gossip, exclusion and respect from community)\": \"gossip_exclusion_exp\",\n",
    "    \"Please explain.\": \"exp_1\",\n",
    "    \"Please explain.2\": \"exp_2\",\n",
    "    \"Please explain.3\": \"exp_3\",\n",
    "    \"Please explain.4\": \"exp_4\",\n",
    "    \"What challenges did you face participating in the project?\": \"participation_challenges\",\n",
    "    \"Please explain.5\": \"exp_5\",\n",
    "    \"Would you like to provide any feedback on the people involved in this process? Remember this survey is anonymous.\": \"feedback_on_team\",\n",
    "    \"What would make you feel safer?\": \"safety_suggestions\",\n",
    "    \"Can you explain? How did the project improved your physical wellbeing? Or why did it not?\": \"physical_wellbeing_exp\",\n",
    "    \"Can you explain? How did the project improved your mental wellbeing? Or why did it not?\": \"mental_wellbeing_exp\",\n",
    "    \"Can you explain? How did the project improved your financial wellbeing? Or why did it not?\": \"financial_wellbeing_exp\",\n",
    "    \"Can you explain? How did the project improved your family wellbeing? Or why did it not?\": \"family_wellbeing_exp\",\n",
    "    \"Can you explain? How did the project made you feel recognized? Or why did it not?\": \"recognition_exp\",\n",
    "    \"Can you explain? How did the project gave you a sense of justice or why did it not?\": \"sense_of_justice_exp\",\n",
    "    \"Can you explain? How has your sense of dignity increased or why did it not?\": \"dignity_exp\",\n",
    "    \"What has been the most significant impact of the IRM project on your life? [Note to researchers: please take the time to properly write down what the survivor says.]\": \"most_significant_impact\",\n",
    "    \"Is there anything else that you think it is important for me to know about your participation in this process?\": \"additional_participation_info\",\n",
    "    \"How has the support provided through this project impacted your self-worth or self-esteem?\": \"self_worth_impact\",\n",
    "}\n"
   ]
  },
  {
   "cell_type": "code",
   "execution_count": null,
   "metadata": {},
   "outputs": [],
   "source": [
    "open_questions.rename(columns=column_rename_mapping, inplace=True)"
   ]
  },
  {
   "cell_type": "code",
   "execution_count": null,
   "metadata": {},
   "outputs": [
    {
     "data": {
      "text/html": [
       "<div>\n",
       "<style scoped>\n",
       "    .dataframe tbody tr th:only-of-type {\n",
       "        vertical-align: middle;\n",
       "    }\n",
       "\n",
       "    .dataframe tbody tr th {\n",
       "        vertical-align: top;\n",
       "    }\n",
       "\n",
       "    .dataframe thead th {\n",
       "        text-align: right;\n",
       "    }\n",
       "</style>\n",
       "<table border=\"1\" class=\"dataframe\">\n",
       "  <thead>\n",
       "    <tr style=\"text-align: right;\">\n",
       "      <th></th>\n",
       "      <th>#</th>\n",
       "      <th>date</th>\n",
       "      <th>interview_type</th>\n",
       "      <th>dc_name</th>\n",
       "      <th>gossip_exclusion_exp</th>\n",
       "      <th>exp_1</th>\n",
       "      <th>exp_2</th>\n",
       "      <th>exp_3</th>\n",
       "      <th>exp_4</th>\n",
       "      <th>participation_challenges</th>\n",
       "      <th>...</th>\n",
       "      <th>physical_wellbeing_exp</th>\n",
       "      <th>mental_wellbeing_exp</th>\n",
       "      <th>financial_wellbeing_exp</th>\n",
       "      <th>family_wellbeing_exp</th>\n",
       "      <th>recognition_exp</th>\n",
       "      <th>sense_of_justice_exp</th>\n",
       "      <th>dignity_exp</th>\n",
       "      <th>most_significant_impact</th>\n",
       "      <th>additional_participation_info</th>\n",
       "      <th>self_worth_impact</th>\n",
       "    </tr>\n",
       "  </thead>\n",
       "  <tbody>\n",
       "    <tr>\n",
       "      <th>0</th>\n",
       "      <td>1</td>\n",
       "      <td>2024-09-13</td>\n",
       "      <td>Real interview</td>\n",
       "      <td>Seham</td>\n",
       "      <td>اشعرت بالمزيد من الاحترام والتقديرومندمج مع ال...</td>\n",
       "      <td>لم يكن هناك معلومات مغيبه مدير الحاله كان متعا...</td>\n",
       "      <td>\"لولا وجود المعتقلين ما كان مشروع موجود\"</td>\n",
       "      <td>\" لا يوجد بصمتي بهدا مشروع سوى بعض الاقتراحات ...</td>\n",
       "      <td>اتيحت الفرصه لي باختيار نوع المساعده التي اريدها</td>\n",
       "      <td>مبلغ كان قليل لمشروعي قياسا لاسعار سيارات لكنه...</td>\n",
       "      <td>...</td>\n",
       "      <td>\"طالما صحه نفسيه جيده فالصحه الجسديه حتما ستكو...</td>\n",
       "      <td>\"لما وجدت مساعده من منظمه مهتمه بالاعتقال ودور...</td>\n",
       "      <td>\"كنت عاطلا عن العمل الرابطه اعطوني فرصه ممتازه...</td>\n",
       "      <td>\"لم يكن بمقدوري حصول على عمل والان بعد مساعدة ...</td>\n",
       "      <td>دعمهم للمعتقلين ومساعدتهم لهم وتفكيرهم بهم واس...</td>\n",
       "      <td>ساهم في توعيه مجتمع لا يعرف شيء عن معتقل الى ا...</td>\n",
       "      <td>اعطى شعور للناجي ان هدا الاعتقال مارح سدى اعطى...</td>\n",
       "      <td>ترك اثر مادي كبير يعني تحول من انسان لا يعمل م...</td>\n",
       "      <td>زياده الدعم واستمراريه المشروع</td>\n",
       "      <td>NaN</td>\n",
       "    </tr>\n",
       "  </tbody>\n",
       "</table>\n",
       "<p>1 rows × 23 columns</p>\n",
       "</div>"
      ],
      "text/plain": [
       "   #       date  interview_type dc_name  \\\n",
       "0  1 2024-09-13  Real interview   Seham   \n",
       "\n",
       "                                gossip_exclusion_exp  \\\n",
       "0  اشعرت بالمزيد من الاحترام والتقديرومندمج مع ال...   \n",
       "\n",
       "                                               exp_1  \\\n",
       "0  لم يكن هناك معلومات مغيبه مدير الحاله كان متعا...   \n",
       "\n",
       "                                      exp_2  \\\n",
       "0  \"لولا وجود المعتقلين ما كان مشروع موجود\"   \n",
       "\n",
       "                                               exp_3  \\\n",
       "0  \" لا يوجد بصمتي بهدا مشروع سوى بعض الاقتراحات ...   \n",
       "\n",
       "                                              exp_4  \\\n",
       "0  اتيحت الفرصه لي باختيار نوع المساعده التي اريدها   \n",
       "\n",
       "                            participation_challenges  ...  \\\n",
       "0  مبلغ كان قليل لمشروعي قياسا لاسعار سيارات لكنه...  ...   \n",
       "\n",
       "                              physical_wellbeing_exp  \\\n",
       "0  \"طالما صحه نفسيه جيده فالصحه الجسديه حتما ستكو...   \n",
       "\n",
       "                                mental_wellbeing_exp  \\\n",
       "0  \"لما وجدت مساعده من منظمه مهتمه بالاعتقال ودور...   \n",
       "\n",
       "                             financial_wellbeing_exp  \\\n",
       "0  \"كنت عاطلا عن العمل الرابطه اعطوني فرصه ممتازه...   \n",
       "\n",
       "                                family_wellbeing_exp  \\\n",
       "0  \"لم يكن بمقدوري حصول على عمل والان بعد مساعدة ...   \n",
       "\n",
       "                                     recognition_exp  \\\n",
       "0  دعمهم للمعتقلين ومساعدتهم لهم وتفكيرهم بهم واس...   \n",
       "\n",
       "                                sense_of_justice_exp  \\\n",
       "0  ساهم في توعيه مجتمع لا يعرف شيء عن معتقل الى ا...   \n",
       "\n",
       "                                         dignity_exp  \\\n",
       "0  اعطى شعور للناجي ان هدا الاعتقال مارح سدى اعطى...   \n",
       "\n",
       "                             most_significant_impact  \\\n",
       "0  ترك اثر مادي كبير يعني تحول من انسان لا يعمل م...   \n",
       "\n",
       "    additional_participation_info self_worth_impact  \n",
       "0  زياده الدعم واستمراريه المشروع               NaN  \n",
       "\n",
       "[1 rows x 23 columns]"
      ]
     },
     "execution_count": 24,
     "metadata": {},
     "output_type": "execute_result"
    }
   ],
   "source": [
    "# open_questions.head(1)"
   ]
  },
  {
   "cell_type": "code",
   "execution_count": null,
   "metadata": {},
   "outputs": [],
   "source": []
  }
 ],
 "metadata": {
  "kernelspec": {
   "display_name": ".venv",
   "language": "python",
   "name": "python3"
  },
  "language_info": {
   "codemirror_mode": {
    "name": "ipython",
    "version": 3
   },
   "file_extension": ".py",
   "mimetype": "text/x-python",
   "name": "python",
   "nbconvert_exporter": "python",
   "pygments_lexer": "ipython3",
   "version": "3.12.2"
  }
 },
 "nbformat": 4,
 "nbformat_minor": 2
}
